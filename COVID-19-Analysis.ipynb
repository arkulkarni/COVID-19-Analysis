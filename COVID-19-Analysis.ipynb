{
 "cells": [
  {
   "cell_type": "markdown",
   "metadata": {},
   "source": [
    "# COVID-19: Analysis of Cases\n",
    "Amit Kulkarni <a href=\"https://twitter.com/kulkarni_amit\">@kulkarni_amit</a>\n",
    "\n",
    "This dashboard is built on public data related to COVID-19 (coronavirus). It is refreshed daily around 17:15 PDT (00:15 UTC)."
   ]
  },
  {
   "cell_type": "code",
   "execution_count": 2,
   "metadata": {
    "ExecuteTime": {
     "end_time": "2020-04-05T17:54:36.133669Z",
     "start_time": "2020-04-05T17:54:36.124207Z"
    },
    "extensions": {
     "jupyter_dashboards": {
      "version": 1,
      "views": {
       "grid_default": {
        "col": 0,
        "height": 4,
        "hidden": true,
        "row": 0,
        "width": 4
       },
       "report_default": {
        "hidden": true
       }
      }
     }
    }
   },
   "outputs": [
    {
     "data": {
      "text/html": [
       "        <script type=\"text/javascript\">\n",
       "        window.PlotlyConfig = {MathJaxConfig: 'local'};\n",
       "        if (window.MathJax) {MathJax.Hub.Config({SVG: {font: \"STIX-Web\"}});}\n",
       "        if (typeof require !== 'undefined') {\n",
       "        require.undef(\"plotly\");\n",
       "        requirejs.config({\n",
       "            paths: {\n",
       "                'plotly': ['https://cdn.plot.ly/plotly-latest.min']\n",
       "            }\n",
       "        });\n",
       "        require(['plotly'], function(Plotly) {\n",
       "            window._Plotly = Plotly;\n",
       "        });\n",
       "        }\n",
       "        </script>\n",
       "        "
      ]
     },
     "metadata": {},
     "output_type": "display_data"
    }
   ],
   "source": [
    "import pandas as pd\n",
    "import numpy as np\n",
    "import math\n",
    "\n",
    "from urllib.request import urlopen\n",
    "import json\n",
    "\n",
    "import plotly.offline as py\n",
    "import plotly.graph_objs as go\n",
    "py.offline.init_notebook_mode(connected=True)\n",
    "\n",
    "from IPython.core.interactiveshell import InteractiveShell\n",
    "InteractiveShell.ast_node_interactivity = \"all\""
   ]
  },
  {
   "cell_type": "code",
   "execution_count": 3,
   "metadata": {
    "ExecuteTime": {
     "end_time": "2020-04-05T17:54:36.211327Z",
     "start_time": "2020-04-05T17:54:36.134671Z"
    },
    "extensions": {
     "jupyter_dashboards": {
      "version": 1,
      "views": {
       "grid_default": {
        "hidden": true
       },
       "report_default": {
        "hidden": true
       }
      }
     }
    }
   },
   "outputs": [],
   "source": [
    "# Common Library Functions\n",
    "def PercentFormatter(x):\n",
    "    return \"{:.0%}\".format(x) if not math.isnan(x) and not math.isinf(x) else \"-\" \n",
    "\n",
    "def IntegerFormatter(x):\n",
    "    return \"{:,.0f}\".format(x) if not math.isnan(x) and not math.isinf(x) and (x != 0) else \"-\" \n",
    "\n",
    "LogLinearScale = list([\n",
    "    dict(active=0,\n",
    "         type='buttons',\n",
    "         direction='right',\n",
    "         x=0.45,\n",
    "         xanchor=\"left\",\n",
    "         y=1.1,\n",
    "         yanchor=\"top\",\n",
    "         buttons=list([\n",
    "            dict(label='Linear Scale',\n",
    "                 method='update',\n",
    "                 args=[{'visible': [True, True]},\n",
    "                       {'yaxis': {'type': 'linear'}}]),\n",
    "            dict(label='Logarithmic Scale',\n",
    "                 method='update',\n",
    "                 args=[{'visible': [True, True]},\n",
    "                       {'yaxis': {'type': 'log'}}])\n",
    "            ]),\n",
    "        )\n",
    "    ])\n",
    "\n",
    "DEFAULT_DAYS = 20\n",
    "MONTH_DAYS = 31"
   ]
  },
  {
   "cell_type": "code",
   "execution_count": 4,
   "metadata": {
    "ExecuteTime": {
     "end_time": "2020-04-05T17:54:41.286088Z",
     "start_time": "2020-04-05T17:54:36.218103Z"
    }
   },
   "outputs": [],
   "source": [
    "# Read all the files\n",
    "dfConfirmedGlobal = pd.read_csv(r'https://raw.githubusercontent.com/CSSEGISandData/COVID-19/master/csse_covid_19_data/csse_covid_19_time_series/time_series_covid19_confirmed_global.csv')\n",
    "dfDeathsGlobal = pd.read_csv(r'https://raw.githubusercontent.com/CSSEGISandData/COVID-19/master/csse_covid_19_data/csse_covid_19_time_series/time_series_covid19_deaths_global.csv')\n",
    "\n",
    "dfConfirmedUSCounties = pd.read_csv(r'https://raw.githubusercontent.com/CSSEGISandData/COVID-19/master/csse_covid_19_data/csse_covid_19_time_series/time_series_covid19_confirmed_US.csv')\n",
    "dfDeathsUSCounties = pd.read_csv(r'https://raw.githubusercontent.com/CSSEGISandData/COVID-19/master/csse_covid_19_data/csse_covid_19_time_series/time_series_covid19_deaths_US.csv')\n",
    "dfCensusCounties = pd.read_csv(r'https://raw.githubusercontent.com/arkulkarni/COVID-19-Analysis/master/county-level-2018-population.csv', encoding = 'ISO-8859-1')\n",
    "\n",
    "with urlopen('https://raw.githubusercontent.com/plotly/datasets/master/geojson-counties-fips.json') as response:\n",
    "    counties = json.load(response)"
   ]
  },
  {
   "cell_type": "code",
   "execution_count": 5,
   "metadata": {
    "ExecuteTime": {
     "end_time": "2020-04-05T17:54:41.416138Z",
     "start_time": "2020-04-05T17:54:41.296784Z"
    }
   },
   "outputs": [],
   "source": [
    "dfConfirmedUSStates = dfConfirmedUSCounties.groupby('Province_State').sum()\n",
    "dfConfirmedUSStates = dfConfirmedUSStates[dfConfirmedUSStates.columns[5:]]\n",
    "dfDeathsUSStates = dfDeathsUSCounties.groupby('Province_State').sum()\n",
    "dfDeathsUSStates = dfDeathsUSStates[dfDeathsUSStates.columns[6:]]\n",
    "dfCensusCounties['FIPS'] = dfCensusCounties.STATE * 1000 + dfCensusCounties.COUNTY\n",
    "dfCensusCountiesPopulation = dfCensusCounties[dfCensusCounties.AGEGRP == 0]\n",
    "dfConfirmedUSCounties.FIPS = dfConfirmedUSCounties.FIPS.map(lambda x : x if not math.isnan(x) else np.random.randint(-100, high=0))"
   ]
  },
  {
   "cell_type": "markdown",
   "metadata": {},
   "source": [
    "# Key Facts - World and US"
   ]
  },
  {
   "cell_type": "code",
   "execution_count": 6,
   "metadata": {
    "ExecuteTime": {
     "end_time": "2020-04-05T17:54:45.374448Z",
     "start_time": "2020-04-05T17:54:41.425219Z"
    },
    "scrolled": false
   },
   "outputs": [
    {
     "data": {
      "application/vnd.plotly.v1+json": {
       "config": {
        "linkText": "Export to plot.ly",
        "plotlyServerURL": "https://plot.ly",
        "showLink": false
       },
       "data": [
        {
         "delta": {
          "decreasing": {
           "color": "green"
          },
          "increasing": {
           "color": "red"
          },
          "reference": 1095917
         },
         "domain": {
          "x": [
           0,
           0.5
          ],
          "y": [
           0.6,
           1
          ]
         },
         "mode": "number+delta",
         "title": {
          "text": "Worldwide Confirmed Cases"
         },
         "type": "indicator",
         "value": 1197405
        },
        {
         "delta": {
          "decreasing": {
           "color": "green"
          },
          "increasing": {
           "color": "red"
          },
          "reference": 275582
         },
         "domain": {
          "x": [
           0.5,
           1
          ],
          "y": [
           0.6,
           1
          ]
         },
         "mode": "number+delta",
         "title": {
          "text": "US Confirmed Cases"
         },
         "type": "indicator",
         "value": 308845
        },
        {
         "delta": {
          "decreasing": {
           "color": "green"
          },
          "increasing": {
           "color": "red"
          },
          "reference": 58787
         },
         "domain": {
          "x": [
           0,
           0.5
          ],
          "y": [
           0,
           0.4
          ]
         },
         "mode": "number+delta",
         "title": {
          "text": "Worldwide Deaths"
         },
         "type": "indicator",
         "value": 64606
        },
        {
         "delta": {
          "decreasing": {
           "color": "green"
          },
          "increasing": {
           "color": "red"
          },
          "reference": 7087
         },
         "domain": {
          "x": [
           0.5,
           1
          ],
          "y": [
           0,
           0.4
          ]
         },
         "mode": "number+delta",
         "title": {
          "text": "US Deaths"
         },
         "type": "indicator",
         "value": 8407
        }
       ],
       "layout": {
        "template": {
         "data": {
          "bar": [
           {
            "error_x": {
             "color": "#2a3f5f"
            },
            "error_y": {
             "color": "#2a3f5f"
            },
            "marker": {
             "line": {
              "color": "#E5ECF6",
              "width": 0.5
             }
            },
            "type": "bar"
           }
          ],
          "barpolar": [
           {
            "marker": {
             "line": {
              "color": "#E5ECF6",
              "width": 0.5
             }
            },
            "type": "barpolar"
           }
          ],
          "carpet": [
           {
            "aaxis": {
             "endlinecolor": "#2a3f5f",
             "gridcolor": "white",
             "linecolor": "white",
             "minorgridcolor": "white",
             "startlinecolor": "#2a3f5f"
            },
            "baxis": {
             "endlinecolor": "#2a3f5f",
             "gridcolor": "white",
             "linecolor": "white",
             "minorgridcolor": "white",
             "startlinecolor": "#2a3f5f"
            },
            "type": "carpet"
           }
          ],
          "choropleth": [
           {
            "colorbar": {
             "outlinewidth": 0,
             "ticks": ""
            },
            "type": "choropleth"
           }
          ],
          "contour": [
           {
            "colorbar": {
             "outlinewidth": 0,
             "ticks": ""
            },
            "colorscale": [
             [
              0,
              "#0d0887"
             ],
             [
              0.1111111111111111,
              "#46039f"
             ],
             [
              0.2222222222222222,
              "#7201a8"
             ],
             [
              0.3333333333333333,
              "#9c179e"
             ],
             [
              0.4444444444444444,
              "#bd3786"
             ],
             [
              0.5555555555555556,
              "#d8576b"
             ],
             [
              0.6666666666666666,
              "#ed7953"
             ],
             [
              0.7777777777777778,
              "#fb9f3a"
             ],
             [
              0.8888888888888888,
              "#fdca26"
             ],
             [
              1,
              "#f0f921"
             ]
            ],
            "type": "contour"
           }
          ],
          "contourcarpet": [
           {
            "colorbar": {
             "outlinewidth": 0,
             "ticks": ""
            },
            "type": "contourcarpet"
           }
          ],
          "heatmap": [
           {
            "colorbar": {
             "outlinewidth": 0,
             "ticks": ""
            },
            "colorscale": [
             [
              0,
              "#0d0887"
             ],
             [
              0.1111111111111111,
              "#46039f"
             ],
             [
              0.2222222222222222,
              "#7201a8"
             ],
             [
              0.3333333333333333,
              "#9c179e"
             ],
             [
              0.4444444444444444,
              "#bd3786"
             ],
             [
              0.5555555555555556,
              "#d8576b"
             ],
             [
              0.6666666666666666,
              "#ed7953"
             ],
             [
              0.7777777777777778,
              "#fb9f3a"
             ],
             [
              0.8888888888888888,
              "#fdca26"
             ],
             [
              1,
              "#f0f921"
             ]
            ],
            "type": "heatmap"
           }
          ],
          "heatmapgl": [
           {
            "colorbar": {
             "outlinewidth": 0,
             "ticks": ""
            },
            "colorscale": [
             [
              0,
              "#0d0887"
             ],
             [
              0.1111111111111111,
              "#46039f"
             ],
             [
              0.2222222222222222,
              "#7201a8"
             ],
             [
              0.3333333333333333,
              "#9c179e"
             ],
             [
              0.4444444444444444,
              "#bd3786"
             ],
             [
              0.5555555555555556,
              "#d8576b"
             ],
             [
              0.6666666666666666,
              "#ed7953"
             ],
             [
              0.7777777777777778,
              "#fb9f3a"
             ],
             [
              0.8888888888888888,
              "#fdca26"
             ],
             [
              1,
              "#f0f921"
             ]
            ],
            "type": "heatmapgl"
           }
          ],
          "histogram": [
           {
            "marker": {
             "colorbar": {
              "outlinewidth": 0,
              "ticks": ""
             }
            },
            "type": "histogram"
           }
          ],
          "histogram2d": [
           {
            "colorbar": {
             "outlinewidth": 0,
             "ticks": ""
            },
            "colorscale": [
             [
              0,
              "#0d0887"
             ],
             [
              0.1111111111111111,
              "#46039f"
             ],
             [
              0.2222222222222222,
              "#7201a8"
             ],
             [
              0.3333333333333333,
              "#9c179e"
             ],
             [
              0.4444444444444444,
              "#bd3786"
             ],
             [
              0.5555555555555556,
              "#d8576b"
             ],
             [
              0.6666666666666666,
              "#ed7953"
             ],
             [
              0.7777777777777778,
              "#fb9f3a"
             ],
             [
              0.8888888888888888,
              "#fdca26"
             ],
             [
              1,
              "#f0f921"
             ]
            ],
            "type": "histogram2d"
           }
          ],
          "histogram2dcontour": [
           {
            "colorbar": {
             "outlinewidth": 0,
             "ticks": ""
            },
            "colorscale": [
             [
              0,
              "#0d0887"
             ],
             [
              0.1111111111111111,
              "#46039f"
             ],
             [
              0.2222222222222222,
              "#7201a8"
             ],
             [
              0.3333333333333333,
              "#9c179e"
             ],
             [
              0.4444444444444444,
              "#bd3786"
             ],
             [
              0.5555555555555556,
              "#d8576b"
             ],
             [
              0.6666666666666666,
              "#ed7953"
             ],
             [
              0.7777777777777778,
              "#fb9f3a"
             ],
             [
              0.8888888888888888,
              "#fdca26"
             ],
             [
              1,
              "#f0f921"
             ]
            ],
            "type": "histogram2dcontour"
           }
          ],
          "mesh3d": [
           {
            "colorbar": {
             "outlinewidth": 0,
             "ticks": ""
            },
            "type": "mesh3d"
           }
          ],
          "parcoords": [
           {
            "line": {
             "colorbar": {
              "outlinewidth": 0,
              "ticks": ""
             }
            },
            "type": "parcoords"
           }
          ],
          "pie": [
           {
            "automargin": true,
            "type": "pie"
           }
          ],
          "scatter": [
           {
            "marker": {
             "colorbar": {
              "outlinewidth": 0,
              "ticks": ""
             }
            },
            "type": "scatter"
           }
          ],
          "scatter3d": [
           {
            "line": {
             "colorbar": {
              "outlinewidth": 0,
              "ticks": ""
             }
            },
            "marker": {
             "colorbar": {
              "outlinewidth": 0,
              "ticks": ""
             }
            },
            "type": "scatter3d"
           }
          ],
          "scattercarpet": [
           {
            "marker": {
             "colorbar": {
              "outlinewidth": 0,
              "ticks": ""
             }
            },
            "type": "scattercarpet"
           }
          ],
          "scattergeo": [
           {
            "marker": {
             "colorbar": {
              "outlinewidth": 0,
              "ticks": ""
             }
            },
            "type": "scattergeo"
           }
          ],
          "scattergl": [
           {
            "marker": {
             "colorbar": {
              "outlinewidth": 0,
              "ticks": ""
             }
            },
            "type": "scattergl"
           }
          ],
          "scattermapbox": [
           {
            "marker": {
             "colorbar": {
              "outlinewidth": 0,
              "ticks": ""
             }
            },
            "type": "scattermapbox"
           }
          ],
          "scatterpolar": [
           {
            "marker": {
             "colorbar": {
              "outlinewidth": 0,
              "ticks": ""
             }
            },
            "type": "scatterpolar"
           }
          ],
          "scatterpolargl": [
           {
            "marker": {
             "colorbar": {
              "outlinewidth": 0,
              "ticks": ""
             }
            },
            "type": "scatterpolargl"
           }
          ],
          "scatterternary": [
           {
            "marker": {
             "colorbar": {
              "outlinewidth": 0,
              "ticks": ""
             }
            },
            "type": "scatterternary"
           }
          ],
          "surface": [
           {
            "colorbar": {
             "outlinewidth": 0,
             "ticks": ""
            },
            "colorscale": [
             [
              0,
              "#0d0887"
             ],
             [
              0.1111111111111111,
              "#46039f"
             ],
             [
              0.2222222222222222,
              "#7201a8"
             ],
             [
              0.3333333333333333,
              "#9c179e"
             ],
             [
              0.4444444444444444,
              "#bd3786"
             ],
             [
              0.5555555555555556,
              "#d8576b"
             ],
             [
              0.6666666666666666,
              "#ed7953"
             ],
             [
              0.7777777777777778,
              "#fb9f3a"
             ],
             [
              0.8888888888888888,
              "#fdca26"
             ],
             [
              1,
              "#f0f921"
             ]
            ],
            "type": "surface"
           }
          ],
          "table": [
           {
            "cells": {
             "fill": {
              "color": "#EBF0F8"
             },
             "line": {
              "color": "white"
             }
            },
            "header": {
             "fill": {
              "color": "#C8D4E3"
             },
             "line": {
              "color": "white"
             }
            },
            "type": "table"
           }
          ]
         },
         "layout": {
          "annotationdefaults": {
           "arrowcolor": "#2a3f5f",
           "arrowhead": 0,
           "arrowwidth": 1
          },
          "coloraxis": {
           "colorbar": {
            "outlinewidth": 0,
            "ticks": ""
           }
          },
          "colorscale": {
           "diverging": [
            [
             0,
             "#8e0152"
            ],
            [
             0.1,
             "#c51b7d"
            ],
            [
             0.2,
             "#de77ae"
            ],
            [
             0.3,
             "#f1b6da"
            ],
            [
             0.4,
             "#fde0ef"
            ],
            [
             0.5,
             "#f7f7f7"
            ],
            [
             0.6,
             "#e6f5d0"
            ],
            [
             0.7,
             "#b8e186"
            ],
            [
             0.8,
             "#7fbc41"
            ],
            [
             0.9,
             "#4d9221"
            ],
            [
             1,
             "#276419"
            ]
           ],
           "sequential": [
            [
             0,
             "#0d0887"
            ],
            [
             0.1111111111111111,
             "#46039f"
            ],
            [
             0.2222222222222222,
             "#7201a8"
            ],
            [
             0.3333333333333333,
             "#9c179e"
            ],
            [
             0.4444444444444444,
             "#bd3786"
            ],
            [
             0.5555555555555556,
             "#d8576b"
            ],
            [
             0.6666666666666666,
             "#ed7953"
            ],
            [
             0.7777777777777778,
             "#fb9f3a"
            ],
            [
             0.8888888888888888,
             "#fdca26"
            ],
            [
             1,
             "#f0f921"
            ]
           ],
           "sequentialminus": [
            [
             0,
             "#0d0887"
            ],
            [
             0.1111111111111111,
             "#46039f"
            ],
            [
             0.2222222222222222,
             "#7201a8"
            ],
            [
             0.3333333333333333,
             "#9c179e"
            ],
            [
             0.4444444444444444,
             "#bd3786"
            ],
            [
             0.5555555555555556,
             "#d8576b"
            ],
            [
             0.6666666666666666,
             "#ed7953"
            ],
            [
             0.7777777777777778,
             "#fb9f3a"
            ],
            [
             0.8888888888888888,
             "#fdca26"
            ],
            [
             1,
             "#f0f921"
            ]
           ]
          },
          "colorway": [
           "#636efa",
           "#EF553B",
           "#00cc96",
           "#ab63fa",
           "#FFA15A",
           "#19d3f3",
           "#FF6692",
           "#B6E880",
           "#FF97FF",
           "#FECB52"
          ],
          "font": {
           "color": "#2a3f5f"
          },
          "geo": {
           "bgcolor": "white",
           "lakecolor": "white",
           "landcolor": "#E5ECF6",
           "showlakes": true,
           "showland": true,
           "subunitcolor": "white"
          },
          "hoverlabel": {
           "align": "left"
          },
          "hovermode": "closest",
          "mapbox": {
           "style": "light"
          },
          "paper_bgcolor": "white",
          "plot_bgcolor": "#E5ECF6",
          "polar": {
           "angularaxis": {
            "gridcolor": "white",
            "linecolor": "white",
            "ticks": ""
           },
           "bgcolor": "#E5ECF6",
           "radialaxis": {
            "gridcolor": "white",
            "linecolor": "white",
            "ticks": ""
           }
          },
          "scene": {
           "xaxis": {
            "backgroundcolor": "#E5ECF6",
            "gridcolor": "white",
            "gridwidth": 2,
            "linecolor": "white",
            "showbackground": true,
            "ticks": "",
            "zerolinecolor": "white"
           },
           "yaxis": {
            "backgroundcolor": "#E5ECF6",
            "gridcolor": "white",
            "gridwidth": 2,
            "linecolor": "white",
            "showbackground": true,
            "ticks": "",
            "zerolinecolor": "white"
           },
           "zaxis": {
            "backgroundcolor": "#E5ECF6",
            "gridcolor": "white",
            "gridwidth": 2,
            "linecolor": "white",
            "showbackground": true,
            "ticks": "",
            "zerolinecolor": "white"
           }
          },
          "shapedefaults": {
           "line": {
            "color": "#2a3f5f"
           }
          },
          "ternary": {
           "aaxis": {
            "gridcolor": "white",
            "linecolor": "white",
            "ticks": ""
           },
           "baxis": {
            "gridcolor": "white",
            "linecolor": "white",
            "ticks": ""
           },
           "bgcolor": "#E5ECF6",
           "caxis": {
            "gridcolor": "white",
            "linecolor": "white",
            "ticks": ""
           }
          },
          "title": {
           "x": 0.05
          },
          "xaxis": {
           "automargin": true,
           "gridcolor": "white",
           "linecolor": "white",
           "ticks": "",
           "title": {
            "standoff": 15
           },
           "zerolinecolor": "white",
           "zerolinewidth": 2
          },
          "yaxis": {
           "automargin": true,
           "gridcolor": "white",
           "linecolor": "white",
           "ticks": "",
           "title": {
            "standoff": 15
           },
           "zerolinecolor": "white",
           "zerolinewidth": 2
          }
         }
        }
       }
      },
      "text/html": [
       "<div>\n",
       "        \n",
       "        \n",
       "            <div id=\"bf22a7fc-87c2-496e-a441-bcfbb20ba596\" class=\"plotly-graph-div\" style=\"height:525px; width:100%;\"></div>\n",
       "            <script type=\"text/javascript\">\n",
       "                require([\"plotly\"], function(Plotly) {\n",
       "                    window.PLOTLYENV=window.PLOTLYENV || {};\n",
       "                    \n",
       "                if (document.getElementById(\"bf22a7fc-87c2-496e-a441-bcfbb20ba596\")) {\n",
       "                    Plotly.newPlot(\n",
       "                        'bf22a7fc-87c2-496e-a441-bcfbb20ba596',\n",
       "                        [{\"delta\": {\"decreasing\": {\"color\": \"green\"}, \"increasing\": {\"color\": \"red\"}, \"reference\": 1095917.0}, \"domain\": {\"x\": [0, 0.5], \"y\": [0.6, 1]}, \"mode\": \"number+delta\", \"title\": {\"text\": \"Worldwide Confirmed Cases\"}, \"type\": \"indicator\", \"value\": 1197405.0}, {\"delta\": {\"decreasing\": {\"color\": \"green\"}, \"increasing\": {\"color\": \"red\"}, \"reference\": 275582}, \"domain\": {\"x\": [0.5, 1], \"y\": [0.6, 1]}, \"mode\": \"number+delta\", \"title\": {\"text\": \"US Confirmed Cases\"}, \"type\": \"indicator\", \"value\": 308845}, {\"delta\": {\"decreasing\": {\"color\": \"green\"}, \"increasing\": {\"color\": \"red\"}, \"reference\": 58787.0}, \"domain\": {\"x\": [0, 0.5], \"y\": [0, 0.4]}, \"mode\": \"number+delta\", \"title\": {\"text\": \"Worldwide Deaths\"}, \"type\": \"indicator\", \"value\": 64606.0}, {\"delta\": {\"decreasing\": {\"color\": \"green\"}, \"increasing\": {\"color\": \"red\"}, \"reference\": 7087}, \"domain\": {\"x\": [0.5, 1], \"y\": [0, 0.4]}, \"mode\": \"number+delta\", \"title\": {\"text\": \"US Deaths\"}, \"type\": \"indicator\", \"value\": 8407}],\n",
       "                        {\"template\": {\"data\": {\"bar\": [{\"error_x\": {\"color\": \"#2a3f5f\"}, \"error_y\": {\"color\": \"#2a3f5f\"}, \"marker\": {\"line\": {\"color\": \"#E5ECF6\", \"width\": 0.5}}, \"type\": \"bar\"}], \"barpolar\": [{\"marker\": {\"line\": {\"color\": \"#E5ECF6\", \"width\": 0.5}}, \"type\": \"barpolar\"}], \"carpet\": [{\"aaxis\": {\"endlinecolor\": \"#2a3f5f\", \"gridcolor\": \"white\", \"linecolor\": \"white\", \"minorgridcolor\": \"white\", \"startlinecolor\": \"#2a3f5f\"}, \"baxis\": {\"endlinecolor\": \"#2a3f5f\", \"gridcolor\": \"white\", \"linecolor\": \"white\", \"minorgridcolor\": \"white\", \"startlinecolor\": \"#2a3f5f\"}, \"type\": \"carpet\"}], \"choropleth\": [{\"colorbar\": {\"outlinewidth\": 0, \"ticks\": \"\"}, \"type\": \"choropleth\"}], \"contour\": [{\"colorbar\": {\"outlinewidth\": 0, \"ticks\": \"\"}, \"colorscale\": [[0.0, \"#0d0887\"], [0.1111111111111111, \"#46039f\"], [0.2222222222222222, \"#7201a8\"], [0.3333333333333333, \"#9c179e\"], [0.4444444444444444, \"#bd3786\"], [0.5555555555555556, \"#d8576b\"], [0.6666666666666666, \"#ed7953\"], [0.7777777777777778, \"#fb9f3a\"], [0.8888888888888888, \"#fdca26\"], [1.0, \"#f0f921\"]], \"type\": \"contour\"}], \"contourcarpet\": [{\"colorbar\": {\"outlinewidth\": 0, \"ticks\": \"\"}, \"type\": \"contourcarpet\"}], \"heatmap\": [{\"colorbar\": {\"outlinewidth\": 0, \"ticks\": \"\"}, \"colorscale\": [[0.0, \"#0d0887\"], [0.1111111111111111, \"#46039f\"], [0.2222222222222222, \"#7201a8\"], [0.3333333333333333, \"#9c179e\"], [0.4444444444444444, \"#bd3786\"], [0.5555555555555556, \"#d8576b\"], [0.6666666666666666, \"#ed7953\"], [0.7777777777777778, \"#fb9f3a\"], [0.8888888888888888, \"#fdca26\"], [1.0, \"#f0f921\"]], \"type\": \"heatmap\"}], \"heatmapgl\": [{\"colorbar\": {\"outlinewidth\": 0, \"ticks\": \"\"}, \"colorscale\": [[0.0, \"#0d0887\"], [0.1111111111111111, \"#46039f\"], [0.2222222222222222, \"#7201a8\"], [0.3333333333333333, \"#9c179e\"], [0.4444444444444444, \"#bd3786\"], [0.5555555555555556, \"#d8576b\"], [0.6666666666666666, \"#ed7953\"], [0.7777777777777778, \"#fb9f3a\"], [0.8888888888888888, \"#fdca26\"], [1.0, \"#f0f921\"]], \"type\": \"heatmapgl\"}], \"histogram\": [{\"marker\": {\"colorbar\": {\"outlinewidth\": 0, \"ticks\": \"\"}}, \"type\": \"histogram\"}], \"histogram2d\": [{\"colorbar\": {\"outlinewidth\": 0, \"ticks\": \"\"}, \"colorscale\": [[0.0, \"#0d0887\"], [0.1111111111111111, \"#46039f\"], [0.2222222222222222, \"#7201a8\"], [0.3333333333333333, \"#9c179e\"], [0.4444444444444444, \"#bd3786\"], [0.5555555555555556, \"#d8576b\"], [0.6666666666666666, \"#ed7953\"], [0.7777777777777778, \"#fb9f3a\"], [0.8888888888888888, \"#fdca26\"], [1.0, \"#f0f921\"]], \"type\": \"histogram2d\"}], \"histogram2dcontour\": [{\"colorbar\": {\"outlinewidth\": 0, \"ticks\": \"\"}, \"colorscale\": [[0.0, \"#0d0887\"], [0.1111111111111111, \"#46039f\"], [0.2222222222222222, \"#7201a8\"], [0.3333333333333333, \"#9c179e\"], [0.4444444444444444, \"#bd3786\"], [0.5555555555555556, \"#d8576b\"], [0.6666666666666666, \"#ed7953\"], [0.7777777777777778, \"#fb9f3a\"], [0.8888888888888888, \"#fdca26\"], [1.0, \"#f0f921\"]], \"type\": \"histogram2dcontour\"}], \"mesh3d\": [{\"colorbar\": {\"outlinewidth\": 0, \"ticks\": \"\"}, \"type\": \"mesh3d\"}], \"parcoords\": [{\"line\": {\"colorbar\": {\"outlinewidth\": 0, \"ticks\": \"\"}}, \"type\": \"parcoords\"}], \"pie\": [{\"automargin\": true, \"type\": \"pie\"}], \"scatter\": [{\"marker\": {\"colorbar\": {\"outlinewidth\": 0, \"ticks\": \"\"}}, \"type\": \"scatter\"}], \"scatter3d\": [{\"line\": {\"colorbar\": {\"outlinewidth\": 0, \"ticks\": \"\"}}, \"marker\": {\"colorbar\": {\"outlinewidth\": 0, \"ticks\": \"\"}}, \"type\": \"scatter3d\"}], \"scattercarpet\": [{\"marker\": {\"colorbar\": {\"outlinewidth\": 0, \"ticks\": \"\"}}, \"type\": \"scattercarpet\"}], \"scattergeo\": [{\"marker\": {\"colorbar\": {\"outlinewidth\": 0, \"ticks\": \"\"}}, \"type\": \"scattergeo\"}], \"scattergl\": [{\"marker\": {\"colorbar\": {\"outlinewidth\": 0, \"ticks\": \"\"}}, \"type\": \"scattergl\"}], \"scattermapbox\": [{\"marker\": {\"colorbar\": {\"outlinewidth\": 0, \"ticks\": \"\"}}, \"type\": \"scattermapbox\"}], \"scatterpolar\": [{\"marker\": {\"colorbar\": {\"outlinewidth\": 0, \"ticks\": \"\"}}, \"type\": \"scatterpolar\"}], \"scatterpolargl\": [{\"marker\": {\"colorbar\": {\"outlinewidth\": 0, \"ticks\": \"\"}}, \"type\": \"scatterpolargl\"}], \"scatterternary\": [{\"marker\": {\"colorbar\": {\"outlinewidth\": 0, \"ticks\": \"\"}}, \"type\": \"scatterternary\"}], \"surface\": [{\"colorbar\": {\"outlinewidth\": 0, \"ticks\": \"\"}, \"colorscale\": [[0.0, \"#0d0887\"], [0.1111111111111111, \"#46039f\"], [0.2222222222222222, \"#7201a8\"], [0.3333333333333333, \"#9c179e\"], [0.4444444444444444, \"#bd3786\"], [0.5555555555555556, \"#d8576b\"], [0.6666666666666666, \"#ed7953\"], [0.7777777777777778, \"#fb9f3a\"], [0.8888888888888888, \"#fdca26\"], [1.0, \"#f0f921\"]], \"type\": \"surface\"}], \"table\": [{\"cells\": {\"fill\": {\"color\": \"#EBF0F8\"}, \"line\": {\"color\": \"white\"}}, \"header\": {\"fill\": {\"color\": \"#C8D4E3\"}, \"line\": {\"color\": \"white\"}}, \"type\": \"table\"}]}, \"layout\": {\"annotationdefaults\": {\"arrowcolor\": \"#2a3f5f\", \"arrowhead\": 0, \"arrowwidth\": 1}, \"coloraxis\": {\"colorbar\": {\"outlinewidth\": 0, \"ticks\": \"\"}}, \"colorscale\": {\"diverging\": [[0, \"#8e0152\"], [0.1, \"#c51b7d\"], [0.2, \"#de77ae\"], [0.3, \"#f1b6da\"], [0.4, \"#fde0ef\"], [0.5, \"#f7f7f7\"], [0.6, \"#e6f5d0\"], [0.7, \"#b8e186\"], [0.8, \"#7fbc41\"], [0.9, \"#4d9221\"], [1, \"#276419\"]], \"sequential\": [[0.0, \"#0d0887\"], [0.1111111111111111, \"#46039f\"], [0.2222222222222222, \"#7201a8\"], [0.3333333333333333, \"#9c179e\"], [0.4444444444444444, \"#bd3786\"], [0.5555555555555556, \"#d8576b\"], [0.6666666666666666, \"#ed7953\"], [0.7777777777777778, \"#fb9f3a\"], [0.8888888888888888, \"#fdca26\"], [1.0, \"#f0f921\"]], \"sequentialminus\": [[0.0, \"#0d0887\"], [0.1111111111111111, \"#46039f\"], [0.2222222222222222, \"#7201a8\"], [0.3333333333333333, \"#9c179e\"], [0.4444444444444444, \"#bd3786\"], [0.5555555555555556, \"#d8576b\"], [0.6666666666666666, \"#ed7953\"], [0.7777777777777778, \"#fb9f3a\"], [0.8888888888888888, \"#fdca26\"], [1.0, \"#f0f921\"]]}, \"colorway\": [\"#636efa\", \"#EF553B\", \"#00cc96\", \"#ab63fa\", \"#FFA15A\", \"#19d3f3\", \"#FF6692\", \"#B6E880\", \"#FF97FF\", \"#FECB52\"], \"font\": {\"color\": \"#2a3f5f\"}, \"geo\": {\"bgcolor\": \"white\", \"lakecolor\": \"white\", \"landcolor\": \"#E5ECF6\", \"showlakes\": true, \"showland\": true, \"subunitcolor\": \"white\"}, \"hoverlabel\": {\"align\": \"left\"}, \"hovermode\": \"closest\", \"mapbox\": {\"style\": \"light\"}, \"paper_bgcolor\": \"white\", \"plot_bgcolor\": \"#E5ECF6\", \"polar\": {\"angularaxis\": {\"gridcolor\": \"white\", \"linecolor\": \"white\", \"ticks\": \"\"}, \"bgcolor\": \"#E5ECF6\", \"radialaxis\": {\"gridcolor\": \"white\", \"linecolor\": \"white\", \"ticks\": \"\"}}, \"scene\": {\"xaxis\": {\"backgroundcolor\": \"#E5ECF6\", \"gridcolor\": \"white\", \"gridwidth\": 2, \"linecolor\": \"white\", \"showbackground\": true, \"ticks\": \"\", \"zerolinecolor\": \"white\"}, \"yaxis\": {\"backgroundcolor\": \"#E5ECF6\", \"gridcolor\": \"white\", \"gridwidth\": 2, \"linecolor\": \"white\", \"showbackground\": true, \"ticks\": \"\", \"zerolinecolor\": \"white\"}, \"zaxis\": {\"backgroundcolor\": \"#E5ECF6\", \"gridcolor\": \"white\", \"gridwidth\": 2, \"linecolor\": \"white\", \"showbackground\": true, \"ticks\": \"\", \"zerolinecolor\": \"white\"}}, \"shapedefaults\": {\"line\": {\"color\": \"#2a3f5f\"}}, \"ternary\": {\"aaxis\": {\"gridcolor\": \"white\", \"linecolor\": \"white\", \"ticks\": \"\"}, \"baxis\": {\"gridcolor\": \"white\", \"linecolor\": \"white\", \"ticks\": \"\"}, \"bgcolor\": \"#E5ECF6\", \"caxis\": {\"gridcolor\": \"white\", \"linecolor\": \"white\", \"ticks\": \"\"}}, \"title\": {\"x\": 0.05}, \"xaxis\": {\"automargin\": true, \"gridcolor\": \"white\", \"linecolor\": \"white\", \"ticks\": \"\", \"title\": {\"standoff\": 15}, \"zerolinecolor\": \"white\", \"zerolinewidth\": 2}, \"yaxis\": {\"automargin\": true, \"gridcolor\": \"white\", \"linecolor\": \"white\", \"ticks\": \"\", \"title\": {\"standoff\": 15}, \"zerolinecolor\": \"white\", \"zerolinewidth\": 2}}}},\n",
       "                        {\"responsive\": true}\n",
       "                    ).then(function(){\n",
       "                            \n",
       "var gd = document.getElementById('bf22a7fc-87c2-496e-a441-bcfbb20ba596');\n",
       "var x = new MutationObserver(function (mutations, observer) {{\n",
       "        var display = window.getComputedStyle(gd).display;\n",
       "        if (!display || display === 'none') {{\n",
       "            console.log([gd, 'removed!']);\n",
       "            Plotly.purge(gd);\n",
       "            observer.disconnect();\n",
       "        }}\n",
       "}});\n",
       "\n",
       "// Listen for the removal of the full notebook cells\n",
       "var notebookContainer = gd.closest('#notebook-container');\n",
       "if (notebookContainer) {{\n",
       "    x.observe(notebookContainer, {childList: true});\n",
       "}}\n",
       "\n",
       "// Listen for the clearing of the current output cell\n",
       "var outputEl = gd.closest('.output');\n",
       "if (outputEl) {{\n",
       "    x.observe(outputEl, {childList: true});\n",
       "}}\n",
       "\n",
       "                        })\n",
       "                };\n",
       "                });\n",
       "            </script>\n",
       "        </div>"
      ]
     },
     "metadata": {},
     "output_type": "display_data"
    }
   ],
   "source": [
    "trace1 = go.Indicator(\n",
    "    mode = \"number+delta\",\n",
    "    value = dfConfirmedGlobal.sum()[-1],\n",
    "    delta = {'reference': dfConfirmedGlobal.sum()[-2], \n",
    "             'increasing':{'color':'red'},\n",
    "             'decreasing':{'color':'green'}},\n",
    "    title = {'text': \"Worldwide Confirmed Cases\"},\n",
    "    domain = {'x': [0, 0.5], 'y': [0.6, 1]})\n",
    "\n",
    "trace2 = go.Indicator(\n",
    "    mode = \"number+delta\",\n",
    "    value = dfConfirmedUSStates.sum()[-1],\n",
    "    delta = {'reference': dfConfirmedUSStates.sum()[-2], \n",
    "             'increasing':{'color':'red'},\n",
    "             'decreasing':{'color':'green'}},\n",
    "    title = {'text': \"US Confirmed Cases\"},\n",
    "    domain = {'x': [0.5, 1], 'y': [0.6, 1]})\n",
    "\n",
    "\n",
    "trace5 = go.Indicator(\n",
    "    mode = \"number+delta\",\n",
    "    value = dfDeathsGlobal.sum()[-1],\n",
    "    delta = {'reference': dfDeathsGlobal.sum()[-2], \n",
    "             'increasing':{'color':'red'},\n",
    "             'decreasing':{'color':'green'}},\n",
    "    title = {'text': \"Worldwide Deaths\"},\n",
    "    domain = {'x': [0, 0.5], 'y': [0, 0.4]})\n",
    "\n",
    "trace6 = go.Indicator(\n",
    "    mode = \"number+delta\",\n",
    "    value = dfDeathsUSStates.sum()[-1],\n",
    "    delta = {'reference': dfDeathsUSStates.sum()[-2], \n",
    "             'increasing':{'color':'red'},\n",
    "             'decreasing':{'color':'green'}},\n",
    "    title = {'text': \"US Deaths\"},\n",
    "    domain = {'x': [0.5, 1], 'y': [0, 0.4]})\n",
    "\n",
    "data = [trace1, trace2, trace5, trace6]\n",
    "py.iplot(dict(data=data))"
   ]
  },
  {
   "cell_type": "markdown",
   "metadata": {},
   "source": [
    "# Key Facts - Local"
   ]
  },
  {
   "cell_type": "code",
   "execution_count": 7,
   "metadata": {
    "ExecuteTime": {
     "end_time": "2020-04-05T17:54:46.181463Z",
     "start_time": "2020-04-05T17:54:45.378319Z"
    }
   },
   "outputs": [
    {
     "data": {
      "application/vnd.plotly.v1+json": {
       "config": {
        "linkText": "Export to plot.ly",
        "plotlyServerURL": "https://plot.ly",
        "showLink": false
       },
       "data": [
        {
         "delta": {
          "decreasing": {
           "color": "green"
          },
          "increasing": {
           "color": "red"
          },
          "reference": 6846
         },
         "domain": {
          "x": [
           0,
           0.5
          ],
          "y": [
           0.6,
           1
          ]
         },
         "mode": "number+delta",
         "title": {
          "text": "WA Confirmed Cases"
         },
         "type": "indicator",
         "value": 7247
        },
        {
         "delta": {
          "decreasing": {
           "color": "green"
          },
          "increasing": {
           "color": "red"
          },
          "reference": 2787
         },
         "domain": {
          "x": [
           0.5,
           1
          ],
          "y": [
           0.6,
           1
          ]
         },
         "mode": "number+delta",
         "title": {
          "text": "King County Confirmed Cases"
         },
         "type": "indicator",
         "value": 2898
        },
        {
         "delta": {
          "decreasing": {
           "color": "green"
          },
          "increasing": {
           "color": "red"
          },
          "reference": 291
         },
         "domain": {
          "x": [
           0,
           0.5
          ],
          "y": [
           0,
           0.4
          ]
         },
         "mode": "number+delta",
         "title": {
          "text": "WA Deaths"
         },
         "type": "indicator",
         "value": 315
        },
        {
         "delta": {
          "decreasing": {
           "color": "green"
          },
          "increasing": {
           "color": "red"
          },
          "reference": 186
         },
         "domain": {
          "x": [
           0.5,
           1
          ],
          "y": [
           0,
           0.4
          ]
         },
         "mode": "number+delta",
         "title": {
          "text": "King County Deaths"
         },
         "type": "indicator",
         "value": 200
        }
       ],
       "layout": {
        "template": {
         "data": {
          "bar": [
           {
            "error_x": {
             "color": "#2a3f5f"
            },
            "error_y": {
             "color": "#2a3f5f"
            },
            "marker": {
             "line": {
              "color": "#E5ECF6",
              "width": 0.5
             }
            },
            "type": "bar"
           }
          ],
          "barpolar": [
           {
            "marker": {
             "line": {
              "color": "#E5ECF6",
              "width": 0.5
             }
            },
            "type": "barpolar"
           }
          ],
          "carpet": [
           {
            "aaxis": {
             "endlinecolor": "#2a3f5f",
             "gridcolor": "white",
             "linecolor": "white",
             "minorgridcolor": "white",
             "startlinecolor": "#2a3f5f"
            },
            "baxis": {
             "endlinecolor": "#2a3f5f",
             "gridcolor": "white",
             "linecolor": "white",
             "minorgridcolor": "white",
             "startlinecolor": "#2a3f5f"
            },
            "type": "carpet"
           }
          ],
          "choropleth": [
           {
            "colorbar": {
             "outlinewidth": 0,
             "ticks": ""
            },
            "type": "choropleth"
           }
          ],
          "contour": [
           {
            "colorbar": {
             "outlinewidth": 0,
             "ticks": ""
            },
            "colorscale": [
             [
              0,
              "#0d0887"
             ],
             [
              0.1111111111111111,
              "#46039f"
             ],
             [
              0.2222222222222222,
              "#7201a8"
             ],
             [
              0.3333333333333333,
              "#9c179e"
             ],
             [
              0.4444444444444444,
              "#bd3786"
             ],
             [
              0.5555555555555556,
              "#d8576b"
             ],
             [
              0.6666666666666666,
              "#ed7953"
             ],
             [
              0.7777777777777778,
              "#fb9f3a"
             ],
             [
              0.8888888888888888,
              "#fdca26"
             ],
             [
              1,
              "#f0f921"
             ]
            ],
            "type": "contour"
           }
          ],
          "contourcarpet": [
           {
            "colorbar": {
             "outlinewidth": 0,
             "ticks": ""
            },
            "type": "contourcarpet"
           }
          ],
          "heatmap": [
           {
            "colorbar": {
             "outlinewidth": 0,
             "ticks": ""
            },
            "colorscale": [
             [
              0,
              "#0d0887"
             ],
             [
              0.1111111111111111,
              "#46039f"
             ],
             [
              0.2222222222222222,
              "#7201a8"
             ],
             [
              0.3333333333333333,
              "#9c179e"
             ],
             [
              0.4444444444444444,
              "#bd3786"
             ],
             [
              0.5555555555555556,
              "#d8576b"
             ],
             [
              0.6666666666666666,
              "#ed7953"
             ],
             [
              0.7777777777777778,
              "#fb9f3a"
             ],
             [
              0.8888888888888888,
              "#fdca26"
             ],
             [
              1,
              "#f0f921"
             ]
            ],
            "type": "heatmap"
           }
          ],
          "heatmapgl": [
           {
            "colorbar": {
             "outlinewidth": 0,
             "ticks": ""
            },
            "colorscale": [
             [
              0,
              "#0d0887"
             ],
             [
              0.1111111111111111,
              "#46039f"
             ],
             [
              0.2222222222222222,
              "#7201a8"
             ],
             [
              0.3333333333333333,
              "#9c179e"
             ],
             [
              0.4444444444444444,
              "#bd3786"
             ],
             [
              0.5555555555555556,
              "#d8576b"
             ],
             [
              0.6666666666666666,
              "#ed7953"
             ],
             [
              0.7777777777777778,
              "#fb9f3a"
             ],
             [
              0.8888888888888888,
              "#fdca26"
             ],
             [
              1,
              "#f0f921"
             ]
            ],
            "type": "heatmapgl"
           }
          ],
          "histogram": [
           {
            "marker": {
             "colorbar": {
              "outlinewidth": 0,
              "ticks": ""
             }
            },
            "type": "histogram"
           }
          ],
          "histogram2d": [
           {
            "colorbar": {
             "outlinewidth": 0,
             "ticks": ""
            },
            "colorscale": [
             [
              0,
              "#0d0887"
             ],
             [
              0.1111111111111111,
              "#46039f"
             ],
             [
              0.2222222222222222,
              "#7201a8"
             ],
             [
              0.3333333333333333,
              "#9c179e"
             ],
             [
              0.4444444444444444,
              "#bd3786"
             ],
             [
              0.5555555555555556,
              "#d8576b"
             ],
             [
              0.6666666666666666,
              "#ed7953"
             ],
             [
              0.7777777777777778,
              "#fb9f3a"
             ],
             [
              0.8888888888888888,
              "#fdca26"
             ],
             [
              1,
              "#f0f921"
             ]
            ],
            "type": "histogram2d"
           }
          ],
          "histogram2dcontour": [
           {
            "colorbar": {
             "outlinewidth": 0,
             "ticks": ""
            },
            "colorscale": [
             [
              0,
              "#0d0887"
             ],
             [
              0.1111111111111111,
              "#46039f"
             ],
             [
              0.2222222222222222,
              "#7201a8"
             ],
             [
              0.3333333333333333,
              "#9c179e"
             ],
             [
              0.4444444444444444,
              "#bd3786"
             ],
             [
              0.5555555555555556,
              "#d8576b"
             ],
             [
              0.6666666666666666,
              "#ed7953"
             ],
             [
              0.7777777777777778,
              "#fb9f3a"
             ],
             [
              0.8888888888888888,
              "#fdca26"
             ],
             [
              1,
              "#f0f921"
             ]
            ],
            "type": "histogram2dcontour"
           }
          ],
          "mesh3d": [
           {
            "colorbar": {
             "outlinewidth": 0,
             "ticks": ""
            },
            "type": "mesh3d"
           }
          ],
          "parcoords": [
           {
            "line": {
             "colorbar": {
              "outlinewidth": 0,
              "ticks": ""
             }
            },
            "type": "parcoords"
           }
          ],
          "pie": [
           {
            "automargin": true,
            "type": "pie"
           }
          ],
          "scatter": [
           {
            "marker": {
             "colorbar": {
              "outlinewidth": 0,
              "ticks": ""
             }
            },
            "type": "scatter"
           }
          ],
          "scatter3d": [
           {
            "line": {
             "colorbar": {
              "outlinewidth": 0,
              "ticks": ""
             }
            },
            "marker": {
             "colorbar": {
              "outlinewidth": 0,
              "ticks": ""
             }
            },
            "type": "scatter3d"
           }
          ],
          "scattercarpet": [
           {
            "marker": {
             "colorbar": {
              "outlinewidth": 0,
              "ticks": ""
             }
            },
            "type": "scattercarpet"
           }
          ],
          "scattergeo": [
           {
            "marker": {
             "colorbar": {
              "outlinewidth": 0,
              "ticks": ""
             }
            },
            "type": "scattergeo"
           }
          ],
          "scattergl": [
           {
            "marker": {
             "colorbar": {
              "outlinewidth": 0,
              "ticks": ""
             }
            },
            "type": "scattergl"
           }
          ],
          "scattermapbox": [
           {
            "marker": {
             "colorbar": {
              "outlinewidth": 0,
              "ticks": ""
             }
            },
            "type": "scattermapbox"
           }
          ],
          "scatterpolar": [
           {
            "marker": {
             "colorbar": {
              "outlinewidth": 0,
              "ticks": ""
             }
            },
            "type": "scatterpolar"
           }
          ],
          "scatterpolargl": [
           {
            "marker": {
             "colorbar": {
              "outlinewidth": 0,
              "ticks": ""
             }
            },
            "type": "scatterpolargl"
           }
          ],
          "scatterternary": [
           {
            "marker": {
             "colorbar": {
              "outlinewidth": 0,
              "ticks": ""
             }
            },
            "type": "scatterternary"
           }
          ],
          "surface": [
           {
            "colorbar": {
             "outlinewidth": 0,
             "ticks": ""
            },
            "colorscale": [
             [
              0,
              "#0d0887"
             ],
             [
              0.1111111111111111,
              "#46039f"
             ],
             [
              0.2222222222222222,
              "#7201a8"
             ],
             [
              0.3333333333333333,
              "#9c179e"
             ],
             [
              0.4444444444444444,
              "#bd3786"
             ],
             [
              0.5555555555555556,
              "#d8576b"
             ],
             [
              0.6666666666666666,
              "#ed7953"
             ],
             [
              0.7777777777777778,
              "#fb9f3a"
             ],
             [
              0.8888888888888888,
              "#fdca26"
             ],
             [
              1,
              "#f0f921"
             ]
            ],
            "type": "surface"
           }
          ],
          "table": [
           {
            "cells": {
             "fill": {
              "color": "#EBF0F8"
             },
             "line": {
              "color": "white"
             }
            },
            "header": {
             "fill": {
              "color": "#C8D4E3"
             },
             "line": {
              "color": "white"
             }
            },
            "type": "table"
           }
          ]
         },
         "layout": {
          "annotationdefaults": {
           "arrowcolor": "#2a3f5f",
           "arrowhead": 0,
           "arrowwidth": 1
          },
          "coloraxis": {
           "colorbar": {
            "outlinewidth": 0,
            "ticks": ""
           }
          },
          "colorscale": {
           "diverging": [
            [
             0,
             "#8e0152"
            ],
            [
             0.1,
             "#c51b7d"
            ],
            [
             0.2,
             "#de77ae"
            ],
            [
             0.3,
             "#f1b6da"
            ],
            [
             0.4,
             "#fde0ef"
            ],
            [
             0.5,
             "#f7f7f7"
            ],
            [
             0.6,
             "#e6f5d0"
            ],
            [
             0.7,
             "#b8e186"
            ],
            [
             0.8,
             "#7fbc41"
            ],
            [
             0.9,
             "#4d9221"
            ],
            [
             1,
             "#276419"
            ]
           ],
           "sequential": [
            [
             0,
             "#0d0887"
            ],
            [
             0.1111111111111111,
             "#46039f"
            ],
            [
             0.2222222222222222,
             "#7201a8"
            ],
            [
             0.3333333333333333,
             "#9c179e"
            ],
            [
             0.4444444444444444,
             "#bd3786"
            ],
            [
             0.5555555555555556,
             "#d8576b"
            ],
            [
             0.6666666666666666,
             "#ed7953"
            ],
            [
             0.7777777777777778,
             "#fb9f3a"
            ],
            [
             0.8888888888888888,
             "#fdca26"
            ],
            [
             1,
             "#f0f921"
            ]
           ],
           "sequentialminus": [
            [
             0,
             "#0d0887"
            ],
            [
             0.1111111111111111,
             "#46039f"
            ],
            [
             0.2222222222222222,
             "#7201a8"
            ],
            [
             0.3333333333333333,
             "#9c179e"
            ],
            [
             0.4444444444444444,
             "#bd3786"
            ],
            [
             0.5555555555555556,
             "#d8576b"
            ],
            [
             0.6666666666666666,
             "#ed7953"
            ],
            [
             0.7777777777777778,
             "#fb9f3a"
            ],
            [
             0.8888888888888888,
             "#fdca26"
            ],
            [
             1,
             "#f0f921"
            ]
           ]
          },
          "colorway": [
           "#636efa",
           "#EF553B",
           "#00cc96",
           "#ab63fa",
           "#FFA15A",
           "#19d3f3",
           "#FF6692",
           "#B6E880",
           "#FF97FF",
           "#FECB52"
          ],
          "font": {
           "color": "#2a3f5f"
          },
          "geo": {
           "bgcolor": "white",
           "lakecolor": "white",
           "landcolor": "#E5ECF6",
           "showlakes": true,
           "showland": true,
           "subunitcolor": "white"
          },
          "hoverlabel": {
           "align": "left"
          },
          "hovermode": "closest",
          "mapbox": {
           "style": "light"
          },
          "paper_bgcolor": "white",
          "plot_bgcolor": "#E5ECF6",
          "polar": {
           "angularaxis": {
            "gridcolor": "white",
            "linecolor": "white",
            "ticks": ""
           },
           "bgcolor": "#E5ECF6",
           "radialaxis": {
            "gridcolor": "white",
            "linecolor": "white",
            "ticks": ""
           }
          },
          "scene": {
           "xaxis": {
            "backgroundcolor": "#E5ECF6",
            "gridcolor": "white",
            "gridwidth": 2,
            "linecolor": "white",
            "showbackground": true,
            "ticks": "",
            "zerolinecolor": "white"
           },
           "yaxis": {
            "backgroundcolor": "#E5ECF6",
            "gridcolor": "white",
            "gridwidth": 2,
            "linecolor": "white",
            "showbackground": true,
            "ticks": "",
            "zerolinecolor": "white"
           },
           "zaxis": {
            "backgroundcolor": "#E5ECF6",
            "gridcolor": "white",
            "gridwidth": 2,
            "linecolor": "white",
            "showbackground": true,
            "ticks": "",
            "zerolinecolor": "white"
           }
          },
          "shapedefaults": {
           "line": {
            "color": "#2a3f5f"
           }
          },
          "ternary": {
           "aaxis": {
            "gridcolor": "white",
            "linecolor": "white",
            "ticks": ""
           },
           "baxis": {
            "gridcolor": "white",
            "linecolor": "white",
            "ticks": ""
           },
           "bgcolor": "#E5ECF6",
           "caxis": {
            "gridcolor": "white",
            "linecolor": "white",
            "ticks": ""
           }
          },
          "title": {
           "x": 0.05
          },
          "xaxis": {
           "automargin": true,
           "gridcolor": "white",
           "linecolor": "white",
           "ticks": "",
           "title": {
            "standoff": 15
           },
           "zerolinecolor": "white",
           "zerolinewidth": 2
          },
          "yaxis": {
           "automargin": true,
           "gridcolor": "white",
           "linecolor": "white",
           "ticks": "",
           "title": {
            "standoff": 15
           },
           "zerolinecolor": "white",
           "zerolinewidth": 2
          }
         }
        }
       }
      },
      "text/html": [
       "<div>\n",
       "        \n",
       "        \n",
       "            <div id=\"9e6a32e8-a90d-426a-89bc-a9dbd95f8d11\" class=\"plotly-graph-div\" style=\"height:525px; width:100%;\"></div>\n",
       "            <script type=\"text/javascript\">\n",
       "                require([\"plotly\"], function(Plotly) {\n",
       "                    window.PLOTLYENV=window.PLOTLYENV || {};\n",
       "                    \n",
       "                if (document.getElementById(\"9e6a32e8-a90d-426a-89bc-a9dbd95f8d11\")) {\n",
       "                    Plotly.newPlot(\n",
       "                        '9e6a32e8-a90d-426a-89bc-a9dbd95f8d11',\n",
       "                        [{\"delta\": {\"decreasing\": {\"color\": \"green\"}, \"increasing\": {\"color\": \"red\"}, \"reference\": 6846}, \"domain\": {\"x\": [0, 0.5], \"y\": [0.6, 1]}, \"mode\": \"number+delta\", \"title\": {\"text\": \"WA Confirmed Cases\"}, \"type\": \"indicator\", \"value\": 7247}, {\"delta\": {\"decreasing\": {\"color\": \"green\"}, \"increasing\": {\"color\": \"red\"}, \"reference\": 2787}, \"domain\": {\"x\": [0.5, 1], \"y\": [0.6, 1]}, \"mode\": \"number+delta\", \"title\": {\"text\": \"King County Confirmed Cases\"}, \"type\": \"indicator\", \"value\": 2898}, {\"delta\": {\"decreasing\": {\"color\": \"green\"}, \"increasing\": {\"color\": \"red\"}, \"reference\": 291}, \"domain\": {\"x\": [0, 0.5], \"y\": [0, 0.4]}, \"mode\": \"number+delta\", \"title\": {\"text\": \"WA Deaths\"}, \"type\": \"indicator\", \"value\": 315}, {\"delta\": {\"decreasing\": {\"color\": \"green\"}, \"increasing\": {\"color\": \"red\"}, \"reference\": 186}, \"domain\": {\"x\": [0.5, 1], \"y\": [0, 0.4]}, \"mode\": \"number+delta\", \"title\": {\"text\": \"King County Deaths\"}, \"type\": \"indicator\", \"value\": 200}],\n",
       "                        {\"template\": {\"data\": {\"bar\": [{\"error_x\": {\"color\": \"#2a3f5f\"}, \"error_y\": {\"color\": \"#2a3f5f\"}, \"marker\": {\"line\": {\"color\": \"#E5ECF6\", \"width\": 0.5}}, \"type\": \"bar\"}], \"barpolar\": [{\"marker\": {\"line\": {\"color\": \"#E5ECF6\", \"width\": 0.5}}, \"type\": \"barpolar\"}], \"carpet\": [{\"aaxis\": {\"endlinecolor\": \"#2a3f5f\", \"gridcolor\": \"white\", \"linecolor\": \"white\", \"minorgridcolor\": \"white\", \"startlinecolor\": \"#2a3f5f\"}, \"baxis\": {\"endlinecolor\": \"#2a3f5f\", \"gridcolor\": \"white\", \"linecolor\": \"white\", \"minorgridcolor\": \"white\", \"startlinecolor\": \"#2a3f5f\"}, \"type\": \"carpet\"}], \"choropleth\": [{\"colorbar\": {\"outlinewidth\": 0, \"ticks\": \"\"}, \"type\": \"choropleth\"}], \"contour\": [{\"colorbar\": {\"outlinewidth\": 0, \"ticks\": \"\"}, \"colorscale\": [[0.0, \"#0d0887\"], [0.1111111111111111, \"#46039f\"], [0.2222222222222222, \"#7201a8\"], [0.3333333333333333, \"#9c179e\"], [0.4444444444444444, \"#bd3786\"], [0.5555555555555556, \"#d8576b\"], [0.6666666666666666, \"#ed7953\"], [0.7777777777777778, \"#fb9f3a\"], [0.8888888888888888, \"#fdca26\"], [1.0, \"#f0f921\"]], \"type\": \"contour\"}], \"contourcarpet\": [{\"colorbar\": {\"outlinewidth\": 0, \"ticks\": \"\"}, \"type\": \"contourcarpet\"}], \"heatmap\": [{\"colorbar\": {\"outlinewidth\": 0, \"ticks\": \"\"}, \"colorscale\": [[0.0, \"#0d0887\"], [0.1111111111111111, \"#46039f\"], [0.2222222222222222, \"#7201a8\"], [0.3333333333333333, \"#9c179e\"], [0.4444444444444444, \"#bd3786\"], [0.5555555555555556, \"#d8576b\"], [0.6666666666666666, \"#ed7953\"], [0.7777777777777778, \"#fb9f3a\"], [0.8888888888888888, \"#fdca26\"], [1.0, \"#f0f921\"]], \"type\": \"heatmap\"}], \"heatmapgl\": [{\"colorbar\": {\"outlinewidth\": 0, \"ticks\": \"\"}, \"colorscale\": [[0.0, \"#0d0887\"], [0.1111111111111111, \"#46039f\"], [0.2222222222222222, \"#7201a8\"], [0.3333333333333333, \"#9c179e\"], [0.4444444444444444, \"#bd3786\"], [0.5555555555555556, \"#d8576b\"], [0.6666666666666666, \"#ed7953\"], [0.7777777777777778, \"#fb9f3a\"], [0.8888888888888888, \"#fdca26\"], [1.0, \"#f0f921\"]], \"type\": \"heatmapgl\"}], \"histogram\": [{\"marker\": {\"colorbar\": {\"outlinewidth\": 0, \"ticks\": \"\"}}, \"type\": \"histogram\"}], \"histogram2d\": [{\"colorbar\": {\"outlinewidth\": 0, \"ticks\": \"\"}, \"colorscale\": [[0.0, \"#0d0887\"], [0.1111111111111111, \"#46039f\"], [0.2222222222222222, \"#7201a8\"], [0.3333333333333333, \"#9c179e\"], [0.4444444444444444, \"#bd3786\"], [0.5555555555555556, \"#d8576b\"], [0.6666666666666666, \"#ed7953\"], [0.7777777777777778, \"#fb9f3a\"], [0.8888888888888888, \"#fdca26\"], [1.0, \"#f0f921\"]], \"type\": \"histogram2d\"}], \"histogram2dcontour\": [{\"colorbar\": {\"outlinewidth\": 0, \"ticks\": \"\"}, \"colorscale\": [[0.0, \"#0d0887\"], [0.1111111111111111, \"#46039f\"], [0.2222222222222222, \"#7201a8\"], [0.3333333333333333, \"#9c179e\"], [0.4444444444444444, \"#bd3786\"], [0.5555555555555556, \"#d8576b\"], [0.6666666666666666, \"#ed7953\"], [0.7777777777777778, \"#fb9f3a\"], [0.8888888888888888, \"#fdca26\"], [1.0, \"#f0f921\"]], \"type\": \"histogram2dcontour\"}], \"mesh3d\": [{\"colorbar\": {\"outlinewidth\": 0, \"ticks\": \"\"}, \"type\": \"mesh3d\"}], \"parcoords\": [{\"line\": {\"colorbar\": {\"outlinewidth\": 0, \"ticks\": \"\"}}, \"type\": \"parcoords\"}], \"pie\": [{\"automargin\": true, \"type\": \"pie\"}], \"scatter\": [{\"marker\": {\"colorbar\": {\"outlinewidth\": 0, \"ticks\": \"\"}}, \"type\": \"scatter\"}], \"scatter3d\": [{\"line\": {\"colorbar\": {\"outlinewidth\": 0, \"ticks\": \"\"}}, \"marker\": {\"colorbar\": {\"outlinewidth\": 0, \"ticks\": \"\"}}, \"type\": \"scatter3d\"}], \"scattercarpet\": [{\"marker\": {\"colorbar\": {\"outlinewidth\": 0, \"ticks\": \"\"}}, \"type\": \"scattercarpet\"}], \"scattergeo\": [{\"marker\": {\"colorbar\": {\"outlinewidth\": 0, \"ticks\": \"\"}}, \"type\": \"scattergeo\"}], \"scattergl\": [{\"marker\": {\"colorbar\": {\"outlinewidth\": 0, \"ticks\": \"\"}}, \"type\": \"scattergl\"}], \"scattermapbox\": [{\"marker\": {\"colorbar\": {\"outlinewidth\": 0, \"ticks\": \"\"}}, \"type\": \"scattermapbox\"}], \"scatterpolar\": [{\"marker\": {\"colorbar\": {\"outlinewidth\": 0, \"ticks\": \"\"}}, \"type\": \"scatterpolar\"}], \"scatterpolargl\": [{\"marker\": {\"colorbar\": {\"outlinewidth\": 0, \"ticks\": \"\"}}, \"type\": \"scatterpolargl\"}], \"scatterternary\": [{\"marker\": {\"colorbar\": {\"outlinewidth\": 0, \"ticks\": \"\"}}, \"type\": \"scatterternary\"}], \"surface\": [{\"colorbar\": {\"outlinewidth\": 0, \"ticks\": \"\"}, \"colorscale\": [[0.0, \"#0d0887\"], [0.1111111111111111, \"#46039f\"], [0.2222222222222222, \"#7201a8\"], [0.3333333333333333, \"#9c179e\"], [0.4444444444444444, \"#bd3786\"], [0.5555555555555556, \"#d8576b\"], [0.6666666666666666, \"#ed7953\"], [0.7777777777777778, \"#fb9f3a\"], [0.8888888888888888, \"#fdca26\"], [1.0, \"#f0f921\"]], \"type\": \"surface\"}], \"table\": [{\"cells\": {\"fill\": {\"color\": \"#EBF0F8\"}, \"line\": {\"color\": \"white\"}}, \"header\": {\"fill\": {\"color\": \"#C8D4E3\"}, \"line\": {\"color\": \"white\"}}, \"type\": \"table\"}]}, \"layout\": {\"annotationdefaults\": {\"arrowcolor\": \"#2a3f5f\", \"arrowhead\": 0, \"arrowwidth\": 1}, \"coloraxis\": {\"colorbar\": {\"outlinewidth\": 0, \"ticks\": \"\"}}, \"colorscale\": {\"diverging\": [[0, \"#8e0152\"], [0.1, \"#c51b7d\"], [0.2, \"#de77ae\"], [0.3, \"#f1b6da\"], [0.4, \"#fde0ef\"], [0.5, \"#f7f7f7\"], [0.6, \"#e6f5d0\"], [0.7, \"#b8e186\"], [0.8, \"#7fbc41\"], [0.9, \"#4d9221\"], [1, \"#276419\"]], \"sequential\": [[0.0, \"#0d0887\"], [0.1111111111111111, \"#46039f\"], [0.2222222222222222, \"#7201a8\"], [0.3333333333333333, \"#9c179e\"], [0.4444444444444444, \"#bd3786\"], [0.5555555555555556, \"#d8576b\"], [0.6666666666666666, \"#ed7953\"], [0.7777777777777778, \"#fb9f3a\"], [0.8888888888888888, \"#fdca26\"], [1.0, \"#f0f921\"]], \"sequentialminus\": [[0.0, \"#0d0887\"], [0.1111111111111111, \"#46039f\"], [0.2222222222222222, \"#7201a8\"], [0.3333333333333333, \"#9c179e\"], [0.4444444444444444, \"#bd3786\"], [0.5555555555555556, \"#d8576b\"], [0.6666666666666666, \"#ed7953\"], [0.7777777777777778, \"#fb9f3a\"], [0.8888888888888888, \"#fdca26\"], [1.0, \"#f0f921\"]]}, \"colorway\": [\"#636efa\", \"#EF553B\", \"#00cc96\", \"#ab63fa\", \"#FFA15A\", \"#19d3f3\", \"#FF6692\", \"#B6E880\", \"#FF97FF\", \"#FECB52\"], \"font\": {\"color\": \"#2a3f5f\"}, \"geo\": {\"bgcolor\": \"white\", \"lakecolor\": \"white\", \"landcolor\": \"#E5ECF6\", \"showlakes\": true, \"showland\": true, \"subunitcolor\": \"white\"}, \"hoverlabel\": {\"align\": \"left\"}, \"hovermode\": \"closest\", \"mapbox\": {\"style\": \"light\"}, \"paper_bgcolor\": \"white\", \"plot_bgcolor\": \"#E5ECF6\", \"polar\": {\"angularaxis\": {\"gridcolor\": \"white\", \"linecolor\": \"white\", \"ticks\": \"\"}, \"bgcolor\": \"#E5ECF6\", \"radialaxis\": {\"gridcolor\": \"white\", \"linecolor\": \"white\", \"ticks\": \"\"}}, \"scene\": {\"xaxis\": {\"backgroundcolor\": \"#E5ECF6\", \"gridcolor\": \"white\", \"gridwidth\": 2, \"linecolor\": \"white\", \"showbackground\": true, \"ticks\": \"\", \"zerolinecolor\": \"white\"}, \"yaxis\": {\"backgroundcolor\": \"#E5ECF6\", \"gridcolor\": \"white\", \"gridwidth\": 2, \"linecolor\": \"white\", \"showbackground\": true, \"ticks\": \"\", \"zerolinecolor\": \"white\"}, \"zaxis\": {\"backgroundcolor\": \"#E5ECF6\", \"gridcolor\": \"white\", \"gridwidth\": 2, \"linecolor\": \"white\", \"showbackground\": true, \"ticks\": \"\", \"zerolinecolor\": \"white\"}}, \"shapedefaults\": {\"line\": {\"color\": \"#2a3f5f\"}}, \"ternary\": {\"aaxis\": {\"gridcolor\": \"white\", \"linecolor\": \"white\", \"ticks\": \"\"}, \"baxis\": {\"gridcolor\": \"white\", \"linecolor\": \"white\", \"ticks\": \"\"}, \"bgcolor\": \"#E5ECF6\", \"caxis\": {\"gridcolor\": \"white\", \"linecolor\": \"white\", \"ticks\": \"\"}}, \"title\": {\"x\": 0.05}, \"xaxis\": {\"automargin\": true, \"gridcolor\": \"white\", \"linecolor\": \"white\", \"ticks\": \"\", \"title\": {\"standoff\": 15}, \"zerolinecolor\": \"white\", \"zerolinewidth\": 2}, \"yaxis\": {\"automargin\": true, \"gridcolor\": \"white\", \"linecolor\": \"white\", \"ticks\": \"\", \"title\": {\"standoff\": 15}, \"zerolinecolor\": \"white\", \"zerolinewidth\": 2}}}},\n",
       "                        {\"responsive\": true}\n",
       "                    ).then(function(){\n",
       "                            \n",
       "var gd = document.getElementById('9e6a32e8-a90d-426a-89bc-a9dbd95f8d11');\n",
       "var x = new MutationObserver(function (mutations, observer) {{\n",
       "        var display = window.getComputedStyle(gd).display;\n",
       "        if (!display || display === 'none') {{\n",
       "            console.log([gd, 'removed!']);\n",
       "            Plotly.purge(gd);\n",
       "            observer.disconnect();\n",
       "        }}\n",
       "}});\n",
       "\n",
       "// Listen for the removal of the full notebook cells\n",
       "var notebookContainer = gd.closest('#notebook-container');\n",
       "if (notebookContainer) {{\n",
       "    x.observe(notebookContainer, {childList: true});\n",
       "}}\n",
       "\n",
       "// Listen for the clearing of the current output cell\n",
       "var outputEl = gd.closest('.output');\n",
       "if (outputEl) {{\n",
       "    x.observe(outputEl, {childList: true});\n",
       "}}\n",
       "\n",
       "                        })\n",
       "                };\n",
       "                });\n",
       "            </script>\n",
       "        </div>"
      ]
     },
     "metadata": {},
     "output_type": "display_data"
    }
   ],
   "source": [
    "trace3 = go.Indicator(\n",
    "    mode = \"number+delta\",\n",
    "    value = dfConfirmedUSStates.loc['Washington'][-1],\n",
    "    delta = {'reference': dfConfirmedUSStates.loc['Washington'][-2], \n",
    "             'increasing':{'color':'red'},\n",
    "             'decreasing':{'color':'green'}},\n",
    "    title = {'text': \"WA Confirmed Cases\"},\n",
    "    domain = {'x': [0, 0.5], 'y': [0.6, 1]})\n",
    "\n",
    "trace4 = go.Indicator(\n",
    "    mode = \"number+delta\",\n",
    "    value = dfConfirmedUSCounties[dfConfirmedUSCounties.FIPS == 53033].iloc[0][-1],\n",
    "    delta = {'reference': dfConfirmedUSCounties[dfConfirmedUSCounties.FIPS == 53033].iloc[0][-2], \n",
    "             'increasing':{'color':'red'},\n",
    "             'decreasing':{'color':'green'}},\n",
    "    title = {'text': \"King County Confirmed Cases\"},\n",
    "    domain = {'x': [0.5, 1], 'y': [0.6, 1]})\n",
    "\n",
    "trace7 = go.Indicator(\n",
    "    mode = \"number+delta\",\n",
    "    value = dfDeathsUSStates.loc['Washington'][-1],\n",
    "    delta = {'reference': dfDeathsUSStates.loc['Washington'][-2], \n",
    "             'increasing':{'color':'red'},\n",
    "             'decreasing':{'color':'green'}},\n",
    "    title = {'text': \"WA Deaths\"},\n",
    "    domain = {'x': [0, 0.5], 'y': [0, 0.4]})\n",
    "\n",
    "trace8 = go.Indicator(\n",
    "    mode = \"number+delta\",\n",
    "    value = dfDeathsUSCounties[dfDeathsUSCounties.FIPS == 53033].iloc[0][-1],\n",
    "    delta = {'reference': dfDeathsUSCounties[dfDeathsUSCounties.FIPS == 53033].iloc[0][-2], \n",
    "             'increasing':{'color':'red'},\n",
    "             'decreasing':{'color':'green'}},\n",
    "    title = {'text': \"King County Deaths\"},\n",
    "    domain = {'x': [0.5, 1], 'y': [0, 0.4]})\n",
    "\n",
    "\n",
    "data = [trace3, trace4, trace7, trace8]\n",
    "py.iplot(dict(data=data))"
   ]
  },
  {
   "cell_type": "markdown",
   "metadata": {},
   "source": [
    "# Washington State - Aggregate Data"
   ]
  },
  {
   "cell_type": "code",
   "execution_count": 8,
   "metadata": {
    "ExecuteTime": {
     "end_time": "2020-04-05T17:54:48.243509Z",
     "start_time": "2020-04-05T17:54:46.190067Z"
    },
    "extensions": {
     "jupyter_dashboards": {
      "version": 1,
      "views": {
       "grid_default": {
        "col": 0,
        "height": 26,
        "hidden": false,
        "row": 0,
        "width": null
       },
       "report_default": {
        "hidden": false
       }
      }
     }
    }
   },
   "outputs": [
    {
     "data": {
      "application/vnd.plotly.v1+json": {
       "config": {
        "linkText": "Export to plot.ly",
        "plotlyServerURL": "https://plot.ly",
        "showLink": false
       },
       "data": [
        {
         "name": "Confirmed Cases",
         "type": "scatter",
         "x": [
          "3/16/20",
          "3/17/20",
          "3/18/20",
          "3/19/20",
          "3/20/20",
          "3/21/20",
          "3/22/20",
          "3/23/20",
          "3/24/20",
          "3/25/20",
          "3/26/20",
          "3/27/20",
          "3/28/20",
          "3/29/20",
          "3/30/20",
          "3/31/20",
          "4/1/20",
          "4/2/20",
          "4/3/20",
          "4/4/20"
         ],
         "y": [
          779,
          955,
          1022,
          1374,
          1524,
          1793,
          1997,
          2221,
          2328,
          2591,
          3207,
          3477,
          4030,
          4465,
          4923,
          5432,
          5608,
          6389,
          6846,
          7247
         ]
        },
        {
         "name": "Deaths",
         "type": "scatter",
         "x": [
          "3/16/20",
          "3/17/20",
          "3/18/20",
          "3/19/20",
          "3/20/20",
          "3/21/20",
          "3/22/20",
          "3/23/20",
          "3/24/20",
          "3/25/20",
          "3/26/20",
          "3/27/20",
          "3/28/20",
          "3/29/20",
          "3/30/20",
          "3/31/20",
          "4/1/20",
          "4/2/20",
          "4/3/20",
          "4/4/20"
         ],
         "y": [
          48,
          55,
          67,
          73,
          83,
          94,
          97,
          109,
          116,
          133,
          150,
          157,
          188,
          198,
          205,
          225,
          234,
          271,
          291,
          315
         ]
        }
       ],
       "layout": {
        "template": {
         "data": {
          "bar": [
           {
            "error_x": {
             "color": "#2a3f5f"
            },
            "error_y": {
             "color": "#2a3f5f"
            },
            "marker": {
             "line": {
              "color": "#E5ECF6",
              "width": 0.5
             }
            },
            "type": "bar"
           }
          ],
          "barpolar": [
           {
            "marker": {
             "line": {
              "color": "#E5ECF6",
              "width": 0.5
             }
            },
            "type": "barpolar"
           }
          ],
          "carpet": [
           {
            "aaxis": {
             "endlinecolor": "#2a3f5f",
             "gridcolor": "white",
             "linecolor": "white",
             "minorgridcolor": "white",
             "startlinecolor": "#2a3f5f"
            },
            "baxis": {
             "endlinecolor": "#2a3f5f",
             "gridcolor": "white",
             "linecolor": "white",
             "minorgridcolor": "white",
             "startlinecolor": "#2a3f5f"
            },
            "type": "carpet"
           }
          ],
          "choropleth": [
           {
            "colorbar": {
             "outlinewidth": 0,
             "ticks": ""
            },
            "type": "choropleth"
           }
          ],
          "contour": [
           {
            "colorbar": {
             "outlinewidth": 0,
             "ticks": ""
            },
            "colorscale": [
             [
              0,
              "#0d0887"
             ],
             [
              0.1111111111111111,
              "#46039f"
             ],
             [
              0.2222222222222222,
              "#7201a8"
             ],
             [
              0.3333333333333333,
              "#9c179e"
             ],
             [
              0.4444444444444444,
              "#bd3786"
             ],
             [
              0.5555555555555556,
              "#d8576b"
             ],
             [
              0.6666666666666666,
              "#ed7953"
             ],
             [
              0.7777777777777778,
              "#fb9f3a"
             ],
             [
              0.8888888888888888,
              "#fdca26"
             ],
             [
              1,
              "#f0f921"
             ]
            ],
            "type": "contour"
           }
          ],
          "contourcarpet": [
           {
            "colorbar": {
             "outlinewidth": 0,
             "ticks": ""
            },
            "type": "contourcarpet"
           }
          ],
          "heatmap": [
           {
            "colorbar": {
             "outlinewidth": 0,
             "ticks": ""
            },
            "colorscale": [
             [
              0,
              "#0d0887"
             ],
             [
              0.1111111111111111,
              "#46039f"
             ],
             [
              0.2222222222222222,
              "#7201a8"
             ],
             [
              0.3333333333333333,
              "#9c179e"
             ],
             [
              0.4444444444444444,
              "#bd3786"
             ],
             [
              0.5555555555555556,
              "#d8576b"
             ],
             [
              0.6666666666666666,
              "#ed7953"
             ],
             [
              0.7777777777777778,
              "#fb9f3a"
             ],
             [
              0.8888888888888888,
              "#fdca26"
             ],
             [
              1,
              "#f0f921"
             ]
            ],
            "type": "heatmap"
           }
          ],
          "heatmapgl": [
           {
            "colorbar": {
             "outlinewidth": 0,
             "ticks": ""
            },
            "colorscale": [
             [
              0,
              "#0d0887"
             ],
             [
              0.1111111111111111,
              "#46039f"
             ],
             [
              0.2222222222222222,
              "#7201a8"
             ],
             [
              0.3333333333333333,
              "#9c179e"
             ],
             [
              0.4444444444444444,
              "#bd3786"
             ],
             [
              0.5555555555555556,
              "#d8576b"
             ],
             [
              0.6666666666666666,
              "#ed7953"
             ],
             [
              0.7777777777777778,
              "#fb9f3a"
             ],
             [
              0.8888888888888888,
              "#fdca26"
             ],
             [
              1,
              "#f0f921"
             ]
            ],
            "type": "heatmapgl"
           }
          ],
          "histogram": [
           {
            "marker": {
             "colorbar": {
              "outlinewidth": 0,
              "ticks": ""
             }
            },
            "type": "histogram"
           }
          ],
          "histogram2d": [
           {
            "colorbar": {
             "outlinewidth": 0,
             "ticks": ""
            },
            "colorscale": [
             [
              0,
              "#0d0887"
             ],
             [
              0.1111111111111111,
              "#46039f"
             ],
             [
              0.2222222222222222,
              "#7201a8"
             ],
             [
              0.3333333333333333,
              "#9c179e"
             ],
             [
              0.4444444444444444,
              "#bd3786"
             ],
             [
              0.5555555555555556,
              "#d8576b"
             ],
             [
              0.6666666666666666,
              "#ed7953"
             ],
             [
              0.7777777777777778,
              "#fb9f3a"
             ],
             [
              0.8888888888888888,
              "#fdca26"
             ],
             [
              1,
              "#f0f921"
             ]
            ],
            "type": "histogram2d"
           }
          ],
          "histogram2dcontour": [
           {
            "colorbar": {
             "outlinewidth": 0,
             "ticks": ""
            },
            "colorscale": [
             [
              0,
              "#0d0887"
             ],
             [
              0.1111111111111111,
              "#46039f"
             ],
             [
              0.2222222222222222,
              "#7201a8"
             ],
             [
              0.3333333333333333,
              "#9c179e"
             ],
             [
              0.4444444444444444,
              "#bd3786"
             ],
             [
              0.5555555555555556,
              "#d8576b"
             ],
             [
              0.6666666666666666,
              "#ed7953"
             ],
             [
              0.7777777777777778,
              "#fb9f3a"
             ],
             [
              0.8888888888888888,
              "#fdca26"
             ],
             [
              1,
              "#f0f921"
             ]
            ],
            "type": "histogram2dcontour"
           }
          ],
          "mesh3d": [
           {
            "colorbar": {
             "outlinewidth": 0,
             "ticks": ""
            },
            "type": "mesh3d"
           }
          ],
          "parcoords": [
           {
            "line": {
             "colorbar": {
              "outlinewidth": 0,
              "ticks": ""
             }
            },
            "type": "parcoords"
           }
          ],
          "pie": [
           {
            "automargin": true,
            "type": "pie"
           }
          ],
          "scatter": [
           {
            "marker": {
             "colorbar": {
              "outlinewidth": 0,
              "ticks": ""
             }
            },
            "type": "scatter"
           }
          ],
          "scatter3d": [
           {
            "line": {
             "colorbar": {
              "outlinewidth": 0,
              "ticks": ""
             }
            },
            "marker": {
             "colorbar": {
              "outlinewidth": 0,
              "ticks": ""
             }
            },
            "type": "scatter3d"
           }
          ],
          "scattercarpet": [
           {
            "marker": {
             "colorbar": {
              "outlinewidth": 0,
              "ticks": ""
             }
            },
            "type": "scattercarpet"
           }
          ],
          "scattergeo": [
           {
            "marker": {
             "colorbar": {
              "outlinewidth": 0,
              "ticks": ""
             }
            },
            "type": "scattergeo"
           }
          ],
          "scattergl": [
           {
            "marker": {
             "colorbar": {
              "outlinewidth": 0,
              "ticks": ""
             }
            },
            "type": "scattergl"
           }
          ],
          "scattermapbox": [
           {
            "marker": {
             "colorbar": {
              "outlinewidth": 0,
              "ticks": ""
             }
            },
            "type": "scattermapbox"
           }
          ],
          "scatterpolar": [
           {
            "marker": {
             "colorbar": {
              "outlinewidth": 0,
              "ticks": ""
             }
            },
            "type": "scatterpolar"
           }
          ],
          "scatterpolargl": [
           {
            "marker": {
             "colorbar": {
              "outlinewidth": 0,
              "ticks": ""
             }
            },
            "type": "scatterpolargl"
           }
          ],
          "scatterternary": [
           {
            "marker": {
             "colorbar": {
              "outlinewidth": 0,
              "ticks": ""
             }
            },
            "type": "scatterternary"
           }
          ],
          "surface": [
           {
            "colorbar": {
             "outlinewidth": 0,
             "ticks": ""
            },
            "colorscale": [
             [
              0,
              "#0d0887"
             ],
             [
              0.1111111111111111,
              "#46039f"
             ],
             [
              0.2222222222222222,
              "#7201a8"
             ],
             [
              0.3333333333333333,
              "#9c179e"
             ],
             [
              0.4444444444444444,
              "#bd3786"
             ],
             [
              0.5555555555555556,
              "#d8576b"
             ],
             [
              0.6666666666666666,
              "#ed7953"
             ],
             [
              0.7777777777777778,
              "#fb9f3a"
             ],
             [
              0.8888888888888888,
              "#fdca26"
             ],
             [
              1,
              "#f0f921"
             ]
            ],
            "type": "surface"
           }
          ],
          "table": [
           {
            "cells": {
             "fill": {
              "color": "#EBF0F8"
             },
             "line": {
              "color": "white"
             }
            },
            "header": {
             "fill": {
              "color": "#C8D4E3"
             },
             "line": {
              "color": "white"
             }
            },
            "type": "table"
           }
          ]
         },
         "layout": {
          "annotationdefaults": {
           "arrowcolor": "#2a3f5f",
           "arrowhead": 0,
           "arrowwidth": 1
          },
          "coloraxis": {
           "colorbar": {
            "outlinewidth": 0,
            "ticks": ""
           }
          },
          "colorscale": {
           "diverging": [
            [
             0,
             "#8e0152"
            ],
            [
             0.1,
             "#c51b7d"
            ],
            [
             0.2,
             "#de77ae"
            ],
            [
             0.3,
             "#f1b6da"
            ],
            [
             0.4,
             "#fde0ef"
            ],
            [
             0.5,
             "#f7f7f7"
            ],
            [
             0.6,
             "#e6f5d0"
            ],
            [
             0.7,
             "#b8e186"
            ],
            [
             0.8,
             "#7fbc41"
            ],
            [
             0.9,
             "#4d9221"
            ],
            [
             1,
             "#276419"
            ]
           ],
           "sequential": [
            [
             0,
             "#0d0887"
            ],
            [
             0.1111111111111111,
             "#46039f"
            ],
            [
             0.2222222222222222,
             "#7201a8"
            ],
            [
             0.3333333333333333,
             "#9c179e"
            ],
            [
             0.4444444444444444,
             "#bd3786"
            ],
            [
             0.5555555555555556,
             "#d8576b"
            ],
            [
             0.6666666666666666,
             "#ed7953"
            ],
            [
             0.7777777777777778,
             "#fb9f3a"
            ],
            [
             0.8888888888888888,
             "#fdca26"
            ],
            [
             1,
             "#f0f921"
            ]
           ],
           "sequentialminus": [
            [
             0,
             "#0d0887"
            ],
            [
             0.1111111111111111,
             "#46039f"
            ],
            [
             0.2222222222222222,
             "#7201a8"
            ],
            [
             0.3333333333333333,
             "#9c179e"
            ],
            [
             0.4444444444444444,
             "#bd3786"
            ],
            [
             0.5555555555555556,
             "#d8576b"
            ],
            [
             0.6666666666666666,
             "#ed7953"
            ],
            [
             0.7777777777777778,
             "#fb9f3a"
            ],
            [
             0.8888888888888888,
             "#fdca26"
            ],
            [
             1,
             "#f0f921"
            ]
           ]
          },
          "colorway": [
           "#636efa",
           "#EF553B",
           "#00cc96",
           "#ab63fa",
           "#FFA15A",
           "#19d3f3",
           "#FF6692",
           "#B6E880",
           "#FF97FF",
           "#FECB52"
          ],
          "font": {
           "color": "#2a3f5f"
          },
          "geo": {
           "bgcolor": "white",
           "lakecolor": "white",
           "landcolor": "#E5ECF6",
           "showlakes": true,
           "showland": true,
           "subunitcolor": "white"
          },
          "hoverlabel": {
           "align": "left"
          },
          "hovermode": "closest",
          "mapbox": {
           "style": "light"
          },
          "paper_bgcolor": "white",
          "plot_bgcolor": "#E5ECF6",
          "polar": {
           "angularaxis": {
            "gridcolor": "white",
            "linecolor": "white",
            "ticks": ""
           },
           "bgcolor": "#E5ECF6",
           "radialaxis": {
            "gridcolor": "white",
            "linecolor": "white",
            "ticks": ""
           }
          },
          "scene": {
           "xaxis": {
            "backgroundcolor": "#E5ECF6",
            "gridcolor": "white",
            "gridwidth": 2,
            "linecolor": "white",
            "showbackground": true,
            "ticks": "",
            "zerolinecolor": "white"
           },
           "yaxis": {
            "backgroundcolor": "#E5ECF6",
            "gridcolor": "white",
            "gridwidth": 2,
            "linecolor": "white",
            "showbackground": true,
            "ticks": "",
            "zerolinecolor": "white"
           },
           "zaxis": {
            "backgroundcolor": "#E5ECF6",
            "gridcolor": "white",
            "gridwidth": 2,
            "linecolor": "white",
            "showbackground": true,
            "ticks": "",
            "zerolinecolor": "white"
           }
          },
          "shapedefaults": {
           "line": {
            "color": "#2a3f5f"
           }
          },
          "ternary": {
           "aaxis": {
            "gridcolor": "white",
            "linecolor": "white",
            "ticks": ""
           },
           "baxis": {
            "gridcolor": "white",
            "linecolor": "white",
            "ticks": ""
           },
           "bgcolor": "#E5ECF6",
           "caxis": {
            "gridcolor": "white",
            "linecolor": "white",
            "ticks": ""
           }
          },
          "title": {
           "x": 0.05
          },
          "xaxis": {
           "automargin": true,
           "gridcolor": "white",
           "linecolor": "white",
           "ticks": "",
           "title": {
            "standoff": 15
           },
           "zerolinecolor": "white",
           "zerolinewidth": 2
          },
          "yaxis": {
           "automargin": true,
           "gridcolor": "white",
           "linecolor": "white",
           "ticks": "",
           "title": {
            "standoff": 15
           },
           "zerolinecolor": "white",
           "zerolinewidth": 2
          }
         }
        },
        "title": {
         "text": "WA state - Cumulative Cases and Deaths"
        },
        "updatemenus": [
         {
          "active": 0,
          "buttons": [
           {
            "args": [
             {
              "visible": [
               true,
               true
              ]
             },
             {
              "yaxis": {
               "type": "linear"
              }
             }
            ],
            "label": "Linear Scale",
            "method": "update"
           },
           {
            "args": [
             {
              "visible": [
               true,
               true
              ]
             },
             {
              "yaxis": {
               "type": "log"
              }
             }
            ],
            "label": "Logarithmic Scale",
            "method": "update"
           }
          ],
          "direction": "right",
          "type": "buttons",
          "x": 0.45,
          "xanchor": "left",
          "y": 1.1,
          "yanchor": "top"
         }
        ]
       }
      },
      "text/html": [
       "<div>\n",
       "        \n",
       "        \n",
       "            <div id=\"d5c86eb3-4d5e-4043-8e79-9cb127bb0093\" class=\"plotly-graph-div\" style=\"height:525px; width:100%;\"></div>\n",
       "            <script type=\"text/javascript\">\n",
       "                require([\"plotly\"], function(Plotly) {\n",
       "                    window.PLOTLYENV=window.PLOTLYENV || {};\n",
       "                    \n",
       "                if (document.getElementById(\"d5c86eb3-4d5e-4043-8e79-9cb127bb0093\")) {\n",
       "                    Plotly.newPlot(\n",
       "                        'd5c86eb3-4d5e-4043-8e79-9cb127bb0093',\n",
       "                        [{\"name\": \"Confirmed Cases\", \"type\": \"scatter\", \"x\": [\"3/16/20\", \"3/17/20\", \"3/18/20\", \"3/19/20\", \"3/20/20\", \"3/21/20\", \"3/22/20\", \"3/23/20\", \"3/24/20\", \"3/25/20\", \"3/26/20\", \"3/27/20\", \"3/28/20\", \"3/29/20\", \"3/30/20\", \"3/31/20\", \"4/1/20\", \"4/2/20\", \"4/3/20\", \"4/4/20\"], \"y\": [779, 955, 1022, 1374, 1524, 1793, 1997, 2221, 2328, 2591, 3207, 3477, 4030, 4465, 4923, 5432, 5608, 6389, 6846, 7247]}, {\"name\": \"Deaths\", \"type\": \"scatter\", \"x\": [\"3/16/20\", \"3/17/20\", \"3/18/20\", \"3/19/20\", \"3/20/20\", \"3/21/20\", \"3/22/20\", \"3/23/20\", \"3/24/20\", \"3/25/20\", \"3/26/20\", \"3/27/20\", \"3/28/20\", \"3/29/20\", \"3/30/20\", \"3/31/20\", \"4/1/20\", \"4/2/20\", \"4/3/20\", \"4/4/20\"], \"y\": [48, 55, 67, 73, 83, 94, 97, 109, 116, 133, 150, 157, 188, 198, 205, 225, 234, 271, 291, 315]}],\n",
       "                        {\"template\": {\"data\": {\"bar\": [{\"error_x\": {\"color\": \"#2a3f5f\"}, \"error_y\": {\"color\": \"#2a3f5f\"}, \"marker\": {\"line\": {\"color\": \"#E5ECF6\", \"width\": 0.5}}, \"type\": \"bar\"}], \"barpolar\": [{\"marker\": {\"line\": {\"color\": \"#E5ECF6\", \"width\": 0.5}}, \"type\": \"barpolar\"}], \"carpet\": [{\"aaxis\": {\"endlinecolor\": \"#2a3f5f\", \"gridcolor\": \"white\", \"linecolor\": \"white\", \"minorgridcolor\": \"white\", \"startlinecolor\": \"#2a3f5f\"}, \"baxis\": {\"endlinecolor\": \"#2a3f5f\", \"gridcolor\": \"white\", \"linecolor\": \"white\", \"minorgridcolor\": \"white\", \"startlinecolor\": \"#2a3f5f\"}, \"type\": \"carpet\"}], \"choropleth\": [{\"colorbar\": {\"outlinewidth\": 0, \"ticks\": \"\"}, \"type\": \"choropleth\"}], \"contour\": [{\"colorbar\": {\"outlinewidth\": 0, \"ticks\": \"\"}, \"colorscale\": [[0.0, \"#0d0887\"], [0.1111111111111111, \"#46039f\"], [0.2222222222222222, \"#7201a8\"], [0.3333333333333333, \"#9c179e\"], [0.4444444444444444, \"#bd3786\"], [0.5555555555555556, \"#d8576b\"], [0.6666666666666666, \"#ed7953\"], [0.7777777777777778, \"#fb9f3a\"], [0.8888888888888888, \"#fdca26\"], [1.0, \"#f0f921\"]], \"type\": \"contour\"}], \"contourcarpet\": [{\"colorbar\": {\"outlinewidth\": 0, \"ticks\": \"\"}, \"type\": \"contourcarpet\"}], \"heatmap\": [{\"colorbar\": {\"outlinewidth\": 0, \"ticks\": \"\"}, \"colorscale\": [[0.0, \"#0d0887\"], [0.1111111111111111, \"#46039f\"], [0.2222222222222222, \"#7201a8\"], [0.3333333333333333, \"#9c179e\"], [0.4444444444444444, \"#bd3786\"], [0.5555555555555556, \"#d8576b\"], [0.6666666666666666, \"#ed7953\"], [0.7777777777777778, \"#fb9f3a\"], [0.8888888888888888, \"#fdca26\"], [1.0, \"#f0f921\"]], \"type\": \"heatmap\"}], \"heatmapgl\": [{\"colorbar\": {\"outlinewidth\": 0, \"ticks\": \"\"}, \"colorscale\": [[0.0, \"#0d0887\"], [0.1111111111111111, \"#46039f\"], [0.2222222222222222, \"#7201a8\"], [0.3333333333333333, \"#9c179e\"], [0.4444444444444444, \"#bd3786\"], [0.5555555555555556, \"#d8576b\"], [0.6666666666666666, \"#ed7953\"], [0.7777777777777778, \"#fb9f3a\"], [0.8888888888888888, \"#fdca26\"], [1.0, \"#f0f921\"]], \"type\": \"heatmapgl\"}], \"histogram\": [{\"marker\": {\"colorbar\": {\"outlinewidth\": 0, \"ticks\": \"\"}}, \"type\": \"histogram\"}], \"histogram2d\": [{\"colorbar\": {\"outlinewidth\": 0, \"ticks\": \"\"}, \"colorscale\": [[0.0, \"#0d0887\"], [0.1111111111111111, \"#46039f\"], [0.2222222222222222, \"#7201a8\"], [0.3333333333333333, \"#9c179e\"], [0.4444444444444444, \"#bd3786\"], [0.5555555555555556, \"#d8576b\"], [0.6666666666666666, \"#ed7953\"], [0.7777777777777778, \"#fb9f3a\"], [0.8888888888888888, \"#fdca26\"], [1.0, \"#f0f921\"]], \"type\": \"histogram2d\"}], \"histogram2dcontour\": [{\"colorbar\": {\"outlinewidth\": 0, \"ticks\": \"\"}, \"colorscale\": [[0.0, \"#0d0887\"], [0.1111111111111111, \"#46039f\"], [0.2222222222222222, \"#7201a8\"], [0.3333333333333333, \"#9c179e\"], [0.4444444444444444, \"#bd3786\"], [0.5555555555555556, \"#d8576b\"], [0.6666666666666666, \"#ed7953\"], [0.7777777777777778, \"#fb9f3a\"], [0.8888888888888888, \"#fdca26\"], [1.0, \"#f0f921\"]], \"type\": \"histogram2dcontour\"}], \"mesh3d\": [{\"colorbar\": {\"outlinewidth\": 0, \"ticks\": \"\"}, \"type\": \"mesh3d\"}], \"parcoords\": [{\"line\": {\"colorbar\": {\"outlinewidth\": 0, \"ticks\": \"\"}}, \"type\": \"parcoords\"}], \"pie\": [{\"automargin\": true, \"type\": \"pie\"}], \"scatter\": [{\"marker\": {\"colorbar\": {\"outlinewidth\": 0, \"ticks\": \"\"}}, \"type\": \"scatter\"}], \"scatter3d\": [{\"line\": {\"colorbar\": {\"outlinewidth\": 0, \"ticks\": \"\"}}, \"marker\": {\"colorbar\": {\"outlinewidth\": 0, \"ticks\": \"\"}}, \"type\": \"scatter3d\"}], \"scattercarpet\": [{\"marker\": {\"colorbar\": {\"outlinewidth\": 0, \"ticks\": \"\"}}, \"type\": \"scattercarpet\"}], \"scattergeo\": [{\"marker\": {\"colorbar\": {\"outlinewidth\": 0, \"ticks\": \"\"}}, \"type\": \"scattergeo\"}], \"scattergl\": [{\"marker\": {\"colorbar\": {\"outlinewidth\": 0, \"ticks\": \"\"}}, \"type\": \"scattergl\"}], \"scattermapbox\": [{\"marker\": {\"colorbar\": {\"outlinewidth\": 0, \"ticks\": \"\"}}, \"type\": \"scattermapbox\"}], \"scatterpolar\": [{\"marker\": {\"colorbar\": {\"outlinewidth\": 0, \"ticks\": \"\"}}, \"type\": \"scatterpolar\"}], \"scatterpolargl\": [{\"marker\": {\"colorbar\": {\"outlinewidth\": 0, \"ticks\": \"\"}}, \"type\": \"scatterpolargl\"}], \"scatterternary\": [{\"marker\": {\"colorbar\": {\"outlinewidth\": 0, \"ticks\": \"\"}}, \"type\": \"scatterternary\"}], \"surface\": [{\"colorbar\": {\"outlinewidth\": 0, \"ticks\": \"\"}, \"colorscale\": [[0.0, \"#0d0887\"], [0.1111111111111111, \"#46039f\"], [0.2222222222222222, \"#7201a8\"], [0.3333333333333333, \"#9c179e\"], [0.4444444444444444, \"#bd3786\"], [0.5555555555555556, \"#d8576b\"], [0.6666666666666666, \"#ed7953\"], [0.7777777777777778, \"#fb9f3a\"], [0.8888888888888888, \"#fdca26\"], [1.0, \"#f0f921\"]], \"type\": \"surface\"}], \"table\": [{\"cells\": {\"fill\": {\"color\": \"#EBF0F8\"}, \"line\": {\"color\": \"white\"}}, \"header\": {\"fill\": {\"color\": \"#C8D4E3\"}, \"line\": {\"color\": \"white\"}}, \"type\": \"table\"}]}, \"layout\": {\"annotationdefaults\": {\"arrowcolor\": \"#2a3f5f\", \"arrowhead\": 0, \"arrowwidth\": 1}, \"coloraxis\": {\"colorbar\": {\"outlinewidth\": 0, \"ticks\": \"\"}}, \"colorscale\": {\"diverging\": [[0, \"#8e0152\"], [0.1, \"#c51b7d\"], [0.2, \"#de77ae\"], [0.3, \"#f1b6da\"], [0.4, \"#fde0ef\"], [0.5, \"#f7f7f7\"], [0.6, \"#e6f5d0\"], [0.7, \"#b8e186\"], [0.8, \"#7fbc41\"], [0.9, \"#4d9221\"], [1, \"#276419\"]], \"sequential\": [[0.0, \"#0d0887\"], [0.1111111111111111, \"#46039f\"], [0.2222222222222222, \"#7201a8\"], [0.3333333333333333, \"#9c179e\"], [0.4444444444444444, \"#bd3786\"], [0.5555555555555556, \"#d8576b\"], [0.6666666666666666, \"#ed7953\"], [0.7777777777777778, \"#fb9f3a\"], [0.8888888888888888, \"#fdca26\"], [1.0, \"#f0f921\"]], \"sequentialminus\": [[0.0, \"#0d0887\"], [0.1111111111111111, \"#46039f\"], [0.2222222222222222, \"#7201a8\"], [0.3333333333333333, \"#9c179e\"], [0.4444444444444444, \"#bd3786\"], [0.5555555555555556, \"#d8576b\"], [0.6666666666666666, \"#ed7953\"], [0.7777777777777778, \"#fb9f3a\"], [0.8888888888888888, \"#fdca26\"], [1.0, \"#f0f921\"]]}, \"colorway\": [\"#636efa\", \"#EF553B\", \"#00cc96\", \"#ab63fa\", \"#FFA15A\", \"#19d3f3\", \"#FF6692\", \"#B6E880\", \"#FF97FF\", \"#FECB52\"], \"font\": {\"color\": \"#2a3f5f\"}, \"geo\": {\"bgcolor\": \"white\", \"lakecolor\": \"white\", \"landcolor\": \"#E5ECF6\", \"showlakes\": true, \"showland\": true, \"subunitcolor\": \"white\"}, \"hoverlabel\": {\"align\": \"left\"}, \"hovermode\": \"closest\", \"mapbox\": {\"style\": \"light\"}, \"paper_bgcolor\": \"white\", \"plot_bgcolor\": \"#E5ECF6\", \"polar\": {\"angularaxis\": {\"gridcolor\": \"white\", \"linecolor\": \"white\", \"ticks\": \"\"}, \"bgcolor\": \"#E5ECF6\", \"radialaxis\": {\"gridcolor\": \"white\", \"linecolor\": \"white\", \"ticks\": \"\"}}, \"scene\": {\"xaxis\": {\"backgroundcolor\": \"#E5ECF6\", \"gridcolor\": \"white\", \"gridwidth\": 2, \"linecolor\": \"white\", \"showbackground\": true, \"ticks\": \"\", \"zerolinecolor\": \"white\"}, \"yaxis\": {\"backgroundcolor\": \"#E5ECF6\", \"gridcolor\": \"white\", \"gridwidth\": 2, \"linecolor\": \"white\", \"showbackground\": true, \"ticks\": \"\", \"zerolinecolor\": \"white\"}, \"zaxis\": {\"backgroundcolor\": \"#E5ECF6\", \"gridcolor\": \"white\", \"gridwidth\": 2, \"linecolor\": \"white\", \"showbackground\": true, \"ticks\": \"\", \"zerolinecolor\": \"white\"}}, \"shapedefaults\": {\"line\": {\"color\": \"#2a3f5f\"}}, \"ternary\": {\"aaxis\": {\"gridcolor\": \"white\", \"linecolor\": \"white\", \"ticks\": \"\"}, \"baxis\": {\"gridcolor\": \"white\", \"linecolor\": \"white\", \"ticks\": \"\"}, \"bgcolor\": \"#E5ECF6\", \"caxis\": {\"gridcolor\": \"white\", \"linecolor\": \"white\", \"ticks\": \"\"}}, \"title\": {\"x\": 0.05}, \"xaxis\": {\"automargin\": true, \"gridcolor\": \"white\", \"linecolor\": \"white\", \"ticks\": \"\", \"title\": {\"standoff\": 15}, \"zerolinecolor\": \"white\", \"zerolinewidth\": 2}, \"yaxis\": {\"automargin\": true, \"gridcolor\": \"white\", \"linecolor\": \"white\", \"ticks\": \"\", \"title\": {\"standoff\": 15}, \"zerolinecolor\": \"white\", \"zerolinewidth\": 2}}}, \"title\": {\"text\": \"WA state - Cumulative Cases and Deaths\"}, \"updatemenus\": [{\"active\": 0, \"buttons\": [{\"args\": [{\"visible\": [true, true]}, {\"yaxis\": {\"type\": \"linear\"}}], \"label\": \"Linear Scale\", \"method\": \"update\"}, {\"args\": [{\"visible\": [true, true]}, {\"yaxis\": {\"type\": \"log\"}}], \"label\": \"Logarithmic Scale\", \"method\": \"update\"}], \"direction\": \"right\", \"type\": \"buttons\", \"x\": 0.45, \"xanchor\": \"left\", \"y\": 1.1, \"yanchor\": \"top\"}]},\n",
       "                        {\"responsive\": true}\n",
       "                    ).then(function(){\n",
       "                            \n",
       "var gd = document.getElementById('d5c86eb3-4d5e-4043-8e79-9cb127bb0093');\n",
       "var x = new MutationObserver(function (mutations, observer) {{\n",
       "        var display = window.getComputedStyle(gd).display;\n",
       "        if (!display || display === 'none') {{\n",
       "            console.log([gd, 'removed!']);\n",
       "            Plotly.purge(gd);\n",
       "            observer.disconnect();\n",
       "        }}\n",
       "}});\n",
       "\n",
       "// Listen for the removal of the full notebook cells\n",
       "var notebookContainer = gd.closest('#notebook-container');\n",
       "if (notebookContainer) {{\n",
       "    x.observe(notebookContainer, {childList: true});\n",
       "}}\n",
       "\n",
       "// Listen for the clearing of the current output cell\n",
       "var outputEl = gd.closest('.output');\n",
       "if (outputEl) {{\n",
       "    x.observe(outputEl, {childList: true});\n",
       "}}\n",
       "\n",
       "                        })\n",
       "                };\n",
       "                });\n",
       "            </script>\n",
       "        </div>"
      ]
     },
     "metadata": {},
     "output_type": "display_data"
    },
    {
     "data": {
      "text/html": [
       "<style  type=\"text/css\" >\n",
       "</style><table id=\"T_8a7edd8a_7766_11ea_b0d3_c49ded93ade6\" ><thead>    <tr>        <th class=\"blank\" ></th>        <th class=\"blank level0\" ></th>        <th class=\"col_heading level0 col0\" >3/16/20</th>        <th class=\"col_heading level0 col1\" >3/17/20</th>        <th class=\"col_heading level0 col2\" >3/18/20</th>        <th class=\"col_heading level0 col3\" >3/19/20</th>        <th class=\"col_heading level0 col4\" >3/20/20</th>        <th class=\"col_heading level0 col5\" >3/21/20</th>        <th class=\"col_heading level0 col6\" >3/22/20</th>        <th class=\"col_heading level0 col7\" >3/23/20</th>        <th class=\"col_heading level0 col8\" >3/24/20</th>        <th class=\"col_heading level0 col9\" >3/25/20</th>        <th class=\"col_heading level0 col10\" >3/26/20</th>        <th class=\"col_heading level0 col11\" >3/27/20</th>        <th class=\"col_heading level0 col12\" >3/28/20</th>        <th class=\"col_heading level0 col13\" >3/29/20</th>        <th class=\"col_heading level0 col14\" >3/30/20</th>        <th class=\"col_heading level0 col15\" >3/31/20</th>        <th class=\"col_heading level0 col16\" >4/1/20</th>        <th class=\"col_heading level0 col17\" >4/2/20</th>        <th class=\"col_heading level0 col18\" >4/3/20</th>        <th class=\"col_heading level0 col19\" >4/4/20</th>    </tr>    <tr>        <th class=\"index_name level0\" >Province_State</th>        <th class=\"index_name level1\" >Category</th>        <th class=\"blank\" ></th>        <th class=\"blank\" ></th>        <th class=\"blank\" ></th>        <th class=\"blank\" ></th>        <th class=\"blank\" ></th>        <th class=\"blank\" ></th>        <th class=\"blank\" ></th>        <th class=\"blank\" ></th>        <th class=\"blank\" ></th>        <th class=\"blank\" ></th>        <th class=\"blank\" ></th>        <th class=\"blank\" ></th>        <th class=\"blank\" ></th>        <th class=\"blank\" ></th>        <th class=\"blank\" ></th>        <th class=\"blank\" ></th>        <th class=\"blank\" ></th>        <th class=\"blank\" ></th>        <th class=\"blank\" ></th>        <th class=\"blank\" ></th>    </tr></thead><tbody>\n",
       "                <tr>\n",
       "                        <th id=\"T_8a7edd8a_7766_11ea_b0d3_c49ded93ade6level0_row0\" class=\"row_heading level0 row0\" rowspan=2>Washington</th>\n",
       "                        <th id=\"T_8a7edd8a_7766_11ea_b0d3_c49ded93ade6level1_row0\" class=\"row_heading level1 row0\" >Confirmed Cases</th>\n",
       "                        <td id=\"T_8a7edd8a_7766_11ea_b0d3_c49ded93ade6row0_col0\" class=\"data row0 col0\" >779</td>\n",
       "                        <td id=\"T_8a7edd8a_7766_11ea_b0d3_c49ded93ade6row0_col1\" class=\"data row0 col1\" >955</td>\n",
       "                        <td id=\"T_8a7edd8a_7766_11ea_b0d3_c49ded93ade6row0_col2\" class=\"data row0 col2\" >1,022</td>\n",
       "                        <td id=\"T_8a7edd8a_7766_11ea_b0d3_c49ded93ade6row0_col3\" class=\"data row0 col3\" >1,374</td>\n",
       "                        <td id=\"T_8a7edd8a_7766_11ea_b0d3_c49ded93ade6row0_col4\" class=\"data row0 col4\" >1,524</td>\n",
       "                        <td id=\"T_8a7edd8a_7766_11ea_b0d3_c49ded93ade6row0_col5\" class=\"data row0 col5\" >1,793</td>\n",
       "                        <td id=\"T_8a7edd8a_7766_11ea_b0d3_c49ded93ade6row0_col6\" class=\"data row0 col6\" >1,997</td>\n",
       "                        <td id=\"T_8a7edd8a_7766_11ea_b0d3_c49ded93ade6row0_col7\" class=\"data row0 col7\" >2,221</td>\n",
       "                        <td id=\"T_8a7edd8a_7766_11ea_b0d3_c49ded93ade6row0_col8\" class=\"data row0 col8\" >2,328</td>\n",
       "                        <td id=\"T_8a7edd8a_7766_11ea_b0d3_c49ded93ade6row0_col9\" class=\"data row0 col9\" >2,591</td>\n",
       "                        <td id=\"T_8a7edd8a_7766_11ea_b0d3_c49ded93ade6row0_col10\" class=\"data row0 col10\" >3,207</td>\n",
       "                        <td id=\"T_8a7edd8a_7766_11ea_b0d3_c49ded93ade6row0_col11\" class=\"data row0 col11\" >3,477</td>\n",
       "                        <td id=\"T_8a7edd8a_7766_11ea_b0d3_c49ded93ade6row0_col12\" class=\"data row0 col12\" >4,030</td>\n",
       "                        <td id=\"T_8a7edd8a_7766_11ea_b0d3_c49ded93ade6row0_col13\" class=\"data row0 col13\" >4,465</td>\n",
       "                        <td id=\"T_8a7edd8a_7766_11ea_b0d3_c49ded93ade6row0_col14\" class=\"data row0 col14\" >4,923</td>\n",
       "                        <td id=\"T_8a7edd8a_7766_11ea_b0d3_c49ded93ade6row0_col15\" class=\"data row0 col15\" >5,432</td>\n",
       "                        <td id=\"T_8a7edd8a_7766_11ea_b0d3_c49ded93ade6row0_col16\" class=\"data row0 col16\" >5,608</td>\n",
       "                        <td id=\"T_8a7edd8a_7766_11ea_b0d3_c49ded93ade6row0_col17\" class=\"data row0 col17\" >6,389</td>\n",
       "                        <td id=\"T_8a7edd8a_7766_11ea_b0d3_c49ded93ade6row0_col18\" class=\"data row0 col18\" >6,846</td>\n",
       "                        <td id=\"T_8a7edd8a_7766_11ea_b0d3_c49ded93ade6row0_col19\" class=\"data row0 col19\" >7,247</td>\n",
       "            </tr>\n",
       "            <tr>\n",
       "                                <th id=\"T_8a7edd8a_7766_11ea_b0d3_c49ded93ade6level1_row1\" class=\"row_heading level1 row1\" >Deaths</th>\n",
       "                        <td id=\"T_8a7edd8a_7766_11ea_b0d3_c49ded93ade6row1_col0\" class=\"data row1 col0\" >48</td>\n",
       "                        <td id=\"T_8a7edd8a_7766_11ea_b0d3_c49ded93ade6row1_col1\" class=\"data row1 col1\" >55</td>\n",
       "                        <td id=\"T_8a7edd8a_7766_11ea_b0d3_c49ded93ade6row1_col2\" class=\"data row1 col2\" >67</td>\n",
       "                        <td id=\"T_8a7edd8a_7766_11ea_b0d3_c49ded93ade6row1_col3\" class=\"data row1 col3\" >73</td>\n",
       "                        <td id=\"T_8a7edd8a_7766_11ea_b0d3_c49ded93ade6row1_col4\" class=\"data row1 col4\" >83</td>\n",
       "                        <td id=\"T_8a7edd8a_7766_11ea_b0d3_c49ded93ade6row1_col5\" class=\"data row1 col5\" >94</td>\n",
       "                        <td id=\"T_8a7edd8a_7766_11ea_b0d3_c49ded93ade6row1_col6\" class=\"data row1 col6\" >97</td>\n",
       "                        <td id=\"T_8a7edd8a_7766_11ea_b0d3_c49ded93ade6row1_col7\" class=\"data row1 col7\" >109</td>\n",
       "                        <td id=\"T_8a7edd8a_7766_11ea_b0d3_c49ded93ade6row1_col8\" class=\"data row1 col8\" >116</td>\n",
       "                        <td id=\"T_8a7edd8a_7766_11ea_b0d3_c49ded93ade6row1_col9\" class=\"data row1 col9\" >133</td>\n",
       "                        <td id=\"T_8a7edd8a_7766_11ea_b0d3_c49ded93ade6row1_col10\" class=\"data row1 col10\" >150</td>\n",
       "                        <td id=\"T_8a7edd8a_7766_11ea_b0d3_c49ded93ade6row1_col11\" class=\"data row1 col11\" >157</td>\n",
       "                        <td id=\"T_8a7edd8a_7766_11ea_b0d3_c49ded93ade6row1_col12\" class=\"data row1 col12\" >188</td>\n",
       "                        <td id=\"T_8a7edd8a_7766_11ea_b0d3_c49ded93ade6row1_col13\" class=\"data row1 col13\" >198</td>\n",
       "                        <td id=\"T_8a7edd8a_7766_11ea_b0d3_c49ded93ade6row1_col14\" class=\"data row1 col14\" >205</td>\n",
       "                        <td id=\"T_8a7edd8a_7766_11ea_b0d3_c49ded93ade6row1_col15\" class=\"data row1 col15\" >225</td>\n",
       "                        <td id=\"T_8a7edd8a_7766_11ea_b0d3_c49ded93ade6row1_col16\" class=\"data row1 col16\" >234</td>\n",
       "                        <td id=\"T_8a7edd8a_7766_11ea_b0d3_c49ded93ade6row1_col17\" class=\"data row1 col17\" >271</td>\n",
       "                        <td id=\"T_8a7edd8a_7766_11ea_b0d3_c49ded93ade6row1_col18\" class=\"data row1 col18\" >291</td>\n",
       "                        <td id=\"T_8a7edd8a_7766_11ea_b0d3_c49ded93ade6row1_col19\" class=\"data row1 col19\" >315</td>\n",
       "            </tr>\n",
       "    </tbody></table>"
      ],
      "text/plain": [
       "<pandas.io.formats.style.Styler at 0xed14cb0>"
      ]
     },
     "execution_count": 8,
     "metadata": {},
     "output_type": "execute_result"
    }
   ],
   "source": [
    "dfWAConfirmed = dfConfirmedUSStates[dfConfirmedUSStates.index == 'Washington'].copy()\n",
    "dfWADeaths =  dfDeathsUSStates[dfDeathsUSStates.index == 'Washington'].copy()\n",
    "\n",
    "trace1 = go.Scatter(\n",
    "    x = dfWAConfirmed.columns[-DEFAULT_DAYS:],\n",
    "    y = dfWAConfirmed.iloc[0][-DEFAULT_DAYS:], name = 'Confirmed Cases')\n",
    "\n",
    "trace2 = go.Scatter(\n",
    "    x = dfWADeaths.columns[-DEFAULT_DAYS:],\n",
    "    y = dfWADeaths.iloc[0][-DEFAULT_DAYS:], name = 'Deaths')\n",
    "\n",
    "data = [trace1, trace2]\n",
    "layout = dict(title = 'WA state - Cumulative Cases and Deaths', updatemenus=LogLinearScale)\n",
    "\n",
    "py.iplot(dict(data=data, layout=layout))\n",
    "dfWAConfirmed['Category'] = 'Confirmed Cases'\n",
    "dfWAConfirmed = dfWAConfirmed.reset_index().set_index(['Province_State', 'Category'])\n",
    "dfWADeaths['Category'] = 'Deaths'\n",
    "dfWADeaths = dfWADeaths.reset_index().set_index(['Province_State', 'Category'])\n",
    "\n",
    "dfWACombined = pd.concat([dfWAConfirmed, dfWADeaths])\n",
    "dfWACombined[dfWACombined.columns[-DEFAULT_DAYS:]].style.format(IntegerFormatter)"
   ]
  },
  {
   "cell_type": "code",
   "execution_count": 9,
   "metadata": {
    "ExecuteTime": {
     "end_time": "2020-04-05T17:54:48.812492Z",
     "start_time": "2020-04-05T17:54:48.249956Z"
    },
    "extensions": {
     "jupyter_dashboards": {
      "version": 1,
      "views": {
       "grid_default": {
        "col": 9,
        "height": 26,
        "hidden": false,
        "row": 148,
        "width": null
       },
       "report_default": {
        "hidden": false
       }
      }
     }
    }
   },
   "outputs": [
    {
     "data": {
      "application/vnd.plotly.v1+json": {
       "config": {
        "linkText": "Export to plot.ly",
        "plotlyServerURL": "https://plot.ly",
        "showLink": false
       },
       "data": [
        {
         "name": "New Confirmed Cases",
         "type": "bar",
         "x": [
          "3/5/20",
          "3/6/20",
          "3/7/20",
          "3/8/20",
          "3/9/20",
          "3/10/20",
          "3/11/20",
          "3/12/20",
          "3/13/20",
          "3/14/20",
          "3/15/20",
          "3/16/20",
          "3/17/20",
          "3/18/20",
          "3/19/20",
          "3/20/20",
          "3/21/20",
          "3/22/20",
          "3/23/20",
          "3/24/20",
          "3/25/20",
          "3/26/20",
          "3/27/20",
          "3/28/20",
          "3/29/20",
          "3/30/20",
          "3/31/20",
          "4/1/20",
          "4/2/20",
          "4/3/20",
          "4/4/20"
         ],
         "y": [
          31,
          8,
          24,
          20,
          0,
          45,
          115,
          160,
          126,
          74,
          -39,
          176,
          176,
          67,
          352,
          150,
          269,
          204,
          224,
          107,
          263,
          616,
          270,
          553,
          435,
          458,
          509,
          176,
          781,
          457,
          401
         ]
        },
        {
         "name": "New Deaths",
         "type": "bar",
         "x": [
          "3/5/20",
          "3/6/20",
          "3/7/20",
          "3/8/20",
          "3/9/20",
          "3/10/20",
          "3/11/20",
          "3/12/20",
          "3/13/20",
          "3/14/20",
          "3/15/20",
          "3/16/20",
          "3/17/20",
          "3/18/20",
          "3/19/20",
          "3/20/20",
          "3/21/20",
          "3/22/20",
          "3/23/20",
          "3/24/20",
          "3/25/20",
          "3/26/20",
          "3/27/20",
          "3/28/20",
          "3/29/20",
          "3/30/20",
          "3/31/20",
          "4/1/20",
          "4/2/20",
          "4/3/20",
          "4/4/20"
         ],
         "y": [
          1,
          2,
          3,
          2,
          1,
          4,
          1,
          7,
          6,
          2,
          1,
          8,
          7,
          12,
          6,
          10,
          11,
          3,
          12,
          7,
          17,
          17,
          7,
          31,
          10,
          7,
          20,
          9,
          37,
          20,
          24
         ]
        },
        {
         "name": "7-day avg Confirmed Cases",
         "type": "scatter",
         "x": [
          "3/5/20",
          "3/6/20",
          "3/7/20",
          "3/8/20",
          "3/9/20",
          "3/10/20",
          "3/11/20",
          "3/12/20",
          "3/13/20",
          "3/14/20",
          "3/15/20",
          "3/16/20",
          "3/17/20",
          "3/18/20",
          "3/19/20",
          "3/20/20",
          "3/21/20",
          "3/22/20",
          "3/23/20",
          "3/24/20",
          "3/25/20",
          "3/26/20",
          "3/27/20",
          "3/28/20",
          "3/29/20",
          "3/30/20",
          "3/31/20",
          "4/1/20",
          "4/2/20",
          "4/3/20",
          "4/4/20"
         ],
         "y": [
          9.857142857142858,
          11,
          13.571428571428571,
          15.857142857142858,
          14.857142857142858,
          20,
          34.714285714285715,
          53.142857142857146,
          70,
          77.14285714285714,
          68.71428571428571,
          93.85714285714286,
          112.57142857142857,
          105.71428571428571,
          133.14285714285714,
          136.57142857142858,
          164.42857142857142,
          199.14285714285714,
          206,
          196.14285714285714,
          224.14285714285714,
          261.85714285714283,
          279,
          319.57142857142856,
          352.57142857142856,
          386,
          443.42857142857144,
          431,
          454.57142857142856,
          481.2857142857143,
          459.57142857142856
         ]
        },
        {
         "name": "7-day avg Deaths",
         "type": "scatter",
         "x": [
          "3/5/20",
          "3/6/20",
          "3/7/20",
          "3/8/20",
          "3/9/20",
          "3/10/20",
          "3/11/20",
          "3/12/20",
          "3/13/20",
          "3/14/20",
          "3/15/20",
          "3/16/20",
          "3/17/20",
          "3/18/20",
          "3/19/20",
          "3/20/20",
          "3/21/20",
          "3/22/20",
          "3/23/20",
          "3/24/20",
          "3/25/20",
          "3/26/20",
          "3/27/20",
          "3/28/20",
          "3/29/20",
          "3/30/20",
          "3/31/20",
          "4/1/20",
          "4/2/20",
          "4/3/20",
          "4/4/20"
         ],
         "y": [
          1.5714285714285714,
          1.8571428571428572,
          2.142857142857143,
          2.4285714285714284,
          1.8571428571428572,
          2.2857142857142856,
          2,
          2.857142857142857,
          3.4285714285714284,
          3.2857142857142856,
          3.142857142857143,
          4.142857142857143,
          4.571428571428571,
          6.142857142857143,
          6,
          6.571428571428571,
          7.857142857142857,
          8.142857142857142,
          8.714285714285714,
          8.714285714285714,
          9.428571428571429,
          11,
          10.571428571428571,
          13.428571428571429,
          14.428571428571429,
          13.714285714285714,
          15.571428571428571,
          14.428571428571429,
          17.285714285714285,
          19.142857142857142,
          18.142857142857142
         ]
        }
       ],
       "layout": {
        "template": {
         "data": {
          "bar": [
           {
            "error_x": {
             "color": "#2a3f5f"
            },
            "error_y": {
             "color": "#2a3f5f"
            },
            "marker": {
             "line": {
              "color": "#E5ECF6",
              "width": 0.5
             }
            },
            "type": "bar"
           }
          ],
          "barpolar": [
           {
            "marker": {
             "line": {
              "color": "#E5ECF6",
              "width": 0.5
             }
            },
            "type": "barpolar"
           }
          ],
          "carpet": [
           {
            "aaxis": {
             "endlinecolor": "#2a3f5f",
             "gridcolor": "white",
             "linecolor": "white",
             "minorgridcolor": "white",
             "startlinecolor": "#2a3f5f"
            },
            "baxis": {
             "endlinecolor": "#2a3f5f",
             "gridcolor": "white",
             "linecolor": "white",
             "minorgridcolor": "white",
             "startlinecolor": "#2a3f5f"
            },
            "type": "carpet"
           }
          ],
          "choropleth": [
           {
            "colorbar": {
             "outlinewidth": 0,
             "ticks": ""
            },
            "type": "choropleth"
           }
          ],
          "contour": [
           {
            "colorbar": {
             "outlinewidth": 0,
             "ticks": ""
            },
            "colorscale": [
             [
              0,
              "#0d0887"
             ],
             [
              0.1111111111111111,
              "#46039f"
             ],
             [
              0.2222222222222222,
              "#7201a8"
             ],
             [
              0.3333333333333333,
              "#9c179e"
             ],
             [
              0.4444444444444444,
              "#bd3786"
             ],
             [
              0.5555555555555556,
              "#d8576b"
             ],
             [
              0.6666666666666666,
              "#ed7953"
             ],
             [
              0.7777777777777778,
              "#fb9f3a"
             ],
             [
              0.8888888888888888,
              "#fdca26"
             ],
             [
              1,
              "#f0f921"
             ]
            ],
            "type": "contour"
           }
          ],
          "contourcarpet": [
           {
            "colorbar": {
             "outlinewidth": 0,
             "ticks": ""
            },
            "type": "contourcarpet"
           }
          ],
          "heatmap": [
           {
            "colorbar": {
             "outlinewidth": 0,
             "ticks": ""
            },
            "colorscale": [
             [
              0,
              "#0d0887"
             ],
             [
              0.1111111111111111,
              "#46039f"
             ],
             [
              0.2222222222222222,
              "#7201a8"
             ],
             [
              0.3333333333333333,
              "#9c179e"
             ],
             [
              0.4444444444444444,
              "#bd3786"
             ],
             [
              0.5555555555555556,
              "#d8576b"
             ],
             [
              0.6666666666666666,
              "#ed7953"
             ],
             [
              0.7777777777777778,
              "#fb9f3a"
             ],
             [
              0.8888888888888888,
              "#fdca26"
             ],
             [
              1,
              "#f0f921"
             ]
            ],
            "type": "heatmap"
           }
          ],
          "heatmapgl": [
           {
            "colorbar": {
             "outlinewidth": 0,
             "ticks": ""
            },
            "colorscale": [
             [
              0,
              "#0d0887"
             ],
             [
              0.1111111111111111,
              "#46039f"
             ],
             [
              0.2222222222222222,
              "#7201a8"
             ],
             [
              0.3333333333333333,
              "#9c179e"
             ],
             [
              0.4444444444444444,
              "#bd3786"
             ],
             [
              0.5555555555555556,
              "#d8576b"
             ],
             [
              0.6666666666666666,
              "#ed7953"
             ],
             [
              0.7777777777777778,
              "#fb9f3a"
             ],
             [
              0.8888888888888888,
              "#fdca26"
             ],
             [
              1,
              "#f0f921"
             ]
            ],
            "type": "heatmapgl"
           }
          ],
          "histogram": [
           {
            "marker": {
             "colorbar": {
              "outlinewidth": 0,
              "ticks": ""
             }
            },
            "type": "histogram"
           }
          ],
          "histogram2d": [
           {
            "colorbar": {
             "outlinewidth": 0,
             "ticks": ""
            },
            "colorscale": [
             [
              0,
              "#0d0887"
             ],
             [
              0.1111111111111111,
              "#46039f"
             ],
             [
              0.2222222222222222,
              "#7201a8"
             ],
             [
              0.3333333333333333,
              "#9c179e"
             ],
             [
              0.4444444444444444,
              "#bd3786"
             ],
             [
              0.5555555555555556,
              "#d8576b"
             ],
             [
              0.6666666666666666,
              "#ed7953"
             ],
             [
              0.7777777777777778,
              "#fb9f3a"
             ],
             [
              0.8888888888888888,
              "#fdca26"
             ],
             [
              1,
              "#f0f921"
             ]
            ],
            "type": "histogram2d"
           }
          ],
          "histogram2dcontour": [
           {
            "colorbar": {
             "outlinewidth": 0,
             "ticks": ""
            },
            "colorscale": [
             [
              0,
              "#0d0887"
             ],
             [
              0.1111111111111111,
              "#46039f"
             ],
             [
              0.2222222222222222,
              "#7201a8"
             ],
             [
              0.3333333333333333,
              "#9c179e"
             ],
             [
              0.4444444444444444,
              "#bd3786"
             ],
             [
              0.5555555555555556,
              "#d8576b"
             ],
             [
              0.6666666666666666,
              "#ed7953"
             ],
             [
              0.7777777777777778,
              "#fb9f3a"
             ],
             [
              0.8888888888888888,
              "#fdca26"
             ],
             [
              1,
              "#f0f921"
             ]
            ],
            "type": "histogram2dcontour"
           }
          ],
          "mesh3d": [
           {
            "colorbar": {
             "outlinewidth": 0,
             "ticks": ""
            },
            "type": "mesh3d"
           }
          ],
          "parcoords": [
           {
            "line": {
             "colorbar": {
              "outlinewidth": 0,
              "ticks": ""
             }
            },
            "type": "parcoords"
           }
          ],
          "pie": [
           {
            "automargin": true,
            "type": "pie"
           }
          ],
          "scatter": [
           {
            "marker": {
             "colorbar": {
              "outlinewidth": 0,
              "ticks": ""
             }
            },
            "type": "scatter"
           }
          ],
          "scatter3d": [
           {
            "line": {
             "colorbar": {
              "outlinewidth": 0,
              "ticks": ""
             }
            },
            "marker": {
             "colorbar": {
              "outlinewidth": 0,
              "ticks": ""
             }
            },
            "type": "scatter3d"
           }
          ],
          "scattercarpet": [
           {
            "marker": {
             "colorbar": {
              "outlinewidth": 0,
              "ticks": ""
             }
            },
            "type": "scattercarpet"
           }
          ],
          "scattergeo": [
           {
            "marker": {
             "colorbar": {
              "outlinewidth": 0,
              "ticks": ""
             }
            },
            "type": "scattergeo"
           }
          ],
          "scattergl": [
           {
            "marker": {
             "colorbar": {
              "outlinewidth": 0,
              "ticks": ""
             }
            },
            "type": "scattergl"
           }
          ],
          "scattermapbox": [
           {
            "marker": {
             "colorbar": {
              "outlinewidth": 0,
              "ticks": ""
             }
            },
            "type": "scattermapbox"
           }
          ],
          "scatterpolar": [
           {
            "marker": {
             "colorbar": {
              "outlinewidth": 0,
              "ticks": ""
             }
            },
            "type": "scatterpolar"
           }
          ],
          "scatterpolargl": [
           {
            "marker": {
             "colorbar": {
              "outlinewidth": 0,
              "ticks": ""
             }
            },
            "type": "scatterpolargl"
           }
          ],
          "scatterternary": [
           {
            "marker": {
             "colorbar": {
              "outlinewidth": 0,
              "ticks": ""
             }
            },
            "type": "scatterternary"
           }
          ],
          "surface": [
           {
            "colorbar": {
             "outlinewidth": 0,
             "ticks": ""
            },
            "colorscale": [
             [
              0,
              "#0d0887"
             ],
             [
              0.1111111111111111,
              "#46039f"
             ],
             [
              0.2222222222222222,
              "#7201a8"
             ],
             [
              0.3333333333333333,
              "#9c179e"
             ],
             [
              0.4444444444444444,
              "#bd3786"
             ],
             [
              0.5555555555555556,
              "#d8576b"
             ],
             [
              0.6666666666666666,
              "#ed7953"
             ],
             [
              0.7777777777777778,
              "#fb9f3a"
             ],
             [
              0.8888888888888888,
              "#fdca26"
             ],
             [
              1,
              "#f0f921"
             ]
            ],
            "type": "surface"
           }
          ],
          "table": [
           {
            "cells": {
             "fill": {
              "color": "#EBF0F8"
             },
             "line": {
              "color": "white"
             }
            },
            "header": {
             "fill": {
              "color": "#C8D4E3"
             },
             "line": {
              "color": "white"
             }
            },
            "type": "table"
           }
          ]
         },
         "layout": {
          "annotationdefaults": {
           "arrowcolor": "#2a3f5f",
           "arrowhead": 0,
           "arrowwidth": 1
          },
          "coloraxis": {
           "colorbar": {
            "outlinewidth": 0,
            "ticks": ""
           }
          },
          "colorscale": {
           "diverging": [
            [
             0,
             "#8e0152"
            ],
            [
             0.1,
             "#c51b7d"
            ],
            [
             0.2,
             "#de77ae"
            ],
            [
             0.3,
             "#f1b6da"
            ],
            [
             0.4,
             "#fde0ef"
            ],
            [
             0.5,
             "#f7f7f7"
            ],
            [
             0.6,
             "#e6f5d0"
            ],
            [
             0.7,
             "#b8e186"
            ],
            [
             0.8,
             "#7fbc41"
            ],
            [
             0.9,
             "#4d9221"
            ],
            [
             1,
             "#276419"
            ]
           ],
           "sequential": [
            [
             0,
             "#0d0887"
            ],
            [
             0.1111111111111111,
             "#46039f"
            ],
            [
             0.2222222222222222,
             "#7201a8"
            ],
            [
             0.3333333333333333,
             "#9c179e"
            ],
            [
             0.4444444444444444,
             "#bd3786"
            ],
            [
             0.5555555555555556,
             "#d8576b"
            ],
            [
             0.6666666666666666,
             "#ed7953"
            ],
            [
             0.7777777777777778,
             "#fb9f3a"
            ],
            [
             0.8888888888888888,
             "#fdca26"
            ],
            [
             1,
             "#f0f921"
            ]
           ],
           "sequentialminus": [
            [
             0,
             "#0d0887"
            ],
            [
             0.1111111111111111,
             "#46039f"
            ],
            [
             0.2222222222222222,
             "#7201a8"
            ],
            [
             0.3333333333333333,
             "#9c179e"
            ],
            [
             0.4444444444444444,
             "#bd3786"
            ],
            [
             0.5555555555555556,
             "#d8576b"
            ],
            [
             0.6666666666666666,
             "#ed7953"
            ],
            [
             0.7777777777777778,
             "#fb9f3a"
            ],
            [
             0.8888888888888888,
             "#fdca26"
            ],
            [
             1,
             "#f0f921"
            ]
           ]
          },
          "colorway": [
           "#636efa",
           "#EF553B",
           "#00cc96",
           "#ab63fa",
           "#FFA15A",
           "#19d3f3",
           "#FF6692",
           "#B6E880",
           "#FF97FF",
           "#FECB52"
          ],
          "font": {
           "color": "#2a3f5f"
          },
          "geo": {
           "bgcolor": "white",
           "lakecolor": "white",
           "landcolor": "#E5ECF6",
           "showlakes": true,
           "showland": true,
           "subunitcolor": "white"
          },
          "hoverlabel": {
           "align": "left"
          },
          "hovermode": "closest",
          "mapbox": {
           "style": "light"
          },
          "paper_bgcolor": "white",
          "plot_bgcolor": "#E5ECF6",
          "polar": {
           "angularaxis": {
            "gridcolor": "white",
            "linecolor": "white",
            "ticks": ""
           },
           "bgcolor": "#E5ECF6",
           "radialaxis": {
            "gridcolor": "white",
            "linecolor": "white",
            "ticks": ""
           }
          },
          "scene": {
           "xaxis": {
            "backgroundcolor": "#E5ECF6",
            "gridcolor": "white",
            "gridwidth": 2,
            "linecolor": "white",
            "showbackground": true,
            "ticks": "",
            "zerolinecolor": "white"
           },
           "yaxis": {
            "backgroundcolor": "#E5ECF6",
            "gridcolor": "white",
            "gridwidth": 2,
            "linecolor": "white",
            "showbackground": true,
            "ticks": "",
            "zerolinecolor": "white"
           },
           "zaxis": {
            "backgroundcolor": "#E5ECF6",
            "gridcolor": "white",
            "gridwidth": 2,
            "linecolor": "white",
            "showbackground": true,
            "ticks": "",
            "zerolinecolor": "white"
           }
          },
          "shapedefaults": {
           "line": {
            "color": "#2a3f5f"
           }
          },
          "ternary": {
           "aaxis": {
            "gridcolor": "white",
            "linecolor": "white",
            "ticks": ""
           },
           "baxis": {
            "gridcolor": "white",
            "linecolor": "white",
            "ticks": ""
           },
           "bgcolor": "#E5ECF6",
           "caxis": {
            "gridcolor": "white",
            "linecolor": "white",
            "ticks": ""
           }
          },
          "title": {
           "x": 0.05
          },
          "xaxis": {
           "automargin": true,
           "gridcolor": "white",
           "linecolor": "white",
           "ticks": "",
           "title": {
            "standoff": 15
           },
           "zerolinecolor": "white",
           "zerolinewidth": 2
          },
          "yaxis": {
           "automargin": true,
           "gridcolor": "white",
           "linecolor": "white",
           "ticks": "",
           "title": {
            "standoff": 15
           },
           "zerolinecolor": "white",
           "zerolinewidth": 2
          }
         }
        },
        "title": {
         "text": "WA state - Daily New Cases and Deaths"
        }
       }
      },
      "text/html": [
       "<div>\n",
       "        \n",
       "        \n",
       "            <div id=\"be014dbd-3286-4797-ad88-6b0616ed2bbe\" class=\"plotly-graph-div\" style=\"height:525px; width:100%;\"></div>\n",
       "            <script type=\"text/javascript\">\n",
       "                require([\"plotly\"], function(Plotly) {\n",
       "                    window.PLOTLYENV=window.PLOTLYENV || {};\n",
       "                    \n",
       "                if (document.getElementById(\"be014dbd-3286-4797-ad88-6b0616ed2bbe\")) {\n",
       "                    Plotly.newPlot(\n",
       "                        'be014dbd-3286-4797-ad88-6b0616ed2bbe',\n",
       "                        [{\"name\": \"New Confirmed Cases\", \"type\": \"bar\", \"x\": [\"3/5/20\", \"3/6/20\", \"3/7/20\", \"3/8/20\", \"3/9/20\", \"3/10/20\", \"3/11/20\", \"3/12/20\", \"3/13/20\", \"3/14/20\", \"3/15/20\", \"3/16/20\", \"3/17/20\", \"3/18/20\", \"3/19/20\", \"3/20/20\", \"3/21/20\", \"3/22/20\", \"3/23/20\", \"3/24/20\", \"3/25/20\", \"3/26/20\", \"3/27/20\", \"3/28/20\", \"3/29/20\", \"3/30/20\", \"3/31/20\", \"4/1/20\", \"4/2/20\", \"4/3/20\", \"4/4/20\"], \"y\": [31.0, 8.0, 24.0, 20.0, 0.0, 45.0, 115.0, 160.0, 126.0, 74.0, -39.0, 176.0, 176.0, 67.0, 352.0, 150.0, 269.0, 204.0, 224.0, 107.0, 263.0, 616.0, 270.0, 553.0, 435.0, 458.0, 509.0, 176.0, 781.0, 457.0, 401.0]}, {\"name\": \"New Deaths\", \"type\": \"bar\", \"x\": [\"3/5/20\", \"3/6/20\", \"3/7/20\", \"3/8/20\", \"3/9/20\", \"3/10/20\", \"3/11/20\", \"3/12/20\", \"3/13/20\", \"3/14/20\", \"3/15/20\", \"3/16/20\", \"3/17/20\", \"3/18/20\", \"3/19/20\", \"3/20/20\", \"3/21/20\", \"3/22/20\", \"3/23/20\", \"3/24/20\", \"3/25/20\", \"3/26/20\", \"3/27/20\", \"3/28/20\", \"3/29/20\", \"3/30/20\", \"3/31/20\", \"4/1/20\", \"4/2/20\", \"4/3/20\", \"4/4/20\"], \"y\": [1.0, 2.0, 3.0, 2.0, 1.0, 4.0, 1.0, 7.0, 6.0, 2.0, 1.0, 8.0, 7.0, 12.0, 6.0, 10.0, 11.0, 3.0, 12.0, 7.0, 17.0, 17.0, 7.0, 31.0, 10.0, 7.0, 20.0, 9.0, 37.0, 20.0, 24.0]}, {\"name\": \"7-day avg Confirmed Cases\", \"type\": \"scatter\", \"x\": [\"3/5/20\", \"3/6/20\", \"3/7/20\", \"3/8/20\", \"3/9/20\", \"3/10/20\", \"3/11/20\", \"3/12/20\", \"3/13/20\", \"3/14/20\", \"3/15/20\", \"3/16/20\", \"3/17/20\", \"3/18/20\", \"3/19/20\", \"3/20/20\", \"3/21/20\", \"3/22/20\", \"3/23/20\", \"3/24/20\", \"3/25/20\", \"3/26/20\", \"3/27/20\", \"3/28/20\", \"3/29/20\", \"3/30/20\", \"3/31/20\", \"4/1/20\", \"4/2/20\", \"4/3/20\", \"4/4/20\"], \"y\": [9.857142857142858, 11.0, 13.571428571428571, 15.857142857142858, 14.857142857142858, 20.0, 34.714285714285715, 53.142857142857146, 70.0, 77.14285714285714, 68.71428571428571, 93.85714285714286, 112.57142857142857, 105.71428571428571, 133.14285714285714, 136.57142857142858, 164.42857142857142, 199.14285714285714, 206.0, 196.14285714285714, 224.14285714285714, 261.85714285714283, 279.0, 319.57142857142856, 352.57142857142856, 386.0, 443.42857142857144, 431.0, 454.57142857142856, 481.2857142857143, 459.57142857142856]}, {\"name\": \"7-day avg Deaths\", \"type\": \"scatter\", \"x\": [\"3/5/20\", \"3/6/20\", \"3/7/20\", \"3/8/20\", \"3/9/20\", \"3/10/20\", \"3/11/20\", \"3/12/20\", \"3/13/20\", \"3/14/20\", \"3/15/20\", \"3/16/20\", \"3/17/20\", \"3/18/20\", \"3/19/20\", \"3/20/20\", \"3/21/20\", \"3/22/20\", \"3/23/20\", \"3/24/20\", \"3/25/20\", \"3/26/20\", \"3/27/20\", \"3/28/20\", \"3/29/20\", \"3/30/20\", \"3/31/20\", \"4/1/20\", \"4/2/20\", \"4/3/20\", \"4/4/20\"], \"y\": [1.5714285714285714, 1.8571428571428572, 2.142857142857143, 2.4285714285714284, 1.8571428571428572, 2.2857142857142856, 2.0, 2.857142857142857, 3.4285714285714284, 3.2857142857142856, 3.142857142857143, 4.142857142857143, 4.571428571428571, 6.142857142857143, 6.0, 6.571428571428571, 7.857142857142857, 8.142857142857142, 8.714285714285714, 8.714285714285714, 9.428571428571429, 11.0, 10.571428571428571, 13.428571428571429, 14.428571428571429, 13.714285714285714, 15.571428571428571, 14.428571428571429, 17.285714285714285, 19.142857142857142, 18.142857142857142]}],\n",
       "                        {\"template\": {\"data\": {\"bar\": [{\"error_x\": {\"color\": \"#2a3f5f\"}, \"error_y\": {\"color\": \"#2a3f5f\"}, \"marker\": {\"line\": {\"color\": \"#E5ECF6\", \"width\": 0.5}}, \"type\": \"bar\"}], \"barpolar\": [{\"marker\": {\"line\": {\"color\": \"#E5ECF6\", \"width\": 0.5}}, \"type\": \"barpolar\"}], \"carpet\": [{\"aaxis\": {\"endlinecolor\": \"#2a3f5f\", \"gridcolor\": \"white\", \"linecolor\": \"white\", \"minorgridcolor\": \"white\", \"startlinecolor\": \"#2a3f5f\"}, \"baxis\": {\"endlinecolor\": \"#2a3f5f\", \"gridcolor\": \"white\", \"linecolor\": \"white\", \"minorgridcolor\": \"white\", \"startlinecolor\": \"#2a3f5f\"}, \"type\": \"carpet\"}], \"choropleth\": [{\"colorbar\": {\"outlinewidth\": 0, \"ticks\": \"\"}, \"type\": \"choropleth\"}], \"contour\": [{\"colorbar\": {\"outlinewidth\": 0, \"ticks\": \"\"}, \"colorscale\": [[0.0, \"#0d0887\"], [0.1111111111111111, \"#46039f\"], [0.2222222222222222, \"#7201a8\"], [0.3333333333333333, \"#9c179e\"], [0.4444444444444444, \"#bd3786\"], [0.5555555555555556, \"#d8576b\"], [0.6666666666666666, \"#ed7953\"], [0.7777777777777778, \"#fb9f3a\"], [0.8888888888888888, \"#fdca26\"], [1.0, \"#f0f921\"]], \"type\": \"contour\"}], \"contourcarpet\": [{\"colorbar\": {\"outlinewidth\": 0, \"ticks\": \"\"}, \"type\": \"contourcarpet\"}], \"heatmap\": [{\"colorbar\": {\"outlinewidth\": 0, \"ticks\": \"\"}, \"colorscale\": [[0.0, \"#0d0887\"], [0.1111111111111111, \"#46039f\"], [0.2222222222222222, \"#7201a8\"], [0.3333333333333333, \"#9c179e\"], [0.4444444444444444, \"#bd3786\"], [0.5555555555555556, \"#d8576b\"], [0.6666666666666666, \"#ed7953\"], [0.7777777777777778, \"#fb9f3a\"], [0.8888888888888888, \"#fdca26\"], [1.0, \"#f0f921\"]], \"type\": \"heatmap\"}], \"heatmapgl\": [{\"colorbar\": {\"outlinewidth\": 0, \"ticks\": \"\"}, \"colorscale\": [[0.0, \"#0d0887\"], [0.1111111111111111, \"#46039f\"], [0.2222222222222222, \"#7201a8\"], [0.3333333333333333, \"#9c179e\"], [0.4444444444444444, \"#bd3786\"], [0.5555555555555556, \"#d8576b\"], [0.6666666666666666, \"#ed7953\"], [0.7777777777777778, \"#fb9f3a\"], [0.8888888888888888, \"#fdca26\"], [1.0, \"#f0f921\"]], \"type\": \"heatmapgl\"}], \"histogram\": [{\"marker\": {\"colorbar\": {\"outlinewidth\": 0, \"ticks\": \"\"}}, \"type\": \"histogram\"}], \"histogram2d\": [{\"colorbar\": {\"outlinewidth\": 0, \"ticks\": \"\"}, \"colorscale\": [[0.0, \"#0d0887\"], [0.1111111111111111, \"#46039f\"], [0.2222222222222222, \"#7201a8\"], [0.3333333333333333, \"#9c179e\"], [0.4444444444444444, \"#bd3786\"], [0.5555555555555556, \"#d8576b\"], [0.6666666666666666, \"#ed7953\"], [0.7777777777777778, \"#fb9f3a\"], [0.8888888888888888, \"#fdca26\"], [1.0, \"#f0f921\"]], \"type\": \"histogram2d\"}], \"histogram2dcontour\": [{\"colorbar\": {\"outlinewidth\": 0, \"ticks\": \"\"}, \"colorscale\": [[0.0, \"#0d0887\"], [0.1111111111111111, \"#46039f\"], [0.2222222222222222, \"#7201a8\"], [0.3333333333333333, \"#9c179e\"], [0.4444444444444444, \"#bd3786\"], [0.5555555555555556, \"#d8576b\"], [0.6666666666666666, \"#ed7953\"], [0.7777777777777778, \"#fb9f3a\"], [0.8888888888888888, \"#fdca26\"], [1.0, \"#f0f921\"]], \"type\": \"histogram2dcontour\"}], \"mesh3d\": [{\"colorbar\": {\"outlinewidth\": 0, \"ticks\": \"\"}, \"type\": \"mesh3d\"}], \"parcoords\": [{\"line\": {\"colorbar\": {\"outlinewidth\": 0, \"ticks\": \"\"}}, \"type\": \"parcoords\"}], \"pie\": [{\"automargin\": true, \"type\": \"pie\"}], \"scatter\": [{\"marker\": {\"colorbar\": {\"outlinewidth\": 0, \"ticks\": \"\"}}, \"type\": \"scatter\"}], \"scatter3d\": [{\"line\": {\"colorbar\": {\"outlinewidth\": 0, \"ticks\": \"\"}}, \"marker\": {\"colorbar\": {\"outlinewidth\": 0, \"ticks\": \"\"}}, \"type\": \"scatter3d\"}], \"scattercarpet\": [{\"marker\": {\"colorbar\": {\"outlinewidth\": 0, \"ticks\": \"\"}}, \"type\": \"scattercarpet\"}], \"scattergeo\": [{\"marker\": {\"colorbar\": {\"outlinewidth\": 0, \"ticks\": \"\"}}, \"type\": \"scattergeo\"}], \"scattergl\": [{\"marker\": {\"colorbar\": {\"outlinewidth\": 0, \"ticks\": \"\"}}, \"type\": \"scattergl\"}], \"scattermapbox\": [{\"marker\": {\"colorbar\": {\"outlinewidth\": 0, \"ticks\": \"\"}}, \"type\": \"scattermapbox\"}], \"scatterpolar\": [{\"marker\": {\"colorbar\": {\"outlinewidth\": 0, \"ticks\": \"\"}}, \"type\": \"scatterpolar\"}], \"scatterpolargl\": [{\"marker\": {\"colorbar\": {\"outlinewidth\": 0, \"ticks\": \"\"}}, \"type\": \"scatterpolargl\"}], \"scatterternary\": [{\"marker\": {\"colorbar\": {\"outlinewidth\": 0, \"ticks\": \"\"}}, \"type\": \"scatterternary\"}], \"surface\": [{\"colorbar\": {\"outlinewidth\": 0, \"ticks\": \"\"}, \"colorscale\": [[0.0, \"#0d0887\"], [0.1111111111111111, \"#46039f\"], [0.2222222222222222, \"#7201a8\"], [0.3333333333333333, \"#9c179e\"], [0.4444444444444444, \"#bd3786\"], [0.5555555555555556, \"#d8576b\"], [0.6666666666666666, \"#ed7953\"], [0.7777777777777778, \"#fb9f3a\"], [0.8888888888888888, \"#fdca26\"], [1.0, \"#f0f921\"]], \"type\": \"surface\"}], \"table\": [{\"cells\": {\"fill\": {\"color\": \"#EBF0F8\"}, \"line\": {\"color\": \"white\"}}, \"header\": {\"fill\": {\"color\": \"#C8D4E3\"}, \"line\": {\"color\": \"white\"}}, \"type\": \"table\"}]}, \"layout\": {\"annotationdefaults\": {\"arrowcolor\": \"#2a3f5f\", \"arrowhead\": 0, \"arrowwidth\": 1}, \"coloraxis\": {\"colorbar\": {\"outlinewidth\": 0, \"ticks\": \"\"}}, \"colorscale\": {\"diverging\": [[0, \"#8e0152\"], [0.1, \"#c51b7d\"], [0.2, \"#de77ae\"], [0.3, \"#f1b6da\"], [0.4, \"#fde0ef\"], [0.5, \"#f7f7f7\"], [0.6, \"#e6f5d0\"], [0.7, \"#b8e186\"], [0.8, \"#7fbc41\"], [0.9, \"#4d9221\"], [1, \"#276419\"]], \"sequential\": [[0.0, \"#0d0887\"], [0.1111111111111111, \"#46039f\"], [0.2222222222222222, \"#7201a8\"], [0.3333333333333333, \"#9c179e\"], [0.4444444444444444, \"#bd3786\"], [0.5555555555555556, \"#d8576b\"], [0.6666666666666666, \"#ed7953\"], [0.7777777777777778, \"#fb9f3a\"], [0.8888888888888888, \"#fdca26\"], [1.0, \"#f0f921\"]], \"sequentialminus\": [[0.0, \"#0d0887\"], [0.1111111111111111, \"#46039f\"], [0.2222222222222222, \"#7201a8\"], [0.3333333333333333, \"#9c179e\"], [0.4444444444444444, \"#bd3786\"], [0.5555555555555556, \"#d8576b\"], [0.6666666666666666, \"#ed7953\"], [0.7777777777777778, \"#fb9f3a\"], [0.8888888888888888, \"#fdca26\"], [1.0, \"#f0f921\"]]}, \"colorway\": [\"#636efa\", \"#EF553B\", \"#00cc96\", \"#ab63fa\", \"#FFA15A\", \"#19d3f3\", \"#FF6692\", \"#B6E880\", \"#FF97FF\", \"#FECB52\"], \"font\": {\"color\": \"#2a3f5f\"}, \"geo\": {\"bgcolor\": \"white\", \"lakecolor\": \"white\", \"landcolor\": \"#E5ECF6\", \"showlakes\": true, \"showland\": true, \"subunitcolor\": \"white\"}, \"hoverlabel\": {\"align\": \"left\"}, \"hovermode\": \"closest\", \"mapbox\": {\"style\": \"light\"}, \"paper_bgcolor\": \"white\", \"plot_bgcolor\": \"#E5ECF6\", \"polar\": {\"angularaxis\": {\"gridcolor\": \"white\", \"linecolor\": \"white\", \"ticks\": \"\"}, \"bgcolor\": \"#E5ECF6\", \"radialaxis\": {\"gridcolor\": \"white\", \"linecolor\": \"white\", \"ticks\": \"\"}}, \"scene\": {\"xaxis\": {\"backgroundcolor\": \"#E5ECF6\", \"gridcolor\": \"white\", \"gridwidth\": 2, \"linecolor\": \"white\", \"showbackground\": true, \"ticks\": \"\", \"zerolinecolor\": \"white\"}, \"yaxis\": {\"backgroundcolor\": \"#E5ECF6\", \"gridcolor\": \"white\", \"gridwidth\": 2, \"linecolor\": \"white\", \"showbackground\": true, \"ticks\": \"\", \"zerolinecolor\": \"white\"}, \"zaxis\": {\"backgroundcolor\": \"#E5ECF6\", \"gridcolor\": \"white\", \"gridwidth\": 2, \"linecolor\": \"white\", \"showbackground\": true, \"ticks\": \"\", \"zerolinecolor\": \"white\"}}, \"shapedefaults\": {\"line\": {\"color\": \"#2a3f5f\"}}, \"ternary\": {\"aaxis\": {\"gridcolor\": \"white\", \"linecolor\": \"white\", \"ticks\": \"\"}, \"baxis\": {\"gridcolor\": \"white\", \"linecolor\": \"white\", \"ticks\": \"\"}, \"bgcolor\": \"#E5ECF6\", \"caxis\": {\"gridcolor\": \"white\", \"linecolor\": \"white\", \"ticks\": \"\"}}, \"title\": {\"x\": 0.05}, \"xaxis\": {\"automargin\": true, \"gridcolor\": \"white\", \"linecolor\": \"white\", \"ticks\": \"\", \"title\": {\"standoff\": 15}, \"zerolinecolor\": \"white\", \"zerolinewidth\": 2}, \"yaxis\": {\"automargin\": true, \"gridcolor\": \"white\", \"linecolor\": \"white\", \"ticks\": \"\", \"title\": {\"standoff\": 15}, \"zerolinecolor\": \"white\", \"zerolinewidth\": 2}}}, \"title\": {\"text\": \"WA state - Daily New Cases and Deaths\"}},\n",
       "                        {\"responsive\": true}\n",
       "                    ).then(function(){\n",
       "                            \n",
       "var gd = document.getElementById('be014dbd-3286-4797-ad88-6b0616ed2bbe');\n",
       "var x = new MutationObserver(function (mutations, observer) {{\n",
       "        var display = window.getComputedStyle(gd).display;\n",
       "        if (!display || display === 'none') {{\n",
       "            console.log([gd, 'removed!']);\n",
       "            Plotly.purge(gd);\n",
       "            observer.disconnect();\n",
       "        }}\n",
       "}});\n",
       "\n",
       "// Listen for the removal of the full notebook cells\n",
       "var notebookContainer = gd.closest('#notebook-container');\n",
       "if (notebookContainer) {{\n",
       "    x.observe(notebookContainer, {childList: true});\n",
       "}}\n",
       "\n",
       "// Listen for the clearing of the current output cell\n",
       "var outputEl = gd.closest('.output');\n",
       "if (outputEl) {{\n",
       "    x.observe(outputEl, {childList: true});\n",
       "}}\n",
       "\n",
       "                        })\n",
       "                };\n",
       "                });\n",
       "            </script>\n",
       "        </div>"
      ]
     },
     "metadata": {},
     "output_type": "display_data"
    }
   ],
   "source": [
    "dfWAConfirmedDailyNew = dfWAConfirmed.diff(axis=1)\n",
    "dfWADeathsDailyNew = dfWADeaths.diff(axis=1)\n",
    "\n",
    "dfWAConfirmed7dayMA = dfWAConfirmedDailyNew.rolling(window=7, axis=1).mean()\n",
    "dfWADeaths7dayMA = dfWADeathsDailyNew.rolling(window=7, axis=1).mean()\n",
    "\n",
    "trace1 = go.Bar(\n",
    "    x = dfWAConfirmedDailyNew.columns[-MONTH_DAYS:],\n",
    "    y = dfWAConfirmedDailyNew.iloc[0][-MONTH_DAYS:], name = 'New Confirmed Cases')\n",
    "\n",
    "trace2 = go.Bar(\n",
    "    x = dfWADeathsDailyNew.columns[-MONTH_DAYS:],\n",
    "    y = dfWADeathsDailyNew.iloc[0][-MONTH_DAYS:], name = 'New Deaths')\n",
    "\n",
    "trace3 = go.Scatter(\n",
    "    x = dfWAConfirmed7dayMA.columns[-MONTH_DAYS:],\n",
    "    y = dfWAConfirmed7dayMA.iloc[0][-MONTH_DAYS:], name = '7-day avg Confirmed Cases')\n",
    "\n",
    "trace4 = go.Scatter(\n",
    "    x = dfWADeaths7dayMA.columns[-MONTH_DAYS:],\n",
    "    y = dfWADeaths7dayMA.iloc[0][-MONTH_DAYS:], name = '7-day avg Deaths')\n",
    "\n",
    "data = [trace1, trace2, trace3, trace4]\n",
    "layout = dict(title = 'WA state - Daily New Cases and Deaths')\n",
    "\n",
    "py.iplot(dict(data=data, layout=layout))"
   ]
  },
  {
   "cell_type": "markdown",
   "metadata": {},
   "source": [
    "# Washington State County by County Data"
   ]
  },
  {
   "cell_type": "code",
   "execution_count": 10,
   "metadata": {
    "ExecuteTime": {
     "end_time": "2020-04-05T17:54:49.681363Z",
     "start_time": "2020-04-05T17:54:48.817755Z"
    },
    "extensions": {
     "jupyter_dashboards": {
      "version": 1,
      "views": {
       "grid_default": {},
       "report_default": {
        "hidden": false
       }
      }
     }
    },
    "scrolled": false
   },
   "outputs": [
    {
     "data": {
      "application/vnd.plotly.v1+json": {
       "config": {
        "linkText": "Export to plot.ly",
        "plotlyServerURL": "https://plot.ly",
        "showLink": false
       },
       "data": [
        {
         "name": "King",
         "type": "scatter",
         "x": [
          "3/16/20",
          "3/17/20",
          "3/18/20",
          "3/19/20",
          "3/20/20",
          "3/21/20",
          "3/22/20",
          "3/23/20",
          "3/24/20",
          "3/25/20",
          "3/26/20",
          "3/27/20",
          "3/28/20",
          "3/29/20",
          "3/30/20",
          "3/31/20",
          "4/1/20",
          "4/2/20",
          "4/3/20",
          "4/4/20"
         ],
         "y": [
          488,
          569,
          562,
          693,
          793,
          934,
          1040,
          1170,
          1170,
          1359,
          1577,
          1577,
          2077,
          2159,
          2161,
          2330,
          2330,
          2656,
          2787,
          2898
         ]
        },
        {
         "name": "Snohomish",
         "type": "scatter",
         "x": [
          "3/16/20",
          "3/17/20",
          "3/18/20",
          "3/19/20",
          "3/20/20",
          "3/21/20",
          "3/22/20",
          "3/23/20",
          "3/24/20",
          "3/25/20",
          "3/26/20",
          "3/27/20",
          "3/28/20",
          "3/29/20",
          "3/30/20",
          "3/31/20",
          "4/1/20",
          "4/2/20",
          "4/3/20",
          "4/4/20"
         ],
         "y": [
          200,
          266,
          310,
          348,
          385,
          447,
          480,
          519,
          614,
          634,
          778,
          912,
          913,
          912,
          1068,
          1229,
          1304,
          1376,
          1376,
          1503
         ]
        },
        {
         "name": "Pierce",
         "type": "scatter",
         "x": [
          "3/16/20",
          "3/17/20",
          "3/18/20",
          "3/19/20",
          "3/20/20",
          "3/21/20",
          "3/22/20",
          "3/23/20",
          "3/24/20",
          "3/25/20",
          "3/26/20",
          "3/27/20",
          "3/28/20",
          "3/29/20",
          "3/30/20",
          "3/31/20",
          "4/1/20",
          "4/2/20",
          "4/3/20",
          "4/4/20"
         ],
         "y": [
          38,
          45,
          56,
          75,
          83,
          95,
          107,
          126,
          138,
          155,
          186,
          231,
          231,
          317,
          317,
          377,
          377,
          498,
          571,
          620
         ]
        },
        {
         "name": "Unassigned",
         "type": "scatter",
         "x": [
          "3/16/20",
          "3/17/20",
          "3/18/20",
          "3/19/20",
          "3/20/20",
          "3/21/20",
          "3/22/20",
          "3/23/20",
          "3/24/20",
          "3/25/20",
          "3/26/20",
          "3/27/20",
          "3/28/20",
          "3/29/20",
          "3/30/20",
          "3/31/20",
          "4/1/20",
          "4/2/20",
          "4/3/20",
          "4/4/20"
         ],
         "y": [
          0,
          0,
          0,
          151,
          130,
          146,
          164,
          145,
          112,
          51,
          69,
          67,
          0,
          125,
          274,
          274,
          303,
          344,
          501,
          483
         ]
        },
        {
         "name": "Yakima",
         "type": "scatter",
         "x": [
          "3/16/20",
          "3/17/20",
          "3/18/20",
          "3/19/20",
          "3/20/20",
          "3/21/20",
          "3/22/20",
          "3/23/20",
          "3/24/20",
          "3/25/20",
          "3/26/20",
          "3/27/20",
          "3/28/20",
          "3/29/20",
          "3/30/20",
          "3/31/20",
          "4/1/20",
          "4/2/20",
          "4/3/20",
          "4/4/20"
         ],
         "y": [
          4,
          5,
          7,
          7,
          10,
          13,
          16,
          16,
          25,
          47,
          61,
          66,
          82,
          140,
          147,
          161,
          161,
          224,
          240,
          289
         ]
        },
        {
         "name": "Spokane",
         "type": "scatter",
         "x": [
          "3/16/20",
          "3/17/20",
          "3/18/20",
          "3/19/20",
          "3/20/20",
          "3/21/20",
          "3/22/20",
          "3/23/20",
          "3/24/20",
          "3/25/20",
          "3/26/20",
          "3/27/20",
          "3/28/20",
          "3/29/20",
          "3/30/20",
          "3/31/20",
          "4/1/20",
          "4/2/20",
          "4/3/20",
          "4/4/20"
         ],
         "y": [
          3,
          4,
          5,
          9,
          11,
          16,
          20,
          20,
          29,
          33,
          67,
          83,
          108,
          108,
          136,
          136,
          158,
          182,
          194,
          209
         ]
        },
        {
         "name": "Whatcom",
         "type": "scatter",
         "x": [
          "3/16/20",
          "3/17/20",
          "3/18/20",
          "3/19/20",
          "3/20/20",
          "3/21/20",
          "3/22/20",
          "3/23/20",
          "3/24/20",
          "3/25/20",
          "3/26/20",
          "3/27/20",
          "3/28/20",
          "3/29/20",
          "3/30/20",
          "3/31/20",
          "4/1/20",
          "4/2/20",
          "4/3/20",
          "4/4/20"
         ],
         "y": [
          3,
          6,
          7,
          7,
          10,
          14,
          14,
          48,
          48,
          64,
          86,
          92,
          102,
          116,
          116,
          139,
          139,
          175,
          182,
          199
         ]
        },
        {
         "name": "Skagit",
         "type": "scatter",
         "x": [
          "3/16/20",
          "3/17/20",
          "3/18/20",
          "3/19/20",
          "3/20/20",
          "3/21/20",
          "3/22/20",
          "3/23/20",
          "3/24/20",
          "3/25/20",
          "3/26/20",
          "3/27/20",
          "3/28/20",
          "3/29/20",
          "3/30/20",
          "3/31/20",
          "4/1/20",
          "4/2/20",
          "4/3/20",
          "4/4/20"
         ],
         "y": [
          7,
          9,
          14,
          18,
          25,
          28,
          33,
          33,
          45,
          48,
          78,
          78,
          91,
          99,
          101,
          121,
          128,
          143,
          153,
          161
         ]
        },
        {
         "name": "Benton",
         "type": "scatter",
         "x": [
          "3/16/20",
          "3/17/20",
          "3/18/20",
          "3/19/20",
          "3/20/20",
          "3/21/20",
          "3/22/20",
          "3/23/20",
          "3/24/20",
          "3/25/20",
          "3/26/20",
          "3/27/20",
          "3/28/20",
          "3/29/20",
          "3/30/20",
          "3/31/20",
          "4/1/20",
          "4/2/20",
          "4/3/20",
          "4/4/20"
         ],
         "y": [
          0,
          0,
          0,
          0,
          3,
          7,
          7,
          9,
          9,
          12,
          19,
          42,
          42,
          56,
          102,
          89,
          108,
          130,
          136,
          151
         ]
        },
        {
         "name": "Clark",
         "type": "scatter",
         "x": [
          "3/16/20",
          "3/17/20",
          "3/18/20",
          "3/19/20",
          "3/20/20",
          "3/21/20",
          "3/22/20",
          "3/23/20",
          "3/24/20",
          "3/25/20",
          "3/26/20",
          "3/27/20",
          "3/28/20",
          "3/29/20",
          "3/30/20",
          "3/31/20",
          "4/1/20",
          "4/2/20",
          "4/3/20",
          "4/4/20"
         ],
         "y": [
          4,
          4,
          4,
          4,
          6,
          9,
          10,
          13,
          13,
          16,
          48,
          76,
          82,
          90,
          90,
          116,
          130,
          131,
          137,
          137
         ]
        }
       ],
       "layout": {
        "template": {
         "data": {
          "bar": [
           {
            "error_x": {
             "color": "#2a3f5f"
            },
            "error_y": {
             "color": "#2a3f5f"
            },
            "marker": {
             "line": {
              "color": "#E5ECF6",
              "width": 0.5
             }
            },
            "type": "bar"
           }
          ],
          "barpolar": [
           {
            "marker": {
             "line": {
              "color": "#E5ECF6",
              "width": 0.5
             }
            },
            "type": "barpolar"
           }
          ],
          "carpet": [
           {
            "aaxis": {
             "endlinecolor": "#2a3f5f",
             "gridcolor": "white",
             "linecolor": "white",
             "minorgridcolor": "white",
             "startlinecolor": "#2a3f5f"
            },
            "baxis": {
             "endlinecolor": "#2a3f5f",
             "gridcolor": "white",
             "linecolor": "white",
             "minorgridcolor": "white",
             "startlinecolor": "#2a3f5f"
            },
            "type": "carpet"
           }
          ],
          "choropleth": [
           {
            "colorbar": {
             "outlinewidth": 0,
             "ticks": ""
            },
            "type": "choropleth"
           }
          ],
          "contour": [
           {
            "colorbar": {
             "outlinewidth": 0,
             "ticks": ""
            },
            "colorscale": [
             [
              0,
              "#0d0887"
             ],
             [
              0.1111111111111111,
              "#46039f"
             ],
             [
              0.2222222222222222,
              "#7201a8"
             ],
             [
              0.3333333333333333,
              "#9c179e"
             ],
             [
              0.4444444444444444,
              "#bd3786"
             ],
             [
              0.5555555555555556,
              "#d8576b"
             ],
             [
              0.6666666666666666,
              "#ed7953"
             ],
             [
              0.7777777777777778,
              "#fb9f3a"
             ],
             [
              0.8888888888888888,
              "#fdca26"
             ],
             [
              1,
              "#f0f921"
             ]
            ],
            "type": "contour"
           }
          ],
          "contourcarpet": [
           {
            "colorbar": {
             "outlinewidth": 0,
             "ticks": ""
            },
            "type": "contourcarpet"
           }
          ],
          "heatmap": [
           {
            "colorbar": {
             "outlinewidth": 0,
             "ticks": ""
            },
            "colorscale": [
             [
              0,
              "#0d0887"
             ],
             [
              0.1111111111111111,
              "#46039f"
             ],
             [
              0.2222222222222222,
              "#7201a8"
             ],
             [
              0.3333333333333333,
              "#9c179e"
             ],
             [
              0.4444444444444444,
              "#bd3786"
             ],
             [
              0.5555555555555556,
              "#d8576b"
             ],
             [
              0.6666666666666666,
              "#ed7953"
             ],
             [
              0.7777777777777778,
              "#fb9f3a"
             ],
             [
              0.8888888888888888,
              "#fdca26"
             ],
             [
              1,
              "#f0f921"
             ]
            ],
            "type": "heatmap"
           }
          ],
          "heatmapgl": [
           {
            "colorbar": {
             "outlinewidth": 0,
             "ticks": ""
            },
            "colorscale": [
             [
              0,
              "#0d0887"
             ],
             [
              0.1111111111111111,
              "#46039f"
             ],
             [
              0.2222222222222222,
              "#7201a8"
             ],
             [
              0.3333333333333333,
              "#9c179e"
             ],
             [
              0.4444444444444444,
              "#bd3786"
             ],
             [
              0.5555555555555556,
              "#d8576b"
             ],
             [
              0.6666666666666666,
              "#ed7953"
             ],
             [
              0.7777777777777778,
              "#fb9f3a"
             ],
             [
              0.8888888888888888,
              "#fdca26"
             ],
             [
              1,
              "#f0f921"
             ]
            ],
            "type": "heatmapgl"
           }
          ],
          "histogram": [
           {
            "marker": {
             "colorbar": {
              "outlinewidth": 0,
              "ticks": ""
             }
            },
            "type": "histogram"
           }
          ],
          "histogram2d": [
           {
            "colorbar": {
             "outlinewidth": 0,
             "ticks": ""
            },
            "colorscale": [
             [
              0,
              "#0d0887"
             ],
             [
              0.1111111111111111,
              "#46039f"
             ],
             [
              0.2222222222222222,
              "#7201a8"
             ],
             [
              0.3333333333333333,
              "#9c179e"
             ],
             [
              0.4444444444444444,
              "#bd3786"
             ],
             [
              0.5555555555555556,
              "#d8576b"
             ],
             [
              0.6666666666666666,
              "#ed7953"
             ],
             [
              0.7777777777777778,
              "#fb9f3a"
             ],
             [
              0.8888888888888888,
              "#fdca26"
             ],
             [
              1,
              "#f0f921"
             ]
            ],
            "type": "histogram2d"
           }
          ],
          "histogram2dcontour": [
           {
            "colorbar": {
             "outlinewidth": 0,
             "ticks": ""
            },
            "colorscale": [
             [
              0,
              "#0d0887"
             ],
             [
              0.1111111111111111,
              "#46039f"
             ],
             [
              0.2222222222222222,
              "#7201a8"
             ],
             [
              0.3333333333333333,
              "#9c179e"
             ],
             [
              0.4444444444444444,
              "#bd3786"
             ],
             [
              0.5555555555555556,
              "#d8576b"
             ],
             [
              0.6666666666666666,
              "#ed7953"
             ],
             [
              0.7777777777777778,
              "#fb9f3a"
             ],
             [
              0.8888888888888888,
              "#fdca26"
             ],
             [
              1,
              "#f0f921"
             ]
            ],
            "type": "histogram2dcontour"
           }
          ],
          "mesh3d": [
           {
            "colorbar": {
             "outlinewidth": 0,
             "ticks": ""
            },
            "type": "mesh3d"
           }
          ],
          "parcoords": [
           {
            "line": {
             "colorbar": {
              "outlinewidth": 0,
              "ticks": ""
             }
            },
            "type": "parcoords"
           }
          ],
          "pie": [
           {
            "automargin": true,
            "type": "pie"
           }
          ],
          "scatter": [
           {
            "marker": {
             "colorbar": {
              "outlinewidth": 0,
              "ticks": ""
             }
            },
            "type": "scatter"
           }
          ],
          "scatter3d": [
           {
            "line": {
             "colorbar": {
              "outlinewidth": 0,
              "ticks": ""
             }
            },
            "marker": {
             "colorbar": {
              "outlinewidth": 0,
              "ticks": ""
             }
            },
            "type": "scatter3d"
           }
          ],
          "scattercarpet": [
           {
            "marker": {
             "colorbar": {
              "outlinewidth": 0,
              "ticks": ""
             }
            },
            "type": "scattercarpet"
           }
          ],
          "scattergeo": [
           {
            "marker": {
             "colorbar": {
              "outlinewidth": 0,
              "ticks": ""
             }
            },
            "type": "scattergeo"
           }
          ],
          "scattergl": [
           {
            "marker": {
             "colorbar": {
              "outlinewidth": 0,
              "ticks": ""
             }
            },
            "type": "scattergl"
           }
          ],
          "scattermapbox": [
           {
            "marker": {
             "colorbar": {
              "outlinewidth": 0,
              "ticks": ""
             }
            },
            "type": "scattermapbox"
           }
          ],
          "scatterpolar": [
           {
            "marker": {
             "colorbar": {
              "outlinewidth": 0,
              "ticks": ""
             }
            },
            "type": "scatterpolar"
           }
          ],
          "scatterpolargl": [
           {
            "marker": {
             "colorbar": {
              "outlinewidth": 0,
              "ticks": ""
             }
            },
            "type": "scatterpolargl"
           }
          ],
          "scatterternary": [
           {
            "marker": {
             "colorbar": {
              "outlinewidth": 0,
              "ticks": ""
             }
            },
            "type": "scatterternary"
           }
          ],
          "surface": [
           {
            "colorbar": {
             "outlinewidth": 0,
             "ticks": ""
            },
            "colorscale": [
             [
              0,
              "#0d0887"
             ],
             [
              0.1111111111111111,
              "#46039f"
             ],
             [
              0.2222222222222222,
              "#7201a8"
             ],
             [
              0.3333333333333333,
              "#9c179e"
             ],
             [
              0.4444444444444444,
              "#bd3786"
             ],
             [
              0.5555555555555556,
              "#d8576b"
             ],
             [
              0.6666666666666666,
              "#ed7953"
             ],
             [
              0.7777777777777778,
              "#fb9f3a"
             ],
             [
              0.8888888888888888,
              "#fdca26"
             ],
             [
              1,
              "#f0f921"
             ]
            ],
            "type": "surface"
           }
          ],
          "table": [
           {
            "cells": {
             "fill": {
              "color": "#EBF0F8"
             },
             "line": {
              "color": "white"
             }
            },
            "header": {
             "fill": {
              "color": "#C8D4E3"
             },
             "line": {
              "color": "white"
             }
            },
            "type": "table"
           }
          ]
         },
         "layout": {
          "annotationdefaults": {
           "arrowcolor": "#2a3f5f",
           "arrowhead": 0,
           "arrowwidth": 1
          },
          "coloraxis": {
           "colorbar": {
            "outlinewidth": 0,
            "ticks": ""
           }
          },
          "colorscale": {
           "diverging": [
            [
             0,
             "#8e0152"
            ],
            [
             0.1,
             "#c51b7d"
            ],
            [
             0.2,
             "#de77ae"
            ],
            [
             0.3,
             "#f1b6da"
            ],
            [
             0.4,
             "#fde0ef"
            ],
            [
             0.5,
             "#f7f7f7"
            ],
            [
             0.6,
             "#e6f5d0"
            ],
            [
             0.7,
             "#b8e186"
            ],
            [
             0.8,
             "#7fbc41"
            ],
            [
             0.9,
             "#4d9221"
            ],
            [
             1,
             "#276419"
            ]
           ],
           "sequential": [
            [
             0,
             "#0d0887"
            ],
            [
             0.1111111111111111,
             "#46039f"
            ],
            [
             0.2222222222222222,
             "#7201a8"
            ],
            [
             0.3333333333333333,
             "#9c179e"
            ],
            [
             0.4444444444444444,
             "#bd3786"
            ],
            [
             0.5555555555555556,
             "#d8576b"
            ],
            [
             0.6666666666666666,
             "#ed7953"
            ],
            [
             0.7777777777777778,
             "#fb9f3a"
            ],
            [
             0.8888888888888888,
             "#fdca26"
            ],
            [
             1,
             "#f0f921"
            ]
           ],
           "sequentialminus": [
            [
             0,
             "#0d0887"
            ],
            [
             0.1111111111111111,
             "#46039f"
            ],
            [
             0.2222222222222222,
             "#7201a8"
            ],
            [
             0.3333333333333333,
             "#9c179e"
            ],
            [
             0.4444444444444444,
             "#bd3786"
            ],
            [
             0.5555555555555556,
             "#d8576b"
            ],
            [
             0.6666666666666666,
             "#ed7953"
            ],
            [
             0.7777777777777778,
             "#fb9f3a"
            ],
            [
             0.8888888888888888,
             "#fdca26"
            ],
            [
             1,
             "#f0f921"
            ]
           ]
          },
          "colorway": [
           "#636efa",
           "#EF553B",
           "#00cc96",
           "#ab63fa",
           "#FFA15A",
           "#19d3f3",
           "#FF6692",
           "#B6E880",
           "#FF97FF",
           "#FECB52"
          ],
          "font": {
           "color": "#2a3f5f"
          },
          "geo": {
           "bgcolor": "white",
           "lakecolor": "white",
           "landcolor": "#E5ECF6",
           "showlakes": true,
           "showland": true,
           "subunitcolor": "white"
          },
          "hoverlabel": {
           "align": "left"
          },
          "hovermode": "closest",
          "mapbox": {
           "style": "light"
          },
          "paper_bgcolor": "white",
          "plot_bgcolor": "#E5ECF6",
          "polar": {
           "angularaxis": {
            "gridcolor": "white",
            "linecolor": "white",
            "ticks": ""
           },
           "bgcolor": "#E5ECF6",
           "radialaxis": {
            "gridcolor": "white",
            "linecolor": "white",
            "ticks": ""
           }
          },
          "scene": {
           "xaxis": {
            "backgroundcolor": "#E5ECF6",
            "gridcolor": "white",
            "gridwidth": 2,
            "linecolor": "white",
            "showbackground": true,
            "ticks": "",
            "zerolinecolor": "white"
           },
           "yaxis": {
            "backgroundcolor": "#E5ECF6",
            "gridcolor": "white",
            "gridwidth": 2,
            "linecolor": "white",
            "showbackground": true,
            "ticks": "",
            "zerolinecolor": "white"
           },
           "zaxis": {
            "backgroundcolor": "#E5ECF6",
            "gridcolor": "white",
            "gridwidth": 2,
            "linecolor": "white",
            "showbackground": true,
            "ticks": "",
            "zerolinecolor": "white"
           }
          },
          "shapedefaults": {
           "line": {
            "color": "#2a3f5f"
           }
          },
          "ternary": {
           "aaxis": {
            "gridcolor": "white",
            "linecolor": "white",
            "ticks": ""
           },
           "baxis": {
            "gridcolor": "white",
            "linecolor": "white",
            "ticks": ""
           },
           "bgcolor": "#E5ECF6",
           "caxis": {
            "gridcolor": "white",
            "linecolor": "white",
            "ticks": ""
           }
          },
          "title": {
           "x": 0.05
          },
          "xaxis": {
           "automargin": true,
           "gridcolor": "white",
           "linecolor": "white",
           "ticks": "",
           "title": {
            "standoff": 15
           },
           "zerolinecolor": "white",
           "zerolinewidth": 2
          },
          "yaxis": {
           "automargin": true,
           "gridcolor": "white",
           "linecolor": "white",
           "ticks": "",
           "title": {
            "standoff": 15
           },
           "zerolinecolor": "white",
           "zerolinewidth": 2
          }
         }
        },
        "title": {
         "text": "WA Counties - Cumulative Confirmed Cases"
        },
        "updatemenus": [
         {
          "active": 0,
          "buttons": [
           {
            "args": [
             {
              "visible": [
               true,
               true
              ]
             },
             {
              "yaxis": {
               "type": "linear"
              }
             }
            ],
            "label": "Linear Scale",
            "method": "update"
           },
           {
            "args": [
             {
              "visible": [
               true,
               true
              ]
             },
             {
              "yaxis": {
               "type": "log"
              }
             }
            ],
            "label": "Logarithmic Scale",
            "method": "update"
           }
          ],
          "direction": "right",
          "type": "buttons",
          "x": 0.45,
          "xanchor": "left",
          "y": 1.1,
          "yanchor": "top"
         }
        ]
       }
      },
      "text/html": [
       "<div>\n",
       "        \n",
       "        \n",
       "            <div id=\"4be99831-0b54-481a-8361-896acb80110f\" class=\"plotly-graph-div\" style=\"height:525px; width:100%;\"></div>\n",
       "            <script type=\"text/javascript\">\n",
       "                require([\"plotly\"], function(Plotly) {\n",
       "                    window.PLOTLYENV=window.PLOTLYENV || {};\n",
       "                    \n",
       "                if (document.getElementById(\"4be99831-0b54-481a-8361-896acb80110f\")) {\n",
       "                    Plotly.newPlot(\n",
       "                        '4be99831-0b54-481a-8361-896acb80110f',\n",
       "                        [{\"name\": \"King\", \"type\": \"scatter\", \"x\": [\"3/16/20\", \"3/17/20\", \"3/18/20\", \"3/19/20\", \"3/20/20\", \"3/21/20\", \"3/22/20\", \"3/23/20\", \"3/24/20\", \"3/25/20\", \"3/26/20\", \"3/27/20\", \"3/28/20\", \"3/29/20\", \"3/30/20\", \"3/31/20\", \"4/1/20\", \"4/2/20\", \"4/3/20\", \"4/4/20\"], \"y\": [488, 569, 562, 693, 793, 934, 1040, 1170, 1170, 1359, 1577, 1577, 2077, 2159, 2161, 2330, 2330, 2656, 2787, 2898]}, {\"name\": \"Snohomish\", \"type\": \"scatter\", \"x\": [\"3/16/20\", \"3/17/20\", \"3/18/20\", \"3/19/20\", \"3/20/20\", \"3/21/20\", \"3/22/20\", \"3/23/20\", \"3/24/20\", \"3/25/20\", \"3/26/20\", \"3/27/20\", \"3/28/20\", \"3/29/20\", \"3/30/20\", \"3/31/20\", \"4/1/20\", \"4/2/20\", \"4/3/20\", \"4/4/20\"], \"y\": [200, 266, 310, 348, 385, 447, 480, 519, 614, 634, 778, 912, 913, 912, 1068, 1229, 1304, 1376, 1376, 1503]}, {\"name\": \"Pierce\", \"type\": \"scatter\", \"x\": [\"3/16/20\", \"3/17/20\", \"3/18/20\", \"3/19/20\", \"3/20/20\", \"3/21/20\", \"3/22/20\", \"3/23/20\", \"3/24/20\", \"3/25/20\", \"3/26/20\", \"3/27/20\", \"3/28/20\", \"3/29/20\", \"3/30/20\", \"3/31/20\", \"4/1/20\", \"4/2/20\", \"4/3/20\", \"4/4/20\"], \"y\": [38, 45, 56, 75, 83, 95, 107, 126, 138, 155, 186, 231, 231, 317, 317, 377, 377, 498, 571, 620]}, {\"name\": \"Unassigned\", \"type\": \"scatter\", \"x\": [\"3/16/20\", \"3/17/20\", \"3/18/20\", \"3/19/20\", \"3/20/20\", \"3/21/20\", \"3/22/20\", \"3/23/20\", \"3/24/20\", \"3/25/20\", \"3/26/20\", \"3/27/20\", \"3/28/20\", \"3/29/20\", \"3/30/20\", \"3/31/20\", \"4/1/20\", \"4/2/20\", \"4/3/20\", \"4/4/20\"], \"y\": [0, 0, 0, 151, 130, 146, 164, 145, 112, 51, 69, 67, 0, 125, 274, 274, 303, 344, 501, 483]}, {\"name\": \"Yakima\", \"type\": \"scatter\", \"x\": [\"3/16/20\", \"3/17/20\", \"3/18/20\", \"3/19/20\", \"3/20/20\", \"3/21/20\", \"3/22/20\", \"3/23/20\", \"3/24/20\", \"3/25/20\", \"3/26/20\", \"3/27/20\", \"3/28/20\", \"3/29/20\", \"3/30/20\", \"3/31/20\", \"4/1/20\", \"4/2/20\", \"4/3/20\", \"4/4/20\"], \"y\": [4, 5, 7, 7, 10, 13, 16, 16, 25, 47, 61, 66, 82, 140, 147, 161, 161, 224, 240, 289]}, {\"name\": \"Spokane\", \"type\": \"scatter\", \"x\": [\"3/16/20\", \"3/17/20\", \"3/18/20\", \"3/19/20\", \"3/20/20\", \"3/21/20\", \"3/22/20\", \"3/23/20\", \"3/24/20\", \"3/25/20\", \"3/26/20\", \"3/27/20\", \"3/28/20\", \"3/29/20\", \"3/30/20\", \"3/31/20\", \"4/1/20\", \"4/2/20\", \"4/3/20\", \"4/4/20\"], \"y\": [3, 4, 5, 9, 11, 16, 20, 20, 29, 33, 67, 83, 108, 108, 136, 136, 158, 182, 194, 209]}, {\"name\": \"Whatcom\", \"type\": \"scatter\", \"x\": [\"3/16/20\", \"3/17/20\", \"3/18/20\", \"3/19/20\", \"3/20/20\", \"3/21/20\", \"3/22/20\", \"3/23/20\", \"3/24/20\", \"3/25/20\", \"3/26/20\", \"3/27/20\", \"3/28/20\", \"3/29/20\", \"3/30/20\", \"3/31/20\", \"4/1/20\", \"4/2/20\", \"4/3/20\", \"4/4/20\"], \"y\": [3, 6, 7, 7, 10, 14, 14, 48, 48, 64, 86, 92, 102, 116, 116, 139, 139, 175, 182, 199]}, {\"name\": \"Skagit\", \"type\": \"scatter\", \"x\": [\"3/16/20\", \"3/17/20\", \"3/18/20\", \"3/19/20\", \"3/20/20\", \"3/21/20\", \"3/22/20\", \"3/23/20\", \"3/24/20\", \"3/25/20\", \"3/26/20\", \"3/27/20\", \"3/28/20\", \"3/29/20\", \"3/30/20\", \"3/31/20\", \"4/1/20\", \"4/2/20\", \"4/3/20\", \"4/4/20\"], \"y\": [7, 9, 14, 18, 25, 28, 33, 33, 45, 48, 78, 78, 91, 99, 101, 121, 128, 143, 153, 161]}, {\"name\": \"Benton\", \"type\": \"scatter\", \"x\": [\"3/16/20\", \"3/17/20\", \"3/18/20\", \"3/19/20\", \"3/20/20\", \"3/21/20\", \"3/22/20\", \"3/23/20\", \"3/24/20\", \"3/25/20\", \"3/26/20\", \"3/27/20\", \"3/28/20\", \"3/29/20\", \"3/30/20\", \"3/31/20\", \"4/1/20\", \"4/2/20\", \"4/3/20\", \"4/4/20\"], \"y\": [0, 0, 0, 0, 3, 7, 7, 9, 9, 12, 19, 42, 42, 56, 102, 89, 108, 130, 136, 151]}, {\"name\": \"Clark\", \"type\": \"scatter\", \"x\": [\"3/16/20\", \"3/17/20\", \"3/18/20\", \"3/19/20\", \"3/20/20\", \"3/21/20\", \"3/22/20\", \"3/23/20\", \"3/24/20\", \"3/25/20\", \"3/26/20\", \"3/27/20\", \"3/28/20\", \"3/29/20\", \"3/30/20\", \"3/31/20\", \"4/1/20\", \"4/2/20\", \"4/3/20\", \"4/4/20\"], \"y\": [4, 4, 4, 4, 6, 9, 10, 13, 13, 16, 48, 76, 82, 90, 90, 116, 130, 131, 137, 137]}],\n",
       "                        {\"template\": {\"data\": {\"bar\": [{\"error_x\": {\"color\": \"#2a3f5f\"}, \"error_y\": {\"color\": \"#2a3f5f\"}, \"marker\": {\"line\": {\"color\": \"#E5ECF6\", \"width\": 0.5}}, \"type\": \"bar\"}], \"barpolar\": [{\"marker\": {\"line\": {\"color\": \"#E5ECF6\", \"width\": 0.5}}, \"type\": \"barpolar\"}], \"carpet\": [{\"aaxis\": {\"endlinecolor\": \"#2a3f5f\", \"gridcolor\": \"white\", \"linecolor\": \"white\", \"minorgridcolor\": \"white\", \"startlinecolor\": \"#2a3f5f\"}, \"baxis\": {\"endlinecolor\": \"#2a3f5f\", \"gridcolor\": \"white\", \"linecolor\": \"white\", \"minorgridcolor\": \"white\", \"startlinecolor\": \"#2a3f5f\"}, \"type\": \"carpet\"}], \"choropleth\": [{\"colorbar\": {\"outlinewidth\": 0, \"ticks\": \"\"}, \"type\": \"choropleth\"}], \"contour\": [{\"colorbar\": {\"outlinewidth\": 0, \"ticks\": \"\"}, \"colorscale\": [[0.0, \"#0d0887\"], [0.1111111111111111, \"#46039f\"], [0.2222222222222222, \"#7201a8\"], [0.3333333333333333, \"#9c179e\"], [0.4444444444444444, \"#bd3786\"], [0.5555555555555556, \"#d8576b\"], [0.6666666666666666, \"#ed7953\"], [0.7777777777777778, \"#fb9f3a\"], [0.8888888888888888, \"#fdca26\"], [1.0, \"#f0f921\"]], \"type\": \"contour\"}], \"contourcarpet\": [{\"colorbar\": {\"outlinewidth\": 0, \"ticks\": \"\"}, \"type\": \"contourcarpet\"}], \"heatmap\": [{\"colorbar\": {\"outlinewidth\": 0, \"ticks\": \"\"}, \"colorscale\": [[0.0, \"#0d0887\"], [0.1111111111111111, \"#46039f\"], [0.2222222222222222, \"#7201a8\"], [0.3333333333333333, \"#9c179e\"], [0.4444444444444444, \"#bd3786\"], [0.5555555555555556, \"#d8576b\"], [0.6666666666666666, \"#ed7953\"], [0.7777777777777778, \"#fb9f3a\"], [0.8888888888888888, \"#fdca26\"], [1.0, \"#f0f921\"]], \"type\": \"heatmap\"}], \"heatmapgl\": [{\"colorbar\": {\"outlinewidth\": 0, \"ticks\": \"\"}, \"colorscale\": [[0.0, \"#0d0887\"], [0.1111111111111111, \"#46039f\"], [0.2222222222222222, \"#7201a8\"], [0.3333333333333333, \"#9c179e\"], [0.4444444444444444, \"#bd3786\"], [0.5555555555555556, \"#d8576b\"], [0.6666666666666666, \"#ed7953\"], [0.7777777777777778, \"#fb9f3a\"], [0.8888888888888888, \"#fdca26\"], [1.0, \"#f0f921\"]], \"type\": \"heatmapgl\"}], \"histogram\": [{\"marker\": {\"colorbar\": {\"outlinewidth\": 0, \"ticks\": \"\"}}, \"type\": \"histogram\"}], \"histogram2d\": [{\"colorbar\": {\"outlinewidth\": 0, \"ticks\": \"\"}, \"colorscale\": [[0.0, \"#0d0887\"], [0.1111111111111111, \"#46039f\"], [0.2222222222222222, \"#7201a8\"], [0.3333333333333333, \"#9c179e\"], [0.4444444444444444, \"#bd3786\"], [0.5555555555555556, \"#d8576b\"], [0.6666666666666666, \"#ed7953\"], [0.7777777777777778, \"#fb9f3a\"], [0.8888888888888888, \"#fdca26\"], [1.0, \"#f0f921\"]], \"type\": \"histogram2d\"}], \"histogram2dcontour\": [{\"colorbar\": {\"outlinewidth\": 0, \"ticks\": \"\"}, \"colorscale\": [[0.0, \"#0d0887\"], [0.1111111111111111, \"#46039f\"], [0.2222222222222222, \"#7201a8\"], [0.3333333333333333, \"#9c179e\"], [0.4444444444444444, \"#bd3786\"], [0.5555555555555556, \"#d8576b\"], [0.6666666666666666, \"#ed7953\"], [0.7777777777777778, \"#fb9f3a\"], [0.8888888888888888, \"#fdca26\"], [1.0, \"#f0f921\"]], \"type\": \"histogram2dcontour\"}], \"mesh3d\": [{\"colorbar\": {\"outlinewidth\": 0, \"ticks\": \"\"}, \"type\": \"mesh3d\"}], \"parcoords\": [{\"line\": {\"colorbar\": {\"outlinewidth\": 0, \"ticks\": \"\"}}, \"type\": \"parcoords\"}], \"pie\": [{\"automargin\": true, \"type\": \"pie\"}], \"scatter\": [{\"marker\": {\"colorbar\": {\"outlinewidth\": 0, \"ticks\": \"\"}}, \"type\": \"scatter\"}], \"scatter3d\": [{\"line\": {\"colorbar\": {\"outlinewidth\": 0, \"ticks\": \"\"}}, \"marker\": {\"colorbar\": {\"outlinewidth\": 0, \"ticks\": \"\"}}, \"type\": \"scatter3d\"}], \"scattercarpet\": [{\"marker\": {\"colorbar\": {\"outlinewidth\": 0, \"ticks\": \"\"}}, \"type\": \"scattercarpet\"}], \"scattergeo\": [{\"marker\": {\"colorbar\": {\"outlinewidth\": 0, \"ticks\": \"\"}}, \"type\": \"scattergeo\"}], \"scattergl\": [{\"marker\": {\"colorbar\": {\"outlinewidth\": 0, \"ticks\": \"\"}}, \"type\": \"scattergl\"}], \"scattermapbox\": [{\"marker\": {\"colorbar\": {\"outlinewidth\": 0, \"ticks\": \"\"}}, \"type\": \"scattermapbox\"}], \"scatterpolar\": [{\"marker\": {\"colorbar\": {\"outlinewidth\": 0, \"ticks\": \"\"}}, \"type\": \"scatterpolar\"}], \"scatterpolargl\": [{\"marker\": {\"colorbar\": {\"outlinewidth\": 0, \"ticks\": \"\"}}, \"type\": \"scatterpolargl\"}], \"scatterternary\": [{\"marker\": {\"colorbar\": {\"outlinewidth\": 0, \"ticks\": \"\"}}, \"type\": \"scatterternary\"}], \"surface\": [{\"colorbar\": {\"outlinewidth\": 0, \"ticks\": \"\"}, \"colorscale\": [[0.0, \"#0d0887\"], [0.1111111111111111, \"#46039f\"], [0.2222222222222222, \"#7201a8\"], [0.3333333333333333, \"#9c179e\"], [0.4444444444444444, \"#bd3786\"], [0.5555555555555556, \"#d8576b\"], [0.6666666666666666, \"#ed7953\"], [0.7777777777777778, \"#fb9f3a\"], [0.8888888888888888, \"#fdca26\"], [1.0, \"#f0f921\"]], \"type\": \"surface\"}], \"table\": [{\"cells\": {\"fill\": {\"color\": \"#EBF0F8\"}, \"line\": {\"color\": \"white\"}}, \"header\": {\"fill\": {\"color\": \"#C8D4E3\"}, \"line\": {\"color\": \"white\"}}, \"type\": \"table\"}]}, \"layout\": {\"annotationdefaults\": {\"arrowcolor\": \"#2a3f5f\", \"arrowhead\": 0, \"arrowwidth\": 1}, \"coloraxis\": {\"colorbar\": {\"outlinewidth\": 0, \"ticks\": \"\"}}, \"colorscale\": {\"diverging\": [[0, \"#8e0152\"], [0.1, \"#c51b7d\"], [0.2, \"#de77ae\"], [0.3, \"#f1b6da\"], [0.4, \"#fde0ef\"], [0.5, \"#f7f7f7\"], [0.6, \"#e6f5d0\"], [0.7, \"#b8e186\"], [0.8, \"#7fbc41\"], [0.9, \"#4d9221\"], [1, \"#276419\"]], \"sequential\": [[0.0, \"#0d0887\"], [0.1111111111111111, \"#46039f\"], [0.2222222222222222, \"#7201a8\"], [0.3333333333333333, \"#9c179e\"], [0.4444444444444444, \"#bd3786\"], [0.5555555555555556, \"#d8576b\"], [0.6666666666666666, \"#ed7953\"], [0.7777777777777778, \"#fb9f3a\"], [0.8888888888888888, \"#fdca26\"], [1.0, \"#f0f921\"]], \"sequentialminus\": [[0.0, \"#0d0887\"], [0.1111111111111111, \"#46039f\"], [0.2222222222222222, \"#7201a8\"], [0.3333333333333333, \"#9c179e\"], [0.4444444444444444, \"#bd3786\"], [0.5555555555555556, \"#d8576b\"], [0.6666666666666666, \"#ed7953\"], [0.7777777777777778, \"#fb9f3a\"], [0.8888888888888888, \"#fdca26\"], [1.0, \"#f0f921\"]]}, \"colorway\": [\"#636efa\", \"#EF553B\", \"#00cc96\", \"#ab63fa\", \"#FFA15A\", \"#19d3f3\", \"#FF6692\", \"#B6E880\", \"#FF97FF\", \"#FECB52\"], \"font\": {\"color\": \"#2a3f5f\"}, \"geo\": {\"bgcolor\": \"white\", \"lakecolor\": \"white\", \"landcolor\": \"#E5ECF6\", \"showlakes\": true, \"showland\": true, \"subunitcolor\": \"white\"}, \"hoverlabel\": {\"align\": \"left\"}, \"hovermode\": \"closest\", \"mapbox\": {\"style\": \"light\"}, \"paper_bgcolor\": \"white\", \"plot_bgcolor\": \"#E5ECF6\", \"polar\": {\"angularaxis\": {\"gridcolor\": \"white\", \"linecolor\": \"white\", \"ticks\": \"\"}, \"bgcolor\": \"#E5ECF6\", \"radialaxis\": {\"gridcolor\": \"white\", \"linecolor\": \"white\", \"ticks\": \"\"}}, \"scene\": {\"xaxis\": {\"backgroundcolor\": \"#E5ECF6\", \"gridcolor\": \"white\", \"gridwidth\": 2, \"linecolor\": \"white\", \"showbackground\": true, \"ticks\": \"\", \"zerolinecolor\": \"white\"}, \"yaxis\": {\"backgroundcolor\": \"#E5ECF6\", \"gridcolor\": \"white\", \"gridwidth\": 2, \"linecolor\": \"white\", \"showbackground\": true, \"ticks\": \"\", \"zerolinecolor\": \"white\"}, \"zaxis\": {\"backgroundcolor\": \"#E5ECF6\", \"gridcolor\": \"white\", \"gridwidth\": 2, \"linecolor\": \"white\", \"showbackground\": true, \"ticks\": \"\", \"zerolinecolor\": \"white\"}}, \"shapedefaults\": {\"line\": {\"color\": \"#2a3f5f\"}}, \"ternary\": {\"aaxis\": {\"gridcolor\": \"white\", \"linecolor\": \"white\", \"ticks\": \"\"}, \"baxis\": {\"gridcolor\": \"white\", \"linecolor\": \"white\", \"ticks\": \"\"}, \"bgcolor\": \"#E5ECF6\", \"caxis\": {\"gridcolor\": \"white\", \"linecolor\": \"white\", \"ticks\": \"\"}}, \"title\": {\"x\": 0.05}, \"xaxis\": {\"automargin\": true, \"gridcolor\": \"white\", \"linecolor\": \"white\", \"ticks\": \"\", \"title\": {\"standoff\": 15}, \"zerolinecolor\": \"white\", \"zerolinewidth\": 2}, \"yaxis\": {\"automargin\": true, \"gridcolor\": \"white\", \"linecolor\": \"white\", \"ticks\": \"\", \"title\": {\"standoff\": 15}, \"zerolinecolor\": \"white\", \"zerolinewidth\": 2}}}, \"title\": {\"text\": \"WA Counties - Cumulative Confirmed Cases\"}, \"updatemenus\": [{\"active\": 0, \"buttons\": [{\"args\": [{\"visible\": [true, true]}, {\"yaxis\": {\"type\": \"linear\"}}], \"label\": \"Linear Scale\", \"method\": \"update\"}, {\"args\": [{\"visible\": [true, true]}, {\"yaxis\": {\"type\": \"log\"}}], \"label\": \"Logarithmic Scale\", \"method\": \"update\"}], \"direction\": \"right\", \"type\": \"buttons\", \"x\": 0.45, \"xanchor\": \"left\", \"y\": 1.1, \"yanchor\": \"top\"}]},\n",
       "                        {\"responsive\": true}\n",
       "                    ).then(function(){\n",
       "                            \n",
       "var gd = document.getElementById('4be99831-0b54-481a-8361-896acb80110f');\n",
       "var x = new MutationObserver(function (mutations, observer) {{\n",
       "        var display = window.getComputedStyle(gd).display;\n",
       "        if (!display || display === 'none') {{\n",
       "            console.log([gd, 'removed!']);\n",
       "            Plotly.purge(gd);\n",
       "            observer.disconnect();\n",
       "        }}\n",
       "}});\n",
       "\n",
       "// Listen for the removal of the full notebook cells\n",
       "var notebookContainer = gd.closest('#notebook-container');\n",
       "if (notebookContainer) {{\n",
       "    x.observe(notebookContainer, {childList: true});\n",
       "}}\n",
       "\n",
       "// Listen for the clearing of the current output cell\n",
       "var outputEl = gd.closest('.output');\n",
       "if (outputEl) {{\n",
       "    x.observe(outputEl, {childList: true});\n",
       "}}\n",
       "\n",
       "                        })\n",
       "                };\n",
       "                });\n",
       "            </script>\n",
       "        </div>"
      ]
     },
     "metadata": {},
     "output_type": "display_data"
    }
   ],
   "source": [
    "# NYTimes Data Set\n",
    "# dfWAByCounty = dfUSCounties[dfUSCounties.state == 'Washington'].groupby(['county', 'date']).agg({'cases':sum, 'deaths':sum}).unstack().fillna(0)\n",
    "# dfWAByCountyConfirmed = dfWAByCounty['cases']\n",
    "\n",
    "# dfWAByCounty = dfByDay[dfByDay.Province_State == 'Washington'].groupby(['Last_Update', 'Admin2']).agg({'Confirmed':sum, 'Deaths':sum}).unstack(level=0)\n",
    "# dfWAByCountyConfirmed = dfWAByCounty.Confirmed\n",
    "# dfWAByCountyConfirmed.columns = dfWAByCountyConfirmed.columns.map(lambda x: pd.to_datetime(x).strftime('%#m/%d/%y'))\n",
    "\n",
    "dfWAByCountyConfirmed = dfConfirmedUSCounties[dfConfirmedUSCounties.Province_State == 'Washington']\n",
    "dfWAByCountyConfirmed = dfWAByCountyConfirmed.set_index('Admin2')\n",
    "\n",
    "dfWAByCountyConfirmed = dfWAByCountyConfirmed.sort_values(dfWAByCountyConfirmed.columns[-1], ascending = False)\n",
    "dfWAByCountyConfirmedTop = dfWAByCountyConfirmed.head(10)\n",
    "dfWAByCountyConfirmedTop = dfWAByCountyConfirmedTop[dfWAByCountyConfirmedTop.columns[-DEFAULT_DAYS:]]\n",
    "\n",
    "\n",
    "data = [{\n",
    "    'x': row[1].index,\n",
    "    'y': row[1].values,\n",
    "    'name': row[0]\n",
    "}  for row in dfWAByCountyConfirmedTop.iterrows()]\n",
    "\n",
    "\n",
    "\n",
    "layout = dict(title = 'WA Counties - Cumulative Confirmed Cases', updatemenus=LogLinearScale)\n",
    "py.iplot(dict(data=data, layout=layout))"
   ]
  },
  {
   "cell_type": "markdown",
   "metadata": {},
   "source": [
    "## Daily new cases by county"
   ]
  },
  {
   "cell_type": "code",
   "execution_count": 11,
   "metadata": {
    "ExecuteTime": {
     "end_time": "2020-04-05T17:54:49.712239Z",
     "start_time": "2020-04-05T17:54:49.684518Z"
    }
   },
   "outputs": [
    {
     "data": {
      "text/html": [
       "<style  type=\"text/css\" >\n",
       "</style><table id=\"T_8b5fb0d0_7766_11ea_9d3c_c49ded93ade6\" ><thead>    <tr>        <th class=\"blank level0\" ></th>        <th class=\"col_heading level0 col0\" >3/16/20</th>        <th class=\"col_heading level0 col1\" >3/17/20</th>        <th class=\"col_heading level0 col2\" >3/18/20</th>        <th class=\"col_heading level0 col3\" >3/19/20</th>        <th class=\"col_heading level0 col4\" >3/20/20</th>        <th class=\"col_heading level0 col5\" >3/21/20</th>        <th class=\"col_heading level0 col6\" >3/22/20</th>        <th class=\"col_heading level0 col7\" >3/23/20</th>        <th class=\"col_heading level0 col8\" >3/24/20</th>        <th class=\"col_heading level0 col9\" >3/25/20</th>        <th class=\"col_heading level0 col10\" >3/26/20</th>        <th class=\"col_heading level0 col11\" >3/27/20</th>        <th class=\"col_heading level0 col12\" >3/28/20</th>        <th class=\"col_heading level0 col13\" >3/29/20</th>        <th class=\"col_heading level0 col14\" >3/30/20</th>        <th class=\"col_heading level0 col15\" >3/31/20</th>        <th class=\"col_heading level0 col16\" >4/1/20</th>        <th class=\"col_heading level0 col17\" >4/2/20</th>        <th class=\"col_heading level0 col18\" >4/3/20</th>        <th class=\"col_heading level0 col19\" >4/4/20</th>    </tr>    <tr>        <th class=\"index_name level0\" >Admin2</th>        <th class=\"blank\" ></th>        <th class=\"blank\" ></th>        <th class=\"blank\" ></th>        <th class=\"blank\" ></th>        <th class=\"blank\" ></th>        <th class=\"blank\" ></th>        <th class=\"blank\" ></th>        <th class=\"blank\" ></th>        <th class=\"blank\" ></th>        <th class=\"blank\" ></th>        <th class=\"blank\" ></th>        <th class=\"blank\" ></th>        <th class=\"blank\" ></th>        <th class=\"blank\" ></th>        <th class=\"blank\" ></th>        <th class=\"blank\" ></th>        <th class=\"blank\" ></th>        <th class=\"blank\" ></th>        <th class=\"blank\" ></th>        <th class=\"blank\" ></th>    </tr></thead><tbody>\n",
       "                <tr>\n",
       "                        <th id=\"T_8b5fb0d0_7766_11ea_9d3c_c49ded93ade6level0_row0\" class=\"row_heading level0 row0\" >King</th>\n",
       "                        <td id=\"T_8b5fb0d0_7766_11ea_9d3c_c49ded93ade6row0_col0\" class=\"data row0 col0\" >-</td>\n",
       "                        <td id=\"T_8b5fb0d0_7766_11ea_9d3c_c49ded93ade6row0_col1\" class=\"data row0 col1\" >81</td>\n",
       "                        <td id=\"T_8b5fb0d0_7766_11ea_9d3c_c49ded93ade6row0_col2\" class=\"data row0 col2\" >-7</td>\n",
       "                        <td id=\"T_8b5fb0d0_7766_11ea_9d3c_c49ded93ade6row0_col3\" class=\"data row0 col3\" >131</td>\n",
       "                        <td id=\"T_8b5fb0d0_7766_11ea_9d3c_c49ded93ade6row0_col4\" class=\"data row0 col4\" >100</td>\n",
       "                        <td id=\"T_8b5fb0d0_7766_11ea_9d3c_c49ded93ade6row0_col5\" class=\"data row0 col5\" >141</td>\n",
       "                        <td id=\"T_8b5fb0d0_7766_11ea_9d3c_c49ded93ade6row0_col6\" class=\"data row0 col6\" >106</td>\n",
       "                        <td id=\"T_8b5fb0d0_7766_11ea_9d3c_c49ded93ade6row0_col7\" class=\"data row0 col7\" >130</td>\n",
       "                        <td id=\"T_8b5fb0d0_7766_11ea_9d3c_c49ded93ade6row0_col8\" class=\"data row0 col8\" >-</td>\n",
       "                        <td id=\"T_8b5fb0d0_7766_11ea_9d3c_c49ded93ade6row0_col9\" class=\"data row0 col9\" >189</td>\n",
       "                        <td id=\"T_8b5fb0d0_7766_11ea_9d3c_c49ded93ade6row0_col10\" class=\"data row0 col10\" >218</td>\n",
       "                        <td id=\"T_8b5fb0d0_7766_11ea_9d3c_c49ded93ade6row0_col11\" class=\"data row0 col11\" >-</td>\n",
       "                        <td id=\"T_8b5fb0d0_7766_11ea_9d3c_c49ded93ade6row0_col12\" class=\"data row0 col12\" >500</td>\n",
       "                        <td id=\"T_8b5fb0d0_7766_11ea_9d3c_c49ded93ade6row0_col13\" class=\"data row0 col13\" >82</td>\n",
       "                        <td id=\"T_8b5fb0d0_7766_11ea_9d3c_c49ded93ade6row0_col14\" class=\"data row0 col14\" >2</td>\n",
       "                        <td id=\"T_8b5fb0d0_7766_11ea_9d3c_c49ded93ade6row0_col15\" class=\"data row0 col15\" >169</td>\n",
       "                        <td id=\"T_8b5fb0d0_7766_11ea_9d3c_c49ded93ade6row0_col16\" class=\"data row0 col16\" >-</td>\n",
       "                        <td id=\"T_8b5fb0d0_7766_11ea_9d3c_c49ded93ade6row0_col17\" class=\"data row0 col17\" >326</td>\n",
       "                        <td id=\"T_8b5fb0d0_7766_11ea_9d3c_c49ded93ade6row0_col18\" class=\"data row0 col18\" >131</td>\n",
       "                        <td id=\"T_8b5fb0d0_7766_11ea_9d3c_c49ded93ade6row0_col19\" class=\"data row0 col19\" >111</td>\n",
       "            </tr>\n",
       "            <tr>\n",
       "                        <th id=\"T_8b5fb0d0_7766_11ea_9d3c_c49ded93ade6level0_row1\" class=\"row_heading level0 row1\" >Snohomish</th>\n",
       "                        <td id=\"T_8b5fb0d0_7766_11ea_9d3c_c49ded93ade6row1_col0\" class=\"data row1 col0\" >-</td>\n",
       "                        <td id=\"T_8b5fb0d0_7766_11ea_9d3c_c49ded93ade6row1_col1\" class=\"data row1 col1\" >66</td>\n",
       "                        <td id=\"T_8b5fb0d0_7766_11ea_9d3c_c49ded93ade6row1_col2\" class=\"data row1 col2\" >44</td>\n",
       "                        <td id=\"T_8b5fb0d0_7766_11ea_9d3c_c49ded93ade6row1_col3\" class=\"data row1 col3\" >38</td>\n",
       "                        <td id=\"T_8b5fb0d0_7766_11ea_9d3c_c49ded93ade6row1_col4\" class=\"data row1 col4\" >37</td>\n",
       "                        <td id=\"T_8b5fb0d0_7766_11ea_9d3c_c49ded93ade6row1_col5\" class=\"data row1 col5\" >62</td>\n",
       "                        <td id=\"T_8b5fb0d0_7766_11ea_9d3c_c49ded93ade6row1_col6\" class=\"data row1 col6\" >33</td>\n",
       "                        <td id=\"T_8b5fb0d0_7766_11ea_9d3c_c49ded93ade6row1_col7\" class=\"data row1 col7\" >39</td>\n",
       "                        <td id=\"T_8b5fb0d0_7766_11ea_9d3c_c49ded93ade6row1_col8\" class=\"data row1 col8\" >95</td>\n",
       "                        <td id=\"T_8b5fb0d0_7766_11ea_9d3c_c49ded93ade6row1_col9\" class=\"data row1 col9\" >20</td>\n",
       "                        <td id=\"T_8b5fb0d0_7766_11ea_9d3c_c49ded93ade6row1_col10\" class=\"data row1 col10\" >144</td>\n",
       "                        <td id=\"T_8b5fb0d0_7766_11ea_9d3c_c49ded93ade6row1_col11\" class=\"data row1 col11\" >134</td>\n",
       "                        <td id=\"T_8b5fb0d0_7766_11ea_9d3c_c49ded93ade6row1_col12\" class=\"data row1 col12\" >1</td>\n",
       "                        <td id=\"T_8b5fb0d0_7766_11ea_9d3c_c49ded93ade6row1_col13\" class=\"data row1 col13\" >-1</td>\n",
       "                        <td id=\"T_8b5fb0d0_7766_11ea_9d3c_c49ded93ade6row1_col14\" class=\"data row1 col14\" >156</td>\n",
       "                        <td id=\"T_8b5fb0d0_7766_11ea_9d3c_c49ded93ade6row1_col15\" class=\"data row1 col15\" >161</td>\n",
       "                        <td id=\"T_8b5fb0d0_7766_11ea_9d3c_c49ded93ade6row1_col16\" class=\"data row1 col16\" >75</td>\n",
       "                        <td id=\"T_8b5fb0d0_7766_11ea_9d3c_c49ded93ade6row1_col17\" class=\"data row1 col17\" >72</td>\n",
       "                        <td id=\"T_8b5fb0d0_7766_11ea_9d3c_c49ded93ade6row1_col18\" class=\"data row1 col18\" >-</td>\n",
       "                        <td id=\"T_8b5fb0d0_7766_11ea_9d3c_c49ded93ade6row1_col19\" class=\"data row1 col19\" >127</td>\n",
       "            </tr>\n",
       "            <tr>\n",
       "                        <th id=\"T_8b5fb0d0_7766_11ea_9d3c_c49ded93ade6level0_row2\" class=\"row_heading level0 row2\" >Pierce</th>\n",
       "                        <td id=\"T_8b5fb0d0_7766_11ea_9d3c_c49ded93ade6row2_col0\" class=\"data row2 col0\" >-</td>\n",
       "                        <td id=\"T_8b5fb0d0_7766_11ea_9d3c_c49ded93ade6row2_col1\" class=\"data row2 col1\" >7</td>\n",
       "                        <td id=\"T_8b5fb0d0_7766_11ea_9d3c_c49ded93ade6row2_col2\" class=\"data row2 col2\" >11</td>\n",
       "                        <td id=\"T_8b5fb0d0_7766_11ea_9d3c_c49ded93ade6row2_col3\" class=\"data row2 col3\" >19</td>\n",
       "                        <td id=\"T_8b5fb0d0_7766_11ea_9d3c_c49ded93ade6row2_col4\" class=\"data row2 col4\" >8</td>\n",
       "                        <td id=\"T_8b5fb0d0_7766_11ea_9d3c_c49ded93ade6row2_col5\" class=\"data row2 col5\" >12</td>\n",
       "                        <td id=\"T_8b5fb0d0_7766_11ea_9d3c_c49ded93ade6row2_col6\" class=\"data row2 col6\" >12</td>\n",
       "                        <td id=\"T_8b5fb0d0_7766_11ea_9d3c_c49ded93ade6row2_col7\" class=\"data row2 col7\" >19</td>\n",
       "                        <td id=\"T_8b5fb0d0_7766_11ea_9d3c_c49ded93ade6row2_col8\" class=\"data row2 col8\" >12</td>\n",
       "                        <td id=\"T_8b5fb0d0_7766_11ea_9d3c_c49ded93ade6row2_col9\" class=\"data row2 col9\" >17</td>\n",
       "                        <td id=\"T_8b5fb0d0_7766_11ea_9d3c_c49ded93ade6row2_col10\" class=\"data row2 col10\" >31</td>\n",
       "                        <td id=\"T_8b5fb0d0_7766_11ea_9d3c_c49ded93ade6row2_col11\" class=\"data row2 col11\" >45</td>\n",
       "                        <td id=\"T_8b5fb0d0_7766_11ea_9d3c_c49ded93ade6row2_col12\" class=\"data row2 col12\" >-</td>\n",
       "                        <td id=\"T_8b5fb0d0_7766_11ea_9d3c_c49ded93ade6row2_col13\" class=\"data row2 col13\" >86</td>\n",
       "                        <td id=\"T_8b5fb0d0_7766_11ea_9d3c_c49ded93ade6row2_col14\" class=\"data row2 col14\" >-</td>\n",
       "                        <td id=\"T_8b5fb0d0_7766_11ea_9d3c_c49ded93ade6row2_col15\" class=\"data row2 col15\" >60</td>\n",
       "                        <td id=\"T_8b5fb0d0_7766_11ea_9d3c_c49ded93ade6row2_col16\" class=\"data row2 col16\" >-</td>\n",
       "                        <td id=\"T_8b5fb0d0_7766_11ea_9d3c_c49ded93ade6row2_col17\" class=\"data row2 col17\" >121</td>\n",
       "                        <td id=\"T_8b5fb0d0_7766_11ea_9d3c_c49ded93ade6row2_col18\" class=\"data row2 col18\" >73</td>\n",
       "                        <td id=\"T_8b5fb0d0_7766_11ea_9d3c_c49ded93ade6row2_col19\" class=\"data row2 col19\" >49</td>\n",
       "            </tr>\n",
       "            <tr>\n",
       "                        <th id=\"T_8b5fb0d0_7766_11ea_9d3c_c49ded93ade6level0_row3\" class=\"row_heading level0 row3\" >Unassigned</th>\n",
       "                        <td id=\"T_8b5fb0d0_7766_11ea_9d3c_c49ded93ade6row3_col0\" class=\"data row3 col0\" >-</td>\n",
       "                        <td id=\"T_8b5fb0d0_7766_11ea_9d3c_c49ded93ade6row3_col1\" class=\"data row3 col1\" >-</td>\n",
       "                        <td id=\"T_8b5fb0d0_7766_11ea_9d3c_c49ded93ade6row3_col2\" class=\"data row3 col2\" >-</td>\n",
       "                        <td id=\"T_8b5fb0d0_7766_11ea_9d3c_c49ded93ade6row3_col3\" class=\"data row3 col3\" >151</td>\n",
       "                        <td id=\"T_8b5fb0d0_7766_11ea_9d3c_c49ded93ade6row3_col4\" class=\"data row3 col4\" >-21</td>\n",
       "                        <td id=\"T_8b5fb0d0_7766_11ea_9d3c_c49ded93ade6row3_col5\" class=\"data row3 col5\" >16</td>\n",
       "                        <td id=\"T_8b5fb0d0_7766_11ea_9d3c_c49ded93ade6row3_col6\" class=\"data row3 col6\" >18</td>\n",
       "                        <td id=\"T_8b5fb0d0_7766_11ea_9d3c_c49ded93ade6row3_col7\" class=\"data row3 col7\" >-19</td>\n",
       "                        <td id=\"T_8b5fb0d0_7766_11ea_9d3c_c49ded93ade6row3_col8\" class=\"data row3 col8\" >-33</td>\n",
       "                        <td id=\"T_8b5fb0d0_7766_11ea_9d3c_c49ded93ade6row3_col9\" class=\"data row3 col9\" >-61</td>\n",
       "                        <td id=\"T_8b5fb0d0_7766_11ea_9d3c_c49ded93ade6row3_col10\" class=\"data row3 col10\" >18</td>\n",
       "                        <td id=\"T_8b5fb0d0_7766_11ea_9d3c_c49ded93ade6row3_col11\" class=\"data row3 col11\" >-2</td>\n",
       "                        <td id=\"T_8b5fb0d0_7766_11ea_9d3c_c49ded93ade6row3_col12\" class=\"data row3 col12\" >-67</td>\n",
       "                        <td id=\"T_8b5fb0d0_7766_11ea_9d3c_c49ded93ade6row3_col13\" class=\"data row3 col13\" >125</td>\n",
       "                        <td id=\"T_8b5fb0d0_7766_11ea_9d3c_c49ded93ade6row3_col14\" class=\"data row3 col14\" >149</td>\n",
       "                        <td id=\"T_8b5fb0d0_7766_11ea_9d3c_c49ded93ade6row3_col15\" class=\"data row3 col15\" >-</td>\n",
       "                        <td id=\"T_8b5fb0d0_7766_11ea_9d3c_c49ded93ade6row3_col16\" class=\"data row3 col16\" >29</td>\n",
       "                        <td id=\"T_8b5fb0d0_7766_11ea_9d3c_c49ded93ade6row3_col17\" class=\"data row3 col17\" >41</td>\n",
       "                        <td id=\"T_8b5fb0d0_7766_11ea_9d3c_c49ded93ade6row3_col18\" class=\"data row3 col18\" >157</td>\n",
       "                        <td id=\"T_8b5fb0d0_7766_11ea_9d3c_c49ded93ade6row3_col19\" class=\"data row3 col19\" >-18</td>\n",
       "            </tr>\n",
       "            <tr>\n",
       "                        <th id=\"T_8b5fb0d0_7766_11ea_9d3c_c49ded93ade6level0_row4\" class=\"row_heading level0 row4\" >Yakima</th>\n",
       "                        <td id=\"T_8b5fb0d0_7766_11ea_9d3c_c49ded93ade6row4_col0\" class=\"data row4 col0\" >-</td>\n",
       "                        <td id=\"T_8b5fb0d0_7766_11ea_9d3c_c49ded93ade6row4_col1\" class=\"data row4 col1\" >1</td>\n",
       "                        <td id=\"T_8b5fb0d0_7766_11ea_9d3c_c49ded93ade6row4_col2\" class=\"data row4 col2\" >2</td>\n",
       "                        <td id=\"T_8b5fb0d0_7766_11ea_9d3c_c49ded93ade6row4_col3\" class=\"data row4 col3\" >-</td>\n",
       "                        <td id=\"T_8b5fb0d0_7766_11ea_9d3c_c49ded93ade6row4_col4\" class=\"data row4 col4\" >3</td>\n",
       "                        <td id=\"T_8b5fb0d0_7766_11ea_9d3c_c49ded93ade6row4_col5\" class=\"data row4 col5\" >3</td>\n",
       "                        <td id=\"T_8b5fb0d0_7766_11ea_9d3c_c49ded93ade6row4_col6\" class=\"data row4 col6\" >3</td>\n",
       "                        <td id=\"T_8b5fb0d0_7766_11ea_9d3c_c49ded93ade6row4_col7\" class=\"data row4 col7\" >-</td>\n",
       "                        <td id=\"T_8b5fb0d0_7766_11ea_9d3c_c49ded93ade6row4_col8\" class=\"data row4 col8\" >9</td>\n",
       "                        <td id=\"T_8b5fb0d0_7766_11ea_9d3c_c49ded93ade6row4_col9\" class=\"data row4 col9\" >22</td>\n",
       "                        <td id=\"T_8b5fb0d0_7766_11ea_9d3c_c49ded93ade6row4_col10\" class=\"data row4 col10\" >14</td>\n",
       "                        <td id=\"T_8b5fb0d0_7766_11ea_9d3c_c49ded93ade6row4_col11\" class=\"data row4 col11\" >5</td>\n",
       "                        <td id=\"T_8b5fb0d0_7766_11ea_9d3c_c49ded93ade6row4_col12\" class=\"data row4 col12\" >16</td>\n",
       "                        <td id=\"T_8b5fb0d0_7766_11ea_9d3c_c49ded93ade6row4_col13\" class=\"data row4 col13\" >58</td>\n",
       "                        <td id=\"T_8b5fb0d0_7766_11ea_9d3c_c49ded93ade6row4_col14\" class=\"data row4 col14\" >7</td>\n",
       "                        <td id=\"T_8b5fb0d0_7766_11ea_9d3c_c49ded93ade6row4_col15\" class=\"data row4 col15\" >14</td>\n",
       "                        <td id=\"T_8b5fb0d0_7766_11ea_9d3c_c49ded93ade6row4_col16\" class=\"data row4 col16\" >-</td>\n",
       "                        <td id=\"T_8b5fb0d0_7766_11ea_9d3c_c49ded93ade6row4_col17\" class=\"data row4 col17\" >63</td>\n",
       "                        <td id=\"T_8b5fb0d0_7766_11ea_9d3c_c49ded93ade6row4_col18\" class=\"data row4 col18\" >16</td>\n",
       "                        <td id=\"T_8b5fb0d0_7766_11ea_9d3c_c49ded93ade6row4_col19\" class=\"data row4 col19\" >49</td>\n",
       "            </tr>\n",
       "    </tbody></table>"
      ],
      "text/plain": [
       "<pandas.io.formats.style.Styler at 0xffd1750>"
      ]
     },
     "execution_count": 11,
     "metadata": {},
     "output_type": "execute_result"
    }
   ],
   "source": [
    "dfWAByCountyConfirmedTopNew = dfWAByCountyConfirmedTop.diff(axis=1).fillna(0).head(5)\n",
    "dfWAByCountyConfirmedTopNew.style.format(IntegerFormatter)"
   ]
  },
  {
   "cell_type": "markdown",
   "metadata": {},
   "source": [
    "# United States - Aggregate Data"
   ]
  },
  {
   "cell_type": "code",
   "execution_count": 12,
   "metadata": {
    "ExecuteTime": {
     "end_time": "2020-04-05T17:54:50.630861Z",
     "start_time": "2020-04-05T17:54:49.722655Z"
    }
   },
   "outputs": [
    {
     "data": {
      "application/vnd.plotly.v1+json": {
       "config": {
        "linkText": "Export to plot.ly",
        "plotlyServerURL": "https://plot.ly",
        "showLink": false
       },
       "data": [
        {
         "name": "Confirmed Cases",
         "type": "scatter",
         "x": [
          "3/16/20",
          "3/17/20",
          "3/18/20",
          "3/19/20",
          "3/20/20",
          "3/21/20",
          "3/22/20",
          "3/23/20",
          "3/24/20",
          "3/25/20",
          "3/26/20",
          "3/27/20",
          "3/28/20",
          "3/29/20",
          "3/30/20",
          "3/31/20",
          "4/1/20",
          "4/2/20",
          "4/3/20",
          "4/4/20"
         ],
         "y": [
          4632,
          6421,
          7783,
          13677,
          19100,
          25489,
          33276,
          43847,
          53740,
          65778,
          83836,
          101657,
          121478,
          140886,
          161807,
          188172,
          213372,
          243453,
          275586,
          308850
         ]
        },
        {
         "name": "Deaths",
         "type": "scatter",
         "x": [
          "3/16/20",
          "3/17/20",
          "3/18/20",
          "3/19/20",
          "3/20/20",
          "3/21/20",
          "3/22/20",
          "3/23/20",
          "3/24/20",
          "3/25/20",
          "3/26/20",
          "3/27/20",
          "3/28/20",
          "3/29/20",
          "3/30/20",
          "3/31/20",
          "4/1/20",
          "4/2/20",
          "4/3/20",
          "4/4/20"
         ],
         "y": [
          85,
          108,
          118,
          200,
          244,
          307,
          417,
          557,
          706,
          942,
          1209,
          1581,
          2026,
          2467,
          2978,
          3873,
          4757,
          5926,
          7087,
          8407
         ]
        }
       ],
       "layout": {
        "template": {
         "data": {
          "bar": [
           {
            "error_x": {
             "color": "#2a3f5f"
            },
            "error_y": {
             "color": "#2a3f5f"
            },
            "marker": {
             "line": {
              "color": "#E5ECF6",
              "width": 0.5
             }
            },
            "type": "bar"
           }
          ],
          "barpolar": [
           {
            "marker": {
             "line": {
              "color": "#E5ECF6",
              "width": 0.5
             }
            },
            "type": "barpolar"
           }
          ],
          "carpet": [
           {
            "aaxis": {
             "endlinecolor": "#2a3f5f",
             "gridcolor": "white",
             "linecolor": "white",
             "minorgridcolor": "white",
             "startlinecolor": "#2a3f5f"
            },
            "baxis": {
             "endlinecolor": "#2a3f5f",
             "gridcolor": "white",
             "linecolor": "white",
             "minorgridcolor": "white",
             "startlinecolor": "#2a3f5f"
            },
            "type": "carpet"
           }
          ],
          "choropleth": [
           {
            "colorbar": {
             "outlinewidth": 0,
             "ticks": ""
            },
            "type": "choropleth"
           }
          ],
          "contour": [
           {
            "colorbar": {
             "outlinewidth": 0,
             "ticks": ""
            },
            "colorscale": [
             [
              0,
              "#0d0887"
             ],
             [
              0.1111111111111111,
              "#46039f"
             ],
             [
              0.2222222222222222,
              "#7201a8"
             ],
             [
              0.3333333333333333,
              "#9c179e"
             ],
             [
              0.4444444444444444,
              "#bd3786"
             ],
             [
              0.5555555555555556,
              "#d8576b"
             ],
             [
              0.6666666666666666,
              "#ed7953"
             ],
             [
              0.7777777777777778,
              "#fb9f3a"
             ],
             [
              0.8888888888888888,
              "#fdca26"
             ],
             [
              1,
              "#f0f921"
             ]
            ],
            "type": "contour"
           }
          ],
          "contourcarpet": [
           {
            "colorbar": {
             "outlinewidth": 0,
             "ticks": ""
            },
            "type": "contourcarpet"
           }
          ],
          "heatmap": [
           {
            "colorbar": {
             "outlinewidth": 0,
             "ticks": ""
            },
            "colorscale": [
             [
              0,
              "#0d0887"
             ],
             [
              0.1111111111111111,
              "#46039f"
             ],
             [
              0.2222222222222222,
              "#7201a8"
             ],
             [
              0.3333333333333333,
              "#9c179e"
             ],
             [
              0.4444444444444444,
              "#bd3786"
             ],
             [
              0.5555555555555556,
              "#d8576b"
             ],
             [
              0.6666666666666666,
              "#ed7953"
             ],
             [
              0.7777777777777778,
              "#fb9f3a"
             ],
             [
              0.8888888888888888,
              "#fdca26"
             ],
             [
              1,
              "#f0f921"
             ]
            ],
            "type": "heatmap"
           }
          ],
          "heatmapgl": [
           {
            "colorbar": {
             "outlinewidth": 0,
             "ticks": ""
            },
            "colorscale": [
             [
              0,
              "#0d0887"
             ],
             [
              0.1111111111111111,
              "#46039f"
             ],
             [
              0.2222222222222222,
              "#7201a8"
             ],
             [
              0.3333333333333333,
              "#9c179e"
             ],
             [
              0.4444444444444444,
              "#bd3786"
             ],
             [
              0.5555555555555556,
              "#d8576b"
             ],
             [
              0.6666666666666666,
              "#ed7953"
             ],
             [
              0.7777777777777778,
              "#fb9f3a"
             ],
             [
              0.8888888888888888,
              "#fdca26"
             ],
             [
              1,
              "#f0f921"
             ]
            ],
            "type": "heatmapgl"
           }
          ],
          "histogram": [
           {
            "marker": {
             "colorbar": {
              "outlinewidth": 0,
              "ticks": ""
             }
            },
            "type": "histogram"
           }
          ],
          "histogram2d": [
           {
            "colorbar": {
             "outlinewidth": 0,
             "ticks": ""
            },
            "colorscale": [
             [
              0,
              "#0d0887"
             ],
             [
              0.1111111111111111,
              "#46039f"
             ],
             [
              0.2222222222222222,
              "#7201a8"
             ],
             [
              0.3333333333333333,
              "#9c179e"
             ],
             [
              0.4444444444444444,
              "#bd3786"
             ],
             [
              0.5555555555555556,
              "#d8576b"
             ],
             [
              0.6666666666666666,
              "#ed7953"
             ],
             [
              0.7777777777777778,
              "#fb9f3a"
             ],
             [
              0.8888888888888888,
              "#fdca26"
             ],
             [
              1,
              "#f0f921"
             ]
            ],
            "type": "histogram2d"
           }
          ],
          "histogram2dcontour": [
           {
            "colorbar": {
             "outlinewidth": 0,
             "ticks": ""
            },
            "colorscale": [
             [
              0,
              "#0d0887"
             ],
             [
              0.1111111111111111,
              "#46039f"
             ],
             [
              0.2222222222222222,
              "#7201a8"
             ],
             [
              0.3333333333333333,
              "#9c179e"
             ],
             [
              0.4444444444444444,
              "#bd3786"
             ],
             [
              0.5555555555555556,
              "#d8576b"
             ],
             [
              0.6666666666666666,
              "#ed7953"
             ],
             [
              0.7777777777777778,
              "#fb9f3a"
             ],
             [
              0.8888888888888888,
              "#fdca26"
             ],
             [
              1,
              "#f0f921"
             ]
            ],
            "type": "histogram2dcontour"
           }
          ],
          "mesh3d": [
           {
            "colorbar": {
             "outlinewidth": 0,
             "ticks": ""
            },
            "type": "mesh3d"
           }
          ],
          "parcoords": [
           {
            "line": {
             "colorbar": {
              "outlinewidth": 0,
              "ticks": ""
             }
            },
            "type": "parcoords"
           }
          ],
          "pie": [
           {
            "automargin": true,
            "type": "pie"
           }
          ],
          "scatter": [
           {
            "marker": {
             "colorbar": {
              "outlinewidth": 0,
              "ticks": ""
             }
            },
            "type": "scatter"
           }
          ],
          "scatter3d": [
           {
            "line": {
             "colorbar": {
              "outlinewidth": 0,
              "ticks": ""
             }
            },
            "marker": {
             "colorbar": {
              "outlinewidth": 0,
              "ticks": ""
             }
            },
            "type": "scatter3d"
           }
          ],
          "scattercarpet": [
           {
            "marker": {
             "colorbar": {
              "outlinewidth": 0,
              "ticks": ""
             }
            },
            "type": "scattercarpet"
           }
          ],
          "scattergeo": [
           {
            "marker": {
             "colorbar": {
              "outlinewidth": 0,
              "ticks": ""
             }
            },
            "type": "scattergeo"
           }
          ],
          "scattergl": [
           {
            "marker": {
             "colorbar": {
              "outlinewidth": 0,
              "ticks": ""
             }
            },
            "type": "scattergl"
           }
          ],
          "scattermapbox": [
           {
            "marker": {
             "colorbar": {
              "outlinewidth": 0,
              "ticks": ""
             }
            },
            "type": "scattermapbox"
           }
          ],
          "scatterpolar": [
           {
            "marker": {
             "colorbar": {
              "outlinewidth": 0,
              "ticks": ""
             }
            },
            "type": "scatterpolar"
           }
          ],
          "scatterpolargl": [
           {
            "marker": {
             "colorbar": {
              "outlinewidth": 0,
              "ticks": ""
             }
            },
            "type": "scatterpolargl"
           }
          ],
          "scatterternary": [
           {
            "marker": {
             "colorbar": {
              "outlinewidth": 0,
              "ticks": ""
             }
            },
            "type": "scatterternary"
           }
          ],
          "surface": [
           {
            "colorbar": {
             "outlinewidth": 0,
             "ticks": ""
            },
            "colorscale": [
             [
              0,
              "#0d0887"
             ],
             [
              0.1111111111111111,
              "#46039f"
             ],
             [
              0.2222222222222222,
              "#7201a8"
             ],
             [
              0.3333333333333333,
              "#9c179e"
             ],
             [
              0.4444444444444444,
              "#bd3786"
             ],
             [
              0.5555555555555556,
              "#d8576b"
             ],
             [
              0.6666666666666666,
              "#ed7953"
             ],
             [
              0.7777777777777778,
              "#fb9f3a"
             ],
             [
              0.8888888888888888,
              "#fdca26"
             ],
             [
              1,
              "#f0f921"
             ]
            ],
            "type": "surface"
           }
          ],
          "table": [
           {
            "cells": {
             "fill": {
              "color": "#EBF0F8"
             },
             "line": {
              "color": "white"
             }
            },
            "header": {
             "fill": {
              "color": "#C8D4E3"
             },
             "line": {
              "color": "white"
             }
            },
            "type": "table"
           }
          ]
         },
         "layout": {
          "annotationdefaults": {
           "arrowcolor": "#2a3f5f",
           "arrowhead": 0,
           "arrowwidth": 1
          },
          "coloraxis": {
           "colorbar": {
            "outlinewidth": 0,
            "ticks": ""
           }
          },
          "colorscale": {
           "diverging": [
            [
             0,
             "#8e0152"
            ],
            [
             0.1,
             "#c51b7d"
            ],
            [
             0.2,
             "#de77ae"
            ],
            [
             0.3,
             "#f1b6da"
            ],
            [
             0.4,
             "#fde0ef"
            ],
            [
             0.5,
             "#f7f7f7"
            ],
            [
             0.6,
             "#e6f5d0"
            ],
            [
             0.7,
             "#b8e186"
            ],
            [
             0.8,
             "#7fbc41"
            ],
            [
             0.9,
             "#4d9221"
            ],
            [
             1,
             "#276419"
            ]
           ],
           "sequential": [
            [
             0,
             "#0d0887"
            ],
            [
             0.1111111111111111,
             "#46039f"
            ],
            [
             0.2222222222222222,
             "#7201a8"
            ],
            [
             0.3333333333333333,
             "#9c179e"
            ],
            [
             0.4444444444444444,
             "#bd3786"
            ],
            [
             0.5555555555555556,
             "#d8576b"
            ],
            [
             0.6666666666666666,
             "#ed7953"
            ],
            [
             0.7777777777777778,
             "#fb9f3a"
            ],
            [
             0.8888888888888888,
             "#fdca26"
            ],
            [
             1,
             "#f0f921"
            ]
           ],
           "sequentialminus": [
            [
             0,
             "#0d0887"
            ],
            [
             0.1111111111111111,
             "#46039f"
            ],
            [
             0.2222222222222222,
             "#7201a8"
            ],
            [
             0.3333333333333333,
             "#9c179e"
            ],
            [
             0.4444444444444444,
             "#bd3786"
            ],
            [
             0.5555555555555556,
             "#d8576b"
            ],
            [
             0.6666666666666666,
             "#ed7953"
            ],
            [
             0.7777777777777778,
             "#fb9f3a"
            ],
            [
             0.8888888888888888,
             "#fdca26"
            ],
            [
             1,
             "#f0f921"
            ]
           ]
          },
          "colorway": [
           "#636efa",
           "#EF553B",
           "#00cc96",
           "#ab63fa",
           "#FFA15A",
           "#19d3f3",
           "#FF6692",
           "#B6E880",
           "#FF97FF",
           "#FECB52"
          ],
          "font": {
           "color": "#2a3f5f"
          },
          "geo": {
           "bgcolor": "white",
           "lakecolor": "white",
           "landcolor": "#E5ECF6",
           "showlakes": true,
           "showland": true,
           "subunitcolor": "white"
          },
          "hoverlabel": {
           "align": "left"
          },
          "hovermode": "closest",
          "mapbox": {
           "style": "light"
          },
          "paper_bgcolor": "white",
          "plot_bgcolor": "#E5ECF6",
          "polar": {
           "angularaxis": {
            "gridcolor": "white",
            "linecolor": "white",
            "ticks": ""
           },
           "bgcolor": "#E5ECF6",
           "radialaxis": {
            "gridcolor": "white",
            "linecolor": "white",
            "ticks": ""
           }
          },
          "scene": {
           "xaxis": {
            "backgroundcolor": "#E5ECF6",
            "gridcolor": "white",
            "gridwidth": 2,
            "linecolor": "white",
            "showbackground": true,
            "ticks": "",
            "zerolinecolor": "white"
           },
           "yaxis": {
            "backgroundcolor": "#E5ECF6",
            "gridcolor": "white",
            "gridwidth": 2,
            "linecolor": "white",
            "showbackground": true,
            "ticks": "",
            "zerolinecolor": "white"
           },
           "zaxis": {
            "backgroundcolor": "#E5ECF6",
            "gridcolor": "white",
            "gridwidth": 2,
            "linecolor": "white",
            "showbackground": true,
            "ticks": "",
            "zerolinecolor": "white"
           }
          },
          "shapedefaults": {
           "line": {
            "color": "#2a3f5f"
           }
          },
          "ternary": {
           "aaxis": {
            "gridcolor": "white",
            "linecolor": "white",
            "ticks": ""
           },
           "baxis": {
            "gridcolor": "white",
            "linecolor": "white",
            "ticks": ""
           },
           "bgcolor": "#E5ECF6",
           "caxis": {
            "gridcolor": "white",
            "linecolor": "white",
            "ticks": ""
           }
          },
          "title": {
           "x": 0.05
          },
          "xaxis": {
           "automargin": true,
           "gridcolor": "white",
           "linecolor": "white",
           "ticks": "",
           "title": {
            "standoff": 15
           },
           "zerolinecolor": "white",
           "zerolinewidth": 2
          },
          "yaxis": {
           "automargin": true,
           "gridcolor": "white",
           "linecolor": "white",
           "ticks": "",
           "title": {
            "standoff": 15
           },
           "zerolinecolor": "white",
           "zerolinewidth": 2
          }
         }
        },
        "title": {
         "text": "United States - Cumulative Cases and Deaths"
        },
        "updatemenus": [
         {
          "active": 0,
          "buttons": [
           {
            "args": [
             {
              "visible": [
               true,
               true
              ]
             },
             {
              "yaxis": {
               "type": "linear"
              }
             }
            ],
            "label": "Linear Scale",
            "method": "update"
           },
           {
            "args": [
             {
              "visible": [
               true,
               true
              ]
             },
             {
              "yaxis": {
               "type": "log"
              }
             }
            ],
            "label": "Logarithmic Scale",
            "method": "update"
           }
          ],
          "direction": "right",
          "type": "buttons",
          "x": 0.45,
          "xanchor": "left",
          "y": 1.1,
          "yanchor": "top"
         }
        ]
       }
      },
      "text/html": [
       "<div>\n",
       "        \n",
       "        \n",
       "            <div id=\"cd8c0cdb-7f29-4813-867d-3749c9352f6e\" class=\"plotly-graph-div\" style=\"height:525px; width:100%;\"></div>\n",
       "            <script type=\"text/javascript\">\n",
       "                require([\"plotly\"], function(Plotly) {\n",
       "                    window.PLOTLYENV=window.PLOTLYENV || {};\n",
       "                    \n",
       "                if (document.getElementById(\"cd8c0cdb-7f29-4813-867d-3749c9352f6e\")) {\n",
       "                    Plotly.newPlot(\n",
       "                        'cd8c0cdb-7f29-4813-867d-3749c9352f6e',\n",
       "                        [{\"name\": \"Confirmed Cases\", \"type\": \"scatter\", \"x\": [\"3/16/20\", \"3/17/20\", \"3/18/20\", \"3/19/20\", \"3/20/20\", \"3/21/20\", \"3/22/20\", \"3/23/20\", \"3/24/20\", \"3/25/20\", \"3/26/20\", \"3/27/20\", \"3/28/20\", \"3/29/20\", \"3/30/20\", \"3/31/20\", \"4/1/20\", \"4/2/20\", \"4/3/20\", \"4/4/20\"], \"y\": [4632, 6421, 7783, 13677, 19100, 25489, 33276, 43847, 53740, 65778, 83836, 101657, 121478, 140886, 161807, 188172, 213372, 243453, 275586, 308850]}, {\"name\": \"Deaths\", \"type\": \"scatter\", \"x\": [\"3/16/20\", \"3/17/20\", \"3/18/20\", \"3/19/20\", \"3/20/20\", \"3/21/20\", \"3/22/20\", \"3/23/20\", \"3/24/20\", \"3/25/20\", \"3/26/20\", \"3/27/20\", \"3/28/20\", \"3/29/20\", \"3/30/20\", \"3/31/20\", \"4/1/20\", \"4/2/20\", \"4/3/20\", \"4/4/20\"], \"y\": [85, 108, 118, 200, 244, 307, 417, 557, 706, 942, 1209, 1581, 2026, 2467, 2978, 3873, 4757, 5926, 7087, 8407]}],\n",
       "                        {\"template\": {\"data\": {\"bar\": [{\"error_x\": {\"color\": \"#2a3f5f\"}, \"error_y\": {\"color\": \"#2a3f5f\"}, \"marker\": {\"line\": {\"color\": \"#E5ECF6\", \"width\": 0.5}}, \"type\": \"bar\"}], \"barpolar\": [{\"marker\": {\"line\": {\"color\": \"#E5ECF6\", \"width\": 0.5}}, \"type\": \"barpolar\"}], \"carpet\": [{\"aaxis\": {\"endlinecolor\": \"#2a3f5f\", \"gridcolor\": \"white\", \"linecolor\": \"white\", \"minorgridcolor\": \"white\", \"startlinecolor\": \"#2a3f5f\"}, \"baxis\": {\"endlinecolor\": \"#2a3f5f\", \"gridcolor\": \"white\", \"linecolor\": \"white\", \"minorgridcolor\": \"white\", \"startlinecolor\": \"#2a3f5f\"}, \"type\": \"carpet\"}], \"choropleth\": [{\"colorbar\": {\"outlinewidth\": 0, \"ticks\": \"\"}, \"type\": \"choropleth\"}], \"contour\": [{\"colorbar\": {\"outlinewidth\": 0, \"ticks\": \"\"}, \"colorscale\": [[0.0, \"#0d0887\"], [0.1111111111111111, \"#46039f\"], [0.2222222222222222, \"#7201a8\"], [0.3333333333333333, \"#9c179e\"], [0.4444444444444444, \"#bd3786\"], [0.5555555555555556, \"#d8576b\"], [0.6666666666666666, \"#ed7953\"], [0.7777777777777778, \"#fb9f3a\"], [0.8888888888888888, \"#fdca26\"], [1.0, \"#f0f921\"]], \"type\": \"contour\"}], \"contourcarpet\": [{\"colorbar\": {\"outlinewidth\": 0, \"ticks\": \"\"}, \"type\": \"contourcarpet\"}], \"heatmap\": [{\"colorbar\": {\"outlinewidth\": 0, \"ticks\": \"\"}, \"colorscale\": [[0.0, \"#0d0887\"], [0.1111111111111111, \"#46039f\"], [0.2222222222222222, \"#7201a8\"], [0.3333333333333333, \"#9c179e\"], [0.4444444444444444, \"#bd3786\"], [0.5555555555555556, \"#d8576b\"], [0.6666666666666666, \"#ed7953\"], [0.7777777777777778, \"#fb9f3a\"], [0.8888888888888888, \"#fdca26\"], [1.0, \"#f0f921\"]], \"type\": \"heatmap\"}], \"heatmapgl\": [{\"colorbar\": {\"outlinewidth\": 0, \"ticks\": \"\"}, \"colorscale\": [[0.0, \"#0d0887\"], [0.1111111111111111, \"#46039f\"], [0.2222222222222222, \"#7201a8\"], [0.3333333333333333, \"#9c179e\"], [0.4444444444444444, \"#bd3786\"], [0.5555555555555556, \"#d8576b\"], [0.6666666666666666, \"#ed7953\"], [0.7777777777777778, \"#fb9f3a\"], [0.8888888888888888, \"#fdca26\"], [1.0, \"#f0f921\"]], \"type\": \"heatmapgl\"}], \"histogram\": [{\"marker\": {\"colorbar\": {\"outlinewidth\": 0, \"ticks\": \"\"}}, \"type\": \"histogram\"}], \"histogram2d\": [{\"colorbar\": {\"outlinewidth\": 0, \"ticks\": \"\"}, \"colorscale\": [[0.0, \"#0d0887\"], [0.1111111111111111, \"#46039f\"], [0.2222222222222222, \"#7201a8\"], [0.3333333333333333, \"#9c179e\"], [0.4444444444444444, \"#bd3786\"], [0.5555555555555556, \"#d8576b\"], [0.6666666666666666, \"#ed7953\"], [0.7777777777777778, \"#fb9f3a\"], [0.8888888888888888, \"#fdca26\"], [1.0, \"#f0f921\"]], \"type\": \"histogram2d\"}], \"histogram2dcontour\": [{\"colorbar\": {\"outlinewidth\": 0, \"ticks\": \"\"}, \"colorscale\": [[0.0, \"#0d0887\"], [0.1111111111111111, \"#46039f\"], [0.2222222222222222, \"#7201a8\"], [0.3333333333333333, \"#9c179e\"], [0.4444444444444444, \"#bd3786\"], [0.5555555555555556, \"#d8576b\"], [0.6666666666666666, \"#ed7953\"], [0.7777777777777778, \"#fb9f3a\"], [0.8888888888888888, \"#fdca26\"], [1.0, \"#f0f921\"]], \"type\": \"histogram2dcontour\"}], \"mesh3d\": [{\"colorbar\": {\"outlinewidth\": 0, \"ticks\": \"\"}, \"type\": \"mesh3d\"}], \"parcoords\": [{\"line\": {\"colorbar\": {\"outlinewidth\": 0, \"ticks\": \"\"}}, \"type\": \"parcoords\"}], \"pie\": [{\"automargin\": true, \"type\": \"pie\"}], \"scatter\": [{\"marker\": {\"colorbar\": {\"outlinewidth\": 0, \"ticks\": \"\"}}, \"type\": \"scatter\"}], \"scatter3d\": [{\"line\": {\"colorbar\": {\"outlinewidth\": 0, \"ticks\": \"\"}}, \"marker\": {\"colorbar\": {\"outlinewidth\": 0, \"ticks\": \"\"}}, \"type\": \"scatter3d\"}], \"scattercarpet\": [{\"marker\": {\"colorbar\": {\"outlinewidth\": 0, \"ticks\": \"\"}}, \"type\": \"scattercarpet\"}], \"scattergeo\": [{\"marker\": {\"colorbar\": {\"outlinewidth\": 0, \"ticks\": \"\"}}, \"type\": \"scattergeo\"}], \"scattergl\": [{\"marker\": {\"colorbar\": {\"outlinewidth\": 0, \"ticks\": \"\"}}, \"type\": \"scattergl\"}], \"scattermapbox\": [{\"marker\": {\"colorbar\": {\"outlinewidth\": 0, \"ticks\": \"\"}}, \"type\": \"scattermapbox\"}], \"scatterpolar\": [{\"marker\": {\"colorbar\": {\"outlinewidth\": 0, \"ticks\": \"\"}}, \"type\": \"scatterpolar\"}], \"scatterpolargl\": [{\"marker\": {\"colorbar\": {\"outlinewidth\": 0, \"ticks\": \"\"}}, \"type\": \"scatterpolargl\"}], \"scatterternary\": [{\"marker\": {\"colorbar\": {\"outlinewidth\": 0, \"ticks\": \"\"}}, \"type\": \"scatterternary\"}], \"surface\": [{\"colorbar\": {\"outlinewidth\": 0, \"ticks\": \"\"}, \"colorscale\": [[0.0, \"#0d0887\"], [0.1111111111111111, \"#46039f\"], [0.2222222222222222, \"#7201a8\"], [0.3333333333333333, \"#9c179e\"], [0.4444444444444444, \"#bd3786\"], [0.5555555555555556, \"#d8576b\"], [0.6666666666666666, \"#ed7953\"], [0.7777777777777778, \"#fb9f3a\"], [0.8888888888888888, \"#fdca26\"], [1.0, \"#f0f921\"]], \"type\": \"surface\"}], \"table\": [{\"cells\": {\"fill\": {\"color\": \"#EBF0F8\"}, \"line\": {\"color\": \"white\"}}, \"header\": {\"fill\": {\"color\": \"#C8D4E3\"}, \"line\": {\"color\": \"white\"}}, \"type\": \"table\"}]}, \"layout\": {\"annotationdefaults\": {\"arrowcolor\": \"#2a3f5f\", \"arrowhead\": 0, \"arrowwidth\": 1}, \"coloraxis\": {\"colorbar\": {\"outlinewidth\": 0, \"ticks\": \"\"}}, \"colorscale\": {\"diverging\": [[0, \"#8e0152\"], [0.1, \"#c51b7d\"], [0.2, \"#de77ae\"], [0.3, \"#f1b6da\"], [0.4, \"#fde0ef\"], [0.5, \"#f7f7f7\"], [0.6, \"#e6f5d0\"], [0.7, \"#b8e186\"], [0.8, \"#7fbc41\"], [0.9, \"#4d9221\"], [1, \"#276419\"]], \"sequential\": [[0.0, \"#0d0887\"], [0.1111111111111111, \"#46039f\"], [0.2222222222222222, \"#7201a8\"], [0.3333333333333333, \"#9c179e\"], [0.4444444444444444, \"#bd3786\"], [0.5555555555555556, \"#d8576b\"], [0.6666666666666666, \"#ed7953\"], [0.7777777777777778, \"#fb9f3a\"], [0.8888888888888888, \"#fdca26\"], [1.0, \"#f0f921\"]], \"sequentialminus\": [[0.0, \"#0d0887\"], [0.1111111111111111, \"#46039f\"], [0.2222222222222222, \"#7201a8\"], [0.3333333333333333, \"#9c179e\"], [0.4444444444444444, \"#bd3786\"], [0.5555555555555556, \"#d8576b\"], [0.6666666666666666, \"#ed7953\"], [0.7777777777777778, \"#fb9f3a\"], [0.8888888888888888, \"#fdca26\"], [1.0, \"#f0f921\"]]}, \"colorway\": [\"#636efa\", \"#EF553B\", \"#00cc96\", \"#ab63fa\", \"#FFA15A\", \"#19d3f3\", \"#FF6692\", \"#B6E880\", \"#FF97FF\", \"#FECB52\"], \"font\": {\"color\": \"#2a3f5f\"}, \"geo\": {\"bgcolor\": \"white\", \"lakecolor\": \"white\", \"landcolor\": \"#E5ECF6\", \"showlakes\": true, \"showland\": true, \"subunitcolor\": \"white\"}, \"hoverlabel\": {\"align\": \"left\"}, \"hovermode\": \"closest\", \"mapbox\": {\"style\": \"light\"}, \"paper_bgcolor\": \"white\", \"plot_bgcolor\": \"#E5ECF6\", \"polar\": {\"angularaxis\": {\"gridcolor\": \"white\", \"linecolor\": \"white\", \"ticks\": \"\"}, \"bgcolor\": \"#E5ECF6\", \"radialaxis\": {\"gridcolor\": \"white\", \"linecolor\": \"white\", \"ticks\": \"\"}}, \"scene\": {\"xaxis\": {\"backgroundcolor\": \"#E5ECF6\", \"gridcolor\": \"white\", \"gridwidth\": 2, \"linecolor\": \"white\", \"showbackground\": true, \"ticks\": \"\", \"zerolinecolor\": \"white\"}, \"yaxis\": {\"backgroundcolor\": \"#E5ECF6\", \"gridcolor\": \"white\", \"gridwidth\": 2, \"linecolor\": \"white\", \"showbackground\": true, \"ticks\": \"\", \"zerolinecolor\": \"white\"}, \"zaxis\": {\"backgroundcolor\": \"#E5ECF6\", \"gridcolor\": \"white\", \"gridwidth\": 2, \"linecolor\": \"white\", \"showbackground\": true, \"ticks\": \"\", \"zerolinecolor\": \"white\"}}, \"shapedefaults\": {\"line\": {\"color\": \"#2a3f5f\"}}, \"ternary\": {\"aaxis\": {\"gridcolor\": \"white\", \"linecolor\": \"white\", \"ticks\": \"\"}, \"baxis\": {\"gridcolor\": \"white\", \"linecolor\": \"white\", \"ticks\": \"\"}, \"bgcolor\": \"#E5ECF6\", \"caxis\": {\"gridcolor\": \"white\", \"linecolor\": \"white\", \"ticks\": \"\"}}, \"title\": {\"x\": 0.05}, \"xaxis\": {\"automargin\": true, \"gridcolor\": \"white\", \"linecolor\": \"white\", \"ticks\": \"\", \"title\": {\"standoff\": 15}, \"zerolinecolor\": \"white\", \"zerolinewidth\": 2}, \"yaxis\": {\"automargin\": true, \"gridcolor\": \"white\", \"linecolor\": \"white\", \"ticks\": \"\", \"title\": {\"standoff\": 15}, \"zerolinecolor\": \"white\", \"zerolinewidth\": 2}}}, \"title\": {\"text\": \"United States - Cumulative Cases and Deaths\"}, \"updatemenus\": [{\"active\": 0, \"buttons\": [{\"args\": [{\"visible\": [true, true]}, {\"yaxis\": {\"type\": \"linear\"}}], \"label\": \"Linear Scale\", \"method\": \"update\"}, {\"args\": [{\"visible\": [true, true]}, {\"yaxis\": {\"type\": \"log\"}}], \"label\": \"Logarithmic Scale\", \"method\": \"update\"}], \"direction\": \"right\", \"type\": \"buttons\", \"x\": 0.45, \"xanchor\": \"left\", \"y\": 1.1, \"yanchor\": \"top\"}]},\n",
       "                        {\"responsive\": true}\n",
       "                    ).then(function(){\n",
       "                            \n",
       "var gd = document.getElementById('cd8c0cdb-7f29-4813-867d-3749c9352f6e');\n",
       "var x = new MutationObserver(function (mutations, observer) {{\n",
       "        var display = window.getComputedStyle(gd).display;\n",
       "        if (!display || display === 'none') {{\n",
       "            console.log([gd, 'removed!']);\n",
       "            Plotly.purge(gd);\n",
       "            observer.disconnect();\n",
       "        }}\n",
       "}});\n",
       "\n",
       "// Listen for the removal of the full notebook cells\n",
       "var notebookContainer = gd.closest('#notebook-container');\n",
       "if (notebookContainer) {{\n",
       "    x.observe(notebookContainer, {childList: true});\n",
       "}}\n",
       "\n",
       "// Listen for the clearing of the current output cell\n",
       "var outputEl = gd.closest('.output');\n",
       "if (outputEl) {{\n",
       "    x.observe(outputEl, {childList: true});\n",
       "}}\n",
       "\n",
       "                        })\n",
       "                };\n",
       "                });\n",
       "            </script>\n",
       "        </div>"
      ]
     },
     "metadata": {},
     "output_type": "display_data"
    },
    {
     "data": {
      "text/html": [
       "<style  type=\"text/css\" >\n",
       "</style><table id=\"T_8bed6680_7766_11ea_9cf8_c49ded93ade6\" ><thead>    <tr>        <th class=\"blank\" ></th>        <th class=\"blank level0\" ></th>        <th class=\"col_heading level0 col0\" >3/16/20</th>        <th class=\"col_heading level0 col1\" >3/17/20</th>        <th class=\"col_heading level0 col2\" >3/18/20</th>        <th class=\"col_heading level0 col3\" >3/19/20</th>        <th class=\"col_heading level0 col4\" >3/20/20</th>        <th class=\"col_heading level0 col5\" >3/21/20</th>        <th class=\"col_heading level0 col6\" >3/22/20</th>        <th class=\"col_heading level0 col7\" >3/23/20</th>        <th class=\"col_heading level0 col8\" >3/24/20</th>        <th class=\"col_heading level0 col9\" >3/25/20</th>        <th class=\"col_heading level0 col10\" >3/26/20</th>        <th class=\"col_heading level0 col11\" >3/27/20</th>        <th class=\"col_heading level0 col12\" >3/28/20</th>        <th class=\"col_heading level0 col13\" >3/29/20</th>        <th class=\"col_heading level0 col14\" >3/30/20</th>        <th class=\"col_heading level0 col15\" >3/31/20</th>        <th class=\"col_heading level0 col16\" >4/1/20</th>        <th class=\"col_heading level0 col17\" >4/2/20</th>        <th class=\"col_heading level0 col18\" >4/3/20</th>        <th class=\"col_heading level0 col19\" >4/4/20</th>    </tr>    <tr>        <th class=\"index_name level0\" >Country/Region</th>        <th class=\"index_name level1\" >Category</th>        <th class=\"blank\" ></th>        <th class=\"blank\" ></th>        <th class=\"blank\" ></th>        <th class=\"blank\" ></th>        <th class=\"blank\" ></th>        <th class=\"blank\" ></th>        <th class=\"blank\" ></th>        <th class=\"blank\" ></th>        <th class=\"blank\" ></th>        <th class=\"blank\" ></th>        <th class=\"blank\" ></th>        <th class=\"blank\" ></th>        <th class=\"blank\" ></th>        <th class=\"blank\" ></th>        <th class=\"blank\" ></th>        <th class=\"blank\" ></th>        <th class=\"blank\" ></th>        <th class=\"blank\" ></th>        <th class=\"blank\" ></th>        <th class=\"blank\" ></th>    </tr></thead><tbody>\n",
       "                <tr>\n",
       "                        <th id=\"T_8bed6680_7766_11ea_9cf8_c49ded93ade6level0_row0\" class=\"row_heading level0 row0\" rowspan=2>US</th>\n",
       "                        <th id=\"T_8bed6680_7766_11ea_9cf8_c49ded93ade6level1_row0\" class=\"row_heading level1 row0\" >Confirmed Cases</th>\n",
       "                        <td id=\"T_8bed6680_7766_11ea_9cf8_c49ded93ade6row0_col0\" class=\"data row0 col0\" >4,632</td>\n",
       "                        <td id=\"T_8bed6680_7766_11ea_9cf8_c49ded93ade6row0_col1\" class=\"data row0 col1\" >6,421</td>\n",
       "                        <td id=\"T_8bed6680_7766_11ea_9cf8_c49ded93ade6row0_col2\" class=\"data row0 col2\" >7,783</td>\n",
       "                        <td id=\"T_8bed6680_7766_11ea_9cf8_c49ded93ade6row0_col3\" class=\"data row0 col3\" >13,677</td>\n",
       "                        <td id=\"T_8bed6680_7766_11ea_9cf8_c49ded93ade6row0_col4\" class=\"data row0 col4\" >19,100</td>\n",
       "                        <td id=\"T_8bed6680_7766_11ea_9cf8_c49ded93ade6row0_col5\" class=\"data row0 col5\" >25,489</td>\n",
       "                        <td id=\"T_8bed6680_7766_11ea_9cf8_c49ded93ade6row0_col6\" class=\"data row0 col6\" >33,276</td>\n",
       "                        <td id=\"T_8bed6680_7766_11ea_9cf8_c49ded93ade6row0_col7\" class=\"data row0 col7\" >43,847</td>\n",
       "                        <td id=\"T_8bed6680_7766_11ea_9cf8_c49ded93ade6row0_col8\" class=\"data row0 col8\" >53,740</td>\n",
       "                        <td id=\"T_8bed6680_7766_11ea_9cf8_c49ded93ade6row0_col9\" class=\"data row0 col9\" >65,778</td>\n",
       "                        <td id=\"T_8bed6680_7766_11ea_9cf8_c49ded93ade6row0_col10\" class=\"data row0 col10\" >83,836</td>\n",
       "                        <td id=\"T_8bed6680_7766_11ea_9cf8_c49ded93ade6row0_col11\" class=\"data row0 col11\" >101,657</td>\n",
       "                        <td id=\"T_8bed6680_7766_11ea_9cf8_c49ded93ade6row0_col12\" class=\"data row0 col12\" >121,478</td>\n",
       "                        <td id=\"T_8bed6680_7766_11ea_9cf8_c49ded93ade6row0_col13\" class=\"data row0 col13\" >140,886</td>\n",
       "                        <td id=\"T_8bed6680_7766_11ea_9cf8_c49ded93ade6row0_col14\" class=\"data row0 col14\" >161,807</td>\n",
       "                        <td id=\"T_8bed6680_7766_11ea_9cf8_c49ded93ade6row0_col15\" class=\"data row0 col15\" >188,172</td>\n",
       "                        <td id=\"T_8bed6680_7766_11ea_9cf8_c49ded93ade6row0_col16\" class=\"data row0 col16\" >213,372</td>\n",
       "                        <td id=\"T_8bed6680_7766_11ea_9cf8_c49ded93ade6row0_col17\" class=\"data row0 col17\" >243,453</td>\n",
       "                        <td id=\"T_8bed6680_7766_11ea_9cf8_c49ded93ade6row0_col18\" class=\"data row0 col18\" >275,586</td>\n",
       "                        <td id=\"T_8bed6680_7766_11ea_9cf8_c49ded93ade6row0_col19\" class=\"data row0 col19\" >308,850</td>\n",
       "            </tr>\n",
       "            <tr>\n",
       "                                <th id=\"T_8bed6680_7766_11ea_9cf8_c49ded93ade6level1_row1\" class=\"row_heading level1 row1\" >Deaths</th>\n",
       "                        <td id=\"T_8bed6680_7766_11ea_9cf8_c49ded93ade6row1_col0\" class=\"data row1 col0\" >85</td>\n",
       "                        <td id=\"T_8bed6680_7766_11ea_9cf8_c49ded93ade6row1_col1\" class=\"data row1 col1\" >108</td>\n",
       "                        <td id=\"T_8bed6680_7766_11ea_9cf8_c49ded93ade6row1_col2\" class=\"data row1 col2\" >118</td>\n",
       "                        <td id=\"T_8bed6680_7766_11ea_9cf8_c49ded93ade6row1_col3\" class=\"data row1 col3\" >200</td>\n",
       "                        <td id=\"T_8bed6680_7766_11ea_9cf8_c49ded93ade6row1_col4\" class=\"data row1 col4\" >244</td>\n",
       "                        <td id=\"T_8bed6680_7766_11ea_9cf8_c49ded93ade6row1_col5\" class=\"data row1 col5\" >307</td>\n",
       "                        <td id=\"T_8bed6680_7766_11ea_9cf8_c49ded93ade6row1_col6\" class=\"data row1 col6\" >417</td>\n",
       "                        <td id=\"T_8bed6680_7766_11ea_9cf8_c49ded93ade6row1_col7\" class=\"data row1 col7\" >557</td>\n",
       "                        <td id=\"T_8bed6680_7766_11ea_9cf8_c49ded93ade6row1_col8\" class=\"data row1 col8\" >706</td>\n",
       "                        <td id=\"T_8bed6680_7766_11ea_9cf8_c49ded93ade6row1_col9\" class=\"data row1 col9\" >942</td>\n",
       "                        <td id=\"T_8bed6680_7766_11ea_9cf8_c49ded93ade6row1_col10\" class=\"data row1 col10\" >1,209</td>\n",
       "                        <td id=\"T_8bed6680_7766_11ea_9cf8_c49ded93ade6row1_col11\" class=\"data row1 col11\" >1,581</td>\n",
       "                        <td id=\"T_8bed6680_7766_11ea_9cf8_c49ded93ade6row1_col12\" class=\"data row1 col12\" >2,026</td>\n",
       "                        <td id=\"T_8bed6680_7766_11ea_9cf8_c49ded93ade6row1_col13\" class=\"data row1 col13\" >2,467</td>\n",
       "                        <td id=\"T_8bed6680_7766_11ea_9cf8_c49ded93ade6row1_col14\" class=\"data row1 col14\" >2,978</td>\n",
       "                        <td id=\"T_8bed6680_7766_11ea_9cf8_c49ded93ade6row1_col15\" class=\"data row1 col15\" >3,873</td>\n",
       "                        <td id=\"T_8bed6680_7766_11ea_9cf8_c49ded93ade6row1_col16\" class=\"data row1 col16\" >4,757</td>\n",
       "                        <td id=\"T_8bed6680_7766_11ea_9cf8_c49ded93ade6row1_col17\" class=\"data row1 col17\" >5,926</td>\n",
       "                        <td id=\"T_8bed6680_7766_11ea_9cf8_c49ded93ade6row1_col18\" class=\"data row1 col18\" >7,087</td>\n",
       "                        <td id=\"T_8bed6680_7766_11ea_9cf8_c49ded93ade6row1_col19\" class=\"data row1 col19\" >8,407</td>\n",
       "            </tr>\n",
       "    </tbody></table>"
      ],
      "text/plain": [
       "<pandas.io.formats.style.Styler at 0xfbb8810>"
      ]
     },
     "execution_count": 12,
     "metadata": {},
     "output_type": "execute_result"
    }
   ],
   "source": [
    "dfUSConfirmed = dfConfirmedGlobal[dfConfirmedGlobal['Country/Region'] == 'US'].copy()\n",
    "dfUSDeaths =  dfDeathsGlobal[dfConfirmedGlobal['Country/Region'] == 'US'].copy()\n",
    "\n",
    "trace1 = go.Scatter(\n",
    "    x = dfUSConfirmed.columns[-DEFAULT_DAYS:],\n",
    "    y = dfUSConfirmed.iloc[0][-DEFAULT_DAYS:], name = 'Confirmed Cases')\n",
    "\n",
    "trace2 = go.Scatter(\n",
    "    x = dfUSDeaths.columns[-DEFAULT_DAYS:],\n",
    "    y = dfUSDeaths.iloc[0][-DEFAULT_DAYS:], name = 'Deaths')\n",
    "\n",
    "data = [trace1, trace2]\n",
    "layout = dict(title = 'United States - Cumulative Cases and Deaths', updatemenus=LogLinearScale)\n",
    "\n",
    "py.iplot(dict(data=data, layout=layout))\n",
    "dfUSConfirmed['Category'] = 'Confirmed Cases'\n",
    "dfUSConfirmed = dfUSConfirmed.set_index(['Country/Region', 'Category'])\n",
    "dfUSDeaths['Category'] = 'Deaths'\n",
    "dfUSDeaths = dfUSDeaths.set_index(['Country/Region', 'Category'])\n",
    "\n",
    "dfUSCombined = pd.concat([dfUSConfirmed, dfUSDeaths])\n",
    "dfUSCombined[dfUSCombined.columns[-DEFAULT_DAYS:]].style.format(IntegerFormatter)"
   ]
  },
  {
   "cell_type": "code",
   "execution_count": 13,
   "metadata": {
    "ExecuteTime": {
     "end_time": "2020-04-05T17:54:51.391803Z",
     "start_time": "2020-04-05T17:54:50.635994Z"
    }
   },
   "outputs": [
    {
     "data": {
      "application/vnd.plotly.v1+json": {
       "config": {
        "linkText": "Export to plot.ly",
        "plotlyServerURL": "https://plot.ly",
        "showLink": false
       },
       "data": [
        {
         "name": "New Confirmed Cases",
         "type": "bar",
         "x": [
          "3/5/20",
          "3/6/20",
          "3/7/20",
          "3/8/20",
          "3/9/20",
          "3/10/20",
          "3/11/20",
          "3/12/20",
          "3/13/20",
          "3/14/20",
          "3/15/20",
          "3/16/20",
          "3/17/20",
          "3/18/20",
          "3/19/20",
          "3/20/20",
          "3/21/20",
          "3/22/20",
          "3/23/20",
          "3/24/20",
          "3/25/20",
          "3/26/20",
          "3/27/20",
          "3/28/20",
          "3/29/20",
          "3/30/20",
          "3/31/20",
          "4/1/20",
          "4/2/20",
          "4/3/20",
          "4/4/20"
         ],
         "y": [
          68,
          45,
          140,
          116,
          65,
          376,
          322,
          382,
          516,
          548,
          772,
          1133,
          1789,
          1362,
          5894,
          5423,
          6389,
          7787,
          10571,
          9893,
          12038,
          18058,
          17821,
          19821,
          19408,
          20921,
          26365,
          25200,
          30081,
          32133,
          33264
         ]
        },
        {
         "name": "New Deaths",
         "type": "bar",
         "x": [
          "3/5/20",
          "3/6/20",
          "3/7/20",
          "3/8/20",
          "3/9/20",
          "3/10/20",
          "3/11/20",
          "3/12/20",
          "3/13/20",
          "3/14/20",
          "3/15/20",
          "3/16/20",
          "3/17/20",
          "3/18/20",
          "3/19/20",
          "3/20/20",
          "3/21/20",
          "3/22/20",
          "3/23/20",
          "3/24/20",
          "3/25/20",
          "3/26/20",
          "3/27/20",
          "3/28/20",
          "3/29/20",
          "3/30/20",
          "3/31/20",
          "4/1/20",
          "4/2/20",
          "4/3/20",
          "4/4/20"
         ],
         "y": [
          1,
          2,
          3,
          4,
          1,
          6,
          8,
          4,
          7,
          7,
          9,
          22,
          23,
          10,
          82,
          44,
          63,
          110,
          140,
          149,
          236,
          267,
          372,
          445,
          441,
          511,
          895,
          884,
          1169,
          1161,
          1320
         ]
        },
        {
         "name": "7-day avg Confirmed Cases",
         "type": "scatter",
         "x": [
          "3/5/20",
          "3/6/20",
          "3/7/20",
          "3/8/20",
          "3/9/20",
          "3/10/20",
          "3/11/20",
          "3/12/20",
          "3/13/20",
          "3/14/20",
          "3/15/20",
          "3/16/20",
          "3/17/20",
          "3/18/20",
          "3/19/20",
          "3/20/20",
          "3/21/20",
          "3/22/20",
          "3/23/20",
          "3/24/20",
          "3/25/20",
          "3/26/20",
          "3/27/20",
          "3/28/20",
          "3/29/20",
          "3/30/20",
          "3/31/20",
          "4/1/20",
          "4/2/20",
          "4/3/20",
          "4/4/20"
         ],
         "y": [
          22.714285714285715,
          28.857142857142858,
          47.714285714285715,
          63.42857142857143,
          69.28571428571429,
          120.14285714285714,
          161.71428571428572,
          206.57142857142858,
          273.85714285714283,
          332.14285714285717,
          425.85714285714283,
          578.4285714285714,
          780.2857142857143,
          928.8571428571429,
          1716.2857142857142,
          2417.285714285714,
          3251.714285714286,
          4253.857142857143,
          5602.142857142857,
          6759.857142857143,
          8285,
          10022.714285714286,
          11793.857142857143,
          13712.714285714286,
          15372.857142857143,
          16851.428571428572,
          19204.571428571428,
          21084.85714285714,
          22802.428571428572,
          24847,
          26767.428571428572
         ]
        },
        {
         "name": "7-day avg Deaths",
         "type": "scatter",
         "x": [
          "3/5/20",
          "3/6/20",
          "3/7/20",
          "3/8/20",
          "3/9/20",
          "3/10/20",
          "3/11/20",
          "3/12/20",
          "3/13/20",
          "3/14/20",
          "3/15/20",
          "3/16/20",
          "3/17/20",
          "3/18/20",
          "3/19/20",
          "3/20/20",
          "3/21/20",
          "3/22/20",
          "3/23/20",
          "3/24/20",
          "3/25/20",
          "3/26/20",
          "3/27/20",
          "3/28/20",
          "3/29/20",
          "3/30/20",
          "3/31/20",
          "4/1/20",
          "4/2/20",
          "4/3/20",
          "4/4/20"
         ],
         "y": [
          1.7142857142857142,
          2,
          2.2857142857142856,
          2.857142857142857,
          2.2857142857142856,
          3,
          3.5714285714285716,
          4,
          4.714285714285714,
          5.285714285714286,
          6,
          9,
          11.428571428571429,
          11.714285714285714,
          22.857142857142858,
          28.142857142857142,
          36.142857142857146,
          50.57142857142857,
          67.42857142857143,
          85.42857142857143,
          117.71428571428571,
          144.14285714285714,
          191,
          245.57142857142858,
          292.85714285714283,
          345.85714285714283,
          452.42857142857144,
          545,
          673.8571428571429,
          786.5714285714286,
          911.5714285714286
         ]
        }
       ],
       "layout": {
        "template": {
         "data": {
          "bar": [
           {
            "error_x": {
             "color": "#2a3f5f"
            },
            "error_y": {
             "color": "#2a3f5f"
            },
            "marker": {
             "line": {
              "color": "#E5ECF6",
              "width": 0.5
             }
            },
            "type": "bar"
           }
          ],
          "barpolar": [
           {
            "marker": {
             "line": {
              "color": "#E5ECF6",
              "width": 0.5
             }
            },
            "type": "barpolar"
           }
          ],
          "carpet": [
           {
            "aaxis": {
             "endlinecolor": "#2a3f5f",
             "gridcolor": "white",
             "linecolor": "white",
             "minorgridcolor": "white",
             "startlinecolor": "#2a3f5f"
            },
            "baxis": {
             "endlinecolor": "#2a3f5f",
             "gridcolor": "white",
             "linecolor": "white",
             "minorgridcolor": "white",
             "startlinecolor": "#2a3f5f"
            },
            "type": "carpet"
           }
          ],
          "choropleth": [
           {
            "colorbar": {
             "outlinewidth": 0,
             "ticks": ""
            },
            "type": "choropleth"
           }
          ],
          "contour": [
           {
            "colorbar": {
             "outlinewidth": 0,
             "ticks": ""
            },
            "colorscale": [
             [
              0,
              "#0d0887"
             ],
             [
              0.1111111111111111,
              "#46039f"
             ],
             [
              0.2222222222222222,
              "#7201a8"
             ],
             [
              0.3333333333333333,
              "#9c179e"
             ],
             [
              0.4444444444444444,
              "#bd3786"
             ],
             [
              0.5555555555555556,
              "#d8576b"
             ],
             [
              0.6666666666666666,
              "#ed7953"
             ],
             [
              0.7777777777777778,
              "#fb9f3a"
             ],
             [
              0.8888888888888888,
              "#fdca26"
             ],
             [
              1,
              "#f0f921"
             ]
            ],
            "type": "contour"
           }
          ],
          "contourcarpet": [
           {
            "colorbar": {
             "outlinewidth": 0,
             "ticks": ""
            },
            "type": "contourcarpet"
           }
          ],
          "heatmap": [
           {
            "colorbar": {
             "outlinewidth": 0,
             "ticks": ""
            },
            "colorscale": [
             [
              0,
              "#0d0887"
             ],
             [
              0.1111111111111111,
              "#46039f"
             ],
             [
              0.2222222222222222,
              "#7201a8"
             ],
             [
              0.3333333333333333,
              "#9c179e"
             ],
             [
              0.4444444444444444,
              "#bd3786"
             ],
             [
              0.5555555555555556,
              "#d8576b"
             ],
             [
              0.6666666666666666,
              "#ed7953"
             ],
             [
              0.7777777777777778,
              "#fb9f3a"
             ],
             [
              0.8888888888888888,
              "#fdca26"
             ],
             [
              1,
              "#f0f921"
             ]
            ],
            "type": "heatmap"
           }
          ],
          "heatmapgl": [
           {
            "colorbar": {
             "outlinewidth": 0,
             "ticks": ""
            },
            "colorscale": [
             [
              0,
              "#0d0887"
             ],
             [
              0.1111111111111111,
              "#46039f"
             ],
             [
              0.2222222222222222,
              "#7201a8"
             ],
             [
              0.3333333333333333,
              "#9c179e"
             ],
             [
              0.4444444444444444,
              "#bd3786"
             ],
             [
              0.5555555555555556,
              "#d8576b"
             ],
             [
              0.6666666666666666,
              "#ed7953"
             ],
             [
              0.7777777777777778,
              "#fb9f3a"
             ],
             [
              0.8888888888888888,
              "#fdca26"
             ],
             [
              1,
              "#f0f921"
             ]
            ],
            "type": "heatmapgl"
           }
          ],
          "histogram": [
           {
            "marker": {
             "colorbar": {
              "outlinewidth": 0,
              "ticks": ""
             }
            },
            "type": "histogram"
           }
          ],
          "histogram2d": [
           {
            "colorbar": {
             "outlinewidth": 0,
             "ticks": ""
            },
            "colorscale": [
             [
              0,
              "#0d0887"
             ],
             [
              0.1111111111111111,
              "#46039f"
             ],
             [
              0.2222222222222222,
              "#7201a8"
             ],
             [
              0.3333333333333333,
              "#9c179e"
             ],
             [
              0.4444444444444444,
              "#bd3786"
             ],
             [
              0.5555555555555556,
              "#d8576b"
             ],
             [
              0.6666666666666666,
              "#ed7953"
             ],
             [
              0.7777777777777778,
              "#fb9f3a"
             ],
             [
              0.8888888888888888,
              "#fdca26"
             ],
             [
              1,
              "#f0f921"
             ]
            ],
            "type": "histogram2d"
           }
          ],
          "histogram2dcontour": [
           {
            "colorbar": {
             "outlinewidth": 0,
             "ticks": ""
            },
            "colorscale": [
             [
              0,
              "#0d0887"
             ],
             [
              0.1111111111111111,
              "#46039f"
             ],
             [
              0.2222222222222222,
              "#7201a8"
             ],
             [
              0.3333333333333333,
              "#9c179e"
             ],
             [
              0.4444444444444444,
              "#bd3786"
             ],
             [
              0.5555555555555556,
              "#d8576b"
             ],
             [
              0.6666666666666666,
              "#ed7953"
             ],
             [
              0.7777777777777778,
              "#fb9f3a"
             ],
             [
              0.8888888888888888,
              "#fdca26"
             ],
             [
              1,
              "#f0f921"
             ]
            ],
            "type": "histogram2dcontour"
           }
          ],
          "mesh3d": [
           {
            "colorbar": {
             "outlinewidth": 0,
             "ticks": ""
            },
            "type": "mesh3d"
           }
          ],
          "parcoords": [
           {
            "line": {
             "colorbar": {
              "outlinewidth": 0,
              "ticks": ""
             }
            },
            "type": "parcoords"
           }
          ],
          "pie": [
           {
            "automargin": true,
            "type": "pie"
           }
          ],
          "scatter": [
           {
            "marker": {
             "colorbar": {
              "outlinewidth": 0,
              "ticks": ""
             }
            },
            "type": "scatter"
           }
          ],
          "scatter3d": [
           {
            "line": {
             "colorbar": {
              "outlinewidth": 0,
              "ticks": ""
             }
            },
            "marker": {
             "colorbar": {
              "outlinewidth": 0,
              "ticks": ""
             }
            },
            "type": "scatter3d"
           }
          ],
          "scattercarpet": [
           {
            "marker": {
             "colorbar": {
              "outlinewidth": 0,
              "ticks": ""
             }
            },
            "type": "scattercarpet"
           }
          ],
          "scattergeo": [
           {
            "marker": {
             "colorbar": {
              "outlinewidth": 0,
              "ticks": ""
             }
            },
            "type": "scattergeo"
           }
          ],
          "scattergl": [
           {
            "marker": {
             "colorbar": {
              "outlinewidth": 0,
              "ticks": ""
             }
            },
            "type": "scattergl"
           }
          ],
          "scattermapbox": [
           {
            "marker": {
             "colorbar": {
              "outlinewidth": 0,
              "ticks": ""
             }
            },
            "type": "scattermapbox"
           }
          ],
          "scatterpolar": [
           {
            "marker": {
             "colorbar": {
              "outlinewidth": 0,
              "ticks": ""
             }
            },
            "type": "scatterpolar"
           }
          ],
          "scatterpolargl": [
           {
            "marker": {
             "colorbar": {
              "outlinewidth": 0,
              "ticks": ""
             }
            },
            "type": "scatterpolargl"
           }
          ],
          "scatterternary": [
           {
            "marker": {
             "colorbar": {
              "outlinewidth": 0,
              "ticks": ""
             }
            },
            "type": "scatterternary"
           }
          ],
          "surface": [
           {
            "colorbar": {
             "outlinewidth": 0,
             "ticks": ""
            },
            "colorscale": [
             [
              0,
              "#0d0887"
             ],
             [
              0.1111111111111111,
              "#46039f"
             ],
             [
              0.2222222222222222,
              "#7201a8"
             ],
             [
              0.3333333333333333,
              "#9c179e"
             ],
             [
              0.4444444444444444,
              "#bd3786"
             ],
             [
              0.5555555555555556,
              "#d8576b"
             ],
             [
              0.6666666666666666,
              "#ed7953"
             ],
             [
              0.7777777777777778,
              "#fb9f3a"
             ],
             [
              0.8888888888888888,
              "#fdca26"
             ],
             [
              1,
              "#f0f921"
             ]
            ],
            "type": "surface"
           }
          ],
          "table": [
           {
            "cells": {
             "fill": {
              "color": "#EBF0F8"
             },
             "line": {
              "color": "white"
             }
            },
            "header": {
             "fill": {
              "color": "#C8D4E3"
             },
             "line": {
              "color": "white"
             }
            },
            "type": "table"
           }
          ]
         },
         "layout": {
          "annotationdefaults": {
           "arrowcolor": "#2a3f5f",
           "arrowhead": 0,
           "arrowwidth": 1
          },
          "coloraxis": {
           "colorbar": {
            "outlinewidth": 0,
            "ticks": ""
           }
          },
          "colorscale": {
           "diverging": [
            [
             0,
             "#8e0152"
            ],
            [
             0.1,
             "#c51b7d"
            ],
            [
             0.2,
             "#de77ae"
            ],
            [
             0.3,
             "#f1b6da"
            ],
            [
             0.4,
             "#fde0ef"
            ],
            [
             0.5,
             "#f7f7f7"
            ],
            [
             0.6,
             "#e6f5d0"
            ],
            [
             0.7,
             "#b8e186"
            ],
            [
             0.8,
             "#7fbc41"
            ],
            [
             0.9,
             "#4d9221"
            ],
            [
             1,
             "#276419"
            ]
           ],
           "sequential": [
            [
             0,
             "#0d0887"
            ],
            [
             0.1111111111111111,
             "#46039f"
            ],
            [
             0.2222222222222222,
             "#7201a8"
            ],
            [
             0.3333333333333333,
             "#9c179e"
            ],
            [
             0.4444444444444444,
             "#bd3786"
            ],
            [
             0.5555555555555556,
             "#d8576b"
            ],
            [
             0.6666666666666666,
             "#ed7953"
            ],
            [
             0.7777777777777778,
             "#fb9f3a"
            ],
            [
             0.8888888888888888,
             "#fdca26"
            ],
            [
             1,
             "#f0f921"
            ]
           ],
           "sequentialminus": [
            [
             0,
             "#0d0887"
            ],
            [
             0.1111111111111111,
             "#46039f"
            ],
            [
             0.2222222222222222,
             "#7201a8"
            ],
            [
             0.3333333333333333,
             "#9c179e"
            ],
            [
             0.4444444444444444,
             "#bd3786"
            ],
            [
             0.5555555555555556,
             "#d8576b"
            ],
            [
             0.6666666666666666,
             "#ed7953"
            ],
            [
             0.7777777777777778,
             "#fb9f3a"
            ],
            [
             0.8888888888888888,
             "#fdca26"
            ],
            [
             1,
             "#f0f921"
            ]
           ]
          },
          "colorway": [
           "#636efa",
           "#EF553B",
           "#00cc96",
           "#ab63fa",
           "#FFA15A",
           "#19d3f3",
           "#FF6692",
           "#B6E880",
           "#FF97FF",
           "#FECB52"
          ],
          "font": {
           "color": "#2a3f5f"
          },
          "geo": {
           "bgcolor": "white",
           "lakecolor": "white",
           "landcolor": "#E5ECF6",
           "showlakes": true,
           "showland": true,
           "subunitcolor": "white"
          },
          "hoverlabel": {
           "align": "left"
          },
          "hovermode": "closest",
          "mapbox": {
           "style": "light"
          },
          "paper_bgcolor": "white",
          "plot_bgcolor": "#E5ECF6",
          "polar": {
           "angularaxis": {
            "gridcolor": "white",
            "linecolor": "white",
            "ticks": ""
           },
           "bgcolor": "#E5ECF6",
           "radialaxis": {
            "gridcolor": "white",
            "linecolor": "white",
            "ticks": ""
           }
          },
          "scene": {
           "xaxis": {
            "backgroundcolor": "#E5ECF6",
            "gridcolor": "white",
            "gridwidth": 2,
            "linecolor": "white",
            "showbackground": true,
            "ticks": "",
            "zerolinecolor": "white"
           },
           "yaxis": {
            "backgroundcolor": "#E5ECF6",
            "gridcolor": "white",
            "gridwidth": 2,
            "linecolor": "white",
            "showbackground": true,
            "ticks": "",
            "zerolinecolor": "white"
           },
           "zaxis": {
            "backgroundcolor": "#E5ECF6",
            "gridcolor": "white",
            "gridwidth": 2,
            "linecolor": "white",
            "showbackground": true,
            "ticks": "",
            "zerolinecolor": "white"
           }
          },
          "shapedefaults": {
           "line": {
            "color": "#2a3f5f"
           }
          },
          "ternary": {
           "aaxis": {
            "gridcolor": "white",
            "linecolor": "white",
            "ticks": ""
           },
           "baxis": {
            "gridcolor": "white",
            "linecolor": "white",
            "ticks": ""
           },
           "bgcolor": "#E5ECF6",
           "caxis": {
            "gridcolor": "white",
            "linecolor": "white",
            "ticks": ""
           }
          },
          "title": {
           "x": 0.05
          },
          "xaxis": {
           "automargin": true,
           "gridcolor": "white",
           "linecolor": "white",
           "ticks": "",
           "title": {
            "standoff": 15
           },
           "zerolinecolor": "white",
           "zerolinewidth": 2
          },
          "yaxis": {
           "automargin": true,
           "gridcolor": "white",
           "linecolor": "white",
           "ticks": "",
           "title": {
            "standoff": 15
           },
           "zerolinecolor": "white",
           "zerolinewidth": 2
          }
         }
        },
        "title": {
         "text": "United States - Daily New Cases and Deaths"
        }
       }
      },
      "text/html": [
       "<div>\n",
       "        \n",
       "        \n",
       "            <div id=\"3e83a3b7-a3e4-43be-b402-679877cbe719\" class=\"plotly-graph-div\" style=\"height:525px; width:100%;\"></div>\n",
       "            <script type=\"text/javascript\">\n",
       "                require([\"plotly\"], function(Plotly) {\n",
       "                    window.PLOTLYENV=window.PLOTLYENV || {};\n",
       "                    \n",
       "                if (document.getElementById(\"3e83a3b7-a3e4-43be-b402-679877cbe719\")) {\n",
       "                    Plotly.newPlot(\n",
       "                        '3e83a3b7-a3e4-43be-b402-679877cbe719',\n",
       "                        [{\"name\": \"New Confirmed Cases\", \"type\": \"bar\", \"x\": [\"3/5/20\", \"3/6/20\", \"3/7/20\", \"3/8/20\", \"3/9/20\", \"3/10/20\", \"3/11/20\", \"3/12/20\", \"3/13/20\", \"3/14/20\", \"3/15/20\", \"3/16/20\", \"3/17/20\", \"3/18/20\", \"3/19/20\", \"3/20/20\", \"3/21/20\", \"3/22/20\", \"3/23/20\", \"3/24/20\", \"3/25/20\", \"3/26/20\", \"3/27/20\", \"3/28/20\", \"3/29/20\", \"3/30/20\", \"3/31/20\", \"4/1/20\", \"4/2/20\", \"4/3/20\", \"4/4/20\"], \"y\": [68.0, 45.0, 140.0, 116.0, 65.0, 376.0, 322.0, 382.0, 516.0, 548.0, 772.0, 1133.0, 1789.0, 1362.0, 5894.0, 5423.0, 6389.0, 7787.0, 10571.0, 9893.0, 12038.0, 18058.0, 17821.0, 19821.0, 19408.0, 20921.0, 26365.0, 25200.0, 30081.0, 32133.0, 33264.0]}, {\"name\": \"New Deaths\", \"type\": \"bar\", \"x\": [\"3/5/20\", \"3/6/20\", \"3/7/20\", \"3/8/20\", \"3/9/20\", \"3/10/20\", \"3/11/20\", \"3/12/20\", \"3/13/20\", \"3/14/20\", \"3/15/20\", \"3/16/20\", \"3/17/20\", \"3/18/20\", \"3/19/20\", \"3/20/20\", \"3/21/20\", \"3/22/20\", \"3/23/20\", \"3/24/20\", \"3/25/20\", \"3/26/20\", \"3/27/20\", \"3/28/20\", \"3/29/20\", \"3/30/20\", \"3/31/20\", \"4/1/20\", \"4/2/20\", \"4/3/20\", \"4/4/20\"], \"y\": [1.0, 2.0, 3.0, 4.0, 1.0, 6.0, 8.0, 4.0, 7.0, 7.0, 9.0, 22.0, 23.0, 10.0, 82.0, 44.0, 63.0, 110.0, 140.0, 149.0, 236.0, 267.0, 372.0, 445.0, 441.0, 511.0, 895.0, 884.0, 1169.0, 1161.0, 1320.0]}, {\"name\": \"7-day avg Confirmed Cases\", \"type\": \"scatter\", \"x\": [\"3/5/20\", \"3/6/20\", \"3/7/20\", \"3/8/20\", \"3/9/20\", \"3/10/20\", \"3/11/20\", \"3/12/20\", \"3/13/20\", \"3/14/20\", \"3/15/20\", \"3/16/20\", \"3/17/20\", \"3/18/20\", \"3/19/20\", \"3/20/20\", \"3/21/20\", \"3/22/20\", \"3/23/20\", \"3/24/20\", \"3/25/20\", \"3/26/20\", \"3/27/20\", \"3/28/20\", \"3/29/20\", \"3/30/20\", \"3/31/20\", \"4/1/20\", \"4/2/20\", \"4/3/20\", \"4/4/20\"], \"y\": [22.714285714285715, 28.857142857142858, 47.714285714285715, 63.42857142857143, 69.28571428571429, 120.14285714285714, 161.71428571428572, 206.57142857142858, 273.85714285714283, 332.14285714285717, 425.85714285714283, 578.4285714285714, 780.2857142857143, 928.8571428571429, 1716.2857142857142, 2417.285714285714, 3251.714285714286, 4253.857142857143, 5602.142857142857, 6759.857142857143, 8285.0, 10022.714285714286, 11793.857142857143, 13712.714285714286, 15372.857142857143, 16851.428571428572, 19204.571428571428, 21084.85714285714, 22802.428571428572, 24847.0, 26767.428571428572]}, {\"name\": \"7-day avg Deaths\", \"type\": \"scatter\", \"x\": [\"3/5/20\", \"3/6/20\", \"3/7/20\", \"3/8/20\", \"3/9/20\", \"3/10/20\", \"3/11/20\", \"3/12/20\", \"3/13/20\", \"3/14/20\", \"3/15/20\", \"3/16/20\", \"3/17/20\", \"3/18/20\", \"3/19/20\", \"3/20/20\", \"3/21/20\", \"3/22/20\", \"3/23/20\", \"3/24/20\", \"3/25/20\", \"3/26/20\", \"3/27/20\", \"3/28/20\", \"3/29/20\", \"3/30/20\", \"3/31/20\", \"4/1/20\", \"4/2/20\", \"4/3/20\", \"4/4/20\"], \"y\": [1.7142857142857142, 2.0, 2.2857142857142856, 2.857142857142857, 2.2857142857142856, 3.0, 3.5714285714285716, 4.0, 4.714285714285714, 5.285714285714286, 6.0, 9.0, 11.428571428571429, 11.714285714285714, 22.857142857142858, 28.142857142857142, 36.142857142857146, 50.57142857142857, 67.42857142857143, 85.42857142857143, 117.71428571428571, 144.14285714285714, 191.0, 245.57142857142858, 292.85714285714283, 345.85714285714283, 452.42857142857144, 545.0, 673.8571428571429, 786.5714285714286, 911.5714285714286]}],\n",
       "                        {\"template\": {\"data\": {\"bar\": [{\"error_x\": {\"color\": \"#2a3f5f\"}, \"error_y\": {\"color\": \"#2a3f5f\"}, \"marker\": {\"line\": {\"color\": \"#E5ECF6\", \"width\": 0.5}}, \"type\": \"bar\"}], \"barpolar\": [{\"marker\": {\"line\": {\"color\": \"#E5ECF6\", \"width\": 0.5}}, \"type\": \"barpolar\"}], \"carpet\": [{\"aaxis\": {\"endlinecolor\": \"#2a3f5f\", \"gridcolor\": \"white\", \"linecolor\": \"white\", \"minorgridcolor\": \"white\", \"startlinecolor\": \"#2a3f5f\"}, \"baxis\": {\"endlinecolor\": \"#2a3f5f\", \"gridcolor\": \"white\", \"linecolor\": \"white\", \"minorgridcolor\": \"white\", \"startlinecolor\": \"#2a3f5f\"}, \"type\": \"carpet\"}], \"choropleth\": [{\"colorbar\": {\"outlinewidth\": 0, \"ticks\": \"\"}, \"type\": \"choropleth\"}], \"contour\": [{\"colorbar\": {\"outlinewidth\": 0, \"ticks\": \"\"}, \"colorscale\": [[0.0, \"#0d0887\"], [0.1111111111111111, \"#46039f\"], [0.2222222222222222, \"#7201a8\"], [0.3333333333333333, \"#9c179e\"], [0.4444444444444444, \"#bd3786\"], [0.5555555555555556, \"#d8576b\"], [0.6666666666666666, \"#ed7953\"], [0.7777777777777778, \"#fb9f3a\"], [0.8888888888888888, \"#fdca26\"], [1.0, \"#f0f921\"]], \"type\": \"contour\"}], \"contourcarpet\": [{\"colorbar\": {\"outlinewidth\": 0, \"ticks\": \"\"}, \"type\": \"contourcarpet\"}], \"heatmap\": [{\"colorbar\": {\"outlinewidth\": 0, \"ticks\": \"\"}, \"colorscale\": [[0.0, \"#0d0887\"], [0.1111111111111111, \"#46039f\"], [0.2222222222222222, \"#7201a8\"], [0.3333333333333333, \"#9c179e\"], [0.4444444444444444, \"#bd3786\"], [0.5555555555555556, \"#d8576b\"], [0.6666666666666666, \"#ed7953\"], [0.7777777777777778, \"#fb9f3a\"], [0.8888888888888888, \"#fdca26\"], [1.0, \"#f0f921\"]], \"type\": \"heatmap\"}], \"heatmapgl\": [{\"colorbar\": {\"outlinewidth\": 0, \"ticks\": \"\"}, \"colorscale\": [[0.0, \"#0d0887\"], [0.1111111111111111, \"#46039f\"], [0.2222222222222222, \"#7201a8\"], [0.3333333333333333, \"#9c179e\"], [0.4444444444444444, \"#bd3786\"], [0.5555555555555556, \"#d8576b\"], [0.6666666666666666, \"#ed7953\"], [0.7777777777777778, \"#fb9f3a\"], [0.8888888888888888, \"#fdca26\"], [1.0, \"#f0f921\"]], \"type\": \"heatmapgl\"}], \"histogram\": [{\"marker\": {\"colorbar\": {\"outlinewidth\": 0, \"ticks\": \"\"}}, \"type\": \"histogram\"}], \"histogram2d\": [{\"colorbar\": {\"outlinewidth\": 0, \"ticks\": \"\"}, \"colorscale\": [[0.0, \"#0d0887\"], [0.1111111111111111, \"#46039f\"], [0.2222222222222222, \"#7201a8\"], [0.3333333333333333, \"#9c179e\"], [0.4444444444444444, \"#bd3786\"], [0.5555555555555556, \"#d8576b\"], [0.6666666666666666, \"#ed7953\"], [0.7777777777777778, \"#fb9f3a\"], [0.8888888888888888, \"#fdca26\"], [1.0, \"#f0f921\"]], \"type\": \"histogram2d\"}], \"histogram2dcontour\": [{\"colorbar\": {\"outlinewidth\": 0, \"ticks\": \"\"}, \"colorscale\": [[0.0, \"#0d0887\"], [0.1111111111111111, \"#46039f\"], [0.2222222222222222, \"#7201a8\"], [0.3333333333333333, \"#9c179e\"], [0.4444444444444444, \"#bd3786\"], [0.5555555555555556, \"#d8576b\"], [0.6666666666666666, \"#ed7953\"], [0.7777777777777778, \"#fb9f3a\"], [0.8888888888888888, \"#fdca26\"], [1.0, \"#f0f921\"]], \"type\": \"histogram2dcontour\"}], \"mesh3d\": [{\"colorbar\": {\"outlinewidth\": 0, \"ticks\": \"\"}, \"type\": \"mesh3d\"}], \"parcoords\": [{\"line\": {\"colorbar\": {\"outlinewidth\": 0, \"ticks\": \"\"}}, \"type\": \"parcoords\"}], \"pie\": [{\"automargin\": true, \"type\": \"pie\"}], \"scatter\": [{\"marker\": {\"colorbar\": {\"outlinewidth\": 0, \"ticks\": \"\"}}, \"type\": \"scatter\"}], \"scatter3d\": [{\"line\": {\"colorbar\": {\"outlinewidth\": 0, \"ticks\": \"\"}}, \"marker\": {\"colorbar\": {\"outlinewidth\": 0, \"ticks\": \"\"}}, \"type\": \"scatter3d\"}], \"scattercarpet\": [{\"marker\": {\"colorbar\": {\"outlinewidth\": 0, \"ticks\": \"\"}}, \"type\": \"scattercarpet\"}], \"scattergeo\": [{\"marker\": {\"colorbar\": {\"outlinewidth\": 0, \"ticks\": \"\"}}, \"type\": \"scattergeo\"}], \"scattergl\": [{\"marker\": {\"colorbar\": {\"outlinewidth\": 0, \"ticks\": \"\"}}, \"type\": \"scattergl\"}], \"scattermapbox\": [{\"marker\": {\"colorbar\": {\"outlinewidth\": 0, \"ticks\": \"\"}}, \"type\": \"scattermapbox\"}], \"scatterpolar\": [{\"marker\": {\"colorbar\": {\"outlinewidth\": 0, \"ticks\": \"\"}}, \"type\": \"scatterpolar\"}], \"scatterpolargl\": [{\"marker\": {\"colorbar\": {\"outlinewidth\": 0, \"ticks\": \"\"}}, \"type\": \"scatterpolargl\"}], \"scatterternary\": [{\"marker\": {\"colorbar\": {\"outlinewidth\": 0, \"ticks\": \"\"}}, \"type\": \"scatterternary\"}], \"surface\": [{\"colorbar\": {\"outlinewidth\": 0, \"ticks\": \"\"}, \"colorscale\": [[0.0, \"#0d0887\"], [0.1111111111111111, \"#46039f\"], [0.2222222222222222, \"#7201a8\"], [0.3333333333333333, \"#9c179e\"], [0.4444444444444444, \"#bd3786\"], [0.5555555555555556, \"#d8576b\"], [0.6666666666666666, \"#ed7953\"], [0.7777777777777778, \"#fb9f3a\"], [0.8888888888888888, \"#fdca26\"], [1.0, \"#f0f921\"]], \"type\": \"surface\"}], \"table\": [{\"cells\": {\"fill\": {\"color\": \"#EBF0F8\"}, \"line\": {\"color\": \"white\"}}, \"header\": {\"fill\": {\"color\": \"#C8D4E3\"}, \"line\": {\"color\": \"white\"}}, \"type\": \"table\"}]}, \"layout\": {\"annotationdefaults\": {\"arrowcolor\": \"#2a3f5f\", \"arrowhead\": 0, \"arrowwidth\": 1}, \"coloraxis\": {\"colorbar\": {\"outlinewidth\": 0, \"ticks\": \"\"}}, \"colorscale\": {\"diverging\": [[0, \"#8e0152\"], [0.1, \"#c51b7d\"], [0.2, \"#de77ae\"], [0.3, \"#f1b6da\"], [0.4, \"#fde0ef\"], [0.5, \"#f7f7f7\"], [0.6, \"#e6f5d0\"], [0.7, \"#b8e186\"], [0.8, \"#7fbc41\"], [0.9, \"#4d9221\"], [1, \"#276419\"]], \"sequential\": [[0.0, \"#0d0887\"], [0.1111111111111111, \"#46039f\"], [0.2222222222222222, \"#7201a8\"], [0.3333333333333333, \"#9c179e\"], [0.4444444444444444, \"#bd3786\"], [0.5555555555555556, \"#d8576b\"], [0.6666666666666666, \"#ed7953\"], [0.7777777777777778, \"#fb9f3a\"], [0.8888888888888888, \"#fdca26\"], [1.0, \"#f0f921\"]], \"sequentialminus\": [[0.0, \"#0d0887\"], [0.1111111111111111, \"#46039f\"], [0.2222222222222222, \"#7201a8\"], [0.3333333333333333, \"#9c179e\"], [0.4444444444444444, \"#bd3786\"], [0.5555555555555556, \"#d8576b\"], [0.6666666666666666, \"#ed7953\"], [0.7777777777777778, \"#fb9f3a\"], [0.8888888888888888, \"#fdca26\"], [1.0, \"#f0f921\"]]}, \"colorway\": [\"#636efa\", \"#EF553B\", \"#00cc96\", \"#ab63fa\", \"#FFA15A\", \"#19d3f3\", \"#FF6692\", \"#B6E880\", \"#FF97FF\", \"#FECB52\"], \"font\": {\"color\": \"#2a3f5f\"}, \"geo\": {\"bgcolor\": \"white\", \"lakecolor\": \"white\", \"landcolor\": \"#E5ECF6\", \"showlakes\": true, \"showland\": true, \"subunitcolor\": \"white\"}, \"hoverlabel\": {\"align\": \"left\"}, \"hovermode\": \"closest\", \"mapbox\": {\"style\": \"light\"}, \"paper_bgcolor\": \"white\", \"plot_bgcolor\": \"#E5ECF6\", \"polar\": {\"angularaxis\": {\"gridcolor\": \"white\", \"linecolor\": \"white\", \"ticks\": \"\"}, \"bgcolor\": \"#E5ECF6\", \"radialaxis\": {\"gridcolor\": \"white\", \"linecolor\": \"white\", \"ticks\": \"\"}}, \"scene\": {\"xaxis\": {\"backgroundcolor\": \"#E5ECF6\", \"gridcolor\": \"white\", \"gridwidth\": 2, \"linecolor\": \"white\", \"showbackground\": true, \"ticks\": \"\", \"zerolinecolor\": \"white\"}, \"yaxis\": {\"backgroundcolor\": \"#E5ECF6\", \"gridcolor\": \"white\", \"gridwidth\": 2, \"linecolor\": \"white\", \"showbackground\": true, \"ticks\": \"\", \"zerolinecolor\": \"white\"}, \"zaxis\": {\"backgroundcolor\": \"#E5ECF6\", \"gridcolor\": \"white\", \"gridwidth\": 2, \"linecolor\": \"white\", \"showbackground\": true, \"ticks\": \"\", \"zerolinecolor\": \"white\"}}, \"shapedefaults\": {\"line\": {\"color\": \"#2a3f5f\"}}, \"ternary\": {\"aaxis\": {\"gridcolor\": \"white\", \"linecolor\": \"white\", \"ticks\": \"\"}, \"baxis\": {\"gridcolor\": \"white\", \"linecolor\": \"white\", \"ticks\": \"\"}, \"bgcolor\": \"#E5ECF6\", \"caxis\": {\"gridcolor\": \"white\", \"linecolor\": \"white\", \"ticks\": \"\"}}, \"title\": {\"x\": 0.05}, \"xaxis\": {\"automargin\": true, \"gridcolor\": \"white\", \"linecolor\": \"white\", \"ticks\": \"\", \"title\": {\"standoff\": 15}, \"zerolinecolor\": \"white\", \"zerolinewidth\": 2}, \"yaxis\": {\"automargin\": true, \"gridcolor\": \"white\", \"linecolor\": \"white\", \"ticks\": \"\", \"title\": {\"standoff\": 15}, \"zerolinecolor\": \"white\", \"zerolinewidth\": 2}}}, \"title\": {\"text\": \"United States - Daily New Cases and Deaths\"}},\n",
       "                        {\"responsive\": true}\n",
       "                    ).then(function(){\n",
       "                            \n",
       "var gd = document.getElementById('3e83a3b7-a3e4-43be-b402-679877cbe719');\n",
       "var x = new MutationObserver(function (mutations, observer) {{\n",
       "        var display = window.getComputedStyle(gd).display;\n",
       "        if (!display || display === 'none') {{\n",
       "            console.log([gd, 'removed!']);\n",
       "            Plotly.purge(gd);\n",
       "            observer.disconnect();\n",
       "        }}\n",
       "}});\n",
       "\n",
       "// Listen for the removal of the full notebook cells\n",
       "var notebookContainer = gd.closest('#notebook-container');\n",
       "if (notebookContainer) {{\n",
       "    x.observe(notebookContainer, {childList: true});\n",
       "}}\n",
       "\n",
       "// Listen for the clearing of the current output cell\n",
       "var outputEl = gd.closest('.output');\n",
       "if (outputEl) {{\n",
       "    x.observe(outputEl, {childList: true});\n",
       "}}\n",
       "\n",
       "                        })\n",
       "                };\n",
       "                });\n",
       "            </script>\n",
       "        </div>"
      ]
     },
     "metadata": {},
     "output_type": "display_data"
    },
    {
     "data": {
      "text/html": [
       "<style  type=\"text/css\" >\n",
       "</style><table id=\"T_8c5f6cfe_7766_11ea_9c1f_c49ded93ade6\" ><thead>    <tr>        <th class=\"blank\" ></th>        <th class=\"blank level0\" ></th>        <th class=\"col_heading level0 col0\" >Province/State</th>        <th class=\"col_heading level0 col1\" >Lat</th>        <th class=\"col_heading level0 col2\" >Long</th>        <th class=\"col_heading level0 col3\" >1/22/20</th>        <th class=\"col_heading level0 col4\" >1/23/20</th>        <th class=\"col_heading level0 col5\" >1/24/20</th>        <th class=\"col_heading level0 col6\" >1/25/20</th>        <th class=\"col_heading level0 col7\" >1/26/20</th>        <th class=\"col_heading level0 col8\" >1/27/20</th>        <th class=\"col_heading level0 col9\" >1/28/20</th>        <th class=\"col_heading level0 col10\" >1/29/20</th>        <th class=\"col_heading level0 col11\" >1/30/20</th>        <th class=\"col_heading level0 col12\" >1/31/20</th>        <th class=\"col_heading level0 col13\" >2/1/20</th>        <th class=\"col_heading level0 col14\" >2/2/20</th>        <th class=\"col_heading level0 col15\" >2/3/20</th>        <th class=\"col_heading level0 col16\" >2/4/20</th>        <th class=\"col_heading level0 col17\" >2/5/20</th>        <th class=\"col_heading level0 col18\" >2/6/20</th>        <th class=\"col_heading level0 col19\" >2/7/20</th>        <th class=\"col_heading level0 col20\" >2/8/20</th>        <th class=\"col_heading level0 col21\" >2/9/20</th>        <th class=\"col_heading level0 col22\" >2/10/20</th>        <th class=\"col_heading level0 col23\" >2/11/20</th>        <th class=\"col_heading level0 col24\" >2/12/20</th>        <th class=\"col_heading level0 col25\" >2/13/20</th>        <th class=\"col_heading level0 col26\" >2/14/20</th>        <th class=\"col_heading level0 col27\" >2/15/20</th>        <th class=\"col_heading level0 col28\" >2/16/20</th>        <th class=\"col_heading level0 col29\" >2/17/20</th>        <th class=\"col_heading level0 col30\" >2/18/20</th>        <th class=\"col_heading level0 col31\" >2/19/20</th>        <th class=\"col_heading level0 col32\" >2/20/20</th>        <th class=\"col_heading level0 col33\" >2/21/20</th>        <th class=\"col_heading level0 col34\" >2/22/20</th>        <th class=\"col_heading level0 col35\" >2/23/20</th>        <th class=\"col_heading level0 col36\" >2/24/20</th>        <th class=\"col_heading level0 col37\" >2/25/20</th>        <th class=\"col_heading level0 col38\" >2/26/20</th>        <th class=\"col_heading level0 col39\" >2/27/20</th>        <th class=\"col_heading level0 col40\" >2/28/20</th>        <th class=\"col_heading level0 col41\" >2/29/20</th>        <th class=\"col_heading level0 col42\" >3/1/20</th>        <th class=\"col_heading level0 col43\" >3/2/20</th>        <th class=\"col_heading level0 col44\" >3/3/20</th>        <th class=\"col_heading level0 col45\" >3/4/20</th>        <th class=\"col_heading level0 col46\" >3/5/20</th>        <th class=\"col_heading level0 col47\" >3/6/20</th>        <th class=\"col_heading level0 col48\" >3/7/20</th>        <th class=\"col_heading level0 col49\" >3/8/20</th>        <th class=\"col_heading level0 col50\" >3/9/20</th>        <th class=\"col_heading level0 col51\" >3/10/20</th>        <th class=\"col_heading level0 col52\" >3/11/20</th>        <th class=\"col_heading level0 col53\" >3/12/20</th>        <th class=\"col_heading level0 col54\" >3/13/20</th>        <th class=\"col_heading level0 col55\" >3/14/20</th>        <th class=\"col_heading level0 col56\" >3/15/20</th>        <th class=\"col_heading level0 col57\" >3/16/20</th>        <th class=\"col_heading level0 col58\" >3/17/20</th>        <th class=\"col_heading level0 col59\" >3/18/20</th>        <th class=\"col_heading level0 col60\" >3/19/20</th>        <th class=\"col_heading level0 col61\" >3/20/20</th>        <th class=\"col_heading level0 col62\" >3/21/20</th>        <th class=\"col_heading level0 col63\" >3/22/20</th>        <th class=\"col_heading level0 col64\" >3/23/20</th>        <th class=\"col_heading level0 col65\" >3/24/20</th>        <th class=\"col_heading level0 col66\" >3/25/20</th>        <th class=\"col_heading level0 col67\" >3/26/20</th>        <th class=\"col_heading level0 col68\" >3/27/20</th>        <th class=\"col_heading level0 col69\" >3/28/20</th>        <th class=\"col_heading level0 col70\" >3/29/20</th>        <th class=\"col_heading level0 col71\" >3/30/20</th>        <th class=\"col_heading level0 col72\" >3/31/20</th>        <th class=\"col_heading level0 col73\" >4/1/20</th>        <th class=\"col_heading level0 col74\" >4/2/20</th>        <th class=\"col_heading level0 col75\" >4/3/20</th>        <th class=\"col_heading level0 col76\" >4/4/20</th>    </tr>    <tr>        <th class=\"index_name level0\" >Country/Region</th>        <th class=\"index_name level1\" >Category</th>        <th class=\"blank\" ></th>        <th class=\"blank\" ></th>        <th class=\"blank\" ></th>        <th class=\"blank\" ></th>        <th class=\"blank\" ></th>        <th class=\"blank\" ></th>        <th class=\"blank\" ></th>        <th class=\"blank\" ></th>        <th class=\"blank\" ></th>        <th class=\"blank\" ></th>        <th class=\"blank\" ></th>        <th class=\"blank\" ></th>        <th class=\"blank\" ></th>        <th class=\"blank\" ></th>        <th class=\"blank\" ></th>        <th class=\"blank\" ></th>        <th class=\"blank\" ></th>        <th class=\"blank\" ></th>        <th class=\"blank\" ></th>        <th class=\"blank\" ></th>        <th class=\"blank\" ></th>        <th class=\"blank\" ></th>        <th class=\"blank\" ></th>        <th class=\"blank\" ></th>        <th class=\"blank\" ></th>        <th class=\"blank\" ></th>        <th class=\"blank\" ></th>        <th class=\"blank\" ></th>        <th class=\"blank\" ></th>        <th class=\"blank\" ></th>        <th class=\"blank\" ></th>        <th class=\"blank\" ></th>        <th class=\"blank\" ></th>        <th class=\"blank\" ></th>        <th class=\"blank\" ></th>        <th class=\"blank\" ></th>        <th class=\"blank\" ></th>        <th class=\"blank\" ></th>        <th class=\"blank\" ></th>        <th class=\"blank\" ></th>        <th class=\"blank\" ></th>        <th class=\"blank\" ></th>        <th class=\"blank\" ></th>        <th class=\"blank\" ></th>        <th class=\"blank\" ></th>        <th class=\"blank\" ></th>        <th class=\"blank\" ></th>        <th class=\"blank\" ></th>        <th class=\"blank\" ></th>        <th class=\"blank\" ></th>        <th class=\"blank\" ></th>        <th class=\"blank\" ></th>        <th class=\"blank\" ></th>        <th class=\"blank\" ></th>        <th class=\"blank\" ></th>        <th class=\"blank\" ></th>        <th class=\"blank\" ></th>        <th class=\"blank\" ></th>        <th class=\"blank\" ></th>        <th class=\"blank\" ></th>        <th class=\"blank\" ></th>        <th class=\"blank\" ></th>        <th class=\"blank\" ></th>        <th class=\"blank\" ></th>        <th class=\"blank\" ></th>        <th class=\"blank\" ></th>        <th class=\"blank\" ></th>        <th class=\"blank\" ></th>        <th class=\"blank\" ></th>        <th class=\"blank\" ></th>        <th class=\"blank\" ></th>        <th class=\"blank\" ></th>        <th class=\"blank\" ></th>        <th class=\"blank\" ></th>        <th class=\"blank\" ></th>        <th class=\"blank\" ></th>        <th class=\"blank\" ></th>    </tr></thead><tbody>\n",
       "                <tr>\n",
       "                        <th id=\"T_8c5f6cfe_7766_11ea_9c1f_c49ded93ade6level0_row0\" class=\"row_heading level0 row0\" rowspan=2>US</th>\n",
       "                        <th id=\"T_8c5f6cfe_7766_11ea_9c1f_c49ded93ade6level1_row0\" class=\"row_heading level1 row0\" >Confirmed Cases</th>\n",
       "                        <td id=\"T_8c5f6cfe_7766_11ea_9c1f_c49ded93ade6row0_col0\" class=\"data row0 col0\" >-</td>\n",
       "                        <td id=\"T_8c5f6cfe_7766_11ea_9c1f_c49ded93ade6row0_col1\" class=\"data row0 col1\" >-</td>\n",
       "                        <td id=\"T_8c5f6cfe_7766_11ea_9c1f_c49ded93ade6row0_col2\" class=\"data row0 col2\" >-133</td>\n",
       "                        <td id=\"T_8c5f6cfe_7766_11ea_9c1f_c49ded93ade6row0_col3\" class=\"data row0 col3\" >-</td>\n",
       "                        <td id=\"T_8c5f6cfe_7766_11ea_9c1f_c49ded93ade6row0_col4\" class=\"data row0 col4\" >-</td>\n",
       "                        <td id=\"T_8c5f6cfe_7766_11ea_9c1f_c49ded93ade6row0_col5\" class=\"data row0 col5\" >1</td>\n",
       "                        <td id=\"T_8c5f6cfe_7766_11ea_9c1f_c49ded93ade6row0_col6\" class=\"data row0 col6\" >-</td>\n",
       "                        <td id=\"T_8c5f6cfe_7766_11ea_9c1f_c49ded93ade6row0_col7\" class=\"data row0 col7\" >3</td>\n",
       "                        <td id=\"T_8c5f6cfe_7766_11ea_9c1f_c49ded93ade6row0_col8\" class=\"data row0 col8\" >-</td>\n",
       "                        <td id=\"T_8c5f6cfe_7766_11ea_9c1f_c49ded93ade6row0_col9\" class=\"data row0 col9\" >-</td>\n",
       "                        <td id=\"T_8c5f6cfe_7766_11ea_9c1f_c49ded93ade6row0_col10\" class=\"data row0 col10\" >-</td>\n",
       "                        <td id=\"T_8c5f6cfe_7766_11ea_9c1f_c49ded93ade6row0_col11\" class=\"data row0 col11\" >-</td>\n",
       "                        <td id=\"T_8c5f6cfe_7766_11ea_9c1f_c49ded93ade6row0_col12\" class=\"data row0 col12\" >2</td>\n",
       "                        <td id=\"T_8c5f6cfe_7766_11ea_9c1f_c49ded93ade6row0_col13\" class=\"data row0 col13\" >1</td>\n",
       "                        <td id=\"T_8c5f6cfe_7766_11ea_9c1f_c49ded93ade6row0_col14\" class=\"data row0 col14\" >-</td>\n",
       "                        <td id=\"T_8c5f6cfe_7766_11ea_9c1f_c49ded93ade6row0_col15\" class=\"data row0 col15\" >3</td>\n",
       "                        <td id=\"T_8c5f6cfe_7766_11ea_9c1f_c49ded93ade6row0_col16\" class=\"data row0 col16\" >-</td>\n",
       "                        <td id=\"T_8c5f6cfe_7766_11ea_9c1f_c49ded93ade6row0_col17\" class=\"data row0 col17\" >-</td>\n",
       "                        <td id=\"T_8c5f6cfe_7766_11ea_9c1f_c49ded93ade6row0_col18\" class=\"data row0 col18\" >-</td>\n",
       "                        <td id=\"T_8c5f6cfe_7766_11ea_9c1f_c49ded93ade6row0_col19\" class=\"data row0 col19\" >-</td>\n",
       "                        <td id=\"T_8c5f6cfe_7766_11ea_9c1f_c49ded93ade6row0_col20\" class=\"data row0 col20\" >-</td>\n",
       "                        <td id=\"T_8c5f6cfe_7766_11ea_9c1f_c49ded93ade6row0_col21\" class=\"data row0 col21\" >-</td>\n",
       "                        <td id=\"T_8c5f6cfe_7766_11ea_9c1f_c49ded93ade6row0_col22\" class=\"data row0 col22\" >-</td>\n",
       "                        <td id=\"T_8c5f6cfe_7766_11ea_9c1f_c49ded93ade6row0_col23\" class=\"data row0 col23\" >1</td>\n",
       "                        <td id=\"T_8c5f6cfe_7766_11ea_9c1f_c49ded93ade6row0_col24\" class=\"data row0 col24\" >-</td>\n",
       "                        <td id=\"T_8c5f6cfe_7766_11ea_9c1f_c49ded93ade6row0_col25\" class=\"data row0 col25\" >1</td>\n",
       "                        <td id=\"T_8c5f6cfe_7766_11ea_9c1f_c49ded93ade6row0_col26\" class=\"data row0 col26\" >-</td>\n",
       "                        <td id=\"T_8c5f6cfe_7766_11ea_9c1f_c49ded93ade6row0_col27\" class=\"data row0 col27\" >-</td>\n",
       "                        <td id=\"T_8c5f6cfe_7766_11ea_9c1f_c49ded93ade6row0_col28\" class=\"data row0 col28\" >-</td>\n",
       "                        <td id=\"T_8c5f6cfe_7766_11ea_9c1f_c49ded93ade6row0_col29\" class=\"data row0 col29\" >-</td>\n",
       "                        <td id=\"T_8c5f6cfe_7766_11ea_9c1f_c49ded93ade6row0_col30\" class=\"data row0 col30\" >-</td>\n",
       "                        <td id=\"T_8c5f6cfe_7766_11ea_9c1f_c49ded93ade6row0_col31\" class=\"data row0 col31\" >-</td>\n",
       "                        <td id=\"T_8c5f6cfe_7766_11ea_9c1f_c49ded93ade6row0_col32\" class=\"data row0 col32\" >-</td>\n",
       "                        <td id=\"T_8c5f6cfe_7766_11ea_9c1f_c49ded93ade6row0_col33\" class=\"data row0 col33\" >2</td>\n",
       "                        <td id=\"T_8c5f6cfe_7766_11ea_9c1f_c49ded93ade6row0_col34\" class=\"data row0 col34\" >-</td>\n",
       "                        <td id=\"T_8c5f6cfe_7766_11ea_9c1f_c49ded93ade6row0_col35\" class=\"data row0 col35\" >-</td>\n",
       "                        <td id=\"T_8c5f6cfe_7766_11ea_9c1f_c49ded93ade6row0_col36\" class=\"data row0 col36\" >36</td>\n",
       "                        <td id=\"T_8c5f6cfe_7766_11ea_9c1f_c49ded93ade6row0_col37\" class=\"data row0 col37\" >-</td>\n",
       "                        <td id=\"T_8c5f6cfe_7766_11ea_9c1f_c49ded93ade6row0_col38\" class=\"data row0 col38\" >6</td>\n",
       "                        <td id=\"T_8c5f6cfe_7766_11ea_9c1f_c49ded93ade6row0_col39\" class=\"data row0 col39\" >1</td>\n",
       "                        <td id=\"T_8c5f6cfe_7766_11ea_9c1f_c49ded93ade6row0_col40\" class=\"data row0 col40\" >2</td>\n",
       "                        <td id=\"T_8c5f6cfe_7766_11ea_9c1f_c49ded93ade6row0_col41\" class=\"data row0 col41\" >8</td>\n",
       "                        <td id=\"T_8c5f6cfe_7766_11ea_9c1f_c49ded93ade6row0_col42\" class=\"data row0 col42\" >6</td>\n",
       "                        <td id=\"T_8c5f6cfe_7766_11ea_9c1f_c49ded93ade6row0_col43\" class=\"data row0 col43\" >24</td>\n",
       "                        <td id=\"T_8c5f6cfe_7766_11ea_9c1f_c49ded93ade6row0_col44\" class=\"data row0 col44\" >20</td>\n",
       "                        <td id=\"T_8c5f6cfe_7766_11ea_9c1f_c49ded93ade6row0_col45\" class=\"data row0 col45\" >31</td>\n",
       "                        <td id=\"T_8c5f6cfe_7766_11ea_9c1f_c49ded93ade6row0_col46\" class=\"data row0 col46\" >68</td>\n",
       "                        <td id=\"T_8c5f6cfe_7766_11ea_9c1f_c49ded93ade6row0_col47\" class=\"data row0 col47\" >45</td>\n",
       "                        <td id=\"T_8c5f6cfe_7766_11ea_9c1f_c49ded93ade6row0_col48\" class=\"data row0 col48\" >140</td>\n",
       "                        <td id=\"T_8c5f6cfe_7766_11ea_9c1f_c49ded93ade6row0_col49\" class=\"data row0 col49\" >116</td>\n",
       "                        <td id=\"T_8c5f6cfe_7766_11ea_9c1f_c49ded93ade6row0_col50\" class=\"data row0 col50\" >65</td>\n",
       "                        <td id=\"T_8c5f6cfe_7766_11ea_9c1f_c49ded93ade6row0_col51\" class=\"data row0 col51\" >376</td>\n",
       "                        <td id=\"T_8c5f6cfe_7766_11ea_9c1f_c49ded93ade6row0_col52\" class=\"data row0 col52\" >322</td>\n",
       "                        <td id=\"T_8c5f6cfe_7766_11ea_9c1f_c49ded93ade6row0_col53\" class=\"data row0 col53\" >382</td>\n",
       "                        <td id=\"T_8c5f6cfe_7766_11ea_9c1f_c49ded93ade6row0_col54\" class=\"data row0 col54\" >516</td>\n",
       "                        <td id=\"T_8c5f6cfe_7766_11ea_9c1f_c49ded93ade6row0_col55\" class=\"data row0 col55\" >548</td>\n",
       "                        <td id=\"T_8c5f6cfe_7766_11ea_9c1f_c49ded93ade6row0_col56\" class=\"data row0 col56\" >772</td>\n",
       "                        <td id=\"T_8c5f6cfe_7766_11ea_9c1f_c49ded93ade6row0_col57\" class=\"data row0 col57\" >1,133</td>\n",
       "                        <td id=\"T_8c5f6cfe_7766_11ea_9c1f_c49ded93ade6row0_col58\" class=\"data row0 col58\" >1,789</td>\n",
       "                        <td id=\"T_8c5f6cfe_7766_11ea_9c1f_c49ded93ade6row0_col59\" class=\"data row0 col59\" >1,362</td>\n",
       "                        <td id=\"T_8c5f6cfe_7766_11ea_9c1f_c49ded93ade6row0_col60\" class=\"data row0 col60\" >5,894</td>\n",
       "                        <td id=\"T_8c5f6cfe_7766_11ea_9c1f_c49ded93ade6row0_col61\" class=\"data row0 col61\" >5,423</td>\n",
       "                        <td id=\"T_8c5f6cfe_7766_11ea_9c1f_c49ded93ade6row0_col62\" class=\"data row0 col62\" >6,389</td>\n",
       "                        <td id=\"T_8c5f6cfe_7766_11ea_9c1f_c49ded93ade6row0_col63\" class=\"data row0 col63\" >7,787</td>\n",
       "                        <td id=\"T_8c5f6cfe_7766_11ea_9c1f_c49ded93ade6row0_col64\" class=\"data row0 col64\" >10,571</td>\n",
       "                        <td id=\"T_8c5f6cfe_7766_11ea_9c1f_c49ded93ade6row0_col65\" class=\"data row0 col65\" >9,893</td>\n",
       "                        <td id=\"T_8c5f6cfe_7766_11ea_9c1f_c49ded93ade6row0_col66\" class=\"data row0 col66\" >12,038</td>\n",
       "                        <td id=\"T_8c5f6cfe_7766_11ea_9c1f_c49ded93ade6row0_col67\" class=\"data row0 col67\" >18,058</td>\n",
       "                        <td id=\"T_8c5f6cfe_7766_11ea_9c1f_c49ded93ade6row0_col68\" class=\"data row0 col68\" >17,821</td>\n",
       "                        <td id=\"T_8c5f6cfe_7766_11ea_9c1f_c49ded93ade6row0_col69\" class=\"data row0 col69\" >19,821</td>\n",
       "                        <td id=\"T_8c5f6cfe_7766_11ea_9c1f_c49ded93ade6row0_col70\" class=\"data row0 col70\" >19,408</td>\n",
       "                        <td id=\"T_8c5f6cfe_7766_11ea_9c1f_c49ded93ade6row0_col71\" class=\"data row0 col71\" >20,921</td>\n",
       "                        <td id=\"T_8c5f6cfe_7766_11ea_9c1f_c49ded93ade6row0_col72\" class=\"data row0 col72\" >26,365</td>\n",
       "                        <td id=\"T_8c5f6cfe_7766_11ea_9c1f_c49ded93ade6row0_col73\" class=\"data row0 col73\" >25,200</td>\n",
       "                        <td id=\"T_8c5f6cfe_7766_11ea_9c1f_c49ded93ade6row0_col74\" class=\"data row0 col74\" >30,081</td>\n",
       "                        <td id=\"T_8c5f6cfe_7766_11ea_9c1f_c49ded93ade6row0_col75\" class=\"data row0 col75\" >32,133</td>\n",
       "                        <td id=\"T_8c5f6cfe_7766_11ea_9c1f_c49ded93ade6row0_col76\" class=\"data row0 col76\" >33,264</td>\n",
       "            </tr>\n",
       "            <tr>\n",
       "                                <th id=\"T_8c5f6cfe_7766_11ea_9c1f_c49ded93ade6level1_row1\" class=\"row_heading level1 row1\" >Deaths</th>\n",
       "                        <td id=\"T_8c5f6cfe_7766_11ea_9c1f_c49ded93ade6row1_col0\" class=\"data row1 col0\" >-</td>\n",
       "                        <td id=\"T_8c5f6cfe_7766_11ea_9c1f_c49ded93ade6row1_col1\" class=\"data row1 col1\" >-</td>\n",
       "                        <td id=\"T_8c5f6cfe_7766_11ea_9c1f_c49ded93ade6row1_col2\" class=\"data row1 col2\" >-133</td>\n",
       "                        <td id=\"T_8c5f6cfe_7766_11ea_9c1f_c49ded93ade6row1_col3\" class=\"data row1 col3\" >-</td>\n",
       "                        <td id=\"T_8c5f6cfe_7766_11ea_9c1f_c49ded93ade6row1_col4\" class=\"data row1 col4\" >-</td>\n",
       "                        <td id=\"T_8c5f6cfe_7766_11ea_9c1f_c49ded93ade6row1_col5\" class=\"data row1 col5\" >-</td>\n",
       "                        <td id=\"T_8c5f6cfe_7766_11ea_9c1f_c49ded93ade6row1_col6\" class=\"data row1 col6\" >-</td>\n",
       "                        <td id=\"T_8c5f6cfe_7766_11ea_9c1f_c49ded93ade6row1_col7\" class=\"data row1 col7\" >-</td>\n",
       "                        <td id=\"T_8c5f6cfe_7766_11ea_9c1f_c49ded93ade6row1_col8\" class=\"data row1 col8\" >-</td>\n",
       "                        <td id=\"T_8c5f6cfe_7766_11ea_9c1f_c49ded93ade6row1_col9\" class=\"data row1 col9\" >-</td>\n",
       "                        <td id=\"T_8c5f6cfe_7766_11ea_9c1f_c49ded93ade6row1_col10\" class=\"data row1 col10\" >-</td>\n",
       "                        <td id=\"T_8c5f6cfe_7766_11ea_9c1f_c49ded93ade6row1_col11\" class=\"data row1 col11\" >-</td>\n",
       "                        <td id=\"T_8c5f6cfe_7766_11ea_9c1f_c49ded93ade6row1_col12\" class=\"data row1 col12\" >-</td>\n",
       "                        <td id=\"T_8c5f6cfe_7766_11ea_9c1f_c49ded93ade6row1_col13\" class=\"data row1 col13\" >-</td>\n",
       "                        <td id=\"T_8c5f6cfe_7766_11ea_9c1f_c49ded93ade6row1_col14\" class=\"data row1 col14\" >-</td>\n",
       "                        <td id=\"T_8c5f6cfe_7766_11ea_9c1f_c49ded93ade6row1_col15\" class=\"data row1 col15\" >-</td>\n",
       "                        <td id=\"T_8c5f6cfe_7766_11ea_9c1f_c49ded93ade6row1_col16\" class=\"data row1 col16\" >-</td>\n",
       "                        <td id=\"T_8c5f6cfe_7766_11ea_9c1f_c49ded93ade6row1_col17\" class=\"data row1 col17\" >-</td>\n",
       "                        <td id=\"T_8c5f6cfe_7766_11ea_9c1f_c49ded93ade6row1_col18\" class=\"data row1 col18\" >-</td>\n",
       "                        <td id=\"T_8c5f6cfe_7766_11ea_9c1f_c49ded93ade6row1_col19\" class=\"data row1 col19\" >-</td>\n",
       "                        <td id=\"T_8c5f6cfe_7766_11ea_9c1f_c49ded93ade6row1_col20\" class=\"data row1 col20\" >-</td>\n",
       "                        <td id=\"T_8c5f6cfe_7766_11ea_9c1f_c49ded93ade6row1_col21\" class=\"data row1 col21\" >-</td>\n",
       "                        <td id=\"T_8c5f6cfe_7766_11ea_9c1f_c49ded93ade6row1_col22\" class=\"data row1 col22\" >-</td>\n",
       "                        <td id=\"T_8c5f6cfe_7766_11ea_9c1f_c49ded93ade6row1_col23\" class=\"data row1 col23\" >-</td>\n",
       "                        <td id=\"T_8c5f6cfe_7766_11ea_9c1f_c49ded93ade6row1_col24\" class=\"data row1 col24\" >-</td>\n",
       "                        <td id=\"T_8c5f6cfe_7766_11ea_9c1f_c49ded93ade6row1_col25\" class=\"data row1 col25\" >-</td>\n",
       "                        <td id=\"T_8c5f6cfe_7766_11ea_9c1f_c49ded93ade6row1_col26\" class=\"data row1 col26\" >-</td>\n",
       "                        <td id=\"T_8c5f6cfe_7766_11ea_9c1f_c49ded93ade6row1_col27\" class=\"data row1 col27\" >-</td>\n",
       "                        <td id=\"T_8c5f6cfe_7766_11ea_9c1f_c49ded93ade6row1_col28\" class=\"data row1 col28\" >-</td>\n",
       "                        <td id=\"T_8c5f6cfe_7766_11ea_9c1f_c49ded93ade6row1_col29\" class=\"data row1 col29\" >-</td>\n",
       "                        <td id=\"T_8c5f6cfe_7766_11ea_9c1f_c49ded93ade6row1_col30\" class=\"data row1 col30\" >-</td>\n",
       "                        <td id=\"T_8c5f6cfe_7766_11ea_9c1f_c49ded93ade6row1_col31\" class=\"data row1 col31\" >-</td>\n",
       "                        <td id=\"T_8c5f6cfe_7766_11ea_9c1f_c49ded93ade6row1_col32\" class=\"data row1 col32\" >-</td>\n",
       "                        <td id=\"T_8c5f6cfe_7766_11ea_9c1f_c49ded93ade6row1_col33\" class=\"data row1 col33\" >-</td>\n",
       "                        <td id=\"T_8c5f6cfe_7766_11ea_9c1f_c49ded93ade6row1_col34\" class=\"data row1 col34\" >-</td>\n",
       "                        <td id=\"T_8c5f6cfe_7766_11ea_9c1f_c49ded93ade6row1_col35\" class=\"data row1 col35\" >-</td>\n",
       "                        <td id=\"T_8c5f6cfe_7766_11ea_9c1f_c49ded93ade6row1_col36\" class=\"data row1 col36\" >-</td>\n",
       "                        <td id=\"T_8c5f6cfe_7766_11ea_9c1f_c49ded93ade6row1_col37\" class=\"data row1 col37\" >-</td>\n",
       "                        <td id=\"T_8c5f6cfe_7766_11ea_9c1f_c49ded93ade6row1_col38\" class=\"data row1 col38\" >-</td>\n",
       "                        <td id=\"T_8c5f6cfe_7766_11ea_9c1f_c49ded93ade6row1_col39\" class=\"data row1 col39\" >-</td>\n",
       "                        <td id=\"T_8c5f6cfe_7766_11ea_9c1f_c49ded93ade6row1_col40\" class=\"data row1 col40\" >-</td>\n",
       "                        <td id=\"T_8c5f6cfe_7766_11ea_9c1f_c49ded93ade6row1_col41\" class=\"data row1 col41\" >1</td>\n",
       "                        <td id=\"T_8c5f6cfe_7766_11ea_9c1f_c49ded93ade6row1_col42\" class=\"data row1 col42\" >-</td>\n",
       "                        <td id=\"T_8c5f6cfe_7766_11ea_9c1f_c49ded93ade6row1_col43\" class=\"data row1 col43\" >5</td>\n",
       "                        <td id=\"T_8c5f6cfe_7766_11ea_9c1f_c49ded93ade6row1_col44\" class=\"data row1 col44\" >1</td>\n",
       "                        <td id=\"T_8c5f6cfe_7766_11ea_9c1f_c49ded93ade6row1_col45\" class=\"data row1 col45\" >4</td>\n",
       "                        <td id=\"T_8c5f6cfe_7766_11ea_9c1f_c49ded93ade6row1_col46\" class=\"data row1 col46\" >1</td>\n",
       "                        <td id=\"T_8c5f6cfe_7766_11ea_9c1f_c49ded93ade6row1_col47\" class=\"data row1 col47\" >2</td>\n",
       "                        <td id=\"T_8c5f6cfe_7766_11ea_9c1f_c49ded93ade6row1_col48\" class=\"data row1 col48\" >3</td>\n",
       "                        <td id=\"T_8c5f6cfe_7766_11ea_9c1f_c49ded93ade6row1_col49\" class=\"data row1 col49\" >4</td>\n",
       "                        <td id=\"T_8c5f6cfe_7766_11ea_9c1f_c49ded93ade6row1_col50\" class=\"data row1 col50\" >1</td>\n",
       "                        <td id=\"T_8c5f6cfe_7766_11ea_9c1f_c49ded93ade6row1_col51\" class=\"data row1 col51\" >6</td>\n",
       "                        <td id=\"T_8c5f6cfe_7766_11ea_9c1f_c49ded93ade6row1_col52\" class=\"data row1 col52\" >8</td>\n",
       "                        <td id=\"T_8c5f6cfe_7766_11ea_9c1f_c49ded93ade6row1_col53\" class=\"data row1 col53\" >4</td>\n",
       "                        <td id=\"T_8c5f6cfe_7766_11ea_9c1f_c49ded93ade6row1_col54\" class=\"data row1 col54\" >7</td>\n",
       "                        <td id=\"T_8c5f6cfe_7766_11ea_9c1f_c49ded93ade6row1_col55\" class=\"data row1 col55\" >7</td>\n",
       "                        <td id=\"T_8c5f6cfe_7766_11ea_9c1f_c49ded93ade6row1_col56\" class=\"data row1 col56\" >9</td>\n",
       "                        <td id=\"T_8c5f6cfe_7766_11ea_9c1f_c49ded93ade6row1_col57\" class=\"data row1 col57\" >22</td>\n",
       "                        <td id=\"T_8c5f6cfe_7766_11ea_9c1f_c49ded93ade6row1_col58\" class=\"data row1 col58\" >23</td>\n",
       "                        <td id=\"T_8c5f6cfe_7766_11ea_9c1f_c49ded93ade6row1_col59\" class=\"data row1 col59\" >10</td>\n",
       "                        <td id=\"T_8c5f6cfe_7766_11ea_9c1f_c49ded93ade6row1_col60\" class=\"data row1 col60\" >82</td>\n",
       "                        <td id=\"T_8c5f6cfe_7766_11ea_9c1f_c49ded93ade6row1_col61\" class=\"data row1 col61\" >44</td>\n",
       "                        <td id=\"T_8c5f6cfe_7766_11ea_9c1f_c49ded93ade6row1_col62\" class=\"data row1 col62\" >63</td>\n",
       "                        <td id=\"T_8c5f6cfe_7766_11ea_9c1f_c49ded93ade6row1_col63\" class=\"data row1 col63\" >110</td>\n",
       "                        <td id=\"T_8c5f6cfe_7766_11ea_9c1f_c49ded93ade6row1_col64\" class=\"data row1 col64\" >140</td>\n",
       "                        <td id=\"T_8c5f6cfe_7766_11ea_9c1f_c49ded93ade6row1_col65\" class=\"data row1 col65\" >149</td>\n",
       "                        <td id=\"T_8c5f6cfe_7766_11ea_9c1f_c49ded93ade6row1_col66\" class=\"data row1 col66\" >236</td>\n",
       "                        <td id=\"T_8c5f6cfe_7766_11ea_9c1f_c49ded93ade6row1_col67\" class=\"data row1 col67\" >267</td>\n",
       "                        <td id=\"T_8c5f6cfe_7766_11ea_9c1f_c49ded93ade6row1_col68\" class=\"data row1 col68\" >372</td>\n",
       "                        <td id=\"T_8c5f6cfe_7766_11ea_9c1f_c49ded93ade6row1_col69\" class=\"data row1 col69\" >445</td>\n",
       "                        <td id=\"T_8c5f6cfe_7766_11ea_9c1f_c49ded93ade6row1_col70\" class=\"data row1 col70\" >441</td>\n",
       "                        <td id=\"T_8c5f6cfe_7766_11ea_9c1f_c49ded93ade6row1_col71\" class=\"data row1 col71\" >511</td>\n",
       "                        <td id=\"T_8c5f6cfe_7766_11ea_9c1f_c49ded93ade6row1_col72\" class=\"data row1 col72\" >895</td>\n",
       "                        <td id=\"T_8c5f6cfe_7766_11ea_9c1f_c49ded93ade6row1_col73\" class=\"data row1 col73\" >884</td>\n",
       "                        <td id=\"T_8c5f6cfe_7766_11ea_9c1f_c49ded93ade6row1_col74\" class=\"data row1 col74\" >1,169</td>\n",
       "                        <td id=\"T_8c5f6cfe_7766_11ea_9c1f_c49ded93ade6row1_col75\" class=\"data row1 col75\" >1,161</td>\n",
       "                        <td id=\"T_8c5f6cfe_7766_11ea_9c1f_c49ded93ade6row1_col76\" class=\"data row1 col76\" >1,320</td>\n",
       "            </tr>\n",
       "    </tbody></table>"
      ],
      "text/plain": [
       "<pandas.io.formats.style.Styler at 0x635fa70>"
      ]
     },
     "execution_count": 13,
     "metadata": {},
     "output_type": "execute_result"
    }
   ],
   "source": [
    "dfUSConfirmedDailyNew = dfUSConfirmed.diff(axis=1)\n",
    "dfUSDeathsDailyNew = dfUSDeaths.diff(axis=1)\n",
    "\n",
    "dfUSConfirmed7dayMA = dfUSConfirmedDailyNew.rolling(window=7, axis=1).mean()\n",
    "dfUSDeaths7dayMA = dfUSDeathsDailyNew.rolling(window=7, axis=1).mean()\n",
    "\n",
    "trace1 = go.Bar(\n",
    "    x = dfUSConfirmedDailyNew.columns[-MONTH_DAYS:],\n",
    "    y = dfUSConfirmedDailyNew.iloc[0][-MONTH_DAYS:], name = 'New Confirmed Cases')\n",
    "\n",
    "trace2 = go.Bar(\n",
    "    x = dfUSDeathsDailyNew.columns[-MONTH_DAYS:],\n",
    "    y = dfUSDeathsDailyNew.iloc[0][-MONTH_DAYS:], name = 'New Deaths')\n",
    "\n",
    "trace3 = go.Scatter(\n",
    "    x = dfUSConfirmed7dayMA.columns[-MONTH_DAYS:],\n",
    "    y = dfUSConfirmed7dayMA.iloc[0][-MONTH_DAYS:], name = '7-day avg Confirmed Cases')\n",
    "\n",
    "trace4 = go.Scatter(\n",
    "    x = dfUSDeaths7dayMA.columns[-MONTH_DAYS:],\n",
    "    y = dfUSDeaths7dayMA.iloc[0][-MONTH_DAYS:], name = '7-day avg Deaths')\n",
    "\n",
    "data = [trace1, trace2, trace3, trace4]\n",
    "layout = dict(title = 'United States - Daily New Cases and Deaths')\n",
    "\n",
    "py.iplot(dict(data=data, layout=layout))\n",
    "pd.concat([dfUSConfirmedDailyNew, dfUSDeathsDailyNew]).style.format(IntegerFormatter)"
   ]
  },
  {
   "cell_type": "markdown",
   "metadata": {},
   "source": [
    "# US State by State Data"
   ]
  },
  {
   "cell_type": "code",
   "execution_count": 14,
   "metadata": {
    "ExecuteTime": {
     "end_time": "2020-04-05T17:54:52.375372Z",
     "start_time": "2020-04-05T17:54:51.396381Z"
    },
    "extensions": {
     "jupyter_dashboards": {
      "version": 1,
      "views": {
       "grid_default": {
        "col": 0,
        "height": 30,
        "hidden": false,
        "row": 26,
        "width": null
       },
       "report_default": {
        "hidden": false
       }
      }
     }
    }
   },
   "outputs": [
    {
     "data": {
      "application/vnd.plotly.v1+json": {
       "config": {
        "linkText": "Export to plot.ly",
        "plotlyServerURL": "https://plot.ly",
        "showLink": false
       },
       "data": [
        {
         "name": "New York",
         "type": "scatter",
         "x": [
          "3/16/20",
          "3/17/20",
          "3/18/20",
          "3/19/20",
          "3/20/20",
          "3/21/20",
          "3/22/20",
          "3/23/20",
          "3/24/20",
          "3/25/20",
          "3/26/20",
          "3/27/20",
          "3/28/20",
          "3/29/20",
          "3/30/20",
          "3/31/20",
          "4/1/20",
          "4/2/20",
          "4/3/20",
          "4/4/20"
         ],
         "y": [
          967,
          1578,
          3038,
          5704,
          8403,
          11727,
          15800,
          20884,
          25681,
          30841,
          37877,
          44876,
          52410,
          59648,
          66663,
          75833,
          83948,
          92506,
          102987,
          113833
         ]
        },
        {
         "name": "New Jersey",
         "type": "scatter",
         "x": [
          "3/16/20",
          "3/17/20",
          "3/18/20",
          "3/19/20",
          "3/20/20",
          "3/21/20",
          "3/22/20",
          "3/23/20",
          "3/24/20",
          "3/25/20",
          "3/26/20",
          "3/27/20",
          "3/28/20",
          "3/29/20",
          "3/30/20",
          "3/31/20",
          "4/1/20",
          "4/2/20",
          "4/3/20",
          "4/4/20"
         ],
         "y": [
          176,
          250,
          397,
          741,
          890,
          1327,
          1914,
          2844,
          3675,
          4402,
          6876,
          8825,
          11124,
          13386,
          16636,
          18696,
          22255,
          25590,
          29895,
          34124
         ]
        },
        {
         "name": "Michigan",
         "type": "scatter",
         "x": [
          "3/16/20",
          "3/17/20",
          "3/18/20",
          "3/19/20",
          "3/20/20",
          "3/21/20",
          "3/22/20",
          "3/23/20",
          "3/24/20",
          "3/25/20",
          "3/26/20",
          "3/27/20",
          "3/28/20",
          "3/29/20",
          "3/30/20",
          "3/31/20",
          "4/1/20",
          "4/2/20",
          "4/3/20",
          "4/4/20"
         ],
         "y": [
          54,
          63,
          119,
          259,
          402,
          540,
          1035,
          1329,
          1793,
          2296,
          2845,
          3634,
          4650,
          5488,
          6498,
          7615,
          9315,
          10791,
          12744,
          14225
         ]
        },
        {
         "name": "California",
         "type": "scatter",
         "x": [
          "3/16/20",
          "3/17/20",
          "3/18/20",
          "3/19/20",
          "3/20/20",
          "3/21/20",
          "3/22/20",
          "3/23/20",
          "3/24/20",
          "3/25/20",
          "3/26/20",
          "3/27/20",
          "3/28/20",
          "3/29/20",
          "3/30/20",
          "3/31/20",
          "4/1/20",
          "4/2/20",
          "4/3/20",
          "4/4/20"
         ],
         "y": [
          557,
          700,
          828,
          1005,
          1243,
          1405,
          1646,
          2108,
          2538,
          2998,
          3899,
          4657,
          5095,
          5852,
          7138,
          8210,
          9399,
          10773,
          12004,
          12837
         ]
        },
        {
         "name": "Louisiana",
         "type": "scatter",
         "x": [
          "3/16/20",
          "3/17/20",
          "3/18/20",
          "3/19/20",
          "3/20/20",
          "3/21/20",
          "3/22/20",
          "3/23/20",
          "3/24/20",
          "3/25/20",
          "3/26/20",
          "3/27/20",
          "3/28/20",
          "3/29/20",
          "3/30/20",
          "3/31/20",
          "4/1/20",
          "4/2/20",
          "4/3/20",
          "4/4/20"
         ],
         "y": [
          115,
          196,
          257,
          392,
          537,
          763,
          837,
          1172,
          1388,
          1795,
          2304,
          2744,
          3315,
          3540,
          4025,
          5237,
          6424,
          9159,
          10297,
          12496
         ]
        },
        {
         "name": "Massachusetts",
         "type": "scatter",
         "x": [
          "3/16/20",
          "3/17/20",
          "3/18/20",
          "3/19/20",
          "3/20/20",
          "3/21/20",
          "3/22/20",
          "3/23/20",
          "3/24/20",
          "3/25/20",
          "3/26/20",
          "3/27/20",
          "3/28/20",
          "3/29/20",
          "3/30/20",
          "3/31/20",
          "4/1/20",
          "4/2/20",
          "4/3/20",
          "4/4/20"
         ],
         "y": [
          187,
          217,
          252,
          328,
          413,
          523,
          640,
          777,
          1159,
          1838,
          2417,
          3240,
          4257,
          4955,
          5752,
          6620,
          7738,
          8966,
          10402,
          11736
         ]
        },
        {
         "name": "Florida",
         "type": "scatter",
         "x": [
          "3/16/20",
          "3/17/20",
          "3/18/20",
          "3/19/20",
          "3/20/20",
          "3/21/20",
          "3/22/20",
          "3/23/20",
          "3/24/20",
          "3/25/20",
          "3/26/20",
          "3/27/20",
          "3/28/20",
          "3/29/20",
          "3/30/20",
          "3/31/20",
          "4/1/20",
          "4/2/20",
          "4/3/20",
          "4/4/20"
         ],
         "y": [
          101,
          190,
          306,
          331,
          440,
          763,
          1004,
          1227,
          1412,
          1682,
          2357,
          2900,
          3763,
          4246,
          5473,
          6741,
          6956,
          9008,
          10268,
          11545
         ]
        },
        {
         "name": "Pennsylvania",
         "type": "scatter",
         "x": [
          "3/16/20",
          "3/17/20",
          "3/18/20",
          "3/19/20",
          "3/20/20",
          "3/21/20",
          "3/22/20",
          "3/23/20",
          "3/24/20",
          "3/25/20",
          "3/26/20",
          "3/27/20",
          "3/28/20",
          "3/29/20",
          "3/30/20",
          "3/31/20",
          "4/1/20",
          "4/2/20",
          "4/3/20",
          "4/4/20"
         ],
         "y": [
          79,
          112,
          155,
          206,
          311,
          399,
          509,
          698,
          946,
          1260,
          1795,
          2345,
          2845,
          3432,
          4155,
          4963,
          6009,
          7268,
          8570,
          10444
         ]
        },
        {
         "name": "Illinois",
         "type": "scatter",
         "x": [
          "3/16/20",
          "3/17/20",
          "3/18/20",
          "3/19/20",
          "3/20/20",
          "3/21/20",
          "3/22/20",
          "3/23/20",
          "3/24/20",
          "3/25/20",
          "3/26/20",
          "3/27/20",
          "3/28/20",
          "3/29/20",
          "3/30/20",
          "3/31/20",
          "4/1/20",
          "4/2/20",
          "4/3/20",
          "4/4/20"
         ],
         "y": [
          83,
          161,
          272,
          422,
          585,
          753,
          1049,
          1285,
          1537,
          1865,
          2538,
          3024,
          3491,
          4596,
          5056,
          5994,
          6980,
          7695,
          8904,
          10357
         ]
        },
        {
         "name": "Washington",
         "type": "scatter",
         "x": [
          "3/16/20",
          "3/17/20",
          "3/18/20",
          "3/19/20",
          "3/20/20",
          "3/21/20",
          "3/22/20",
          "3/23/20",
          "3/24/20",
          "3/25/20",
          "3/26/20",
          "3/27/20",
          "3/28/20",
          "3/29/20",
          "3/30/20",
          "3/31/20",
          "4/1/20",
          "4/2/20",
          "4/3/20",
          "4/4/20"
         ],
         "y": [
          779,
          955,
          1022,
          1374,
          1524,
          1793,
          1997,
          2221,
          2328,
          2591,
          3207,
          3477,
          4030,
          4465,
          4923,
          5432,
          5608,
          6389,
          6846,
          7247
         ]
        }
       ],
       "layout": {
        "template": {
         "data": {
          "bar": [
           {
            "error_x": {
             "color": "#2a3f5f"
            },
            "error_y": {
             "color": "#2a3f5f"
            },
            "marker": {
             "line": {
              "color": "#E5ECF6",
              "width": 0.5
             }
            },
            "type": "bar"
           }
          ],
          "barpolar": [
           {
            "marker": {
             "line": {
              "color": "#E5ECF6",
              "width": 0.5
             }
            },
            "type": "barpolar"
           }
          ],
          "carpet": [
           {
            "aaxis": {
             "endlinecolor": "#2a3f5f",
             "gridcolor": "white",
             "linecolor": "white",
             "minorgridcolor": "white",
             "startlinecolor": "#2a3f5f"
            },
            "baxis": {
             "endlinecolor": "#2a3f5f",
             "gridcolor": "white",
             "linecolor": "white",
             "minorgridcolor": "white",
             "startlinecolor": "#2a3f5f"
            },
            "type": "carpet"
           }
          ],
          "choropleth": [
           {
            "colorbar": {
             "outlinewidth": 0,
             "ticks": ""
            },
            "type": "choropleth"
           }
          ],
          "contour": [
           {
            "colorbar": {
             "outlinewidth": 0,
             "ticks": ""
            },
            "colorscale": [
             [
              0,
              "#0d0887"
             ],
             [
              0.1111111111111111,
              "#46039f"
             ],
             [
              0.2222222222222222,
              "#7201a8"
             ],
             [
              0.3333333333333333,
              "#9c179e"
             ],
             [
              0.4444444444444444,
              "#bd3786"
             ],
             [
              0.5555555555555556,
              "#d8576b"
             ],
             [
              0.6666666666666666,
              "#ed7953"
             ],
             [
              0.7777777777777778,
              "#fb9f3a"
             ],
             [
              0.8888888888888888,
              "#fdca26"
             ],
             [
              1,
              "#f0f921"
             ]
            ],
            "type": "contour"
           }
          ],
          "contourcarpet": [
           {
            "colorbar": {
             "outlinewidth": 0,
             "ticks": ""
            },
            "type": "contourcarpet"
           }
          ],
          "heatmap": [
           {
            "colorbar": {
             "outlinewidth": 0,
             "ticks": ""
            },
            "colorscale": [
             [
              0,
              "#0d0887"
             ],
             [
              0.1111111111111111,
              "#46039f"
             ],
             [
              0.2222222222222222,
              "#7201a8"
             ],
             [
              0.3333333333333333,
              "#9c179e"
             ],
             [
              0.4444444444444444,
              "#bd3786"
             ],
             [
              0.5555555555555556,
              "#d8576b"
             ],
             [
              0.6666666666666666,
              "#ed7953"
             ],
             [
              0.7777777777777778,
              "#fb9f3a"
             ],
             [
              0.8888888888888888,
              "#fdca26"
             ],
             [
              1,
              "#f0f921"
             ]
            ],
            "type": "heatmap"
           }
          ],
          "heatmapgl": [
           {
            "colorbar": {
             "outlinewidth": 0,
             "ticks": ""
            },
            "colorscale": [
             [
              0,
              "#0d0887"
             ],
             [
              0.1111111111111111,
              "#46039f"
             ],
             [
              0.2222222222222222,
              "#7201a8"
             ],
             [
              0.3333333333333333,
              "#9c179e"
             ],
             [
              0.4444444444444444,
              "#bd3786"
             ],
             [
              0.5555555555555556,
              "#d8576b"
             ],
             [
              0.6666666666666666,
              "#ed7953"
             ],
             [
              0.7777777777777778,
              "#fb9f3a"
             ],
             [
              0.8888888888888888,
              "#fdca26"
             ],
             [
              1,
              "#f0f921"
             ]
            ],
            "type": "heatmapgl"
           }
          ],
          "histogram": [
           {
            "marker": {
             "colorbar": {
              "outlinewidth": 0,
              "ticks": ""
             }
            },
            "type": "histogram"
           }
          ],
          "histogram2d": [
           {
            "colorbar": {
             "outlinewidth": 0,
             "ticks": ""
            },
            "colorscale": [
             [
              0,
              "#0d0887"
             ],
             [
              0.1111111111111111,
              "#46039f"
             ],
             [
              0.2222222222222222,
              "#7201a8"
             ],
             [
              0.3333333333333333,
              "#9c179e"
             ],
             [
              0.4444444444444444,
              "#bd3786"
             ],
             [
              0.5555555555555556,
              "#d8576b"
             ],
             [
              0.6666666666666666,
              "#ed7953"
             ],
             [
              0.7777777777777778,
              "#fb9f3a"
             ],
             [
              0.8888888888888888,
              "#fdca26"
             ],
             [
              1,
              "#f0f921"
             ]
            ],
            "type": "histogram2d"
           }
          ],
          "histogram2dcontour": [
           {
            "colorbar": {
             "outlinewidth": 0,
             "ticks": ""
            },
            "colorscale": [
             [
              0,
              "#0d0887"
             ],
             [
              0.1111111111111111,
              "#46039f"
             ],
             [
              0.2222222222222222,
              "#7201a8"
             ],
             [
              0.3333333333333333,
              "#9c179e"
             ],
             [
              0.4444444444444444,
              "#bd3786"
             ],
             [
              0.5555555555555556,
              "#d8576b"
             ],
             [
              0.6666666666666666,
              "#ed7953"
             ],
             [
              0.7777777777777778,
              "#fb9f3a"
             ],
             [
              0.8888888888888888,
              "#fdca26"
             ],
             [
              1,
              "#f0f921"
             ]
            ],
            "type": "histogram2dcontour"
           }
          ],
          "mesh3d": [
           {
            "colorbar": {
             "outlinewidth": 0,
             "ticks": ""
            },
            "type": "mesh3d"
           }
          ],
          "parcoords": [
           {
            "line": {
             "colorbar": {
              "outlinewidth": 0,
              "ticks": ""
             }
            },
            "type": "parcoords"
           }
          ],
          "pie": [
           {
            "automargin": true,
            "type": "pie"
           }
          ],
          "scatter": [
           {
            "marker": {
             "colorbar": {
              "outlinewidth": 0,
              "ticks": ""
             }
            },
            "type": "scatter"
           }
          ],
          "scatter3d": [
           {
            "line": {
             "colorbar": {
              "outlinewidth": 0,
              "ticks": ""
             }
            },
            "marker": {
             "colorbar": {
              "outlinewidth": 0,
              "ticks": ""
             }
            },
            "type": "scatter3d"
           }
          ],
          "scattercarpet": [
           {
            "marker": {
             "colorbar": {
              "outlinewidth": 0,
              "ticks": ""
             }
            },
            "type": "scattercarpet"
           }
          ],
          "scattergeo": [
           {
            "marker": {
             "colorbar": {
              "outlinewidth": 0,
              "ticks": ""
             }
            },
            "type": "scattergeo"
           }
          ],
          "scattergl": [
           {
            "marker": {
             "colorbar": {
              "outlinewidth": 0,
              "ticks": ""
             }
            },
            "type": "scattergl"
           }
          ],
          "scattermapbox": [
           {
            "marker": {
             "colorbar": {
              "outlinewidth": 0,
              "ticks": ""
             }
            },
            "type": "scattermapbox"
           }
          ],
          "scatterpolar": [
           {
            "marker": {
             "colorbar": {
              "outlinewidth": 0,
              "ticks": ""
             }
            },
            "type": "scatterpolar"
           }
          ],
          "scatterpolargl": [
           {
            "marker": {
             "colorbar": {
              "outlinewidth": 0,
              "ticks": ""
             }
            },
            "type": "scatterpolargl"
           }
          ],
          "scatterternary": [
           {
            "marker": {
             "colorbar": {
              "outlinewidth": 0,
              "ticks": ""
             }
            },
            "type": "scatterternary"
           }
          ],
          "surface": [
           {
            "colorbar": {
             "outlinewidth": 0,
             "ticks": ""
            },
            "colorscale": [
             [
              0,
              "#0d0887"
             ],
             [
              0.1111111111111111,
              "#46039f"
             ],
             [
              0.2222222222222222,
              "#7201a8"
             ],
             [
              0.3333333333333333,
              "#9c179e"
             ],
             [
              0.4444444444444444,
              "#bd3786"
             ],
             [
              0.5555555555555556,
              "#d8576b"
             ],
             [
              0.6666666666666666,
              "#ed7953"
             ],
             [
              0.7777777777777778,
              "#fb9f3a"
             ],
             [
              0.8888888888888888,
              "#fdca26"
             ],
             [
              1,
              "#f0f921"
             ]
            ],
            "type": "surface"
           }
          ],
          "table": [
           {
            "cells": {
             "fill": {
              "color": "#EBF0F8"
             },
             "line": {
              "color": "white"
             }
            },
            "header": {
             "fill": {
              "color": "#C8D4E3"
             },
             "line": {
              "color": "white"
             }
            },
            "type": "table"
           }
          ]
         },
         "layout": {
          "annotationdefaults": {
           "arrowcolor": "#2a3f5f",
           "arrowhead": 0,
           "arrowwidth": 1
          },
          "coloraxis": {
           "colorbar": {
            "outlinewidth": 0,
            "ticks": ""
           }
          },
          "colorscale": {
           "diverging": [
            [
             0,
             "#8e0152"
            ],
            [
             0.1,
             "#c51b7d"
            ],
            [
             0.2,
             "#de77ae"
            ],
            [
             0.3,
             "#f1b6da"
            ],
            [
             0.4,
             "#fde0ef"
            ],
            [
             0.5,
             "#f7f7f7"
            ],
            [
             0.6,
             "#e6f5d0"
            ],
            [
             0.7,
             "#b8e186"
            ],
            [
             0.8,
             "#7fbc41"
            ],
            [
             0.9,
             "#4d9221"
            ],
            [
             1,
             "#276419"
            ]
           ],
           "sequential": [
            [
             0,
             "#0d0887"
            ],
            [
             0.1111111111111111,
             "#46039f"
            ],
            [
             0.2222222222222222,
             "#7201a8"
            ],
            [
             0.3333333333333333,
             "#9c179e"
            ],
            [
             0.4444444444444444,
             "#bd3786"
            ],
            [
             0.5555555555555556,
             "#d8576b"
            ],
            [
             0.6666666666666666,
             "#ed7953"
            ],
            [
             0.7777777777777778,
             "#fb9f3a"
            ],
            [
             0.8888888888888888,
             "#fdca26"
            ],
            [
             1,
             "#f0f921"
            ]
           ],
           "sequentialminus": [
            [
             0,
             "#0d0887"
            ],
            [
             0.1111111111111111,
             "#46039f"
            ],
            [
             0.2222222222222222,
             "#7201a8"
            ],
            [
             0.3333333333333333,
             "#9c179e"
            ],
            [
             0.4444444444444444,
             "#bd3786"
            ],
            [
             0.5555555555555556,
             "#d8576b"
            ],
            [
             0.6666666666666666,
             "#ed7953"
            ],
            [
             0.7777777777777778,
             "#fb9f3a"
            ],
            [
             0.8888888888888888,
             "#fdca26"
            ],
            [
             1,
             "#f0f921"
            ]
           ]
          },
          "colorway": [
           "#636efa",
           "#EF553B",
           "#00cc96",
           "#ab63fa",
           "#FFA15A",
           "#19d3f3",
           "#FF6692",
           "#B6E880",
           "#FF97FF",
           "#FECB52"
          ],
          "font": {
           "color": "#2a3f5f"
          },
          "geo": {
           "bgcolor": "white",
           "lakecolor": "white",
           "landcolor": "#E5ECF6",
           "showlakes": true,
           "showland": true,
           "subunitcolor": "white"
          },
          "hoverlabel": {
           "align": "left"
          },
          "hovermode": "closest",
          "mapbox": {
           "style": "light"
          },
          "paper_bgcolor": "white",
          "plot_bgcolor": "#E5ECF6",
          "polar": {
           "angularaxis": {
            "gridcolor": "white",
            "linecolor": "white",
            "ticks": ""
           },
           "bgcolor": "#E5ECF6",
           "radialaxis": {
            "gridcolor": "white",
            "linecolor": "white",
            "ticks": ""
           }
          },
          "scene": {
           "xaxis": {
            "backgroundcolor": "#E5ECF6",
            "gridcolor": "white",
            "gridwidth": 2,
            "linecolor": "white",
            "showbackground": true,
            "ticks": "",
            "zerolinecolor": "white"
           },
           "yaxis": {
            "backgroundcolor": "#E5ECF6",
            "gridcolor": "white",
            "gridwidth": 2,
            "linecolor": "white",
            "showbackground": true,
            "ticks": "",
            "zerolinecolor": "white"
           },
           "zaxis": {
            "backgroundcolor": "#E5ECF6",
            "gridcolor": "white",
            "gridwidth": 2,
            "linecolor": "white",
            "showbackground": true,
            "ticks": "",
            "zerolinecolor": "white"
           }
          },
          "shapedefaults": {
           "line": {
            "color": "#2a3f5f"
           }
          },
          "ternary": {
           "aaxis": {
            "gridcolor": "white",
            "linecolor": "white",
            "ticks": ""
           },
           "baxis": {
            "gridcolor": "white",
            "linecolor": "white",
            "ticks": ""
           },
           "bgcolor": "#E5ECF6",
           "caxis": {
            "gridcolor": "white",
            "linecolor": "white",
            "ticks": ""
           }
          },
          "title": {
           "x": 0.05
          },
          "xaxis": {
           "automargin": true,
           "gridcolor": "white",
           "linecolor": "white",
           "ticks": "",
           "title": {
            "standoff": 15
           },
           "zerolinecolor": "white",
           "zerolinewidth": 2
          },
          "yaxis": {
           "automargin": true,
           "gridcolor": "white",
           "linecolor": "white",
           "ticks": "",
           "title": {
            "standoff": 15
           },
           "zerolinecolor": "white",
           "zerolinewidth": 2
          }
         }
        },
        "title": {
         "text": "US States - Confirmed Cases"
        },
        "updatemenus": [
         {
          "active": 0,
          "buttons": [
           {
            "args": [
             {
              "visible": [
               true,
               true
              ]
             },
             {
              "yaxis": {
               "type": "linear"
              }
             }
            ],
            "label": "Linear Scale",
            "method": "update"
           },
           {
            "args": [
             {
              "visible": [
               true,
               true
              ]
             },
             {
              "yaxis": {
               "type": "log"
              }
             }
            ],
            "label": "Logarithmic Scale",
            "method": "update"
           }
          ],
          "direction": "right",
          "type": "buttons",
          "x": 0.45,
          "xanchor": "left",
          "y": 1.1,
          "yanchor": "top"
         }
        ]
       }
      },
      "text/html": [
       "<div>\n",
       "        \n",
       "        \n",
       "            <div id=\"7ecff52e-99be-4df3-8657-697ed78a1304\" class=\"plotly-graph-div\" style=\"height:525px; width:100%;\"></div>\n",
       "            <script type=\"text/javascript\">\n",
       "                require([\"plotly\"], function(Plotly) {\n",
       "                    window.PLOTLYENV=window.PLOTLYENV || {};\n",
       "                    \n",
       "                if (document.getElementById(\"7ecff52e-99be-4df3-8657-697ed78a1304\")) {\n",
       "                    Plotly.newPlot(\n",
       "                        '7ecff52e-99be-4df3-8657-697ed78a1304',\n",
       "                        [{\"name\": \"New York\", \"type\": \"scatter\", \"x\": [\"3/16/20\", \"3/17/20\", \"3/18/20\", \"3/19/20\", \"3/20/20\", \"3/21/20\", \"3/22/20\", \"3/23/20\", \"3/24/20\", \"3/25/20\", \"3/26/20\", \"3/27/20\", \"3/28/20\", \"3/29/20\", \"3/30/20\", \"3/31/20\", \"4/1/20\", \"4/2/20\", \"4/3/20\", \"4/4/20\"], \"y\": [967, 1578, 3038, 5704, 8403, 11727, 15800, 20884, 25681, 30841, 37877, 44876, 52410, 59648, 66663, 75833, 83948, 92506, 102987, 113833]}, {\"name\": \"New Jersey\", \"type\": \"scatter\", \"x\": [\"3/16/20\", \"3/17/20\", \"3/18/20\", \"3/19/20\", \"3/20/20\", \"3/21/20\", \"3/22/20\", \"3/23/20\", \"3/24/20\", \"3/25/20\", \"3/26/20\", \"3/27/20\", \"3/28/20\", \"3/29/20\", \"3/30/20\", \"3/31/20\", \"4/1/20\", \"4/2/20\", \"4/3/20\", \"4/4/20\"], \"y\": [176, 250, 397, 741, 890, 1327, 1914, 2844, 3675, 4402, 6876, 8825, 11124, 13386, 16636, 18696, 22255, 25590, 29895, 34124]}, {\"name\": \"Michigan\", \"type\": \"scatter\", \"x\": [\"3/16/20\", \"3/17/20\", \"3/18/20\", \"3/19/20\", \"3/20/20\", \"3/21/20\", \"3/22/20\", \"3/23/20\", \"3/24/20\", \"3/25/20\", \"3/26/20\", \"3/27/20\", \"3/28/20\", \"3/29/20\", \"3/30/20\", \"3/31/20\", \"4/1/20\", \"4/2/20\", \"4/3/20\", \"4/4/20\"], \"y\": [54, 63, 119, 259, 402, 540, 1035, 1329, 1793, 2296, 2845, 3634, 4650, 5488, 6498, 7615, 9315, 10791, 12744, 14225]}, {\"name\": \"California\", \"type\": \"scatter\", \"x\": [\"3/16/20\", \"3/17/20\", \"3/18/20\", \"3/19/20\", \"3/20/20\", \"3/21/20\", \"3/22/20\", \"3/23/20\", \"3/24/20\", \"3/25/20\", \"3/26/20\", \"3/27/20\", \"3/28/20\", \"3/29/20\", \"3/30/20\", \"3/31/20\", \"4/1/20\", \"4/2/20\", \"4/3/20\", \"4/4/20\"], \"y\": [557, 700, 828, 1005, 1243, 1405, 1646, 2108, 2538, 2998, 3899, 4657, 5095, 5852, 7138, 8210, 9399, 10773, 12004, 12837]}, {\"name\": \"Louisiana\", \"type\": \"scatter\", \"x\": [\"3/16/20\", \"3/17/20\", \"3/18/20\", \"3/19/20\", \"3/20/20\", \"3/21/20\", \"3/22/20\", \"3/23/20\", \"3/24/20\", \"3/25/20\", \"3/26/20\", \"3/27/20\", \"3/28/20\", \"3/29/20\", \"3/30/20\", \"3/31/20\", \"4/1/20\", \"4/2/20\", \"4/3/20\", \"4/4/20\"], \"y\": [115, 196, 257, 392, 537, 763, 837, 1172, 1388, 1795, 2304, 2744, 3315, 3540, 4025, 5237, 6424, 9159, 10297, 12496]}, {\"name\": \"Massachusetts\", \"type\": \"scatter\", \"x\": [\"3/16/20\", \"3/17/20\", \"3/18/20\", \"3/19/20\", \"3/20/20\", \"3/21/20\", \"3/22/20\", \"3/23/20\", \"3/24/20\", \"3/25/20\", \"3/26/20\", \"3/27/20\", \"3/28/20\", \"3/29/20\", \"3/30/20\", \"3/31/20\", \"4/1/20\", \"4/2/20\", \"4/3/20\", \"4/4/20\"], \"y\": [187, 217, 252, 328, 413, 523, 640, 777, 1159, 1838, 2417, 3240, 4257, 4955, 5752, 6620, 7738, 8966, 10402, 11736]}, {\"name\": \"Florida\", \"type\": \"scatter\", \"x\": [\"3/16/20\", \"3/17/20\", \"3/18/20\", \"3/19/20\", \"3/20/20\", \"3/21/20\", \"3/22/20\", \"3/23/20\", \"3/24/20\", \"3/25/20\", \"3/26/20\", \"3/27/20\", \"3/28/20\", \"3/29/20\", \"3/30/20\", \"3/31/20\", \"4/1/20\", \"4/2/20\", \"4/3/20\", \"4/4/20\"], \"y\": [101, 190, 306, 331, 440, 763, 1004, 1227, 1412, 1682, 2357, 2900, 3763, 4246, 5473, 6741, 6956, 9008, 10268, 11545]}, {\"name\": \"Pennsylvania\", \"type\": \"scatter\", \"x\": [\"3/16/20\", \"3/17/20\", \"3/18/20\", \"3/19/20\", \"3/20/20\", \"3/21/20\", \"3/22/20\", \"3/23/20\", \"3/24/20\", \"3/25/20\", \"3/26/20\", \"3/27/20\", \"3/28/20\", \"3/29/20\", \"3/30/20\", \"3/31/20\", \"4/1/20\", \"4/2/20\", \"4/3/20\", \"4/4/20\"], \"y\": [79, 112, 155, 206, 311, 399, 509, 698, 946, 1260, 1795, 2345, 2845, 3432, 4155, 4963, 6009, 7268, 8570, 10444]}, {\"name\": \"Illinois\", \"type\": \"scatter\", \"x\": [\"3/16/20\", \"3/17/20\", \"3/18/20\", \"3/19/20\", \"3/20/20\", \"3/21/20\", \"3/22/20\", \"3/23/20\", \"3/24/20\", \"3/25/20\", \"3/26/20\", \"3/27/20\", \"3/28/20\", \"3/29/20\", \"3/30/20\", \"3/31/20\", \"4/1/20\", \"4/2/20\", \"4/3/20\", \"4/4/20\"], \"y\": [83, 161, 272, 422, 585, 753, 1049, 1285, 1537, 1865, 2538, 3024, 3491, 4596, 5056, 5994, 6980, 7695, 8904, 10357]}, {\"name\": \"Washington\", \"type\": \"scatter\", \"x\": [\"3/16/20\", \"3/17/20\", \"3/18/20\", \"3/19/20\", \"3/20/20\", \"3/21/20\", \"3/22/20\", \"3/23/20\", \"3/24/20\", \"3/25/20\", \"3/26/20\", \"3/27/20\", \"3/28/20\", \"3/29/20\", \"3/30/20\", \"3/31/20\", \"4/1/20\", \"4/2/20\", \"4/3/20\", \"4/4/20\"], \"y\": [779, 955, 1022, 1374, 1524, 1793, 1997, 2221, 2328, 2591, 3207, 3477, 4030, 4465, 4923, 5432, 5608, 6389, 6846, 7247]}],\n",
       "                        {\"template\": {\"data\": {\"bar\": [{\"error_x\": {\"color\": \"#2a3f5f\"}, \"error_y\": {\"color\": \"#2a3f5f\"}, \"marker\": {\"line\": {\"color\": \"#E5ECF6\", \"width\": 0.5}}, \"type\": \"bar\"}], \"barpolar\": [{\"marker\": {\"line\": {\"color\": \"#E5ECF6\", \"width\": 0.5}}, \"type\": \"barpolar\"}], \"carpet\": [{\"aaxis\": {\"endlinecolor\": \"#2a3f5f\", \"gridcolor\": \"white\", \"linecolor\": \"white\", \"minorgridcolor\": \"white\", \"startlinecolor\": \"#2a3f5f\"}, \"baxis\": {\"endlinecolor\": \"#2a3f5f\", \"gridcolor\": \"white\", \"linecolor\": \"white\", \"minorgridcolor\": \"white\", \"startlinecolor\": \"#2a3f5f\"}, \"type\": \"carpet\"}], \"choropleth\": [{\"colorbar\": {\"outlinewidth\": 0, \"ticks\": \"\"}, \"type\": \"choropleth\"}], \"contour\": [{\"colorbar\": {\"outlinewidth\": 0, \"ticks\": \"\"}, \"colorscale\": [[0.0, \"#0d0887\"], [0.1111111111111111, \"#46039f\"], [0.2222222222222222, \"#7201a8\"], [0.3333333333333333, \"#9c179e\"], [0.4444444444444444, \"#bd3786\"], [0.5555555555555556, \"#d8576b\"], [0.6666666666666666, \"#ed7953\"], [0.7777777777777778, \"#fb9f3a\"], [0.8888888888888888, \"#fdca26\"], [1.0, \"#f0f921\"]], \"type\": \"contour\"}], \"contourcarpet\": [{\"colorbar\": {\"outlinewidth\": 0, \"ticks\": \"\"}, \"type\": \"contourcarpet\"}], \"heatmap\": [{\"colorbar\": {\"outlinewidth\": 0, \"ticks\": \"\"}, \"colorscale\": [[0.0, \"#0d0887\"], [0.1111111111111111, \"#46039f\"], [0.2222222222222222, \"#7201a8\"], [0.3333333333333333, \"#9c179e\"], [0.4444444444444444, \"#bd3786\"], [0.5555555555555556, \"#d8576b\"], [0.6666666666666666, \"#ed7953\"], [0.7777777777777778, \"#fb9f3a\"], [0.8888888888888888, \"#fdca26\"], [1.0, \"#f0f921\"]], \"type\": \"heatmap\"}], \"heatmapgl\": [{\"colorbar\": {\"outlinewidth\": 0, \"ticks\": \"\"}, \"colorscale\": [[0.0, \"#0d0887\"], [0.1111111111111111, \"#46039f\"], [0.2222222222222222, \"#7201a8\"], [0.3333333333333333, \"#9c179e\"], [0.4444444444444444, \"#bd3786\"], [0.5555555555555556, \"#d8576b\"], [0.6666666666666666, \"#ed7953\"], [0.7777777777777778, \"#fb9f3a\"], [0.8888888888888888, \"#fdca26\"], [1.0, \"#f0f921\"]], \"type\": \"heatmapgl\"}], \"histogram\": [{\"marker\": {\"colorbar\": {\"outlinewidth\": 0, \"ticks\": \"\"}}, \"type\": \"histogram\"}], \"histogram2d\": [{\"colorbar\": {\"outlinewidth\": 0, \"ticks\": \"\"}, \"colorscale\": [[0.0, \"#0d0887\"], [0.1111111111111111, \"#46039f\"], [0.2222222222222222, \"#7201a8\"], [0.3333333333333333, \"#9c179e\"], [0.4444444444444444, \"#bd3786\"], [0.5555555555555556, \"#d8576b\"], [0.6666666666666666, \"#ed7953\"], [0.7777777777777778, \"#fb9f3a\"], [0.8888888888888888, \"#fdca26\"], [1.0, \"#f0f921\"]], \"type\": \"histogram2d\"}], \"histogram2dcontour\": [{\"colorbar\": {\"outlinewidth\": 0, \"ticks\": \"\"}, \"colorscale\": [[0.0, \"#0d0887\"], [0.1111111111111111, \"#46039f\"], [0.2222222222222222, \"#7201a8\"], [0.3333333333333333, \"#9c179e\"], [0.4444444444444444, \"#bd3786\"], [0.5555555555555556, \"#d8576b\"], [0.6666666666666666, \"#ed7953\"], [0.7777777777777778, \"#fb9f3a\"], [0.8888888888888888, \"#fdca26\"], [1.0, \"#f0f921\"]], \"type\": \"histogram2dcontour\"}], \"mesh3d\": [{\"colorbar\": {\"outlinewidth\": 0, \"ticks\": \"\"}, \"type\": \"mesh3d\"}], \"parcoords\": [{\"line\": {\"colorbar\": {\"outlinewidth\": 0, \"ticks\": \"\"}}, \"type\": \"parcoords\"}], \"pie\": [{\"automargin\": true, \"type\": \"pie\"}], \"scatter\": [{\"marker\": {\"colorbar\": {\"outlinewidth\": 0, \"ticks\": \"\"}}, \"type\": \"scatter\"}], \"scatter3d\": [{\"line\": {\"colorbar\": {\"outlinewidth\": 0, \"ticks\": \"\"}}, \"marker\": {\"colorbar\": {\"outlinewidth\": 0, \"ticks\": \"\"}}, \"type\": \"scatter3d\"}], \"scattercarpet\": [{\"marker\": {\"colorbar\": {\"outlinewidth\": 0, \"ticks\": \"\"}}, \"type\": \"scattercarpet\"}], \"scattergeo\": [{\"marker\": {\"colorbar\": {\"outlinewidth\": 0, \"ticks\": \"\"}}, \"type\": \"scattergeo\"}], \"scattergl\": [{\"marker\": {\"colorbar\": {\"outlinewidth\": 0, \"ticks\": \"\"}}, \"type\": \"scattergl\"}], \"scattermapbox\": [{\"marker\": {\"colorbar\": {\"outlinewidth\": 0, \"ticks\": \"\"}}, \"type\": \"scattermapbox\"}], \"scatterpolar\": [{\"marker\": {\"colorbar\": {\"outlinewidth\": 0, \"ticks\": \"\"}}, \"type\": \"scatterpolar\"}], \"scatterpolargl\": [{\"marker\": {\"colorbar\": {\"outlinewidth\": 0, \"ticks\": \"\"}}, \"type\": \"scatterpolargl\"}], \"scatterternary\": [{\"marker\": {\"colorbar\": {\"outlinewidth\": 0, \"ticks\": \"\"}}, \"type\": \"scatterternary\"}], \"surface\": [{\"colorbar\": {\"outlinewidth\": 0, \"ticks\": \"\"}, \"colorscale\": [[0.0, \"#0d0887\"], [0.1111111111111111, \"#46039f\"], [0.2222222222222222, \"#7201a8\"], [0.3333333333333333, \"#9c179e\"], [0.4444444444444444, \"#bd3786\"], [0.5555555555555556, \"#d8576b\"], [0.6666666666666666, \"#ed7953\"], [0.7777777777777778, \"#fb9f3a\"], [0.8888888888888888, \"#fdca26\"], [1.0, \"#f0f921\"]], \"type\": \"surface\"}], \"table\": [{\"cells\": {\"fill\": {\"color\": \"#EBF0F8\"}, \"line\": {\"color\": \"white\"}}, \"header\": {\"fill\": {\"color\": \"#C8D4E3\"}, \"line\": {\"color\": \"white\"}}, \"type\": \"table\"}]}, \"layout\": {\"annotationdefaults\": {\"arrowcolor\": \"#2a3f5f\", \"arrowhead\": 0, \"arrowwidth\": 1}, \"coloraxis\": {\"colorbar\": {\"outlinewidth\": 0, \"ticks\": \"\"}}, \"colorscale\": {\"diverging\": [[0, \"#8e0152\"], [0.1, \"#c51b7d\"], [0.2, \"#de77ae\"], [0.3, \"#f1b6da\"], [0.4, \"#fde0ef\"], [0.5, \"#f7f7f7\"], [0.6, \"#e6f5d0\"], [0.7, \"#b8e186\"], [0.8, \"#7fbc41\"], [0.9, \"#4d9221\"], [1, \"#276419\"]], \"sequential\": [[0.0, \"#0d0887\"], [0.1111111111111111, \"#46039f\"], [0.2222222222222222, \"#7201a8\"], [0.3333333333333333, \"#9c179e\"], [0.4444444444444444, \"#bd3786\"], [0.5555555555555556, \"#d8576b\"], [0.6666666666666666, \"#ed7953\"], [0.7777777777777778, \"#fb9f3a\"], [0.8888888888888888, \"#fdca26\"], [1.0, \"#f0f921\"]], \"sequentialminus\": [[0.0, \"#0d0887\"], [0.1111111111111111, \"#46039f\"], [0.2222222222222222, \"#7201a8\"], [0.3333333333333333, \"#9c179e\"], [0.4444444444444444, \"#bd3786\"], [0.5555555555555556, \"#d8576b\"], [0.6666666666666666, \"#ed7953\"], [0.7777777777777778, \"#fb9f3a\"], [0.8888888888888888, \"#fdca26\"], [1.0, \"#f0f921\"]]}, \"colorway\": [\"#636efa\", \"#EF553B\", \"#00cc96\", \"#ab63fa\", \"#FFA15A\", \"#19d3f3\", \"#FF6692\", \"#B6E880\", \"#FF97FF\", \"#FECB52\"], \"font\": {\"color\": \"#2a3f5f\"}, \"geo\": {\"bgcolor\": \"white\", \"lakecolor\": \"white\", \"landcolor\": \"#E5ECF6\", \"showlakes\": true, \"showland\": true, \"subunitcolor\": \"white\"}, \"hoverlabel\": {\"align\": \"left\"}, \"hovermode\": \"closest\", \"mapbox\": {\"style\": \"light\"}, \"paper_bgcolor\": \"white\", \"plot_bgcolor\": \"#E5ECF6\", \"polar\": {\"angularaxis\": {\"gridcolor\": \"white\", \"linecolor\": \"white\", \"ticks\": \"\"}, \"bgcolor\": \"#E5ECF6\", \"radialaxis\": {\"gridcolor\": \"white\", \"linecolor\": \"white\", \"ticks\": \"\"}}, \"scene\": {\"xaxis\": {\"backgroundcolor\": \"#E5ECF6\", \"gridcolor\": \"white\", \"gridwidth\": 2, \"linecolor\": \"white\", \"showbackground\": true, \"ticks\": \"\", \"zerolinecolor\": \"white\"}, \"yaxis\": {\"backgroundcolor\": \"#E5ECF6\", \"gridcolor\": \"white\", \"gridwidth\": 2, \"linecolor\": \"white\", \"showbackground\": true, \"ticks\": \"\", \"zerolinecolor\": \"white\"}, \"zaxis\": {\"backgroundcolor\": \"#E5ECF6\", \"gridcolor\": \"white\", \"gridwidth\": 2, \"linecolor\": \"white\", \"showbackground\": true, \"ticks\": \"\", \"zerolinecolor\": \"white\"}}, \"shapedefaults\": {\"line\": {\"color\": \"#2a3f5f\"}}, \"ternary\": {\"aaxis\": {\"gridcolor\": \"white\", \"linecolor\": \"white\", \"ticks\": \"\"}, \"baxis\": {\"gridcolor\": \"white\", \"linecolor\": \"white\", \"ticks\": \"\"}, \"bgcolor\": \"#E5ECF6\", \"caxis\": {\"gridcolor\": \"white\", \"linecolor\": \"white\", \"ticks\": \"\"}}, \"title\": {\"x\": 0.05}, \"xaxis\": {\"automargin\": true, \"gridcolor\": \"white\", \"linecolor\": \"white\", \"ticks\": \"\", \"title\": {\"standoff\": 15}, \"zerolinecolor\": \"white\", \"zerolinewidth\": 2}, \"yaxis\": {\"automargin\": true, \"gridcolor\": \"white\", \"linecolor\": \"white\", \"ticks\": \"\", \"title\": {\"standoff\": 15}, \"zerolinecolor\": \"white\", \"zerolinewidth\": 2}}}, \"title\": {\"text\": \"US States - Confirmed Cases\"}, \"updatemenus\": [{\"active\": 0, \"buttons\": [{\"args\": [{\"visible\": [true, true]}, {\"yaxis\": {\"type\": \"linear\"}}], \"label\": \"Linear Scale\", \"method\": \"update\"}, {\"args\": [{\"visible\": [true, true]}, {\"yaxis\": {\"type\": \"log\"}}], \"label\": \"Logarithmic Scale\", \"method\": \"update\"}], \"direction\": \"right\", \"type\": \"buttons\", \"x\": 0.45, \"xanchor\": \"left\", \"y\": 1.1, \"yanchor\": \"top\"}]},\n",
       "                        {\"responsive\": true}\n",
       "                    ).then(function(){\n",
       "                            \n",
       "var gd = document.getElementById('7ecff52e-99be-4df3-8657-697ed78a1304');\n",
       "var x = new MutationObserver(function (mutations, observer) {{\n",
       "        var display = window.getComputedStyle(gd).display;\n",
       "        if (!display || display === 'none') {{\n",
       "            console.log([gd, 'removed!']);\n",
       "            Plotly.purge(gd);\n",
       "            observer.disconnect();\n",
       "        }}\n",
       "}});\n",
       "\n",
       "// Listen for the removal of the full notebook cells\n",
       "var notebookContainer = gd.closest('#notebook-container');\n",
       "if (notebookContainer) {{\n",
       "    x.observe(notebookContainer, {childList: true});\n",
       "}}\n",
       "\n",
       "// Listen for the clearing of the current output cell\n",
       "var outputEl = gd.closest('.output');\n",
       "if (outputEl) {{\n",
       "    x.observe(outputEl, {childList: true});\n",
       "}}\n",
       "\n",
       "                        })\n",
       "                };\n",
       "                });\n",
       "            </script>\n",
       "        </div>"
      ]
     },
     "metadata": {},
     "output_type": "display_data"
    },
    {
     "data": {
      "text/html": [
       "<style  type=\"text/css\" >\n",
       "</style><table id=\"T_8cf4f59e_7766_11ea_b397_c49ded93ade6\" ><thead>    <tr>        <th class=\"blank level0\" ></th>        <th class=\"col_heading level0 col0\" >3/16/20</th>        <th class=\"col_heading level0 col1\" >3/17/20</th>        <th class=\"col_heading level0 col2\" >3/18/20</th>        <th class=\"col_heading level0 col3\" >3/19/20</th>        <th class=\"col_heading level0 col4\" >3/20/20</th>        <th class=\"col_heading level0 col5\" >3/21/20</th>        <th class=\"col_heading level0 col6\" >3/22/20</th>        <th class=\"col_heading level0 col7\" >3/23/20</th>        <th class=\"col_heading level0 col8\" >3/24/20</th>        <th class=\"col_heading level0 col9\" >3/25/20</th>        <th class=\"col_heading level0 col10\" >3/26/20</th>        <th class=\"col_heading level0 col11\" >3/27/20</th>        <th class=\"col_heading level0 col12\" >3/28/20</th>        <th class=\"col_heading level0 col13\" >3/29/20</th>        <th class=\"col_heading level0 col14\" >3/30/20</th>        <th class=\"col_heading level0 col15\" >3/31/20</th>        <th class=\"col_heading level0 col16\" >4/1/20</th>        <th class=\"col_heading level0 col17\" >4/2/20</th>        <th class=\"col_heading level0 col18\" >4/3/20</th>        <th class=\"col_heading level0 col19\" >4/4/20</th>        <th class=\"col_heading level0 col20\" >percent_of_total</th>    </tr>    <tr>        <th class=\"index_name level0\" >Province_State</th>        <th class=\"blank\" ></th>        <th class=\"blank\" ></th>        <th class=\"blank\" ></th>        <th class=\"blank\" ></th>        <th class=\"blank\" ></th>        <th class=\"blank\" ></th>        <th class=\"blank\" ></th>        <th class=\"blank\" ></th>        <th class=\"blank\" ></th>        <th class=\"blank\" ></th>        <th class=\"blank\" ></th>        <th class=\"blank\" ></th>        <th class=\"blank\" ></th>        <th class=\"blank\" ></th>        <th class=\"blank\" ></th>        <th class=\"blank\" ></th>        <th class=\"blank\" ></th>        <th class=\"blank\" ></th>        <th class=\"blank\" ></th>        <th class=\"blank\" ></th>        <th class=\"blank\" ></th>    </tr></thead><tbody>\n",
       "                <tr>\n",
       "                        <th id=\"T_8cf4f59e_7766_11ea_b397_c49ded93ade6level0_row0\" class=\"row_heading level0 row0\" >New York</th>\n",
       "                        <td id=\"T_8cf4f59e_7766_11ea_b397_c49ded93ade6row0_col0\" class=\"data row0 col0\" >967</td>\n",
       "                        <td id=\"T_8cf4f59e_7766_11ea_b397_c49ded93ade6row0_col1\" class=\"data row0 col1\" >1,578</td>\n",
       "                        <td id=\"T_8cf4f59e_7766_11ea_b397_c49ded93ade6row0_col2\" class=\"data row0 col2\" >3,038</td>\n",
       "                        <td id=\"T_8cf4f59e_7766_11ea_b397_c49ded93ade6row0_col3\" class=\"data row0 col3\" >5,704</td>\n",
       "                        <td id=\"T_8cf4f59e_7766_11ea_b397_c49ded93ade6row0_col4\" class=\"data row0 col4\" >8,403</td>\n",
       "                        <td id=\"T_8cf4f59e_7766_11ea_b397_c49ded93ade6row0_col5\" class=\"data row0 col5\" >11,727</td>\n",
       "                        <td id=\"T_8cf4f59e_7766_11ea_b397_c49ded93ade6row0_col6\" class=\"data row0 col6\" >15,800</td>\n",
       "                        <td id=\"T_8cf4f59e_7766_11ea_b397_c49ded93ade6row0_col7\" class=\"data row0 col7\" >20,884</td>\n",
       "                        <td id=\"T_8cf4f59e_7766_11ea_b397_c49ded93ade6row0_col8\" class=\"data row0 col8\" >25,681</td>\n",
       "                        <td id=\"T_8cf4f59e_7766_11ea_b397_c49ded93ade6row0_col9\" class=\"data row0 col9\" >30,841</td>\n",
       "                        <td id=\"T_8cf4f59e_7766_11ea_b397_c49ded93ade6row0_col10\" class=\"data row0 col10\" >37,877</td>\n",
       "                        <td id=\"T_8cf4f59e_7766_11ea_b397_c49ded93ade6row0_col11\" class=\"data row0 col11\" >44,876</td>\n",
       "                        <td id=\"T_8cf4f59e_7766_11ea_b397_c49ded93ade6row0_col12\" class=\"data row0 col12\" >52,410</td>\n",
       "                        <td id=\"T_8cf4f59e_7766_11ea_b397_c49ded93ade6row0_col13\" class=\"data row0 col13\" >59,648</td>\n",
       "                        <td id=\"T_8cf4f59e_7766_11ea_b397_c49ded93ade6row0_col14\" class=\"data row0 col14\" >66,663</td>\n",
       "                        <td id=\"T_8cf4f59e_7766_11ea_b397_c49ded93ade6row0_col15\" class=\"data row0 col15\" >75,833</td>\n",
       "                        <td id=\"T_8cf4f59e_7766_11ea_b397_c49ded93ade6row0_col16\" class=\"data row0 col16\" >83,948</td>\n",
       "                        <td id=\"T_8cf4f59e_7766_11ea_b397_c49ded93ade6row0_col17\" class=\"data row0 col17\" >92,506</td>\n",
       "                        <td id=\"T_8cf4f59e_7766_11ea_b397_c49ded93ade6row0_col18\" class=\"data row0 col18\" >102,987</td>\n",
       "                        <td id=\"T_8cf4f59e_7766_11ea_b397_c49ded93ade6row0_col19\" class=\"data row0 col19\" >113,833</td>\n",
       "                        <td id=\"T_8cf4f59e_7766_11ea_b397_c49ded93ade6row0_col20\" class=\"data row0 col20\" >37%</td>\n",
       "            </tr>\n",
       "            <tr>\n",
       "                        <th id=\"T_8cf4f59e_7766_11ea_b397_c49ded93ade6level0_row1\" class=\"row_heading level0 row1\" >New Jersey</th>\n",
       "                        <td id=\"T_8cf4f59e_7766_11ea_b397_c49ded93ade6row1_col0\" class=\"data row1 col0\" >176</td>\n",
       "                        <td id=\"T_8cf4f59e_7766_11ea_b397_c49ded93ade6row1_col1\" class=\"data row1 col1\" >250</td>\n",
       "                        <td id=\"T_8cf4f59e_7766_11ea_b397_c49ded93ade6row1_col2\" class=\"data row1 col2\" >397</td>\n",
       "                        <td id=\"T_8cf4f59e_7766_11ea_b397_c49ded93ade6row1_col3\" class=\"data row1 col3\" >741</td>\n",
       "                        <td id=\"T_8cf4f59e_7766_11ea_b397_c49ded93ade6row1_col4\" class=\"data row1 col4\" >890</td>\n",
       "                        <td id=\"T_8cf4f59e_7766_11ea_b397_c49ded93ade6row1_col5\" class=\"data row1 col5\" >1,327</td>\n",
       "                        <td id=\"T_8cf4f59e_7766_11ea_b397_c49ded93ade6row1_col6\" class=\"data row1 col6\" >1,914</td>\n",
       "                        <td id=\"T_8cf4f59e_7766_11ea_b397_c49ded93ade6row1_col7\" class=\"data row1 col7\" >2,844</td>\n",
       "                        <td id=\"T_8cf4f59e_7766_11ea_b397_c49ded93ade6row1_col8\" class=\"data row1 col8\" >3,675</td>\n",
       "                        <td id=\"T_8cf4f59e_7766_11ea_b397_c49ded93ade6row1_col9\" class=\"data row1 col9\" >4,402</td>\n",
       "                        <td id=\"T_8cf4f59e_7766_11ea_b397_c49ded93ade6row1_col10\" class=\"data row1 col10\" >6,876</td>\n",
       "                        <td id=\"T_8cf4f59e_7766_11ea_b397_c49ded93ade6row1_col11\" class=\"data row1 col11\" >8,825</td>\n",
       "                        <td id=\"T_8cf4f59e_7766_11ea_b397_c49ded93ade6row1_col12\" class=\"data row1 col12\" >11,124</td>\n",
       "                        <td id=\"T_8cf4f59e_7766_11ea_b397_c49ded93ade6row1_col13\" class=\"data row1 col13\" >13,386</td>\n",
       "                        <td id=\"T_8cf4f59e_7766_11ea_b397_c49ded93ade6row1_col14\" class=\"data row1 col14\" >16,636</td>\n",
       "                        <td id=\"T_8cf4f59e_7766_11ea_b397_c49ded93ade6row1_col15\" class=\"data row1 col15\" >18,696</td>\n",
       "                        <td id=\"T_8cf4f59e_7766_11ea_b397_c49ded93ade6row1_col16\" class=\"data row1 col16\" >22,255</td>\n",
       "                        <td id=\"T_8cf4f59e_7766_11ea_b397_c49ded93ade6row1_col17\" class=\"data row1 col17\" >25,590</td>\n",
       "                        <td id=\"T_8cf4f59e_7766_11ea_b397_c49ded93ade6row1_col18\" class=\"data row1 col18\" >29,895</td>\n",
       "                        <td id=\"T_8cf4f59e_7766_11ea_b397_c49ded93ade6row1_col19\" class=\"data row1 col19\" >34,124</td>\n",
       "                        <td id=\"T_8cf4f59e_7766_11ea_b397_c49ded93ade6row1_col20\" class=\"data row1 col20\" >11%</td>\n",
       "            </tr>\n",
       "            <tr>\n",
       "                        <th id=\"T_8cf4f59e_7766_11ea_b397_c49ded93ade6level0_row2\" class=\"row_heading level0 row2\" >Michigan</th>\n",
       "                        <td id=\"T_8cf4f59e_7766_11ea_b397_c49ded93ade6row2_col0\" class=\"data row2 col0\" >54</td>\n",
       "                        <td id=\"T_8cf4f59e_7766_11ea_b397_c49ded93ade6row2_col1\" class=\"data row2 col1\" >63</td>\n",
       "                        <td id=\"T_8cf4f59e_7766_11ea_b397_c49ded93ade6row2_col2\" class=\"data row2 col2\" >119</td>\n",
       "                        <td id=\"T_8cf4f59e_7766_11ea_b397_c49ded93ade6row2_col3\" class=\"data row2 col3\" >259</td>\n",
       "                        <td id=\"T_8cf4f59e_7766_11ea_b397_c49ded93ade6row2_col4\" class=\"data row2 col4\" >402</td>\n",
       "                        <td id=\"T_8cf4f59e_7766_11ea_b397_c49ded93ade6row2_col5\" class=\"data row2 col5\" >540</td>\n",
       "                        <td id=\"T_8cf4f59e_7766_11ea_b397_c49ded93ade6row2_col6\" class=\"data row2 col6\" >1,035</td>\n",
       "                        <td id=\"T_8cf4f59e_7766_11ea_b397_c49ded93ade6row2_col7\" class=\"data row2 col7\" >1,329</td>\n",
       "                        <td id=\"T_8cf4f59e_7766_11ea_b397_c49ded93ade6row2_col8\" class=\"data row2 col8\" >1,793</td>\n",
       "                        <td id=\"T_8cf4f59e_7766_11ea_b397_c49ded93ade6row2_col9\" class=\"data row2 col9\" >2,296</td>\n",
       "                        <td id=\"T_8cf4f59e_7766_11ea_b397_c49ded93ade6row2_col10\" class=\"data row2 col10\" >2,845</td>\n",
       "                        <td id=\"T_8cf4f59e_7766_11ea_b397_c49ded93ade6row2_col11\" class=\"data row2 col11\" >3,634</td>\n",
       "                        <td id=\"T_8cf4f59e_7766_11ea_b397_c49ded93ade6row2_col12\" class=\"data row2 col12\" >4,650</td>\n",
       "                        <td id=\"T_8cf4f59e_7766_11ea_b397_c49ded93ade6row2_col13\" class=\"data row2 col13\" >5,488</td>\n",
       "                        <td id=\"T_8cf4f59e_7766_11ea_b397_c49ded93ade6row2_col14\" class=\"data row2 col14\" >6,498</td>\n",
       "                        <td id=\"T_8cf4f59e_7766_11ea_b397_c49ded93ade6row2_col15\" class=\"data row2 col15\" >7,615</td>\n",
       "                        <td id=\"T_8cf4f59e_7766_11ea_b397_c49ded93ade6row2_col16\" class=\"data row2 col16\" >9,315</td>\n",
       "                        <td id=\"T_8cf4f59e_7766_11ea_b397_c49ded93ade6row2_col17\" class=\"data row2 col17\" >10,791</td>\n",
       "                        <td id=\"T_8cf4f59e_7766_11ea_b397_c49ded93ade6row2_col18\" class=\"data row2 col18\" >12,744</td>\n",
       "                        <td id=\"T_8cf4f59e_7766_11ea_b397_c49ded93ade6row2_col19\" class=\"data row2 col19\" >14,225</td>\n",
       "                        <td id=\"T_8cf4f59e_7766_11ea_b397_c49ded93ade6row2_col20\" class=\"data row2 col20\" >5%</td>\n",
       "            </tr>\n",
       "            <tr>\n",
       "                        <th id=\"T_8cf4f59e_7766_11ea_b397_c49ded93ade6level0_row3\" class=\"row_heading level0 row3\" >California</th>\n",
       "                        <td id=\"T_8cf4f59e_7766_11ea_b397_c49ded93ade6row3_col0\" class=\"data row3 col0\" >557</td>\n",
       "                        <td id=\"T_8cf4f59e_7766_11ea_b397_c49ded93ade6row3_col1\" class=\"data row3 col1\" >700</td>\n",
       "                        <td id=\"T_8cf4f59e_7766_11ea_b397_c49ded93ade6row3_col2\" class=\"data row3 col2\" >828</td>\n",
       "                        <td id=\"T_8cf4f59e_7766_11ea_b397_c49ded93ade6row3_col3\" class=\"data row3 col3\" >1,005</td>\n",
       "                        <td id=\"T_8cf4f59e_7766_11ea_b397_c49ded93ade6row3_col4\" class=\"data row3 col4\" >1,243</td>\n",
       "                        <td id=\"T_8cf4f59e_7766_11ea_b397_c49ded93ade6row3_col5\" class=\"data row3 col5\" >1,405</td>\n",
       "                        <td id=\"T_8cf4f59e_7766_11ea_b397_c49ded93ade6row3_col6\" class=\"data row3 col6\" >1,646</td>\n",
       "                        <td id=\"T_8cf4f59e_7766_11ea_b397_c49ded93ade6row3_col7\" class=\"data row3 col7\" >2,108</td>\n",
       "                        <td id=\"T_8cf4f59e_7766_11ea_b397_c49ded93ade6row3_col8\" class=\"data row3 col8\" >2,538</td>\n",
       "                        <td id=\"T_8cf4f59e_7766_11ea_b397_c49ded93ade6row3_col9\" class=\"data row3 col9\" >2,998</td>\n",
       "                        <td id=\"T_8cf4f59e_7766_11ea_b397_c49ded93ade6row3_col10\" class=\"data row3 col10\" >3,899</td>\n",
       "                        <td id=\"T_8cf4f59e_7766_11ea_b397_c49ded93ade6row3_col11\" class=\"data row3 col11\" >4,657</td>\n",
       "                        <td id=\"T_8cf4f59e_7766_11ea_b397_c49ded93ade6row3_col12\" class=\"data row3 col12\" >5,095</td>\n",
       "                        <td id=\"T_8cf4f59e_7766_11ea_b397_c49ded93ade6row3_col13\" class=\"data row3 col13\" >5,852</td>\n",
       "                        <td id=\"T_8cf4f59e_7766_11ea_b397_c49ded93ade6row3_col14\" class=\"data row3 col14\" >7,138</td>\n",
       "                        <td id=\"T_8cf4f59e_7766_11ea_b397_c49ded93ade6row3_col15\" class=\"data row3 col15\" >8,210</td>\n",
       "                        <td id=\"T_8cf4f59e_7766_11ea_b397_c49ded93ade6row3_col16\" class=\"data row3 col16\" >9,399</td>\n",
       "                        <td id=\"T_8cf4f59e_7766_11ea_b397_c49ded93ade6row3_col17\" class=\"data row3 col17\" >10,773</td>\n",
       "                        <td id=\"T_8cf4f59e_7766_11ea_b397_c49ded93ade6row3_col18\" class=\"data row3 col18\" >12,004</td>\n",
       "                        <td id=\"T_8cf4f59e_7766_11ea_b397_c49ded93ade6row3_col19\" class=\"data row3 col19\" >12,837</td>\n",
       "                        <td id=\"T_8cf4f59e_7766_11ea_b397_c49ded93ade6row3_col20\" class=\"data row3 col20\" >4%</td>\n",
       "            </tr>\n",
       "            <tr>\n",
       "                        <th id=\"T_8cf4f59e_7766_11ea_b397_c49ded93ade6level0_row4\" class=\"row_heading level0 row4\" >Louisiana</th>\n",
       "                        <td id=\"T_8cf4f59e_7766_11ea_b397_c49ded93ade6row4_col0\" class=\"data row4 col0\" >115</td>\n",
       "                        <td id=\"T_8cf4f59e_7766_11ea_b397_c49ded93ade6row4_col1\" class=\"data row4 col1\" >196</td>\n",
       "                        <td id=\"T_8cf4f59e_7766_11ea_b397_c49ded93ade6row4_col2\" class=\"data row4 col2\" >257</td>\n",
       "                        <td id=\"T_8cf4f59e_7766_11ea_b397_c49ded93ade6row4_col3\" class=\"data row4 col3\" >392</td>\n",
       "                        <td id=\"T_8cf4f59e_7766_11ea_b397_c49ded93ade6row4_col4\" class=\"data row4 col4\" >537</td>\n",
       "                        <td id=\"T_8cf4f59e_7766_11ea_b397_c49ded93ade6row4_col5\" class=\"data row4 col5\" >763</td>\n",
       "                        <td id=\"T_8cf4f59e_7766_11ea_b397_c49ded93ade6row4_col6\" class=\"data row4 col6\" >837</td>\n",
       "                        <td id=\"T_8cf4f59e_7766_11ea_b397_c49ded93ade6row4_col7\" class=\"data row4 col7\" >1,172</td>\n",
       "                        <td id=\"T_8cf4f59e_7766_11ea_b397_c49ded93ade6row4_col8\" class=\"data row4 col8\" >1,388</td>\n",
       "                        <td id=\"T_8cf4f59e_7766_11ea_b397_c49ded93ade6row4_col9\" class=\"data row4 col9\" >1,795</td>\n",
       "                        <td id=\"T_8cf4f59e_7766_11ea_b397_c49ded93ade6row4_col10\" class=\"data row4 col10\" >2,304</td>\n",
       "                        <td id=\"T_8cf4f59e_7766_11ea_b397_c49ded93ade6row4_col11\" class=\"data row4 col11\" >2,744</td>\n",
       "                        <td id=\"T_8cf4f59e_7766_11ea_b397_c49ded93ade6row4_col12\" class=\"data row4 col12\" >3,315</td>\n",
       "                        <td id=\"T_8cf4f59e_7766_11ea_b397_c49ded93ade6row4_col13\" class=\"data row4 col13\" >3,540</td>\n",
       "                        <td id=\"T_8cf4f59e_7766_11ea_b397_c49ded93ade6row4_col14\" class=\"data row4 col14\" >4,025</td>\n",
       "                        <td id=\"T_8cf4f59e_7766_11ea_b397_c49ded93ade6row4_col15\" class=\"data row4 col15\" >5,237</td>\n",
       "                        <td id=\"T_8cf4f59e_7766_11ea_b397_c49ded93ade6row4_col16\" class=\"data row4 col16\" >6,424</td>\n",
       "                        <td id=\"T_8cf4f59e_7766_11ea_b397_c49ded93ade6row4_col17\" class=\"data row4 col17\" >9,159</td>\n",
       "                        <td id=\"T_8cf4f59e_7766_11ea_b397_c49ded93ade6row4_col18\" class=\"data row4 col18\" >10,297</td>\n",
       "                        <td id=\"T_8cf4f59e_7766_11ea_b397_c49ded93ade6row4_col19\" class=\"data row4 col19\" >12,496</td>\n",
       "                        <td id=\"T_8cf4f59e_7766_11ea_b397_c49ded93ade6row4_col20\" class=\"data row4 col20\" >4%</td>\n",
       "            </tr>\n",
       "            <tr>\n",
       "                        <th id=\"T_8cf4f59e_7766_11ea_b397_c49ded93ade6level0_row5\" class=\"row_heading level0 row5\" >Massachusetts</th>\n",
       "                        <td id=\"T_8cf4f59e_7766_11ea_b397_c49ded93ade6row5_col0\" class=\"data row5 col0\" >187</td>\n",
       "                        <td id=\"T_8cf4f59e_7766_11ea_b397_c49ded93ade6row5_col1\" class=\"data row5 col1\" >217</td>\n",
       "                        <td id=\"T_8cf4f59e_7766_11ea_b397_c49ded93ade6row5_col2\" class=\"data row5 col2\" >252</td>\n",
       "                        <td id=\"T_8cf4f59e_7766_11ea_b397_c49ded93ade6row5_col3\" class=\"data row5 col3\" >328</td>\n",
       "                        <td id=\"T_8cf4f59e_7766_11ea_b397_c49ded93ade6row5_col4\" class=\"data row5 col4\" >413</td>\n",
       "                        <td id=\"T_8cf4f59e_7766_11ea_b397_c49ded93ade6row5_col5\" class=\"data row5 col5\" >523</td>\n",
       "                        <td id=\"T_8cf4f59e_7766_11ea_b397_c49ded93ade6row5_col6\" class=\"data row5 col6\" >640</td>\n",
       "                        <td id=\"T_8cf4f59e_7766_11ea_b397_c49ded93ade6row5_col7\" class=\"data row5 col7\" >777</td>\n",
       "                        <td id=\"T_8cf4f59e_7766_11ea_b397_c49ded93ade6row5_col8\" class=\"data row5 col8\" >1,159</td>\n",
       "                        <td id=\"T_8cf4f59e_7766_11ea_b397_c49ded93ade6row5_col9\" class=\"data row5 col9\" >1,838</td>\n",
       "                        <td id=\"T_8cf4f59e_7766_11ea_b397_c49ded93ade6row5_col10\" class=\"data row5 col10\" >2,417</td>\n",
       "                        <td id=\"T_8cf4f59e_7766_11ea_b397_c49ded93ade6row5_col11\" class=\"data row5 col11\" >3,240</td>\n",
       "                        <td id=\"T_8cf4f59e_7766_11ea_b397_c49ded93ade6row5_col12\" class=\"data row5 col12\" >4,257</td>\n",
       "                        <td id=\"T_8cf4f59e_7766_11ea_b397_c49ded93ade6row5_col13\" class=\"data row5 col13\" >4,955</td>\n",
       "                        <td id=\"T_8cf4f59e_7766_11ea_b397_c49ded93ade6row5_col14\" class=\"data row5 col14\" >5,752</td>\n",
       "                        <td id=\"T_8cf4f59e_7766_11ea_b397_c49ded93ade6row5_col15\" class=\"data row5 col15\" >6,620</td>\n",
       "                        <td id=\"T_8cf4f59e_7766_11ea_b397_c49ded93ade6row5_col16\" class=\"data row5 col16\" >7,738</td>\n",
       "                        <td id=\"T_8cf4f59e_7766_11ea_b397_c49ded93ade6row5_col17\" class=\"data row5 col17\" >8,966</td>\n",
       "                        <td id=\"T_8cf4f59e_7766_11ea_b397_c49ded93ade6row5_col18\" class=\"data row5 col18\" >10,402</td>\n",
       "                        <td id=\"T_8cf4f59e_7766_11ea_b397_c49ded93ade6row5_col19\" class=\"data row5 col19\" >11,736</td>\n",
       "                        <td id=\"T_8cf4f59e_7766_11ea_b397_c49ded93ade6row5_col20\" class=\"data row5 col20\" >4%</td>\n",
       "            </tr>\n",
       "            <tr>\n",
       "                        <th id=\"T_8cf4f59e_7766_11ea_b397_c49ded93ade6level0_row6\" class=\"row_heading level0 row6\" >Florida</th>\n",
       "                        <td id=\"T_8cf4f59e_7766_11ea_b397_c49ded93ade6row6_col0\" class=\"data row6 col0\" >101</td>\n",
       "                        <td id=\"T_8cf4f59e_7766_11ea_b397_c49ded93ade6row6_col1\" class=\"data row6 col1\" >190</td>\n",
       "                        <td id=\"T_8cf4f59e_7766_11ea_b397_c49ded93ade6row6_col2\" class=\"data row6 col2\" >306</td>\n",
       "                        <td id=\"T_8cf4f59e_7766_11ea_b397_c49ded93ade6row6_col3\" class=\"data row6 col3\" >331</td>\n",
       "                        <td id=\"T_8cf4f59e_7766_11ea_b397_c49ded93ade6row6_col4\" class=\"data row6 col4\" >440</td>\n",
       "                        <td id=\"T_8cf4f59e_7766_11ea_b397_c49ded93ade6row6_col5\" class=\"data row6 col5\" >763</td>\n",
       "                        <td id=\"T_8cf4f59e_7766_11ea_b397_c49ded93ade6row6_col6\" class=\"data row6 col6\" >1,004</td>\n",
       "                        <td id=\"T_8cf4f59e_7766_11ea_b397_c49ded93ade6row6_col7\" class=\"data row6 col7\" >1,227</td>\n",
       "                        <td id=\"T_8cf4f59e_7766_11ea_b397_c49ded93ade6row6_col8\" class=\"data row6 col8\" >1,412</td>\n",
       "                        <td id=\"T_8cf4f59e_7766_11ea_b397_c49ded93ade6row6_col9\" class=\"data row6 col9\" >1,682</td>\n",
       "                        <td id=\"T_8cf4f59e_7766_11ea_b397_c49ded93ade6row6_col10\" class=\"data row6 col10\" >2,357</td>\n",
       "                        <td id=\"T_8cf4f59e_7766_11ea_b397_c49ded93ade6row6_col11\" class=\"data row6 col11\" >2,900</td>\n",
       "                        <td id=\"T_8cf4f59e_7766_11ea_b397_c49ded93ade6row6_col12\" class=\"data row6 col12\" >3,763</td>\n",
       "                        <td id=\"T_8cf4f59e_7766_11ea_b397_c49ded93ade6row6_col13\" class=\"data row6 col13\" >4,246</td>\n",
       "                        <td id=\"T_8cf4f59e_7766_11ea_b397_c49ded93ade6row6_col14\" class=\"data row6 col14\" >5,473</td>\n",
       "                        <td id=\"T_8cf4f59e_7766_11ea_b397_c49ded93ade6row6_col15\" class=\"data row6 col15\" >6,741</td>\n",
       "                        <td id=\"T_8cf4f59e_7766_11ea_b397_c49ded93ade6row6_col16\" class=\"data row6 col16\" >6,956</td>\n",
       "                        <td id=\"T_8cf4f59e_7766_11ea_b397_c49ded93ade6row6_col17\" class=\"data row6 col17\" >9,008</td>\n",
       "                        <td id=\"T_8cf4f59e_7766_11ea_b397_c49ded93ade6row6_col18\" class=\"data row6 col18\" >10,268</td>\n",
       "                        <td id=\"T_8cf4f59e_7766_11ea_b397_c49ded93ade6row6_col19\" class=\"data row6 col19\" >11,545</td>\n",
       "                        <td id=\"T_8cf4f59e_7766_11ea_b397_c49ded93ade6row6_col20\" class=\"data row6 col20\" >4%</td>\n",
       "            </tr>\n",
       "            <tr>\n",
       "                        <th id=\"T_8cf4f59e_7766_11ea_b397_c49ded93ade6level0_row7\" class=\"row_heading level0 row7\" >Pennsylvania</th>\n",
       "                        <td id=\"T_8cf4f59e_7766_11ea_b397_c49ded93ade6row7_col0\" class=\"data row7 col0\" >79</td>\n",
       "                        <td id=\"T_8cf4f59e_7766_11ea_b397_c49ded93ade6row7_col1\" class=\"data row7 col1\" >112</td>\n",
       "                        <td id=\"T_8cf4f59e_7766_11ea_b397_c49ded93ade6row7_col2\" class=\"data row7 col2\" >155</td>\n",
       "                        <td id=\"T_8cf4f59e_7766_11ea_b397_c49ded93ade6row7_col3\" class=\"data row7 col3\" >206</td>\n",
       "                        <td id=\"T_8cf4f59e_7766_11ea_b397_c49ded93ade6row7_col4\" class=\"data row7 col4\" >311</td>\n",
       "                        <td id=\"T_8cf4f59e_7766_11ea_b397_c49ded93ade6row7_col5\" class=\"data row7 col5\" >399</td>\n",
       "                        <td id=\"T_8cf4f59e_7766_11ea_b397_c49ded93ade6row7_col6\" class=\"data row7 col6\" >509</td>\n",
       "                        <td id=\"T_8cf4f59e_7766_11ea_b397_c49ded93ade6row7_col7\" class=\"data row7 col7\" >698</td>\n",
       "                        <td id=\"T_8cf4f59e_7766_11ea_b397_c49ded93ade6row7_col8\" class=\"data row7 col8\" >946</td>\n",
       "                        <td id=\"T_8cf4f59e_7766_11ea_b397_c49ded93ade6row7_col9\" class=\"data row7 col9\" >1,260</td>\n",
       "                        <td id=\"T_8cf4f59e_7766_11ea_b397_c49ded93ade6row7_col10\" class=\"data row7 col10\" >1,795</td>\n",
       "                        <td id=\"T_8cf4f59e_7766_11ea_b397_c49ded93ade6row7_col11\" class=\"data row7 col11\" >2,345</td>\n",
       "                        <td id=\"T_8cf4f59e_7766_11ea_b397_c49ded93ade6row7_col12\" class=\"data row7 col12\" >2,845</td>\n",
       "                        <td id=\"T_8cf4f59e_7766_11ea_b397_c49ded93ade6row7_col13\" class=\"data row7 col13\" >3,432</td>\n",
       "                        <td id=\"T_8cf4f59e_7766_11ea_b397_c49ded93ade6row7_col14\" class=\"data row7 col14\" >4,155</td>\n",
       "                        <td id=\"T_8cf4f59e_7766_11ea_b397_c49ded93ade6row7_col15\" class=\"data row7 col15\" >4,963</td>\n",
       "                        <td id=\"T_8cf4f59e_7766_11ea_b397_c49ded93ade6row7_col16\" class=\"data row7 col16\" >6,009</td>\n",
       "                        <td id=\"T_8cf4f59e_7766_11ea_b397_c49ded93ade6row7_col17\" class=\"data row7 col17\" >7,268</td>\n",
       "                        <td id=\"T_8cf4f59e_7766_11ea_b397_c49ded93ade6row7_col18\" class=\"data row7 col18\" >8,570</td>\n",
       "                        <td id=\"T_8cf4f59e_7766_11ea_b397_c49ded93ade6row7_col19\" class=\"data row7 col19\" >10,444</td>\n",
       "                        <td id=\"T_8cf4f59e_7766_11ea_b397_c49ded93ade6row7_col20\" class=\"data row7 col20\" >3%</td>\n",
       "            </tr>\n",
       "            <tr>\n",
       "                        <th id=\"T_8cf4f59e_7766_11ea_b397_c49ded93ade6level0_row8\" class=\"row_heading level0 row8\" >Illinois</th>\n",
       "                        <td id=\"T_8cf4f59e_7766_11ea_b397_c49ded93ade6row8_col0\" class=\"data row8 col0\" >83</td>\n",
       "                        <td id=\"T_8cf4f59e_7766_11ea_b397_c49ded93ade6row8_col1\" class=\"data row8 col1\" >161</td>\n",
       "                        <td id=\"T_8cf4f59e_7766_11ea_b397_c49ded93ade6row8_col2\" class=\"data row8 col2\" >272</td>\n",
       "                        <td id=\"T_8cf4f59e_7766_11ea_b397_c49ded93ade6row8_col3\" class=\"data row8 col3\" >422</td>\n",
       "                        <td id=\"T_8cf4f59e_7766_11ea_b397_c49ded93ade6row8_col4\" class=\"data row8 col4\" >585</td>\n",
       "                        <td id=\"T_8cf4f59e_7766_11ea_b397_c49ded93ade6row8_col5\" class=\"data row8 col5\" >753</td>\n",
       "                        <td id=\"T_8cf4f59e_7766_11ea_b397_c49ded93ade6row8_col6\" class=\"data row8 col6\" >1,049</td>\n",
       "                        <td id=\"T_8cf4f59e_7766_11ea_b397_c49ded93ade6row8_col7\" class=\"data row8 col7\" >1,285</td>\n",
       "                        <td id=\"T_8cf4f59e_7766_11ea_b397_c49ded93ade6row8_col8\" class=\"data row8 col8\" >1,537</td>\n",
       "                        <td id=\"T_8cf4f59e_7766_11ea_b397_c49ded93ade6row8_col9\" class=\"data row8 col9\" >1,865</td>\n",
       "                        <td id=\"T_8cf4f59e_7766_11ea_b397_c49ded93ade6row8_col10\" class=\"data row8 col10\" >2,538</td>\n",
       "                        <td id=\"T_8cf4f59e_7766_11ea_b397_c49ded93ade6row8_col11\" class=\"data row8 col11\" >3,024</td>\n",
       "                        <td id=\"T_8cf4f59e_7766_11ea_b397_c49ded93ade6row8_col12\" class=\"data row8 col12\" >3,491</td>\n",
       "                        <td id=\"T_8cf4f59e_7766_11ea_b397_c49ded93ade6row8_col13\" class=\"data row8 col13\" >4,596</td>\n",
       "                        <td id=\"T_8cf4f59e_7766_11ea_b397_c49ded93ade6row8_col14\" class=\"data row8 col14\" >5,056</td>\n",
       "                        <td id=\"T_8cf4f59e_7766_11ea_b397_c49ded93ade6row8_col15\" class=\"data row8 col15\" >5,994</td>\n",
       "                        <td id=\"T_8cf4f59e_7766_11ea_b397_c49ded93ade6row8_col16\" class=\"data row8 col16\" >6,980</td>\n",
       "                        <td id=\"T_8cf4f59e_7766_11ea_b397_c49ded93ade6row8_col17\" class=\"data row8 col17\" >7,695</td>\n",
       "                        <td id=\"T_8cf4f59e_7766_11ea_b397_c49ded93ade6row8_col18\" class=\"data row8 col18\" >8,904</td>\n",
       "                        <td id=\"T_8cf4f59e_7766_11ea_b397_c49ded93ade6row8_col19\" class=\"data row8 col19\" >10,357</td>\n",
       "                        <td id=\"T_8cf4f59e_7766_11ea_b397_c49ded93ade6row8_col20\" class=\"data row8 col20\" >3%</td>\n",
       "            </tr>\n",
       "            <tr>\n",
       "                        <th id=\"T_8cf4f59e_7766_11ea_b397_c49ded93ade6level0_row9\" class=\"row_heading level0 row9\" >Washington</th>\n",
       "                        <td id=\"T_8cf4f59e_7766_11ea_b397_c49ded93ade6row9_col0\" class=\"data row9 col0\" >779</td>\n",
       "                        <td id=\"T_8cf4f59e_7766_11ea_b397_c49ded93ade6row9_col1\" class=\"data row9 col1\" >955</td>\n",
       "                        <td id=\"T_8cf4f59e_7766_11ea_b397_c49ded93ade6row9_col2\" class=\"data row9 col2\" >1,022</td>\n",
       "                        <td id=\"T_8cf4f59e_7766_11ea_b397_c49ded93ade6row9_col3\" class=\"data row9 col3\" >1,374</td>\n",
       "                        <td id=\"T_8cf4f59e_7766_11ea_b397_c49ded93ade6row9_col4\" class=\"data row9 col4\" >1,524</td>\n",
       "                        <td id=\"T_8cf4f59e_7766_11ea_b397_c49ded93ade6row9_col5\" class=\"data row9 col5\" >1,793</td>\n",
       "                        <td id=\"T_8cf4f59e_7766_11ea_b397_c49ded93ade6row9_col6\" class=\"data row9 col6\" >1,997</td>\n",
       "                        <td id=\"T_8cf4f59e_7766_11ea_b397_c49ded93ade6row9_col7\" class=\"data row9 col7\" >2,221</td>\n",
       "                        <td id=\"T_8cf4f59e_7766_11ea_b397_c49ded93ade6row9_col8\" class=\"data row9 col8\" >2,328</td>\n",
       "                        <td id=\"T_8cf4f59e_7766_11ea_b397_c49ded93ade6row9_col9\" class=\"data row9 col9\" >2,591</td>\n",
       "                        <td id=\"T_8cf4f59e_7766_11ea_b397_c49ded93ade6row9_col10\" class=\"data row9 col10\" >3,207</td>\n",
       "                        <td id=\"T_8cf4f59e_7766_11ea_b397_c49ded93ade6row9_col11\" class=\"data row9 col11\" >3,477</td>\n",
       "                        <td id=\"T_8cf4f59e_7766_11ea_b397_c49ded93ade6row9_col12\" class=\"data row9 col12\" >4,030</td>\n",
       "                        <td id=\"T_8cf4f59e_7766_11ea_b397_c49ded93ade6row9_col13\" class=\"data row9 col13\" >4,465</td>\n",
       "                        <td id=\"T_8cf4f59e_7766_11ea_b397_c49ded93ade6row9_col14\" class=\"data row9 col14\" >4,923</td>\n",
       "                        <td id=\"T_8cf4f59e_7766_11ea_b397_c49ded93ade6row9_col15\" class=\"data row9 col15\" >5,432</td>\n",
       "                        <td id=\"T_8cf4f59e_7766_11ea_b397_c49ded93ade6row9_col16\" class=\"data row9 col16\" >5,608</td>\n",
       "                        <td id=\"T_8cf4f59e_7766_11ea_b397_c49ded93ade6row9_col17\" class=\"data row9 col17\" >6,389</td>\n",
       "                        <td id=\"T_8cf4f59e_7766_11ea_b397_c49ded93ade6row9_col18\" class=\"data row9 col18\" >6,846</td>\n",
       "                        <td id=\"T_8cf4f59e_7766_11ea_b397_c49ded93ade6row9_col19\" class=\"data row9 col19\" >7,247</td>\n",
       "                        <td id=\"T_8cf4f59e_7766_11ea_b397_c49ded93ade6row9_col20\" class=\"data row9 col20\" >2%</td>\n",
       "            </tr>\n",
       "    </tbody></table>"
      ],
      "text/plain": [
       "<pandas.io.formats.style.Styler at 0x11c18210>"
      ]
     },
     "execution_count": 14,
     "metadata": {},
     "output_type": "execute_result"
    }
   ],
   "source": [
    "dfUSConfirmedTop = dfConfirmedUSStates.sort_values(dfConfirmedUSStates.columns[-1], ascending=False).head(10)\n",
    "\n",
    "data = [{\n",
    "    'x': row[1].index[-DEFAULT_DAYS:],\n",
    "    'y': row[1].values[-DEFAULT_DAYS:],\n",
    "    'name': row[0]\n",
    "}  for row in dfUSConfirmedTop.iterrows()]\n",
    "\n",
    "layout = dict(title = 'US States - Confirmed Cases', updatemenus=LogLinearScale)\n",
    "py.iplot(dict(data=data, layout=layout))\n",
    "dfUSConfirmedTop = dfUSConfirmedTop[dfUSConfirmedTop.columns[-DEFAULT_DAYS:]]\n",
    "dfUSConfirmedTop['percent_of_total'] = dfConfirmedUSStates[dfConfirmedUSStates.columns[-1]]/sum(dfConfirmedUSStates[dfConfirmedUSStates.columns[-1]])\n",
    "\n",
    "colFormats = dict.fromkeys(list(a for a in dfUSConfirmedTop.columns[1:]), IntegerFormatter)\n",
    "colFormats['percent_of_total'] = PercentFormatter\n",
    "dfUSConfirmedTop.style.format(colFormats)"
   ]
  },
  {
   "cell_type": "code",
   "execution_count": 15,
   "metadata": {
    "ExecuteTime": {
     "end_time": "2020-04-05T17:54:53.295121Z",
     "start_time": "2020-04-05T17:54:52.382735Z"
    },
    "extensions": {
     "jupyter_dashboards": {
      "version": 1,
      "views": {
       "grid_default": {
        "col": 0,
        "height": 30,
        "hidden": false,
        "row": 56,
        "width": null
       },
       "report_default": {
        "hidden": false
       }
      }
     }
    }
   },
   "outputs": [
    {
     "data": {
      "application/vnd.plotly.v1+json": {
       "config": {
        "linkText": "Export to plot.ly",
        "plotlyServerURL": "https://plot.ly",
        "showLink": false
       },
       "data": [
        {
         "name": "New York",
         "type": "scatter",
         "x": [
          "3/5/20",
          "3/6/20",
          "3/7/20",
          "3/8/20",
          "3/9/20",
          "3/10/20",
          "3/11/20",
          "3/12/20",
          "3/13/20",
          "3/14/20",
          "3/15/20",
          "3/16/20",
          "3/17/20",
          "3/18/20",
          "3/19/20",
          "3/20/20",
          "3/21/20",
          "3/22/20",
          "3/23/20",
          "3/24/20",
          "3/25/20",
          "3/26/20",
          "3/27/20",
          "3/28/20",
          "3/29/20",
          "3/30/20",
          "3/31/20",
          "4/1/20",
          "4/2/20",
          "4/3/20",
          "4/4/20"
         ],
         "y": [
          0,
          0,
          0,
          0,
          0,
          0,
          0,
          0,
          0,
          2,
          2,
          10,
          13,
          17,
          38,
          46,
          60,
          117,
          158,
          210,
          285,
          385,
          527,
          728,
          965,
          1218,
          1550,
          1941,
          2373,
          2935,
          3565
         ]
        },
        {
         "name": "New Jersey",
         "type": "scatter",
         "x": [
          "3/5/20",
          "3/6/20",
          "3/7/20",
          "3/8/20",
          "3/9/20",
          "3/10/20",
          "3/11/20",
          "3/12/20",
          "3/13/20",
          "3/14/20",
          "3/15/20",
          "3/16/20",
          "3/17/20",
          "3/18/20",
          "3/19/20",
          "3/20/20",
          "3/21/20",
          "3/22/20",
          "3/23/20",
          "3/24/20",
          "3/25/20",
          "3/26/20",
          "3/27/20",
          "3/28/20",
          "3/29/20",
          "3/30/20",
          "3/31/20",
          "4/1/20",
          "4/2/20",
          "4/3/20",
          "4/4/20"
         ],
         "y": [
          0,
          0,
          0,
          0,
          0,
          1,
          1,
          1,
          1,
          1,
          2,
          2,
          3,
          5,
          9,
          11,
          16,
          20,
          27,
          44,
          62,
          81,
          108,
          140,
          161,
          198,
          267,
          355,
          537,
          646,
          846
         ]
        },
        {
         "name": "Michigan",
         "type": "scatter",
         "x": [
          "3/5/20",
          "3/6/20",
          "3/7/20",
          "3/8/20",
          "3/9/20",
          "3/10/20",
          "3/11/20",
          "3/12/20",
          "3/13/20",
          "3/14/20",
          "3/15/20",
          "3/16/20",
          "3/17/20",
          "3/18/20",
          "3/19/20",
          "3/20/20",
          "3/21/20",
          "3/22/20",
          "3/23/20",
          "3/24/20",
          "3/25/20",
          "3/26/20",
          "3/27/20",
          "3/28/20",
          "3/29/20",
          "3/30/20",
          "3/31/20",
          "4/1/20",
          "4/2/20",
          "4/3/20",
          "4/4/20"
         ],
         "y": [
          0,
          0,
          0,
          0,
          0,
          0,
          0,
          0,
          0,
          0,
          0,
          0,
          0,
          1,
          1,
          1,
          3,
          9,
          15,
          24,
          43,
          61,
          92,
          111,
          132,
          184,
          259,
          335,
          417,
          479,
          540
         ]
        },
        {
         "name": "Louisiana",
         "type": "scatter",
         "x": [
          "3/5/20",
          "3/6/20",
          "3/7/20",
          "3/8/20",
          "3/9/20",
          "3/10/20",
          "3/11/20",
          "3/12/20",
          "3/13/20",
          "3/14/20",
          "3/15/20",
          "3/16/20",
          "3/17/20",
          "3/18/20",
          "3/19/20",
          "3/20/20",
          "3/21/20",
          "3/22/20",
          "3/23/20",
          "3/24/20",
          "3/25/20",
          "3/26/20",
          "3/27/20",
          "3/28/20",
          "3/29/20",
          "3/30/20",
          "3/31/20",
          "4/1/20",
          "4/2/20",
          "4/3/20",
          "4/4/20"
         ],
         "y": [
          0,
          0,
          0,
          0,
          0,
          0,
          0,
          0,
          0,
          1,
          2,
          3,
          4,
          6,
          10,
          14,
          20,
          20,
          35,
          46,
          65,
          83,
          119,
          137,
          151,
          185,
          239,
          273,
          310,
          370,
          409
         ]
        },
        {
         "name": "Washington",
         "type": "scatter",
         "x": [
          "3/5/20",
          "3/6/20",
          "3/7/20",
          "3/8/20",
          "3/9/20",
          "3/10/20",
          "3/11/20",
          "3/12/20",
          "3/13/20",
          "3/14/20",
          "3/15/20",
          "3/16/20",
          "3/17/20",
          "3/18/20",
          "3/19/20",
          "3/20/20",
          "3/21/20",
          "3/22/20",
          "3/23/20",
          "3/24/20",
          "3/25/20",
          "3/26/20",
          "3/27/20",
          "3/28/20",
          "3/29/20",
          "3/30/20",
          "3/31/20",
          "4/1/20",
          "4/2/20",
          "4/3/20",
          "4/4/20"
         ],
         "y": [
          11,
          13,
          16,
          18,
          19,
          23,
          24,
          31,
          37,
          39,
          40,
          48,
          55,
          67,
          73,
          83,
          94,
          97,
          109,
          116,
          133,
          150,
          157,
          188,
          198,
          205,
          225,
          234,
          271,
          291,
          315
         ]
        },
        {
         "name": "California",
         "type": "scatter",
         "x": [
          "3/5/20",
          "3/6/20",
          "3/7/20",
          "3/8/20",
          "3/9/20",
          "3/10/20",
          "3/11/20",
          "3/12/20",
          "3/13/20",
          "3/14/20",
          "3/15/20",
          "3/16/20",
          "3/17/20",
          "3/18/20",
          "3/19/20",
          "3/20/20",
          "3/21/20",
          "3/22/20",
          "3/23/20",
          "3/24/20",
          "3/25/20",
          "3/26/20",
          "3/27/20",
          "3/28/20",
          "3/29/20",
          "3/30/20",
          "3/31/20",
          "4/1/20",
          "4/2/20",
          "4/3/20",
          "4/4/20"
         ],
         "y": [
          1,
          1,
          1,
          1,
          1,
          2,
          4,
          4,
          4,
          3,
          5,
          7,
          12,
          16,
          18,
          24,
          25,
          30,
          39,
          50,
          65,
          81,
          94,
          110,
          124,
          146,
          173,
          199,
          238,
          265,
          289
         ]
        },
        {
         "name": "Illinois",
         "type": "scatter",
         "x": [
          "3/5/20",
          "3/6/20",
          "3/7/20",
          "3/8/20",
          "3/9/20",
          "3/10/20",
          "3/11/20",
          "3/12/20",
          "3/13/20",
          "3/14/20",
          "3/15/20",
          "3/16/20",
          "3/17/20",
          "3/18/20",
          "3/19/20",
          "3/20/20",
          "3/21/20",
          "3/22/20",
          "3/23/20",
          "3/24/20",
          "3/25/20",
          "3/26/20",
          "3/27/20",
          "3/28/20",
          "3/29/20",
          "3/30/20",
          "3/31/20",
          "4/1/20",
          "4/2/20",
          "4/3/20",
          "4/4/20"
         ],
         "y": [
          0,
          0,
          0,
          0,
          0,
          0,
          0,
          0,
          0,
          0,
          0,
          0,
          1,
          1,
          4,
          5,
          6,
          9,
          12,
          16,
          19,
          26,
          34,
          47,
          66,
          73,
          99,
          141,
          163,
          210,
          244
         ]
        },
        {
         "name": "Massachusetts",
         "type": "scatter",
         "x": [
          "3/5/20",
          "3/6/20",
          "3/7/20",
          "3/8/20",
          "3/9/20",
          "3/10/20",
          "3/11/20",
          "3/12/20",
          "3/13/20",
          "3/14/20",
          "3/15/20",
          "3/16/20",
          "3/17/20",
          "3/18/20",
          "3/19/20",
          "3/20/20",
          "3/21/20",
          "3/22/20",
          "3/23/20",
          "3/24/20",
          "3/25/20",
          "3/26/20",
          "3/27/20",
          "3/28/20",
          "3/29/20",
          "3/30/20",
          "3/31/20",
          "4/1/20",
          "4/2/20",
          "4/3/20",
          "4/4/20"
         ],
         "y": [
          0,
          0,
          0,
          0,
          0,
          0,
          0,
          0,
          0,
          0,
          0,
          0,
          0,
          0,
          0,
          1,
          1,
          5,
          9,
          11,
          15,
          25,
          35,
          44,
          48,
          56,
          89,
          122,
          154,
          192,
          216
         ]
        },
        {
         "name": "Georgia",
         "type": "scatter",
         "x": [
          "3/5/20",
          "3/6/20",
          "3/7/20",
          "3/8/20",
          "3/9/20",
          "3/10/20",
          "3/11/20",
          "3/12/20",
          "3/13/20",
          "3/14/20",
          "3/15/20",
          "3/16/20",
          "3/17/20",
          "3/18/20",
          "3/19/20",
          "3/20/20",
          "3/21/20",
          "3/22/20",
          "3/23/20",
          "3/24/20",
          "3/25/20",
          "3/26/20",
          "3/27/20",
          "3/28/20",
          "3/29/20",
          "3/30/20",
          "3/31/20",
          "4/1/20",
          "4/2/20",
          "4/3/20",
          "4/4/20"
         ],
         "y": [
          0,
          0,
          0,
          0,
          0,
          0,
          0,
          1,
          1,
          1,
          1,
          1,
          1,
          3,
          10,
          14,
          20,
          25,
          25,
          32,
          40,
          48,
          64,
          69,
          80,
          87,
          111,
          139,
          163,
          184,
          201
         ]
        },
        {
         "name": "Florida",
         "type": "scatter",
         "x": [
          "3/5/20",
          "3/6/20",
          "3/7/20",
          "3/8/20",
          "3/9/20",
          "3/10/20",
          "3/11/20",
          "3/12/20",
          "3/13/20",
          "3/14/20",
          "3/15/20",
          "3/16/20",
          "3/17/20",
          "3/18/20",
          "3/19/20",
          "3/20/20",
          "3/21/20",
          "3/22/20",
          "3/23/20",
          "3/24/20",
          "3/25/20",
          "3/26/20",
          "3/27/20",
          "3/28/20",
          "3/29/20",
          "3/30/20",
          "3/31/20",
          "4/1/20",
          "4/2/20",
          "4/3/20",
          "4/4/20"
         ],
         "y": [
          0,
          0,
          0,
          2,
          2,
          2,
          2,
          2,
          2,
          2,
          3,
          3,
          5,
          7,
          9,
          11,
          13,
          13,
          18,
          18,
          23,
          29,
          35,
          54,
          56,
          63,
          85,
          87,
          164,
          170,
          195
         ]
        }
       ],
       "layout": {
        "template": {
         "data": {
          "bar": [
           {
            "error_x": {
             "color": "#2a3f5f"
            },
            "error_y": {
             "color": "#2a3f5f"
            },
            "marker": {
             "line": {
              "color": "#E5ECF6",
              "width": 0.5
             }
            },
            "type": "bar"
           }
          ],
          "barpolar": [
           {
            "marker": {
             "line": {
              "color": "#E5ECF6",
              "width": 0.5
             }
            },
            "type": "barpolar"
           }
          ],
          "carpet": [
           {
            "aaxis": {
             "endlinecolor": "#2a3f5f",
             "gridcolor": "white",
             "linecolor": "white",
             "minorgridcolor": "white",
             "startlinecolor": "#2a3f5f"
            },
            "baxis": {
             "endlinecolor": "#2a3f5f",
             "gridcolor": "white",
             "linecolor": "white",
             "minorgridcolor": "white",
             "startlinecolor": "#2a3f5f"
            },
            "type": "carpet"
           }
          ],
          "choropleth": [
           {
            "colorbar": {
             "outlinewidth": 0,
             "ticks": ""
            },
            "type": "choropleth"
           }
          ],
          "contour": [
           {
            "colorbar": {
             "outlinewidth": 0,
             "ticks": ""
            },
            "colorscale": [
             [
              0,
              "#0d0887"
             ],
             [
              0.1111111111111111,
              "#46039f"
             ],
             [
              0.2222222222222222,
              "#7201a8"
             ],
             [
              0.3333333333333333,
              "#9c179e"
             ],
             [
              0.4444444444444444,
              "#bd3786"
             ],
             [
              0.5555555555555556,
              "#d8576b"
             ],
             [
              0.6666666666666666,
              "#ed7953"
             ],
             [
              0.7777777777777778,
              "#fb9f3a"
             ],
             [
              0.8888888888888888,
              "#fdca26"
             ],
             [
              1,
              "#f0f921"
             ]
            ],
            "type": "contour"
           }
          ],
          "contourcarpet": [
           {
            "colorbar": {
             "outlinewidth": 0,
             "ticks": ""
            },
            "type": "contourcarpet"
           }
          ],
          "heatmap": [
           {
            "colorbar": {
             "outlinewidth": 0,
             "ticks": ""
            },
            "colorscale": [
             [
              0,
              "#0d0887"
             ],
             [
              0.1111111111111111,
              "#46039f"
             ],
             [
              0.2222222222222222,
              "#7201a8"
             ],
             [
              0.3333333333333333,
              "#9c179e"
             ],
             [
              0.4444444444444444,
              "#bd3786"
             ],
             [
              0.5555555555555556,
              "#d8576b"
             ],
             [
              0.6666666666666666,
              "#ed7953"
             ],
             [
              0.7777777777777778,
              "#fb9f3a"
             ],
             [
              0.8888888888888888,
              "#fdca26"
             ],
             [
              1,
              "#f0f921"
             ]
            ],
            "type": "heatmap"
           }
          ],
          "heatmapgl": [
           {
            "colorbar": {
             "outlinewidth": 0,
             "ticks": ""
            },
            "colorscale": [
             [
              0,
              "#0d0887"
             ],
             [
              0.1111111111111111,
              "#46039f"
             ],
             [
              0.2222222222222222,
              "#7201a8"
             ],
             [
              0.3333333333333333,
              "#9c179e"
             ],
             [
              0.4444444444444444,
              "#bd3786"
             ],
             [
              0.5555555555555556,
              "#d8576b"
             ],
             [
              0.6666666666666666,
              "#ed7953"
             ],
             [
              0.7777777777777778,
              "#fb9f3a"
             ],
             [
              0.8888888888888888,
              "#fdca26"
             ],
             [
              1,
              "#f0f921"
             ]
            ],
            "type": "heatmapgl"
           }
          ],
          "histogram": [
           {
            "marker": {
             "colorbar": {
              "outlinewidth": 0,
              "ticks": ""
             }
            },
            "type": "histogram"
           }
          ],
          "histogram2d": [
           {
            "colorbar": {
             "outlinewidth": 0,
             "ticks": ""
            },
            "colorscale": [
             [
              0,
              "#0d0887"
             ],
             [
              0.1111111111111111,
              "#46039f"
             ],
             [
              0.2222222222222222,
              "#7201a8"
             ],
             [
              0.3333333333333333,
              "#9c179e"
             ],
             [
              0.4444444444444444,
              "#bd3786"
             ],
             [
              0.5555555555555556,
              "#d8576b"
             ],
             [
              0.6666666666666666,
              "#ed7953"
             ],
             [
              0.7777777777777778,
              "#fb9f3a"
             ],
             [
              0.8888888888888888,
              "#fdca26"
             ],
             [
              1,
              "#f0f921"
             ]
            ],
            "type": "histogram2d"
           }
          ],
          "histogram2dcontour": [
           {
            "colorbar": {
             "outlinewidth": 0,
             "ticks": ""
            },
            "colorscale": [
             [
              0,
              "#0d0887"
             ],
             [
              0.1111111111111111,
              "#46039f"
             ],
             [
              0.2222222222222222,
              "#7201a8"
             ],
             [
              0.3333333333333333,
              "#9c179e"
             ],
             [
              0.4444444444444444,
              "#bd3786"
             ],
             [
              0.5555555555555556,
              "#d8576b"
             ],
             [
              0.6666666666666666,
              "#ed7953"
             ],
             [
              0.7777777777777778,
              "#fb9f3a"
             ],
             [
              0.8888888888888888,
              "#fdca26"
             ],
             [
              1,
              "#f0f921"
             ]
            ],
            "type": "histogram2dcontour"
           }
          ],
          "mesh3d": [
           {
            "colorbar": {
             "outlinewidth": 0,
             "ticks": ""
            },
            "type": "mesh3d"
           }
          ],
          "parcoords": [
           {
            "line": {
             "colorbar": {
              "outlinewidth": 0,
              "ticks": ""
             }
            },
            "type": "parcoords"
           }
          ],
          "pie": [
           {
            "automargin": true,
            "type": "pie"
           }
          ],
          "scatter": [
           {
            "marker": {
             "colorbar": {
              "outlinewidth": 0,
              "ticks": ""
             }
            },
            "type": "scatter"
           }
          ],
          "scatter3d": [
           {
            "line": {
             "colorbar": {
              "outlinewidth": 0,
              "ticks": ""
             }
            },
            "marker": {
             "colorbar": {
              "outlinewidth": 0,
              "ticks": ""
             }
            },
            "type": "scatter3d"
           }
          ],
          "scattercarpet": [
           {
            "marker": {
             "colorbar": {
              "outlinewidth": 0,
              "ticks": ""
             }
            },
            "type": "scattercarpet"
           }
          ],
          "scattergeo": [
           {
            "marker": {
             "colorbar": {
              "outlinewidth": 0,
              "ticks": ""
             }
            },
            "type": "scattergeo"
           }
          ],
          "scattergl": [
           {
            "marker": {
             "colorbar": {
              "outlinewidth": 0,
              "ticks": ""
             }
            },
            "type": "scattergl"
           }
          ],
          "scattermapbox": [
           {
            "marker": {
             "colorbar": {
              "outlinewidth": 0,
              "ticks": ""
             }
            },
            "type": "scattermapbox"
           }
          ],
          "scatterpolar": [
           {
            "marker": {
             "colorbar": {
              "outlinewidth": 0,
              "ticks": ""
             }
            },
            "type": "scatterpolar"
           }
          ],
          "scatterpolargl": [
           {
            "marker": {
             "colorbar": {
              "outlinewidth": 0,
              "ticks": ""
             }
            },
            "type": "scatterpolargl"
           }
          ],
          "scatterternary": [
           {
            "marker": {
             "colorbar": {
              "outlinewidth": 0,
              "ticks": ""
             }
            },
            "type": "scatterternary"
           }
          ],
          "surface": [
           {
            "colorbar": {
             "outlinewidth": 0,
             "ticks": ""
            },
            "colorscale": [
             [
              0,
              "#0d0887"
             ],
             [
              0.1111111111111111,
              "#46039f"
             ],
             [
              0.2222222222222222,
              "#7201a8"
             ],
             [
              0.3333333333333333,
              "#9c179e"
             ],
             [
              0.4444444444444444,
              "#bd3786"
             ],
             [
              0.5555555555555556,
              "#d8576b"
             ],
             [
              0.6666666666666666,
              "#ed7953"
             ],
             [
              0.7777777777777778,
              "#fb9f3a"
             ],
             [
              0.8888888888888888,
              "#fdca26"
             ],
             [
              1,
              "#f0f921"
             ]
            ],
            "type": "surface"
           }
          ],
          "table": [
           {
            "cells": {
             "fill": {
              "color": "#EBF0F8"
             },
             "line": {
              "color": "white"
             }
            },
            "header": {
             "fill": {
              "color": "#C8D4E3"
             },
             "line": {
              "color": "white"
             }
            },
            "type": "table"
           }
          ]
         },
         "layout": {
          "annotationdefaults": {
           "arrowcolor": "#2a3f5f",
           "arrowhead": 0,
           "arrowwidth": 1
          },
          "coloraxis": {
           "colorbar": {
            "outlinewidth": 0,
            "ticks": ""
           }
          },
          "colorscale": {
           "diverging": [
            [
             0,
             "#8e0152"
            ],
            [
             0.1,
             "#c51b7d"
            ],
            [
             0.2,
             "#de77ae"
            ],
            [
             0.3,
             "#f1b6da"
            ],
            [
             0.4,
             "#fde0ef"
            ],
            [
             0.5,
             "#f7f7f7"
            ],
            [
             0.6,
             "#e6f5d0"
            ],
            [
             0.7,
             "#b8e186"
            ],
            [
             0.8,
             "#7fbc41"
            ],
            [
             0.9,
             "#4d9221"
            ],
            [
             1,
             "#276419"
            ]
           ],
           "sequential": [
            [
             0,
             "#0d0887"
            ],
            [
             0.1111111111111111,
             "#46039f"
            ],
            [
             0.2222222222222222,
             "#7201a8"
            ],
            [
             0.3333333333333333,
             "#9c179e"
            ],
            [
             0.4444444444444444,
             "#bd3786"
            ],
            [
             0.5555555555555556,
             "#d8576b"
            ],
            [
             0.6666666666666666,
             "#ed7953"
            ],
            [
             0.7777777777777778,
             "#fb9f3a"
            ],
            [
             0.8888888888888888,
             "#fdca26"
            ],
            [
             1,
             "#f0f921"
            ]
           ],
           "sequentialminus": [
            [
             0,
             "#0d0887"
            ],
            [
             0.1111111111111111,
             "#46039f"
            ],
            [
             0.2222222222222222,
             "#7201a8"
            ],
            [
             0.3333333333333333,
             "#9c179e"
            ],
            [
             0.4444444444444444,
             "#bd3786"
            ],
            [
             0.5555555555555556,
             "#d8576b"
            ],
            [
             0.6666666666666666,
             "#ed7953"
            ],
            [
             0.7777777777777778,
             "#fb9f3a"
            ],
            [
             0.8888888888888888,
             "#fdca26"
            ],
            [
             1,
             "#f0f921"
            ]
           ]
          },
          "colorway": [
           "#636efa",
           "#EF553B",
           "#00cc96",
           "#ab63fa",
           "#FFA15A",
           "#19d3f3",
           "#FF6692",
           "#B6E880",
           "#FF97FF",
           "#FECB52"
          ],
          "font": {
           "color": "#2a3f5f"
          },
          "geo": {
           "bgcolor": "white",
           "lakecolor": "white",
           "landcolor": "#E5ECF6",
           "showlakes": true,
           "showland": true,
           "subunitcolor": "white"
          },
          "hoverlabel": {
           "align": "left"
          },
          "hovermode": "closest",
          "mapbox": {
           "style": "light"
          },
          "paper_bgcolor": "white",
          "plot_bgcolor": "#E5ECF6",
          "polar": {
           "angularaxis": {
            "gridcolor": "white",
            "linecolor": "white",
            "ticks": ""
           },
           "bgcolor": "#E5ECF6",
           "radialaxis": {
            "gridcolor": "white",
            "linecolor": "white",
            "ticks": ""
           }
          },
          "scene": {
           "xaxis": {
            "backgroundcolor": "#E5ECF6",
            "gridcolor": "white",
            "gridwidth": 2,
            "linecolor": "white",
            "showbackground": true,
            "ticks": "",
            "zerolinecolor": "white"
           },
           "yaxis": {
            "backgroundcolor": "#E5ECF6",
            "gridcolor": "white",
            "gridwidth": 2,
            "linecolor": "white",
            "showbackground": true,
            "ticks": "",
            "zerolinecolor": "white"
           },
           "zaxis": {
            "backgroundcolor": "#E5ECF6",
            "gridcolor": "white",
            "gridwidth": 2,
            "linecolor": "white",
            "showbackground": true,
            "ticks": "",
            "zerolinecolor": "white"
           }
          },
          "shapedefaults": {
           "line": {
            "color": "#2a3f5f"
           }
          },
          "ternary": {
           "aaxis": {
            "gridcolor": "white",
            "linecolor": "white",
            "ticks": ""
           },
           "baxis": {
            "gridcolor": "white",
            "linecolor": "white",
            "ticks": ""
           },
           "bgcolor": "#E5ECF6",
           "caxis": {
            "gridcolor": "white",
            "linecolor": "white",
            "ticks": ""
           }
          },
          "title": {
           "x": 0.05
          },
          "xaxis": {
           "automargin": true,
           "gridcolor": "white",
           "linecolor": "white",
           "ticks": "",
           "title": {
            "standoff": 15
           },
           "zerolinecolor": "white",
           "zerolinewidth": 2
          },
          "yaxis": {
           "automargin": true,
           "gridcolor": "white",
           "linecolor": "white",
           "ticks": "",
           "title": {
            "standoff": 15
           },
           "zerolinecolor": "white",
           "zerolinewidth": 2
          }
         }
        },
        "title": {
         "text": "US Deaths"
        },
        "updatemenus": [
         {
          "active": 0,
          "buttons": [
           {
            "args": [
             {
              "visible": [
               true,
               true
              ]
             },
             {
              "yaxis": {
               "type": "linear"
              }
             }
            ],
            "label": "Linear Scale",
            "method": "update"
           },
           {
            "args": [
             {
              "visible": [
               true,
               true
              ]
             },
             {
              "yaxis": {
               "type": "log"
              }
             }
            ],
            "label": "Logarithmic Scale",
            "method": "update"
           }
          ],
          "direction": "right",
          "type": "buttons",
          "x": 0.45,
          "xanchor": "left",
          "y": 1.1,
          "yanchor": "top"
         }
        ]
       }
      },
      "text/html": [
       "<div>\n",
       "        \n",
       "        \n",
       "            <div id=\"d24767ca-f049-4533-914d-4b00fd3bdc41\" class=\"plotly-graph-div\" style=\"height:525px; width:100%;\"></div>\n",
       "            <script type=\"text/javascript\">\n",
       "                require([\"plotly\"], function(Plotly) {\n",
       "                    window.PLOTLYENV=window.PLOTLYENV || {};\n",
       "                    \n",
       "                if (document.getElementById(\"d24767ca-f049-4533-914d-4b00fd3bdc41\")) {\n",
       "                    Plotly.newPlot(\n",
       "                        'd24767ca-f049-4533-914d-4b00fd3bdc41',\n",
       "                        [{\"name\": \"New York\", \"type\": \"scatter\", \"x\": [\"3/5/20\", \"3/6/20\", \"3/7/20\", \"3/8/20\", \"3/9/20\", \"3/10/20\", \"3/11/20\", \"3/12/20\", \"3/13/20\", \"3/14/20\", \"3/15/20\", \"3/16/20\", \"3/17/20\", \"3/18/20\", \"3/19/20\", \"3/20/20\", \"3/21/20\", \"3/22/20\", \"3/23/20\", \"3/24/20\", \"3/25/20\", \"3/26/20\", \"3/27/20\", \"3/28/20\", \"3/29/20\", \"3/30/20\", \"3/31/20\", \"4/1/20\", \"4/2/20\", \"4/3/20\", \"4/4/20\"], \"y\": [0, 0, 0, 0, 0, 0, 0, 0, 0, 2, 2, 10, 13, 17, 38, 46, 60, 117, 158, 210, 285, 385, 527, 728, 965, 1218, 1550, 1941, 2373, 2935, 3565]}, {\"name\": \"New Jersey\", \"type\": \"scatter\", \"x\": [\"3/5/20\", \"3/6/20\", \"3/7/20\", \"3/8/20\", \"3/9/20\", \"3/10/20\", \"3/11/20\", \"3/12/20\", \"3/13/20\", \"3/14/20\", \"3/15/20\", \"3/16/20\", \"3/17/20\", \"3/18/20\", \"3/19/20\", \"3/20/20\", \"3/21/20\", \"3/22/20\", \"3/23/20\", \"3/24/20\", \"3/25/20\", \"3/26/20\", \"3/27/20\", \"3/28/20\", \"3/29/20\", \"3/30/20\", \"3/31/20\", \"4/1/20\", \"4/2/20\", \"4/3/20\", \"4/4/20\"], \"y\": [0, 0, 0, 0, 0, 1, 1, 1, 1, 1, 2, 2, 3, 5, 9, 11, 16, 20, 27, 44, 62, 81, 108, 140, 161, 198, 267, 355, 537, 646, 846]}, {\"name\": \"Michigan\", \"type\": \"scatter\", \"x\": [\"3/5/20\", \"3/6/20\", \"3/7/20\", \"3/8/20\", \"3/9/20\", \"3/10/20\", \"3/11/20\", \"3/12/20\", \"3/13/20\", \"3/14/20\", \"3/15/20\", \"3/16/20\", \"3/17/20\", \"3/18/20\", \"3/19/20\", \"3/20/20\", \"3/21/20\", \"3/22/20\", \"3/23/20\", \"3/24/20\", \"3/25/20\", \"3/26/20\", \"3/27/20\", \"3/28/20\", \"3/29/20\", \"3/30/20\", \"3/31/20\", \"4/1/20\", \"4/2/20\", \"4/3/20\", \"4/4/20\"], \"y\": [0, 0, 0, 0, 0, 0, 0, 0, 0, 0, 0, 0, 0, 1, 1, 1, 3, 9, 15, 24, 43, 61, 92, 111, 132, 184, 259, 335, 417, 479, 540]}, {\"name\": \"Louisiana\", \"type\": \"scatter\", \"x\": [\"3/5/20\", \"3/6/20\", \"3/7/20\", \"3/8/20\", \"3/9/20\", \"3/10/20\", \"3/11/20\", \"3/12/20\", \"3/13/20\", \"3/14/20\", \"3/15/20\", \"3/16/20\", \"3/17/20\", \"3/18/20\", \"3/19/20\", \"3/20/20\", \"3/21/20\", \"3/22/20\", \"3/23/20\", \"3/24/20\", \"3/25/20\", \"3/26/20\", \"3/27/20\", \"3/28/20\", \"3/29/20\", \"3/30/20\", \"3/31/20\", \"4/1/20\", \"4/2/20\", \"4/3/20\", \"4/4/20\"], \"y\": [0, 0, 0, 0, 0, 0, 0, 0, 0, 1, 2, 3, 4, 6, 10, 14, 20, 20, 35, 46, 65, 83, 119, 137, 151, 185, 239, 273, 310, 370, 409]}, {\"name\": \"Washington\", \"type\": \"scatter\", \"x\": [\"3/5/20\", \"3/6/20\", \"3/7/20\", \"3/8/20\", \"3/9/20\", \"3/10/20\", \"3/11/20\", \"3/12/20\", \"3/13/20\", \"3/14/20\", \"3/15/20\", \"3/16/20\", \"3/17/20\", \"3/18/20\", \"3/19/20\", \"3/20/20\", \"3/21/20\", \"3/22/20\", \"3/23/20\", \"3/24/20\", \"3/25/20\", \"3/26/20\", \"3/27/20\", \"3/28/20\", \"3/29/20\", \"3/30/20\", \"3/31/20\", \"4/1/20\", \"4/2/20\", \"4/3/20\", \"4/4/20\"], \"y\": [11, 13, 16, 18, 19, 23, 24, 31, 37, 39, 40, 48, 55, 67, 73, 83, 94, 97, 109, 116, 133, 150, 157, 188, 198, 205, 225, 234, 271, 291, 315]}, {\"name\": \"California\", \"type\": \"scatter\", \"x\": [\"3/5/20\", \"3/6/20\", \"3/7/20\", \"3/8/20\", \"3/9/20\", \"3/10/20\", \"3/11/20\", \"3/12/20\", \"3/13/20\", \"3/14/20\", \"3/15/20\", \"3/16/20\", \"3/17/20\", \"3/18/20\", \"3/19/20\", \"3/20/20\", \"3/21/20\", \"3/22/20\", \"3/23/20\", \"3/24/20\", \"3/25/20\", \"3/26/20\", \"3/27/20\", \"3/28/20\", \"3/29/20\", \"3/30/20\", \"3/31/20\", \"4/1/20\", \"4/2/20\", \"4/3/20\", \"4/4/20\"], \"y\": [1, 1, 1, 1, 1, 2, 4, 4, 4, 3, 5, 7, 12, 16, 18, 24, 25, 30, 39, 50, 65, 81, 94, 110, 124, 146, 173, 199, 238, 265, 289]}, {\"name\": \"Illinois\", \"type\": \"scatter\", \"x\": [\"3/5/20\", \"3/6/20\", \"3/7/20\", \"3/8/20\", \"3/9/20\", \"3/10/20\", \"3/11/20\", \"3/12/20\", \"3/13/20\", \"3/14/20\", \"3/15/20\", \"3/16/20\", \"3/17/20\", \"3/18/20\", \"3/19/20\", \"3/20/20\", \"3/21/20\", \"3/22/20\", \"3/23/20\", \"3/24/20\", \"3/25/20\", \"3/26/20\", \"3/27/20\", \"3/28/20\", \"3/29/20\", \"3/30/20\", \"3/31/20\", \"4/1/20\", \"4/2/20\", \"4/3/20\", \"4/4/20\"], \"y\": [0, 0, 0, 0, 0, 0, 0, 0, 0, 0, 0, 0, 1, 1, 4, 5, 6, 9, 12, 16, 19, 26, 34, 47, 66, 73, 99, 141, 163, 210, 244]}, {\"name\": \"Massachusetts\", \"type\": \"scatter\", \"x\": [\"3/5/20\", \"3/6/20\", \"3/7/20\", \"3/8/20\", \"3/9/20\", \"3/10/20\", \"3/11/20\", \"3/12/20\", \"3/13/20\", \"3/14/20\", \"3/15/20\", \"3/16/20\", \"3/17/20\", \"3/18/20\", \"3/19/20\", \"3/20/20\", \"3/21/20\", \"3/22/20\", \"3/23/20\", \"3/24/20\", \"3/25/20\", \"3/26/20\", \"3/27/20\", \"3/28/20\", \"3/29/20\", \"3/30/20\", \"3/31/20\", \"4/1/20\", \"4/2/20\", \"4/3/20\", \"4/4/20\"], \"y\": [0, 0, 0, 0, 0, 0, 0, 0, 0, 0, 0, 0, 0, 0, 0, 1, 1, 5, 9, 11, 15, 25, 35, 44, 48, 56, 89, 122, 154, 192, 216]}, {\"name\": \"Georgia\", \"type\": \"scatter\", \"x\": [\"3/5/20\", \"3/6/20\", \"3/7/20\", \"3/8/20\", \"3/9/20\", \"3/10/20\", \"3/11/20\", \"3/12/20\", \"3/13/20\", \"3/14/20\", \"3/15/20\", \"3/16/20\", \"3/17/20\", \"3/18/20\", \"3/19/20\", \"3/20/20\", \"3/21/20\", \"3/22/20\", \"3/23/20\", \"3/24/20\", \"3/25/20\", \"3/26/20\", \"3/27/20\", \"3/28/20\", \"3/29/20\", \"3/30/20\", \"3/31/20\", \"4/1/20\", \"4/2/20\", \"4/3/20\", \"4/4/20\"], \"y\": [0, 0, 0, 0, 0, 0, 0, 1, 1, 1, 1, 1, 1, 3, 10, 14, 20, 25, 25, 32, 40, 48, 64, 69, 80, 87, 111, 139, 163, 184, 201]}, {\"name\": \"Florida\", \"type\": \"scatter\", \"x\": [\"3/5/20\", \"3/6/20\", \"3/7/20\", \"3/8/20\", \"3/9/20\", \"3/10/20\", \"3/11/20\", \"3/12/20\", \"3/13/20\", \"3/14/20\", \"3/15/20\", \"3/16/20\", \"3/17/20\", \"3/18/20\", \"3/19/20\", \"3/20/20\", \"3/21/20\", \"3/22/20\", \"3/23/20\", \"3/24/20\", \"3/25/20\", \"3/26/20\", \"3/27/20\", \"3/28/20\", \"3/29/20\", \"3/30/20\", \"3/31/20\", \"4/1/20\", \"4/2/20\", \"4/3/20\", \"4/4/20\"], \"y\": [0, 0, 0, 2, 2, 2, 2, 2, 2, 2, 3, 3, 5, 7, 9, 11, 13, 13, 18, 18, 23, 29, 35, 54, 56, 63, 85, 87, 164, 170, 195]}],\n",
       "                        {\"template\": {\"data\": {\"bar\": [{\"error_x\": {\"color\": \"#2a3f5f\"}, \"error_y\": {\"color\": \"#2a3f5f\"}, \"marker\": {\"line\": {\"color\": \"#E5ECF6\", \"width\": 0.5}}, \"type\": \"bar\"}], \"barpolar\": [{\"marker\": {\"line\": {\"color\": \"#E5ECF6\", \"width\": 0.5}}, \"type\": \"barpolar\"}], \"carpet\": [{\"aaxis\": {\"endlinecolor\": \"#2a3f5f\", \"gridcolor\": \"white\", \"linecolor\": \"white\", \"minorgridcolor\": \"white\", \"startlinecolor\": \"#2a3f5f\"}, \"baxis\": {\"endlinecolor\": \"#2a3f5f\", \"gridcolor\": \"white\", \"linecolor\": \"white\", \"minorgridcolor\": \"white\", \"startlinecolor\": \"#2a3f5f\"}, \"type\": \"carpet\"}], \"choropleth\": [{\"colorbar\": {\"outlinewidth\": 0, \"ticks\": \"\"}, \"type\": \"choropleth\"}], \"contour\": [{\"colorbar\": {\"outlinewidth\": 0, \"ticks\": \"\"}, \"colorscale\": [[0.0, \"#0d0887\"], [0.1111111111111111, \"#46039f\"], [0.2222222222222222, \"#7201a8\"], [0.3333333333333333, \"#9c179e\"], [0.4444444444444444, \"#bd3786\"], [0.5555555555555556, \"#d8576b\"], [0.6666666666666666, \"#ed7953\"], [0.7777777777777778, \"#fb9f3a\"], [0.8888888888888888, \"#fdca26\"], [1.0, \"#f0f921\"]], \"type\": \"contour\"}], \"contourcarpet\": [{\"colorbar\": {\"outlinewidth\": 0, \"ticks\": \"\"}, \"type\": \"contourcarpet\"}], \"heatmap\": [{\"colorbar\": {\"outlinewidth\": 0, \"ticks\": \"\"}, \"colorscale\": [[0.0, \"#0d0887\"], [0.1111111111111111, \"#46039f\"], [0.2222222222222222, \"#7201a8\"], [0.3333333333333333, \"#9c179e\"], [0.4444444444444444, \"#bd3786\"], [0.5555555555555556, \"#d8576b\"], [0.6666666666666666, \"#ed7953\"], [0.7777777777777778, \"#fb9f3a\"], [0.8888888888888888, \"#fdca26\"], [1.0, \"#f0f921\"]], \"type\": \"heatmap\"}], \"heatmapgl\": [{\"colorbar\": {\"outlinewidth\": 0, \"ticks\": \"\"}, \"colorscale\": [[0.0, \"#0d0887\"], [0.1111111111111111, \"#46039f\"], [0.2222222222222222, \"#7201a8\"], [0.3333333333333333, \"#9c179e\"], [0.4444444444444444, \"#bd3786\"], [0.5555555555555556, \"#d8576b\"], [0.6666666666666666, \"#ed7953\"], [0.7777777777777778, \"#fb9f3a\"], [0.8888888888888888, \"#fdca26\"], [1.0, \"#f0f921\"]], \"type\": \"heatmapgl\"}], \"histogram\": [{\"marker\": {\"colorbar\": {\"outlinewidth\": 0, \"ticks\": \"\"}}, \"type\": \"histogram\"}], \"histogram2d\": [{\"colorbar\": {\"outlinewidth\": 0, \"ticks\": \"\"}, \"colorscale\": [[0.0, \"#0d0887\"], [0.1111111111111111, \"#46039f\"], [0.2222222222222222, \"#7201a8\"], [0.3333333333333333, \"#9c179e\"], [0.4444444444444444, \"#bd3786\"], [0.5555555555555556, \"#d8576b\"], [0.6666666666666666, \"#ed7953\"], [0.7777777777777778, \"#fb9f3a\"], [0.8888888888888888, \"#fdca26\"], [1.0, \"#f0f921\"]], \"type\": \"histogram2d\"}], \"histogram2dcontour\": [{\"colorbar\": {\"outlinewidth\": 0, \"ticks\": \"\"}, \"colorscale\": [[0.0, \"#0d0887\"], [0.1111111111111111, \"#46039f\"], [0.2222222222222222, \"#7201a8\"], [0.3333333333333333, \"#9c179e\"], [0.4444444444444444, \"#bd3786\"], [0.5555555555555556, \"#d8576b\"], [0.6666666666666666, \"#ed7953\"], [0.7777777777777778, \"#fb9f3a\"], [0.8888888888888888, \"#fdca26\"], [1.0, \"#f0f921\"]], \"type\": \"histogram2dcontour\"}], \"mesh3d\": [{\"colorbar\": {\"outlinewidth\": 0, \"ticks\": \"\"}, \"type\": \"mesh3d\"}], \"parcoords\": [{\"line\": {\"colorbar\": {\"outlinewidth\": 0, \"ticks\": \"\"}}, \"type\": \"parcoords\"}], \"pie\": [{\"automargin\": true, \"type\": \"pie\"}], \"scatter\": [{\"marker\": {\"colorbar\": {\"outlinewidth\": 0, \"ticks\": \"\"}}, \"type\": \"scatter\"}], \"scatter3d\": [{\"line\": {\"colorbar\": {\"outlinewidth\": 0, \"ticks\": \"\"}}, \"marker\": {\"colorbar\": {\"outlinewidth\": 0, \"ticks\": \"\"}}, \"type\": \"scatter3d\"}], \"scattercarpet\": [{\"marker\": {\"colorbar\": {\"outlinewidth\": 0, \"ticks\": \"\"}}, \"type\": \"scattercarpet\"}], \"scattergeo\": [{\"marker\": {\"colorbar\": {\"outlinewidth\": 0, \"ticks\": \"\"}}, \"type\": \"scattergeo\"}], \"scattergl\": [{\"marker\": {\"colorbar\": {\"outlinewidth\": 0, \"ticks\": \"\"}}, \"type\": \"scattergl\"}], \"scattermapbox\": [{\"marker\": {\"colorbar\": {\"outlinewidth\": 0, \"ticks\": \"\"}}, \"type\": \"scattermapbox\"}], \"scatterpolar\": [{\"marker\": {\"colorbar\": {\"outlinewidth\": 0, \"ticks\": \"\"}}, \"type\": \"scatterpolar\"}], \"scatterpolargl\": [{\"marker\": {\"colorbar\": {\"outlinewidth\": 0, \"ticks\": \"\"}}, \"type\": \"scatterpolargl\"}], \"scatterternary\": [{\"marker\": {\"colorbar\": {\"outlinewidth\": 0, \"ticks\": \"\"}}, \"type\": \"scatterternary\"}], \"surface\": [{\"colorbar\": {\"outlinewidth\": 0, \"ticks\": \"\"}, \"colorscale\": [[0.0, \"#0d0887\"], [0.1111111111111111, \"#46039f\"], [0.2222222222222222, \"#7201a8\"], [0.3333333333333333, \"#9c179e\"], [0.4444444444444444, \"#bd3786\"], [0.5555555555555556, \"#d8576b\"], [0.6666666666666666, \"#ed7953\"], [0.7777777777777778, \"#fb9f3a\"], [0.8888888888888888, \"#fdca26\"], [1.0, \"#f0f921\"]], \"type\": \"surface\"}], \"table\": [{\"cells\": {\"fill\": {\"color\": \"#EBF0F8\"}, \"line\": {\"color\": \"white\"}}, \"header\": {\"fill\": {\"color\": \"#C8D4E3\"}, \"line\": {\"color\": \"white\"}}, \"type\": \"table\"}]}, \"layout\": {\"annotationdefaults\": {\"arrowcolor\": \"#2a3f5f\", \"arrowhead\": 0, \"arrowwidth\": 1}, \"coloraxis\": {\"colorbar\": {\"outlinewidth\": 0, \"ticks\": \"\"}}, \"colorscale\": {\"diverging\": [[0, \"#8e0152\"], [0.1, \"#c51b7d\"], [0.2, \"#de77ae\"], [0.3, \"#f1b6da\"], [0.4, \"#fde0ef\"], [0.5, \"#f7f7f7\"], [0.6, \"#e6f5d0\"], [0.7, \"#b8e186\"], [0.8, \"#7fbc41\"], [0.9, \"#4d9221\"], [1, \"#276419\"]], \"sequential\": [[0.0, \"#0d0887\"], [0.1111111111111111, \"#46039f\"], [0.2222222222222222, \"#7201a8\"], [0.3333333333333333, \"#9c179e\"], [0.4444444444444444, \"#bd3786\"], [0.5555555555555556, \"#d8576b\"], [0.6666666666666666, \"#ed7953\"], [0.7777777777777778, \"#fb9f3a\"], [0.8888888888888888, \"#fdca26\"], [1.0, \"#f0f921\"]], \"sequentialminus\": [[0.0, \"#0d0887\"], [0.1111111111111111, \"#46039f\"], [0.2222222222222222, \"#7201a8\"], [0.3333333333333333, \"#9c179e\"], [0.4444444444444444, \"#bd3786\"], [0.5555555555555556, \"#d8576b\"], [0.6666666666666666, \"#ed7953\"], [0.7777777777777778, \"#fb9f3a\"], [0.8888888888888888, \"#fdca26\"], [1.0, \"#f0f921\"]]}, \"colorway\": [\"#636efa\", \"#EF553B\", \"#00cc96\", \"#ab63fa\", \"#FFA15A\", \"#19d3f3\", \"#FF6692\", \"#B6E880\", \"#FF97FF\", \"#FECB52\"], \"font\": {\"color\": \"#2a3f5f\"}, \"geo\": {\"bgcolor\": \"white\", \"lakecolor\": \"white\", \"landcolor\": \"#E5ECF6\", \"showlakes\": true, \"showland\": true, \"subunitcolor\": \"white\"}, \"hoverlabel\": {\"align\": \"left\"}, \"hovermode\": \"closest\", \"mapbox\": {\"style\": \"light\"}, \"paper_bgcolor\": \"white\", \"plot_bgcolor\": \"#E5ECF6\", \"polar\": {\"angularaxis\": {\"gridcolor\": \"white\", \"linecolor\": \"white\", \"ticks\": \"\"}, \"bgcolor\": \"#E5ECF6\", \"radialaxis\": {\"gridcolor\": \"white\", \"linecolor\": \"white\", \"ticks\": \"\"}}, \"scene\": {\"xaxis\": {\"backgroundcolor\": \"#E5ECF6\", \"gridcolor\": \"white\", \"gridwidth\": 2, \"linecolor\": \"white\", \"showbackground\": true, \"ticks\": \"\", \"zerolinecolor\": \"white\"}, \"yaxis\": {\"backgroundcolor\": \"#E5ECF6\", \"gridcolor\": \"white\", \"gridwidth\": 2, \"linecolor\": \"white\", \"showbackground\": true, \"ticks\": \"\", \"zerolinecolor\": \"white\"}, \"zaxis\": {\"backgroundcolor\": \"#E5ECF6\", \"gridcolor\": \"white\", \"gridwidth\": 2, \"linecolor\": \"white\", \"showbackground\": true, \"ticks\": \"\", \"zerolinecolor\": \"white\"}}, \"shapedefaults\": {\"line\": {\"color\": \"#2a3f5f\"}}, \"ternary\": {\"aaxis\": {\"gridcolor\": \"white\", \"linecolor\": \"white\", \"ticks\": \"\"}, \"baxis\": {\"gridcolor\": \"white\", \"linecolor\": \"white\", \"ticks\": \"\"}, \"bgcolor\": \"#E5ECF6\", \"caxis\": {\"gridcolor\": \"white\", \"linecolor\": \"white\", \"ticks\": \"\"}}, \"title\": {\"x\": 0.05}, \"xaxis\": {\"automargin\": true, \"gridcolor\": \"white\", \"linecolor\": \"white\", \"ticks\": \"\", \"title\": {\"standoff\": 15}, \"zerolinecolor\": \"white\", \"zerolinewidth\": 2}, \"yaxis\": {\"automargin\": true, \"gridcolor\": \"white\", \"linecolor\": \"white\", \"ticks\": \"\", \"title\": {\"standoff\": 15}, \"zerolinecolor\": \"white\", \"zerolinewidth\": 2}}}, \"title\": {\"text\": \"US Deaths\"}, \"updatemenus\": [{\"active\": 0, \"buttons\": [{\"args\": [{\"visible\": [true, true]}, {\"yaxis\": {\"type\": \"linear\"}}], \"label\": \"Linear Scale\", \"method\": \"update\"}, {\"args\": [{\"visible\": [true, true]}, {\"yaxis\": {\"type\": \"log\"}}], \"label\": \"Logarithmic Scale\", \"method\": \"update\"}], \"direction\": \"right\", \"type\": \"buttons\", \"x\": 0.45, \"xanchor\": \"left\", \"y\": 1.1, \"yanchor\": \"top\"}]},\n",
       "                        {\"responsive\": true}\n",
       "                    ).then(function(){\n",
       "                            \n",
       "var gd = document.getElementById('d24767ca-f049-4533-914d-4b00fd3bdc41');\n",
       "var x = new MutationObserver(function (mutations, observer) {{\n",
       "        var display = window.getComputedStyle(gd).display;\n",
       "        if (!display || display === 'none') {{\n",
       "            console.log([gd, 'removed!']);\n",
       "            Plotly.purge(gd);\n",
       "            observer.disconnect();\n",
       "        }}\n",
       "}});\n",
       "\n",
       "// Listen for the removal of the full notebook cells\n",
       "var notebookContainer = gd.closest('#notebook-container');\n",
       "if (notebookContainer) {{\n",
       "    x.observe(notebookContainer, {childList: true});\n",
       "}}\n",
       "\n",
       "// Listen for the clearing of the current output cell\n",
       "var outputEl = gd.closest('.output');\n",
       "if (outputEl) {{\n",
       "    x.observe(outputEl, {childList: true});\n",
       "}}\n",
       "\n",
       "                        })\n",
       "                };\n",
       "                });\n",
       "            </script>\n",
       "        </div>"
      ]
     },
     "metadata": {},
     "output_type": "display_data"
    },
    {
     "data": {
      "text/html": [
       "<style  type=\"text/css\" >\n",
       "</style><table id=\"T_8d821006_7766_11ea_83c2_c49ded93ade6\" ><thead>    <tr>        <th class=\"blank level0\" ></th>        <th class=\"col_heading level0 col0\" >3/16/20</th>        <th class=\"col_heading level0 col1\" >3/17/20</th>        <th class=\"col_heading level0 col2\" >3/18/20</th>        <th class=\"col_heading level0 col3\" >3/19/20</th>        <th class=\"col_heading level0 col4\" >3/20/20</th>        <th class=\"col_heading level0 col5\" >3/21/20</th>        <th class=\"col_heading level0 col6\" >3/22/20</th>        <th class=\"col_heading level0 col7\" >3/23/20</th>        <th class=\"col_heading level0 col8\" >3/24/20</th>        <th class=\"col_heading level0 col9\" >3/25/20</th>        <th class=\"col_heading level0 col10\" >3/26/20</th>        <th class=\"col_heading level0 col11\" >3/27/20</th>        <th class=\"col_heading level0 col12\" >3/28/20</th>        <th class=\"col_heading level0 col13\" >3/29/20</th>        <th class=\"col_heading level0 col14\" >3/30/20</th>        <th class=\"col_heading level0 col15\" >3/31/20</th>        <th class=\"col_heading level0 col16\" >4/1/20</th>        <th class=\"col_heading level0 col17\" >4/2/20</th>        <th class=\"col_heading level0 col18\" >4/3/20</th>        <th class=\"col_heading level0 col19\" >4/4/20</th>        <th class=\"col_heading level0 col20\" >percent_of_total</th>    </tr>    <tr>        <th class=\"index_name level0\" >Province_State</th>        <th class=\"blank\" ></th>        <th class=\"blank\" ></th>        <th class=\"blank\" ></th>        <th class=\"blank\" ></th>        <th class=\"blank\" ></th>        <th class=\"blank\" ></th>        <th class=\"blank\" ></th>        <th class=\"blank\" ></th>        <th class=\"blank\" ></th>        <th class=\"blank\" ></th>        <th class=\"blank\" ></th>        <th class=\"blank\" ></th>        <th class=\"blank\" ></th>        <th class=\"blank\" ></th>        <th class=\"blank\" ></th>        <th class=\"blank\" ></th>        <th class=\"blank\" ></th>        <th class=\"blank\" ></th>        <th class=\"blank\" ></th>        <th class=\"blank\" ></th>        <th class=\"blank\" ></th>    </tr></thead><tbody>\n",
       "                <tr>\n",
       "                        <th id=\"T_8d821006_7766_11ea_83c2_c49ded93ade6level0_row0\" class=\"row_heading level0 row0\" >New York</th>\n",
       "                        <td id=\"T_8d821006_7766_11ea_83c2_c49ded93ade6row0_col0\" class=\"data row0 col0\" >10</td>\n",
       "                        <td id=\"T_8d821006_7766_11ea_83c2_c49ded93ade6row0_col1\" class=\"data row0 col1\" >13</td>\n",
       "                        <td id=\"T_8d821006_7766_11ea_83c2_c49ded93ade6row0_col2\" class=\"data row0 col2\" >17</td>\n",
       "                        <td id=\"T_8d821006_7766_11ea_83c2_c49ded93ade6row0_col3\" class=\"data row0 col3\" >38</td>\n",
       "                        <td id=\"T_8d821006_7766_11ea_83c2_c49ded93ade6row0_col4\" class=\"data row0 col4\" >46</td>\n",
       "                        <td id=\"T_8d821006_7766_11ea_83c2_c49ded93ade6row0_col5\" class=\"data row0 col5\" >60</td>\n",
       "                        <td id=\"T_8d821006_7766_11ea_83c2_c49ded93ade6row0_col6\" class=\"data row0 col6\" >117</td>\n",
       "                        <td id=\"T_8d821006_7766_11ea_83c2_c49ded93ade6row0_col7\" class=\"data row0 col7\" >158</td>\n",
       "                        <td id=\"T_8d821006_7766_11ea_83c2_c49ded93ade6row0_col8\" class=\"data row0 col8\" >210</td>\n",
       "                        <td id=\"T_8d821006_7766_11ea_83c2_c49ded93ade6row0_col9\" class=\"data row0 col9\" >285</td>\n",
       "                        <td id=\"T_8d821006_7766_11ea_83c2_c49ded93ade6row0_col10\" class=\"data row0 col10\" >385</td>\n",
       "                        <td id=\"T_8d821006_7766_11ea_83c2_c49ded93ade6row0_col11\" class=\"data row0 col11\" >527</td>\n",
       "                        <td id=\"T_8d821006_7766_11ea_83c2_c49ded93ade6row0_col12\" class=\"data row0 col12\" >728</td>\n",
       "                        <td id=\"T_8d821006_7766_11ea_83c2_c49ded93ade6row0_col13\" class=\"data row0 col13\" >965</td>\n",
       "                        <td id=\"T_8d821006_7766_11ea_83c2_c49ded93ade6row0_col14\" class=\"data row0 col14\" >1218</td>\n",
       "                        <td id=\"T_8d821006_7766_11ea_83c2_c49ded93ade6row0_col15\" class=\"data row0 col15\" >1550</td>\n",
       "                        <td id=\"T_8d821006_7766_11ea_83c2_c49ded93ade6row0_col16\" class=\"data row0 col16\" >1941</td>\n",
       "                        <td id=\"T_8d821006_7766_11ea_83c2_c49ded93ade6row0_col17\" class=\"data row0 col17\" >2373</td>\n",
       "                        <td id=\"T_8d821006_7766_11ea_83c2_c49ded93ade6row0_col18\" class=\"data row0 col18\" >2935</td>\n",
       "                        <td id=\"T_8d821006_7766_11ea_83c2_c49ded93ade6row0_col19\" class=\"data row0 col19\" >3565</td>\n",
       "                        <td id=\"T_8d821006_7766_11ea_83c2_c49ded93ade6row0_col20\" class=\"data row0 col20\" >42%</td>\n",
       "            </tr>\n",
       "            <tr>\n",
       "                        <th id=\"T_8d821006_7766_11ea_83c2_c49ded93ade6level0_row1\" class=\"row_heading level0 row1\" >New Jersey</th>\n",
       "                        <td id=\"T_8d821006_7766_11ea_83c2_c49ded93ade6row1_col0\" class=\"data row1 col0\" >2</td>\n",
       "                        <td id=\"T_8d821006_7766_11ea_83c2_c49ded93ade6row1_col1\" class=\"data row1 col1\" >3</td>\n",
       "                        <td id=\"T_8d821006_7766_11ea_83c2_c49ded93ade6row1_col2\" class=\"data row1 col2\" >5</td>\n",
       "                        <td id=\"T_8d821006_7766_11ea_83c2_c49ded93ade6row1_col3\" class=\"data row1 col3\" >9</td>\n",
       "                        <td id=\"T_8d821006_7766_11ea_83c2_c49ded93ade6row1_col4\" class=\"data row1 col4\" >11</td>\n",
       "                        <td id=\"T_8d821006_7766_11ea_83c2_c49ded93ade6row1_col5\" class=\"data row1 col5\" >16</td>\n",
       "                        <td id=\"T_8d821006_7766_11ea_83c2_c49ded93ade6row1_col6\" class=\"data row1 col6\" >20</td>\n",
       "                        <td id=\"T_8d821006_7766_11ea_83c2_c49ded93ade6row1_col7\" class=\"data row1 col7\" >27</td>\n",
       "                        <td id=\"T_8d821006_7766_11ea_83c2_c49ded93ade6row1_col8\" class=\"data row1 col8\" >44</td>\n",
       "                        <td id=\"T_8d821006_7766_11ea_83c2_c49ded93ade6row1_col9\" class=\"data row1 col9\" >62</td>\n",
       "                        <td id=\"T_8d821006_7766_11ea_83c2_c49ded93ade6row1_col10\" class=\"data row1 col10\" >81</td>\n",
       "                        <td id=\"T_8d821006_7766_11ea_83c2_c49ded93ade6row1_col11\" class=\"data row1 col11\" >108</td>\n",
       "                        <td id=\"T_8d821006_7766_11ea_83c2_c49ded93ade6row1_col12\" class=\"data row1 col12\" >140</td>\n",
       "                        <td id=\"T_8d821006_7766_11ea_83c2_c49ded93ade6row1_col13\" class=\"data row1 col13\" >161</td>\n",
       "                        <td id=\"T_8d821006_7766_11ea_83c2_c49ded93ade6row1_col14\" class=\"data row1 col14\" >198</td>\n",
       "                        <td id=\"T_8d821006_7766_11ea_83c2_c49ded93ade6row1_col15\" class=\"data row1 col15\" >267</td>\n",
       "                        <td id=\"T_8d821006_7766_11ea_83c2_c49ded93ade6row1_col16\" class=\"data row1 col16\" >355</td>\n",
       "                        <td id=\"T_8d821006_7766_11ea_83c2_c49ded93ade6row1_col17\" class=\"data row1 col17\" >537</td>\n",
       "                        <td id=\"T_8d821006_7766_11ea_83c2_c49ded93ade6row1_col18\" class=\"data row1 col18\" >646</td>\n",
       "                        <td id=\"T_8d821006_7766_11ea_83c2_c49ded93ade6row1_col19\" class=\"data row1 col19\" >846</td>\n",
       "                        <td id=\"T_8d821006_7766_11ea_83c2_c49ded93ade6row1_col20\" class=\"data row1 col20\" >10%</td>\n",
       "            </tr>\n",
       "            <tr>\n",
       "                        <th id=\"T_8d821006_7766_11ea_83c2_c49ded93ade6level0_row2\" class=\"row_heading level0 row2\" >Michigan</th>\n",
       "                        <td id=\"T_8d821006_7766_11ea_83c2_c49ded93ade6row2_col0\" class=\"data row2 col0\" >0</td>\n",
       "                        <td id=\"T_8d821006_7766_11ea_83c2_c49ded93ade6row2_col1\" class=\"data row2 col1\" >0</td>\n",
       "                        <td id=\"T_8d821006_7766_11ea_83c2_c49ded93ade6row2_col2\" class=\"data row2 col2\" >1</td>\n",
       "                        <td id=\"T_8d821006_7766_11ea_83c2_c49ded93ade6row2_col3\" class=\"data row2 col3\" >1</td>\n",
       "                        <td id=\"T_8d821006_7766_11ea_83c2_c49ded93ade6row2_col4\" class=\"data row2 col4\" >1</td>\n",
       "                        <td id=\"T_8d821006_7766_11ea_83c2_c49ded93ade6row2_col5\" class=\"data row2 col5\" >3</td>\n",
       "                        <td id=\"T_8d821006_7766_11ea_83c2_c49ded93ade6row2_col6\" class=\"data row2 col6\" >9</td>\n",
       "                        <td id=\"T_8d821006_7766_11ea_83c2_c49ded93ade6row2_col7\" class=\"data row2 col7\" >15</td>\n",
       "                        <td id=\"T_8d821006_7766_11ea_83c2_c49ded93ade6row2_col8\" class=\"data row2 col8\" >24</td>\n",
       "                        <td id=\"T_8d821006_7766_11ea_83c2_c49ded93ade6row2_col9\" class=\"data row2 col9\" >43</td>\n",
       "                        <td id=\"T_8d821006_7766_11ea_83c2_c49ded93ade6row2_col10\" class=\"data row2 col10\" >61</td>\n",
       "                        <td id=\"T_8d821006_7766_11ea_83c2_c49ded93ade6row2_col11\" class=\"data row2 col11\" >92</td>\n",
       "                        <td id=\"T_8d821006_7766_11ea_83c2_c49ded93ade6row2_col12\" class=\"data row2 col12\" >111</td>\n",
       "                        <td id=\"T_8d821006_7766_11ea_83c2_c49ded93ade6row2_col13\" class=\"data row2 col13\" >132</td>\n",
       "                        <td id=\"T_8d821006_7766_11ea_83c2_c49ded93ade6row2_col14\" class=\"data row2 col14\" >184</td>\n",
       "                        <td id=\"T_8d821006_7766_11ea_83c2_c49ded93ade6row2_col15\" class=\"data row2 col15\" >259</td>\n",
       "                        <td id=\"T_8d821006_7766_11ea_83c2_c49ded93ade6row2_col16\" class=\"data row2 col16\" >335</td>\n",
       "                        <td id=\"T_8d821006_7766_11ea_83c2_c49ded93ade6row2_col17\" class=\"data row2 col17\" >417</td>\n",
       "                        <td id=\"T_8d821006_7766_11ea_83c2_c49ded93ade6row2_col18\" class=\"data row2 col18\" >479</td>\n",
       "                        <td id=\"T_8d821006_7766_11ea_83c2_c49ded93ade6row2_col19\" class=\"data row2 col19\" >540</td>\n",
       "                        <td id=\"T_8d821006_7766_11ea_83c2_c49ded93ade6row2_col20\" class=\"data row2 col20\" >6%</td>\n",
       "            </tr>\n",
       "            <tr>\n",
       "                        <th id=\"T_8d821006_7766_11ea_83c2_c49ded93ade6level0_row3\" class=\"row_heading level0 row3\" >Louisiana</th>\n",
       "                        <td id=\"T_8d821006_7766_11ea_83c2_c49ded93ade6row3_col0\" class=\"data row3 col0\" >3</td>\n",
       "                        <td id=\"T_8d821006_7766_11ea_83c2_c49ded93ade6row3_col1\" class=\"data row3 col1\" >4</td>\n",
       "                        <td id=\"T_8d821006_7766_11ea_83c2_c49ded93ade6row3_col2\" class=\"data row3 col2\" >6</td>\n",
       "                        <td id=\"T_8d821006_7766_11ea_83c2_c49ded93ade6row3_col3\" class=\"data row3 col3\" >10</td>\n",
       "                        <td id=\"T_8d821006_7766_11ea_83c2_c49ded93ade6row3_col4\" class=\"data row3 col4\" >14</td>\n",
       "                        <td id=\"T_8d821006_7766_11ea_83c2_c49ded93ade6row3_col5\" class=\"data row3 col5\" >20</td>\n",
       "                        <td id=\"T_8d821006_7766_11ea_83c2_c49ded93ade6row3_col6\" class=\"data row3 col6\" >20</td>\n",
       "                        <td id=\"T_8d821006_7766_11ea_83c2_c49ded93ade6row3_col7\" class=\"data row3 col7\" >35</td>\n",
       "                        <td id=\"T_8d821006_7766_11ea_83c2_c49ded93ade6row3_col8\" class=\"data row3 col8\" >46</td>\n",
       "                        <td id=\"T_8d821006_7766_11ea_83c2_c49ded93ade6row3_col9\" class=\"data row3 col9\" >65</td>\n",
       "                        <td id=\"T_8d821006_7766_11ea_83c2_c49ded93ade6row3_col10\" class=\"data row3 col10\" >83</td>\n",
       "                        <td id=\"T_8d821006_7766_11ea_83c2_c49ded93ade6row3_col11\" class=\"data row3 col11\" >119</td>\n",
       "                        <td id=\"T_8d821006_7766_11ea_83c2_c49ded93ade6row3_col12\" class=\"data row3 col12\" >137</td>\n",
       "                        <td id=\"T_8d821006_7766_11ea_83c2_c49ded93ade6row3_col13\" class=\"data row3 col13\" >151</td>\n",
       "                        <td id=\"T_8d821006_7766_11ea_83c2_c49ded93ade6row3_col14\" class=\"data row3 col14\" >185</td>\n",
       "                        <td id=\"T_8d821006_7766_11ea_83c2_c49ded93ade6row3_col15\" class=\"data row3 col15\" >239</td>\n",
       "                        <td id=\"T_8d821006_7766_11ea_83c2_c49ded93ade6row3_col16\" class=\"data row3 col16\" >273</td>\n",
       "                        <td id=\"T_8d821006_7766_11ea_83c2_c49ded93ade6row3_col17\" class=\"data row3 col17\" >310</td>\n",
       "                        <td id=\"T_8d821006_7766_11ea_83c2_c49ded93ade6row3_col18\" class=\"data row3 col18\" >370</td>\n",
       "                        <td id=\"T_8d821006_7766_11ea_83c2_c49ded93ade6row3_col19\" class=\"data row3 col19\" >409</td>\n",
       "                        <td id=\"T_8d821006_7766_11ea_83c2_c49ded93ade6row3_col20\" class=\"data row3 col20\" >5%</td>\n",
       "            </tr>\n",
       "            <tr>\n",
       "                        <th id=\"T_8d821006_7766_11ea_83c2_c49ded93ade6level0_row4\" class=\"row_heading level0 row4\" >Washington</th>\n",
       "                        <td id=\"T_8d821006_7766_11ea_83c2_c49ded93ade6row4_col0\" class=\"data row4 col0\" >48</td>\n",
       "                        <td id=\"T_8d821006_7766_11ea_83c2_c49ded93ade6row4_col1\" class=\"data row4 col1\" >55</td>\n",
       "                        <td id=\"T_8d821006_7766_11ea_83c2_c49ded93ade6row4_col2\" class=\"data row4 col2\" >67</td>\n",
       "                        <td id=\"T_8d821006_7766_11ea_83c2_c49ded93ade6row4_col3\" class=\"data row4 col3\" >73</td>\n",
       "                        <td id=\"T_8d821006_7766_11ea_83c2_c49ded93ade6row4_col4\" class=\"data row4 col4\" >83</td>\n",
       "                        <td id=\"T_8d821006_7766_11ea_83c2_c49ded93ade6row4_col5\" class=\"data row4 col5\" >94</td>\n",
       "                        <td id=\"T_8d821006_7766_11ea_83c2_c49ded93ade6row4_col6\" class=\"data row4 col6\" >97</td>\n",
       "                        <td id=\"T_8d821006_7766_11ea_83c2_c49ded93ade6row4_col7\" class=\"data row4 col7\" >109</td>\n",
       "                        <td id=\"T_8d821006_7766_11ea_83c2_c49ded93ade6row4_col8\" class=\"data row4 col8\" >116</td>\n",
       "                        <td id=\"T_8d821006_7766_11ea_83c2_c49ded93ade6row4_col9\" class=\"data row4 col9\" >133</td>\n",
       "                        <td id=\"T_8d821006_7766_11ea_83c2_c49ded93ade6row4_col10\" class=\"data row4 col10\" >150</td>\n",
       "                        <td id=\"T_8d821006_7766_11ea_83c2_c49ded93ade6row4_col11\" class=\"data row4 col11\" >157</td>\n",
       "                        <td id=\"T_8d821006_7766_11ea_83c2_c49ded93ade6row4_col12\" class=\"data row4 col12\" >188</td>\n",
       "                        <td id=\"T_8d821006_7766_11ea_83c2_c49ded93ade6row4_col13\" class=\"data row4 col13\" >198</td>\n",
       "                        <td id=\"T_8d821006_7766_11ea_83c2_c49ded93ade6row4_col14\" class=\"data row4 col14\" >205</td>\n",
       "                        <td id=\"T_8d821006_7766_11ea_83c2_c49ded93ade6row4_col15\" class=\"data row4 col15\" >225</td>\n",
       "                        <td id=\"T_8d821006_7766_11ea_83c2_c49ded93ade6row4_col16\" class=\"data row4 col16\" >234</td>\n",
       "                        <td id=\"T_8d821006_7766_11ea_83c2_c49ded93ade6row4_col17\" class=\"data row4 col17\" >271</td>\n",
       "                        <td id=\"T_8d821006_7766_11ea_83c2_c49ded93ade6row4_col18\" class=\"data row4 col18\" >291</td>\n",
       "                        <td id=\"T_8d821006_7766_11ea_83c2_c49ded93ade6row4_col19\" class=\"data row4 col19\" >315</td>\n",
       "                        <td id=\"T_8d821006_7766_11ea_83c2_c49ded93ade6row4_col20\" class=\"data row4 col20\" >4%</td>\n",
       "            </tr>\n",
       "            <tr>\n",
       "                        <th id=\"T_8d821006_7766_11ea_83c2_c49ded93ade6level0_row5\" class=\"row_heading level0 row5\" >California</th>\n",
       "                        <td id=\"T_8d821006_7766_11ea_83c2_c49ded93ade6row5_col0\" class=\"data row5 col0\" >7</td>\n",
       "                        <td id=\"T_8d821006_7766_11ea_83c2_c49ded93ade6row5_col1\" class=\"data row5 col1\" >12</td>\n",
       "                        <td id=\"T_8d821006_7766_11ea_83c2_c49ded93ade6row5_col2\" class=\"data row5 col2\" >16</td>\n",
       "                        <td id=\"T_8d821006_7766_11ea_83c2_c49ded93ade6row5_col3\" class=\"data row5 col3\" >18</td>\n",
       "                        <td id=\"T_8d821006_7766_11ea_83c2_c49ded93ade6row5_col4\" class=\"data row5 col4\" >24</td>\n",
       "                        <td id=\"T_8d821006_7766_11ea_83c2_c49ded93ade6row5_col5\" class=\"data row5 col5\" >25</td>\n",
       "                        <td id=\"T_8d821006_7766_11ea_83c2_c49ded93ade6row5_col6\" class=\"data row5 col6\" >30</td>\n",
       "                        <td id=\"T_8d821006_7766_11ea_83c2_c49ded93ade6row5_col7\" class=\"data row5 col7\" >39</td>\n",
       "                        <td id=\"T_8d821006_7766_11ea_83c2_c49ded93ade6row5_col8\" class=\"data row5 col8\" >50</td>\n",
       "                        <td id=\"T_8d821006_7766_11ea_83c2_c49ded93ade6row5_col9\" class=\"data row5 col9\" >65</td>\n",
       "                        <td id=\"T_8d821006_7766_11ea_83c2_c49ded93ade6row5_col10\" class=\"data row5 col10\" >81</td>\n",
       "                        <td id=\"T_8d821006_7766_11ea_83c2_c49ded93ade6row5_col11\" class=\"data row5 col11\" >94</td>\n",
       "                        <td id=\"T_8d821006_7766_11ea_83c2_c49ded93ade6row5_col12\" class=\"data row5 col12\" >110</td>\n",
       "                        <td id=\"T_8d821006_7766_11ea_83c2_c49ded93ade6row5_col13\" class=\"data row5 col13\" >124</td>\n",
       "                        <td id=\"T_8d821006_7766_11ea_83c2_c49ded93ade6row5_col14\" class=\"data row5 col14\" >146</td>\n",
       "                        <td id=\"T_8d821006_7766_11ea_83c2_c49ded93ade6row5_col15\" class=\"data row5 col15\" >173</td>\n",
       "                        <td id=\"T_8d821006_7766_11ea_83c2_c49ded93ade6row5_col16\" class=\"data row5 col16\" >199</td>\n",
       "                        <td id=\"T_8d821006_7766_11ea_83c2_c49ded93ade6row5_col17\" class=\"data row5 col17\" >238</td>\n",
       "                        <td id=\"T_8d821006_7766_11ea_83c2_c49ded93ade6row5_col18\" class=\"data row5 col18\" >265</td>\n",
       "                        <td id=\"T_8d821006_7766_11ea_83c2_c49ded93ade6row5_col19\" class=\"data row5 col19\" >289</td>\n",
       "                        <td id=\"T_8d821006_7766_11ea_83c2_c49ded93ade6row5_col20\" class=\"data row5 col20\" >3%</td>\n",
       "            </tr>\n",
       "            <tr>\n",
       "                        <th id=\"T_8d821006_7766_11ea_83c2_c49ded93ade6level0_row6\" class=\"row_heading level0 row6\" >Illinois</th>\n",
       "                        <td id=\"T_8d821006_7766_11ea_83c2_c49ded93ade6row6_col0\" class=\"data row6 col0\" >0</td>\n",
       "                        <td id=\"T_8d821006_7766_11ea_83c2_c49ded93ade6row6_col1\" class=\"data row6 col1\" >1</td>\n",
       "                        <td id=\"T_8d821006_7766_11ea_83c2_c49ded93ade6row6_col2\" class=\"data row6 col2\" >1</td>\n",
       "                        <td id=\"T_8d821006_7766_11ea_83c2_c49ded93ade6row6_col3\" class=\"data row6 col3\" >4</td>\n",
       "                        <td id=\"T_8d821006_7766_11ea_83c2_c49ded93ade6row6_col4\" class=\"data row6 col4\" >5</td>\n",
       "                        <td id=\"T_8d821006_7766_11ea_83c2_c49ded93ade6row6_col5\" class=\"data row6 col5\" >6</td>\n",
       "                        <td id=\"T_8d821006_7766_11ea_83c2_c49ded93ade6row6_col6\" class=\"data row6 col6\" >9</td>\n",
       "                        <td id=\"T_8d821006_7766_11ea_83c2_c49ded93ade6row6_col7\" class=\"data row6 col7\" >12</td>\n",
       "                        <td id=\"T_8d821006_7766_11ea_83c2_c49ded93ade6row6_col8\" class=\"data row6 col8\" >16</td>\n",
       "                        <td id=\"T_8d821006_7766_11ea_83c2_c49ded93ade6row6_col9\" class=\"data row6 col9\" >19</td>\n",
       "                        <td id=\"T_8d821006_7766_11ea_83c2_c49ded93ade6row6_col10\" class=\"data row6 col10\" >26</td>\n",
       "                        <td id=\"T_8d821006_7766_11ea_83c2_c49ded93ade6row6_col11\" class=\"data row6 col11\" >34</td>\n",
       "                        <td id=\"T_8d821006_7766_11ea_83c2_c49ded93ade6row6_col12\" class=\"data row6 col12\" >47</td>\n",
       "                        <td id=\"T_8d821006_7766_11ea_83c2_c49ded93ade6row6_col13\" class=\"data row6 col13\" >66</td>\n",
       "                        <td id=\"T_8d821006_7766_11ea_83c2_c49ded93ade6row6_col14\" class=\"data row6 col14\" >73</td>\n",
       "                        <td id=\"T_8d821006_7766_11ea_83c2_c49ded93ade6row6_col15\" class=\"data row6 col15\" >99</td>\n",
       "                        <td id=\"T_8d821006_7766_11ea_83c2_c49ded93ade6row6_col16\" class=\"data row6 col16\" >141</td>\n",
       "                        <td id=\"T_8d821006_7766_11ea_83c2_c49ded93ade6row6_col17\" class=\"data row6 col17\" >163</td>\n",
       "                        <td id=\"T_8d821006_7766_11ea_83c2_c49ded93ade6row6_col18\" class=\"data row6 col18\" >210</td>\n",
       "                        <td id=\"T_8d821006_7766_11ea_83c2_c49ded93ade6row6_col19\" class=\"data row6 col19\" >244</td>\n",
       "                        <td id=\"T_8d821006_7766_11ea_83c2_c49ded93ade6row6_col20\" class=\"data row6 col20\" >3%</td>\n",
       "            </tr>\n",
       "            <tr>\n",
       "                        <th id=\"T_8d821006_7766_11ea_83c2_c49ded93ade6level0_row7\" class=\"row_heading level0 row7\" >Massachusetts</th>\n",
       "                        <td id=\"T_8d821006_7766_11ea_83c2_c49ded93ade6row7_col0\" class=\"data row7 col0\" >0</td>\n",
       "                        <td id=\"T_8d821006_7766_11ea_83c2_c49ded93ade6row7_col1\" class=\"data row7 col1\" >0</td>\n",
       "                        <td id=\"T_8d821006_7766_11ea_83c2_c49ded93ade6row7_col2\" class=\"data row7 col2\" >0</td>\n",
       "                        <td id=\"T_8d821006_7766_11ea_83c2_c49ded93ade6row7_col3\" class=\"data row7 col3\" >0</td>\n",
       "                        <td id=\"T_8d821006_7766_11ea_83c2_c49ded93ade6row7_col4\" class=\"data row7 col4\" >1</td>\n",
       "                        <td id=\"T_8d821006_7766_11ea_83c2_c49ded93ade6row7_col5\" class=\"data row7 col5\" >1</td>\n",
       "                        <td id=\"T_8d821006_7766_11ea_83c2_c49ded93ade6row7_col6\" class=\"data row7 col6\" >5</td>\n",
       "                        <td id=\"T_8d821006_7766_11ea_83c2_c49ded93ade6row7_col7\" class=\"data row7 col7\" >9</td>\n",
       "                        <td id=\"T_8d821006_7766_11ea_83c2_c49ded93ade6row7_col8\" class=\"data row7 col8\" >11</td>\n",
       "                        <td id=\"T_8d821006_7766_11ea_83c2_c49ded93ade6row7_col9\" class=\"data row7 col9\" >15</td>\n",
       "                        <td id=\"T_8d821006_7766_11ea_83c2_c49ded93ade6row7_col10\" class=\"data row7 col10\" >25</td>\n",
       "                        <td id=\"T_8d821006_7766_11ea_83c2_c49ded93ade6row7_col11\" class=\"data row7 col11\" >35</td>\n",
       "                        <td id=\"T_8d821006_7766_11ea_83c2_c49ded93ade6row7_col12\" class=\"data row7 col12\" >44</td>\n",
       "                        <td id=\"T_8d821006_7766_11ea_83c2_c49ded93ade6row7_col13\" class=\"data row7 col13\" >48</td>\n",
       "                        <td id=\"T_8d821006_7766_11ea_83c2_c49ded93ade6row7_col14\" class=\"data row7 col14\" >56</td>\n",
       "                        <td id=\"T_8d821006_7766_11ea_83c2_c49ded93ade6row7_col15\" class=\"data row7 col15\" >89</td>\n",
       "                        <td id=\"T_8d821006_7766_11ea_83c2_c49ded93ade6row7_col16\" class=\"data row7 col16\" >122</td>\n",
       "                        <td id=\"T_8d821006_7766_11ea_83c2_c49ded93ade6row7_col17\" class=\"data row7 col17\" >154</td>\n",
       "                        <td id=\"T_8d821006_7766_11ea_83c2_c49ded93ade6row7_col18\" class=\"data row7 col18\" >192</td>\n",
       "                        <td id=\"T_8d821006_7766_11ea_83c2_c49ded93ade6row7_col19\" class=\"data row7 col19\" >216</td>\n",
       "                        <td id=\"T_8d821006_7766_11ea_83c2_c49ded93ade6row7_col20\" class=\"data row7 col20\" >3%</td>\n",
       "            </tr>\n",
       "            <tr>\n",
       "                        <th id=\"T_8d821006_7766_11ea_83c2_c49ded93ade6level0_row8\" class=\"row_heading level0 row8\" >Georgia</th>\n",
       "                        <td id=\"T_8d821006_7766_11ea_83c2_c49ded93ade6row8_col0\" class=\"data row8 col0\" >1</td>\n",
       "                        <td id=\"T_8d821006_7766_11ea_83c2_c49ded93ade6row8_col1\" class=\"data row8 col1\" >1</td>\n",
       "                        <td id=\"T_8d821006_7766_11ea_83c2_c49ded93ade6row8_col2\" class=\"data row8 col2\" >3</td>\n",
       "                        <td id=\"T_8d821006_7766_11ea_83c2_c49ded93ade6row8_col3\" class=\"data row8 col3\" >10</td>\n",
       "                        <td id=\"T_8d821006_7766_11ea_83c2_c49ded93ade6row8_col4\" class=\"data row8 col4\" >14</td>\n",
       "                        <td id=\"T_8d821006_7766_11ea_83c2_c49ded93ade6row8_col5\" class=\"data row8 col5\" >20</td>\n",
       "                        <td id=\"T_8d821006_7766_11ea_83c2_c49ded93ade6row8_col6\" class=\"data row8 col6\" >25</td>\n",
       "                        <td id=\"T_8d821006_7766_11ea_83c2_c49ded93ade6row8_col7\" class=\"data row8 col7\" >25</td>\n",
       "                        <td id=\"T_8d821006_7766_11ea_83c2_c49ded93ade6row8_col8\" class=\"data row8 col8\" >32</td>\n",
       "                        <td id=\"T_8d821006_7766_11ea_83c2_c49ded93ade6row8_col9\" class=\"data row8 col9\" >40</td>\n",
       "                        <td id=\"T_8d821006_7766_11ea_83c2_c49ded93ade6row8_col10\" class=\"data row8 col10\" >48</td>\n",
       "                        <td id=\"T_8d821006_7766_11ea_83c2_c49ded93ade6row8_col11\" class=\"data row8 col11\" >64</td>\n",
       "                        <td id=\"T_8d821006_7766_11ea_83c2_c49ded93ade6row8_col12\" class=\"data row8 col12\" >69</td>\n",
       "                        <td id=\"T_8d821006_7766_11ea_83c2_c49ded93ade6row8_col13\" class=\"data row8 col13\" >80</td>\n",
       "                        <td id=\"T_8d821006_7766_11ea_83c2_c49ded93ade6row8_col14\" class=\"data row8 col14\" >87</td>\n",
       "                        <td id=\"T_8d821006_7766_11ea_83c2_c49ded93ade6row8_col15\" class=\"data row8 col15\" >111</td>\n",
       "                        <td id=\"T_8d821006_7766_11ea_83c2_c49ded93ade6row8_col16\" class=\"data row8 col16\" >139</td>\n",
       "                        <td id=\"T_8d821006_7766_11ea_83c2_c49ded93ade6row8_col17\" class=\"data row8 col17\" >163</td>\n",
       "                        <td id=\"T_8d821006_7766_11ea_83c2_c49ded93ade6row8_col18\" class=\"data row8 col18\" >184</td>\n",
       "                        <td id=\"T_8d821006_7766_11ea_83c2_c49ded93ade6row8_col19\" class=\"data row8 col19\" >201</td>\n",
       "                        <td id=\"T_8d821006_7766_11ea_83c2_c49ded93ade6row8_col20\" class=\"data row8 col20\" >2%</td>\n",
       "            </tr>\n",
       "            <tr>\n",
       "                        <th id=\"T_8d821006_7766_11ea_83c2_c49ded93ade6level0_row9\" class=\"row_heading level0 row9\" >Florida</th>\n",
       "                        <td id=\"T_8d821006_7766_11ea_83c2_c49ded93ade6row9_col0\" class=\"data row9 col0\" >3</td>\n",
       "                        <td id=\"T_8d821006_7766_11ea_83c2_c49ded93ade6row9_col1\" class=\"data row9 col1\" >5</td>\n",
       "                        <td id=\"T_8d821006_7766_11ea_83c2_c49ded93ade6row9_col2\" class=\"data row9 col2\" >7</td>\n",
       "                        <td id=\"T_8d821006_7766_11ea_83c2_c49ded93ade6row9_col3\" class=\"data row9 col3\" >9</td>\n",
       "                        <td id=\"T_8d821006_7766_11ea_83c2_c49ded93ade6row9_col4\" class=\"data row9 col4\" >11</td>\n",
       "                        <td id=\"T_8d821006_7766_11ea_83c2_c49ded93ade6row9_col5\" class=\"data row9 col5\" >13</td>\n",
       "                        <td id=\"T_8d821006_7766_11ea_83c2_c49ded93ade6row9_col6\" class=\"data row9 col6\" >13</td>\n",
       "                        <td id=\"T_8d821006_7766_11ea_83c2_c49ded93ade6row9_col7\" class=\"data row9 col7\" >18</td>\n",
       "                        <td id=\"T_8d821006_7766_11ea_83c2_c49ded93ade6row9_col8\" class=\"data row9 col8\" >18</td>\n",
       "                        <td id=\"T_8d821006_7766_11ea_83c2_c49ded93ade6row9_col9\" class=\"data row9 col9\" >23</td>\n",
       "                        <td id=\"T_8d821006_7766_11ea_83c2_c49ded93ade6row9_col10\" class=\"data row9 col10\" >29</td>\n",
       "                        <td id=\"T_8d821006_7766_11ea_83c2_c49ded93ade6row9_col11\" class=\"data row9 col11\" >35</td>\n",
       "                        <td id=\"T_8d821006_7766_11ea_83c2_c49ded93ade6row9_col12\" class=\"data row9 col12\" >54</td>\n",
       "                        <td id=\"T_8d821006_7766_11ea_83c2_c49ded93ade6row9_col13\" class=\"data row9 col13\" >56</td>\n",
       "                        <td id=\"T_8d821006_7766_11ea_83c2_c49ded93ade6row9_col14\" class=\"data row9 col14\" >63</td>\n",
       "                        <td id=\"T_8d821006_7766_11ea_83c2_c49ded93ade6row9_col15\" class=\"data row9 col15\" >85</td>\n",
       "                        <td id=\"T_8d821006_7766_11ea_83c2_c49ded93ade6row9_col16\" class=\"data row9 col16\" >87</td>\n",
       "                        <td id=\"T_8d821006_7766_11ea_83c2_c49ded93ade6row9_col17\" class=\"data row9 col17\" >164</td>\n",
       "                        <td id=\"T_8d821006_7766_11ea_83c2_c49ded93ade6row9_col18\" class=\"data row9 col18\" >170</td>\n",
       "                        <td id=\"T_8d821006_7766_11ea_83c2_c49ded93ade6row9_col19\" class=\"data row9 col19\" >195</td>\n",
       "                        <td id=\"T_8d821006_7766_11ea_83c2_c49ded93ade6row9_col20\" class=\"data row9 col20\" >2%</td>\n",
       "            </tr>\n",
       "    </tbody></table>"
      ],
      "text/plain": [
       "<pandas.io.formats.style.Styler at 0x11c1ee50>"
      ]
     },
     "execution_count": 15,
     "metadata": {},
     "output_type": "execute_result"
    }
   ],
   "source": [
    "dfUSDeathsTop = dfDeathsUSStates.sort_values(dfDeathsUSStates.columns[-1], ascending=False).head(10)\n",
    "\n",
    "data = [{\n",
    "    'x': row[1].index[-31:],\n",
    "    'y': row[1].values[-31:],\n",
    "    'name': row[0]\n",
    "}  for row in dfUSDeathsTop.iterrows()]\n",
    "\n",
    "updatemenus = list([\n",
    "    dict(active=0,\n",
    "         type='buttons',\n",
    "         direction='right',\n",
    "         x=0.45,\n",
    "         xanchor=\"left\",\n",
    "         y=1.1,\n",
    "         yanchor=\"top\",\n",
    "         buttons=list([\n",
    "            dict(label='Linear Scale',\n",
    "                 method='update',\n",
    "                 args=[{'visible': [True, True]},\n",
    "                       {'yaxis': {'type': 'linear'}}]),\n",
    "            dict(label='Logarithmic Scale',\n",
    "                 method='update',\n",
    "                 args=[{'visible': [True, True]},\n",
    "                       {'yaxis': {'type': 'log'}}])\n",
    "            ]),\n",
    "        )\n",
    "    ])\n",
    "\n",
    "layout = dict(title = 'US Deaths', updatemenus=LogLinearScale)\n",
    "py.iplot(dict(data=data, layout=layout))\n",
    "dfUSDeathsTop = dfUSDeathsTop[dfUSDeathsTop.columns[-DEFAULT_DAYS:]]\n",
    "dfUSDeathsTop['percent_of_total'] = dfDeathsUSStates[dfDeathsUSStates.columns[-1]]/sum(dfDeathsUSStates[dfDeathsUSStates.columns[-1]])\n",
    "\n",
    "colFormats = dict.fromkeys(list(a for a in dfUSDeathsTop.columns[1:]), IntegerFormatter)\n",
    "colFormats['percent_of_total'] = PercentFormatter\n",
    "dfUSDeathsTop.style.format({'percent_of_total': PercentFormatter})"
   ]
  },
  {
   "cell_type": "code",
   "execution_count": 16,
   "metadata": {
    "ExecuteTime": {
     "end_time": "2020-04-05T17:54:54.140668Z",
     "start_time": "2020-04-05T17:54:53.299235Z"
    },
    "extensions": {
     "jupyter_dashboards": {
      "version": 1,
      "views": {
       "grid_default": {
        "col": 0,
        "height": 31,
        "hidden": false,
        "row": 174,
        "width": null
       },
       "report_default": {
        "hidden": false
       }
      }
     }
    }
   },
   "outputs": [
    {
     "data": {
      "application/vnd.plotly.v1+json": {
       "config": {
        "linkText": "Export to plot.ly",
        "plotlyServerURL": "https://plot.ly",
        "showLink": false
       },
       "data": [
        {
         "name": "New Confirmed Cases",
         "type": "bar",
         "x": [
          "3/5/20",
          "3/6/20",
          "3/7/20",
          "3/8/20",
          "3/9/20",
          "3/10/20",
          "3/11/20",
          "3/12/20",
          "3/13/20",
          "3/14/20",
          "3/15/20",
          "3/16/20",
          "3/17/20",
          "3/18/20",
          "3/19/20",
          "3/20/20",
          "3/21/20",
          "3/22/20",
          "3/23/20",
          "3/24/20",
          "3/25/20",
          "3/26/20",
          "3/27/20",
          "3/28/20",
          "3/29/20",
          "3/30/20",
          "3/31/20",
          "4/1/20",
          "4/2/20",
          "4/3/20",
          "4/4/20"
         ],
         "y": [
          12,
          8,
          45,
          30,
          36,
          8,
          70,
          107,
          94,
          192,
          2,
          352,
          611,
          1460,
          2666,
          2699,
          3324,
          4073,
          5084,
          4797,
          5160,
          7036,
          6999,
          7534,
          7238,
          7015,
          9170,
          8115,
          8558,
          10481,
          10846
         ]
        },
        {
         "name": "New Deaths",
         "type": "bar",
         "x": [
          "3/5/20",
          "3/6/20",
          "3/7/20",
          "3/8/20",
          "3/9/20",
          "3/10/20",
          "3/11/20",
          "3/12/20",
          "3/13/20",
          "3/14/20",
          "3/15/20",
          "3/16/20",
          "3/17/20",
          "3/18/20",
          "3/19/20",
          "3/20/20",
          "3/21/20",
          "3/22/20",
          "3/23/20",
          "3/24/20",
          "3/25/20",
          "3/26/20",
          "3/27/20",
          "3/28/20",
          "3/29/20",
          "3/30/20",
          "3/31/20",
          "4/1/20",
          "4/2/20",
          "4/3/20",
          "4/4/20"
         ],
         "y": [
          0,
          0,
          0,
          0,
          0,
          0,
          0,
          0,
          0,
          2,
          0,
          8,
          3,
          4,
          21,
          8,
          14,
          57,
          41,
          52,
          75,
          100,
          142,
          201,
          237,
          253,
          332,
          391,
          432,
          562,
          630
         ]
        },
        {
         "name": "7-day avg Confirmed Cases",
         "type": "scatter",
         "x": [
          "3/5/20",
          "3/6/20",
          "3/7/20",
          "3/8/20",
          "3/9/20",
          "3/10/20",
          "3/11/20",
          "3/12/20",
          "3/13/20",
          "3/14/20",
          "3/15/20",
          "3/16/20",
          "3/17/20",
          "3/18/20",
          "3/19/20",
          "3/20/20",
          "3/21/20",
          "3/22/20",
          "3/23/20",
          "3/24/20",
          "3/25/20",
          "3/26/20",
          "3/27/20",
          "3/28/20",
          "3/29/20",
          "3/30/20",
          "3/31/20",
          "4/1/20",
          "4/2/20",
          "4/3/20",
          "4/4/20"
         ],
         "y": [
          3.2857142857142856,
          4.428571428571429,
          10.857142857142858,
          15.142857142857142,
          20.142857142857142,
          21.142857142857142,
          29.857142857142858,
          43.42857142857143,
          55.714285714285715,
          76.71428571428571,
          72.71428571428571,
          117.85714285714286,
          204,
          402.57142857142856,
          768.1428571428571,
          1140.2857142857142,
          1587.7142857142858,
          2169.285714285714,
          2845.285714285714,
          3443.285714285714,
          3971.8571428571427,
          4596.142857142857,
          5210.428571428572,
          5811.857142857143,
          6264,
          6539.857142857143,
          7164.571428571428,
          7586.714285714285,
          7804.142857142857,
          8301.57142857143,
          8774.714285714286
         ]
        },
        {
         "name": "7-day avg Deaths",
         "type": "scatter",
         "x": [
          "3/5/20",
          "3/6/20",
          "3/7/20",
          "3/8/20",
          "3/9/20",
          "3/10/20",
          "3/11/20",
          "3/12/20",
          "3/13/20",
          "3/14/20",
          "3/15/20",
          "3/16/20",
          "3/17/20",
          "3/18/20",
          "3/19/20",
          "3/20/20",
          "3/21/20",
          "3/22/20",
          "3/23/20",
          "3/24/20",
          "3/25/20",
          "3/26/20",
          "3/27/20",
          "3/28/20",
          "3/29/20",
          "3/30/20",
          "3/31/20",
          "4/1/20",
          "4/2/20",
          "4/3/20",
          "4/4/20"
         ],
         "y": [
          0,
          0,
          0,
          0,
          0,
          0,
          0,
          0,
          0,
          0.2857142857142857,
          0.2857142857142857,
          1.4285714285714286,
          1.8571428571428572,
          2.4285714285714284,
          5.428571428571429,
          6.571428571428571,
          8.285714285714286,
          16.428571428571427,
          21.142857142857142,
          28.142857142857142,
          38.285714285714285,
          49.57142857142857,
          68.71428571428571,
          95.42857142857143,
          121.14285714285714,
          151.42857142857142,
          191.42857142857142,
          236.57142857142858,
          284,
          344,
          405.2857142857143
         ]
        }
       ],
       "layout": {
        "template": {
         "data": {
          "bar": [
           {
            "error_x": {
             "color": "#2a3f5f"
            },
            "error_y": {
             "color": "#2a3f5f"
            },
            "marker": {
             "line": {
              "color": "#E5ECF6",
              "width": 0.5
             }
            },
            "type": "bar"
           }
          ],
          "barpolar": [
           {
            "marker": {
             "line": {
              "color": "#E5ECF6",
              "width": 0.5
             }
            },
            "type": "barpolar"
           }
          ],
          "carpet": [
           {
            "aaxis": {
             "endlinecolor": "#2a3f5f",
             "gridcolor": "white",
             "linecolor": "white",
             "minorgridcolor": "white",
             "startlinecolor": "#2a3f5f"
            },
            "baxis": {
             "endlinecolor": "#2a3f5f",
             "gridcolor": "white",
             "linecolor": "white",
             "minorgridcolor": "white",
             "startlinecolor": "#2a3f5f"
            },
            "type": "carpet"
           }
          ],
          "choropleth": [
           {
            "colorbar": {
             "outlinewidth": 0,
             "ticks": ""
            },
            "type": "choropleth"
           }
          ],
          "contour": [
           {
            "colorbar": {
             "outlinewidth": 0,
             "ticks": ""
            },
            "colorscale": [
             [
              0,
              "#0d0887"
             ],
             [
              0.1111111111111111,
              "#46039f"
             ],
             [
              0.2222222222222222,
              "#7201a8"
             ],
             [
              0.3333333333333333,
              "#9c179e"
             ],
             [
              0.4444444444444444,
              "#bd3786"
             ],
             [
              0.5555555555555556,
              "#d8576b"
             ],
             [
              0.6666666666666666,
              "#ed7953"
             ],
             [
              0.7777777777777778,
              "#fb9f3a"
             ],
             [
              0.8888888888888888,
              "#fdca26"
             ],
             [
              1,
              "#f0f921"
             ]
            ],
            "type": "contour"
           }
          ],
          "contourcarpet": [
           {
            "colorbar": {
             "outlinewidth": 0,
             "ticks": ""
            },
            "type": "contourcarpet"
           }
          ],
          "heatmap": [
           {
            "colorbar": {
             "outlinewidth": 0,
             "ticks": ""
            },
            "colorscale": [
             [
              0,
              "#0d0887"
             ],
             [
              0.1111111111111111,
              "#46039f"
             ],
             [
              0.2222222222222222,
              "#7201a8"
             ],
             [
              0.3333333333333333,
              "#9c179e"
             ],
             [
              0.4444444444444444,
              "#bd3786"
             ],
             [
              0.5555555555555556,
              "#d8576b"
             ],
             [
              0.6666666666666666,
              "#ed7953"
             ],
             [
              0.7777777777777778,
              "#fb9f3a"
             ],
             [
              0.8888888888888888,
              "#fdca26"
             ],
             [
              1,
              "#f0f921"
             ]
            ],
            "type": "heatmap"
           }
          ],
          "heatmapgl": [
           {
            "colorbar": {
             "outlinewidth": 0,
             "ticks": ""
            },
            "colorscale": [
             [
              0,
              "#0d0887"
             ],
             [
              0.1111111111111111,
              "#46039f"
             ],
             [
              0.2222222222222222,
              "#7201a8"
             ],
             [
              0.3333333333333333,
              "#9c179e"
             ],
             [
              0.4444444444444444,
              "#bd3786"
             ],
             [
              0.5555555555555556,
              "#d8576b"
             ],
             [
              0.6666666666666666,
              "#ed7953"
             ],
             [
              0.7777777777777778,
              "#fb9f3a"
             ],
             [
              0.8888888888888888,
              "#fdca26"
             ],
             [
              1,
              "#f0f921"
             ]
            ],
            "type": "heatmapgl"
           }
          ],
          "histogram": [
           {
            "marker": {
             "colorbar": {
              "outlinewidth": 0,
              "ticks": ""
             }
            },
            "type": "histogram"
           }
          ],
          "histogram2d": [
           {
            "colorbar": {
             "outlinewidth": 0,
             "ticks": ""
            },
            "colorscale": [
             [
              0,
              "#0d0887"
             ],
             [
              0.1111111111111111,
              "#46039f"
             ],
             [
              0.2222222222222222,
              "#7201a8"
             ],
             [
              0.3333333333333333,
              "#9c179e"
             ],
             [
              0.4444444444444444,
              "#bd3786"
             ],
             [
              0.5555555555555556,
              "#d8576b"
             ],
             [
              0.6666666666666666,
              "#ed7953"
             ],
             [
              0.7777777777777778,
              "#fb9f3a"
             ],
             [
              0.8888888888888888,
              "#fdca26"
             ],
             [
              1,
              "#f0f921"
             ]
            ],
            "type": "histogram2d"
           }
          ],
          "histogram2dcontour": [
           {
            "colorbar": {
             "outlinewidth": 0,
             "ticks": ""
            },
            "colorscale": [
             [
              0,
              "#0d0887"
             ],
             [
              0.1111111111111111,
              "#46039f"
             ],
             [
              0.2222222222222222,
              "#7201a8"
             ],
             [
              0.3333333333333333,
              "#9c179e"
             ],
             [
              0.4444444444444444,
              "#bd3786"
             ],
             [
              0.5555555555555556,
              "#d8576b"
             ],
             [
              0.6666666666666666,
              "#ed7953"
             ],
             [
              0.7777777777777778,
              "#fb9f3a"
             ],
             [
              0.8888888888888888,
              "#fdca26"
             ],
             [
              1,
              "#f0f921"
             ]
            ],
            "type": "histogram2dcontour"
           }
          ],
          "mesh3d": [
           {
            "colorbar": {
             "outlinewidth": 0,
             "ticks": ""
            },
            "type": "mesh3d"
           }
          ],
          "parcoords": [
           {
            "line": {
             "colorbar": {
              "outlinewidth": 0,
              "ticks": ""
             }
            },
            "type": "parcoords"
           }
          ],
          "pie": [
           {
            "automargin": true,
            "type": "pie"
           }
          ],
          "scatter": [
           {
            "marker": {
             "colorbar": {
              "outlinewidth": 0,
              "ticks": ""
             }
            },
            "type": "scatter"
           }
          ],
          "scatter3d": [
           {
            "line": {
             "colorbar": {
              "outlinewidth": 0,
              "ticks": ""
             }
            },
            "marker": {
             "colorbar": {
              "outlinewidth": 0,
              "ticks": ""
             }
            },
            "type": "scatter3d"
           }
          ],
          "scattercarpet": [
           {
            "marker": {
             "colorbar": {
              "outlinewidth": 0,
              "ticks": ""
             }
            },
            "type": "scattercarpet"
           }
          ],
          "scattergeo": [
           {
            "marker": {
             "colorbar": {
              "outlinewidth": 0,
              "ticks": ""
             }
            },
            "type": "scattergeo"
           }
          ],
          "scattergl": [
           {
            "marker": {
             "colorbar": {
              "outlinewidth": 0,
              "ticks": ""
             }
            },
            "type": "scattergl"
           }
          ],
          "scattermapbox": [
           {
            "marker": {
             "colorbar": {
              "outlinewidth": 0,
              "ticks": ""
             }
            },
            "type": "scattermapbox"
           }
          ],
          "scatterpolar": [
           {
            "marker": {
             "colorbar": {
              "outlinewidth": 0,
              "ticks": ""
             }
            },
            "type": "scatterpolar"
           }
          ],
          "scatterpolargl": [
           {
            "marker": {
             "colorbar": {
              "outlinewidth": 0,
              "ticks": ""
             }
            },
            "type": "scatterpolargl"
           }
          ],
          "scatterternary": [
           {
            "marker": {
             "colorbar": {
              "outlinewidth": 0,
              "ticks": ""
             }
            },
            "type": "scatterternary"
           }
          ],
          "surface": [
           {
            "colorbar": {
             "outlinewidth": 0,
             "ticks": ""
            },
            "colorscale": [
             [
              0,
              "#0d0887"
             ],
             [
              0.1111111111111111,
              "#46039f"
             ],
             [
              0.2222222222222222,
              "#7201a8"
             ],
             [
              0.3333333333333333,
              "#9c179e"
             ],
             [
              0.4444444444444444,
              "#bd3786"
             ],
             [
              0.5555555555555556,
              "#d8576b"
             ],
             [
              0.6666666666666666,
              "#ed7953"
             ],
             [
              0.7777777777777778,
              "#fb9f3a"
             ],
             [
              0.8888888888888888,
              "#fdca26"
             ],
             [
              1,
              "#f0f921"
             ]
            ],
            "type": "surface"
           }
          ],
          "table": [
           {
            "cells": {
             "fill": {
              "color": "#EBF0F8"
             },
             "line": {
              "color": "white"
             }
            },
            "header": {
             "fill": {
              "color": "#C8D4E3"
             },
             "line": {
              "color": "white"
             }
            },
            "type": "table"
           }
          ]
         },
         "layout": {
          "annotationdefaults": {
           "arrowcolor": "#2a3f5f",
           "arrowhead": 0,
           "arrowwidth": 1
          },
          "coloraxis": {
           "colorbar": {
            "outlinewidth": 0,
            "ticks": ""
           }
          },
          "colorscale": {
           "diverging": [
            [
             0,
             "#8e0152"
            ],
            [
             0.1,
             "#c51b7d"
            ],
            [
             0.2,
             "#de77ae"
            ],
            [
             0.3,
             "#f1b6da"
            ],
            [
             0.4,
             "#fde0ef"
            ],
            [
             0.5,
             "#f7f7f7"
            ],
            [
             0.6,
             "#e6f5d0"
            ],
            [
             0.7,
             "#b8e186"
            ],
            [
             0.8,
             "#7fbc41"
            ],
            [
             0.9,
             "#4d9221"
            ],
            [
             1,
             "#276419"
            ]
           ],
           "sequential": [
            [
             0,
             "#0d0887"
            ],
            [
             0.1111111111111111,
             "#46039f"
            ],
            [
             0.2222222222222222,
             "#7201a8"
            ],
            [
             0.3333333333333333,
             "#9c179e"
            ],
            [
             0.4444444444444444,
             "#bd3786"
            ],
            [
             0.5555555555555556,
             "#d8576b"
            ],
            [
             0.6666666666666666,
             "#ed7953"
            ],
            [
             0.7777777777777778,
             "#fb9f3a"
            ],
            [
             0.8888888888888888,
             "#fdca26"
            ],
            [
             1,
             "#f0f921"
            ]
           ],
           "sequentialminus": [
            [
             0,
             "#0d0887"
            ],
            [
             0.1111111111111111,
             "#46039f"
            ],
            [
             0.2222222222222222,
             "#7201a8"
            ],
            [
             0.3333333333333333,
             "#9c179e"
            ],
            [
             0.4444444444444444,
             "#bd3786"
            ],
            [
             0.5555555555555556,
             "#d8576b"
            ],
            [
             0.6666666666666666,
             "#ed7953"
            ],
            [
             0.7777777777777778,
             "#fb9f3a"
            ],
            [
             0.8888888888888888,
             "#fdca26"
            ],
            [
             1,
             "#f0f921"
            ]
           ]
          },
          "colorway": [
           "#636efa",
           "#EF553B",
           "#00cc96",
           "#ab63fa",
           "#FFA15A",
           "#19d3f3",
           "#FF6692",
           "#B6E880",
           "#FF97FF",
           "#FECB52"
          ],
          "font": {
           "color": "#2a3f5f"
          },
          "geo": {
           "bgcolor": "white",
           "lakecolor": "white",
           "landcolor": "#E5ECF6",
           "showlakes": true,
           "showland": true,
           "subunitcolor": "white"
          },
          "hoverlabel": {
           "align": "left"
          },
          "hovermode": "closest",
          "mapbox": {
           "style": "light"
          },
          "paper_bgcolor": "white",
          "plot_bgcolor": "#E5ECF6",
          "polar": {
           "angularaxis": {
            "gridcolor": "white",
            "linecolor": "white",
            "ticks": ""
           },
           "bgcolor": "#E5ECF6",
           "radialaxis": {
            "gridcolor": "white",
            "linecolor": "white",
            "ticks": ""
           }
          },
          "scene": {
           "xaxis": {
            "backgroundcolor": "#E5ECF6",
            "gridcolor": "white",
            "gridwidth": 2,
            "linecolor": "white",
            "showbackground": true,
            "ticks": "",
            "zerolinecolor": "white"
           },
           "yaxis": {
            "backgroundcolor": "#E5ECF6",
            "gridcolor": "white",
            "gridwidth": 2,
            "linecolor": "white",
            "showbackground": true,
            "ticks": "",
            "zerolinecolor": "white"
           },
           "zaxis": {
            "backgroundcolor": "#E5ECF6",
            "gridcolor": "white",
            "gridwidth": 2,
            "linecolor": "white",
            "showbackground": true,
            "ticks": "",
            "zerolinecolor": "white"
           }
          },
          "shapedefaults": {
           "line": {
            "color": "#2a3f5f"
           }
          },
          "ternary": {
           "aaxis": {
            "gridcolor": "white",
            "linecolor": "white",
            "ticks": ""
           },
           "baxis": {
            "gridcolor": "white",
            "linecolor": "white",
            "ticks": ""
           },
           "bgcolor": "#E5ECF6",
           "caxis": {
            "gridcolor": "white",
            "linecolor": "white",
            "ticks": ""
           }
          },
          "title": {
           "x": 0.05
          },
          "xaxis": {
           "automargin": true,
           "gridcolor": "white",
           "linecolor": "white",
           "ticks": "",
           "title": {
            "standoff": 15
           },
           "zerolinecolor": "white",
           "zerolinewidth": 2
          },
          "yaxis": {
           "automargin": true,
           "gridcolor": "white",
           "linecolor": "white",
           "ticks": "",
           "title": {
            "standoff": 15
           },
           "zerolinecolor": "white",
           "zerolinewidth": 2
          }
         }
        },
        "title": {
         "text": "NY - Daily Cases and Deaths"
        }
       }
      },
      "text/html": [
       "<div>\n",
       "        \n",
       "        \n",
       "            <div id=\"2b9f823b-0b5a-4d20-b132-b967a8edcc2b\" class=\"plotly-graph-div\" style=\"height:525px; width:100%;\"></div>\n",
       "            <script type=\"text/javascript\">\n",
       "                require([\"plotly\"], function(Plotly) {\n",
       "                    window.PLOTLYENV=window.PLOTLYENV || {};\n",
       "                    \n",
       "                if (document.getElementById(\"2b9f823b-0b5a-4d20-b132-b967a8edcc2b\")) {\n",
       "                    Plotly.newPlot(\n",
       "                        '2b9f823b-0b5a-4d20-b132-b967a8edcc2b',\n",
       "                        [{\"name\": \"New Confirmed Cases\", \"type\": \"bar\", \"x\": [\"3/5/20\", \"3/6/20\", \"3/7/20\", \"3/8/20\", \"3/9/20\", \"3/10/20\", \"3/11/20\", \"3/12/20\", \"3/13/20\", \"3/14/20\", \"3/15/20\", \"3/16/20\", \"3/17/20\", \"3/18/20\", \"3/19/20\", \"3/20/20\", \"3/21/20\", \"3/22/20\", \"3/23/20\", \"3/24/20\", \"3/25/20\", \"3/26/20\", \"3/27/20\", \"3/28/20\", \"3/29/20\", \"3/30/20\", \"3/31/20\", \"4/1/20\", \"4/2/20\", \"4/3/20\", \"4/4/20\"], \"y\": [12.0, 8.0, 45.0, 30.0, 36.0, 8.0, 70.0, 107.0, 94.0, 192.0, 2.0, 352.0, 611.0, 1460.0, 2666.0, 2699.0, 3324.0, 4073.0, 5084.0, 4797.0, 5160.0, 7036.0, 6999.0, 7534.0, 7238.0, 7015.0, 9170.0, 8115.0, 8558.0, 10481.0, 10846.0]}, {\"name\": \"New Deaths\", \"type\": \"bar\", \"x\": [\"3/5/20\", \"3/6/20\", \"3/7/20\", \"3/8/20\", \"3/9/20\", \"3/10/20\", \"3/11/20\", \"3/12/20\", \"3/13/20\", \"3/14/20\", \"3/15/20\", \"3/16/20\", \"3/17/20\", \"3/18/20\", \"3/19/20\", \"3/20/20\", \"3/21/20\", \"3/22/20\", \"3/23/20\", \"3/24/20\", \"3/25/20\", \"3/26/20\", \"3/27/20\", \"3/28/20\", \"3/29/20\", \"3/30/20\", \"3/31/20\", \"4/1/20\", \"4/2/20\", \"4/3/20\", \"4/4/20\"], \"y\": [0.0, 0.0, 0.0, 0.0, 0.0, 0.0, 0.0, 0.0, 0.0, 2.0, 0.0, 8.0, 3.0, 4.0, 21.0, 8.0, 14.0, 57.0, 41.0, 52.0, 75.0, 100.0, 142.0, 201.0, 237.0, 253.0, 332.0, 391.0, 432.0, 562.0, 630.0]}, {\"name\": \"7-day avg Confirmed Cases\", \"type\": \"scatter\", \"x\": [\"3/5/20\", \"3/6/20\", \"3/7/20\", \"3/8/20\", \"3/9/20\", \"3/10/20\", \"3/11/20\", \"3/12/20\", \"3/13/20\", \"3/14/20\", \"3/15/20\", \"3/16/20\", \"3/17/20\", \"3/18/20\", \"3/19/20\", \"3/20/20\", \"3/21/20\", \"3/22/20\", \"3/23/20\", \"3/24/20\", \"3/25/20\", \"3/26/20\", \"3/27/20\", \"3/28/20\", \"3/29/20\", \"3/30/20\", \"3/31/20\", \"4/1/20\", \"4/2/20\", \"4/3/20\", \"4/4/20\"], \"y\": [3.2857142857142856, 4.428571428571429, 10.857142857142858, 15.142857142857142, 20.142857142857142, 21.142857142857142, 29.857142857142858, 43.42857142857143, 55.714285714285715, 76.71428571428571, 72.71428571428571, 117.85714285714286, 204.0, 402.57142857142856, 768.1428571428571, 1140.2857142857142, 1587.7142857142858, 2169.285714285714, 2845.285714285714, 3443.285714285714, 3971.8571428571427, 4596.142857142857, 5210.428571428572, 5811.857142857143, 6264.0, 6539.857142857143, 7164.571428571428, 7586.714285714285, 7804.142857142857, 8301.57142857143, 8774.714285714286]}, {\"name\": \"7-day avg Deaths\", \"type\": \"scatter\", \"x\": [\"3/5/20\", \"3/6/20\", \"3/7/20\", \"3/8/20\", \"3/9/20\", \"3/10/20\", \"3/11/20\", \"3/12/20\", \"3/13/20\", \"3/14/20\", \"3/15/20\", \"3/16/20\", \"3/17/20\", \"3/18/20\", \"3/19/20\", \"3/20/20\", \"3/21/20\", \"3/22/20\", \"3/23/20\", \"3/24/20\", \"3/25/20\", \"3/26/20\", \"3/27/20\", \"3/28/20\", \"3/29/20\", \"3/30/20\", \"3/31/20\", \"4/1/20\", \"4/2/20\", \"4/3/20\", \"4/4/20\"], \"y\": [0.0, 0.0, 0.0, 0.0, 0.0, 0.0, 0.0, 0.0, 0.0, 0.2857142857142857, 0.2857142857142857, 1.4285714285714286, 1.8571428571428572, 2.4285714285714284, 5.428571428571429, 6.571428571428571, 8.285714285714286, 16.428571428571427, 21.142857142857142, 28.142857142857142, 38.285714285714285, 49.57142857142857, 68.71428571428571, 95.42857142857143, 121.14285714285714, 151.42857142857142, 191.42857142857142, 236.57142857142858, 284.0, 344.0, 405.2857142857143]}],\n",
       "                        {\"template\": {\"data\": {\"bar\": [{\"error_x\": {\"color\": \"#2a3f5f\"}, \"error_y\": {\"color\": \"#2a3f5f\"}, \"marker\": {\"line\": {\"color\": \"#E5ECF6\", \"width\": 0.5}}, \"type\": \"bar\"}], \"barpolar\": [{\"marker\": {\"line\": {\"color\": \"#E5ECF6\", \"width\": 0.5}}, \"type\": \"barpolar\"}], \"carpet\": [{\"aaxis\": {\"endlinecolor\": \"#2a3f5f\", \"gridcolor\": \"white\", \"linecolor\": \"white\", \"minorgridcolor\": \"white\", \"startlinecolor\": \"#2a3f5f\"}, \"baxis\": {\"endlinecolor\": \"#2a3f5f\", \"gridcolor\": \"white\", \"linecolor\": \"white\", \"minorgridcolor\": \"white\", \"startlinecolor\": \"#2a3f5f\"}, \"type\": \"carpet\"}], \"choropleth\": [{\"colorbar\": {\"outlinewidth\": 0, \"ticks\": \"\"}, \"type\": \"choropleth\"}], \"contour\": [{\"colorbar\": {\"outlinewidth\": 0, \"ticks\": \"\"}, \"colorscale\": [[0.0, \"#0d0887\"], [0.1111111111111111, \"#46039f\"], [0.2222222222222222, \"#7201a8\"], [0.3333333333333333, \"#9c179e\"], [0.4444444444444444, \"#bd3786\"], [0.5555555555555556, \"#d8576b\"], [0.6666666666666666, \"#ed7953\"], [0.7777777777777778, \"#fb9f3a\"], [0.8888888888888888, \"#fdca26\"], [1.0, \"#f0f921\"]], \"type\": \"contour\"}], \"contourcarpet\": [{\"colorbar\": {\"outlinewidth\": 0, \"ticks\": \"\"}, \"type\": \"contourcarpet\"}], \"heatmap\": [{\"colorbar\": {\"outlinewidth\": 0, \"ticks\": \"\"}, \"colorscale\": [[0.0, \"#0d0887\"], [0.1111111111111111, \"#46039f\"], [0.2222222222222222, \"#7201a8\"], [0.3333333333333333, \"#9c179e\"], [0.4444444444444444, \"#bd3786\"], [0.5555555555555556, \"#d8576b\"], [0.6666666666666666, \"#ed7953\"], [0.7777777777777778, \"#fb9f3a\"], [0.8888888888888888, \"#fdca26\"], [1.0, \"#f0f921\"]], \"type\": \"heatmap\"}], \"heatmapgl\": [{\"colorbar\": {\"outlinewidth\": 0, \"ticks\": \"\"}, \"colorscale\": [[0.0, \"#0d0887\"], [0.1111111111111111, \"#46039f\"], [0.2222222222222222, \"#7201a8\"], [0.3333333333333333, \"#9c179e\"], [0.4444444444444444, \"#bd3786\"], [0.5555555555555556, \"#d8576b\"], [0.6666666666666666, \"#ed7953\"], [0.7777777777777778, \"#fb9f3a\"], [0.8888888888888888, \"#fdca26\"], [1.0, \"#f0f921\"]], \"type\": \"heatmapgl\"}], \"histogram\": [{\"marker\": {\"colorbar\": {\"outlinewidth\": 0, \"ticks\": \"\"}}, \"type\": \"histogram\"}], \"histogram2d\": [{\"colorbar\": {\"outlinewidth\": 0, \"ticks\": \"\"}, \"colorscale\": [[0.0, \"#0d0887\"], [0.1111111111111111, \"#46039f\"], [0.2222222222222222, \"#7201a8\"], [0.3333333333333333, \"#9c179e\"], [0.4444444444444444, \"#bd3786\"], [0.5555555555555556, \"#d8576b\"], [0.6666666666666666, \"#ed7953\"], [0.7777777777777778, \"#fb9f3a\"], [0.8888888888888888, \"#fdca26\"], [1.0, \"#f0f921\"]], \"type\": \"histogram2d\"}], \"histogram2dcontour\": [{\"colorbar\": {\"outlinewidth\": 0, \"ticks\": \"\"}, \"colorscale\": [[0.0, \"#0d0887\"], [0.1111111111111111, \"#46039f\"], [0.2222222222222222, \"#7201a8\"], [0.3333333333333333, \"#9c179e\"], [0.4444444444444444, \"#bd3786\"], [0.5555555555555556, \"#d8576b\"], [0.6666666666666666, \"#ed7953\"], [0.7777777777777778, \"#fb9f3a\"], [0.8888888888888888, \"#fdca26\"], [1.0, \"#f0f921\"]], \"type\": \"histogram2dcontour\"}], \"mesh3d\": [{\"colorbar\": {\"outlinewidth\": 0, \"ticks\": \"\"}, \"type\": \"mesh3d\"}], \"parcoords\": [{\"line\": {\"colorbar\": {\"outlinewidth\": 0, \"ticks\": \"\"}}, \"type\": \"parcoords\"}], \"pie\": [{\"automargin\": true, \"type\": \"pie\"}], \"scatter\": [{\"marker\": {\"colorbar\": {\"outlinewidth\": 0, \"ticks\": \"\"}}, \"type\": \"scatter\"}], \"scatter3d\": [{\"line\": {\"colorbar\": {\"outlinewidth\": 0, \"ticks\": \"\"}}, \"marker\": {\"colorbar\": {\"outlinewidth\": 0, \"ticks\": \"\"}}, \"type\": \"scatter3d\"}], \"scattercarpet\": [{\"marker\": {\"colorbar\": {\"outlinewidth\": 0, \"ticks\": \"\"}}, \"type\": \"scattercarpet\"}], \"scattergeo\": [{\"marker\": {\"colorbar\": {\"outlinewidth\": 0, \"ticks\": \"\"}}, \"type\": \"scattergeo\"}], \"scattergl\": [{\"marker\": {\"colorbar\": {\"outlinewidth\": 0, \"ticks\": \"\"}}, \"type\": \"scattergl\"}], \"scattermapbox\": [{\"marker\": {\"colorbar\": {\"outlinewidth\": 0, \"ticks\": \"\"}}, \"type\": \"scattermapbox\"}], \"scatterpolar\": [{\"marker\": {\"colorbar\": {\"outlinewidth\": 0, \"ticks\": \"\"}}, \"type\": \"scatterpolar\"}], \"scatterpolargl\": [{\"marker\": {\"colorbar\": {\"outlinewidth\": 0, \"ticks\": \"\"}}, \"type\": \"scatterpolargl\"}], \"scatterternary\": [{\"marker\": {\"colorbar\": {\"outlinewidth\": 0, \"ticks\": \"\"}}, \"type\": \"scatterternary\"}], \"surface\": [{\"colorbar\": {\"outlinewidth\": 0, \"ticks\": \"\"}, \"colorscale\": [[0.0, \"#0d0887\"], [0.1111111111111111, \"#46039f\"], [0.2222222222222222, \"#7201a8\"], [0.3333333333333333, \"#9c179e\"], [0.4444444444444444, \"#bd3786\"], [0.5555555555555556, \"#d8576b\"], [0.6666666666666666, \"#ed7953\"], [0.7777777777777778, \"#fb9f3a\"], [0.8888888888888888, \"#fdca26\"], [1.0, \"#f0f921\"]], \"type\": \"surface\"}], \"table\": [{\"cells\": {\"fill\": {\"color\": \"#EBF0F8\"}, \"line\": {\"color\": \"white\"}}, \"header\": {\"fill\": {\"color\": \"#C8D4E3\"}, \"line\": {\"color\": \"white\"}}, \"type\": \"table\"}]}, \"layout\": {\"annotationdefaults\": {\"arrowcolor\": \"#2a3f5f\", \"arrowhead\": 0, \"arrowwidth\": 1}, \"coloraxis\": {\"colorbar\": {\"outlinewidth\": 0, \"ticks\": \"\"}}, \"colorscale\": {\"diverging\": [[0, \"#8e0152\"], [0.1, \"#c51b7d\"], [0.2, \"#de77ae\"], [0.3, \"#f1b6da\"], [0.4, \"#fde0ef\"], [0.5, \"#f7f7f7\"], [0.6, \"#e6f5d0\"], [0.7, \"#b8e186\"], [0.8, \"#7fbc41\"], [0.9, \"#4d9221\"], [1, \"#276419\"]], \"sequential\": [[0.0, \"#0d0887\"], [0.1111111111111111, \"#46039f\"], [0.2222222222222222, \"#7201a8\"], [0.3333333333333333, \"#9c179e\"], [0.4444444444444444, \"#bd3786\"], [0.5555555555555556, \"#d8576b\"], [0.6666666666666666, \"#ed7953\"], [0.7777777777777778, \"#fb9f3a\"], [0.8888888888888888, \"#fdca26\"], [1.0, \"#f0f921\"]], \"sequentialminus\": [[0.0, \"#0d0887\"], [0.1111111111111111, \"#46039f\"], [0.2222222222222222, \"#7201a8\"], [0.3333333333333333, \"#9c179e\"], [0.4444444444444444, \"#bd3786\"], [0.5555555555555556, \"#d8576b\"], [0.6666666666666666, \"#ed7953\"], [0.7777777777777778, \"#fb9f3a\"], [0.8888888888888888, \"#fdca26\"], [1.0, \"#f0f921\"]]}, \"colorway\": [\"#636efa\", \"#EF553B\", \"#00cc96\", \"#ab63fa\", \"#FFA15A\", \"#19d3f3\", \"#FF6692\", \"#B6E880\", \"#FF97FF\", \"#FECB52\"], \"font\": {\"color\": \"#2a3f5f\"}, \"geo\": {\"bgcolor\": \"white\", \"lakecolor\": \"white\", \"landcolor\": \"#E5ECF6\", \"showlakes\": true, \"showland\": true, \"subunitcolor\": \"white\"}, \"hoverlabel\": {\"align\": \"left\"}, \"hovermode\": \"closest\", \"mapbox\": {\"style\": \"light\"}, \"paper_bgcolor\": \"white\", \"plot_bgcolor\": \"#E5ECF6\", \"polar\": {\"angularaxis\": {\"gridcolor\": \"white\", \"linecolor\": \"white\", \"ticks\": \"\"}, \"bgcolor\": \"#E5ECF6\", \"radialaxis\": {\"gridcolor\": \"white\", \"linecolor\": \"white\", \"ticks\": \"\"}}, \"scene\": {\"xaxis\": {\"backgroundcolor\": \"#E5ECF6\", \"gridcolor\": \"white\", \"gridwidth\": 2, \"linecolor\": \"white\", \"showbackground\": true, \"ticks\": \"\", \"zerolinecolor\": \"white\"}, \"yaxis\": {\"backgroundcolor\": \"#E5ECF6\", \"gridcolor\": \"white\", \"gridwidth\": 2, \"linecolor\": \"white\", \"showbackground\": true, \"ticks\": \"\", \"zerolinecolor\": \"white\"}, \"zaxis\": {\"backgroundcolor\": \"#E5ECF6\", \"gridcolor\": \"white\", \"gridwidth\": 2, \"linecolor\": \"white\", \"showbackground\": true, \"ticks\": \"\", \"zerolinecolor\": \"white\"}}, \"shapedefaults\": {\"line\": {\"color\": \"#2a3f5f\"}}, \"ternary\": {\"aaxis\": {\"gridcolor\": \"white\", \"linecolor\": \"white\", \"ticks\": \"\"}, \"baxis\": {\"gridcolor\": \"white\", \"linecolor\": \"white\", \"ticks\": \"\"}, \"bgcolor\": \"#E5ECF6\", \"caxis\": {\"gridcolor\": \"white\", \"linecolor\": \"white\", \"ticks\": \"\"}}, \"title\": {\"x\": 0.05}, \"xaxis\": {\"automargin\": true, \"gridcolor\": \"white\", \"linecolor\": \"white\", \"ticks\": \"\", \"title\": {\"standoff\": 15}, \"zerolinecolor\": \"white\", \"zerolinewidth\": 2}, \"yaxis\": {\"automargin\": true, \"gridcolor\": \"white\", \"linecolor\": \"white\", \"ticks\": \"\", \"title\": {\"standoff\": 15}, \"zerolinecolor\": \"white\", \"zerolinewidth\": 2}}}, \"title\": {\"text\": \"NY - Daily Cases and Deaths\"}},\n",
       "                        {\"responsive\": true}\n",
       "                    ).then(function(){\n",
       "                            \n",
       "var gd = document.getElementById('2b9f823b-0b5a-4d20-b132-b967a8edcc2b');\n",
       "var x = new MutationObserver(function (mutations, observer) {{\n",
       "        var display = window.getComputedStyle(gd).display;\n",
       "        if (!display || display === 'none') {{\n",
       "            console.log([gd, 'removed!']);\n",
       "            Plotly.purge(gd);\n",
       "            observer.disconnect();\n",
       "        }}\n",
       "}});\n",
       "\n",
       "// Listen for the removal of the full notebook cells\n",
       "var notebookContainer = gd.closest('#notebook-container');\n",
       "if (notebookContainer) {{\n",
       "    x.observe(notebookContainer, {childList: true});\n",
       "}}\n",
       "\n",
       "// Listen for the clearing of the current output cell\n",
       "var outputEl = gd.closest('.output');\n",
       "if (outputEl) {{\n",
       "    x.observe(outputEl, {childList: true});\n",
       "}}\n",
       "\n",
       "                        })\n",
       "                };\n",
       "                });\n",
       "            </script>\n",
       "        </div>"
      ]
     },
     "metadata": {},
     "output_type": "display_data"
    }
   ],
   "source": [
    "dfNYConfirmed = dfConfirmedUSStates[dfConfirmedUSStates.index == 'New York']\n",
    "dfNYDeaths =  dfDeathsUSStates[dfDeathsUSStates.index == 'New York']\n",
    "dfNYConfirmedDailyNew = dfNYConfirmed.diff(axis=1)\n",
    "dfNYDeathsDailyNew = dfNYDeaths.diff(axis=1)\n",
    "\n",
    "dfNYConfirmed7dayMA = dfNYConfirmedDailyNew.rolling(window=7, axis=1).mean()\n",
    "dfNYDeaths7dayMA = dfNYDeathsDailyNew.rolling(window=7, axis=1).mean()\n",
    "\n",
    "trace1 = go.Bar(\n",
    "    x = dfNYConfirmedDailyNew.columns[-MONTH_DAYS:],\n",
    "    y = dfNYConfirmedDailyNew.iloc[0][-MONTH_DAYS:], name = 'New Confirmed Cases')\n",
    "\n",
    "trace2 = go.Bar(\n",
    "    x = dfNYDeathsDailyNew.columns[-MONTH_DAYS:],\n",
    "    y = dfNYDeathsDailyNew.iloc[0][-MONTH_DAYS:], name = 'New Deaths')\n",
    "\n",
    "trace3 = go.Scatter(\n",
    "    x = dfNYConfirmed7dayMA.columns[-MONTH_DAYS:],\n",
    "    y = dfNYConfirmed7dayMA.iloc[0][-MONTH_DAYS:], name = '7-day avg Confirmed Cases')\n",
    "\n",
    "trace4 = go.Scatter(\n",
    "    x = dfNYDeaths7dayMA.columns[-MONTH_DAYS:],\n",
    "    y = dfNYDeaths7dayMA.iloc[0][-MONTH_DAYS:], name = '7-day avg Deaths')\n",
    "\n",
    "data = [trace1, trace2, trace3, trace4]\n",
    "layout = dict(title = 'NY - Daily Cases and Deaths')\n",
    "\n",
    "py.iplot(dict(data=data, layout=layout))"
   ]
  },
  {
   "cell_type": "markdown",
   "metadata": {},
   "source": [
    "# World Wide Data"
   ]
  },
  {
   "cell_type": "code",
   "execution_count": 17,
   "metadata": {
    "ExecuteTime": {
     "end_time": "2020-04-05T17:54:55.158811Z",
     "start_time": "2020-04-05T17:54:54.144953Z"
    },
    "extensions": {
     "jupyter_dashboards": {
      "version": 1,
      "views": {
       "grid_default": {
        "col": 0,
        "height": 31,
        "hidden": false,
        "row": 86,
        "width": null
       },
       "report_default": {
        "hidden": false
       }
      }
     }
    },
    "scrolled": false
   },
   "outputs": [
    {
     "data": {
      "application/vnd.plotly.v1+json": {
       "config": {
        "linkText": "Export to plot.ly",
        "plotlyServerURL": "https://plot.ly",
        "showLink": false
       },
       "data": [
        {
         "name": "US",
         "type": "scatter",
         "x": [
          "3/5/20",
          "3/6/20",
          "3/7/20",
          "3/8/20",
          "3/9/20",
          "3/10/20",
          "3/11/20",
          "3/12/20",
          "3/13/20",
          "3/14/20",
          "3/15/20",
          "3/16/20",
          "3/17/20",
          "3/18/20",
          "3/19/20",
          "3/20/20",
          "3/21/20",
          "3/22/20",
          "3/23/20",
          "3/24/20",
          "3/25/20",
          "3/26/20",
          "3/27/20",
          "3/28/20",
          "3/29/20",
          "3/30/20",
          "3/31/20",
          "4/1/20",
          "4/2/20",
          "4/3/20",
          "4/4/20"
         ],
         "y": [
          217,
          262,
          402,
          518,
          583,
          959,
          1281,
          1663,
          2179,
          2727,
          3499,
          4632,
          6421,
          7783,
          13677,
          19100,
          25489,
          33276,
          43847,
          53740,
          65778,
          83836,
          101657,
          121478,
          140886,
          161807,
          188172,
          213372,
          243453,
          275586,
          308850
         ]
        },
        {
         "name": "Spain",
         "type": "scatter",
         "x": [
          "3/5/20",
          "3/6/20",
          "3/7/20",
          "3/8/20",
          "3/9/20",
          "3/10/20",
          "3/11/20",
          "3/12/20",
          "3/13/20",
          "3/14/20",
          "3/15/20",
          "3/16/20",
          "3/17/20",
          "3/18/20",
          "3/19/20",
          "3/20/20",
          "3/21/20",
          "3/22/20",
          "3/23/20",
          "3/24/20",
          "3/25/20",
          "3/26/20",
          "3/27/20",
          "3/28/20",
          "3/29/20",
          "3/30/20",
          "3/31/20",
          "4/1/20",
          "4/2/20",
          "4/3/20",
          "4/4/20"
         ],
         "y": [
          259,
          400,
          500,
          673,
          1073,
          1695,
          2277,
          2277,
          5232,
          6391,
          7798,
          9942,
          11748,
          13910,
          17963,
          20410,
          25374,
          28768,
          35136,
          39885,
          49515,
          57786,
          65719,
          73235,
          80110,
          87956,
          95923,
          104118,
          112065,
          119199,
          126168
         ]
        },
        {
         "name": "Italy",
         "type": "scatter",
         "x": [
          "3/5/20",
          "3/6/20",
          "3/7/20",
          "3/8/20",
          "3/9/20",
          "3/10/20",
          "3/11/20",
          "3/12/20",
          "3/13/20",
          "3/14/20",
          "3/15/20",
          "3/16/20",
          "3/17/20",
          "3/18/20",
          "3/19/20",
          "3/20/20",
          "3/21/20",
          "3/22/20",
          "3/23/20",
          "3/24/20",
          "3/25/20",
          "3/26/20",
          "3/27/20",
          "3/28/20",
          "3/29/20",
          "3/30/20",
          "3/31/20",
          "4/1/20",
          "4/2/20",
          "4/3/20",
          "4/4/20"
         ],
         "y": [
          3858,
          4636,
          5883,
          7375,
          9172,
          10149,
          12462,
          12462,
          17660,
          21157,
          24747,
          27980,
          31506,
          35713,
          41035,
          47021,
          53578,
          59138,
          63927,
          69176,
          74386,
          80589,
          86498,
          92472,
          97689,
          101739,
          105792,
          110574,
          115242,
          119827,
          124632
         ]
        },
        {
         "name": "Germany",
         "type": "scatter",
         "x": [
          "3/5/20",
          "3/6/20",
          "3/7/20",
          "3/8/20",
          "3/9/20",
          "3/10/20",
          "3/11/20",
          "3/12/20",
          "3/13/20",
          "3/14/20",
          "3/15/20",
          "3/16/20",
          "3/17/20",
          "3/18/20",
          "3/19/20",
          "3/20/20",
          "3/21/20",
          "3/22/20",
          "3/23/20",
          "3/24/20",
          "3/25/20",
          "3/26/20",
          "3/27/20",
          "3/28/20",
          "3/29/20",
          "3/30/20",
          "3/31/20",
          "4/1/20",
          "4/2/20",
          "4/3/20",
          "4/4/20"
         ],
         "y": [
          482,
          670,
          799,
          1040,
          1176,
          1457,
          1908,
          2078,
          3675,
          4585,
          5795,
          7272,
          9257,
          12327,
          15320,
          19848,
          22213,
          24873,
          29056,
          32986,
          37323,
          43938,
          50871,
          57695,
          62095,
          66885,
          71808,
          77872,
          84794,
          91159,
          96092
         ]
        },
        {
         "name": "France",
         "type": "scatter",
         "x": [
          "3/5/20",
          "3/6/20",
          "3/7/20",
          "3/8/20",
          "3/9/20",
          "3/10/20",
          "3/11/20",
          "3/12/20",
          "3/13/20",
          "3/14/20",
          "3/15/20",
          "3/16/20",
          "3/17/20",
          "3/18/20",
          "3/19/20",
          "3/20/20",
          "3/21/20",
          "3/22/20",
          "3/23/20",
          "3/24/20",
          "3/25/20",
          "3/26/20",
          "3/27/20",
          "3/28/20",
          "3/29/20",
          "3/30/20",
          "3/31/20",
          "4/1/20",
          "4/2/20",
          "4/3/20",
          "4/4/20"
         ],
         "y": [
          377,
          653,
          949,
          1126,
          1209,
          1784,
          2281,
          2281,
          3661,
          4469,
          4499,
          6633,
          7652,
          9043,
          10871,
          12612,
          14282,
          16018,
          19856,
          22304,
          25233,
          29155,
          32964,
          37575,
          40174,
          44550,
          52128,
          56989,
          59105,
          64338,
          89953
         ]
        },
        {
         "name": "China",
         "type": "scatter",
         "x": [
          "3/5/20",
          "3/6/20",
          "3/7/20",
          "3/8/20",
          "3/9/20",
          "3/10/20",
          "3/11/20",
          "3/12/20",
          "3/13/20",
          "3/14/20",
          "3/15/20",
          "3/16/20",
          "3/17/20",
          "3/18/20",
          "3/19/20",
          "3/20/20",
          "3/21/20",
          "3/22/20",
          "3/23/20",
          "3/24/20",
          "3/25/20",
          "3/26/20",
          "3/27/20",
          "3/28/20",
          "3/29/20",
          "3/30/20",
          "3/31/20",
          "4/1/20",
          "4/2/20",
          "4/3/20",
          "4/4/20"
         ],
         "y": [
          80537,
          80690,
          80770,
          80823,
          80860,
          80887,
          80921,
          80932,
          80945,
          80977,
          81003,
          81033,
          81058,
          81102,
          81156,
          81250,
          81305,
          81435,
          81498,
          81591,
          81661,
          81782,
          81897,
          81999,
          82122,
          82198,
          82279,
          82361,
          82432,
          82511,
          82543
         ]
        },
        {
         "name": "Iran",
         "type": "scatter",
         "x": [
          "3/5/20",
          "3/6/20",
          "3/7/20",
          "3/8/20",
          "3/9/20",
          "3/10/20",
          "3/11/20",
          "3/12/20",
          "3/13/20",
          "3/14/20",
          "3/15/20",
          "3/16/20",
          "3/17/20",
          "3/18/20",
          "3/19/20",
          "3/20/20",
          "3/21/20",
          "3/22/20",
          "3/23/20",
          "3/24/20",
          "3/25/20",
          "3/26/20",
          "3/27/20",
          "3/28/20",
          "3/29/20",
          "3/30/20",
          "3/31/20",
          "4/1/20",
          "4/2/20",
          "4/3/20",
          "4/4/20"
         ],
         "y": [
          3513,
          4747,
          5823,
          6566,
          7161,
          8042,
          9000,
          10075,
          11364,
          12729,
          13938,
          14991,
          16169,
          17361,
          18407,
          19644,
          20610,
          21638,
          23049,
          24811,
          27017,
          29406,
          32332,
          35408,
          38309,
          41495,
          44605,
          47593,
          50468,
          53183,
          55743
         ]
        },
        {
         "name": "United Kingdom",
         "type": "scatter",
         "x": [
          "3/5/20",
          "3/6/20",
          "3/7/20",
          "3/8/20",
          "3/9/20",
          "3/10/20",
          "3/11/20",
          "3/12/20",
          "3/13/20",
          "3/14/20",
          "3/15/20",
          "3/16/20",
          "3/17/20",
          "3/18/20",
          "3/19/20",
          "3/20/20",
          "3/21/20",
          "3/22/20",
          "3/23/20",
          "3/24/20",
          "3/25/20",
          "3/26/20",
          "3/27/20",
          "3/28/20",
          "3/29/20",
          "3/30/20",
          "3/31/20",
          "4/1/20",
          "4/2/20",
          "4/3/20",
          "4/4/20"
         ],
         "y": [
          115,
          163,
          206,
          273,
          321,
          382,
          456,
          456,
          798,
          1140,
          1140,
          1543,
          1950,
          2626,
          2689,
          3983,
          5018,
          5683,
          6650,
          8077,
          9529,
          11658,
          14543,
          17089,
          19522,
          22141,
          25150,
          29474,
          33718,
          38168,
          41903
         ]
        },
        {
         "name": "Turkey",
         "type": "scatter",
         "x": [
          "3/5/20",
          "3/6/20",
          "3/7/20",
          "3/8/20",
          "3/9/20",
          "3/10/20",
          "3/11/20",
          "3/12/20",
          "3/13/20",
          "3/14/20",
          "3/15/20",
          "3/16/20",
          "3/17/20",
          "3/18/20",
          "3/19/20",
          "3/20/20",
          "3/21/20",
          "3/22/20",
          "3/23/20",
          "3/24/20",
          "3/25/20",
          "3/26/20",
          "3/27/20",
          "3/28/20",
          "3/29/20",
          "3/30/20",
          "3/31/20",
          "4/1/20",
          "4/2/20",
          "4/3/20",
          "4/4/20"
         ],
         "y": [
          0,
          0,
          0,
          0,
          0,
          0,
          1,
          1,
          5,
          5,
          6,
          18,
          47,
          98,
          192,
          359,
          670,
          1236,
          1529,
          1872,
          2433,
          3629,
          5698,
          7402,
          9217,
          10827,
          13531,
          15679,
          18135,
          20921,
          23934
         ]
        },
        {
         "name": "Switzerland",
         "type": "scatter",
         "x": [
          "3/5/20",
          "3/6/20",
          "3/7/20",
          "3/8/20",
          "3/9/20",
          "3/10/20",
          "3/11/20",
          "3/12/20",
          "3/13/20",
          "3/14/20",
          "3/15/20",
          "3/16/20",
          "3/17/20",
          "3/18/20",
          "3/19/20",
          "3/20/20",
          "3/21/20",
          "3/22/20",
          "3/23/20",
          "3/24/20",
          "3/25/20",
          "3/26/20",
          "3/27/20",
          "3/28/20",
          "3/29/20",
          "3/30/20",
          "3/31/20",
          "4/1/20",
          "4/2/20",
          "4/3/20",
          "4/4/20"
         ],
         "y": [
          114,
          214,
          268,
          337,
          374,
          491,
          652,
          652,
          1139,
          1359,
          2200,
          2200,
          2700,
          3028,
          4075,
          5294,
          6575,
          7474,
          8795,
          9877,
          10897,
          11811,
          12928,
          14076,
          14829,
          15922,
          16605,
          17768,
          18827,
          19606,
          20505
         ]
        },
        {
         "name": "Belgium",
         "type": "scatter",
         "x": [
          "3/5/20",
          "3/6/20",
          "3/7/20",
          "3/8/20",
          "3/9/20",
          "3/10/20",
          "3/11/20",
          "3/12/20",
          "3/13/20",
          "3/14/20",
          "3/15/20",
          "3/16/20",
          "3/17/20",
          "3/18/20",
          "3/19/20",
          "3/20/20",
          "3/21/20",
          "3/22/20",
          "3/23/20",
          "3/24/20",
          "3/25/20",
          "3/26/20",
          "3/27/20",
          "3/28/20",
          "3/29/20",
          "3/30/20",
          "3/31/20",
          "4/1/20",
          "4/2/20",
          "4/3/20",
          "4/4/20"
         ],
         "y": [
          50,
          109,
          169,
          200,
          239,
          267,
          314,
          314,
          559,
          689,
          886,
          1058,
          1243,
          1486,
          1795,
          2257,
          2815,
          3401,
          3743,
          4269,
          4937,
          6235,
          7284,
          9134,
          10836,
          11899,
          12775,
          13964,
          15348,
          16770,
          18431
         ]
        }
       ],
       "layout": {
        "template": {
         "data": {
          "bar": [
           {
            "error_x": {
             "color": "#2a3f5f"
            },
            "error_y": {
             "color": "#2a3f5f"
            },
            "marker": {
             "line": {
              "color": "#E5ECF6",
              "width": 0.5
             }
            },
            "type": "bar"
           }
          ],
          "barpolar": [
           {
            "marker": {
             "line": {
              "color": "#E5ECF6",
              "width": 0.5
             }
            },
            "type": "barpolar"
           }
          ],
          "carpet": [
           {
            "aaxis": {
             "endlinecolor": "#2a3f5f",
             "gridcolor": "white",
             "linecolor": "white",
             "minorgridcolor": "white",
             "startlinecolor": "#2a3f5f"
            },
            "baxis": {
             "endlinecolor": "#2a3f5f",
             "gridcolor": "white",
             "linecolor": "white",
             "minorgridcolor": "white",
             "startlinecolor": "#2a3f5f"
            },
            "type": "carpet"
           }
          ],
          "choropleth": [
           {
            "colorbar": {
             "outlinewidth": 0,
             "ticks": ""
            },
            "type": "choropleth"
           }
          ],
          "contour": [
           {
            "colorbar": {
             "outlinewidth": 0,
             "ticks": ""
            },
            "colorscale": [
             [
              0,
              "#0d0887"
             ],
             [
              0.1111111111111111,
              "#46039f"
             ],
             [
              0.2222222222222222,
              "#7201a8"
             ],
             [
              0.3333333333333333,
              "#9c179e"
             ],
             [
              0.4444444444444444,
              "#bd3786"
             ],
             [
              0.5555555555555556,
              "#d8576b"
             ],
             [
              0.6666666666666666,
              "#ed7953"
             ],
             [
              0.7777777777777778,
              "#fb9f3a"
             ],
             [
              0.8888888888888888,
              "#fdca26"
             ],
             [
              1,
              "#f0f921"
             ]
            ],
            "type": "contour"
           }
          ],
          "contourcarpet": [
           {
            "colorbar": {
             "outlinewidth": 0,
             "ticks": ""
            },
            "type": "contourcarpet"
           }
          ],
          "heatmap": [
           {
            "colorbar": {
             "outlinewidth": 0,
             "ticks": ""
            },
            "colorscale": [
             [
              0,
              "#0d0887"
             ],
             [
              0.1111111111111111,
              "#46039f"
             ],
             [
              0.2222222222222222,
              "#7201a8"
             ],
             [
              0.3333333333333333,
              "#9c179e"
             ],
             [
              0.4444444444444444,
              "#bd3786"
             ],
             [
              0.5555555555555556,
              "#d8576b"
             ],
             [
              0.6666666666666666,
              "#ed7953"
             ],
             [
              0.7777777777777778,
              "#fb9f3a"
             ],
             [
              0.8888888888888888,
              "#fdca26"
             ],
             [
              1,
              "#f0f921"
             ]
            ],
            "type": "heatmap"
           }
          ],
          "heatmapgl": [
           {
            "colorbar": {
             "outlinewidth": 0,
             "ticks": ""
            },
            "colorscale": [
             [
              0,
              "#0d0887"
             ],
             [
              0.1111111111111111,
              "#46039f"
             ],
             [
              0.2222222222222222,
              "#7201a8"
             ],
             [
              0.3333333333333333,
              "#9c179e"
             ],
             [
              0.4444444444444444,
              "#bd3786"
             ],
             [
              0.5555555555555556,
              "#d8576b"
             ],
             [
              0.6666666666666666,
              "#ed7953"
             ],
             [
              0.7777777777777778,
              "#fb9f3a"
             ],
             [
              0.8888888888888888,
              "#fdca26"
             ],
             [
              1,
              "#f0f921"
             ]
            ],
            "type": "heatmapgl"
           }
          ],
          "histogram": [
           {
            "marker": {
             "colorbar": {
              "outlinewidth": 0,
              "ticks": ""
             }
            },
            "type": "histogram"
           }
          ],
          "histogram2d": [
           {
            "colorbar": {
             "outlinewidth": 0,
             "ticks": ""
            },
            "colorscale": [
             [
              0,
              "#0d0887"
             ],
             [
              0.1111111111111111,
              "#46039f"
             ],
             [
              0.2222222222222222,
              "#7201a8"
             ],
             [
              0.3333333333333333,
              "#9c179e"
             ],
             [
              0.4444444444444444,
              "#bd3786"
             ],
             [
              0.5555555555555556,
              "#d8576b"
             ],
             [
              0.6666666666666666,
              "#ed7953"
             ],
             [
              0.7777777777777778,
              "#fb9f3a"
             ],
             [
              0.8888888888888888,
              "#fdca26"
             ],
             [
              1,
              "#f0f921"
             ]
            ],
            "type": "histogram2d"
           }
          ],
          "histogram2dcontour": [
           {
            "colorbar": {
             "outlinewidth": 0,
             "ticks": ""
            },
            "colorscale": [
             [
              0,
              "#0d0887"
             ],
             [
              0.1111111111111111,
              "#46039f"
             ],
             [
              0.2222222222222222,
              "#7201a8"
             ],
             [
              0.3333333333333333,
              "#9c179e"
             ],
             [
              0.4444444444444444,
              "#bd3786"
             ],
             [
              0.5555555555555556,
              "#d8576b"
             ],
             [
              0.6666666666666666,
              "#ed7953"
             ],
             [
              0.7777777777777778,
              "#fb9f3a"
             ],
             [
              0.8888888888888888,
              "#fdca26"
             ],
             [
              1,
              "#f0f921"
             ]
            ],
            "type": "histogram2dcontour"
           }
          ],
          "mesh3d": [
           {
            "colorbar": {
             "outlinewidth": 0,
             "ticks": ""
            },
            "type": "mesh3d"
           }
          ],
          "parcoords": [
           {
            "line": {
             "colorbar": {
              "outlinewidth": 0,
              "ticks": ""
             }
            },
            "type": "parcoords"
           }
          ],
          "pie": [
           {
            "automargin": true,
            "type": "pie"
           }
          ],
          "scatter": [
           {
            "marker": {
             "colorbar": {
              "outlinewidth": 0,
              "ticks": ""
             }
            },
            "type": "scatter"
           }
          ],
          "scatter3d": [
           {
            "line": {
             "colorbar": {
              "outlinewidth": 0,
              "ticks": ""
             }
            },
            "marker": {
             "colorbar": {
              "outlinewidth": 0,
              "ticks": ""
             }
            },
            "type": "scatter3d"
           }
          ],
          "scattercarpet": [
           {
            "marker": {
             "colorbar": {
              "outlinewidth": 0,
              "ticks": ""
             }
            },
            "type": "scattercarpet"
           }
          ],
          "scattergeo": [
           {
            "marker": {
             "colorbar": {
              "outlinewidth": 0,
              "ticks": ""
             }
            },
            "type": "scattergeo"
           }
          ],
          "scattergl": [
           {
            "marker": {
             "colorbar": {
              "outlinewidth": 0,
              "ticks": ""
             }
            },
            "type": "scattergl"
           }
          ],
          "scattermapbox": [
           {
            "marker": {
             "colorbar": {
              "outlinewidth": 0,
              "ticks": ""
             }
            },
            "type": "scattermapbox"
           }
          ],
          "scatterpolar": [
           {
            "marker": {
             "colorbar": {
              "outlinewidth": 0,
              "ticks": ""
             }
            },
            "type": "scatterpolar"
           }
          ],
          "scatterpolargl": [
           {
            "marker": {
             "colorbar": {
              "outlinewidth": 0,
              "ticks": ""
             }
            },
            "type": "scatterpolargl"
           }
          ],
          "scatterternary": [
           {
            "marker": {
             "colorbar": {
              "outlinewidth": 0,
              "ticks": ""
             }
            },
            "type": "scatterternary"
           }
          ],
          "surface": [
           {
            "colorbar": {
             "outlinewidth": 0,
             "ticks": ""
            },
            "colorscale": [
             [
              0,
              "#0d0887"
             ],
             [
              0.1111111111111111,
              "#46039f"
             ],
             [
              0.2222222222222222,
              "#7201a8"
             ],
             [
              0.3333333333333333,
              "#9c179e"
             ],
             [
              0.4444444444444444,
              "#bd3786"
             ],
             [
              0.5555555555555556,
              "#d8576b"
             ],
             [
              0.6666666666666666,
              "#ed7953"
             ],
             [
              0.7777777777777778,
              "#fb9f3a"
             ],
             [
              0.8888888888888888,
              "#fdca26"
             ],
             [
              1,
              "#f0f921"
             ]
            ],
            "type": "surface"
           }
          ],
          "table": [
           {
            "cells": {
             "fill": {
              "color": "#EBF0F8"
             },
             "line": {
              "color": "white"
             }
            },
            "header": {
             "fill": {
              "color": "#C8D4E3"
             },
             "line": {
              "color": "white"
             }
            },
            "type": "table"
           }
          ]
         },
         "layout": {
          "annotationdefaults": {
           "arrowcolor": "#2a3f5f",
           "arrowhead": 0,
           "arrowwidth": 1
          },
          "coloraxis": {
           "colorbar": {
            "outlinewidth": 0,
            "ticks": ""
           }
          },
          "colorscale": {
           "diverging": [
            [
             0,
             "#8e0152"
            ],
            [
             0.1,
             "#c51b7d"
            ],
            [
             0.2,
             "#de77ae"
            ],
            [
             0.3,
             "#f1b6da"
            ],
            [
             0.4,
             "#fde0ef"
            ],
            [
             0.5,
             "#f7f7f7"
            ],
            [
             0.6,
             "#e6f5d0"
            ],
            [
             0.7,
             "#b8e186"
            ],
            [
             0.8,
             "#7fbc41"
            ],
            [
             0.9,
             "#4d9221"
            ],
            [
             1,
             "#276419"
            ]
           ],
           "sequential": [
            [
             0,
             "#0d0887"
            ],
            [
             0.1111111111111111,
             "#46039f"
            ],
            [
             0.2222222222222222,
             "#7201a8"
            ],
            [
             0.3333333333333333,
             "#9c179e"
            ],
            [
             0.4444444444444444,
             "#bd3786"
            ],
            [
             0.5555555555555556,
             "#d8576b"
            ],
            [
             0.6666666666666666,
             "#ed7953"
            ],
            [
             0.7777777777777778,
             "#fb9f3a"
            ],
            [
             0.8888888888888888,
             "#fdca26"
            ],
            [
             1,
             "#f0f921"
            ]
           ],
           "sequentialminus": [
            [
             0,
             "#0d0887"
            ],
            [
             0.1111111111111111,
             "#46039f"
            ],
            [
             0.2222222222222222,
             "#7201a8"
            ],
            [
             0.3333333333333333,
             "#9c179e"
            ],
            [
             0.4444444444444444,
             "#bd3786"
            ],
            [
             0.5555555555555556,
             "#d8576b"
            ],
            [
             0.6666666666666666,
             "#ed7953"
            ],
            [
             0.7777777777777778,
             "#fb9f3a"
            ],
            [
             0.8888888888888888,
             "#fdca26"
            ],
            [
             1,
             "#f0f921"
            ]
           ]
          },
          "colorway": [
           "#636efa",
           "#EF553B",
           "#00cc96",
           "#ab63fa",
           "#FFA15A",
           "#19d3f3",
           "#FF6692",
           "#B6E880",
           "#FF97FF",
           "#FECB52"
          ],
          "font": {
           "color": "#2a3f5f"
          },
          "geo": {
           "bgcolor": "white",
           "lakecolor": "white",
           "landcolor": "#E5ECF6",
           "showlakes": true,
           "showland": true,
           "subunitcolor": "white"
          },
          "hoverlabel": {
           "align": "left"
          },
          "hovermode": "closest",
          "mapbox": {
           "style": "light"
          },
          "paper_bgcolor": "white",
          "plot_bgcolor": "#E5ECF6",
          "polar": {
           "angularaxis": {
            "gridcolor": "white",
            "linecolor": "white",
            "ticks": ""
           },
           "bgcolor": "#E5ECF6",
           "radialaxis": {
            "gridcolor": "white",
            "linecolor": "white",
            "ticks": ""
           }
          },
          "scene": {
           "xaxis": {
            "backgroundcolor": "#E5ECF6",
            "gridcolor": "white",
            "gridwidth": 2,
            "linecolor": "white",
            "showbackground": true,
            "ticks": "",
            "zerolinecolor": "white"
           },
           "yaxis": {
            "backgroundcolor": "#E5ECF6",
            "gridcolor": "white",
            "gridwidth": 2,
            "linecolor": "white",
            "showbackground": true,
            "ticks": "",
            "zerolinecolor": "white"
           },
           "zaxis": {
            "backgroundcolor": "#E5ECF6",
            "gridcolor": "white",
            "gridwidth": 2,
            "linecolor": "white",
            "showbackground": true,
            "ticks": "",
            "zerolinecolor": "white"
           }
          },
          "shapedefaults": {
           "line": {
            "color": "#2a3f5f"
           }
          },
          "ternary": {
           "aaxis": {
            "gridcolor": "white",
            "linecolor": "white",
            "ticks": ""
           },
           "baxis": {
            "gridcolor": "white",
            "linecolor": "white",
            "ticks": ""
           },
           "bgcolor": "#E5ECF6",
           "caxis": {
            "gridcolor": "white",
            "linecolor": "white",
            "ticks": ""
           }
          },
          "title": {
           "x": 0.05
          },
          "xaxis": {
           "automargin": true,
           "gridcolor": "white",
           "linecolor": "white",
           "ticks": "",
           "title": {
            "standoff": 15
           },
           "zerolinecolor": "white",
           "zerolinewidth": 2
          },
          "yaxis": {
           "automargin": true,
           "gridcolor": "white",
           "linecolor": "white",
           "ticks": "",
           "title": {
            "standoff": 15
           },
           "zerolinecolor": "white",
           "zerolinewidth": 2
          }
         }
        },
        "title": {
         "text": "World Cumulative Confirmed Cases"
        },
        "updatemenus": [
         {
          "active": 0,
          "buttons": [
           {
            "args": [
             {
              "visible": [
               true,
               true
              ]
             },
             {
              "yaxis": {
               "type": "linear"
              }
             }
            ],
            "label": "Linear Scale",
            "method": "update"
           },
           {
            "args": [
             {
              "visible": [
               true,
               true
              ]
             },
             {
              "yaxis": {
               "type": "log"
              }
             }
            ],
            "label": "Logarithmic Scale",
            "method": "update"
           }
          ],
          "direction": "right",
          "type": "buttons",
          "x": 0.45,
          "xanchor": "left",
          "y": 1.1,
          "yanchor": "top"
         }
        ]
       }
      },
      "text/html": [
       "<div>\n",
       "        \n",
       "        \n",
       "            <div id=\"fe1532d7-2119-4731-afec-6ccff7435ee5\" class=\"plotly-graph-div\" style=\"height:525px; width:100%;\"></div>\n",
       "            <script type=\"text/javascript\">\n",
       "                require([\"plotly\"], function(Plotly) {\n",
       "                    window.PLOTLYENV=window.PLOTLYENV || {};\n",
       "                    \n",
       "                if (document.getElementById(\"fe1532d7-2119-4731-afec-6ccff7435ee5\")) {\n",
       "                    Plotly.newPlot(\n",
       "                        'fe1532d7-2119-4731-afec-6ccff7435ee5',\n",
       "                        [{\"name\": \"US\", \"type\": \"scatter\", \"x\": [\"3/5/20\", \"3/6/20\", \"3/7/20\", \"3/8/20\", \"3/9/20\", \"3/10/20\", \"3/11/20\", \"3/12/20\", \"3/13/20\", \"3/14/20\", \"3/15/20\", \"3/16/20\", \"3/17/20\", \"3/18/20\", \"3/19/20\", \"3/20/20\", \"3/21/20\", \"3/22/20\", \"3/23/20\", \"3/24/20\", \"3/25/20\", \"3/26/20\", \"3/27/20\", \"3/28/20\", \"3/29/20\", \"3/30/20\", \"3/31/20\", \"4/1/20\", \"4/2/20\", \"4/3/20\", \"4/4/20\"], \"y\": [217.0, 262.0, 402.0, 518.0, 583.0, 959.0, 1281.0, 1663.0, 2179.0, 2727.0, 3499.0, 4632.0, 6421.0, 7783.0, 13677.0, 19100.0, 25489.0, 33276.0, 43847.0, 53740.0, 65778.0, 83836.0, 101657.0, 121478.0, 140886.0, 161807.0, 188172.0, 213372.0, 243453.0, 275586.0, 308850.0]}, {\"name\": \"Spain\", \"type\": \"scatter\", \"x\": [\"3/5/20\", \"3/6/20\", \"3/7/20\", \"3/8/20\", \"3/9/20\", \"3/10/20\", \"3/11/20\", \"3/12/20\", \"3/13/20\", \"3/14/20\", \"3/15/20\", \"3/16/20\", \"3/17/20\", \"3/18/20\", \"3/19/20\", \"3/20/20\", \"3/21/20\", \"3/22/20\", \"3/23/20\", \"3/24/20\", \"3/25/20\", \"3/26/20\", \"3/27/20\", \"3/28/20\", \"3/29/20\", \"3/30/20\", \"3/31/20\", \"4/1/20\", \"4/2/20\", \"4/3/20\", \"4/4/20\"], \"y\": [259.0, 400.0, 500.0, 673.0, 1073.0, 1695.0, 2277.0, 2277.0, 5232.0, 6391.0, 7798.0, 9942.0, 11748.0, 13910.0, 17963.0, 20410.0, 25374.0, 28768.0, 35136.0, 39885.0, 49515.0, 57786.0, 65719.0, 73235.0, 80110.0, 87956.0, 95923.0, 104118.0, 112065.0, 119199.0, 126168.0]}, {\"name\": \"Italy\", \"type\": \"scatter\", \"x\": [\"3/5/20\", \"3/6/20\", \"3/7/20\", \"3/8/20\", \"3/9/20\", \"3/10/20\", \"3/11/20\", \"3/12/20\", \"3/13/20\", \"3/14/20\", \"3/15/20\", \"3/16/20\", \"3/17/20\", \"3/18/20\", \"3/19/20\", \"3/20/20\", \"3/21/20\", \"3/22/20\", \"3/23/20\", \"3/24/20\", \"3/25/20\", \"3/26/20\", \"3/27/20\", \"3/28/20\", \"3/29/20\", \"3/30/20\", \"3/31/20\", \"4/1/20\", \"4/2/20\", \"4/3/20\", \"4/4/20\"], \"y\": [3858.0, 4636.0, 5883.0, 7375.0, 9172.0, 10149.0, 12462.0, 12462.0, 17660.0, 21157.0, 24747.0, 27980.0, 31506.0, 35713.0, 41035.0, 47021.0, 53578.0, 59138.0, 63927.0, 69176.0, 74386.0, 80589.0, 86498.0, 92472.0, 97689.0, 101739.0, 105792.0, 110574.0, 115242.0, 119827.0, 124632.0]}, {\"name\": \"Germany\", \"type\": \"scatter\", \"x\": [\"3/5/20\", \"3/6/20\", \"3/7/20\", \"3/8/20\", \"3/9/20\", \"3/10/20\", \"3/11/20\", \"3/12/20\", \"3/13/20\", \"3/14/20\", \"3/15/20\", \"3/16/20\", \"3/17/20\", \"3/18/20\", \"3/19/20\", \"3/20/20\", \"3/21/20\", \"3/22/20\", \"3/23/20\", \"3/24/20\", \"3/25/20\", \"3/26/20\", \"3/27/20\", \"3/28/20\", \"3/29/20\", \"3/30/20\", \"3/31/20\", \"4/1/20\", \"4/2/20\", \"4/3/20\", \"4/4/20\"], \"y\": [482.0, 670.0, 799.0, 1040.0, 1176.0, 1457.0, 1908.0, 2078.0, 3675.0, 4585.0, 5795.0, 7272.0, 9257.0, 12327.0, 15320.0, 19848.0, 22213.0, 24873.0, 29056.0, 32986.0, 37323.0, 43938.0, 50871.0, 57695.0, 62095.0, 66885.0, 71808.0, 77872.0, 84794.0, 91159.0, 96092.0]}, {\"name\": \"France\", \"type\": \"scatter\", \"x\": [\"3/5/20\", \"3/6/20\", \"3/7/20\", \"3/8/20\", \"3/9/20\", \"3/10/20\", \"3/11/20\", \"3/12/20\", \"3/13/20\", \"3/14/20\", \"3/15/20\", \"3/16/20\", \"3/17/20\", \"3/18/20\", \"3/19/20\", \"3/20/20\", \"3/21/20\", \"3/22/20\", \"3/23/20\", \"3/24/20\", \"3/25/20\", \"3/26/20\", \"3/27/20\", \"3/28/20\", \"3/29/20\", \"3/30/20\", \"3/31/20\", \"4/1/20\", \"4/2/20\", \"4/3/20\", \"4/4/20\"], \"y\": [377.0, 653.0, 949.0, 1126.0, 1209.0, 1784.0, 2281.0, 2281.0, 3661.0, 4469.0, 4499.0, 6633.0, 7652.0, 9043.0, 10871.0, 12612.0, 14282.0, 16018.0, 19856.0, 22304.0, 25233.0, 29155.0, 32964.0, 37575.0, 40174.0, 44550.0, 52128.0, 56989.0, 59105.0, 64338.0, 89953.0]}, {\"name\": \"China\", \"type\": \"scatter\", \"x\": [\"3/5/20\", \"3/6/20\", \"3/7/20\", \"3/8/20\", \"3/9/20\", \"3/10/20\", \"3/11/20\", \"3/12/20\", \"3/13/20\", \"3/14/20\", \"3/15/20\", \"3/16/20\", \"3/17/20\", \"3/18/20\", \"3/19/20\", \"3/20/20\", \"3/21/20\", \"3/22/20\", \"3/23/20\", \"3/24/20\", \"3/25/20\", \"3/26/20\", \"3/27/20\", \"3/28/20\", \"3/29/20\", \"3/30/20\", \"3/31/20\", \"4/1/20\", \"4/2/20\", \"4/3/20\", \"4/4/20\"], \"y\": [80537.0, 80690.0, 80770.0, 80823.0, 80860.0, 80887.0, 80921.0, 80932.0, 80945.0, 80977.0, 81003.0, 81033.0, 81058.0, 81102.0, 81156.0, 81250.0, 81305.0, 81435.0, 81498.0, 81591.0, 81661.0, 81782.0, 81897.0, 81999.0, 82122.0, 82198.0, 82279.0, 82361.0, 82432.0, 82511.0, 82543.0]}, {\"name\": \"Iran\", \"type\": \"scatter\", \"x\": [\"3/5/20\", \"3/6/20\", \"3/7/20\", \"3/8/20\", \"3/9/20\", \"3/10/20\", \"3/11/20\", \"3/12/20\", \"3/13/20\", \"3/14/20\", \"3/15/20\", \"3/16/20\", \"3/17/20\", \"3/18/20\", \"3/19/20\", \"3/20/20\", \"3/21/20\", \"3/22/20\", \"3/23/20\", \"3/24/20\", \"3/25/20\", \"3/26/20\", \"3/27/20\", \"3/28/20\", \"3/29/20\", \"3/30/20\", \"3/31/20\", \"4/1/20\", \"4/2/20\", \"4/3/20\", \"4/4/20\"], \"y\": [3513.0, 4747.0, 5823.0, 6566.0, 7161.0, 8042.0, 9000.0, 10075.0, 11364.0, 12729.0, 13938.0, 14991.0, 16169.0, 17361.0, 18407.0, 19644.0, 20610.0, 21638.0, 23049.0, 24811.0, 27017.0, 29406.0, 32332.0, 35408.0, 38309.0, 41495.0, 44605.0, 47593.0, 50468.0, 53183.0, 55743.0]}, {\"name\": \"United Kingdom\", \"type\": \"scatter\", \"x\": [\"3/5/20\", \"3/6/20\", \"3/7/20\", \"3/8/20\", \"3/9/20\", \"3/10/20\", \"3/11/20\", \"3/12/20\", \"3/13/20\", \"3/14/20\", \"3/15/20\", \"3/16/20\", \"3/17/20\", \"3/18/20\", \"3/19/20\", \"3/20/20\", \"3/21/20\", \"3/22/20\", \"3/23/20\", \"3/24/20\", \"3/25/20\", \"3/26/20\", \"3/27/20\", \"3/28/20\", \"3/29/20\", \"3/30/20\", \"3/31/20\", \"4/1/20\", \"4/2/20\", \"4/3/20\", \"4/4/20\"], \"y\": [115.0, 163.0, 206.0, 273.0, 321.0, 382.0, 456.0, 456.0, 798.0, 1140.0, 1140.0, 1543.0, 1950.0, 2626.0, 2689.0, 3983.0, 5018.0, 5683.0, 6650.0, 8077.0, 9529.0, 11658.0, 14543.0, 17089.0, 19522.0, 22141.0, 25150.0, 29474.0, 33718.0, 38168.0, 41903.0]}, {\"name\": \"Turkey\", \"type\": \"scatter\", \"x\": [\"3/5/20\", \"3/6/20\", \"3/7/20\", \"3/8/20\", \"3/9/20\", \"3/10/20\", \"3/11/20\", \"3/12/20\", \"3/13/20\", \"3/14/20\", \"3/15/20\", \"3/16/20\", \"3/17/20\", \"3/18/20\", \"3/19/20\", \"3/20/20\", \"3/21/20\", \"3/22/20\", \"3/23/20\", \"3/24/20\", \"3/25/20\", \"3/26/20\", \"3/27/20\", \"3/28/20\", \"3/29/20\", \"3/30/20\", \"3/31/20\", \"4/1/20\", \"4/2/20\", \"4/3/20\", \"4/4/20\"], \"y\": [0.0, 0.0, 0.0, 0.0, 0.0, 0.0, 1.0, 1.0, 5.0, 5.0, 6.0, 18.0, 47.0, 98.0, 192.0, 359.0, 670.0, 1236.0, 1529.0, 1872.0, 2433.0, 3629.0, 5698.0, 7402.0, 9217.0, 10827.0, 13531.0, 15679.0, 18135.0, 20921.0, 23934.0]}, {\"name\": \"Switzerland\", \"type\": \"scatter\", \"x\": [\"3/5/20\", \"3/6/20\", \"3/7/20\", \"3/8/20\", \"3/9/20\", \"3/10/20\", \"3/11/20\", \"3/12/20\", \"3/13/20\", \"3/14/20\", \"3/15/20\", \"3/16/20\", \"3/17/20\", \"3/18/20\", \"3/19/20\", \"3/20/20\", \"3/21/20\", \"3/22/20\", \"3/23/20\", \"3/24/20\", \"3/25/20\", \"3/26/20\", \"3/27/20\", \"3/28/20\", \"3/29/20\", \"3/30/20\", \"3/31/20\", \"4/1/20\", \"4/2/20\", \"4/3/20\", \"4/4/20\"], \"y\": [114.0, 214.0, 268.0, 337.0, 374.0, 491.0, 652.0, 652.0, 1139.0, 1359.0, 2200.0, 2200.0, 2700.0, 3028.0, 4075.0, 5294.0, 6575.0, 7474.0, 8795.0, 9877.0, 10897.0, 11811.0, 12928.0, 14076.0, 14829.0, 15922.0, 16605.0, 17768.0, 18827.0, 19606.0, 20505.0]}, {\"name\": \"Belgium\", \"type\": \"scatter\", \"x\": [\"3/5/20\", \"3/6/20\", \"3/7/20\", \"3/8/20\", \"3/9/20\", \"3/10/20\", \"3/11/20\", \"3/12/20\", \"3/13/20\", \"3/14/20\", \"3/15/20\", \"3/16/20\", \"3/17/20\", \"3/18/20\", \"3/19/20\", \"3/20/20\", \"3/21/20\", \"3/22/20\", \"3/23/20\", \"3/24/20\", \"3/25/20\", \"3/26/20\", \"3/27/20\", \"3/28/20\", \"3/29/20\", \"3/30/20\", \"3/31/20\", \"4/1/20\", \"4/2/20\", \"4/3/20\", \"4/4/20\"], \"y\": [50.0, 109.0, 169.0, 200.0, 239.0, 267.0, 314.0, 314.0, 559.0, 689.0, 886.0, 1058.0, 1243.0, 1486.0, 1795.0, 2257.0, 2815.0, 3401.0, 3743.0, 4269.0, 4937.0, 6235.0, 7284.0, 9134.0, 10836.0, 11899.0, 12775.0, 13964.0, 15348.0, 16770.0, 18431.0]}],\n",
       "                        {\"template\": {\"data\": {\"bar\": [{\"error_x\": {\"color\": \"#2a3f5f\"}, \"error_y\": {\"color\": \"#2a3f5f\"}, \"marker\": {\"line\": {\"color\": \"#E5ECF6\", \"width\": 0.5}}, \"type\": \"bar\"}], \"barpolar\": [{\"marker\": {\"line\": {\"color\": \"#E5ECF6\", \"width\": 0.5}}, \"type\": \"barpolar\"}], \"carpet\": [{\"aaxis\": {\"endlinecolor\": \"#2a3f5f\", \"gridcolor\": \"white\", \"linecolor\": \"white\", \"minorgridcolor\": \"white\", \"startlinecolor\": \"#2a3f5f\"}, \"baxis\": {\"endlinecolor\": \"#2a3f5f\", \"gridcolor\": \"white\", \"linecolor\": \"white\", \"minorgridcolor\": \"white\", \"startlinecolor\": \"#2a3f5f\"}, \"type\": \"carpet\"}], \"choropleth\": [{\"colorbar\": {\"outlinewidth\": 0, \"ticks\": \"\"}, \"type\": \"choropleth\"}], \"contour\": [{\"colorbar\": {\"outlinewidth\": 0, \"ticks\": \"\"}, \"colorscale\": [[0.0, \"#0d0887\"], [0.1111111111111111, \"#46039f\"], [0.2222222222222222, \"#7201a8\"], [0.3333333333333333, \"#9c179e\"], [0.4444444444444444, \"#bd3786\"], [0.5555555555555556, \"#d8576b\"], [0.6666666666666666, \"#ed7953\"], [0.7777777777777778, \"#fb9f3a\"], [0.8888888888888888, \"#fdca26\"], [1.0, \"#f0f921\"]], \"type\": \"contour\"}], \"contourcarpet\": [{\"colorbar\": {\"outlinewidth\": 0, \"ticks\": \"\"}, \"type\": \"contourcarpet\"}], \"heatmap\": [{\"colorbar\": {\"outlinewidth\": 0, \"ticks\": \"\"}, \"colorscale\": [[0.0, \"#0d0887\"], [0.1111111111111111, \"#46039f\"], [0.2222222222222222, \"#7201a8\"], [0.3333333333333333, \"#9c179e\"], [0.4444444444444444, \"#bd3786\"], [0.5555555555555556, \"#d8576b\"], [0.6666666666666666, \"#ed7953\"], [0.7777777777777778, \"#fb9f3a\"], [0.8888888888888888, \"#fdca26\"], [1.0, \"#f0f921\"]], \"type\": \"heatmap\"}], \"heatmapgl\": [{\"colorbar\": {\"outlinewidth\": 0, \"ticks\": \"\"}, \"colorscale\": [[0.0, \"#0d0887\"], [0.1111111111111111, \"#46039f\"], [0.2222222222222222, \"#7201a8\"], [0.3333333333333333, \"#9c179e\"], [0.4444444444444444, \"#bd3786\"], [0.5555555555555556, \"#d8576b\"], [0.6666666666666666, \"#ed7953\"], [0.7777777777777778, \"#fb9f3a\"], [0.8888888888888888, \"#fdca26\"], [1.0, \"#f0f921\"]], \"type\": \"heatmapgl\"}], \"histogram\": [{\"marker\": {\"colorbar\": {\"outlinewidth\": 0, \"ticks\": \"\"}}, \"type\": \"histogram\"}], \"histogram2d\": [{\"colorbar\": {\"outlinewidth\": 0, \"ticks\": \"\"}, \"colorscale\": [[0.0, \"#0d0887\"], [0.1111111111111111, \"#46039f\"], [0.2222222222222222, \"#7201a8\"], [0.3333333333333333, \"#9c179e\"], [0.4444444444444444, \"#bd3786\"], [0.5555555555555556, \"#d8576b\"], [0.6666666666666666, \"#ed7953\"], [0.7777777777777778, \"#fb9f3a\"], [0.8888888888888888, \"#fdca26\"], [1.0, \"#f0f921\"]], \"type\": \"histogram2d\"}], \"histogram2dcontour\": [{\"colorbar\": {\"outlinewidth\": 0, \"ticks\": \"\"}, \"colorscale\": [[0.0, \"#0d0887\"], [0.1111111111111111, \"#46039f\"], [0.2222222222222222, \"#7201a8\"], [0.3333333333333333, \"#9c179e\"], [0.4444444444444444, \"#bd3786\"], [0.5555555555555556, \"#d8576b\"], [0.6666666666666666, \"#ed7953\"], [0.7777777777777778, \"#fb9f3a\"], [0.8888888888888888, \"#fdca26\"], [1.0, \"#f0f921\"]], \"type\": \"histogram2dcontour\"}], \"mesh3d\": [{\"colorbar\": {\"outlinewidth\": 0, \"ticks\": \"\"}, \"type\": \"mesh3d\"}], \"parcoords\": [{\"line\": {\"colorbar\": {\"outlinewidth\": 0, \"ticks\": \"\"}}, \"type\": \"parcoords\"}], \"pie\": [{\"automargin\": true, \"type\": \"pie\"}], \"scatter\": [{\"marker\": {\"colorbar\": {\"outlinewidth\": 0, \"ticks\": \"\"}}, \"type\": \"scatter\"}], \"scatter3d\": [{\"line\": {\"colorbar\": {\"outlinewidth\": 0, \"ticks\": \"\"}}, \"marker\": {\"colorbar\": {\"outlinewidth\": 0, \"ticks\": \"\"}}, \"type\": \"scatter3d\"}], \"scattercarpet\": [{\"marker\": {\"colorbar\": {\"outlinewidth\": 0, \"ticks\": \"\"}}, \"type\": \"scattercarpet\"}], \"scattergeo\": [{\"marker\": {\"colorbar\": {\"outlinewidth\": 0, \"ticks\": \"\"}}, \"type\": \"scattergeo\"}], \"scattergl\": [{\"marker\": {\"colorbar\": {\"outlinewidth\": 0, \"ticks\": \"\"}}, \"type\": \"scattergl\"}], \"scattermapbox\": [{\"marker\": {\"colorbar\": {\"outlinewidth\": 0, \"ticks\": \"\"}}, \"type\": \"scattermapbox\"}], \"scatterpolar\": [{\"marker\": {\"colorbar\": {\"outlinewidth\": 0, \"ticks\": \"\"}}, \"type\": \"scatterpolar\"}], \"scatterpolargl\": [{\"marker\": {\"colorbar\": {\"outlinewidth\": 0, \"ticks\": \"\"}}, \"type\": \"scatterpolargl\"}], \"scatterternary\": [{\"marker\": {\"colorbar\": {\"outlinewidth\": 0, \"ticks\": \"\"}}, \"type\": \"scatterternary\"}], \"surface\": [{\"colorbar\": {\"outlinewidth\": 0, \"ticks\": \"\"}, \"colorscale\": [[0.0, \"#0d0887\"], [0.1111111111111111, \"#46039f\"], [0.2222222222222222, \"#7201a8\"], [0.3333333333333333, \"#9c179e\"], [0.4444444444444444, \"#bd3786\"], [0.5555555555555556, \"#d8576b\"], [0.6666666666666666, \"#ed7953\"], [0.7777777777777778, \"#fb9f3a\"], [0.8888888888888888, \"#fdca26\"], [1.0, \"#f0f921\"]], \"type\": \"surface\"}], \"table\": [{\"cells\": {\"fill\": {\"color\": \"#EBF0F8\"}, \"line\": {\"color\": \"white\"}}, \"header\": {\"fill\": {\"color\": \"#C8D4E3\"}, \"line\": {\"color\": \"white\"}}, \"type\": \"table\"}]}, \"layout\": {\"annotationdefaults\": {\"arrowcolor\": \"#2a3f5f\", \"arrowhead\": 0, \"arrowwidth\": 1}, \"coloraxis\": {\"colorbar\": {\"outlinewidth\": 0, \"ticks\": \"\"}}, \"colorscale\": {\"diverging\": [[0, \"#8e0152\"], [0.1, \"#c51b7d\"], [0.2, \"#de77ae\"], [0.3, \"#f1b6da\"], [0.4, \"#fde0ef\"], [0.5, \"#f7f7f7\"], [0.6, \"#e6f5d0\"], [0.7, \"#b8e186\"], [0.8, \"#7fbc41\"], [0.9, \"#4d9221\"], [1, \"#276419\"]], \"sequential\": [[0.0, \"#0d0887\"], [0.1111111111111111, \"#46039f\"], [0.2222222222222222, \"#7201a8\"], [0.3333333333333333, \"#9c179e\"], [0.4444444444444444, \"#bd3786\"], [0.5555555555555556, \"#d8576b\"], [0.6666666666666666, \"#ed7953\"], [0.7777777777777778, \"#fb9f3a\"], [0.8888888888888888, \"#fdca26\"], [1.0, \"#f0f921\"]], \"sequentialminus\": [[0.0, \"#0d0887\"], [0.1111111111111111, \"#46039f\"], [0.2222222222222222, \"#7201a8\"], [0.3333333333333333, \"#9c179e\"], [0.4444444444444444, \"#bd3786\"], [0.5555555555555556, \"#d8576b\"], [0.6666666666666666, \"#ed7953\"], [0.7777777777777778, \"#fb9f3a\"], [0.8888888888888888, \"#fdca26\"], [1.0, \"#f0f921\"]]}, \"colorway\": [\"#636efa\", \"#EF553B\", \"#00cc96\", \"#ab63fa\", \"#FFA15A\", \"#19d3f3\", \"#FF6692\", \"#B6E880\", \"#FF97FF\", \"#FECB52\"], \"font\": {\"color\": \"#2a3f5f\"}, \"geo\": {\"bgcolor\": \"white\", \"lakecolor\": \"white\", \"landcolor\": \"#E5ECF6\", \"showlakes\": true, \"showland\": true, \"subunitcolor\": \"white\"}, \"hoverlabel\": {\"align\": \"left\"}, \"hovermode\": \"closest\", \"mapbox\": {\"style\": \"light\"}, \"paper_bgcolor\": \"white\", \"plot_bgcolor\": \"#E5ECF6\", \"polar\": {\"angularaxis\": {\"gridcolor\": \"white\", \"linecolor\": \"white\", \"ticks\": \"\"}, \"bgcolor\": \"#E5ECF6\", \"radialaxis\": {\"gridcolor\": \"white\", \"linecolor\": \"white\", \"ticks\": \"\"}}, \"scene\": {\"xaxis\": {\"backgroundcolor\": \"#E5ECF6\", \"gridcolor\": \"white\", \"gridwidth\": 2, \"linecolor\": \"white\", \"showbackground\": true, \"ticks\": \"\", \"zerolinecolor\": \"white\"}, \"yaxis\": {\"backgroundcolor\": \"#E5ECF6\", \"gridcolor\": \"white\", \"gridwidth\": 2, \"linecolor\": \"white\", \"showbackground\": true, \"ticks\": \"\", \"zerolinecolor\": \"white\"}, \"zaxis\": {\"backgroundcolor\": \"#E5ECF6\", \"gridcolor\": \"white\", \"gridwidth\": 2, \"linecolor\": \"white\", \"showbackground\": true, \"ticks\": \"\", \"zerolinecolor\": \"white\"}}, \"shapedefaults\": {\"line\": {\"color\": \"#2a3f5f\"}}, \"ternary\": {\"aaxis\": {\"gridcolor\": \"white\", \"linecolor\": \"white\", \"ticks\": \"\"}, \"baxis\": {\"gridcolor\": \"white\", \"linecolor\": \"white\", \"ticks\": \"\"}, \"bgcolor\": \"#E5ECF6\", \"caxis\": {\"gridcolor\": \"white\", \"linecolor\": \"white\", \"ticks\": \"\"}}, \"title\": {\"x\": 0.05}, \"xaxis\": {\"automargin\": true, \"gridcolor\": \"white\", \"linecolor\": \"white\", \"ticks\": \"\", \"title\": {\"standoff\": 15}, \"zerolinecolor\": \"white\", \"zerolinewidth\": 2}, \"yaxis\": {\"automargin\": true, \"gridcolor\": \"white\", \"linecolor\": \"white\", \"ticks\": \"\", \"title\": {\"standoff\": 15}, \"zerolinecolor\": \"white\", \"zerolinewidth\": 2}}}, \"title\": {\"text\": \"World Cumulative Confirmed Cases\"}, \"updatemenus\": [{\"active\": 0, \"buttons\": [{\"args\": [{\"visible\": [true, true]}, {\"yaxis\": {\"type\": \"linear\"}}], \"label\": \"Linear Scale\", \"method\": \"update\"}, {\"args\": [{\"visible\": [true, true]}, {\"yaxis\": {\"type\": \"log\"}}], \"label\": \"Logarithmic Scale\", \"method\": \"update\"}], \"direction\": \"right\", \"type\": \"buttons\", \"x\": 0.45, \"xanchor\": \"left\", \"y\": 1.1, \"yanchor\": \"top\"}]},\n",
       "                        {\"responsive\": true}\n",
       "                    ).then(function(){\n",
       "                            \n",
       "var gd = document.getElementById('fe1532d7-2119-4731-afec-6ccff7435ee5');\n",
       "var x = new MutationObserver(function (mutations, observer) {{\n",
       "        var display = window.getComputedStyle(gd).display;\n",
       "        if (!display || display === 'none') {{\n",
       "            console.log([gd, 'removed!']);\n",
       "            Plotly.purge(gd);\n",
       "            observer.disconnect();\n",
       "        }}\n",
       "}});\n",
       "\n",
       "// Listen for the removal of the full notebook cells\n",
       "var notebookContainer = gd.closest('#notebook-container');\n",
       "if (notebookContainer) {{\n",
       "    x.observe(notebookContainer, {childList: true});\n",
       "}}\n",
       "\n",
       "// Listen for the clearing of the current output cell\n",
       "var outputEl = gd.closest('.output');\n",
       "if (outputEl) {{\n",
       "    x.observe(outputEl, {childList: true});\n",
       "}}\n",
       "\n",
       "                        })\n",
       "                };\n",
       "                });\n",
       "            </script>\n",
       "        </div>"
      ]
     },
     "metadata": {},
     "output_type": "display_data"
    },
    {
     "data": {
      "text/html": [
       "<style  type=\"text/css\" >\n",
       "</style><table id=\"T_8e9ca4e4_7766_11ea_acf5_c49ded93ade6\" ><thead>    <tr>        <th class=\"blank level0\" ></th>        <th class=\"col_heading level0 col0\" >3/5/20</th>        <th class=\"col_heading level0 col1\" >3/6/20</th>        <th class=\"col_heading level0 col2\" >3/7/20</th>        <th class=\"col_heading level0 col3\" >3/8/20</th>        <th class=\"col_heading level0 col4\" >3/9/20</th>        <th class=\"col_heading level0 col5\" >3/10/20</th>        <th class=\"col_heading level0 col6\" >3/11/20</th>        <th class=\"col_heading level0 col7\" >3/12/20</th>        <th class=\"col_heading level0 col8\" >3/13/20</th>        <th class=\"col_heading level0 col9\" >3/14/20</th>        <th class=\"col_heading level0 col10\" >3/15/20</th>        <th class=\"col_heading level0 col11\" >3/16/20</th>        <th class=\"col_heading level0 col12\" >3/17/20</th>        <th class=\"col_heading level0 col13\" >3/18/20</th>        <th class=\"col_heading level0 col14\" >3/19/20</th>        <th class=\"col_heading level0 col15\" >3/20/20</th>        <th class=\"col_heading level0 col16\" >3/21/20</th>        <th class=\"col_heading level0 col17\" >3/22/20</th>        <th class=\"col_heading level0 col18\" >3/23/20</th>        <th class=\"col_heading level0 col19\" >3/24/20</th>        <th class=\"col_heading level0 col20\" >3/25/20</th>        <th class=\"col_heading level0 col21\" >3/26/20</th>        <th class=\"col_heading level0 col22\" >3/27/20</th>        <th class=\"col_heading level0 col23\" >3/28/20</th>        <th class=\"col_heading level0 col24\" >3/29/20</th>        <th class=\"col_heading level0 col25\" >3/30/20</th>        <th class=\"col_heading level0 col26\" >3/31/20</th>        <th class=\"col_heading level0 col27\" >4/1/20</th>        <th class=\"col_heading level0 col28\" >4/2/20</th>        <th class=\"col_heading level0 col29\" >4/3/20</th>        <th class=\"col_heading level0 col30\" >4/4/20</th>    </tr>    <tr>        <th class=\"index_name level0\" >Country/Region</th>        <th class=\"blank\" ></th>        <th class=\"blank\" ></th>        <th class=\"blank\" ></th>        <th class=\"blank\" ></th>        <th class=\"blank\" ></th>        <th class=\"blank\" ></th>        <th class=\"blank\" ></th>        <th class=\"blank\" ></th>        <th class=\"blank\" ></th>        <th class=\"blank\" ></th>        <th class=\"blank\" ></th>        <th class=\"blank\" ></th>        <th class=\"blank\" ></th>        <th class=\"blank\" ></th>        <th class=\"blank\" ></th>        <th class=\"blank\" ></th>        <th class=\"blank\" ></th>        <th class=\"blank\" ></th>        <th class=\"blank\" ></th>        <th class=\"blank\" ></th>        <th class=\"blank\" ></th>        <th class=\"blank\" ></th>        <th class=\"blank\" ></th>        <th class=\"blank\" ></th>        <th class=\"blank\" ></th>        <th class=\"blank\" ></th>        <th class=\"blank\" ></th>        <th class=\"blank\" ></th>        <th class=\"blank\" ></th>        <th class=\"blank\" ></th>        <th class=\"blank\" ></th>    </tr></thead><tbody>\n",
       "                <tr>\n",
       "                        <th id=\"T_8e9ca4e4_7766_11ea_acf5_c49ded93ade6level0_row0\" class=\"row_heading level0 row0\" >US</th>\n",
       "                        <td id=\"T_8e9ca4e4_7766_11ea_acf5_c49ded93ade6row0_col0\" class=\"data row0 col0\" >217</td>\n",
       "                        <td id=\"T_8e9ca4e4_7766_11ea_acf5_c49ded93ade6row0_col1\" class=\"data row0 col1\" >262</td>\n",
       "                        <td id=\"T_8e9ca4e4_7766_11ea_acf5_c49ded93ade6row0_col2\" class=\"data row0 col2\" >402</td>\n",
       "                        <td id=\"T_8e9ca4e4_7766_11ea_acf5_c49ded93ade6row0_col3\" class=\"data row0 col3\" >518</td>\n",
       "                        <td id=\"T_8e9ca4e4_7766_11ea_acf5_c49ded93ade6row0_col4\" class=\"data row0 col4\" >583</td>\n",
       "                        <td id=\"T_8e9ca4e4_7766_11ea_acf5_c49ded93ade6row0_col5\" class=\"data row0 col5\" >959</td>\n",
       "                        <td id=\"T_8e9ca4e4_7766_11ea_acf5_c49ded93ade6row0_col6\" class=\"data row0 col6\" >1,281</td>\n",
       "                        <td id=\"T_8e9ca4e4_7766_11ea_acf5_c49ded93ade6row0_col7\" class=\"data row0 col7\" >1,663</td>\n",
       "                        <td id=\"T_8e9ca4e4_7766_11ea_acf5_c49ded93ade6row0_col8\" class=\"data row0 col8\" >2,179</td>\n",
       "                        <td id=\"T_8e9ca4e4_7766_11ea_acf5_c49ded93ade6row0_col9\" class=\"data row0 col9\" >2,727</td>\n",
       "                        <td id=\"T_8e9ca4e4_7766_11ea_acf5_c49ded93ade6row0_col10\" class=\"data row0 col10\" >3,499</td>\n",
       "                        <td id=\"T_8e9ca4e4_7766_11ea_acf5_c49ded93ade6row0_col11\" class=\"data row0 col11\" >4,632</td>\n",
       "                        <td id=\"T_8e9ca4e4_7766_11ea_acf5_c49ded93ade6row0_col12\" class=\"data row0 col12\" >6,421</td>\n",
       "                        <td id=\"T_8e9ca4e4_7766_11ea_acf5_c49ded93ade6row0_col13\" class=\"data row0 col13\" >7,783</td>\n",
       "                        <td id=\"T_8e9ca4e4_7766_11ea_acf5_c49ded93ade6row0_col14\" class=\"data row0 col14\" >13,677</td>\n",
       "                        <td id=\"T_8e9ca4e4_7766_11ea_acf5_c49ded93ade6row0_col15\" class=\"data row0 col15\" >19,100</td>\n",
       "                        <td id=\"T_8e9ca4e4_7766_11ea_acf5_c49ded93ade6row0_col16\" class=\"data row0 col16\" >25,489</td>\n",
       "                        <td id=\"T_8e9ca4e4_7766_11ea_acf5_c49ded93ade6row0_col17\" class=\"data row0 col17\" >33,276</td>\n",
       "                        <td id=\"T_8e9ca4e4_7766_11ea_acf5_c49ded93ade6row0_col18\" class=\"data row0 col18\" >43,847</td>\n",
       "                        <td id=\"T_8e9ca4e4_7766_11ea_acf5_c49ded93ade6row0_col19\" class=\"data row0 col19\" >53,740</td>\n",
       "                        <td id=\"T_8e9ca4e4_7766_11ea_acf5_c49ded93ade6row0_col20\" class=\"data row0 col20\" >65,778</td>\n",
       "                        <td id=\"T_8e9ca4e4_7766_11ea_acf5_c49ded93ade6row0_col21\" class=\"data row0 col21\" >83,836</td>\n",
       "                        <td id=\"T_8e9ca4e4_7766_11ea_acf5_c49ded93ade6row0_col22\" class=\"data row0 col22\" >101,657</td>\n",
       "                        <td id=\"T_8e9ca4e4_7766_11ea_acf5_c49ded93ade6row0_col23\" class=\"data row0 col23\" >121,478</td>\n",
       "                        <td id=\"T_8e9ca4e4_7766_11ea_acf5_c49ded93ade6row0_col24\" class=\"data row0 col24\" >140,886</td>\n",
       "                        <td id=\"T_8e9ca4e4_7766_11ea_acf5_c49ded93ade6row0_col25\" class=\"data row0 col25\" >161,807</td>\n",
       "                        <td id=\"T_8e9ca4e4_7766_11ea_acf5_c49ded93ade6row0_col26\" class=\"data row0 col26\" >188,172</td>\n",
       "                        <td id=\"T_8e9ca4e4_7766_11ea_acf5_c49ded93ade6row0_col27\" class=\"data row0 col27\" >213,372</td>\n",
       "                        <td id=\"T_8e9ca4e4_7766_11ea_acf5_c49ded93ade6row0_col28\" class=\"data row0 col28\" >243,453</td>\n",
       "                        <td id=\"T_8e9ca4e4_7766_11ea_acf5_c49ded93ade6row0_col29\" class=\"data row0 col29\" >275,586</td>\n",
       "                        <td id=\"T_8e9ca4e4_7766_11ea_acf5_c49ded93ade6row0_col30\" class=\"data row0 col30\" >308,850</td>\n",
       "            </tr>\n",
       "            <tr>\n",
       "                        <th id=\"T_8e9ca4e4_7766_11ea_acf5_c49ded93ade6level0_row1\" class=\"row_heading level0 row1\" >Spain</th>\n",
       "                        <td id=\"T_8e9ca4e4_7766_11ea_acf5_c49ded93ade6row1_col0\" class=\"data row1 col0\" >259</td>\n",
       "                        <td id=\"T_8e9ca4e4_7766_11ea_acf5_c49ded93ade6row1_col1\" class=\"data row1 col1\" >400</td>\n",
       "                        <td id=\"T_8e9ca4e4_7766_11ea_acf5_c49ded93ade6row1_col2\" class=\"data row1 col2\" >500</td>\n",
       "                        <td id=\"T_8e9ca4e4_7766_11ea_acf5_c49ded93ade6row1_col3\" class=\"data row1 col3\" >673</td>\n",
       "                        <td id=\"T_8e9ca4e4_7766_11ea_acf5_c49ded93ade6row1_col4\" class=\"data row1 col4\" >1,073</td>\n",
       "                        <td id=\"T_8e9ca4e4_7766_11ea_acf5_c49ded93ade6row1_col5\" class=\"data row1 col5\" >1,695</td>\n",
       "                        <td id=\"T_8e9ca4e4_7766_11ea_acf5_c49ded93ade6row1_col6\" class=\"data row1 col6\" >2,277</td>\n",
       "                        <td id=\"T_8e9ca4e4_7766_11ea_acf5_c49ded93ade6row1_col7\" class=\"data row1 col7\" >2,277</td>\n",
       "                        <td id=\"T_8e9ca4e4_7766_11ea_acf5_c49ded93ade6row1_col8\" class=\"data row1 col8\" >5,232</td>\n",
       "                        <td id=\"T_8e9ca4e4_7766_11ea_acf5_c49ded93ade6row1_col9\" class=\"data row1 col9\" >6,391</td>\n",
       "                        <td id=\"T_8e9ca4e4_7766_11ea_acf5_c49ded93ade6row1_col10\" class=\"data row1 col10\" >7,798</td>\n",
       "                        <td id=\"T_8e9ca4e4_7766_11ea_acf5_c49ded93ade6row1_col11\" class=\"data row1 col11\" >9,942</td>\n",
       "                        <td id=\"T_8e9ca4e4_7766_11ea_acf5_c49ded93ade6row1_col12\" class=\"data row1 col12\" >11,748</td>\n",
       "                        <td id=\"T_8e9ca4e4_7766_11ea_acf5_c49ded93ade6row1_col13\" class=\"data row1 col13\" >13,910</td>\n",
       "                        <td id=\"T_8e9ca4e4_7766_11ea_acf5_c49ded93ade6row1_col14\" class=\"data row1 col14\" >17,963</td>\n",
       "                        <td id=\"T_8e9ca4e4_7766_11ea_acf5_c49ded93ade6row1_col15\" class=\"data row1 col15\" >20,410</td>\n",
       "                        <td id=\"T_8e9ca4e4_7766_11ea_acf5_c49ded93ade6row1_col16\" class=\"data row1 col16\" >25,374</td>\n",
       "                        <td id=\"T_8e9ca4e4_7766_11ea_acf5_c49ded93ade6row1_col17\" class=\"data row1 col17\" >28,768</td>\n",
       "                        <td id=\"T_8e9ca4e4_7766_11ea_acf5_c49ded93ade6row1_col18\" class=\"data row1 col18\" >35,136</td>\n",
       "                        <td id=\"T_8e9ca4e4_7766_11ea_acf5_c49ded93ade6row1_col19\" class=\"data row1 col19\" >39,885</td>\n",
       "                        <td id=\"T_8e9ca4e4_7766_11ea_acf5_c49ded93ade6row1_col20\" class=\"data row1 col20\" >49,515</td>\n",
       "                        <td id=\"T_8e9ca4e4_7766_11ea_acf5_c49ded93ade6row1_col21\" class=\"data row1 col21\" >57,786</td>\n",
       "                        <td id=\"T_8e9ca4e4_7766_11ea_acf5_c49ded93ade6row1_col22\" class=\"data row1 col22\" >65,719</td>\n",
       "                        <td id=\"T_8e9ca4e4_7766_11ea_acf5_c49ded93ade6row1_col23\" class=\"data row1 col23\" >73,235</td>\n",
       "                        <td id=\"T_8e9ca4e4_7766_11ea_acf5_c49ded93ade6row1_col24\" class=\"data row1 col24\" >80,110</td>\n",
       "                        <td id=\"T_8e9ca4e4_7766_11ea_acf5_c49ded93ade6row1_col25\" class=\"data row1 col25\" >87,956</td>\n",
       "                        <td id=\"T_8e9ca4e4_7766_11ea_acf5_c49ded93ade6row1_col26\" class=\"data row1 col26\" >95,923</td>\n",
       "                        <td id=\"T_8e9ca4e4_7766_11ea_acf5_c49ded93ade6row1_col27\" class=\"data row1 col27\" >104,118</td>\n",
       "                        <td id=\"T_8e9ca4e4_7766_11ea_acf5_c49ded93ade6row1_col28\" class=\"data row1 col28\" >112,065</td>\n",
       "                        <td id=\"T_8e9ca4e4_7766_11ea_acf5_c49ded93ade6row1_col29\" class=\"data row1 col29\" >119,199</td>\n",
       "                        <td id=\"T_8e9ca4e4_7766_11ea_acf5_c49ded93ade6row1_col30\" class=\"data row1 col30\" >126,168</td>\n",
       "            </tr>\n",
       "            <tr>\n",
       "                        <th id=\"T_8e9ca4e4_7766_11ea_acf5_c49ded93ade6level0_row2\" class=\"row_heading level0 row2\" >Italy</th>\n",
       "                        <td id=\"T_8e9ca4e4_7766_11ea_acf5_c49ded93ade6row2_col0\" class=\"data row2 col0\" >3,858</td>\n",
       "                        <td id=\"T_8e9ca4e4_7766_11ea_acf5_c49ded93ade6row2_col1\" class=\"data row2 col1\" >4,636</td>\n",
       "                        <td id=\"T_8e9ca4e4_7766_11ea_acf5_c49ded93ade6row2_col2\" class=\"data row2 col2\" >5,883</td>\n",
       "                        <td id=\"T_8e9ca4e4_7766_11ea_acf5_c49ded93ade6row2_col3\" class=\"data row2 col3\" >7,375</td>\n",
       "                        <td id=\"T_8e9ca4e4_7766_11ea_acf5_c49ded93ade6row2_col4\" class=\"data row2 col4\" >9,172</td>\n",
       "                        <td id=\"T_8e9ca4e4_7766_11ea_acf5_c49ded93ade6row2_col5\" class=\"data row2 col5\" >10,149</td>\n",
       "                        <td id=\"T_8e9ca4e4_7766_11ea_acf5_c49ded93ade6row2_col6\" class=\"data row2 col6\" >12,462</td>\n",
       "                        <td id=\"T_8e9ca4e4_7766_11ea_acf5_c49ded93ade6row2_col7\" class=\"data row2 col7\" >12,462</td>\n",
       "                        <td id=\"T_8e9ca4e4_7766_11ea_acf5_c49ded93ade6row2_col8\" class=\"data row2 col8\" >17,660</td>\n",
       "                        <td id=\"T_8e9ca4e4_7766_11ea_acf5_c49ded93ade6row2_col9\" class=\"data row2 col9\" >21,157</td>\n",
       "                        <td id=\"T_8e9ca4e4_7766_11ea_acf5_c49ded93ade6row2_col10\" class=\"data row2 col10\" >24,747</td>\n",
       "                        <td id=\"T_8e9ca4e4_7766_11ea_acf5_c49ded93ade6row2_col11\" class=\"data row2 col11\" >27,980</td>\n",
       "                        <td id=\"T_8e9ca4e4_7766_11ea_acf5_c49ded93ade6row2_col12\" class=\"data row2 col12\" >31,506</td>\n",
       "                        <td id=\"T_8e9ca4e4_7766_11ea_acf5_c49ded93ade6row2_col13\" class=\"data row2 col13\" >35,713</td>\n",
       "                        <td id=\"T_8e9ca4e4_7766_11ea_acf5_c49ded93ade6row2_col14\" class=\"data row2 col14\" >41,035</td>\n",
       "                        <td id=\"T_8e9ca4e4_7766_11ea_acf5_c49ded93ade6row2_col15\" class=\"data row2 col15\" >47,021</td>\n",
       "                        <td id=\"T_8e9ca4e4_7766_11ea_acf5_c49ded93ade6row2_col16\" class=\"data row2 col16\" >53,578</td>\n",
       "                        <td id=\"T_8e9ca4e4_7766_11ea_acf5_c49ded93ade6row2_col17\" class=\"data row2 col17\" >59,138</td>\n",
       "                        <td id=\"T_8e9ca4e4_7766_11ea_acf5_c49ded93ade6row2_col18\" class=\"data row2 col18\" >63,927</td>\n",
       "                        <td id=\"T_8e9ca4e4_7766_11ea_acf5_c49ded93ade6row2_col19\" class=\"data row2 col19\" >69,176</td>\n",
       "                        <td id=\"T_8e9ca4e4_7766_11ea_acf5_c49ded93ade6row2_col20\" class=\"data row2 col20\" >74,386</td>\n",
       "                        <td id=\"T_8e9ca4e4_7766_11ea_acf5_c49ded93ade6row2_col21\" class=\"data row2 col21\" >80,589</td>\n",
       "                        <td id=\"T_8e9ca4e4_7766_11ea_acf5_c49ded93ade6row2_col22\" class=\"data row2 col22\" >86,498</td>\n",
       "                        <td id=\"T_8e9ca4e4_7766_11ea_acf5_c49ded93ade6row2_col23\" class=\"data row2 col23\" >92,472</td>\n",
       "                        <td id=\"T_8e9ca4e4_7766_11ea_acf5_c49ded93ade6row2_col24\" class=\"data row2 col24\" >97,689</td>\n",
       "                        <td id=\"T_8e9ca4e4_7766_11ea_acf5_c49ded93ade6row2_col25\" class=\"data row2 col25\" >101,739</td>\n",
       "                        <td id=\"T_8e9ca4e4_7766_11ea_acf5_c49ded93ade6row2_col26\" class=\"data row2 col26\" >105,792</td>\n",
       "                        <td id=\"T_8e9ca4e4_7766_11ea_acf5_c49ded93ade6row2_col27\" class=\"data row2 col27\" >110,574</td>\n",
       "                        <td id=\"T_8e9ca4e4_7766_11ea_acf5_c49ded93ade6row2_col28\" class=\"data row2 col28\" >115,242</td>\n",
       "                        <td id=\"T_8e9ca4e4_7766_11ea_acf5_c49ded93ade6row2_col29\" class=\"data row2 col29\" >119,827</td>\n",
       "                        <td id=\"T_8e9ca4e4_7766_11ea_acf5_c49ded93ade6row2_col30\" class=\"data row2 col30\" >124,632</td>\n",
       "            </tr>\n",
       "            <tr>\n",
       "                        <th id=\"T_8e9ca4e4_7766_11ea_acf5_c49ded93ade6level0_row3\" class=\"row_heading level0 row3\" >Germany</th>\n",
       "                        <td id=\"T_8e9ca4e4_7766_11ea_acf5_c49ded93ade6row3_col0\" class=\"data row3 col0\" >482</td>\n",
       "                        <td id=\"T_8e9ca4e4_7766_11ea_acf5_c49ded93ade6row3_col1\" class=\"data row3 col1\" >670</td>\n",
       "                        <td id=\"T_8e9ca4e4_7766_11ea_acf5_c49ded93ade6row3_col2\" class=\"data row3 col2\" >799</td>\n",
       "                        <td id=\"T_8e9ca4e4_7766_11ea_acf5_c49ded93ade6row3_col3\" class=\"data row3 col3\" >1,040</td>\n",
       "                        <td id=\"T_8e9ca4e4_7766_11ea_acf5_c49ded93ade6row3_col4\" class=\"data row3 col4\" >1,176</td>\n",
       "                        <td id=\"T_8e9ca4e4_7766_11ea_acf5_c49ded93ade6row3_col5\" class=\"data row3 col5\" >1,457</td>\n",
       "                        <td id=\"T_8e9ca4e4_7766_11ea_acf5_c49ded93ade6row3_col6\" class=\"data row3 col6\" >1,908</td>\n",
       "                        <td id=\"T_8e9ca4e4_7766_11ea_acf5_c49ded93ade6row3_col7\" class=\"data row3 col7\" >2,078</td>\n",
       "                        <td id=\"T_8e9ca4e4_7766_11ea_acf5_c49ded93ade6row3_col8\" class=\"data row3 col8\" >3,675</td>\n",
       "                        <td id=\"T_8e9ca4e4_7766_11ea_acf5_c49ded93ade6row3_col9\" class=\"data row3 col9\" >4,585</td>\n",
       "                        <td id=\"T_8e9ca4e4_7766_11ea_acf5_c49ded93ade6row3_col10\" class=\"data row3 col10\" >5,795</td>\n",
       "                        <td id=\"T_8e9ca4e4_7766_11ea_acf5_c49ded93ade6row3_col11\" class=\"data row3 col11\" >7,272</td>\n",
       "                        <td id=\"T_8e9ca4e4_7766_11ea_acf5_c49ded93ade6row3_col12\" class=\"data row3 col12\" >9,257</td>\n",
       "                        <td id=\"T_8e9ca4e4_7766_11ea_acf5_c49ded93ade6row3_col13\" class=\"data row3 col13\" >12,327</td>\n",
       "                        <td id=\"T_8e9ca4e4_7766_11ea_acf5_c49ded93ade6row3_col14\" class=\"data row3 col14\" >15,320</td>\n",
       "                        <td id=\"T_8e9ca4e4_7766_11ea_acf5_c49ded93ade6row3_col15\" class=\"data row3 col15\" >19,848</td>\n",
       "                        <td id=\"T_8e9ca4e4_7766_11ea_acf5_c49ded93ade6row3_col16\" class=\"data row3 col16\" >22,213</td>\n",
       "                        <td id=\"T_8e9ca4e4_7766_11ea_acf5_c49ded93ade6row3_col17\" class=\"data row3 col17\" >24,873</td>\n",
       "                        <td id=\"T_8e9ca4e4_7766_11ea_acf5_c49ded93ade6row3_col18\" class=\"data row3 col18\" >29,056</td>\n",
       "                        <td id=\"T_8e9ca4e4_7766_11ea_acf5_c49ded93ade6row3_col19\" class=\"data row3 col19\" >32,986</td>\n",
       "                        <td id=\"T_8e9ca4e4_7766_11ea_acf5_c49ded93ade6row3_col20\" class=\"data row3 col20\" >37,323</td>\n",
       "                        <td id=\"T_8e9ca4e4_7766_11ea_acf5_c49ded93ade6row3_col21\" class=\"data row3 col21\" >43,938</td>\n",
       "                        <td id=\"T_8e9ca4e4_7766_11ea_acf5_c49ded93ade6row3_col22\" class=\"data row3 col22\" >50,871</td>\n",
       "                        <td id=\"T_8e9ca4e4_7766_11ea_acf5_c49ded93ade6row3_col23\" class=\"data row3 col23\" >57,695</td>\n",
       "                        <td id=\"T_8e9ca4e4_7766_11ea_acf5_c49ded93ade6row3_col24\" class=\"data row3 col24\" >62,095</td>\n",
       "                        <td id=\"T_8e9ca4e4_7766_11ea_acf5_c49ded93ade6row3_col25\" class=\"data row3 col25\" >66,885</td>\n",
       "                        <td id=\"T_8e9ca4e4_7766_11ea_acf5_c49ded93ade6row3_col26\" class=\"data row3 col26\" >71,808</td>\n",
       "                        <td id=\"T_8e9ca4e4_7766_11ea_acf5_c49ded93ade6row3_col27\" class=\"data row3 col27\" >77,872</td>\n",
       "                        <td id=\"T_8e9ca4e4_7766_11ea_acf5_c49ded93ade6row3_col28\" class=\"data row3 col28\" >84,794</td>\n",
       "                        <td id=\"T_8e9ca4e4_7766_11ea_acf5_c49ded93ade6row3_col29\" class=\"data row3 col29\" >91,159</td>\n",
       "                        <td id=\"T_8e9ca4e4_7766_11ea_acf5_c49ded93ade6row3_col30\" class=\"data row3 col30\" >96,092</td>\n",
       "            </tr>\n",
       "            <tr>\n",
       "                        <th id=\"T_8e9ca4e4_7766_11ea_acf5_c49ded93ade6level0_row4\" class=\"row_heading level0 row4\" >France</th>\n",
       "                        <td id=\"T_8e9ca4e4_7766_11ea_acf5_c49ded93ade6row4_col0\" class=\"data row4 col0\" >377</td>\n",
       "                        <td id=\"T_8e9ca4e4_7766_11ea_acf5_c49ded93ade6row4_col1\" class=\"data row4 col1\" >653</td>\n",
       "                        <td id=\"T_8e9ca4e4_7766_11ea_acf5_c49ded93ade6row4_col2\" class=\"data row4 col2\" >949</td>\n",
       "                        <td id=\"T_8e9ca4e4_7766_11ea_acf5_c49ded93ade6row4_col3\" class=\"data row4 col3\" >1,126</td>\n",
       "                        <td id=\"T_8e9ca4e4_7766_11ea_acf5_c49ded93ade6row4_col4\" class=\"data row4 col4\" >1,209</td>\n",
       "                        <td id=\"T_8e9ca4e4_7766_11ea_acf5_c49ded93ade6row4_col5\" class=\"data row4 col5\" >1,784</td>\n",
       "                        <td id=\"T_8e9ca4e4_7766_11ea_acf5_c49ded93ade6row4_col6\" class=\"data row4 col6\" >2,281</td>\n",
       "                        <td id=\"T_8e9ca4e4_7766_11ea_acf5_c49ded93ade6row4_col7\" class=\"data row4 col7\" >2,281</td>\n",
       "                        <td id=\"T_8e9ca4e4_7766_11ea_acf5_c49ded93ade6row4_col8\" class=\"data row4 col8\" >3,661</td>\n",
       "                        <td id=\"T_8e9ca4e4_7766_11ea_acf5_c49ded93ade6row4_col9\" class=\"data row4 col9\" >4,469</td>\n",
       "                        <td id=\"T_8e9ca4e4_7766_11ea_acf5_c49ded93ade6row4_col10\" class=\"data row4 col10\" >4,499</td>\n",
       "                        <td id=\"T_8e9ca4e4_7766_11ea_acf5_c49ded93ade6row4_col11\" class=\"data row4 col11\" >6,633</td>\n",
       "                        <td id=\"T_8e9ca4e4_7766_11ea_acf5_c49ded93ade6row4_col12\" class=\"data row4 col12\" >7,652</td>\n",
       "                        <td id=\"T_8e9ca4e4_7766_11ea_acf5_c49ded93ade6row4_col13\" class=\"data row4 col13\" >9,043</td>\n",
       "                        <td id=\"T_8e9ca4e4_7766_11ea_acf5_c49ded93ade6row4_col14\" class=\"data row4 col14\" >10,871</td>\n",
       "                        <td id=\"T_8e9ca4e4_7766_11ea_acf5_c49ded93ade6row4_col15\" class=\"data row4 col15\" >12,612</td>\n",
       "                        <td id=\"T_8e9ca4e4_7766_11ea_acf5_c49ded93ade6row4_col16\" class=\"data row4 col16\" >14,282</td>\n",
       "                        <td id=\"T_8e9ca4e4_7766_11ea_acf5_c49ded93ade6row4_col17\" class=\"data row4 col17\" >16,018</td>\n",
       "                        <td id=\"T_8e9ca4e4_7766_11ea_acf5_c49ded93ade6row4_col18\" class=\"data row4 col18\" >19,856</td>\n",
       "                        <td id=\"T_8e9ca4e4_7766_11ea_acf5_c49ded93ade6row4_col19\" class=\"data row4 col19\" >22,304</td>\n",
       "                        <td id=\"T_8e9ca4e4_7766_11ea_acf5_c49ded93ade6row4_col20\" class=\"data row4 col20\" >25,233</td>\n",
       "                        <td id=\"T_8e9ca4e4_7766_11ea_acf5_c49ded93ade6row4_col21\" class=\"data row4 col21\" >29,155</td>\n",
       "                        <td id=\"T_8e9ca4e4_7766_11ea_acf5_c49ded93ade6row4_col22\" class=\"data row4 col22\" >32,964</td>\n",
       "                        <td id=\"T_8e9ca4e4_7766_11ea_acf5_c49ded93ade6row4_col23\" class=\"data row4 col23\" >37,575</td>\n",
       "                        <td id=\"T_8e9ca4e4_7766_11ea_acf5_c49ded93ade6row4_col24\" class=\"data row4 col24\" >40,174</td>\n",
       "                        <td id=\"T_8e9ca4e4_7766_11ea_acf5_c49ded93ade6row4_col25\" class=\"data row4 col25\" >44,550</td>\n",
       "                        <td id=\"T_8e9ca4e4_7766_11ea_acf5_c49ded93ade6row4_col26\" class=\"data row4 col26\" >52,128</td>\n",
       "                        <td id=\"T_8e9ca4e4_7766_11ea_acf5_c49ded93ade6row4_col27\" class=\"data row4 col27\" >56,989</td>\n",
       "                        <td id=\"T_8e9ca4e4_7766_11ea_acf5_c49ded93ade6row4_col28\" class=\"data row4 col28\" >59,105</td>\n",
       "                        <td id=\"T_8e9ca4e4_7766_11ea_acf5_c49ded93ade6row4_col29\" class=\"data row4 col29\" >64,338</td>\n",
       "                        <td id=\"T_8e9ca4e4_7766_11ea_acf5_c49ded93ade6row4_col30\" class=\"data row4 col30\" >89,953</td>\n",
       "            </tr>\n",
       "            <tr>\n",
       "                        <th id=\"T_8e9ca4e4_7766_11ea_acf5_c49ded93ade6level0_row5\" class=\"row_heading level0 row5\" >China</th>\n",
       "                        <td id=\"T_8e9ca4e4_7766_11ea_acf5_c49ded93ade6row5_col0\" class=\"data row5 col0\" >80,537</td>\n",
       "                        <td id=\"T_8e9ca4e4_7766_11ea_acf5_c49ded93ade6row5_col1\" class=\"data row5 col1\" >80,690</td>\n",
       "                        <td id=\"T_8e9ca4e4_7766_11ea_acf5_c49ded93ade6row5_col2\" class=\"data row5 col2\" >80,770</td>\n",
       "                        <td id=\"T_8e9ca4e4_7766_11ea_acf5_c49ded93ade6row5_col3\" class=\"data row5 col3\" >80,823</td>\n",
       "                        <td id=\"T_8e9ca4e4_7766_11ea_acf5_c49ded93ade6row5_col4\" class=\"data row5 col4\" >80,860</td>\n",
       "                        <td id=\"T_8e9ca4e4_7766_11ea_acf5_c49ded93ade6row5_col5\" class=\"data row5 col5\" >80,887</td>\n",
       "                        <td id=\"T_8e9ca4e4_7766_11ea_acf5_c49ded93ade6row5_col6\" class=\"data row5 col6\" >80,921</td>\n",
       "                        <td id=\"T_8e9ca4e4_7766_11ea_acf5_c49ded93ade6row5_col7\" class=\"data row5 col7\" >80,932</td>\n",
       "                        <td id=\"T_8e9ca4e4_7766_11ea_acf5_c49ded93ade6row5_col8\" class=\"data row5 col8\" >80,945</td>\n",
       "                        <td id=\"T_8e9ca4e4_7766_11ea_acf5_c49ded93ade6row5_col9\" class=\"data row5 col9\" >80,977</td>\n",
       "                        <td id=\"T_8e9ca4e4_7766_11ea_acf5_c49ded93ade6row5_col10\" class=\"data row5 col10\" >81,003</td>\n",
       "                        <td id=\"T_8e9ca4e4_7766_11ea_acf5_c49ded93ade6row5_col11\" class=\"data row5 col11\" >81,033</td>\n",
       "                        <td id=\"T_8e9ca4e4_7766_11ea_acf5_c49ded93ade6row5_col12\" class=\"data row5 col12\" >81,058</td>\n",
       "                        <td id=\"T_8e9ca4e4_7766_11ea_acf5_c49ded93ade6row5_col13\" class=\"data row5 col13\" >81,102</td>\n",
       "                        <td id=\"T_8e9ca4e4_7766_11ea_acf5_c49ded93ade6row5_col14\" class=\"data row5 col14\" >81,156</td>\n",
       "                        <td id=\"T_8e9ca4e4_7766_11ea_acf5_c49ded93ade6row5_col15\" class=\"data row5 col15\" >81,250</td>\n",
       "                        <td id=\"T_8e9ca4e4_7766_11ea_acf5_c49ded93ade6row5_col16\" class=\"data row5 col16\" >81,305</td>\n",
       "                        <td id=\"T_8e9ca4e4_7766_11ea_acf5_c49ded93ade6row5_col17\" class=\"data row5 col17\" >81,435</td>\n",
       "                        <td id=\"T_8e9ca4e4_7766_11ea_acf5_c49ded93ade6row5_col18\" class=\"data row5 col18\" >81,498</td>\n",
       "                        <td id=\"T_8e9ca4e4_7766_11ea_acf5_c49ded93ade6row5_col19\" class=\"data row5 col19\" >81,591</td>\n",
       "                        <td id=\"T_8e9ca4e4_7766_11ea_acf5_c49ded93ade6row5_col20\" class=\"data row5 col20\" >81,661</td>\n",
       "                        <td id=\"T_8e9ca4e4_7766_11ea_acf5_c49ded93ade6row5_col21\" class=\"data row5 col21\" >81,782</td>\n",
       "                        <td id=\"T_8e9ca4e4_7766_11ea_acf5_c49ded93ade6row5_col22\" class=\"data row5 col22\" >81,897</td>\n",
       "                        <td id=\"T_8e9ca4e4_7766_11ea_acf5_c49ded93ade6row5_col23\" class=\"data row5 col23\" >81,999</td>\n",
       "                        <td id=\"T_8e9ca4e4_7766_11ea_acf5_c49ded93ade6row5_col24\" class=\"data row5 col24\" >82,122</td>\n",
       "                        <td id=\"T_8e9ca4e4_7766_11ea_acf5_c49ded93ade6row5_col25\" class=\"data row5 col25\" >82,198</td>\n",
       "                        <td id=\"T_8e9ca4e4_7766_11ea_acf5_c49ded93ade6row5_col26\" class=\"data row5 col26\" >82,279</td>\n",
       "                        <td id=\"T_8e9ca4e4_7766_11ea_acf5_c49ded93ade6row5_col27\" class=\"data row5 col27\" >82,361</td>\n",
       "                        <td id=\"T_8e9ca4e4_7766_11ea_acf5_c49ded93ade6row5_col28\" class=\"data row5 col28\" >82,432</td>\n",
       "                        <td id=\"T_8e9ca4e4_7766_11ea_acf5_c49ded93ade6row5_col29\" class=\"data row5 col29\" >82,511</td>\n",
       "                        <td id=\"T_8e9ca4e4_7766_11ea_acf5_c49ded93ade6row5_col30\" class=\"data row5 col30\" >82,543</td>\n",
       "            </tr>\n",
       "            <tr>\n",
       "                        <th id=\"T_8e9ca4e4_7766_11ea_acf5_c49ded93ade6level0_row6\" class=\"row_heading level0 row6\" >Iran</th>\n",
       "                        <td id=\"T_8e9ca4e4_7766_11ea_acf5_c49ded93ade6row6_col0\" class=\"data row6 col0\" >3,513</td>\n",
       "                        <td id=\"T_8e9ca4e4_7766_11ea_acf5_c49ded93ade6row6_col1\" class=\"data row6 col1\" >4,747</td>\n",
       "                        <td id=\"T_8e9ca4e4_7766_11ea_acf5_c49ded93ade6row6_col2\" class=\"data row6 col2\" >5,823</td>\n",
       "                        <td id=\"T_8e9ca4e4_7766_11ea_acf5_c49ded93ade6row6_col3\" class=\"data row6 col3\" >6,566</td>\n",
       "                        <td id=\"T_8e9ca4e4_7766_11ea_acf5_c49ded93ade6row6_col4\" class=\"data row6 col4\" >7,161</td>\n",
       "                        <td id=\"T_8e9ca4e4_7766_11ea_acf5_c49ded93ade6row6_col5\" class=\"data row6 col5\" >8,042</td>\n",
       "                        <td id=\"T_8e9ca4e4_7766_11ea_acf5_c49ded93ade6row6_col6\" class=\"data row6 col6\" >9,000</td>\n",
       "                        <td id=\"T_8e9ca4e4_7766_11ea_acf5_c49ded93ade6row6_col7\" class=\"data row6 col7\" >10,075</td>\n",
       "                        <td id=\"T_8e9ca4e4_7766_11ea_acf5_c49ded93ade6row6_col8\" class=\"data row6 col8\" >11,364</td>\n",
       "                        <td id=\"T_8e9ca4e4_7766_11ea_acf5_c49ded93ade6row6_col9\" class=\"data row6 col9\" >12,729</td>\n",
       "                        <td id=\"T_8e9ca4e4_7766_11ea_acf5_c49ded93ade6row6_col10\" class=\"data row6 col10\" >13,938</td>\n",
       "                        <td id=\"T_8e9ca4e4_7766_11ea_acf5_c49ded93ade6row6_col11\" class=\"data row6 col11\" >14,991</td>\n",
       "                        <td id=\"T_8e9ca4e4_7766_11ea_acf5_c49ded93ade6row6_col12\" class=\"data row6 col12\" >16,169</td>\n",
       "                        <td id=\"T_8e9ca4e4_7766_11ea_acf5_c49ded93ade6row6_col13\" class=\"data row6 col13\" >17,361</td>\n",
       "                        <td id=\"T_8e9ca4e4_7766_11ea_acf5_c49ded93ade6row6_col14\" class=\"data row6 col14\" >18,407</td>\n",
       "                        <td id=\"T_8e9ca4e4_7766_11ea_acf5_c49ded93ade6row6_col15\" class=\"data row6 col15\" >19,644</td>\n",
       "                        <td id=\"T_8e9ca4e4_7766_11ea_acf5_c49ded93ade6row6_col16\" class=\"data row6 col16\" >20,610</td>\n",
       "                        <td id=\"T_8e9ca4e4_7766_11ea_acf5_c49ded93ade6row6_col17\" class=\"data row6 col17\" >21,638</td>\n",
       "                        <td id=\"T_8e9ca4e4_7766_11ea_acf5_c49ded93ade6row6_col18\" class=\"data row6 col18\" >23,049</td>\n",
       "                        <td id=\"T_8e9ca4e4_7766_11ea_acf5_c49ded93ade6row6_col19\" class=\"data row6 col19\" >24,811</td>\n",
       "                        <td id=\"T_8e9ca4e4_7766_11ea_acf5_c49ded93ade6row6_col20\" class=\"data row6 col20\" >27,017</td>\n",
       "                        <td id=\"T_8e9ca4e4_7766_11ea_acf5_c49ded93ade6row6_col21\" class=\"data row6 col21\" >29,406</td>\n",
       "                        <td id=\"T_8e9ca4e4_7766_11ea_acf5_c49ded93ade6row6_col22\" class=\"data row6 col22\" >32,332</td>\n",
       "                        <td id=\"T_8e9ca4e4_7766_11ea_acf5_c49ded93ade6row6_col23\" class=\"data row6 col23\" >35,408</td>\n",
       "                        <td id=\"T_8e9ca4e4_7766_11ea_acf5_c49ded93ade6row6_col24\" class=\"data row6 col24\" >38,309</td>\n",
       "                        <td id=\"T_8e9ca4e4_7766_11ea_acf5_c49ded93ade6row6_col25\" class=\"data row6 col25\" >41,495</td>\n",
       "                        <td id=\"T_8e9ca4e4_7766_11ea_acf5_c49ded93ade6row6_col26\" class=\"data row6 col26\" >44,605</td>\n",
       "                        <td id=\"T_8e9ca4e4_7766_11ea_acf5_c49ded93ade6row6_col27\" class=\"data row6 col27\" >47,593</td>\n",
       "                        <td id=\"T_8e9ca4e4_7766_11ea_acf5_c49ded93ade6row6_col28\" class=\"data row6 col28\" >50,468</td>\n",
       "                        <td id=\"T_8e9ca4e4_7766_11ea_acf5_c49ded93ade6row6_col29\" class=\"data row6 col29\" >53,183</td>\n",
       "                        <td id=\"T_8e9ca4e4_7766_11ea_acf5_c49ded93ade6row6_col30\" class=\"data row6 col30\" >55,743</td>\n",
       "            </tr>\n",
       "            <tr>\n",
       "                        <th id=\"T_8e9ca4e4_7766_11ea_acf5_c49ded93ade6level0_row7\" class=\"row_heading level0 row7\" >United Kingdom</th>\n",
       "                        <td id=\"T_8e9ca4e4_7766_11ea_acf5_c49ded93ade6row7_col0\" class=\"data row7 col0\" >115</td>\n",
       "                        <td id=\"T_8e9ca4e4_7766_11ea_acf5_c49ded93ade6row7_col1\" class=\"data row7 col1\" >163</td>\n",
       "                        <td id=\"T_8e9ca4e4_7766_11ea_acf5_c49ded93ade6row7_col2\" class=\"data row7 col2\" >206</td>\n",
       "                        <td id=\"T_8e9ca4e4_7766_11ea_acf5_c49ded93ade6row7_col3\" class=\"data row7 col3\" >273</td>\n",
       "                        <td id=\"T_8e9ca4e4_7766_11ea_acf5_c49ded93ade6row7_col4\" class=\"data row7 col4\" >321</td>\n",
       "                        <td id=\"T_8e9ca4e4_7766_11ea_acf5_c49ded93ade6row7_col5\" class=\"data row7 col5\" >382</td>\n",
       "                        <td id=\"T_8e9ca4e4_7766_11ea_acf5_c49ded93ade6row7_col6\" class=\"data row7 col6\" >456</td>\n",
       "                        <td id=\"T_8e9ca4e4_7766_11ea_acf5_c49ded93ade6row7_col7\" class=\"data row7 col7\" >456</td>\n",
       "                        <td id=\"T_8e9ca4e4_7766_11ea_acf5_c49ded93ade6row7_col8\" class=\"data row7 col8\" >798</td>\n",
       "                        <td id=\"T_8e9ca4e4_7766_11ea_acf5_c49ded93ade6row7_col9\" class=\"data row7 col9\" >1,140</td>\n",
       "                        <td id=\"T_8e9ca4e4_7766_11ea_acf5_c49ded93ade6row7_col10\" class=\"data row7 col10\" >1,140</td>\n",
       "                        <td id=\"T_8e9ca4e4_7766_11ea_acf5_c49ded93ade6row7_col11\" class=\"data row7 col11\" >1,543</td>\n",
       "                        <td id=\"T_8e9ca4e4_7766_11ea_acf5_c49ded93ade6row7_col12\" class=\"data row7 col12\" >1,950</td>\n",
       "                        <td id=\"T_8e9ca4e4_7766_11ea_acf5_c49ded93ade6row7_col13\" class=\"data row7 col13\" >2,626</td>\n",
       "                        <td id=\"T_8e9ca4e4_7766_11ea_acf5_c49ded93ade6row7_col14\" class=\"data row7 col14\" >2,689</td>\n",
       "                        <td id=\"T_8e9ca4e4_7766_11ea_acf5_c49ded93ade6row7_col15\" class=\"data row7 col15\" >3,983</td>\n",
       "                        <td id=\"T_8e9ca4e4_7766_11ea_acf5_c49ded93ade6row7_col16\" class=\"data row7 col16\" >5,018</td>\n",
       "                        <td id=\"T_8e9ca4e4_7766_11ea_acf5_c49ded93ade6row7_col17\" class=\"data row7 col17\" >5,683</td>\n",
       "                        <td id=\"T_8e9ca4e4_7766_11ea_acf5_c49ded93ade6row7_col18\" class=\"data row7 col18\" >6,650</td>\n",
       "                        <td id=\"T_8e9ca4e4_7766_11ea_acf5_c49ded93ade6row7_col19\" class=\"data row7 col19\" >8,077</td>\n",
       "                        <td id=\"T_8e9ca4e4_7766_11ea_acf5_c49ded93ade6row7_col20\" class=\"data row7 col20\" >9,529</td>\n",
       "                        <td id=\"T_8e9ca4e4_7766_11ea_acf5_c49ded93ade6row7_col21\" class=\"data row7 col21\" >11,658</td>\n",
       "                        <td id=\"T_8e9ca4e4_7766_11ea_acf5_c49ded93ade6row7_col22\" class=\"data row7 col22\" >14,543</td>\n",
       "                        <td id=\"T_8e9ca4e4_7766_11ea_acf5_c49ded93ade6row7_col23\" class=\"data row7 col23\" >17,089</td>\n",
       "                        <td id=\"T_8e9ca4e4_7766_11ea_acf5_c49ded93ade6row7_col24\" class=\"data row7 col24\" >19,522</td>\n",
       "                        <td id=\"T_8e9ca4e4_7766_11ea_acf5_c49ded93ade6row7_col25\" class=\"data row7 col25\" >22,141</td>\n",
       "                        <td id=\"T_8e9ca4e4_7766_11ea_acf5_c49ded93ade6row7_col26\" class=\"data row7 col26\" >25,150</td>\n",
       "                        <td id=\"T_8e9ca4e4_7766_11ea_acf5_c49ded93ade6row7_col27\" class=\"data row7 col27\" >29,474</td>\n",
       "                        <td id=\"T_8e9ca4e4_7766_11ea_acf5_c49ded93ade6row7_col28\" class=\"data row7 col28\" >33,718</td>\n",
       "                        <td id=\"T_8e9ca4e4_7766_11ea_acf5_c49ded93ade6row7_col29\" class=\"data row7 col29\" >38,168</td>\n",
       "                        <td id=\"T_8e9ca4e4_7766_11ea_acf5_c49ded93ade6row7_col30\" class=\"data row7 col30\" >41,903</td>\n",
       "            </tr>\n",
       "            <tr>\n",
       "                        <th id=\"T_8e9ca4e4_7766_11ea_acf5_c49ded93ade6level0_row8\" class=\"row_heading level0 row8\" >Turkey</th>\n",
       "                        <td id=\"T_8e9ca4e4_7766_11ea_acf5_c49ded93ade6row8_col0\" class=\"data row8 col0\" >-</td>\n",
       "                        <td id=\"T_8e9ca4e4_7766_11ea_acf5_c49ded93ade6row8_col1\" class=\"data row8 col1\" >-</td>\n",
       "                        <td id=\"T_8e9ca4e4_7766_11ea_acf5_c49ded93ade6row8_col2\" class=\"data row8 col2\" >-</td>\n",
       "                        <td id=\"T_8e9ca4e4_7766_11ea_acf5_c49ded93ade6row8_col3\" class=\"data row8 col3\" >-</td>\n",
       "                        <td id=\"T_8e9ca4e4_7766_11ea_acf5_c49ded93ade6row8_col4\" class=\"data row8 col4\" >-</td>\n",
       "                        <td id=\"T_8e9ca4e4_7766_11ea_acf5_c49ded93ade6row8_col5\" class=\"data row8 col5\" >-</td>\n",
       "                        <td id=\"T_8e9ca4e4_7766_11ea_acf5_c49ded93ade6row8_col6\" class=\"data row8 col6\" >1</td>\n",
       "                        <td id=\"T_8e9ca4e4_7766_11ea_acf5_c49ded93ade6row8_col7\" class=\"data row8 col7\" >1</td>\n",
       "                        <td id=\"T_8e9ca4e4_7766_11ea_acf5_c49ded93ade6row8_col8\" class=\"data row8 col8\" >5</td>\n",
       "                        <td id=\"T_8e9ca4e4_7766_11ea_acf5_c49ded93ade6row8_col9\" class=\"data row8 col9\" >5</td>\n",
       "                        <td id=\"T_8e9ca4e4_7766_11ea_acf5_c49ded93ade6row8_col10\" class=\"data row8 col10\" >6</td>\n",
       "                        <td id=\"T_8e9ca4e4_7766_11ea_acf5_c49ded93ade6row8_col11\" class=\"data row8 col11\" >18</td>\n",
       "                        <td id=\"T_8e9ca4e4_7766_11ea_acf5_c49ded93ade6row8_col12\" class=\"data row8 col12\" >47</td>\n",
       "                        <td id=\"T_8e9ca4e4_7766_11ea_acf5_c49ded93ade6row8_col13\" class=\"data row8 col13\" >98</td>\n",
       "                        <td id=\"T_8e9ca4e4_7766_11ea_acf5_c49ded93ade6row8_col14\" class=\"data row8 col14\" >192</td>\n",
       "                        <td id=\"T_8e9ca4e4_7766_11ea_acf5_c49ded93ade6row8_col15\" class=\"data row8 col15\" >359</td>\n",
       "                        <td id=\"T_8e9ca4e4_7766_11ea_acf5_c49ded93ade6row8_col16\" class=\"data row8 col16\" >670</td>\n",
       "                        <td id=\"T_8e9ca4e4_7766_11ea_acf5_c49ded93ade6row8_col17\" class=\"data row8 col17\" >1,236</td>\n",
       "                        <td id=\"T_8e9ca4e4_7766_11ea_acf5_c49ded93ade6row8_col18\" class=\"data row8 col18\" >1,529</td>\n",
       "                        <td id=\"T_8e9ca4e4_7766_11ea_acf5_c49ded93ade6row8_col19\" class=\"data row8 col19\" >1,872</td>\n",
       "                        <td id=\"T_8e9ca4e4_7766_11ea_acf5_c49ded93ade6row8_col20\" class=\"data row8 col20\" >2,433</td>\n",
       "                        <td id=\"T_8e9ca4e4_7766_11ea_acf5_c49ded93ade6row8_col21\" class=\"data row8 col21\" >3,629</td>\n",
       "                        <td id=\"T_8e9ca4e4_7766_11ea_acf5_c49ded93ade6row8_col22\" class=\"data row8 col22\" >5,698</td>\n",
       "                        <td id=\"T_8e9ca4e4_7766_11ea_acf5_c49ded93ade6row8_col23\" class=\"data row8 col23\" >7,402</td>\n",
       "                        <td id=\"T_8e9ca4e4_7766_11ea_acf5_c49ded93ade6row8_col24\" class=\"data row8 col24\" >9,217</td>\n",
       "                        <td id=\"T_8e9ca4e4_7766_11ea_acf5_c49ded93ade6row8_col25\" class=\"data row8 col25\" >10,827</td>\n",
       "                        <td id=\"T_8e9ca4e4_7766_11ea_acf5_c49ded93ade6row8_col26\" class=\"data row8 col26\" >13,531</td>\n",
       "                        <td id=\"T_8e9ca4e4_7766_11ea_acf5_c49ded93ade6row8_col27\" class=\"data row8 col27\" >15,679</td>\n",
       "                        <td id=\"T_8e9ca4e4_7766_11ea_acf5_c49ded93ade6row8_col28\" class=\"data row8 col28\" >18,135</td>\n",
       "                        <td id=\"T_8e9ca4e4_7766_11ea_acf5_c49ded93ade6row8_col29\" class=\"data row8 col29\" >20,921</td>\n",
       "                        <td id=\"T_8e9ca4e4_7766_11ea_acf5_c49ded93ade6row8_col30\" class=\"data row8 col30\" >23,934</td>\n",
       "            </tr>\n",
       "            <tr>\n",
       "                        <th id=\"T_8e9ca4e4_7766_11ea_acf5_c49ded93ade6level0_row9\" class=\"row_heading level0 row9\" >Switzerland</th>\n",
       "                        <td id=\"T_8e9ca4e4_7766_11ea_acf5_c49ded93ade6row9_col0\" class=\"data row9 col0\" >114</td>\n",
       "                        <td id=\"T_8e9ca4e4_7766_11ea_acf5_c49ded93ade6row9_col1\" class=\"data row9 col1\" >214</td>\n",
       "                        <td id=\"T_8e9ca4e4_7766_11ea_acf5_c49ded93ade6row9_col2\" class=\"data row9 col2\" >268</td>\n",
       "                        <td id=\"T_8e9ca4e4_7766_11ea_acf5_c49ded93ade6row9_col3\" class=\"data row9 col3\" >337</td>\n",
       "                        <td id=\"T_8e9ca4e4_7766_11ea_acf5_c49ded93ade6row9_col4\" class=\"data row9 col4\" >374</td>\n",
       "                        <td id=\"T_8e9ca4e4_7766_11ea_acf5_c49ded93ade6row9_col5\" class=\"data row9 col5\" >491</td>\n",
       "                        <td id=\"T_8e9ca4e4_7766_11ea_acf5_c49ded93ade6row9_col6\" class=\"data row9 col6\" >652</td>\n",
       "                        <td id=\"T_8e9ca4e4_7766_11ea_acf5_c49ded93ade6row9_col7\" class=\"data row9 col7\" >652</td>\n",
       "                        <td id=\"T_8e9ca4e4_7766_11ea_acf5_c49ded93ade6row9_col8\" class=\"data row9 col8\" >1,139</td>\n",
       "                        <td id=\"T_8e9ca4e4_7766_11ea_acf5_c49ded93ade6row9_col9\" class=\"data row9 col9\" >1,359</td>\n",
       "                        <td id=\"T_8e9ca4e4_7766_11ea_acf5_c49ded93ade6row9_col10\" class=\"data row9 col10\" >2,200</td>\n",
       "                        <td id=\"T_8e9ca4e4_7766_11ea_acf5_c49ded93ade6row9_col11\" class=\"data row9 col11\" >2,200</td>\n",
       "                        <td id=\"T_8e9ca4e4_7766_11ea_acf5_c49ded93ade6row9_col12\" class=\"data row9 col12\" >2,700</td>\n",
       "                        <td id=\"T_8e9ca4e4_7766_11ea_acf5_c49ded93ade6row9_col13\" class=\"data row9 col13\" >3,028</td>\n",
       "                        <td id=\"T_8e9ca4e4_7766_11ea_acf5_c49ded93ade6row9_col14\" class=\"data row9 col14\" >4,075</td>\n",
       "                        <td id=\"T_8e9ca4e4_7766_11ea_acf5_c49ded93ade6row9_col15\" class=\"data row9 col15\" >5,294</td>\n",
       "                        <td id=\"T_8e9ca4e4_7766_11ea_acf5_c49ded93ade6row9_col16\" class=\"data row9 col16\" >6,575</td>\n",
       "                        <td id=\"T_8e9ca4e4_7766_11ea_acf5_c49ded93ade6row9_col17\" class=\"data row9 col17\" >7,474</td>\n",
       "                        <td id=\"T_8e9ca4e4_7766_11ea_acf5_c49ded93ade6row9_col18\" class=\"data row9 col18\" >8,795</td>\n",
       "                        <td id=\"T_8e9ca4e4_7766_11ea_acf5_c49ded93ade6row9_col19\" class=\"data row9 col19\" >9,877</td>\n",
       "                        <td id=\"T_8e9ca4e4_7766_11ea_acf5_c49ded93ade6row9_col20\" class=\"data row9 col20\" >10,897</td>\n",
       "                        <td id=\"T_8e9ca4e4_7766_11ea_acf5_c49ded93ade6row9_col21\" class=\"data row9 col21\" >11,811</td>\n",
       "                        <td id=\"T_8e9ca4e4_7766_11ea_acf5_c49ded93ade6row9_col22\" class=\"data row9 col22\" >12,928</td>\n",
       "                        <td id=\"T_8e9ca4e4_7766_11ea_acf5_c49ded93ade6row9_col23\" class=\"data row9 col23\" >14,076</td>\n",
       "                        <td id=\"T_8e9ca4e4_7766_11ea_acf5_c49ded93ade6row9_col24\" class=\"data row9 col24\" >14,829</td>\n",
       "                        <td id=\"T_8e9ca4e4_7766_11ea_acf5_c49ded93ade6row9_col25\" class=\"data row9 col25\" >15,922</td>\n",
       "                        <td id=\"T_8e9ca4e4_7766_11ea_acf5_c49ded93ade6row9_col26\" class=\"data row9 col26\" >16,605</td>\n",
       "                        <td id=\"T_8e9ca4e4_7766_11ea_acf5_c49ded93ade6row9_col27\" class=\"data row9 col27\" >17,768</td>\n",
       "                        <td id=\"T_8e9ca4e4_7766_11ea_acf5_c49ded93ade6row9_col28\" class=\"data row9 col28\" >18,827</td>\n",
       "                        <td id=\"T_8e9ca4e4_7766_11ea_acf5_c49ded93ade6row9_col29\" class=\"data row9 col29\" >19,606</td>\n",
       "                        <td id=\"T_8e9ca4e4_7766_11ea_acf5_c49ded93ade6row9_col30\" class=\"data row9 col30\" >20,505</td>\n",
       "            </tr>\n",
       "            <tr>\n",
       "                        <th id=\"T_8e9ca4e4_7766_11ea_acf5_c49ded93ade6level0_row10\" class=\"row_heading level0 row10\" >Belgium</th>\n",
       "                        <td id=\"T_8e9ca4e4_7766_11ea_acf5_c49ded93ade6row10_col0\" class=\"data row10 col0\" >50</td>\n",
       "                        <td id=\"T_8e9ca4e4_7766_11ea_acf5_c49ded93ade6row10_col1\" class=\"data row10 col1\" >109</td>\n",
       "                        <td id=\"T_8e9ca4e4_7766_11ea_acf5_c49ded93ade6row10_col2\" class=\"data row10 col2\" >169</td>\n",
       "                        <td id=\"T_8e9ca4e4_7766_11ea_acf5_c49ded93ade6row10_col3\" class=\"data row10 col3\" >200</td>\n",
       "                        <td id=\"T_8e9ca4e4_7766_11ea_acf5_c49ded93ade6row10_col4\" class=\"data row10 col4\" >239</td>\n",
       "                        <td id=\"T_8e9ca4e4_7766_11ea_acf5_c49ded93ade6row10_col5\" class=\"data row10 col5\" >267</td>\n",
       "                        <td id=\"T_8e9ca4e4_7766_11ea_acf5_c49ded93ade6row10_col6\" class=\"data row10 col6\" >314</td>\n",
       "                        <td id=\"T_8e9ca4e4_7766_11ea_acf5_c49ded93ade6row10_col7\" class=\"data row10 col7\" >314</td>\n",
       "                        <td id=\"T_8e9ca4e4_7766_11ea_acf5_c49ded93ade6row10_col8\" class=\"data row10 col8\" >559</td>\n",
       "                        <td id=\"T_8e9ca4e4_7766_11ea_acf5_c49ded93ade6row10_col9\" class=\"data row10 col9\" >689</td>\n",
       "                        <td id=\"T_8e9ca4e4_7766_11ea_acf5_c49ded93ade6row10_col10\" class=\"data row10 col10\" >886</td>\n",
       "                        <td id=\"T_8e9ca4e4_7766_11ea_acf5_c49ded93ade6row10_col11\" class=\"data row10 col11\" >1,058</td>\n",
       "                        <td id=\"T_8e9ca4e4_7766_11ea_acf5_c49ded93ade6row10_col12\" class=\"data row10 col12\" >1,243</td>\n",
       "                        <td id=\"T_8e9ca4e4_7766_11ea_acf5_c49ded93ade6row10_col13\" class=\"data row10 col13\" >1,486</td>\n",
       "                        <td id=\"T_8e9ca4e4_7766_11ea_acf5_c49ded93ade6row10_col14\" class=\"data row10 col14\" >1,795</td>\n",
       "                        <td id=\"T_8e9ca4e4_7766_11ea_acf5_c49ded93ade6row10_col15\" class=\"data row10 col15\" >2,257</td>\n",
       "                        <td id=\"T_8e9ca4e4_7766_11ea_acf5_c49ded93ade6row10_col16\" class=\"data row10 col16\" >2,815</td>\n",
       "                        <td id=\"T_8e9ca4e4_7766_11ea_acf5_c49ded93ade6row10_col17\" class=\"data row10 col17\" >3,401</td>\n",
       "                        <td id=\"T_8e9ca4e4_7766_11ea_acf5_c49ded93ade6row10_col18\" class=\"data row10 col18\" >3,743</td>\n",
       "                        <td id=\"T_8e9ca4e4_7766_11ea_acf5_c49ded93ade6row10_col19\" class=\"data row10 col19\" >4,269</td>\n",
       "                        <td id=\"T_8e9ca4e4_7766_11ea_acf5_c49ded93ade6row10_col20\" class=\"data row10 col20\" >4,937</td>\n",
       "                        <td id=\"T_8e9ca4e4_7766_11ea_acf5_c49ded93ade6row10_col21\" class=\"data row10 col21\" >6,235</td>\n",
       "                        <td id=\"T_8e9ca4e4_7766_11ea_acf5_c49ded93ade6row10_col22\" class=\"data row10 col22\" >7,284</td>\n",
       "                        <td id=\"T_8e9ca4e4_7766_11ea_acf5_c49ded93ade6row10_col23\" class=\"data row10 col23\" >9,134</td>\n",
       "                        <td id=\"T_8e9ca4e4_7766_11ea_acf5_c49ded93ade6row10_col24\" class=\"data row10 col24\" >10,836</td>\n",
       "                        <td id=\"T_8e9ca4e4_7766_11ea_acf5_c49ded93ade6row10_col25\" class=\"data row10 col25\" >11,899</td>\n",
       "                        <td id=\"T_8e9ca4e4_7766_11ea_acf5_c49ded93ade6row10_col26\" class=\"data row10 col26\" >12,775</td>\n",
       "                        <td id=\"T_8e9ca4e4_7766_11ea_acf5_c49ded93ade6row10_col27\" class=\"data row10 col27\" >13,964</td>\n",
       "                        <td id=\"T_8e9ca4e4_7766_11ea_acf5_c49ded93ade6row10_col28\" class=\"data row10 col28\" >15,348</td>\n",
       "                        <td id=\"T_8e9ca4e4_7766_11ea_acf5_c49ded93ade6row10_col29\" class=\"data row10 col29\" >16,770</td>\n",
       "                        <td id=\"T_8e9ca4e4_7766_11ea_acf5_c49ded93ade6row10_col30\" class=\"data row10 col30\" >18,431</td>\n",
       "            </tr>\n",
       "    </tbody></table>"
      ],
      "text/plain": [
       "<pandas.io.formats.style.Styler at 0x107bdff0>"
      ]
     },
     "execution_count": 17,
     "metadata": {},
     "output_type": "execute_result"
    }
   ],
   "source": [
    "chinaDataConfirmed = dfConfirmedGlobal[dfConfirmedGlobal['Country/Region'] == 'China'].sum()\n",
    "chinaDataConfirmed['Province/State', 'Country/Region'] = [np.NaN, 'China']\n",
    "\n",
    "dfConfirmedWorldTop = dfConfirmedGlobal[dfConfirmedGlobal['Country/Region'] != 'China'].sort_values(dfConfirmedGlobal.columns[-1], ascending=False).head(10)\n",
    "dfConfirmedWorldTop = dfConfirmedWorldTop.append(chinaDataConfirmed, ignore_index=True)\n",
    "dfConfirmedWorldTop = dfConfirmedWorldTop.sort_values(dfConfirmedGlobal.columns[-1], ascending=False)\n",
    "dfConfirmedWorldTop = dfConfirmedWorldTop.set_index('Country/Region')\n",
    "\n",
    "data = [{\n",
    "    'x': row[1].index[-MONTH_DAYS:],\n",
    "    'y': row[1].values[-MONTH_DAYS:],\n",
    "    'name': row[0]\n",
    "}  for row in dfConfirmedWorldTop.iterrows()]\n",
    "\n",
    "layout = dict(title = 'World Cumulative Confirmed Cases', updatemenus=LogLinearScale)\n",
    "py.iplot(dict(data=data, layout=layout))\n",
    "\n",
    "\n",
    "dfConfirmedWorldTop[dfConfirmedWorldTop.columns[-MONTH_DAYS:]].style.format(IntegerFormatter)"
   ]
  },
  {
   "cell_type": "code",
   "execution_count": 18,
   "metadata": {
    "ExecuteTime": {
     "end_time": "2020-04-05T17:54:56.502075Z",
     "start_time": "2020-04-05T17:54:55.164414Z"
    }
   },
   "outputs": [
    {
     "data": {
      "application/vnd.plotly.v1+json": {
       "config": {
        "linkText": "Export to plot.ly",
        "plotlyServerURL": "https://plot.ly",
        "showLink": false
       },
       "data": [
        {
         "name": "US",
         "type": "scatter",
         "x": [
          "3/5/20",
          "3/6/20",
          "3/7/20",
          "3/8/20",
          "3/9/20",
          "3/10/20",
          "3/11/20",
          "3/12/20",
          "3/13/20",
          "3/14/20",
          "3/15/20",
          "3/16/20",
          "3/17/20",
          "3/18/20",
          "3/19/20",
          "3/20/20",
          "3/21/20",
          "3/22/20",
          "3/23/20",
          "3/24/20",
          "3/25/20",
          "3/26/20",
          "3/27/20",
          "3/28/20",
          "3/29/20",
          "3/30/20",
          "3/31/20",
          "4/1/20",
          "4/2/20",
          "4/3/20",
          "4/4/20"
         ],
         "y": [
          68,
          45,
          140,
          116,
          65,
          376,
          322,
          382,
          516,
          548,
          772,
          1133,
          1789,
          1362,
          5894,
          5423,
          6389,
          7787,
          10571,
          9893,
          12038,
          18058,
          17821,
          19821,
          19408,
          20921,
          26365,
          25200,
          30081,
          32133,
          33264
         ]
        },
        {
         "name": "Spain",
         "type": "scatter",
         "x": [
          "3/5/20",
          "3/6/20",
          "3/7/20",
          "3/8/20",
          "3/9/20",
          "3/10/20",
          "3/11/20",
          "3/12/20",
          "3/13/20",
          "3/14/20",
          "3/15/20",
          "3/16/20",
          "3/17/20",
          "3/18/20",
          "3/19/20",
          "3/20/20",
          "3/21/20",
          "3/22/20",
          "3/23/20",
          "3/24/20",
          "3/25/20",
          "3/26/20",
          "3/27/20",
          "3/28/20",
          "3/29/20",
          "3/30/20",
          "3/31/20",
          "4/1/20",
          "4/2/20",
          "4/3/20",
          "4/4/20"
         ],
         "y": [
          37,
          141,
          100,
          173,
          400,
          622,
          582,
          0,
          2955,
          1159,
          1407,
          2144,
          1806,
          2162,
          4053,
          2447,
          4964,
          3394,
          6368,
          4749,
          9630,
          8271,
          7933,
          7516,
          6875,
          7846,
          7967,
          8195,
          7947,
          7134,
          6969
         ]
        },
        {
         "name": "Italy",
         "type": "scatter",
         "x": [
          "3/5/20",
          "3/6/20",
          "3/7/20",
          "3/8/20",
          "3/9/20",
          "3/10/20",
          "3/11/20",
          "3/12/20",
          "3/13/20",
          "3/14/20",
          "3/15/20",
          "3/16/20",
          "3/17/20",
          "3/18/20",
          "3/19/20",
          "3/20/20",
          "3/21/20",
          "3/22/20",
          "3/23/20",
          "3/24/20",
          "3/25/20",
          "3/26/20",
          "3/27/20",
          "3/28/20",
          "3/29/20",
          "3/30/20",
          "3/31/20",
          "4/1/20",
          "4/2/20",
          "4/3/20",
          "4/4/20"
         ],
         "y": [
          769,
          778,
          1247,
          1492,
          1797,
          977,
          2313,
          0,
          5198,
          3497,
          3590,
          3233,
          3526,
          4207,
          5322,
          5986,
          6557,
          5560,
          4789,
          5249,
          5210,
          6203,
          5909,
          5974,
          5217,
          4050,
          4053,
          4782,
          4668,
          4585,
          4805
         ]
        },
        {
         "name": "Germany",
         "type": "scatter",
         "x": [
          "3/5/20",
          "3/6/20",
          "3/7/20",
          "3/8/20",
          "3/9/20",
          "3/10/20",
          "3/11/20",
          "3/12/20",
          "3/13/20",
          "3/14/20",
          "3/15/20",
          "3/16/20",
          "3/17/20",
          "3/18/20",
          "3/19/20",
          "3/20/20",
          "3/21/20",
          "3/22/20",
          "3/23/20",
          "3/24/20",
          "3/25/20",
          "3/26/20",
          "3/27/20",
          "3/28/20",
          "3/29/20",
          "3/30/20",
          "3/31/20",
          "4/1/20",
          "4/2/20",
          "4/3/20",
          "4/4/20"
         ],
         "y": [
          220,
          188,
          129,
          241,
          136,
          281,
          451,
          170,
          1597,
          910,
          1210,
          1477,
          1985,
          3070,
          2993,
          4528,
          2365,
          2660,
          4183,
          3930,
          4337,
          6615,
          6933,
          6824,
          4400,
          4790,
          4923,
          6064,
          6922,
          6365,
          4933
         ]
        },
        {
         "name": "France",
         "type": "scatter",
         "x": [
          "3/5/20",
          "3/6/20",
          "3/7/20",
          "3/8/20",
          "3/9/20",
          "3/10/20",
          "3/11/20",
          "3/12/20",
          "3/13/20",
          "3/14/20",
          "3/15/20",
          "3/16/20",
          "3/17/20",
          "3/18/20",
          "3/19/20",
          "3/20/20",
          "3/21/20",
          "3/22/20",
          "3/23/20",
          "3/24/20",
          "3/25/20",
          "3/26/20",
          "3/27/20",
          "3/28/20",
          "3/29/20",
          "3/30/20",
          "3/31/20",
          "4/1/20",
          "4/2/20",
          "4/3/20",
          "4/4/20"
         ],
         "y": [
          92,
          276,
          296,
          177,
          83,
          575,
          497,
          0,
          1380,
          808,
          30,
          2134,
          1019,
          1391,
          1828,
          1741,
          1670,
          1736,
          3838,
          2448,
          2929,
          3922,
          3809,
          4611,
          2599,
          4376,
          7578,
          4861,
          2116,
          5233,
          25615
         ]
        }
       ],
       "layout": {
        "template": {
         "data": {
          "bar": [
           {
            "error_x": {
             "color": "#2a3f5f"
            },
            "error_y": {
             "color": "#2a3f5f"
            },
            "marker": {
             "line": {
              "color": "#E5ECF6",
              "width": 0.5
             }
            },
            "type": "bar"
           }
          ],
          "barpolar": [
           {
            "marker": {
             "line": {
              "color": "#E5ECF6",
              "width": 0.5
             }
            },
            "type": "barpolar"
           }
          ],
          "carpet": [
           {
            "aaxis": {
             "endlinecolor": "#2a3f5f",
             "gridcolor": "white",
             "linecolor": "white",
             "minorgridcolor": "white",
             "startlinecolor": "#2a3f5f"
            },
            "baxis": {
             "endlinecolor": "#2a3f5f",
             "gridcolor": "white",
             "linecolor": "white",
             "minorgridcolor": "white",
             "startlinecolor": "#2a3f5f"
            },
            "type": "carpet"
           }
          ],
          "choropleth": [
           {
            "colorbar": {
             "outlinewidth": 0,
             "ticks": ""
            },
            "type": "choropleth"
           }
          ],
          "contour": [
           {
            "colorbar": {
             "outlinewidth": 0,
             "ticks": ""
            },
            "colorscale": [
             [
              0,
              "#0d0887"
             ],
             [
              0.1111111111111111,
              "#46039f"
             ],
             [
              0.2222222222222222,
              "#7201a8"
             ],
             [
              0.3333333333333333,
              "#9c179e"
             ],
             [
              0.4444444444444444,
              "#bd3786"
             ],
             [
              0.5555555555555556,
              "#d8576b"
             ],
             [
              0.6666666666666666,
              "#ed7953"
             ],
             [
              0.7777777777777778,
              "#fb9f3a"
             ],
             [
              0.8888888888888888,
              "#fdca26"
             ],
             [
              1,
              "#f0f921"
             ]
            ],
            "type": "contour"
           }
          ],
          "contourcarpet": [
           {
            "colorbar": {
             "outlinewidth": 0,
             "ticks": ""
            },
            "type": "contourcarpet"
           }
          ],
          "heatmap": [
           {
            "colorbar": {
             "outlinewidth": 0,
             "ticks": ""
            },
            "colorscale": [
             [
              0,
              "#0d0887"
             ],
             [
              0.1111111111111111,
              "#46039f"
             ],
             [
              0.2222222222222222,
              "#7201a8"
             ],
             [
              0.3333333333333333,
              "#9c179e"
             ],
             [
              0.4444444444444444,
              "#bd3786"
             ],
             [
              0.5555555555555556,
              "#d8576b"
             ],
             [
              0.6666666666666666,
              "#ed7953"
             ],
             [
              0.7777777777777778,
              "#fb9f3a"
             ],
             [
              0.8888888888888888,
              "#fdca26"
             ],
             [
              1,
              "#f0f921"
             ]
            ],
            "type": "heatmap"
           }
          ],
          "heatmapgl": [
           {
            "colorbar": {
             "outlinewidth": 0,
             "ticks": ""
            },
            "colorscale": [
             [
              0,
              "#0d0887"
             ],
             [
              0.1111111111111111,
              "#46039f"
             ],
             [
              0.2222222222222222,
              "#7201a8"
             ],
             [
              0.3333333333333333,
              "#9c179e"
             ],
             [
              0.4444444444444444,
              "#bd3786"
             ],
             [
              0.5555555555555556,
              "#d8576b"
             ],
             [
              0.6666666666666666,
              "#ed7953"
             ],
             [
              0.7777777777777778,
              "#fb9f3a"
             ],
             [
              0.8888888888888888,
              "#fdca26"
             ],
             [
              1,
              "#f0f921"
             ]
            ],
            "type": "heatmapgl"
           }
          ],
          "histogram": [
           {
            "marker": {
             "colorbar": {
              "outlinewidth": 0,
              "ticks": ""
             }
            },
            "type": "histogram"
           }
          ],
          "histogram2d": [
           {
            "colorbar": {
             "outlinewidth": 0,
             "ticks": ""
            },
            "colorscale": [
             [
              0,
              "#0d0887"
             ],
             [
              0.1111111111111111,
              "#46039f"
             ],
             [
              0.2222222222222222,
              "#7201a8"
             ],
             [
              0.3333333333333333,
              "#9c179e"
             ],
             [
              0.4444444444444444,
              "#bd3786"
             ],
             [
              0.5555555555555556,
              "#d8576b"
             ],
             [
              0.6666666666666666,
              "#ed7953"
             ],
             [
              0.7777777777777778,
              "#fb9f3a"
             ],
             [
              0.8888888888888888,
              "#fdca26"
             ],
             [
              1,
              "#f0f921"
             ]
            ],
            "type": "histogram2d"
           }
          ],
          "histogram2dcontour": [
           {
            "colorbar": {
             "outlinewidth": 0,
             "ticks": ""
            },
            "colorscale": [
             [
              0,
              "#0d0887"
             ],
             [
              0.1111111111111111,
              "#46039f"
             ],
             [
              0.2222222222222222,
              "#7201a8"
             ],
             [
              0.3333333333333333,
              "#9c179e"
             ],
             [
              0.4444444444444444,
              "#bd3786"
             ],
             [
              0.5555555555555556,
              "#d8576b"
             ],
             [
              0.6666666666666666,
              "#ed7953"
             ],
             [
              0.7777777777777778,
              "#fb9f3a"
             ],
             [
              0.8888888888888888,
              "#fdca26"
             ],
             [
              1,
              "#f0f921"
             ]
            ],
            "type": "histogram2dcontour"
           }
          ],
          "mesh3d": [
           {
            "colorbar": {
             "outlinewidth": 0,
             "ticks": ""
            },
            "type": "mesh3d"
           }
          ],
          "parcoords": [
           {
            "line": {
             "colorbar": {
              "outlinewidth": 0,
              "ticks": ""
             }
            },
            "type": "parcoords"
           }
          ],
          "pie": [
           {
            "automargin": true,
            "type": "pie"
           }
          ],
          "scatter": [
           {
            "marker": {
             "colorbar": {
              "outlinewidth": 0,
              "ticks": ""
             }
            },
            "type": "scatter"
           }
          ],
          "scatter3d": [
           {
            "line": {
             "colorbar": {
              "outlinewidth": 0,
              "ticks": ""
             }
            },
            "marker": {
             "colorbar": {
              "outlinewidth": 0,
              "ticks": ""
             }
            },
            "type": "scatter3d"
           }
          ],
          "scattercarpet": [
           {
            "marker": {
             "colorbar": {
              "outlinewidth": 0,
              "ticks": ""
             }
            },
            "type": "scattercarpet"
           }
          ],
          "scattergeo": [
           {
            "marker": {
             "colorbar": {
              "outlinewidth": 0,
              "ticks": ""
             }
            },
            "type": "scattergeo"
           }
          ],
          "scattergl": [
           {
            "marker": {
             "colorbar": {
              "outlinewidth": 0,
              "ticks": ""
             }
            },
            "type": "scattergl"
           }
          ],
          "scattermapbox": [
           {
            "marker": {
             "colorbar": {
              "outlinewidth": 0,
              "ticks": ""
             }
            },
            "type": "scattermapbox"
           }
          ],
          "scatterpolar": [
           {
            "marker": {
             "colorbar": {
              "outlinewidth": 0,
              "ticks": ""
             }
            },
            "type": "scatterpolar"
           }
          ],
          "scatterpolargl": [
           {
            "marker": {
             "colorbar": {
              "outlinewidth": 0,
              "ticks": ""
             }
            },
            "type": "scatterpolargl"
           }
          ],
          "scatterternary": [
           {
            "marker": {
             "colorbar": {
              "outlinewidth": 0,
              "ticks": ""
             }
            },
            "type": "scatterternary"
           }
          ],
          "surface": [
           {
            "colorbar": {
             "outlinewidth": 0,
             "ticks": ""
            },
            "colorscale": [
             [
              0,
              "#0d0887"
             ],
             [
              0.1111111111111111,
              "#46039f"
             ],
             [
              0.2222222222222222,
              "#7201a8"
             ],
             [
              0.3333333333333333,
              "#9c179e"
             ],
             [
              0.4444444444444444,
              "#bd3786"
             ],
             [
              0.5555555555555556,
              "#d8576b"
             ],
             [
              0.6666666666666666,
              "#ed7953"
             ],
             [
              0.7777777777777778,
              "#fb9f3a"
             ],
             [
              0.8888888888888888,
              "#fdca26"
             ],
             [
              1,
              "#f0f921"
             ]
            ],
            "type": "surface"
           }
          ],
          "table": [
           {
            "cells": {
             "fill": {
              "color": "#EBF0F8"
             },
             "line": {
              "color": "white"
             }
            },
            "header": {
             "fill": {
              "color": "#C8D4E3"
             },
             "line": {
              "color": "white"
             }
            },
            "type": "table"
           }
          ]
         },
         "layout": {
          "annotationdefaults": {
           "arrowcolor": "#2a3f5f",
           "arrowhead": 0,
           "arrowwidth": 1
          },
          "coloraxis": {
           "colorbar": {
            "outlinewidth": 0,
            "ticks": ""
           }
          },
          "colorscale": {
           "diverging": [
            [
             0,
             "#8e0152"
            ],
            [
             0.1,
             "#c51b7d"
            ],
            [
             0.2,
             "#de77ae"
            ],
            [
             0.3,
             "#f1b6da"
            ],
            [
             0.4,
             "#fde0ef"
            ],
            [
             0.5,
             "#f7f7f7"
            ],
            [
             0.6,
             "#e6f5d0"
            ],
            [
             0.7,
             "#b8e186"
            ],
            [
             0.8,
             "#7fbc41"
            ],
            [
             0.9,
             "#4d9221"
            ],
            [
             1,
             "#276419"
            ]
           ],
           "sequential": [
            [
             0,
             "#0d0887"
            ],
            [
             0.1111111111111111,
             "#46039f"
            ],
            [
             0.2222222222222222,
             "#7201a8"
            ],
            [
             0.3333333333333333,
             "#9c179e"
            ],
            [
             0.4444444444444444,
             "#bd3786"
            ],
            [
             0.5555555555555556,
             "#d8576b"
            ],
            [
             0.6666666666666666,
             "#ed7953"
            ],
            [
             0.7777777777777778,
             "#fb9f3a"
            ],
            [
             0.8888888888888888,
             "#fdca26"
            ],
            [
             1,
             "#f0f921"
            ]
           ],
           "sequentialminus": [
            [
             0,
             "#0d0887"
            ],
            [
             0.1111111111111111,
             "#46039f"
            ],
            [
             0.2222222222222222,
             "#7201a8"
            ],
            [
             0.3333333333333333,
             "#9c179e"
            ],
            [
             0.4444444444444444,
             "#bd3786"
            ],
            [
             0.5555555555555556,
             "#d8576b"
            ],
            [
             0.6666666666666666,
             "#ed7953"
            ],
            [
             0.7777777777777778,
             "#fb9f3a"
            ],
            [
             0.8888888888888888,
             "#fdca26"
            ],
            [
             1,
             "#f0f921"
            ]
           ]
          },
          "colorway": [
           "#636efa",
           "#EF553B",
           "#00cc96",
           "#ab63fa",
           "#FFA15A",
           "#19d3f3",
           "#FF6692",
           "#B6E880",
           "#FF97FF",
           "#FECB52"
          ],
          "font": {
           "color": "#2a3f5f"
          },
          "geo": {
           "bgcolor": "white",
           "lakecolor": "white",
           "landcolor": "#E5ECF6",
           "showlakes": true,
           "showland": true,
           "subunitcolor": "white"
          },
          "hoverlabel": {
           "align": "left"
          },
          "hovermode": "closest",
          "mapbox": {
           "style": "light"
          },
          "paper_bgcolor": "white",
          "plot_bgcolor": "#E5ECF6",
          "polar": {
           "angularaxis": {
            "gridcolor": "white",
            "linecolor": "white",
            "ticks": ""
           },
           "bgcolor": "#E5ECF6",
           "radialaxis": {
            "gridcolor": "white",
            "linecolor": "white",
            "ticks": ""
           }
          },
          "scene": {
           "xaxis": {
            "backgroundcolor": "#E5ECF6",
            "gridcolor": "white",
            "gridwidth": 2,
            "linecolor": "white",
            "showbackground": true,
            "ticks": "",
            "zerolinecolor": "white"
           },
           "yaxis": {
            "backgroundcolor": "#E5ECF6",
            "gridcolor": "white",
            "gridwidth": 2,
            "linecolor": "white",
            "showbackground": true,
            "ticks": "",
            "zerolinecolor": "white"
           },
           "zaxis": {
            "backgroundcolor": "#E5ECF6",
            "gridcolor": "white",
            "gridwidth": 2,
            "linecolor": "white",
            "showbackground": true,
            "ticks": "",
            "zerolinecolor": "white"
           }
          },
          "shapedefaults": {
           "line": {
            "color": "#2a3f5f"
           }
          },
          "ternary": {
           "aaxis": {
            "gridcolor": "white",
            "linecolor": "white",
            "ticks": ""
           },
           "baxis": {
            "gridcolor": "white",
            "linecolor": "white",
            "ticks": ""
           },
           "bgcolor": "#E5ECF6",
           "caxis": {
            "gridcolor": "white",
            "linecolor": "white",
            "ticks": ""
           }
          },
          "title": {
           "x": 0.05
          },
          "xaxis": {
           "automargin": true,
           "gridcolor": "white",
           "linecolor": "white",
           "ticks": "",
           "title": {
            "standoff": 15
           },
           "zerolinecolor": "white",
           "zerolinewidth": 2
          },
          "yaxis": {
           "automargin": true,
           "gridcolor": "white",
           "linecolor": "white",
           "ticks": "",
           "title": {
            "standoff": 15
           },
           "zerolinecolor": "white",
           "zerolinewidth": 2
          }
         }
        },
        "title": {
         "text": "World Daily New Confirmed Cases"
        },
        "updatemenus": [
         {
          "active": 0,
          "buttons": [
           {
            "args": [
             {
              "visible": [
               true,
               true
              ]
             },
             {
              "yaxis": {
               "type": "linear"
              }
             }
            ],
            "label": "Linear Scale",
            "method": "update"
           },
           {
            "args": [
             {
              "visible": [
               true,
               true
              ]
             },
             {
              "yaxis": {
               "type": "log"
              }
             }
            ],
            "label": "Logarithmic Scale",
            "method": "update"
           }
          ],
          "direction": "right",
          "type": "buttons",
          "x": 0.45,
          "xanchor": "left",
          "y": 1.1,
          "yanchor": "top"
         }
        ]
       }
      },
      "text/html": [
       "<div>\n",
       "        \n",
       "        \n",
       "            <div id=\"4d6155fc-9388-42f3-8ffc-c36e8ace0040\" class=\"plotly-graph-div\" style=\"height:525px; width:100%;\"></div>\n",
       "            <script type=\"text/javascript\">\n",
       "                require([\"plotly\"], function(Plotly) {\n",
       "                    window.PLOTLYENV=window.PLOTLYENV || {};\n",
       "                    \n",
       "                if (document.getElementById(\"4d6155fc-9388-42f3-8ffc-c36e8ace0040\")) {\n",
       "                    Plotly.newPlot(\n",
       "                        '4d6155fc-9388-42f3-8ffc-c36e8ace0040',\n",
       "                        [{\"name\": \"US\", \"type\": \"scatter\", \"x\": [\"3/5/20\", \"3/6/20\", \"3/7/20\", \"3/8/20\", \"3/9/20\", \"3/10/20\", \"3/11/20\", \"3/12/20\", \"3/13/20\", \"3/14/20\", \"3/15/20\", \"3/16/20\", \"3/17/20\", \"3/18/20\", \"3/19/20\", \"3/20/20\", \"3/21/20\", \"3/22/20\", \"3/23/20\", \"3/24/20\", \"3/25/20\", \"3/26/20\", \"3/27/20\", \"3/28/20\", \"3/29/20\", \"3/30/20\", \"3/31/20\", \"4/1/20\", \"4/2/20\", \"4/3/20\", \"4/4/20\"], \"y\": [68.0, 45.0, 140.0, 116.0, 65.0, 376.0, 322.0, 382.0, 516.0, 548.0, 772.0, 1133.0, 1789.0, 1362.0, 5894.0, 5423.0, 6389.0, 7787.0, 10571.0, 9893.0, 12038.0, 18058.0, 17821.0, 19821.0, 19408.0, 20921.0, 26365.0, 25200.0, 30081.0, 32133.0, 33264.0]}, {\"name\": \"Spain\", \"type\": \"scatter\", \"x\": [\"3/5/20\", \"3/6/20\", \"3/7/20\", \"3/8/20\", \"3/9/20\", \"3/10/20\", \"3/11/20\", \"3/12/20\", \"3/13/20\", \"3/14/20\", \"3/15/20\", \"3/16/20\", \"3/17/20\", \"3/18/20\", \"3/19/20\", \"3/20/20\", \"3/21/20\", \"3/22/20\", \"3/23/20\", \"3/24/20\", \"3/25/20\", \"3/26/20\", \"3/27/20\", \"3/28/20\", \"3/29/20\", \"3/30/20\", \"3/31/20\", \"4/1/20\", \"4/2/20\", \"4/3/20\", \"4/4/20\"], \"y\": [37.0, 141.0, 100.0, 173.0, 400.0, 622.0, 582.0, 0.0, 2955.0, 1159.0, 1407.0, 2144.0, 1806.0, 2162.0, 4053.0, 2447.0, 4964.0, 3394.0, 6368.0, 4749.0, 9630.0, 8271.0, 7933.0, 7516.0, 6875.0, 7846.0, 7967.0, 8195.0, 7947.0, 7134.0, 6969.0]}, {\"name\": \"Italy\", \"type\": \"scatter\", \"x\": [\"3/5/20\", \"3/6/20\", \"3/7/20\", \"3/8/20\", \"3/9/20\", \"3/10/20\", \"3/11/20\", \"3/12/20\", \"3/13/20\", \"3/14/20\", \"3/15/20\", \"3/16/20\", \"3/17/20\", \"3/18/20\", \"3/19/20\", \"3/20/20\", \"3/21/20\", \"3/22/20\", \"3/23/20\", \"3/24/20\", \"3/25/20\", \"3/26/20\", \"3/27/20\", \"3/28/20\", \"3/29/20\", \"3/30/20\", \"3/31/20\", \"4/1/20\", \"4/2/20\", \"4/3/20\", \"4/4/20\"], \"y\": [769.0, 778.0, 1247.0, 1492.0, 1797.0, 977.0, 2313.0, 0.0, 5198.0, 3497.0, 3590.0, 3233.0, 3526.0, 4207.0, 5322.0, 5986.0, 6557.0, 5560.0, 4789.0, 5249.0, 5210.0, 6203.0, 5909.0, 5974.0, 5217.0, 4050.0, 4053.0, 4782.0, 4668.0, 4585.0, 4805.0]}, {\"name\": \"Germany\", \"type\": \"scatter\", \"x\": [\"3/5/20\", \"3/6/20\", \"3/7/20\", \"3/8/20\", \"3/9/20\", \"3/10/20\", \"3/11/20\", \"3/12/20\", \"3/13/20\", \"3/14/20\", \"3/15/20\", \"3/16/20\", \"3/17/20\", \"3/18/20\", \"3/19/20\", \"3/20/20\", \"3/21/20\", \"3/22/20\", \"3/23/20\", \"3/24/20\", \"3/25/20\", \"3/26/20\", \"3/27/20\", \"3/28/20\", \"3/29/20\", \"3/30/20\", \"3/31/20\", \"4/1/20\", \"4/2/20\", \"4/3/20\", \"4/4/20\"], \"y\": [220.0, 188.0, 129.0, 241.0, 136.0, 281.0, 451.0, 170.0, 1597.0, 910.0, 1210.0, 1477.0, 1985.0, 3070.0, 2993.0, 4528.0, 2365.0, 2660.0, 4183.0, 3930.0, 4337.0, 6615.0, 6933.0, 6824.0, 4400.0, 4790.0, 4923.0, 6064.0, 6922.0, 6365.0, 4933.0]}, {\"name\": \"France\", \"type\": \"scatter\", \"x\": [\"3/5/20\", \"3/6/20\", \"3/7/20\", \"3/8/20\", \"3/9/20\", \"3/10/20\", \"3/11/20\", \"3/12/20\", \"3/13/20\", \"3/14/20\", \"3/15/20\", \"3/16/20\", \"3/17/20\", \"3/18/20\", \"3/19/20\", \"3/20/20\", \"3/21/20\", \"3/22/20\", \"3/23/20\", \"3/24/20\", \"3/25/20\", \"3/26/20\", \"3/27/20\", \"3/28/20\", \"3/29/20\", \"3/30/20\", \"3/31/20\", \"4/1/20\", \"4/2/20\", \"4/3/20\", \"4/4/20\"], \"y\": [92.0, 276.0, 296.0, 177.0, 83.0, 575.0, 497.0, 0.0, 1380.0, 808.0, 30.0, 2134.0, 1019.0, 1391.0, 1828.0, 1741.0, 1670.0, 1736.0, 3838.0, 2448.0, 2929.0, 3922.0, 3809.0, 4611.0, 2599.0, 4376.0, 7578.0, 4861.0, 2116.0, 5233.0, 25615.0]}],\n",
       "                        {\"template\": {\"data\": {\"bar\": [{\"error_x\": {\"color\": \"#2a3f5f\"}, \"error_y\": {\"color\": \"#2a3f5f\"}, \"marker\": {\"line\": {\"color\": \"#E5ECF6\", \"width\": 0.5}}, \"type\": \"bar\"}], \"barpolar\": [{\"marker\": {\"line\": {\"color\": \"#E5ECF6\", \"width\": 0.5}}, \"type\": \"barpolar\"}], \"carpet\": [{\"aaxis\": {\"endlinecolor\": \"#2a3f5f\", \"gridcolor\": \"white\", \"linecolor\": \"white\", \"minorgridcolor\": \"white\", \"startlinecolor\": \"#2a3f5f\"}, \"baxis\": {\"endlinecolor\": \"#2a3f5f\", \"gridcolor\": \"white\", \"linecolor\": \"white\", \"minorgridcolor\": \"white\", \"startlinecolor\": \"#2a3f5f\"}, \"type\": \"carpet\"}], \"choropleth\": [{\"colorbar\": {\"outlinewidth\": 0, \"ticks\": \"\"}, \"type\": \"choropleth\"}], \"contour\": [{\"colorbar\": {\"outlinewidth\": 0, \"ticks\": \"\"}, \"colorscale\": [[0.0, \"#0d0887\"], [0.1111111111111111, \"#46039f\"], [0.2222222222222222, \"#7201a8\"], [0.3333333333333333, \"#9c179e\"], [0.4444444444444444, \"#bd3786\"], [0.5555555555555556, \"#d8576b\"], [0.6666666666666666, \"#ed7953\"], [0.7777777777777778, \"#fb9f3a\"], [0.8888888888888888, \"#fdca26\"], [1.0, \"#f0f921\"]], \"type\": \"contour\"}], \"contourcarpet\": [{\"colorbar\": {\"outlinewidth\": 0, \"ticks\": \"\"}, \"type\": \"contourcarpet\"}], \"heatmap\": [{\"colorbar\": {\"outlinewidth\": 0, \"ticks\": \"\"}, \"colorscale\": [[0.0, \"#0d0887\"], [0.1111111111111111, \"#46039f\"], [0.2222222222222222, \"#7201a8\"], [0.3333333333333333, \"#9c179e\"], [0.4444444444444444, \"#bd3786\"], [0.5555555555555556, \"#d8576b\"], [0.6666666666666666, \"#ed7953\"], [0.7777777777777778, \"#fb9f3a\"], [0.8888888888888888, \"#fdca26\"], [1.0, \"#f0f921\"]], \"type\": \"heatmap\"}], \"heatmapgl\": [{\"colorbar\": {\"outlinewidth\": 0, \"ticks\": \"\"}, \"colorscale\": [[0.0, \"#0d0887\"], [0.1111111111111111, \"#46039f\"], [0.2222222222222222, \"#7201a8\"], [0.3333333333333333, \"#9c179e\"], [0.4444444444444444, \"#bd3786\"], [0.5555555555555556, \"#d8576b\"], [0.6666666666666666, \"#ed7953\"], [0.7777777777777778, \"#fb9f3a\"], [0.8888888888888888, \"#fdca26\"], [1.0, \"#f0f921\"]], \"type\": \"heatmapgl\"}], \"histogram\": [{\"marker\": {\"colorbar\": {\"outlinewidth\": 0, \"ticks\": \"\"}}, \"type\": \"histogram\"}], \"histogram2d\": [{\"colorbar\": {\"outlinewidth\": 0, \"ticks\": \"\"}, \"colorscale\": [[0.0, \"#0d0887\"], [0.1111111111111111, \"#46039f\"], [0.2222222222222222, \"#7201a8\"], [0.3333333333333333, \"#9c179e\"], [0.4444444444444444, \"#bd3786\"], [0.5555555555555556, \"#d8576b\"], [0.6666666666666666, \"#ed7953\"], [0.7777777777777778, \"#fb9f3a\"], [0.8888888888888888, \"#fdca26\"], [1.0, \"#f0f921\"]], \"type\": \"histogram2d\"}], \"histogram2dcontour\": [{\"colorbar\": {\"outlinewidth\": 0, \"ticks\": \"\"}, \"colorscale\": [[0.0, \"#0d0887\"], [0.1111111111111111, \"#46039f\"], [0.2222222222222222, \"#7201a8\"], [0.3333333333333333, \"#9c179e\"], [0.4444444444444444, \"#bd3786\"], [0.5555555555555556, \"#d8576b\"], [0.6666666666666666, \"#ed7953\"], [0.7777777777777778, \"#fb9f3a\"], [0.8888888888888888, \"#fdca26\"], [1.0, \"#f0f921\"]], \"type\": \"histogram2dcontour\"}], \"mesh3d\": [{\"colorbar\": {\"outlinewidth\": 0, \"ticks\": \"\"}, \"type\": \"mesh3d\"}], \"parcoords\": [{\"line\": {\"colorbar\": {\"outlinewidth\": 0, \"ticks\": \"\"}}, \"type\": \"parcoords\"}], \"pie\": [{\"automargin\": true, \"type\": \"pie\"}], \"scatter\": [{\"marker\": {\"colorbar\": {\"outlinewidth\": 0, \"ticks\": \"\"}}, \"type\": \"scatter\"}], \"scatter3d\": [{\"line\": {\"colorbar\": {\"outlinewidth\": 0, \"ticks\": \"\"}}, \"marker\": {\"colorbar\": {\"outlinewidth\": 0, \"ticks\": \"\"}}, \"type\": \"scatter3d\"}], \"scattercarpet\": [{\"marker\": {\"colorbar\": {\"outlinewidth\": 0, \"ticks\": \"\"}}, \"type\": \"scattercarpet\"}], \"scattergeo\": [{\"marker\": {\"colorbar\": {\"outlinewidth\": 0, \"ticks\": \"\"}}, \"type\": \"scattergeo\"}], \"scattergl\": [{\"marker\": {\"colorbar\": {\"outlinewidth\": 0, \"ticks\": \"\"}}, \"type\": \"scattergl\"}], \"scattermapbox\": [{\"marker\": {\"colorbar\": {\"outlinewidth\": 0, \"ticks\": \"\"}}, \"type\": \"scattermapbox\"}], \"scatterpolar\": [{\"marker\": {\"colorbar\": {\"outlinewidth\": 0, \"ticks\": \"\"}}, \"type\": \"scatterpolar\"}], \"scatterpolargl\": [{\"marker\": {\"colorbar\": {\"outlinewidth\": 0, \"ticks\": \"\"}}, \"type\": \"scatterpolargl\"}], \"scatterternary\": [{\"marker\": {\"colorbar\": {\"outlinewidth\": 0, \"ticks\": \"\"}}, \"type\": \"scatterternary\"}], \"surface\": [{\"colorbar\": {\"outlinewidth\": 0, \"ticks\": \"\"}, \"colorscale\": [[0.0, \"#0d0887\"], [0.1111111111111111, \"#46039f\"], [0.2222222222222222, \"#7201a8\"], [0.3333333333333333, \"#9c179e\"], [0.4444444444444444, \"#bd3786\"], [0.5555555555555556, \"#d8576b\"], [0.6666666666666666, \"#ed7953\"], [0.7777777777777778, \"#fb9f3a\"], [0.8888888888888888, \"#fdca26\"], [1.0, \"#f0f921\"]], \"type\": \"surface\"}], \"table\": [{\"cells\": {\"fill\": {\"color\": \"#EBF0F8\"}, \"line\": {\"color\": \"white\"}}, \"header\": {\"fill\": {\"color\": \"#C8D4E3\"}, \"line\": {\"color\": \"white\"}}, \"type\": \"table\"}]}, \"layout\": {\"annotationdefaults\": {\"arrowcolor\": \"#2a3f5f\", \"arrowhead\": 0, \"arrowwidth\": 1}, \"coloraxis\": {\"colorbar\": {\"outlinewidth\": 0, \"ticks\": \"\"}}, \"colorscale\": {\"diverging\": [[0, \"#8e0152\"], [0.1, \"#c51b7d\"], [0.2, \"#de77ae\"], [0.3, \"#f1b6da\"], [0.4, \"#fde0ef\"], [0.5, \"#f7f7f7\"], [0.6, \"#e6f5d0\"], [0.7, \"#b8e186\"], [0.8, \"#7fbc41\"], [0.9, \"#4d9221\"], [1, \"#276419\"]], \"sequential\": [[0.0, \"#0d0887\"], [0.1111111111111111, \"#46039f\"], [0.2222222222222222, \"#7201a8\"], [0.3333333333333333, \"#9c179e\"], [0.4444444444444444, \"#bd3786\"], [0.5555555555555556, \"#d8576b\"], [0.6666666666666666, \"#ed7953\"], [0.7777777777777778, \"#fb9f3a\"], [0.8888888888888888, \"#fdca26\"], [1.0, \"#f0f921\"]], \"sequentialminus\": [[0.0, \"#0d0887\"], [0.1111111111111111, \"#46039f\"], [0.2222222222222222, \"#7201a8\"], [0.3333333333333333, \"#9c179e\"], [0.4444444444444444, \"#bd3786\"], [0.5555555555555556, \"#d8576b\"], [0.6666666666666666, \"#ed7953\"], [0.7777777777777778, \"#fb9f3a\"], [0.8888888888888888, \"#fdca26\"], [1.0, \"#f0f921\"]]}, \"colorway\": [\"#636efa\", \"#EF553B\", \"#00cc96\", \"#ab63fa\", \"#FFA15A\", \"#19d3f3\", \"#FF6692\", \"#B6E880\", \"#FF97FF\", \"#FECB52\"], \"font\": {\"color\": \"#2a3f5f\"}, \"geo\": {\"bgcolor\": \"white\", \"lakecolor\": \"white\", \"landcolor\": \"#E5ECF6\", \"showlakes\": true, \"showland\": true, \"subunitcolor\": \"white\"}, \"hoverlabel\": {\"align\": \"left\"}, \"hovermode\": \"closest\", \"mapbox\": {\"style\": \"light\"}, \"paper_bgcolor\": \"white\", \"plot_bgcolor\": \"#E5ECF6\", \"polar\": {\"angularaxis\": {\"gridcolor\": \"white\", \"linecolor\": \"white\", \"ticks\": \"\"}, \"bgcolor\": \"#E5ECF6\", \"radialaxis\": {\"gridcolor\": \"white\", \"linecolor\": \"white\", \"ticks\": \"\"}}, \"scene\": {\"xaxis\": {\"backgroundcolor\": \"#E5ECF6\", \"gridcolor\": \"white\", \"gridwidth\": 2, \"linecolor\": \"white\", \"showbackground\": true, \"ticks\": \"\", \"zerolinecolor\": \"white\"}, \"yaxis\": {\"backgroundcolor\": \"#E5ECF6\", \"gridcolor\": \"white\", \"gridwidth\": 2, \"linecolor\": \"white\", \"showbackground\": true, \"ticks\": \"\", \"zerolinecolor\": \"white\"}, \"zaxis\": {\"backgroundcolor\": \"#E5ECF6\", \"gridcolor\": \"white\", \"gridwidth\": 2, \"linecolor\": \"white\", \"showbackground\": true, \"ticks\": \"\", \"zerolinecolor\": \"white\"}}, \"shapedefaults\": {\"line\": {\"color\": \"#2a3f5f\"}}, \"ternary\": {\"aaxis\": {\"gridcolor\": \"white\", \"linecolor\": \"white\", \"ticks\": \"\"}, \"baxis\": {\"gridcolor\": \"white\", \"linecolor\": \"white\", \"ticks\": \"\"}, \"bgcolor\": \"#E5ECF6\", \"caxis\": {\"gridcolor\": \"white\", \"linecolor\": \"white\", \"ticks\": \"\"}}, \"title\": {\"x\": 0.05}, \"xaxis\": {\"automargin\": true, \"gridcolor\": \"white\", \"linecolor\": \"white\", \"ticks\": \"\", \"title\": {\"standoff\": 15}, \"zerolinecolor\": \"white\", \"zerolinewidth\": 2}, \"yaxis\": {\"automargin\": true, \"gridcolor\": \"white\", \"linecolor\": \"white\", \"ticks\": \"\", \"title\": {\"standoff\": 15}, \"zerolinecolor\": \"white\", \"zerolinewidth\": 2}}}, \"title\": {\"text\": \"World Daily New Confirmed Cases\"}, \"updatemenus\": [{\"active\": 0, \"buttons\": [{\"args\": [{\"visible\": [true, true]}, {\"yaxis\": {\"type\": \"linear\"}}], \"label\": \"Linear Scale\", \"method\": \"update\"}, {\"args\": [{\"visible\": [true, true]}, {\"yaxis\": {\"type\": \"log\"}}], \"label\": \"Logarithmic Scale\", \"method\": \"update\"}], \"direction\": \"right\", \"type\": \"buttons\", \"x\": 0.45, \"xanchor\": \"left\", \"y\": 1.1, \"yanchor\": \"top\"}]},\n",
       "                        {\"responsive\": true}\n",
       "                    ).then(function(){\n",
       "                            \n",
       "var gd = document.getElementById('4d6155fc-9388-42f3-8ffc-c36e8ace0040');\n",
       "var x = new MutationObserver(function (mutations, observer) {{\n",
       "        var display = window.getComputedStyle(gd).display;\n",
       "        if (!display || display === 'none') {{\n",
       "            console.log([gd, 'removed!']);\n",
       "            Plotly.purge(gd);\n",
       "            observer.disconnect();\n",
       "        }}\n",
       "}});\n",
       "\n",
       "// Listen for the removal of the full notebook cells\n",
       "var notebookContainer = gd.closest('#notebook-container');\n",
       "if (notebookContainer) {{\n",
       "    x.observe(notebookContainer, {childList: true});\n",
       "}}\n",
       "\n",
       "// Listen for the clearing of the current output cell\n",
       "var outputEl = gd.closest('.output');\n",
       "if (outputEl) {{\n",
       "    x.observe(outputEl, {childList: true});\n",
       "}}\n",
       "\n",
       "                        })\n",
       "                };\n",
       "                });\n",
       "            </script>\n",
       "        </div>"
      ]
     },
     "metadata": {},
     "output_type": "display_data"
    },
    {
     "data": {
      "text/html": [
       "<style  type=\"text/css\" >\n",
       "</style><table id=\"T_8f6802f4_7766_11ea_b8af_c49ded93ade6\" ><thead>    <tr>        <th class=\"blank level0\" ></th>        <th class=\"col_heading level0 col0\" >3/5/20</th>        <th class=\"col_heading level0 col1\" >3/6/20</th>        <th class=\"col_heading level0 col2\" >3/7/20</th>        <th class=\"col_heading level0 col3\" >3/8/20</th>        <th class=\"col_heading level0 col4\" >3/9/20</th>        <th class=\"col_heading level0 col5\" >3/10/20</th>        <th class=\"col_heading level0 col6\" >3/11/20</th>        <th class=\"col_heading level0 col7\" >3/12/20</th>        <th class=\"col_heading level0 col8\" >3/13/20</th>        <th class=\"col_heading level0 col9\" >3/14/20</th>        <th class=\"col_heading level0 col10\" >3/15/20</th>        <th class=\"col_heading level0 col11\" >3/16/20</th>        <th class=\"col_heading level0 col12\" >3/17/20</th>        <th class=\"col_heading level0 col13\" >3/18/20</th>        <th class=\"col_heading level0 col14\" >3/19/20</th>        <th class=\"col_heading level0 col15\" >3/20/20</th>        <th class=\"col_heading level0 col16\" >3/21/20</th>        <th class=\"col_heading level0 col17\" >3/22/20</th>        <th class=\"col_heading level0 col18\" >3/23/20</th>        <th class=\"col_heading level0 col19\" >3/24/20</th>        <th class=\"col_heading level0 col20\" >3/25/20</th>        <th class=\"col_heading level0 col21\" >3/26/20</th>        <th class=\"col_heading level0 col22\" >3/27/20</th>        <th class=\"col_heading level0 col23\" >3/28/20</th>        <th class=\"col_heading level0 col24\" >3/29/20</th>        <th class=\"col_heading level0 col25\" >3/30/20</th>        <th class=\"col_heading level0 col26\" >3/31/20</th>        <th class=\"col_heading level0 col27\" >4/1/20</th>        <th class=\"col_heading level0 col28\" >4/2/20</th>        <th class=\"col_heading level0 col29\" >4/3/20</th>        <th class=\"col_heading level0 col30\" >4/4/20</th>    </tr>    <tr>        <th class=\"index_name level0\" >Country/Region</th>        <th class=\"blank\" ></th>        <th class=\"blank\" ></th>        <th class=\"blank\" ></th>        <th class=\"blank\" ></th>        <th class=\"blank\" ></th>        <th class=\"blank\" ></th>        <th class=\"blank\" ></th>        <th class=\"blank\" ></th>        <th class=\"blank\" ></th>        <th class=\"blank\" ></th>        <th class=\"blank\" ></th>        <th class=\"blank\" ></th>        <th class=\"blank\" ></th>        <th class=\"blank\" ></th>        <th class=\"blank\" ></th>        <th class=\"blank\" ></th>        <th class=\"blank\" ></th>        <th class=\"blank\" ></th>        <th class=\"blank\" ></th>        <th class=\"blank\" ></th>        <th class=\"blank\" ></th>        <th class=\"blank\" ></th>        <th class=\"blank\" ></th>        <th class=\"blank\" ></th>        <th class=\"blank\" ></th>        <th class=\"blank\" ></th>        <th class=\"blank\" ></th>        <th class=\"blank\" ></th>        <th class=\"blank\" ></th>        <th class=\"blank\" ></th>        <th class=\"blank\" ></th>    </tr></thead><tbody>\n",
       "                <tr>\n",
       "                        <th id=\"T_8f6802f4_7766_11ea_b8af_c49ded93ade6level0_row0\" class=\"row_heading level0 row0\" >US</th>\n",
       "                        <td id=\"T_8f6802f4_7766_11ea_b8af_c49ded93ade6row0_col0\" class=\"data row0 col0\" >68</td>\n",
       "                        <td id=\"T_8f6802f4_7766_11ea_b8af_c49ded93ade6row0_col1\" class=\"data row0 col1\" >45</td>\n",
       "                        <td id=\"T_8f6802f4_7766_11ea_b8af_c49ded93ade6row0_col2\" class=\"data row0 col2\" >140</td>\n",
       "                        <td id=\"T_8f6802f4_7766_11ea_b8af_c49ded93ade6row0_col3\" class=\"data row0 col3\" >116</td>\n",
       "                        <td id=\"T_8f6802f4_7766_11ea_b8af_c49ded93ade6row0_col4\" class=\"data row0 col4\" >65</td>\n",
       "                        <td id=\"T_8f6802f4_7766_11ea_b8af_c49ded93ade6row0_col5\" class=\"data row0 col5\" >376</td>\n",
       "                        <td id=\"T_8f6802f4_7766_11ea_b8af_c49ded93ade6row0_col6\" class=\"data row0 col6\" >322</td>\n",
       "                        <td id=\"T_8f6802f4_7766_11ea_b8af_c49ded93ade6row0_col7\" class=\"data row0 col7\" >382</td>\n",
       "                        <td id=\"T_8f6802f4_7766_11ea_b8af_c49ded93ade6row0_col8\" class=\"data row0 col8\" >516</td>\n",
       "                        <td id=\"T_8f6802f4_7766_11ea_b8af_c49ded93ade6row0_col9\" class=\"data row0 col9\" >548</td>\n",
       "                        <td id=\"T_8f6802f4_7766_11ea_b8af_c49ded93ade6row0_col10\" class=\"data row0 col10\" >772</td>\n",
       "                        <td id=\"T_8f6802f4_7766_11ea_b8af_c49ded93ade6row0_col11\" class=\"data row0 col11\" >1,133</td>\n",
       "                        <td id=\"T_8f6802f4_7766_11ea_b8af_c49ded93ade6row0_col12\" class=\"data row0 col12\" >1,789</td>\n",
       "                        <td id=\"T_8f6802f4_7766_11ea_b8af_c49ded93ade6row0_col13\" class=\"data row0 col13\" >1,362</td>\n",
       "                        <td id=\"T_8f6802f4_7766_11ea_b8af_c49ded93ade6row0_col14\" class=\"data row0 col14\" >5,894</td>\n",
       "                        <td id=\"T_8f6802f4_7766_11ea_b8af_c49ded93ade6row0_col15\" class=\"data row0 col15\" >5,423</td>\n",
       "                        <td id=\"T_8f6802f4_7766_11ea_b8af_c49ded93ade6row0_col16\" class=\"data row0 col16\" >6,389</td>\n",
       "                        <td id=\"T_8f6802f4_7766_11ea_b8af_c49ded93ade6row0_col17\" class=\"data row0 col17\" >7,787</td>\n",
       "                        <td id=\"T_8f6802f4_7766_11ea_b8af_c49ded93ade6row0_col18\" class=\"data row0 col18\" >10,571</td>\n",
       "                        <td id=\"T_8f6802f4_7766_11ea_b8af_c49ded93ade6row0_col19\" class=\"data row0 col19\" >9,893</td>\n",
       "                        <td id=\"T_8f6802f4_7766_11ea_b8af_c49ded93ade6row0_col20\" class=\"data row0 col20\" >12,038</td>\n",
       "                        <td id=\"T_8f6802f4_7766_11ea_b8af_c49ded93ade6row0_col21\" class=\"data row0 col21\" >18,058</td>\n",
       "                        <td id=\"T_8f6802f4_7766_11ea_b8af_c49ded93ade6row0_col22\" class=\"data row0 col22\" >17,821</td>\n",
       "                        <td id=\"T_8f6802f4_7766_11ea_b8af_c49ded93ade6row0_col23\" class=\"data row0 col23\" >19,821</td>\n",
       "                        <td id=\"T_8f6802f4_7766_11ea_b8af_c49ded93ade6row0_col24\" class=\"data row0 col24\" >19,408</td>\n",
       "                        <td id=\"T_8f6802f4_7766_11ea_b8af_c49ded93ade6row0_col25\" class=\"data row0 col25\" >20,921</td>\n",
       "                        <td id=\"T_8f6802f4_7766_11ea_b8af_c49ded93ade6row0_col26\" class=\"data row0 col26\" >26,365</td>\n",
       "                        <td id=\"T_8f6802f4_7766_11ea_b8af_c49ded93ade6row0_col27\" class=\"data row0 col27\" >25,200</td>\n",
       "                        <td id=\"T_8f6802f4_7766_11ea_b8af_c49ded93ade6row0_col28\" class=\"data row0 col28\" >30,081</td>\n",
       "                        <td id=\"T_8f6802f4_7766_11ea_b8af_c49ded93ade6row0_col29\" class=\"data row0 col29\" >32,133</td>\n",
       "                        <td id=\"T_8f6802f4_7766_11ea_b8af_c49ded93ade6row0_col30\" class=\"data row0 col30\" >33,264</td>\n",
       "            </tr>\n",
       "            <tr>\n",
       "                        <th id=\"T_8f6802f4_7766_11ea_b8af_c49ded93ade6level0_row1\" class=\"row_heading level0 row1\" >Spain</th>\n",
       "                        <td id=\"T_8f6802f4_7766_11ea_b8af_c49ded93ade6row1_col0\" class=\"data row1 col0\" >37</td>\n",
       "                        <td id=\"T_8f6802f4_7766_11ea_b8af_c49ded93ade6row1_col1\" class=\"data row1 col1\" >141</td>\n",
       "                        <td id=\"T_8f6802f4_7766_11ea_b8af_c49ded93ade6row1_col2\" class=\"data row1 col2\" >100</td>\n",
       "                        <td id=\"T_8f6802f4_7766_11ea_b8af_c49ded93ade6row1_col3\" class=\"data row1 col3\" >173</td>\n",
       "                        <td id=\"T_8f6802f4_7766_11ea_b8af_c49ded93ade6row1_col4\" class=\"data row1 col4\" >400</td>\n",
       "                        <td id=\"T_8f6802f4_7766_11ea_b8af_c49ded93ade6row1_col5\" class=\"data row1 col5\" >622</td>\n",
       "                        <td id=\"T_8f6802f4_7766_11ea_b8af_c49ded93ade6row1_col6\" class=\"data row1 col6\" >582</td>\n",
       "                        <td id=\"T_8f6802f4_7766_11ea_b8af_c49ded93ade6row1_col7\" class=\"data row1 col7\" >-</td>\n",
       "                        <td id=\"T_8f6802f4_7766_11ea_b8af_c49ded93ade6row1_col8\" class=\"data row1 col8\" >2,955</td>\n",
       "                        <td id=\"T_8f6802f4_7766_11ea_b8af_c49ded93ade6row1_col9\" class=\"data row1 col9\" >1,159</td>\n",
       "                        <td id=\"T_8f6802f4_7766_11ea_b8af_c49ded93ade6row1_col10\" class=\"data row1 col10\" >1,407</td>\n",
       "                        <td id=\"T_8f6802f4_7766_11ea_b8af_c49ded93ade6row1_col11\" class=\"data row1 col11\" >2,144</td>\n",
       "                        <td id=\"T_8f6802f4_7766_11ea_b8af_c49ded93ade6row1_col12\" class=\"data row1 col12\" >1,806</td>\n",
       "                        <td id=\"T_8f6802f4_7766_11ea_b8af_c49ded93ade6row1_col13\" class=\"data row1 col13\" >2,162</td>\n",
       "                        <td id=\"T_8f6802f4_7766_11ea_b8af_c49ded93ade6row1_col14\" class=\"data row1 col14\" >4,053</td>\n",
       "                        <td id=\"T_8f6802f4_7766_11ea_b8af_c49ded93ade6row1_col15\" class=\"data row1 col15\" >2,447</td>\n",
       "                        <td id=\"T_8f6802f4_7766_11ea_b8af_c49ded93ade6row1_col16\" class=\"data row1 col16\" >4,964</td>\n",
       "                        <td id=\"T_8f6802f4_7766_11ea_b8af_c49ded93ade6row1_col17\" class=\"data row1 col17\" >3,394</td>\n",
       "                        <td id=\"T_8f6802f4_7766_11ea_b8af_c49ded93ade6row1_col18\" class=\"data row1 col18\" >6,368</td>\n",
       "                        <td id=\"T_8f6802f4_7766_11ea_b8af_c49ded93ade6row1_col19\" class=\"data row1 col19\" >4,749</td>\n",
       "                        <td id=\"T_8f6802f4_7766_11ea_b8af_c49ded93ade6row1_col20\" class=\"data row1 col20\" >9,630</td>\n",
       "                        <td id=\"T_8f6802f4_7766_11ea_b8af_c49ded93ade6row1_col21\" class=\"data row1 col21\" >8,271</td>\n",
       "                        <td id=\"T_8f6802f4_7766_11ea_b8af_c49ded93ade6row1_col22\" class=\"data row1 col22\" >7,933</td>\n",
       "                        <td id=\"T_8f6802f4_7766_11ea_b8af_c49ded93ade6row1_col23\" class=\"data row1 col23\" >7,516</td>\n",
       "                        <td id=\"T_8f6802f4_7766_11ea_b8af_c49ded93ade6row1_col24\" class=\"data row1 col24\" >6,875</td>\n",
       "                        <td id=\"T_8f6802f4_7766_11ea_b8af_c49ded93ade6row1_col25\" class=\"data row1 col25\" >7,846</td>\n",
       "                        <td id=\"T_8f6802f4_7766_11ea_b8af_c49ded93ade6row1_col26\" class=\"data row1 col26\" >7,967</td>\n",
       "                        <td id=\"T_8f6802f4_7766_11ea_b8af_c49ded93ade6row1_col27\" class=\"data row1 col27\" >8,195</td>\n",
       "                        <td id=\"T_8f6802f4_7766_11ea_b8af_c49ded93ade6row1_col28\" class=\"data row1 col28\" >7,947</td>\n",
       "                        <td id=\"T_8f6802f4_7766_11ea_b8af_c49ded93ade6row1_col29\" class=\"data row1 col29\" >7,134</td>\n",
       "                        <td id=\"T_8f6802f4_7766_11ea_b8af_c49ded93ade6row1_col30\" class=\"data row1 col30\" >6,969</td>\n",
       "            </tr>\n",
       "            <tr>\n",
       "                        <th id=\"T_8f6802f4_7766_11ea_b8af_c49ded93ade6level0_row2\" class=\"row_heading level0 row2\" >Italy</th>\n",
       "                        <td id=\"T_8f6802f4_7766_11ea_b8af_c49ded93ade6row2_col0\" class=\"data row2 col0\" >769</td>\n",
       "                        <td id=\"T_8f6802f4_7766_11ea_b8af_c49ded93ade6row2_col1\" class=\"data row2 col1\" >778</td>\n",
       "                        <td id=\"T_8f6802f4_7766_11ea_b8af_c49ded93ade6row2_col2\" class=\"data row2 col2\" >1,247</td>\n",
       "                        <td id=\"T_8f6802f4_7766_11ea_b8af_c49ded93ade6row2_col3\" class=\"data row2 col3\" >1,492</td>\n",
       "                        <td id=\"T_8f6802f4_7766_11ea_b8af_c49ded93ade6row2_col4\" class=\"data row2 col4\" >1,797</td>\n",
       "                        <td id=\"T_8f6802f4_7766_11ea_b8af_c49ded93ade6row2_col5\" class=\"data row2 col5\" >977</td>\n",
       "                        <td id=\"T_8f6802f4_7766_11ea_b8af_c49ded93ade6row2_col6\" class=\"data row2 col6\" >2,313</td>\n",
       "                        <td id=\"T_8f6802f4_7766_11ea_b8af_c49ded93ade6row2_col7\" class=\"data row2 col7\" >-</td>\n",
       "                        <td id=\"T_8f6802f4_7766_11ea_b8af_c49ded93ade6row2_col8\" class=\"data row2 col8\" >5,198</td>\n",
       "                        <td id=\"T_8f6802f4_7766_11ea_b8af_c49ded93ade6row2_col9\" class=\"data row2 col9\" >3,497</td>\n",
       "                        <td id=\"T_8f6802f4_7766_11ea_b8af_c49ded93ade6row2_col10\" class=\"data row2 col10\" >3,590</td>\n",
       "                        <td id=\"T_8f6802f4_7766_11ea_b8af_c49ded93ade6row2_col11\" class=\"data row2 col11\" >3,233</td>\n",
       "                        <td id=\"T_8f6802f4_7766_11ea_b8af_c49ded93ade6row2_col12\" class=\"data row2 col12\" >3,526</td>\n",
       "                        <td id=\"T_8f6802f4_7766_11ea_b8af_c49ded93ade6row2_col13\" class=\"data row2 col13\" >4,207</td>\n",
       "                        <td id=\"T_8f6802f4_7766_11ea_b8af_c49ded93ade6row2_col14\" class=\"data row2 col14\" >5,322</td>\n",
       "                        <td id=\"T_8f6802f4_7766_11ea_b8af_c49ded93ade6row2_col15\" class=\"data row2 col15\" >5,986</td>\n",
       "                        <td id=\"T_8f6802f4_7766_11ea_b8af_c49ded93ade6row2_col16\" class=\"data row2 col16\" >6,557</td>\n",
       "                        <td id=\"T_8f6802f4_7766_11ea_b8af_c49ded93ade6row2_col17\" class=\"data row2 col17\" >5,560</td>\n",
       "                        <td id=\"T_8f6802f4_7766_11ea_b8af_c49ded93ade6row2_col18\" class=\"data row2 col18\" >4,789</td>\n",
       "                        <td id=\"T_8f6802f4_7766_11ea_b8af_c49ded93ade6row2_col19\" class=\"data row2 col19\" >5,249</td>\n",
       "                        <td id=\"T_8f6802f4_7766_11ea_b8af_c49ded93ade6row2_col20\" class=\"data row2 col20\" >5,210</td>\n",
       "                        <td id=\"T_8f6802f4_7766_11ea_b8af_c49ded93ade6row2_col21\" class=\"data row2 col21\" >6,203</td>\n",
       "                        <td id=\"T_8f6802f4_7766_11ea_b8af_c49ded93ade6row2_col22\" class=\"data row2 col22\" >5,909</td>\n",
       "                        <td id=\"T_8f6802f4_7766_11ea_b8af_c49ded93ade6row2_col23\" class=\"data row2 col23\" >5,974</td>\n",
       "                        <td id=\"T_8f6802f4_7766_11ea_b8af_c49ded93ade6row2_col24\" class=\"data row2 col24\" >5,217</td>\n",
       "                        <td id=\"T_8f6802f4_7766_11ea_b8af_c49ded93ade6row2_col25\" class=\"data row2 col25\" >4,050</td>\n",
       "                        <td id=\"T_8f6802f4_7766_11ea_b8af_c49ded93ade6row2_col26\" class=\"data row2 col26\" >4,053</td>\n",
       "                        <td id=\"T_8f6802f4_7766_11ea_b8af_c49ded93ade6row2_col27\" class=\"data row2 col27\" >4,782</td>\n",
       "                        <td id=\"T_8f6802f4_7766_11ea_b8af_c49ded93ade6row2_col28\" class=\"data row2 col28\" >4,668</td>\n",
       "                        <td id=\"T_8f6802f4_7766_11ea_b8af_c49ded93ade6row2_col29\" class=\"data row2 col29\" >4,585</td>\n",
       "                        <td id=\"T_8f6802f4_7766_11ea_b8af_c49ded93ade6row2_col30\" class=\"data row2 col30\" >4,805</td>\n",
       "            </tr>\n",
       "            <tr>\n",
       "                        <th id=\"T_8f6802f4_7766_11ea_b8af_c49ded93ade6level0_row3\" class=\"row_heading level0 row3\" >Germany</th>\n",
       "                        <td id=\"T_8f6802f4_7766_11ea_b8af_c49ded93ade6row3_col0\" class=\"data row3 col0\" >220</td>\n",
       "                        <td id=\"T_8f6802f4_7766_11ea_b8af_c49ded93ade6row3_col1\" class=\"data row3 col1\" >188</td>\n",
       "                        <td id=\"T_8f6802f4_7766_11ea_b8af_c49ded93ade6row3_col2\" class=\"data row3 col2\" >129</td>\n",
       "                        <td id=\"T_8f6802f4_7766_11ea_b8af_c49ded93ade6row3_col3\" class=\"data row3 col3\" >241</td>\n",
       "                        <td id=\"T_8f6802f4_7766_11ea_b8af_c49ded93ade6row3_col4\" class=\"data row3 col4\" >136</td>\n",
       "                        <td id=\"T_8f6802f4_7766_11ea_b8af_c49ded93ade6row3_col5\" class=\"data row3 col5\" >281</td>\n",
       "                        <td id=\"T_8f6802f4_7766_11ea_b8af_c49ded93ade6row3_col6\" class=\"data row3 col6\" >451</td>\n",
       "                        <td id=\"T_8f6802f4_7766_11ea_b8af_c49ded93ade6row3_col7\" class=\"data row3 col7\" >170</td>\n",
       "                        <td id=\"T_8f6802f4_7766_11ea_b8af_c49ded93ade6row3_col8\" class=\"data row3 col8\" >1,597</td>\n",
       "                        <td id=\"T_8f6802f4_7766_11ea_b8af_c49ded93ade6row3_col9\" class=\"data row3 col9\" >910</td>\n",
       "                        <td id=\"T_8f6802f4_7766_11ea_b8af_c49ded93ade6row3_col10\" class=\"data row3 col10\" >1,210</td>\n",
       "                        <td id=\"T_8f6802f4_7766_11ea_b8af_c49ded93ade6row3_col11\" class=\"data row3 col11\" >1,477</td>\n",
       "                        <td id=\"T_8f6802f4_7766_11ea_b8af_c49ded93ade6row3_col12\" class=\"data row3 col12\" >1,985</td>\n",
       "                        <td id=\"T_8f6802f4_7766_11ea_b8af_c49ded93ade6row3_col13\" class=\"data row3 col13\" >3,070</td>\n",
       "                        <td id=\"T_8f6802f4_7766_11ea_b8af_c49ded93ade6row3_col14\" class=\"data row3 col14\" >2,993</td>\n",
       "                        <td id=\"T_8f6802f4_7766_11ea_b8af_c49ded93ade6row3_col15\" class=\"data row3 col15\" >4,528</td>\n",
       "                        <td id=\"T_8f6802f4_7766_11ea_b8af_c49ded93ade6row3_col16\" class=\"data row3 col16\" >2,365</td>\n",
       "                        <td id=\"T_8f6802f4_7766_11ea_b8af_c49ded93ade6row3_col17\" class=\"data row3 col17\" >2,660</td>\n",
       "                        <td id=\"T_8f6802f4_7766_11ea_b8af_c49ded93ade6row3_col18\" class=\"data row3 col18\" >4,183</td>\n",
       "                        <td id=\"T_8f6802f4_7766_11ea_b8af_c49ded93ade6row3_col19\" class=\"data row3 col19\" >3,930</td>\n",
       "                        <td id=\"T_8f6802f4_7766_11ea_b8af_c49ded93ade6row3_col20\" class=\"data row3 col20\" >4,337</td>\n",
       "                        <td id=\"T_8f6802f4_7766_11ea_b8af_c49ded93ade6row3_col21\" class=\"data row3 col21\" >6,615</td>\n",
       "                        <td id=\"T_8f6802f4_7766_11ea_b8af_c49ded93ade6row3_col22\" class=\"data row3 col22\" >6,933</td>\n",
       "                        <td id=\"T_8f6802f4_7766_11ea_b8af_c49ded93ade6row3_col23\" class=\"data row3 col23\" >6,824</td>\n",
       "                        <td id=\"T_8f6802f4_7766_11ea_b8af_c49ded93ade6row3_col24\" class=\"data row3 col24\" >4,400</td>\n",
       "                        <td id=\"T_8f6802f4_7766_11ea_b8af_c49ded93ade6row3_col25\" class=\"data row3 col25\" >4,790</td>\n",
       "                        <td id=\"T_8f6802f4_7766_11ea_b8af_c49ded93ade6row3_col26\" class=\"data row3 col26\" >4,923</td>\n",
       "                        <td id=\"T_8f6802f4_7766_11ea_b8af_c49ded93ade6row3_col27\" class=\"data row3 col27\" >6,064</td>\n",
       "                        <td id=\"T_8f6802f4_7766_11ea_b8af_c49ded93ade6row3_col28\" class=\"data row3 col28\" >6,922</td>\n",
       "                        <td id=\"T_8f6802f4_7766_11ea_b8af_c49ded93ade6row3_col29\" class=\"data row3 col29\" >6,365</td>\n",
       "                        <td id=\"T_8f6802f4_7766_11ea_b8af_c49ded93ade6row3_col30\" class=\"data row3 col30\" >4,933</td>\n",
       "            </tr>\n",
       "            <tr>\n",
       "                        <th id=\"T_8f6802f4_7766_11ea_b8af_c49ded93ade6level0_row4\" class=\"row_heading level0 row4\" >France</th>\n",
       "                        <td id=\"T_8f6802f4_7766_11ea_b8af_c49ded93ade6row4_col0\" class=\"data row4 col0\" >92</td>\n",
       "                        <td id=\"T_8f6802f4_7766_11ea_b8af_c49ded93ade6row4_col1\" class=\"data row4 col1\" >276</td>\n",
       "                        <td id=\"T_8f6802f4_7766_11ea_b8af_c49ded93ade6row4_col2\" class=\"data row4 col2\" >296</td>\n",
       "                        <td id=\"T_8f6802f4_7766_11ea_b8af_c49ded93ade6row4_col3\" class=\"data row4 col3\" >177</td>\n",
       "                        <td id=\"T_8f6802f4_7766_11ea_b8af_c49ded93ade6row4_col4\" class=\"data row4 col4\" >83</td>\n",
       "                        <td id=\"T_8f6802f4_7766_11ea_b8af_c49ded93ade6row4_col5\" class=\"data row4 col5\" >575</td>\n",
       "                        <td id=\"T_8f6802f4_7766_11ea_b8af_c49ded93ade6row4_col6\" class=\"data row4 col6\" >497</td>\n",
       "                        <td id=\"T_8f6802f4_7766_11ea_b8af_c49ded93ade6row4_col7\" class=\"data row4 col7\" >-</td>\n",
       "                        <td id=\"T_8f6802f4_7766_11ea_b8af_c49ded93ade6row4_col8\" class=\"data row4 col8\" >1,380</td>\n",
       "                        <td id=\"T_8f6802f4_7766_11ea_b8af_c49ded93ade6row4_col9\" class=\"data row4 col9\" >808</td>\n",
       "                        <td id=\"T_8f6802f4_7766_11ea_b8af_c49ded93ade6row4_col10\" class=\"data row4 col10\" >30</td>\n",
       "                        <td id=\"T_8f6802f4_7766_11ea_b8af_c49ded93ade6row4_col11\" class=\"data row4 col11\" >2,134</td>\n",
       "                        <td id=\"T_8f6802f4_7766_11ea_b8af_c49ded93ade6row4_col12\" class=\"data row4 col12\" >1,019</td>\n",
       "                        <td id=\"T_8f6802f4_7766_11ea_b8af_c49ded93ade6row4_col13\" class=\"data row4 col13\" >1,391</td>\n",
       "                        <td id=\"T_8f6802f4_7766_11ea_b8af_c49ded93ade6row4_col14\" class=\"data row4 col14\" >1,828</td>\n",
       "                        <td id=\"T_8f6802f4_7766_11ea_b8af_c49ded93ade6row4_col15\" class=\"data row4 col15\" >1,741</td>\n",
       "                        <td id=\"T_8f6802f4_7766_11ea_b8af_c49ded93ade6row4_col16\" class=\"data row4 col16\" >1,670</td>\n",
       "                        <td id=\"T_8f6802f4_7766_11ea_b8af_c49ded93ade6row4_col17\" class=\"data row4 col17\" >1,736</td>\n",
       "                        <td id=\"T_8f6802f4_7766_11ea_b8af_c49ded93ade6row4_col18\" class=\"data row4 col18\" >3,838</td>\n",
       "                        <td id=\"T_8f6802f4_7766_11ea_b8af_c49ded93ade6row4_col19\" class=\"data row4 col19\" >2,448</td>\n",
       "                        <td id=\"T_8f6802f4_7766_11ea_b8af_c49ded93ade6row4_col20\" class=\"data row4 col20\" >2,929</td>\n",
       "                        <td id=\"T_8f6802f4_7766_11ea_b8af_c49ded93ade6row4_col21\" class=\"data row4 col21\" >3,922</td>\n",
       "                        <td id=\"T_8f6802f4_7766_11ea_b8af_c49ded93ade6row4_col22\" class=\"data row4 col22\" >3,809</td>\n",
       "                        <td id=\"T_8f6802f4_7766_11ea_b8af_c49ded93ade6row4_col23\" class=\"data row4 col23\" >4,611</td>\n",
       "                        <td id=\"T_8f6802f4_7766_11ea_b8af_c49ded93ade6row4_col24\" class=\"data row4 col24\" >2,599</td>\n",
       "                        <td id=\"T_8f6802f4_7766_11ea_b8af_c49ded93ade6row4_col25\" class=\"data row4 col25\" >4,376</td>\n",
       "                        <td id=\"T_8f6802f4_7766_11ea_b8af_c49ded93ade6row4_col26\" class=\"data row4 col26\" >7,578</td>\n",
       "                        <td id=\"T_8f6802f4_7766_11ea_b8af_c49ded93ade6row4_col27\" class=\"data row4 col27\" >4,861</td>\n",
       "                        <td id=\"T_8f6802f4_7766_11ea_b8af_c49ded93ade6row4_col28\" class=\"data row4 col28\" >2,116</td>\n",
       "                        <td id=\"T_8f6802f4_7766_11ea_b8af_c49ded93ade6row4_col29\" class=\"data row4 col29\" >5,233</td>\n",
       "                        <td id=\"T_8f6802f4_7766_11ea_b8af_c49ded93ade6row4_col30\" class=\"data row4 col30\" >25,615</td>\n",
       "            </tr>\n",
       "    </tbody></table>"
      ],
      "text/plain": [
       "<pandas.io.formats.style.Styler at 0xfbeb0b0>"
      ]
     },
     "execution_count": 18,
     "metadata": {},
     "output_type": "execute_result"
    }
   ],
   "source": [
    "dfConfirmedWorldTop5 = dfConfirmedWorldTop.head(5)\n",
    "\n",
    "dfConfirmedWorldTop5DailyDataCols = dfConfirmedWorldTop5[dfConfirmedWorldTop5.columns[4:]]\n",
    "dfConfirmedWorldTop5Daily = pd.concat([dfConfirmedWorldTop5[dfConfirmedWorldTop5.columns[:4]], dfConfirmedWorldTop5DailyDataCols.diff(axis=1)], axis=1)\n",
    "\n",
    "data = [{\n",
    "    'x': row[1].index[-MONTH_DAYS:],\n",
    "    'y': row[1].values[-MONTH_DAYS:],\n",
    "    'name': row[0]\n",
    "}  for row in dfConfirmedWorldTop5Daily.iterrows()]\n",
    "\n",
    "layout = dict(title = 'World Daily New Confirmed Cases', updatemenus=LogLinearScale)\n",
    "py.iplot(dict(data=data, layout=layout))\n",
    "\n",
    "dfConfirmedWorldTop5Daily[dfConfirmedWorldTop5Daily.columns[-MONTH_DAYS:]].style.format(IntegerFormatter)"
   ]
  },
  {
   "cell_type": "code",
   "execution_count": 19,
   "metadata": {
    "ExecuteTime": {
     "end_time": "2020-04-05T17:54:57.710375Z",
     "start_time": "2020-04-05T17:54:56.508312Z"
    },
    "extensions": {
     "jupyter_dashboards": {
      "version": 1,
      "views": {
       "grid_default": {
        "col": 0,
        "height": 31,
        "hidden": false,
        "row": 117,
        "width": null
       },
       "report_default": {
        "hidden": false
       }
      }
     }
    }
   },
   "outputs": [
    {
     "data": {
      "application/vnd.plotly.v1+json": {
       "config": {
        "linkText": "Export to plot.ly",
        "plotlyServerURL": "https://plot.ly",
        "showLink": false
       },
       "data": [
        {
         "name": "Italy",
         "type": "scatter",
         "x": [
          "3/5/20",
          "3/6/20",
          "3/7/20",
          "3/8/20",
          "3/9/20",
          "3/10/20",
          "3/11/20",
          "3/12/20",
          "3/13/20",
          "3/14/20",
          "3/15/20",
          "3/16/20",
          "3/17/20",
          "3/18/20",
          "3/19/20",
          "3/20/20",
          "3/21/20",
          "3/22/20",
          "3/23/20",
          "3/24/20",
          "3/25/20",
          "3/26/20",
          "3/27/20",
          "3/28/20",
          "3/29/20",
          "3/30/20",
          "3/31/20",
          "4/1/20",
          "4/2/20",
          "4/3/20",
          "4/4/20"
         ],
         "y": [
          148,
          197,
          233,
          366,
          463,
          631,
          827,
          827,
          1266,
          1441,
          1809,
          2158,
          2503,
          2978,
          3405,
          4032,
          4825,
          5476,
          6077,
          6820,
          7503,
          8215,
          9134,
          10023,
          10779,
          11591,
          12428,
          13155,
          13915,
          14681,
          15362
         ]
        },
        {
         "name": "Spain",
         "type": "scatter",
         "x": [
          "3/5/20",
          "3/6/20",
          "3/7/20",
          "3/8/20",
          "3/9/20",
          "3/10/20",
          "3/11/20",
          "3/12/20",
          "3/13/20",
          "3/14/20",
          "3/15/20",
          "3/16/20",
          "3/17/20",
          "3/18/20",
          "3/19/20",
          "3/20/20",
          "3/21/20",
          "3/22/20",
          "3/23/20",
          "3/24/20",
          "3/25/20",
          "3/26/20",
          "3/27/20",
          "3/28/20",
          "3/29/20",
          "3/30/20",
          "3/31/20",
          "4/1/20",
          "4/2/20",
          "4/3/20",
          "4/4/20"
         ],
         "y": [
          3,
          5,
          10,
          17,
          28,
          35,
          54,
          55,
          133,
          195,
          289,
          342,
          533,
          623,
          830,
          1043,
          1375,
          1772,
          2311,
          2808,
          3647,
          4365,
          5138,
          5982,
          6803,
          7716,
          8464,
          9387,
          10348,
          11198,
          11947
         ]
        },
        {
         "name": "US",
         "type": "scatter",
         "x": [
          "3/5/20",
          "3/6/20",
          "3/7/20",
          "3/8/20",
          "3/9/20",
          "3/10/20",
          "3/11/20",
          "3/12/20",
          "3/13/20",
          "3/14/20",
          "3/15/20",
          "3/16/20",
          "3/17/20",
          "3/18/20",
          "3/19/20",
          "3/20/20",
          "3/21/20",
          "3/22/20",
          "3/23/20",
          "3/24/20",
          "3/25/20",
          "3/26/20",
          "3/27/20",
          "3/28/20",
          "3/29/20",
          "3/30/20",
          "3/31/20",
          "4/1/20",
          "4/2/20",
          "4/3/20",
          "4/4/20"
         ],
         "y": [
          12,
          14,
          17,
          21,
          22,
          28,
          36,
          40,
          47,
          54,
          63,
          85,
          108,
          118,
          200,
          244,
          307,
          417,
          557,
          706,
          942,
          1209,
          1581,
          2026,
          2467,
          2978,
          3873,
          4757,
          5926,
          7087,
          8407
         ]
        },
        {
         "name": "France",
         "type": "scatter",
         "x": [
          "3/5/20",
          "3/6/20",
          "3/7/20",
          "3/8/20",
          "3/9/20",
          "3/10/20",
          "3/11/20",
          "3/12/20",
          "3/13/20",
          "3/14/20",
          "3/15/20",
          "3/16/20",
          "3/17/20",
          "3/18/20",
          "3/19/20",
          "3/20/20",
          "3/21/20",
          "3/22/20",
          "3/23/20",
          "3/24/20",
          "3/25/20",
          "3/26/20",
          "3/27/20",
          "3/28/20",
          "3/29/20",
          "3/30/20",
          "3/31/20",
          "4/1/20",
          "4/2/20",
          "4/3/20",
          "4/4/20"
         ],
         "y": [
          6,
          9,
          11,
          19,
          19,
          33,
          48,
          48,
          79,
          91,
          91,
          148,
          148,
          148,
          243,
          450,
          562,
          674,
          860,
          1100,
          1331,
          1696,
          1995,
          2314,
          2606,
          3024,
          3523,
          4032,
          5387,
          6507,
          7560
         ]
        },
        {
         "name": "United Kingdom",
         "type": "scatter",
         "x": [
          "3/5/20",
          "3/6/20",
          "3/7/20",
          "3/8/20",
          "3/9/20",
          "3/10/20",
          "3/11/20",
          "3/12/20",
          "3/13/20",
          "3/14/20",
          "3/15/20",
          "3/16/20",
          "3/17/20",
          "3/18/20",
          "3/19/20",
          "3/20/20",
          "3/21/20",
          "3/22/20",
          "3/23/20",
          "3/24/20",
          "3/25/20",
          "3/26/20",
          "3/27/20",
          "3/28/20",
          "3/29/20",
          "3/30/20",
          "3/31/20",
          "4/1/20",
          "4/2/20",
          "4/3/20",
          "4/4/20"
         ],
         "y": [
          1,
          2,
          2,
          3,
          4,
          6,
          8,
          8,
          8,
          21,
          21,
          55,
          55,
          71,
          137,
          177,
          233,
          281,
          335,
          422,
          465,
          578,
          759,
          1019,
          1228,
          1408,
          1789,
          2352,
          2921,
          3605,
          4313
         ]
        },
        {
         "name": "Iran",
         "type": "scatter",
         "x": [
          "3/5/20",
          "3/6/20",
          "3/7/20",
          "3/8/20",
          "3/9/20",
          "3/10/20",
          "3/11/20",
          "3/12/20",
          "3/13/20",
          "3/14/20",
          "3/15/20",
          "3/16/20",
          "3/17/20",
          "3/18/20",
          "3/19/20",
          "3/20/20",
          "3/21/20",
          "3/22/20",
          "3/23/20",
          "3/24/20",
          "3/25/20",
          "3/26/20",
          "3/27/20",
          "3/28/20",
          "3/29/20",
          "3/30/20",
          "3/31/20",
          "4/1/20",
          "4/2/20",
          "4/3/20",
          "4/4/20"
         ],
         "y": [
          107,
          124,
          145,
          194,
          237,
          291,
          354,
          429,
          514,
          611,
          724,
          853,
          988,
          1135,
          1284,
          1433,
          1556,
          1685,
          1812,
          1934,
          2077,
          2234,
          2378,
          2517,
          2640,
          2757,
          2898,
          3036,
          3160,
          3294,
          3452
         ]
        },
        {
         "name": "China",
         "type": "scatter",
         "x": [
          "3/5/20",
          "3/6/20",
          "3/7/20",
          "3/8/20",
          "3/9/20",
          "3/10/20",
          "3/11/20",
          "3/12/20",
          "3/13/20",
          "3/14/20",
          "3/15/20",
          "3/16/20",
          "3/17/20",
          "3/18/20",
          "3/19/20",
          "3/20/20",
          "3/21/20",
          "3/22/20",
          "3/23/20",
          "3/24/20",
          "3/25/20",
          "3/26/20",
          "3/27/20",
          "3/28/20",
          "3/29/20",
          "3/30/20",
          "3/31/20",
          "4/1/20",
          "4/2/20",
          "4/3/20",
          "4/4/20"
         ],
         "y": [
          3015,
          3044,
          3072,
          3100,
          3123,
          3139,
          3161,
          3172,
          3180,
          3193,
          3203,
          3217,
          3230,
          3241,
          3249,
          3253,
          3259,
          3274,
          3274,
          3281,
          3285,
          3291,
          3296,
          3299,
          3304,
          3308,
          3309,
          3316,
          3322,
          3326,
          3330
         ]
        },
        {
         "name": "Netherlands",
         "type": "scatter",
         "x": [
          "3/5/20",
          "3/6/20",
          "3/7/20",
          "3/8/20",
          "3/9/20",
          "3/10/20",
          "3/11/20",
          "3/12/20",
          "3/13/20",
          "3/14/20",
          "3/15/20",
          "3/16/20",
          "3/17/20",
          "3/18/20",
          "3/19/20",
          "3/20/20",
          "3/21/20",
          "3/22/20",
          "3/23/20",
          "3/24/20",
          "3/25/20",
          "3/26/20",
          "3/27/20",
          "3/28/20",
          "3/29/20",
          "3/30/20",
          "3/31/20",
          "4/1/20",
          "4/2/20",
          "4/3/20",
          "4/4/20"
         ],
         "y": [
          0,
          1,
          1,
          3,
          3,
          4,
          5,
          5,
          10,
          12,
          20,
          24,
          43,
          58,
          76,
          106,
          136,
          179,
          213,
          276,
          356,
          434,
          546,
          639,
          771,
          864,
          1039,
          1173,
          1339,
          1487,
          1651
         ]
        },
        {
         "name": "Germany",
         "type": "scatter",
         "x": [
          "3/5/20",
          "3/6/20",
          "3/7/20",
          "3/8/20",
          "3/9/20",
          "3/10/20",
          "3/11/20",
          "3/12/20",
          "3/13/20",
          "3/14/20",
          "3/15/20",
          "3/16/20",
          "3/17/20",
          "3/18/20",
          "3/19/20",
          "3/20/20",
          "3/21/20",
          "3/22/20",
          "3/23/20",
          "3/24/20",
          "3/25/20",
          "3/26/20",
          "3/27/20",
          "3/28/20",
          "3/29/20",
          "3/30/20",
          "3/31/20",
          "4/1/20",
          "4/2/20",
          "4/3/20",
          "4/4/20"
         ],
         "y": [
          0,
          0,
          0,
          0,
          2,
          2,
          3,
          3,
          7,
          9,
          11,
          17,
          24,
          28,
          44,
          67,
          84,
          94,
          123,
          157,
          206,
          267,
          342,
          433,
          533,
          645,
          775,
          920,
          1107,
          1275,
          1444
         ]
        },
        {
         "name": "Belgium",
         "type": "scatter",
         "x": [
          "3/5/20",
          "3/6/20",
          "3/7/20",
          "3/8/20",
          "3/9/20",
          "3/10/20",
          "3/11/20",
          "3/12/20",
          "3/13/20",
          "3/14/20",
          "3/15/20",
          "3/16/20",
          "3/17/20",
          "3/18/20",
          "3/19/20",
          "3/20/20",
          "3/21/20",
          "3/22/20",
          "3/23/20",
          "3/24/20",
          "3/25/20",
          "3/26/20",
          "3/27/20",
          "3/28/20",
          "3/29/20",
          "3/30/20",
          "3/31/20",
          "4/1/20",
          "4/2/20",
          "4/3/20",
          "4/4/20"
         ],
         "y": [
          0,
          0,
          0,
          0,
          0,
          0,
          3,
          3,
          3,
          4,
          4,
          5,
          10,
          14,
          21,
          37,
          67,
          75,
          88,
          122,
          178,
          220,
          289,
          353,
          431,
          513,
          705,
          828,
          1011,
          1143,
          1283
         ]
        },
        {
         "name": "Switzerland",
         "type": "scatter",
         "x": [
          "3/5/20",
          "3/6/20",
          "3/7/20",
          "3/8/20",
          "3/9/20",
          "3/10/20",
          "3/11/20",
          "3/12/20",
          "3/13/20",
          "3/14/20",
          "3/15/20",
          "3/16/20",
          "3/17/20",
          "3/18/20",
          "3/19/20",
          "3/20/20",
          "3/21/20",
          "3/22/20",
          "3/23/20",
          "3/24/20",
          "3/25/20",
          "3/26/20",
          "3/27/20",
          "3/28/20",
          "3/29/20",
          "3/30/20",
          "3/31/20",
          "4/1/20",
          "4/2/20",
          "4/3/20",
          "4/4/20"
         ],
         "y": [
          1,
          1,
          1,
          2,
          2,
          3,
          4,
          4,
          11,
          13,
          14,
          14,
          27,
          28,
          41,
          54,
          75,
          98,
          120,
          122,
          153,
          191,
          231,
          264,
          300,
          359,
          433,
          488,
          536,
          591,
          666
         ]
        }
       ],
       "layout": {
        "template": {
         "data": {
          "bar": [
           {
            "error_x": {
             "color": "#2a3f5f"
            },
            "error_y": {
             "color": "#2a3f5f"
            },
            "marker": {
             "line": {
              "color": "#E5ECF6",
              "width": 0.5
             }
            },
            "type": "bar"
           }
          ],
          "barpolar": [
           {
            "marker": {
             "line": {
              "color": "#E5ECF6",
              "width": 0.5
             }
            },
            "type": "barpolar"
           }
          ],
          "carpet": [
           {
            "aaxis": {
             "endlinecolor": "#2a3f5f",
             "gridcolor": "white",
             "linecolor": "white",
             "minorgridcolor": "white",
             "startlinecolor": "#2a3f5f"
            },
            "baxis": {
             "endlinecolor": "#2a3f5f",
             "gridcolor": "white",
             "linecolor": "white",
             "minorgridcolor": "white",
             "startlinecolor": "#2a3f5f"
            },
            "type": "carpet"
           }
          ],
          "choropleth": [
           {
            "colorbar": {
             "outlinewidth": 0,
             "ticks": ""
            },
            "type": "choropleth"
           }
          ],
          "contour": [
           {
            "colorbar": {
             "outlinewidth": 0,
             "ticks": ""
            },
            "colorscale": [
             [
              0,
              "#0d0887"
             ],
             [
              0.1111111111111111,
              "#46039f"
             ],
             [
              0.2222222222222222,
              "#7201a8"
             ],
             [
              0.3333333333333333,
              "#9c179e"
             ],
             [
              0.4444444444444444,
              "#bd3786"
             ],
             [
              0.5555555555555556,
              "#d8576b"
             ],
             [
              0.6666666666666666,
              "#ed7953"
             ],
             [
              0.7777777777777778,
              "#fb9f3a"
             ],
             [
              0.8888888888888888,
              "#fdca26"
             ],
             [
              1,
              "#f0f921"
             ]
            ],
            "type": "contour"
           }
          ],
          "contourcarpet": [
           {
            "colorbar": {
             "outlinewidth": 0,
             "ticks": ""
            },
            "type": "contourcarpet"
           }
          ],
          "heatmap": [
           {
            "colorbar": {
             "outlinewidth": 0,
             "ticks": ""
            },
            "colorscale": [
             [
              0,
              "#0d0887"
             ],
             [
              0.1111111111111111,
              "#46039f"
             ],
             [
              0.2222222222222222,
              "#7201a8"
             ],
             [
              0.3333333333333333,
              "#9c179e"
             ],
             [
              0.4444444444444444,
              "#bd3786"
             ],
             [
              0.5555555555555556,
              "#d8576b"
             ],
             [
              0.6666666666666666,
              "#ed7953"
             ],
             [
              0.7777777777777778,
              "#fb9f3a"
             ],
             [
              0.8888888888888888,
              "#fdca26"
             ],
             [
              1,
              "#f0f921"
             ]
            ],
            "type": "heatmap"
           }
          ],
          "heatmapgl": [
           {
            "colorbar": {
             "outlinewidth": 0,
             "ticks": ""
            },
            "colorscale": [
             [
              0,
              "#0d0887"
             ],
             [
              0.1111111111111111,
              "#46039f"
             ],
             [
              0.2222222222222222,
              "#7201a8"
             ],
             [
              0.3333333333333333,
              "#9c179e"
             ],
             [
              0.4444444444444444,
              "#bd3786"
             ],
             [
              0.5555555555555556,
              "#d8576b"
             ],
             [
              0.6666666666666666,
              "#ed7953"
             ],
             [
              0.7777777777777778,
              "#fb9f3a"
             ],
             [
              0.8888888888888888,
              "#fdca26"
             ],
             [
              1,
              "#f0f921"
             ]
            ],
            "type": "heatmapgl"
           }
          ],
          "histogram": [
           {
            "marker": {
             "colorbar": {
              "outlinewidth": 0,
              "ticks": ""
             }
            },
            "type": "histogram"
           }
          ],
          "histogram2d": [
           {
            "colorbar": {
             "outlinewidth": 0,
             "ticks": ""
            },
            "colorscale": [
             [
              0,
              "#0d0887"
             ],
             [
              0.1111111111111111,
              "#46039f"
             ],
             [
              0.2222222222222222,
              "#7201a8"
             ],
             [
              0.3333333333333333,
              "#9c179e"
             ],
             [
              0.4444444444444444,
              "#bd3786"
             ],
             [
              0.5555555555555556,
              "#d8576b"
             ],
             [
              0.6666666666666666,
              "#ed7953"
             ],
             [
              0.7777777777777778,
              "#fb9f3a"
             ],
             [
              0.8888888888888888,
              "#fdca26"
             ],
             [
              1,
              "#f0f921"
             ]
            ],
            "type": "histogram2d"
           }
          ],
          "histogram2dcontour": [
           {
            "colorbar": {
             "outlinewidth": 0,
             "ticks": ""
            },
            "colorscale": [
             [
              0,
              "#0d0887"
             ],
             [
              0.1111111111111111,
              "#46039f"
             ],
             [
              0.2222222222222222,
              "#7201a8"
             ],
             [
              0.3333333333333333,
              "#9c179e"
             ],
             [
              0.4444444444444444,
              "#bd3786"
             ],
             [
              0.5555555555555556,
              "#d8576b"
             ],
             [
              0.6666666666666666,
              "#ed7953"
             ],
             [
              0.7777777777777778,
              "#fb9f3a"
             ],
             [
              0.8888888888888888,
              "#fdca26"
             ],
             [
              1,
              "#f0f921"
             ]
            ],
            "type": "histogram2dcontour"
           }
          ],
          "mesh3d": [
           {
            "colorbar": {
             "outlinewidth": 0,
             "ticks": ""
            },
            "type": "mesh3d"
           }
          ],
          "parcoords": [
           {
            "line": {
             "colorbar": {
              "outlinewidth": 0,
              "ticks": ""
             }
            },
            "type": "parcoords"
           }
          ],
          "pie": [
           {
            "automargin": true,
            "type": "pie"
           }
          ],
          "scatter": [
           {
            "marker": {
             "colorbar": {
              "outlinewidth": 0,
              "ticks": ""
             }
            },
            "type": "scatter"
           }
          ],
          "scatter3d": [
           {
            "line": {
             "colorbar": {
              "outlinewidth": 0,
              "ticks": ""
             }
            },
            "marker": {
             "colorbar": {
              "outlinewidth": 0,
              "ticks": ""
             }
            },
            "type": "scatter3d"
           }
          ],
          "scattercarpet": [
           {
            "marker": {
             "colorbar": {
              "outlinewidth": 0,
              "ticks": ""
             }
            },
            "type": "scattercarpet"
           }
          ],
          "scattergeo": [
           {
            "marker": {
             "colorbar": {
              "outlinewidth": 0,
              "ticks": ""
             }
            },
            "type": "scattergeo"
           }
          ],
          "scattergl": [
           {
            "marker": {
             "colorbar": {
              "outlinewidth": 0,
              "ticks": ""
             }
            },
            "type": "scattergl"
           }
          ],
          "scattermapbox": [
           {
            "marker": {
             "colorbar": {
              "outlinewidth": 0,
              "ticks": ""
             }
            },
            "type": "scattermapbox"
           }
          ],
          "scatterpolar": [
           {
            "marker": {
             "colorbar": {
              "outlinewidth": 0,
              "ticks": ""
             }
            },
            "type": "scatterpolar"
           }
          ],
          "scatterpolargl": [
           {
            "marker": {
             "colorbar": {
              "outlinewidth": 0,
              "ticks": ""
             }
            },
            "type": "scatterpolargl"
           }
          ],
          "scatterternary": [
           {
            "marker": {
             "colorbar": {
              "outlinewidth": 0,
              "ticks": ""
             }
            },
            "type": "scatterternary"
           }
          ],
          "surface": [
           {
            "colorbar": {
             "outlinewidth": 0,
             "ticks": ""
            },
            "colorscale": [
             [
              0,
              "#0d0887"
             ],
             [
              0.1111111111111111,
              "#46039f"
             ],
             [
              0.2222222222222222,
              "#7201a8"
             ],
             [
              0.3333333333333333,
              "#9c179e"
             ],
             [
              0.4444444444444444,
              "#bd3786"
             ],
             [
              0.5555555555555556,
              "#d8576b"
             ],
             [
              0.6666666666666666,
              "#ed7953"
             ],
             [
              0.7777777777777778,
              "#fb9f3a"
             ],
             [
              0.8888888888888888,
              "#fdca26"
             ],
             [
              1,
              "#f0f921"
             ]
            ],
            "type": "surface"
           }
          ],
          "table": [
           {
            "cells": {
             "fill": {
              "color": "#EBF0F8"
             },
             "line": {
              "color": "white"
             }
            },
            "header": {
             "fill": {
              "color": "#C8D4E3"
             },
             "line": {
              "color": "white"
             }
            },
            "type": "table"
           }
          ]
         },
         "layout": {
          "annotationdefaults": {
           "arrowcolor": "#2a3f5f",
           "arrowhead": 0,
           "arrowwidth": 1
          },
          "coloraxis": {
           "colorbar": {
            "outlinewidth": 0,
            "ticks": ""
           }
          },
          "colorscale": {
           "diverging": [
            [
             0,
             "#8e0152"
            ],
            [
             0.1,
             "#c51b7d"
            ],
            [
             0.2,
             "#de77ae"
            ],
            [
             0.3,
             "#f1b6da"
            ],
            [
             0.4,
             "#fde0ef"
            ],
            [
             0.5,
             "#f7f7f7"
            ],
            [
             0.6,
             "#e6f5d0"
            ],
            [
             0.7,
             "#b8e186"
            ],
            [
             0.8,
             "#7fbc41"
            ],
            [
             0.9,
             "#4d9221"
            ],
            [
             1,
             "#276419"
            ]
           ],
           "sequential": [
            [
             0,
             "#0d0887"
            ],
            [
             0.1111111111111111,
             "#46039f"
            ],
            [
             0.2222222222222222,
             "#7201a8"
            ],
            [
             0.3333333333333333,
             "#9c179e"
            ],
            [
             0.4444444444444444,
             "#bd3786"
            ],
            [
             0.5555555555555556,
             "#d8576b"
            ],
            [
             0.6666666666666666,
             "#ed7953"
            ],
            [
             0.7777777777777778,
             "#fb9f3a"
            ],
            [
             0.8888888888888888,
             "#fdca26"
            ],
            [
             1,
             "#f0f921"
            ]
           ],
           "sequentialminus": [
            [
             0,
             "#0d0887"
            ],
            [
             0.1111111111111111,
             "#46039f"
            ],
            [
             0.2222222222222222,
             "#7201a8"
            ],
            [
             0.3333333333333333,
             "#9c179e"
            ],
            [
             0.4444444444444444,
             "#bd3786"
            ],
            [
             0.5555555555555556,
             "#d8576b"
            ],
            [
             0.6666666666666666,
             "#ed7953"
            ],
            [
             0.7777777777777778,
             "#fb9f3a"
            ],
            [
             0.8888888888888888,
             "#fdca26"
            ],
            [
             1,
             "#f0f921"
            ]
           ]
          },
          "colorway": [
           "#636efa",
           "#EF553B",
           "#00cc96",
           "#ab63fa",
           "#FFA15A",
           "#19d3f3",
           "#FF6692",
           "#B6E880",
           "#FF97FF",
           "#FECB52"
          ],
          "font": {
           "color": "#2a3f5f"
          },
          "geo": {
           "bgcolor": "white",
           "lakecolor": "white",
           "landcolor": "#E5ECF6",
           "showlakes": true,
           "showland": true,
           "subunitcolor": "white"
          },
          "hoverlabel": {
           "align": "left"
          },
          "hovermode": "closest",
          "mapbox": {
           "style": "light"
          },
          "paper_bgcolor": "white",
          "plot_bgcolor": "#E5ECF6",
          "polar": {
           "angularaxis": {
            "gridcolor": "white",
            "linecolor": "white",
            "ticks": ""
           },
           "bgcolor": "#E5ECF6",
           "radialaxis": {
            "gridcolor": "white",
            "linecolor": "white",
            "ticks": ""
           }
          },
          "scene": {
           "xaxis": {
            "backgroundcolor": "#E5ECF6",
            "gridcolor": "white",
            "gridwidth": 2,
            "linecolor": "white",
            "showbackground": true,
            "ticks": "",
            "zerolinecolor": "white"
           },
           "yaxis": {
            "backgroundcolor": "#E5ECF6",
            "gridcolor": "white",
            "gridwidth": 2,
            "linecolor": "white",
            "showbackground": true,
            "ticks": "",
            "zerolinecolor": "white"
           },
           "zaxis": {
            "backgroundcolor": "#E5ECF6",
            "gridcolor": "white",
            "gridwidth": 2,
            "linecolor": "white",
            "showbackground": true,
            "ticks": "",
            "zerolinecolor": "white"
           }
          },
          "shapedefaults": {
           "line": {
            "color": "#2a3f5f"
           }
          },
          "ternary": {
           "aaxis": {
            "gridcolor": "white",
            "linecolor": "white",
            "ticks": ""
           },
           "baxis": {
            "gridcolor": "white",
            "linecolor": "white",
            "ticks": ""
           },
           "bgcolor": "#E5ECF6",
           "caxis": {
            "gridcolor": "white",
            "linecolor": "white",
            "ticks": ""
           }
          },
          "title": {
           "x": 0.05
          },
          "xaxis": {
           "automargin": true,
           "gridcolor": "white",
           "linecolor": "white",
           "ticks": "",
           "title": {
            "standoff": 15
           },
           "zerolinecolor": "white",
           "zerolinewidth": 2
          },
          "yaxis": {
           "automargin": true,
           "gridcolor": "white",
           "linecolor": "white",
           "ticks": "",
           "title": {
            "standoff": 15
           },
           "zerolinecolor": "white",
           "zerolinewidth": 2
          }
         }
        },
        "title": {
         "text": "World Deaths"
        },
        "updatemenus": [
         {
          "active": 0,
          "buttons": [
           {
            "args": [
             {
              "visible": [
               true,
               true
              ]
             },
             {
              "yaxis": {
               "type": "linear"
              }
             }
            ],
            "label": "Linear Scale",
            "method": "update"
           },
           {
            "args": [
             {
              "visible": [
               true,
               true
              ]
             },
             {
              "yaxis": {
               "type": "log"
              }
             }
            ],
            "label": "Logarithmic Scale",
            "method": "update"
           }
          ],
          "direction": "right",
          "type": "buttons",
          "x": 0.45,
          "xanchor": "left",
          "y": 1.1,
          "yanchor": "top"
         }
        ]
       }
      },
      "text/html": [
       "<div>\n",
       "        \n",
       "        \n",
       "            <div id=\"589a7640-786a-4633-8d54-e85ce68bdb24\" class=\"plotly-graph-div\" style=\"height:525px; width:100%;\"></div>\n",
       "            <script type=\"text/javascript\">\n",
       "                require([\"plotly\"], function(Plotly) {\n",
       "                    window.PLOTLYENV=window.PLOTLYENV || {};\n",
       "                    \n",
       "                if (document.getElementById(\"589a7640-786a-4633-8d54-e85ce68bdb24\")) {\n",
       "                    Plotly.newPlot(\n",
       "                        '589a7640-786a-4633-8d54-e85ce68bdb24',\n",
       "                        [{\"name\": \"Italy\", \"type\": \"scatter\", \"x\": [\"3/5/20\", \"3/6/20\", \"3/7/20\", \"3/8/20\", \"3/9/20\", \"3/10/20\", \"3/11/20\", \"3/12/20\", \"3/13/20\", \"3/14/20\", \"3/15/20\", \"3/16/20\", \"3/17/20\", \"3/18/20\", \"3/19/20\", \"3/20/20\", \"3/21/20\", \"3/22/20\", \"3/23/20\", \"3/24/20\", \"3/25/20\", \"3/26/20\", \"3/27/20\", \"3/28/20\", \"3/29/20\", \"3/30/20\", \"3/31/20\", \"4/1/20\", \"4/2/20\", \"4/3/20\", \"4/4/20\"], \"y\": [148.0, 197.0, 233.0, 366.0, 463.0, 631.0, 827.0, 827.0, 1266.0, 1441.0, 1809.0, 2158.0, 2503.0, 2978.0, 3405.0, 4032.0, 4825.0, 5476.0, 6077.0, 6820.0, 7503.0, 8215.0, 9134.0, 10023.0, 10779.0, 11591.0, 12428.0, 13155.0, 13915.0, 14681.0, 15362.0]}, {\"name\": \"Spain\", \"type\": \"scatter\", \"x\": [\"3/5/20\", \"3/6/20\", \"3/7/20\", \"3/8/20\", \"3/9/20\", \"3/10/20\", \"3/11/20\", \"3/12/20\", \"3/13/20\", \"3/14/20\", \"3/15/20\", \"3/16/20\", \"3/17/20\", \"3/18/20\", \"3/19/20\", \"3/20/20\", \"3/21/20\", \"3/22/20\", \"3/23/20\", \"3/24/20\", \"3/25/20\", \"3/26/20\", \"3/27/20\", \"3/28/20\", \"3/29/20\", \"3/30/20\", \"3/31/20\", \"4/1/20\", \"4/2/20\", \"4/3/20\", \"4/4/20\"], \"y\": [3.0, 5.0, 10.0, 17.0, 28.0, 35.0, 54.0, 55.0, 133.0, 195.0, 289.0, 342.0, 533.0, 623.0, 830.0, 1043.0, 1375.0, 1772.0, 2311.0, 2808.0, 3647.0, 4365.0, 5138.0, 5982.0, 6803.0, 7716.0, 8464.0, 9387.0, 10348.0, 11198.0, 11947.0]}, {\"name\": \"US\", \"type\": \"scatter\", \"x\": [\"3/5/20\", \"3/6/20\", \"3/7/20\", \"3/8/20\", \"3/9/20\", \"3/10/20\", \"3/11/20\", \"3/12/20\", \"3/13/20\", \"3/14/20\", \"3/15/20\", \"3/16/20\", \"3/17/20\", \"3/18/20\", \"3/19/20\", \"3/20/20\", \"3/21/20\", \"3/22/20\", \"3/23/20\", \"3/24/20\", \"3/25/20\", \"3/26/20\", \"3/27/20\", \"3/28/20\", \"3/29/20\", \"3/30/20\", \"3/31/20\", \"4/1/20\", \"4/2/20\", \"4/3/20\", \"4/4/20\"], \"y\": [12.0, 14.0, 17.0, 21.0, 22.0, 28.0, 36.0, 40.0, 47.0, 54.0, 63.0, 85.0, 108.0, 118.0, 200.0, 244.0, 307.0, 417.0, 557.0, 706.0, 942.0, 1209.0, 1581.0, 2026.0, 2467.0, 2978.0, 3873.0, 4757.0, 5926.0, 7087.0, 8407.0]}, {\"name\": \"France\", \"type\": \"scatter\", \"x\": [\"3/5/20\", \"3/6/20\", \"3/7/20\", \"3/8/20\", \"3/9/20\", \"3/10/20\", \"3/11/20\", \"3/12/20\", \"3/13/20\", \"3/14/20\", \"3/15/20\", \"3/16/20\", \"3/17/20\", \"3/18/20\", \"3/19/20\", \"3/20/20\", \"3/21/20\", \"3/22/20\", \"3/23/20\", \"3/24/20\", \"3/25/20\", \"3/26/20\", \"3/27/20\", \"3/28/20\", \"3/29/20\", \"3/30/20\", \"3/31/20\", \"4/1/20\", \"4/2/20\", \"4/3/20\", \"4/4/20\"], \"y\": [6.0, 9.0, 11.0, 19.0, 19.0, 33.0, 48.0, 48.0, 79.0, 91.0, 91.0, 148.0, 148.0, 148.0, 243.0, 450.0, 562.0, 674.0, 860.0, 1100.0, 1331.0, 1696.0, 1995.0, 2314.0, 2606.0, 3024.0, 3523.0, 4032.0, 5387.0, 6507.0, 7560.0]}, {\"name\": \"United Kingdom\", \"type\": \"scatter\", \"x\": [\"3/5/20\", \"3/6/20\", \"3/7/20\", \"3/8/20\", \"3/9/20\", \"3/10/20\", \"3/11/20\", \"3/12/20\", \"3/13/20\", \"3/14/20\", \"3/15/20\", \"3/16/20\", \"3/17/20\", \"3/18/20\", \"3/19/20\", \"3/20/20\", \"3/21/20\", \"3/22/20\", \"3/23/20\", \"3/24/20\", \"3/25/20\", \"3/26/20\", \"3/27/20\", \"3/28/20\", \"3/29/20\", \"3/30/20\", \"3/31/20\", \"4/1/20\", \"4/2/20\", \"4/3/20\", \"4/4/20\"], \"y\": [1.0, 2.0, 2.0, 3.0, 4.0, 6.0, 8.0, 8.0, 8.0, 21.0, 21.0, 55.0, 55.0, 71.0, 137.0, 177.0, 233.0, 281.0, 335.0, 422.0, 465.0, 578.0, 759.0, 1019.0, 1228.0, 1408.0, 1789.0, 2352.0, 2921.0, 3605.0, 4313.0]}, {\"name\": \"Iran\", \"type\": \"scatter\", \"x\": [\"3/5/20\", \"3/6/20\", \"3/7/20\", \"3/8/20\", \"3/9/20\", \"3/10/20\", \"3/11/20\", \"3/12/20\", \"3/13/20\", \"3/14/20\", \"3/15/20\", \"3/16/20\", \"3/17/20\", \"3/18/20\", \"3/19/20\", \"3/20/20\", \"3/21/20\", \"3/22/20\", \"3/23/20\", \"3/24/20\", \"3/25/20\", \"3/26/20\", \"3/27/20\", \"3/28/20\", \"3/29/20\", \"3/30/20\", \"3/31/20\", \"4/1/20\", \"4/2/20\", \"4/3/20\", \"4/4/20\"], \"y\": [107.0, 124.0, 145.0, 194.0, 237.0, 291.0, 354.0, 429.0, 514.0, 611.0, 724.0, 853.0, 988.0, 1135.0, 1284.0, 1433.0, 1556.0, 1685.0, 1812.0, 1934.0, 2077.0, 2234.0, 2378.0, 2517.0, 2640.0, 2757.0, 2898.0, 3036.0, 3160.0, 3294.0, 3452.0]}, {\"name\": \"China\", \"type\": \"scatter\", \"x\": [\"3/5/20\", \"3/6/20\", \"3/7/20\", \"3/8/20\", \"3/9/20\", \"3/10/20\", \"3/11/20\", \"3/12/20\", \"3/13/20\", \"3/14/20\", \"3/15/20\", \"3/16/20\", \"3/17/20\", \"3/18/20\", \"3/19/20\", \"3/20/20\", \"3/21/20\", \"3/22/20\", \"3/23/20\", \"3/24/20\", \"3/25/20\", \"3/26/20\", \"3/27/20\", \"3/28/20\", \"3/29/20\", \"3/30/20\", \"3/31/20\", \"4/1/20\", \"4/2/20\", \"4/3/20\", \"4/4/20\"], \"y\": [3015.0, 3044.0, 3072.0, 3100.0, 3123.0, 3139.0, 3161.0, 3172.0, 3180.0, 3193.0, 3203.0, 3217.0, 3230.0, 3241.0, 3249.0, 3253.0, 3259.0, 3274.0, 3274.0, 3281.0, 3285.0, 3291.0, 3296.0, 3299.0, 3304.0, 3308.0, 3309.0, 3316.0, 3322.0, 3326.0, 3330.0]}, {\"name\": \"Netherlands\", \"type\": \"scatter\", \"x\": [\"3/5/20\", \"3/6/20\", \"3/7/20\", \"3/8/20\", \"3/9/20\", \"3/10/20\", \"3/11/20\", \"3/12/20\", \"3/13/20\", \"3/14/20\", \"3/15/20\", \"3/16/20\", \"3/17/20\", \"3/18/20\", \"3/19/20\", \"3/20/20\", \"3/21/20\", \"3/22/20\", \"3/23/20\", \"3/24/20\", \"3/25/20\", \"3/26/20\", \"3/27/20\", \"3/28/20\", \"3/29/20\", \"3/30/20\", \"3/31/20\", \"4/1/20\", \"4/2/20\", \"4/3/20\", \"4/4/20\"], \"y\": [0.0, 1.0, 1.0, 3.0, 3.0, 4.0, 5.0, 5.0, 10.0, 12.0, 20.0, 24.0, 43.0, 58.0, 76.0, 106.0, 136.0, 179.0, 213.0, 276.0, 356.0, 434.0, 546.0, 639.0, 771.0, 864.0, 1039.0, 1173.0, 1339.0, 1487.0, 1651.0]}, {\"name\": \"Germany\", \"type\": \"scatter\", \"x\": [\"3/5/20\", \"3/6/20\", \"3/7/20\", \"3/8/20\", \"3/9/20\", \"3/10/20\", \"3/11/20\", \"3/12/20\", \"3/13/20\", \"3/14/20\", \"3/15/20\", \"3/16/20\", \"3/17/20\", \"3/18/20\", \"3/19/20\", \"3/20/20\", \"3/21/20\", \"3/22/20\", \"3/23/20\", \"3/24/20\", \"3/25/20\", \"3/26/20\", \"3/27/20\", \"3/28/20\", \"3/29/20\", \"3/30/20\", \"3/31/20\", \"4/1/20\", \"4/2/20\", \"4/3/20\", \"4/4/20\"], \"y\": [0.0, 0.0, 0.0, 0.0, 2.0, 2.0, 3.0, 3.0, 7.0, 9.0, 11.0, 17.0, 24.0, 28.0, 44.0, 67.0, 84.0, 94.0, 123.0, 157.0, 206.0, 267.0, 342.0, 433.0, 533.0, 645.0, 775.0, 920.0, 1107.0, 1275.0, 1444.0]}, {\"name\": \"Belgium\", \"type\": \"scatter\", \"x\": [\"3/5/20\", \"3/6/20\", \"3/7/20\", \"3/8/20\", \"3/9/20\", \"3/10/20\", \"3/11/20\", \"3/12/20\", \"3/13/20\", \"3/14/20\", \"3/15/20\", \"3/16/20\", \"3/17/20\", \"3/18/20\", \"3/19/20\", \"3/20/20\", \"3/21/20\", \"3/22/20\", \"3/23/20\", \"3/24/20\", \"3/25/20\", \"3/26/20\", \"3/27/20\", \"3/28/20\", \"3/29/20\", \"3/30/20\", \"3/31/20\", \"4/1/20\", \"4/2/20\", \"4/3/20\", \"4/4/20\"], \"y\": [0.0, 0.0, 0.0, 0.0, 0.0, 0.0, 3.0, 3.0, 3.0, 4.0, 4.0, 5.0, 10.0, 14.0, 21.0, 37.0, 67.0, 75.0, 88.0, 122.0, 178.0, 220.0, 289.0, 353.0, 431.0, 513.0, 705.0, 828.0, 1011.0, 1143.0, 1283.0]}, {\"name\": \"Switzerland\", \"type\": \"scatter\", \"x\": [\"3/5/20\", \"3/6/20\", \"3/7/20\", \"3/8/20\", \"3/9/20\", \"3/10/20\", \"3/11/20\", \"3/12/20\", \"3/13/20\", \"3/14/20\", \"3/15/20\", \"3/16/20\", \"3/17/20\", \"3/18/20\", \"3/19/20\", \"3/20/20\", \"3/21/20\", \"3/22/20\", \"3/23/20\", \"3/24/20\", \"3/25/20\", \"3/26/20\", \"3/27/20\", \"3/28/20\", \"3/29/20\", \"3/30/20\", \"3/31/20\", \"4/1/20\", \"4/2/20\", \"4/3/20\", \"4/4/20\"], \"y\": [1.0, 1.0, 1.0, 2.0, 2.0, 3.0, 4.0, 4.0, 11.0, 13.0, 14.0, 14.0, 27.0, 28.0, 41.0, 54.0, 75.0, 98.0, 120.0, 122.0, 153.0, 191.0, 231.0, 264.0, 300.0, 359.0, 433.0, 488.0, 536.0, 591.0, 666.0]}],\n",
       "                        {\"template\": {\"data\": {\"bar\": [{\"error_x\": {\"color\": \"#2a3f5f\"}, \"error_y\": {\"color\": \"#2a3f5f\"}, \"marker\": {\"line\": {\"color\": \"#E5ECF6\", \"width\": 0.5}}, \"type\": \"bar\"}], \"barpolar\": [{\"marker\": {\"line\": {\"color\": \"#E5ECF6\", \"width\": 0.5}}, \"type\": \"barpolar\"}], \"carpet\": [{\"aaxis\": {\"endlinecolor\": \"#2a3f5f\", \"gridcolor\": \"white\", \"linecolor\": \"white\", \"minorgridcolor\": \"white\", \"startlinecolor\": \"#2a3f5f\"}, \"baxis\": {\"endlinecolor\": \"#2a3f5f\", \"gridcolor\": \"white\", \"linecolor\": \"white\", \"minorgridcolor\": \"white\", \"startlinecolor\": \"#2a3f5f\"}, \"type\": \"carpet\"}], \"choropleth\": [{\"colorbar\": {\"outlinewidth\": 0, \"ticks\": \"\"}, \"type\": \"choropleth\"}], \"contour\": [{\"colorbar\": {\"outlinewidth\": 0, \"ticks\": \"\"}, \"colorscale\": [[0.0, \"#0d0887\"], [0.1111111111111111, \"#46039f\"], [0.2222222222222222, \"#7201a8\"], [0.3333333333333333, \"#9c179e\"], [0.4444444444444444, \"#bd3786\"], [0.5555555555555556, \"#d8576b\"], [0.6666666666666666, \"#ed7953\"], [0.7777777777777778, \"#fb9f3a\"], [0.8888888888888888, \"#fdca26\"], [1.0, \"#f0f921\"]], \"type\": \"contour\"}], \"contourcarpet\": [{\"colorbar\": {\"outlinewidth\": 0, \"ticks\": \"\"}, \"type\": \"contourcarpet\"}], \"heatmap\": [{\"colorbar\": {\"outlinewidth\": 0, \"ticks\": \"\"}, \"colorscale\": [[0.0, \"#0d0887\"], [0.1111111111111111, \"#46039f\"], [0.2222222222222222, \"#7201a8\"], [0.3333333333333333, \"#9c179e\"], [0.4444444444444444, \"#bd3786\"], [0.5555555555555556, \"#d8576b\"], [0.6666666666666666, \"#ed7953\"], [0.7777777777777778, \"#fb9f3a\"], [0.8888888888888888, \"#fdca26\"], [1.0, \"#f0f921\"]], \"type\": \"heatmap\"}], \"heatmapgl\": [{\"colorbar\": {\"outlinewidth\": 0, \"ticks\": \"\"}, \"colorscale\": [[0.0, \"#0d0887\"], [0.1111111111111111, \"#46039f\"], [0.2222222222222222, \"#7201a8\"], [0.3333333333333333, \"#9c179e\"], [0.4444444444444444, \"#bd3786\"], [0.5555555555555556, \"#d8576b\"], [0.6666666666666666, \"#ed7953\"], [0.7777777777777778, \"#fb9f3a\"], [0.8888888888888888, \"#fdca26\"], [1.0, \"#f0f921\"]], \"type\": \"heatmapgl\"}], \"histogram\": [{\"marker\": {\"colorbar\": {\"outlinewidth\": 0, \"ticks\": \"\"}}, \"type\": \"histogram\"}], \"histogram2d\": [{\"colorbar\": {\"outlinewidth\": 0, \"ticks\": \"\"}, \"colorscale\": [[0.0, \"#0d0887\"], [0.1111111111111111, \"#46039f\"], [0.2222222222222222, \"#7201a8\"], [0.3333333333333333, \"#9c179e\"], [0.4444444444444444, \"#bd3786\"], [0.5555555555555556, \"#d8576b\"], [0.6666666666666666, \"#ed7953\"], [0.7777777777777778, \"#fb9f3a\"], [0.8888888888888888, \"#fdca26\"], [1.0, \"#f0f921\"]], \"type\": \"histogram2d\"}], \"histogram2dcontour\": [{\"colorbar\": {\"outlinewidth\": 0, \"ticks\": \"\"}, \"colorscale\": [[0.0, \"#0d0887\"], [0.1111111111111111, \"#46039f\"], [0.2222222222222222, \"#7201a8\"], [0.3333333333333333, \"#9c179e\"], [0.4444444444444444, \"#bd3786\"], [0.5555555555555556, \"#d8576b\"], [0.6666666666666666, \"#ed7953\"], [0.7777777777777778, \"#fb9f3a\"], [0.8888888888888888, \"#fdca26\"], [1.0, \"#f0f921\"]], \"type\": \"histogram2dcontour\"}], \"mesh3d\": [{\"colorbar\": {\"outlinewidth\": 0, \"ticks\": \"\"}, \"type\": \"mesh3d\"}], \"parcoords\": [{\"line\": {\"colorbar\": {\"outlinewidth\": 0, \"ticks\": \"\"}}, \"type\": \"parcoords\"}], \"pie\": [{\"automargin\": true, \"type\": \"pie\"}], \"scatter\": [{\"marker\": {\"colorbar\": {\"outlinewidth\": 0, \"ticks\": \"\"}}, \"type\": \"scatter\"}], \"scatter3d\": [{\"line\": {\"colorbar\": {\"outlinewidth\": 0, \"ticks\": \"\"}}, \"marker\": {\"colorbar\": {\"outlinewidth\": 0, \"ticks\": \"\"}}, \"type\": \"scatter3d\"}], \"scattercarpet\": [{\"marker\": {\"colorbar\": {\"outlinewidth\": 0, \"ticks\": \"\"}}, \"type\": \"scattercarpet\"}], \"scattergeo\": [{\"marker\": {\"colorbar\": {\"outlinewidth\": 0, \"ticks\": \"\"}}, \"type\": \"scattergeo\"}], \"scattergl\": [{\"marker\": {\"colorbar\": {\"outlinewidth\": 0, \"ticks\": \"\"}}, \"type\": \"scattergl\"}], \"scattermapbox\": [{\"marker\": {\"colorbar\": {\"outlinewidth\": 0, \"ticks\": \"\"}}, \"type\": \"scattermapbox\"}], \"scatterpolar\": [{\"marker\": {\"colorbar\": {\"outlinewidth\": 0, \"ticks\": \"\"}}, \"type\": \"scatterpolar\"}], \"scatterpolargl\": [{\"marker\": {\"colorbar\": {\"outlinewidth\": 0, \"ticks\": \"\"}}, \"type\": \"scatterpolargl\"}], \"scatterternary\": [{\"marker\": {\"colorbar\": {\"outlinewidth\": 0, \"ticks\": \"\"}}, \"type\": \"scatterternary\"}], \"surface\": [{\"colorbar\": {\"outlinewidth\": 0, \"ticks\": \"\"}, \"colorscale\": [[0.0, \"#0d0887\"], [0.1111111111111111, \"#46039f\"], [0.2222222222222222, \"#7201a8\"], [0.3333333333333333, \"#9c179e\"], [0.4444444444444444, \"#bd3786\"], [0.5555555555555556, \"#d8576b\"], [0.6666666666666666, \"#ed7953\"], [0.7777777777777778, \"#fb9f3a\"], [0.8888888888888888, \"#fdca26\"], [1.0, \"#f0f921\"]], \"type\": \"surface\"}], \"table\": [{\"cells\": {\"fill\": {\"color\": \"#EBF0F8\"}, \"line\": {\"color\": \"white\"}}, \"header\": {\"fill\": {\"color\": \"#C8D4E3\"}, \"line\": {\"color\": \"white\"}}, \"type\": \"table\"}]}, \"layout\": {\"annotationdefaults\": {\"arrowcolor\": \"#2a3f5f\", \"arrowhead\": 0, \"arrowwidth\": 1}, \"coloraxis\": {\"colorbar\": {\"outlinewidth\": 0, \"ticks\": \"\"}}, \"colorscale\": {\"diverging\": [[0, \"#8e0152\"], [0.1, \"#c51b7d\"], [0.2, \"#de77ae\"], [0.3, \"#f1b6da\"], [0.4, \"#fde0ef\"], [0.5, \"#f7f7f7\"], [0.6, \"#e6f5d0\"], [0.7, \"#b8e186\"], [0.8, \"#7fbc41\"], [0.9, \"#4d9221\"], [1, \"#276419\"]], \"sequential\": [[0.0, \"#0d0887\"], [0.1111111111111111, \"#46039f\"], [0.2222222222222222, \"#7201a8\"], [0.3333333333333333, \"#9c179e\"], [0.4444444444444444, \"#bd3786\"], [0.5555555555555556, \"#d8576b\"], [0.6666666666666666, \"#ed7953\"], [0.7777777777777778, \"#fb9f3a\"], [0.8888888888888888, \"#fdca26\"], [1.0, \"#f0f921\"]], \"sequentialminus\": [[0.0, \"#0d0887\"], [0.1111111111111111, \"#46039f\"], [0.2222222222222222, \"#7201a8\"], [0.3333333333333333, \"#9c179e\"], [0.4444444444444444, \"#bd3786\"], [0.5555555555555556, \"#d8576b\"], [0.6666666666666666, \"#ed7953\"], [0.7777777777777778, \"#fb9f3a\"], [0.8888888888888888, \"#fdca26\"], [1.0, \"#f0f921\"]]}, \"colorway\": [\"#636efa\", \"#EF553B\", \"#00cc96\", \"#ab63fa\", \"#FFA15A\", \"#19d3f3\", \"#FF6692\", \"#B6E880\", \"#FF97FF\", \"#FECB52\"], \"font\": {\"color\": \"#2a3f5f\"}, \"geo\": {\"bgcolor\": \"white\", \"lakecolor\": \"white\", \"landcolor\": \"#E5ECF6\", \"showlakes\": true, \"showland\": true, \"subunitcolor\": \"white\"}, \"hoverlabel\": {\"align\": \"left\"}, \"hovermode\": \"closest\", \"mapbox\": {\"style\": \"light\"}, \"paper_bgcolor\": \"white\", \"plot_bgcolor\": \"#E5ECF6\", \"polar\": {\"angularaxis\": {\"gridcolor\": \"white\", \"linecolor\": \"white\", \"ticks\": \"\"}, \"bgcolor\": \"#E5ECF6\", \"radialaxis\": {\"gridcolor\": \"white\", \"linecolor\": \"white\", \"ticks\": \"\"}}, \"scene\": {\"xaxis\": {\"backgroundcolor\": \"#E5ECF6\", \"gridcolor\": \"white\", \"gridwidth\": 2, \"linecolor\": \"white\", \"showbackground\": true, \"ticks\": \"\", \"zerolinecolor\": \"white\"}, \"yaxis\": {\"backgroundcolor\": \"#E5ECF6\", \"gridcolor\": \"white\", \"gridwidth\": 2, \"linecolor\": \"white\", \"showbackground\": true, \"ticks\": \"\", \"zerolinecolor\": \"white\"}, \"zaxis\": {\"backgroundcolor\": \"#E5ECF6\", \"gridcolor\": \"white\", \"gridwidth\": 2, \"linecolor\": \"white\", \"showbackground\": true, \"ticks\": \"\", \"zerolinecolor\": \"white\"}}, \"shapedefaults\": {\"line\": {\"color\": \"#2a3f5f\"}}, \"ternary\": {\"aaxis\": {\"gridcolor\": \"white\", \"linecolor\": \"white\", \"ticks\": \"\"}, \"baxis\": {\"gridcolor\": \"white\", \"linecolor\": \"white\", \"ticks\": \"\"}, \"bgcolor\": \"#E5ECF6\", \"caxis\": {\"gridcolor\": \"white\", \"linecolor\": \"white\", \"ticks\": \"\"}}, \"title\": {\"x\": 0.05}, \"xaxis\": {\"automargin\": true, \"gridcolor\": \"white\", \"linecolor\": \"white\", \"ticks\": \"\", \"title\": {\"standoff\": 15}, \"zerolinecolor\": \"white\", \"zerolinewidth\": 2}, \"yaxis\": {\"automargin\": true, \"gridcolor\": \"white\", \"linecolor\": \"white\", \"ticks\": \"\", \"title\": {\"standoff\": 15}, \"zerolinecolor\": \"white\", \"zerolinewidth\": 2}}}, \"title\": {\"text\": \"World Deaths\"}, \"updatemenus\": [{\"active\": 0, \"buttons\": [{\"args\": [{\"visible\": [true, true]}, {\"yaxis\": {\"type\": \"linear\"}}], \"label\": \"Linear Scale\", \"method\": \"update\"}, {\"args\": [{\"visible\": [true, true]}, {\"yaxis\": {\"type\": \"log\"}}], \"label\": \"Logarithmic Scale\", \"method\": \"update\"}], \"direction\": \"right\", \"type\": \"buttons\", \"x\": 0.45, \"xanchor\": \"left\", \"y\": 1.1, \"yanchor\": \"top\"}]},\n",
       "                        {\"responsive\": true}\n",
       "                    ).then(function(){\n",
       "                            \n",
       "var gd = document.getElementById('589a7640-786a-4633-8d54-e85ce68bdb24');\n",
       "var x = new MutationObserver(function (mutations, observer) {{\n",
       "        var display = window.getComputedStyle(gd).display;\n",
       "        if (!display || display === 'none') {{\n",
       "            console.log([gd, 'removed!']);\n",
       "            Plotly.purge(gd);\n",
       "            observer.disconnect();\n",
       "        }}\n",
       "}});\n",
       "\n",
       "// Listen for the removal of the full notebook cells\n",
       "var notebookContainer = gd.closest('#notebook-container');\n",
       "if (notebookContainer) {{\n",
       "    x.observe(notebookContainer, {childList: true});\n",
       "}}\n",
       "\n",
       "// Listen for the clearing of the current output cell\n",
       "var outputEl = gd.closest('.output');\n",
       "if (outputEl) {{\n",
       "    x.observe(outputEl, {childList: true});\n",
       "}}\n",
       "\n",
       "                        })\n",
       "                };\n",
       "                });\n",
       "            </script>\n",
       "        </div>"
      ]
     },
     "metadata": {},
     "output_type": "display_data"
    },
    {
     "data": {
      "text/html": [
       "<style  type=\"text/css\" >\n",
       "</style><table id=\"T_90206394_7766_11ea_bedb_c49ded93ade6\" ><thead>    <tr>        <th class=\"blank level0\" ></th>        <th class=\"col_heading level0 col0\" >3/5/20</th>        <th class=\"col_heading level0 col1\" >3/6/20</th>        <th class=\"col_heading level0 col2\" >3/7/20</th>        <th class=\"col_heading level0 col3\" >3/8/20</th>        <th class=\"col_heading level0 col4\" >3/9/20</th>        <th class=\"col_heading level0 col5\" >3/10/20</th>        <th class=\"col_heading level0 col6\" >3/11/20</th>        <th class=\"col_heading level0 col7\" >3/12/20</th>        <th class=\"col_heading level0 col8\" >3/13/20</th>        <th class=\"col_heading level0 col9\" >3/14/20</th>        <th class=\"col_heading level0 col10\" >3/15/20</th>        <th class=\"col_heading level0 col11\" >3/16/20</th>        <th class=\"col_heading level0 col12\" >3/17/20</th>        <th class=\"col_heading level0 col13\" >3/18/20</th>        <th class=\"col_heading level0 col14\" >3/19/20</th>        <th class=\"col_heading level0 col15\" >3/20/20</th>        <th class=\"col_heading level0 col16\" >3/21/20</th>        <th class=\"col_heading level0 col17\" >3/22/20</th>        <th class=\"col_heading level0 col18\" >3/23/20</th>        <th class=\"col_heading level0 col19\" >3/24/20</th>        <th class=\"col_heading level0 col20\" >3/25/20</th>        <th class=\"col_heading level0 col21\" >3/26/20</th>        <th class=\"col_heading level0 col22\" >3/27/20</th>        <th class=\"col_heading level0 col23\" >3/28/20</th>        <th class=\"col_heading level0 col24\" >3/29/20</th>        <th class=\"col_heading level0 col25\" >3/30/20</th>        <th class=\"col_heading level0 col26\" >3/31/20</th>        <th class=\"col_heading level0 col27\" >4/1/20</th>        <th class=\"col_heading level0 col28\" >4/2/20</th>        <th class=\"col_heading level0 col29\" >4/3/20</th>        <th class=\"col_heading level0 col30\" >4/4/20</th>    </tr>    <tr>        <th class=\"index_name level0\" >Country/Region</th>        <th class=\"blank\" ></th>        <th class=\"blank\" ></th>        <th class=\"blank\" ></th>        <th class=\"blank\" ></th>        <th class=\"blank\" ></th>        <th class=\"blank\" ></th>        <th class=\"blank\" ></th>        <th class=\"blank\" ></th>        <th class=\"blank\" ></th>        <th class=\"blank\" ></th>        <th class=\"blank\" ></th>        <th class=\"blank\" ></th>        <th class=\"blank\" ></th>        <th class=\"blank\" ></th>        <th class=\"blank\" ></th>        <th class=\"blank\" ></th>        <th class=\"blank\" ></th>        <th class=\"blank\" ></th>        <th class=\"blank\" ></th>        <th class=\"blank\" ></th>        <th class=\"blank\" ></th>        <th class=\"blank\" ></th>        <th class=\"blank\" ></th>        <th class=\"blank\" ></th>        <th class=\"blank\" ></th>        <th class=\"blank\" ></th>        <th class=\"blank\" ></th>        <th class=\"blank\" ></th>        <th class=\"blank\" ></th>        <th class=\"blank\" ></th>        <th class=\"blank\" ></th>    </tr></thead><tbody>\n",
       "                <tr>\n",
       "                        <th id=\"T_90206394_7766_11ea_bedb_c49ded93ade6level0_row0\" class=\"row_heading level0 row0\" >Italy</th>\n",
       "                        <td id=\"T_90206394_7766_11ea_bedb_c49ded93ade6row0_col0\" class=\"data row0 col0\" >148</td>\n",
       "                        <td id=\"T_90206394_7766_11ea_bedb_c49ded93ade6row0_col1\" class=\"data row0 col1\" >197</td>\n",
       "                        <td id=\"T_90206394_7766_11ea_bedb_c49ded93ade6row0_col2\" class=\"data row0 col2\" >233</td>\n",
       "                        <td id=\"T_90206394_7766_11ea_bedb_c49ded93ade6row0_col3\" class=\"data row0 col3\" >366</td>\n",
       "                        <td id=\"T_90206394_7766_11ea_bedb_c49ded93ade6row0_col4\" class=\"data row0 col4\" >463</td>\n",
       "                        <td id=\"T_90206394_7766_11ea_bedb_c49ded93ade6row0_col5\" class=\"data row0 col5\" >631</td>\n",
       "                        <td id=\"T_90206394_7766_11ea_bedb_c49ded93ade6row0_col6\" class=\"data row0 col6\" >827</td>\n",
       "                        <td id=\"T_90206394_7766_11ea_bedb_c49ded93ade6row0_col7\" class=\"data row0 col7\" >827</td>\n",
       "                        <td id=\"T_90206394_7766_11ea_bedb_c49ded93ade6row0_col8\" class=\"data row0 col8\" >1,266</td>\n",
       "                        <td id=\"T_90206394_7766_11ea_bedb_c49ded93ade6row0_col9\" class=\"data row0 col9\" >1,441</td>\n",
       "                        <td id=\"T_90206394_7766_11ea_bedb_c49ded93ade6row0_col10\" class=\"data row0 col10\" >1,809</td>\n",
       "                        <td id=\"T_90206394_7766_11ea_bedb_c49ded93ade6row0_col11\" class=\"data row0 col11\" >2,158</td>\n",
       "                        <td id=\"T_90206394_7766_11ea_bedb_c49ded93ade6row0_col12\" class=\"data row0 col12\" >2,503</td>\n",
       "                        <td id=\"T_90206394_7766_11ea_bedb_c49ded93ade6row0_col13\" class=\"data row0 col13\" >2,978</td>\n",
       "                        <td id=\"T_90206394_7766_11ea_bedb_c49ded93ade6row0_col14\" class=\"data row0 col14\" >3,405</td>\n",
       "                        <td id=\"T_90206394_7766_11ea_bedb_c49ded93ade6row0_col15\" class=\"data row0 col15\" >4,032</td>\n",
       "                        <td id=\"T_90206394_7766_11ea_bedb_c49ded93ade6row0_col16\" class=\"data row0 col16\" >4,825</td>\n",
       "                        <td id=\"T_90206394_7766_11ea_bedb_c49ded93ade6row0_col17\" class=\"data row0 col17\" >5,476</td>\n",
       "                        <td id=\"T_90206394_7766_11ea_bedb_c49ded93ade6row0_col18\" class=\"data row0 col18\" >6,077</td>\n",
       "                        <td id=\"T_90206394_7766_11ea_bedb_c49ded93ade6row0_col19\" class=\"data row0 col19\" >6,820</td>\n",
       "                        <td id=\"T_90206394_7766_11ea_bedb_c49ded93ade6row0_col20\" class=\"data row0 col20\" >7,503</td>\n",
       "                        <td id=\"T_90206394_7766_11ea_bedb_c49ded93ade6row0_col21\" class=\"data row0 col21\" >8,215</td>\n",
       "                        <td id=\"T_90206394_7766_11ea_bedb_c49ded93ade6row0_col22\" class=\"data row0 col22\" >9,134</td>\n",
       "                        <td id=\"T_90206394_7766_11ea_bedb_c49ded93ade6row0_col23\" class=\"data row0 col23\" >10,023</td>\n",
       "                        <td id=\"T_90206394_7766_11ea_bedb_c49ded93ade6row0_col24\" class=\"data row0 col24\" >10,779</td>\n",
       "                        <td id=\"T_90206394_7766_11ea_bedb_c49ded93ade6row0_col25\" class=\"data row0 col25\" >11,591</td>\n",
       "                        <td id=\"T_90206394_7766_11ea_bedb_c49ded93ade6row0_col26\" class=\"data row0 col26\" >12,428</td>\n",
       "                        <td id=\"T_90206394_7766_11ea_bedb_c49ded93ade6row0_col27\" class=\"data row0 col27\" >13,155</td>\n",
       "                        <td id=\"T_90206394_7766_11ea_bedb_c49ded93ade6row0_col28\" class=\"data row0 col28\" >13,915</td>\n",
       "                        <td id=\"T_90206394_7766_11ea_bedb_c49ded93ade6row0_col29\" class=\"data row0 col29\" >14,681</td>\n",
       "                        <td id=\"T_90206394_7766_11ea_bedb_c49ded93ade6row0_col30\" class=\"data row0 col30\" >15,362</td>\n",
       "            </tr>\n",
       "            <tr>\n",
       "                        <th id=\"T_90206394_7766_11ea_bedb_c49ded93ade6level0_row1\" class=\"row_heading level0 row1\" >Spain</th>\n",
       "                        <td id=\"T_90206394_7766_11ea_bedb_c49ded93ade6row1_col0\" class=\"data row1 col0\" >3</td>\n",
       "                        <td id=\"T_90206394_7766_11ea_bedb_c49ded93ade6row1_col1\" class=\"data row1 col1\" >5</td>\n",
       "                        <td id=\"T_90206394_7766_11ea_bedb_c49ded93ade6row1_col2\" class=\"data row1 col2\" >10</td>\n",
       "                        <td id=\"T_90206394_7766_11ea_bedb_c49ded93ade6row1_col3\" class=\"data row1 col3\" >17</td>\n",
       "                        <td id=\"T_90206394_7766_11ea_bedb_c49ded93ade6row1_col4\" class=\"data row1 col4\" >28</td>\n",
       "                        <td id=\"T_90206394_7766_11ea_bedb_c49ded93ade6row1_col5\" class=\"data row1 col5\" >35</td>\n",
       "                        <td id=\"T_90206394_7766_11ea_bedb_c49ded93ade6row1_col6\" class=\"data row1 col6\" >54</td>\n",
       "                        <td id=\"T_90206394_7766_11ea_bedb_c49ded93ade6row1_col7\" class=\"data row1 col7\" >55</td>\n",
       "                        <td id=\"T_90206394_7766_11ea_bedb_c49ded93ade6row1_col8\" class=\"data row1 col8\" >133</td>\n",
       "                        <td id=\"T_90206394_7766_11ea_bedb_c49ded93ade6row1_col9\" class=\"data row1 col9\" >195</td>\n",
       "                        <td id=\"T_90206394_7766_11ea_bedb_c49ded93ade6row1_col10\" class=\"data row1 col10\" >289</td>\n",
       "                        <td id=\"T_90206394_7766_11ea_bedb_c49ded93ade6row1_col11\" class=\"data row1 col11\" >342</td>\n",
       "                        <td id=\"T_90206394_7766_11ea_bedb_c49ded93ade6row1_col12\" class=\"data row1 col12\" >533</td>\n",
       "                        <td id=\"T_90206394_7766_11ea_bedb_c49ded93ade6row1_col13\" class=\"data row1 col13\" >623</td>\n",
       "                        <td id=\"T_90206394_7766_11ea_bedb_c49ded93ade6row1_col14\" class=\"data row1 col14\" >830</td>\n",
       "                        <td id=\"T_90206394_7766_11ea_bedb_c49ded93ade6row1_col15\" class=\"data row1 col15\" >1,043</td>\n",
       "                        <td id=\"T_90206394_7766_11ea_bedb_c49ded93ade6row1_col16\" class=\"data row1 col16\" >1,375</td>\n",
       "                        <td id=\"T_90206394_7766_11ea_bedb_c49ded93ade6row1_col17\" class=\"data row1 col17\" >1,772</td>\n",
       "                        <td id=\"T_90206394_7766_11ea_bedb_c49ded93ade6row1_col18\" class=\"data row1 col18\" >2,311</td>\n",
       "                        <td id=\"T_90206394_7766_11ea_bedb_c49ded93ade6row1_col19\" class=\"data row1 col19\" >2,808</td>\n",
       "                        <td id=\"T_90206394_7766_11ea_bedb_c49ded93ade6row1_col20\" class=\"data row1 col20\" >3,647</td>\n",
       "                        <td id=\"T_90206394_7766_11ea_bedb_c49ded93ade6row1_col21\" class=\"data row1 col21\" >4,365</td>\n",
       "                        <td id=\"T_90206394_7766_11ea_bedb_c49ded93ade6row1_col22\" class=\"data row1 col22\" >5,138</td>\n",
       "                        <td id=\"T_90206394_7766_11ea_bedb_c49ded93ade6row1_col23\" class=\"data row1 col23\" >5,982</td>\n",
       "                        <td id=\"T_90206394_7766_11ea_bedb_c49ded93ade6row1_col24\" class=\"data row1 col24\" >6,803</td>\n",
       "                        <td id=\"T_90206394_7766_11ea_bedb_c49ded93ade6row1_col25\" class=\"data row1 col25\" >7,716</td>\n",
       "                        <td id=\"T_90206394_7766_11ea_bedb_c49ded93ade6row1_col26\" class=\"data row1 col26\" >8,464</td>\n",
       "                        <td id=\"T_90206394_7766_11ea_bedb_c49ded93ade6row1_col27\" class=\"data row1 col27\" >9,387</td>\n",
       "                        <td id=\"T_90206394_7766_11ea_bedb_c49ded93ade6row1_col28\" class=\"data row1 col28\" >10,348</td>\n",
       "                        <td id=\"T_90206394_7766_11ea_bedb_c49ded93ade6row1_col29\" class=\"data row1 col29\" >11,198</td>\n",
       "                        <td id=\"T_90206394_7766_11ea_bedb_c49ded93ade6row1_col30\" class=\"data row1 col30\" >11,947</td>\n",
       "            </tr>\n",
       "            <tr>\n",
       "                        <th id=\"T_90206394_7766_11ea_bedb_c49ded93ade6level0_row2\" class=\"row_heading level0 row2\" >US</th>\n",
       "                        <td id=\"T_90206394_7766_11ea_bedb_c49ded93ade6row2_col0\" class=\"data row2 col0\" >12</td>\n",
       "                        <td id=\"T_90206394_7766_11ea_bedb_c49ded93ade6row2_col1\" class=\"data row2 col1\" >14</td>\n",
       "                        <td id=\"T_90206394_7766_11ea_bedb_c49ded93ade6row2_col2\" class=\"data row2 col2\" >17</td>\n",
       "                        <td id=\"T_90206394_7766_11ea_bedb_c49ded93ade6row2_col3\" class=\"data row2 col3\" >21</td>\n",
       "                        <td id=\"T_90206394_7766_11ea_bedb_c49ded93ade6row2_col4\" class=\"data row2 col4\" >22</td>\n",
       "                        <td id=\"T_90206394_7766_11ea_bedb_c49ded93ade6row2_col5\" class=\"data row2 col5\" >28</td>\n",
       "                        <td id=\"T_90206394_7766_11ea_bedb_c49ded93ade6row2_col6\" class=\"data row2 col6\" >36</td>\n",
       "                        <td id=\"T_90206394_7766_11ea_bedb_c49ded93ade6row2_col7\" class=\"data row2 col7\" >40</td>\n",
       "                        <td id=\"T_90206394_7766_11ea_bedb_c49ded93ade6row2_col8\" class=\"data row2 col8\" >47</td>\n",
       "                        <td id=\"T_90206394_7766_11ea_bedb_c49ded93ade6row2_col9\" class=\"data row2 col9\" >54</td>\n",
       "                        <td id=\"T_90206394_7766_11ea_bedb_c49ded93ade6row2_col10\" class=\"data row2 col10\" >63</td>\n",
       "                        <td id=\"T_90206394_7766_11ea_bedb_c49ded93ade6row2_col11\" class=\"data row2 col11\" >85</td>\n",
       "                        <td id=\"T_90206394_7766_11ea_bedb_c49ded93ade6row2_col12\" class=\"data row2 col12\" >108</td>\n",
       "                        <td id=\"T_90206394_7766_11ea_bedb_c49ded93ade6row2_col13\" class=\"data row2 col13\" >118</td>\n",
       "                        <td id=\"T_90206394_7766_11ea_bedb_c49ded93ade6row2_col14\" class=\"data row2 col14\" >200</td>\n",
       "                        <td id=\"T_90206394_7766_11ea_bedb_c49ded93ade6row2_col15\" class=\"data row2 col15\" >244</td>\n",
       "                        <td id=\"T_90206394_7766_11ea_bedb_c49ded93ade6row2_col16\" class=\"data row2 col16\" >307</td>\n",
       "                        <td id=\"T_90206394_7766_11ea_bedb_c49ded93ade6row2_col17\" class=\"data row2 col17\" >417</td>\n",
       "                        <td id=\"T_90206394_7766_11ea_bedb_c49ded93ade6row2_col18\" class=\"data row2 col18\" >557</td>\n",
       "                        <td id=\"T_90206394_7766_11ea_bedb_c49ded93ade6row2_col19\" class=\"data row2 col19\" >706</td>\n",
       "                        <td id=\"T_90206394_7766_11ea_bedb_c49ded93ade6row2_col20\" class=\"data row2 col20\" >942</td>\n",
       "                        <td id=\"T_90206394_7766_11ea_bedb_c49ded93ade6row2_col21\" class=\"data row2 col21\" >1,209</td>\n",
       "                        <td id=\"T_90206394_7766_11ea_bedb_c49ded93ade6row2_col22\" class=\"data row2 col22\" >1,581</td>\n",
       "                        <td id=\"T_90206394_7766_11ea_bedb_c49ded93ade6row2_col23\" class=\"data row2 col23\" >2,026</td>\n",
       "                        <td id=\"T_90206394_7766_11ea_bedb_c49ded93ade6row2_col24\" class=\"data row2 col24\" >2,467</td>\n",
       "                        <td id=\"T_90206394_7766_11ea_bedb_c49ded93ade6row2_col25\" class=\"data row2 col25\" >2,978</td>\n",
       "                        <td id=\"T_90206394_7766_11ea_bedb_c49ded93ade6row2_col26\" class=\"data row2 col26\" >3,873</td>\n",
       "                        <td id=\"T_90206394_7766_11ea_bedb_c49ded93ade6row2_col27\" class=\"data row2 col27\" >4,757</td>\n",
       "                        <td id=\"T_90206394_7766_11ea_bedb_c49ded93ade6row2_col28\" class=\"data row2 col28\" >5,926</td>\n",
       "                        <td id=\"T_90206394_7766_11ea_bedb_c49ded93ade6row2_col29\" class=\"data row2 col29\" >7,087</td>\n",
       "                        <td id=\"T_90206394_7766_11ea_bedb_c49ded93ade6row2_col30\" class=\"data row2 col30\" >8,407</td>\n",
       "            </tr>\n",
       "            <tr>\n",
       "                        <th id=\"T_90206394_7766_11ea_bedb_c49ded93ade6level0_row3\" class=\"row_heading level0 row3\" >France</th>\n",
       "                        <td id=\"T_90206394_7766_11ea_bedb_c49ded93ade6row3_col0\" class=\"data row3 col0\" >6</td>\n",
       "                        <td id=\"T_90206394_7766_11ea_bedb_c49ded93ade6row3_col1\" class=\"data row3 col1\" >9</td>\n",
       "                        <td id=\"T_90206394_7766_11ea_bedb_c49ded93ade6row3_col2\" class=\"data row3 col2\" >11</td>\n",
       "                        <td id=\"T_90206394_7766_11ea_bedb_c49ded93ade6row3_col3\" class=\"data row3 col3\" >19</td>\n",
       "                        <td id=\"T_90206394_7766_11ea_bedb_c49ded93ade6row3_col4\" class=\"data row3 col4\" >19</td>\n",
       "                        <td id=\"T_90206394_7766_11ea_bedb_c49ded93ade6row3_col5\" class=\"data row3 col5\" >33</td>\n",
       "                        <td id=\"T_90206394_7766_11ea_bedb_c49ded93ade6row3_col6\" class=\"data row3 col6\" >48</td>\n",
       "                        <td id=\"T_90206394_7766_11ea_bedb_c49ded93ade6row3_col7\" class=\"data row3 col7\" >48</td>\n",
       "                        <td id=\"T_90206394_7766_11ea_bedb_c49ded93ade6row3_col8\" class=\"data row3 col8\" >79</td>\n",
       "                        <td id=\"T_90206394_7766_11ea_bedb_c49ded93ade6row3_col9\" class=\"data row3 col9\" >91</td>\n",
       "                        <td id=\"T_90206394_7766_11ea_bedb_c49ded93ade6row3_col10\" class=\"data row3 col10\" >91</td>\n",
       "                        <td id=\"T_90206394_7766_11ea_bedb_c49ded93ade6row3_col11\" class=\"data row3 col11\" >148</td>\n",
       "                        <td id=\"T_90206394_7766_11ea_bedb_c49ded93ade6row3_col12\" class=\"data row3 col12\" >148</td>\n",
       "                        <td id=\"T_90206394_7766_11ea_bedb_c49ded93ade6row3_col13\" class=\"data row3 col13\" >148</td>\n",
       "                        <td id=\"T_90206394_7766_11ea_bedb_c49ded93ade6row3_col14\" class=\"data row3 col14\" >243</td>\n",
       "                        <td id=\"T_90206394_7766_11ea_bedb_c49ded93ade6row3_col15\" class=\"data row3 col15\" >450</td>\n",
       "                        <td id=\"T_90206394_7766_11ea_bedb_c49ded93ade6row3_col16\" class=\"data row3 col16\" >562</td>\n",
       "                        <td id=\"T_90206394_7766_11ea_bedb_c49ded93ade6row3_col17\" class=\"data row3 col17\" >674</td>\n",
       "                        <td id=\"T_90206394_7766_11ea_bedb_c49ded93ade6row3_col18\" class=\"data row3 col18\" >860</td>\n",
       "                        <td id=\"T_90206394_7766_11ea_bedb_c49ded93ade6row3_col19\" class=\"data row3 col19\" >1,100</td>\n",
       "                        <td id=\"T_90206394_7766_11ea_bedb_c49ded93ade6row3_col20\" class=\"data row3 col20\" >1,331</td>\n",
       "                        <td id=\"T_90206394_7766_11ea_bedb_c49ded93ade6row3_col21\" class=\"data row3 col21\" >1,696</td>\n",
       "                        <td id=\"T_90206394_7766_11ea_bedb_c49ded93ade6row3_col22\" class=\"data row3 col22\" >1,995</td>\n",
       "                        <td id=\"T_90206394_7766_11ea_bedb_c49ded93ade6row3_col23\" class=\"data row3 col23\" >2,314</td>\n",
       "                        <td id=\"T_90206394_7766_11ea_bedb_c49ded93ade6row3_col24\" class=\"data row3 col24\" >2,606</td>\n",
       "                        <td id=\"T_90206394_7766_11ea_bedb_c49ded93ade6row3_col25\" class=\"data row3 col25\" >3,024</td>\n",
       "                        <td id=\"T_90206394_7766_11ea_bedb_c49ded93ade6row3_col26\" class=\"data row3 col26\" >3,523</td>\n",
       "                        <td id=\"T_90206394_7766_11ea_bedb_c49ded93ade6row3_col27\" class=\"data row3 col27\" >4,032</td>\n",
       "                        <td id=\"T_90206394_7766_11ea_bedb_c49ded93ade6row3_col28\" class=\"data row3 col28\" >5,387</td>\n",
       "                        <td id=\"T_90206394_7766_11ea_bedb_c49ded93ade6row3_col29\" class=\"data row3 col29\" >6,507</td>\n",
       "                        <td id=\"T_90206394_7766_11ea_bedb_c49ded93ade6row3_col30\" class=\"data row3 col30\" >7,560</td>\n",
       "            </tr>\n",
       "            <tr>\n",
       "                        <th id=\"T_90206394_7766_11ea_bedb_c49ded93ade6level0_row4\" class=\"row_heading level0 row4\" >United Kingdom</th>\n",
       "                        <td id=\"T_90206394_7766_11ea_bedb_c49ded93ade6row4_col0\" class=\"data row4 col0\" >1</td>\n",
       "                        <td id=\"T_90206394_7766_11ea_bedb_c49ded93ade6row4_col1\" class=\"data row4 col1\" >2</td>\n",
       "                        <td id=\"T_90206394_7766_11ea_bedb_c49ded93ade6row4_col2\" class=\"data row4 col2\" >2</td>\n",
       "                        <td id=\"T_90206394_7766_11ea_bedb_c49ded93ade6row4_col3\" class=\"data row4 col3\" >3</td>\n",
       "                        <td id=\"T_90206394_7766_11ea_bedb_c49ded93ade6row4_col4\" class=\"data row4 col4\" >4</td>\n",
       "                        <td id=\"T_90206394_7766_11ea_bedb_c49ded93ade6row4_col5\" class=\"data row4 col5\" >6</td>\n",
       "                        <td id=\"T_90206394_7766_11ea_bedb_c49ded93ade6row4_col6\" class=\"data row4 col6\" >8</td>\n",
       "                        <td id=\"T_90206394_7766_11ea_bedb_c49ded93ade6row4_col7\" class=\"data row4 col7\" >8</td>\n",
       "                        <td id=\"T_90206394_7766_11ea_bedb_c49ded93ade6row4_col8\" class=\"data row4 col8\" >8</td>\n",
       "                        <td id=\"T_90206394_7766_11ea_bedb_c49ded93ade6row4_col9\" class=\"data row4 col9\" >21</td>\n",
       "                        <td id=\"T_90206394_7766_11ea_bedb_c49ded93ade6row4_col10\" class=\"data row4 col10\" >21</td>\n",
       "                        <td id=\"T_90206394_7766_11ea_bedb_c49ded93ade6row4_col11\" class=\"data row4 col11\" >55</td>\n",
       "                        <td id=\"T_90206394_7766_11ea_bedb_c49ded93ade6row4_col12\" class=\"data row4 col12\" >55</td>\n",
       "                        <td id=\"T_90206394_7766_11ea_bedb_c49ded93ade6row4_col13\" class=\"data row4 col13\" >71</td>\n",
       "                        <td id=\"T_90206394_7766_11ea_bedb_c49ded93ade6row4_col14\" class=\"data row4 col14\" >137</td>\n",
       "                        <td id=\"T_90206394_7766_11ea_bedb_c49ded93ade6row4_col15\" class=\"data row4 col15\" >177</td>\n",
       "                        <td id=\"T_90206394_7766_11ea_bedb_c49ded93ade6row4_col16\" class=\"data row4 col16\" >233</td>\n",
       "                        <td id=\"T_90206394_7766_11ea_bedb_c49ded93ade6row4_col17\" class=\"data row4 col17\" >281</td>\n",
       "                        <td id=\"T_90206394_7766_11ea_bedb_c49ded93ade6row4_col18\" class=\"data row4 col18\" >335</td>\n",
       "                        <td id=\"T_90206394_7766_11ea_bedb_c49ded93ade6row4_col19\" class=\"data row4 col19\" >422</td>\n",
       "                        <td id=\"T_90206394_7766_11ea_bedb_c49ded93ade6row4_col20\" class=\"data row4 col20\" >465</td>\n",
       "                        <td id=\"T_90206394_7766_11ea_bedb_c49ded93ade6row4_col21\" class=\"data row4 col21\" >578</td>\n",
       "                        <td id=\"T_90206394_7766_11ea_bedb_c49ded93ade6row4_col22\" class=\"data row4 col22\" >759</td>\n",
       "                        <td id=\"T_90206394_7766_11ea_bedb_c49ded93ade6row4_col23\" class=\"data row4 col23\" >1,019</td>\n",
       "                        <td id=\"T_90206394_7766_11ea_bedb_c49ded93ade6row4_col24\" class=\"data row4 col24\" >1,228</td>\n",
       "                        <td id=\"T_90206394_7766_11ea_bedb_c49ded93ade6row4_col25\" class=\"data row4 col25\" >1,408</td>\n",
       "                        <td id=\"T_90206394_7766_11ea_bedb_c49ded93ade6row4_col26\" class=\"data row4 col26\" >1,789</td>\n",
       "                        <td id=\"T_90206394_7766_11ea_bedb_c49ded93ade6row4_col27\" class=\"data row4 col27\" >2,352</td>\n",
       "                        <td id=\"T_90206394_7766_11ea_bedb_c49ded93ade6row4_col28\" class=\"data row4 col28\" >2,921</td>\n",
       "                        <td id=\"T_90206394_7766_11ea_bedb_c49ded93ade6row4_col29\" class=\"data row4 col29\" >3,605</td>\n",
       "                        <td id=\"T_90206394_7766_11ea_bedb_c49ded93ade6row4_col30\" class=\"data row4 col30\" >4,313</td>\n",
       "            </tr>\n",
       "            <tr>\n",
       "                        <th id=\"T_90206394_7766_11ea_bedb_c49ded93ade6level0_row5\" class=\"row_heading level0 row5\" >Iran</th>\n",
       "                        <td id=\"T_90206394_7766_11ea_bedb_c49ded93ade6row5_col0\" class=\"data row5 col0\" >107</td>\n",
       "                        <td id=\"T_90206394_7766_11ea_bedb_c49ded93ade6row5_col1\" class=\"data row5 col1\" >124</td>\n",
       "                        <td id=\"T_90206394_7766_11ea_bedb_c49ded93ade6row5_col2\" class=\"data row5 col2\" >145</td>\n",
       "                        <td id=\"T_90206394_7766_11ea_bedb_c49ded93ade6row5_col3\" class=\"data row5 col3\" >194</td>\n",
       "                        <td id=\"T_90206394_7766_11ea_bedb_c49ded93ade6row5_col4\" class=\"data row5 col4\" >237</td>\n",
       "                        <td id=\"T_90206394_7766_11ea_bedb_c49ded93ade6row5_col5\" class=\"data row5 col5\" >291</td>\n",
       "                        <td id=\"T_90206394_7766_11ea_bedb_c49ded93ade6row5_col6\" class=\"data row5 col6\" >354</td>\n",
       "                        <td id=\"T_90206394_7766_11ea_bedb_c49ded93ade6row5_col7\" class=\"data row5 col7\" >429</td>\n",
       "                        <td id=\"T_90206394_7766_11ea_bedb_c49ded93ade6row5_col8\" class=\"data row5 col8\" >514</td>\n",
       "                        <td id=\"T_90206394_7766_11ea_bedb_c49ded93ade6row5_col9\" class=\"data row5 col9\" >611</td>\n",
       "                        <td id=\"T_90206394_7766_11ea_bedb_c49ded93ade6row5_col10\" class=\"data row5 col10\" >724</td>\n",
       "                        <td id=\"T_90206394_7766_11ea_bedb_c49ded93ade6row5_col11\" class=\"data row5 col11\" >853</td>\n",
       "                        <td id=\"T_90206394_7766_11ea_bedb_c49ded93ade6row5_col12\" class=\"data row5 col12\" >988</td>\n",
       "                        <td id=\"T_90206394_7766_11ea_bedb_c49ded93ade6row5_col13\" class=\"data row5 col13\" >1,135</td>\n",
       "                        <td id=\"T_90206394_7766_11ea_bedb_c49ded93ade6row5_col14\" class=\"data row5 col14\" >1,284</td>\n",
       "                        <td id=\"T_90206394_7766_11ea_bedb_c49ded93ade6row5_col15\" class=\"data row5 col15\" >1,433</td>\n",
       "                        <td id=\"T_90206394_7766_11ea_bedb_c49ded93ade6row5_col16\" class=\"data row5 col16\" >1,556</td>\n",
       "                        <td id=\"T_90206394_7766_11ea_bedb_c49ded93ade6row5_col17\" class=\"data row5 col17\" >1,685</td>\n",
       "                        <td id=\"T_90206394_7766_11ea_bedb_c49ded93ade6row5_col18\" class=\"data row5 col18\" >1,812</td>\n",
       "                        <td id=\"T_90206394_7766_11ea_bedb_c49ded93ade6row5_col19\" class=\"data row5 col19\" >1,934</td>\n",
       "                        <td id=\"T_90206394_7766_11ea_bedb_c49ded93ade6row5_col20\" class=\"data row5 col20\" >2,077</td>\n",
       "                        <td id=\"T_90206394_7766_11ea_bedb_c49ded93ade6row5_col21\" class=\"data row5 col21\" >2,234</td>\n",
       "                        <td id=\"T_90206394_7766_11ea_bedb_c49ded93ade6row5_col22\" class=\"data row5 col22\" >2,378</td>\n",
       "                        <td id=\"T_90206394_7766_11ea_bedb_c49ded93ade6row5_col23\" class=\"data row5 col23\" >2,517</td>\n",
       "                        <td id=\"T_90206394_7766_11ea_bedb_c49ded93ade6row5_col24\" class=\"data row5 col24\" >2,640</td>\n",
       "                        <td id=\"T_90206394_7766_11ea_bedb_c49ded93ade6row5_col25\" class=\"data row5 col25\" >2,757</td>\n",
       "                        <td id=\"T_90206394_7766_11ea_bedb_c49ded93ade6row5_col26\" class=\"data row5 col26\" >2,898</td>\n",
       "                        <td id=\"T_90206394_7766_11ea_bedb_c49ded93ade6row5_col27\" class=\"data row5 col27\" >3,036</td>\n",
       "                        <td id=\"T_90206394_7766_11ea_bedb_c49ded93ade6row5_col28\" class=\"data row5 col28\" >3,160</td>\n",
       "                        <td id=\"T_90206394_7766_11ea_bedb_c49ded93ade6row5_col29\" class=\"data row5 col29\" >3,294</td>\n",
       "                        <td id=\"T_90206394_7766_11ea_bedb_c49ded93ade6row5_col30\" class=\"data row5 col30\" >3,452</td>\n",
       "            </tr>\n",
       "            <tr>\n",
       "                        <th id=\"T_90206394_7766_11ea_bedb_c49ded93ade6level0_row6\" class=\"row_heading level0 row6\" >China</th>\n",
       "                        <td id=\"T_90206394_7766_11ea_bedb_c49ded93ade6row6_col0\" class=\"data row6 col0\" >3,015</td>\n",
       "                        <td id=\"T_90206394_7766_11ea_bedb_c49ded93ade6row6_col1\" class=\"data row6 col1\" >3,044</td>\n",
       "                        <td id=\"T_90206394_7766_11ea_bedb_c49ded93ade6row6_col2\" class=\"data row6 col2\" >3,072</td>\n",
       "                        <td id=\"T_90206394_7766_11ea_bedb_c49ded93ade6row6_col3\" class=\"data row6 col3\" >3,100</td>\n",
       "                        <td id=\"T_90206394_7766_11ea_bedb_c49ded93ade6row6_col4\" class=\"data row6 col4\" >3,123</td>\n",
       "                        <td id=\"T_90206394_7766_11ea_bedb_c49ded93ade6row6_col5\" class=\"data row6 col5\" >3,139</td>\n",
       "                        <td id=\"T_90206394_7766_11ea_bedb_c49ded93ade6row6_col6\" class=\"data row6 col6\" >3,161</td>\n",
       "                        <td id=\"T_90206394_7766_11ea_bedb_c49ded93ade6row6_col7\" class=\"data row6 col7\" >3,172</td>\n",
       "                        <td id=\"T_90206394_7766_11ea_bedb_c49ded93ade6row6_col8\" class=\"data row6 col8\" >3,180</td>\n",
       "                        <td id=\"T_90206394_7766_11ea_bedb_c49ded93ade6row6_col9\" class=\"data row6 col9\" >3,193</td>\n",
       "                        <td id=\"T_90206394_7766_11ea_bedb_c49ded93ade6row6_col10\" class=\"data row6 col10\" >3,203</td>\n",
       "                        <td id=\"T_90206394_7766_11ea_bedb_c49ded93ade6row6_col11\" class=\"data row6 col11\" >3,217</td>\n",
       "                        <td id=\"T_90206394_7766_11ea_bedb_c49ded93ade6row6_col12\" class=\"data row6 col12\" >3,230</td>\n",
       "                        <td id=\"T_90206394_7766_11ea_bedb_c49ded93ade6row6_col13\" class=\"data row6 col13\" >3,241</td>\n",
       "                        <td id=\"T_90206394_7766_11ea_bedb_c49ded93ade6row6_col14\" class=\"data row6 col14\" >3,249</td>\n",
       "                        <td id=\"T_90206394_7766_11ea_bedb_c49ded93ade6row6_col15\" class=\"data row6 col15\" >3,253</td>\n",
       "                        <td id=\"T_90206394_7766_11ea_bedb_c49ded93ade6row6_col16\" class=\"data row6 col16\" >3,259</td>\n",
       "                        <td id=\"T_90206394_7766_11ea_bedb_c49ded93ade6row6_col17\" class=\"data row6 col17\" >3,274</td>\n",
       "                        <td id=\"T_90206394_7766_11ea_bedb_c49ded93ade6row6_col18\" class=\"data row6 col18\" >3,274</td>\n",
       "                        <td id=\"T_90206394_7766_11ea_bedb_c49ded93ade6row6_col19\" class=\"data row6 col19\" >3,281</td>\n",
       "                        <td id=\"T_90206394_7766_11ea_bedb_c49ded93ade6row6_col20\" class=\"data row6 col20\" >3,285</td>\n",
       "                        <td id=\"T_90206394_7766_11ea_bedb_c49ded93ade6row6_col21\" class=\"data row6 col21\" >3,291</td>\n",
       "                        <td id=\"T_90206394_7766_11ea_bedb_c49ded93ade6row6_col22\" class=\"data row6 col22\" >3,296</td>\n",
       "                        <td id=\"T_90206394_7766_11ea_bedb_c49ded93ade6row6_col23\" class=\"data row6 col23\" >3,299</td>\n",
       "                        <td id=\"T_90206394_7766_11ea_bedb_c49ded93ade6row6_col24\" class=\"data row6 col24\" >3,304</td>\n",
       "                        <td id=\"T_90206394_7766_11ea_bedb_c49ded93ade6row6_col25\" class=\"data row6 col25\" >3,308</td>\n",
       "                        <td id=\"T_90206394_7766_11ea_bedb_c49ded93ade6row6_col26\" class=\"data row6 col26\" >3,309</td>\n",
       "                        <td id=\"T_90206394_7766_11ea_bedb_c49ded93ade6row6_col27\" class=\"data row6 col27\" >3,316</td>\n",
       "                        <td id=\"T_90206394_7766_11ea_bedb_c49ded93ade6row6_col28\" class=\"data row6 col28\" >3,322</td>\n",
       "                        <td id=\"T_90206394_7766_11ea_bedb_c49ded93ade6row6_col29\" class=\"data row6 col29\" >3,326</td>\n",
       "                        <td id=\"T_90206394_7766_11ea_bedb_c49ded93ade6row6_col30\" class=\"data row6 col30\" >3,330</td>\n",
       "            </tr>\n",
       "            <tr>\n",
       "                        <th id=\"T_90206394_7766_11ea_bedb_c49ded93ade6level0_row7\" class=\"row_heading level0 row7\" >Netherlands</th>\n",
       "                        <td id=\"T_90206394_7766_11ea_bedb_c49ded93ade6row7_col0\" class=\"data row7 col0\" >-</td>\n",
       "                        <td id=\"T_90206394_7766_11ea_bedb_c49ded93ade6row7_col1\" class=\"data row7 col1\" >1</td>\n",
       "                        <td id=\"T_90206394_7766_11ea_bedb_c49ded93ade6row7_col2\" class=\"data row7 col2\" >1</td>\n",
       "                        <td id=\"T_90206394_7766_11ea_bedb_c49ded93ade6row7_col3\" class=\"data row7 col3\" >3</td>\n",
       "                        <td id=\"T_90206394_7766_11ea_bedb_c49ded93ade6row7_col4\" class=\"data row7 col4\" >3</td>\n",
       "                        <td id=\"T_90206394_7766_11ea_bedb_c49ded93ade6row7_col5\" class=\"data row7 col5\" >4</td>\n",
       "                        <td id=\"T_90206394_7766_11ea_bedb_c49ded93ade6row7_col6\" class=\"data row7 col6\" >5</td>\n",
       "                        <td id=\"T_90206394_7766_11ea_bedb_c49ded93ade6row7_col7\" class=\"data row7 col7\" >5</td>\n",
       "                        <td id=\"T_90206394_7766_11ea_bedb_c49ded93ade6row7_col8\" class=\"data row7 col8\" >10</td>\n",
       "                        <td id=\"T_90206394_7766_11ea_bedb_c49ded93ade6row7_col9\" class=\"data row7 col9\" >12</td>\n",
       "                        <td id=\"T_90206394_7766_11ea_bedb_c49ded93ade6row7_col10\" class=\"data row7 col10\" >20</td>\n",
       "                        <td id=\"T_90206394_7766_11ea_bedb_c49ded93ade6row7_col11\" class=\"data row7 col11\" >24</td>\n",
       "                        <td id=\"T_90206394_7766_11ea_bedb_c49ded93ade6row7_col12\" class=\"data row7 col12\" >43</td>\n",
       "                        <td id=\"T_90206394_7766_11ea_bedb_c49ded93ade6row7_col13\" class=\"data row7 col13\" >58</td>\n",
       "                        <td id=\"T_90206394_7766_11ea_bedb_c49ded93ade6row7_col14\" class=\"data row7 col14\" >76</td>\n",
       "                        <td id=\"T_90206394_7766_11ea_bedb_c49ded93ade6row7_col15\" class=\"data row7 col15\" >106</td>\n",
       "                        <td id=\"T_90206394_7766_11ea_bedb_c49ded93ade6row7_col16\" class=\"data row7 col16\" >136</td>\n",
       "                        <td id=\"T_90206394_7766_11ea_bedb_c49ded93ade6row7_col17\" class=\"data row7 col17\" >179</td>\n",
       "                        <td id=\"T_90206394_7766_11ea_bedb_c49ded93ade6row7_col18\" class=\"data row7 col18\" >213</td>\n",
       "                        <td id=\"T_90206394_7766_11ea_bedb_c49ded93ade6row7_col19\" class=\"data row7 col19\" >276</td>\n",
       "                        <td id=\"T_90206394_7766_11ea_bedb_c49ded93ade6row7_col20\" class=\"data row7 col20\" >356</td>\n",
       "                        <td id=\"T_90206394_7766_11ea_bedb_c49ded93ade6row7_col21\" class=\"data row7 col21\" >434</td>\n",
       "                        <td id=\"T_90206394_7766_11ea_bedb_c49ded93ade6row7_col22\" class=\"data row7 col22\" >546</td>\n",
       "                        <td id=\"T_90206394_7766_11ea_bedb_c49ded93ade6row7_col23\" class=\"data row7 col23\" >639</td>\n",
       "                        <td id=\"T_90206394_7766_11ea_bedb_c49ded93ade6row7_col24\" class=\"data row7 col24\" >771</td>\n",
       "                        <td id=\"T_90206394_7766_11ea_bedb_c49ded93ade6row7_col25\" class=\"data row7 col25\" >864</td>\n",
       "                        <td id=\"T_90206394_7766_11ea_bedb_c49ded93ade6row7_col26\" class=\"data row7 col26\" >1,039</td>\n",
       "                        <td id=\"T_90206394_7766_11ea_bedb_c49ded93ade6row7_col27\" class=\"data row7 col27\" >1,173</td>\n",
       "                        <td id=\"T_90206394_7766_11ea_bedb_c49ded93ade6row7_col28\" class=\"data row7 col28\" >1,339</td>\n",
       "                        <td id=\"T_90206394_7766_11ea_bedb_c49ded93ade6row7_col29\" class=\"data row7 col29\" >1,487</td>\n",
       "                        <td id=\"T_90206394_7766_11ea_bedb_c49ded93ade6row7_col30\" class=\"data row7 col30\" >1,651</td>\n",
       "            </tr>\n",
       "            <tr>\n",
       "                        <th id=\"T_90206394_7766_11ea_bedb_c49ded93ade6level0_row8\" class=\"row_heading level0 row8\" >Germany</th>\n",
       "                        <td id=\"T_90206394_7766_11ea_bedb_c49ded93ade6row8_col0\" class=\"data row8 col0\" >-</td>\n",
       "                        <td id=\"T_90206394_7766_11ea_bedb_c49ded93ade6row8_col1\" class=\"data row8 col1\" >-</td>\n",
       "                        <td id=\"T_90206394_7766_11ea_bedb_c49ded93ade6row8_col2\" class=\"data row8 col2\" >-</td>\n",
       "                        <td id=\"T_90206394_7766_11ea_bedb_c49ded93ade6row8_col3\" class=\"data row8 col3\" >-</td>\n",
       "                        <td id=\"T_90206394_7766_11ea_bedb_c49ded93ade6row8_col4\" class=\"data row8 col4\" >2</td>\n",
       "                        <td id=\"T_90206394_7766_11ea_bedb_c49ded93ade6row8_col5\" class=\"data row8 col5\" >2</td>\n",
       "                        <td id=\"T_90206394_7766_11ea_bedb_c49ded93ade6row8_col6\" class=\"data row8 col6\" >3</td>\n",
       "                        <td id=\"T_90206394_7766_11ea_bedb_c49ded93ade6row8_col7\" class=\"data row8 col7\" >3</td>\n",
       "                        <td id=\"T_90206394_7766_11ea_bedb_c49ded93ade6row8_col8\" class=\"data row8 col8\" >7</td>\n",
       "                        <td id=\"T_90206394_7766_11ea_bedb_c49ded93ade6row8_col9\" class=\"data row8 col9\" >9</td>\n",
       "                        <td id=\"T_90206394_7766_11ea_bedb_c49ded93ade6row8_col10\" class=\"data row8 col10\" >11</td>\n",
       "                        <td id=\"T_90206394_7766_11ea_bedb_c49ded93ade6row8_col11\" class=\"data row8 col11\" >17</td>\n",
       "                        <td id=\"T_90206394_7766_11ea_bedb_c49ded93ade6row8_col12\" class=\"data row8 col12\" >24</td>\n",
       "                        <td id=\"T_90206394_7766_11ea_bedb_c49ded93ade6row8_col13\" class=\"data row8 col13\" >28</td>\n",
       "                        <td id=\"T_90206394_7766_11ea_bedb_c49ded93ade6row8_col14\" class=\"data row8 col14\" >44</td>\n",
       "                        <td id=\"T_90206394_7766_11ea_bedb_c49ded93ade6row8_col15\" class=\"data row8 col15\" >67</td>\n",
       "                        <td id=\"T_90206394_7766_11ea_bedb_c49ded93ade6row8_col16\" class=\"data row8 col16\" >84</td>\n",
       "                        <td id=\"T_90206394_7766_11ea_bedb_c49ded93ade6row8_col17\" class=\"data row8 col17\" >94</td>\n",
       "                        <td id=\"T_90206394_7766_11ea_bedb_c49ded93ade6row8_col18\" class=\"data row8 col18\" >123</td>\n",
       "                        <td id=\"T_90206394_7766_11ea_bedb_c49ded93ade6row8_col19\" class=\"data row8 col19\" >157</td>\n",
       "                        <td id=\"T_90206394_7766_11ea_bedb_c49ded93ade6row8_col20\" class=\"data row8 col20\" >206</td>\n",
       "                        <td id=\"T_90206394_7766_11ea_bedb_c49ded93ade6row8_col21\" class=\"data row8 col21\" >267</td>\n",
       "                        <td id=\"T_90206394_7766_11ea_bedb_c49ded93ade6row8_col22\" class=\"data row8 col22\" >342</td>\n",
       "                        <td id=\"T_90206394_7766_11ea_bedb_c49ded93ade6row8_col23\" class=\"data row8 col23\" >433</td>\n",
       "                        <td id=\"T_90206394_7766_11ea_bedb_c49ded93ade6row8_col24\" class=\"data row8 col24\" >533</td>\n",
       "                        <td id=\"T_90206394_7766_11ea_bedb_c49ded93ade6row8_col25\" class=\"data row8 col25\" >645</td>\n",
       "                        <td id=\"T_90206394_7766_11ea_bedb_c49ded93ade6row8_col26\" class=\"data row8 col26\" >775</td>\n",
       "                        <td id=\"T_90206394_7766_11ea_bedb_c49ded93ade6row8_col27\" class=\"data row8 col27\" >920</td>\n",
       "                        <td id=\"T_90206394_7766_11ea_bedb_c49ded93ade6row8_col28\" class=\"data row8 col28\" >1,107</td>\n",
       "                        <td id=\"T_90206394_7766_11ea_bedb_c49ded93ade6row8_col29\" class=\"data row8 col29\" >1,275</td>\n",
       "                        <td id=\"T_90206394_7766_11ea_bedb_c49ded93ade6row8_col30\" class=\"data row8 col30\" >1,444</td>\n",
       "            </tr>\n",
       "            <tr>\n",
       "                        <th id=\"T_90206394_7766_11ea_bedb_c49ded93ade6level0_row9\" class=\"row_heading level0 row9\" >Belgium</th>\n",
       "                        <td id=\"T_90206394_7766_11ea_bedb_c49ded93ade6row9_col0\" class=\"data row9 col0\" >-</td>\n",
       "                        <td id=\"T_90206394_7766_11ea_bedb_c49ded93ade6row9_col1\" class=\"data row9 col1\" >-</td>\n",
       "                        <td id=\"T_90206394_7766_11ea_bedb_c49ded93ade6row9_col2\" class=\"data row9 col2\" >-</td>\n",
       "                        <td id=\"T_90206394_7766_11ea_bedb_c49ded93ade6row9_col3\" class=\"data row9 col3\" >-</td>\n",
       "                        <td id=\"T_90206394_7766_11ea_bedb_c49ded93ade6row9_col4\" class=\"data row9 col4\" >-</td>\n",
       "                        <td id=\"T_90206394_7766_11ea_bedb_c49ded93ade6row9_col5\" class=\"data row9 col5\" >-</td>\n",
       "                        <td id=\"T_90206394_7766_11ea_bedb_c49ded93ade6row9_col6\" class=\"data row9 col6\" >3</td>\n",
       "                        <td id=\"T_90206394_7766_11ea_bedb_c49ded93ade6row9_col7\" class=\"data row9 col7\" >3</td>\n",
       "                        <td id=\"T_90206394_7766_11ea_bedb_c49ded93ade6row9_col8\" class=\"data row9 col8\" >3</td>\n",
       "                        <td id=\"T_90206394_7766_11ea_bedb_c49ded93ade6row9_col9\" class=\"data row9 col9\" >4</td>\n",
       "                        <td id=\"T_90206394_7766_11ea_bedb_c49ded93ade6row9_col10\" class=\"data row9 col10\" >4</td>\n",
       "                        <td id=\"T_90206394_7766_11ea_bedb_c49ded93ade6row9_col11\" class=\"data row9 col11\" >5</td>\n",
       "                        <td id=\"T_90206394_7766_11ea_bedb_c49ded93ade6row9_col12\" class=\"data row9 col12\" >10</td>\n",
       "                        <td id=\"T_90206394_7766_11ea_bedb_c49ded93ade6row9_col13\" class=\"data row9 col13\" >14</td>\n",
       "                        <td id=\"T_90206394_7766_11ea_bedb_c49ded93ade6row9_col14\" class=\"data row9 col14\" >21</td>\n",
       "                        <td id=\"T_90206394_7766_11ea_bedb_c49ded93ade6row9_col15\" class=\"data row9 col15\" >37</td>\n",
       "                        <td id=\"T_90206394_7766_11ea_bedb_c49ded93ade6row9_col16\" class=\"data row9 col16\" >67</td>\n",
       "                        <td id=\"T_90206394_7766_11ea_bedb_c49ded93ade6row9_col17\" class=\"data row9 col17\" >75</td>\n",
       "                        <td id=\"T_90206394_7766_11ea_bedb_c49ded93ade6row9_col18\" class=\"data row9 col18\" >88</td>\n",
       "                        <td id=\"T_90206394_7766_11ea_bedb_c49ded93ade6row9_col19\" class=\"data row9 col19\" >122</td>\n",
       "                        <td id=\"T_90206394_7766_11ea_bedb_c49ded93ade6row9_col20\" class=\"data row9 col20\" >178</td>\n",
       "                        <td id=\"T_90206394_7766_11ea_bedb_c49ded93ade6row9_col21\" class=\"data row9 col21\" >220</td>\n",
       "                        <td id=\"T_90206394_7766_11ea_bedb_c49ded93ade6row9_col22\" class=\"data row9 col22\" >289</td>\n",
       "                        <td id=\"T_90206394_7766_11ea_bedb_c49ded93ade6row9_col23\" class=\"data row9 col23\" >353</td>\n",
       "                        <td id=\"T_90206394_7766_11ea_bedb_c49ded93ade6row9_col24\" class=\"data row9 col24\" >431</td>\n",
       "                        <td id=\"T_90206394_7766_11ea_bedb_c49ded93ade6row9_col25\" class=\"data row9 col25\" >513</td>\n",
       "                        <td id=\"T_90206394_7766_11ea_bedb_c49ded93ade6row9_col26\" class=\"data row9 col26\" >705</td>\n",
       "                        <td id=\"T_90206394_7766_11ea_bedb_c49ded93ade6row9_col27\" class=\"data row9 col27\" >828</td>\n",
       "                        <td id=\"T_90206394_7766_11ea_bedb_c49ded93ade6row9_col28\" class=\"data row9 col28\" >1,011</td>\n",
       "                        <td id=\"T_90206394_7766_11ea_bedb_c49ded93ade6row9_col29\" class=\"data row9 col29\" >1,143</td>\n",
       "                        <td id=\"T_90206394_7766_11ea_bedb_c49ded93ade6row9_col30\" class=\"data row9 col30\" >1,283</td>\n",
       "            </tr>\n",
       "            <tr>\n",
       "                        <th id=\"T_90206394_7766_11ea_bedb_c49ded93ade6level0_row10\" class=\"row_heading level0 row10\" >Switzerland</th>\n",
       "                        <td id=\"T_90206394_7766_11ea_bedb_c49ded93ade6row10_col0\" class=\"data row10 col0\" >1</td>\n",
       "                        <td id=\"T_90206394_7766_11ea_bedb_c49ded93ade6row10_col1\" class=\"data row10 col1\" >1</td>\n",
       "                        <td id=\"T_90206394_7766_11ea_bedb_c49ded93ade6row10_col2\" class=\"data row10 col2\" >1</td>\n",
       "                        <td id=\"T_90206394_7766_11ea_bedb_c49ded93ade6row10_col3\" class=\"data row10 col3\" >2</td>\n",
       "                        <td id=\"T_90206394_7766_11ea_bedb_c49ded93ade6row10_col4\" class=\"data row10 col4\" >2</td>\n",
       "                        <td id=\"T_90206394_7766_11ea_bedb_c49ded93ade6row10_col5\" class=\"data row10 col5\" >3</td>\n",
       "                        <td id=\"T_90206394_7766_11ea_bedb_c49ded93ade6row10_col6\" class=\"data row10 col6\" >4</td>\n",
       "                        <td id=\"T_90206394_7766_11ea_bedb_c49ded93ade6row10_col7\" class=\"data row10 col7\" >4</td>\n",
       "                        <td id=\"T_90206394_7766_11ea_bedb_c49ded93ade6row10_col8\" class=\"data row10 col8\" >11</td>\n",
       "                        <td id=\"T_90206394_7766_11ea_bedb_c49ded93ade6row10_col9\" class=\"data row10 col9\" >13</td>\n",
       "                        <td id=\"T_90206394_7766_11ea_bedb_c49ded93ade6row10_col10\" class=\"data row10 col10\" >14</td>\n",
       "                        <td id=\"T_90206394_7766_11ea_bedb_c49ded93ade6row10_col11\" class=\"data row10 col11\" >14</td>\n",
       "                        <td id=\"T_90206394_7766_11ea_bedb_c49ded93ade6row10_col12\" class=\"data row10 col12\" >27</td>\n",
       "                        <td id=\"T_90206394_7766_11ea_bedb_c49ded93ade6row10_col13\" class=\"data row10 col13\" >28</td>\n",
       "                        <td id=\"T_90206394_7766_11ea_bedb_c49ded93ade6row10_col14\" class=\"data row10 col14\" >41</td>\n",
       "                        <td id=\"T_90206394_7766_11ea_bedb_c49ded93ade6row10_col15\" class=\"data row10 col15\" >54</td>\n",
       "                        <td id=\"T_90206394_7766_11ea_bedb_c49ded93ade6row10_col16\" class=\"data row10 col16\" >75</td>\n",
       "                        <td id=\"T_90206394_7766_11ea_bedb_c49ded93ade6row10_col17\" class=\"data row10 col17\" >98</td>\n",
       "                        <td id=\"T_90206394_7766_11ea_bedb_c49ded93ade6row10_col18\" class=\"data row10 col18\" >120</td>\n",
       "                        <td id=\"T_90206394_7766_11ea_bedb_c49ded93ade6row10_col19\" class=\"data row10 col19\" >122</td>\n",
       "                        <td id=\"T_90206394_7766_11ea_bedb_c49ded93ade6row10_col20\" class=\"data row10 col20\" >153</td>\n",
       "                        <td id=\"T_90206394_7766_11ea_bedb_c49ded93ade6row10_col21\" class=\"data row10 col21\" >191</td>\n",
       "                        <td id=\"T_90206394_7766_11ea_bedb_c49ded93ade6row10_col22\" class=\"data row10 col22\" >231</td>\n",
       "                        <td id=\"T_90206394_7766_11ea_bedb_c49ded93ade6row10_col23\" class=\"data row10 col23\" >264</td>\n",
       "                        <td id=\"T_90206394_7766_11ea_bedb_c49ded93ade6row10_col24\" class=\"data row10 col24\" >300</td>\n",
       "                        <td id=\"T_90206394_7766_11ea_bedb_c49ded93ade6row10_col25\" class=\"data row10 col25\" >359</td>\n",
       "                        <td id=\"T_90206394_7766_11ea_bedb_c49ded93ade6row10_col26\" class=\"data row10 col26\" >433</td>\n",
       "                        <td id=\"T_90206394_7766_11ea_bedb_c49ded93ade6row10_col27\" class=\"data row10 col27\" >488</td>\n",
       "                        <td id=\"T_90206394_7766_11ea_bedb_c49ded93ade6row10_col28\" class=\"data row10 col28\" >536</td>\n",
       "                        <td id=\"T_90206394_7766_11ea_bedb_c49ded93ade6row10_col29\" class=\"data row10 col29\" >591</td>\n",
       "                        <td id=\"T_90206394_7766_11ea_bedb_c49ded93ade6row10_col30\" class=\"data row10 col30\" >666</td>\n",
       "            </tr>\n",
       "    </tbody></table>"
      ],
      "text/plain": [
       "<pandas.io.formats.style.Styler at 0x107d95f0>"
      ]
     },
     "execution_count": 19,
     "metadata": {},
     "output_type": "execute_result"
    }
   ],
   "source": [
    "chinaDataDeaths = dfDeathsGlobal[dfDeathsGlobal['Country/Region'] == 'China'].sum()\n",
    "chinaDataDeaths['Province/State', 'Country/Region'] = [np.NaN, 'China']\n",
    "\n",
    "dfDeathsWorldTop = dfDeathsGlobal[dfDeathsGlobal['Country/Region'] != 'China'].sort_values(dfDeathsGlobal.columns[-1], ascending=False).head(10)\n",
    "dfDeathsWorldTop = dfDeathsWorldTop.append(chinaDataDeaths, ignore_index=True)\n",
    "dfDeathsWorldTop = dfDeathsWorldTop.sort_values(dfDeathsGlobal.columns[-1], ascending=False)\n",
    "dfDeathsWorldTop = dfDeathsWorldTop.set_index('Country/Region')\n",
    "\n",
    "\n",
    "data = [{\n",
    "    'x': row[1].index[-MONTH_DAYS:],\n",
    "    'y': row[1].values[-MONTH_DAYS:],\n",
    "    'name': row[0]\n",
    "}  for row in dfDeathsWorldTop.iterrows()]\n",
    "\n",
    "layout = dict(title = 'World Deaths', updatemenus=LogLinearScale)\n",
    "py.iplot(dict(data=data, layout=layout))\n",
    "dfDeathsWorldTop[dfDeathsWorldTop.columns[-MONTH_DAYS:]].style.format(IntegerFormatter)"
   ]
  },
  {
   "cell_type": "code",
   "execution_count": 20,
   "metadata": {
    "ExecuteTime": {
     "end_time": "2020-04-05T17:54:57.724040Z",
     "start_time": "2020-04-05T17:54:57.715774Z"
    }
   },
   "outputs": [],
   "source": [
    "# Detailed US County By County Analysis"
   ]
  },
  {
   "cell_type": "code",
   "execution_count": 21,
   "metadata": {
    "ExecuteTime": {
     "end_time": "2020-04-05T17:54:57.827902Z",
     "start_time": "2020-04-05T17:54:57.736641Z"
    },
    "scrolled": false
   },
   "outputs": [],
   "source": [
    "# dfConfirmedUSCountiesLatest = dfConfirmedUSCounties[['FIPS', dfConfirmedUSCounties.columns[-1]]]\n",
    "# dfDeathsUSCountiesLatest = dfDeathsUSCounties[['FIPS', dfDeathsUSCounties.columns[-1]]]\n",
    "\n",
    "# dfLatestWithPopulation = dfConfirmedUSCountiesLatest.merge(dfDeathsUSCountiesLatest, how='left', on='FIPS')\n",
    "# dfLatestWithPopulation.columns = ['FIPS', 'confirmed_cases', 'deaths']\n",
    "# dfLatestWithPopulation = dfLatestWithPopulation.merge(dfCensusCountiesPopulation, how='left', on='FIPS')\n",
    "# dfLatestWithPopulation = dfLatestWithPopulation[~np.isnan(dfLatestWithPopulation.COUNTY)]\n",
    "# dfLatestWithPopulation['confirmed_cases_per_thousand_population'] = 1000 * dfLatestWithPopulation.confirmed_cases/dfLatestWithPopulation.TOT_POP\n",
    "# dfLatestWithPopulation['deaths_per_thousand_population'] = 1000 * dfLatestWithPopulation.deaths/dfLatestWithPopulation.TOT_POP\n",
    "\n",
    "# topUSCountiesPerCapita = dfLatestWithPopulation[dfLatestWithPopulation.confirmed_cases > 50].sort_values('confirmed_cases_per_thousand_population', ascending=False).head(30)\n",
    "\n",
    "# dfTopUSCounties = dfConfirmedUSCountiesLatest[dfConfirmedUSCountiesLatest[dfConfirmedUSCountiesLatest.columns[-1]] > 100]\n",
    "# # dfLatestWithPopulation[dfLatestWithPopulation.confirmed_cases > 100]\n",
    "# # topUSCountiesPerCapita\n",
    "\n",
    "# trace1 = go.Choropleth(\n",
    "#     locations=dfTopUSCounties['FIPS'], \n",
    "#     z = dfConfirmedUSCountiesLatest[dfConfirmedUSCountiesLatest.columns[-1]],\n",
    "#     geojson=counties,\n",
    "#     colorscale = 'Plasma',\n",
    "#     colorbar = dict(tickmode='array', tickvals = [1, 100, 200,  500, 1000, 10000, 50000, 1000000]),\n",
    "#     colorbar_title = 'Confirmed Cases',\n",
    "# )\n",
    "\n",
    "# data = [trace1]\n",
    "# layout = dict(title = 'Top US Counties', geo_scope='usa')\n",
    "# py.iplot(dict(data=data, layout=layout))\n",
    "# dfTopUSCounties.describe()\n",
    "\n",
    "# topUSCountiesPerCapita"
   ]
  }
 ],
 "metadata": {
  "extensions": {
   "jupyter_dashboards": {
    "activeView": "report_default",
    "version": 1,
    "views": {
     "grid_default": {
      "cellMargin": 10,
      "defaultCellHeight": 20,
      "maxColumns": 12,
      "name": "grid",
      "type": "grid"
     },
     "report_default": {
      "name": "report",
      "type": "report"
     }
    }
   }
  },
  "kernelspec": {
   "display_name": "Python 3",
   "language": "python",
   "name": "python3"
  },
  "language_info": {
   "codemirror_mode": {
    "name": "ipython",
    "version": 3
   },
   "file_extension": ".py",
   "mimetype": "text/x-python",
   "name": "python",
   "nbconvert_exporter": "python",
   "pygments_lexer": "ipython3",
   "version": "3.6.5"
  },
  "toc": {
   "base_numbering": 1,
   "nav_menu": {},
   "number_sections": false,
   "sideBar": true,
   "skip_h1_title": false,
   "title_cell": "Table of Contents",
   "title_sidebar": "Contents",
   "toc_cell": false,
   "toc_position": {},
   "toc_section_display": true,
   "toc_window_display": false
  }
 },
 "nbformat": 4,
 "nbformat_minor": 2
}
