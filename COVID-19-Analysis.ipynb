{
 "cells": [
  {
   "cell_type": "markdown",
   "metadata": {},
   "source": [
    "# COVID-19: Analysis of Cases\n",
    "Amit Kulkarni <a href=\"https://twitter.com/kulkarni_amit\">@kulkarni_amit</a>\n",
    "\n",
    "This dashboard is built on public data related to COVID-19 (coronavirus). It is refreshed daily around 17:15 PDT (00:15 UTC)."
   ]
  },
  {
   "cell_type": "code",
   "execution_count": 12,
   "metadata": {
    "ExecuteTime": {
     "end_time": "2020-04-02T06:13:49.252910Z",
     "start_time": "2020-04-02T06:13:49.243916Z"
    },
    "extensions": {
     "jupyter_dashboards": {
      "version": 1,
      "views": {
       "grid_default": {
        "col": 0,
        "height": 4,
        "hidden": true,
        "row": 0,
        "width": 4
       },
       "report_default": {
        "hidden": true
       }
      }
     }
    }
   },
   "outputs": [
    {
     "data": {
      "text/html": [
       "        <script type=\"text/javascript\">\n",
       "        window.PlotlyConfig = {MathJaxConfig: 'local'};\n",
       "        if (window.MathJax) {MathJax.Hub.Config({SVG: {font: \"STIX-Web\"}});}\n",
       "        if (typeof require !== 'undefined') {\n",
       "        require.undef(\"plotly\");\n",
       "        requirejs.config({\n",
       "            paths: {\n",
       "                'plotly': ['https://cdn.plot.ly/plotly-latest.min']\n",
       "            }\n",
       "        });\n",
       "        require(['plotly'], function(Plotly) {\n",
       "            window._Plotly = Plotly;\n",
       "        });\n",
       "        }\n",
       "        </script>\n",
       "        "
      ]
     },
     "metadata": {},
     "output_type": "display_data"
    }
   ],
   "source": [
    "import pandas as pd\n",
    "import numpy as np\n",
    "import math\n",
    "\n",
    "import plotly.offline as py\n",
    "import plotly.graph_objs as go\n",
    "py.offline.init_notebook_mode(connected=True)\n",
    "\n",
    "from IPython.core.interactiveshell import InteractiveShell\n",
    "InteractiveShell.ast_node_interactivity = \"all\""
   ]
  },
  {
   "cell_type": "code",
   "execution_count": 13,
   "metadata": {
    "ExecuteTime": {
     "end_time": "2020-04-02T06:13:49.297907Z",
     "start_time": "2020-04-02T06:13:49.259911Z"
    },
    "extensions": {
     "jupyter_dashboards": {
      "version": 1,
      "views": {
       "grid_default": {
        "hidden": true
       },
       "report_default": {
        "hidden": true
       }
      }
     }
    }
   },
   "outputs": [],
   "source": [
    "# Common Library Functions\n",
    "def PercentFormatter(x):\n",
    "    return \"{:.0%}\".format(x) if not math.isnan(x) and not math.isinf(x) else \"-\" \n",
    "\n",
    "def IntegerFormatter(x):\n",
    "    return \"{:,.0f}\".format(x) if not math.isnan(x) and not math.isinf(x) and (x != 0) else \"-\" \n",
    "\n",
    "LogLinearScale = list([\n",
    "    dict(active=0,\n",
    "         type='buttons',\n",
    "         direction='right',\n",
    "         x=0.45,\n",
    "         xanchor=\"left\",\n",
    "         y=1.1,\n",
    "         yanchor=\"top\",\n",
    "         buttons=list([\n",
    "            dict(label='Linear Scale',\n",
    "                 method='update',\n",
    "                 args=[{'visible': [True, True]},\n",
    "                       {'yaxis': {'type': 'linear'}}]),\n",
    "            dict(label='Logarithmic Scale',\n",
    "                 method='update',\n",
    "                 args=[{'visible': [True, True]},\n",
    "                       {'yaxis': {'type': 'log'}}])\n",
    "            ]),\n",
    "        )\n",
    "    ])\n",
    "\n",
    "DEFAULT_DAYS = 20\n",
    "MONTH_DAYS = 31"
   ]
  },
  {
   "cell_type": "code",
   "execution_count": 14,
   "metadata": {
    "ExecuteTime": {
     "end_time": "2020-04-02T06:13:50.757917Z",
     "start_time": "2020-04-02T06:13:49.302909Z"
    }
   },
   "outputs": [],
   "source": [
    "# Read all the files\n",
    "dfConfirmedGlobal = pd.read_csv(r'https://raw.githubusercontent.com/CSSEGISandData/COVID-19/master/csse_covid_19_data/csse_covid_19_time_series/time_series_covid19_confirmed_global.csv')\n",
    "dfDeathsGlobal = pd.read_csv(r'https://raw.githubusercontent.com/CSSEGISandData/COVID-19/master/csse_covid_19_data/csse_covid_19_time_series/time_series_covid19_deaths_global.csv')\n",
    "\n",
    "dfConfirmedUSCounties = pd.read_csv(r'https://raw.githubusercontent.com/CSSEGISandData/COVID-19/master/csse_covid_19_data/csse_covid_19_time_series/time_series_covid19_confirmed_US.csv')\n",
    "dfDeathsUSCounties = pd.read_csv(r'https://raw.githubusercontent.com/CSSEGISandData/COVID-19/master/csse_covid_19_data/csse_covid_19_time_series/time_series_covid19_deaths_US.csv')"
   ]
  },
  {
   "cell_type": "code",
   "execution_count": 15,
   "metadata": {
    "ExecuteTime": {
     "end_time": "2020-04-02T06:13:50.819929Z",
     "start_time": "2020-04-02T06:13:50.764910Z"
    }
   },
   "outputs": [],
   "source": [
    "dfConfirmedUSStates = dfConfirmedUSCounties.groupby('Province_State').sum()\n",
    "dfConfirmedUSStates = dfConfirmedUSStates[dfConfirmedUSStates.columns[5:]]\n",
    "dfDeathsUSStates = dfDeathsUSCounties.groupby('Province_State').sum()\n",
    "dfDeathsUSStates = dfDeathsUSStates[dfDeathsUSStates.columns[6:]]"
   ]
  },
  {
   "cell_type": "markdown",
   "metadata": {},
   "source": [
    "# Key Facts - World and US"
   ]
  },
  {
   "cell_type": "code",
   "execution_count": 45,
   "metadata": {
    "ExecuteTime": {
     "end_time": "2020-04-02T07:09:29.447778Z",
     "start_time": "2020-04-02T07:09:28.894790Z"
    },
    "scrolled": false
   },
   "outputs": [
    {
     "data": {
      "application/vnd.plotly.v1+json": {
       "config": {
        "linkText": "Export to plot.ly",
        "plotlyServerURL": "https://plot.ly",
        "showLink": false
       },
       "data": [
        {
         "delta": {
          "decreasing": {
           "color": "green"
          },
          "increasing": {
           "color": "red"
          },
          "reference": 857487
         },
         "domain": {
          "x": [
           0,
           0.5
          ],
          "y": [
           0.6,
           1
          ]
         },
         "mode": "number+delta",
         "title": {
          "text": "Worldwide Confirmed Cases"
         },
         "type": "indicator",
         "value": 932605
        },
        {
         "delta": {
          "decreasing": {
           "color": "green"
          },
          "increasing": {
           "color": "red"
          },
          "reference": 188172
         },
         "domain": {
          "x": [
           0.5,
           1
          ],
          "y": [
           0.6,
           1
          ]
         },
         "mode": "number+delta",
         "title": {
          "text": "US Confirmed Cases"
         },
         "type": "indicator",
         "value": 213362
        },
        {
         "delta": {
          "decreasing": {
           "color": "green"
          },
          "increasing": {
           "color": "red"
          },
          "reference": 42107
         },
         "domain": {
          "x": [
           0,
           0.5
          ],
          "y": [
           0,
           0.4
          ]
         },
         "mode": "number+delta",
         "title": {
          "text": "Worldwide Deaths"
         },
         "type": "indicator",
         "value": 46809
        },
        {
         "delta": {
          "decreasing": {
           "color": "green"
          },
          "increasing": {
           "color": "red"
          },
          "reference": 3873
         },
         "domain": {
          "x": [
           0.5,
           1
          ],
          "y": [
           0,
           0.4
          ]
         },
         "mode": "number+delta",
         "title": {
          "text": "US Deaths"
         },
         "type": "indicator",
         "value": 4757
        }
       ],
       "layout": {
        "template": {
         "data": {
          "bar": [
           {
            "error_x": {
             "color": "#2a3f5f"
            },
            "error_y": {
             "color": "#2a3f5f"
            },
            "marker": {
             "line": {
              "color": "#E5ECF6",
              "width": 0.5
             }
            },
            "type": "bar"
           }
          ],
          "barpolar": [
           {
            "marker": {
             "line": {
              "color": "#E5ECF6",
              "width": 0.5
             }
            },
            "type": "barpolar"
           }
          ],
          "carpet": [
           {
            "aaxis": {
             "endlinecolor": "#2a3f5f",
             "gridcolor": "white",
             "linecolor": "white",
             "minorgridcolor": "white",
             "startlinecolor": "#2a3f5f"
            },
            "baxis": {
             "endlinecolor": "#2a3f5f",
             "gridcolor": "white",
             "linecolor": "white",
             "minorgridcolor": "white",
             "startlinecolor": "#2a3f5f"
            },
            "type": "carpet"
           }
          ],
          "choropleth": [
           {
            "colorbar": {
             "outlinewidth": 0,
             "ticks": ""
            },
            "type": "choropleth"
           }
          ],
          "contour": [
           {
            "colorbar": {
             "outlinewidth": 0,
             "ticks": ""
            },
            "colorscale": [
             [
              0,
              "#0d0887"
             ],
             [
              0.1111111111111111,
              "#46039f"
             ],
             [
              0.2222222222222222,
              "#7201a8"
             ],
             [
              0.3333333333333333,
              "#9c179e"
             ],
             [
              0.4444444444444444,
              "#bd3786"
             ],
             [
              0.5555555555555556,
              "#d8576b"
             ],
             [
              0.6666666666666666,
              "#ed7953"
             ],
             [
              0.7777777777777778,
              "#fb9f3a"
             ],
             [
              0.8888888888888888,
              "#fdca26"
             ],
             [
              1,
              "#f0f921"
             ]
            ],
            "type": "contour"
           }
          ],
          "contourcarpet": [
           {
            "colorbar": {
             "outlinewidth": 0,
             "ticks": ""
            },
            "type": "contourcarpet"
           }
          ],
          "heatmap": [
           {
            "colorbar": {
             "outlinewidth": 0,
             "ticks": ""
            },
            "colorscale": [
             [
              0,
              "#0d0887"
             ],
             [
              0.1111111111111111,
              "#46039f"
             ],
             [
              0.2222222222222222,
              "#7201a8"
             ],
             [
              0.3333333333333333,
              "#9c179e"
             ],
             [
              0.4444444444444444,
              "#bd3786"
             ],
             [
              0.5555555555555556,
              "#d8576b"
             ],
             [
              0.6666666666666666,
              "#ed7953"
             ],
             [
              0.7777777777777778,
              "#fb9f3a"
             ],
             [
              0.8888888888888888,
              "#fdca26"
             ],
             [
              1,
              "#f0f921"
             ]
            ],
            "type": "heatmap"
           }
          ],
          "heatmapgl": [
           {
            "colorbar": {
             "outlinewidth": 0,
             "ticks": ""
            },
            "colorscale": [
             [
              0,
              "#0d0887"
             ],
             [
              0.1111111111111111,
              "#46039f"
             ],
             [
              0.2222222222222222,
              "#7201a8"
             ],
             [
              0.3333333333333333,
              "#9c179e"
             ],
             [
              0.4444444444444444,
              "#bd3786"
             ],
             [
              0.5555555555555556,
              "#d8576b"
             ],
             [
              0.6666666666666666,
              "#ed7953"
             ],
             [
              0.7777777777777778,
              "#fb9f3a"
             ],
             [
              0.8888888888888888,
              "#fdca26"
             ],
             [
              1,
              "#f0f921"
             ]
            ],
            "type": "heatmapgl"
           }
          ],
          "histogram": [
           {
            "marker": {
             "colorbar": {
              "outlinewidth": 0,
              "ticks": ""
             }
            },
            "type": "histogram"
           }
          ],
          "histogram2d": [
           {
            "colorbar": {
             "outlinewidth": 0,
             "ticks": ""
            },
            "colorscale": [
             [
              0,
              "#0d0887"
             ],
             [
              0.1111111111111111,
              "#46039f"
             ],
             [
              0.2222222222222222,
              "#7201a8"
             ],
             [
              0.3333333333333333,
              "#9c179e"
             ],
             [
              0.4444444444444444,
              "#bd3786"
             ],
             [
              0.5555555555555556,
              "#d8576b"
             ],
             [
              0.6666666666666666,
              "#ed7953"
             ],
             [
              0.7777777777777778,
              "#fb9f3a"
             ],
             [
              0.8888888888888888,
              "#fdca26"
             ],
             [
              1,
              "#f0f921"
             ]
            ],
            "type": "histogram2d"
           }
          ],
          "histogram2dcontour": [
           {
            "colorbar": {
             "outlinewidth": 0,
             "ticks": ""
            },
            "colorscale": [
             [
              0,
              "#0d0887"
             ],
             [
              0.1111111111111111,
              "#46039f"
             ],
             [
              0.2222222222222222,
              "#7201a8"
             ],
             [
              0.3333333333333333,
              "#9c179e"
             ],
             [
              0.4444444444444444,
              "#bd3786"
             ],
             [
              0.5555555555555556,
              "#d8576b"
             ],
             [
              0.6666666666666666,
              "#ed7953"
             ],
             [
              0.7777777777777778,
              "#fb9f3a"
             ],
             [
              0.8888888888888888,
              "#fdca26"
             ],
             [
              1,
              "#f0f921"
             ]
            ],
            "type": "histogram2dcontour"
           }
          ],
          "mesh3d": [
           {
            "colorbar": {
             "outlinewidth": 0,
             "ticks": ""
            },
            "type": "mesh3d"
           }
          ],
          "parcoords": [
           {
            "line": {
             "colorbar": {
              "outlinewidth": 0,
              "ticks": ""
             }
            },
            "type": "parcoords"
           }
          ],
          "pie": [
           {
            "automargin": true,
            "type": "pie"
           }
          ],
          "scatter": [
           {
            "marker": {
             "colorbar": {
              "outlinewidth": 0,
              "ticks": ""
             }
            },
            "type": "scatter"
           }
          ],
          "scatter3d": [
           {
            "line": {
             "colorbar": {
              "outlinewidth": 0,
              "ticks": ""
             }
            },
            "marker": {
             "colorbar": {
              "outlinewidth": 0,
              "ticks": ""
             }
            },
            "type": "scatter3d"
           }
          ],
          "scattercarpet": [
           {
            "marker": {
             "colorbar": {
              "outlinewidth": 0,
              "ticks": ""
             }
            },
            "type": "scattercarpet"
           }
          ],
          "scattergeo": [
           {
            "marker": {
             "colorbar": {
              "outlinewidth": 0,
              "ticks": ""
             }
            },
            "type": "scattergeo"
           }
          ],
          "scattergl": [
           {
            "marker": {
             "colorbar": {
              "outlinewidth": 0,
              "ticks": ""
             }
            },
            "type": "scattergl"
           }
          ],
          "scattermapbox": [
           {
            "marker": {
             "colorbar": {
              "outlinewidth": 0,
              "ticks": ""
             }
            },
            "type": "scattermapbox"
           }
          ],
          "scatterpolar": [
           {
            "marker": {
             "colorbar": {
              "outlinewidth": 0,
              "ticks": ""
             }
            },
            "type": "scatterpolar"
           }
          ],
          "scatterpolargl": [
           {
            "marker": {
             "colorbar": {
              "outlinewidth": 0,
              "ticks": ""
             }
            },
            "type": "scatterpolargl"
           }
          ],
          "scatterternary": [
           {
            "marker": {
             "colorbar": {
              "outlinewidth": 0,
              "ticks": ""
             }
            },
            "type": "scatterternary"
           }
          ],
          "surface": [
           {
            "colorbar": {
             "outlinewidth": 0,
             "ticks": ""
            },
            "colorscale": [
             [
              0,
              "#0d0887"
             ],
             [
              0.1111111111111111,
              "#46039f"
             ],
             [
              0.2222222222222222,
              "#7201a8"
             ],
             [
              0.3333333333333333,
              "#9c179e"
             ],
             [
              0.4444444444444444,
              "#bd3786"
             ],
             [
              0.5555555555555556,
              "#d8576b"
             ],
             [
              0.6666666666666666,
              "#ed7953"
             ],
             [
              0.7777777777777778,
              "#fb9f3a"
             ],
             [
              0.8888888888888888,
              "#fdca26"
             ],
             [
              1,
              "#f0f921"
             ]
            ],
            "type": "surface"
           }
          ],
          "table": [
           {
            "cells": {
             "fill": {
              "color": "#EBF0F8"
             },
             "line": {
              "color": "white"
             }
            },
            "header": {
             "fill": {
              "color": "#C8D4E3"
             },
             "line": {
              "color": "white"
             }
            },
            "type": "table"
           }
          ]
         },
         "layout": {
          "annotationdefaults": {
           "arrowcolor": "#2a3f5f",
           "arrowhead": 0,
           "arrowwidth": 1
          },
          "coloraxis": {
           "colorbar": {
            "outlinewidth": 0,
            "ticks": ""
           }
          },
          "colorscale": {
           "diverging": [
            [
             0,
             "#8e0152"
            ],
            [
             0.1,
             "#c51b7d"
            ],
            [
             0.2,
             "#de77ae"
            ],
            [
             0.3,
             "#f1b6da"
            ],
            [
             0.4,
             "#fde0ef"
            ],
            [
             0.5,
             "#f7f7f7"
            ],
            [
             0.6,
             "#e6f5d0"
            ],
            [
             0.7,
             "#b8e186"
            ],
            [
             0.8,
             "#7fbc41"
            ],
            [
             0.9,
             "#4d9221"
            ],
            [
             1,
             "#276419"
            ]
           ],
           "sequential": [
            [
             0,
             "#0d0887"
            ],
            [
             0.1111111111111111,
             "#46039f"
            ],
            [
             0.2222222222222222,
             "#7201a8"
            ],
            [
             0.3333333333333333,
             "#9c179e"
            ],
            [
             0.4444444444444444,
             "#bd3786"
            ],
            [
             0.5555555555555556,
             "#d8576b"
            ],
            [
             0.6666666666666666,
             "#ed7953"
            ],
            [
             0.7777777777777778,
             "#fb9f3a"
            ],
            [
             0.8888888888888888,
             "#fdca26"
            ],
            [
             1,
             "#f0f921"
            ]
           ],
           "sequentialminus": [
            [
             0,
             "#0d0887"
            ],
            [
             0.1111111111111111,
             "#46039f"
            ],
            [
             0.2222222222222222,
             "#7201a8"
            ],
            [
             0.3333333333333333,
             "#9c179e"
            ],
            [
             0.4444444444444444,
             "#bd3786"
            ],
            [
             0.5555555555555556,
             "#d8576b"
            ],
            [
             0.6666666666666666,
             "#ed7953"
            ],
            [
             0.7777777777777778,
             "#fb9f3a"
            ],
            [
             0.8888888888888888,
             "#fdca26"
            ],
            [
             1,
             "#f0f921"
            ]
           ]
          },
          "colorway": [
           "#636efa",
           "#EF553B",
           "#00cc96",
           "#ab63fa",
           "#FFA15A",
           "#19d3f3",
           "#FF6692",
           "#B6E880",
           "#FF97FF",
           "#FECB52"
          ],
          "font": {
           "color": "#2a3f5f"
          },
          "geo": {
           "bgcolor": "white",
           "lakecolor": "white",
           "landcolor": "#E5ECF6",
           "showlakes": true,
           "showland": true,
           "subunitcolor": "white"
          },
          "hoverlabel": {
           "align": "left"
          },
          "hovermode": "closest",
          "mapbox": {
           "style": "light"
          },
          "paper_bgcolor": "white",
          "plot_bgcolor": "#E5ECF6",
          "polar": {
           "angularaxis": {
            "gridcolor": "white",
            "linecolor": "white",
            "ticks": ""
           },
           "bgcolor": "#E5ECF6",
           "radialaxis": {
            "gridcolor": "white",
            "linecolor": "white",
            "ticks": ""
           }
          },
          "scene": {
           "xaxis": {
            "backgroundcolor": "#E5ECF6",
            "gridcolor": "white",
            "gridwidth": 2,
            "linecolor": "white",
            "showbackground": true,
            "ticks": "",
            "zerolinecolor": "white"
           },
           "yaxis": {
            "backgroundcolor": "#E5ECF6",
            "gridcolor": "white",
            "gridwidth": 2,
            "linecolor": "white",
            "showbackground": true,
            "ticks": "",
            "zerolinecolor": "white"
           },
           "zaxis": {
            "backgroundcolor": "#E5ECF6",
            "gridcolor": "white",
            "gridwidth": 2,
            "linecolor": "white",
            "showbackground": true,
            "ticks": "",
            "zerolinecolor": "white"
           }
          },
          "shapedefaults": {
           "line": {
            "color": "#2a3f5f"
           }
          },
          "ternary": {
           "aaxis": {
            "gridcolor": "white",
            "linecolor": "white",
            "ticks": ""
           },
           "baxis": {
            "gridcolor": "white",
            "linecolor": "white",
            "ticks": ""
           },
           "bgcolor": "#E5ECF6",
           "caxis": {
            "gridcolor": "white",
            "linecolor": "white",
            "ticks": ""
           }
          },
          "title": {
           "x": 0.05
          },
          "xaxis": {
           "automargin": true,
           "gridcolor": "white",
           "linecolor": "white",
           "ticks": "",
           "title": {
            "standoff": 15
           },
           "zerolinecolor": "white",
           "zerolinewidth": 2
          },
          "yaxis": {
           "automargin": true,
           "gridcolor": "white",
           "linecolor": "white",
           "ticks": "",
           "title": {
            "standoff": 15
           },
           "zerolinecolor": "white",
           "zerolinewidth": 2
          }
         }
        }
       }
      },
      "text/html": [
       "<div>\n",
       "        \n",
       "        \n",
       "            <div id=\"bffb3046-a1b6-4c37-9556-50d9c999a1d2\" class=\"plotly-graph-div\" style=\"height:525px; width:100%;\"></div>\n",
       "            <script type=\"text/javascript\">\n",
       "                require([\"plotly\"], function(Plotly) {\n",
       "                    window.PLOTLYENV=window.PLOTLYENV || {};\n",
       "                    \n",
       "                if (document.getElementById(\"bffb3046-a1b6-4c37-9556-50d9c999a1d2\")) {\n",
       "                    Plotly.newPlot(\n",
       "                        'bffb3046-a1b6-4c37-9556-50d9c999a1d2',\n",
       "                        [{\"delta\": {\"decreasing\": {\"color\": \"green\"}, \"increasing\": {\"color\": \"red\"}, \"reference\": 857487.0}, \"domain\": {\"x\": [0, 0.5], \"y\": [0.6, 1]}, \"mode\": \"number+delta\", \"title\": {\"text\": \"Worldwide Confirmed Cases\"}, \"type\": \"indicator\", \"value\": 932605.0}, {\"delta\": {\"decreasing\": {\"color\": \"green\"}, \"increasing\": {\"color\": \"red\"}, \"reference\": 188172}, \"domain\": {\"x\": [0.5, 1], \"y\": [0.6, 1]}, \"mode\": \"number+delta\", \"title\": {\"text\": \"US Confirmed Cases\"}, \"type\": \"indicator\", \"value\": 213362}, {\"delta\": {\"decreasing\": {\"color\": \"green\"}, \"increasing\": {\"color\": \"red\"}, \"reference\": 42107.0}, \"domain\": {\"x\": [0, 0.5], \"y\": [0, 0.4]}, \"mode\": \"number+delta\", \"title\": {\"text\": \"Worldwide Deaths\"}, \"type\": \"indicator\", \"value\": 46809.0}, {\"delta\": {\"decreasing\": {\"color\": \"green\"}, \"increasing\": {\"color\": \"red\"}, \"reference\": 3873}, \"domain\": {\"x\": [0.5, 1], \"y\": [0, 0.4]}, \"mode\": \"number+delta\", \"title\": {\"text\": \"US Deaths\"}, \"type\": \"indicator\", \"value\": 4757}],\n",
       "                        {\"template\": {\"data\": {\"bar\": [{\"error_x\": {\"color\": \"#2a3f5f\"}, \"error_y\": {\"color\": \"#2a3f5f\"}, \"marker\": {\"line\": {\"color\": \"#E5ECF6\", \"width\": 0.5}}, \"type\": \"bar\"}], \"barpolar\": [{\"marker\": {\"line\": {\"color\": \"#E5ECF6\", \"width\": 0.5}}, \"type\": \"barpolar\"}], \"carpet\": [{\"aaxis\": {\"endlinecolor\": \"#2a3f5f\", \"gridcolor\": \"white\", \"linecolor\": \"white\", \"minorgridcolor\": \"white\", \"startlinecolor\": \"#2a3f5f\"}, \"baxis\": {\"endlinecolor\": \"#2a3f5f\", \"gridcolor\": \"white\", \"linecolor\": \"white\", \"minorgridcolor\": \"white\", \"startlinecolor\": \"#2a3f5f\"}, \"type\": \"carpet\"}], \"choropleth\": [{\"colorbar\": {\"outlinewidth\": 0, \"ticks\": \"\"}, \"type\": \"choropleth\"}], \"contour\": [{\"colorbar\": {\"outlinewidth\": 0, \"ticks\": \"\"}, \"colorscale\": [[0.0, \"#0d0887\"], [0.1111111111111111, \"#46039f\"], [0.2222222222222222, \"#7201a8\"], [0.3333333333333333, \"#9c179e\"], [0.4444444444444444, \"#bd3786\"], [0.5555555555555556, \"#d8576b\"], [0.6666666666666666, \"#ed7953\"], [0.7777777777777778, \"#fb9f3a\"], [0.8888888888888888, \"#fdca26\"], [1.0, \"#f0f921\"]], \"type\": \"contour\"}], \"contourcarpet\": [{\"colorbar\": {\"outlinewidth\": 0, \"ticks\": \"\"}, \"type\": \"contourcarpet\"}], \"heatmap\": [{\"colorbar\": {\"outlinewidth\": 0, \"ticks\": \"\"}, \"colorscale\": [[0.0, \"#0d0887\"], [0.1111111111111111, \"#46039f\"], [0.2222222222222222, \"#7201a8\"], [0.3333333333333333, \"#9c179e\"], [0.4444444444444444, \"#bd3786\"], [0.5555555555555556, \"#d8576b\"], [0.6666666666666666, \"#ed7953\"], [0.7777777777777778, \"#fb9f3a\"], [0.8888888888888888, \"#fdca26\"], [1.0, \"#f0f921\"]], \"type\": \"heatmap\"}], \"heatmapgl\": [{\"colorbar\": {\"outlinewidth\": 0, \"ticks\": \"\"}, \"colorscale\": [[0.0, \"#0d0887\"], [0.1111111111111111, \"#46039f\"], [0.2222222222222222, \"#7201a8\"], [0.3333333333333333, \"#9c179e\"], [0.4444444444444444, \"#bd3786\"], [0.5555555555555556, \"#d8576b\"], [0.6666666666666666, \"#ed7953\"], [0.7777777777777778, \"#fb9f3a\"], [0.8888888888888888, \"#fdca26\"], [1.0, \"#f0f921\"]], \"type\": \"heatmapgl\"}], \"histogram\": [{\"marker\": {\"colorbar\": {\"outlinewidth\": 0, \"ticks\": \"\"}}, \"type\": \"histogram\"}], \"histogram2d\": [{\"colorbar\": {\"outlinewidth\": 0, \"ticks\": \"\"}, \"colorscale\": [[0.0, \"#0d0887\"], [0.1111111111111111, \"#46039f\"], [0.2222222222222222, \"#7201a8\"], [0.3333333333333333, \"#9c179e\"], [0.4444444444444444, \"#bd3786\"], [0.5555555555555556, \"#d8576b\"], [0.6666666666666666, \"#ed7953\"], [0.7777777777777778, \"#fb9f3a\"], [0.8888888888888888, \"#fdca26\"], [1.0, \"#f0f921\"]], \"type\": \"histogram2d\"}], \"histogram2dcontour\": [{\"colorbar\": {\"outlinewidth\": 0, \"ticks\": \"\"}, \"colorscale\": [[0.0, \"#0d0887\"], [0.1111111111111111, \"#46039f\"], [0.2222222222222222, \"#7201a8\"], [0.3333333333333333, \"#9c179e\"], [0.4444444444444444, \"#bd3786\"], [0.5555555555555556, \"#d8576b\"], [0.6666666666666666, \"#ed7953\"], [0.7777777777777778, \"#fb9f3a\"], [0.8888888888888888, \"#fdca26\"], [1.0, \"#f0f921\"]], \"type\": \"histogram2dcontour\"}], \"mesh3d\": [{\"colorbar\": {\"outlinewidth\": 0, \"ticks\": \"\"}, \"type\": \"mesh3d\"}], \"parcoords\": [{\"line\": {\"colorbar\": {\"outlinewidth\": 0, \"ticks\": \"\"}}, \"type\": \"parcoords\"}], \"pie\": [{\"automargin\": true, \"type\": \"pie\"}], \"scatter\": [{\"marker\": {\"colorbar\": {\"outlinewidth\": 0, \"ticks\": \"\"}}, \"type\": \"scatter\"}], \"scatter3d\": [{\"line\": {\"colorbar\": {\"outlinewidth\": 0, \"ticks\": \"\"}}, \"marker\": {\"colorbar\": {\"outlinewidth\": 0, \"ticks\": \"\"}}, \"type\": \"scatter3d\"}], \"scattercarpet\": [{\"marker\": {\"colorbar\": {\"outlinewidth\": 0, \"ticks\": \"\"}}, \"type\": \"scattercarpet\"}], \"scattergeo\": [{\"marker\": {\"colorbar\": {\"outlinewidth\": 0, \"ticks\": \"\"}}, \"type\": \"scattergeo\"}], \"scattergl\": [{\"marker\": {\"colorbar\": {\"outlinewidth\": 0, \"ticks\": \"\"}}, \"type\": \"scattergl\"}], \"scattermapbox\": [{\"marker\": {\"colorbar\": {\"outlinewidth\": 0, \"ticks\": \"\"}}, \"type\": \"scattermapbox\"}], \"scatterpolar\": [{\"marker\": {\"colorbar\": {\"outlinewidth\": 0, \"ticks\": \"\"}}, \"type\": \"scatterpolar\"}], \"scatterpolargl\": [{\"marker\": {\"colorbar\": {\"outlinewidth\": 0, \"ticks\": \"\"}}, \"type\": \"scatterpolargl\"}], \"scatterternary\": [{\"marker\": {\"colorbar\": {\"outlinewidth\": 0, \"ticks\": \"\"}}, \"type\": \"scatterternary\"}], \"surface\": [{\"colorbar\": {\"outlinewidth\": 0, \"ticks\": \"\"}, \"colorscale\": [[0.0, \"#0d0887\"], [0.1111111111111111, \"#46039f\"], [0.2222222222222222, \"#7201a8\"], [0.3333333333333333, \"#9c179e\"], [0.4444444444444444, \"#bd3786\"], [0.5555555555555556, \"#d8576b\"], [0.6666666666666666, \"#ed7953\"], [0.7777777777777778, \"#fb9f3a\"], [0.8888888888888888, \"#fdca26\"], [1.0, \"#f0f921\"]], \"type\": \"surface\"}], \"table\": [{\"cells\": {\"fill\": {\"color\": \"#EBF0F8\"}, \"line\": {\"color\": \"white\"}}, \"header\": {\"fill\": {\"color\": \"#C8D4E3\"}, \"line\": {\"color\": \"white\"}}, \"type\": \"table\"}]}, \"layout\": {\"annotationdefaults\": {\"arrowcolor\": \"#2a3f5f\", \"arrowhead\": 0, \"arrowwidth\": 1}, \"coloraxis\": {\"colorbar\": {\"outlinewidth\": 0, \"ticks\": \"\"}}, \"colorscale\": {\"diverging\": [[0, \"#8e0152\"], [0.1, \"#c51b7d\"], [0.2, \"#de77ae\"], [0.3, \"#f1b6da\"], [0.4, \"#fde0ef\"], [0.5, \"#f7f7f7\"], [0.6, \"#e6f5d0\"], [0.7, \"#b8e186\"], [0.8, \"#7fbc41\"], [0.9, \"#4d9221\"], [1, \"#276419\"]], \"sequential\": [[0.0, \"#0d0887\"], [0.1111111111111111, \"#46039f\"], [0.2222222222222222, \"#7201a8\"], [0.3333333333333333, \"#9c179e\"], [0.4444444444444444, \"#bd3786\"], [0.5555555555555556, \"#d8576b\"], [0.6666666666666666, \"#ed7953\"], [0.7777777777777778, \"#fb9f3a\"], [0.8888888888888888, \"#fdca26\"], [1.0, \"#f0f921\"]], \"sequentialminus\": [[0.0, \"#0d0887\"], [0.1111111111111111, \"#46039f\"], [0.2222222222222222, \"#7201a8\"], [0.3333333333333333, \"#9c179e\"], [0.4444444444444444, \"#bd3786\"], [0.5555555555555556, \"#d8576b\"], [0.6666666666666666, \"#ed7953\"], [0.7777777777777778, \"#fb9f3a\"], [0.8888888888888888, \"#fdca26\"], [1.0, \"#f0f921\"]]}, \"colorway\": [\"#636efa\", \"#EF553B\", \"#00cc96\", \"#ab63fa\", \"#FFA15A\", \"#19d3f3\", \"#FF6692\", \"#B6E880\", \"#FF97FF\", \"#FECB52\"], \"font\": {\"color\": \"#2a3f5f\"}, \"geo\": {\"bgcolor\": \"white\", \"lakecolor\": \"white\", \"landcolor\": \"#E5ECF6\", \"showlakes\": true, \"showland\": true, \"subunitcolor\": \"white\"}, \"hoverlabel\": {\"align\": \"left\"}, \"hovermode\": \"closest\", \"mapbox\": {\"style\": \"light\"}, \"paper_bgcolor\": \"white\", \"plot_bgcolor\": \"#E5ECF6\", \"polar\": {\"angularaxis\": {\"gridcolor\": \"white\", \"linecolor\": \"white\", \"ticks\": \"\"}, \"bgcolor\": \"#E5ECF6\", \"radialaxis\": {\"gridcolor\": \"white\", \"linecolor\": \"white\", \"ticks\": \"\"}}, \"scene\": {\"xaxis\": {\"backgroundcolor\": \"#E5ECF6\", \"gridcolor\": \"white\", \"gridwidth\": 2, \"linecolor\": \"white\", \"showbackground\": true, \"ticks\": \"\", \"zerolinecolor\": \"white\"}, \"yaxis\": {\"backgroundcolor\": \"#E5ECF6\", \"gridcolor\": \"white\", \"gridwidth\": 2, \"linecolor\": \"white\", \"showbackground\": true, \"ticks\": \"\", \"zerolinecolor\": \"white\"}, \"zaxis\": {\"backgroundcolor\": \"#E5ECF6\", \"gridcolor\": \"white\", \"gridwidth\": 2, \"linecolor\": \"white\", \"showbackground\": true, \"ticks\": \"\", \"zerolinecolor\": \"white\"}}, \"shapedefaults\": {\"line\": {\"color\": \"#2a3f5f\"}}, \"ternary\": {\"aaxis\": {\"gridcolor\": \"white\", \"linecolor\": \"white\", \"ticks\": \"\"}, \"baxis\": {\"gridcolor\": \"white\", \"linecolor\": \"white\", \"ticks\": \"\"}, \"bgcolor\": \"#E5ECF6\", \"caxis\": {\"gridcolor\": \"white\", \"linecolor\": \"white\", \"ticks\": \"\"}}, \"title\": {\"x\": 0.05}, \"xaxis\": {\"automargin\": true, \"gridcolor\": \"white\", \"linecolor\": \"white\", \"ticks\": \"\", \"title\": {\"standoff\": 15}, \"zerolinecolor\": \"white\", \"zerolinewidth\": 2}, \"yaxis\": {\"automargin\": true, \"gridcolor\": \"white\", \"linecolor\": \"white\", \"ticks\": \"\", \"title\": {\"standoff\": 15}, \"zerolinecolor\": \"white\", \"zerolinewidth\": 2}}}},\n",
       "                        {\"responsive\": true}\n",
       "                    ).then(function(){\n",
       "                            \n",
       "var gd = document.getElementById('bffb3046-a1b6-4c37-9556-50d9c999a1d2');\n",
       "var x = new MutationObserver(function (mutations, observer) {{\n",
       "        var display = window.getComputedStyle(gd).display;\n",
       "        if (!display || display === 'none') {{\n",
       "            console.log([gd, 'removed!']);\n",
       "            Plotly.purge(gd);\n",
       "            observer.disconnect();\n",
       "        }}\n",
       "}});\n",
       "\n",
       "// Listen for the removal of the full notebook cells\n",
       "var notebookContainer = gd.closest('#notebook-container');\n",
       "if (notebookContainer) {{\n",
       "    x.observe(notebookContainer, {childList: true});\n",
       "}}\n",
       "\n",
       "// Listen for the clearing of the current output cell\n",
       "var outputEl = gd.closest('.output');\n",
       "if (outputEl) {{\n",
       "    x.observe(outputEl, {childList: true});\n",
       "}}\n",
       "\n",
       "                        })\n",
       "                };\n",
       "                });\n",
       "            </script>\n",
       "        </div>"
      ]
     },
     "metadata": {},
     "output_type": "display_data"
    }
   ],
   "source": [
    "trace1 = go.Indicator(\n",
    "    mode = \"number+delta\",\n",
    "    value = dfConfirmedGlobal.sum()[-1],\n",
    "    delta = {'reference': dfConfirmedGlobal.sum()[-2], \n",
    "             'increasing':{'color':'red'},\n",
    "             'decreasing':{'color':'green'}},\n",
    "    title = {'text': \"Worldwide Confirmed Cases\"},\n",
    "    domain = {'x': [0, 0.5], 'y': [0.6, 1]})\n",
    "\n",
    "trace2 = go.Indicator(\n",
    "    mode = \"number+delta\",\n",
    "    value = dfConfirmedUSStates.sum()[-1],\n",
    "    delta = {'reference': dfConfirmedUSStates.sum()[-2], \n",
    "             'increasing':{'color':'red'},\n",
    "             'decreasing':{'color':'green'}},\n",
    "    title = {'text': \"US Confirmed Cases\"},\n",
    "    domain = {'x': [0.5, 1], 'y': [0.6, 1]})\n",
    "\n",
    "\n",
    "trace5 = go.Indicator(\n",
    "    mode = \"number+delta\",\n",
    "    value = dfDeathsGlobal.sum()[-1],\n",
    "    delta = {'reference': dfDeathsGlobal.sum()[-2], \n",
    "             'increasing':{'color':'red'},\n",
    "             'decreasing':{'color':'green'}},\n",
    "    title = {'text': \"Worldwide Deaths\"},\n",
    "    domain = {'x': [0, 0.5], 'y': [0, 0.4]})\n",
    "\n",
    "trace6 = go.Indicator(\n",
    "    mode = \"number+delta\",\n",
    "    value = dfDeathsUSStates.sum()[-1],\n",
    "    delta = {'reference': dfDeathsUSStates.sum()[-2], \n",
    "             'increasing':{'color':'red'},\n",
    "             'decreasing':{'color':'green'}},\n",
    "    title = {'text': \"US Deaths\"},\n",
    "    domain = {'x': [0.5, 1], 'y': [0, 0.4]})\n",
    "\n",
    "data = [trace1, trace2, trace5, trace6]\n",
    "py.iplot(dict(data=data))"
   ]
  },
  {
   "cell_type": "markdown",
   "metadata": {},
   "source": [
    "# Key Facts - Local"
   ]
  },
  {
   "cell_type": "code",
   "execution_count": 48,
   "metadata": {
    "ExecuteTime": {
     "end_time": "2020-04-02T07:10:27.641787Z",
     "start_time": "2020-04-02T07:10:27.106777Z"
    }
   },
   "outputs": [
    {
     "data": {
      "application/vnd.plotly.v1+json": {
       "config": {
        "linkText": "Export to plot.ly",
        "plotlyServerURL": "https://plot.ly",
        "showLink": false
       },
       "data": [
        {
         "delta": {
          "decreasing": {
           "color": "green"
          },
          "increasing": {
           "color": "red"
          },
          "reference": 5432
         },
         "domain": {
          "x": [
           0,
           0.5
          ],
          "y": [
           0.6,
           1
          ]
         },
         "mode": "number+delta",
         "title": {
          "text": "Washington State Confirmed Cases"
         },
         "type": "indicator",
         "value": 5608
        },
        {
         "delta": {
          "decreasing": {
           "color": "green"
          },
          "increasing": {
           "color": "red"
          },
          "reference": 2330
         },
         "domain": {
          "x": [
           0.5,
           1
          ],
          "y": [
           0.6,
           1
          ]
         },
         "mode": "number+delta",
         "title": {
          "text": "King County Confirmed Cases"
         },
         "type": "indicator",
         "value": 2330
        },
        {
         "delta": {
          "decreasing": {
           "color": "green"
          },
          "increasing": {
           "color": "red"
          },
          "reference": 225
         },
         "domain": {
          "x": [
           0,
           0.5
          ],
          "y": [
           0,
           0.4
          ]
         },
         "mode": "number+delta",
         "title": {
          "text": "Washington State Deaths"
         },
         "type": "indicator",
         "value": 234
        },
        {
         "delta": {
          "decreasing": {
           "color": "green"
          },
          "increasing": {
           "color": "red"
          },
          "reference": 150
         },
         "domain": {
          "x": [
           0.5,
           1
          ],
          "y": [
           0,
           0.4
          ]
         },
         "mode": "number+delta",
         "title": {
          "text": "King County Deaths"
         },
         "type": "indicator",
         "value": 150
        }
       ],
       "layout": {
        "template": {
         "data": {
          "bar": [
           {
            "error_x": {
             "color": "#2a3f5f"
            },
            "error_y": {
             "color": "#2a3f5f"
            },
            "marker": {
             "line": {
              "color": "#E5ECF6",
              "width": 0.5
             }
            },
            "type": "bar"
           }
          ],
          "barpolar": [
           {
            "marker": {
             "line": {
              "color": "#E5ECF6",
              "width": 0.5
             }
            },
            "type": "barpolar"
           }
          ],
          "carpet": [
           {
            "aaxis": {
             "endlinecolor": "#2a3f5f",
             "gridcolor": "white",
             "linecolor": "white",
             "minorgridcolor": "white",
             "startlinecolor": "#2a3f5f"
            },
            "baxis": {
             "endlinecolor": "#2a3f5f",
             "gridcolor": "white",
             "linecolor": "white",
             "minorgridcolor": "white",
             "startlinecolor": "#2a3f5f"
            },
            "type": "carpet"
           }
          ],
          "choropleth": [
           {
            "colorbar": {
             "outlinewidth": 0,
             "ticks": ""
            },
            "type": "choropleth"
           }
          ],
          "contour": [
           {
            "colorbar": {
             "outlinewidth": 0,
             "ticks": ""
            },
            "colorscale": [
             [
              0,
              "#0d0887"
             ],
             [
              0.1111111111111111,
              "#46039f"
             ],
             [
              0.2222222222222222,
              "#7201a8"
             ],
             [
              0.3333333333333333,
              "#9c179e"
             ],
             [
              0.4444444444444444,
              "#bd3786"
             ],
             [
              0.5555555555555556,
              "#d8576b"
             ],
             [
              0.6666666666666666,
              "#ed7953"
             ],
             [
              0.7777777777777778,
              "#fb9f3a"
             ],
             [
              0.8888888888888888,
              "#fdca26"
             ],
             [
              1,
              "#f0f921"
             ]
            ],
            "type": "contour"
           }
          ],
          "contourcarpet": [
           {
            "colorbar": {
             "outlinewidth": 0,
             "ticks": ""
            },
            "type": "contourcarpet"
           }
          ],
          "heatmap": [
           {
            "colorbar": {
             "outlinewidth": 0,
             "ticks": ""
            },
            "colorscale": [
             [
              0,
              "#0d0887"
             ],
             [
              0.1111111111111111,
              "#46039f"
             ],
             [
              0.2222222222222222,
              "#7201a8"
             ],
             [
              0.3333333333333333,
              "#9c179e"
             ],
             [
              0.4444444444444444,
              "#bd3786"
             ],
             [
              0.5555555555555556,
              "#d8576b"
             ],
             [
              0.6666666666666666,
              "#ed7953"
             ],
             [
              0.7777777777777778,
              "#fb9f3a"
             ],
             [
              0.8888888888888888,
              "#fdca26"
             ],
             [
              1,
              "#f0f921"
             ]
            ],
            "type": "heatmap"
           }
          ],
          "heatmapgl": [
           {
            "colorbar": {
             "outlinewidth": 0,
             "ticks": ""
            },
            "colorscale": [
             [
              0,
              "#0d0887"
             ],
             [
              0.1111111111111111,
              "#46039f"
             ],
             [
              0.2222222222222222,
              "#7201a8"
             ],
             [
              0.3333333333333333,
              "#9c179e"
             ],
             [
              0.4444444444444444,
              "#bd3786"
             ],
             [
              0.5555555555555556,
              "#d8576b"
             ],
             [
              0.6666666666666666,
              "#ed7953"
             ],
             [
              0.7777777777777778,
              "#fb9f3a"
             ],
             [
              0.8888888888888888,
              "#fdca26"
             ],
             [
              1,
              "#f0f921"
             ]
            ],
            "type": "heatmapgl"
           }
          ],
          "histogram": [
           {
            "marker": {
             "colorbar": {
              "outlinewidth": 0,
              "ticks": ""
             }
            },
            "type": "histogram"
           }
          ],
          "histogram2d": [
           {
            "colorbar": {
             "outlinewidth": 0,
             "ticks": ""
            },
            "colorscale": [
             [
              0,
              "#0d0887"
             ],
             [
              0.1111111111111111,
              "#46039f"
             ],
             [
              0.2222222222222222,
              "#7201a8"
             ],
             [
              0.3333333333333333,
              "#9c179e"
             ],
             [
              0.4444444444444444,
              "#bd3786"
             ],
             [
              0.5555555555555556,
              "#d8576b"
             ],
             [
              0.6666666666666666,
              "#ed7953"
             ],
             [
              0.7777777777777778,
              "#fb9f3a"
             ],
             [
              0.8888888888888888,
              "#fdca26"
             ],
             [
              1,
              "#f0f921"
             ]
            ],
            "type": "histogram2d"
           }
          ],
          "histogram2dcontour": [
           {
            "colorbar": {
             "outlinewidth": 0,
             "ticks": ""
            },
            "colorscale": [
             [
              0,
              "#0d0887"
             ],
             [
              0.1111111111111111,
              "#46039f"
             ],
             [
              0.2222222222222222,
              "#7201a8"
             ],
             [
              0.3333333333333333,
              "#9c179e"
             ],
             [
              0.4444444444444444,
              "#bd3786"
             ],
             [
              0.5555555555555556,
              "#d8576b"
             ],
             [
              0.6666666666666666,
              "#ed7953"
             ],
             [
              0.7777777777777778,
              "#fb9f3a"
             ],
             [
              0.8888888888888888,
              "#fdca26"
             ],
             [
              1,
              "#f0f921"
             ]
            ],
            "type": "histogram2dcontour"
           }
          ],
          "mesh3d": [
           {
            "colorbar": {
             "outlinewidth": 0,
             "ticks": ""
            },
            "type": "mesh3d"
           }
          ],
          "parcoords": [
           {
            "line": {
             "colorbar": {
              "outlinewidth": 0,
              "ticks": ""
             }
            },
            "type": "parcoords"
           }
          ],
          "pie": [
           {
            "automargin": true,
            "type": "pie"
           }
          ],
          "scatter": [
           {
            "marker": {
             "colorbar": {
              "outlinewidth": 0,
              "ticks": ""
             }
            },
            "type": "scatter"
           }
          ],
          "scatter3d": [
           {
            "line": {
             "colorbar": {
              "outlinewidth": 0,
              "ticks": ""
             }
            },
            "marker": {
             "colorbar": {
              "outlinewidth": 0,
              "ticks": ""
             }
            },
            "type": "scatter3d"
           }
          ],
          "scattercarpet": [
           {
            "marker": {
             "colorbar": {
              "outlinewidth": 0,
              "ticks": ""
             }
            },
            "type": "scattercarpet"
           }
          ],
          "scattergeo": [
           {
            "marker": {
             "colorbar": {
              "outlinewidth": 0,
              "ticks": ""
             }
            },
            "type": "scattergeo"
           }
          ],
          "scattergl": [
           {
            "marker": {
             "colorbar": {
              "outlinewidth": 0,
              "ticks": ""
             }
            },
            "type": "scattergl"
           }
          ],
          "scattermapbox": [
           {
            "marker": {
             "colorbar": {
              "outlinewidth": 0,
              "ticks": ""
             }
            },
            "type": "scattermapbox"
           }
          ],
          "scatterpolar": [
           {
            "marker": {
             "colorbar": {
              "outlinewidth": 0,
              "ticks": ""
             }
            },
            "type": "scatterpolar"
           }
          ],
          "scatterpolargl": [
           {
            "marker": {
             "colorbar": {
              "outlinewidth": 0,
              "ticks": ""
             }
            },
            "type": "scatterpolargl"
           }
          ],
          "scatterternary": [
           {
            "marker": {
             "colorbar": {
              "outlinewidth": 0,
              "ticks": ""
             }
            },
            "type": "scatterternary"
           }
          ],
          "surface": [
           {
            "colorbar": {
             "outlinewidth": 0,
             "ticks": ""
            },
            "colorscale": [
             [
              0,
              "#0d0887"
             ],
             [
              0.1111111111111111,
              "#46039f"
             ],
             [
              0.2222222222222222,
              "#7201a8"
             ],
             [
              0.3333333333333333,
              "#9c179e"
             ],
             [
              0.4444444444444444,
              "#bd3786"
             ],
             [
              0.5555555555555556,
              "#d8576b"
             ],
             [
              0.6666666666666666,
              "#ed7953"
             ],
             [
              0.7777777777777778,
              "#fb9f3a"
             ],
             [
              0.8888888888888888,
              "#fdca26"
             ],
             [
              1,
              "#f0f921"
             ]
            ],
            "type": "surface"
           }
          ],
          "table": [
           {
            "cells": {
             "fill": {
              "color": "#EBF0F8"
             },
             "line": {
              "color": "white"
             }
            },
            "header": {
             "fill": {
              "color": "#C8D4E3"
             },
             "line": {
              "color": "white"
             }
            },
            "type": "table"
           }
          ]
         },
         "layout": {
          "annotationdefaults": {
           "arrowcolor": "#2a3f5f",
           "arrowhead": 0,
           "arrowwidth": 1
          },
          "coloraxis": {
           "colorbar": {
            "outlinewidth": 0,
            "ticks": ""
           }
          },
          "colorscale": {
           "diverging": [
            [
             0,
             "#8e0152"
            ],
            [
             0.1,
             "#c51b7d"
            ],
            [
             0.2,
             "#de77ae"
            ],
            [
             0.3,
             "#f1b6da"
            ],
            [
             0.4,
             "#fde0ef"
            ],
            [
             0.5,
             "#f7f7f7"
            ],
            [
             0.6,
             "#e6f5d0"
            ],
            [
             0.7,
             "#b8e186"
            ],
            [
             0.8,
             "#7fbc41"
            ],
            [
             0.9,
             "#4d9221"
            ],
            [
             1,
             "#276419"
            ]
           ],
           "sequential": [
            [
             0,
             "#0d0887"
            ],
            [
             0.1111111111111111,
             "#46039f"
            ],
            [
             0.2222222222222222,
             "#7201a8"
            ],
            [
             0.3333333333333333,
             "#9c179e"
            ],
            [
             0.4444444444444444,
             "#bd3786"
            ],
            [
             0.5555555555555556,
             "#d8576b"
            ],
            [
             0.6666666666666666,
             "#ed7953"
            ],
            [
             0.7777777777777778,
             "#fb9f3a"
            ],
            [
             0.8888888888888888,
             "#fdca26"
            ],
            [
             1,
             "#f0f921"
            ]
           ],
           "sequentialminus": [
            [
             0,
             "#0d0887"
            ],
            [
             0.1111111111111111,
             "#46039f"
            ],
            [
             0.2222222222222222,
             "#7201a8"
            ],
            [
             0.3333333333333333,
             "#9c179e"
            ],
            [
             0.4444444444444444,
             "#bd3786"
            ],
            [
             0.5555555555555556,
             "#d8576b"
            ],
            [
             0.6666666666666666,
             "#ed7953"
            ],
            [
             0.7777777777777778,
             "#fb9f3a"
            ],
            [
             0.8888888888888888,
             "#fdca26"
            ],
            [
             1,
             "#f0f921"
            ]
           ]
          },
          "colorway": [
           "#636efa",
           "#EF553B",
           "#00cc96",
           "#ab63fa",
           "#FFA15A",
           "#19d3f3",
           "#FF6692",
           "#B6E880",
           "#FF97FF",
           "#FECB52"
          ],
          "font": {
           "color": "#2a3f5f"
          },
          "geo": {
           "bgcolor": "white",
           "lakecolor": "white",
           "landcolor": "#E5ECF6",
           "showlakes": true,
           "showland": true,
           "subunitcolor": "white"
          },
          "hoverlabel": {
           "align": "left"
          },
          "hovermode": "closest",
          "mapbox": {
           "style": "light"
          },
          "paper_bgcolor": "white",
          "plot_bgcolor": "#E5ECF6",
          "polar": {
           "angularaxis": {
            "gridcolor": "white",
            "linecolor": "white",
            "ticks": ""
           },
           "bgcolor": "#E5ECF6",
           "radialaxis": {
            "gridcolor": "white",
            "linecolor": "white",
            "ticks": ""
           }
          },
          "scene": {
           "xaxis": {
            "backgroundcolor": "#E5ECF6",
            "gridcolor": "white",
            "gridwidth": 2,
            "linecolor": "white",
            "showbackground": true,
            "ticks": "",
            "zerolinecolor": "white"
           },
           "yaxis": {
            "backgroundcolor": "#E5ECF6",
            "gridcolor": "white",
            "gridwidth": 2,
            "linecolor": "white",
            "showbackground": true,
            "ticks": "",
            "zerolinecolor": "white"
           },
           "zaxis": {
            "backgroundcolor": "#E5ECF6",
            "gridcolor": "white",
            "gridwidth": 2,
            "linecolor": "white",
            "showbackground": true,
            "ticks": "",
            "zerolinecolor": "white"
           }
          },
          "shapedefaults": {
           "line": {
            "color": "#2a3f5f"
           }
          },
          "ternary": {
           "aaxis": {
            "gridcolor": "white",
            "linecolor": "white",
            "ticks": ""
           },
           "baxis": {
            "gridcolor": "white",
            "linecolor": "white",
            "ticks": ""
           },
           "bgcolor": "#E5ECF6",
           "caxis": {
            "gridcolor": "white",
            "linecolor": "white",
            "ticks": ""
           }
          },
          "title": {
           "x": 0.05
          },
          "xaxis": {
           "automargin": true,
           "gridcolor": "white",
           "linecolor": "white",
           "ticks": "",
           "title": {
            "standoff": 15
           },
           "zerolinecolor": "white",
           "zerolinewidth": 2
          },
          "yaxis": {
           "automargin": true,
           "gridcolor": "white",
           "linecolor": "white",
           "ticks": "",
           "title": {
            "standoff": 15
           },
           "zerolinecolor": "white",
           "zerolinewidth": 2
          }
         }
        }
       }
      },
      "text/html": [
       "<div>\n",
       "        \n",
       "        \n",
       "            <div id=\"3fa7de27-a013-4cfb-b694-66630202acf4\" class=\"plotly-graph-div\" style=\"height:525px; width:100%;\"></div>\n",
       "            <script type=\"text/javascript\">\n",
       "                require([\"plotly\"], function(Plotly) {\n",
       "                    window.PLOTLYENV=window.PLOTLYENV || {};\n",
       "                    \n",
       "                if (document.getElementById(\"3fa7de27-a013-4cfb-b694-66630202acf4\")) {\n",
       "                    Plotly.newPlot(\n",
       "                        '3fa7de27-a013-4cfb-b694-66630202acf4',\n",
       "                        [{\"delta\": {\"decreasing\": {\"color\": \"green\"}, \"increasing\": {\"color\": \"red\"}, \"reference\": 5432}, \"domain\": {\"x\": [0, 0.5], \"y\": [0.6, 1]}, \"mode\": \"number+delta\", \"title\": {\"text\": \"Washington State Confirmed Cases\"}, \"type\": \"indicator\", \"value\": 5608}, {\"delta\": {\"decreasing\": {\"color\": \"green\"}, \"increasing\": {\"color\": \"red\"}, \"reference\": 2330}, \"domain\": {\"x\": [0.5, 1], \"y\": [0.6, 1]}, \"mode\": \"number+delta\", \"title\": {\"text\": \"King County Confirmed Cases\"}, \"type\": \"indicator\", \"value\": 2330}, {\"delta\": {\"decreasing\": {\"color\": \"green\"}, \"increasing\": {\"color\": \"red\"}, \"reference\": 225}, \"domain\": {\"x\": [0, 0.5], \"y\": [0, 0.4]}, \"mode\": \"number+delta\", \"title\": {\"text\": \"Washington State Deaths\"}, \"type\": \"indicator\", \"value\": 234}, {\"delta\": {\"decreasing\": {\"color\": \"green\"}, \"increasing\": {\"color\": \"red\"}, \"reference\": 150}, \"domain\": {\"x\": [0.5, 1], \"y\": [0, 0.4]}, \"mode\": \"number+delta\", \"title\": {\"text\": \"King County Deaths\"}, \"type\": \"indicator\", \"value\": 150}],\n",
       "                        {\"template\": {\"data\": {\"bar\": [{\"error_x\": {\"color\": \"#2a3f5f\"}, \"error_y\": {\"color\": \"#2a3f5f\"}, \"marker\": {\"line\": {\"color\": \"#E5ECF6\", \"width\": 0.5}}, \"type\": \"bar\"}], \"barpolar\": [{\"marker\": {\"line\": {\"color\": \"#E5ECF6\", \"width\": 0.5}}, \"type\": \"barpolar\"}], \"carpet\": [{\"aaxis\": {\"endlinecolor\": \"#2a3f5f\", \"gridcolor\": \"white\", \"linecolor\": \"white\", \"minorgridcolor\": \"white\", \"startlinecolor\": \"#2a3f5f\"}, \"baxis\": {\"endlinecolor\": \"#2a3f5f\", \"gridcolor\": \"white\", \"linecolor\": \"white\", \"minorgridcolor\": \"white\", \"startlinecolor\": \"#2a3f5f\"}, \"type\": \"carpet\"}], \"choropleth\": [{\"colorbar\": {\"outlinewidth\": 0, \"ticks\": \"\"}, \"type\": \"choropleth\"}], \"contour\": [{\"colorbar\": {\"outlinewidth\": 0, \"ticks\": \"\"}, \"colorscale\": [[0.0, \"#0d0887\"], [0.1111111111111111, \"#46039f\"], [0.2222222222222222, \"#7201a8\"], [0.3333333333333333, \"#9c179e\"], [0.4444444444444444, \"#bd3786\"], [0.5555555555555556, \"#d8576b\"], [0.6666666666666666, \"#ed7953\"], [0.7777777777777778, \"#fb9f3a\"], [0.8888888888888888, \"#fdca26\"], [1.0, \"#f0f921\"]], \"type\": \"contour\"}], \"contourcarpet\": [{\"colorbar\": {\"outlinewidth\": 0, \"ticks\": \"\"}, \"type\": \"contourcarpet\"}], \"heatmap\": [{\"colorbar\": {\"outlinewidth\": 0, \"ticks\": \"\"}, \"colorscale\": [[0.0, \"#0d0887\"], [0.1111111111111111, \"#46039f\"], [0.2222222222222222, \"#7201a8\"], [0.3333333333333333, \"#9c179e\"], [0.4444444444444444, \"#bd3786\"], [0.5555555555555556, \"#d8576b\"], [0.6666666666666666, \"#ed7953\"], [0.7777777777777778, \"#fb9f3a\"], [0.8888888888888888, \"#fdca26\"], [1.0, \"#f0f921\"]], \"type\": \"heatmap\"}], \"heatmapgl\": [{\"colorbar\": {\"outlinewidth\": 0, \"ticks\": \"\"}, \"colorscale\": [[0.0, \"#0d0887\"], [0.1111111111111111, \"#46039f\"], [0.2222222222222222, \"#7201a8\"], [0.3333333333333333, \"#9c179e\"], [0.4444444444444444, \"#bd3786\"], [0.5555555555555556, \"#d8576b\"], [0.6666666666666666, \"#ed7953\"], [0.7777777777777778, \"#fb9f3a\"], [0.8888888888888888, \"#fdca26\"], [1.0, \"#f0f921\"]], \"type\": \"heatmapgl\"}], \"histogram\": [{\"marker\": {\"colorbar\": {\"outlinewidth\": 0, \"ticks\": \"\"}}, \"type\": \"histogram\"}], \"histogram2d\": [{\"colorbar\": {\"outlinewidth\": 0, \"ticks\": \"\"}, \"colorscale\": [[0.0, \"#0d0887\"], [0.1111111111111111, \"#46039f\"], [0.2222222222222222, \"#7201a8\"], [0.3333333333333333, \"#9c179e\"], [0.4444444444444444, \"#bd3786\"], [0.5555555555555556, \"#d8576b\"], [0.6666666666666666, \"#ed7953\"], [0.7777777777777778, \"#fb9f3a\"], [0.8888888888888888, \"#fdca26\"], [1.0, \"#f0f921\"]], \"type\": \"histogram2d\"}], \"histogram2dcontour\": [{\"colorbar\": {\"outlinewidth\": 0, \"ticks\": \"\"}, \"colorscale\": [[0.0, \"#0d0887\"], [0.1111111111111111, \"#46039f\"], [0.2222222222222222, \"#7201a8\"], [0.3333333333333333, \"#9c179e\"], [0.4444444444444444, \"#bd3786\"], [0.5555555555555556, \"#d8576b\"], [0.6666666666666666, \"#ed7953\"], [0.7777777777777778, \"#fb9f3a\"], [0.8888888888888888, \"#fdca26\"], [1.0, \"#f0f921\"]], \"type\": \"histogram2dcontour\"}], \"mesh3d\": [{\"colorbar\": {\"outlinewidth\": 0, \"ticks\": \"\"}, \"type\": \"mesh3d\"}], \"parcoords\": [{\"line\": {\"colorbar\": {\"outlinewidth\": 0, \"ticks\": \"\"}}, \"type\": \"parcoords\"}], \"pie\": [{\"automargin\": true, \"type\": \"pie\"}], \"scatter\": [{\"marker\": {\"colorbar\": {\"outlinewidth\": 0, \"ticks\": \"\"}}, \"type\": \"scatter\"}], \"scatter3d\": [{\"line\": {\"colorbar\": {\"outlinewidth\": 0, \"ticks\": \"\"}}, \"marker\": {\"colorbar\": {\"outlinewidth\": 0, \"ticks\": \"\"}}, \"type\": \"scatter3d\"}], \"scattercarpet\": [{\"marker\": {\"colorbar\": {\"outlinewidth\": 0, \"ticks\": \"\"}}, \"type\": \"scattercarpet\"}], \"scattergeo\": [{\"marker\": {\"colorbar\": {\"outlinewidth\": 0, \"ticks\": \"\"}}, \"type\": \"scattergeo\"}], \"scattergl\": [{\"marker\": {\"colorbar\": {\"outlinewidth\": 0, \"ticks\": \"\"}}, \"type\": \"scattergl\"}], \"scattermapbox\": [{\"marker\": {\"colorbar\": {\"outlinewidth\": 0, \"ticks\": \"\"}}, \"type\": \"scattermapbox\"}], \"scatterpolar\": [{\"marker\": {\"colorbar\": {\"outlinewidth\": 0, \"ticks\": \"\"}}, \"type\": \"scatterpolar\"}], \"scatterpolargl\": [{\"marker\": {\"colorbar\": {\"outlinewidth\": 0, \"ticks\": \"\"}}, \"type\": \"scatterpolargl\"}], \"scatterternary\": [{\"marker\": {\"colorbar\": {\"outlinewidth\": 0, \"ticks\": \"\"}}, \"type\": \"scatterternary\"}], \"surface\": [{\"colorbar\": {\"outlinewidth\": 0, \"ticks\": \"\"}, \"colorscale\": [[0.0, \"#0d0887\"], [0.1111111111111111, \"#46039f\"], [0.2222222222222222, \"#7201a8\"], [0.3333333333333333, \"#9c179e\"], [0.4444444444444444, \"#bd3786\"], [0.5555555555555556, \"#d8576b\"], [0.6666666666666666, \"#ed7953\"], [0.7777777777777778, \"#fb9f3a\"], [0.8888888888888888, \"#fdca26\"], [1.0, \"#f0f921\"]], \"type\": \"surface\"}], \"table\": [{\"cells\": {\"fill\": {\"color\": \"#EBF0F8\"}, \"line\": {\"color\": \"white\"}}, \"header\": {\"fill\": {\"color\": \"#C8D4E3\"}, \"line\": {\"color\": \"white\"}}, \"type\": \"table\"}]}, \"layout\": {\"annotationdefaults\": {\"arrowcolor\": \"#2a3f5f\", \"arrowhead\": 0, \"arrowwidth\": 1}, \"coloraxis\": {\"colorbar\": {\"outlinewidth\": 0, \"ticks\": \"\"}}, \"colorscale\": {\"diverging\": [[0, \"#8e0152\"], [0.1, \"#c51b7d\"], [0.2, \"#de77ae\"], [0.3, \"#f1b6da\"], [0.4, \"#fde0ef\"], [0.5, \"#f7f7f7\"], [0.6, \"#e6f5d0\"], [0.7, \"#b8e186\"], [0.8, \"#7fbc41\"], [0.9, \"#4d9221\"], [1, \"#276419\"]], \"sequential\": [[0.0, \"#0d0887\"], [0.1111111111111111, \"#46039f\"], [0.2222222222222222, \"#7201a8\"], [0.3333333333333333, \"#9c179e\"], [0.4444444444444444, \"#bd3786\"], [0.5555555555555556, \"#d8576b\"], [0.6666666666666666, \"#ed7953\"], [0.7777777777777778, \"#fb9f3a\"], [0.8888888888888888, \"#fdca26\"], [1.0, \"#f0f921\"]], \"sequentialminus\": [[0.0, \"#0d0887\"], [0.1111111111111111, \"#46039f\"], [0.2222222222222222, \"#7201a8\"], [0.3333333333333333, \"#9c179e\"], [0.4444444444444444, \"#bd3786\"], [0.5555555555555556, \"#d8576b\"], [0.6666666666666666, \"#ed7953\"], [0.7777777777777778, \"#fb9f3a\"], [0.8888888888888888, \"#fdca26\"], [1.0, \"#f0f921\"]]}, \"colorway\": [\"#636efa\", \"#EF553B\", \"#00cc96\", \"#ab63fa\", \"#FFA15A\", \"#19d3f3\", \"#FF6692\", \"#B6E880\", \"#FF97FF\", \"#FECB52\"], \"font\": {\"color\": \"#2a3f5f\"}, \"geo\": {\"bgcolor\": \"white\", \"lakecolor\": \"white\", \"landcolor\": \"#E5ECF6\", \"showlakes\": true, \"showland\": true, \"subunitcolor\": \"white\"}, \"hoverlabel\": {\"align\": \"left\"}, \"hovermode\": \"closest\", \"mapbox\": {\"style\": \"light\"}, \"paper_bgcolor\": \"white\", \"plot_bgcolor\": \"#E5ECF6\", \"polar\": {\"angularaxis\": {\"gridcolor\": \"white\", \"linecolor\": \"white\", \"ticks\": \"\"}, \"bgcolor\": \"#E5ECF6\", \"radialaxis\": {\"gridcolor\": \"white\", \"linecolor\": \"white\", \"ticks\": \"\"}}, \"scene\": {\"xaxis\": {\"backgroundcolor\": \"#E5ECF6\", \"gridcolor\": \"white\", \"gridwidth\": 2, \"linecolor\": \"white\", \"showbackground\": true, \"ticks\": \"\", \"zerolinecolor\": \"white\"}, \"yaxis\": {\"backgroundcolor\": \"#E5ECF6\", \"gridcolor\": \"white\", \"gridwidth\": 2, \"linecolor\": \"white\", \"showbackground\": true, \"ticks\": \"\", \"zerolinecolor\": \"white\"}, \"zaxis\": {\"backgroundcolor\": \"#E5ECF6\", \"gridcolor\": \"white\", \"gridwidth\": 2, \"linecolor\": \"white\", \"showbackground\": true, \"ticks\": \"\", \"zerolinecolor\": \"white\"}}, \"shapedefaults\": {\"line\": {\"color\": \"#2a3f5f\"}}, \"ternary\": {\"aaxis\": {\"gridcolor\": \"white\", \"linecolor\": \"white\", \"ticks\": \"\"}, \"baxis\": {\"gridcolor\": \"white\", \"linecolor\": \"white\", \"ticks\": \"\"}, \"bgcolor\": \"#E5ECF6\", \"caxis\": {\"gridcolor\": \"white\", \"linecolor\": \"white\", \"ticks\": \"\"}}, \"title\": {\"x\": 0.05}, \"xaxis\": {\"automargin\": true, \"gridcolor\": \"white\", \"linecolor\": \"white\", \"ticks\": \"\", \"title\": {\"standoff\": 15}, \"zerolinecolor\": \"white\", \"zerolinewidth\": 2}, \"yaxis\": {\"automargin\": true, \"gridcolor\": \"white\", \"linecolor\": \"white\", \"ticks\": \"\", \"title\": {\"standoff\": 15}, \"zerolinecolor\": \"white\", \"zerolinewidth\": 2}}}},\n",
       "                        {\"responsive\": true}\n",
       "                    ).then(function(){\n",
       "                            \n",
       "var gd = document.getElementById('3fa7de27-a013-4cfb-b694-66630202acf4');\n",
       "var x = new MutationObserver(function (mutations, observer) {{\n",
       "        var display = window.getComputedStyle(gd).display;\n",
       "        if (!display || display === 'none') {{\n",
       "            console.log([gd, 'removed!']);\n",
       "            Plotly.purge(gd);\n",
       "            observer.disconnect();\n",
       "        }}\n",
       "}});\n",
       "\n",
       "// Listen for the removal of the full notebook cells\n",
       "var notebookContainer = gd.closest('#notebook-container');\n",
       "if (notebookContainer) {{\n",
       "    x.observe(notebookContainer, {childList: true});\n",
       "}}\n",
       "\n",
       "// Listen for the clearing of the current output cell\n",
       "var outputEl = gd.closest('.output');\n",
       "if (outputEl) {{\n",
       "    x.observe(outputEl, {childList: true});\n",
       "}}\n",
       "\n",
       "                        })\n",
       "                };\n",
       "                });\n",
       "            </script>\n",
       "        </div>"
      ]
     },
     "metadata": {},
     "output_type": "display_data"
    }
   ],
   "source": [
    "trace3 = go.Indicator(\n",
    "    mode = \"number+delta\",\n",
    "    value = dfConfirmedUSStates.loc['Washington'][-1],\n",
    "    delta = {'reference': dfConfirmedUSStates.loc['Washington'][-2], \n",
    "             'increasing':{'color':'red'},\n",
    "             'decreasing':{'color':'green'}},\n",
    "    title = {'text': \"WA Confirmed Cases\"},\n",
    "    domain = {'x': [0, 0.5], 'y': [0.6, 1]})\n",
    "\n",
    "trace4 = go.Indicator(\n",
    "    mode = \"number+delta\",\n",
    "    value = dfConfirmedUSCounties[dfConfirmedUSCounties.FIPS == 53033].iloc[0][-1],\n",
    "    delta = {'reference': dfConfirmedUSCounties[dfConfirmedUSCounties.FIPS == 53033].iloc[0][-2], \n",
    "             'increasing':{'color':'red'},\n",
    "             'decreasing':{'color':'green'}},\n",
    "    title = {'text': \"King County Confirmed Cases\"},\n",
    "    domain = {'x': [0.5, 1], 'y': [0.6, 1]})\n",
    "\n",
    "trace7 = go.Indicator(\n",
    "    mode = \"number+delta\",\n",
    "    value = dfDeathsUSStates.loc['Washington'][-1],\n",
    "    delta = {'reference': dfDeathsUSStates.loc['Washington'][-2], \n",
    "             'increasing':{'color':'red'},\n",
    "             'decreasing':{'color':'green'}},\n",
    "    title = {'text': \"WA Deaths\"},\n",
    "    domain = {'x': [0, 0.5], 'y': [0, 0.4]})\n",
    "\n",
    "trace8 = go.Indicator(\n",
    "    mode = \"number+delta\",\n",
    "    value = dfDeathsUSCounties[dfDeathsUSCounties.FIPS == 53033].iloc[0][-1],\n",
    "    delta = {'reference': dfDeathsUSCounties[dfDeathsUSCounties.FIPS == 53033].iloc[0][-2], \n",
    "             'increasing':{'color':'red'},\n",
    "             'decreasing':{'color':'green'}},\n",
    "    title = {'text': \"King County Deaths\"},\n",
    "    domain = {'x': [0.5, 1], 'y': [0, 0.4]})\n",
    "\n",
    "\n",
    "data = [trace3, trace4, trace7, trace8]\n",
    "py.iplot(dict(data=data))"
   ]
  },
  {
   "cell_type": "markdown",
   "metadata": {},
   "source": [
    "# Washington State - Aggregate Data"
   ]
  },
  {
   "cell_type": "code",
   "execution_count": 17,
   "metadata": {
    "ExecuteTime": {
     "end_time": "2020-04-02T06:13:53.152909Z",
     "start_time": "2020-04-02T06:13:51.710910Z"
    },
    "extensions": {
     "jupyter_dashboards": {
      "version": 1,
      "views": {
       "grid_default": {
        "col": 0,
        "height": 26,
        "hidden": false,
        "row": 0,
        "width": null
       },
       "report_default": {
        "hidden": false
       }
      }
     }
    }
   },
   "outputs": [
    {
     "data": {
      "application/vnd.plotly.v1+json": {
       "config": {
        "linkText": "Export to plot.ly",
        "plotlyServerURL": "https://plot.ly",
        "showLink": false
       },
       "data": [
        {
         "name": "Confirmed Cases",
         "type": "scatter",
         "x": [
          "3/13/20",
          "3/14/20",
          "3/15/20",
          "3/16/20",
          "3/17/20",
          "3/18/20",
          "3/19/20",
          "3/20/20",
          "3/21/20",
          "3/22/20",
          "3/23/20",
          "3/24/20",
          "3/25/20",
          "3/26/20",
          "3/27/20",
          "3/28/20",
          "3/29/20",
          "3/30/20",
          "3/31/20",
          "4/1/20"
         ],
         "y": [
          568,
          642,
          603,
          779,
          955,
          1022,
          1374,
          1524,
          1793,
          1997,
          2221,
          2328,
          2591,
          3207,
          3477,
          4030,
          4465,
          4923,
          5432,
          5608
         ]
        },
        {
         "name": "Deaths",
         "type": "scatter",
         "x": [
          "3/13/20",
          "3/14/20",
          "3/15/20",
          "3/16/20",
          "3/17/20",
          "3/18/20",
          "3/19/20",
          "3/20/20",
          "3/21/20",
          "3/22/20",
          "3/23/20",
          "3/24/20",
          "3/25/20",
          "3/26/20",
          "3/27/20",
          "3/28/20",
          "3/29/20",
          "3/30/20",
          "3/31/20",
          "4/1/20"
         ],
         "y": [
          37,
          39,
          40,
          48,
          55,
          67,
          73,
          83,
          94,
          97,
          109,
          116,
          133,
          150,
          157,
          188,
          198,
          205,
          225,
          234
         ]
        }
       ],
       "layout": {
        "template": {
         "data": {
          "bar": [
           {
            "error_x": {
             "color": "#2a3f5f"
            },
            "error_y": {
             "color": "#2a3f5f"
            },
            "marker": {
             "line": {
              "color": "#E5ECF6",
              "width": 0.5
             }
            },
            "type": "bar"
           }
          ],
          "barpolar": [
           {
            "marker": {
             "line": {
              "color": "#E5ECF6",
              "width": 0.5
             }
            },
            "type": "barpolar"
           }
          ],
          "carpet": [
           {
            "aaxis": {
             "endlinecolor": "#2a3f5f",
             "gridcolor": "white",
             "linecolor": "white",
             "minorgridcolor": "white",
             "startlinecolor": "#2a3f5f"
            },
            "baxis": {
             "endlinecolor": "#2a3f5f",
             "gridcolor": "white",
             "linecolor": "white",
             "minorgridcolor": "white",
             "startlinecolor": "#2a3f5f"
            },
            "type": "carpet"
           }
          ],
          "choropleth": [
           {
            "colorbar": {
             "outlinewidth": 0,
             "ticks": ""
            },
            "type": "choropleth"
           }
          ],
          "contour": [
           {
            "colorbar": {
             "outlinewidth": 0,
             "ticks": ""
            },
            "colorscale": [
             [
              0,
              "#0d0887"
             ],
             [
              0.1111111111111111,
              "#46039f"
             ],
             [
              0.2222222222222222,
              "#7201a8"
             ],
             [
              0.3333333333333333,
              "#9c179e"
             ],
             [
              0.4444444444444444,
              "#bd3786"
             ],
             [
              0.5555555555555556,
              "#d8576b"
             ],
             [
              0.6666666666666666,
              "#ed7953"
             ],
             [
              0.7777777777777778,
              "#fb9f3a"
             ],
             [
              0.8888888888888888,
              "#fdca26"
             ],
             [
              1,
              "#f0f921"
             ]
            ],
            "type": "contour"
           }
          ],
          "contourcarpet": [
           {
            "colorbar": {
             "outlinewidth": 0,
             "ticks": ""
            },
            "type": "contourcarpet"
           }
          ],
          "heatmap": [
           {
            "colorbar": {
             "outlinewidth": 0,
             "ticks": ""
            },
            "colorscale": [
             [
              0,
              "#0d0887"
             ],
             [
              0.1111111111111111,
              "#46039f"
             ],
             [
              0.2222222222222222,
              "#7201a8"
             ],
             [
              0.3333333333333333,
              "#9c179e"
             ],
             [
              0.4444444444444444,
              "#bd3786"
             ],
             [
              0.5555555555555556,
              "#d8576b"
             ],
             [
              0.6666666666666666,
              "#ed7953"
             ],
             [
              0.7777777777777778,
              "#fb9f3a"
             ],
             [
              0.8888888888888888,
              "#fdca26"
             ],
             [
              1,
              "#f0f921"
             ]
            ],
            "type": "heatmap"
           }
          ],
          "heatmapgl": [
           {
            "colorbar": {
             "outlinewidth": 0,
             "ticks": ""
            },
            "colorscale": [
             [
              0,
              "#0d0887"
             ],
             [
              0.1111111111111111,
              "#46039f"
             ],
             [
              0.2222222222222222,
              "#7201a8"
             ],
             [
              0.3333333333333333,
              "#9c179e"
             ],
             [
              0.4444444444444444,
              "#bd3786"
             ],
             [
              0.5555555555555556,
              "#d8576b"
             ],
             [
              0.6666666666666666,
              "#ed7953"
             ],
             [
              0.7777777777777778,
              "#fb9f3a"
             ],
             [
              0.8888888888888888,
              "#fdca26"
             ],
             [
              1,
              "#f0f921"
             ]
            ],
            "type": "heatmapgl"
           }
          ],
          "histogram": [
           {
            "marker": {
             "colorbar": {
              "outlinewidth": 0,
              "ticks": ""
             }
            },
            "type": "histogram"
           }
          ],
          "histogram2d": [
           {
            "colorbar": {
             "outlinewidth": 0,
             "ticks": ""
            },
            "colorscale": [
             [
              0,
              "#0d0887"
             ],
             [
              0.1111111111111111,
              "#46039f"
             ],
             [
              0.2222222222222222,
              "#7201a8"
             ],
             [
              0.3333333333333333,
              "#9c179e"
             ],
             [
              0.4444444444444444,
              "#bd3786"
             ],
             [
              0.5555555555555556,
              "#d8576b"
             ],
             [
              0.6666666666666666,
              "#ed7953"
             ],
             [
              0.7777777777777778,
              "#fb9f3a"
             ],
             [
              0.8888888888888888,
              "#fdca26"
             ],
             [
              1,
              "#f0f921"
             ]
            ],
            "type": "histogram2d"
           }
          ],
          "histogram2dcontour": [
           {
            "colorbar": {
             "outlinewidth": 0,
             "ticks": ""
            },
            "colorscale": [
             [
              0,
              "#0d0887"
             ],
             [
              0.1111111111111111,
              "#46039f"
             ],
             [
              0.2222222222222222,
              "#7201a8"
             ],
             [
              0.3333333333333333,
              "#9c179e"
             ],
             [
              0.4444444444444444,
              "#bd3786"
             ],
             [
              0.5555555555555556,
              "#d8576b"
             ],
             [
              0.6666666666666666,
              "#ed7953"
             ],
             [
              0.7777777777777778,
              "#fb9f3a"
             ],
             [
              0.8888888888888888,
              "#fdca26"
             ],
             [
              1,
              "#f0f921"
             ]
            ],
            "type": "histogram2dcontour"
           }
          ],
          "mesh3d": [
           {
            "colorbar": {
             "outlinewidth": 0,
             "ticks": ""
            },
            "type": "mesh3d"
           }
          ],
          "parcoords": [
           {
            "line": {
             "colorbar": {
              "outlinewidth": 0,
              "ticks": ""
             }
            },
            "type": "parcoords"
           }
          ],
          "pie": [
           {
            "automargin": true,
            "type": "pie"
           }
          ],
          "scatter": [
           {
            "marker": {
             "colorbar": {
              "outlinewidth": 0,
              "ticks": ""
             }
            },
            "type": "scatter"
           }
          ],
          "scatter3d": [
           {
            "line": {
             "colorbar": {
              "outlinewidth": 0,
              "ticks": ""
             }
            },
            "marker": {
             "colorbar": {
              "outlinewidth": 0,
              "ticks": ""
             }
            },
            "type": "scatter3d"
           }
          ],
          "scattercarpet": [
           {
            "marker": {
             "colorbar": {
              "outlinewidth": 0,
              "ticks": ""
             }
            },
            "type": "scattercarpet"
           }
          ],
          "scattergeo": [
           {
            "marker": {
             "colorbar": {
              "outlinewidth": 0,
              "ticks": ""
             }
            },
            "type": "scattergeo"
           }
          ],
          "scattergl": [
           {
            "marker": {
             "colorbar": {
              "outlinewidth": 0,
              "ticks": ""
             }
            },
            "type": "scattergl"
           }
          ],
          "scattermapbox": [
           {
            "marker": {
             "colorbar": {
              "outlinewidth": 0,
              "ticks": ""
             }
            },
            "type": "scattermapbox"
           }
          ],
          "scatterpolar": [
           {
            "marker": {
             "colorbar": {
              "outlinewidth": 0,
              "ticks": ""
             }
            },
            "type": "scatterpolar"
           }
          ],
          "scatterpolargl": [
           {
            "marker": {
             "colorbar": {
              "outlinewidth": 0,
              "ticks": ""
             }
            },
            "type": "scatterpolargl"
           }
          ],
          "scatterternary": [
           {
            "marker": {
             "colorbar": {
              "outlinewidth": 0,
              "ticks": ""
             }
            },
            "type": "scatterternary"
           }
          ],
          "surface": [
           {
            "colorbar": {
             "outlinewidth": 0,
             "ticks": ""
            },
            "colorscale": [
             [
              0,
              "#0d0887"
             ],
             [
              0.1111111111111111,
              "#46039f"
             ],
             [
              0.2222222222222222,
              "#7201a8"
             ],
             [
              0.3333333333333333,
              "#9c179e"
             ],
             [
              0.4444444444444444,
              "#bd3786"
             ],
             [
              0.5555555555555556,
              "#d8576b"
             ],
             [
              0.6666666666666666,
              "#ed7953"
             ],
             [
              0.7777777777777778,
              "#fb9f3a"
             ],
             [
              0.8888888888888888,
              "#fdca26"
             ],
             [
              1,
              "#f0f921"
             ]
            ],
            "type": "surface"
           }
          ],
          "table": [
           {
            "cells": {
             "fill": {
              "color": "#EBF0F8"
             },
             "line": {
              "color": "white"
             }
            },
            "header": {
             "fill": {
              "color": "#C8D4E3"
             },
             "line": {
              "color": "white"
             }
            },
            "type": "table"
           }
          ]
         },
         "layout": {
          "annotationdefaults": {
           "arrowcolor": "#2a3f5f",
           "arrowhead": 0,
           "arrowwidth": 1
          },
          "coloraxis": {
           "colorbar": {
            "outlinewidth": 0,
            "ticks": ""
           }
          },
          "colorscale": {
           "diverging": [
            [
             0,
             "#8e0152"
            ],
            [
             0.1,
             "#c51b7d"
            ],
            [
             0.2,
             "#de77ae"
            ],
            [
             0.3,
             "#f1b6da"
            ],
            [
             0.4,
             "#fde0ef"
            ],
            [
             0.5,
             "#f7f7f7"
            ],
            [
             0.6,
             "#e6f5d0"
            ],
            [
             0.7,
             "#b8e186"
            ],
            [
             0.8,
             "#7fbc41"
            ],
            [
             0.9,
             "#4d9221"
            ],
            [
             1,
             "#276419"
            ]
           ],
           "sequential": [
            [
             0,
             "#0d0887"
            ],
            [
             0.1111111111111111,
             "#46039f"
            ],
            [
             0.2222222222222222,
             "#7201a8"
            ],
            [
             0.3333333333333333,
             "#9c179e"
            ],
            [
             0.4444444444444444,
             "#bd3786"
            ],
            [
             0.5555555555555556,
             "#d8576b"
            ],
            [
             0.6666666666666666,
             "#ed7953"
            ],
            [
             0.7777777777777778,
             "#fb9f3a"
            ],
            [
             0.8888888888888888,
             "#fdca26"
            ],
            [
             1,
             "#f0f921"
            ]
           ],
           "sequentialminus": [
            [
             0,
             "#0d0887"
            ],
            [
             0.1111111111111111,
             "#46039f"
            ],
            [
             0.2222222222222222,
             "#7201a8"
            ],
            [
             0.3333333333333333,
             "#9c179e"
            ],
            [
             0.4444444444444444,
             "#bd3786"
            ],
            [
             0.5555555555555556,
             "#d8576b"
            ],
            [
             0.6666666666666666,
             "#ed7953"
            ],
            [
             0.7777777777777778,
             "#fb9f3a"
            ],
            [
             0.8888888888888888,
             "#fdca26"
            ],
            [
             1,
             "#f0f921"
            ]
           ]
          },
          "colorway": [
           "#636efa",
           "#EF553B",
           "#00cc96",
           "#ab63fa",
           "#FFA15A",
           "#19d3f3",
           "#FF6692",
           "#B6E880",
           "#FF97FF",
           "#FECB52"
          ],
          "font": {
           "color": "#2a3f5f"
          },
          "geo": {
           "bgcolor": "white",
           "lakecolor": "white",
           "landcolor": "#E5ECF6",
           "showlakes": true,
           "showland": true,
           "subunitcolor": "white"
          },
          "hoverlabel": {
           "align": "left"
          },
          "hovermode": "closest",
          "mapbox": {
           "style": "light"
          },
          "paper_bgcolor": "white",
          "plot_bgcolor": "#E5ECF6",
          "polar": {
           "angularaxis": {
            "gridcolor": "white",
            "linecolor": "white",
            "ticks": ""
           },
           "bgcolor": "#E5ECF6",
           "radialaxis": {
            "gridcolor": "white",
            "linecolor": "white",
            "ticks": ""
           }
          },
          "scene": {
           "xaxis": {
            "backgroundcolor": "#E5ECF6",
            "gridcolor": "white",
            "gridwidth": 2,
            "linecolor": "white",
            "showbackground": true,
            "ticks": "",
            "zerolinecolor": "white"
           },
           "yaxis": {
            "backgroundcolor": "#E5ECF6",
            "gridcolor": "white",
            "gridwidth": 2,
            "linecolor": "white",
            "showbackground": true,
            "ticks": "",
            "zerolinecolor": "white"
           },
           "zaxis": {
            "backgroundcolor": "#E5ECF6",
            "gridcolor": "white",
            "gridwidth": 2,
            "linecolor": "white",
            "showbackground": true,
            "ticks": "",
            "zerolinecolor": "white"
           }
          },
          "shapedefaults": {
           "line": {
            "color": "#2a3f5f"
           }
          },
          "ternary": {
           "aaxis": {
            "gridcolor": "white",
            "linecolor": "white",
            "ticks": ""
           },
           "baxis": {
            "gridcolor": "white",
            "linecolor": "white",
            "ticks": ""
           },
           "bgcolor": "#E5ECF6",
           "caxis": {
            "gridcolor": "white",
            "linecolor": "white",
            "ticks": ""
           }
          },
          "title": {
           "x": 0.05
          },
          "xaxis": {
           "automargin": true,
           "gridcolor": "white",
           "linecolor": "white",
           "ticks": "",
           "title": {
            "standoff": 15
           },
           "zerolinecolor": "white",
           "zerolinewidth": 2
          },
          "yaxis": {
           "automargin": true,
           "gridcolor": "white",
           "linecolor": "white",
           "ticks": "",
           "title": {
            "standoff": 15
           },
           "zerolinecolor": "white",
           "zerolinewidth": 2
          }
         }
        },
        "title": {
         "text": "WA state - Cumulative Cases and Deaths"
        },
        "updatemenus": [
         {
          "active": 0,
          "buttons": [
           {
            "args": [
             {
              "visible": [
               true,
               true
              ]
             },
             {
              "yaxis": {
               "type": "linear"
              }
             }
            ],
            "label": "Linear Scale",
            "method": "update"
           },
           {
            "args": [
             {
              "visible": [
               true,
               true
              ]
             },
             {
              "yaxis": {
               "type": "log"
              }
             }
            ],
            "label": "Logarithmic Scale",
            "method": "update"
           }
          ],
          "direction": "right",
          "type": "buttons",
          "x": 0.45,
          "xanchor": "left",
          "y": 1.1,
          "yanchor": "top"
         }
        ]
       }
      },
      "text/html": [
       "<div>\n",
       "        \n",
       "        \n",
       "            <div id=\"325d8a5a-064e-4e91-b0e8-b074737b143a\" class=\"plotly-graph-div\" style=\"height:525px; width:100%;\"></div>\n",
       "            <script type=\"text/javascript\">\n",
       "                require([\"plotly\"], function(Plotly) {\n",
       "                    window.PLOTLYENV=window.PLOTLYENV || {};\n",
       "                    \n",
       "                if (document.getElementById(\"325d8a5a-064e-4e91-b0e8-b074737b143a\")) {\n",
       "                    Plotly.newPlot(\n",
       "                        '325d8a5a-064e-4e91-b0e8-b074737b143a',\n",
       "                        [{\"name\": \"Confirmed Cases\", \"type\": \"scatter\", \"x\": [\"3/13/20\", \"3/14/20\", \"3/15/20\", \"3/16/20\", \"3/17/20\", \"3/18/20\", \"3/19/20\", \"3/20/20\", \"3/21/20\", \"3/22/20\", \"3/23/20\", \"3/24/20\", \"3/25/20\", \"3/26/20\", \"3/27/20\", \"3/28/20\", \"3/29/20\", \"3/30/20\", \"3/31/20\", \"4/1/20\"], \"y\": [568, 642, 603, 779, 955, 1022, 1374, 1524, 1793, 1997, 2221, 2328, 2591, 3207, 3477, 4030, 4465, 4923, 5432, 5608]}, {\"name\": \"Deaths\", \"type\": \"scatter\", \"x\": [\"3/13/20\", \"3/14/20\", \"3/15/20\", \"3/16/20\", \"3/17/20\", \"3/18/20\", \"3/19/20\", \"3/20/20\", \"3/21/20\", \"3/22/20\", \"3/23/20\", \"3/24/20\", \"3/25/20\", \"3/26/20\", \"3/27/20\", \"3/28/20\", \"3/29/20\", \"3/30/20\", \"3/31/20\", \"4/1/20\"], \"y\": [37, 39, 40, 48, 55, 67, 73, 83, 94, 97, 109, 116, 133, 150, 157, 188, 198, 205, 225, 234]}],\n",
       "                        {\"template\": {\"data\": {\"bar\": [{\"error_x\": {\"color\": \"#2a3f5f\"}, \"error_y\": {\"color\": \"#2a3f5f\"}, \"marker\": {\"line\": {\"color\": \"#E5ECF6\", \"width\": 0.5}}, \"type\": \"bar\"}], \"barpolar\": [{\"marker\": {\"line\": {\"color\": \"#E5ECF6\", \"width\": 0.5}}, \"type\": \"barpolar\"}], \"carpet\": [{\"aaxis\": {\"endlinecolor\": \"#2a3f5f\", \"gridcolor\": \"white\", \"linecolor\": \"white\", \"minorgridcolor\": \"white\", \"startlinecolor\": \"#2a3f5f\"}, \"baxis\": {\"endlinecolor\": \"#2a3f5f\", \"gridcolor\": \"white\", \"linecolor\": \"white\", \"minorgridcolor\": \"white\", \"startlinecolor\": \"#2a3f5f\"}, \"type\": \"carpet\"}], \"choropleth\": [{\"colorbar\": {\"outlinewidth\": 0, \"ticks\": \"\"}, \"type\": \"choropleth\"}], \"contour\": [{\"colorbar\": {\"outlinewidth\": 0, \"ticks\": \"\"}, \"colorscale\": [[0.0, \"#0d0887\"], [0.1111111111111111, \"#46039f\"], [0.2222222222222222, \"#7201a8\"], [0.3333333333333333, \"#9c179e\"], [0.4444444444444444, \"#bd3786\"], [0.5555555555555556, \"#d8576b\"], [0.6666666666666666, \"#ed7953\"], [0.7777777777777778, \"#fb9f3a\"], [0.8888888888888888, \"#fdca26\"], [1.0, \"#f0f921\"]], \"type\": \"contour\"}], \"contourcarpet\": [{\"colorbar\": {\"outlinewidth\": 0, \"ticks\": \"\"}, \"type\": \"contourcarpet\"}], \"heatmap\": [{\"colorbar\": {\"outlinewidth\": 0, \"ticks\": \"\"}, \"colorscale\": [[0.0, \"#0d0887\"], [0.1111111111111111, \"#46039f\"], [0.2222222222222222, \"#7201a8\"], [0.3333333333333333, \"#9c179e\"], [0.4444444444444444, \"#bd3786\"], [0.5555555555555556, \"#d8576b\"], [0.6666666666666666, \"#ed7953\"], [0.7777777777777778, \"#fb9f3a\"], [0.8888888888888888, \"#fdca26\"], [1.0, \"#f0f921\"]], \"type\": \"heatmap\"}], \"heatmapgl\": [{\"colorbar\": {\"outlinewidth\": 0, \"ticks\": \"\"}, \"colorscale\": [[0.0, \"#0d0887\"], [0.1111111111111111, \"#46039f\"], [0.2222222222222222, \"#7201a8\"], [0.3333333333333333, \"#9c179e\"], [0.4444444444444444, \"#bd3786\"], [0.5555555555555556, \"#d8576b\"], [0.6666666666666666, \"#ed7953\"], [0.7777777777777778, \"#fb9f3a\"], [0.8888888888888888, \"#fdca26\"], [1.0, \"#f0f921\"]], \"type\": \"heatmapgl\"}], \"histogram\": [{\"marker\": {\"colorbar\": {\"outlinewidth\": 0, \"ticks\": \"\"}}, \"type\": \"histogram\"}], \"histogram2d\": [{\"colorbar\": {\"outlinewidth\": 0, \"ticks\": \"\"}, \"colorscale\": [[0.0, \"#0d0887\"], [0.1111111111111111, \"#46039f\"], [0.2222222222222222, \"#7201a8\"], [0.3333333333333333, \"#9c179e\"], [0.4444444444444444, \"#bd3786\"], [0.5555555555555556, \"#d8576b\"], [0.6666666666666666, \"#ed7953\"], [0.7777777777777778, \"#fb9f3a\"], [0.8888888888888888, \"#fdca26\"], [1.0, \"#f0f921\"]], \"type\": \"histogram2d\"}], \"histogram2dcontour\": [{\"colorbar\": {\"outlinewidth\": 0, \"ticks\": \"\"}, \"colorscale\": [[0.0, \"#0d0887\"], [0.1111111111111111, \"#46039f\"], [0.2222222222222222, \"#7201a8\"], [0.3333333333333333, \"#9c179e\"], [0.4444444444444444, \"#bd3786\"], [0.5555555555555556, \"#d8576b\"], [0.6666666666666666, \"#ed7953\"], [0.7777777777777778, \"#fb9f3a\"], [0.8888888888888888, \"#fdca26\"], [1.0, \"#f0f921\"]], \"type\": \"histogram2dcontour\"}], \"mesh3d\": [{\"colorbar\": {\"outlinewidth\": 0, \"ticks\": \"\"}, \"type\": \"mesh3d\"}], \"parcoords\": [{\"line\": {\"colorbar\": {\"outlinewidth\": 0, \"ticks\": \"\"}}, \"type\": \"parcoords\"}], \"pie\": [{\"automargin\": true, \"type\": \"pie\"}], \"scatter\": [{\"marker\": {\"colorbar\": {\"outlinewidth\": 0, \"ticks\": \"\"}}, \"type\": \"scatter\"}], \"scatter3d\": [{\"line\": {\"colorbar\": {\"outlinewidth\": 0, \"ticks\": \"\"}}, \"marker\": {\"colorbar\": {\"outlinewidth\": 0, \"ticks\": \"\"}}, \"type\": \"scatter3d\"}], \"scattercarpet\": [{\"marker\": {\"colorbar\": {\"outlinewidth\": 0, \"ticks\": \"\"}}, \"type\": \"scattercarpet\"}], \"scattergeo\": [{\"marker\": {\"colorbar\": {\"outlinewidth\": 0, \"ticks\": \"\"}}, \"type\": \"scattergeo\"}], \"scattergl\": [{\"marker\": {\"colorbar\": {\"outlinewidth\": 0, \"ticks\": \"\"}}, \"type\": \"scattergl\"}], \"scattermapbox\": [{\"marker\": {\"colorbar\": {\"outlinewidth\": 0, \"ticks\": \"\"}}, \"type\": \"scattermapbox\"}], \"scatterpolar\": [{\"marker\": {\"colorbar\": {\"outlinewidth\": 0, \"ticks\": \"\"}}, \"type\": \"scatterpolar\"}], \"scatterpolargl\": [{\"marker\": {\"colorbar\": {\"outlinewidth\": 0, \"ticks\": \"\"}}, \"type\": \"scatterpolargl\"}], \"scatterternary\": [{\"marker\": {\"colorbar\": {\"outlinewidth\": 0, \"ticks\": \"\"}}, \"type\": \"scatterternary\"}], \"surface\": [{\"colorbar\": {\"outlinewidth\": 0, \"ticks\": \"\"}, \"colorscale\": [[0.0, \"#0d0887\"], [0.1111111111111111, \"#46039f\"], [0.2222222222222222, \"#7201a8\"], [0.3333333333333333, \"#9c179e\"], [0.4444444444444444, \"#bd3786\"], [0.5555555555555556, \"#d8576b\"], [0.6666666666666666, \"#ed7953\"], [0.7777777777777778, \"#fb9f3a\"], [0.8888888888888888, \"#fdca26\"], [1.0, \"#f0f921\"]], \"type\": \"surface\"}], \"table\": [{\"cells\": {\"fill\": {\"color\": \"#EBF0F8\"}, \"line\": {\"color\": \"white\"}}, \"header\": {\"fill\": {\"color\": \"#C8D4E3\"}, \"line\": {\"color\": \"white\"}}, \"type\": \"table\"}]}, \"layout\": {\"annotationdefaults\": {\"arrowcolor\": \"#2a3f5f\", \"arrowhead\": 0, \"arrowwidth\": 1}, \"coloraxis\": {\"colorbar\": {\"outlinewidth\": 0, \"ticks\": \"\"}}, \"colorscale\": {\"diverging\": [[0, \"#8e0152\"], [0.1, \"#c51b7d\"], [0.2, \"#de77ae\"], [0.3, \"#f1b6da\"], [0.4, \"#fde0ef\"], [0.5, \"#f7f7f7\"], [0.6, \"#e6f5d0\"], [0.7, \"#b8e186\"], [0.8, \"#7fbc41\"], [0.9, \"#4d9221\"], [1, \"#276419\"]], \"sequential\": [[0.0, \"#0d0887\"], [0.1111111111111111, \"#46039f\"], [0.2222222222222222, \"#7201a8\"], [0.3333333333333333, \"#9c179e\"], [0.4444444444444444, \"#bd3786\"], [0.5555555555555556, \"#d8576b\"], [0.6666666666666666, \"#ed7953\"], [0.7777777777777778, \"#fb9f3a\"], [0.8888888888888888, \"#fdca26\"], [1.0, \"#f0f921\"]], \"sequentialminus\": [[0.0, \"#0d0887\"], [0.1111111111111111, \"#46039f\"], [0.2222222222222222, \"#7201a8\"], [0.3333333333333333, \"#9c179e\"], [0.4444444444444444, \"#bd3786\"], [0.5555555555555556, \"#d8576b\"], [0.6666666666666666, \"#ed7953\"], [0.7777777777777778, \"#fb9f3a\"], [0.8888888888888888, \"#fdca26\"], [1.0, \"#f0f921\"]]}, \"colorway\": [\"#636efa\", \"#EF553B\", \"#00cc96\", \"#ab63fa\", \"#FFA15A\", \"#19d3f3\", \"#FF6692\", \"#B6E880\", \"#FF97FF\", \"#FECB52\"], \"font\": {\"color\": \"#2a3f5f\"}, \"geo\": {\"bgcolor\": \"white\", \"lakecolor\": \"white\", \"landcolor\": \"#E5ECF6\", \"showlakes\": true, \"showland\": true, \"subunitcolor\": \"white\"}, \"hoverlabel\": {\"align\": \"left\"}, \"hovermode\": \"closest\", \"mapbox\": {\"style\": \"light\"}, \"paper_bgcolor\": \"white\", \"plot_bgcolor\": \"#E5ECF6\", \"polar\": {\"angularaxis\": {\"gridcolor\": \"white\", \"linecolor\": \"white\", \"ticks\": \"\"}, \"bgcolor\": \"#E5ECF6\", \"radialaxis\": {\"gridcolor\": \"white\", \"linecolor\": \"white\", \"ticks\": \"\"}}, \"scene\": {\"xaxis\": {\"backgroundcolor\": \"#E5ECF6\", \"gridcolor\": \"white\", \"gridwidth\": 2, \"linecolor\": \"white\", \"showbackground\": true, \"ticks\": \"\", \"zerolinecolor\": \"white\"}, \"yaxis\": {\"backgroundcolor\": \"#E5ECF6\", \"gridcolor\": \"white\", \"gridwidth\": 2, \"linecolor\": \"white\", \"showbackground\": true, \"ticks\": \"\", \"zerolinecolor\": \"white\"}, \"zaxis\": {\"backgroundcolor\": \"#E5ECF6\", \"gridcolor\": \"white\", \"gridwidth\": 2, \"linecolor\": \"white\", \"showbackground\": true, \"ticks\": \"\", \"zerolinecolor\": \"white\"}}, \"shapedefaults\": {\"line\": {\"color\": \"#2a3f5f\"}}, \"ternary\": {\"aaxis\": {\"gridcolor\": \"white\", \"linecolor\": \"white\", \"ticks\": \"\"}, \"baxis\": {\"gridcolor\": \"white\", \"linecolor\": \"white\", \"ticks\": \"\"}, \"bgcolor\": \"#E5ECF6\", \"caxis\": {\"gridcolor\": \"white\", \"linecolor\": \"white\", \"ticks\": \"\"}}, \"title\": {\"x\": 0.05}, \"xaxis\": {\"automargin\": true, \"gridcolor\": \"white\", \"linecolor\": \"white\", \"ticks\": \"\", \"title\": {\"standoff\": 15}, \"zerolinecolor\": \"white\", \"zerolinewidth\": 2}, \"yaxis\": {\"automargin\": true, \"gridcolor\": \"white\", \"linecolor\": \"white\", \"ticks\": \"\", \"title\": {\"standoff\": 15}, \"zerolinecolor\": \"white\", \"zerolinewidth\": 2}}}, \"title\": {\"text\": \"WA state - Cumulative Cases and Deaths\"}, \"updatemenus\": [{\"active\": 0, \"buttons\": [{\"args\": [{\"visible\": [true, true]}, {\"yaxis\": {\"type\": \"linear\"}}], \"label\": \"Linear Scale\", \"method\": \"update\"}, {\"args\": [{\"visible\": [true, true]}, {\"yaxis\": {\"type\": \"log\"}}], \"label\": \"Logarithmic Scale\", \"method\": \"update\"}], \"direction\": \"right\", \"type\": \"buttons\", \"x\": 0.45, \"xanchor\": \"left\", \"y\": 1.1, \"yanchor\": \"top\"}]},\n",
       "                        {\"responsive\": true}\n",
       "                    ).then(function(){\n",
       "                            \n",
       "var gd = document.getElementById('325d8a5a-064e-4e91-b0e8-b074737b143a');\n",
       "var x = new MutationObserver(function (mutations, observer) {{\n",
       "        var display = window.getComputedStyle(gd).display;\n",
       "        if (!display || display === 'none') {{\n",
       "            console.log([gd, 'removed!']);\n",
       "            Plotly.purge(gd);\n",
       "            observer.disconnect();\n",
       "        }}\n",
       "}});\n",
       "\n",
       "// Listen for the removal of the full notebook cells\n",
       "var notebookContainer = gd.closest('#notebook-container');\n",
       "if (notebookContainer) {{\n",
       "    x.observe(notebookContainer, {childList: true});\n",
       "}}\n",
       "\n",
       "// Listen for the clearing of the current output cell\n",
       "var outputEl = gd.closest('.output');\n",
       "if (outputEl) {{\n",
       "    x.observe(outputEl, {childList: true});\n",
       "}}\n",
       "\n",
       "                        })\n",
       "                };\n",
       "                });\n",
       "            </script>\n",
       "        </div>"
      ]
     },
     "metadata": {},
     "output_type": "display_data"
    },
    {
     "data": {
      "text/html": [
       "<style  type=\"text/css\" >\n",
       "</style><table id=\"T_2078920c_74a9_11ea_b837_c49ded93ade6\" ><thead>    <tr>        <th class=\"blank\" ></th>        <th class=\"blank level0\" ></th>        <th class=\"col_heading level0 col0\" >3/13/20</th>        <th class=\"col_heading level0 col1\" >3/14/20</th>        <th class=\"col_heading level0 col2\" >3/15/20</th>        <th class=\"col_heading level0 col3\" >3/16/20</th>        <th class=\"col_heading level0 col4\" >3/17/20</th>        <th class=\"col_heading level0 col5\" >3/18/20</th>        <th class=\"col_heading level0 col6\" >3/19/20</th>        <th class=\"col_heading level0 col7\" >3/20/20</th>        <th class=\"col_heading level0 col8\" >3/21/20</th>        <th class=\"col_heading level0 col9\" >3/22/20</th>        <th class=\"col_heading level0 col10\" >3/23/20</th>        <th class=\"col_heading level0 col11\" >3/24/20</th>        <th class=\"col_heading level0 col12\" >3/25/20</th>        <th class=\"col_heading level0 col13\" >3/26/20</th>        <th class=\"col_heading level0 col14\" >3/27/20</th>        <th class=\"col_heading level0 col15\" >3/28/20</th>        <th class=\"col_heading level0 col16\" >3/29/20</th>        <th class=\"col_heading level0 col17\" >3/30/20</th>        <th class=\"col_heading level0 col18\" >3/31/20</th>        <th class=\"col_heading level0 col19\" >4/1/20</th>    </tr>    <tr>        <th class=\"index_name level0\" >Province_State</th>        <th class=\"index_name level1\" >Category</th>        <th class=\"blank\" ></th>        <th class=\"blank\" ></th>        <th class=\"blank\" ></th>        <th class=\"blank\" ></th>        <th class=\"blank\" ></th>        <th class=\"blank\" ></th>        <th class=\"blank\" ></th>        <th class=\"blank\" ></th>        <th class=\"blank\" ></th>        <th class=\"blank\" ></th>        <th class=\"blank\" ></th>        <th class=\"blank\" ></th>        <th class=\"blank\" ></th>        <th class=\"blank\" ></th>        <th class=\"blank\" ></th>        <th class=\"blank\" ></th>        <th class=\"blank\" ></th>        <th class=\"blank\" ></th>        <th class=\"blank\" ></th>        <th class=\"blank\" ></th>    </tr></thead><tbody>\n",
       "                <tr>\n",
       "                        <th id=\"T_2078920c_74a9_11ea_b837_c49ded93ade6level0_row0\" class=\"row_heading level0 row0\" rowspan=2>Washington</th>\n",
       "                        <th id=\"T_2078920c_74a9_11ea_b837_c49ded93ade6level1_row0\" class=\"row_heading level1 row0\" >Confirmed Cases</th>\n",
       "                        <td id=\"T_2078920c_74a9_11ea_b837_c49ded93ade6row0_col0\" class=\"data row0 col0\" >568</td>\n",
       "                        <td id=\"T_2078920c_74a9_11ea_b837_c49ded93ade6row0_col1\" class=\"data row0 col1\" >642</td>\n",
       "                        <td id=\"T_2078920c_74a9_11ea_b837_c49ded93ade6row0_col2\" class=\"data row0 col2\" >603</td>\n",
       "                        <td id=\"T_2078920c_74a9_11ea_b837_c49ded93ade6row0_col3\" class=\"data row0 col3\" >779</td>\n",
       "                        <td id=\"T_2078920c_74a9_11ea_b837_c49ded93ade6row0_col4\" class=\"data row0 col4\" >955</td>\n",
       "                        <td id=\"T_2078920c_74a9_11ea_b837_c49ded93ade6row0_col5\" class=\"data row0 col5\" >1,022</td>\n",
       "                        <td id=\"T_2078920c_74a9_11ea_b837_c49ded93ade6row0_col6\" class=\"data row0 col6\" >1,374</td>\n",
       "                        <td id=\"T_2078920c_74a9_11ea_b837_c49ded93ade6row0_col7\" class=\"data row0 col7\" >1,524</td>\n",
       "                        <td id=\"T_2078920c_74a9_11ea_b837_c49ded93ade6row0_col8\" class=\"data row0 col8\" >1,793</td>\n",
       "                        <td id=\"T_2078920c_74a9_11ea_b837_c49ded93ade6row0_col9\" class=\"data row0 col9\" >1,997</td>\n",
       "                        <td id=\"T_2078920c_74a9_11ea_b837_c49ded93ade6row0_col10\" class=\"data row0 col10\" >2,221</td>\n",
       "                        <td id=\"T_2078920c_74a9_11ea_b837_c49ded93ade6row0_col11\" class=\"data row0 col11\" >2,328</td>\n",
       "                        <td id=\"T_2078920c_74a9_11ea_b837_c49ded93ade6row0_col12\" class=\"data row0 col12\" >2,591</td>\n",
       "                        <td id=\"T_2078920c_74a9_11ea_b837_c49ded93ade6row0_col13\" class=\"data row0 col13\" >3,207</td>\n",
       "                        <td id=\"T_2078920c_74a9_11ea_b837_c49ded93ade6row0_col14\" class=\"data row0 col14\" >3,477</td>\n",
       "                        <td id=\"T_2078920c_74a9_11ea_b837_c49ded93ade6row0_col15\" class=\"data row0 col15\" >4,030</td>\n",
       "                        <td id=\"T_2078920c_74a9_11ea_b837_c49ded93ade6row0_col16\" class=\"data row0 col16\" >4,465</td>\n",
       "                        <td id=\"T_2078920c_74a9_11ea_b837_c49ded93ade6row0_col17\" class=\"data row0 col17\" >4,923</td>\n",
       "                        <td id=\"T_2078920c_74a9_11ea_b837_c49ded93ade6row0_col18\" class=\"data row0 col18\" >5,432</td>\n",
       "                        <td id=\"T_2078920c_74a9_11ea_b837_c49ded93ade6row0_col19\" class=\"data row0 col19\" >5,608</td>\n",
       "            </tr>\n",
       "            <tr>\n",
       "                                <th id=\"T_2078920c_74a9_11ea_b837_c49ded93ade6level1_row1\" class=\"row_heading level1 row1\" >Deaths</th>\n",
       "                        <td id=\"T_2078920c_74a9_11ea_b837_c49ded93ade6row1_col0\" class=\"data row1 col0\" >37</td>\n",
       "                        <td id=\"T_2078920c_74a9_11ea_b837_c49ded93ade6row1_col1\" class=\"data row1 col1\" >39</td>\n",
       "                        <td id=\"T_2078920c_74a9_11ea_b837_c49ded93ade6row1_col2\" class=\"data row1 col2\" >40</td>\n",
       "                        <td id=\"T_2078920c_74a9_11ea_b837_c49ded93ade6row1_col3\" class=\"data row1 col3\" >48</td>\n",
       "                        <td id=\"T_2078920c_74a9_11ea_b837_c49ded93ade6row1_col4\" class=\"data row1 col4\" >55</td>\n",
       "                        <td id=\"T_2078920c_74a9_11ea_b837_c49ded93ade6row1_col5\" class=\"data row1 col5\" >67</td>\n",
       "                        <td id=\"T_2078920c_74a9_11ea_b837_c49ded93ade6row1_col6\" class=\"data row1 col6\" >73</td>\n",
       "                        <td id=\"T_2078920c_74a9_11ea_b837_c49ded93ade6row1_col7\" class=\"data row1 col7\" >83</td>\n",
       "                        <td id=\"T_2078920c_74a9_11ea_b837_c49ded93ade6row1_col8\" class=\"data row1 col8\" >94</td>\n",
       "                        <td id=\"T_2078920c_74a9_11ea_b837_c49ded93ade6row1_col9\" class=\"data row1 col9\" >97</td>\n",
       "                        <td id=\"T_2078920c_74a9_11ea_b837_c49ded93ade6row1_col10\" class=\"data row1 col10\" >109</td>\n",
       "                        <td id=\"T_2078920c_74a9_11ea_b837_c49ded93ade6row1_col11\" class=\"data row1 col11\" >116</td>\n",
       "                        <td id=\"T_2078920c_74a9_11ea_b837_c49ded93ade6row1_col12\" class=\"data row1 col12\" >133</td>\n",
       "                        <td id=\"T_2078920c_74a9_11ea_b837_c49ded93ade6row1_col13\" class=\"data row1 col13\" >150</td>\n",
       "                        <td id=\"T_2078920c_74a9_11ea_b837_c49ded93ade6row1_col14\" class=\"data row1 col14\" >157</td>\n",
       "                        <td id=\"T_2078920c_74a9_11ea_b837_c49ded93ade6row1_col15\" class=\"data row1 col15\" >188</td>\n",
       "                        <td id=\"T_2078920c_74a9_11ea_b837_c49ded93ade6row1_col16\" class=\"data row1 col16\" >198</td>\n",
       "                        <td id=\"T_2078920c_74a9_11ea_b837_c49ded93ade6row1_col17\" class=\"data row1 col17\" >205</td>\n",
       "                        <td id=\"T_2078920c_74a9_11ea_b837_c49ded93ade6row1_col18\" class=\"data row1 col18\" >225</td>\n",
       "                        <td id=\"T_2078920c_74a9_11ea_b837_c49ded93ade6row1_col19\" class=\"data row1 col19\" >234</td>\n",
       "            </tr>\n",
       "    </tbody></table>"
      ],
      "text/plain": [
       "<pandas.io.formats.style.Styler at 0x35a6f0>"
      ]
     },
     "execution_count": 17,
     "metadata": {},
     "output_type": "execute_result"
    }
   ],
   "source": [
    "dfWAConfirmed = dfConfirmedUSStates[dfConfirmedUSStates.index == 'Washington'].copy()\n",
    "dfWADeaths =  dfDeathsUSStates[dfDeathsUSStates.index == 'Washington'].copy()\n",
    "\n",
    "trace1 = go.Scatter(\n",
    "    x = dfWAConfirmed.columns[-DEFAULT_DAYS:],\n",
    "    y = dfWAConfirmed.iloc[0][-DEFAULT_DAYS:], name = 'Confirmed Cases')\n",
    "\n",
    "trace2 = go.Scatter(\n",
    "    x = dfWADeaths.columns[-DEFAULT_DAYS:],\n",
    "    y = dfWADeaths.iloc[0][-DEFAULT_DAYS:], name = 'Deaths')\n",
    "\n",
    "data = [trace1, trace2]\n",
    "layout = dict(title = 'WA state - Cumulative Cases and Deaths', updatemenus=LogLinearScale)\n",
    "\n",
    "py.iplot(dict(data=data, layout=layout))\n",
    "dfWAConfirmed['Category'] = 'Confirmed Cases'\n",
    "dfWAConfirmed = dfWAConfirmed.reset_index().set_index(['Province_State', 'Category'])\n",
    "dfWADeaths['Category'] = 'Deaths'\n",
    "dfWADeaths = dfWADeaths.reset_index().set_index(['Province_State', 'Category'])\n",
    "\n",
    "dfWACombined = pd.concat([dfWAConfirmed, dfWADeaths])\n",
    "dfWACombined[dfWACombined.columns[-DEFAULT_DAYS:]].style.format(IntegerFormatter)"
   ]
  },
  {
   "cell_type": "code",
   "execution_count": 18,
   "metadata": {
    "ExecuteTime": {
     "end_time": "2020-04-02T06:13:53.735958Z",
     "start_time": "2020-04-02T06:13:53.157907Z"
    },
    "extensions": {
     "jupyter_dashboards": {
      "version": 1,
      "views": {
       "grid_default": {
        "col": 9,
        "height": 26,
        "hidden": false,
        "row": 148,
        "width": null
       },
       "report_default": {
        "hidden": false
       }
      }
     }
    }
   },
   "outputs": [
    {
     "data": {
      "application/vnd.plotly.v1+json": {
       "config": {
        "linkText": "Export to plot.ly",
        "plotlyServerURL": "https://plot.ly",
        "showLink": false
       },
       "data": [
        {
         "name": "New Confirmed Cases",
         "type": "bar",
         "x": [
          "3/13/20",
          "3/14/20",
          "3/15/20",
          "3/16/20",
          "3/17/20",
          "3/18/20",
          "3/19/20",
          "3/20/20",
          "3/21/20",
          "3/22/20",
          "3/23/20",
          "3/24/20",
          "3/25/20",
          "3/26/20",
          "3/27/20",
          "3/28/20",
          "3/29/20",
          "3/30/20",
          "3/31/20",
          "4/1/20"
         ],
         "y": [
          null,
          74,
          -39,
          176,
          176,
          67,
          352,
          150,
          269,
          204,
          224,
          107,
          263,
          616,
          270,
          553,
          435,
          458,
          509,
          176
         ]
        },
        {
         "name": "New Deaths",
         "type": "bar",
         "x": [
          "3/13/20",
          "3/14/20",
          "3/15/20",
          "3/16/20",
          "3/17/20",
          "3/18/20",
          "3/19/20",
          "3/20/20",
          "3/21/20",
          "3/22/20",
          "3/23/20",
          "3/24/20",
          "3/25/20",
          "3/26/20",
          "3/27/20",
          "3/28/20",
          "3/29/20",
          "3/30/20",
          "3/31/20",
          "4/1/20"
         ],
         "y": [
          null,
          2,
          1,
          8,
          7,
          12,
          6,
          10,
          11,
          3,
          12,
          7,
          17,
          17,
          7,
          31,
          10,
          7,
          20,
          9
         ]
        }
       ],
       "layout": {
        "template": {
         "data": {
          "bar": [
           {
            "error_x": {
             "color": "#2a3f5f"
            },
            "error_y": {
             "color": "#2a3f5f"
            },
            "marker": {
             "line": {
              "color": "#E5ECF6",
              "width": 0.5
             }
            },
            "type": "bar"
           }
          ],
          "barpolar": [
           {
            "marker": {
             "line": {
              "color": "#E5ECF6",
              "width": 0.5
             }
            },
            "type": "barpolar"
           }
          ],
          "carpet": [
           {
            "aaxis": {
             "endlinecolor": "#2a3f5f",
             "gridcolor": "white",
             "linecolor": "white",
             "minorgridcolor": "white",
             "startlinecolor": "#2a3f5f"
            },
            "baxis": {
             "endlinecolor": "#2a3f5f",
             "gridcolor": "white",
             "linecolor": "white",
             "minorgridcolor": "white",
             "startlinecolor": "#2a3f5f"
            },
            "type": "carpet"
           }
          ],
          "choropleth": [
           {
            "colorbar": {
             "outlinewidth": 0,
             "ticks": ""
            },
            "type": "choropleth"
           }
          ],
          "contour": [
           {
            "colorbar": {
             "outlinewidth": 0,
             "ticks": ""
            },
            "colorscale": [
             [
              0,
              "#0d0887"
             ],
             [
              0.1111111111111111,
              "#46039f"
             ],
             [
              0.2222222222222222,
              "#7201a8"
             ],
             [
              0.3333333333333333,
              "#9c179e"
             ],
             [
              0.4444444444444444,
              "#bd3786"
             ],
             [
              0.5555555555555556,
              "#d8576b"
             ],
             [
              0.6666666666666666,
              "#ed7953"
             ],
             [
              0.7777777777777778,
              "#fb9f3a"
             ],
             [
              0.8888888888888888,
              "#fdca26"
             ],
             [
              1,
              "#f0f921"
             ]
            ],
            "type": "contour"
           }
          ],
          "contourcarpet": [
           {
            "colorbar": {
             "outlinewidth": 0,
             "ticks": ""
            },
            "type": "contourcarpet"
           }
          ],
          "heatmap": [
           {
            "colorbar": {
             "outlinewidth": 0,
             "ticks": ""
            },
            "colorscale": [
             [
              0,
              "#0d0887"
             ],
             [
              0.1111111111111111,
              "#46039f"
             ],
             [
              0.2222222222222222,
              "#7201a8"
             ],
             [
              0.3333333333333333,
              "#9c179e"
             ],
             [
              0.4444444444444444,
              "#bd3786"
             ],
             [
              0.5555555555555556,
              "#d8576b"
             ],
             [
              0.6666666666666666,
              "#ed7953"
             ],
             [
              0.7777777777777778,
              "#fb9f3a"
             ],
             [
              0.8888888888888888,
              "#fdca26"
             ],
             [
              1,
              "#f0f921"
             ]
            ],
            "type": "heatmap"
           }
          ],
          "heatmapgl": [
           {
            "colorbar": {
             "outlinewidth": 0,
             "ticks": ""
            },
            "colorscale": [
             [
              0,
              "#0d0887"
             ],
             [
              0.1111111111111111,
              "#46039f"
             ],
             [
              0.2222222222222222,
              "#7201a8"
             ],
             [
              0.3333333333333333,
              "#9c179e"
             ],
             [
              0.4444444444444444,
              "#bd3786"
             ],
             [
              0.5555555555555556,
              "#d8576b"
             ],
             [
              0.6666666666666666,
              "#ed7953"
             ],
             [
              0.7777777777777778,
              "#fb9f3a"
             ],
             [
              0.8888888888888888,
              "#fdca26"
             ],
             [
              1,
              "#f0f921"
             ]
            ],
            "type": "heatmapgl"
           }
          ],
          "histogram": [
           {
            "marker": {
             "colorbar": {
              "outlinewidth": 0,
              "ticks": ""
             }
            },
            "type": "histogram"
           }
          ],
          "histogram2d": [
           {
            "colorbar": {
             "outlinewidth": 0,
             "ticks": ""
            },
            "colorscale": [
             [
              0,
              "#0d0887"
             ],
             [
              0.1111111111111111,
              "#46039f"
             ],
             [
              0.2222222222222222,
              "#7201a8"
             ],
             [
              0.3333333333333333,
              "#9c179e"
             ],
             [
              0.4444444444444444,
              "#bd3786"
             ],
             [
              0.5555555555555556,
              "#d8576b"
             ],
             [
              0.6666666666666666,
              "#ed7953"
             ],
             [
              0.7777777777777778,
              "#fb9f3a"
             ],
             [
              0.8888888888888888,
              "#fdca26"
             ],
             [
              1,
              "#f0f921"
             ]
            ],
            "type": "histogram2d"
           }
          ],
          "histogram2dcontour": [
           {
            "colorbar": {
             "outlinewidth": 0,
             "ticks": ""
            },
            "colorscale": [
             [
              0,
              "#0d0887"
             ],
             [
              0.1111111111111111,
              "#46039f"
             ],
             [
              0.2222222222222222,
              "#7201a8"
             ],
             [
              0.3333333333333333,
              "#9c179e"
             ],
             [
              0.4444444444444444,
              "#bd3786"
             ],
             [
              0.5555555555555556,
              "#d8576b"
             ],
             [
              0.6666666666666666,
              "#ed7953"
             ],
             [
              0.7777777777777778,
              "#fb9f3a"
             ],
             [
              0.8888888888888888,
              "#fdca26"
             ],
             [
              1,
              "#f0f921"
             ]
            ],
            "type": "histogram2dcontour"
           }
          ],
          "mesh3d": [
           {
            "colorbar": {
             "outlinewidth": 0,
             "ticks": ""
            },
            "type": "mesh3d"
           }
          ],
          "parcoords": [
           {
            "line": {
             "colorbar": {
              "outlinewidth": 0,
              "ticks": ""
             }
            },
            "type": "parcoords"
           }
          ],
          "pie": [
           {
            "automargin": true,
            "type": "pie"
           }
          ],
          "scatter": [
           {
            "marker": {
             "colorbar": {
              "outlinewidth": 0,
              "ticks": ""
             }
            },
            "type": "scatter"
           }
          ],
          "scatter3d": [
           {
            "line": {
             "colorbar": {
              "outlinewidth": 0,
              "ticks": ""
             }
            },
            "marker": {
             "colorbar": {
              "outlinewidth": 0,
              "ticks": ""
             }
            },
            "type": "scatter3d"
           }
          ],
          "scattercarpet": [
           {
            "marker": {
             "colorbar": {
              "outlinewidth": 0,
              "ticks": ""
             }
            },
            "type": "scattercarpet"
           }
          ],
          "scattergeo": [
           {
            "marker": {
             "colorbar": {
              "outlinewidth": 0,
              "ticks": ""
             }
            },
            "type": "scattergeo"
           }
          ],
          "scattergl": [
           {
            "marker": {
             "colorbar": {
              "outlinewidth": 0,
              "ticks": ""
             }
            },
            "type": "scattergl"
           }
          ],
          "scattermapbox": [
           {
            "marker": {
             "colorbar": {
              "outlinewidth": 0,
              "ticks": ""
             }
            },
            "type": "scattermapbox"
           }
          ],
          "scatterpolar": [
           {
            "marker": {
             "colorbar": {
              "outlinewidth": 0,
              "ticks": ""
             }
            },
            "type": "scatterpolar"
           }
          ],
          "scatterpolargl": [
           {
            "marker": {
             "colorbar": {
              "outlinewidth": 0,
              "ticks": ""
             }
            },
            "type": "scatterpolargl"
           }
          ],
          "scatterternary": [
           {
            "marker": {
             "colorbar": {
              "outlinewidth": 0,
              "ticks": ""
             }
            },
            "type": "scatterternary"
           }
          ],
          "surface": [
           {
            "colorbar": {
             "outlinewidth": 0,
             "ticks": ""
            },
            "colorscale": [
             [
              0,
              "#0d0887"
             ],
             [
              0.1111111111111111,
              "#46039f"
             ],
             [
              0.2222222222222222,
              "#7201a8"
             ],
             [
              0.3333333333333333,
              "#9c179e"
             ],
             [
              0.4444444444444444,
              "#bd3786"
             ],
             [
              0.5555555555555556,
              "#d8576b"
             ],
             [
              0.6666666666666666,
              "#ed7953"
             ],
             [
              0.7777777777777778,
              "#fb9f3a"
             ],
             [
              0.8888888888888888,
              "#fdca26"
             ],
             [
              1,
              "#f0f921"
             ]
            ],
            "type": "surface"
           }
          ],
          "table": [
           {
            "cells": {
             "fill": {
              "color": "#EBF0F8"
             },
             "line": {
              "color": "white"
             }
            },
            "header": {
             "fill": {
              "color": "#C8D4E3"
             },
             "line": {
              "color": "white"
             }
            },
            "type": "table"
           }
          ]
         },
         "layout": {
          "annotationdefaults": {
           "arrowcolor": "#2a3f5f",
           "arrowhead": 0,
           "arrowwidth": 1
          },
          "coloraxis": {
           "colorbar": {
            "outlinewidth": 0,
            "ticks": ""
           }
          },
          "colorscale": {
           "diverging": [
            [
             0,
             "#8e0152"
            ],
            [
             0.1,
             "#c51b7d"
            ],
            [
             0.2,
             "#de77ae"
            ],
            [
             0.3,
             "#f1b6da"
            ],
            [
             0.4,
             "#fde0ef"
            ],
            [
             0.5,
             "#f7f7f7"
            ],
            [
             0.6,
             "#e6f5d0"
            ],
            [
             0.7,
             "#b8e186"
            ],
            [
             0.8,
             "#7fbc41"
            ],
            [
             0.9,
             "#4d9221"
            ],
            [
             1,
             "#276419"
            ]
           ],
           "sequential": [
            [
             0,
             "#0d0887"
            ],
            [
             0.1111111111111111,
             "#46039f"
            ],
            [
             0.2222222222222222,
             "#7201a8"
            ],
            [
             0.3333333333333333,
             "#9c179e"
            ],
            [
             0.4444444444444444,
             "#bd3786"
            ],
            [
             0.5555555555555556,
             "#d8576b"
            ],
            [
             0.6666666666666666,
             "#ed7953"
            ],
            [
             0.7777777777777778,
             "#fb9f3a"
            ],
            [
             0.8888888888888888,
             "#fdca26"
            ],
            [
             1,
             "#f0f921"
            ]
           ],
           "sequentialminus": [
            [
             0,
             "#0d0887"
            ],
            [
             0.1111111111111111,
             "#46039f"
            ],
            [
             0.2222222222222222,
             "#7201a8"
            ],
            [
             0.3333333333333333,
             "#9c179e"
            ],
            [
             0.4444444444444444,
             "#bd3786"
            ],
            [
             0.5555555555555556,
             "#d8576b"
            ],
            [
             0.6666666666666666,
             "#ed7953"
            ],
            [
             0.7777777777777778,
             "#fb9f3a"
            ],
            [
             0.8888888888888888,
             "#fdca26"
            ],
            [
             1,
             "#f0f921"
            ]
           ]
          },
          "colorway": [
           "#636efa",
           "#EF553B",
           "#00cc96",
           "#ab63fa",
           "#FFA15A",
           "#19d3f3",
           "#FF6692",
           "#B6E880",
           "#FF97FF",
           "#FECB52"
          ],
          "font": {
           "color": "#2a3f5f"
          },
          "geo": {
           "bgcolor": "white",
           "lakecolor": "white",
           "landcolor": "#E5ECF6",
           "showlakes": true,
           "showland": true,
           "subunitcolor": "white"
          },
          "hoverlabel": {
           "align": "left"
          },
          "hovermode": "closest",
          "mapbox": {
           "style": "light"
          },
          "paper_bgcolor": "white",
          "plot_bgcolor": "#E5ECF6",
          "polar": {
           "angularaxis": {
            "gridcolor": "white",
            "linecolor": "white",
            "ticks": ""
           },
           "bgcolor": "#E5ECF6",
           "radialaxis": {
            "gridcolor": "white",
            "linecolor": "white",
            "ticks": ""
           }
          },
          "scene": {
           "xaxis": {
            "backgroundcolor": "#E5ECF6",
            "gridcolor": "white",
            "gridwidth": 2,
            "linecolor": "white",
            "showbackground": true,
            "ticks": "",
            "zerolinecolor": "white"
           },
           "yaxis": {
            "backgroundcolor": "#E5ECF6",
            "gridcolor": "white",
            "gridwidth": 2,
            "linecolor": "white",
            "showbackground": true,
            "ticks": "",
            "zerolinecolor": "white"
           },
           "zaxis": {
            "backgroundcolor": "#E5ECF6",
            "gridcolor": "white",
            "gridwidth": 2,
            "linecolor": "white",
            "showbackground": true,
            "ticks": "",
            "zerolinecolor": "white"
           }
          },
          "shapedefaults": {
           "line": {
            "color": "#2a3f5f"
           }
          },
          "ternary": {
           "aaxis": {
            "gridcolor": "white",
            "linecolor": "white",
            "ticks": ""
           },
           "baxis": {
            "gridcolor": "white",
            "linecolor": "white",
            "ticks": ""
           },
           "bgcolor": "#E5ECF6",
           "caxis": {
            "gridcolor": "white",
            "linecolor": "white",
            "ticks": ""
           }
          },
          "title": {
           "x": 0.05
          },
          "xaxis": {
           "automargin": true,
           "gridcolor": "white",
           "linecolor": "white",
           "ticks": "",
           "title": {
            "standoff": 15
           },
           "zerolinecolor": "white",
           "zerolinewidth": 2
          },
          "yaxis": {
           "automargin": true,
           "gridcolor": "white",
           "linecolor": "white",
           "ticks": "",
           "title": {
            "standoff": 15
           },
           "zerolinecolor": "white",
           "zerolinewidth": 2
          }
         }
        },
        "title": {
         "text": "WA state - Daily New Cases and Deaths"
        }
       }
      },
      "text/html": [
       "<div>\n",
       "        \n",
       "        \n",
       "            <div id=\"f5e21f4e-943c-4790-83cd-5a49139f30c0\" class=\"plotly-graph-div\" style=\"height:525px; width:100%;\"></div>\n",
       "            <script type=\"text/javascript\">\n",
       "                require([\"plotly\"], function(Plotly) {\n",
       "                    window.PLOTLYENV=window.PLOTLYENV || {};\n",
       "                    \n",
       "                if (document.getElementById(\"f5e21f4e-943c-4790-83cd-5a49139f30c0\")) {\n",
       "                    Plotly.newPlot(\n",
       "                        'f5e21f4e-943c-4790-83cd-5a49139f30c0',\n",
       "                        [{\"name\": \"New Confirmed Cases\", \"type\": \"bar\", \"x\": [\"3/13/20\", \"3/14/20\", \"3/15/20\", \"3/16/20\", \"3/17/20\", \"3/18/20\", \"3/19/20\", \"3/20/20\", \"3/21/20\", \"3/22/20\", \"3/23/20\", \"3/24/20\", \"3/25/20\", \"3/26/20\", \"3/27/20\", \"3/28/20\", \"3/29/20\", \"3/30/20\", \"3/31/20\", \"4/1/20\"], \"y\": [null, 74.0, -39.0, 176.0, 176.0, 67.0, 352.0, 150.0, 269.0, 204.0, 224.0, 107.0, 263.0, 616.0, 270.0, 553.0, 435.0, 458.0, 509.0, 176.0]}, {\"name\": \"New Deaths\", \"type\": \"bar\", \"x\": [\"3/13/20\", \"3/14/20\", \"3/15/20\", \"3/16/20\", \"3/17/20\", \"3/18/20\", \"3/19/20\", \"3/20/20\", \"3/21/20\", \"3/22/20\", \"3/23/20\", \"3/24/20\", \"3/25/20\", \"3/26/20\", \"3/27/20\", \"3/28/20\", \"3/29/20\", \"3/30/20\", \"3/31/20\", \"4/1/20\"], \"y\": [null, 2.0, 1.0, 8.0, 7.0, 12.0, 6.0, 10.0, 11.0, 3.0, 12.0, 7.0, 17.0, 17.0, 7.0, 31.0, 10.0, 7.0, 20.0, 9.0]}],\n",
       "                        {\"template\": {\"data\": {\"bar\": [{\"error_x\": {\"color\": \"#2a3f5f\"}, \"error_y\": {\"color\": \"#2a3f5f\"}, \"marker\": {\"line\": {\"color\": \"#E5ECF6\", \"width\": 0.5}}, \"type\": \"bar\"}], \"barpolar\": [{\"marker\": {\"line\": {\"color\": \"#E5ECF6\", \"width\": 0.5}}, \"type\": \"barpolar\"}], \"carpet\": [{\"aaxis\": {\"endlinecolor\": \"#2a3f5f\", \"gridcolor\": \"white\", \"linecolor\": \"white\", \"minorgridcolor\": \"white\", \"startlinecolor\": \"#2a3f5f\"}, \"baxis\": {\"endlinecolor\": \"#2a3f5f\", \"gridcolor\": \"white\", \"linecolor\": \"white\", \"minorgridcolor\": \"white\", \"startlinecolor\": \"#2a3f5f\"}, \"type\": \"carpet\"}], \"choropleth\": [{\"colorbar\": {\"outlinewidth\": 0, \"ticks\": \"\"}, \"type\": \"choropleth\"}], \"contour\": [{\"colorbar\": {\"outlinewidth\": 0, \"ticks\": \"\"}, \"colorscale\": [[0.0, \"#0d0887\"], [0.1111111111111111, \"#46039f\"], [0.2222222222222222, \"#7201a8\"], [0.3333333333333333, \"#9c179e\"], [0.4444444444444444, \"#bd3786\"], [0.5555555555555556, \"#d8576b\"], [0.6666666666666666, \"#ed7953\"], [0.7777777777777778, \"#fb9f3a\"], [0.8888888888888888, \"#fdca26\"], [1.0, \"#f0f921\"]], \"type\": \"contour\"}], \"contourcarpet\": [{\"colorbar\": {\"outlinewidth\": 0, \"ticks\": \"\"}, \"type\": \"contourcarpet\"}], \"heatmap\": [{\"colorbar\": {\"outlinewidth\": 0, \"ticks\": \"\"}, \"colorscale\": [[0.0, \"#0d0887\"], [0.1111111111111111, \"#46039f\"], [0.2222222222222222, \"#7201a8\"], [0.3333333333333333, \"#9c179e\"], [0.4444444444444444, \"#bd3786\"], [0.5555555555555556, \"#d8576b\"], [0.6666666666666666, \"#ed7953\"], [0.7777777777777778, \"#fb9f3a\"], [0.8888888888888888, \"#fdca26\"], [1.0, \"#f0f921\"]], \"type\": \"heatmap\"}], \"heatmapgl\": [{\"colorbar\": {\"outlinewidth\": 0, \"ticks\": \"\"}, \"colorscale\": [[0.0, \"#0d0887\"], [0.1111111111111111, \"#46039f\"], [0.2222222222222222, \"#7201a8\"], [0.3333333333333333, \"#9c179e\"], [0.4444444444444444, \"#bd3786\"], [0.5555555555555556, \"#d8576b\"], [0.6666666666666666, \"#ed7953\"], [0.7777777777777778, \"#fb9f3a\"], [0.8888888888888888, \"#fdca26\"], [1.0, \"#f0f921\"]], \"type\": \"heatmapgl\"}], \"histogram\": [{\"marker\": {\"colorbar\": {\"outlinewidth\": 0, \"ticks\": \"\"}}, \"type\": \"histogram\"}], \"histogram2d\": [{\"colorbar\": {\"outlinewidth\": 0, \"ticks\": \"\"}, \"colorscale\": [[0.0, \"#0d0887\"], [0.1111111111111111, \"#46039f\"], [0.2222222222222222, \"#7201a8\"], [0.3333333333333333, \"#9c179e\"], [0.4444444444444444, \"#bd3786\"], [0.5555555555555556, \"#d8576b\"], [0.6666666666666666, \"#ed7953\"], [0.7777777777777778, \"#fb9f3a\"], [0.8888888888888888, \"#fdca26\"], [1.0, \"#f0f921\"]], \"type\": \"histogram2d\"}], \"histogram2dcontour\": [{\"colorbar\": {\"outlinewidth\": 0, \"ticks\": \"\"}, \"colorscale\": [[0.0, \"#0d0887\"], [0.1111111111111111, \"#46039f\"], [0.2222222222222222, \"#7201a8\"], [0.3333333333333333, \"#9c179e\"], [0.4444444444444444, \"#bd3786\"], [0.5555555555555556, \"#d8576b\"], [0.6666666666666666, \"#ed7953\"], [0.7777777777777778, \"#fb9f3a\"], [0.8888888888888888, \"#fdca26\"], [1.0, \"#f0f921\"]], \"type\": \"histogram2dcontour\"}], \"mesh3d\": [{\"colorbar\": {\"outlinewidth\": 0, \"ticks\": \"\"}, \"type\": \"mesh3d\"}], \"parcoords\": [{\"line\": {\"colorbar\": {\"outlinewidth\": 0, \"ticks\": \"\"}}, \"type\": \"parcoords\"}], \"pie\": [{\"automargin\": true, \"type\": \"pie\"}], \"scatter\": [{\"marker\": {\"colorbar\": {\"outlinewidth\": 0, \"ticks\": \"\"}}, \"type\": \"scatter\"}], \"scatter3d\": [{\"line\": {\"colorbar\": {\"outlinewidth\": 0, \"ticks\": \"\"}}, \"marker\": {\"colorbar\": {\"outlinewidth\": 0, \"ticks\": \"\"}}, \"type\": \"scatter3d\"}], \"scattercarpet\": [{\"marker\": {\"colorbar\": {\"outlinewidth\": 0, \"ticks\": \"\"}}, \"type\": \"scattercarpet\"}], \"scattergeo\": [{\"marker\": {\"colorbar\": {\"outlinewidth\": 0, \"ticks\": \"\"}}, \"type\": \"scattergeo\"}], \"scattergl\": [{\"marker\": {\"colorbar\": {\"outlinewidth\": 0, \"ticks\": \"\"}}, \"type\": \"scattergl\"}], \"scattermapbox\": [{\"marker\": {\"colorbar\": {\"outlinewidth\": 0, \"ticks\": \"\"}}, \"type\": \"scattermapbox\"}], \"scatterpolar\": [{\"marker\": {\"colorbar\": {\"outlinewidth\": 0, \"ticks\": \"\"}}, \"type\": \"scatterpolar\"}], \"scatterpolargl\": [{\"marker\": {\"colorbar\": {\"outlinewidth\": 0, \"ticks\": \"\"}}, \"type\": \"scatterpolargl\"}], \"scatterternary\": [{\"marker\": {\"colorbar\": {\"outlinewidth\": 0, \"ticks\": \"\"}}, \"type\": \"scatterternary\"}], \"surface\": [{\"colorbar\": {\"outlinewidth\": 0, \"ticks\": \"\"}, \"colorscale\": [[0.0, \"#0d0887\"], [0.1111111111111111, \"#46039f\"], [0.2222222222222222, \"#7201a8\"], [0.3333333333333333, \"#9c179e\"], [0.4444444444444444, \"#bd3786\"], [0.5555555555555556, \"#d8576b\"], [0.6666666666666666, \"#ed7953\"], [0.7777777777777778, \"#fb9f3a\"], [0.8888888888888888, \"#fdca26\"], [1.0, \"#f0f921\"]], \"type\": \"surface\"}], \"table\": [{\"cells\": {\"fill\": {\"color\": \"#EBF0F8\"}, \"line\": {\"color\": \"white\"}}, \"header\": {\"fill\": {\"color\": \"#C8D4E3\"}, \"line\": {\"color\": \"white\"}}, \"type\": \"table\"}]}, \"layout\": {\"annotationdefaults\": {\"arrowcolor\": \"#2a3f5f\", \"arrowhead\": 0, \"arrowwidth\": 1}, \"coloraxis\": {\"colorbar\": {\"outlinewidth\": 0, \"ticks\": \"\"}}, \"colorscale\": {\"diverging\": [[0, \"#8e0152\"], [0.1, \"#c51b7d\"], [0.2, \"#de77ae\"], [0.3, \"#f1b6da\"], [0.4, \"#fde0ef\"], [0.5, \"#f7f7f7\"], [0.6, \"#e6f5d0\"], [0.7, \"#b8e186\"], [0.8, \"#7fbc41\"], [0.9, \"#4d9221\"], [1, \"#276419\"]], \"sequential\": [[0.0, \"#0d0887\"], [0.1111111111111111, \"#46039f\"], [0.2222222222222222, \"#7201a8\"], [0.3333333333333333, \"#9c179e\"], [0.4444444444444444, \"#bd3786\"], [0.5555555555555556, \"#d8576b\"], [0.6666666666666666, \"#ed7953\"], [0.7777777777777778, \"#fb9f3a\"], [0.8888888888888888, \"#fdca26\"], [1.0, \"#f0f921\"]], \"sequentialminus\": [[0.0, \"#0d0887\"], [0.1111111111111111, \"#46039f\"], [0.2222222222222222, \"#7201a8\"], [0.3333333333333333, \"#9c179e\"], [0.4444444444444444, \"#bd3786\"], [0.5555555555555556, \"#d8576b\"], [0.6666666666666666, \"#ed7953\"], [0.7777777777777778, \"#fb9f3a\"], [0.8888888888888888, \"#fdca26\"], [1.0, \"#f0f921\"]]}, \"colorway\": [\"#636efa\", \"#EF553B\", \"#00cc96\", \"#ab63fa\", \"#FFA15A\", \"#19d3f3\", \"#FF6692\", \"#B6E880\", \"#FF97FF\", \"#FECB52\"], \"font\": {\"color\": \"#2a3f5f\"}, \"geo\": {\"bgcolor\": \"white\", \"lakecolor\": \"white\", \"landcolor\": \"#E5ECF6\", \"showlakes\": true, \"showland\": true, \"subunitcolor\": \"white\"}, \"hoverlabel\": {\"align\": \"left\"}, \"hovermode\": \"closest\", \"mapbox\": {\"style\": \"light\"}, \"paper_bgcolor\": \"white\", \"plot_bgcolor\": \"#E5ECF6\", \"polar\": {\"angularaxis\": {\"gridcolor\": \"white\", \"linecolor\": \"white\", \"ticks\": \"\"}, \"bgcolor\": \"#E5ECF6\", \"radialaxis\": {\"gridcolor\": \"white\", \"linecolor\": \"white\", \"ticks\": \"\"}}, \"scene\": {\"xaxis\": {\"backgroundcolor\": \"#E5ECF6\", \"gridcolor\": \"white\", \"gridwidth\": 2, \"linecolor\": \"white\", \"showbackground\": true, \"ticks\": \"\", \"zerolinecolor\": \"white\"}, \"yaxis\": {\"backgroundcolor\": \"#E5ECF6\", \"gridcolor\": \"white\", \"gridwidth\": 2, \"linecolor\": \"white\", \"showbackground\": true, \"ticks\": \"\", \"zerolinecolor\": \"white\"}, \"zaxis\": {\"backgroundcolor\": \"#E5ECF6\", \"gridcolor\": \"white\", \"gridwidth\": 2, \"linecolor\": \"white\", \"showbackground\": true, \"ticks\": \"\", \"zerolinecolor\": \"white\"}}, \"shapedefaults\": {\"line\": {\"color\": \"#2a3f5f\"}}, \"ternary\": {\"aaxis\": {\"gridcolor\": \"white\", \"linecolor\": \"white\", \"ticks\": \"\"}, \"baxis\": {\"gridcolor\": \"white\", \"linecolor\": \"white\", \"ticks\": \"\"}, \"bgcolor\": \"#E5ECF6\", \"caxis\": {\"gridcolor\": \"white\", \"linecolor\": \"white\", \"ticks\": \"\"}}, \"title\": {\"x\": 0.05}, \"xaxis\": {\"automargin\": true, \"gridcolor\": \"white\", \"linecolor\": \"white\", \"ticks\": \"\", \"title\": {\"standoff\": 15}, \"zerolinecolor\": \"white\", \"zerolinewidth\": 2}, \"yaxis\": {\"automargin\": true, \"gridcolor\": \"white\", \"linecolor\": \"white\", \"ticks\": \"\", \"title\": {\"standoff\": 15}, \"zerolinecolor\": \"white\", \"zerolinewidth\": 2}}}, \"title\": {\"text\": \"WA state - Daily New Cases and Deaths\"}},\n",
       "                        {\"responsive\": true}\n",
       "                    ).then(function(){\n",
       "                            \n",
       "var gd = document.getElementById('f5e21f4e-943c-4790-83cd-5a49139f30c0');\n",
       "var x = new MutationObserver(function (mutations, observer) {{\n",
       "        var display = window.getComputedStyle(gd).display;\n",
       "        if (!display || display === 'none') {{\n",
       "            console.log([gd, 'removed!']);\n",
       "            Plotly.purge(gd);\n",
       "            observer.disconnect();\n",
       "        }}\n",
       "}});\n",
       "\n",
       "// Listen for the removal of the full notebook cells\n",
       "var notebookContainer = gd.closest('#notebook-container');\n",
       "if (notebookContainer) {{\n",
       "    x.observe(notebookContainer, {childList: true});\n",
       "}}\n",
       "\n",
       "// Listen for the clearing of the current output cell\n",
       "var outputEl = gd.closest('.output');\n",
       "if (outputEl) {{\n",
       "    x.observe(outputEl, {childList: true});\n",
       "}}\n",
       "\n",
       "                        })\n",
       "                };\n",
       "                });\n",
       "            </script>\n",
       "        </div>"
      ]
     },
     "metadata": {},
     "output_type": "display_data"
    }
   ],
   "source": [
    "dfWAConfirmedDailyNew = dfWAConfirmed[dfWAConfirmed.columns[-DEFAULT_DAYS:]].diff(axis=1)\n",
    "dfWADeathsDailyNew = dfWADeaths[dfWADeaths.columns[-DEFAULT_DAYS:]].diff(axis=1)\n",
    "\n",
    "\n",
    "trace1 = go.Bar(\n",
    "    x = dfWAConfirmedDailyNew.columns,\n",
    "    y = dfWAConfirmedDailyNew.iloc[0], name = 'New Confirmed Cases')\n",
    "\n",
    "trace2 = go.Bar(\n",
    "    x = dfWADeathsDailyNew.columns,\n",
    "    y = dfWADeathsDailyNew.iloc[0], name = 'New Deaths')\n",
    "\n",
    "data = [trace1, trace2]\n",
    "layout = dict(title = 'WA state - Daily New Cases and Deaths')\n",
    "\n",
    "py.iplot(dict(data=data, layout=layout))"
   ]
  },
  {
   "cell_type": "markdown",
   "metadata": {},
   "source": [
    "# Washington State County by County Data"
   ]
  },
  {
   "cell_type": "code",
   "execution_count": 19,
   "metadata": {
    "ExecuteTime": {
     "end_time": "2020-04-02T06:13:54.355911Z",
     "start_time": "2020-04-02T06:13:53.739912Z"
    },
    "extensions": {
     "jupyter_dashboards": {
      "version": 1,
      "views": {
       "grid_default": {},
       "report_default": {
        "hidden": false
       }
      }
     }
    },
    "scrolled": false
   },
   "outputs": [
    {
     "data": {
      "application/vnd.plotly.v1+json": {
       "config": {
        "linkText": "Export to plot.ly",
        "plotlyServerURL": "https://plot.ly",
        "showLink": false
       },
       "data": [
        {
         "name": "King",
         "type": "scatter",
         "x": [
          "3/13/20",
          "3/14/20",
          "3/15/20",
          "3/16/20",
          "3/17/20",
          "3/18/20",
          "3/19/20",
          "3/20/20",
          "3/21/20",
          "3/22/20",
          "3/23/20",
          "3/24/20",
          "3/25/20",
          "3/26/20",
          "3/27/20",
          "3/28/20",
          "3/29/20",
          "3/30/20",
          "3/31/20",
          "4/1/20"
         ],
         "y": [
          328,
          387,
          387,
          488,
          569,
          562,
          693,
          793,
          934,
          1040,
          1170,
          1170,
          1359,
          1577,
          1577,
          2077,
          2159,
          2161,
          2330,
          2330
         ]
        },
        {
         "name": "Snohomish",
         "type": "scatter",
         "x": [
          "3/13/20",
          "3/14/20",
          "3/15/20",
          "3/16/20",
          "3/17/20",
          "3/18/20",
          "3/19/20",
          "3/20/20",
          "3/21/20",
          "3/22/20",
          "3/23/20",
          "3/24/20",
          "3/25/20",
          "3/26/20",
          "3/27/20",
          "3/28/20",
          "3/29/20",
          "3/30/20",
          "3/31/20",
          "4/1/20"
         ],
         "y": [
          133,
          154,
          154,
          200,
          266,
          310,
          348,
          385,
          447,
          480,
          519,
          614,
          634,
          778,
          912,
          913,
          912,
          1068,
          1229,
          1304
         ]
        },
        {
         "name": "Pierce",
         "type": "scatter",
         "x": [
          "3/13/20",
          "3/14/20",
          "3/15/20",
          "3/16/20",
          "3/17/20",
          "3/18/20",
          "3/19/20",
          "3/20/20",
          "3/21/20",
          "3/22/20",
          "3/23/20",
          "3/24/20",
          "3/25/20",
          "3/26/20",
          "3/27/20",
          "3/28/20",
          "3/29/20",
          "3/30/20",
          "3/31/20",
          "4/1/20"
         ],
         "y": [
          19,
          26,
          26,
          38,
          45,
          56,
          75,
          83,
          95,
          107,
          126,
          138,
          155,
          186,
          231,
          231,
          317,
          317,
          377,
          377
         ]
        },
        {
         "name": "Unassigned",
         "type": "scatter",
         "x": [
          "3/13/20",
          "3/14/20",
          "3/15/20",
          "3/16/20",
          "3/17/20",
          "3/18/20",
          "3/19/20",
          "3/20/20",
          "3/21/20",
          "3/22/20",
          "3/23/20",
          "3/24/20",
          "3/25/20",
          "3/26/20",
          "3/27/20",
          "3/28/20",
          "3/29/20",
          "3/30/20",
          "3/31/20",
          "4/1/20"
         ],
         "y": [
          65,
          39,
          0,
          0,
          0,
          0,
          151,
          130,
          146,
          164,
          145,
          112,
          51,
          69,
          67,
          0,
          125,
          274,
          274,
          303
         ]
        },
        {
         "name": "Yakima",
         "type": "scatter",
         "x": [
          "3/13/20",
          "3/14/20",
          "3/15/20",
          "3/16/20",
          "3/17/20",
          "3/18/20",
          "3/19/20",
          "3/20/20",
          "3/21/20",
          "3/22/20",
          "3/23/20",
          "3/24/20",
          "3/25/20",
          "3/26/20",
          "3/27/20",
          "3/28/20",
          "3/29/20",
          "3/30/20",
          "3/31/20",
          "4/1/20"
         ],
         "y": [
          2,
          4,
          4,
          4,
          5,
          7,
          7,
          10,
          13,
          16,
          16,
          25,
          47,
          61,
          66,
          82,
          140,
          147,
          161,
          161
         ]
        },
        {
         "name": "Spokane",
         "type": "scatter",
         "x": [
          "3/13/20",
          "3/14/20",
          "3/15/20",
          "3/16/20",
          "3/17/20",
          "3/18/20",
          "3/19/20",
          "3/20/20",
          "3/21/20",
          "3/22/20",
          "3/23/20",
          "3/24/20",
          "3/25/20",
          "3/26/20",
          "3/27/20",
          "3/28/20",
          "3/29/20",
          "3/30/20",
          "3/31/20",
          "4/1/20"
         ],
         "y": [
          0,
          3,
          3,
          3,
          4,
          5,
          9,
          11,
          16,
          20,
          20,
          29,
          33,
          67,
          83,
          108,
          108,
          136,
          136,
          158
         ]
        },
        {
         "name": "Whatcom",
         "type": "scatter",
         "x": [
          "3/13/20",
          "3/14/20",
          "3/15/20",
          "3/16/20",
          "3/17/20",
          "3/18/20",
          "3/19/20",
          "3/20/20",
          "3/21/20",
          "3/22/20",
          "3/23/20",
          "3/24/20",
          "3/25/20",
          "3/26/20",
          "3/27/20",
          "3/28/20",
          "3/29/20",
          "3/30/20",
          "3/31/20",
          "4/1/20"
         ],
         "y": [
          1,
          2,
          2,
          3,
          6,
          7,
          7,
          10,
          14,
          14,
          48,
          48,
          64,
          86,
          92,
          102,
          116,
          116,
          139,
          139
         ]
        },
        {
         "name": "Clark",
         "type": "scatter",
         "x": [
          "3/13/20",
          "3/14/20",
          "3/15/20",
          "3/16/20",
          "3/17/20",
          "3/18/20",
          "3/19/20",
          "3/20/20",
          "3/21/20",
          "3/22/20",
          "3/23/20",
          "3/24/20",
          "3/25/20",
          "3/26/20",
          "3/27/20",
          "3/28/20",
          "3/29/20",
          "3/30/20",
          "3/31/20",
          "4/1/20"
         ],
         "y": [
          3,
          3,
          3,
          4,
          4,
          4,
          4,
          6,
          9,
          10,
          13,
          13,
          16,
          48,
          76,
          82,
          90,
          90,
          116,
          130
         ]
        },
        {
         "name": "Skagit",
         "type": "scatter",
         "x": [
          "3/13/20",
          "3/14/20",
          "3/15/20",
          "3/16/20",
          "3/17/20",
          "3/18/20",
          "3/19/20",
          "3/20/20",
          "3/21/20",
          "3/22/20",
          "3/23/20",
          "3/24/20",
          "3/25/20",
          "3/26/20",
          "3/27/20",
          "3/28/20",
          "3/29/20",
          "3/30/20",
          "3/31/20",
          "4/1/20"
         ],
         "y": [
          3,
          4,
          4,
          7,
          9,
          14,
          18,
          25,
          28,
          33,
          33,
          45,
          48,
          78,
          78,
          91,
          99,
          101,
          121,
          128
         ]
        },
        {
         "name": "Island",
         "type": "scatter",
         "x": [
          "3/13/20",
          "3/14/20",
          "3/15/20",
          "3/16/20",
          "3/17/20",
          "3/18/20",
          "3/19/20",
          "3/20/20",
          "3/21/20",
          "3/22/20",
          "3/23/20",
          "3/24/20",
          "3/25/20",
          "3/26/20",
          "3/27/20",
          "3/28/20",
          "3/29/20",
          "3/30/20",
          "3/31/20",
          "4/1/20"
         ],
         "y": [
          3,
          6,
          6,
          7,
          14,
          16,
          17,
          19,
          19,
          21,
          25,
          25,
          38,
          64,
          64,
          80,
          93,
          105,
          106,
          109
         ]
        }
       ],
       "layout": {
        "template": {
         "data": {
          "bar": [
           {
            "error_x": {
             "color": "#2a3f5f"
            },
            "error_y": {
             "color": "#2a3f5f"
            },
            "marker": {
             "line": {
              "color": "#E5ECF6",
              "width": 0.5
             }
            },
            "type": "bar"
           }
          ],
          "barpolar": [
           {
            "marker": {
             "line": {
              "color": "#E5ECF6",
              "width": 0.5
             }
            },
            "type": "barpolar"
           }
          ],
          "carpet": [
           {
            "aaxis": {
             "endlinecolor": "#2a3f5f",
             "gridcolor": "white",
             "linecolor": "white",
             "minorgridcolor": "white",
             "startlinecolor": "#2a3f5f"
            },
            "baxis": {
             "endlinecolor": "#2a3f5f",
             "gridcolor": "white",
             "linecolor": "white",
             "minorgridcolor": "white",
             "startlinecolor": "#2a3f5f"
            },
            "type": "carpet"
           }
          ],
          "choropleth": [
           {
            "colorbar": {
             "outlinewidth": 0,
             "ticks": ""
            },
            "type": "choropleth"
           }
          ],
          "contour": [
           {
            "colorbar": {
             "outlinewidth": 0,
             "ticks": ""
            },
            "colorscale": [
             [
              0,
              "#0d0887"
             ],
             [
              0.1111111111111111,
              "#46039f"
             ],
             [
              0.2222222222222222,
              "#7201a8"
             ],
             [
              0.3333333333333333,
              "#9c179e"
             ],
             [
              0.4444444444444444,
              "#bd3786"
             ],
             [
              0.5555555555555556,
              "#d8576b"
             ],
             [
              0.6666666666666666,
              "#ed7953"
             ],
             [
              0.7777777777777778,
              "#fb9f3a"
             ],
             [
              0.8888888888888888,
              "#fdca26"
             ],
             [
              1,
              "#f0f921"
             ]
            ],
            "type": "contour"
           }
          ],
          "contourcarpet": [
           {
            "colorbar": {
             "outlinewidth": 0,
             "ticks": ""
            },
            "type": "contourcarpet"
           }
          ],
          "heatmap": [
           {
            "colorbar": {
             "outlinewidth": 0,
             "ticks": ""
            },
            "colorscale": [
             [
              0,
              "#0d0887"
             ],
             [
              0.1111111111111111,
              "#46039f"
             ],
             [
              0.2222222222222222,
              "#7201a8"
             ],
             [
              0.3333333333333333,
              "#9c179e"
             ],
             [
              0.4444444444444444,
              "#bd3786"
             ],
             [
              0.5555555555555556,
              "#d8576b"
             ],
             [
              0.6666666666666666,
              "#ed7953"
             ],
             [
              0.7777777777777778,
              "#fb9f3a"
             ],
             [
              0.8888888888888888,
              "#fdca26"
             ],
             [
              1,
              "#f0f921"
             ]
            ],
            "type": "heatmap"
           }
          ],
          "heatmapgl": [
           {
            "colorbar": {
             "outlinewidth": 0,
             "ticks": ""
            },
            "colorscale": [
             [
              0,
              "#0d0887"
             ],
             [
              0.1111111111111111,
              "#46039f"
             ],
             [
              0.2222222222222222,
              "#7201a8"
             ],
             [
              0.3333333333333333,
              "#9c179e"
             ],
             [
              0.4444444444444444,
              "#bd3786"
             ],
             [
              0.5555555555555556,
              "#d8576b"
             ],
             [
              0.6666666666666666,
              "#ed7953"
             ],
             [
              0.7777777777777778,
              "#fb9f3a"
             ],
             [
              0.8888888888888888,
              "#fdca26"
             ],
             [
              1,
              "#f0f921"
             ]
            ],
            "type": "heatmapgl"
           }
          ],
          "histogram": [
           {
            "marker": {
             "colorbar": {
              "outlinewidth": 0,
              "ticks": ""
             }
            },
            "type": "histogram"
           }
          ],
          "histogram2d": [
           {
            "colorbar": {
             "outlinewidth": 0,
             "ticks": ""
            },
            "colorscale": [
             [
              0,
              "#0d0887"
             ],
             [
              0.1111111111111111,
              "#46039f"
             ],
             [
              0.2222222222222222,
              "#7201a8"
             ],
             [
              0.3333333333333333,
              "#9c179e"
             ],
             [
              0.4444444444444444,
              "#bd3786"
             ],
             [
              0.5555555555555556,
              "#d8576b"
             ],
             [
              0.6666666666666666,
              "#ed7953"
             ],
             [
              0.7777777777777778,
              "#fb9f3a"
             ],
             [
              0.8888888888888888,
              "#fdca26"
             ],
             [
              1,
              "#f0f921"
             ]
            ],
            "type": "histogram2d"
           }
          ],
          "histogram2dcontour": [
           {
            "colorbar": {
             "outlinewidth": 0,
             "ticks": ""
            },
            "colorscale": [
             [
              0,
              "#0d0887"
             ],
             [
              0.1111111111111111,
              "#46039f"
             ],
             [
              0.2222222222222222,
              "#7201a8"
             ],
             [
              0.3333333333333333,
              "#9c179e"
             ],
             [
              0.4444444444444444,
              "#bd3786"
             ],
             [
              0.5555555555555556,
              "#d8576b"
             ],
             [
              0.6666666666666666,
              "#ed7953"
             ],
             [
              0.7777777777777778,
              "#fb9f3a"
             ],
             [
              0.8888888888888888,
              "#fdca26"
             ],
             [
              1,
              "#f0f921"
             ]
            ],
            "type": "histogram2dcontour"
           }
          ],
          "mesh3d": [
           {
            "colorbar": {
             "outlinewidth": 0,
             "ticks": ""
            },
            "type": "mesh3d"
           }
          ],
          "parcoords": [
           {
            "line": {
             "colorbar": {
              "outlinewidth": 0,
              "ticks": ""
             }
            },
            "type": "parcoords"
           }
          ],
          "pie": [
           {
            "automargin": true,
            "type": "pie"
           }
          ],
          "scatter": [
           {
            "marker": {
             "colorbar": {
              "outlinewidth": 0,
              "ticks": ""
             }
            },
            "type": "scatter"
           }
          ],
          "scatter3d": [
           {
            "line": {
             "colorbar": {
              "outlinewidth": 0,
              "ticks": ""
             }
            },
            "marker": {
             "colorbar": {
              "outlinewidth": 0,
              "ticks": ""
             }
            },
            "type": "scatter3d"
           }
          ],
          "scattercarpet": [
           {
            "marker": {
             "colorbar": {
              "outlinewidth": 0,
              "ticks": ""
             }
            },
            "type": "scattercarpet"
           }
          ],
          "scattergeo": [
           {
            "marker": {
             "colorbar": {
              "outlinewidth": 0,
              "ticks": ""
             }
            },
            "type": "scattergeo"
           }
          ],
          "scattergl": [
           {
            "marker": {
             "colorbar": {
              "outlinewidth": 0,
              "ticks": ""
             }
            },
            "type": "scattergl"
           }
          ],
          "scattermapbox": [
           {
            "marker": {
             "colorbar": {
              "outlinewidth": 0,
              "ticks": ""
             }
            },
            "type": "scattermapbox"
           }
          ],
          "scatterpolar": [
           {
            "marker": {
             "colorbar": {
              "outlinewidth": 0,
              "ticks": ""
             }
            },
            "type": "scatterpolar"
           }
          ],
          "scatterpolargl": [
           {
            "marker": {
             "colorbar": {
              "outlinewidth": 0,
              "ticks": ""
             }
            },
            "type": "scatterpolargl"
           }
          ],
          "scatterternary": [
           {
            "marker": {
             "colorbar": {
              "outlinewidth": 0,
              "ticks": ""
             }
            },
            "type": "scatterternary"
           }
          ],
          "surface": [
           {
            "colorbar": {
             "outlinewidth": 0,
             "ticks": ""
            },
            "colorscale": [
             [
              0,
              "#0d0887"
             ],
             [
              0.1111111111111111,
              "#46039f"
             ],
             [
              0.2222222222222222,
              "#7201a8"
             ],
             [
              0.3333333333333333,
              "#9c179e"
             ],
             [
              0.4444444444444444,
              "#bd3786"
             ],
             [
              0.5555555555555556,
              "#d8576b"
             ],
             [
              0.6666666666666666,
              "#ed7953"
             ],
             [
              0.7777777777777778,
              "#fb9f3a"
             ],
             [
              0.8888888888888888,
              "#fdca26"
             ],
             [
              1,
              "#f0f921"
             ]
            ],
            "type": "surface"
           }
          ],
          "table": [
           {
            "cells": {
             "fill": {
              "color": "#EBF0F8"
             },
             "line": {
              "color": "white"
             }
            },
            "header": {
             "fill": {
              "color": "#C8D4E3"
             },
             "line": {
              "color": "white"
             }
            },
            "type": "table"
           }
          ]
         },
         "layout": {
          "annotationdefaults": {
           "arrowcolor": "#2a3f5f",
           "arrowhead": 0,
           "arrowwidth": 1
          },
          "coloraxis": {
           "colorbar": {
            "outlinewidth": 0,
            "ticks": ""
           }
          },
          "colorscale": {
           "diverging": [
            [
             0,
             "#8e0152"
            ],
            [
             0.1,
             "#c51b7d"
            ],
            [
             0.2,
             "#de77ae"
            ],
            [
             0.3,
             "#f1b6da"
            ],
            [
             0.4,
             "#fde0ef"
            ],
            [
             0.5,
             "#f7f7f7"
            ],
            [
             0.6,
             "#e6f5d0"
            ],
            [
             0.7,
             "#b8e186"
            ],
            [
             0.8,
             "#7fbc41"
            ],
            [
             0.9,
             "#4d9221"
            ],
            [
             1,
             "#276419"
            ]
           ],
           "sequential": [
            [
             0,
             "#0d0887"
            ],
            [
             0.1111111111111111,
             "#46039f"
            ],
            [
             0.2222222222222222,
             "#7201a8"
            ],
            [
             0.3333333333333333,
             "#9c179e"
            ],
            [
             0.4444444444444444,
             "#bd3786"
            ],
            [
             0.5555555555555556,
             "#d8576b"
            ],
            [
             0.6666666666666666,
             "#ed7953"
            ],
            [
             0.7777777777777778,
             "#fb9f3a"
            ],
            [
             0.8888888888888888,
             "#fdca26"
            ],
            [
             1,
             "#f0f921"
            ]
           ],
           "sequentialminus": [
            [
             0,
             "#0d0887"
            ],
            [
             0.1111111111111111,
             "#46039f"
            ],
            [
             0.2222222222222222,
             "#7201a8"
            ],
            [
             0.3333333333333333,
             "#9c179e"
            ],
            [
             0.4444444444444444,
             "#bd3786"
            ],
            [
             0.5555555555555556,
             "#d8576b"
            ],
            [
             0.6666666666666666,
             "#ed7953"
            ],
            [
             0.7777777777777778,
             "#fb9f3a"
            ],
            [
             0.8888888888888888,
             "#fdca26"
            ],
            [
             1,
             "#f0f921"
            ]
           ]
          },
          "colorway": [
           "#636efa",
           "#EF553B",
           "#00cc96",
           "#ab63fa",
           "#FFA15A",
           "#19d3f3",
           "#FF6692",
           "#B6E880",
           "#FF97FF",
           "#FECB52"
          ],
          "font": {
           "color": "#2a3f5f"
          },
          "geo": {
           "bgcolor": "white",
           "lakecolor": "white",
           "landcolor": "#E5ECF6",
           "showlakes": true,
           "showland": true,
           "subunitcolor": "white"
          },
          "hoverlabel": {
           "align": "left"
          },
          "hovermode": "closest",
          "mapbox": {
           "style": "light"
          },
          "paper_bgcolor": "white",
          "plot_bgcolor": "#E5ECF6",
          "polar": {
           "angularaxis": {
            "gridcolor": "white",
            "linecolor": "white",
            "ticks": ""
           },
           "bgcolor": "#E5ECF6",
           "radialaxis": {
            "gridcolor": "white",
            "linecolor": "white",
            "ticks": ""
           }
          },
          "scene": {
           "xaxis": {
            "backgroundcolor": "#E5ECF6",
            "gridcolor": "white",
            "gridwidth": 2,
            "linecolor": "white",
            "showbackground": true,
            "ticks": "",
            "zerolinecolor": "white"
           },
           "yaxis": {
            "backgroundcolor": "#E5ECF6",
            "gridcolor": "white",
            "gridwidth": 2,
            "linecolor": "white",
            "showbackground": true,
            "ticks": "",
            "zerolinecolor": "white"
           },
           "zaxis": {
            "backgroundcolor": "#E5ECF6",
            "gridcolor": "white",
            "gridwidth": 2,
            "linecolor": "white",
            "showbackground": true,
            "ticks": "",
            "zerolinecolor": "white"
           }
          },
          "shapedefaults": {
           "line": {
            "color": "#2a3f5f"
           }
          },
          "ternary": {
           "aaxis": {
            "gridcolor": "white",
            "linecolor": "white",
            "ticks": ""
           },
           "baxis": {
            "gridcolor": "white",
            "linecolor": "white",
            "ticks": ""
           },
           "bgcolor": "#E5ECF6",
           "caxis": {
            "gridcolor": "white",
            "linecolor": "white",
            "ticks": ""
           }
          },
          "title": {
           "x": 0.05
          },
          "xaxis": {
           "automargin": true,
           "gridcolor": "white",
           "linecolor": "white",
           "ticks": "",
           "title": {
            "standoff": 15
           },
           "zerolinecolor": "white",
           "zerolinewidth": 2
          },
          "yaxis": {
           "automargin": true,
           "gridcolor": "white",
           "linecolor": "white",
           "ticks": "",
           "title": {
            "standoff": 15
           },
           "zerolinecolor": "white",
           "zerolinewidth": 2
          }
         }
        },
        "title": {
         "text": "WA Counties - Cumulative Confirmed Cases"
        },
        "updatemenus": [
         {
          "active": 0,
          "buttons": [
           {
            "args": [
             {
              "visible": [
               true,
               true
              ]
             },
             {
              "yaxis": {
               "type": "linear"
              }
             }
            ],
            "label": "Linear Scale",
            "method": "update"
           },
           {
            "args": [
             {
              "visible": [
               true,
               true
              ]
             },
             {
              "yaxis": {
               "type": "log"
              }
             }
            ],
            "label": "Logarithmic Scale",
            "method": "update"
           }
          ],
          "direction": "right",
          "type": "buttons",
          "x": 0.45,
          "xanchor": "left",
          "y": 1.1,
          "yanchor": "top"
         }
        ]
       }
      },
      "text/html": [
       "<div>\n",
       "        \n",
       "        \n",
       "            <div id=\"c994c6cf-cd5f-474c-bdfd-097ea207be3f\" class=\"plotly-graph-div\" style=\"height:525px; width:100%;\"></div>\n",
       "            <script type=\"text/javascript\">\n",
       "                require([\"plotly\"], function(Plotly) {\n",
       "                    window.PLOTLYENV=window.PLOTLYENV || {};\n",
       "                    \n",
       "                if (document.getElementById(\"c994c6cf-cd5f-474c-bdfd-097ea207be3f\")) {\n",
       "                    Plotly.newPlot(\n",
       "                        'c994c6cf-cd5f-474c-bdfd-097ea207be3f',\n",
       "                        [{\"name\": \"King\", \"type\": \"scatter\", \"x\": [\"3/13/20\", \"3/14/20\", \"3/15/20\", \"3/16/20\", \"3/17/20\", \"3/18/20\", \"3/19/20\", \"3/20/20\", \"3/21/20\", \"3/22/20\", \"3/23/20\", \"3/24/20\", \"3/25/20\", \"3/26/20\", \"3/27/20\", \"3/28/20\", \"3/29/20\", \"3/30/20\", \"3/31/20\", \"4/1/20\"], \"y\": [328, 387, 387, 488, 569, 562, 693, 793, 934, 1040, 1170, 1170, 1359, 1577, 1577, 2077, 2159, 2161, 2330, 2330]}, {\"name\": \"Snohomish\", \"type\": \"scatter\", \"x\": [\"3/13/20\", \"3/14/20\", \"3/15/20\", \"3/16/20\", \"3/17/20\", \"3/18/20\", \"3/19/20\", \"3/20/20\", \"3/21/20\", \"3/22/20\", \"3/23/20\", \"3/24/20\", \"3/25/20\", \"3/26/20\", \"3/27/20\", \"3/28/20\", \"3/29/20\", \"3/30/20\", \"3/31/20\", \"4/1/20\"], \"y\": [133, 154, 154, 200, 266, 310, 348, 385, 447, 480, 519, 614, 634, 778, 912, 913, 912, 1068, 1229, 1304]}, {\"name\": \"Pierce\", \"type\": \"scatter\", \"x\": [\"3/13/20\", \"3/14/20\", \"3/15/20\", \"3/16/20\", \"3/17/20\", \"3/18/20\", \"3/19/20\", \"3/20/20\", \"3/21/20\", \"3/22/20\", \"3/23/20\", \"3/24/20\", \"3/25/20\", \"3/26/20\", \"3/27/20\", \"3/28/20\", \"3/29/20\", \"3/30/20\", \"3/31/20\", \"4/1/20\"], \"y\": [19, 26, 26, 38, 45, 56, 75, 83, 95, 107, 126, 138, 155, 186, 231, 231, 317, 317, 377, 377]}, {\"name\": \"Unassigned\", \"type\": \"scatter\", \"x\": [\"3/13/20\", \"3/14/20\", \"3/15/20\", \"3/16/20\", \"3/17/20\", \"3/18/20\", \"3/19/20\", \"3/20/20\", \"3/21/20\", \"3/22/20\", \"3/23/20\", \"3/24/20\", \"3/25/20\", \"3/26/20\", \"3/27/20\", \"3/28/20\", \"3/29/20\", \"3/30/20\", \"3/31/20\", \"4/1/20\"], \"y\": [65, 39, 0, 0, 0, 0, 151, 130, 146, 164, 145, 112, 51, 69, 67, 0, 125, 274, 274, 303]}, {\"name\": \"Yakima\", \"type\": \"scatter\", \"x\": [\"3/13/20\", \"3/14/20\", \"3/15/20\", \"3/16/20\", \"3/17/20\", \"3/18/20\", \"3/19/20\", \"3/20/20\", \"3/21/20\", \"3/22/20\", \"3/23/20\", \"3/24/20\", \"3/25/20\", \"3/26/20\", \"3/27/20\", \"3/28/20\", \"3/29/20\", \"3/30/20\", \"3/31/20\", \"4/1/20\"], \"y\": [2, 4, 4, 4, 5, 7, 7, 10, 13, 16, 16, 25, 47, 61, 66, 82, 140, 147, 161, 161]}, {\"name\": \"Spokane\", \"type\": \"scatter\", \"x\": [\"3/13/20\", \"3/14/20\", \"3/15/20\", \"3/16/20\", \"3/17/20\", \"3/18/20\", \"3/19/20\", \"3/20/20\", \"3/21/20\", \"3/22/20\", \"3/23/20\", \"3/24/20\", \"3/25/20\", \"3/26/20\", \"3/27/20\", \"3/28/20\", \"3/29/20\", \"3/30/20\", \"3/31/20\", \"4/1/20\"], \"y\": [0, 3, 3, 3, 4, 5, 9, 11, 16, 20, 20, 29, 33, 67, 83, 108, 108, 136, 136, 158]}, {\"name\": \"Whatcom\", \"type\": \"scatter\", \"x\": [\"3/13/20\", \"3/14/20\", \"3/15/20\", \"3/16/20\", \"3/17/20\", \"3/18/20\", \"3/19/20\", \"3/20/20\", \"3/21/20\", \"3/22/20\", \"3/23/20\", \"3/24/20\", \"3/25/20\", \"3/26/20\", \"3/27/20\", \"3/28/20\", \"3/29/20\", \"3/30/20\", \"3/31/20\", \"4/1/20\"], \"y\": [1, 2, 2, 3, 6, 7, 7, 10, 14, 14, 48, 48, 64, 86, 92, 102, 116, 116, 139, 139]}, {\"name\": \"Clark\", \"type\": \"scatter\", \"x\": [\"3/13/20\", \"3/14/20\", \"3/15/20\", \"3/16/20\", \"3/17/20\", \"3/18/20\", \"3/19/20\", \"3/20/20\", \"3/21/20\", \"3/22/20\", \"3/23/20\", \"3/24/20\", \"3/25/20\", \"3/26/20\", \"3/27/20\", \"3/28/20\", \"3/29/20\", \"3/30/20\", \"3/31/20\", \"4/1/20\"], \"y\": [3, 3, 3, 4, 4, 4, 4, 6, 9, 10, 13, 13, 16, 48, 76, 82, 90, 90, 116, 130]}, {\"name\": \"Skagit\", \"type\": \"scatter\", \"x\": [\"3/13/20\", \"3/14/20\", \"3/15/20\", \"3/16/20\", \"3/17/20\", \"3/18/20\", \"3/19/20\", \"3/20/20\", \"3/21/20\", \"3/22/20\", \"3/23/20\", \"3/24/20\", \"3/25/20\", \"3/26/20\", \"3/27/20\", \"3/28/20\", \"3/29/20\", \"3/30/20\", \"3/31/20\", \"4/1/20\"], \"y\": [3, 4, 4, 7, 9, 14, 18, 25, 28, 33, 33, 45, 48, 78, 78, 91, 99, 101, 121, 128]}, {\"name\": \"Island\", \"type\": \"scatter\", \"x\": [\"3/13/20\", \"3/14/20\", \"3/15/20\", \"3/16/20\", \"3/17/20\", \"3/18/20\", \"3/19/20\", \"3/20/20\", \"3/21/20\", \"3/22/20\", \"3/23/20\", \"3/24/20\", \"3/25/20\", \"3/26/20\", \"3/27/20\", \"3/28/20\", \"3/29/20\", \"3/30/20\", \"3/31/20\", \"4/1/20\"], \"y\": [3, 6, 6, 7, 14, 16, 17, 19, 19, 21, 25, 25, 38, 64, 64, 80, 93, 105, 106, 109]}],\n",
       "                        {\"template\": {\"data\": {\"bar\": [{\"error_x\": {\"color\": \"#2a3f5f\"}, \"error_y\": {\"color\": \"#2a3f5f\"}, \"marker\": {\"line\": {\"color\": \"#E5ECF6\", \"width\": 0.5}}, \"type\": \"bar\"}], \"barpolar\": [{\"marker\": {\"line\": {\"color\": \"#E5ECF6\", \"width\": 0.5}}, \"type\": \"barpolar\"}], \"carpet\": [{\"aaxis\": {\"endlinecolor\": \"#2a3f5f\", \"gridcolor\": \"white\", \"linecolor\": \"white\", \"minorgridcolor\": \"white\", \"startlinecolor\": \"#2a3f5f\"}, \"baxis\": {\"endlinecolor\": \"#2a3f5f\", \"gridcolor\": \"white\", \"linecolor\": \"white\", \"minorgridcolor\": \"white\", \"startlinecolor\": \"#2a3f5f\"}, \"type\": \"carpet\"}], \"choropleth\": [{\"colorbar\": {\"outlinewidth\": 0, \"ticks\": \"\"}, \"type\": \"choropleth\"}], \"contour\": [{\"colorbar\": {\"outlinewidth\": 0, \"ticks\": \"\"}, \"colorscale\": [[0.0, \"#0d0887\"], [0.1111111111111111, \"#46039f\"], [0.2222222222222222, \"#7201a8\"], [0.3333333333333333, \"#9c179e\"], [0.4444444444444444, \"#bd3786\"], [0.5555555555555556, \"#d8576b\"], [0.6666666666666666, \"#ed7953\"], [0.7777777777777778, \"#fb9f3a\"], [0.8888888888888888, \"#fdca26\"], [1.0, \"#f0f921\"]], \"type\": \"contour\"}], \"contourcarpet\": [{\"colorbar\": {\"outlinewidth\": 0, \"ticks\": \"\"}, \"type\": \"contourcarpet\"}], \"heatmap\": [{\"colorbar\": {\"outlinewidth\": 0, \"ticks\": \"\"}, \"colorscale\": [[0.0, \"#0d0887\"], [0.1111111111111111, \"#46039f\"], [0.2222222222222222, \"#7201a8\"], [0.3333333333333333, \"#9c179e\"], [0.4444444444444444, \"#bd3786\"], [0.5555555555555556, \"#d8576b\"], [0.6666666666666666, \"#ed7953\"], [0.7777777777777778, \"#fb9f3a\"], [0.8888888888888888, \"#fdca26\"], [1.0, \"#f0f921\"]], \"type\": \"heatmap\"}], \"heatmapgl\": [{\"colorbar\": {\"outlinewidth\": 0, \"ticks\": \"\"}, \"colorscale\": [[0.0, \"#0d0887\"], [0.1111111111111111, \"#46039f\"], [0.2222222222222222, \"#7201a8\"], [0.3333333333333333, \"#9c179e\"], [0.4444444444444444, \"#bd3786\"], [0.5555555555555556, \"#d8576b\"], [0.6666666666666666, \"#ed7953\"], [0.7777777777777778, \"#fb9f3a\"], [0.8888888888888888, \"#fdca26\"], [1.0, \"#f0f921\"]], \"type\": \"heatmapgl\"}], \"histogram\": [{\"marker\": {\"colorbar\": {\"outlinewidth\": 0, \"ticks\": \"\"}}, \"type\": \"histogram\"}], \"histogram2d\": [{\"colorbar\": {\"outlinewidth\": 0, \"ticks\": \"\"}, \"colorscale\": [[0.0, \"#0d0887\"], [0.1111111111111111, \"#46039f\"], [0.2222222222222222, \"#7201a8\"], [0.3333333333333333, \"#9c179e\"], [0.4444444444444444, \"#bd3786\"], [0.5555555555555556, \"#d8576b\"], [0.6666666666666666, \"#ed7953\"], [0.7777777777777778, \"#fb9f3a\"], [0.8888888888888888, \"#fdca26\"], [1.0, \"#f0f921\"]], \"type\": \"histogram2d\"}], \"histogram2dcontour\": [{\"colorbar\": {\"outlinewidth\": 0, \"ticks\": \"\"}, \"colorscale\": [[0.0, \"#0d0887\"], [0.1111111111111111, \"#46039f\"], [0.2222222222222222, \"#7201a8\"], [0.3333333333333333, \"#9c179e\"], [0.4444444444444444, \"#bd3786\"], [0.5555555555555556, \"#d8576b\"], [0.6666666666666666, \"#ed7953\"], [0.7777777777777778, \"#fb9f3a\"], [0.8888888888888888, \"#fdca26\"], [1.0, \"#f0f921\"]], \"type\": \"histogram2dcontour\"}], \"mesh3d\": [{\"colorbar\": {\"outlinewidth\": 0, \"ticks\": \"\"}, \"type\": \"mesh3d\"}], \"parcoords\": [{\"line\": {\"colorbar\": {\"outlinewidth\": 0, \"ticks\": \"\"}}, \"type\": \"parcoords\"}], \"pie\": [{\"automargin\": true, \"type\": \"pie\"}], \"scatter\": [{\"marker\": {\"colorbar\": {\"outlinewidth\": 0, \"ticks\": \"\"}}, \"type\": \"scatter\"}], \"scatter3d\": [{\"line\": {\"colorbar\": {\"outlinewidth\": 0, \"ticks\": \"\"}}, \"marker\": {\"colorbar\": {\"outlinewidth\": 0, \"ticks\": \"\"}}, \"type\": \"scatter3d\"}], \"scattercarpet\": [{\"marker\": {\"colorbar\": {\"outlinewidth\": 0, \"ticks\": \"\"}}, \"type\": \"scattercarpet\"}], \"scattergeo\": [{\"marker\": {\"colorbar\": {\"outlinewidth\": 0, \"ticks\": \"\"}}, \"type\": \"scattergeo\"}], \"scattergl\": [{\"marker\": {\"colorbar\": {\"outlinewidth\": 0, \"ticks\": \"\"}}, \"type\": \"scattergl\"}], \"scattermapbox\": [{\"marker\": {\"colorbar\": {\"outlinewidth\": 0, \"ticks\": \"\"}}, \"type\": \"scattermapbox\"}], \"scatterpolar\": [{\"marker\": {\"colorbar\": {\"outlinewidth\": 0, \"ticks\": \"\"}}, \"type\": \"scatterpolar\"}], \"scatterpolargl\": [{\"marker\": {\"colorbar\": {\"outlinewidth\": 0, \"ticks\": \"\"}}, \"type\": \"scatterpolargl\"}], \"scatterternary\": [{\"marker\": {\"colorbar\": {\"outlinewidth\": 0, \"ticks\": \"\"}}, \"type\": \"scatterternary\"}], \"surface\": [{\"colorbar\": {\"outlinewidth\": 0, \"ticks\": \"\"}, \"colorscale\": [[0.0, \"#0d0887\"], [0.1111111111111111, \"#46039f\"], [0.2222222222222222, \"#7201a8\"], [0.3333333333333333, \"#9c179e\"], [0.4444444444444444, \"#bd3786\"], [0.5555555555555556, \"#d8576b\"], [0.6666666666666666, \"#ed7953\"], [0.7777777777777778, \"#fb9f3a\"], [0.8888888888888888, \"#fdca26\"], [1.0, \"#f0f921\"]], \"type\": \"surface\"}], \"table\": [{\"cells\": {\"fill\": {\"color\": \"#EBF0F8\"}, \"line\": {\"color\": \"white\"}}, \"header\": {\"fill\": {\"color\": \"#C8D4E3\"}, \"line\": {\"color\": \"white\"}}, \"type\": \"table\"}]}, \"layout\": {\"annotationdefaults\": {\"arrowcolor\": \"#2a3f5f\", \"arrowhead\": 0, \"arrowwidth\": 1}, \"coloraxis\": {\"colorbar\": {\"outlinewidth\": 0, \"ticks\": \"\"}}, \"colorscale\": {\"diverging\": [[0, \"#8e0152\"], [0.1, \"#c51b7d\"], [0.2, \"#de77ae\"], [0.3, \"#f1b6da\"], [0.4, \"#fde0ef\"], [0.5, \"#f7f7f7\"], [0.6, \"#e6f5d0\"], [0.7, \"#b8e186\"], [0.8, \"#7fbc41\"], [0.9, \"#4d9221\"], [1, \"#276419\"]], \"sequential\": [[0.0, \"#0d0887\"], [0.1111111111111111, \"#46039f\"], [0.2222222222222222, \"#7201a8\"], [0.3333333333333333, \"#9c179e\"], [0.4444444444444444, \"#bd3786\"], [0.5555555555555556, \"#d8576b\"], [0.6666666666666666, \"#ed7953\"], [0.7777777777777778, \"#fb9f3a\"], [0.8888888888888888, \"#fdca26\"], [1.0, \"#f0f921\"]], \"sequentialminus\": [[0.0, \"#0d0887\"], [0.1111111111111111, \"#46039f\"], [0.2222222222222222, \"#7201a8\"], [0.3333333333333333, \"#9c179e\"], [0.4444444444444444, \"#bd3786\"], [0.5555555555555556, \"#d8576b\"], [0.6666666666666666, \"#ed7953\"], [0.7777777777777778, \"#fb9f3a\"], [0.8888888888888888, \"#fdca26\"], [1.0, \"#f0f921\"]]}, \"colorway\": [\"#636efa\", \"#EF553B\", \"#00cc96\", \"#ab63fa\", \"#FFA15A\", \"#19d3f3\", \"#FF6692\", \"#B6E880\", \"#FF97FF\", \"#FECB52\"], \"font\": {\"color\": \"#2a3f5f\"}, \"geo\": {\"bgcolor\": \"white\", \"lakecolor\": \"white\", \"landcolor\": \"#E5ECF6\", \"showlakes\": true, \"showland\": true, \"subunitcolor\": \"white\"}, \"hoverlabel\": {\"align\": \"left\"}, \"hovermode\": \"closest\", \"mapbox\": {\"style\": \"light\"}, \"paper_bgcolor\": \"white\", \"plot_bgcolor\": \"#E5ECF6\", \"polar\": {\"angularaxis\": {\"gridcolor\": \"white\", \"linecolor\": \"white\", \"ticks\": \"\"}, \"bgcolor\": \"#E5ECF6\", \"radialaxis\": {\"gridcolor\": \"white\", \"linecolor\": \"white\", \"ticks\": \"\"}}, \"scene\": {\"xaxis\": {\"backgroundcolor\": \"#E5ECF6\", \"gridcolor\": \"white\", \"gridwidth\": 2, \"linecolor\": \"white\", \"showbackground\": true, \"ticks\": \"\", \"zerolinecolor\": \"white\"}, \"yaxis\": {\"backgroundcolor\": \"#E5ECF6\", \"gridcolor\": \"white\", \"gridwidth\": 2, \"linecolor\": \"white\", \"showbackground\": true, \"ticks\": \"\", \"zerolinecolor\": \"white\"}, \"zaxis\": {\"backgroundcolor\": \"#E5ECF6\", \"gridcolor\": \"white\", \"gridwidth\": 2, \"linecolor\": \"white\", \"showbackground\": true, \"ticks\": \"\", \"zerolinecolor\": \"white\"}}, \"shapedefaults\": {\"line\": {\"color\": \"#2a3f5f\"}}, \"ternary\": {\"aaxis\": {\"gridcolor\": \"white\", \"linecolor\": \"white\", \"ticks\": \"\"}, \"baxis\": {\"gridcolor\": \"white\", \"linecolor\": \"white\", \"ticks\": \"\"}, \"bgcolor\": \"#E5ECF6\", \"caxis\": {\"gridcolor\": \"white\", \"linecolor\": \"white\", \"ticks\": \"\"}}, \"title\": {\"x\": 0.05}, \"xaxis\": {\"automargin\": true, \"gridcolor\": \"white\", \"linecolor\": \"white\", \"ticks\": \"\", \"title\": {\"standoff\": 15}, \"zerolinecolor\": \"white\", \"zerolinewidth\": 2}, \"yaxis\": {\"automargin\": true, \"gridcolor\": \"white\", \"linecolor\": \"white\", \"ticks\": \"\", \"title\": {\"standoff\": 15}, \"zerolinecolor\": \"white\", \"zerolinewidth\": 2}}}, \"title\": {\"text\": \"WA Counties - Cumulative Confirmed Cases\"}, \"updatemenus\": [{\"active\": 0, \"buttons\": [{\"args\": [{\"visible\": [true, true]}, {\"yaxis\": {\"type\": \"linear\"}}], \"label\": \"Linear Scale\", \"method\": \"update\"}, {\"args\": [{\"visible\": [true, true]}, {\"yaxis\": {\"type\": \"log\"}}], \"label\": \"Logarithmic Scale\", \"method\": \"update\"}], \"direction\": \"right\", \"type\": \"buttons\", \"x\": 0.45, \"xanchor\": \"left\", \"y\": 1.1, \"yanchor\": \"top\"}]},\n",
       "                        {\"responsive\": true}\n",
       "                    ).then(function(){\n",
       "                            \n",
       "var gd = document.getElementById('c994c6cf-cd5f-474c-bdfd-097ea207be3f');\n",
       "var x = new MutationObserver(function (mutations, observer) {{\n",
       "        var display = window.getComputedStyle(gd).display;\n",
       "        if (!display || display === 'none') {{\n",
       "            console.log([gd, 'removed!']);\n",
       "            Plotly.purge(gd);\n",
       "            observer.disconnect();\n",
       "        }}\n",
       "}});\n",
       "\n",
       "// Listen for the removal of the full notebook cells\n",
       "var notebookContainer = gd.closest('#notebook-container');\n",
       "if (notebookContainer) {{\n",
       "    x.observe(notebookContainer, {childList: true});\n",
       "}}\n",
       "\n",
       "// Listen for the clearing of the current output cell\n",
       "var outputEl = gd.closest('.output');\n",
       "if (outputEl) {{\n",
       "    x.observe(outputEl, {childList: true});\n",
       "}}\n",
       "\n",
       "                        })\n",
       "                };\n",
       "                });\n",
       "            </script>\n",
       "        </div>"
      ]
     },
     "metadata": {},
     "output_type": "display_data"
    }
   ],
   "source": [
    "# NYTimes Data Set\n",
    "# dfWAByCounty = dfUSCounties[dfUSCounties.state == 'Washington'].groupby(['county', 'date']).agg({'cases':sum, 'deaths':sum}).unstack().fillna(0)\n",
    "# dfWAByCountyConfirmed = dfWAByCounty['cases']\n",
    "\n",
    "# dfWAByCounty = dfByDay[dfByDay.Province_State == 'Washington'].groupby(['Last_Update', 'Admin2']).agg({'Confirmed':sum, 'Deaths':sum}).unstack(level=0)\n",
    "# dfWAByCountyConfirmed = dfWAByCounty.Confirmed\n",
    "# dfWAByCountyConfirmed.columns = dfWAByCountyConfirmed.columns.map(lambda x: pd.to_datetime(x).strftime('%#m/%d/%y'))\n",
    "\n",
    "dfWAByCountyConfirmed = dfConfirmedUSCounties[dfConfirmedUSCounties.Province_State == 'Washington']\n",
    "dfWAByCountyConfirmed = dfWAByCountyConfirmed.set_index('Admin2')\n",
    "\n",
    "dfWAByCountyConfirmed = dfWAByCountyConfirmed.sort_values(dfWAByCountyConfirmed.columns[-1], ascending = False)\n",
    "dfWAByCountyConfirmedTop = dfWAByCountyConfirmed.head(10)\n",
    "dfWAByCountyConfirmedTop = dfWAByCountyConfirmedTop[dfWAByCountyConfirmedTop.columns[-DEFAULT_DAYS:]]\n",
    "\n",
    "\n",
    "data = [{\n",
    "    'x': row[1].index,\n",
    "    'y': row[1].values,\n",
    "    'name': row[0]\n",
    "}  for row in dfWAByCountyConfirmedTop.iterrows()]\n",
    "\n",
    "\n",
    "\n",
    "layout = dict(title = 'WA Counties - Cumulative Confirmed Cases', updatemenus=LogLinearScale)\n",
    "py.iplot(dict(data=data, layout=layout))"
   ]
  },
  {
   "cell_type": "markdown",
   "metadata": {},
   "source": [
    "## Daily new cases by county"
   ]
  },
  {
   "cell_type": "code",
   "execution_count": 20,
   "metadata": {
    "ExecuteTime": {
     "end_time": "2020-04-02T06:13:54.382907Z",
     "start_time": "2020-04-02T06:13:54.359959Z"
    }
   },
   "outputs": [
    {
     "data": {
      "text/html": [
       "<style  type=\"text/css\" >\n",
       "</style><table id=\"T_21350424_74a9_11ea_9fce_c49ded93ade6\" ><thead>    <tr>        <th class=\"blank level0\" ></th>        <th class=\"col_heading level0 col0\" >3/13/20</th>        <th class=\"col_heading level0 col1\" >3/14/20</th>        <th class=\"col_heading level0 col2\" >3/15/20</th>        <th class=\"col_heading level0 col3\" >3/16/20</th>        <th class=\"col_heading level0 col4\" >3/17/20</th>        <th class=\"col_heading level0 col5\" >3/18/20</th>        <th class=\"col_heading level0 col6\" >3/19/20</th>        <th class=\"col_heading level0 col7\" >3/20/20</th>        <th class=\"col_heading level0 col8\" >3/21/20</th>        <th class=\"col_heading level0 col9\" >3/22/20</th>        <th class=\"col_heading level0 col10\" >3/23/20</th>        <th class=\"col_heading level0 col11\" >3/24/20</th>        <th class=\"col_heading level0 col12\" >3/25/20</th>        <th class=\"col_heading level0 col13\" >3/26/20</th>        <th class=\"col_heading level0 col14\" >3/27/20</th>        <th class=\"col_heading level0 col15\" >3/28/20</th>        <th class=\"col_heading level0 col16\" >3/29/20</th>        <th class=\"col_heading level0 col17\" >3/30/20</th>        <th class=\"col_heading level0 col18\" >3/31/20</th>        <th class=\"col_heading level0 col19\" >4/1/20</th>    </tr>    <tr>        <th class=\"index_name level0\" >Admin2</th>        <th class=\"blank\" ></th>        <th class=\"blank\" ></th>        <th class=\"blank\" ></th>        <th class=\"blank\" ></th>        <th class=\"blank\" ></th>        <th class=\"blank\" ></th>        <th class=\"blank\" ></th>        <th class=\"blank\" ></th>        <th class=\"blank\" ></th>        <th class=\"blank\" ></th>        <th class=\"blank\" ></th>        <th class=\"blank\" ></th>        <th class=\"blank\" ></th>        <th class=\"blank\" ></th>        <th class=\"blank\" ></th>        <th class=\"blank\" ></th>        <th class=\"blank\" ></th>        <th class=\"blank\" ></th>        <th class=\"blank\" ></th>        <th class=\"blank\" ></th>    </tr></thead><tbody>\n",
       "                <tr>\n",
       "                        <th id=\"T_21350424_74a9_11ea_9fce_c49ded93ade6level0_row0\" class=\"row_heading level0 row0\" >King</th>\n",
       "                        <td id=\"T_21350424_74a9_11ea_9fce_c49ded93ade6row0_col0\" class=\"data row0 col0\" >-</td>\n",
       "                        <td id=\"T_21350424_74a9_11ea_9fce_c49ded93ade6row0_col1\" class=\"data row0 col1\" >59</td>\n",
       "                        <td id=\"T_21350424_74a9_11ea_9fce_c49ded93ade6row0_col2\" class=\"data row0 col2\" >-</td>\n",
       "                        <td id=\"T_21350424_74a9_11ea_9fce_c49ded93ade6row0_col3\" class=\"data row0 col3\" >101</td>\n",
       "                        <td id=\"T_21350424_74a9_11ea_9fce_c49ded93ade6row0_col4\" class=\"data row0 col4\" >81</td>\n",
       "                        <td id=\"T_21350424_74a9_11ea_9fce_c49ded93ade6row0_col5\" class=\"data row0 col5\" >-7</td>\n",
       "                        <td id=\"T_21350424_74a9_11ea_9fce_c49ded93ade6row0_col6\" class=\"data row0 col6\" >131</td>\n",
       "                        <td id=\"T_21350424_74a9_11ea_9fce_c49ded93ade6row0_col7\" class=\"data row0 col7\" >100</td>\n",
       "                        <td id=\"T_21350424_74a9_11ea_9fce_c49ded93ade6row0_col8\" class=\"data row0 col8\" >141</td>\n",
       "                        <td id=\"T_21350424_74a9_11ea_9fce_c49ded93ade6row0_col9\" class=\"data row0 col9\" >106</td>\n",
       "                        <td id=\"T_21350424_74a9_11ea_9fce_c49ded93ade6row0_col10\" class=\"data row0 col10\" >130</td>\n",
       "                        <td id=\"T_21350424_74a9_11ea_9fce_c49ded93ade6row0_col11\" class=\"data row0 col11\" >-</td>\n",
       "                        <td id=\"T_21350424_74a9_11ea_9fce_c49ded93ade6row0_col12\" class=\"data row0 col12\" >189</td>\n",
       "                        <td id=\"T_21350424_74a9_11ea_9fce_c49ded93ade6row0_col13\" class=\"data row0 col13\" >218</td>\n",
       "                        <td id=\"T_21350424_74a9_11ea_9fce_c49ded93ade6row0_col14\" class=\"data row0 col14\" >-</td>\n",
       "                        <td id=\"T_21350424_74a9_11ea_9fce_c49ded93ade6row0_col15\" class=\"data row0 col15\" >500</td>\n",
       "                        <td id=\"T_21350424_74a9_11ea_9fce_c49ded93ade6row0_col16\" class=\"data row0 col16\" >82</td>\n",
       "                        <td id=\"T_21350424_74a9_11ea_9fce_c49ded93ade6row0_col17\" class=\"data row0 col17\" >2</td>\n",
       "                        <td id=\"T_21350424_74a9_11ea_9fce_c49ded93ade6row0_col18\" class=\"data row0 col18\" >169</td>\n",
       "                        <td id=\"T_21350424_74a9_11ea_9fce_c49ded93ade6row0_col19\" class=\"data row0 col19\" >-</td>\n",
       "            </tr>\n",
       "            <tr>\n",
       "                        <th id=\"T_21350424_74a9_11ea_9fce_c49ded93ade6level0_row1\" class=\"row_heading level0 row1\" >Snohomish</th>\n",
       "                        <td id=\"T_21350424_74a9_11ea_9fce_c49ded93ade6row1_col0\" class=\"data row1 col0\" >-</td>\n",
       "                        <td id=\"T_21350424_74a9_11ea_9fce_c49ded93ade6row1_col1\" class=\"data row1 col1\" >21</td>\n",
       "                        <td id=\"T_21350424_74a9_11ea_9fce_c49ded93ade6row1_col2\" class=\"data row1 col2\" >-</td>\n",
       "                        <td id=\"T_21350424_74a9_11ea_9fce_c49ded93ade6row1_col3\" class=\"data row1 col3\" >46</td>\n",
       "                        <td id=\"T_21350424_74a9_11ea_9fce_c49ded93ade6row1_col4\" class=\"data row1 col4\" >66</td>\n",
       "                        <td id=\"T_21350424_74a9_11ea_9fce_c49ded93ade6row1_col5\" class=\"data row1 col5\" >44</td>\n",
       "                        <td id=\"T_21350424_74a9_11ea_9fce_c49ded93ade6row1_col6\" class=\"data row1 col6\" >38</td>\n",
       "                        <td id=\"T_21350424_74a9_11ea_9fce_c49ded93ade6row1_col7\" class=\"data row1 col7\" >37</td>\n",
       "                        <td id=\"T_21350424_74a9_11ea_9fce_c49ded93ade6row1_col8\" class=\"data row1 col8\" >62</td>\n",
       "                        <td id=\"T_21350424_74a9_11ea_9fce_c49ded93ade6row1_col9\" class=\"data row1 col9\" >33</td>\n",
       "                        <td id=\"T_21350424_74a9_11ea_9fce_c49ded93ade6row1_col10\" class=\"data row1 col10\" >39</td>\n",
       "                        <td id=\"T_21350424_74a9_11ea_9fce_c49ded93ade6row1_col11\" class=\"data row1 col11\" >95</td>\n",
       "                        <td id=\"T_21350424_74a9_11ea_9fce_c49ded93ade6row1_col12\" class=\"data row1 col12\" >20</td>\n",
       "                        <td id=\"T_21350424_74a9_11ea_9fce_c49ded93ade6row1_col13\" class=\"data row1 col13\" >144</td>\n",
       "                        <td id=\"T_21350424_74a9_11ea_9fce_c49ded93ade6row1_col14\" class=\"data row1 col14\" >134</td>\n",
       "                        <td id=\"T_21350424_74a9_11ea_9fce_c49ded93ade6row1_col15\" class=\"data row1 col15\" >1</td>\n",
       "                        <td id=\"T_21350424_74a9_11ea_9fce_c49ded93ade6row1_col16\" class=\"data row1 col16\" >-1</td>\n",
       "                        <td id=\"T_21350424_74a9_11ea_9fce_c49ded93ade6row1_col17\" class=\"data row1 col17\" >156</td>\n",
       "                        <td id=\"T_21350424_74a9_11ea_9fce_c49ded93ade6row1_col18\" class=\"data row1 col18\" >161</td>\n",
       "                        <td id=\"T_21350424_74a9_11ea_9fce_c49ded93ade6row1_col19\" class=\"data row1 col19\" >75</td>\n",
       "            </tr>\n",
       "            <tr>\n",
       "                        <th id=\"T_21350424_74a9_11ea_9fce_c49ded93ade6level0_row2\" class=\"row_heading level0 row2\" >Pierce</th>\n",
       "                        <td id=\"T_21350424_74a9_11ea_9fce_c49ded93ade6row2_col0\" class=\"data row2 col0\" >-</td>\n",
       "                        <td id=\"T_21350424_74a9_11ea_9fce_c49ded93ade6row2_col1\" class=\"data row2 col1\" >7</td>\n",
       "                        <td id=\"T_21350424_74a9_11ea_9fce_c49ded93ade6row2_col2\" class=\"data row2 col2\" >-</td>\n",
       "                        <td id=\"T_21350424_74a9_11ea_9fce_c49ded93ade6row2_col3\" class=\"data row2 col3\" >12</td>\n",
       "                        <td id=\"T_21350424_74a9_11ea_9fce_c49ded93ade6row2_col4\" class=\"data row2 col4\" >7</td>\n",
       "                        <td id=\"T_21350424_74a9_11ea_9fce_c49ded93ade6row2_col5\" class=\"data row2 col5\" >11</td>\n",
       "                        <td id=\"T_21350424_74a9_11ea_9fce_c49ded93ade6row2_col6\" class=\"data row2 col6\" >19</td>\n",
       "                        <td id=\"T_21350424_74a9_11ea_9fce_c49ded93ade6row2_col7\" class=\"data row2 col7\" >8</td>\n",
       "                        <td id=\"T_21350424_74a9_11ea_9fce_c49ded93ade6row2_col8\" class=\"data row2 col8\" >12</td>\n",
       "                        <td id=\"T_21350424_74a9_11ea_9fce_c49ded93ade6row2_col9\" class=\"data row2 col9\" >12</td>\n",
       "                        <td id=\"T_21350424_74a9_11ea_9fce_c49ded93ade6row2_col10\" class=\"data row2 col10\" >19</td>\n",
       "                        <td id=\"T_21350424_74a9_11ea_9fce_c49ded93ade6row2_col11\" class=\"data row2 col11\" >12</td>\n",
       "                        <td id=\"T_21350424_74a9_11ea_9fce_c49ded93ade6row2_col12\" class=\"data row2 col12\" >17</td>\n",
       "                        <td id=\"T_21350424_74a9_11ea_9fce_c49ded93ade6row2_col13\" class=\"data row2 col13\" >31</td>\n",
       "                        <td id=\"T_21350424_74a9_11ea_9fce_c49ded93ade6row2_col14\" class=\"data row2 col14\" >45</td>\n",
       "                        <td id=\"T_21350424_74a9_11ea_9fce_c49ded93ade6row2_col15\" class=\"data row2 col15\" >-</td>\n",
       "                        <td id=\"T_21350424_74a9_11ea_9fce_c49ded93ade6row2_col16\" class=\"data row2 col16\" >86</td>\n",
       "                        <td id=\"T_21350424_74a9_11ea_9fce_c49ded93ade6row2_col17\" class=\"data row2 col17\" >-</td>\n",
       "                        <td id=\"T_21350424_74a9_11ea_9fce_c49ded93ade6row2_col18\" class=\"data row2 col18\" >60</td>\n",
       "                        <td id=\"T_21350424_74a9_11ea_9fce_c49ded93ade6row2_col19\" class=\"data row2 col19\" >-</td>\n",
       "            </tr>\n",
       "            <tr>\n",
       "                        <th id=\"T_21350424_74a9_11ea_9fce_c49ded93ade6level0_row3\" class=\"row_heading level0 row3\" >Unassigned</th>\n",
       "                        <td id=\"T_21350424_74a9_11ea_9fce_c49ded93ade6row3_col0\" class=\"data row3 col0\" >-</td>\n",
       "                        <td id=\"T_21350424_74a9_11ea_9fce_c49ded93ade6row3_col1\" class=\"data row3 col1\" >-26</td>\n",
       "                        <td id=\"T_21350424_74a9_11ea_9fce_c49ded93ade6row3_col2\" class=\"data row3 col2\" >-39</td>\n",
       "                        <td id=\"T_21350424_74a9_11ea_9fce_c49ded93ade6row3_col3\" class=\"data row3 col3\" >-</td>\n",
       "                        <td id=\"T_21350424_74a9_11ea_9fce_c49ded93ade6row3_col4\" class=\"data row3 col4\" >-</td>\n",
       "                        <td id=\"T_21350424_74a9_11ea_9fce_c49ded93ade6row3_col5\" class=\"data row3 col5\" >-</td>\n",
       "                        <td id=\"T_21350424_74a9_11ea_9fce_c49ded93ade6row3_col6\" class=\"data row3 col6\" >151</td>\n",
       "                        <td id=\"T_21350424_74a9_11ea_9fce_c49ded93ade6row3_col7\" class=\"data row3 col7\" >-21</td>\n",
       "                        <td id=\"T_21350424_74a9_11ea_9fce_c49ded93ade6row3_col8\" class=\"data row3 col8\" >16</td>\n",
       "                        <td id=\"T_21350424_74a9_11ea_9fce_c49ded93ade6row3_col9\" class=\"data row3 col9\" >18</td>\n",
       "                        <td id=\"T_21350424_74a9_11ea_9fce_c49ded93ade6row3_col10\" class=\"data row3 col10\" >-19</td>\n",
       "                        <td id=\"T_21350424_74a9_11ea_9fce_c49ded93ade6row3_col11\" class=\"data row3 col11\" >-33</td>\n",
       "                        <td id=\"T_21350424_74a9_11ea_9fce_c49ded93ade6row3_col12\" class=\"data row3 col12\" >-61</td>\n",
       "                        <td id=\"T_21350424_74a9_11ea_9fce_c49ded93ade6row3_col13\" class=\"data row3 col13\" >18</td>\n",
       "                        <td id=\"T_21350424_74a9_11ea_9fce_c49ded93ade6row3_col14\" class=\"data row3 col14\" >-2</td>\n",
       "                        <td id=\"T_21350424_74a9_11ea_9fce_c49ded93ade6row3_col15\" class=\"data row3 col15\" >-67</td>\n",
       "                        <td id=\"T_21350424_74a9_11ea_9fce_c49ded93ade6row3_col16\" class=\"data row3 col16\" >125</td>\n",
       "                        <td id=\"T_21350424_74a9_11ea_9fce_c49ded93ade6row3_col17\" class=\"data row3 col17\" >149</td>\n",
       "                        <td id=\"T_21350424_74a9_11ea_9fce_c49ded93ade6row3_col18\" class=\"data row3 col18\" >-</td>\n",
       "                        <td id=\"T_21350424_74a9_11ea_9fce_c49ded93ade6row3_col19\" class=\"data row3 col19\" >29</td>\n",
       "            </tr>\n",
       "            <tr>\n",
       "                        <th id=\"T_21350424_74a9_11ea_9fce_c49ded93ade6level0_row4\" class=\"row_heading level0 row4\" >Yakima</th>\n",
       "                        <td id=\"T_21350424_74a9_11ea_9fce_c49ded93ade6row4_col0\" class=\"data row4 col0\" >-</td>\n",
       "                        <td id=\"T_21350424_74a9_11ea_9fce_c49ded93ade6row4_col1\" class=\"data row4 col1\" >2</td>\n",
       "                        <td id=\"T_21350424_74a9_11ea_9fce_c49ded93ade6row4_col2\" class=\"data row4 col2\" >-</td>\n",
       "                        <td id=\"T_21350424_74a9_11ea_9fce_c49ded93ade6row4_col3\" class=\"data row4 col3\" >-</td>\n",
       "                        <td id=\"T_21350424_74a9_11ea_9fce_c49ded93ade6row4_col4\" class=\"data row4 col4\" >1</td>\n",
       "                        <td id=\"T_21350424_74a9_11ea_9fce_c49ded93ade6row4_col5\" class=\"data row4 col5\" >2</td>\n",
       "                        <td id=\"T_21350424_74a9_11ea_9fce_c49ded93ade6row4_col6\" class=\"data row4 col6\" >-</td>\n",
       "                        <td id=\"T_21350424_74a9_11ea_9fce_c49ded93ade6row4_col7\" class=\"data row4 col7\" >3</td>\n",
       "                        <td id=\"T_21350424_74a9_11ea_9fce_c49ded93ade6row4_col8\" class=\"data row4 col8\" >3</td>\n",
       "                        <td id=\"T_21350424_74a9_11ea_9fce_c49ded93ade6row4_col9\" class=\"data row4 col9\" >3</td>\n",
       "                        <td id=\"T_21350424_74a9_11ea_9fce_c49ded93ade6row4_col10\" class=\"data row4 col10\" >-</td>\n",
       "                        <td id=\"T_21350424_74a9_11ea_9fce_c49ded93ade6row4_col11\" class=\"data row4 col11\" >9</td>\n",
       "                        <td id=\"T_21350424_74a9_11ea_9fce_c49ded93ade6row4_col12\" class=\"data row4 col12\" >22</td>\n",
       "                        <td id=\"T_21350424_74a9_11ea_9fce_c49ded93ade6row4_col13\" class=\"data row4 col13\" >14</td>\n",
       "                        <td id=\"T_21350424_74a9_11ea_9fce_c49ded93ade6row4_col14\" class=\"data row4 col14\" >5</td>\n",
       "                        <td id=\"T_21350424_74a9_11ea_9fce_c49ded93ade6row4_col15\" class=\"data row4 col15\" >16</td>\n",
       "                        <td id=\"T_21350424_74a9_11ea_9fce_c49ded93ade6row4_col16\" class=\"data row4 col16\" >58</td>\n",
       "                        <td id=\"T_21350424_74a9_11ea_9fce_c49ded93ade6row4_col17\" class=\"data row4 col17\" >7</td>\n",
       "                        <td id=\"T_21350424_74a9_11ea_9fce_c49ded93ade6row4_col18\" class=\"data row4 col18\" >14</td>\n",
       "                        <td id=\"T_21350424_74a9_11ea_9fce_c49ded93ade6row4_col19\" class=\"data row4 col19\" >-</td>\n",
       "            </tr>\n",
       "    </tbody></table>"
      ],
      "text/plain": [
       "<pandas.io.formats.style.Styler at 0xf229c70>"
      ]
     },
     "execution_count": 20,
     "metadata": {},
     "output_type": "execute_result"
    }
   ],
   "source": [
    "dfWAByCountyConfirmedTopNew = dfWAByCountyConfirmedTop.diff(axis=1).fillna(0).head(5)\n",
    "dfWAByCountyConfirmedTopNew.style.format(IntegerFormatter)"
   ]
  },
  {
   "cell_type": "markdown",
   "metadata": {},
   "source": [
    "# United States - Aggregate Data"
   ]
  },
  {
   "cell_type": "code",
   "execution_count": 21,
   "metadata": {
    "ExecuteTime": {
     "end_time": "2020-04-02T06:13:55.036905Z",
     "start_time": "2020-04-02T06:13:54.386912Z"
    }
   },
   "outputs": [
    {
     "data": {
      "application/vnd.plotly.v1+json": {
       "config": {
        "linkText": "Export to plot.ly",
        "plotlyServerURL": "https://plot.ly",
        "showLink": false
       },
       "data": [
        {
         "name": "Confirmed Cases",
         "type": "scatter",
         "x": [
          "3/13/20",
          "3/14/20",
          "3/15/20",
          "3/16/20",
          "3/17/20",
          "3/18/20",
          "3/19/20",
          "3/20/20",
          "3/21/20",
          "3/22/20",
          "3/23/20",
          "3/24/20",
          "3/25/20",
          "3/26/20",
          "3/27/20",
          "3/28/20",
          "3/29/20",
          "3/30/20",
          "3/31/20",
          "4/1/20"
         ],
         "y": [
          2179,
          2727,
          3499,
          4632,
          6421,
          7783,
          13677,
          19100,
          25489,
          33276,
          43847,
          53740,
          65778,
          83836,
          101657,
          121478,
          140886,
          161807,
          188172,
          213372
         ]
        },
        {
         "name": "Deaths",
         "type": "scatter",
         "x": [
          "3/13/20",
          "3/14/20",
          "3/15/20",
          "3/16/20",
          "3/17/20",
          "3/18/20",
          "3/19/20",
          "3/20/20",
          "3/21/20",
          "3/22/20",
          "3/23/20",
          "3/24/20",
          "3/25/20",
          "3/26/20",
          "3/27/20",
          "3/28/20",
          "3/29/20",
          "3/30/20",
          "3/31/20",
          "4/1/20"
         ],
         "y": [
          47,
          54,
          63,
          85,
          108,
          118,
          200,
          244,
          307,
          417,
          557,
          706,
          942,
          1209,
          1581,
          2026,
          2467,
          2978,
          3873,
          4757
         ]
        }
       ],
       "layout": {
        "template": {
         "data": {
          "bar": [
           {
            "error_x": {
             "color": "#2a3f5f"
            },
            "error_y": {
             "color": "#2a3f5f"
            },
            "marker": {
             "line": {
              "color": "#E5ECF6",
              "width": 0.5
             }
            },
            "type": "bar"
           }
          ],
          "barpolar": [
           {
            "marker": {
             "line": {
              "color": "#E5ECF6",
              "width": 0.5
             }
            },
            "type": "barpolar"
           }
          ],
          "carpet": [
           {
            "aaxis": {
             "endlinecolor": "#2a3f5f",
             "gridcolor": "white",
             "linecolor": "white",
             "minorgridcolor": "white",
             "startlinecolor": "#2a3f5f"
            },
            "baxis": {
             "endlinecolor": "#2a3f5f",
             "gridcolor": "white",
             "linecolor": "white",
             "minorgridcolor": "white",
             "startlinecolor": "#2a3f5f"
            },
            "type": "carpet"
           }
          ],
          "choropleth": [
           {
            "colorbar": {
             "outlinewidth": 0,
             "ticks": ""
            },
            "type": "choropleth"
           }
          ],
          "contour": [
           {
            "colorbar": {
             "outlinewidth": 0,
             "ticks": ""
            },
            "colorscale": [
             [
              0,
              "#0d0887"
             ],
             [
              0.1111111111111111,
              "#46039f"
             ],
             [
              0.2222222222222222,
              "#7201a8"
             ],
             [
              0.3333333333333333,
              "#9c179e"
             ],
             [
              0.4444444444444444,
              "#bd3786"
             ],
             [
              0.5555555555555556,
              "#d8576b"
             ],
             [
              0.6666666666666666,
              "#ed7953"
             ],
             [
              0.7777777777777778,
              "#fb9f3a"
             ],
             [
              0.8888888888888888,
              "#fdca26"
             ],
             [
              1,
              "#f0f921"
             ]
            ],
            "type": "contour"
           }
          ],
          "contourcarpet": [
           {
            "colorbar": {
             "outlinewidth": 0,
             "ticks": ""
            },
            "type": "contourcarpet"
           }
          ],
          "heatmap": [
           {
            "colorbar": {
             "outlinewidth": 0,
             "ticks": ""
            },
            "colorscale": [
             [
              0,
              "#0d0887"
             ],
             [
              0.1111111111111111,
              "#46039f"
             ],
             [
              0.2222222222222222,
              "#7201a8"
             ],
             [
              0.3333333333333333,
              "#9c179e"
             ],
             [
              0.4444444444444444,
              "#bd3786"
             ],
             [
              0.5555555555555556,
              "#d8576b"
             ],
             [
              0.6666666666666666,
              "#ed7953"
             ],
             [
              0.7777777777777778,
              "#fb9f3a"
             ],
             [
              0.8888888888888888,
              "#fdca26"
             ],
             [
              1,
              "#f0f921"
             ]
            ],
            "type": "heatmap"
           }
          ],
          "heatmapgl": [
           {
            "colorbar": {
             "outlinewidth": 0,
             "ticks": ""
            },
            "colorscale": [
             [
              0,
              "#0d0887"
             ],
             [
              0.1111111111111111,
              "#46039f"
             ],
             [
              0.2222222222222222,
              "#7201a8"
             ],
             [
              0.3333333333333333,
              "#9c179e"
             ],
             [
              0.4444444444444444,
              "#bd3786"
             ],
             [
              0.5555555555555556,
              "#d8576b"
             ],
             [
              0.6666666666666666,
              "#ed7953"
             ],
             [
              0.7777777777777778,
              "#fb9f3a"
             ],
             [
              0.8888888888888888,
              "#fdca26"
             ],
             [
              1,
              "#f0f921"
             ]
            ],
            "type": "heatmapgl"
           }
          ],
          "histogram": [
           {
            "marker": {
             "colorbar": {
              "outlinewidth": 0,
              "ticks": ""
             }
            },
            "type": "histogram"
           }
          ],
          "histogram2d": [
           {
            "colorbar": {
             "outlinewidth": 0,
             "ticks": ""
            },
            "colorscale": [
             [
              0,
              "#0d0887"
             ],
             [
              0.1111111111111111,
              "#46039f"
             ],
             [
              0.2222222222222222,
              "#7201a8"
             ],
             [
              0.3333333333333333,
              "#9c179e"
             ],
             [
              0.4444444444444444,
              "#bd3786"
             ],
             [
              0.5555555555555556,
              "#d8576b"
             ],
             [
              0.6666666666666666,
              "#ed7953"
             ],
             [
              0.7777777777777778,
              "#fb9f3a"
             ],
             [
              0.8888888888888888,
              "#fdca26"
             ],
             [
              1,
              "#f0f921"
             ]
            ],
            "type": "histogram2d"
           }
          ],
          "histogram2dcontour": [
           {
            "colorbar": {
             "outlinewidth": 0,
             "ticks": ""
            },
            "colorscale": [
             [
              0,
              "#0d0887"
             ],
             [
              0.1111111111111111,
              "#46039f"
             ],
             [
              0.2222222222222222,
              "#7201a8"
             ],
             [
              0.3333333333333333,
              "#9c179e"
             ],
             [
              0.4444444444444444,
              "#bd3786"
             ],
             [
              0.5555555555555556,
              "#d8576b"
             ],
             [
              0.6666666666666666,
              "#ed7953"
             ],
             [
              0.7777777777777778,
              "#fb9f3a"
             ],
             [
              0.8888888888888888,
              "#fdca26"
             ],
             [
              1,
              "#f0f921"
             ]
            ],
            "type": "histogram2dcontour"
           }
          ],
          "mesh3d": [
           {
            "colorbar": {
             "outlinewidth": 0,
             "ticks": ""
            },
            "type": "mesh3d"
           }
          ],
          "parcoords": [
           {
            "line": {
             "colorbar": {
              "outlinewidth": 0,
              "ticks": ""
             }
            },
            "type": "parcoords"
           }
          ],
          "pie": [
           {
            "automargin": true,
            "type": "pie"
           }
          ],
          "scatter": [
           {
            "marker": {
             "colorbar": {
              "outlinewidth": 0,
              "ticks": ""
             }
            },
            "type": "scatter"
           }
          ],
          "scatter3d": [
           {
            "line": {
             "colorbar": {
              "outlinewidth": 0,
              "ticks": ""
             }
            },
            "marker": {
             "colorbar": {
              "outlinewidth": 0,
              "ticks": ""
             }
            },
            "type": "scatter3d"
           }
          ],
          "scattercarpet": [
           {
            "marker": {
             "colorbar": {
              "outlinewidth": 0,
              "ticks": ""
             }
            },
            "type": "scattercarpet"
           }
          ],
          "scattergeo": [
           {
            "marker": {
             "colorbar": {
              "outlinewidth": 0,
              "ticks": ""
             }
            },
            "type": "scattergeo"
           }
          ],
          "scattergl": [
           {
            "marker": {
             "colorbar": {
              "outlinewidth": 0,
              "ticks": ""
             }
            },
            "type": "scattergl"
           }
          ],
          "scattermapbox": [
           {
            "marker": {
             "colorbar": {
              "outlinewidth": 0,
              "ticks": ""
             }
            },
            "type": "scattermapbox"
           }
          ],
          "scatterpolar": [
           {
            "marker": {
             "colorbar": {
              "outlinewidth": 0,
              "ticks": ""
             }
            },
            "type": "scatterpolar"
           }
          ],
          "scatterpolargl": [
           {
            "marker": {
             "colorbar": {
              "outlinewidth": 0,
              "ticks": ""
             }
            },
            "type": "scatterpolargl"
           }
          ],
          "scatterternary": [
           {
            "marker": {
             "colorbar": {
              "outlinewidth": 0,
              "ticks": ""
             }
            },
            "type": "scatterternary"
           }
          ],
          "surface": [
           {
            "colorbar": {
             "outlinewidth": 0,
             "ticks": ""
            },
            "colorscale": [
             [
              0,
              "#0d0887"
             ],
             [
              0.1111111111111111,
              "#46039f"
             ],
             [
              0.2222222222222222,
              "#7201a8"
             ],
             [
              0.3333333333333333,
              "#9c179e"
             ],
             [
              0.4444444444444444,
              "#bd3786"
             ],
             [
              0.5555555555555556,
              "#d8576b"
             ],
             [
              0.6666666666666666,
              "#ed7953"
             ],
             [
              0.7777777777777778,
              "#fb9f3a"
             ],
             [
              0.8888888888888888,
              "#fdca26"
             ],
             [
              1,
              "#f0f921"
             ]
            ],
            "type": "surface"
           }
          ],
          "table": [
           {
            "cells": {
             "fill": {
              "color": "#EBF0F8"
             },
             "line": {
              "color": "white"
             }
            },
            "header": {
             "fill": {
              "color": "#C8D4E3"
             },
             "line": {
              "color": "white"
             }
            },
            "type": "table"
           }
          ]
         },
         "layout": {
          "annotationdefaults": {
           "arrowcolor": "#2a3f5f",
           "arrowhead": 0,
           "arrowwidth": 1
          },
          "coloraxis": {
           "colorbar": {
            "outlinewidth": 0,
            "ticks": ""
           }
          },
          "colorscale": {
           "diverging": [
            [
             0,
             "#8e0152"
            ],
            [
             0.1,
             "#c51b7d"
            ],
            [
             0.2,
             "#de77ae"
            ],
            [
             0.3,
             "#f1b6da"
            ],
            [
             0.4,
             "#fde0ef"
            ],
            [
             0.5,
             "#f7f7f7"
            ],
            [
             0.6,
             "#e6f5d0"
            ],
            [
             0.7,
             "#b8e186"
            ],
            [
             0.8,
             "#7fbc41"
            ],
            [
             0.9,
             "#4d9221"
            ],
            [
             1,
             "#276419"
            ]
           ],
           "sequential": [
            [
             0,
             "#0d0887"
            ],
            [
             0.1111111111111111,
             "#46039f"
            ],
            [
             0.2222222222222222,
             "#7201a8"
            ],
            [
             0.3333333333333333,
             "#9c179e"
            ],
            [
             0.4444444444444444,
             "#bd3786"
            ],
            [
             0.5555555555555556,
             "#d8576b"
            ],
            [
             0.6666666666666666,
             "#ed7953"
            ],
            [
             0.7777777777777778,
             "#fb9f3a"
            ],
            [
             0.8888888888888888,
             "#fdca26"
            ],
            [
             1,
             "#f0f921"
            ]
           ],
           "sequentialminus": [
            [
             0,
             "#0d0887"
            ],
            [
             0.1111111111111111,
             "#46039f"
            ],
            [
             0.2222222222222222,
             "#7201a8"
            ],
            [
             0.3333333333333333,
             "#9c179e"
            ],
            [
             0.4444444444444444,
             "#bd3786"
            ],
            [
             0.5555555555555556,
             "#d8576b"
            ],
            [
             0.6666666666666666,
             "#ed7953"
            ],
            [
             0.7777777777777778,
             "#fb9f3a"
            ],
            [
             0.8888888888888888,
             "#fdca26"
            ],
            [
             1,
             "#f0f921"
            ]
           ]
          },
          "colorway": [
           "#636efa",
           "#EF553B",
           "#00cc96",
           "#ab63fa",
           "#FFA15A",
           "#19d3f3",
           "#FF6692",
           "#B6E880",
           "#FF97FF",
           "#FECB52"
          ],
          "font": {
           "color": "#2a3f5f"
          },
          "geo": {
           "bgcolor": "white",
           "lakecolor": "white",
           "landcolor": "#E5ECF6",
           "showlakes": true,
           "showland": true,
           "subunitcolor": "white"
          },
          "hoverlabel": {
           "align": "left"
          },
          "hovermode": "closest",
          "mapbox": {
           "style": "light"
          },
          "paper_bgcolor": "white",
          "plot_bgcolor": "#E5ECF6",
          "polar": {
           "angularaxis": {
            "gridcolor": "white",
            "linecolor": "white",
            "ticks": ""
           },
           "bgcolor": "#E5ECF6",
           "radialaxis": {
            "gridcolor": "white",
            "linecolor": "white",
            "ticks": ""
           }
          },
          "scene": {
           "xaxis": {
            "backgroundcolor": "#E5ECF6",
            "gridcolor": "white",
            "gridwidth": 2,
            "linecolor": "white",
            "showbackground": true,
            "ticks": "",
            "zerolinecolor": "white"
           },
           "yaxis": {
            "backgroundcolor": "#E5ECF6",
            "gridcolor": "white",
            "gridwidth": 2,
            "linecolor": "white",
            "showbackground": true,
            "ticks": "",
            "zerolinecolor": "white"
           },
           "zaxis": {
            "backgroundcolor": "#E5ECF6",
            "gridcolor": "white",
            "gridwidth": 2,
            "linecolor": "white",
            "showbackground": true,
            "ticks": "",
            "zerolinecolor": "white"
           }
          },
          "shapedefaults": {
           "line": {
            "color": "#2a3f5f"
           }
          },
          "ternary": {
           "aaxis": {
            "gridcolor": "white",
            "linecolor": "white",
            "ticks": ""
           },
           "baxis": {
            "gridcolor": "white",
            "linecolor": "white",
            "ticks": ""
           },
           "bgcolor": "#E5ECF6",
           "caxis": {
            "gridcolor": "white",
            "linecolor": "white",
            "ticks": ""
           }
          },
          "title": {
           "x": 0.05
          },
          "xaxis": {
           "automargin": true,
           "gridcolor": "white",
           "linecolor": "white",
           "ticks": "",
           "title": {
            "standoff": 15
           },
           "zerolinecolor": "white",
           "zerolinewidth": 2
          },
          "yaxis": {
           "automargin": true,
           "gridcolor": "white",
           "linecolor": "white",
           "ticks": "",
           "title": {
            "standoff": 15
           },
           "zerolinecolor": "white",
           "zerolinewidth": 2
          }
         }
        },
        "title": {
         "text": "United States - Cumulative Cases and Deaths"
        },
        "updatemenus": [
         {
          "active": 0,
          "buttons": [
           {
            "args": [
             {
              "visible": [
               true,
               true
              ]
             },
             {
              "yaxis": {
               "type": "linear"
              }
             }
            ],
            "label": "Linear Scale",
            "method": "update"
           },
           {
            "args": [
             {
              "visible": [
               true,
               true
              ]
             },
             {
              "yaxis": {
               "type": "log"
              }
             }
            ],
            "label": "Logarithmic Scale",
            "method": "update"
           }
          ],
          "direction": "right",
          "type": "buttons",
          "x": 0.45,
          "xanchor": "left",
          "y": 1.1,
          "yanchor": "top"
         }
        ]
       }
      },
      "text/html": [
       "<div>\n",
       "        \n",
       "        \n",
       "            <div id=\"7bf822d3-8295-4390-bf96-d0bdda3f9fd6\" class=\"plotly-graph-div\" style=\"height:525px; width:100%;\"></div>\n",
       "            <script type=\"text/javascript\">\n",
       "                require([\"plotly\"], function(Plotly) {\n",
       "                    window.PLOTLYENV=window.PLOTLYENV || {};\n",
       "                    \n",
       "                if (document.getElementById(\"7bf822d3-8295-4390-bf96-d0bdda3f9fd6\")) {\n",
       "                    Plotly.newPlot(\n",
       "                        '7bf822d3-8295-4390-bf96-d0bdda3f9fd6',\n",
       "                        [{\"name\": \"Confirmed Cases\", \"type\": \"scatter\", \"x\": [\"3/13/20\", \"3/14/20\", \"3/15/20\", \"3/16/20\", \"3/17/20\", \"3/18/20\", \"3/19/20\", \"3/20/20\", \"3/21/20\", \"3/22/20\", \"3/23/20\", \"3/24/20\", \"3/25/20\", \"3/26/20\", \"3/27/20\", \"3/28/20\", \"3/29/20\", \"3/30/20\", \"3/31/20\", \"4/1/20\"], \"y\": [2179, 2727, 3499, 4632, 6421, 7783, 13677, 19100, 25489, 33276, 43847, 53740, 65778, 83836, 101657, 121478, 140886, 161807, 188172, 213372]}, {\"name\": \"Deaths\", \"type\": \"scatter\", \"x\": [\"3/13/20\", \"3/14/20\", \"3/15/20\", \"3/16/20\", \"3/17/20\", \"3/18/20\", \"3/19/20\", \"3/20/20\", \"3/21/20\", \"3/22/20\", \"3/23/20\", \"3/24/20\", \"3/25/20\", \"3/26/20\", \"3/27/20\", \"3/28/20\", \"3/29/20\", \"3/30/20\", \"3/31/20\", \"4/1/20\"], \"y\": [47, 54, 63, 85, 108, 118, 200, 244, 307, 417, 557, 706, 942, 1209, 1581, 2026, 2467, 2978, 3873, 4757]}],\n",
       "                        {\"template\": {\"data\": {\"bar\": [{\"error_x\": {\"color\": \"#2a3f5f\"}, \"error_y\": {\"color\": \"#2a3f5f\"}, \"marker\": {\"line\": {\"color\": \"#E5ECF6\", \"width\": 0.5}}, \"type\": \"bar\"}], \"barpolar\": [{\"marker\": {\"line\": {\"color\": \"#E5ECF6\", \"width\": 0.5}}, \"type\": \"barpolar\"}], \"carpet\": [{\"aaxis\": {\"endlinecolor\": \"#2a3f5f\", \"gridcolor\": \"white\", \"linecolor\": \"white\", \"minorgridcolor\": \"white\", \"startlinecolor\": \"#2a3f5f\"}, \"baxis\": {\"endlinecolor\": \"#2a3f5f\", \"gridcolor\": \"white\", \"linecolor\": \"white\", \"minorgridcolor\": \"white\", \"startlinecolor\": \"#2a3f5f\"}, \"type\": \"carpet\"}], \"choropleth\": [{\"colorbar\": {\"outlinewidth\": 0, \"ticks\": \"\"}, \"type\": \"choropleth\"}], \"contour\": [{\"colorbar\": {\"outlinewidth\": 0, \"ticks\": \"\"}, \"colorscale\": [[0.0, \"#0d0887\"], [0.1111111111111111, \"#46039f\"], [0.2222222222222222, \"#7201a8\"], [0.3333333333333333, \"#9c179e\"], [0.4444444444444444, \"#bd3786\"], [0.5555555555555556, \"#d8576b\"], [0.6666666666666666, \"#ed7953\"], [0.7777777777777778, \"#fb9f3a\"], [0.8888888888888888, \"#fdca26\"], [1.0, \"#f0f921\"]], \"type\": \"contour\"}], \"contourcarpet\": [{\"colorbar\": {\"outlinewidth\": 0, \"ticks\": \"\"}, \"type\": \"contourcarpet\"}], \"heatmap\": [{\"colorbar\": {\"outlinewidth\": 0, \"ticks\": \"\"}, \"colorscale\": [[0.0, \"#0d0887\"], [0.1111111111111111, \"#46039f\"], [0.2222222222222222, \"#7201a8\"], [0.3333333333333333, \"#9c179e\"], [0.4444444444444444, \"#bd3786\"], [0.5555555555555556, \"#d8576b\"], [0.6666666666666666, \"#ed7953\"], [0.7777777777777778, \"#fb9f3a\"], [0.8888888888888888, \"#fdca26\"], [1.0, \"#f0f921\"]], \"type\": \"heatmap\"}], \"heatmapgl\": [{\"colorbar\": {\"outlinewidth\": 0, \"ticks\": \"\"}, \"colorscale\": [[0.0, \"#0d0887\"], [0.1111111111111111, \"#46039f\"], [0.2222222222222222, \"#7201a8\"], [0.3333333333333333, \"#9c179e\"], [0.4444444444444444, \"#bd3786\"], [0.5555555555555556, \"#d8576b\"], [0.6666666666666666, \"#ed7953\"], [0.7777777777777778, \"#fb9f3a\"], [0.8888888888888888, \"#fdca26\"], [1.0, \"#f0f921\"]], \"type\": \"heatmapgl\"}], \"histogram\": [{\"marker\": {\"colorbar\": {\"outlinewidth\": 0, \"ticks\": \"\"}}, \"type\": \"histogram\"}], \"histogram2d\": [{\"colorbar\": {\"outlinewidth\": 0, \"ticks\": \"\"}, \"colorscale\": [[0.0, \"#0d0887\"], [0.1111111111111111, \"#46039f\"], [0.2222222222222222, \"#7201a8\"], [0.3333333333333333, \"#9c179e\"], [0.4444444444444444, \"#bd3786\"], [0.5555555555555556, \"#d8576b\"], [0.6666666666666666, \"#ed7953\"], [0.7777777777777778, \"#fb9f3a\"], [0.8888888888888888, \"#fdca26\"], [1.0, \"#f0f921\"]], \"type\": \"histogram2d\"}], \"histogram2dcontour\": [{\"colorbar\": {\"outlinewidth\": 0, \"ticks\": \"\"}, \"colorscale\": [[0.0, \"#0d0887\"], [0.1111111111111111, \"#46039f\"], [0.2222222222222222, \"#7201a8\"], [0.3333333333333333, \"#9c179e\"], [0.4444444444444444, \"#bd3786\"], [0.5555555555555556, \"#d8576b\"], [0.6666666666666666, \"#ed7953\"], [0.7777777777777778, \"#fb9f3a\"], [0.8888888888888888, \"#fdca26\"], [1.0, \"#f0f921\"]], \"type\": \"histogram2dcontour\"}], \"mesh3d\": [{\"colorbar\": {\"outlinewidth\": 0, \"ticks\": \"\"}, \"type\": \"mesh3d\"}], \"parcoords\": [{\"line\": {\"colorbar\": {\"outlinewidth\": 0, \"ticks\": \"\"}}, \"type\": \"parcoords\"}], \"pie\": [{\"automargin\": true, \"type\": \"pie\"}], \"scatter\": [{\"marker\": {\"colorbar\": {\"outlinewidth\": 0, \"ticks\": \"\"}}, \"type\": \"scatter\"}], \"scatter3d\": [{\"line\": {\"colorbar\": {\"outlinewidth\": 0, \"ticks\": \"\"}}, \"marker\": {\"colorbar\": {\"outlinewidth\": 0, \"ticks\": \"\"}}, \"type\": \"scatter3d\"}], \"scattercarpet\": [{\"marker\": {\"colorbar\": {\"outlinewidth\": 0, \"ticks\": \"\"}}, \"type\": \"scattercarpet\"}], \"scattergeo\": [{\"marker\": {\"colorbar\": {\"outlinewidth\": 0, \"ticks\": \"\"}}, \"type\": \"scattergeo\"}], \"scattergl\": [{\"marker\": {\"colorbar\": {\"outlinewidth\": 0, \"ticks\": \"\"}}, \"type\": \"scattergl\"}], \"scattermapbox\": [{\"marker\": {\"colorbar\": {\"outlinewidth\": 0, \"ticks\": \"\"}}, \"type\": \"scattermapbox\"}], \"scatterpolar\": [{\"marker\": {\"colorbar\": {\"outlinewidth\": 0, \"ticks\": \"\"}}, \"type\": \"scatterpolar\"}], \"scatterpolargl\": [{\"marker\": {\"colorbar\": {\"outlinewidth\": 0, \"ticks\": \"\"}}, \"type\": \"scatterpolargl\"}], \"scatterternary\": [{\"marker\": {\"colorbar\": {\"outlinewidth\": 0, \"ticks\": \"\"}}, \"type\": \"scatterternary\"}], \"surface\": [{\"colorbar\": {\"outlinewidth\": 0, \"ticks\": \"\"}, \"colorscale\": [[0.0, \"#0d0887\"], [0.1111111111111111, \"#46039f\"], [0.2222222222222222, \"#7201a8\"], [0.3333333333333333, \"#9c179e\"], [0.4444444444444444, \"#bd3786\"], [0.5555555555555556, \"#d8576b\"], [0.6666666666666666, \"#ed7953\"], [0.7777777777777778, \"#fb9f3a\"], [0.8888888888888888, \"#fdca26\"], [1.0, \"#f0f921\"]], \"type\": \"surface\"}], \"table\": [{\"cells\": {\"fill\": {\"color\": \"#EBF0F8\"}, \"line\": {\"color\": \"white\"}}, \"header\": {\"fill\": {\"color\": \"#C8D4E3\"}, \"line\": {\"color\": \"white\"}}, \"type\": \"table\"}]}, \"layout\": {\"annotationdefaults\": {\"arrowcolor\": \"#2a3f5f\", \"arrowhead\": 0, \"arrowwidth\": 1}, \"coloraxis\": {\"colorbar\": {\"outlinewidth\": 0, \"ticks\": \"\"}}, \"colorscale\": {\"diverging\": [[0, \"#8e0152\"], [0.1, \"#c51b7d\"], [0.2, \"#de77ae\"], [0.3, \"#f1b6da\"], [0.4, \"#fde0ef\"], [0.5, \"#f7f7f7\"], [0.6, \"#e6f5d0\"], [0.7, \"#b8e186\"], [0.8, \"#7fbc41\"], [0.9, \"#4d9221\"], [1, \"#276419\"]], \"sequential\": [[0.0, \"#0d0887\"], [0.1111111111111111, \"#46039f\"], [0.2222222222222222, \"#7201a8\"], [0.3333333333333333, \"#9c179e\"], [0.4444444444444444, \"#bd3786\"], [0.5555555555555556, \"#d8576b\"], [0.6666666666666666, \"#ed7953\"], [0.7777777777777778, \"#fb9f3a\"], [0.8888888888888888, \"#fdca26\"], [1.0, \"#f0f921\"]], \"sequentialminus\": [[0.0, \"#0d0887\"], [0.1111111111111111, \"#46039f\"], [0.2222222222222222, \"#7201a8\"], [0.3333333333333333, \"#9c179e\"], [0.4444444444444444, \"#bd3786\"], [0.5555555555555556, \"#d8576b\"], [0.6666666666666666, \"#ed7953\"], [0.7777777777777778, \"#fb9f3a\"], [0.8888888888888888, \"#fdca26\"], [1.0, \"#f0f921\"]]}, \"colorway\": [\"#636efa\", \"#EF553B\", \"#00cc96\", \"#ab63fa\", \"#FFA15A\", \"#19d3f3\", \"#FF6692\", \"#B6E880\", \"#FF97FF\", \"#FECB52\"], \"font\": {\"color\": \"#2a3f5f\"}, \"geo\": {\"bgcolor\": \"white\", \"lakecolor\": \"white\", \"landcolor\": \"#E5ECF6\", \"showlakes\": true, \"showland\": true, \"subunitcolor\": \"white\"}, \"hoverlabel\": {\"align\": \"left\"}, \"hovermode\": \"closest\", \"mapbox\": {\"style\": \"light\"}, \"paper_bgcolor\": \"white\", \"plot_bgcolor\": \"#E5ECF6\", \"polar\": {\"angularaxis\": {\"gridcolor\": \"white\", \"linecolor\": \"white\", \"ticks\": \"\"}, \"bgcolor\": \"#E5ECF6\", \"radialaxis\": {\"gridcolor\": \"white\", \"linecolor\": \"white\", \"ticks\": \"\"}}, \"scene\": {\"xaxis\": {\"backgroundcolor\": \"#E5ECF6\", \"gridcolor\": \"white\", \"gridwidth\": 2, \"linecolor\": \"white\", \"showbackground\": true, \"ticks\": \"\", \"zerolinecolor\": \"white\"}, \"yaxis\": {\"backgroundcolor\": \"#E5ECF6\", \"gridcolor\": \"white\", \"gridwidth\": 2, \"linecolor\": \"white\", \"showbackground\": true, \"ticks\": \"\", \"zerolinecolor\": \"white\"}, \"zaxis\": {\"backgroundcolor\": \"#E5ECF6\", \"gridcolor\": \"white\", \"gridwidth\": 2, \"linecolor\": \"white\", \"showbackground\": true, \"ticks\": \"\", \"zerolinecolor\": \"white\"}}, \"shapedefaults\": {\"line\": {\"color\": \"#2a3f5f\"}}, \"ternary\": {\"aaxis\": {\"gridcolor\": \"white\", \"linecolor\": \"white\", \"ticks\": \"\"}, \"baxis\": {\"gridcolor\": \"white\", \"linecolor\": \"white\", \"ticks\": \"\"}, \"bgcolor\": \"#E5ECF6\", \"caxis\": {\"gridcolor\": \"white\", \"linecolor\": \"white\", \"ticks\": \"\"}}, \"title\": {\"x\": 0.05}, \"xaxis\": {\"automargin\": true, \"gridcolor\": \"white\", \"linecolor\": \"white\", \"ticks\": \"\", \"title\": {\"standoff\": 15}, \"zerolinecolor\": \"white\", \"zerolinewidth\": 2}, \"yaxis\": {\"automargin\": true, \"gridcolor\": \"white\", \"linecolor\": \"white\", \"ticks\": \"\", \"title\": {\"standoff\": 15}, \"zerolinecolor\": \"white\", \"zerolinewidth\": 2}}}, \"title\": {\"text\": \"United States - Cumulative Cases and Deaths\"}, \"updatemenus\": [{\"active\": 0, \"buttons\": [{\"args\": [{\"visible\": [true, true]}, {\"yaxis\": {\"type\": \"linear\"}}], \"label\": \"Linear Scale\", \"method\": \"update\"}, {\"args\": [{\"visible\": [true, true]}, {\"yaxis\": {\"type\": \"log\"}}], \"label\": \"Logarithmic Scale\", \"method\": \"update\"}], \"direction\": \"right\", \"type\": \"buttons\", \"x\": 0.45, \"xanchor\": \"left\", \"y\": 1.1, \"yanchor\": \"top\"}]},\n",
       "                        {\"responsive\": true}\n",
       "                    ).then(function(){\n",
       "                            \n",
       "var gd = document.getElementById('7bf822d3-8295-4390-bf96-d0bdda3f9fd6');\n",
       "var x = new MutationObserver(function (mutations, observer) {{\n",
       "        var display = window.getComputedStyle(gd).display;\n",
       "        if (!display || display === 'none') {{\n",
       "            console.log([gd, 'removed!']);\n",
       "            Plotly.purge(gd);\n",
       "            observer.disconnect();\n",
       "        }}\n",
       "}});\n",
       "\n",
       "// Listen for the removal of the full notebook cells\n",
       "var notebookContainer = gd.closest('#notebook-container');\n",
       "if (notebookContainer) {{\n",
       "    x.observe(notebookContainer, {childList: true});\n",
       "}}\n",
       "\n",
       "// Listen for the clearing of the current output cell\n",
       "var outputEl = gd.closest('.output');\n",
       "if (outputEl) {{\n",
       "    x.observe(outputEl, {childList: true});\n",
       "}}\n",
       "\n",
       "                        })\n",
       "                };\n",
       "                });\n",
       "            </script>\n",
       "        </div>"
      ]
     },
     "metadata": {},
     "output_type": "display_data"
    },
    {
     "data": {
      "text/html": [
       "<style  type=\"text/css\" >\n",
       "</style><table id=\"T_2199e1b6_74a9_11ea_865c_c49ded93ade6\" ><thead>    <tr>        <th class=\"blank\" ></th>        <th class=\"blank level0\" ></th>        <th class=\"col_heading level0 col0\" >3/13/20</th>        <th class=\"col_heading level0 col1\" >3/14/20</th>        <th class=\"col_heading level0 col2\" >3/15/20</th>        <th class=\"col_heading level0 col3\" >3/16/20</th>        <th class=\"col_heading level0 col4\" >3/17/20</th>        <th class=\"col_heading level0 col5\" >3/18/20</th>        <th class=\"col_heading level0 col6\" >3/19/20</th>        <th class=\"col_heading level0 col7\" >3/20/20</th>        <th class=\"col_heading level0 col8\" >3/21/20</th>        <th class=\"col_heading level0 col9\" >3/22/20</th>        <th class=\"col_heading level0 col10\" >3/23/20</th>        <th class=\"col_heading level0 col11\" >3/24/20</th>        <th class=\"col_heading level0 col12\" >3/25/20</th>        <th class=\"col_heading level0 col13\" >3/26/20</th>        <th class=\"col_heading level0 col14\" >3/27/20</th>        <th class=\"col_heading level0 col15\" >3/28/20</th>        <th class=\"col_heading level0 col16\" >3/29/20</th>        <th class=\"col_heading level0 col17\" >3/30/20</th>        <th class=\"col_heading level0 col18\" >3/31/20</th>        <th class=\"col_heading level0 col19\" >4/1/20</th>    </tr>    <tr>        <th class=\"index_name level0\" >Country/Region</th>        <th class=\"index_name level1\" >Category</th>        <th class=\"blank\" ></th>        <th class=\"blank\" ></th>        <th class=\"blank\" ></th>        <th class=\"blank\" ></th>        <th class=\"blank\" ></th>        <th class=\"blank\" ></th>        <th class=\"blank\" ></th>        <th class=\"blank\" ></th>        <th class=\"blank\" ></th>        <th class=\"blank\" ></th>        <th class=\"blank\" ></th>        <th class=\"blank\" ></th>        <th class=\"blank\" ></th>        <th class=\"blank\" ></th>        <th class=\"blank\" ></th>        <th class=\"blank\" ></th>        <th class=\"blank\" ></th>        <th class=\"blank\" ></th>        <th class=\"blank\" ></th>        <th class=\"blank\" ></th>    </tr></thead><tbody>\n",
       "                <tr>\n",
       "                        <th id=\"T_2199e1b6_74a9_11ea_865c_c49ded93ade6level0_row0\" class=\"row_heading level0 row0\" rowspan=2>US</th>\n",
       "                        <th id=\"T_2199e1b6_74a9_11ea_865c_c49ded93ade6level1_row0\" class=\"row_heading level1 row0\" >Confirmed Cases</th>\n",
       "                        <td id=\"T_2199e1b6_74a9_11ea_865c_c49ded93ade6row0_col0\" class=\"data row0 col0\" >2,179</td>\n",
       "                        <td id=\"T_2199e1b6_74a9_11ea_865c_c49ded93ade6row0_col1\" class=\"data row0 col1\" >2,727</td>\n",
       "                        <td id=\"T_2199e1b6_74a9_11ea_865c_c49ded93ade6row0_col2\" class=\"data row0 col2\" >3,499</td>\n",
       "                        <td id=\"T_2199e1b6_74a9_11ea_865c_c49ded93ade6row0_col3\" class=\"data row0 col3\" >4,632</td>\n",
       "                        <td id=\"T_2199e1b6_74a9_11ea_865c_c49ded93ade6row0_col4\" class=\"data row0 col4\" >6,421</td>\n",
       "                        <td id=\"T_2199e1b6_74a9_11ea_865c_c49ded93ade6row0_col5\" class=\"data row0 col5\" >7,783</td>\n",
       "                        <td id=\"T_2199e1b6_74a9_11ea_865c_c49ded93ade6row0_col6\" class=\"data row0 col6\" >13,677</td>\n",
       "                        <td id=\"T_2199e1b6_74a9_11ea_865c_c49ded93ade6row0_col7\" class=\"data row0 col7\" >19,100</td>\n",
       "                        <td id=\"T_2199e1b6_74a9_11ea_865c_c49ded93ade6row0_col8\" class=\"data row0 col8\" >25,489</td>\n",
       "                        <td id=\"T_2199e1b6_74a9_11ea_865c_c49ded93ade6row0_col9\" class=\"data row0 col9\" >33,276</td>\n",
       "                        <td id=\"T_2199e1b6_74a9_11ea_865c_c49ded93ade6row0_col10\" class=\"data row0 col10\" >43,847</td>\n",
       "                        <td id=\"T_2199e1b6_74a9_11ea_865c_c49ded93ade6row0_col11\" class=\"data row0 col11\" >53,740</td>\n",
       "                        <td id=\"T_2199e1b6_74a9_11ea_865c_c49ded93ade6row0_col12\" class=\"data row0 col12\" >65,778</td>\n",
       "                        <td id=\"T_2199e1b6_74a9_11ea_865c_c49ded93ade6row0_col13\" class=\"data row0 col13\" >83,836</td>\n",
       "                        <td id=\"T_2199e1b6_74a9_11ea_865c_c49ded93ade6row0_col14\" class=\"data row0 col14\" >101,657</td>\n",
       "                        <td id=\"T_2199e1b6_74a9_11ea_865c_c49ded93ade6row0_col15\" class=\"data row0 col15\" >121,478</td>\n",
       "                        <td id=\"T_2199e1b6_74a9_11ea_865c_c49ded93ade6row0_col16\" class=\"data row0 col16\" >140,886</td>\n",
       "                        <td id=\"T_2199e1b6_74a9_11ea_865c_c49ded93ade6row0_col17\" class=\"data row0 col17\" >161,807</td>\n",
       "                        <td id=\"T_2199e1b6_74a9_11ea_865c_c49ded93ade6row0_col18\" class=\"data row0 col18\" >188,172</td>\n",
       "                        <td id=\"T_2199e1b6_74a9_11ea_865c_c49ded93ade6row0_col19\" class=\"data row0 col19\" >213,372</td>\n",
       "            </tr>\n",
       "            <tr>\n",
       "                                <th id=\"T_2199e1b6_74a9_11ea_865c_c49ded93ade6level1_row1\" class=\"row_heading level1 row1\" >Deaths</th>\n",
       "                        <td id=\"T_2199e1b6_74a9_11ea_865c_c49ded93ade6row1_col0\" class=\"data row1 col0\" >47</td>\n",
       "                        <td id=\"T_2199e1b6_74a9_11ea_865c_c49ded93ade6row1_col1\" class=\"data row1 col1\" >54</td>\n",
       "                        <td id=\"T_2199e1b6_74a9_11ea_865c_c49ded93ade6row1_col2\" class=\"data row1 col2\" >63</td>\n",
       "                        <td id=\"T_2199e1b6_74a9_11ea_865c_c49ded93ade6row1_col3\" class=\"data row1 col3\" >85</td>\n",
       "                        <td id=\"T_2199e1b6_74a9_11ea_865c_c49ded93ade6row1_col4\" class=\"data row1 col4\" >108</td>\n",
       "                        <td id=\"T_2199e1b6_74a9_11ea_865c_c49ded93ade6row1_col5\" class=\"data row1 col5\" >118</td>\n",
       "                        <td id=\"T_2199e1b6_74a9_11ea_865c_c49ded93ade6row1_col6\" class=\"data row1 col6\" >200</td>\n",
       "                        <td id=\"T_2199e1b6_74a9_11ea_865c_c49ded93ade6row1_col7\" class=\"data row1 col7\" >244</td>\n",
       "                        <td id=\"T_2199e1b6_74a9_11ea_865c_c49ded93ade6row1_col8\" class=\"data row1 col8\" >307</td>\n",
       "                        <td id=\"T_2199e1b6_74a9_11ea_865c_c49ded93ade6row1_col9\" class=\"data row1 col9\" >417</td>\n",
       "                        <td id=\"T_2199e1b6_74a9_11ea_865c_c49ded93ade6row1_col10\" class=\"data row1 col10\" >557</td>\n",
       "                        <td id=\"T_2199e1b6_74a9_11ea_865c_c49ded93ade6row1_col11\" class=\"data row1 col11\" >706</td>\n",
       "                        <td id=\"T_2199e1b6_74a9_11ea_865c_c49ded93ade6row1_col12\" class=\"data row1 col12\" >942</td>\n",
       "                        <td id=\"T_2199e1b6_74a9_11ea_865c_c49ded93ade6row1_col13\" class=\"data row1 col13\" >1,209</td>\n",
       "                        <td id=\"T_2199e1b6_74a9_11ea_865c_c49ded93ade6row1_col14\" class=\"data row1 col14\" >1,581</td>\n",
       "                        <td id=\"T_2199e1b6_74a9_11ea_865c_c49ded93ade6row1_col15\" class=\"data row1 col15\" >2,026</td>\n",
       "                        <td id=\"T_2199e1b6_74a9_11ea_865c_c49ded93ade6row1_col16\" class=\"data row1 col16\" >2,467</td>\n",
       "                        <td id=\"T_2199e1b6_74a9_11ea_865c_c49ded93ade6row1_col17\" class=\"data row1 col17\" >2,978</td>\n",
       "                        <td id=\"T_2199e1b6_74a9_11ea_865c_c49ded93ade6row1_col18\" class=\"data row1 col18\" >3,873</td>\n",
       "                        <td id=\"T_2199e1b6_74a9_11ea_865c_c49ded93ade6row1_col19\" class=\"data row1 col19\" >4,757</td>\n",
       "            </tr>\n",
       "    </tbody></table>"
      ],
      "text/plain": [
       "<pandas.io.formats.style.Styler at 0xf236190>"
      ]
     },
     "execution_count": 21,
     "metadata": {},
     "output_type": "execute_result"
    }
   ],
   "source": [
    "dfUSConfirmed = dfConfirmedGlobal[dfConfirmedGlobal['Country/Region'] == 'US'].copy()\n",
    "dfUSDeaths =  dfDeathsGlobal[dfConfirmedGlobal['Country/Region'] == 'US'].copy()\n",
    "\n",
    "trace1 = go.Scatter(\n",
    "    x = dfUSConfirmed.columns[-DEFAULT_DAYS:],\n",
    "    y = dfUSConfirmed.iloc[0][-DEFAULT_DAYS:], name = 'Confirmed Cases')\n",
    "\n",
    "trace2 = go.Scatter(\n",
    "    x = dfUSDeaths.columns[-DEFAULT_DAYS:],\n",
    "    y = dfUSDeaths.iloc[0][-DEFAULT_DAYS:], name = 'Deaths')\n",
    "\n",
    "data = [trace1, trace2]\n",
    "layout = dict(title = 'United States - Cumulative Cases and Deaths', updatemenus=LogLinearScale)\n",
    "\n",
    "py.iplot(dict(data=data, layout=layout))\n",
    "dfUSConfirmed['Category'] = 'Confirmed Cases'\n",
    "dfUSConfirmed = dfUSConfirmed.set_index(['Country/Region', 'Category'])\n",
    "dfUSDeaths['Category'] = 'Deaths'\n",
    "dfUSDeaths = dfUSDeaths.set_index(['Country/Region', 'Category'])\n",
    "\n",
    "dfUSCombined = pd.concat([dfUSConfirmed, dfUSDeaths])\n",
    "dfUSCombined[dfUSCombined.columns[-DEFAULT_DAYS:]].style.format(IntegerFormatter)"
   ]
  },
  {
   "cell_type": "code",
   "execution_count": 22,
   "metadata": {
    "ExecuteTime": {
     "end_time": "2020-04-02T06:13:55.671912Z",
     "start_time": "2020-04-02T06:13:55.042913Z"
    }
   },
   "outputs": [
    {
     "data": {
      "application/vnd.plotly.v1+json": {
       "config": {
        "linkText": "Export to plot.ly",
        "plotlyServerURL": "https://plot.ly",
        "showLink": false
       },
       "data": [
        {
         "name": "New Confirmed Cases",
         "type": "bar",
         "x": [
          "3/13/20",
          "3/14/20",
          "3/15/20",
          "3/16/20",
          "3/17/20",
          "3/18/20",
          "3/19/20",
          "3/20/20",
          "3/21/20",
          "3/22/20",
          "3/23/20",
          "3/24/20",
          "3/25/20",
          "3/26/20",
          "3/27/20",
          "3/28/20",
          "3/29/20",
          "3/30/20",
          "3/31/20",
          "4/1/20"
         ],
         "y": [
          null,
          548,
          772,
          1133,
          1789,
          1362,
          5894,
          5423,
          6389,
          7787,
          10571,
          9893,
          12038,
          18058,
          17821,
          19821,
          19408,
          20921,
          26365,
          25200
         ]
        },
        {
         "name": "New Deaths",
         "type": "bar",
         "x": [
          "3/13/20",
          "3/14/20",
          "3/15/20",
          "3/16/20",
          "3/17/20",
          "3/18/20",
          "3/19/20",
          "3/20/20",
          "3/21/20",
          "3/22/20",
          "3/23/20",
          "3/24/20",
          "3/25/20",
          "3/26/20",
          "3/27/20",
          "3/28/20",
          "3/29/20",
          "3/30/20",
          "3/31/20",
          "4/1/20"
         ],
         "y": [
          null,
          7,
          9,
          22,
          23,
          10,
          82,
          44,
          63,
          110,
          140,
          149,
          236,
          267,
          372,
          445,
          441,
          511,
          895,
          884
         ]
        }
       ],
       "layout": {
        "template": {
         "data": {
          "bar": [
           {
            "error_x": {
             "color": "#2a3f5f"
            },
            "error_y": {
             "color": "#2a3f5f"
            },
            "marker": {
             "line": {
              "color": "#E5ECF6",
              "width": 0.5
             }
            },
            "type": "bar"
           }
          ],
          "barpolar": [
           {
            "marker": {
             "line": {
              "color": "#E5ECF6",
              "width": 0.5
             }
            },
            "type": "barpolar"
           }
          ],
          "carpet": [
           {
            "aaxis": {
             "endlinecolor": "#2a3f5f",
             "gridcolor": "white",
             "linecolor": "white",
             "minorgridcolor": "white",
             "startlinecolor": "#2a3f5f"
            },
            "baxis": {
             "endlinecolor": "#2a3f5f",
             "gridcolor": "white",
             "linecolor": "white",
             "minorgridcolor": "white",
             "startlinecolor": "#2a3f5f"
            },
            "type": "carpet"
           }
          ],
          "choropleth": [
           {
            "colorbar": {
             "outlinewidth": 0,
             "ticks": ""
            },
            "type": "choropleth"
           }
          ],
          "contour": [
           {
            "colorbar": {
             "outlinewidth": 0,
             "ticks": ""
            },
            "colorscale": [
             [
              0,
              "#0d0887"
             ],
             [
              0.1111111111111111,
              "#46039f"
             ],
             [
              0.2222222222222222,
              "#7201a8"
             ],
             [
              0.3333333333333333,
              "#9c179e"
             ],
             [
              0.4444444444444444,
              "#bd3786"
             ],
             [
              0.5555555555555556,
              "#d8576b"
             ],
             [
              0.6666666666666666,
              "#ed7953"
             ],
             [
              0.7777777777777778,
              "#fb9f3a"
             ],
             [
              0.8888888888888888,
              "#fdca26"
             ],
             [
              1,
              "#f0f921"
             ]
            ],
            "type": "contour"
           }
          ],
          "contourcarpet": [
           {
            "colorbar": {
             "outlinewidth": 0,
             "ticks": ""
            },
            "type": "contourcarpet"
           }
          ],
          "heatmap": [
           {
            "colorbar": {
             "outlinewidth": 0,
             "ticks": ""
            },
            "colorscale": [
             [
              0,
              "#0d0887"
             ],
             [
              0.1111111111111111,
              "#46039f"
             ],
             [
              0.2222222222222222,
              "#7201a8"
             ],
             [
              0.3333333333333333,
              "#9c179e"
             ],
             [
              0.4444444444444444,
              "#bd3786"
             ],
             [
              0.5555555555555556,
              "#d8576b"
             ],
             [
              0.6666666666666666,
              "#ed7953"
             ],
             [
              0.7777777777777778,
              "#fb9f3a"
             ],
             [
              0.8888888888888888,
              "#fdca26"
             ],
             [
              1,
              "#f0f921"
             ]
            ],
            "type": "heatmap"
           }
          ],
          "heatmapgl": [
           {
            "colorbar": {
             "outlinewidth": 0,
             "ticks": ""
            },
            "colorscale": [
             [
              0,
              "#0d0887"
             ],
             [
              0.1111111111111111,
              "#46039f"
             ],
             [
              0.2222222222222222,
              "#7201a8"
             ],
             [
              0.3333333333333333,
              "#9c179e"
             ],
             [
              0.4444444444444444,
              "#bd3786"
             ],
             [
              0.5555555555555556,
              "#d8576b"
             ],
             [
              0.6666666666666666,
              "#ed7953"
             ],
             [
              0.7777777777777778,
              "#fb9f3a"
             ],
             [
              0.8888888888888888,
              "#fdca26"
             ],
             [
              1,
              "#f0f921"
             ]
            ],
            "type": "heatmapgl"
           }
          ],
          "histogram": [
           {
            "marker": {
             "colorbar": {
              "outlinewidth": 0,
              "ticks": ""
             }
            },
            "type": "histogram"
           }
          ],
          "histogram2d": [
           {
            "colorbar": {
             "outlinewidth": 0,
             "ticks": ""
            },
            "colorscale": [
             [
              0,
              "#0d0887"
             ],
             [
              0.1111111111111111,
              "#46039f"
             ],
             [
              0.2222222222222222,
              "#7201a8"
             ],
             [
              0.3333333333333333,
              "#9c179e"
             ],
             [
              0.4444444444444444,
              "#bd3786"
             ],
             [
              0.5555555555555556,
              "#d8576b"
             ],
             [
              0.6666666666666666,
              "#ed7953"
             ],
             [
              0.7777777777777778,
              "#fb9f3a"
             ],
             [
              0.8888888888888888,
              "#fdca26"
             ],
             [
              1,
              "#f0f921"
             ]
            ],
            "type": "histogram2d"
           }
          ],
          "histogram2dcontour": [
           {
            "colorbar": {
             "outlinewidth": 0,
             "ticks": ""
            },
            "colorscale": [
             [
              0,
              "#0d0887"
             ],
             [
              0.1111111111111111,
              "#46039f"
             ],
             [
              0.2222222222222222,
              "#7201a8"
             ],
             [
              0.3333333333333333,
              "#9c179e"
             ],
             [
              0.4444444444444444,
              "#bd3786"
             ],
             [
              0.5555555555555556,
              "#d8576b"
             ],
             [
              0.6666666666666666,
              "#ed7953"
             ],
             [
              0.7777777777777778,
              "#fb9f3a"
             ],
             [
              0.8888888888888888,
              "#fdca26"
             ],
             [
              1,
              "#f0f921"
             ]
            ],
            "type": "histogram2dcontour"
           }
          ],
          "mesh3d": [
           {
            "colorbar": {
             "outlinewidth": 0,
             "ticks": ""
            },
            "type": "mesh3d"
           }
          ],
          "parcoords": [
           {
            "line": {
             "colorbar": {
              "outlinewidth": 0,
              "ticks": ""
             }
            },
            "type": "parcoords"
           }
          ],
          "pie": [
           {
            "automargin": true,
            "type": "pie"
           }
          ],
          "scatter": [
           {
            "marker": {
             "colorbar": {
              "outlinewidth": 0,
              "ticks": ""
             }
            },
            "type": "scatter"
           }
          ],
          "scatter3d": [
           {
            "line": {
             "colorbar": {
              "outlinewidth": 0,
              "ticks": ""
             }
            },
            "marker": {
             "colorbar": {
              "outlinewidth": 0,
              "ticks": ""
             }
            },
            "type": "scatter3d"
           }
          ],
          "scattercarpet": [
           {
            "marker": {
             "colorbar": {
              "outlinewidth": 0,
              "ticks": ""
             }
            },
            "type": "scattercarpet"
           }
          ],
          "scattergeo": [
           {
            "marker": {
             "colorbar": {
              "outlinewidth": 0,
              "ticks": ""
             }
            },
            "type": "scattergeo"
           }
          ],
          "scattergl": [
           {
            "marker": {
             "colorbar": {
              "outlinewidth": 0,
              "ticks": ""
             }
            },
            "type": "scattergl"
           }
          ],
          "scattermapbox": [
           {
            "marker": {
             "colorbar": {
              "outlinewidth": 0,
              "ticks": ""
             }
            },
            "type": "scattermapbox"
           }
          ],
          "scatterpolar": [
           {
            "marker": {
             "colorbar": {
              "outlinewidth": 0,
              "ticks": ""
             }
            },
            "type": "scatterpolar"
           }
          ],
          "scatterpolargl": [
           {
            "marker": {
             "colorbar": {
              "outlinewidth": 0,
              "ticks": ""
             }
            },
            "type": "scatterpolargl"
           }
          ],
          "scatterternary": [
           {
            "marker": {
             "colorbar": {
              "outlinewidth": 0,
              "ticks": ""
             }
            },
            "type": "scatterternary"
           }
          ],
          "surface": [
           {
            "colorbar": {
             "outlinewidth": 0,
             "ticks": ""
            },
            "colorscale": [
             [
              0,
              "#0d0887"
             ],
             [
              0.1111111111111111,
              "#46039f"
             ],
             [
              0.2222222222222222,
              "#7201a8"
             ],
             [
              0.3333333333333333,
              "#9c179e"
             ],
             [
              0.4444444444444444,
              "#bd3786"
             ],
             [
              0.5555555555555556,
              "#d8576b"
             ],
             [
              0.6666666666666666,
              "#ed7953"
             ],
             [
              0.7777777777777778,
              "#fb9f3a"
             ],
             [
              0.8888888888888888,
              "#fdca26"
             ],
             [
              1,
              "#f0f921"
             ]
            ],
            "type": "surface"
           }
          ],
          "table": [
           {
            "cells": {
             "fill": {
              "color": "#EBF0F8"
             },
             "line": {
              "color": "white"
             }
            },
            "header": {
             "fill": {
              "color": "#C8D4E3"
             },
             "line": {
              "color": "white"
             }
            },
            "type": "table"
           }
          ]
         },
         "layout": {
          "annotationdefaults": {
           "arrowcolor": "#2a3f5f",
           "arrowhead": 0,
           "arrowwidth": 1
          },
          "coloraxis": {
           "colorbar": {
            "outlinewidth": 0,
            "ticks": ""
           }
          },
          "colorscale": {
           "diverging": [
            [
             0,
             "#8e0152"
            ],
            [
             0.1,
             "#c51b7d"
            ],
            [
             0.2,
             "#de77ae"
            ],
            [
             0.3,
             "#f1b6da"
            ],
            [
             0.4,
             "#fde0ef"
            ],
            [
             0.5,
             "#f7f7f7"
            ],
            [
             0.6,
             "#e6f5d0"
            ],
            [
             0.7,
             "#b8e186"
            ],
            [
             0.8,
             "#7fbc41"
            ],
            [
             0.9,
             "#4d9221"
            ],
            [
             1,
             "#276419"
            ]
           ],
           "sequential": [
            [
             0,
             "#0d0887"
            ],
            [
             0.1111111111111111,
             "#46039f"
            ],
            [
             0.2222222222222222,
             "#7201a8"
            ],
            [
             0.3333333333333333,
             "#9c179e"
            ],
            [
             0.4444444444444444,
             "#bd3786"
            ],
            [
             0.5555555555555556,
             "#d8576b"
            ],
            [
             0.6666666666666666,
             "#ed7953"
            ],
            [
             0.7777777777777778,
             "#fb9f3a"
            ],
            [
             0.8888888888888888,
             "#fdca26"
            ],
            [
             1,
             "#f0f921"
            ]
           ],
           "sequentialminus": [
            [
             0,
             "#0d0887"
            ],
            [
             0.1111111111111111,
             "#46039f"
            ],
            [
             0.2222222222222222,
             "#7201a8"
            ],
            [
             0.3333333333333333,
             "#9c179e"
            ],
            [
             0.4444444444444444,
             "#bd3786"
            ],
            [
             0.5555555555555556,
             "#d8576b"
            ],
            [
             0.6666666666666666,
             "#ed7953"
            ],
            [
             0.7777777777777778,
             "#fb9f3a"
            ],
            [
             0.8888888888888888,
             "#fdca26"
            ],
            [
             1,
             "#f0f921"
            ]
           ]
          },
          "colorway": [
           "#636efa",
           "#EF553B",
           "#00cc96",
           "#ab63fa",
           "#FFA15A",
           "#19d3f3",
           "#FF6692",
           "#B6E880",
           "#FF97FF",
           "#FECB52"
          ],
          "font": {
           "color": "#2a3f5f"
          },
          "geo": {
           "bgcolor": "white",
           "lakecolor": "white",
           "landcolor": "#E5ECF6",
           "showlakes": true,
           "showland": true,
           "subunitcolor": "white"
          },
          "hoverlabel": {
           "align": "left"
          },
          "hovermode": "closest",
          "mapbox": {
           "style": "light"
          },
          "paper_bgcolor": "white",
          "plot_bgcolor": "#E5ECF6",
          "polar": {
           "angularaxis": {
            "gridcolor": "white",
            "linecolor": "white",
            "ticks": ""
           },
           "bgcolor": "#E5ECF6",
           "radialaxis": {
            "gridcolor": "white",
            "linecolor": "white",
            "ticks": ""
           }
          },
          "scene": {
           "xaxis": {
            "backgroundcolor": "#E5ECF6",
            "gridcolor": "white",
            "gridwidth": 2,
            "linecolor": "white",
            "showbackground": true,
            "ticks": "",
            "zerolinecolor": "white"
           },
           "yaxis": {
            "backgroundcolor": "#E5ECF6",
            "gridcolor": "white",
            "gridwidth": 2,
            "linecolor": "white",
            "showbackground": true,
            "ticks": "",
            "zerolinecolor": "white"
           },
           "zaxis": {
            "backgroundcolor": "#E5ECF6",
            "gridcolor": "white",
            "gridwidth": 2,
            "linecolor": "white",
            "showbackground": true,
            "ticks": "",
            "zerolinecolor": "white"
           }
          },
          "shapedefaults": {
           "line": {
            "color": "#2a3f5f"
           }
          },
          "ternary": {
           "aaxis": {
            "gridcolor": "white",
            "linecolor": "white",
            "ticks": ""
           },
           "baxis": {
            "gridcolor": "white",
            "linecolor": "white",
            "ticks": ""
           },
           "bgcolor": "#E5ECF6",
           "caxis": {
            "gridcolor": "white",
            "linecolor": "white",
            "ticks": ""
           }
          },
          "title": {
           "x": 0.05
          },
          "xaxis": {
           "automargin": true,
           "gridcolor": "white",
           "linecolor": "white",
           "ticks": "",
           "title": {
            "standoff": 15
           },
           "zerolinecolor": "white",
           "zerolinewidth": 2
          },
          "yaxis": {
           "automargin": true,
           "gridcolor": "white",
           "linecolor": "white",
           "ticks": "",
           "title": {
            "standoff": 15
           },
           "zerolinecolor": "white",
           "zerolinewidth": 2
          }
         }
        },
        "title": {
         "text": "United States - Daily New Cases and Deaths"
        }
       }
      },
      "text/html": [
       "<div>\n",
       "        \n",
       "        \n",
       "            <div id=\"cde792ee-d36d-47b5-977f-ebc99568c5f6\" class=\"plotly-graph-div\" style=\"height:525px; width:100%;\"></div>\n",
       "            <script type=\"text/javascript\">\n",
       "                require([\"plotly\"], function(Plotly) {\n",
       "                    window.PLOTLYENV=window.PLOTLYENV || {};\n",
       "                    \n",
       "                if (document.getElementById(\"cde792ee-d36d-47b5-977f-ebc99568c5f6\")) {\n",
       "                    Plotly.newPlot(\n",
       "                        'cde792ee-d36d-47b5-977f-ebc99568c5f6',\n",
       "                        [{\"name\": \"New Confirmed Cases\", \"type\": \"bar\", \"x\": [\"3/13/20\", \"3/14/20\", \"3/15/20\", \"3/16/20\", \"3/17/20\", \"3/18/20\", \"3/19/20\", \"3/20/20\", \"3/21/20\", \"3/22/20\", \"3/23/20\", \"3/24/20\", \"3/25/20\", \"3/26/20\", \"3/27/20\", \"3/28/20\", \"3/29/20\", \"3/30/20\", \"3/31/20\", \"4/1/20\"], \"y\": [null, 548.0, 772.0, 1133.0, 1789.0, 1362.0, 5894.0, 5423.0, 6389.0, 7787.0, 10571.0, 9893.0, 12038.0, 18058.0, 17821.0, 19821.0, 19408.0, 20921.0, 26365.0, 25200.0]}, {\"name\": \"New Deaths\", \"type\": \"bar\", \"x\": [\"3/13/20\", \"3/14/20\", \"3/15/20\", \"3/16/20\", \"3/17/20\", \"3/18/20\", \"3/19/20\", \"3/20/20\", \"3/21/20\", \"3/22/20\", \"3/23/20\", \"3/24/20\", \"3/25/20\", \"3/26/20\", \"3/27/20\", \"3/28/20\", \"3/29/20\", \"3/30/20\", \"3/31/20\", \"4/1/20\"], \"y\": [null, 7.0, 9.0, 22.0, 23.0, 10.0, 82.0, 44.0, 63.0, 110.0, 140.0, 149.0, 236.0, 267.0, 372.0, 445.0, 441.0, 511.0, 895.0, 884.0]}],\n",
       "                        {\"template\": {\"data\": {\"bar\": [{\"error_x\": {\"color\": \"#2a3f5f\"}, \"error_y\": {\"color\": \"#2a3f5f\"}, \"marker\": {\"line\": {\"color\": \"#E5ECF6\", \"width\": 0.5}}, \"type\": \"bar\"}], \"barpolar\": [{\"marker\": {\"line\": {\"color\": \"#E5ECF6\", \"width\": 0.5}}, \"type\": \"barpolar\"}], \"carpet\": [{\"aaxis\": {\"endlinecolor\": \"#2a3f5f\", \"gridcolor\": \"white\", \"linecolor\": \"white\", \"minorgridcolor\": \"white\", \"startlinecolor\": \"#2a3f5f\"}, \"baxis\": {\"endlinecolor\": \"#2a3f5f\", \"gridcolor\": \"white\", \"linecolor\": \"white\", \"minorgridcolor\": \"white\", \"startlinecolor\": \"#2a3f5f\"}, \"type\": \"carpet\"}], \"choropleth\": [{\"colorbar\": {\"outlinewidth\": 0, \"ticks\": \"\"}, \"type\": \"choropleth\"}], \"contour\": [{\"colorbar\": {\"outlinewidth\": 0, \"ticks\": \"\"}, \"colorscale\": [[0.0, \"#0d0887\"], [0.1111111111111111, \"#46039f\"], [0.2222222222222222, \"#7201a8\"], [0.3333333333333333, \"#9c179e\"], [0.4444444444444444, \"#bd3786\"], [0.5555555555555556, \"#d8576b\"], [0.6666666666666666, \"#ed7953\"], [0.7777777777777778, \"#fb9f3a\"], [0.8888888888888888, \"#fdca26\"], [1.0, \"#f0f921\"]], \"type\": \"contour\"}], \"contourcarpet\": [{\"colorbar\": {\"outlinewidth\": 0, \"ticks\": \"\"}, \"type\": \"contourcarpet\"}], \"heatmap\": [{\"colorbar\": {\"outlinewidth\": 0, \"ticks\": \"\"}, \"colorscale\": [[0.0, \"#0d0887\"], [0.1111111111111111, \"#46039f\"], [0.2222222222222222, \"#7201a8\"], [0.3333333333333333, \"#9c179e\"], [0.4444444444444444, \"#bd3786\"], [0.5555555555555556, \"#d8576b\"], [0.6666666666666666, \"#ed7953\"], [0.7777777777777778, \"#fb9f3a\"], [0.8888888888888888, \"#fdca26\"], [1.0, \"#f0f921\"]], \"type\": \"heatmap\"}], \"heatmapgl\": [{\"colorbar\": {\"outlinewidth\": 0, \"ticks\": \"\"}, \"colorscale\": [[0.0, \"#0d0887\"], [0.1111111111111111, \"#46039f\"], [0.2222222222222222, \"#7201a8\"], [0.3333333333333333, \"#9c179e\"], [0.4444444444444444, \"#bd3786\"], [0.5555555555555556, \"#d8576b\"], [0.6666666666666666, \"#ed7953\"], [0.7777777777777778, \"#fb9f3a\"], [0.8888888888888888, \"#fdca26\"], [1.0, \"#f0f921\"]], \"type\": \"heatmapgl\"}], \"histogram\": [{\"marker\": {\"colorbar\": {\"outlinewidth\": 0, \"ticks\": \"\"}}, \"type\": \"histogram\"}], \"histogram2d\": [{\"colorbar\": {\"outlinewidth\": 0, \"ticks\": \"\"}, \"colorscale\": [[0.0, \"#0d0887\"], [0.1111111111111111, \"#46039f\"], [0.2222222222222222, \"#7201a8\"], [0.3333333333333333, \"#9c179e\"], [0.4444444444444444, \"#bd3786\"], [0.5555555555555556, \"#d8576b\"], [0.6666666666666666, \"#ed7953\"], [0.7777777777777778, \"#fb9f3a\"], [0.8888888888888888, \"#fdca26\"], [1.0, \"#f0f921\"]], \"type\": \"histogram2d\"}], \"histogram2dcontour\": [{\"colorbar\": {\"outlinewidth\": 0, \"ticks\": \"\"}, \"colorscale\": [[0.0, \"#0d0887\"], [0.1111111111111111, \"#46039f\"], [0.2222222222222222, \"#7201a8\"], [0.3333333333333333, \"#9c179e\"], [0.4444444444444444, \"#bd3786\"], [0.5555555555555556, \"#d8576b\"], [0.6666666666666666, \"#ed7953\"], [0.7777777777777778, \"#fb9f3a\"], [0.8888888888888888, \"#fdca26\"], [1.0, \"#f0f921\"]], \"type\": \"histogram2dcontour\"}], \"mesh3d\": [{\"colorbar\": {\"outlinewidth\": 0, \"ticks\": \"\"}, \"type\": \"mesh3d\"}], \"parcoords\": [{\"line\": {\"colorbar\": {\"outlinewidth\": 0, \"ticks\": \"\"}}, \"type\": \"parcoords\"}], \"pie\": [{\"automargin\": true, \"type\": \"pie\"}], \"scatter\": [{\"marker\": {\"colorbar\": {\"outlinewidth\": 0, \"ticks\": \"\"}}, \"type\": \"scatter\"}], \"scatter3d\": [{\"line\": {\"colorbar\": {\"outlinewidth\": 0, \"ticks\": \"\"}}, \"marker\": {\"colorbar\": {\"outlinewidth\": 0, \"ticks\": \"\"}}, \"type\": \"scatter3d\"}], \"scattercarpet\": [{\"marker\": {\"colorbar\": {\"outlinewidth\": 0, \"ticks\": \"\"}}, \"type\": \"scattercarpet\"}], \"scattergeo\": [{\"marker\": {\"colorbar\": {\"outlinewidth\": 0, \"ticks\": \"\"}}, \"type\": \"scattergeo\"}], \"scattergl\": [{\"marker\": {\"colorbar\": {\"outlinewidth\": 0, \"ticks\": \"\"}}, \"type\": \"scattergl\"}], \"scattermapbox\": [{\"marker\": {\"colorbar\": {\"outlinewidth\": 0, \"ticks\": \"\"}}, \"type\": \"scattermapbox\"}], \"scatterpolar\": [{\"marker\": {\"colorbar\": {\"outlinewidth\": 0, \"ticks\": \"\"}}, \"type\": \"scatterpolar\"}], \"scatterpolargl\": [{\"marker\": {\"colorbar\": {\"outlinewidth\": 0, \"ticks\": \"\"}}, \"type\": \"scatterpolargl\"}], \"scatterternary\": [{\"marker\": {\"colorbar\": {\"outlinewidth\": 0, \"ticks\": \"\"}}, \"type\": \"scatterternary\"}], \"surface\": [{\"colorbar\": {\"outlinewidth\": 0, \"ticks\": \"\"}, \"colorscale\": [[0.0, \"#0d0887\"], [0.1111111111111111, \"#46039f\"], [0.2222222222222222, \"#7201a8\"], [0.3333333333333333, \"#9c179e\"], [0.4444444444444444, \"#bd3786\"], [0.5555555555555556, \"#d8576b\"], [0.6666666666666666, \"#ed7953\"], [0.7777777777777778, \"#fb9f3a\"], [0.8888888888888888, \"#fdca26\"], [1.0, \"#f0f921\"]], \"type\": \"surface\"}], \"table\": [{\"cells\": {\"fill\": {\"color\": \"#EBF0F8\"}, \"line\": {\"color\": \"white\"}}, \"header\": {\"fill\": {\"color\": \"#C8D4E3\"}, \"line\": {\"color\": \"white\"}}, \"type\": \"table\"}]}, \"layout\": {\"annotationdefaults\": {\"arrowcolor\": \"#2a3f5f\", \"arrowhead\": 0, \"arrowwidth\": 1}, \"coloraxis\": {\"colorbar\": {\"outlinewidth\": 0, \"ticks\": \"\"}}, \"colorscale\": {\"diverging\": [[0, \"#8e0152\"], [0.1, \"#c51b7d\"], [0.2, \"#de77ae\"], [0.3, \"#f1b6da\"], [0.4, \"#fde0ef\"], [0.5, \"#f7f7f7\"], [0.6, \"#e6f5d0\"], [0.7, \"#b8e186\"], [0.8, \"#7fbc41\"], [0.9, \"#4d9221\"], [1, \"#276419\"]], \"sequential\": [[0.0, \"#0d0887\"], [0.1111111111111111, \"#46039f\"], [0.2222222222222222, \"#7201a8\"], [0.3333333333333333, \"#9c179e\"], [0.4444444444444444, \"#bd3786\"], [0.5555555555555556, \"#d8576b\"], [0.6666666666666666, \"#ed7953\"], [0.7777777777777778, \"#fb9f3a\"], [0.8888888888888888, \"#fdca26\"], [1.0, \"#f0f921\"]], \"sequentialminus\": [[0.0, \"#0d0887\"], [0.1111111111111111, \"#46039f\"], [0.2222222222222222, \"#7201a8\"], [0.3333333333333333, \"#9c179e\"], [0.4444444444444444, \"#bd3786\"], [0.5555555555555556, \"#d8576b\"], [0.6666666666666666, \"#ed7953\"], [0.7777777777777778, \"#fb9f3a\"], [0.8888888888888888, \"#fdca26\"], [1.0, \"#f0f921\"]]}, \"colorway\": [\"#636efa\", \"#EF553B\", \"#00cc96\", \"#ab63fa\", \"#FFA15A\", \"#19d3f3\", \"#FF6692\", \"#B6E880\", \"#FF97FF\", \"#FECB52\"], \"font\": {\"color\": \"#2a3f5f\"}, \"geo\": {\"bgcolor\": \"white\", \"lakecolor\": \"white\", \"landcolor\": \"#E5ECF6\", \"showlakes\": true, \"showland\": true, \"subunitcolor\": \"white\"}, \"hoverlabel\": {\"align\": \"left\"}, \"hovermode\": \"closest\", \"mapbox\": {\"style\": \"light\"}, \"paper_bgcolor\": \"white\", \"plot_bgcolor\": \"#E5ECF6\", \"polar\": {\"angularaxis\": {\"gridcolor\": \"white\", \"linecolor\": \"white\", \"ticks\": \"\"}, \"bgcolor\": \"#E5ECF6\", \"radialaxis\": {\"gridcolor\": \"white\", \"linecolor\": \"white\", \"ticks\": \"\"}}, \"scene\": {\"xaxis\": {\"backgroundcolor\": \"#E5ECF6\", \"gridcolor\": \"white\", \"gridwidth\": 2, \"linecolor\": \"white\", \"showbackground\": true, \"ticks\": \"\", \"zerolinecolor\": \"white\"}, \"yaxis\": {\"backgroundcolor\": \"#E5ECF6\", \"gridcolor\": \"white\", \"gridwidth\": 2, \"linecolor\": \"white\", \"showbackground\": true, \"ticks\": \"\", \"zerolinecolor\": \"white\"}, \"zaxis\": {\"backgroundcolor\": \"#E5ECF6\", \"gridcolor\": \"white\", \"gridwidth\": 2, \"linecolor\": \"white\", \"showbackground\": true, \"ticks\": \"\", \"zerolinecolor\": \"white\"}}, \"shapedefaults\": {\"line\": {\"color\": \"#2a3f5f\"}}, \"ternary\": {\"aaxis\": {\"gridcolor\": \"white\", \"linecolor\": \"white\", \"ticks\": \"\"}, \"baxis\": {\"gridcolor\": \"white\", \"linecolor\": \"white\", \"ticks\": \"\"}, \"bgcolor\": \"#E5ECF6\", \"caxis\": {\"gridcolor\": \"white\", \"linecolor\": \"white\", \"ticks\": \"\"}}, \"title\": {\"x\": 0.05}, \"xaxis\": {\"automargin\": true, \"gridcolor\": \"white\", \"linecolor\": \"white\", \"ticks\": \"\", \"title\": {\"standoff\": 15}, \"zerolinecolor\": \"white\", \"zerolinewidth\": 2}, \"yaxis\": {\"automargin\": true, \"gridcolor\": \"white\", \"linecolor\": \"white\", \"ticks\": \"\", \"title\": {\"standoff\": 15}, \"zerolinecolor\": \"white\", \"zerolinewidth\": 2}}}, \"title\": {\"text\": \"United States - Daily New Cases and Deaths\"}},\n",
       "                        {\"responsive\": true}\n",
       "                    ).then(function(){\n",
       "                            \n",
       "var gd = document.getElementById('cde792ee-d36d-47b5-977f-ebc99568c5f6');\n",
       "var x = new MutationObserver(function (mutations, observer) {{\n",
       "        var display = window.getComputedStyle(gd).display;\n",
       "        if (!display || display === 'none') {{\n",
       "            console.log([gd, 'removed!']);\n",
       "            Plotly.purge(gd);\n",
       "            observer.disconnect();\n",
       "        }}\n",
       "}});\n",
       "\n",
       "// Listen for the removal of the full notebook cells\n",
       "var notebookContainer = gd.closest('#notebook-container');\n",
       "if (notebookContainer) {{\n",
       "    x.observe(notebookContainer, {childList: true});\n",
       "}}\n",
       "\n",
       "// Listen for the clearing of the current output cell\n",
       "var outputEl = gd.closest('.output');\n",
       "if (outputEl) {{\n",
       "    x.observe(outputEl, {childList: true});\n",
       "}}\n",
       "\n",
       "                        })\n",
       "                };\n",
       "                });\n",
       "            </script>\n",
       "        </div>"
      ]
     },
     "metadata": {},
     "output_type": "display_data"
    },
    {
     "data": {
      "text/html": [
       "<style  type=\"text/css\" >\n",
       "</style><table id=\"T_21fb3b94_74a9_11ea_b038_c49ded93ade6\" ><thead>    <tr>        <th class=\"blank\" ></th>        <th class=\"blank level0\" ></th>        <th class=\"col_heading level0 col0\" >3/13/20</th>        <th class=\"col_heading level0 col1\" >3/14/20</th>        <th class=\"col_heading level0 col2\" >3/15/20</th>        <th class=\"col_heading level0 col3\" >3/16/20</th>        <th class=\"col_heading level0 col4\" >3/17/20</th>        <th class=\"col_heading level0 col5\" >3/18/20</th>        <th class=\"col_heading level0 col6\" >3/19/20</th>        <th class=\"col_heading level0 col7\" >3/20/20</th>        <th class=\"col_heading level0 col8\" >3/21/20</th>        <th class=\"col_heading level0 col9\" >3/22/20</th>        <th class=\"col_heading level0 col10\" >3/23/20</th>        <th class=\"col_heading level0 col11\" >3/24/20</th>        <th class=\"col_heading level0 col12\" >3/25/20</th>        <th class=\"col_heading level0 col13\" >3/26/20</th>        <th class=\"col_heading level0 col14\" >3/27/20</th>        <th class=\"col_heading level0 col15\" >3/28/20</th>        <th class=\"col_heading level0 col16\" >3/29/20</th>        <th class=\"col_heading level0 col17\" >3/30/20</th>        <th class=\"col_heading level0 col18\" >3/31/20</th>        <th class=\"col_heading level0 col19\" >4/1/20</th>    </tr>    <tr>        <th class=\"index_name level0\" >Country/Region</th>        <th class=\"index_name level1\" >Category</th>        <th class=\"blank\" ></th>        <th class=\"blank\" ></th>        <th class=\"blank\" ></th>        <th class=\"blank\" ></th>        <th class=\"blank\" ></th>        <th class=\"blank\" ></th>        <th class=\"blank\" ></th>        <th class=\"blank\" ></th>        <th class=\"blank\" ></th>        <th class=\"blank\" ></th>        <th class=\"blank\" ></th>        <th class=\"blank\" ></th>        <th class=\"blank\" ></th>        <th class=\"blank\" ></th>        <th class=\"blank\" ></th>        <th class=\"blank\" ></th>        <th class=\"blank\" ></th>        <th class=\"blank\" ></th>        <th class=\"blank\" ></th>        <th class=\"blank\" ></th>    </tr></thead><tbody>\n",
       "                <tr>\n",
       "                        <th id=\"T_21fb3b94_74a9_11ea_b038_c49ded93ade6level0_row0\" class=\"row_heading level0 row0\" rowspan=2>US</th>\n",
       "                        <th id=\"T_21fb3b94_74a9_11ea_b038_c49ded93ade6level1_row0\" class=\"row_heading level1 row0\" >Confirmed Cases</th>\n",
       "                        <td id=\"T_21fb3b94_74a9_11ea_b038_c49ded93ade6row0_col0\" class=\"data row0 col0\" >-</td>\n",
       "                        <td id=\"T_21fb3b94_74a9_11ea_b038_c49ded93ade6row0_col1\" class=\"data row0 col1\" >548</td>\n",
       "                        <td id=\"T_21fb3b94_74a9_11ea_b038_c49ded93ade6row0_col2\" class=\"data row0 col2\" >772</td>\n",
       "                        <td id=\"T_21fb3b94_74a9_11ea_b038_c49ded93ade6row0_col3\" class=\"data row0 col3\" >1,133</td>\n",
       "                        <td id=\"T_21fb3b94_74a9_11ea_b038_c49ded93ade6row0_col4\" class=\"data row0 col4\" >1,789</td>\n",
       "                        <td id=\"T_21fb3b94_74a9_11ea_b038_c49ded93ade6row0_col5\" class=\"data row0 col5\" >1,362</td>\n",
       "                        <td id=\"T_21fb3b94_74a9_11ea_b038_c49ded93ade6row0_col6\" class=\"data row0 col6\" >5,894</td>\n",
       "                        <td id=\"T_21fb3b94_74a9_11ea_b038_c49ded93ade6row0_col7\" class=\"data row0 col7\" >5,423</td>\n",
       "                        <td id=\"T_21fb3b94_74a9_11ea_b038_c49ded93ade6row0_col8\" class=\"data row0 col8\" >6,389</td>\n",
       "                        <td id=\"T_21fb3b94_74a9_11ea_b038_c49ded93ade6row0_col9\" class=\"data row0 col9\" >7,787</td>\n",
       "                        <td id=\"T_21fb3b94_74a9_11ea_b038_c49ded93ade6row0_col10\" class=\"data row0 col10\" >10,571</td>\n",
       "                        <td id=\"T_21fb3b94_74a9_11ea_b038_c49ded93ade6row0_col11\" class=\"data row0 col11\" >9,893</td>\n",
       "                        <td id=\"T_21fb3b94_74a9_11ea_b038_c49ded93ade6row0_col12\" class=\"data row0 col12\" >12,038</td>\n",
       "                        <td id=\"T_21fb3b94_74a9_11ea_b038_c49ded93ade6row0_col13\" class=\"data row0 col13\" >18,058</td>\n",
       "                        <td id=\"T_21fb3b94_74a9_11ea_b038_c49ded93ade6row0_col14\" class=\"data row0 col14\" >17,821</td>\n",
       "                        <td id=\"T_21fb3b94_74a9_11ea_b038_c49ded93ade6row0_col15\" class=\"data row0 col15\" >19,821</td>\n",
       "                        <td id=\"T_21fb3b94_74a9_11ea_b038_c49ded93ade6row0_col16\" class=\"data row0 col16\" >19,408</td>\n",
       "                        <td id=\"T_21fb3b94_74a9_11ea_b038_c49ded93ade6row0_col17\" class=\"data row0 col17\" >20,921</td>\n",
       "                        <td id=\"T_21fb3b94_74a9_11ea_b038_c49ded93ade6row0_col18\" class=\"data row0 col18\" >26,365</td>\n",
       "                        <td id=\"T_21fb3b94_74a9_11ea_b038_c49ded93ade6row0_col19\" class=\"data row0 col19\" >25,200</td>\n",
       "            </tr>\n",
       "            <tr>\n",
       "                                <th id=\"T_21fb3b94_74a9_11ea_b038_c49ded93ade6level1_row1\" class=\"row_heading level1 row1\" >Deaths</th>\n",
       "                        <td id=\"T_21fb3b94_74a9_11ea_b038_c49ded93ade6row1_col0\" class=\"data row1 col0\" >-</td>\n",
       "                        <td id=\"T_21fb3b94_74a9_11ea_b038_c49ded93ade6row1_col1\" class=\"data row1 col1\" >7</td>\n",
       "                        <td id=\"T_21fb3b94_74a9_11ea_b038_c49ded93ade6row1_col2\" class=\"data row1 col2\" >9</td>\n",
       "                        <td id=\"T_21fb3b94_74a9_11ea_b038_c49ded93ade6row1_col3\" class=\"data row1 col3\" >22</td>\n",
       "                        <td id=\"T_21fb3b94_74a9_11ea_b038_c49ded93ade6row1_col4\" class=\"data row1 col4\" >23</td>\n",
       "                        <td id=\"T_21fb3b94_74a9_11ea_b038_c49ded93ade6row1_col5\" class=\"data row1 col5\" >10</td>\n",
       "                        <td id=\"T_21fb3b94_74a9_11ea_b038_c49ded93ade6row1_col6\" class=\"data row1 col6\" >82</td>\n",
       "                        <td id=\"T_21fb3b94_74a9_11ea_b038_c49ded93ade6row1_col7\" class=\"data row1 col7\" >44</td>\n",
       "                        <td id=\"T_21fb3b94_74a9_11ea_b038_c49ded93ade6row1_col8\" class=\"data row1 col8\" >63</td>\n",
       "                        <td id=\"T_21fb3b94_74a9_11ea_b038_c49ded93ade6row1_col9\" class=\"data row1 col9\" >110</td>\n",
       "                        <td id=\"T_21fb3b94_74a9_11ea_b038_c49ded93ade6row1_col10\" class=\"data row1 col10\" >140</td>\n",
       "                        <td id=\"T_21fb3b94_74a9_11ea_b038_c49ded93ade6row1_col11\" class=\"data row1 col11\" >149</td>\n",
       "                        <td id=\"T_21fb3b94_74a9_11ea_b038_c49ded93ade6row1_col12\" class=\"data row1 col12\" >236</td>\n",
       "                        <td id=\"T_21fb3b94_74a9_11ea_b038_c49ded93ade6row1_col13\" class=\"data row1 col13\" >267</td>\n",
       "                        <td id=\"T_21fb3b94_74a9_11ea_b038_c49ded93ade6row1_col14\" class=\"data row1 col14\" >372</td>\n",
       "                        <td id=\"T_21fb3b94_74a9_11ea_b038_c49ded93ade6row1_col15\" class=\"data row1 col15\" >445</td>\n",
       "                        <td id=\"T_21fb3b94_74a9_11ea_b038_c49ded93ade6row1_col16\" class=\"data row1 col16\" >441</td>\n",
       "                        <td id=\"T_21fb3b94_74a9_11ea_b038_c49ded93ade6row1_col17\" class=\"data row1 col17\" >511</td>\n",
       "                        <td id=\"T_21fb3b94_74a9_11ea_b038_c49ded93ade6row1_col18\" class=\"data row1 col18\" >895</td>\n",
       "                        <td id=\"T_21fb3b94_74a9_11ea_b038_c49ded93ade6row1_col19\" class=\"data row1 col19\" >884</td>\n",
       "            </tr>\n",
       "    </tbody></table>"
      ],
      "text/plain": [
       "<pandas.io.formats.style.Styler at 0xccc2a30>"
      ]
     },
     "execution_count": 22,
     "metadata": {},
     "output_type": "execute_result"
    }
   ],
   "source": [
    "dfUSConfirmedDailyNew = dfUSConfirmed[dfUSConfirmed.columns[-DEFAULT_DAYS:]].diff(axis=1)\n",
    "dfUSDeathsDailyNew = dfUSDeaths[dfUSDeaths.columns[-DEFAULT_DAYS:]].diff(axis=1)\n",
    "\n",
    "\n",
    "trace1 = go.Bar(\n",
    "    x = dfUSConfirmedDailyNew.columns,\n",
    "    y = dfUSConfirmedDailyNew.iloc[0], name = 'New Confirmed Cases')\n",
    "\n",
    "trace2 = go.Bar(\n",
    "    x = dfUSDeathsDailyNew.columns,\n",
    "    y = dfUSDeathsDailyNew.iloc[0], name = 'New Deaths')\n",
    "\n",
    "data = [trace1, trace2]\n",
    "layout = dict(title = 'United States - Daily New Cases and Deaths')\n",
    "\n",
    "py.iplot(dict(data=data, layout=layout))\n",
    "pd.concat([dfUSConfirmedDailyNew, dfUSDeathsDailyNew]).style.format(IntegerFormatter)"
   ]
  },
  {
   "cell_type": "markdown",
   "metadata": {},
   "source": [
    "# US State by State Data"
   ]
  },
  {
   "cell_type": "code",
   "execution_count": 23,
   "metadata": {
    "ExecuteTime": {
     "end_time": "2020-04-02T06:13:56.374908Z",
     "start_time": "2020-04-02T06:13:55.675909Z"
    },
    "extensions": {
     "jupyter_dashboards": {
      "version": 1,
      "views": {
       "grid_default": {
        "col": 0,
        "height": 30,
        "hidden": false,
        "row": 26,
        "width": null
       },
       "report_default": {
        "hidden": false
       }
      }
     }
    }
   },
   "outputs": [
    {
     "data": {
      "application/vnd.plotly.v1+json": {
       "config": {
        "linkText": "Export to plot.ly",
        "plotlyServerURL": "https://plot.ly",
        "showLink": false
       },
       "data": [
        {
         "name": "New York",
         "type": "scatter",
         "x": [
          "3/13/20",
          "3/14/20",
          "3/15/20",
          "3/16/20",
          "3/17/20",
          "3/18/20",
          "3/19/20",
          "3/20/20",
          "3/21/20",
          "3/22/20",
          "3/23/20",
          "3/24/20",
          "3/25/20",
          "3/26/20",
          "3/27/20",
          "3/28/20",
          "3/29/20",
          "3/30/20",
          "3/31/20",
          "4/1/20"
         ],
         "y": [
          421,
          613,
          615,
          967,
          1578,
          3038,
          5704,
          8403,
          11727,
          15800,
          20884,
          25681,
          30841,
          37877,
          44876,
          52410,
          59648,
          66663,
          75833,
          83948
         ]
        },
        {
         "name": "New Jersey",
         "type": "scatter",
         "x": [
          "3/13/20",
          "3/14/20",
          "3/15/20",
          "3/16/20",
          "3/17/20",
          "3/18/20",
          "3/19/20",
          "3/20/20",
          "3/21/20",
          "3/22/20",
          "3/23/20",
          "3/24/20",
          "3/25/20",
          "3/26/20",
          "3/27/20",
          "3/28/20",
          "3/29/20",
          "3/30/20",
          "3/31/20",
          "4/1/20"
         ],
         "y": [
          49,
          69,
          72,
          176,
          250,
          397,
          741,
          890,
          1327,
          1914,
          2844,
          3675,
          4402,
          6876,
          8825,
          11124,
          13386,
          16636,
          18696,
          22255
         ]
        },
        {
         "name": "California",
         "type": "scatter",
         "x": [
          "3/13/20",
          "3/14/20",
          "3/15/20",
          "3/16/20",
          "3/17/20",
          "3/18/20",
          "3/19/20",
          "3/20/20",
          "3/21/20",
          "3/22/20",
          "3/23/20",
          "3/24/20",
          "3/25/20",
          "3/26/20",
          "3/27/20",
          "3/28/20",
          "3/29/20",
          "3/30/20",
          "3/31/20",
          "4/1/20"
         ],
         "y": [
          281,
          372,
          373,
          557,
          700,
          828,
          1005,
          1243,
          1405,
          1646,
          2108,
          2538,
          2998,
          3899,
          4657,
          5095,
          5852,
          7138,
          8210,
          9399
         ]
        },
        {
         "name": "Michigan",
         "type": "scatter",
         "x": [
          "3/13/20",
          "3/14/20",
          "3/15/20",
          "3/16/20",
          "3/17/20",
          "3/18/20",
          "3/19/20",
          "3/20/20",
          "3/21/20",
          "3/22/20",
          "3/23/20",
          "3/24/20",
          "3/25/20",
          "3/26/20",
          "3/27/20",
          "3/28/20",
          "3/29/20",
          "3/30/20",
          "3/31/20",
          "4/1/20"
         ],
         "y": [
          16,
          25,
          32,
          54,
          63,
          119,
          259,
          402,
          540,
          1035,
          1329,
          1793,
          2296,
          2845,
          3634,
          4650,
          5488,
          6498,
          7615,
          9315
         ]
        },
        {
         "name": "Massachusetts",
         "type": "scatter",
         "x": [
          "3/13/20",
          "3/14/20",
          "3/15/20",
          "3/16/20",
          "3/17/20",
          "3/18/20",
          "3/19/20",
          "3/20/20",
          "3/21/20",
          "3/22/20",
          "3/23/20",
          "3/24/20",
          "3/25/20",
          "3/26/20",
          "3/27/20",
          "3/28/20",
          "3/29/20",
          "3/30/20",
          "3/31/20",
          "4/1/20"
         ],
         "y": [
          123,
          138,
          138,
          187,
          217,
          252,
          328,
          413,
          523,
          640,
          777,
          1159,
          1838,
          2417,
          3240,
          4257,
          4955,
          5752,
          6620,
          7738
         ]
        },
        {
         "name": "Illinois",
         "type": "scatter",
         "x": [
          "3/13/20",
          "3/14/20",
          "3/15/20",
          "3/16/20",
          "3/17/20",
          "3/18/20",
          "3/19/20",
          "3/20/20",
          "3/21/20",
          "3/22/20",
          "3/23/20",
          "3/24/20",
          "3/25/20",
          "3/26/20",
          "3/27/20",
          "3/28/20",
          "3/29/20",
          "3/30/20",
          "3/31/20",
          "4/1/20"
         ],
         "y": [
          46,
          64,
          66,
          83,
          161,
          272,
          422,
          585,
          753,
          1049,
          1285,
          1537,
          1865,
          2538,
          3024,
          3491,
          4596,
          5056,
          5994,
          6980
         ]
        },
        {
         "name": "Florida",
         "type": "scatter",
         "x": [
          "3/13/20",
          "3/14/20",
          "3/15/20",
          "3/16/20",
          "3/17/20",
          "3/18/20",
          "3/19/20",
          "3/20/20",
          "3/21/20",
          "3/22/20",
          "3/23/20",
          "3/24/20",
          "3/25/20",
          "3/26/20",
          "3/27/20",
          "3/28/20",
          "3/29/20",
          "3/30/20",
          "3/31/20",
          "4/1/20"
         ],
         "y": [
          50,
          76,
          100,
          101,
          190,
          306,
          331,
          440,
          763,
          1004,
          1227,
          1412,
          1682,
          2357,
          2900,
          3763,
          4246,
          5473,
          6741,
          6956
         ]
        },
        {
         "name": "Louisiana",
         "type": "scatter",
         "x": [
          "3/13/20",
          "3/14/20",
          "3/15/20",
          "3/16/20",
          "3/17/20",
          "3/18/20",
          "3/19/20",
          "3/20/20",
          "3/21/20",
          "3/22/20",
          "3/23/20",
          "3/24/20",
          "3/25/20",
          "3/26/20",
          "3/27/20",
          "3/28/20",
          "3/29/20",
          "3/30/20",
          "3/31/20",
          "4/1/20"
         ],
         "y": [
          29,
          77,
          87,
          115,
          196,
          257,
          392,
          537,
          763,
          837,
          1172,
          1388,
          1795,
          2304,
          2744,
          3315,
          3540,
          4025,
          5237,
          6424
         ]
        },
        {
         "name": "Pennsylvania",
         "type": "scatter",
         "x": [
          "3/13/20",
          "3/14/20",
          "3/15/20",
          "3/16/20",
          "3/17/20",
          "3/18/20",
          "3/19/20",
          "3/20/20",
          "3/21/20",
          "3/22/20",
          "3/23/20",
          "3/24/20",
          "3/25/20",
          "3/26/20",
          "3/27/20",
          "3/28/20",
          "3/29/20",
          "3/30/20",
          "3/31/20",
          "4/1/20"
         ],
         "y": [
          41,
          47,
          47,
          79,
          112,
          155,
          206,
          311,
          399,
          509,
          698,
          946,
          1260,
          1795,
          2345,
          2845,
          3432,
          4155,
          4963,
          6009
         ]
        },
        {
         "name": "Washington",
         "type": "scatter",
         "x": [
          "3/13/20",
          "3/14/20",
          "3/15/20",
          "3/16/20",
          "3/17/20",
          "3/18/20",
          "3/19/20",
          "3/20/20",
          "3/21/20",
          "3/22/20",
          "3/23/20",
          "3/24/20",
          "3/25/20",
          "3/26/20",
          "3/27/20",
          "3/28/20",
          "3/29/20",
          "3/30/20",
          "3/31/20",
          "4/1/20"
         ],
         "y": [
          568,
          642,
          603,
          779,
          955,
          1022,
          1374,
          1524,
          1793,
          1997,
          2221,
          2328,
          2591,
          3207,
          3477,
          4030,
          4465,
          4923,
          5432,
          5608
         ]
        }
       ],
       "layout": {
        "template": {
         "data": {
          "bar": [
           {
            "error_x": {
             "color": "#2a3f5f"
            },
            "error_y": {
             "color": "#2a3f5f"
            },
            "marker": {
             "line": {
              "color": "#E5ECF6",
              "width": 0.5
             }
            },
            "type": "bar"
           }
          ],
          "barpolar": [
           {
            "marker": {
             "line": {
              "color": "#E5ECF6",
              "width": 0.5
             }
            },
            "type": "barpolar"
           }
          ],
          "carpet": [
           {
            "aaxis": {
             "endlinecolor": "#2a3f5f",
             "gridcolor": "white",
             "linecolor": "white",
             "minorgridcolor": "white",
             "startlinecolor": "#2a3f5f"
            },
            "baxis": {
             "endlinecolor": "#2a3f5f",
             "gridcolor": "white",
             "linecolor": "white",
             "minorgridcolor": "white",
             "startlinecolor": "#2a3f5f"
            },
            "type": "carpet"
           }
          ],
          "choropleth": [
           {
            "colorbar": {
             "outlinewidth": 0,
             "ticks": ""
            },
            "type": "choropleth"
           }
          ],
          "contour": [
           {
            "colorbar": {
             "outlinewidth": 0,
             "ticks": ""
            },
            "colorscale": [
             [
              0,
              "#0d0887"
             ],
             [
              0.1111111111111111,
              "#46039f"
             ],
             [
              0.2222222222222222,
              "#7201a8"
             ],
             [
              0.3333333333333333,
              "#9c179e"
             ],
             [
              0.4444444444444444,
              "#bd3786"
             ],
             [
              0.5555555555555556,
              "#d8576b"
             ],
             [
              0.6666666666666666,
              "#ed7953"
             ],
             [
              0.7777777777777778,
              "#fb9f3a"
             ],
             [
              0.8888888888888888,
              "#fdca26"
             ],
             [
              1,
              "#f0f921"
             ]
            ],
            "type": "contour"
           }
          ],
          "contourcarpet": [
           {
            "colorbar": {
             "outlinewidth": 0,
             "ticks": ""
            },
            "type": "contourcarpet"
           }
          ],
          "heatmap": [
           {
            "colorbar": {
             "outlinewidth": 0,
             "ticks": ""
            },
            "colorscale": [
             [
              0,
              "#0d0887"
             ],
             [
              0.1111111111111111,
              "#46039f"
             ],
             [
              0.2222222222222222,
              "#7201a8"
             ],
             [
              0.3333333333333333,
              "#9c179e"
             ],
             [
              0.4444444444444444,
              "#bd3786"
             ],
             [
              0.5555555555555556,
              "#d8576b"
             ],
             [
              0.6666666666666666,
              "#ed7953"
             ],
             [
              0.7777777777777778,
              "#fb9f3a"
             ],
             [
              0.8888888888888888,
              "#fdca26"
             ],
             [
              1,
              "#f0f921"
             ]
            ],
            "type": "heatmap"
           }
          ],
          "heatmapgl": [
           {
            "colorbar": {
             "outlinewidth": 0,
             "ticks": ""
            },
            "colorscale": [
             [
              0,
              "#0d0887"
             ],
             [
              0.1111111111111111,
              "#46039f"
             ],
             [
              0.2222222222222222,
              "#7201a8"
             ],
             [
              0.3333333333333333,
              "#9c179e"
             ],
             [
              0.4444444444444444,
              "#bd3786"
             ],
             [
              0.5555555555555556,
              "#d8576b"
             ],
             [
              0.6666666666666666,
              "#ed7953"
             ],
             [
              0.7777777777777778,
              "#fb9f3a"
             ],
             [
              0.8888888888888888,
              "#fdca26"
             ],
             [
              1,
              "#f0f921"
             ]
            ],
            "type": "heatmapgl"
           }
          ],
          "histogram": [
           {
            "marker": {
             "colorbar": {
              "outlinewidth": 0,
              "ticks": ""
             }
            },
            "type": "histogram"
           }
          ],
          "histogram2d": [
           {
            "colorbar": {
             "outlinewidth": 0,
             "ticks": ""
            },
            "colorscale": [
             [
              0,
              "#0d0887"
             ],
             [
              0.1111111111111111,
              "#46039f"
             ],
             [
              0.2222222222222222,
              "#7201a8"
             ],
             [
              0.3333333333333333,
              "#9c179e"
             ],
             [
              0.4444444444444444,
              "#bd3786"
             ],
             [
              0.5555555555555556,
              "#d8576b"
             ],
             [
              0.6666666666666666,
              "#ed7953"
             ],
             [
              0.7777777777777778,
              "#fb9f3a"
             ],
             [
              0.8888888888888888,
              "#fdca26"
             ],
             [
              1,
              "#f0f921"
             ]
            ],
            "type": "histogram2d"
           }
          ],
          "histogram2dcontour": [
           {
            "colorbar": {
             "outlinewidth": 0,
             "ticks": ""
            },
            "colorscale": [
             [
              0,
              "#0d0887"
             ],
             [
              0.1111111111111111,
              "#46039f"
             ],
             [
              0.2222222222222222,
              "#7201a8"
             ],
             [
              0.3333333333333333,
              "#9c179e"
             ],
             [
              0.4444444444444444,
              "#bd3786"
             ],
             [
              0.5555555555555556,
              "#d8576b"
             ],
             [
              0.6666666666666666,
              "#ed7953"
             ],
             [
              0.7777777777777778,
              "#fb9f3a"
             ],
             [
              0.8888888888888888,
              "#fdca26"
             ],
             [
              1,
              "#f0f921"
             ]
            ],
            "type": "histogram2dcontour"
           }
          ],
          "mesh3d": [
           {
            "colorbar": {
             "outlinewidth": 0,
             "ticks": ""
            },
            "type": "mesh3d"
           }
          ],
          "parcoords": [
           {
            "line": {
             "colorbar": {
              "outlinewidth": 0,
              "ticks": ""
             }
            },
            "type": "parcoords"
           }
          ],
          "pie": [
           {
            "automargin": true,
            "type": "pie"
           }
          ],
          "scatter": [
           {
            "marker": {
             "colorbar": {
              "outlinewidth": 0,
              "ticks": ""
             }
            },
            "type": "scatter"
           }
          ],
          "scatter3d": [
           {
            "line": {
             "colorbar": {
              "outlinewidth": 0,
              "ticks": ""
             }
            },
            "marker": {
             "colorbar": {
              "outlinewidth": 0,
              "ticks": ""
             }
            },
            "type": "scatter3d"
           }
          ],
          "scattercarpet": [
           {
            "marker": {
             "colorbar": {
              "outlinewidth": 0,
              "ticks": ""
             }
            },
            "type": "scattercarpet"
           }
          ],
          "scattergeo": [
           {
            "marker": {
             "colorbar": {
              "outlinewidth": 0,
              "ticks": ""
             }
            },
            "type": "scattergeo"
           }
          ],
          "scattergl": [
           {
            "marker": {
             "colorbar": {
              "outlinewidth": 0,
              "ticks": ""
             }
            },
            "type": "scattergl"
           }
          ],
          "scattermapbox": [
           {
            "marker": {
             "colorbar": {
              "outlinewidth": 0,
              "ticks": ""
             }
            },
            "type": "scattermapbox"
           }
          ],
          "scatterpolar": [
           {
            "marker": {
             "colorbar": {
              "outlinewidth": 0,
              "ticks": ""
             }
            },
            "type": "scatterpolar"
           }
          ],
          "scatterpolargl": [
           {
            "marker": {
             "colorbar": {
              "outlinewidth": 0,
              "ticks": ""
             }
            },
            "type": "scatterpolargl"
           }
          ],
          "scatterternary": [
           {
            "marker": {
             "colorbar": {
              "outlinewidth": 0,
              "ticks": ""
             }
            },
            "type": "scatterternary"
           }
          ],
          "surface": [
           {
            "colorbar": {
             "outlinewidth": 0,
             "ticks": ""
            },
            "colorscale": [
             [
              0,
              "#0d0887"
             ],
             [
              0.1111111111111111,
              "#46039f"
             ],
             [
              0.2222222222222222,
              "#7201a8"
             ],
             [
              0.3333333333333333,
              "#9c179e"
             ],
             [
              0.4444444444444444,
              "#bd3786"
             ],
             [
              0.5555555555555556,
              "#d8576b"
             ],
             [
              0.6666666666666666,
              "#ed7953"
             ],
             [
              0.7777777777777778,
              "#fb9f3a"
             ],
             [
              0.8888888888888888,
              "#fdca26"
             ],
             [
              1,
              "#f0f921"
             ]
            ],
            "type": "surface"
           }
          ],
          "table": [
           {
            "cells": {
             "fill": {
              "color": "#EBF0F8"
             },
             "line": {
              "color": "white"
             }
            },
            "header": {
             "fill": {
              "color": "#C8D4E3"
             },
             "line": {
              "color": "white"
             }
            },
            "type": "table"
           }
          ]
         },
         "layout": {
          "annotationdefaults": {
           "arrowcolor": "#2a3f5f",
           "arrowhead": 0,
           "arrowwidth": 1
          },
          "coloraxis": {
           "colorbar": {
            "outlinewidth": 0,
            "ticks": ""
           }
          },
          "colorscale": {
           "diverging": [
            [
             0,
             "#8e0152"
            ],
            [
             0.1,
             "#c51b7d"
            ],
            [
             0.2,
             "#de77ae"
            ],
            [
             0.3,
             "#f1b6da"
            ],
            [
             0.4,
             "#fde0ef"
            ],
            [
             0.5,
             "#f7f7f7"
            ],
            [
             0.6,
             "#e6f5d0"
            ],
            [
             0.7,
             "#b8e186"
            ],
            [
             0.8,
             "#7fbc41"
            ],
            [
             0.9,
             "#4d9221"
            ],
            [
             1,
             "#276419"
            ]
           ],
           "sequential": [
            [
             0,
             "#0d0887"
            ],
            [
             0.1111111111111111,
             "#46039f"
            ],
            [
             0.2222222222222222,
             "#7201a8"
            ],
            [
             0.3333333333333333,
             "#9c179e"
            ],
            [
             0.4444444444444444,
             "#bd3786"
            ],
            [
             0.5555555555555556,
             "#d8576b"
            ],
            [
             0.6666666666666666,
             "#ed7953"
            ],
            [
             0.7777777777777778,
             "#fb9f3a"
            ],
            [
             0.8888888888888888,
             "#fdca26"
            ],
            [
             1,
             "#f0f921"
            ]
           ],
           "sequentialminus": [
            [
             0,
             "#0d0887"
            ],
            [
             0.1111111111111111,
             "#46039f"
            ],
            [
             0.2222222222222222,
             "#7201a8"
            ],
            [
             0.3333333333333333,
             "#9c179e"
            ],
            [
             0.4444444444444444,
             "#bd3786"
            ],
            [
             0.5555555555555556,
             "#d8576b"
            ],
            [
             0.6666666666666666,
             "#ed7953"
            ],
            [
             0.7777777777777778,
             "#fb9f3a"
            ],
            [
             0.8888888888888888,
             "#fdca26"
            ],
            [
             1,
             "#f0f921"
            ]
           ]
          },
          "colorway": [
           "#636efa",
           "#EF553B",
           "#00cc96",
           "#ab63fa",
           "#FFA15A",
           "#19d3f3",
           "#FF6692",
           "#B6E880",
           "#FF97FF",
           "#FECB52"
          ],
          "font": {
           "color": "#2a3f5f"
          },
          "geo": {
           "bgcolor": "white",
           "lakecolor": "white",
           "landcolor": "#E5ECF6",
           "showlakes": true,
           "showland": true,
           "subunitcolor": "white"
          },
          "hoverlabel": {
           "align": "left"
          },
          "hovermode": "closest",
          "mapbox": {
           "style": "light"
          },
          "paper_bgcolor": "white",
          "plot_bgcolor": "#E5ECF6",
          "polar": {
           "angularaxis": {
            "gridcolor": "white",
            "linecolor": "white",
            "ticks": ""
           },
           "bgcolor": "#E5ECF6",
           "radialaxis": {
            "gridcolor": "white",
            "linecolor": "white",
            "ticks": ""
           }
          },
          "scene": {
           "xaxis": {
            "backgroundcolor": "#E5ECF6",
            "gridcolor": "white",
            "gridwidth": 2,
            "linecolor": "white",
            "showbackground": true,
            "ticks": "",
            "zerolinecolor": "white"
           },
           "yaxis": {
            "backgroundcolor": "#E5ECF6",
            "gridcolor": "white",
            "gridwidth": 2,
            "linecolor": "white",
            "showbackground": true,
            "ticks": "",
            "zerolinecolor": "white"
           },
           "zaxis": {
            "backgroundcolor": "#E5ECF6",
            "gridcolor": "white",
            "gridwidth": 2,
            "linecolor": "white",
            "showbackground": true,
            "ticks": "",
            "zerolinecolor": "white"
           }
          },
          "shapedefaults": {
           "line": {
            "color": "#2a3f5f"
           }
          },
          "ternary": {
           "aaxis": {
            "gridcolor": "white",
            "linecolor": "white",
            "ticks": ""
           },
           "baxis": {
            "gridcolor": "white",
            "linecolor": "white",
            "ticks": ""
           },
           "bgcolor": "#E5ECF6",
           "caxis": {
            "gridcolor": "white",
            "linecolor": "white",
            "ticks": ""
           }
          },
          "title": {
           "x": 0.05
          },
          "xaxis": {
           "automargin": true,
           "gridcolor": "white",
           "linecolor": "white",
           "ticks": "",
           "title": {
            "standoff": 15
           },
           "zerolinecolor": "white",
           "zerolinewidth": 2
          },
          "yaxis": {
           "automargin": true,
           "gridcolor": "white",
           "linecolor": "white",
           "ticks": "",
           "title": {
            "standoff": 15
           },
           "zerolinecolor": "white",
           "zerolinewidth": 2
          }
         }
        },
        "title": {
         "text": "US States - Confirmed Cases"
        },
        "updatemenus": [
         {
          "active": 0,
          "buttons": [
           {
            "args": [
             {
              "visible": [
               true,
               true
              ]
             },
             {
              "yaxis": {
               "type": "linear"
              }
             }
            ],
            "label": "Linear Scale",
            "method": "update"
           },
           {
            "args": [
             {
              "visible": [
               true,
               true
              ]
             },
             {
              "yaxis": {
               "type": "log"
              }
             }
            ],
            "label": "Logarithmic Scale",
            "method": "update"
           }
          ],
          "direction": "right",
          "type": "buttons",
          "x": 0.45,
          "xanchor": "left",
          "y": 1.1,
          "yanchor": "top"
         }
        ]
       }
      },
      "text/html": [
       "<div>\n",
       "        \n",
       "        \n",
       "            <div id=\"5664bce7-6531-4fa5-99be-143d399107fe\" class=\"plotly-graph-div\" style=\"height:525px; width:100%;\"></div>\n",
       "            <script type=\"text/javascript\">\n",
       "                require([\"plotly\"], function(Plotly) {\n",
       "                    window.PLOTLYENV=window.PLOTLYENV || {};\n",
       "                    \n",
       "                if (document.getElementById(\"5664bce7-6531-4fa5-99be-143d399107fe\")) {\n",
       "                    Plotly.newPlot(\n",
       "                        '5664bce7-6531-4fa5-99be-143d399107fe',\n",
       "                        [{\"name\": \"New York\", \"type\": \"scatter\", \"x\": [\"3/13/20\", \"3/14/20\", \"3/15/20\", \"3/16/20\", \"3/17/20\", \"3/18/20\", \"3/19/20\", \"3/20/20\", \"3/21/20\", \"3/22/20\", \"3/23/20\", \"3/24/20\", \"3/25/20\", \"3/26/20\", \"3/27/20\", \"3/28/20\", \"3/29/20\", \"3/30/20\", \"3/31/20\", \"4/1/20\"], \"y\": [421, 613, 615, 967, 1578, 3038, 5704, 8403, 11727, 15800, 20884, 25681, 30841, 37877, 44876, 52410, 59648, 66663, 75833, 83948]}, {\"name\": \"New Jersey\", \"type\": \"scatter\", \"x\": [\"3/13/20\", \"3/14/20\", \"3/15/20\", \"3/16/20\", \"3/17/20\", \"3/18/20\", \"3/19/20\", \"3/20/20\", \"3/21/20\", \"3/22/20\", \"3/23/20\", \"3/24/20\", \"3/25/20\", \"3/26/20\", \"3/27/20\", \"3/28/20\", \"3/29/20\", \"3/30/20\", \"3/31/20\", \"4/1/20\"], \"y\": [49, 69, 72, 176, 250, 397, 741, 890, 1327, 1914, 2844, 3675, 4402, 6876, 8825, 11124, 13386, 16636, 18696, 22255]}, {\"name\": \"California\", \"type\": \"scatter\", \"x\": [\"3/13/20\", \"3/14/20\", \"3/15/20\", \"3/16/20\", \"3/17/20\", \"3/18/20\", \"3/19/20\", \"3/20/20\", \"3/21/20\", \"3/22/20\", \"3/23/20\", \"3/24/20\", \"3/25/20\", \"3/26/20\", \"3/27/20\", \"3/28/20\", \"3/29/20\", \"3/30/20\", \"3/31/20\", \"4/1/20\"], \"y\": [281, 372, 373, 557, 700, 828, 1005, 1243, 1405, 1646, 2108, 2538, 2998, 3899, 4657, 5095, 5852, 7138, 8210, 9399]}, {\"name\": \"Michigan\", \"type\": \"scatter\", \"x\": [\"3/13/20\", \"3/14/20\", \"3/15/20\", \"3/16/20\", \"3/17/20\", \"3/18/20\", \"3/19/20\", \"3/20/20\", \"3/21/20\", \"3/22/20\", \"3/23/20\", \"3/24/20\", \"3/25/20\", \"3/26/20\", \"3/27/20\", \"3/28/20\", \"3/29/20\", \"3/30/20\", \"3/31/20\", \"4/1/20\"], \"y\": [16, 25, 32, 54, 63, 119, 259, 402, 540, 1035, 1329, 1793, 2296, 2845, 3634, 4650, 5488, 6498, 7615, 9315]}, {\"name\": \"Massachusetts\", \"type\": \"scatter\", \"x\": [\"3/13/20\", \"3/14/20\", \"3/15/20\", \"3/16/20\", \"3/17/20\", \"3/18/20\", \"3/19/20\", \"3/20/20\", \"3/21/20\", \"3/22/20\", \"3/23/20\", \"3/24/20\", \"3/25/20\", \"3/26/20\", \"3/27/20\", \"3/28/20\", \"3/29/20\", \"3/30/20\", \"3/31/20\", \"4/1/20\"], \"y\": [123, 138, 138, 187, 217, 252, 328, 413, 523, 640, 777, 1159, 1838, 2417, 3240, 4257, 4955, 5752, 6620, 7738]}, {\"name\": \"Illinois\", \"type\": \"scatter\", \"x\": [\"3/13/20\", \"3/14/20\", \"3/15/20\", \"3/16/20\", \"3/17/20\", \"3/18/20\", \"3/19/20\", \"3/20/20\", \"3/21/20\", \"3/22/20\", \"3/23/20\", \"3/24/20\", \"3/25/20\", \"3/26/20\", \"3/27/20\", \"3/28/20\", \"3/29/20\", \"3/30/20\", \"3/31/20\", \"4/1/20\"], \"y\": [46, 64, 66, 83, 161, 272, 422, 585, 753, 1049, 1285, 1537, 1865, 2538, 3024, 3491, 4596, 5056, 5994, 6980]}, {\"name\": \"Florida\", \"type\": \"scatter\", \"x\": [\"3/13/20\", \"3/14/20\", \"3/15/20\", \"3/16/20\", \"3/17/20\", \"3/18/20\", \"3/19/20\", \"3/20/20\", \"3/21/20\", \"3/22/20\", \"3/23/20\", \"3/24/20\", \"3/25/20\", \"3/26/20\", \"3/27/20\", \"3/28/20\", \"3/29/20\", \"3/30/20\", \"3/31/20\", \"4/1/20\"], \"y\": [50, 76, 100, 101, 190, 306, 331, 440, 763, 1004, 1227, 1412, 1682, 2357, 2900, 3763, 4246, 5473, 6741, 6956]}, {\"name\": \"Louisiana\", \"type\": \"scatter\", \"x\": [\"3/13/20\", \"3/14/20\", \"3/15/20\", \"3/16/20\", \"3/17/20\", \"3/18/20\", \"3/19/20\", \"3/20/20\", \"3/21/20\", \"3/22/20\", \"3/23/20\", \"3/24/20\", \"3/25/20\", \"3/26/20\", \"3/27/20\", \"3/28/20\", \"3/29/20\", \"3/30/20\", \"3/31/20\", \"4/1/20\"], \"y\": [29, 77, 87, 115, 196, 257, 392, 537, 763, 837, 1172, 1388, 1795, 2304, 2744, 3315, 3540, 4025, 5237, 6424]}, {\"name\": \"Pennsylvania\", \"type\": \"scatter\", \"x\": [\"3/13/20\", \"3/14/20\", \"3/15/20\", \"3/16/20\", \"3/17/20\", \"3/18/20\", \"3/19/20\", \"3/20/20\", \"3/21/20\", \"3/22/20\", \"3/23/20\", \"3/24/20\", \"3/25/20\", \"3/26/20\", \"3/27/20\", \"3/28/20\", \"3/29/20\", \"3/30/20\", \"3/31/20\", \"4/1/20\"], \"y\": [41, 47, 47, 79, 112, 155, 206, 311, 399, 509, 698, 946, 1260, 1795, 2345, 2845, 3432, 4155, 4963, 6009]}, {\"name\": \"Washington\", \"type\": \"scatter\", \"x\": [\"3/13/20\", \"3/14/20\", \"3/15/20\", \"3/16/20\", \"3/17/20\", \"3/18/20\", \"3/19/20\", \"3/20/20\", \"3/21/20\", \"3/22/20\", \"3/23/20\", \"3/24/20\", \"3/25/20\", \"3/26/20\", \"3/27/20\", \"3/28/20\", \"3/29/20\", \"3/30/20\", \"3/31/20\", \"4/1/20\"], \"y\": [568, 642, 603, 779, 955, 1022, 1374, 1524, 1793, 1997, 2221, 2328, 2591, 3207, 3477, 4030, 4465, 4923, 5432, 5608]}],\n",
       "                        {\"template\": {\"data\": {\"bar\": [{\"error_x\": {\"color\": \"#2a3f5f\"}, \"error_y\": {\"color\": \"#2a3f5f\"}, \"marker\": {\"line\": {\"color\": \"#E5ECF6\", \"width\": 0.5}}, \"type\": \"bar\"}], \"barpolar\": [{\"marker\": {\"line\": {\"color\": \"#E5ECF6\", \"width\": 0.5}}, \"type\": \"barpolar\"}], \"carpet\": [{\"aaxis\": {\"endlinecolor\": \"#2a3f5f\", \"gridcolor\": \"white\", \"linecolor\": \"white\", \"minorgridcolor\": \"white\", \"startlinecolor\": \"#2a3f5f\"}, \"baxis\": {\"endlinecolor\": \"#2a3f5f\", \"gridcolor\": \"white\", \"linecolor\": \"white\", \"minorgridcolor\": \"white\", \"startlinecolor\": \"#2a3f5f\"}, \"type\": \"carpet\"}], \"choropleth\": [{\"colorbar\": {\"outlinewidth\": 0, \"ticks\": \"\"}, \"type\": \"choropleth\"}], \"contour\": [{\"colorbar\": {\"outlinewidth\": 0, \"ticks\": \"\"}, \"colorscale\": [[0.0, \"#0d0887\"], [0.1111111111111111, \"#46039f\"], [0.2222222222222222, \"#7201a8\"], [0.3333333333333333, \"#9c179e\"], [0.4444444444444444, \"#bd3786\"], [0.5555555555555556, \"#d8576b\"], [0.6666666666666666, \"#ed7953\"], [0.7777777777777778, \"#fb9f3a\"], [0.8888888888888888, \"#fdca26\"], [1.0, \"#f0f921\"]], \"type\": \"contour\"}], \"contourcarpet\": [{\"colorbar\": {\"outlinewidth\": 0, \"ticks\": \"\"}, \"type\": \"contourcarpet\"}], \"heatmap\": [{\"colorbar\": {\"outlinewidth\": 0, \"ticks\": \"\"}, \"colorscale\": [[0.0, \"#0d0887\"], [0.1111111111111111, \"#46039f\"], [0.2222222222222222, \"#7201a8\"], [0.3333333333333333, \"#9c179e\"], [0.4444444444444444, \"#bd3786\"], [0.5555555555555556, \"#d8576b\"], [0.6666666666666666, \"#ed7953\"], [0.7777777777777778, \"#fb9f3a\"], [0.8888888888888888, \"#fdca26\"], [1.0, \"#f0f921\"]], \"type\": \"heatmap\"}], \"heatmapgl\": [{\"colorbar\": {\"outlinewidth\": 0, \"ticks\": \"\"}, \"colorscale\": [[0.0, \"#0d0887\"], [0.1111111111111111, \"#46039f\"], [0.2222222222222222, \"#7201a8\"], [0.3333333333333333, \"#9c179e\"], [0.4444444444444444, \"#bd3786\"], [0.5555555555555556, \"#d8576b\"], [0.6666666666666666, \"#ed7953\"], [0.7777777777777778, \"#fb9f3a\"], [0.8888888888888888, \"#fdca26\"], [1.0, \"#f0f921\"]], \"type\": \"heatmapgl\"}], \"histogram\": [{\"marker\": {\"colorbar\": {\"outlinewidth\": 0, \"ticks\": \"\"}}, \"type\": \"histogram\"}], \"histogram2d\": [{\"colorbar\": {\"outlinewidth\": 0, \"ticks\": \"\"}, \"colorscale\": [[0.0, \"#0d0887\"], [0.1111111111111111, \"#46039f\"], [0.2222222222222222, \"#7201a8\"], [0.3333333333333333, \"#9c179e\"], [0.4444444444444444, \"#bd3786\"], [0.5555555555555556, \"#d8576b\"], [0.6666666666666666, \"#ed7953\"], [0.7777777777777778, \"#fb9f3a\"], [0.8888888888888888, \"#fdca26\"], [1.0, \"#f0f921\"]], \"type\": \"histogram2d\"}], \"histogram2dcontour\": [{\"colorbar\": {\"outlinewidth\": 0, \"ticks\": \"\"}, \"colorscale\": [[0.0, \"#0d0887\"], [0.1111111111111111, \"#46039f\"], [0.2222222222222222, \"#7201a8\"], [0.3333333333333333, \"#9c179e\"], [0.4444444444444444, \"#bd3786\"], [0.5555555555555556, \"#d8576b\"], [0.6666666666666666, \"#ed7953\"], [0.7777777777777778, \"#fb9f3a\"], [0.8888888888888888, \"#fdca26\"], [1.0, \"#f0f921\"]], \"type\": \"histogram2dcontour\"}], \"mesh3d\": [{\"colorbar\": {\"outlinewidth\": 0, \"ticks\": \"\"}, \"type\": \"mesh3d\"}], \"parcoords\": [{\"line\": {\"colorbar\": {\"outlinewidth\": 0, \"ticks\": \"\"}}, \"type\": \"parcoords\"}], \"pie\": [{\"automargin\": true, \"type\": \"pie\"}], \"scatter\": [{\"marker\": {\"colorbar\": {\"outlinewidth\": 0, \"ticks\": \"\"}}, \"type\": \"scatter\"}], \"scatter3d\": [{\"line\": {\"colorbar\": {\"outlinewidth\": 0, \"ticks\": \"\"}}, \"marker\": {\"colorbar\": {\"outlinewidth\": 0, \"ticks\": \"\"}}, \"type\": \"scatter3d\"}], \"scattercarpet\": [{\"marker\": {\"colorbar\": {\"outlinewidth\": 0, \"ticks\": \"\"}}, \"type\": \"scattercarpet\"}], \"scattergeo\": [{\"marker\": {\"colorbar\": {\"outlinewidth\": 0, \"ticks\": \"\"}}, \"type\": \"scattergeo\"}], \"scattergl\": [{\"marker\": {\"colorbar\": {\"outlinewidth\": 0, \"ticks\": \"\"}}, \"type\": \"scattergl\"}], \"scattermapbox\": [{\"marker\": {\"colorbar\": {\"outlinewidth\": 0, \"ticks\": \"\"}}, \"type\": \"scattermapbox\"}], \"scatterpolar\": [{\"marker\": {\"colorbar\": {\"outlinewidth\": 0, \"ticks\": \"\"}}, \"type\": \"scatterpolar\"}], \"scatterpolargl\": [{\"marker\": {\"colorbar\": {\"outlinewidth\": 0, \"ticks\": \"\"}}, \"type\": \"scatterpolargl\"}], \"scatterternary\": [{\"marker\": {\"colorbar\": {\"outlinewidth\": 0, \"ticks\": \"\"}}, \"type\": \"scatterternary\"}], \"surface\": [{\"colorbar\": {\"outlinewidth\": 0, \"ticks\": \"\"}, \"colorscale\": [[0.0, \"#0d0887\"], [0.1111111111111111, \"#46039f\"], [0.2222222222222222, \"#7201a8\"], [0.3333333333333333, \"#9c179e\"], [0.4444444444444444, \"#bd3786\"], [0.5555555555555556, \"#d8576b\"], [0.6666666666666666, \"#ed7953\"], [0.7777777777777778, \"#fb9f3a\"], [0.8888888888888888, \"#fdca26\"], [1.0, \"#f0f921\"]], \"type\": \"surface\"}], \"table\": [{\"cells\": {\"fill\": {\"color\": \"#EBF0F8\"}, \"line\": {\"color\": \"white\"}}, \"header\": {\"fill\": {\"color\": \"#C8D4E3\"}, \"line\": {\"color\": \"white\"}}, \"type\": \"table\"}]}, \"layout\": {\"annotationdefaults\": {\"arrowcolor\": \"#2a3f5f\", \"arrowhead\": 0, \"arrowwidth\": 1}, \"coloraxis\": {\"colorbar\": {\"outlinewidth\": 0, \"ticks\": \"\"}}, \"colorscale\": {\"diverging\": [[0, \"#8e0152\"], [0.1, \"#c51b7d\"], [0.2, \"#de77ae\"], [0.3, \"#f1b6da\"], [0.4, \"#fde0ef\"], [0.5, \"#f7f7f7\"], [0.6, \"#e6f5d0\"], [0.7, \"#b8e186\"], [0.8, \"#7fbc41\"], [0.9, \"#4d9221\"], [1, \"#276419\"]], \"sequential\": [[0.0, \"#0d0887\"], [0.1111111111111111, \"#46039f\"], [0.2222222222222222, \"#7201a8\"], [0.3333333333333333, \"#9c179e\"], [0.4444444444444444, \"#bd3786\"], [0.5555555555555556, \"#d8576b\"], [0.6666666666666666, \"#ed7953\"], [0.7777777777777778, \"#fb9f3a\"], [0.8888888888888888, \"#fdca26\"], [1.0, \"#f0f921\"]], \"sequentialminus\": [[0.0, \"#0d0887\"], [0.1111111111111111, \"#46039f\"], [0.2222222222222222, \"#7201a8\"], [0.3333333333333333, \"#9c179e\"], [0.4444444444444444, \"#bd3786\"], [0.5555555555555556, \"#d8576b\"], [0.6666666666666666, \"#ed7953\"], [0.7777777777777778, \"#fb9f3a\"], [0.8888888888888888, \"#fdca26\"], [1.0, \"#f0f921\"]]}, \"colorway\": [\"#636efa\", \"#EF553B\", \"#00cc96\", \"#ab63fa\", \"#FFA15A\", \"#19d3f3\", \"#FF6692\", \"#B6E880\", \"#FF97FF\", \"#FECB52\"], \"font\": {\"color\": \"#2a3f5f\"}, \"geo\": {\"bgcolor\": \"white\", \"lakecolor\": \"white\", \"landcolor\": \"#E5ECF6\", \"showlakes\": true, \"showland\": true, \"subunitcolor\": \"white\"}, \"hoverlabel\": {\"align\": \"left\"}, \"hovermode\": \"closest\", \"mapbox\": {\"style\": \"light\"}, \"paper_bgcolor\": \"white\", \"plot_bgcolor\": \"#E5ECF6\", \"polar\": {\"angularaxis\": {\"gridcolor\": \"white\", \"linecolor\": \"white\", \"ticks\": \"\"}, \"bgcolor\": \"#E5ECF6\", \"radialaxis\": {\"gridcolor\": \"white\", \"linecolor\": \"white\", \"ticks\": \"\"}}, \"scene\": {\"xaxis\": {\"backgroundcolor\": \"#E5ECF6\", \"gridcolor\": \"white\", \"gridwidth\": 2, \"linecolor\": \"white\", \"showbackground\": true, \"ticks\": \"\", \"zerolinecolor\": \"white\"}, \"yaxis\": {\"backgroundcolor\": \"#E5ECF6\", \"gridcolor\": \"white\", \"gridwidth\": 2, \"linecolor\": \"white\", \"showbackground\": true, \"ticks\": \"\", \"zerolinecolor\": \"white\"}, \"zaxis\": {\"backgroundcolor\": \"#E5ECF6\", \"gridcolor\": \"white\", \"gridwidth\": 2, \"linecolor\": \"white\", \"showbackground\": true, \"ticks\": \"\", \"zerolinecolor\": \"white\"}}, \"shapedefaults\": {\"line\": {\"color\": \"#2a3f5f\"}}, \"ternary\": {\"aaxis\": {\"gridcolor\": \"white\", \"linecolor\": \"white\", \"ticks\": \"\"}, \"baxis\": {\"gridcolor\": \"white\", \"linecolor\": \"white\", \"ticks\": \"\"}, \"bgcolor\": \"#E5ECF6\", \"caxis\": {\"gridcolor\": \"white\", \"linecolor\": \"white\", \"ticks\": \"\"}}, \"title\": {\"x\": 0.05}, \"xaxis\": {\"automargin\": true, \"gridcolor\": \"white\", \"linecolor\": \"white\", \"ticks\": \"\", \"title\": {\"standoff\": 15}, \"zerolinecolor\": \"white\", \"zerolinewidth\": 2}, \"yaxis\": {\"automargin\": true, \"gridcolor\": \"white\", \"linecolor\": \"white\", \"ticks\": \"\", \"title\": {\"standoff\": 15}, \"zerolinecolor\": \"white\", \"zerolinewidth\": 2}}}, \"title\": {\"text\": \"US States - Confirmed Cases\"}, \"updatemenus\": [{\"active\": 0, \"buttons\": [{\"args\": [{\"visible\": [true, true]}, {\"yaxis\": {\"type\": \"linear\"}}], \"label\": \"Linear Scale\", \"method\": \"update\"}, {\"args\": [{\"visible\": [true, true]}, {\"yaxis\": {\"type\": \"log\"}}], \"label\": \"Logarithmic Scale\", \"method\": \"update\"}], \"direction\": \"right\", \"type\": \"buttons\", \"x\": 0.45, \"xanchor\": \"left\", \"y\": 1.1, \"yanchor\": \"top\"}]},\n",
       "                        {\"responsive\": true}\n",
       "                    ).then(function(){\n",
       "                            \n",
       "var gd = document.getElementById('5664bce7-6531-4fa5-99be-143d399107fe');\n",
       "var x = new MutationObserver(function (mutations, observer) {{\n",
       "        var display = window.getComputedStyle(gd).display;\n",
       "        if (!display || display === 'none') {{\n",
       "            console.log([gd, 'removed!']);\n",
       "            Plotly.purge(gd);\n",
       "            observer.disconnect();\n",
       "        }}\n",
       "}});\n",
       "\n",
       "// Listen for the removal of the full notebook cells\n",
       "var notebookContainer = gd.closest('#notebook-container');\n",
       "if (notebookContainer) {{\n",
       "    x.observe(notebookContainer, {childList: true});\n",
       "}}\n",
       "\n",
       "// Listen for the clearing of the current output cell\n",
       "var outputEl = gd.closest('.output');\n",
       "if (outputEl) {{\n",
       "    x.observe(outputEl, {childList: true});\n",
       "}}\n",
       "\n",
       "                        })\n",
       "                };\n",
       "                });\n",
       "            </script>\n",
       "        </div>"
      ]
     },
     "metadata": {},
     "output_type": "display_data"
    },
    {
     "data": {
      "text/html": [
       "<style  type=\"text/css\" >\n",
       "</style><table id=\"T_22637208_74a9_11ea_ae60_c49ded93ade6\" ><thead>    <tr>        <th class=\"blank level0\" ></th>        <th class=\"col_heading level0 col0\" >3/13/20</th>        <th class=\"col_heading level0 col1\" >3/14/20</th>        <th class=\"col_heading level0 col2\" >3/15/20</th>        <th class=\"col_heading level0 col3\" >3/16/20</th>        <th class=\"col_heading level0 col4\" >3/17/20</th>        <th class=\"col_heading level0 col5\" >3/18/20</th>        <th class=\"col_heading level0 col6\" >3/19/20</th>        <th class=\"col_heading level0 col7\" >3/20/20</th>        <th class=\"col_heading level0 col8\" >3/21/20</th>        <th class=\"col_heading level0 col9\" >3/22/20</th>        <th class=\"col_heading level0 col10\" >3/23/20</th>        <th class=\"col_heading level0 col11\" >3/24/20</th>        <th class=\"col_heading level0 col12\" >3/25/20</th>        <th class=\"col_heading level0 col13\" >3/26/20</th>        <th class=\"col_heading level0 col14\" >3/27/20</th>        <th class=\"col_heading level0 col15\" >3/28/20</th>        <th class=\"col_heading level0 col16\" >3/29/20</th>        <th class=\"col_heading level0 col17\" >3/30/20</th>        <th class=\"col_heading level0 col18\" >3/31/20</th>        <th class=\"col_heading level0 col19\" >4/1/20</th>        <th class=\"col_heading level0 col20\" >percent_of_total</th>    </tr>    <tr>        <th class=\"index_name level0\" >Province_State</th>        <th class=\"blank\" ></th>        <th class=\"blank\" ></th>        <th class=\"blank\" ></th>        <th class=\"blank\" ></th>        <th class=\"blank\" ></th>        <th class=\"blank\" ></th>        <th class=\"blank\" ></th>        <th class=\"blank\" ></th>        <th class=\"blank\" ></th>        <th class=\"blank\" ></th>        <th class=\"blank\" ></th>        <th class=\"blank\" ></th>        <th class=\"blank\" ></th>        <th class=\"blank\" ></th>        <th class=\"blank\" ></th>        <th class=\"blank\" ></th>        <th class=\"blank\" ></th>        <th class=\"blank\" ></th>        <th class=\"blank\" ></th>        <th class=\"blank\" ></th>        <th class=\"blank\" ></th>    </tr></thead><tbody>\n",
       "                <tr>\n",
       "                        <th id=\"T_22637208_74a9_11ea_ae60_c49ded93ade6level0_row0\" class=\"row_heading level0 row0\" >New York</th>\n",
       "                        <td id=\"T_22637208_74a9_11ea_ae60_c49ded93ade6row0_col0\" class=\"data row0 col0\" >421</td>\n",
       "                        <td id=\"T_22637208_74a9_11ea_ae60_c49ded93ade6row0_col1\" class=\"data row0 col1\" >613</td>\n",
       "                        <td id=\"T_22637208_74a9_11ea_ae60_c49ded93ade6row0_col2\" class=\"data row0 col2\" >615</td>\n",
       "                        <td id=\"T_22637208_74a9_11ea_ae60_c49ded93ade6row0_col3\" class=\"data row0 col3\" >967</td>\n",
       "                        <td id=\"T_22637208_74a9_11ea_ae60_c49ded93ade6row0_col4\" class=\"data row0 col4\" >1,578</td>\n",
       "                        <td id=\"T_22637208_74a9_11ea_ae60_c49ded93ade6row0_col5\" class=\"data row0 col5\" >3,038</td>\n",
       "                        <td id=\"T_22637208_74a9_11ea_ae60_c49ded93ade6row0_col6\" class=\"data row0 col6\" >5,704</td>\n",
       "                        <td id=\"T_22637208_74a9_11ea_ae60_c49ded93ade6row0_col7\" class=\"data row0 col7\" >8,403</td>\n",
       "                        <td id=\"T_22637208_74a9_11ea_ae60_c49ded93ade6row0_col8\" class=\"data row0 col8\" >11,727</td>\n",
       "                        <td id=\"T_22637208_74a9_11ea_ae60_c49ded93ade6row0_col9\" class=\"data row0 col9\" >15,800</td>\n",
       "                        <td id=\"T_22637208_74a9_11ea_ae60_c49ded93ade6row0_col10\" class=\"data row0 col10\" >20,884</td>\n",
       "                        <td id=\"T_22637208_74a9_11ea_ae60_c49ded93ade6row0_col11\" class=\"data row0 col11\" >25,681</td>\n",
       "                        <td id=\"T_22637208_74a9_11ea_ae60_c49ded93ade6row0_col12\" class=\"data row0 col12\" >30,841</td>\n",
       "                        <td id=\"T_22637208_74a9_11ea_ae60_c49ded93ade6row0_col13\" class=\"data row0 col13\" >37,877</td>\n",
       "                        <td id=\"T_22637208_74a9_11ea_ae60_c49ded93ade6row0_col14\" class=\"data row0 col14\" >44,876</td>\n",
       "                        <td id=\"T_22637208_74a9_11ea_ae60_c49ded93ade6row0_col15\" class=\"data row0 col15\" >52,410</td>\n",
       "                        <td id=\"T_22637208_74a9_11ea_ae60_c49ded93ade6row0_col16\" class=\"data row0 col16\" >59,648</td>\n",
       "                        <td id=\"T_22637208_74a9_11ea_ae60_c49ded93ade6row0_col17\" class=\"data row0 col17\" >66,663</td>\n",
       "                        <td id=\"T_22637208_74a9_11ea_ae60_c49ded93ade6row0_col18\" class=\"data row0 col18\" >75,833</td>\n",
       "                        <td id=\"T_22637208_74a9_11ea_ae60_c49ded93ade6row0_col19\" class=\"data row0 col19\" >83,948</td>\n",
       "                        <td id=\"T_22637208_74a9_11ea_ae60_c49ded93ade6row0_col20\" class=\"data row0 col20\" >39%</td>\n",
       "            </tr>\n",
       "            <tr>\n",
       "                        <th id=\"T_22637208_74a9_11ea_ae60_c49ded93ade6level0_row1\" class=\"row_heading level0 row1\" >New Jersey</th>\n",
       "                        <td id=\"T_22637208_74a9_11ea_ae60_c49ded93ade6row1_col0\" class=\"data row1 col0\" >49</td>\n",
       "                        <td id=\"T_22637208_74a9_11ea_ae60_c49ded93ade6row1_col1\" class=\"data row1 col1\" >69</td>\n",
       "                        <td id=\"T_22637208_74a9_11ea_ae60_c49ded93ade6row1_col2\" class=\"data row1 col2\" >72</td>\n",
       "                        <td id=\"T_22637208_74a9_11ea_ae60_c49ded93ade6row1_col3\" class=\"data row1 col3\" >176</td>\n",
       "                        <td id=\"T_22637208_74a9_11ea_ae60_c49ded93ade6row1_col4\" class=\"data row1 col4\" >250</td>\n",
       "                        <td id=\"T_22637208_74a9_11ea_ae60_c49ded93ade6row1_col5\" class=\"data row1 col5\" >397</td>\n",
       "                        <td id=\"T_22637208_74a9_11ea_ae60_c49ded93ade6row1_col6\" class=\"data row1 col6\" >741</td>\n",
       "                        <td id=\"T_22637208_74a9_11ea_ae60_c49ded93ade6row1_col7\" class=\"data row1 col7\" >890</td>\n",
       "                        <td id=\"T_22637208_74a9_11ea_ae60_c49ded93ade6row1_col8\" class=\"data row1 col8\" >1,327</td>\n",
       "                        <td id=\"T_22637208_74a9_11ea_ae60_c49ded93ade6row1_col9\" class=\"data row1 col9\" >1,914</td>\n",
       "                        <td id=\"T_22637208_74a9_11ea_ae60_c49ded93ade6row1_col10\" class=\"data row1 col10\" >2,844</td>\n",
       "                        <td id=\"T_22637208_74a9_11ea_ae60_c49ded93ade6row1_col11\" class=\"data row1 col11\" >3,675</td>\n",
       "                        <td id=\"T_22637208_74a9_11ea_ae60_c49ded93ade6row1_col12\" class=\"data row1 col12\" >4,402</td>\n",
       "                        <td id=\"T_22637208_74a9_11ea_ae60_c49ded93ade6row1_col13\" class=\"data row1 col13\" >6,876</td>\n",
       "                        <td id=\"T_22637208_74a9_11ea_ae60_c49ded93ade6row1_col14\" class=\"data row1 col14\" >8,825</td>\n",
       "                        <td id=\"T_22637208_74a9_11ea_ae60_c49ded93ade6row1_col15\" class=\"data row1 col15\" >11,124</td>\n",
       "                        <td id=\"T_22637208_74a9_11ea_ae60_c49ded93ade6row1_col16\" class=\"data row1 col16\" >13,386</td>\n",
       "                        <td id=\"T_22637208_74a9_11ea_ae60_c49ded93ade6row1_col17\" class=\"data row1 col17\" >16,636</td>\n",
       "                        <td id=\"T_22637208_74a9_11ea_ae60_c49ded93ade6row1_col18\" class=\"data row1 col18\" >18,696</td>\n",
       "                        <td id=\"T_22637208_74a9_11ea_ae60_c49ded93ade6row1_col19\" class=\"data row1 col19\" >22,255</td>\n",
       "                        <td id=\"T_22637208_74a9_11ea_ae60_c49ded93ade6row1_col20\" class=\"data row1 col20\" >10%</td>\n",
       "            </tr>\n",
       "            <tr>\n",
       "                        <th id=\"T_22637208_74a9_11ea_ae60_c49ded93ade6level0_row2\" class=\"row_heading level0 row2\" >California</th>\n",
       "                        <td id=\"T_22637208_74a9_11ea_ae60_c49ded93ade6row2_col0\" class=\"data row2 col0\" >281</td>\n",
       "                        <td id=\"T_22637208_74a9_11ea_ae60_c49ded93ade6row2_col1\" class=\"data row2 col1\" >372</td>\n",
       "                        <td id=\"T_22637208_74a9_11ea_ae60_c49ded93ade6row2_col2\" class=\"data row2 col2\" >373</td>\n",
       "                        <td id=\"T_22637208_74a9_11ea_ae60_c49ded93ade6row2_col3\" class=\"data row2 col3\" >557</td>\n",
       "                        <td id=\"T_22637208_74a9_11ea_ae60_c49ded93ade6row2_col4\" class=\"data row2 col4\" >700</td>\n",
       "                        <td id=\"T_22637208_74a9_11ea_ae60_c49ded93ade6row2_col5\" class=\"data row2 col5\" >828</td>\n",
       "                        <td id=\"T_22637208_74a9_11ea_ae60_c49ded93ade6row2_col6\" class=\"data row2 col6\" >1,005</td>\n",
       "                        <td id=\"T_22637208_74a9_11ea_ae60_c49ded93ade6row2_col7\" class=\"data row2 col7\" >1,243</td>\n",
       "                        <td id=\"T_22637208_74a9_11ea_ae60_c49ded93ade6row2_col8\" class=\"data row2 col8\" >1,405</td>\n",
       "                        <td id=\"T_22637208_74a9_11ea_ae60_c49ded93ade6row2_col9\" class=\"data row2 col9\" >1,646</td>\n",
       "                        <td id=\"T_22637208_74a9_11ea_ae60_c49ded93ade6row2_col10\" class=\"data row2 col10\" >2,108</td>\n",
       "                        <td id=\"T_22637208_74a9_11ea_ae60_c49ded93ade6row2_col11\" class=\"data row2 col11\" >2,538</td>\n",
       "                        <td id=\"T_22637208_74a9_11ea_ae60_c49ded93ade6row2_col12\" class=\"data row2 col12\" >2,998</td>\n",
       "                        <td id=\"T_22637208_74a9_11ea_ae60_c49ded93ade6row2_col13\" class=\"data row2 col13\" >3,899</td>\n",
       "                        <td id=\"T_22637208_74a9_11ea_ae60_c49ded93ade6row2_col14\" class=\"data row2 col14\" >4,657</td>\n",
       "                        <td id=\"T_22637208_74a9_11ea_ae60_c49ded93ade6row2_col15\" class=\"data row2 col15\" >5,095</td>\n",
       "                        <td id=\"T_22637208_74a9_11ea_ae60_c49ded93ade6row2_col16\" class=\"data row2 col16\" >5,852</td>\n",
       "                        <td id=\"T_22637208_74a9_11ea_ae60_c49ded93ade6row2_col17\" class=\"data row2 col17\" >7,138</td>\n",
       "                        <td id=\"T_22637208_74a9_11ea_ae60_c49ded93ade6row2_col18\" class=\"data row2 col18\" >8,210</td>\n",
       "                        <td id=\"T_22637208_74a9_11ea_ae60_c49ded93ade6row2_col19\" class=\"data row2 col19\" >9,399</td>\n",
       "                        <td id=\"T_22637208_74a9_11ea_ae60_c49ded93ade6row2_col20\" class=\"data row2 col20\" >4%</td>\n",
       "            </tr>\n",
       "            <tr>\n",
       "                        <th id=\"T_22637208_74a9_11ea_ae60_c49ded93ade6level0_row3\" class=\"row_heading level0 row3\" >Michigan</th>\n",
       "                        <td id=\"T_22637208_74a9_11ea_ae60_c49ded93ade6row3_col0\" class=\"data row3 col0\" >16</td>\n",
       "                        <td id=\"T_22637208_74a9_11ea_ae60_c49ded93ade6row3_col1\" class=\"data row3 col1\" >25</td>\n",
       "                        <td id=\"T_22637208_74a9_11ea_ae60_c49ded93ade6row3_col2\" class=\"data row3 col2\" >32</td>\n",
       "                        <td id=\"T_22637208_74a9_11ea_ae60_c49ded93ade6row3_col3\" class=\"data row3 col3\" >54</td>\n",
       "                        <td id=\"T_22637208_74a9_11ea_ae60_c49ded93ade6row3_col4\" class=\"data row3 col4\" >63</td>\n",
       "                        <td id=\"T_22637208_74a9_11ea_ae60_c49ded93ade6row3_col5\" class=\"data row3 col5\" >119</td>\n",
       "                        <td id=\"T_22637208_74a9_11ea_ae60_c49ded93ade6row3_col6\" class=\"data row3 col6\" >259</td>\n",
       "                        <td id=\"T_22637208_74a9_11ea_ae60_c49ded93ade6row3_col7\" class=\"data row3 col7\" >402</td>\n",
       "                        <td id=\"T_22637208_74a9_11ea_ae60_c49ded93ade6row3_col8\" class=\"data row3 col8\" >540</td>\n",
       "                        <td id=\"T_22637208_74a9_11ea_ae60_c49ded93ade6row3_col9\" class=\"data row3 col9\" >1,035</td>\n",
       "                        <td id=\"T_22637208_74a9_11ea_ae60_c49ded93ade6row3_col10\" class=\"data row3 col10\" >1,329</td>\n",
       "                        <td id=\"T_22637208_74a9_11ea_ae60_c49ded93ade6row3_col11\" class=\"data row3 col11\" >1,793</td>\n",
       "                        <td id=\"T_22637208_74a9_11ea_ae60_c49ded93ade6row3_col12\" class=\"data row3 col12\" >2,296</td>\n",
       "                        <td id=\"T_22637208_74a9_11ea_ae60_c49ded93ade6row3_col13\" class=\"data row3 col13\" >2,845</td>\n",
       "                        <td id=\"T_22637208_74a9_11ea_ae60_c49ded93ade6row3_col14\" class=\"data row3 col14\" >3,634</td>\n",
       "                        <td id=\"T_22637208_74a9_11ea_ae60_c49ded93ade6row3_col15\" class=\"data row3 col15\" >4,650</td>\n",
       "                        <td id=\"T_22637208_74a9_11ea_ae60_c49ded93ade6row3_col16\" class=\"data row3 col16\" >5,488</td>\n",
       "                        <td id=\"T_22637208_74a9_11ea_ae60_c49ded93ade6row3_col17\" class=\"data row3 col17\" >6,498</td>\n",
       "                        <td id=\"T_22637208_74a9_11ea_ae60_c49ded93ade6row3_col18\" class=\"data row3 col18\" >7,615</td>\n",
       "                        <td id=\"T_22637208_74a9_11ea_ae60_c49ded93ade6row3_col19\" class=\"data row3 col19\" >9,315</td>\n",
       "                        <td id=\"T_22637208_74a9_11ea_ae60_c49ded93ade6row3_col20\" class=\"data row3 col20\" >4%</td>\n",
       "            </tr>\n",
       "            <tr>\n",
       "                        <th id=\"T_22637208_74a9_11ea_ae60_c49ded93ade6level0_row4\" class=\"row_heading level0 row4\" >Massachusetts</th>\n",
       "                        <td id=\"T_22637208_74a9_11ea_ae60_c49ded93ade6row4_col0\" class=\"data row4 col0\" >123</td>\n",
       "                        <td id=\"T_22637208_74a9_11ea_ae60_c49ded93ade6row4_col1\" class=\"data row4 col1\" >138</td>\n",
       "                        <td id=\"T_22637208_74a9_11ea_ae60_c49ded93ade6row4_col2\" class=\"data row4 col2\" >138</td>\n",
       "                        <td id=\"T_22637208_74a9_11ea_ae60_c49ded93ade6row4_col3\" class=\"data row4 col3\" >187</td>\n",
       "                        <td id=\"T_22637208_74a9_11ea_ae60_c49ded93ade6row4_col4\" class=\"data row4 col4\" >217</td>\n",
       "                        <td id=\"T_22637208_74a9_11ea_ae60_c49ded93ade6row4_col5\" class=\"data row4 col5\" >252</td>\n",
       "                        <td id=\"T_22637208_74a9_11ea_ae60_c49ded93ade6row4_col6\" class=\"data row4 col6\" >328</td>\n",
       "                        <td id=\"T_22637208_74a9_11ea_ae60_c49ded93ade6row4_col7\" class=\"data row4 col7\" >413</td>\n",
       "                        <td id=\"T_22637208_74a9_11ea_ae60_c49ded93ade6row4_col8\" class=\"data row4 col8\" >523</td>\n",
       "                        <td id=\"T_22637208_74a9_11ea_ae60_c49ded93ade6row4_col9\" class=\"data row4 col9\" >640</td>\n",
       "                        <td id=\"T_22637208_74a9_11ea_ae60_c49ded93ade6row4_col10\" class=\"data row4 col10\" >777</td>\n",
       "                        <td id=\"T_22637208_74a9_11ea_ae60_c49ded93ade6row4_col11\" class=\"data row4 col11\" >1,159</td>\n",
       "                        <td id=\"T_22637208_74a9_11ea_ae60_c49ded93ade6row4_col12\" class=\"data row4 col12\" >1,838</td>\n",
       "                        <td id=\"T_22637208_74a9_11ea_ae60_c49ded93ade6row4_col13\" class=\"data row4 col13\" >2,417</td>\n",
       "                        <td id=\"T_22637208_74a9_11ea_ae60_c49ded93ade6row4_col14\" class=\"data row4 col14\" >3,240</td>\n",
       "                        <td id=\"T_22637208_74a9_11ea_ae60_c49ded93ade6row4_col15\" class=\"data row4 col15\" >4,257</td>\n",
       "                        <td id=\"T_22637208_74a9_11ea_ae60_c49ded93ade6row4_col16\" class=\"data row4 col16\" >4,955</td>\n",
       "                        <td id=\"T_22637208_74a9_11ea_ae60_c49ded93ade6row4_col17\" class=\"data row4 col17\" >5,752</td>\n",
       "                        <td id=\"T_22637208_74a9_11ea_ae60_c49ded93ade6row4_col18\" class=\"data row4 col18\" >6,620</td>\n",
       "                        <td id=\"T_22637208_74a9_11ea_ae60_c49ded93ade6row4_col19\" class=\"data row4 col19\" >7,738</td>\n",
       "                        <td id=\"T_22637208_74a9_11ea_ae60_c49ded93ade6row4_col20\" class=\"data row4 col20\" >4%</td>\n",
       "            </tr>\n",
       "            <tr>\n",
       "                        <th id=\"T_22637208_74a9_11ea_ae60_c49ded93ade6level0_row5\" class=\"row_heading level0 row5\" >Illinois</th>\n",
       "                        <td id=\"T_22637208_74a9_11ea_ae60_c49ded93ade6row5_col0\" class=\"data row5 col0\" >46</td>\n",
       "                        <td id=\"T_22637208_74a9_11ea_ae60_c49ded93ade6row5_col1\" class=\"data row5 col1\" >64</td>\n",
       "                        <td id=\"T_22637208_74a9_11ea_ae60_c49ded93ade6row5_col2\" class=\"data row5 col2\" >66</td>\n",
       "                        <td id=\"T_22637208_74a9_11ea_ae60_c49ded93ade6row5_col3\" class=\"data row5 col3\" >83</td>\n",
       "                        <td id=\"T_22637208_74a9_11ea_ae60_c49ded93ade6row5_col4\" class=\"data row5 col4\" >161</td>\n",
       "                        <td id=\"T_22637208_74a9_11ea_ae60_c49ded93ade6row5_col5\" class=\"data row5 col5\" >272</td>\n",
       "                        <td id=\"T_22637208_74a9_11ea_ae60_c49ded93ade6row5_col6\" class=\"data row5 col6\" >422</td>\n",
       "                        <td id=\"T_22637208_74a9_11ea_ae60_c49ded93ade6row5_col7\" class=\"data row5 col7\" >585</td>\n",
       "                        <td id=\"T_22637208_74a9_11ea_ae60_c49ded93ade6row5_col8\" class=\"data row5 col8\" >753</td>\n",
       "                        <td id=\"T_22637208_74a9_11ea_ae60_c49ded93ade6row5_col9\" class=\"data row5 col9\" >1,049</td>\n",
       "                        <td id=\"T_22637208_74a9_11ea_ae60_c49ded93ade6row5_col10\" class=\"data row5 col10\" >1,285</td>\n",
       "                        <td id=\"T_22637208_74a9_11ea_ae60_c49ded93ade6row5_col11\" class=\"data row5 col11\" >1,537</td>\n",
       "                        <td id=\"T_22637208_74a9_11ea_ae60_c49ded93ade6row5_col12\" class=\"data row5 col12\" >1,865</td>\n",
       "                        <td id=\"T_22637208_74a9_11ea_ae60_c49ded93ade6row5_col13\" class=\"data row5 col13\" >2,538</td>\n",
       "                        <td id=\"T_22637208_74a9_11ea_ae60_c49ded93ade6row5_col14\" class=\"data row5 col14\" >3,024</td>\n",
       "                        <td id=\"T_22637208_74a9_11ea_ae60_c49ded93ade6row5_col15\" class=\"data row5 col15\" >3,491</td>\n",
       "                        <td id=\"T_22637208_74a9_11ea_ae60_c49ded93ade6row5_col16\" class=\"data row5 col16\" >4,596</td>\n",
       "                        <td id=\"T_22637208_74a9_11ea_ae60_c49ded93ade6row5_col17\" class=\"data row5 col17\" >5,056</td>\n",
       "                        <td id=\"T_22637208_74a9_11ea_ae60_c49ded93ade6row5_col18\" class=\"data row5 col18\" >5,994</td>\n",
       "                        <td id=\"T_22637208_74a9_11ea_ae60_c49ded93ade6row5_col19\" class=\"data row5 col19\" >6,980</td>\n",
       "                        <td id=\"T_22637208_74a9_11ea_ae60_c49ded93ade6row5_col20\" class=\"data row5 col20\" >3%</td>\n",
       "            </tr>\n",
       "            <tr>\n",
       "                        <th id=\"T_22637208_74a9_11ea_ae60_c49ded93ade6level0_row6\" class=\"row_heading level0 row6\" >Florida</th>\n",
       "                        <td id=\"T_22637208_74a9_11ea_ae60_c49ded93ade6row6_col0\" class=\"data row6 col0\" >50</td>\n",
       "                        <td id=\"T_22637208_74a9_11ea_ae60_c49ded93ade6row6_col1\" class=\"data row6 col1\" >76</td>\n",
       "                        <td id=\"T_22637208_74a9_11ea_ae60_c49ded93ade6row6_col2\" class=\"data row6 col2\" >100</td>\n",
       "                        <td id=\"T_22637208_74a9_11ea_ae60_c49ded93ade6row6_col3\" class=\"data row6 col3\" >101</td>\n",
       "                        <td id=\"T_22637208_74a9_11ea_ae60_c49ded93ade6row6_col4\" class=\"data row6 col4\" >190</td>\n",
       "                        <td id=\"T_22637208_74a9_11ea_ae60_c49ded93ade6row6_col5\" class=\"data row6 col5\" >306</td>\n",
       "                        <td id=\"T_22637208_74a9_11ea_ae60_c49ded93ade6row6_col6\" class=\"data row6 col6\" >331</td>\n",
       "                        <td id=\"T_22637208_74a9_11ea_ae60_c49ded93ade6row6_col7\" class=\"data row6 col7\" >440</td>\n",
       "                        <td id=\"T_22637208_74a9_11ea_ae60_c49ded93ade6row6_col8\" class=\"data row6 col8\" >763</td>\n",
       "                        <td id=\"T_22637208_74a9_11ea_ae60_c49ded93ade6row6_col9\" class=\"data row6 col9\" >1,004</td>\n",
       "                        <td id=\"T_22637208_74a9_11ea_ae60_c49ded93ade6row6_col10\" class=\"data row6 col10\" >1,227</td>\n",
       "                        <td id=\"T_22637208_74a9_11ea_ae60_c49ded93ade6row6_col11\" class=\"data row6 col11\" >1,412</td>\n",
       "                        <td id=\"T_22637208_74a9_11ea_ae60_c49ded93ade6row6_col12\" class=\"data row6 col12\" >1,682</td>\n",
       "                        <td id=\"T_22637208_74a9_11ea_ae60_c49ded93ade6row6_col13\" class=\"data row6 col13\" >2,357</td>\n",
       "                        <td id=\"T_22637208_74a9_11ea_ae60_c49ded93ade6row6_col14\" class=\"data row6 col14\" >2,900</td>\n",
       "                        <td id=\"T_22637208_74a9_11ea_ae60_c49ded93ade6row6_col15\" class=\"data row6 col15\" >3,763</td>\n",
       "                        <td id=\"T_22637208_74a9_11ea_ae60_c49ded93ade6row6_col16\" class=\"data row6 col16\" >4,246</td>\n",
       "                        <td id=\"T_22637208_74a9_11ea_ae60_c49ded93ade6row6_col17\" class=\"data row6 col17\" >5,473</td>\n",
       "                        <td id=\"T_22637208_74a9_11ea_ae60_c49ded93ade6row6_col18\" class=\"data row6 col18\" >6,741</td>\n",
       "                        <td id=\"T_22637208_74a9_11ea_ae60_c49ded93ade6row6_col19\" class=\"data row6 col19\" >6,956</td>\n",
       "                        <td id=\"T_22637208_74a9_11ea_ae60_c49ded93ade6row6_col20\" class=\"data row6 col20\" >3%</td>\n",
       "            </tr>\n",
       "            <tr>\n",
       "                        <th id=\"T_22637208_74a9_11ea_ae60_c49ded93ade6level0_row7\" class=\"row_heading level0 row7\" >Louisiana</th>\n",
       "                        <td id=\"T_22637208_74a9_11ea_ae60_c49ded93ade6row7_col0\" class=\"data row7 col0\" >29</td>\n",
       "                        <td id=\"T_22637208_74a9_11ea_ae60_c49ded93ade6row7_col1\" class=\"data row7 col1\" >77</td>\n",
       "                        <td id=\"T_22637208_74a9_11ea_ae60_c49ded93ade6row7_col2\" class=\"data row7 col2\" >87</td>\n",
       "                        <td id=\"T_22637208_74a9_11ea_ae60_c49ded93ade6row7_col3\" class=\"data row7 col3\" >115</td>\n",
       "                        <td id=\"T_22637208_74a9_11ea_ae60_c49ded93ade6row7_col4\" class=\"data row7 col4\" >196</td>\n",
       "                        <td id=\"T_22637208_74a9_11ea_ae60_c49ded93ade6row7_col5\" class=\"data row7 col5\" >257</td>\n",
       "                        <td id=\"T_22637208_74a9_11ea_ae60_c49ded93ade6row7_col6\" class=\"data row7 col6\" >392</td>\n",
       "                        <td id=\"T_22637208_74a9_11ea_ae60_c49ded93ade6row7_col7\" class=\"data row7 col7\" >537</td>\n",
       "                        <td id=\"T_22637208_74a9_11ea_ae60_c49ded93ade6row7_col8\" class=\"data row7 col8\" >763</td>\n",
       "                        <td id=\"T_22637208_74a9_11ea_ae60_c49ded93ade6row7_col9\" class=\"data row7 col9\" >837</td>\n",
       "                        <td id=\"T_22637208_74a9_11ea_ae60_c49ded93ade6row7_col10\" class=\"data row7 col10\" >1,172</td>\n",
       "                        <td id=\"T_22637208_74a9_11ea_ae60_c49ded93ade6row7_col11\" class=\"data row7 col11\" >1,388</td>\n",
       "                        <td id=\"T_22637208_74a9_11ea_ae60_c49ded93ade6row7_col12\" class=\"data row7 col12\" >1,795</td>\n",
       "                        <td id=\"T_22637208_74a9_11ea_ae60_c49ded93ade6row7_col13\" class=\"data row7 col13\" >2,304</td>\n",
       "                        <td id=\"T_22637208_74a9_11ea_ae60_c49ded93ade6row7_col14\" class=\"data row7 col14\" >2,744</td>\n",
       "                        <td id=\"T_22637208_74a9_11ea_ae60_c49ded93ade6row7_col15\" class=\"data row7 col15\" >3,315</td>\n",
       "                        <td id=\"T_22637208_74a9_11ea_ae60_c49ded93ade6row7_col16\" class=\"data row7 col16\" >3,540</td>\n",
       "                        <td id=\"T_22637208_74a9_11ea_ae60_c49ded93ade6row7_col17\" class=\"data row7 col17\" >4,025</td>\n",
       "                        <td id=\"T_22637208_74a9_11ea_ae60_c49ded93ade6row7_col18\" class=\"data row7 col18\" >5,237</td>\n",
       "                        <td id=\"T_22637208_74a9_11ea_ae60_c49ded93ade6row7_col19\" class=\"data row7 col19\" >6,424</td>\n",
       "                        <td id=\"T_22637208_74a9_11ea_ae60_c49ded93ade6row7_col20\" class=\"data row7 col20\" >3%</td>\n",
       "            </tr>\n",
       "            <tr>\n",
       "                        <th id=\"T_22637208_74a9_11ea_ae60_c49ded93ade6level0_row8\" class=\"row_heading level0 row8\" >Pennsylvania</th>\n",
       "                        <td id=\"T_22637208_74a9_11ea_ae60_c49ded93ade6row8_col0\" class=\"data row8 col0\" >41</td>\n",
       "                        <td id=\"T_22637208_74a9_11ea_ae60_c49ded93ade6row8_col1\" class=\"data row8 col1\" >47</td>\n",
       "                        <td id=\"T_22637208_74a9_11ea_ae60_c49ded93ade6row8_col2\" class=\"data row8 col2\" >47</td>\n",
       "                        <td id=\"T_22637208_74a9_11ea_ae60_c49ded93ade6row8_col3\" class=\"data row8 col3\" >79</td>\n",
       "                        <td id=\"T_22637208_74a9_11ea_ae60_c49ded93ade6row8_col4\" class=\"data row8 col4\" >112</td>\n",
       "                        <td id=\"T_22637208_74a9_11ea_ae60_c49ded93ade6row8_col5\" class=\"data row8 col5\" >155</td>\n",
       "                        <td id=\"T_22637208_74a9_11ea_ae60_c49ded93ade6row8_col6\" class=\"data row8 col6\" >206</td>\n",
       "                        <td id=\"T_22637208_74a9_11ea_ae60_c49ded93ade6row8_col7\" class=\"data row8 col7\" >311</td>\n",
       "                        <td id=\"T_22637208_74a9_11ea_ae60_c49ded93ade6row8_col8\" class=\"data row8 col8\" >399</td>\n",
       "                        <td id=\"T_22637208_74a9_11ea_ae60_c49ded93ade6row8_col9\" class=\"data row8 col9\" >509</td>\n",
       "                        <td id=\"T_22637208_74a9_11ea_ae60_c49ded93ade6row8_col10\" class=\"data row8 col10\" >698</td>\n",
       "                        <td id=\"T_22637208_74a9_11ea_ae60_c49ded93ade6row8_col11\" class=\"data row8 col11\" >946</td>\n",
       "                        <td id=\"T_22637208_74a9_11ea_ae60_c49ded93ade6row8_col12\" class=\"data row8 col12\" >1,260</td>\n",
       "                        <td id=\"T_22637208_74a9_11ea_ae60_c49ded93ade6row8_col13\" class=\"data row8 col13\" >1,795</td>\n",
       "                        <td id=\"T_22637208_74a9_11ea_ae60_c49ded93ade6row8_col14\" class=\"data row8 col14\" >2,345</td>\n",
       "                        <td id=\"T_22637208_74a9_11ea_ae60_c49ded93ade6row8_col15\" class=\"data row8 col15\" >2,845</td>\n",
       "                        <td id=\"T_22637208_74a9_11ea_ae60_c49ded93ade6row8_col16\" class=\"data row8 col16\" >3,432</td>\n",
       "                        <td id=\"T_22637208_74a9_11ea_ae60_c49ded93ade6row8_col17\" class=\"data row8 col17\" >4,155</td>\n",
       "                        <td id=\"T_22637208_74a9_11ea_ae60_c49ded93ade6row8_col18\" class=\"data row8 col18\" >4,963</td>\n",
       "                        <td id=\"T_22637208_74a9_11ea_ae60_c49ded93ade6row8_col19\" class=\"data row8 col19\" >6,009</td>\n",
       "                        <td id=\"T_22637208_74a9_11ea_ae60_c49ded93ade6row8_col20\" class=\"data row8 col20\" >3%</td>\n",
       "            </tr>\n",
       "            <tr>\n",
       "                        <th id=\"T_22637208_74a9_11ea_ae60_c49ded93ade6level0_row9\" class=\"row_heading level0 row9\" >Washington</th>\n",
       "                        <td id=\"T_22637208_74a9_11ea_ae60_c49ded93ade6row9_col0\" class=\"data row9 col0\" >568</td>\n",
       "                        <td id=\"T_22637208_74a9_11ea_ae60_c49ded93ade6row9_col1\" class=\"data row9 col1\" >642</td>\n",
       "                        <td id=\"T_22637208_74a9_11ea_ae60_c49ded93ade6row9_col2\" class=\"data row9 col2\" >603</td>\n",
       "                        <td id=\"T_22637208_74a9_11ea_ae60_c49ded93ade6row9_col3\" class=\"data row9 col3\" >779</td>\n",
       "                        <td id=\"T_22637208_74a9_11ea_ae60_c49ded93ade6row9_col4\" class=\"data row9 col4\" >955</td>\n",
       "                        <td id=\"T_22637208_74a9_11ea_ae60_c49ded93ade6row9_col5\" class=\"data row9 col5\" >1,022</td>\n",
       "                        <td id=\"T_22637208_74a9_11ea_ae60_c49ded93ade6row9_col6\" class=\"data row9 col6\" >1,374</td>\n",
       "                        <td id=\"T_22637208_74a9_11ea_ae60_c49ded93ade6row9_col7\" class=\"data row9 col7\" >1,524</td>\n",
       "                        <td id=\"T_22637208_74a9_11ea_ae60_c49ded93ade6row9_col8\" class=\"data row9 col8\" >1,793</td>\n",
       "                        <td id=\"T_22637208_74a9_11ea_ae60_c49ded93ade6row9_col9\" class=\"data row9 col9\" >1,997</td>\n",
       "                        <td id=\"T_22637208_74a9_11ea_ae60_c49ded93ade6row9_col10\" class=\"data row9 col10\" >2,221</td>\n",
       "                        <td id=\"T_22637208_74a9_11ea_ae60_c49ded93ade6row9_col11\" class=\"data row9 col11\" >2,328</td>\n",
       "                        <td id=\"T_22637208_74a9_11ea_ae60_c49ded93ade6row9_col12\" class=\"data row9 col12\" >2,591</td>\n",
       "                        <td id=\"T_22637208_74a9_11ea_ae60_c49ded93ade6row9_col13\" class=\"data row9 col13\" >3,207</td>\n",
       "                        <td id=\"T_22637208_74a9_11ea_ae60_c49ded93ade6row9_col14\" class=\"data row9 col14\" >3,477</td>\n",
       "                        <td id=\"T_22637208_74a9_11ea_ae60_c49ded93ade6row9_col15\" class=\"data row9 col15\" >4,030</td>\n",
       "                        <td id=\"T_22637208_74a9_11ea_ae60_c49ded93ade6row9_col16\" class=\"data row9 col16\" >4,465</td>\n",
       "                        <td id=\"T_22637208_74a9_11ea_ae60_c49ded93ade6row9_col17\" class=\"data row9 col17\" >4,923</td>\n",
       "                        <td id=\"T_22637208_74a9_11ea_ae60_c49ded93ade6row9_col18\" class=\"data row9 col18\" >5,432</td>\n",
       "                        <td id=\"T_22637208_74a9_11ea_ae60_c49ded93ade6row9_col19\" class=\"data row9 col19\" >5,608</td>\n",
       "                        <td id=\"T_22637208_74a9_11ea_ae60_c49ded93ade6row9_col20\" class=\"data row9 col20\" >3%</td>\n",
       "            </tr>\n",
       "    </tbody></table>"
      ],
      "text/plain": [
       "<pandas.io.formats.style.Styler at 0xdc35c70>"
      ]
     },
     "execution_count": 23,
     "metadata": {},
     "output_type": "execute_result"
    }
   ],
   "source": [
    "dfUSConfirmedTop = dfConfirmedUSStates.sort_values(dfConfirmedUSStates.columns[-1], ascending=False).head(10)\n",
    "\n",
    "data = [{\n",
    "    'x': row[1].index[-DEFAULT_DAYS:],\n",
    "    'y': row[1].values[-DEFAULT_DAYS:],\n",
    "    'name': row[0]\n",
    "}  for row in dfUSConfirmedTop.iterrows()]\n",
    "\n",
    "layout = dict(title = 'US States - Confirmed Cases', updatemenus=LogLinearScale)\n",
    "py.iplot(dict(data=data, layout=layout))\n",
    "dfUSConfirmedTop = dfUSConfirmedTop[dfUSConfirmedTop.columns[-DEFAULT_DAYS:]]\n",
    "dfUSConfirmedTop['percent_of_total'] = dfConfirmedUSStates[dfConfirmedUSStates.columns[-1]]/sum(dfConfirmedUSStates[dfConfirmedUSStates.columns[-1]])\n",
    "\n",
    "colFormats = dict.fromkeys(list(a for a in dfUSConfirmedTop.columns[1:]), IntegerFormatter)\n",
    "colFormats['percent_of_total'] = PercentFormatter\n",
    "dfUSConfirmedTop.style.format(colFormats)"
   ]
  },
  {
   "cell_type": "code",
   "execution_count": 24,
   "metadata": {
    "ExecuteTime": {
     "end_time": "2020-04-02T06:13:57.084908Z",
     "start_time": "2020-04-02T06:13:56.379910Z"
    },
    "extensions": {
     "jupyter_dashboards": {
      "version": 1,
      "views": {
       "grid_default": {
        "col": 0,
        "height": 30,
        "hidden": false,
        "row": 56,
        "width": null
       },
       "report_default": {
        "hidden": false
       }
      }
     }
    }
   },
   "outputs": [
    {
     "data": {
      "application/vnd.plotly.v1+json": {
       "config": {
        "linkText": "Export to plot.ly",
        "plotlyServerURL": "https://plot.ly",
        "showLink": false
       },
       "data": [
        {
         "name": "New York",
         "type": "scatter",
         "x": [
          "3/2/20",
          "3/3/20",
          "3/4/20",
          "3/5/20",
          "3/6/20",
          "3/7/20",
          "3/8/20",
          "3/9/20",
          "3/10/20",
          "3/11/20",
          "3/12/20",
          "3/13/20",
          "3/14/20",
          "3/15/20",
          "3/16/20",
          "3/17/20",
          "3/18/20",
          "3/19/20",
          "3/20/20",
          "3/21/20",
          "3/22/20",
          "3/23/20",
          "3/24/20",
          "3/25/20",
          "3/26/20",
          "3/27/20",
          "3/28/20",
          "3/29/20",
          "3/30/20",
          "3/31/20",
          "4/1/20"
         ],
         "y": [
          0,
          0,
          0,
          0,
          0,
          0,
          0,
          0,
          0,
          0,
          0,
          0,
          2,
          2,
          10,
          13,
          17,
          38,
          46,
          60,
          117,
          158,
          210,
          285,
          385,
          527,
          728,
          965,
          1218,
          1550,
          1941
         ]
        },
        {
         "name": "New Jersey",
         "type": "scatter",
         "x": [
          "3/2/20",
          "3/3/20",
          "3/4/20",
          "3/5/20",
          "3/6/20",
          "3/7/20",
          "3/8/20",
          "3/9/20",
          "3/10/20",
          "3/11/20",
          "3/12/20",
          "3/13/20",
          "3/14/20",
          "3/15/20",
          "3/16/20",
          "3/17/20",
          "3/18/20",
          "3/19/20",
          "3/20/20",
          "3/21/20",
          "3/22/20",
          "3/23/20",
          "3/24/20",
          "3/25/20",
          "3/26/20",
          "3/27/20",
          "3/28/20",
          "3/29/20",
          "3/30/20",
          "3/31/20",
          "4/1/20"
         ],
         "y": [
          0,
          0,
          0,
          0,
          0,
          0,
          0,
          0,
          1,
          1,
          1,
          1,
          1,
          2,
          2,
          3,
          5,
          9,
          11,
          16,
          20,
          27,
          44,
          62,
          81,
          108,
          140,
          161,
          198,
          267,
          355
         ]
        },
        {
         "name": "Michigan",
         "type": "scatter",
         "x": [
          "3/2/20",
          "3/3/20",
          "3/4/20",
          "3/5/20",
          "3/6/20",
          "3/7/20",
          "3/8/20",
          "3/9/20",
          "3/10/20",
          "3/11/20",
          "3/12/20",
          "3/13/20",
          "3/14/20",
          "3/15/20",
          "3/16/20",
          "3/17/20",
          "3/18/20",
          "3/19/20",
          "3/20/20",
          "3/21/20",
          "3/22/20",
          "3/23/20",
          "3/24/20",
          "3/25/20",
          "3/26/20",
          "3/27/20",
          "3/28/20",
          "3/29/20",
          "3/30/20",
          "3/31/20",
          "4/1/20"
         ],
         "y": [
          0,
          0,
          0,
          0,
          0,
          0,
          0,
          0,
          0,
          0,
          0,
          0,
          0,
          0,
          0,
          0,
          1,
          1,
          1,
          3,
          9,
          15,
          24,
          43,
          61,
          92,
          111,
          132,
          184,
          259,
          335
         ]
        },
        {
         "name": "Louisiana",
         "type": "scatter",
         "x": [
          "3/2/20",
          "3/3/20",
          "3/4/20",
          "3/5/20",
          "3/6/20",
          "3/7/20",
          "3/8/20",
          "3/9/20",
          "3/10/20",
          "3/11/20",
          "3/12/20",
          "3/13/20",
          "3/14/20",
          "3/15/20",
          "3/16/20",
          "3/17/20",
          "3/18/20",
          "3/19/20",
          "3/20/20",
          "3/21/20",
          "3/22/20",
          "3/23/20",
          "3/24/20",
          "3/25/20",
          "3/26/20",
          "3/27/20",
          "3/28/20",
          "3/29/20",
          "3/30/20",
          "3/31/20",
          "4/1/20"
         ],
         "y": [
          0,
          0,
          0,
          0,
          0,
          0,
          0,
          0,
          0,
          0,
          0,
          0,
          1,
          2,
          3,
          4,
          6,
          10,
          14,
          20,
          20,
          35,
          46,
          65,
          83,
          119,
          137,
          151,
          185,
          239,
          273
         ]
        },
        {
         "name": "Washington",
         "type": "scatter",
         "x": [
          "3/2/20",
          "3/3/20",
          "3/4/20",
          "3/5/20",
          "3/6/20",
          "3/7/20",
          "3/8/20",
          "3/9/20",
          "3/10/20",
          "3/11/20",
          "3/12/20",
          "3/13/20",
          "3/14/20",
          "3/15/20",
          "3/16/20",
          "3/17/20",
          "3/18/20",
          "3/19/20",
          "3/20/20",
          "3/21/20",
          "3/22/20",
          "3/23/20",
          "3/24/20",
          "3/25/20",
          "3/26/20",
          "3/27/20",
          "3/28/20",
          "3/29/20",
          "3/30/20",
          "3/31/20",
          "4/1/20"
         ],
         "y": [
          6,
          7,
          10,
          11,
          13,
          16,
          18,
          19,
          23,
          24,
          31,
          37,
          39,
          40,
          48,
          55,
          67,
          73,
          83,
          94,
          97,
          109,
          116,
          133,
          150,
          157,
          188,
          198,
          205,
          225,
          234
         ]
        },
        {
         "name": "California",
         "type": "scatter",
         "x": [
          "3/2/20",
          "3/3/20",
          "3/4/20",
          "3/5/20",
          "3/6/20",
          "3/7/20",
          "3/8/20",
          "3/9/20",
          "3/10/20",
          "3/11/20",
          "3/12/20",
          "3/13/20",
          "3/14/20",
          "3/15/20",
          "3/16/20",
          "3/17/20",
          "3/18/20",
          "3/19/20",
          "3/20/20",
          "3/21/20",
          "3/22/20",
          "3/23/20",
          "3/24/20",
          "3/25/20",
          "3/26/20",
          "3/27/20",
          "3/28/20",
          "3/29/20",
          "3/30/20",
          "3/31/20",
          "4/1/20"
         ],
         "y": [
          0,
          0,
          1,
          1,
          1,
          1,
          1,
          1,
          2,
          4,
          4,
          4,
          3,
          5,
          7,
          12,
          16,
          18,
          24,
          25,
          30,
          39,
          50,
          65,
          81,
          94,
          110,
          124,
          146,
          173,
          199
         ]
        },
        {
         "name": "Illinois",
         "type": "scatter",
         "x": [
          "3/2/20",
          "3/3/20",
          "3/4/20",
          "3/5/20",
          "3/6/20",
          "3/7/20",
          "3/8/20",
          "3/9/20",
          "3/10/20",
          "3/11/20",
          "3/12/20",
          "3/13/20",
          "3/14/20",
          "3/15/20",
          "3/16/20",
          "3/17/20",
          "3/18/20",
          "3/19/20",
          "3/20/20",
          "3/21/20",
          "3/22/20",
          "3/23/20",
          "3/24/20",
          "3/25/20",
          "3/26/20",
          "3/27/20",
          "3/28/20",
          "3/29/20",
          "3/30/20",
          "3/31/20",
          "4/1/20"
         ],
         "y": [
          0,
          0,
          0,
          0,
          0,
          0,
          0,
          0,
          0,
          0,
          0,
          0,
          0,
          0,
          0,
          1,
          1,
          4,
          5,
          6,
          9,
          12,
          16,
          19,
          26,
          34,
          47,
          66,
          73,
          99,
          141
         ]
        },
        {
         "name": "Georgia",
         "type": "scatter",
         "x": [
          "3/2/20",
          "3/3/20",
          "3/4/20",
          "3/5/20",
          "3/6/20",
          "3/7/20",
          "3/8/20",
          "3/9/20",
          "3/10/20",
          "3/11/20",
          "3/12/20",
          "3/13/20",
          "3/14/20",
          "3/15/20",
          "3/16/20",
          "3/17/20",
          "3/18/20",
          "3/19/20",
          "3/20/20",
          "3/21/20",
          "3/22/20",
          "3/23/20",
          "3/24/20",
          "3/25/20",
          "3/26/20",
          "3/27/20",
          "3/28/20",
          "3/29/20",
          "3/30/20",
          "3/31/20",
          "4/1/20"
         ],
         "y": [
          0,
          0,
          0,
          0,
          0,
          0,
          0,
          0,
          0,
          0,
          1,
          1,
          1,
          1,
          1,
          1,
          3,
          10,
          14,
          20,
          25,
          25,
          32,
          40,
          48,
          64,
          69,
          80,
          87,
          111,
          139
         ]
        },
        {
         "name": "Massachusetts",
         "type": "scatter",
         "x": [
          "3/2/20",
          "3/3/20",
          "3/4/20",
          "3/5/20",
          "3/6/20",
          "3/7/20",
          "3/8/20",
          "3/9/20",
          "3/10/20",
          "3/11/20",
          "3/12/20",
          "3/13/20",
          "3/14/20",
          "3/15/20",
          "3/16/20",
          "3/17/20",
          "3/18/20",
          "3/19/20",
          "3/20/20",
          "3/21/20",
          "3/22/20",
          "3/23/20",
          "3/24/20",
          "3/25/20",
          "3/26/20",
          "3/27/20",
          "3/28/20",
          "3/29/20",
          "3/30/20",
          "3/31/20",
          "4/1/20"
         ],
         "y": [
          0,
          0,
          0,
          0,
          0,
          0,
          0,
          0,
          0,
          0,
          0,
          0,
          0,
          0,
          0,
          0,
          0,
          0,
          1,
          1,
          5,
          9,
          11,
          15,
          25,
          35,
          44,
          48,
          56,
          89,
          122
         ]
        },
        {
         "name": "Florida",
         "type": "scatter",
         "x": [
          "3/2/20",
          "3/3/20",
          "3/4/20",
          "3/5/20",
          "3/6/20",
          "3/7/20",
          "3/8/20",
          "3/9/20",
          "3/10/20",
          "3/11/20",
          "3/12/20",
          "3/13/20",
          "3/14/20",
          "3/15/20",
          "3/16/20",
          "3/17/20",
          "3/18/20",
          "3/19/20",
          "3/20/20",
          "3/21/20",
          "3/22/20",
          "3/23/20",
          "3/24/20",
          "3/25/20",
          "3/26/20",
          "3/27/20",
          "3/28/20",
          "3/29/20",
          "3/30/20",
          "3/31/20",
          "4/1/20"
         ],
         "y": [
          0,
          0,
          0,
          0,
          0,
          0,
          2,
          2,
          2,
          2,
          2,
          2,
          2,
          3,
          3,
          5,
          7,
          9,
          11,
          13,
          13,
          18,
          18,
          23,
          29,
          35,
          54,
          56,
          63,
          85,
          87
         ]
        }
       ],
       "layout": {
        "template": {
         "data": {
          "bar": [
           {
            "error_x": {
             "color": "#2a3f5f"
            },
            "error_y": {
             "color": "#2a3f5f"
            },
            "marker": {
             "line": {
              "color": "#E5ECF6",
              "width": 0.5
             }
            },
            "type": "bar"
           }
          ],
          "barpolar": [
           {
            "marker": {
             "line": {
              "color": "#E5ECF6",
              "width": 0.5
             }
            },
            "type": "barpolar"
           }
          ],
          "carpet": [
           {
            "aaxis": {
             "endlinecolor": "#2a3f5f",
             "gridcolor": "white",
             "linecolor": "white",
             "minorgridcolor": "white",
             "startlinecolor": "#2a3f5f"
            },
            "baxis": {
             "endlinecolor": "#2a3f5f",
             "gridcolor": "white",
             "linecolor": "white",
             "minorgridcolor": "white",
             "startlinecolor": "#2a3f5f"
            },
            "type": "carpet"
           }
          ],
          "choropleth": [
           {
            "colorbar": {
             "outlinewidth": 0,
             "ticks": ""
            },
            "type": "choropleth"
           }
          ],
          "contour": [
           {
            "colorbar": {
             "outlinewidth": 0,
             "ticks": ""
            },
            "colorscale": [
             [
              0,
              "#0d0887"
             ],
             [
              0.1111111111111111,
              "#46039f"
             ],
             [
              0.2222222222222222,
              "#7201a8"
             ],
             [
              0.3333333333333333,
              "#9c179e"
             ],
             [
              0.4444444444444444,
              "#bd3786"
             ],
             [
              0.5555555555555556,
              "#d8576b"
             ],
             [
              0.6666666666666666,
              "#ed7953"
             ],
             [
              0.7777777777777778,
              "#fb9f3a"
             ],
             [
              0.8888888888888888,
              "#fdca26"
             ],
             [
              1,
              "#f0f921"
             ]
            ],
            "type": "contour"
           }
          ],
          "contourcarpet": [
           {
            "colorbar": {
             "outlinewidth": 0,
             "ticks": ""
            },
            "type": "contourcarpet"
           }
          ],
          "heatmap": [
           {
            "colorbar": {
             "outlinewidth": 0,
             "ticks": ""
            },
            "colorscale": [
             [
              0,
              "#0d0887"
             ],
             [
              0.1111111111111111,
              "#46039f"
             ],
             [
              0.2222222222222222,
              "#7201a8"
             ],
             [
              0.3333333333333333,
              "#9c179e"
             ],
             [
              0.4444444444444444,
              "#bd3786"
             ],
             [
              0.5555555555555556,
              "#d8576b"
             ],
             [
              0.6666666666666666,
              "#ed7953"
             ],
             [
              0.7777777777777778,
              "#fb9f3a"
             ],
             [
              0.8888888888888888,
              "#fdca26"
             ],
             [
              1,
              "#f0f921"
             ]
            ],
            "type": "heatmap"
           }
          ],
          "heatmapgl": [
           {
            "colorbar": {
             "outlinewidth": 0,
             "ticks": ""
            },
            "colorscale": [
             [
              0,
              "#0d0887"
             ],
             [
              0.1111111111111111,
              "#46039f"
             ],
             [
              0.2222222222222222,
              "#7201a8"
             ],
             [
              0.3333333333333333,
              "#9c179e"
             ],
             [
              0.4444444444444444,
              "#bd3786"
             ],
             [
              0.5555555555555556,
              "#d8576b"
             ],
             [
              0.6666666666666666,
              "#ed7953"
             ],
             [
              0.7777777777777778,
              "#fb9f3a"
             ],
             [
              0.8888888888888888,
              "#fdca26"
             ],
             [
              1,
              "#f0f921"
             ]
            ],
            "type": "heatmapgl"
           }
          ],
          "histogram": [
           {
            "marker": {
             "colorbar": {
              "outlinewidth": 0,
              "ticks": ""
             }
            },
            "type": "histogram"
           }
          ],
          "histogram2d": [
           {
            "colorbar": {
             "outlinewidth": 0,
             "ticks": ""
            },
            "colorscale": [
             [
              0,
              "#0d0887"
             ],
             [
              0.1111111111111111,
              "#46039f"
             ],
             [
              0.2222222222222222,
              "#7201a8"
             ],
             [
              0.3333333333333333,
              "#9c179e"
             ],
             [
              0.4444444444444444,
              "#bd3786"
             ],
             [
              0.5555555555555556,
              "#d8576b"
             ],
             [
              0.6666666666666666,
              "#ed7953"
             ],
             [
              0.7777777777777778,
              "#fb9f3a"
             ],
             [
              0.8888888888888888,
              "#fdca26"
             ],
             [
              1,
              "#f0f921"
             ]
            ],
            "type": "histogram2d"
           }
          ],
          "histogram2dcontour": [
           {
            "colorbar": {
             "outlinewidth": 0,
             "ticks": ""
            },
            "colorscale": [
             [
              0,
              "#0d0887"
             ],
             [
              0.1111111111111111,
              "#46039f"
             ],
             [
              0.2222222222222222,
              "#7201a8"
             ],
             [
              0.3333333333333333,
              "#9c179e"
             ],
             [
              0.4444444444444444,
              "#bd3786"
             ],
             [
              0.5555555555555556,
              "#d8576b"
             ],
             [
              0.6666666666666666,
              "#ed7953"
             ],
             [
              0.7777777777777778,
              "#fb9f3a"
             ],
             [
              0.8888888888888888,
              "#fdca26"
             ],
             [
              1,
              "#f0f921"
             ]
            ],
            "type": "histogram2dcontour"
           }
          ],
          "mesh3d": [
           {
            "colorbar": {
             "outlinewidth": 0,
             "ticks": ""
            },
            "type": "mesh3d"
           }
          ],
          "parcoords": [
           {
            "line": {
             "colorbar": {
              "outlinewidth": 0,
              "ticks": ""
             }
            },
            "type": "parcoords"
           }
          ],
          "pie": [
           {
            "automargin": true,
            "type": "pie"
           }
          ],
          "scatter": [
           {
            "marker": {
             "colorbar": {
              "outlinewidth": 0,
              "ticks": ""
             }
            },
            "type": "scatter"
           }
          ],
          "scatter3d": [
           {
            "line": {
             "colorbar": {
              "outlinewidth": 0,
              "ticks": ""
             }
            },
            "marker": {
             "colorbar": {
              "outlinewidth": 0,
              "ticks": ""
             }
            },
            "type": "scatter3d"
           }
          ],
          "scattercarpet": [
           {
            "marker": {
             "colorbar": {
              "outlinewidth": 0,
              "ticks": ""
             }
            },
            "type": "scattercarpet"
           }
          ],
          "scattergeo": [
           {
            "marker": {
             "colorbar": {
              "outlinewidth": 0,
              "ticks": ""
             }
            },
            "type": "scattergeo"
           }
          ],
          "scattergl": [
           {
            "marker": {
             "colorbar": {
              "outlinewidth": 0,
              "ticks": ""
             }
            },
            "type": "scattergl"
           }
          ],
          "scattermapbox": [
           {
            "marker": {
             "colorbar": {
              "outlinewidth": 0,
              "ticks": ""
             }
            },
            "type": "scattermapbox"
           }
          ],
          "scatterpolar": [
           {
            "marker": {
             "colorbar": {
              "outlinewidth": 0,
              "ticks": ""
             }
            },
            "type": "scatterpolar"
           }
          ],
          "scatterpolargl": [
           {
            "marker": {
             "colorbar": {
              "outlinewidth": 0,
              "ticks": ""
             }
            },
            "type": "scatterpolargl"
           }
          ],
          "scatterternary": [
           {
            "marker": {
             "colorbar": {
              "outlinewidth": 0,
              "ticks": ""
             }
            },
            "type": "scatterternary"
           }
          ],
          "surface": [
           {
            "colorbar": {
             "outlinewidth": 0,
             "ticks": ""
            },
            "colorscale": [
             [
              0,
              "#0d0887"
             ],
             [
              0.1111111111111111,
              "#46039f"
             ],
             [
              0.2222222222222222,
              "#7201a8"
             ],
             [
              0.3333333333333333,
              "#9c179e"
             ],
             [
              0.4444444444444444,
              "#bd3786"
             ],
             [
              0.5555555555555556,
              "#d8576b"
             ],
             [
              0.6666666666666666,
              "#ed7953"
             ],
             [
              0.7777777777777778,
              "#fb9f3a"
             ],
             [
              0.8888888888888888,
              "#fdca26"
             ],
             [
              1,
              "#f0f921"
             ]
            ],
            "type": "surface"
           }
          ],
          "table": [
           {
            "cells": {
             "fill": {
              "color": "#EBF0F8"
             },
             "line": {
              "color": "white"
             }
            },
            "header": {
             "fill": {
              "color": "#C8D4E3"
             },
             "line": {
              "color": "white"
             }
            },
            "type": "table"
           }
          ]
         },
         "layout": {
          "annotationdefaults": {
           "arrowcolor": "#2a3f5f",
           "arrowhead": 0,
           "arrowwidth": 1
          },
          "coloraxis": {
           "colorbar": {
            "outlinewidth": 0,
            "ticks": ""
           }
          },
          "colorscale": {
           "diverging": [
            [
             0,
             "#8e0152"
            ],
            [
             0.1,
             "#c51b7d"
            ],
            [
             0.2,
             "#de77ae"
            ],
            [
             0.3,
             "#f1b6da"
            ],
            [
             0.4,
             "#fde0ef"
            ],
            [
             0.5,
             "#f7f7f7"
            ],
            [
             0.6,
             "#e6f5d0"
            ],
            [
             0.7,
             "#b8e186"
            ],
            [
             0.8,
             "#7fbc41"
            ],
            [
             0.9,
             "#4d9221"
            ],
            [
             1,
             "#276419"
            ]
           ],
           "sequential": [
            [
             0,
             "#0d0887"
            ],
            [
             0.1111111111111111,
             "#46039f"
            ],
            [
             0.2222222222222222,
             "#7201a8"
            ],
            [
             0.3333333333333333,
             "#9c179e"
            ],
            [
             0.4444444444444444,
             "#bd3786"
            ],
            [
             0.5555555555555556,
             "#d8576b"
            ],
            [
             0.6666666666666666,
             "#ed7953"
            ],
            [
             0.7777777777777778,
             "#fb9f3a"
            ],
            [
             0.8888888888888888,
             "#fdca26"
            ],
            [
             1,
             "#f0f921"
            ]
           ],
           "sequentialminus": [
            [
             0,
             "#0d0887"
            ],
            [
             0.1111111111111111,
             "#46039f"
            ],
            [
             0.2222222222222222,
             "#7201a8"
            ],
            [
             0.3333333333333333,
             "#9c179e"
            ],
            [
             0.4444444444444444,
             "#bd3786"
            ],
            [
             0.5555555555555556,
             "#d8576b"
            ],
            [
             0.6666666666666666,
             "#ed7953"
            ],
            [
             0.7777777777777778,
             "#fb9f3a"
            ],
            [
             0.8888888888888888,
             "#fdca26"
            ],
            [
             1,
             "#f0f921"
            ]
           ]
          },
          "colorway": [
           "#636efa",
           "#EF553B",
           "#00cc96",
           "#ab63fa",
           "#FFA15A",
           "#19d3f3",
           "#FF6692",
           "#B6E880",
           "#FF97FF",
           "#FECB52"
          ],
          "font": {
           "color": "#2a3f5f"
          },
          "geo": {
           "bgcolor": "white",
           "lakecolor": "white",
           "landcolor": "#E5ECF6",
           "showlakes": true,
           "showland": true,
           "subunitcolor": "white"
          },
          "hoverlabel": {
           "align": "left"
          },
          "hovermode": "closest",
          "mapbox": {
           "style": "light"
          },
          "paper_bgcolor": "white",
          "plot_bgcolor": "#E5ECF6",
          "polar": {
           "angularaxis": {
            "gridcolor": "white",
            "linecolor": "white",
            "ticks": ""
           },
           "bgcolor": "#E5ECF6",
           "radialaxis": {
            "gridcolor": "white",
            "linecolor": "white",
            "ticks": ""
           }
          },
          "scene": {
           "xaxis": {
            "backgroundcolor": "#E5ECF6",
            "gridcolor": "white",
            "gridwidth": 2,
            "linecolor": "white",
            "showbackground": true,
            "ticks": "",
            "zerolinecolor": "white"
           },
           "yaxis": {
            "backgroundcolor": "#E5ECF6",
            "gridcolor": "white",
            "gridwidth": 2,
            "linecolor": "white",
            "showbackground": true,
            "ticks": "",
            "zerolinecolor": "white"
           },
           "zaxis": {
            "backgroundcolor": "#E5ECF6",
            "gridcolor": "white",
            "gridwidth": 2,
            "linecolor": "white",
            "showbackground": true,
            "ticks": "",
            "zerolinecolor": "white"
           }
          },
          "shapedefaults": {
           "line": {
            "color": "#2a3f5f"
           }
          },
          "ternary": {
           "aaxis": {
            "gridcolor": "white",
            "linecolor": "white",
            "ticks": ""
           },
           "baxis": {
            "gridcolor": "white",
            "linecolor": "white",
            "ticks": ""
           },
           "bgcolor": "#E5ECF6",
           "caxis": {
            "gridcolor": "white",
            "linecolor": "white",
            "ticks": ""
           }
          },
          "title": {
           "x": 0.05
          },
          "xaxis": {
           "automargin": true,
           "gridcolor": "white",
           "linecolor": "white",
           "ticks": "",
           "title": {
            "standoff": 15
           },
           "zerolinecolor": "white",
           "zerolinewidth": 2
          },
          "yaxis": {
           "automargin": true,
           "gridcolor": "white",
           "linecolor": "white",
           "ticks": "",
           "title": {
            "standoff": 15
           },
           "zerolinecolor": "white",
           "zerolinewidth": 2
          }
         }
        },
        "title": {
         "text": "US Deaths"
        },
        "updatemenus": [
         {
          "active": 0,
          "buttons": [
           {
            "args": [
             {
              "visible": [
               true,
               true
              ]
             },
             {
              "yaxis": {
               "type": "linear"
              }
             }
            ],
            "label": "Linear Scale",
            "method": "update"
           },
           {
            "args": [
             {
              "visible": [
               true,
               true
              ]
             },
             {
              "yaxis": {
               "type": "log"
              }
             }
            ],
            "label": "Logarithmic Scale",
            "method": "update"
           }
          ],
          "direction": "right",
          "type": "buttons",
          "x": 0.45,
          "xanchor": "left",
          "y": 1.1,
          "yanchor": "top"
         }
        ]
       }
      },
      "text/html": [
       "<div>\n",
       "        \n",
       "        \n",
       "            <div id=\"8a6114c2-8262-4dd5-bdf8-db528af3f8d9\" class=\"plotly-graph-div\" style=\"height:525px; width:100%;\"></div>\n",
       "            <script type=\"text/javascript\">\n",
       "                require([\"plotly\"], function(Plotly) {\n",
       "                    window.PLOTLYENV=window.PLOTLYENV || {};\n",
       "                    \n",
       "                if (document.getElementById(\"8a6114c2-8262-4dd5-bdf8-db528af3f8d9\")) {\n",
       "                    Plotly.newPlot(\n",
       "                        '8a6114c2-8262-4dd5-bdf8-db528af3f8d9',\n",
       "                        [{\"name\": \"New York\", \"type\": \"scatter\", \"x\": [\"3/2/20\", \"3/3/20\", \"3/4/20\", \"3/5/20\", \"3/6/20\", \"3/7/20\", \"3/8/20\", \"3/9/20\", \"3/10/20\", \"3/11/20\", \"3/12/20\", \"3/13/20\", \"3/14/20\", \"3/15/20\", \"3/16/20\", \"3/17/20\", \"3/18/20\", \"3/19/20\", \"3/20/20\", \"3/21/20\", \"3/22/20\", \"3/23/20\", \"3/24/20\", \"3/25/20\", \"3/26/20\", \"3/27/20\", \"3/28/20\", \"3/29/20\", \"3/30/20\", \"3/31/20\", \"4/1/20\"], \"y\": [0, 0, 0, 0, 0, 0, 0, 0, 0, 0, 0, 0, 2, 2, 10, 13, 17, 38, 46, 60, 117, 158, 210, 285, 385, 527, 728, 965, 1218, 1550, 1941]}, {\"name\": \"New Jersey\", \"type\": \"scatter\", \"x\": [\"3/2/20\", \"3/3/20\", \"3/4/20\", \"3/5/20\", \"3/6/20\", \"3/7/20\", \"3/8/20\", \"3/9/20\", \"3/10/20\", \"3/11/20\", \"3/12/20\", \"3/13/20\", \"3/14/20\", \"3/15/20\", \"3/16/20\", \"3/17/20\", \"3/18/20\", \"3/19/20\", \"3/20/20\", \"3/21/20\", \"3/22/20\", \"3/23/20\", \"3/24/20\", \"3/25/20\", \"3/26/20\", \"3/27/20\", \"3/28/20\", \"3/29/20\", \"3/30/20\", \"3/31/20\", \"4/1/20\"], \"y\": [0, 0, 0, 0, 0, 0, 0, 0, 1, 1, 1, 1, 1, 2, 2, 3, 5, 9, 11, 16, 20, 27, 44, 62, 81, 108, 140, 161, 198, 267, 355]}, {\"name\": \"Michigan\", \"type\": \"scatter\", \"x\": [\"3/2/20\", \"3/3/20\", \"3/4/20\", \"3/5/20\", \"3/6/20\", \"3/7/20\", \"3/8/20\", \"3/9/20\", \"3/10/20\", \"3/11/20\", \"3/12/20\", \"3/13/20\", \"3/14/20\", \"3/15/20\", \"3/16/20\", \"3/17/20\", \"3/18/20\", \"3/19/20\", \"3/20/20\", \"3/21/20\", \"3/22/20\", \"3/23/20\", \"3/24/20\", \"3/25/20\", \"3/26/20\", \"3/27/20\", \"3/28/20\", \"3/29/20\", \"3/30/20\", \"3/31/20\", \"4/1/20\"], \"y\": [0, 0, 0, 0, 0, 0, 0, 0, 0, 0, 0, 0, 0, 0, 0, 0, 1, 1, 1, 3, 9, 15, 24, 43, 61, 92, 111, 132, 184, 259, 335]}, {\"name\": \"Louisiana\", \"type\": \"scatter\", \"x\": [\"3/2/20\", \"3/3/20\", \"3/4/20\", \"3/5/20\", \"3/6/20\", \"3/7/20\", \"3/8/20\", \"3/9/20\", \"3/10/20\", \"3/11/20\", \"3/12/20\", \"3/13/20\", \"3/14/20\", \"3/15/20\", \"3/16/20\", \"3/17/20\", \"3/18/20\", \"3/19/20\", \"3/20/20\", \"3/21/20\", \"3/22/20\", \"3/23/20\", \"3/24/20\", \"3/25/20\", \"3/26/20\", \"3/27/20\", \"3/28/20\", \"3/29/20\", \"3/30/20\", \"3/31/20\", \"4/1/20\"], \"y\": [0, 0, 0, 0, 0, 0, 0, 0, 0, 0, 0, 0, 1, 2, 3, 4, 6, 10, 14, 20, 20, 35, 46, 65, 83, 119, 137, 151, 185, 239, 273]}, {\"name\": \"Washington\", \"type\": \"scatter\", \"x\": [\"3/2/20\", \"3/3/20\", \"3/4/20\", \"3/5/20\", \"3/6/20\", \"3/7/20\", \"3/8/20\", \"3/9/20\", \"3/10/20\", \"3/11/20\", \"3/12/20\", \"3/13/20\", \"3/14/20\", \"3/15/20\", \"3/16/20\", \"3/17/20\", \"3/18/20\", \"3/19/20\", \"3/20/20\", \"3/21/20\", \"3/22/20\", \"3/23/20\", \"3/24/20\", \"3/25/20\", \"3/26/20\", \"3/27/20\", \"3/28/20\", \"3/29/20\", \"3/30/20\", \"3/31/20\", \"4/1/20\"], \"y\": [6, 7, 10, 11, 13, 16, 18, 19, 23, 24, 31, 37, 39, 40, 48, 55, 67, 73, 83, 94, 97, 109, 116, 133, 150, 157, 188, 198, 205, 225, 234]}, {\"name\": \"California\", \"type\": \"scatter\", \"x\": [\"3/2/20\", \"3/3/20\", \"3/4/20\", \"3/5/20\", \"3/6/20\", \"3/7/20\", \"3/8/20\", \"3/9/20\", \"3/10/20\", \"3/11/20\", \"3/12/20\", \"3/13/20\", \"3/14/20\", \"3/15/20\", \"3/16/20\", \"3/17/20\", \"3/18/20\", \"3/19/20\", \"3/20/20\", \"3/21/20\", \"3/22/20\", \"3/23/20\", \"3/24/20\", \"3/25/20\", \"3/26/20\", \"3/27/20\", \"3/28/20\", \"3/29/20\", \"3/30/20\", \"3/31/20\", \"4/1/20\"], \"y\": [0, 0, 1, 1, 1, 1, 1, 1, 2, 4, 4, 4, 3, 5, 7, 12, 16, 18, 24, 25, 30, 39, 50, 65, 81, 94, 110, 124, 146, 173, 199]}, {\"name\": \"Illinois\", \"type\": \"scatter\", \"x\": [\"3/2/20\", \"3/3/20\", \"3/4/20\", \"3/5/20\", \"3/6/20\", \"3/7/20\", \"3/8/20\", \"3/9/20\", \"3/10/20\", \"3/11/20\", \"3/12/20\", \"3/13/20\", \"3/14/20\", \"3/15/20\", \"3/16/20\", \"3/17/20\", \"3/18/20\", \"3/19/20\", \"3/20/20\", \"3/21/20\", \"3/22/20\", \"3/23/20\", \"3/24/20\", \"3/25/20\", \"3/26/20\", \"3/27/20\", \"3/28/20\", \"3/29/20\", \"3/30/20\", \"3/31/20\", \"4/1/20\"], \"y\": [0, 0, 0, 0, 0, 0, 0, 0, 0, 0, 0, 0, 0, 0, 0, 1, 1, 4, 5, 6, 9, 12, 16, 19, 26, 34, 47, 66, 73, 99, 141]}, {\"name\": \"Georgia\", \"type\": \"scatter\", \"x\": [\"3/2/20\", \"3/3/20\", \"3/4/20\", \"3/5/20\", \"3/6/20\", \"3/7/20\", \"3/8/20\", \"3/9/20\", \"3/10/20\", \"3/11/20\", \"3/12/20\", \"3/13/20\", \"3/14/20\", \"3/15/20\", \"3/16/20\", \"3/17/20\", \"3/18/20\", \"3/19/20\", \"3/20/20\", \"3/21/20\", \"3/22/20\", \"3/23/20\", \"3/24/20\", \"3/25/20\", \"3/26/20\", \"3/27/20\", \"3/28/20\", \"3/29/20\", \"3/30/20\", \"3/31/20\", \"4/1/20\"], \"y\": [0, 0, 0, 0, 0, 0, 0, 0, 0, 0, 1, 1, 1, 1, 1, 1, 3, 10, 14, 20, 25, 25, 32, 40, 48, 64, 69, 80, 87, 111, 139]}, {\"name\": \"Massachusetts\", \"type\": \"scatter\", \"x\": [\"3/2/20\", \"3/3/20\", \"3/4/20\", \"3/5/20\", \"3/6/20\", \"3/7/20\", \"3/8/20\", \"3/9/20\", \"3/10/20\", \"3/11/20\", \"3/12/20\", \"3/13/20\", \"3/14/20\", \"3/15/20\", \"3/16/20\", \"3/17/20\", \"3/18/20\", \"3/19/20\", \"3/20/20\", \"3/21/20\", \"3/22/20\", \"3/23/20\", \"3/24/20\", \"3/25/20\", \"3/26/20\", \"3/27/20\", \"3/28/20\", \"3/29/20\", \"3/30/20\", \"3/31/20\", \"4/1/20\"], \"y\": [0, 0, 0, 0, 0, 0, 0, 0, 0, 0, 0, 0, 0, 0, 0, 0, 0, 0, 1, 1, 5, 9, 11, 15, 25, 35, 44, 48, 56, 89, 122]}, {\"name\": \"Florida\", \"type\": \"scatter\", \"x\": [\"3/2/20\", \"3/3/20\", \"3/4/20\", \"3/5/20\", \"3/6/20\", \"3/7/20\", \"3/8/20\", \"3/9/20\", \"3/10/20\", \"3/11/20\", \"3/12/20\", \"3/13/20\", \"3/14/20\", \"3/15/20\", \"3/16/20\", \"3/17/20\", \"3/18/20\", \"3/19/20\", \"3/20/20\", \"3/21/20\", \"3/22/20\", \"3/23/20\", \"3/24/20\", \"3/25/20\", \"3/26/20\", \"3/27/20\", \"3/28/20\", \"3/29/20\", \"3/30/20\", \"3/31/20\", \"4/1/20\"], \"y\": [0, 0, 0, 0, 0, 0, 2, 2, 2, 2, 2, 2, 2, 3, 3, 5, 7, 9, 11, 13, 13, 18, 18, 23, 29, 35, 54, 56, 63, 85, 87]}],\n",
       "                        {\"template\": {\"data\": {\"bar\": [{\"error_x\": {\"color\": \"#2a3f5f\"}, \"error_y\": {\"color\": \"#2a3f5f\"}, \"marker\": {\"line\": {\"color\": \"#E5ECF6\", \"width\": 0.5}}, \"type\": \"bar\"}], \"barpolar\": [{\"marker\": {\"line\": {\"color\": \"#E5ECF6\", \"width\": 0.5}}, \"type\": \"barpolar\"}], \"carpet\": [{\"aaxis\": {\"endlinecolor\": \"#2a3f5f\", \"gridcolor\": \"white\", \"linecolor\": \"white\", \"minorgridcolor\": \"white\", \"startlinecolor\": \"#2a3f5f\"}, \"baxis\": {\"endlinecolor\": \"#2a3f5f\", \"gridcolor\": \"white\", \"linecolor\": \"white\", \"minorgridcolor\": \"white\", \"startlinecolor\": \"#2a3f5f\"}, \"type\": \"carpet\"}], \"choropleth\": [{\"colorbar\": {\"outlinewidth\": 0, \"ticks\": \"\"}, \"type\": \"choropleth\"}], \"contour\": [{\"colorbar\": {\"outlinewidth\": 0, \"ticks\": \"\"}, \"colorscale\": [[0.0, \"#0d0887\"], [0.1111111111111111, \"#46039f\"], [0.2222222222222222, \"#7201a8\"], [0.3333333333333333, \"#9c179e\"], [0.4444444444444444, \"#bd3786\"], [0.5555555555555556, \"#d8576b\"], [0.6666666666666666, \"#ed7953\"], [0.7777777777777778, \"#fb9f3a\"], [0.8888888888888888, \"#fdca26\"], [1.0, \"#f0f921\"]], \"type\": \"contour\"}], \"contourcarpet\": [{\"colorbar\": {\"outlinewidth\": 0, \"ticks\": \"\"}, \"type\": \"contourcarpet\"}], \"heatmap\": [{\"colorbar\": {\"outlinewidth\": 0, \"ticks\": \"\"}, \"colorscale\": [[0.0, \"#0d0887\"], [0.1111111111111111, \"#46039f\"], [0.2222222222222222, \"#7201a8\"], [0.3333333333333333, \"#9c179e\"], [0.4444444444444444, \"#bd3786\"], [0.5555555555555556, \"#d8576b\"], [0.6666666666666666, \"#ed7953\"], [0.7777777777777778, \"#fb9f3a\"], [0.8888888888888888, \"#fdca26\"], [1.0, \"#f0f921\"]], \"type\": \"heatmap\"}], \"heatmapgl\": [{\"colorbar\": {\"outlinewidth\": 0, \"ticks\": \"\"}, \"colorscale\": [[0.0, \"#0d0887\"], [0.1111111111111111, \"#46039f\"], [0.2222222222222222, \"#7201a8\"], [0.3333333333333333, \"#9c179e\"], [0.4444444444444444, \"#bd3786\"], [0.5555555555555556, \"#d8576b\"], [0.6666666666666666, \"#ed7953\"], [0.7777777777777778, \"#fb9f3a\"], [0.8888888888888888, \"#fdca26\"], [1.0, \"#f0f921\"]], \"type\": \"heatmapgl\"}], \"histogram\": [{\"marker\": {\"colorbar\": {\"outlinewidth\": 0, \"ticks\": \"\"}}, \"type\": \"histogram\"}], \"histogram2d\": [{\"colorbar\": {\"outlinewidth\": 0, \"ticks\": \"\"}, \"colorscale\": [[0.0, \"#0d0887\"], [0.1111111111111111, \"#46039f\"], [0.2222222222222222, \"#7201a8\"], [0.3333333333333333, \"#9c179e\"], [0.4444444444444444, \"#bd3786\"], [0.5555555555555556, \"#d8576b\"], [0.6666666666666666, \"#ed7953\"], [0.7777777777777778, \"#fb9f3a\"], [0.8888888888888888, \"#fdca26\"], [1.0, \"#f0f921\"]], \"type\": \"histogram2d\"}], \"histogram2dcontour\": [{\"colorbar\": {\"outlinewidth\": 0, \"ticks\": \"\"}, \"colorscale\": [[0.0, \"#0d0887\"], [0.1111111111111111, \"#46039f\"], [0.2222222222222222, \"#7201a8\"], [0.3333333333333333, \"#9c179e\"], [0.4444444444444444, \"#bd3786\"], [0.5555555555555556, \"#d8576b\"], [0.6666666666666666, \"#ed7953\"], [0.7777777777777778, \"#fb9f3a\"], [0.8888888888888888, \"#fdca26\"], [1.0, \"#f0f921\"]], \"type\": \"histogram2dcontour\"}], \"mesh3d\": [{\"colorbar\": {\"outlinewidth\": 0, \"ticks\": \"\"}, \"type\": \"mesh3d\"}], \"parcoords\": [{\"line\": {\"colorbar\": {\"outlinewidth\": 0, \"ticks\": \"\"}}, \"type\": \"parcoords\"}], \"pie\": [{\"automargin\": true, \"type\": \"pie\"}], \"scatter\": [{\"marker\": {\"colorbar\": {\"outlinewidth\": 0, \"ticks\": \"\"}}, \"type\": \"scatter\"}], \"scatter3d\": [{\"line\": {\"colorbar\": {\"outlinewidth\": 0, \"ticks\": \"\"}}, \"marker\": {\"colorbar\": {\"outlinewidth\": 0, \"ticks\": \"\"}}, \"type\": \"scatter3d\"}], \"scattercarpet\": [{\"marker\": {\"colorbar\": {\"outlinewidth\": 0, \"ticks\": \"\"}}, \"type\": \"scattercarpet\"}], \"scattergeo\": [{\"marker\": {\"colorbar\": {\"outlinewidth\": 0, \"ticks\": \"\"}}, \"type\": \"scattergeo\"}], \"scattergl\": [{\"marker\": {\"colorbar\": {\"outlinewidth\": 0, \"ticks\": \"\"}}, \"type\": \"scattergl\"}], \"scattermapbox\": [{\"marker\": {\"colorbar\": {\"outlinewidth\": 0, \"ticks\": \"\"}}, \"type\": \"scattermapbox\"}], \"scatterpolar\": [{\"marker\": {\"colorbar\": {\"outlinewidth\": 0, \"ticks\": \"\"}}, \"type\": \"scatterpolar\"}], \"scatterpolargl\": [{\"marker\": {\"colorbar\": {\"outlinewidth\": 0, \"ticks\": \"\"}}, \"type\": \"scatterpolargl\"}], \"scatterternary\": [{\"marker\": {\"colorbar\": {\"outlinewidth\": 0, \"ticks\": \"\"}}, \"type\": \"scatterternary\"}], \"surface\": [{\"colorbar\": {\"outlinewidth\": 0, \"ticks\": \"\"}, \"colorscale\": [[0.0, \"#0d0887\"], [0.1111111111111111, \"#46039f\"], [0.2222222222222222, \"#7201a8\"], [0.3333333333333333, \"#9c179e\"], [0.4444444444444444, \"#bd3786\"], [0.5555555555555556, \"#d8576b\"], [0.6666666666666666, \"#ed7953\"], [0.7777777777777778, \"#fb9f3a\"], [0.8888888888888888, \"#fdca26\"], [1.0, \"#f0f921\"]], \"type\": \"surface\"}], \"table\": [{\"cells\": {\"fill\": {\"color\": \"#EBF0F8\"}, \"line\": {\"color\": \"white\"}}, \"header\": {\"fill\": {\"color\": \"#C8D4E3\"}, \"line\": {\"color\": \"white\"}}, \"type\": \"table\"}]}, \"layout\": {\"annotationdefaults\": {\"arrowcolor\": \"#2a3f5f\", \"arrowhead\": 0, \"arrowwidth\": 1}, \"coloraxis\": {\"colorbar\": {\"outlinewidth\": 0, \"ticks\": \"\"}}, \"colorscale\": {\"diverging\": [[0, \"#8e0152\"], [0.1, \"#c51b7d\"], [0.2, \"#de77ae\"], [0.3, \"#f1b6da\"], [0.4, \"#fde0ef\"], [0.5, \"#f7f7f7\"], [0.6, \"#e6f5d0\"], [0.7, \"#b8e186\"], [0.8, \"#7fbc41\"], [0.9, \"#4d9221\"], [1, \"#276419\"]], \"sequential\": [[0.0, \"#0d0887\"], [0.1111111111111111, \"#46039f\"], [0.2222222222222222, \"#7201a8\"], [0.3333333333333333, \"#9c179e\"], [0.4444444444444444, \"#bd3786\"], [0.5555555555555556, \"#d8576b\"], [0.6666666666666666, \"#ed7953\"], [0.7777777777777778, \"#fb9f3a\"], [0.8888888888888888, \"#fdca26\"], [1.0, \"#f0f921\"]], \"sequentialminus\": [[0.0, \"#0d0887\"], [0.1111111111111111, \"#46039f\"], [0.2222222222222222, \"#7201a8\"], [0.3333333333333333, \"#9c179e\"], [0.4444444444444444, \"#bd3786\"], [0.5555555555555556, \"#d8576b\"], [0.6666666666666666, \"#ed7953\"], [0.7777777777777778, \"#fb9f3a\"], [0.8888888888888888, \"#fdca26\"], [1.0, \"#f0f921\"]]}, \"colorway\": [\"#636efa\", \"#EF553B\", \"#00cc96\", \"#ab63fa\", \"#FFA15A\", \"#19d3f3\", \"#FF6692\", \"#B6E880\", \"#FF97FF\", \"#FECB52\"], \"font\": {\"color\": \"#2a3f5f\"}, \"geo\": {\"bgcolor\": \"white\", \"lakecolor\": \"white\", \"landcolor\": \"#E5ECF6\", \"showlakes\": true, \"showland\": true, \"subunitcolor\": \"white\"}, \"hoverlabel\": {\"align\": \"left\"}, \"hovermode\": \"closest\", \"mapbox\": {\"style\": \"light\"}, \"paper_bgcolor\": \"white\", \"plot_bgcolor\": \"#E5ECF6\", \"polar\": {\"angularaxis\": {\"gridcolor\": \"white\", \"linecolor\": \"white\", \"ticks\": \"\"}, \"bgcolor\": \"#E5ECF6\", \"radialaxis\": {\"gridcolor\": \"white\", \"linecolor\": \"white\", \"ticks\": \"\"}}, \"scene\": {\"xaxis\": {\"backgroundcolor\": \"#E5ECF6\", \"gridcolor\": \"white\", \"gridwidth\": 2, \"linecolor\": \"white\", \"showbackground\": true, \"ticks\": \"\", \"zerolinecolor\": \"white\"}, \"yaxis\": {\"backgroundcolor\": \"#E5ECF6\", \"gridcolor\": \"white\", \"gridwidth\": 2, \"linecolor\": \"white\", \"showbackground\": true, \"ticks\": \"\", \"zerolinecolor\": \"white\"}, \"zaxis\": {\"backgroundcolor\": \"#E5ECF6\", \"gridcolor\": \"white\", \"gridwidth\": 2, \"linecolor\": \"white\", \"showbackground\": true, \"ticks\": \"\", \"zerolinecolor\": \"white\"}}, \"shapedefaults\": {\"line\": {\"color\": \"#2a3f5f\"}}, \"ternary\": {\"aaxis\": {\"gridcolor\": \"white\", \"linecolor\": \"white\", \"ticks\": \"\"}, \"baxis\": {\"gridcolor\": \"white\", \"linecolor\": \"white\", \"ticks\": \"\"}, \"bgcolor\": \"#E5ECF6\", \"caxis\": {\"gridcolor\": \"white\", \"linecolor\": \"white\", \"ticks\": \"\"}}, \"title\": {\"x\": 0.05}, \"xaxis\": {\"automargin\": true, \"gridcolor\": \"white\", \"linecolor\": \"white\", \"ticks\": \"\", \"title\": {\"standoff\": 15}, \"zerolinecolor\": \"white\", \"zerolinewidth\": 2}, \"yaxis\": {\"automargin\": true, \"gridcolor\": \"white\", \"linecolor\": \"white\", \"ticks\": \"\", \"title\": {\"standoff\": 15}, \"zerolinecolor\": \"white\", \"zerolinewidth\": 2}}}, \"title\": {\"text\": \"US Deaths\"}, \"updatemenus\": [{\"active\": 0, \"buttons\": [{\"args\": [{\"visible\": [true, true]}, {\"yaxis\": {\"type\": \"linear\"}}], \"label\": \"Linear Scale\", \"method\": \"update\"}, {\"args\": [{\"visible\": [true, true]}, {\"yaxis\": {\"type\": \"log\"}}], \"label\": \"Logarithmic Scale\", \"method\": \"update\"}], \"direction\": \"right\", \"type\": \"buttons\", \"x\": 0.45, \"xanchor\": \"left\", \"y\": 1.1, \"yanchor\": \"top\"}]},\n",
       "                        {\"responsive\": true}\n",
       "                    ).then(function(){\n",
       "                            \n",
       "var gd = document.getElementById('8a6114c2-8262-4dd5-bdf8-db528af3f8d9');\n",
       "var x = new MutationObserver(function (mutations, observer) {{\n",
       "        var display = window.getComputedStyle(gd).display;\n",
       "        if (!display || display === 'none') {{\n",
       "            console.log([gd, 'removed!']);\n",
       "            Plotly.purge(gd);\n",
       "            observer.disconnect();\n",
       "        }}\n",
       "}});\n",
       "\n",
       "// Listen for the removal of the full notebook cells\n",
       "var notebookContainer = gd.closest('#notebook-container');\n",
       "if (notebookContainer) {{\n",
       "    x.observe(notebookContainer, {childList: true});\n",
       "}}\n",
       "\n",
       "// Listen for the clearing of the current output cell\n",
       "var outputEl = gd.closest('.output');\n",
       "if (outputEl) {{\n",
       "    x.observe(outputEl, {childList: true});\n",
       "}}\n",
       "\n",
       "                        })\n",
       "                };\n",
       "                });\n",
       "            </script>\n",
       "        </div>"
      ]
     },
     "metadata": {},
     "output_type": "display_data"
    },
    {
     "data": {
      "text/html": [
       "<style  type=\"text/css\" >\n",
       "</style><table id=\"T_22d08db0_74a9_11ea_8ebf_c49ded93ade6\" ><thead>    <tr>        <th class=\"blank level0\" ></th>        <th class=\"col_heading level0 col0\" >3/13/20</th>        <th class=\"col_heading level0 col1\" >3/14/20</th>        <th class=\"col_heading level0 col2\" >3/15/20</th>        <th class=\"col_heading level0 col3\" >3/16/20</th>        <th class=\"col_heading level0 col4\" >3/17/20</th>        <th class=\"col_heading level0 col5\" >3/18/20</th>        <th class=\"col_heading level0 col6\" >3/19/20</th>        <th class=\"col_heading level0 col7\" >3/20/20</th>        <th class=\"col_heading level0 col8\" >3/21/20</th>        <th class=\"col_heading level0 col9\" >3/22/20</th>        <th class=\"col_heading level0 col10\" >3/23/20</th>        <th class=\"col_heading level0 col11\" >3/24/20</th>        <th class=\"col_heading level0 col12\" >3/25/20</th>        <th class=\"col_heading level0 col13\" >3/26/20</th>        <th class=\"col_heading level0 col14\" >3/27/20</th>        <th class=\"col_heading level0 col15\" >3/28/20</th>        <th class=\"col_heading level0 col16\" >3/29/20</th>        <th class=\"col_heading level0 col17\" >3/30/20</th>        <th class=\"col_heading level0 col18\" >3/31/20</th>        <th class=\"col_heading level0 col19\" >4/1/20</th>        <th class=\"col_heading level0 col20\" >percent_of_total</th>    </tr>    <tr>        <th class=\"index_name level0\" >Province_State</th>        <th class=\"blank\" ></th>        <th class=\"blank\" ></th>        <th class=\"blank\" ></th>        <th class=\"blank\" ></th>        <th class=\"blank\" ></th>        <th class=\"blank\" ></th>        <th class=\"blank\" ></th>        <th class=\"blank\" ></th>        <th class=\"blank\" ></th>        <th class=\"blank\" ></th>        <th class=\"blank\" ></th>        <th class=\"blank\" ></th>        <th class=\"blank\" ></th>        <th class=\"blank\" ></th>        <th class=\"blank\" ></th>        <th class=\"blank\" ></th>        <th class=\"blank\" ></th>        <th class=\"blank\" ></th>        <th class=\"blank\" ></th>        <th class=\"blank\" ></th>        <th class=\"blank\" ></th>    </tr></thead><tbody>\n",
       "                <tr>\n",
       "                        <th id=\"T_22d08db0_74a9_11ea_8ebf_c49ded93ade6level0_row0\" class=\"row_heading level0 row0\" >New York</th>\n",
       "                        <td id=\"T_22d08db0_74a9_11ea_8ebf_c49ded93ade6row0_col0\" class=\"data row0 col0\" >0</td>\n",
       "                        <td id=\"T_22d08db0_74a9_11ea_8ebf_c49ded93ade6row0_col1\" class=\"data row0 col1\" >2</td>\n",
       "                        <td id=\"T_22d08db0_74a9_11ea_8ebf_c49ded93ade6row0_col2\" class=\"data row0 col2\" >2</td>\n",
       "                        <td id=\"T_22d08db0_74a9_11ea_8ebf_c49ded93ade6row0_col3\" class=\"data row0 col3\" >10</td>\n",
       "                        <td id=\"T_22d08db0_74a9_11ea_8ebf_c49ded93ade6row0_col4\" class=\"data row0 col4\" >13</td>\n",
       "                        <td id=\"T_22d08db0_74a9_11ea_8ebf_c49ded93ade6row0_col5\" class=\"data row0 col5\" >17</td>\n",
       "                        <td id=\"T_22d08db0_74a9_11ea_8ebf_c49ded93ade6row0_col6\" class=\"data row0 col6\" >38</td>\n",
       "                        <td id=\"T_22d08db0_74a9_11ea_8ebf_c49ded93ade6row0_col7\" class=\"data row0 col7\" >46</td>\n",
       "                        <td id=\"T_22d08db0_74a9_11ea_8ebf_c49ded93ade6row0_col8\" class=\"data row0 col8\" >60</td>\n",
       "                        <td id=\"T_22d08db0_74a9_11ea_8ebf_c49ded93ade6row0_col9\" class=\"data row0 col9\" >117</td>\n",
       "                        <td id=\"T_22d08db0_74a9_11ea_8ebf_c49ded93ade6row0_col10\" class=\"data row0 col10\" >158</td>\n",
       "                        <td id=\"T_22d08db0_74a9_11ea_8ebf_c49ded93ade6row0_col11\" class=\"data row0 col11\" >210</td>\n",
       "                        <td id=\"T_22d08db0_74a9_11ea_8ebf_c49ded93ade6row0_col12\" class=\"data row0 col12\" >285</td>\n",
       "                        <td id=\"T_22d08db0_74a9_11ea_8ebf_c49ded93ade6row0_col13\" class=\"data row0 col13\" >385</td>\n",
       "                        <td id=\"T_22d08db0_74a9_11ea_8ebf_c49ded93ade6row0_col14\" class=\"data row0 col14\" >527</td>\n",
       "                        <td id=\"T_22d08db0_74a9_11ea_8ebf_c49ded93ade6row0_col15\" class=\"data row0 col15\" >728</td>\n",
       "                        <td id=\"T_22d08db0_74a9_11ea_8ebf_c49ded93ade6row0_col16\" class=\"data row0 col16\" >965</td>\n",
       "                        <td id=\"T_22d08db0_74a9_11ea_8ebf_c49ded93ade6row0_col17\" class=\"data row0 col17\" >1218</td>\n",
       "                        <td id=\"T_22d08db0_74a9_11ea_8ebf_c49ded93ade6row0_col18\" class=\"data row0 col18\" >1550</td>\n",
       "                        <td id=\"T_22d08db0_74a9_11ea_8ebf_c49ded93ade6row0_col19\" class=\"data row0 col19\" >1941</td>\n",
       "                        <td id=\"T_22d08db0_74a9_11ea_8ebf_c49ded93ade6row0_col20\" class=\"data row0 col20\" >41%</td>\n",
       "            </tr>\n",
       "            <tr>\n",
       "                        <th id=\"T_22d08db0_74a9_11ea_8ebf_c49ded93ade6level0_row1\" class=\"row_heading level0 row1\" >New Jersey</th>\n",
       "                        <td id=\"T_22d08db0_74a9_11ea_8ebf_c49ded93ade6row1_col0\" class=\"data row1 col0\" >1</td>\n",
       "                        <td id=\"T_22d08db0_74a9_11ea_8ebf_c49ded93ade6row1_col1\" class=\"data row1 col1\" >1</td>\n",
       "                        <td id=\"T_22d08db0_74a9_11ea_8ebf_c49ded93ade6row1_col2\" class=\"data row1 col2\" >2</td>\n",
       "                        <td id=\"T_22d08db0_74a9_11ea_8ebf_c49ded93ade6row1_col3\" class=\"data row1 col3\" >2</td>\n",
       "                        <td id=\"T_22d08db0_74a9_11ea_8ebf_c49ded93ade6row1_col4\" class=\"data row1 col4\" >3</td>\n",
       "                        <td id=\"T_22d08db0_74a9_11ea_8ebf_c49ded93ade6row1_col5\" class=\"data row1 col5\" >5</td>\n",
       "                        <td id=\"T_22d08db0_74a9_11ea_8ebf_c49ded93ade6row1_col6\" class=\"data row1 col6\" >9</td>\n",
       "                        <td id=\"T_22d08db0_74a9_11ea_8ebf_c49ded93ade6row1_col7\" class=\"data row1 col7\" >11</td>\n",
       "                        <td id=\"T_22d08db0_74a9_11ea_8ebf_c49ded93ade6row1_col8\" class=\"data row1 col8\" >16</td>\n",
       "                        <td id=\"T_22d08db0_74a9_11ea_8ebf_c49ded93ade6row1_col9\" class=\"data row1 col9\" >20</td>\n",
       "                        <td id=\"T_22d08db0_74a9_11ea_8ebf_c49ded93ade6row1_col10\" class=\"data row1 col10\" >27</td>\n",
       "                        <td id=\"T_22d08db0_74a9_11ea_8ebf_c49ded93ade6row1_col11\" class=\"data row1 col11\" >44</td>\n",
       "                        <td id=\"T_22d08db0_74a9_11ea_8ebf_c49ded93ade6row1_col12\" class=\"data row1 col12\" >62</td>\n",
       "                        <td id=\"T_22d08db0_74a9_11ea_8ebf_c49ded93ade6row1_col13\" class=\"data row1 col13\" >81</td>\n",
       "                        <td id=\"T_22d08db0_74a9_11ea_8ebf_c49ded93ade6row1_col14\" class=\"data row1 col14\" >108</td>\n",
       "                        <td id=\"T_22d08db0_74a9_11ea_8ebf_c49ded93ade6row1_col15\" class=\"data row1 col15\" >140</td>\n",
       "                        <td id=\"T_22d08db0_74a9_11ea_8ebf_c49ded93ade6row1_col16\" class=\"data row1 col16\" >161</td>\n",
       "                        <td id=\"T_22d08db0_74a9_11ea_8ebf_c49ded93ade6row1_col17\" class=\"data row1 col17\" >198</td>\n",
       "                        <td id=\"T_22d08db0_74a9_11ea_8ebf_c49ded93ade6row1_col18\" class=\"data row1 col18\" >267</td>\n",
       "                        <td id=\"T_22d08db0_74a9_11ea_8ebf_c49ded93ade6row1_col19\" class=\"data row1 col19\" >355</td>\n",
       "                        <td id=\"T_22d08db0_74a9_11ea_8ebf_c49ded93ade6row1_col20\" class=\"data row1 col20\" >7%</td>\n",
       "            </tr>\n",
       "            <tr>\n",
       "                        <th id=\"T_22d08db0_74a9_11ea_8ebf_c49ded93ade6level0_row2\" class=\"row_heading level0 row2\" >Michigan</th>\n",
       "                        <td id=\"T_22d08db0_74a9_11ea_8ebf_c49ded93ade6row2_col0\" class=\"data row2 col0\" >0</td>\n",
       "                        <td id=\"T_22d08db0_74a9_11ea_8ebf_c49ded93ade6row2_col1\" class=\"data row2 col1\" >0</td>\n",
       "                        <td id=\"T_22d08db0_74a9_11ea_8ebf_c49ded93ade6row2_col2\" class=\"data row2 col2\" >0</td>\n",
       "                        <td id=\"T_22d08db0_74a9_11ea_8ebf_c49ded93ade6row2_col3\" class=\"data row2 col3\" >0</td>\n",
       "                        <td id=\"T_22d08db0_74a9_11ea_8ebf_c49ded93ade6row2_col4\" class=\"data row2 col4\" >0</td>\n",
       "                        <td id=\"T_22d08db0_74a9_11ea_8ebf_c49ded93ade6row2_col5\" class=\"data row2 col5\" >1</td>\n",
       "                        <td id=\"T_22d08db0_74a9_11ea_8ebf_c49ded93ade6row2_col6\" class=\"data row2 col6\" >1</td>\n",
       "                        <td id=\"T_22d08db0_74a9_11ea_8ebf_c49ded93ade6row2_col7\" class=\"data row2 col7\" >1</td>\n",
       "                        <td id=\"T_22d08db0_74a9_11ea_8ebf_c49ded93ade6row2_col8\" class=\"data row2 col8\" >3</td>\n",
       "                        <td id=\"T_22d08db0_74a9_11ea_8ebf_c49ded93ade6row2_col9\" class=\"data row2 col9\" >9</td>\n",
       "                        <td id=\"T_22d08db0_74a9_11ea_8ebf_c49ded93ade6row2_col10\" class=\"data row2 col10\" >15</td>\n",
       "                        <td id=\"T_22d08db0_74a9_11ea_8ebf_c49ded93ade6row2_col11\" class=\"data row2 col11\" >24</td>\n",
       "                        <td id=\"T_22d08db0_74a9_11ea_8ebf_c49ded93ade6row2_col12\" class=\"data row2 col12\" >43</td>\n",
       "                        <td id=\"T_22d08db0_74a9_11ea_8ebf_c49ded93ade6row2_col13\" class=\"data row2 col13\" >61</td>\n",
       "                        <td id=\"T_22d08db0_74a9_11ea_8ebf_c49ded93ade6row2_col14\" class=\"data row2 col14\" >92</td>\n",
       "                        <td id=\"T_22d08db0_74a9_11ea_8ebf_c49ded93ade6row2_col15\" class=\"data row2 col15\" >111</td>\n",
       "                        <td id=\"T_22d08db0_74a9_11ea_8ebf_c49ded93ade6row2_col16\" class=\"data row2 col16\" >132</td>\n",
       "                        <td id=\"T_22d08db0_74a9_11ea_8ebf_c49ded93ade6row2_col17\" class=\"data row2 col17\" >184</td>\n",
       "                        <td id=\"T_22d08db0_74a9_11ea_8ebf_c49ded93ade6row2_col18\" class=\"data row2 col18\" >259</td>\n",
       "                        <td id=\"T_22d08db0_74a9_11ea_8ebf_c49ded93ade6row2_col19\" class=\"data row2 col19\" >335</td>\n",
       "                        <td id=\"T_22d08db0_74a9_11ea_8ebf_c49ded93ade6row2_col20\" class=\"data row2 col20\" >7%</td>\n",
       "            </tr>\n",
       "            <tr>\n",
       "                        <th id=\"T_22d08db0_74a9_11ea_8ebf_c49ded93ade6level0_row3\" class=\"row_heading level0 row3\" >Louisiana</th>\n",
       "                        <td id=\"T_22d08db0_74a9_11ea_8ebf_c49ded93ade6row3_col0\" class=\"data row3 col0\" >0</td>\n",
       "                        <td id=\"T_22d08db0_74a9_11ea_8ebf_c49ded93ade6row3_col1\" class=\"data row3 col1\" >1</td>\n",
       "                        <td id=\"T_22d08db0_74a9_11ea_8ebf_c49ded93ade6row3_col2\" class=\"data row3 col2\" >2</td>\n",
       "                        <td id=\"T_22d08db0_74a9_11ea_8ebf_c49ded93ade6row3_col3\" class=\"data row3 col3\" >3</td>\n",
       "                        <td id=\"T_22d08db0_74a9_11ea_8ebf_c49ded93ade6row3_col4\" class=\"data row3 col4\" >4</td>\n",
       "                        <td id=\"T_22d08db0_74a9_11ea_8ebf_c49ded93ade6row3_col5\" class=\"data row3 col5\" >6</td>\n",
       "                        <td id=\"T_22d08db0_74a9_11ea_8ebf_c49ded93ade6row3_col6\" class=\"data row3 col6\" >10</td>\n",
       "                        <td id=\"T_22d08db0_74a9_11ea_8ebf_c49ded93ade6row3_col7\" class=\"data row3 col7\" >14</td>\n",
       "                        <td id=\"T_22d08db0_74a9_11ea_8ebf_c49ded93ade6row3_col8\" class=\"data row3 col8\" >20</td>\n",
       "                        <td id=\"T_22d08db0_74a9_11ea_8ebf_c49ded93ade6row3_col9\" class=\"data row3 col9\" >20</td>\n",
       "                        <td id=\"T_22d08db0_74a9_11ea_8ebf_c49ded93ade6row3_col10\" class=\"data row3 col10\" >35</td>\n",
       "                        <td id=\"T_22d08db0_74a9_11ea_8ebf_c49ded93ade6row3_col11\" class=\"data row3 col11\" >46</td>\n",
       "                        <td id=\"T_22d08db0_74a9_11ea_8ebf_c49ded93ade6row3_col12\" class=\"data row3 col12\" >65</td>\n",
       "                        <td id=\"T_22d08db0_74a9_11ea_8ebf_c49ded93ade6row3_col13\" class=\"data row3 col13\" >83</td>\n",
       "                        <td id=\"T_22d08db0_74a9_11ea_8ebf_c49ded93ade6row3_col14\" class=\"data row3 col14\" >119</td>\n",
       "                        <td id=\"T_22d08db0_74a9_11ea_8ebf_c49ded93ade6row3_col15\" class=\"data row3 col15\" >137</td>\n",
       "                        <td id=\"T_22d08db0_74a9_11ea_8ebf_c49ded93ade6row3_col16\" class=\"data row3 col16\" >151</td>\n",
       "                        <td id=\"T_22d08db0_74a9_11ea_8ebf_c49ded93ade6row3_col17\" class=\"data row3 col17\" >185</td>\n",
       "                        <td id=\"T_22d08db0_74a9_11ea_8ebf_c49ded93ade6row3_col18\" class=\"data row3 col18\" >239</td>\n",
       "                        <td id=\"T_22d08db0_74a9_11ea_8ebf_c49ded93ade6row3_col19\" class=\"data row3 col19\" >273</td>\n",
       "                        <td id=\"T_22d08db0_74a9_11ea_8ebf_c49ded93ade6row3_col20\" class=\"data row3 col20\" >6%</td>\n",
       "            </tr>\n",
       "            <tr>\n",
       "                        <th id=\"T_22d08db0_74a9_11ea_8ebf_c49ded93ade6level0_row4\" class=\"row_heading level0 row4\" >Washington</th>\n",
       "                        <td id=\"T_22d08db0_74a9_11ea_8ebf_c49ded93ade6row4_col0\" class=\"data row4 col0\" >37</td>\n",
       "                        <td id=\"T_22d08db0_74a9_11ea_8ebf_c49ded93ade6row4_col1\" class=\"data row4 col1\" >39</td>\n",
       "                        <td id=\"T_22d08db0_74a9_11ea_8ebf_c49ded93ade6row4_col2\" class=\"data row4 col2\" >40</td>\n",
       "                        <td id=\"T_22d08db0_74a9_11ea_8ebf_c49ded93ade6row4_col3\" class=\"data row4 col3\" >48</td>\n",
       "                        <td id=\"T_22d08db0_74a9_11ea_8ebf_c49ded93ade6row4_col4\" class=\"data row4 col4\" >55</td>\n",
       "                        <td id=\"T_22d08db0_74a9_11ea_8ebf_c49ded93ade6row4_col5\" class=\"data row4 col5\" >67</td>\n",
       "                        <td id=\"T_22d08db0_74a9_11ea_8ebf_c49ded93ade6row4_col6\" class=\"data row4 col6\" >73</td>\n",
       "                        <td id=\"T_22d08db0_74a9_11ea_8ebf_c49ded93ade6row4_col7\" class=\"data row4 col7\" >83</td>\n",
       "                        <td id=\"T_22d08db0_74a9_11ea_8ebf_c49ded93ade6row4_col8\" class=\"data row4 col8\" >94</td>\n",
       "                        <td id=\"T_22d08db0_74a9_11ea_8ebf_c49ded93ade6row4_col9\" class=\"data row4 col9\" >97</td>\n",
       "                        <td id=\"T_22d08db0_74a9_11ea_8ebf_c49ded93ade6row4_col10\" class=\"data row4 col10\" >109</td>\n",
       "                        <td id=\"T_22d08db0_74a9_11ea_8ebf_c49ded93ade6row4_col11\" class=\"data row4 col11\" >116</td>\n",
       "                        <td id=\"T_22d08db0_74a9_11ea_8ebf_c49ded93ade6row4_col12\" class=\"data row4 col12\" >133</td>\n",
       "                        <td id=\"T_22d08db0_74a9_11ea_8ebf_c49ded93ade6row4_col13\" class=\"data row4 col13\" >150</td>\n",
       "                        <td id=\"T_22d08db0_74a9_11ea_8ebf_c49ded93ade6row4_col14\" class=\"data row4 col14\" >157</td>\n",
       "                        <td id=\"T_22d08db0_74a9_11ea_8ebf_c49ded93ade6row4_col15\" class=\"data row4 col15\" >188</td>\n",
       "                        <td id=\"T_22d08db0_74a9_11ea_8ebf_c49ded93ade6row4_col16\" class=\"data row4 col16\" >198</td>\n",
       "                        <td id=\"T_22d08db0_74a9_11ea_8ebf_c49ded93ade6row4_col17\" class=\"data row4 col17\" >205</td>\n",
       "                        <td id=\"T_22d08db0_74a9_11ea_8ebf_c49ded93ade6row4_col18\" class=\"data row4 col18\" >225</td>\n",
       "                        <td id=\"T_22d08db0_74a9_11ea_8ebf_c49ded93ade6row4_col19\" class=\"data row4 col19\" >234</td>\n",
       "                        <td id=\"T_22d08db0_74a9_11ea_8ebf_c49ded93ade6row4_col20\" class=\"data row4 col20\" >5%</td>\n",
       "            </tr>\n",
       "            <tr>\n",
       "                        <th id=\"T_22d08db0_74a9_11ea_8ebf_c49ded93ade6level0_row5\" class=\"row_heading level0 row5\" >California</th>\n",
       "                        <td id=\"T_22d08db0_74a9_11ea_8ebf_c49ded93ade6row5_col0\" class=\"data row5 col0\" >4</td>\n",
       "                        <td id=\"T_22d08db0_74a9_11ea_8ebf_c49ded93ade6row5_col1\" class=\"data row5 col1\" >3</td>\n",
       "                        <td id=\"T_22d08db0_74a9_11ea_8ebf_c49ded93ade6row5_col2\" class=\"data row5 col2\" >5</td>\n",
       "                        <td id=\"T_22d08db0_74a9_11ea_8ebf_c49ded93ade6row5_col3\" class=\"data row5 col3\" >7</td>\n",
       "                        <td id=\"T_22d08db0_74a9_11ea_8ebf_c49ded93ade6row5_col4\" class=\"data row5 col4\" >12</td>\n",
       "                        <td id=\"T_22d08db0_74a9_11ea_8ebf_c49ded93ade6row5_col5\" class=\"data row5 col5\" >16</td>\n",
       "                        <td id=\"T_22d08db0_74a9_11ea_8ebf_c49ded93ade6row5_col6\" class=\"data row5 col6\" >18</td>\n",
       "                        <td id=\"T_22d08db0_74a9_11ea_8ebf_c49ded93ade6row5_col7\" class=\"data row5 col7\" >24</td>\n",
       "                        <td id=\"T_22d08db0_74a9_11ea_8ebf_c49ded93ade6row5_col8\" class=\"data row5 col8\" >25</td>\n",
       "                        <td id=\"T_22d08db0_74a9_11ea_8ebf_c49ded93ade6row5_col9\" class=\"data row5 col9\" >30</td>\n",
       "                        <td id=\"T_22d08db0_74a9_11ea_8ebf_c49ded93ade6row5_col10\" class=\"data row5 col10\" >39</td>\n",
       "                        <td id=\"T_22d08db0_74a9_11ea_8ebf_c49ded93ade6row5_col11\" class=\"data row5 col11\" >50</td>\n",
       "                        <td id=\"T_22d08db0_74a9_11ea_8ebf_c49ded93ade6row5_col12\" class=\"data row5 col12\" >65</td>\n",
       "                        <td id=\"T_22d08db0_74a9_11ea_8ebf_c49ded93ade6row5_col13\" class=\"data row5 col13\" >81</td>\n",
       "                        <td id=\"T_22d08db0_74a9_11ea_8ebf_c49ded93ade6row5_col14\" class=\"data row5 col14\" >94</td>\n",
       "                        <td id=\"T_22d08db0_74a9_11ea_8ebf_c49ded93ade6row5_col15\" class=\"data row5 col15\" >110</td>\n",
       "                        <td id=\"T_22d08db0_74a9_11ea_8ebf_c49ded93ade6row5_col16\" class=\"data row5 col16\" >124</td>\n",
       "                        <td id=\"T_22d08db0_74a9_11ea_8ebf_c49ded93ade6row5_col17\" class=\"data row5 col17\" >146</td>\n",
       "                        <td id=\"T_22d08db0_74a9_11ea_8ebf_c49ded93ade6row5_col18\" class=\"data row5 col18\" >173</td>\n",
       "                        <td id=\"T_22d08db0_74a9_11ea_8ebf_c49ded93ade6row5_col19\" class=\"data row5 col19\" >199</td>\n",
       "                        <td id=\"T_22d08db0_74a9_11ea_8ebf_c49ded93ade6row5_col20\" class=\"data row5 col20\" >4%</td>\n",
       "            </tr>\n",
       "            <tr>\n",
       "                        <th id=\"T_22d08db0_74a9_11ea_8ebf_c49ded93ade6level0_row6\" class=\"row_heading level0 row6\" >Illinois</th>\n",
       "                        <td id=\"T_22d08db0_74a9_11ea_8ebf_c49ded93ade6row6_col0\" class=\"data row6 col0\" >0</td>\n",
       "                        <td id=\"T_22d08db0_74a9_11ea_8ebf_c49ded93ade6row6_col1\" class=\"data row6 col1\" >0</td>\n",
       "                        <td id=\"T_22d08db0_74a9_11ea_8ebf_c49ded93ade6row6_col2\" class=\"data row6 col2\" >0</td>\n",
       "                        <td id=\"T_22d08db0_74a9_11ea_8ebf_c49ded93ade6row6_col3\" class=\"data row6 col3\" >0</td>\n",
       "                        <td id=\"T_22d08db0_74a9_11ea_8ebf_c49ded93ade6row6_col4\" class=\"data row6 col4\" >1</td>\n",
       "                        <td id=\"T_22d08db0_74a9_11ea_8ebf_c49ded93ade6row6_col5\" class=\"data row6 col5\" >1</td>\n",
       "                        <td id=\"T_22d08db0_74a9_11ea_8ebf_c49ded93ade6row6_col6\" class=\"data row6 col6\" >4</td>\n",
       "                        <td id=\"T_22d08db0_74a9_11ea_8ebf_c49ded93ade6row6_col7\" class=\"data row6 col7\" >5</td>\n",
       "                        <td id=\"T_22d08db0_74a9_11ea_8ebf_c49ded93ade6row6_col8\" class=\"data row6 col8\" >6</td>\n",
       "                        <td id=\"T_22d08db0_74a9_11ea_8ebf_c49ded93ade6row6_col9\" class=\"data row6 col9\" >9</td>\n",
       "                        <td id=\"T_22d08db0_74a9_11ea_8ebf_c49ded93ade6row6_col10\" class=\"data row6 col10\" >12</td>\n",
       "                        <td id=\"T_22d08db0_74a9_11ea_8ebf_c49ded93ade6row6_col11\" class=\"data row6 col11\" >16</td>\n",
       "                        <td id=\"T_22d08db0_74a9_11ea_8ebf_c49ded93ade6row6_col12\" class=\"data row6 col12\" >19</td>\n",
       "                        <td id=\"T_22d08db0_74a9_11ea_8ebf_c49ded93ade6row6_col13\" class=\"data row6 col13\" >26</td>\n",
       "                        <td id=\"T_22d08db0_74a9_11ea_8ebf_c49ded93ade6row6_col14\" class=\"data row6 col14\" >34</td>\n",
       "                        <td id=\"T_22d08db0_74a9_11ea_8ebf_c49ded93ade6row6_col15\" class=\"data row6 col15\" >47</td>\n",
       "                        <td id=\"T_22d08db0_74a9_11ea_8ebf_c49ded93ade6row6_col16\" class=\"data row6 col16\" >66</td>\n",
       "                        <td id=\"T_22d08db0_74a9_11ea_8ebf_c49ded93ade6row6_col17\" class=\"data row6 col17\" >73</td>\n",
       "                        <td id=\"T_22d08db0_74a9_11ea_8ebf_c49ded93ade6row6_col18\" class=\"data row6 col18\" >99</td>\n",
       "                        <td id=\"T_22d08db0_74a9_11ea_8ebf_c49ded93ade6row6_col19\" class=\"data row6 col19\" >141</td>\n",
       "                        <td id=\"T_22d08db0_74a9_11ea_8ebf_c49ded93ade6row6_col20\" class=\"data row6 col20\" >3%</td>\n",
       "            </tr>\n",
       "            <tr>\n",
       "                        <th id=\"T_22d08db0_74a9_11ea_8ebf_c49ded93ade6level0_row7\" class=\"row_heading level0 row7\" >Georgia</th>\n",
       "                        <td id=\"T_22d08db0_74a9_11ea_8ebf_c49ded93ade6row7_col0\" class=\"data row7 col0\" >1</td>\n",
       "                        <td id=\"T_22d08db0_74a9_11ea_8ebf_c49ded93ade6row7_col1\" class=\"data row7 col1\" >1</td>\n",
       "                        <td id=\"T_22d08db0_74a9_11ea_8ebf_c49ded93ade6row7_col2\" class=\"data row7 col2\" >1</td>\n",
       "                        <td id=\"T_22d08db0_74a9_11ea_8ebf_c49ded93ade6row7_col3\" class=\"data row7 col3\" >1</td>\n",
       "                        <td id=\"T_22d08db0_74a9_11ea_8ebf_c49ded93ade6row7_col4\" class=\"data row7 col4\" >1</td>\n",
       "                        <td id=\"T_22d08db0_74a9_11ea_8ebf_c49ded93ade6row7_col5\" class=\"data row7 col5\" >3</td>\n",
       "                        <td id=\"T_22d08db0_74a9_11ea_8ebf_c49ded93ade6row7_col6\" class=\"data row7 col6\" >10</td>\n",
       "                        <td id=\"T_22d08db0_74a9_11ea_8ebf_c49ded93ade6row7_col7\" class=\"data row7 col7\" >14</td>\n",
       "                        <td id=\"T_22d08db0_74a9_11ea_8ebf_c49ded93ade6row7_col8\" class=\"data row7 col8\" >20</td>\n",
       "                        <td id=\"T_22d08db0_74a9_11ea_8ebf_c49ded93ade6row7_col9\" class=\"data row7 col9\" >25</td>\n",
       "                        <td id=\"T_22d08db0_74a9_11ea_8ebf_c49ded93ade6row7_col10\" class=\"data row7 col10\" >25</td>\n",
       "                        <td id=\"T_22d08db0_74a9_11ea_8ebf_c49ded93ade6row7_col11\" class=\"data row7 col11\" >32</td>\n",
       "                        <td id=\"T_22d08db0_74a9_11ea_8ebf_c49ded93ade6row7_col12\" class=\"data row7 col12\" >40</td>\n",
       "                        <td id=\"T_22d08db0_74a9_11ea_8ebf_c49ded93ade6row7_col13\" class=\"data row7 col13\" >48</td>\n",
       "                        <td id=\"T_22d08db0_74a9_11ea_8ebf_c49ded93ade6row7_col14\" class=\"data row7 col14\" >64</td>\n",
       "                        <td id=\"T_22d08db0_74a9_11ea_8ebf_c49ded93ade6row7_col15\" class=\"data row7 col15\" >69</td>\n",
       "                        <td id=\"T_22d08db0_74a9_11ea_8ebf_c49ded93ade6row7_col16\" class=\"data row7 col16\" >80</td>\n",
       "                        <td id=\"T_22d08db0_74a9_11ea_8ebf_c49ded93ade6row7_col17\" class=\"data row7 col17\" >87</td>\n",
       "                        <td id=\"T_22d08db0_74a9_11ea_8ebf_c49ded93ade6row7_col18\" class=\"data row7 col18\" >111</td>\n",
       "                        <td id=\"T_22d08db0_74a9_11ea_8ebf_c49ded93ade6row7_col19\" class=\"data row7 col19\" >139</td>\n",
       "                        <td id=\"T_22d08db0_74a9_11ea_8ebf_c49ded93ade6row7_col20\" class=\"data row7 col20\" >3%</td>\n",
       "            </tr>\n",
       "            <tr>\n",
       "                        <th id=\"T_22d08db0_74a9_11ea_8ebf_c49ded93ade6level0_row8\" class=\"row_heading level0 row8\" >Massachusetts</th>\n",
       "                        <td id=\"T_22d08db0_74a9_11ea_8ebf_c49ded93ade6row8_col0\" class=\"data row8 col0\" >0</td>\n",
       "                        <td id=\"T_22d08db0_74a9_11ea_8ebf_c49ded93ade6row8_col1\" class=\"data row8 col1\" >0</td>\n",
       "                        <td id=\"T_22d08db0_74a9_11ea_8ebf_c49ded93ade6row8_col2\" class=\"data row8 col2\" >0</td>\n",
       "                        <td id=\"T_22d08db0_74a9_11ea_8ebf_c49ded93ade6row8_col3\" class=\"data row8 col3\" >0</td>\n",
       "                        <td id=\"T_22d08db0_74a9_11ea_8ebf_c49ded93ade6row8_col4\" class=\"data row8 col4\" >0</td>\n",
       "                        <td id=\"T_22d08db0_74a9_11ea_8ebf_c49ded93ade6row8_col5\" class=\"data row8 col5\" >0</td>\n",
       "                        <td id=\"T_22d08db0_74a9_11ea_8ebf_c49ded93ade6row8_col6\" class=\"data row8 col6\" >0</td>\n",
       "                        <td id=\"T_22d08db0_74a9_11ea_8ebf_c49ded93ade6row8_col7\" class=\"data row8 col7\" >1</td>\n",
       "                        <td id=\"T_22d08db0_74a9_11ea_8ebf_c49ded93ade6row8_col8\" class=\"data row8 col8\" >1</td>\n",
       "                        <td id=\"T_22d08db0_74a9_11ea_8ebf_c49ded93ade6row8_col9\" class=\"data row8 col9\" >5</td>\n",
       "                        <td id=\"T_22d08db0_74a9_11ea_8ebf_c49ded93ade6row8_col10\" class=\"data row8 col10\" >9</td>\n",
       "                        <td id=\"T_22d08db0_74a9_11ea_8ebf_c49ded93ade6row8_col11\" class=\"data row8 col11\" >11</td>\n",
       "                        <td id=\"T_22d08db0_74a9_11ea_8ebf_c49ded93ade6row8_col12\" class=\"data row8 col12\" >15</td>\n",
       "                        <td id=\"T_22d08db0_74a9_11ea_8ebf_c49ded93ade6row8_col13\" class=\"data row8 col13\" >25</td>\n",
       "                        <td id=\"T_22d08db0_74a9_11ea_8ebf_c49ded93ade6row8_col14\" class=\"data row8 col14\" >35</td>\n",
       "                        <td id=\"T_22d08db0_74a9_11ea_8ebf_c49ded93ade6row8_col15\" class=\"data row8 col15\" >44</td>\n",
       "                        <td id=\"T_22d08db0_74a9_11ea_8ebf_c49ded93ade6row8_col16\" class=\"data row8 col16\" >48</td>\n",
       "                        <td id=\"T_22d08db0_74a9_11ea_8ebf_c49ded93ade6row8_col17\" class=\"data row8 col17\" >56</td>\n",
       "                        <td id=\"T_22d08db0_74a9_11ea_8ebf_c49ded93ade6row8_col18\" class=\"data row8 col18\" >89</td>\n",
       "                        <td id=\"T_22d08db0_74a9_11ea_8ebf_c49ded93ade6row8_col19\" class=\"data row8 col19\" >122</td>\n",
       "                        <td id=\"T_22d08db0_74a9_11ea_8ebf_c49ded93ade6row8_col20\" class=\"data row8 col20\" >3%</td>\n",
       "            </tr>\n",
       "            <tr>\n",
       "                        <th id=\"T_22d08db0_74a9_11ea_8ebf_c49ded93ade6level0_row9\" class=\"row_heading level0 row9\" >Florida</th>\n",
       "                        <td id=\"T_22d08db0_74a9_11ea_8ebf_c49ded93ade6row9_col0\" class=\"data row9 col0\" >2</td>\n",
       "                        <td id=\"T_22d08db0_74a9_11ea_8ebf_c49ded93ade6row9_col1\" class=\"data row9 col1\" >2</td>\n",
       "                        <td id=\"T_22d08db0_74a9_11ea_8ebf_c49ded93ade6row9_col2\" class=\"data row9 col2\" >3</td>\n",
       "                        <td id=\"T_22d08db0_74a9_11ea_8ebf_c49ded93ade6row9_col3\" class=\"data row9 col3\" >3</td>\n",
       "                        <td id=\"T_22d08db0_74a9_11ea_8ebf_c49ded93ade6row9_col4\" class=\"data row9 col4\" >5</td>\n",
       "                        <td id=\"T_22d08db0_74a9_11ea_8ebf_c49ded93ade6row9_col5\" class=\"data row9 col5\" >7</td>\n",
       "                        <td id=\"T_22d08db0_74a9_11ea_8ebf_c49ded93ade6row9_col6\" class=\"data row9 col6\" >9</td>\n",
       "                        <td id=\"T_22d08db0_74a9_11ea_8ebf_c49ded93ade6row9_col7\" class=\"data row9 col7\" >11</td>\n",
       "                        <td id=\"T_22d08db0_74a9_11ea_8ebf_c49ded93ade6row9_col8\" class=\"data row9 col8\" >13</td>\n",
       "                        <td id=\"T_22d08db0_74a9_11ea_8ebf_c49ded93ade6row9_col9\" class=\"data row9 col9\" >13</td>\n",
       "                        <td id=\"T_22d08db0_74a9_11ea_8ebf_c49ded93ade6row9_col10\" class=\"data row9 col10\" >18</td>\n",
       "                        <td id=\"T_22d08db0_74a9_11ea_8ebf_c49ded93ade6row9_col11\" class=\"data row9 col11\" >18</td>\n",
       "                        <td id=\"T_22d08db0_74a9_11ea_8ebf_c49ded93ade6row9_col12\" class=\"data row9 col12\" >23</td>\n",
       "                        <td id=\"T_22d08db0_74a9_11ea_8ebf_c49ded93ade6row9_col13\" class=\"data row9 col13\" >29</td>\n",
       "                        <td id=\"T_22d08db0_74a9_11ea_8ebf_c49ded93ade6row9_col14\" class=\"data row9 col14\" >35</td>\n",
       "                        <td id=\"T_22d08db0_74a9_11ea_8ebf_c49ded93ade6row9_col15\" class=\"data row9 col15\" >54</td>\n",
       "                        <td id=\"T_22d08db0_74a9_11ea_8ebf_c49ded93ade6row9_col16\" class=\"data row9 col16\" >56</td>\n",
       "                        <td id=\"T_22d08db0_74a9_11ea_8ebf_c49ded93ade6row9_col17\" class=\"data row9 col17\" >63</td>\n",
       "                        <td id=\"T_22d08db0_74a9_11ea_8ebf_c49ded93ade6row9_col18\" class=\"data row9 col18\" >85</td>\n",
       "                        <td id=\"T_22d08db0_74a9_11ea_8ebf_c49ded93ade6row9_col19\" class=\"data row9 col19\" >87</td>\n",
       "                        <td id=\"T_22d08db0_74a9_11ea_8ebf_c49ded93ade6row9_col20\" class=\"data row9 col20\" >2%</td>\n",
       "            </tr>\n",
       "    </tbody></table>"
      ],
      "text/plain": [
       "<pandas.io.formats.style.Styler at 0xdc35890>"
      ]
     },
     "execution_count": 24,
     "metadata": {},
     "output_type": "execute_result"
    }
   ],
   "source": [
    "dfUSDeathsTop = dfDeathsUSStates.sort_values(dfDeathsUSStates.columns[-1], ascending=False).head(10)\n",
    "\n",
    "data = [{\n",
    "    'x': row[1].index[-31:],\n",
    "    'y': row[1].values[-31:],\n",
    "    'name': row[0]\n",
    "}  for row in dfUSDeathsTop.iterrows()]\n",
    "\n",
    "updatemenus = list([\n",
    "    dict(active=0,\n",
    "         type='buttons',\n",
    "         direction='right',\n",
    "         x=0.45,\n",
    "         xanchor=\"left\",\n",
    "         y=1.1,\n",
    "         yanchor=\"top\",\n",
    "         buttons=list([\n",
    "            dict(label='Linear Scale',\n",
    "                 method='update',\n",
    "                 args=[{'visible': [True, True]},\n",
    "                       {'yaxis': {'type': 'linear'}}]),\n",
    "            dict(label='Logarithmic Scale',\n",
    "                 method='update',\n",
    "                 args=[{'visible': [True, True]},\n",
    "                       {'yaxis': {'type': 'log'}}])\n",
    "            ]),\n",
    "        )\n",
    "    ])\n",
    "\n",
    "layout = dict(title = 'US Deaths', updatemenus=LogLinearScale)\n",
    "py.iplot(dict(data=data, layout=layout))\n",
    "dfUSDeathsTop = dfUSDeathsTop[dfUSDeathsTop.columns[-DEFAULT_DAYS:]]\n",
    "dfUSDeathsTop['percent_of_total'] = dfDeathsUSStates[dfDeathsUSStates.columns[-1]]/sum(dfDeathsUSStates[dfDeathsUSStates.columns[-1]])\n",
    "\n",
    "colFormats = dict.fromkeys(list(a for a in dfUSDeathsTop.columns[1:]), IntegerFormatter)\n",
    "colFormats['percent_of_total'] = PercentFormatter\n",
    "dfUSDeathsTop.style.format({'percent_of_total': PercentFormatter})"
   ]
  },
  {
   "cell_type": "code",
   "execution_count": 25,
   "metadata": {
    "ExecuteTime": {
     "end_time": "2020-04-02T06:13:57.741907Z",
     "start_time": "2020-04-02T06:13:57.109908Z"
    },
    "extensions": {
     "jupyter_dashboards": {
      "version": 1,
      "views": {
       "grid_default": {
        "col": 0,
        "height": 31,
        "hidden": false,
        "row": 174,
        "width": null
       },
       "report_default": {
        "hidden": false
       }
      }
     }
    }
   },
   "outputs": [
    {
     "data": {
      "application/vnd.plotly.v1+json": {
       "config": {
        "linkText": "Export to plot.ly",
        "plotlyServerURL": "https://plot.ly",
        "showLink": false
       },
       "data": [
        {
         "name": "New Confirmed Cases",
         "type": "bar",
         "x": [
          "3/13/20",
          "3/14/20",
          "3/15/20",
          "3/16/20",
          "3/17/20",
          "3/18/20",
          "3/19/20",
          "3/20/20",
          "3/21/20",
          "3/22/20",
          "3/23/20",
          "3/24/20",
          "3/25/20",
          "3/26/20",
          "3/27/20",
          "3/28/20",
          "3/29/20",
          "3/30/20",
          "3/31/20",
          "4/1/20"
         ],
         "y": [
          null,
          192,
          2,
          352,
          611,
          1460,
          2666,
          2699,
          3324,
          4073,
          5084,
          4797,
          5160,
          7036,
          6999,
          7534,
          7238,
          7015,
          9170,
          8115
         ]
        },
        {
         "name": "New Deaths",
         "type": "bar",
         "x": [
          "3/13/20",
          "3/14/20",
          "3/15/20",
          "3/16/20",
          "3/17/20",
          "3/18/20",
          "3/19/20",
          "3/20/20",
          "3/21/20",
          "3/22/20",
          "3/23/20",
          "3/24/20",
          "3/25/20",
          "3/26/20",
          "3/27/20",
          "3/28/20",
          "3/29/20",
          "3/30/20",
          "3/31/20",
          "4/1/20"
         ],
         "y": [
          null,
          2,
          0,
          8,
          3,
          4,
          21,
          8,
          14,
          57,
          41,
          52,
          75,
          100,
          142,
          201,
          237,
          253,
          332,
          391
         ]
        }
       ],
       "layout": {
        "template": {
         "data": {
          "bar": [
           {
            "error_x": {
             "color": "#2a3f5f"
            },
            "error_y": {
             "color": "#2a3f5f"
            },
            "marker": {
             "line": {
              "color": "#E5ECF6",
              "width": 0.5
             }
            },
            "type": "bar"
           }
          ],
          "barpolar": [
           {
            "marker": {
             "line": {
              "color": "#E5ECF6",
              "width": 0.5
             }
            },
            "type": "barpolar"
           }
          ],
          "carpet": [
           {
            "aaxis": {
             "endlinecolor": "#2a3f5f",
             "gridcolor": "white",
             "linecolor": "white",
             "minorgridcolor": "white",
             "startlinecolor": "#2a3f5f"
            },
            "baxis": {
             "endlinecolor": "#2a3f5f",
             "gridcolor": "white",
             "linecolor": "white",
             "minorgridcolor": "white",
             "startlinecolor": "#2a3f5f"
            },
            "type": "carpet"
           }
          ],
          "choropleth": [
           {
            "colorbar": {
             "outlinewidth": 0,
             "ticks": ""
            },
            "type": "choropleth"
           }
          ],
          "contour": [
           {
            "colorbar": {
             "outlinewidth": 0,
             "ticks": ""
            },
            "colorscale": [
             [
              0,
              "#0d0887"
             ],
             [
              0.1111111111111111,
              "#46039f"
             ],
             [
              0.2222222222222222,
              "#7201a8"
             ],
             [
              0.3333333333333333,
              "#9c179e"
             ],
             [
              0.4444444444444444,
              "#bd3786"
             ],
             [
              0.5555555555555556,
              "#d8576b"
             ],
             [
              0.6666666666666666,
              "#ed7953"
             ],
             [
              0.7777777777777778,
              "#fb9f3a"
             ],
             [
              0.8888888888888888,
              "#fdca26"
             ],
             [
              1,
              "#f0f921"
             ]
            ],
            "type": "contour"
           }
          ],
          "contourcarpet": [
           {
            "colorbar": {
             "outlinewidth": 0,
             "ticks": ""
            },
            "type": "contourcarpet"
           }
          ],
          "heatmap": [
           {
            "colorbar": {
             "outlinewidth": 0,
             "ticks": ""
            },
            "colorscale": [
             [
              0,
              "#0d0887"
             ],
             [
              0.1111111111111111,
              "#46039f"
             ],
             [
              0.2222222222222222,
              "#7201a8"
             ],
             [
              0.3333333333333333,
              "#9c179e"
             ],
             [
              0.4444444444444444,
              "#bd3786"
             ],
             [
              0.5555555555555556,
              "#d8576b"
             ],
             [
              0.6666666666666666,
              "#ed7953"
             ],
             [
              0.7777777777777778,
              "#fb9f3a"
             ],
             [
              0.8888888888888888,
              "#fdca26"
             ],
             [
              1,
              "#f0f921"
             ]
            ],
            "type": "heatmap"
           }
          ],
          "heatmapgl": [
           {
            "colorbar": {
             "outlinewidth": 0,
             "ticks": ""
            },
            "colorscale": [
             [
              0,
              "#0d0887"
             ],
             [
              0.1111111111111111,
              "#46039f"
             ],
             [
              0.2222222222222222,
              "#7201a8"
             ],
             [
              0.3333333333333333,
              "#9c179e"
             ],
             [
              0.4444444444444444,
              "#bd3786"
             ],
             [
              0.5555555555555556,
              "#d8576b"
             ],
             [
              0.6666666666666666,
              "#ed7953"
             ],
             [
              0.7777777777777778,
              "#fb9f3a"
             ],
             [
              0.8888888888888888,
              "#fdca26"
             ],
             [
              1,
              "#f0f921"
             ]
            ],
            "type": "heatmapgl"
           }
          ],
          "histogram": [
           {
            "marker": {
             "colorbar": {
              "outlinewidth": 0,
              "ticks": ""
             }
            },
            "type": "histogram"
           }
          ],
          "histogram2d": [
           {
            "colorbar": {
             "outlinewidth": 0,
             "ticks": ""
            },
            "colorscale": [
             [
              0,
              "#0d0887"
             ],
             [
              0.1111111111111111,
              "#46039f"
             ],
             [
              0.2222222222222222,
              "#7201a8"
             ],
             [
              0.3333333333333333,
              "#9c179e"
             ],
             [
              0.4444444444444444,
              "#bd3786"
             ],
             [
              0.5555555555555556,
              "#d8576b"
             ],
             [
              0.6666666666666666,
              "#ed7953"
             ],
             [
              0.7777777777777778,
              "#fb9f3a"
             ],
             [
              0.8888888888888888,
              "#fdca26"
             ],
             [
              1,
              "#f0f921"
             ]
            ],
            "type": "histogram2d"
           }
          ],
          "histogram2dcontour": [
           {
            "colorbar": {
             "outlinewidth": 0,
             "ticks": ""
            },
            "colorscale": [
             [
              0,
              "#0d0887"
             ],
             [
              0.1111111111111111,
              "#46039f"
             ],
             [
              0.2222222222222222,
              "#7201a8"
             ],
             [
              0.3333333333333333,
              "#9c179e"
             ],
             [
              0.4444444444444444,
              "#bd3786"
             ],
             [
              0.5555555555555556,
              "#d8576b"
             ],
             [
              0.6666666666666666,
              "#ed7953"
             ],
             [
              0.7777777777777778,
              "#fb9f3a"
             ],
             [
              0.8888888888888888,
              "#fdca26"
             ],
             [
              1,
              "#f0f921"
             ]
            ],
            "type": "histogram2dcontour"
           }
          ],
          "mesh3d": [
           {
            "colorbar": {
             "outlinewidth": 0,
             "ticks": ""
            },
            "type": "mesh3d"
           }
          ],
          "parcoords": [
           {
            "line": {
             "colorbar": {
              "outlinewidth": 0,
              "ticks": ""
             }
            },
            "type": "parcoords"
           }
          ],
          "pie": [
           {
            "automargin": true,
            "type": "pie"
           }
          ],
          "scatter": [
           {
            "marker": {
             "colorbar": {
              "outlinewidth": 0,
              "ticks": ""
             }
            },
            "type": "scatter"
           }
          ],
          "scatter3d": [
           {
            "line": {
             "colorbar": {
              "outlinewidth": 0,
              "ticks": ""
             }
            },
            "marker": {
             "colorbar": {
              "outlinewidth": 0,
              "ticks": ""
             }
            },
            "type": "scatter3d"
           }
          ],
          "scattercarpet": [
           {
            "marker": {
             "colorbar": {
              "outlinewidth": 0,
              "ticks": ""
             }
            },
            "type": "scattercarpet"
           }
          ],
          "scattergeo": [
           {
            "marker": {
             "colorbar": {
              "outlinewidth": 0,
              "ticks": ""
             }
            },
            "type": "scattergeo"
           }
          ],
          "scattergl": [
           {
            "marker": {
             "colorbar": {
              "outlinewidth": 0,
              "ticks": ""
             }
            },
            "type": "scattergl"
           }
          ],
          "scattermapbox": [
           {
            "marker": {
             "colorbar": {
              "outlinewidth": 0,
              "ticks": ""
             }
            },
            "type": "scattermapbox"
           }
          ],
          "scatterpolar": [
           {
            "marker": {
             "colorbar": {
              "outlinewidth": 0,
              "ticks": ""
             }
            },
            "type": "scatterpolar"
           }
          ],
          "scatterpolargl": [
           {
            "marker": {
             "colorbar": {
              "outlinewidth": 0,
              "ticks": ""
             }
            },
            "type": "scatterpolargl"
           }
          ],
          "scatterternary": [
           {
            "marker": {
             "colorbar": {
              "outlinewidth": 0,
              "ticks": ""
             }
            },
            "type": "scatterternary"
           }
          ],
          "surface": [
           {
            "colorbar": {
             "outlinewidth": 0,
             "ticks": ""
            },
            "colorscale": [
             [
              0,
              "#0d0887"
             ],
             [
              0.1111111111111111,
              "#46039f"
             ],
             [
              0.2222222222222222,
              "#7201a8"
             ],
             [
              0.3333333333333333,
              "#9c179e"
             ],
             [
              0.4444444444444444,
              "#bd3786"
             ],
             [
              0.5555555555555556,
              "#d8576b"
             ],
             [
              0.6666666666666666,
              "#ed7953"
             ],
             [
              0.7777777777777778,
              "#fb9f3a"
             ],
             [
              0.8888888888888888,
              "#fdca26"
             ],
             [
              1,
              "#f0f921"
             ]
            ],
            "type": "surface"
           }
          ],
          "table": [
           {
            "cells": {
             "fill": {
              "color": "#EBF0F8"
             },
             "line": {
              "color": "white"
             }
            },
            "header": {
             "fill": {
              "color": "#C8D4E3"
             },
             "line": {
              "color": "white"
             }
            },
            "type": "table"
           }
          ]
         },
         "layout": {
          "annotationdefaults": {
           "arrowcolor": "#2a3f5f",
           "arrowhead": 0,
           "arrowwidth": 1
          },
          "coloraxis": {
           "colorbar": {
            "outlinewidth": 0,
            "ticks": ""
           }
          },
          "colorscale": {
           "diverging": [
            [
             0,
             "#8e0152"
            ],
            [
             0.1,
             "#c51b7d"
            ],
            [
             0.2,
             "#de77ae"
            ],
            [
             0.3,
             "#f1b6da"
            ],
            [
             0.4,
             "#fde0ef"
            ],
            [
             0.5,
             "#f7f7f7"
            ],
            [
             0.6,
             "#e6f5d0"
            ],
            [
             0.7,
             "#b8e186"
            ],
            [
             0.8,
             "#7fbc41"
            ],
            [
             0.9,
             "#4d9221"
            ],
            [
             1,
             "#276419"
            ]
           ],
           "sequential": [
            [
             0,
             "#0d0887"
            ],
            [
             0.1111111111111111,
             "#46039f"
            ],
            [
             0.2222222222222222,
             "#7201a8"
            ],
            [
             0.3333333333333333,
             "#9c179e"
            ],
            [
             0.4444444444444444,
             "#bd3786"
            ],
            [
             0.5555555555555556,
             "#d8576b"
            ],
            [
             0.6666666666666666,
             "#ed7953"
            ],
            [
             0.7777777777777778,
             "#fb9f3a"
            ],
            [
             0.8888888888888888,
             "#fdca26"
            ],
            [
             1,
             "#f0f921"
            ]
           ],
           "sequentialminus": [
            [
             0,
             "#0d0887"
            ],
            [
             0.1111111111111111,
             "#46039f"
            ],
            [
             0.2222222222222222,
             "#7201a8"
            ],
            [
             0.3333333333333333,
             "#9c179e"
            ],
            [
             0.4444444444444444,
             "#bd3786"
            ],
            [
             0.5555555555555556,
             "#d8576b"
            ],
            [
             0.6666666666666666,
             "#ed7953"
            ],
            [
             0.7777777777777778,
             "#fb9f3a"
            ],
            [
             0.8888888888888888,
             "#fdca26"
            ],
            [
             1,
             "#f0f921"
            ]
           ]
          },
          "colorway": [
           "#636efa",
           "#EF553B",
           "#00cc96",
           "#ab63fa",
           "#FFA15A",
           "#19d3f3",
           "#FF6692",
           "#B6E880",
           "#FF97FF",
           "#FECB52"
          ],
          "font": {
           "color": "#2a3f5f"
          },
          "geo": {
           "bgcolor": "white",
           "lakecolor": "white",
           "landcolor": "#E5ECF6",
           "showlakes": true,
           "showland": true,
           "subunitcolor": "white"
          },
          "hoverlabel": {
           "align": "left"
          },
          "hovermode": "closest",
          "mapbox": {
           "style": "light"
          },
          "paper_bgcolor": "white",
          "plot_bgcolor": "#E5ECF6",
          "polar": {
           "angularaxis": {
            "gridcolor": "white",
            "linecolor": "white",
            "ticks": ""
           },
           "bgcolor": "#E5ECF6",
           "radialaxis": {
            "gridcolor": "white",
            "linecolor": "white",
            "ticks": ""
           }
          },
          "scene": {
           "xaxis": {
            "backgroundcolor": "#E5ECF6",
            "gridcolor": "white",
            "gridwidth": 2,
            "linecolor": "white",
            "showbackground": true,
            "ticks": "",
            "zerolinecolor": "white"
           },
           "yaxis": {
            "backgroundcolor": "#E5ECF6",
            "gridcolor": "white",
            "gridwidth": 2,
            "linecolor": "white",
            "showbackground": true,
            "ticks": "",
            "zerolinecolor": "white"
           },
           "zaxis": {
            "backgroundcolor": "#E5ECF6",
            "gridcolor": "white",
            "gridwidth": 2,
            "linecolor": "white",
            "showbackground": true,
            "ticks": "",
            "zerolinecolor": "white"
           }
          },
          "shapedefaults": {
           "line": {
            "color": "#2a3f5f"
           }
          },
          "ternary": {
           "aaxis": {
            "gridcolor": "white",
            "linecolor": "white",
            "ticks": ""
           },
           "baxis": {
            "gridcolor": "white",
            "linecolor": "white",
            "ticks": ""
           },
           "bgcolor": "#E5ECF6",
           "caxis": {
            "gridcolor": "white",
            "linecolor": "white",
            "ticks": ""
           }
          },
          "title": {
           "x": 0.05
          },
          "xaxis": {
           "automargin": true,
           "gridcolor": "white",
           "linecolor": "white",
           "ticks": "",
           "title": {
            "standoff": 15
           },
           "zerolinecolor": "white",
           "zerolinewidth": 2
          },
          "yaxis": {
           "automargin": true,
           "gridcolor": "white",
           "linecolor": "white",
           "ticks": "",
           "title": {
            "standoff": 15
           },
           "zerolinecolor": "white",
           "zerolinewidth": 2
          }
         }
        },
        "title": {
         "text": "NY - Daily Cases and Deaths"
        }
       }
      },
      "text/html": [
       "<div>\n",
       "        \n",
       "        \n",
       "            <div id=\"f2139129-9aee-4e6a-b9fe-572e0463695d\" class=\"plotly-graph-div\" style=\"height:525px; width:100%;\"></div>\n",
       "            <script type=\"text/javascript\">\n",
       "                require([\"plotly\"], function(Plotly) {\n",
       "                    window.PLOTLYENV=window.PLOTLYENV || {};\n",
       "                    \n",
       "                if (document.getElementById(\"f2139129-9aee-4e6a-b9fe-572e0463695d\")) {\n",
       "                    Plotly.newPlot(\n",
       "                        'f2139129-9aee-4e6a-b9fe-572e0463695d',\n",
       "                        [{\"name\": \"New Confirmed Cases\", \"type\": \"bar\", \"x\": [\"3/13/20\", \"3/14/20\", \"3/15/20\", \"3/16/20\", \"3/17/20\", \"3/18/20\", \"3/19/20\", \"3/20/20\", \"3/21/20\", \"3/22/20\", \"3/23/20\", \"3/24/20\", \"3/25/20\", \"3/26/20\", \"3/27/20\", \"3/28/20\", \"3/29/20\", \"3/30/20\", \"3/31/20\", \"4/1/20\"], \"y\": [null, 192.0, 2.0, 352.0, 611.0, 1460.0, 2666.0, 2699.0, 3324.0, 4073.0, 5084.0, 4797.0, 5160.0, 7036.0, 6999.0, 7534.0, 7238.0, 7015.0, 9170.0, 8115.0]}, {\"name\": \"New Deaths\", \"type\": \"bar\", \"x\": [\"3/13/20\", \"3/14/20\", \"3/15/20\", \"3/16/20\", \"3/17/20\", \"3/18/20\", \"3/19/20\", \"3/20/20\", \"3/21/20\", \"3/22/20\", \"3/23/20\", \"3/24/20\", \"3/25/20\", \"3/26/20\", \"3/27/20\", \"3/28/20\", \"3/29/20\", \"3/30/20\", \"3/31/20\", \"4/1/20\"], \"y\": [null, 2.0, 0.0, 8.0, 3.0, 4.0, 21.0, 8.0, 14.0, 57.0, 41.0, 52.0, 75.0, 100.0, 142.0, 201.0, 237.0, 253.0, 332.0, 391.0]}],\n",
       "                        {\"template\": {\"data\": {\"bar\": [{\"error_x\": {\"color\": \"#2a3f5f\"}, \"error_y\": {\"color\": \"#2a3f5f\"}, \"marker\": {\"line\": {\"color\": \"#E5ECF6\", \"width\": 0.5}}, \"type\": \"bar\"}], \"barpolar\": [{\"marker\": {\"line\": {\"color\": \"#E5ECF6\", \"width\": 0.5}}, \"type\": \"barpolar\"}], \"carpet\": [{\"aaxis\": {\"endlinecolor\": \"#2a3f5f\", \"gridcolor\": \"white\", \"linecolor\": \"white\", \"minorgridcolor\": \"white\", \"startlinecolor\": \"#2a3f5f\"}, \"baxis\": {\"endlinecolor\": \"#2a3f5f\", \"gridcolor\": \"white\", \"linecolor\": \"white\", \"minorgridcolor\": \"white\", \"startlinecolor\": \"#2a3f5f\"}, \"type\": \"carpet\"}], \"choropleth\": [{\"colorbar\": {\"outlinewidth\": 0, \"ticks\": \"\"}, \"type\": \"choropleth\"}], \"contour\": [{\"colorbar\": {\"outlinewidth\": 0, \"ticks\": \"\"}, \"colorscale\": [[0.0, \"#0d0887\"], [0.1111111111111111, \"#46039f\"], [0.2222222222222222, \"#7201a8\"], [0.3333333333333333, \"#9c179e\"], [0.4444444444444444, \"#bd3786\"], [0.5555555555555556, \"#d8576b\"], [0.6666666666666666, \"#ed7953\"], [0.7777777777777778, \"#fb9f3a\"], [0.8888888888888888, \"#fdca26\"], [1.0, \"#f0f921\"]], \"type\": \"contour\"}], \"contourcarpet\": [{\"colorbar\": {\"outlinewidth\": 0, \"ticks\": \"\"}, \"type\": \"contourcarpet\"}], \"heatmap\": [{\"colorbar\": {\"outlinewidth\": 0, \"ticks\": \"\"}, \"colorscale\": [[0.0, \"#0d0887\"], [0.1111111111111111, \"#46039f\"], [0.2222222222222222, \"#7201a8\"], [0.3333333333333333, \"#9c179e\"], [0.4444444444444444, \"#bd3786\"], [0.5555555555555556, \"#d8576b\"], [0.6666666666666666, \"#ed7953\"], [0.7777777777777778, \"#fb9f3a\"], [0.8888888888888888, \"#fdca26\"], [1.0, \"#f0f921\"]], \"type\": \"heatmap\"}], \"heatmapgl\": [{\"colorbar\": {\"outlinewidth\": 0, \"ticks\": \"\"}, \"colorscale\": [[0.0, \"#0d0887\"], [0.1111111111111111, \"#46039f\"], [0.2222222222222222, \"#7201a8\"], [0.3333333333333333, \"#9c179e\"], [0.4444444444444444, \"#bd3786\"], [0.5555555555555556, \"#d8576b\"], [0.6666666666666666, \"#ed7953\"], [0.7777777777777778, \"#fb9f3a\"], [0.8888888888888888, \"#fdca26\"], [1.0, \"#f0f921\"]], \"type\": \"heatmapgl\"}], \"histogram\": [{\"marker\": {\"colorbar\": {\"outlinewidth\": 0, \"ticks\": \"\"}}, \"type\": \"histogram\"}], \"histogram2d\": [{\"colorbar\": {\"outlinewidth\": 0, \"ticks\": \"\"}, \"colorscale\": [[0.0, \"#0d0887\"], [0.1111111111111111, \"#46039f\"], [0.2222222222222222, \"#7201a8\"], [0.3333333333333333, \"#9c179e\"], [0.4444444444444444, \"#bd3786\"], [0.5555555555555556, \"#d8576b\"], [0.6666666666666666, \"#ed7953\"], [0.7777777777777778, \"#fb9f3a\"], [0.8888888888888888, \"#fdca26\"], [1.0, \"#f0f921\"]], \"type\": \"histogram2d\"}], \"histogram2dcontour\": [{\"colorbar\": {\"outlinewidth\": 0, \"ticks\": \"\"}, \"colorscale\": [[0.0, \"#0d0887\"], [0.1111111111111111, \"#46039f\"], [0.2222222222222222, \"#7201a8\"], [0.3333333333333333, \"#9c179e\"], [0.4444444444444444, \"#bd3786\"], [0.5555555555555556, \"#d8576b\"], [0.6666666666666666, \"#ed7953\"], [0.7777777777777778, \"#fb9f3a\"], [0.8888888888888888, \"#fdca26\"], [1.0, \"#f0f921\"]], \"type\": \"histogram2dcontour\"}], \"mesh3d\": [{\"colorbar\": {\"outlinewidth\": 0, \"ticks\": \"\"}, \"type\": \"mesh3d\"}], \"parcoords\": [{\"line\": {\"colorbar\": {\"outlinewidth\": 0, \"ticks\": \"\"}}, \"type\": \"parcoords\"}], \"pie\": [{\"automargin\": true, \"type\": \"pie\"}], \"scatter\": [{\"marker\": {\"colorbar\": {\"outlinewidth\": 0, \"ticks\": \"\"}}, \"type\": \"scatter\"}], \"scatter3d\": [{\"line\": {\"colorbar\": {\"outlinewidth\": 0, \"ticks\": \"\"}}, \"marker\": {\"colorbar\": {\"outlinewidth\": 0, \"ticks\": \"\"}}, \"type\": \"scatter3d\"}], \"scattercarpet\": [{\"marker\": {\"colorbar\": {\"outlinewidth\": 0, \"ticks\": \"\"}}, \"type\": \"scattercarpet\"}], \"scattergeo\": [{\"marker\": {\"colorbar\": {\"outlinewidth\": 0, \"ticks\": \"\"}}, \"type\": \"scattergeo\"}], \"scattergl\": [{\"marker\": {\"colorbar\": {\"outlinewidth\": 0, \"ticks\": \"\"}}, \"type\": \"scattergl\"}], \"scattermapbox\": [{\"marker\": {\"colorbar\": {\"outlinewidth\": 0, \"ticks\": \"\"}}, \"type\": \"scattermapbox\"}], \"scatterpolar\": [{\"marker\": {\"colorbar\": {\"outlinewidth\": 0, \"ticks\": \"\"}}, \"type\": \"scatterpolar\"}], \"scatterpolargl\": [{\"marker\": {\"colorbar\": {\"outlinewidth\": 0, \"ticks\": \"\"}}, \"type\": \"scatterpolargl\"}], \"scatterternary\": [{\"marker\": {\"colorbar\": {\"outlinewidth\": 0, \"ticks\": \"\"}}, \"type\": \"scatterternary\"}], \"surface\": [{\"colorbar\": {\"outlinewidth\": 0, \"ticks\": \"\"}, \"colorscale\": [[0.0, \"#0d0887\"], [0.1111111111111111, \"#46039f\"], [0.2222222222222222, \"#7201a8\"], [0.3333333333333333, \"#9c179e\"], [0.4444444444444444, \"#bd3786\"], [0.5555555555555556, \"#d8576b\"], [0.6666666666666666, \"#ed7953\"], [0.7777777777777778, \"#fb9f3a\"], [0.8888888888888888, \"#fdca26\"], [1.0, \"#f0f921\"]], \"type\": \"surface\"}], \"table\": [{\"cells\": {\"fill\": {\"color\": \"#EBF0F8\"}, \"line\": {\"color\": \"white\"}}, \"header\": {\"fill\": {\"color\": \"#C8D4E3\"}, \"line\": {\"color\": \"white\"}}, \"type\": \"table\"}]}, \"layout\": {\"annotationdefaults\": {\"arrowcolor\": \"#2a3f5f\", \"arrowhead\": 0, \"arrowwidth\": 1}, \"coloraxis\": {\"colorbar\": {\"outlinewidth\": 0, \"ticks\": \"\"}}, \"colorscale\": {\"diverging\": [[0, \"#8e0152\"], [0.1, \"#c51b7d\"], [0.2, \"#de77ae\"], [0.3, \"#f1b6da\"], [0.4, \"#fde0ef\"], [0.5, \"#f7f7f7\"], [0.6, \"#e6f5d0\"], [0.7, \"#b8e186\"], [0.8, \"#7fbc41\"], [0.9, \"#4d9221\"], [1, \"#276419\"]], \"sequential\": [[0.0, \"#0d0887\"], [0.1111111111111111, \"#46039f\"], [0.2222222222222222, \"#7201a8\"], [0.3333333333333333, \"#9c179e\"], [0.4444444444444444, \"#bd3786\"], [0.5555555555555556, \"#d8576b\"], [0.6666666666666666, \"#ed7953\"], [0.7777777777777778, \"#fb9f3a\"], [0.8888888888888888, \"#fdca26\"], [1.0, \"#f0f921\"]], \"sequentialminus\": [[0.0, \"#0d0887\"], [0.1111111111111111, \"#46039f\"], [0.2222222222222222, \"#7201a8\"], [0.3333333333333333, \"#9c179e\"], [0.4444444444444444, \"#bd3786\"], [0.5555555555555556, \"#d8576b\"], [0.6666666666666666, \"#ed7953\"], [0.7777777777777778, \"#fb9f3a\"], [0.8888888888888888, \"#fdca26\"], [1.0, \"#f0f921\"]]}, \"colorway\": [\"#636efa\", \"#EF553B\", \"#00cc96\", \"#ab63fa\", \"#FFA15A\", \"#19d3f3\", \"#FF6692\", \"#B6E880\", \"#FF97FF\", \"#FECB52\"], \"font\": {\"color\": \"#2a3f5f\"}, \"geo\": {\"bgcolor\": \"white\", \"lakecolor\": \"white\", \"landcolor\": \"#E5ECF6\", \"showlakes\": true, \"showland\": true, \"subunitcolor\": \"white\"}, \"hoverlabel\": {\"align\": \"left\"}, \"hovermode\": \"closest\", \"mapbox\": {\"style\": \"light\"}, \"paper_bgcolor\": \"white\", \"plot_bgcolor\": \"#E5ECF6\", \"polar\": {\"angularaxis\": {\"gridcolor\": \"white\", \"linecolor\": \"white\", \"ticks\": \"\"}, \"bgcolor\": \"#E5ECF6\", \"radialaxis\": {\"gridcolor\": \"white\", \"linecolor\": \"white\", \"ticks\": \"\"}}, \"scene\": {\"xaxis\": {\"backgroundcolor\": \"#E5ECF6\", \"gridcolor\": \"white\", \"gridwidth\": 2, \"linecolor\": \"white\", \"showbackground\": true, \"ticks\": \"\", \"zerolinecolor\": \"white\"}, \"yaxis\": {\"backgroundcolor\": \"#E5ECF6\", \"gridcolor\": \"white\", \"gridwidth\": 2, \"linecolor\": \"white\", \"showbackground\": true, \"ticks\": \"\", \"zerolinecolor\": \"white\"}, \"zaxis\": {\"backgroundcolor\": \"#E5ECF6\", \"gridcolor\": \"white\", \"gridwidth\": 2, \"linecolor\": \"white\", \"showbackground\": true, \"ticks\": \"\", \"zerolinecolor\": \"white\"}}, \"shapedefaults\": {\"line\": {\"color\": \"#2a3f5f\"}}, \"ternary\": {\"aaxis\": {\"gridcolor\": \"white\", \"linecolor\": \"white\", \"ticks\": \"\"}, \"baxis\": {\"gridcolor\": \"white\", \"linecolor\": \"white\", \"ticks\": \"\"}, \"bgcolor\": \"#E5ECF6\", \"caxis\": {\"gridcolor\": \"white\", \"linecolor\": \"white\", \"ticks\": \"\"}}, \"title\": {\"x\": 0.05}, \"xaxis\": {\"automargin\": true, \"gridcolor\": \"white\", \"linecolor\": \"white\", \"ticks\": \"\", \"title\": {\"standoff\": 15}, \"zerolinecolor\": \"white\", \"zerolinewidth\": 2}, \"yaxis\": {\"automargin\": true, \"gridcolor\": \"white\", \"linecolor\": \"white\", \"ticks\": \"\", \"title\": {\"standoff\": 15}, \"zerolinecolor\": \"white\", \"zerolinewidth\": 2}}}, \"title\": {\"text\": \"NY - Daily Cases and Deaths\"}},\n",
       "                        {\"responsive\": true}\n",
       "                    ).then(function(){\n",
       "                            \n",
       "var gd = document.getElementById('f2139129-9aee-4e6a-b9fe-572e0463695d');\n",
       "var x = new MutationObserver(function (mutations, observer) {{\n",
       "        var display = window.getComputedStyle(gd).display;\n",
       "        if (!display || display === 'none') {{\n",
       "            console.log([gd, 'removed!']);\n",
       "            Plotly.purge(gd);\n",
       "            observer.disconnect();\n",
       "        }}\n",
       "}});\n",
       "\n",
       "// Listen for the removal of the full notebook cells\n",
       "var notebookContainer = gd.closest('#notebook-container');\n",
       "if (notebookContainer) {{\n",
       "    x.observe(notebookContainer, {childList: true});\n",
       "}}\n",
       "\n",
       "// Listen for the clearing of the current output cell\n",
       "var outputEl = gd.closest('.output');\n",
       "if (outputEl) {{\n",
       "    x.observe(outputEl, {childList: true});\n",
       "}}\n",
       "\n",
       "                        })\n",
       "                };\n",
       "                });\n",
       "            </script>\n",
       "        </div>"
      ]
     },
     "metadata": {},
     "output_type": "display_data"
    }
   ],
   "source": [
    "dfNYConfirmed = dfConfirmedUSStates[dfConfirmedUSStates.index == 'New York']\n",
    "dfNYDeaths =  dfDeathsUSStates[dfDeathsUSStates.index == 'New York']\n",
    "dfNYConfirmedDailyNew = dfNYConfirmed[dfNYConfirmed.columns[-DEFAULT_DAYS:]].diff(axis=1)\n",
    "dfNYDeathsDailyNew = dfNYDeaths[dfNYDeaths.columns[-DEFAULT_DAYS:]].diff(axis=1)\n",
    "\n",
    "trace1 = go.Bar(\n",
    "    x = dfNYConfirmedDailyNew.columns,\n",
    "    y = dfNYConfirmedDailyNew.iloc[0], name = 'New Confirmed Cases')\n",
    "\n",
    "trace2 = go.Bar(\n",
    "    x = dfNYDeathsDailyNew.columns,\n",
    "    y = dfNYDeathsDailyNew.iloc[0], name = 'New Deaths')\n",
    "\n",
    "data = [trace1, trace2]\n",
    "layout = dict(title = 'NY - Daily Cases and Deaths')\n",
    "\n",
    "py.iplot(dict(data=data, layout=layout))"
   ]
  },
  {
   "cell_type": "markdown",
   "metadata": {},
   "source": [
    "# World Wide Data"
   ]
  },
  {
   "cell_type": "code",
   "execution_count": 26,
   "metadata": {
    "ExecuteTime": {
     "end_time": "2020-04-02T06:13:58.398904Z",
     "start_time": "2020-04-02T06:13:57.744905Z"
    },
    "extensions": {
     "jupyter_dashboards": {
      "version": 1,
      "views": {
       "grid_default": {
        "col": 0,
        "height": 31,
        "hidden": false,
        "row": 86,
        "width": null
       },
       "report_default": {
        "hidden": false
       }
      }
     }
    },
    "scrolled": false
   },
   "outputs": [
    {
     "data": {
      "application/vnd.plotly.v1+json": {
       "config": {
        "linkText": "Export to plot.ly",
        "plotlyServerURL": "https://plot.ly",
        "showLink": false
       },
       "data": [
        {
         "name": "US",
         "type": "scatter",
         "x": [
          "3/2/20",
          "3/3/20",
          "3/4/20",
          "3/5/20",
          "3/6/20",
          "3/7/20",
          "3/8/20",
          "3/9/20",
          "3/10/20",
          "3/11/20",
          "3/12/20",
          "3/13/20",
          "3/14/20",
          "3/15/20",
          "3/16/20",
          "3/17/20",
          "3/18/20",
          "3/19/20",
          "3/20/20",
          "3/21/20",
          "3/22/20",
          "3/23/20",
          "3/24/20",
          "3/25/20",
          "3/26/20",
          "3/27/20",
          "3/28/20",
          "3/29/20",
          "3/30/20",
          "3/31/20",
          "4/1/20"
         ],
         "y": [
          98,
          118,
          149,
          217,
          262,
          402,
          518,
          583,
          959,
          1281,
          1663,
          2179,
          2727,
          3499,
          4632,
          6421,
          7783,
          13677,
          19100,
          25489,
          33276,
          43847,
          53740,
          65778,
          83836,
          101657,
          121478,
          140886,
          161807,
          188172,
          213372
         ]
        },
        {
         "name": "Italy",
         "type": "scatter",
         "x": [
          "3/2/20",
          "3/3/20",
          "3/4/20",
          "3/5/20",
          "3/6/20",
          "3/7/20",
          "3/8/20",
          "3/9/20",
          "3/10/20",
          "3/11/20",
          "3/12/20",
          "3/13/20",
          "3/14/20",
          "3/15/20",
          "3/16/20",
          "3/17/20",
          "3/18/20",
          "3/19/20",
          "3/20/20",
          "3/21/20",
          "3/22/20",
          "3/23/20",
          "3/24/20",
          "3/25/20",
          "3/26/20",
          "3/27/20",
          "3/28/20",
          "3/29/20",
          "3/30/20",
          "3/31/20",
          "4/1/20"
         ],
         "y": [
          2036,
          2502,
          3089,
          3858,
          4636,
          5883,
          7375,
          9172,
          10149,
          12462,
          12462,
          17660,
          21157,
          24747,
          27980,
          31506,
          35713,
          41035,
          47021,
          53578,
          59138,
          63927,
          69176,
          74386,
          80589,
          86498,
          92472,
          97689,
          101739,
          105792,
          110574
         ]
        },
        {
         "name": "Spain",
         "type": "scatter",
         "x": [
          "3/2/20",
          "3/3/20",
          "3/4/20",
          "3/5/20",
          "3/6/20",
          "3/7/20",
          "3/8/20",
          "3/9/20",
          "3/10/20",
          "3/11/20",
          "3/12/20",
          "3/13/20",
          "3/14/20",
          "3/15/20",
          "3/16/20",
          "3/17/20",
          "3/18/20",
          "3/19/20",
          "3/20/20",
          "3/21/20",
          "3/22/20",
          "3/23/20",
          "3/24/20",
          "3/25/20",
          "3/26/20",
          "3/27/20",
          "3/28/20",
          "3/29/20",
          "3/30/20",
          "3/31/20",
          "4/1/20"
         ],
         "y": [
          120,
          165,
          222,
          259,
          400,
          500,
          673,
          1073,
          1695,
          2277,
          2277,
          5232,
          6391,
          7798,
          9942,
          11748,
          13910,
          17963,
          20410,
          25374,
          28768,
          35136,
          39885,
          49515,
          57786,
          65719,
          73235,
          80110,
          87956,
          95923,
          104118
         ]
        },
        {
         "name": "China",
         "type": "scatter",
         "x": [
          "3/2/20",
          "3/3/20",
          "3/4/20",
          "3/5/20",
          "3/6/20",
          "3/7/20",
          "3/8/20",
          "3/9/20",
          "3/10/20",
          "3/11/20",
          "3/12/20",
          "3/13/20",
          "3/14/20",
          "3/15/20",
          "3/16/20",
          "3/17/20",
          "3/18/20",
          "3/19/20",
          "3/20/20",
          "3/21/20",
          "3/22/20",
          "3/23/20",
          "3/24/20",
          "3/25/20",
          "3/26/20",
          "3/27/20",
          "3/28/20",
          "3/29/20",
          "3/30/20",
          "3/31/20",
          "4/1/20"
         ],
         "y": [
          80136,
          80261,
          80386,
          80537,
          80690,
          80770,
          80823,
          80860,
          80887,
          80921,
          80932,
          80945,
          80977,
          81003,
          81033,
          81058,
          81102,
          81156,
          81250,
          81305,
          81435,
          81498,
          81591,
          81661,
          81782,
          81897,
          81999,
          82122,
          82198,
          82279,
          82361
         ]
        },
        {
         "name": "Germany",
         "type": "scatter",
         "x": [
          "3/2/20",
          "3/3/20",
          "3/4/20",
          "3/5/20",
          "3/6/20",
          "3/7/20",
          "3/8/20",
          "3/9/20",
          "3/10/20",
          "3/11/20",
          "3/12/20",
          "3/13/20",
          "3/14/20",
          "3/15/20",
          "3/16/20",
          "3/17/20",
          "3/18/20",
          "3/19/20",
          "3/20/20",
          "3/21/20",
          "3/22/20",
          "3/23/20",
          "3/24/20",
          "3/25/20",
          "3/26/20",
          "3/27/20",
          "3/28/20",
          "3/29/20",
          "3/30/20",
          "3/31/20",
          "4/1/20"
         ],
         "y": [
          159,
          196,
          262,
          482,
          670,
          799,
          1040,
          1176,
          1457,
          1908,
          2078,
          3675,
          4585,
          5795,
          7272,
          9257,
          12327,
          15320,
          19848,
          22213,
          24873,
          29056,
          32986,
          37323,
          43938,
          50871,
          57695,
          62095,
          66885,
          71808,
          77872
         ]
        },
        {
         "name": "France",
         "type": "scatter",
         "x": [
          "3/2/20",
          "3/3/20",
          "3/4/20",
          "3/5/20",
          "3/6/20",
          "3/7/20",
          "3/8/20",
          "3/9/20",
          "3/10/20",
          "3/11/20",
          "3/12/20",
          "3/13/20",
          "3/14/20",
          "3/15/20",
          "3/16/20",
          "3/17/20",
          "3/18/20",
          "3/19/20",
          "3/20/20",
          "3/21/20",
          "3/22/20",
          "3/23/20",
          "3/24/20",
          "3/25/20",
          "3/26/20",
          "3/27/20",
          "3/28/20",
          "3/29/20",
          "3/30/20",
          "3/31/20",
          "4/1/20"
         ],
         "y": [
          191,
          204,
          285,
          377,
          653,
          949,
          1126,
          1209,
          1784,
          2281,
          2281,
          3661,
          4469,
          4499,
          6633,
          7652,
          9043,
          10871,
          12612,
          14282,
          16018,
          19856,
          22304,
          25233,
          29155,
          32964,
          37575,
          40174,
          44550,
          52128,
          56989
         ]
        },
        {
         "name": "Iran",
         "type": "scatter",
         "x": [
          "3/2/20",
          "3/3/20",
          "3/4/20",
          "3/5/20",
          "3/6/20",
          "3/7/20",
          "3/8/20",
          "3/9/20",
          "3/10/20",
          "3/11/20",
          "3/12/20",
          "3/13/20",
          "3/14/20",
          "3/15/20",
          "3/16/20",
          "3/17/20",
          "3/18/20",
          "3/19/20",
          "3/20/20",
          "3/21/20",
          "3/22/20",
          "3/23/20",
          "3/24/20",
          "3/25/20",
          "3/26/20",
          "3/27/20",
          "3/28/20",
          "3/29/20",
          "3/30/20",
          "3/31/20",
          "4/1/20"
         ],
         "y": [
          1501,
          2336,
          2922,
          3513,
          4747,
          5823,
          6566,
          7161,
          8042,
          9000,
          10075,
          11364,
          12729,
          13938,
          14991,
          16169,
          17361,
          18407,
          19644,
          20610,
          21638,
          23049,
          24811,
          27017,
          29406,
          32332,
          35408,
          38309,
          41495,
          44605,
          47593
         ]
        },
        {
         "name": "United Kingdom",
         "type": "scatter",
         "x": [
          "3/2/20",
          "3/3/20",
          "3/4/20",
          "3/5/20",
          "3/6/20",
          "3/7/20",
          "3/8/20",
          "3/9/20",
          "3/10/20",
          "3/11/20",
          "3/12/20",
          "3/13/20",
          "3/14/20",
          "3/15/20",
          "3/16/20",
          "3/17/20",
          "3/18/20",
          "3/19/20",
          "3/20/20",
          "3/21/20",
          "3/22/20",
          "3/23/20",
          "3/24/20",
          "3/25/20",
          "3/26/20",
          "3/27/20",
          "3/28/20",
          "3/29/20",
          "3/30/20",
          "3/31/20",
          "4/1/20"
         ],
         "y": [
          40,
          51,
          85,
          115,
          163,
          206,
          273,
          321,
          382,
          456,
          456,
          798,
          1140,
          1140,
          1543,
          1950,
          2626,
          2689,
          3983,
          5018,
          5683,
          6650,
          8077,
          9529,
          11658,
          14543,
          17089,
          19522,
          22141,
          25150,
          29474
         ]
        },
        {
         "name": "Switzerland",
         "type": "scatter",
         "x": [
          "3/2/20",
          "3/3/20",
          "3/4/20",
          "3/5/20",
          "3/6/20",
          "3/7/20",
          "3/8/20",
          "3/9/20",
          "3/10/20",
          "3/11/20",
          "3/12/20",
          "3/13/20",
          "3/14/20",
          "3/15/20",
          "3/16/20",
          "3/17/20",
          "3/18/20",
          "3/19/20",
          "3/20/20",
          "3/21/20",
          "3/22/20",
          "3/23/20",
          "3/24/20",
          "3/25/20",
          "3/26/20",
          "3/27/20",
          "3/28/20",
          "3/29/20",
          "3/30/20",
          "3/31/20",
          "4/1/20"
         ],
         "y": [
          42,
          56,
          90,
          114,
          214,
          268,
          337,
          374,
          491,
          652,
          652,
          1139,
          1359,
          2200,
          2200,
          2700,
          3028,
          4075,
          5294,
          6575,
          7474,
          8795,
          9877,
          10897,
          11811,
          12928,
          14076,
          14829,
          15922,
          16605,
          17768
         ]
        },
        {
         "name": "Turkey",
         "type": "scatter",
         "x": [
          "3/2/20",
          "3/3/20",
          "3/4/20",
          "3/5/20",
          "3/6/20",
          "3/7/20",
          "3/8/20",
          "3/9/20",
          "3/10/20",
          "3/11/20",
          "3/12/20",
          "3/13/20",
          "3/14/20",
          "3/15/20",
          "3/16/20",
          "3/17/20",
          "3/18/20",
          "3/19/20",
          "3/20/20",
          "3/21/20",
          "3/22/20",
          "3/23/20",
          "3/24/20",
          "3/25/20",
          "3/26/20",
          "3/27/20",
          "3/28/20",
          "3/29/20",
          "3/30/20",
          "3/31/20",
          "4/1/20"
         ],
         "y": [
          0,
          0,
          0,
          0,
          0,
          0,
          0,
          0,
          0,
          1,
          1,
          5,
          5,
          6,
          18,
          47,
          98,
          192,
          359,
          670,
          1236,
          1529,
          1872,
          2433,
          3629,
          5698,
          7402,
          9217,
          10827,
          13531,
          15679
         ]
        },
        {
         "name": "Belgium",
         "type": "scatter",
         "x": [
          "3/2/20",
          "3/3/20",
          "3/4/20",
          "3/5/20",
          "3/6/20",
          "3/7/20",
          "3/8/20",
          "3/9/20",
          "3/10/20",
          "3/11/20",
          "3/12/20",
          "3/13/20",
          "3/14/20",
          "3/15/20",
          "3/16/20",
          "3/17/20",
          "3/18/20",
          "3/19/20",
          "3/20/20",
          "3/21/20",
          "3/22/20",
          "3/23/20",
          "3/24/20",
          "3/25/20",
          "3/26/20",
          "3/27/20",
          "3/28/20",
          "3/29/20",
          "3/30/20",
          "3/31/20",
          "4/1/20"
         ],
         "y": [
          8,
          13,
          23,
          50,
          109,
          169,
          200,
          239,
          267,
          314,
          314,
          559,
          689,
          886,
          1058,
          1243,
          1486,
          1795,
          2257,
          2815,
          3401,
          3743,
          4269,
          4937,
          6235,
          7284,
          9134,
          10836,
          11899,
          12775,
          13964
         ]
        }
       ],
       "layout": {
        "template": {
         "data": {
          "bar": [
           {
            "error_x": {
             "color": "#2a3f5f"
            },
            "error_y": {
             "color": "#2a3f5f"
            },
            "marker": {
             "line": {
              "color": "#E5ECF6",
              "width": 0.5
             }
            },
            "type": "bar"
           }
          ],
          "barpolar": [
           {
            "marker": {
             "line": {
              "color": "#E5ECF6",
              "width": 0.5
             }
            },
            "type": "barpolar"
           }
          ],
          "carpet": [
           {
            "aaxis": {
             "endlinecolor": "#2a3f5f",
             "gridcolor": "white",
             "linecolor": "white",
             "minorgridcolor": "white",
             "startlinecolor": "#2a3f5f"
            },
            "baxis": {
             "endlinecolor": "#2a3f5f",
             "gridcolor": "white",
             "linecolor": "white",
             "minorgridcolor": "white",
             "startlinecolor": "#2a3f5f"
            },
            "type": "carpet"
           }
          ],
          "choropleth": [
           {
            "colorbar": {
             "outlinewidth": 0,
             "ticks": ""
            },
            "type": "choropleth"
           }
          ],
          "contour": [
           {
            "colorbar": {
             "outlinewidth": 0,
             "ticks": ""
            },
            "colorscale": [
             [
              0,
              "#0d0887"
             ],
             [
              0.1111111111111111,
              "#46039f"
             ],
             [
              0.2222222222222222,
              "#7201a8"
             ],
             [
              0.3333333333333333,
              "#9c179e"
             ],
             [
              0.4444444444444444,
              "#bd3786"
             ],
             [
              0.5555555555555556,
              "#d8576b"
             ],
             [
              0.6666666666666666,
              "#ed7953"
             ],
             [
              0.7777777777777778,
              "#fb9f3a"
             ],
             [
              0.8888888888888888,
              "#fdca26"
             ],
             [
              1,
              "#f0f921"
             ]
            ],
            "type": "contour"
           }
          ],
          "contourcarpet": [
           {
            "colorbar": {
             "outlinewidth": 0,
             "ticks": ""
            },
            "type": "contourcarpet"
           }
          ],
          "heatmap": [
           {
            "colorbar": {
             "outlinewidth": 0,
             "ticks": ""
            },
            "colorscale": [
             [
              0,
              "#0d0887"
             ],
             [
              0.1111111111111111,
              "#46039f"
             ],
             [
              0.2222222222222222,
              "#7201a8"
             ],
             [
              0.3333333333333333,
              "#9c179e"
             ],
             [
              0.4444444444444444,
              "#bd3786"
             ],
             [
              0.5555555555555556,
              "#d8576b"
             ],
             [
              0.6666666666666666,
              "#ed7953"
             ],
             [
              0.7777777777777778,
              "#fb9f3a"
             ],
             [
              0.8888888888888888,
              "#fdca26"
             ],
             [
              1,
              "#f0f921"
             ]
            ],
            "type": "heatmap"
           }
          ],
          "heatmapgl": [
           {
            "colorbar": {
             "outlinewidth": 0,
             "ticks": ""
            },
            "colorscale": [
             [
              0,
              "#0d0887"
             ],
             [
              0.1111111111111111,
              "#46039f"
             ],
             [
              0.2222222222222222,
              "#7201a8"
             ],
             [
              0.3333333333333333,
              "#9c179e"
             ],
             [
              0.4444444444444444,
              "#bd3786"
             ],
             [
              0.5555555555555556,
              "#d8576b"
             ],
             [
              0.6666666666666666,
              "#ed7953"
             ],
             [
              0.7777777777777778,
              "#fb9f3a"
             ],
             [
              0.8888888888888888,
              "#fdca26"
             ],
             [
              1,
              "#f0f921"
             ]
            ],
            "type": "heatmapgl"
           }
          ],
          "histogram": [
           {
            "marker": {
             "colorbar": {
              "outlinewidth": 0,
              "ticks": ""
             }
            },
            "type": "histogram"
           }
          ],
          "histogram2d": [
           {
            "colorbar": {
             "outlinewidth": 0,
             "ticks": ""
            },
            "colorscale": [
             [
              0,
              "#0d0887"
             ],
             [
              0.1111111111111111,
              "#46039f"
             ],
             [
              0.2222222222222222,
              "#7201a8"
             ],
             [
              0.3333333333333333,
              "#9c179e"
             ],
             [
              0.4444444444444444,
              "#bd3786"
             ],
             [
              0.5555555555555556,
              "#d8576b"
             ],
             [
              0.6666666666666666,
              "#ed7953"
             ],
             [
              0.7777777777777778,
              "#fb9f3a"
             ],
             [
              0.8888888888888888,
              "#fdca26"
             ],
             [
              1,
              "#f0f921"
             ]
            ],
            "type": "histogram2d"
           }
          ],
          "histogram2dcontour": [
           {
            "colorbar": {
             "outlinewidth": 0,
             "ticks": ""
            },
            "colorscale": [
             [
              0,
              "#0d0887"
             ],
             [
              0.1111111111111111,
              "#46039f"
             ],
             [
              0.2222222222222222,
              "#7201a8"
             ],
             [
              0.3333333333333333,
              "#9c179e"
             ],
             [
              0.4444444444444444,
              "#bd3786"
             ],
             [
              0.5555555555555556,
              "#d8576b"
             ],
             [
              0.6666666666666666,
              "#ed7953"
             ],
             [
              0.7777777777777778,
              "#fb9f3a"
             ],
             [
              0.8888888888888888,
              "#fdca26"
             ],
             [
              1,
              "#f0f921"
             ]
            ],
            "type": "histogram2dcontour"
           }
          ],
          "mesh3d": [
           {
            "colorbar": {
             "outlinewidth": 0,
             "ticks": ""
            },
            "type": "mesh3d"
           }
          ],
          "parcoords": [
           {
            "line": {
             "colorbar": {
              "outlinewidth": 0,
              "ticks": ""
             }
            },
            "type": "parcoords"
           }
          ],
          "pie": [
           {
            "automargin": true,
            "type": "pie"
           }
          ],
          "scatter": [
           {
            "marker": {
             "colorbar": {
              "outlinewidth": 0,
              "ticks": ""
             }
            },
            "type": "scatter"
           }
          ],
          "scatter3d": [
           {
            "line": {
             "colorbar": {
              "outlinewidth": 0,
              "ticks": ""
             }
            },
            "marker": {
             "colorbar": {
              "outlinewidth": 0,
              "ticks": ""
             }
            },
            "type": "scatter3d"
           }
          ],
          "scattercarpet": [
           {
            "marker": {
             "colorbar": {
              "outlinewidth": 0,
              "ticks": ""
             }
            },
            "type": "scattercarpet"
           }
          ],
          "scattergeo": [
           {
            "marker": {
             "colorbar": {
              "outlinewidth": 0,
              "ticks": ""
             }
            },
            "type": "scattergeo"
           }
          ],
          "scattergl": [
           {
            "marker": {
             "colorbar": {
              "outlinewidth": 0,
              "ticks": ""
             }
            },
            "type": "scattergl"
           }
          ],
          "scattermapbox": [
           {
            "marker": {
             "colorbar": {
              "outlinewidth": 0,
              "ticks": ""
             }
            },
            "type": "scattermapbox"
           }
          ],
          "scatterpolar": [
           {
            "marker": {
             "colorbar": {
              "outlinewidth": 0,
              "ticks": ""
             }
            },
            "type": "scatterpolar"
           }
          ],
          "scatterpolargl": [
           {
            "marker": {
             "colorbar": {
              "outlinewidth": 0,
              "ticks": ""
             }
            },
            "type": "scatterpolargl"
           }
          ],
          "scatterternary": [
           {
            "marker": {
             "colorbar": {
              "outlinewidth": 0,
              "ticks": ""
             }
            },
            "type": "scatterternary"
           }
          ],
          "surface": [
           {
            "colorbar": {
             "outlinewidth": 0,
             "ticks": ""
            },
            "colorscale": [
             [
              0,
              "#0d0887"
             ],
             [
              0.1111111111111111,
              "#46039f"
             ],
             [
              0.2222222222222222,
              "#7201a8"
             ],
             [
              0.3333333333333333,
              "#9c179e"
             ],
             [
              0.4444444444444444,
              "#bd3786"
             ],
             [
              0.5555555555555556,
              "#d8576b"
             ],
             [
              0.6666666666666666,
              "#ed7953"
             ],
             [
              0.7777777777777778,
              "#fb9f3a"
             ],
             [
              0.8888888888888888,
              "#fdca26"
             ],
             [
              1,
              "#f0f921"
             ]
            ],
            "type": "surface"
           }
          ],
          "table": [
           {
            "cells": {
             "fill": {
              "color": "#EBF0F8"
             },
             "line": {
              "color": "white"
             }
            },
            "header": {
             "fill": {
              "color": "#C8D4E3"
             },
             "line": {
              "color": "white"
             }
            },
            "type": "table"
           }
          ]
         },
         "layout": {
          "annotationdefaults": {
           "arrowcolor": "#2a3f5f",
           "arrowhead": 0,
           "arrowwidth": 1
          },
          "coloraxis": {
           "colorbar": {
            "outlinewidth": 0,
            "ticks": ""
           }
          },
          "colorscale": {
           "diverging": [
            [
             0,
             "#8e0152"
            ],
            [
             0.1,
             "#c51b7d"
            ],
            [
             0.2,
             "#de77ae"
            ],
            [
             0.3,
             "#f1b6da"
            ],
            [
             0.4,
             "#fde0ef"
            ],
            [
             0.5,
             "#f7f7f7"
            ],
            [
             0.6,
             "#e6f5d0"
            ],
            [
             0.7,
             "#b8e186"
            ],
            [
             0.8,
             "#7fbc41"
            ],
            [
             0.9,
             "#4d9221"
            ],
            [
             1,
             "#276419"
            ]
           ],
           "sequential": [
            [
             0,
             "#0d0887"
            ],
            [
             0.1111111111111111,
             "#46039f"
            ],
            [
             0.2222222222222222,
             "#7201a8"
            ],
            [
             0.3333333333333333,
             "#9c179e"
            ],
            [
             0.4444444444444444,
             "#bd3786"
            ],
            [
             0.5555555555555556,
             "#d8576b"
            ],
            [
             0.6666666666666666,
             "#ed7953"
            ],
            [
             0.7777777777777778,
             "#fb9f3a"
            ],
            [
             0.8888888888888888,
             "#fdca26"
            ],
            [
             1,
             "#f0f921"
            ]
           ],
           "sequentialminus": [
            [
             0,
             "#0d0887"
            ],
            [
             0.1111111111111111,
             "#46039f"
            ],
            [
             0.2222222222222222,
             "#7201a8"
            ],
            [
             0.3333333333333333,
             "#9c179e"
            ],
            [
             0.4444444444444444,
             "#bd3786"
            ],
            [
             0.5555555555555556,
             "#d8576b"
            ],
            [
             0.6666666666666666,
             "#ed7953"
            ],
            [
             0.7777777777777778,
             "#fb9f3a"
            ],
            [
             0.8888888888888888,
             "#fdca26"
            ],
            [
             1,
             "#f0f921"
            ]
           ]
          },
          "colorway": [
           "#636efa",
           "#EF553B",
           "#00cc96",
           "#ab63fa",
           "#FFA15A",
           "#19d3f3",
           "#FF6692",
           "#B6E880",
           "#FF97FF",
           "#FECB52"
          ],
          "font": {
           "color": "#2a3f5f"
          },
          "geo": {
           "bgcolor": "white",
           "lakecolor": "white",
           "landcolor": "#E5ECF6",
           "showlakes": true,
           "showland": true,
           "subunitcolor": "white"
          },
          "hoverlabel": {
           "align": "left"
          },
          "hovermode": "closest",
          "mapbox": {
           "style": "light"
          },
          "paper_bgcolor": "white",
          "plot_bgcolor": "#E5ECF6",
          "polar": {
           "angularaxis": {
            "gridcolor": "white",
            "linecolor": "white",
            "ticks": ""
           },
           "bgcolor": "#E5ECF6",
           "radialaxis": {
            "gridcolor": "white",
            "linecolor": "white",
            "ticks": ""
           }
          },
          "scene": {
           "xaxis": {
            "backgroundcolor": "#E5ECF6",
            "gridcolor": "white",
            "gridwidth": 2,
            "linecolor": "white",
            "showbackground": true,
            "ticks": "",
            "zerolinecolor": "white"
           },
           "yaxis": {
            "backgroundcolor": "#E5ECF6",
            "gridcolor": "white",
            "gridwidth": 2,
            "linecolor": "white",
            "showbackground": true,
            "ticks": "",
            "zerolinecolor": "white"
           },
           "zaxis": {
            "backgroundcolor": "#E5ECF6",
            "gridcolor": "white",
            "gridwidth": 2,
            "linecolor": "white",
            "showbackground": true,
            "ticks": "",
            "zerolinecolor": "white"
           }
          },
          "shapedefaults": {
           "line": {
            "color": "#2a3f5f"
           }
          },
          "ternary": {
           "aaxis": {
            "gridcolor": "white",
            "linecolor": "white",
            "ticks": ""
           },
           "baxis": {
            "gridcolor": "white",
            "linecolor": "white",
            "ticks": ""
           },
           "bgcolor": "#E5ECF6",
           "caxis": {
            "gridcolor": "white",
            "linecolor": "white",
            "ticks": ""
           }
          },
          "title": {
           "x": 0.05
          },
          "xaxis": {
           "automargin": true,
           "gridcolor": "white",
           "linecolor": "white",
           "ticks": "",
           "title": {
            "standoff": 15
           },
           "zerolinecolor": "white",
           "zerolinewidth": 2
          },
          "yaxis": {
           "automargin": true,
           "gridcolor": "white",
           "linecolor": "white",
           "ticks": "",
           "title": {
            "standoff": 15
           },
           "zerolinecolor": "white",
           "zerolinewidth": 2
          }
         }
        },
        "title": {
         "text": "World Cumulative Confirmed Cases"
        },
        "updatemenus": [
         {
          "active": 0,
          "buttons": [
           {
            "args": [
             {
              "visible": [
               true,
               true
              ]
             },
             {
              "yaxis": {
               "type": "linear"
              }
             }
            ],
            "label": "Linear Scale",
            "method": "update"
           },
           {
            "args": [
             {
              "visible": [
               true,
               true
              ]
             },
             {
              "yaxis": {
               "type": "log"
              }
             }
            ],
            "label": "Logarithmic Scale",
            "method": "update"
           }
          ],
          "direction": "right",
          "type": "buttons",
          "x": 0.45,
          "xanchor": "left",
          "y": 1.1,
          "yanchor": "top"
         }
        ]
       }
      },
      "text/html": [
       "<div>\n",
       "        \n",
       "        \n",
       "            <div id=\"7f70fdb1-5c3c-4531-a6e6-493c5ea51d8a\" class=\"plotly-graph-div\" style=\"height:525px; width:100%;\"></div>\n",
       "            <script type=\"text/javascript\">\n",
       "                require([\"plotly\"], function(Plotly) {\n",
       "                    window.PLOTLYENV=window.PLOTLYENV || {};\n",
       "                    \n",
       "                if (document.getElementById(\"7f70fdb1-5c3c-4531-a6e6-493c5ea51d8a\")) {\n",
       "                    Plotly.newPlot(\n",
       "                        '7f70fdb1-5c3c-4531-a6e6-493c5ea51d8a',\n",
       "                        [{\"name\": \"US\", \"type\": \"scatter\", \"x\": [\"3/2/20\", \"3/3/20\", \"3/4/20\", \"3/5/20\", \"3/6/20\", \"3/7/20\", \"3/8/20\", \"3/9/20\", \"3/10/20\", \"3/11/20\", \"3/12/20\", \"3/13/20\", \"3/14/20\", \"3/15/20\", \"3/16/20\", \"3/17/20\", \"3/18/20\", \"3/19/20\", \"3/20/20\", \"3/21/20\", \"3/22/20\", \"3/23/20\", \"3/24/20\", \"3/25/20\", \"3/26/20\", \"3/27/20\", \"3/28/20\", \"3/29/20\", \"3/30/20\", \"3/31/20\", \"4/1/20\"], \"y\": [98.0, 118.0, 149.0, 217.0, 262.0, 402.0, 518.0, 583.0, 959.0, 1281.0, 1663.0, 2179.0, 2727.0, 3499.0, 4632.0, 6421.0, 7783.0, 13677.0, 19100.0, 25489.0, 33276.0, 43847.0, 53740.0, 65778.0, 83836.0, 101657.0, 121478.0, 140886.0, 161807.0, 188172.0, 213372.0]}, {\"name\": \"Italy\", \"type\": \"scatter\", \"x\": [\"3/2/20\", \"3/3/20\", \"3/4/20\", \"3/5/20\", \"3/6/20\", \"3/7/20\", \"3/8/20\", \"3/9/20\", \"3/10/20\", \"3/11/20\", \"3/12/20\", \"3/13/20\", \"3/14/20\", \"3/15/20\", \"3/16/20\", \"3/17/20\", \"3/18/20\", \"3/19/20\", \"3/20/20\", \"3/21/20\", \"3/22/20\", \"3/23/20\", \"3/24/20\", \"3/25/20\", \"3/26/20\", \"3/27/20\", \"3/28/20\", \"3/29/20\", \"3/30/20\", \"3/31/20\", \"4/1/20\"], \"y\": [2036.0, 2502.0, 3089.0, 3858.0, 4636.0, 5883.0, 7375.0, 9172.0, 10149.0, 12462.0, 12462.0, 17660.0, 21157.0, 24747.0, 27980.0, 31506.0, 35713.0, 41035.0, 47021.0, 53578.0, 59138.0, 63927.0, 69176.0, 74386.0, 80589.0, 86498.0, 92472.0, 97689.0, 101739.0, 105792.0, 110574.0]}, {\"name\": \"Spain\", \"type\": \"scatter\", \"x\": [\"3/2/20\", \"3/3/20\", \"3/4/20\", \"3/5/20\", \"3/6/20\", \"3/7/20\", \"3/8/20\", \"3/9/20\", \"3/10/20\", \"3/11/20\", \"3/12/20\", \"3/13/20\", \"3/14/20\", \"3/15/20\", \"3/16/20\", \"3/17/20\", \"3/18/20\", \"3/19/20\", \"3/20/20\", \"3/21/20\", \"3/22/20\", \"3/23/20\", \"3/24/20\", \"3/25/20\", \"3/26/20\", \"3/27/20\", \"3/28/20\", \"3/29/20\", \"3/30/20\", \"3/31/20\", \"4/1/20\"], \"y\": [120.0, 165.0, 222.0, 259.0, 400.0, 500.0, 673.0, 1073.0, 1695.0, 2277.0, 2277.0, 5232.0, 6391.0, 7798.0, 9942.0, 11748.0, 13910.0, 17963.0, 20410.0, 25374.0, 28768.0, 35136.0, 39885.0, 49515.0, 57786.0, 65719.0, 73235.0, 80110.0, 87956.0, 95923.0, 104118.0]}, {\"name\": \"China\", \"type\": \"scatter\", \"x\": [\"3/2/20\", \"3/3/20\", \"3/4/20\", \"3/5/20\", \"3/6/20\", \"3/7/20\", \"3/8/20\", \"3/9/20\", \"3/10/20\", \"3/11/20\", \"3/12/20\", \"3/13/20\", \"3/14/20\", \"3/15/20\", \"3/16/20\", \"3/17/20\", \"3/18/20\", \"3/19/20\", \"3/20/20\", \"3/21/20\", \"3/22/20\", \"3/23/20\", \"3/24/20\", \"3/25/20\", \"3/26/20\", \"3/27/20\", \"3/28/20\", \"3/29/20\", \"3/30/20\", \"3/31/20\", \"4/1/20\"], \"y\": [80136.0, 80261.0, 80386.0, 80537.0, 80690.0, 80770.0, 80823.0, 80860.0, 80887.0, 80921.0, 80932.0, 80945.0, 80977.0, 81003.0, 81033.0, 81058.0, 81102.0, 81156.0, 81250.0, 81305.0, 81435.0, 81498.0, 81591.0, 81661.0, 81782.0, 81897.0, 81999.0, 82122.0, 82198.0, 82279.0, 82361.0]}, {\"name\": \"Germany\", \"type\": \"scatter\", \"x\": [\"3/2/20\", \"3/3/20\", \"3/4/20\", \"3/5/20\", \"3/6/20\", \"3/7/20\", \"3/8/20\", \"3/9/20\", \"3/10/20\", \"3/11/20\", \"3/12/20\", \"3/13/20\", \"3/14/20\", \"3/15/20\", \"3/16/20\", \"3/17/20\", \"3/18/20\", \"3/19/20\", \"3/20/20\", \"3/21/20\", \"3/22/20\", \"3/23/20\", \"3/24/20\", \"3/25/20\", \"3/26/20\", \"3/27/20\", \"3/28/20\", \"3/29/20\", \"3/30/20\", \"3/31/20\", \"4/1/20\"], \"y\": [159.0, 196.0, 262.0, 482.0, 670.0, 799.0, 1040.0, 1176.0, 1457.0, 1908.0, 2078.0, 3675.0, 4585.0, 5795.0, 7272.0, 9257.0, 12327.0, 15320.0, 19848.0, 22213.0, 24873.0, 29056.0, 32986.0, 37323.0, 43938.0, 50871.0, 57695.0, 62095.0, 66885.0, 71808.0, 77872.0]}, {\"name\": \"France\", \"type\": \"scatter\", \"x\": [\"3/2/20\", \"3/3/20\", \"3/4/20\", \"3/5/20\", \"3/6/20\", \"3/7/20\", \"3/8/20\", \"3/9/20\", \"3/10/20\", \"3/11/20\", \"3/12/20\", \"3/13/20\", \"3/14/20\", \"3/15/20\", \"3/16/20\", \"3/17/20\", \"3/18/20\", \"3/19/20\", \"3/20/20\", \"3/21/20\", \"3/22/20\", \"3/23/20\", \"3/24/20\", \"3/25/20\", \"3/26/20\", \"3/27/20\", \"3/28/20\", \"3/29/20\", \"3/30/20\", \"3/31/20\", \"4/1/20\"], \"y\": [191.0, 204.0, 285.0, 377.0, 653.0, 949.0, 1126.0, 1209.0, 1784.0, 2281.0, 2281.0, 3661.0, 4469.0, 4499.0, 6633.0, 7652.0, 9043.0, 10871.0, 12612.0, 14282.0, 16018.0, 19856.0, 22304.0, 25233.0, 29155.0, 32964.0, 37575.0, 40174.0, 44550.0, 52128.0, 56989.0]}, {\"name\": \"Iran\", \"type\": \"scatter\", \"x\": [\"3/2/20\", \"3/3/20\", \"3/4/20\", \"3/5/20\", \"3/6/20\", \"3/7/20\", \"3/8/20\", \"3/9/20\", \"3/10/20\", \"3/11/20\", \"3/12/20\", \"3/13/20\", \"3/14/20\", \"3/15/20\", \"3/16/20\", \"3/17/20\", \"3/18/20\", \"3/19/20\", \"3/20/20\", \"3/21/20\", \"3/22/20\", \"3/23/20\", \"3/24/20\", \"3/25/20\", \"3/26/20\", \"3/27/20\", \"3/28/20\", \"3/29/20\", \"3/30/20\", \"3/31/20\", \"4/1/20\"], \"y\": [1501.0, 2336.0, 2922.0, 3513.0, 4747.0, 5823.0, 6566.0, 7161.0, 8042.0, 9000.0, 10075.0, 11364.0, 12729.0, 13938.0, 14991.0, 16169.0, 17361.0, 18407.0, 19644.0, 20610.0, 21638.0, 23049.0, 24811.0, 27017.0, 29406.0, 32332.0, 35408.0, 38309.0, 41495.0, 44605.0, 47593.0]}, {\"name\": \"United Kingdom\", \"type\": \"scatter\", \"x\": [\"3/2/20\", \"3/3/20\", \"3/4/20\", \"3/5/20\", \"3/6/20\", \"3/7/20\", \"3/8/20\", \"3/9/20\", \"3/10/20\", \"3/11/20\", \"3/12/20\", \"3/13/20\", \"3/14/20\", \"3/15/20\", \"3/16/20\", \"3/17/20\", \"3/18/20\", \"3/19/20\", \"3/20/20\", \"3/21/20\", \"3/22/20\", \"3/23/20\", \"3/24/20\", \"3/25/20\", \"3/26/20\", \"3/27/20\", \"3/28/20\", \"3/29/20\", \"3/30/20\", \"3/31/20\", \"4/1/20\"], \"y\": [40.0, 51.0, 85.0, 115.0, 163.0, 206.0, 273.0, 321.0, 382.0, 456.0, 456.0, 798.0, 1140.0, 1140.0, 1543.0, 1950.0, 2626.0, 2689.0, 3983.0, 5018.0, 5683.0, 6650.0, 8077.0, 9529.0, 11658.0, 14543.0, 17089.0, 19522.0, 22141.0, 25150.0, 29474.0]}, {\"name\": \"Switzerland\", \"type\": \"scatter\", \"x\": [\"3/2/20\", \"3/3/20\", \"3/4/20\", \"3/5/20\", \"3/6/20\", \"3/7/20\", \"3/8/20\", \"3/9/20\", \"3/10/20\", \"3/11/20\", \"3/12/20\", \"3/13/20\", \"3/14/20\", \"3/15/20\", \"3/16/20\", \"3/17/20\", \"3/18/20\", \"3/19/20\", \"3/20/20\", \"3/21/20\", \"3/22/20\", \"3/23/20\", \"3/24/20\", \"3/25/20\", \"3/26/20\", \"3/27/20\", \"3/28/20\", \"3/29/20\", \"3/30/20\", \"3/31/20\", \"4/1/20\"], \"y\": [42.0, 56.0, 90.0, 114.0, 214.0, 268.0, 337.0, 374.0, 491.0, 652.0, 652.0, 1139.0, 1359.0, 2200.0, 2200.0, 2700.0, 3028.0, 4075.0, 5294.0, 6575.0, 7474.0, 8795.0, 9877.0, 10897.0, 11811.0, 12928.0, 14076.0, 14829.0, 15922.0, 16605.0, 17768.0]}, {\"name\": \"Turkey\", \"type\": \"scatter\", \"x\": [\"3/2/20\", \"3/3/20\", \"3/4/20\", \"3/5/20\", \"3/6/20\", \"3/7/20\", \"3/8/20\", \"3/9/20\", \"3/10/20\", \"3/11/20\", \"3/12/20\", \"3/13/20\", \"3/14/20\", \"3/15/20\", \"3/16/20\", \"3/17/20\", \"3/18/20\", \"3/19/20\", \"3/20/20\", \"3/21/20\", \"3/22/20\", \"3/23/20\", \"3/24/20\", \"3/25/20\", \"3/26/20\", \"3/27/20\", \"3/28/20\", \"3/29/20\", \"3/30/20\", \"3/31/20\", \"4/1/20\"], \"y\": [0.0, 0.0, 0.0, 0.0, 0.0, 0.0, 0.0, 0.0, 0.0, 1.0, 1.0, 5.0, 5.0, 6.0, 18.0, 47.0, 98.0, 192.0, 359.0, 670.0, 1236.0, 1529.0, 1872.0, 2433.0, 3629.0, 5698.0, 7402.0, 9217.0, 10827.0, 13531.0, 15679.0]}, {\"name\": \"Belgium\", \"type\": \"scatter\", \"x\": [\"3/2/20\", \"3/3/20\", \"3/4/20\", \"3/5/20\", \"3/6/20\", \"3/7/20\", \"3/8/20\", \"3/9/20\", \"3/10/20\", \"3/11/20\", \"3/12/20\", \"3/13/20\", \"3/14/20\", \"3/15/20\", \"3/16/20\", \"3/17/20\", \"3/18/20\", \"3/19/20\", \"3/20/20\", \"3/21/20\", \"3/22/20\", \"3/23/20\", \"3/24/20\", \"3/25/20\", \"3/26/20\", \"3/27/20\", \"3/28/20\", \"3/29/20\", \"3/30/20\", \"3/31/20\", \"4/1/20\"], \"y\": [8.0, 13.0, 23.0, 50.0, 109.0, 169.0, 200.0, 239.0, 267.0, 314.0, 314.0, 559.0, 689.0, 886.0, 1058.0, 1243.0, 1486.0, 1795.0, 2257.0, 2815.0, 3401.0, 3743.0, 4269.0, 4937.0, 6235.0, 7284.0, 9134.0, 10836.0, 11899.0, 12775.0, 13964.0]}],\n",
       "                        {\"template\": {\"data\": {\"bar\": [{\"error_x\": {\"color\": \"#2a3f5f\"}, \"error_y\": {\"color\": \"#2a3f5f\"}, \"marker\": {\"line\": {\"color\": \"#E5ECF6\", \"width\": 0.5}}, \"type\": \"bar\"}], \"barpolar\": [{\"marker\": {\"line\": {\"color\": \"#E5ECF6\", \"width\": 0.5}}, \"type\": \"barpolar\"}], \"carpet\": [{\"aaxis\": {\"endlinecolor\": \"#2a3f5f\", \"gridcolor\": \"white\", \"linecolor\": \"white\", \"minorgridcolor\": \"white\", \"startlinecolor\": \"#2a3f5f\"}, \"baxis\": {\"endlinecolor\": \"#2a3f5f\", \"gridcolor\": \"white\", \"linecolor\": \"white\", \"minorgridcolor\": \"white\", \"startlinecolor\": \"#2a3f5f\"}, \"type\": \"carpet\"}], \"choropleth\": [{\"colorbar\": {\"outlinewidth\": 0, \"ticks\": \"\"}, \"type\": \"choropleth\"}], \"contour\": [{\"colorbar\": {\"outlinewidth\": 0, \"ticks\": \"\"}, \"colorscale\": [[0.0, \"#0d0887\"], [0.1111111111111111, \"#46039f\"], [0.2222222222222222, \"#7201a8\"], [0.3333333333333333, \"#9c179e\"], [0.4444444444444444, \"#bd3786\"], [0.5555555555555556, \"#d8576b\"], [0.6666666666666666, \"#ed7953\"], [0.7777777777777778, \"#fb9f3a\"], [0.8888888888888888, \"#fdca26\"], [1.0, \"#f0f921\"]], \"type\": \"contour\"}], \"contourcarpet\": [{\"colorbar\": {\"outlinewidth\": 0, \"ticks\": \"\"}, \"type\": \"contourcarpet\"}], \"heatmap\": [{\"colorbar\": {\"outlinewidth\": 0, \"ticks\": \"\"}, \"colorscale\": [[0.0, \"#0d0887\"], [0.1111111111111111, \"#46039f\"], [0.2222222222222222, \"#7201a8\"], [0.3333333333333333, \"#9c179e\"], [0.4444444444444444, \"#bd3786\"], [0.5555555555555556, \"#d8576b\"], [0.6666666666666666, \"#ed7953\"], [0.7777777777777778, \"#fb9f3a\"], [0.8888888888888888, \"#fdca26\"], [1.0, \"#f0f921\"]], \"type\": \"heatmap\"}], \"heatmapgl\": [{\"colorbar\": {\"outlinewidth\": 0, \"ticks\": \"\"}, \"colorscale\": [[0.0, \"#0d0887\"], [0.1111111111111111, \"#46039f\"], [0.2222222222222222, \"#7201a8\"], [0.3333333333333333, \"#9c179e\"], [0.4444444444444444, \"#bd3786\"], [0.5555555555555556, \"#d8576b\"], [0.6666666666666666, \"#ed7953\"], [0.7777777777777778, \"#fb9f3a\"], [0.8888888888888888, \"#fdca26\"], [1.0, \"#f0f921\"]], \"type\": \"heatmapgl\"}], \"histogram\": [{\"marker\": {\"colorbar\": {\"outlinewidth\": 0, \"ticks\": \"\"}}, \"type\": \"histogram\"}], \"histogram2d\": [{\"colorbar\": {\"outlinewidth\": 0, \"ticks\": \"\"}, \"colorscale\": [[0.0, \"#0d0887\"], [0.1111111111111111, \"#46039f\"], [0.2222222222222222, \"#7201a8\"], [0.3333333333333333, \"#9c179e\"], [0.4444444444444444, \"#bd3786\"], [0.5555555555555556, \"#d8576b\"], [0.6666666666666666, \"#ed7953\"], [0.7777777777777778, \"#fb9f3a\"], [0.8888888888888888, \"#fdca26\"], [1.0, \"#f0f921\"]], \"type\": \"histogram2d\"}], \"histogram2dcontour\": [{\"colorbar\": {\"outlinewidth\": 0, \"ticks\": \"\"}, \"colorscale\": [[0.0, \"#0d0887\"], [0.1111111111111111, \"#46039f\"], [0.2222222222222222, \"#7201a8\"], [0.3333333333333333, \"#9c179e\"], [0.4444444444444444, \"#bd3786\"], [0.5555555555555556, \"#d8576b\"], [0.6666666666666666, \"#ed7953\"], [0.7777777777777778, \"#fb9f3a\"], [0.8888888888888888, \"#fdca26\"], [1.0, \"#f0f921\"]], \"type\": \"histogram2dcontour\"}], \"mesh3d\": [{\"colorbar\": {\"outlinewidth\": 0, \"ticks\": \"\"}, \"type\": \"mesh3d\"}], \"parcoords\": [{\"line\": {\"colorbar\": {\"outlinewidth\": 0, \"ticks\": \"\"}}, \"type\": \"parcoords\"}], \"pie\": [{\"automargin\": true, \"type\": \"pie\"}], \"scatter\": [{\"marker\": {\"colorbar\": {\"outlinewidth\": 0, \"ticks\": \"\"}}, \"type\": \"scatter\"}], \"scatter3d\": [{\"line\": {\"colorbar\": {\"outlinewidth\": 0, \"ticks\": \"\"}}, \"marker\": {\"colorbar\": {\"outlinewidth\": 0, \"ticks\": \"\"}}, \"type\": \"scatter3d\"}], \"scattercarpet\": [{\"marker\": {\"colorbar\": {\"outlinewidth\": 0, \"ticks\": \"\"}}, \"type\": \"scattercarpet\"}], \"scattergeo\": [{\"marker\": {\"colorbar\": {\"outlinewidth\": 0, \"ticks\": \"\"}}, \"type\": \"scattergeo\"}], \"scattergl\": [{\"marker\": {\"colorbar\": {\"outlinewidth\": 0, \"ticks\": \"\"}}, \"type\": \"scattergl\"}], \"scattermapbox\": [{\"marker\": {\"colorbar\": {\"outlinewidth\": 0, \"ticks\": \"\"}}, \"type\": \"scattermapbox\"}], \"scatterpolar\": [{\"marker\": {\"colorbar\": {\"outlinewidth\": 0, \"ticks\": \"\"}}, \"type\": \"scatterpolar\"}], \"scatterpolargl\": [{\"marker\": {\"colorbar\": {\"outlinewidth\": 0, \"ticks\": \"\"}}, \"type\": \"scatterpolargl\"}], \"scatterternary\": [{\"marker\": {\"colorbar\": {\"outlinewidth\": 0, \"ticks\": \"\"}}, \"type\": \"scatterternary\"}], \"surface\": [{\"colorbar\": {\"outlinewidth\": 0, \"ticks\": \"\"}, \"colorscale\": [[0.0, \"#0d0887\"], [0.1111111111111111, \"#46039f\"], [0.2222222222222222, \"#7201a8\"], [0.3333333333333333, \"#9c179e\"], [0.4444444444444444, \"#bd3786\"], [0.5555555555555556, \"#d8576b\"], [0.6666666666666666, \"#ed7953\"], [0.7777777777777778, \"#fb9f3a\"], [0.8888888888888888, \"#fdca26\"], [1.0, \"#f0f921\"]], \"type\": \"surface\"}], \"table\": [{\"cells\": {\"fill\": {\"color\": \"#EBF0F8\"}, \"line\": {\"color\": \"white\"}}, \"header\": {\"fill\": {\"color\": \"#C8D4E3\"}, \"line\": {\"color\": \"white\"}}, \"type\": \"table\"}]}, \"layout\": {\"annotationdefaults\": {\"arrowcolor\": \"#2a3f5f\", \"arrowhead\": 0, \"arrowwidth\": 1}, \"coloraxis\": {\"colorbar\": {\"outlinewidth\": 0, \"ticks\": \"\"}}, \"colorscale\": {\"diverging\": [[0, \"#8e0152\"], [0.1, \"#c51b7d\"], [0.2, \"#de77ae\"], [0.3, \"#f1b6da\"], [0.4, \"#fde0ef\"], [0.5, \"#f7f7f7\"], [0.6, \"#e6f5d0\"], [0.7, \"#b8e186\"], [0.8, \"#7fbc41\"], [0.9, \"#4d9221\"], [1, \"#276419\"]], \"sequential\": [[0.0, \"#0d0887\"], [0.1111111111111111, \"#46039f\"], [0.2222222222222222, \"#7201a8\"], [0.3333333333333333, \"#9c179e\"], [0.4444444444444444, \"#bd3786\"], [0.5555555555555556, \"#d8576b\"], [0.6666666666666666, \"#ed7953\"], [0.7777777777777778, \"#fb9f3a\"], [0.8888888888888888, \"#fdca26\"], [1.0, \"#f0f921\"]], \"sequentialminus\": [[0.0, \"#0d0887\"], [0.1111111111111111, \"#46039f\"], [0.2222222222222222, \"#7201a8\"], [0.3333333333333333, \"#9c179e\"], [0.4444444444444444, \"#bd3786\"], [0.5555555555555556, \"#d8576b\"], [0.6666666666666666, \"#ed7953\"], [0.7777777777777778, \"#fb9f3a\"], [0.8888888888888888, \"#fdca26\"], [1.0, \"#f0f921\"]]}, \"colorway\": [\"#636efa\", \"#EF553B\", \"#00cc96\", \"#ab63fa\", \"#FFA15A\", \"#19d3f3\", \"#FF6692\", \"#B6E880\", \"#FF97FF\", \"#FECB52\"], \"font\": {\"color\": \"#2a3f5f\"}, \"geo\": {\"bgcolor\": \"white\", \"lakecolor\": \"white\", \"landcolor\": \"#E5ECF6\", \"showlakes\": true, \"showland\": true, \"subunitcolor\": \"white\"}, \"hoverlabel\": {\"align\": \"left\"}, \"hovermode\": \"closest\", \"mapbox\": {\"style\": \"light\"}, \"paper_bgcolor\": \"white\", \"plot_bgcolor\": \"#E5ECF6\", \"polar\": {\"angularaxis\": {\"gridcolor\": \"white\", \"linecolor\": \"white\", \"ticks\": \"\"}, \"bgcolor\": \"#E5ECF6\", \"radialaxis\": {\"gridcolor\": \"white\", \"linecolor\": \"white\", \"ticks\": \"\"}}, \"scene\": {\"xaxis\": {\"backgroundcolor\": \"#E5ECF6\", \"gridcolor\": \"white\", \"gridwidth\": 2, \"linecolor\": \"white\", \"showbackground\": true, \"ticks\": \"\", \"zerolinecolor\": \"white\"}, \"yaxis\": {\"backgroundcolor\": \"#E5ECF6\", \"gridcolor\": \"white\", \"gridwidth\": 2, \"linecolor\": \"white\", \"showbackground\": true, \"ticks\": \"\", \"zerolinecolor\": \"white\"}, \"zaxis\": {\"backgroundcolor\": \"#E5ECF6\", \"gridcolor\": \"white\", \"gridwidth\": 2, \"linecolor\": \"white\", \"showbackground\": true, \"ticks\": \"\", \"zerolinecolor\": \"white\"}}, \"shapedefaults\": {\"line\": {\"color\": \"#2a3f5f\"}}, \"ternary\": {\"aaxis\": {\"gridcolor\": \"white\", \"linecolor\": \"white\", \"ticks\": \"\"}, \"baxis\": {\"gridcolor\": \"white\", \"linecolor\": \"white\", \"ticks\": \"\"}, \"bgcolor\": \"#E5ECF6\", \"caxis\": {\"gridcolor\": \"white\", \"linecolor\": \"white\", \"ticks\": \"\"}}, \"title\": {\"x\": 0.05}, \"xaxis\": {\"automargin\": true, \"gridcolor\": \"white\", \"linecolor\": \"white\", \"ticks\": \"\", \"title\": {\"standoff\": 15}, \"zerolinecolor\": \"white\", \"zerolinewidth\": 2}, \"yaxis\": {\"automargin\": true, \"gridcolor\": \"white\", \"linecolor\": \"white\", \"ticks\": \"\", \"title\": {\"standoff\": 15}, \"zerolinecolor\": \"white\", \"zerolinewidth\": 2}}}, \"title\": {\"text\": \"World Cumulative Confirmed Cases\"}, \"updatemenus\": [{\"active\": 0, \"buttons\": [{\"args\": [{\"visible\": [true, true]}, {\"yaxis\": {\"type\": \"linear\"}}], \"label\": \"Linear Scale\", \"method\": \"update\"}, {\"args\": [{\"visible\": [true, true]}, {\"yaxis\": {\"type\": \"log\"}}], \"label\": \"Logarithmic Scale\", \"method\": \"update\"}], \"direction\": \"right\", \"type\": \"buttons\", \"x\": 0.45, \"xanchor\": \"left\", \"y\": 1.1, \"yanchor\": \"top\"}]},\n",
       "                        {\"responsive\": true}\n",
       "                    ).then(function(){\n",
       "                            \n",
       "var gd = document.getElementById('7f70fdb1-5c3c-4531-a6e6-493c5ea51d8a');\n",
       "var x = new MutationObserver(function (mutations, observer) {{\n",
       "        var display = window.getComputedStyle(gd).display;\n",
       "        if (!display || display === 'none') {{\n",
       "            console.log([gd, 'removed!']);\n",
       "            Plotly.purge(gd);\n",
       "            observer.disconnect();\n",
       "        }}\n",
       "}});\n",
       "\n",
       "// Listen for the removal of the full notebook cells\n",
       "var notebookContainer = gd.closest('#notebook-container');\n",
       "if (notebookContainer) {{\n",
       "    x.observe(notebookContainer, {childList: true});\n",
       "}}\n",
       "\n",
       "// Listen for the clearing of the current output cell\n",
       "var outputEl = gd.closest('.output');\n",
       "if (outputEl) {{\n",
       "    x.observe(outputEl, {childList: true});\n",
       "}}\n",
       "\n",
       "                        })\n",
       "                };\n",
       "                });\n",
       "            </script>\n",
       "        </div>"
      ]
     },
     "metadata": {},
     "output_type": "display_data"
    },
    {
     "data": {
      "text/html": [
       "<style  type=\"text/css\" >\n",
       "</style><table id=\"T_2397ac1a_74a9_11ea_8288_c49ded93ade6\" ><thead>    <tr>        <th class=\"blank level0\" ></th>        <th class=\"col_heading level0 col0\" >3/2/20</th>        <th class=\"col_heading level0 col1\" >3/3/20</th>        <th class=\"col_heading level0 col2\" >3/4/20</th>        <th class=\"col_heading level0 col3\" >3/5/20</th>        <th class=\"col_heading level0 col4\" >3/6/20</th>        <th class=\"col_heading level0 col5\" >3/7/20</th>        <th class=\"col_heading level0 col6\" >3/8/20</th>        <th class=\"col_heading level0 col7\" >3/9/20</th>        <th class=\"col_heading level0 col8\" >3/10/20</th>        <th class=\"col_heading level0 col9\" >3/11/20</th>        <th class=\"col_heading level0 col10\" >3/12/20</th>        <th class=\"col_heading level0 col11\" >3/13/20</th>        <th class=\"col_heading level0 col12\" >3/14/20</th>        <th class=\"col_heading level0 col13\" >3/15/20</th>        <th class=\"col_heading level0 col14\" >3/16/20</th>        <th class=\"col_heading level0 col15\" >3/17/20</th>        <th class=\"col_heading level0 col16\" >3/18/20</th>        <th class=\"col_heading level0 col17\" >3/19/20</th>        <th class=\"col_heading level0 col18\" >3/20/20</th>        <th class=\"col_heading level0 col19\" >3/21/20</th>        <th class=\"col_heading level0 col20\" >3/22/20</th>        <th class=\"col_heading level0 col21\" >3/23/20</th>        <th class=\"col_heading level0 col22\" >3/24/20</th>        <th class=\"col_heading level0 col23\" >3/25/20</th>        <th class=\"col_heading level0 col24\" >3/26/20</th>        <th class=\"col_heading level0 col25\" >3/27/20</th>        <th class=\"col_heading level0 col26\" >3/28/20</th>        <th class=\"col_heading level0 col27\" >3/29/20</th>        <th class=\"col_heading level0 col28\" >3/30/20</th>        <th class=\"col_heading level0 col29\" >3/31/20</th>        <th class=\"col_heading level0 col30\" >4/1/20</th>    </tr>    <tr>        <th class=\"index_name level0\" >Country/Region</th>        <th class=\"blank\" ></th>        <th class=\"blank\" ></th>        <th class=\"blank\" ></th>        <th class=\"blank\" ></th>        <th class=\"blank\" ></th>        <th class=\"blank\" ></th>        <th class=\"blank\" ></th>        <th class=\"blank\" ></th>        <th class=\"blank\" ></th>        <th class=\"blank\" ></th>        <th class=\"blank\" ></th>        <th class=\"blank\" ></th>        <th class=\"blank\" ></th>        <th class=\"blank\" ></th>        <th class=\"blank\" ></th>        <th class=\"blank\" ></th>        <th class=\"blank\" ></th>        <th class=\"blank\" ></th>        <th class=\"blank\" ></th>        <th class=\"blank\" ></th>        <th class=\"blank\" ></th>        <th class=\"blank\" ></th>        <th class=\"blank\" ></th>        <th class=\"blank\" ></th>        <th class=\"blank\" ></th>        <th class=\"blank\" ></th>        <th class=\"blank\" ></th>        <th class=\"blank\" ></th>        <th class=\"blank\" ></th>        <th class=\"blank\" ></th>        <th class=\"blank\" ></th>    </tr></thead><tbody>\n",
       "                <tr>\n",
       "                        <th id=\"T_2397ac1a_74a9_11ea_8288_c49ded93ade6level0_row0\" class=\"row_heading level0 row0\" >US</th>\n",
       "                        <td id=\"T_2397ac1a_74a9_11ea_8288_c49ded93ade6row0_col0\" class=\"data row0 col0\" >98</td>\n",
       "                        <td id=\"T_2397ac1a_74a9_11ea_8288_c49ded93ade6row0_col1\" class=\"data row0 col1\" >118</td>\n",
       "                        <td id=\"T_2397ac1a_74a9_11ea_8288_c49ded93ade6row0_col2\" class=\"data row0 col2\" >149</td>\n",
       "                        <td id=\"T_2397ac1a_74a9_11ea_8288_c49ded93ade6row0_col3\" class=\"data row0 col3\" >217</td>\n",
       "                        <td id=\"T_2397ac1a_74a9_11ea_8288_c49ded93ade6row0_col4\" class=\"data row0 col4\" >262</td>\n",
       "                        <td id=\"T_2397ac1a_74a9_11ea_8288_c49ded93ade6row0_col5\" class=\"data row0 col5\" >402</td>\n",
       "                        <td id=\"T_2397ac1a_74a9_11ea_8288_c49ded93ade6row0_col6\" class=\"data row0 col6\" >518</td>\n",
       "                        <td id=\"T_2397ac1a_74a9_11ea_8288_c49ded93ade6row0_col7\" class=\"data row0 col7\" >583</td>\n",
       "                        <td id=\"T_2397ac1a_74a9_11ea_8288_c49ded93ade6row0_col8\" class=\"data row0 col8\" >959</td>\n",
       "                        <td id=\"T_2397ac1a_74a9_11ea_8288_c49ded93ade6row0_col9\" class=\"data row0 col9\" >1,281</td>\n",
       "                        <td id=\"T_2397ac1a_74a9_11ea_8288_c49ded93ade6row0_col10\" class=\"data row0 col10\" >1,663</td>\n",
       "                        <td id=\"T_2397ac1a_74a9_11ea_8288_c49ded93ade6row0_col11\" class=\"data row0 col11\" >2,179</td>\n",
       "                        <td id=\"T_2397ac1a_74a9_11ea_8288_c49ded93ade6row0_col12\" class=\"data row0 col12\" >2,727</td>\n",
       "                        <td id=\"T_2397ac1a_74a9_11ea_8288_c49ded93ade6row0_col13\" class=\"data row0 col13\" >3,499</td>\n",
       "                        <td id=\"T_2397ac1a_74a9_11ea_8288_c49ded93ade6row0_col14\" class=\"data row0 col14\" >4,632</td>\n",
       "                        <td id=\"T_2397ac1a_74a9_11ea_8288_c49ded93ade6row0_col15\" class=\"data row0 col15\" >6,421</td>\n",
       "                        <td id=\"T_2397ac1a_74a9_11ea_8288_c49ded93ade6row0_col16\" class=\"data row0 col16\" >7,783</td>\n",
       "                        <td id=\"T_2397ac1a_74a9_11ea_8288_c49ded93ade6row0_col17\" class=\"data row0 col17\" >13,677</td>\n",
       "                        <td id=\"T_2397ac1a_74a9_11ea_8288_c49ded93ade6row0_col18\" class=\"data row0 col18\" >19,100</td>\n",
       "                        <td id=\"T_2397ac1a_74a9_11ea_8288_c49ded93ade6row0_col19\" class=\"data row0 col19\" >25,489</td>\n",
       "                        <td id=\"T_2397ac1a_74a9_11ea_8288_c49ded93ade6row0_col20\" class=\"data row0 col20\" >33,276</td>\n",
       "                        <td id=\"T_2397ac1a_74a9_11ea_8288_c49ded93ade6row0_col21\" class=\"data row0 col21\" >43,847</td>\n",
       "                        <td id=\"T_2397ac1a_74a9_11ea_8288_c49ded93ade6row0_col22\" class=\"data row0 col22\" >53,740</td>\n",
       "                        <td id=\"T_2397ac1a_74a9_11ea_8288_c49ded93ade6row0_col23\" class=\"data row0 col23\" >65,778</td>\n",
       "                        <td id=\"T_2397ac1a_74a9_11ea_8288_c49ded93ade6row0_col24\" class=\"data row0 col24\" >83,836</td>\n",
       "                        <td id=\"T_2397ac1a_74a9_11ea_8288_c49ded93ade6row0_col25\" class=\"data row0 col25\" >101,657</td>\n",
       "                        <td id=\"T_2397ac1a_74a9_11ea_8288_c49ded93ade6row0_col26\" class=\"data row0 col26\" >121,478</td>\n",
       "                        <td id=\"T_2397ac1a_74a9_11ea_8288_c49ded93ade6row0_col27\" class=\"data row0 col27\" >140,886</td>\n",
       "                        <td id=\"T_2397ac1a_74a9_11ea_8288_c49ded93ade6row0_col28\" class=\"data row0 col28\" >161,807</td>\n",
       "                        <td id=\"T_2397ac1a_74a9_11ea_8288_c49ded93ade6row0_col29\" class=\"data row0 col29\" >188,172</td>\n",
       "                        <td id=\"T_2397ac1a_74a9_11ea_8288_c49ded93ade6row0_col30\" class=\"data row0 col30\" >213,372</td>\n",
       "            </tr>\n",
       "            <tr>\n",
       "                        <th id=\"T_2397ac1a_74a9_11ea_8288_c49ded93ade6level0_row1\" class=\"row_heading level0 row1\" >Italy</th>\n",
       "                        <td id=\"T_2397ac1a_74a9_11ea_8288_c49ded93ade6row1_col0\" class=\"data row1 col0\" >2,036</td>\n",
       "                        <td id=\"T_2397ac1a_74a9_11ea_8288_c49ded93ade6row1_col1\" class=\"data row1 col1\" >2,502</td>\n",
       "                        <td id=\"T_2397ac1a_74a9_11ea_8288_c49ded93ade6row1_col2\" class=\"data row1 col2\" >3,089</td>\n",
       "                        <td id=\"T_2397ac1a_74a9_11ea_8288_c49ded93ade6row1_col3\" class=\"data row1 col3\" >3,858</td>\n",
       "                        <td id=\"T_2397ac1a_74a9_11ea_8288_c49ded93ade6row1_col4\" class=\"data row1 col4\" >4,636</td>\n",
       "                        <td id=\"T_2397ac1a_74a9_11ea_8288_c49ded93ade6row1_col5\" class=\"data row1 col5\" >5,883</td>\n",
       "                        <td id=\"T_2397ac1a_74a9_11ea_8288_c49ded93ade6row1_col6\" class=\"data row1 col6\" >7,375</td>\n",
       "                        <td id=\"T_2397ac1a_74a9_11ea_8288_c49ded93ade6row1_col7\" class=\"data row1 col7\" >9,172</td>\n",
       "                        <td id=\"T_2397ac1a_74a9_11ea_8288_c49ded93ade6row1_col8\" class=\"data row1 col8\" >10,149</td>\n",
       "                        <td id=\"T_2397ac1a_74a9_11ea_8288_c49ded93ade6row1_col9\" class=\"data row1 col9\" >12,462</td>\n",
       "                        <td id=\"T_2397ac1a_74a9_11ea_8288_c49ded93ade6row1_col10\" class=\"data row1 col10\" >12,462</td>\n",
       "                        <td id=\"T_2397ac1a_74a9_11ea_8288_c49ded93ade6row1_col11\" class=\"data row1 col11\" >17,660</td>\n",
       "                        <td id=\"T_2397ac1a_74a9_11ea_8288_c49ded93ade6row1_col12\" class=\"data row1 col12\" >21,157</td>\n",
       "                        <td id=\"T_2397ac1a_74a9_11ea_8288_c49ded93ade6row1_col13\" class=\"data row1 col13\" >24,747</td>\n",
       "                        <td id=\"T_2397ac1a_74a9_11ea_8288_c49ded93ade6row1_col14\" class=\"data row1 col14\" >27,980</td>\n",
       "                        <td id=\"T_2397ac1a_74a9_11ea_8288_c49ded93ade6row1_col15\" class=\"data row1 col15\" >31,506</td>\n",
       "                        <td id=\"T_2397ac1a_74a9_11ea_8288_c49ded93ade6row1_col16\" class=\"data row1 col16\" >35,713</td>\n",
       "                        <td id=\"T_2397ac1a_74a9_11ea_8288_c49ded93ade6row1_col17\" class=\"data row1 col17\" >41,035</td>\n",
       "                        <td id=\"T_2397ac1a_74a9_11ea_8288_c49ded93ade6row1_col18\" class=\"data row1 col18\" >47,021</td>\n",
       "                        <td id=\"T_2397ac1a_74a9_11ea_8288_c49ded93ade6row1_col19\" class=\"data row1 col19\" >53,578</td>\n",
       "                        <td id=\"T_2397ac1a_74a9_11ea_8288_c49ded93ade6row1_col20\" class=\"data row1 col20\" >59,138</td>\n",
       "                        <td id=\"T_2397ac1a_74a9_11ea_8288_c49ded93ade6row1_col21\" class=\"data row1 col21\" >63,927</td>\n",
       "                        <td id=\"T_2397ac1a_74a9_11ea_8288_c49ded93ade6row1_col22\" class=\"data row1 col22\" >69,176</td>\n",
       "                        <td id=\"T_2397ac1a_74a9_11ea_8288_c49ded93ade6row1_col23\" class=\"data row1 col23\" >74,386</td>\n",
       "                        <td id=\"T_2397ac1a_74a9_11ea_8288_c49ded93ade6row1_col24\" class=\"data row1 col24\" >80,589</td>\n",
       "                        <td id=\"T_2397ac1a_74a9_11ea_8288_c49ded93ade6row1_col25\" class=\"data row1 col25\" >86,498</td>\n",
       "                        <td id=\"T_2397ac1a_74a9_11ea_8288_c49ded93ade6row1_col26\" class=\"data row1 col26\" >92,472</td>\n",
       "                        <td id=\"T_2397ac1a_74a9_11ea_8288_c49ded93ade6row1_col27\" class=\"data row1 col27\" >97,689</td>\n",
       "                        <td id=\"T_2397ac1a_74a9_11ea_8288_c49ded93ade6row1_col28\" class=\"data row1 col28\" >101,739</td>\n",
       "                        <td id=\"T_2397ac1a_74a9_11ea_8288_c49ded93ade6row1_col29\" class=\"data row1 col29\" >105,792</td>\n",
       "                        <td id=\"T_2397ac1a_74a9_11ea_8288_c49ded93ade6row1_col30\" class=\"data row1 col30\" >110,574</td>\n",
       "            </tr>\n",
       "            <tr>\n",
       "                        <th id=\"T_2397ac1a_74a9_11ea_8288_c49ded93ade6level0_row2\" class=\"row_heading level0 row2\" >Spain</th>\n",
       "                        <td id=\"T_2397ac1a_74a9_11ea_8288_c49ded93ade6row2_col0\" class=\"data row2 col0\" >120</td>\n",
       "                        <td id=\"T_2397ac1a_74a9_11ea_8288_c49ded93ade6row2_col1\" class=\"data row2 col1\" >165</td>\n",
       "                        <td id=\"T_2397ac1a_74a9_11ea_8288_c49ded93ade6row2_col2\" class=\"data row2 col2\" >222</td>\n",
       "                        <td id=\"T_2397ac1a_74a9_11ea_8288_c49ded93ade6row2_col3\" class=\"data row2 col3\" >259</td>\n",
       "                        <td id=\"T_2397ac1a_74a9_11ea_8288_c49ded93ade6row2_col4\" class=\"data row2 col4\" >400</td>\n",
       "                        <td id=\"T_2397ac1a_74a9_11ea_8288_c49ded93ade6row2_col5\" class=\"data row2 col5\" >500</td>\n",
       "                        <td id=\"T_2397ac1a_74a9_11ea_8288_c49ded93ade6row2_col6\" class=\"data row2 col6\" >673</td>\n",
       "                        <td id=\"T_2397ac1a_74a9_11ea_8288_c49ded93ade6row2_col7\" class=\"data row2 col7\" >1,073</td>\n",
       "                        <td id=\"T_2397ac1a_74a9_11ea_8288_c49ded93ade6row2_col8\" class=\"data row2 col8\" >1,695</td>\n",
       "                        <td id=\"T_2397ac1a_74a9_11ea_8288_c49ded93ade6row2_col9\" class=\"data row2 col9\" >2,277</td>\n",
       "                        <td id=\"T_2397ac1a_74a9_11ea_8288_c49ded93ade6row2_col10\" class=\"data row2 col10\" >2,277</td>\n",
       "                        <td id=\"T_2397ac1a_74a9_11ea_8288_c49ded93ade6row2_col11\" class=\"data row2 col11\" >5,232</td>\n",
       "                        <td id=\"T_2397ac1a_74a9_11ea_8288_c49ded93ade6row2_col12\" class=\"data row2 col12\" >6,391</td>\n",
       "                        <td id=\"T_2397ac1a_74a9_11ea_8288_c49ded93ade6row2_col13\" class=\"data row2 col13\" >7,798</td>\n",
       "                        <td id=\"T_2397ac1a_74a9_11ea_8288_c49ded93ade6row2_col14\" class=\"data row2 col14\" >9,942</td>\n",
       "                        <td id=\"T_2397ac1a_74a9_11ea_8288_c49ded93ade6row2_col15\" class=\"data row2 col15\" >11,748</td>\n",
       "                        <td id=\"T_2397ac1a_74a9_11ea_8288_c49ded93ade6row2_col16\" class=\"data row2 col16\" >13,910</td>\n",
       "                        <td id=\"T_2397ac1a_74a9_11ea_8288_c49ded93ade6row2_col17\" class=\"data row2 col17\" >17,963</td>\n",
       "                        <td id=\"T_2397ac1a_74a9_11ea_8288_c49ded93ade6row2_col18\" class=\"data row2 col18\" >20,410</td>\n",
       "                        <td id=\"T_2397ac1a_74a9_11ea_8288_c49ded93ade6row2_col19\" class=\"data row2 col19\" >25,374</td>\n",
       "                        <td id=\"T_2397ac1a_74a9_11ea_8288_c49ded93ade6row2_col20\" class=\"data row2 col20\" >28,768</td>\n",
       "                        <td id=\"T_2397ac1a_74a9_11ea_8288_c49ded93ade6row2_col21\" class=\"data row2 col21\" >35,136</td>\n",
       "                        <td id=\"T_2397ac1a_74a9_11ea_8288_c49ded93ade6row2_col22\" class=\"data row2 col22\" >39,885</td>\n",
       "                        <td id=\"T_2397ac1a_74a9_11ea_8288_c49ded93ade6row2_col23\" class=\"data row2 col23\" >49,515</td>\n",
       "                        <td id=\"T_2397ac1a_74a9_11ea_8288_c49ded93ade6row2_col24\" class=\"data row2 col24\" >57,786</td>\n",
       "                        <td id=\"T_2397ac1a_74a9_11ea_8288_c49ded93ade6row2_col25\" class=\"data row2 col25\" >65,719</td>\n",
       "                        <td id=\"T_2397ac1a_74a9_11ea_8288_c49ded93ade6row2_col26\" class=\"data row2 col26\" >73,235</td>\n",
       "                        <td id=\"T_2397ac1a_74a9_11ea_8288_c49ded93ade6row2_col27\" class=\"data row2 col27\" >80,110</td>\n",
       "                        <td id=\"T_2397ac1a_74a9_11ea_8288_c49ded93ade6row2_col28\" class=\"data row2 col28\" >87,956</td>\n",
       "                        <td id=\"T_2397ac1a_74a9_11ea_8288_c49ded93ade6row2_col29\" class=\"data row2 col29\" >95,923</td>\n",
       "                        <td id=\"T_2397ac1a_74a9_11ea_8288_c49ded93ade6row2_col30\" class=\"data row2 col30\" >104,118</td>\n",
       "            </tr>\n",
       "            <tr>\n",
       "                        <th id=\"T_2397ac1a_74a9_11ea_8288_c49ded93ade6level0_row3\" class=\"row_heading level0 row3\" >China</th>\n",
       "                        <td id=\"T_2397ac1a_74a9_11ea_8288_c49ded93ade6row3_col0\" class=\"data row3 col0\" >80,136</td>\n",
       "                        <td id=\"T_2397ac1a_74a9_11ea_8288_c49ded93ade6row3_col1\" class=\"data row3 col1\" >80,261</td>\n",
       "                        <td id=\"T_2397ac1a_74a9_11ea_8288_c49ded93ade6row3_col2\" class=\"data row3 col2\" >80,386</td>\n",
       "                        <td id=\"T_2397ac1a_74a9_11ea_8288_c49ded93ade6row3_col3\" class=\"data row3 col3\" >80,537</td>\n",
       "                        <td id=\"T_2397ac1a_74a9_11ea_8288_c49ded93ade6row3_col4\" class=\"data row3 col4\" >80,690</td>\n",
       "                        <td id=\"T_2397ac1a_74a9_11ea_8288_c49ded93ade6row3_col5\" class=\"data row3 col5\" >80,770</td>\n",
       "                        <td id=\"T_2397ac1a_74a9_11ea_8288_c49ded93ade6row3_col6\" class=\"data row3 col6\" >80,823</td>\n",
       "                        <td id=\"T_2397ac1a_74a9_11ea_8288_c49ded93ade6row3_col7\" class=\"data row3 col7\" >80,860</td>\n",
       "                        <td id=\"T_2397ac1a_74a9_11ea_8288_c49ded93ade6row3_col8\" class=\"data row3 col8\" >80,887</td>\n",
       "                        <td id=\"T_2397ac1a_74a9_11ea_8288_c49ded93ade6row3_col9\" class=\"data row3 col9\" >80,921</td>\n",
       "                        <td id=\"T_2397ac1a_74a9_11ea_8288_c49ded93ade6row3_col10\" class=\"data row3 col10\" >80,932</td>\n",
       "                        <td id=\"T_2397ac1a_74a9_11ea_8288_c49ded93ade6row3_col11\" class=\"data row3 col11\" >80,945</td>\n",
       "                        <td id=\"T_2397ac1a_74a9_11ea_8288_c49ded93ade6row3_col12\" class=\"data row3 col12\" >80,977</td>\n",
       "                        <td id=\"T_2397ac1a_74a9_11ea_8288_c49ded93ade6row3_col13\" class=\"data row3 col13\" >81,003</td>\n",
       "                        <td id=\"T_2397ac1a_74a9_11ea_8288_c49ded93ade6row3_col14\" class=\"data row3 col14\" >81,033</td>\n",
       "                        <td id=\"T_2397ac1a_74a9_11ea_8288_c49ded93ade6row3_col15\" class=\"data row3 col15\" >81,058</td>\n",
       "                        <td id=\"T_2397ac1a_74a9_11ea_8288_c49ded93ade6row3_col16\" class=\"data row3 col16\" >81,102</td>\n",
       "                        <td id=\"T_2397ac1a_74a9_11ea_8288_c49ded93ade6row3_col17\" class=\"data row3 col17\" >81,156</td>\n",
       "                        <td id=\"T_2397ac1a_74a9_11ea_8288_c49ded93ade6row3_col18\" class=\"data row3 col18\" >81,250</td>\n",
       "                        <td id=\"T_2397ac1a_74a9_11ea_8288_c49ded93ade6row3_col19\" class=\"data row3 col19\" >81,305</td>\n",
       "                        <td id=\"T_2397ac1a_74a9_11ea_8288_c49ded93ade6row3_col20\" class=\"data row3 col20\" >81,435</td>\n",
       "                        <td id=\"T_2397ac1a_74a9_11ea_8288_c49ded93ade6row3_col21\" class=\"data row3 col21\" >81,498</td>\n",
       "                        <td id=\"T_2397ac1a_74a9_11ea_8288_c49ded93ade6row3_col22\" class=\"data row3 col22\" >81,591</td>\n",
       "                        <td id=\"T_2397ac1a_74a9_11ea_8288_c49ded93ade6row3_col23\" class=\"data row3 col23\" >81,661</td>\n",
       "                        <td id=\"T_2397ac1a_74a9_11ea_8288_c49ded93ade6row3_col24\" class=\"data row3 col24\" >81,782</td>\n",
       "                        <td id=\"T_2397ac1a_74a9_11ea_8288_c49ded93ade6row3_col25\" class=\"data row3 col25\" >81,897</td>\n",
       "                        <td id=\"T_2397ac1a_74a9_11ea_8288_c49ded93ade6row3_col26\" class=\"data row3 col26\" >81,999</td>\n",
       "                        <td id=\"T_2397ac1a_74a9_11ea_8288_c49ded93ade6row3_col27\" class=\"data row3 col27\" >82,122</td>\n",
       "                        <td id=\"T_2397ac1a_74a9_11ea_8288_c49ded93ade6row3_col28\" class=\"data row3 col28\" >82,198</td>\n",
       "                        <td id=\"T_2397ac1a_74a9_11ea_8288_c49ded93ade6row3_col29\" class=\"data row3 col29\" >82,279</td>\n",
       "                        <td id=\"T_2397ac1a_74a9_11ea_8288_c49ded93ade6row3_col30\" class=\"data row3 col30\" >82,361</td>\n",
       "            </tr>\n",
       "            <tr>\n",
       "                        <th id=\"T_2397ac1a_74a9_11ea_8288_c49ded93ade6level0_row4\" class=\"row_heading level0 row4\" >Germany</th>\n",
       "                        <td id=\"T_2397ac1a_74a9_11ea_8288_c49ded93ade6row4_col0\" class=\"data row4 col0\" >159</td>\n",
       "                        <td id=\"T_2397ac1a_74a9_11ea_8288_c49ded93ade6row4_col1\" class=\"data row4 col1\" >196</td>\n",
       "                        <td id=\"T_2397ac1a_74a9_11ea_8288_c49ded93ade6row4_col2\" class=\"data row4 col2\" >262</td>\n",
       "                        <td id=\"T_2397ac1a_74a9_11ea_8288_c49ded93ade6row4_col3\" class=\"data row4 col3\" >482</td>\n",
       "                        <td id=\"T_2397ac1a_74a9_11ea_8288_c49ded93ade6row4_col4\" class=\"data row4 col4\" >670</td>\n",
       "                        <td id=\"T_2397ac1a_74a9_11ea_8288_c49ded93ade6row4_col5\" class=\"data row4 col5\" >799</td>\n",
       "                        <td id=\"T_2397ac1a_74a9_11ea_8288_c49ded93ade6row4_col6\" class=\"data row4 col6\" >1,040</td>\n",
       "                        <td id=\"T_2397ac1a_74a9_11ea_8288_c49ded93ade6row4_col7\" class=\"data row4 col7\" >1,176</td>\n",
       "                        <td id=\"T_2397ac1a_74a9_11ea_8288_c49ded93ade6row4_col8\" class=\"data row4 col8\" >1,457</td>\n",
       "                        <td id=\"T_2397ac1a_74a9_11ea_8288_c49ded93ade6row4_col9\" class=\"data row4 col9\" >1,908</td>\n",
       "                        <td id=\"T_2397ac1a_74a9_11ea_8288_c49ded93ade6row4_col10\" class=\"data row4 col10\" >2,078</td>\n",
       "                        <td id=\"T_2397ac1a_74a9_11ea_8288_c49ded93ade6row4_col11\" class=\"data row4 col11\" >3,675</td>\n",
       "                        <td id=\"T_2397ac1a_74a9_11ea_8288_c49ded93ade6row4_col12\" class=\"data row4 col12\" >4,585</td>\n",
       "                        <td id=\"T_2397ac1a_74a9_11ea_8288_c49ded93ade6row4_col13\" class=\"data row4 col13\" >5,795</td>\n",
       "                        <td id=\"T_2397ac1a_74a9_11ea_8288_c49ded93ade6row4_col14\" class=\"data row4 col14\" >7,272</td>\n",
       "                        <td id=\"T_2397ac1a_74a9_11ea_8288_c49ded93ade6row4_col15\" class=\"data row4 col15\" >9,257</td>\n",
       "                        <td id=\"T_2397ac1a_74a9_11ea_8288_c49ded93ade6row4_col16\" class=\"data row4 col16\" >12,327</td>\n",
       "                        <td id=\"T_2397ac1a_74a9_11ea_8288_c49ded93ade6row4_col17\" class=\"data row4 col17\" >15,320</td>\n",
       "                        <td id=\"T_2397ac1a_74a9_11ea_8288_c49ded93ade6row4_col18\" class=\"data row4 col18\" >19,848</td>\n",
       "                        <td id=\"T_2397ac1a_74a9_11ea_8288_c49ded93ade6row4_col19\" class=\"data row4 col19\" >22,213</td>\n",
       "                        <td id=\"T_2397ac1a_74a9_11ea_8288_c49ded93ade6row4_col20\" class=\"data row4 col20\" >24,873</td>\n",
       "                        <td id=\"T_2397ac1a_74a9_11ea_8288_c49ded93ade6row4_col21\" class=\"data row4 col21\" >29,056</td>\n",
       "                        <td id=\"T_2397ac1a_74a9_11ea_8288_c49ded93ade6row4_col22\" class=\"data row4 col22\" >32,986</td>\n",
       "                        <td id=\"T_2397ac1a_74a9_11ea_8288_c49ded93ade6row4_col23\" class=\"data row4 col23\" >37,323</td>\n",
       "                        <td id=\"T_2397ac1a_74a9_11ea_8288_c49ded93ade6row4_col24\" class=\"data row4 col24\" >43,938</td>\n",
       "                        <td id=\"T_2397ac1a_74a9_11ea_8288_c49ded93ade6row4_col25\" class=\"data row4 col25\" >50,871</td>\n",
       "                        <td id=\"T_2397ac1a_74a9_11ea_8288_c49ded93ade6row4_col26\" class=\"data row4 col26\" >57,695</td>\n",
       "                        <td id=\"T_2397ac1a_74a9_11ea_8288_c49ded93ade6row4_col27\" class=\"data row4 col27\" >62,095</td>\n",
       "                        <td id=\"T_2397ac1a_74a9_11ea_8288_c49ded93ade6row4_col28\" class=\"data row4 col28\" >66,885</td>\n",
       "                        <td id=\"T_2397ac1a_74a9_11ea_8288_c49ded93ade6row4_col29\" class=\"data row4 col29\" >71,808</td>\n",
       "                        <td id=\"T_2397ac1a_74a9_11ea_8288_c49ded93ade6row4_col30\" class=\"data row4 col30\" >77,872</td>\n",
       "            </tr>\n",
       "            <tr>\n",
       "                        <th id=\"T_2397ac1a_74a9_11ea_8288_c49ded93ade6level0_row5\" class=\"row_heading level0 row5\" >France</th>\n",
       "                        <td id=\"T_2397ac1a_74a9_11ea_8288_c49ded93ade6row5_col0\" class=\"data row5 col0\" >191</td>\n",
       "                        <td id=\"T_2397ac1a_74a9_11ea_8288_c49ded93ade6row5_col1\" class=\"data row5 col1\" >204</td>\n",
       "                        <td id=\"T_2397ac1a_74a9_11ea_8288_c49ded93ade6row5_col2\" class=\"data row5 col2\" >285</td>\n",
       "                        <td id=\"T_2397ac1a_74a9_11ea_8288_c49ded93ade6row5_col3\" class=\"data row5 col3\" >377</td>\n",
       "                        <td id=\"T_2397ac1a_74a9_11ea_8288_c49ded93ade6row5_col4\" class=\"data row5 col4\" >653</td>\n",
       "                        <td id=\"T_2397ac1a_74a9_11ea_8288_c49ded93ade6row5_col5\" class=\"data row5 col5\" >949</td>\n",
       "                        <td id=\"T_2397ac1a_74a9_11ea_8288_c49ded93ade6row5_col6\" class=\"data row5 col6\" >1,126</td>\n",
       "                        <td id=\"T_2397ac1a_74a9_11ea_8288_c49ded93ade6row5_col7\" class=\"data row5 col7\" >1,209</td>\n",
       "                        <td id=\"T_2397ac1a_74a9_11ea_8288_c49ded93ade6row5_col8\" class=\"data row5 col8\" >1,784</td>\n",
       "                        <td id=\"T_2397ac1a_74a9_11ea_8288_c49ded93ade6row5_col9\" class=\"data row5 col9\" >2,281</td>\n",
       "                        <td id=\"T_2397ac1a_74a9_11ea_8288_c49ded93ade6row5_col10\" class=\"data row5 col10\" >2,281</td>\n",
       "                        <td id=\"T_2397ac1a_74a9_11ea_8288_c49ded93ade6row5_col11\" class=\"data row5 col11\" >3,661</td>\n",
       "                        <td id=\"T_2397ac1a_74a9_11ea_8288_c49ded93ade6row5_col12\" class=\"data row5 col12\" >4,469</td>\n",
       "                        <td id=\"T_2397ac1a_74a9_11ea_8288_c49ded93ade6row5_col13\" class=\"data row5 col13\" >4,499</td>\n",
       "                        <td id=\"T_2397ac1a_74a9_11ea_8288_c49ded93ade6row5_col14\" class=\"data row5 col14\" >6,633</td>\n",
       "                        <td id=\"T_2397ac1a_74a9_11ea_8288_c49ded93ade6row5_col15\" class=\"data row5 col15\" >7,652</td>\n",
       "                        <td id=\"T_2397ac1a_74a9_11ea_8288_c49ded93ade6row5_col16\" class=\"data row5 col16\" >9,043</td>\n",
       "                        <td id=\"T_2397ac1a_74a9_11ea_8288_c49ded93ade6row5_col17\" class=\"data row5 col17\" >10,871</td>\n",
       "                        <td id=\"T_2397ac1a_74a9_11ea_8288_c49ded93ade6row5_col18\" class=\"data row5 col18\" >12,612</td>\n",
       "                        <td id=\"T_2397ac1a_74a9_11ea_8288_c49ded93ade6row5_col19\" class=\"data row5 col19\" >14,282</td>\n",
       "                        <td id=\"T_2397ac1a_74a9_11ea_8288_c49ded93ade6row5_col20\" class=\"data row5 col20\" >16,018</td>\n",
       "                        <td id=\"T_2397ac1a_74a9_11ea_8288_c49ded93ade6row5_col21\" class=\"data row5 col21\" >19,856</td>\n",
       "                        <td id=\"T_2397ac1a_74a9_11ea_8288_c49ded93ade6row5_col22\" class=\"data row5 col22\" >22,304</td>\n",
       "                        <td id=\"T_2397ac1a_74a9_11ea_8288_c49ded93ade6row5_col23\" class=\"data row5 col23\" >25,233</td>\n",
       "                        <td id=\"T_2397ac1a_74a9_11ea_8288_c49ded93ade6row5_col24\" class=\"data row5 col24\" >29,155</td>\n",
       "                        <td id=\"T_2397ac1a_74a9_11ea_8288_c49ded93ade6row5_col25\" class=\"data row5 col25\" >32,964</td>\n",
       "                        <td id=\"T_2397ac1a_74a9_11ea_8288_c49ded93ade6row5_col26\" class=\"data row5 col26\" >37,575</td>\n",
       "                        <td id=\"T_2397ac1a_74a9_11ea_8288_c49ded93ade6row5_col27\" class=\"data row5 col27\" >40,174</td>\n",
       "                        <td id=\"T_2397ac1a_74a9_11ea_8288_c49ded93ade6row5_col28\" class=\"data row5 col28\" >44,550</td>\n",
       "                        <td id=\"T_2397ac1a_74a9_11ea_8288_c49ded93ade6row5_col29\" class=\"data row5 col29\" >52,128</td>\n",
       "                        <td id=\"T_2397ac1a_74a9_11ea_8288_c49ded93ade6row5_col30\" class=\"data row5 col30\" >56,989</td>\n",
       "            </tr>\n",
       "            <tr>\n",
       "                        <th id=\"T_2397ac1a_74a9_11ea_8288_c49ded93ade6level0_row6\" class=\"row_heading level0 row6\" >Iran</th>\n",
       "                        <td id=\"T_2397ac1a_74a9_11ea_8288_c49ded93ade6row6_col0\" class=\"data row6 col0\" >1,501</td>\n",
       "                        <td id=\"T_2397ac1a_74a9_11ea_8288_c49ded93ade6row6_col1\" class=\"data row6 col1\" >2,336</td>\n",
       "                        <td id=\"T_2397ac1a_74a9_11ea_8288_c49ded93ade6row6_col2\" class=\"data row6 col2\" >2,922</td>\n",
       "                        <td id=\"T_2397ac1a_74a9_11ea_8288_c49ded93ade6row6_col3\" class=\"data row6 col3\" >3,513</td>\n",
       "                        <td id=\"T_2397ac1a_74a9_11ea_8288_c49ded93ade6row6_col4\" class=\"data row6 col4\" >4,747</td>\n",
       "                        <td id=\"T_2397ac1a_74a9_11ea_8288_c49ded93ade6row6_col5\" class=\"data row6 col5\" >5,823</td>\n",
       "                        <td id=\"T_2397ac1a_74a9_11ea_8288_c49ded93ade6row6_col6\" class=\"data row6 col6\" >6,566</td>\n",
       "                        <td id=\"T_2397ac1a_74a9_11ea_8288_c49ded93ade6row6_col7\" class=\"data row6 col7\" >7,161</td>\n",
       "                        <td id=\"T_2397ac1a_74a9_11ea_8288_c49ded93ade6row6_col8\" class=\"data row6 col8\" >8,042</td>\n",
       "                        <td id=\"T_2397ac1a_74a9_11ea_8288_c49ded93ade6row6_col9\" class=\"data row6 col9\" >9,000</td>\n",
       "                        <td id=\"T_2397ac1a_74a9_11ea_8288_c49ded93ade6row6_col10\" class=\"data row6 col10\" >10,075</td>\n",
       "                        <td id=\"T_2397ac1a_74a9_11ea_8288_c49ded93ade6row6_col11\" class=\"data row6 col11\" >11,364</td>\n",
       "                        <td id=\"T_2397ac1a_74a9_11ea_8288_c49ded93ade6row6_col12\" class=\"data row6 col12\" >12,729</td>\n",
       "                        <td id=\"T_2397ac1a_74a9_11ea_8288_c49ded93ade6row6_col13\" class=\"data row6 col13\" >13,938</td>\n",
       "                        <td id=\"T_2397ac1a_74a9_11ea_8288_c49ded93ade6row6_col14\" class=\"data row6 col14\" >14,991</td>\n",
       "                        <td id=\"T_2397ac1a_74a9_11ea_8288_c49ded93ade6row6_col15\" class=\"data row6 col15\" >16,169</td>\n",
       "                        <td id=\"T_2397ac1a_74a9_11ea_8288_c49ded93ade6row6_col16\" class=\"data row6 col16\" >17,361</td>\n",
       "                        <td id=\"T_2397ac1a_74a9_11ea_8288_c49ded93ade6row6_col17\" class=\"data row6 col17\" >18,407</td>\n",
       "                        <td id=\"T_2397ac1a_74a9_11ea_8288_c49ded93ade6row6_col18\" class=\"data row6 col18\" >19,644</td>\n",
       "                        <td id=\"T_2397ac1a_74a9_11ea_8288_c49ded93ade6row6_col19\" class=\"data row6 col19\" >20,610</td>\n",
       "                        <td id=\"T_2397ac1a_74a9_11ea_8288_c49ded93ade6row6_col20\" class=\"data row6 col20\" >21,638</td>\n",
       "                        <td id=\"T_2397ac1a_74a9_11ea_8288_c49ded93ade6row6_col21\" class=\"data row6 col21\" >23,049</td>\n",
       "                        <td id=\"T_2397ac1a_74a9_11ea_8288_c49ded93ade6row6_col22\" class=\"data row6 col22\" >24,811</td>\n",
       "                        <td id=\"T_2397ac1a_74a9_11ea_8288_c49ded93ade6row6_col23\" class=\"data row6 col23\" >27,017</td>\n",
       "                        <td id=\"T_2397ac1a_74a9_11ea_8288_c49ded93ade6row6_col24\" class=\"data row6 col24\" >29,406</td>\n",
       "                        <td id=\"T_2397ac1a_74a9_11ea_8288_c49ded93ade6row6_col25\" class=\"data row6 col25\" >32,332</td>\n",
       "                        <td id=\"T_2397ac1a_74a9_11ea_8288_c49ded93ade6row6_col26\" class=\"data row6 col26\" >35,408</td>\n",
       "                        <td id=\"T_2397ac1a_74a9_11ea_8288_c49ded93ade6row6_col27\" class=\"data row6 col27\" >38,309</td>\n",
       "                        <td id=\"T_2397ac1a_74a9_11ea_8288_c49ded93ade6row6_col28\" class=\"data row6 col28\" >41,495</td>\n",
       "                        <td id=\"T_2397ac1a_74a9_11ea_8288_c49ded93ade6row6_col29\" class=\"data row6 col29\" >44,605</td>\n",
       "                        <td id=\"T_2397ac1a_74a9_11ea_8288_c49ded93ade6row6_col30\" class=\"data row6 col30\" >47,593</td>\n",
       "            </tr>\n",
       "            <tr>\n",
       "                        <th id=\"T_2397ac1a_74a9_11ea_8288_c49ded93ade6level0_row7\" class=\"row_heading level0 row7\" >United Kingdom</th>\n",
       "                        <td id=\"T_2397ac1a_74a9_11ea_8288_c49ded93ade6row7_col0\" class=\"data row7 col0\" >40</td>\n",
       "                        <td id=\"T_2397ac1a_74a9_11ea_8288_c49ded93ade6row7_col1\" class=\"data row7 col1\" >51</td>\n",
       "                        <td id=\"T_2397ac1a_74a9_11ea_8288_c49ded93ade6row7_col2\" class=\"data row7 col2\" >85</td>\n",
       "                        <td id=\"T_2397ac1a_74a9_11ea_8288_c49ded93ade6row7_col3\" class=\"data row7 col3\" >115</td>\n",
       "                        <td id=\"T_2397ac1a_74a9_11ea_8288_c49ded93ade6row7_col4\" class=\"data row7 col4\" >163</td>\n",
       "                        <td id=\"T_2397ac1a_74a9_11ea_8288_c49ded93ade6row7_col5\" class=\"data row7 col5\" >206</td>\n",
       "                        <td id=\"T_2397ac1a_74a9_11ea_8288_c49ded93ade6row7_col6\" class=\"data row7 col6\" >273</td>\n",
       "                        <td id=\"T_2397ac1a_74a9_11ea_8288_c49ded93ade6row7_col7\" class=\"data row7 col7\" >321</td>\n",
       "                        <td id=\"T_2397ac1a_74a9_11ea_8288_c49ded93ade6row7_col8\" class=\"data row7 col8\" >382</td>\n",
       "                        <td id=\"T_2397ac1a_74a9_11ea_8288_c49ded93ade6row7_col9\" class=\"data row7 col9\" >456</td>\n",
       "                        <td id=\"T_2397ac1a_74a9_11ea_8288_c49ded93ade6row7_col10\" class=\"data row7 col10\" >456</td>\n",
       "                        <td id=\"T_2397ac1a_74a9_11ea_8288_c49ded93ade6row7_col11\" class=\"data row7 col11\" >798</td>\n",
       "                        <td id=\"T_2397ac1a_74a9_11ea_8288_c49ded93ade6row7_col12\" class=\"data row7 col12\" >1,140</td>\n",
       "                        <td id=\"T_2397ac1a_74a9_11ea_8288_c49ded93ade6row7_col13\" class=\"data row7 col13\" >1,140</td>\n",
       "                        <td id=\"T_2397ac1a_74a9_11ea_8288_c49ded93ade6row7_col14\" class=\"data row7 col14\" >1,543</td>\n",
       "                        <td id=\"T_2397ac1a_74a9_11ea_8288_c49ded93ade6row7_col15\" class=\"data row7 col15\" >1,950</td>\n",
       "                        <td id=\"T_2397ac1a_74a9_11ea_8288_c49ded93ade6row7_col16\" class=\"data row7 col16\" >2,626</td>\n",
       "                        <td id=\"T_2397ac1a_74a9_11ea_8288_c49ded93ade6row7_col17\" class=\"data row7 col17\" >2,689</td>\n",
       "                        <td id=\"T_2397ac1a_74a9_11ea_8288_c49ded93ade6row7_col18\" class=\"data row7 col18\" >3,983</td>\n",
       "                        <td id=\"T_2397ac1a_74a9_11ea_8288_c49ded93ade6row7_col19\" class=\"data row7 col19\" >5,018</td>\n",
       "                        <td id=\"T_2397ac1a_74a9_11ea_8288_c49ded93ade6row7_col20\" class=\"data row7 col20\" >5,683</td>\n",
       "                        <td id=\"T_2397ac1a_74a9_11ea_8288_c49ded93ade6row7_col21\" class=\"data row7 col21\" >6,650</td>\n",
       "                        <td id=\"T_2397ac1a_74a9_11ea_8288_c49ded93ade6row7_col22\" class=\"data row7 col22\" >8,077</td>\n",
       "                        <td id=\"T_2397ac1a_74a9_11ea_8288_c49ded93ade6row7_col23\" class=\"data row7 col23\" >9,529</td>\n",
       "                        <td id=\"T_2397ac1a_74a9_11ea_8288_c49ded93ade6row7_col24\" class=\"data row7 col24\" >11,658</td>\n",
       "                        <td id=\"T_2397ac1a_74a9_11ea_8288_c49ded93ade6row7_col25\" class=\"data row7 col25\" >14,543</td>\n",
       "                        <td id=\"T_2397ac1a_74a9_11ea_8288_c49ded93ade6row7_col26\" class=\"data row7 col26\" >17,089</td>\n",
       "                        <td id=\"T_2397ac1a_74a9_11ea_8288_c49ded93ade6row7_col27\" class=\"data row7 col27\" >19,522</td>\n",
       "                        <td id=\"T_2397ac1a_74a9_11ea_8288_c49ded93ade6row7_col28\" class=\"data row7 col28\" >22,141</td>\n",
       "                        <td id=\"T_2397ac1a_74a9_11ea_8288_c49ded93ade6row7_col29\" class=\"data row7 col29\" >25,150</td>\n",
       "                        <td id=\"T_2397ac1a_74a9_11ea_8288_c49ded93ade6row7_col30\" class=\"data row7 col30\" >29,474</td>\n",
       "            </tr>\n",
       "            <tr>\n",
       "                        <th id=\"T_2397ac1a_74a9_11ea_8288_c49ded93ade6level0_row8\" class=\"row_heading level0 row8\" >Switzerland</th>\n",
       "                        <td id=\"T_2397ac1a_74a9_11ea_8288_c49ded93ade6row8_col0\" class=\"data row8 col0\" >42</td>\n",
       "                        <td id=\"T_2397ac1a_74a9_11ea_8288_c49ded93ade6row8_col1\" class=\"data row8 col1\" >56</td>\n",
       "                        <td id=\"T_2397ac1a_74a9_11ea_8288_c49ded93ade6row8_col2\" class=\"data row8 col2\" >90</td>\n",
       "                        <td id=\"T_2397ac1a_74a9_11ea_8288_c49ded93ade6row8_col3\" class=\"data row8 col3\" >114</td>\n",
       "                        <td id=\"T_2397ac1a_74a9_11ea_8288_c49ded93ade6row8_col4\" class=\"data row8 col4\" >214</td>\n",
       "                        <td id=\"T_2397ac1a_74a9_11ea_8288_c49ded93ade6row8_col5\" class=\"data row8 col5\" >268</td>\n",
       "                        <td id=\"T_2397ac1a_74a9_11ea_8288_c49ded93ade6row8_col6\" class=\"data row8 col6\" >337</td>\n",
       "                        <td id=\"T_2397ac1a_74a9_11ea_8288_c49ded93ade6row8_col7\" class=\"data row8 col7\" >374</td>\n",
       "                        <td id=\"T_2397ac1a_74a9_11ea_8288_c49ded93ade6row8_col8\" class=\"data row8 col8\" >491</td>\n",
       "                        <td id=\"T_2397ac1a_74a9_11ea_8288_c49ded93ade6row8_col9\" class=\"data row8 col9\" >652</td>\n",
       "                        <td id=\"T_2397ac1a_74a9_11ea_8288_c49ded93ade6row8_col10\" class=\"data row8 col10\" >652</td>\n",
       "                        <td id=\"T_2397ac1a_74a9_11ea_8288_c49ded93ade6row8_col11\" class=\"data row8 col11\" >1,139</td>\n",
       "                        <td id=\"T_2397ac1a_74a9_11ea_8288_c49ded93ade6row8_col12\" class=\"data row8 col12\" >1,359</td>\n",
       "                        <td id=\"T_2397ac1a_74a9_11ea_8288_c49ded93ade6row8_col13\" class=\"data row8 col13\" >2,200</td>\n",
       "                        <td id=\"T_2397ac1a_74a9_11ea_8288_c49ded93ade6row8_col14\" class=\"data row8 col14\" >2,200</td>\n",
       "                        <td id=\"T_2397ac1a_74a9_11ea_8288_c49ded93ade6row8_col15\" class=\"data row8 col15\" >2,700</td>\n",
       "                        <td id=\"T_2397ac1a_74a9_11ea_8288_c49ded93ade6row8_col16\" class=\"data row8 col16\" >3,028</td>\n",
       "                        <td id=\"T_2397ac1a_74a9_11ea_8288_c49ded93ade6row8_col17\" class=\"data row8 col17\" >4,075</td>\n",
       "                        <td id=\"T_2397ac1a_74a9_11ea_8288_c49ded93ade6row8_col18\" class=\"data row8 col18\" >5,294</td>\n",
       "                        <td id=\"T_2397ac1a_74a9_11ea_8288_c49ded93ade6row8_col19\" class=\"data row8 col19\" >6,575</td>\n",
       "                        <td id=\"T_2397ac1a_74a9_11ea_8288_c49ded93ade6row8_col20\" class=\"data row8 col20\" >7,474</td>\n",
       "                        <td id=\"T_2397ac1a_74a9_11ea_8288_c49ded93ade6row8_col21\" class=\"data row8 col21\" >8,795</td>\n",
       "                        <td id=\"T_2397ac1a_74a9_11ea_8288_c49ded93ade6row8_col22\" class=\"data row8 col22\" >9,877</td>\n",
       "                        <td id=\"T_2397ac1a_74a9_11ea_8288_c49ded93ade6row8_col23\" class=\"data row8 col23\" >10,897</td>\n",
       "                        <td id=\"T_2397ac1a_74a9_11ea_8288_c49ded93ade6row8_col24\" class=\"data row8 col24\" >11,811</td>\n",
       "                        <td id=\"T_2397ac1a_74a9_11ea_8288_c49ded93ade6row8_col25\" class=\"data row8 col25\" >12,928</td>\n",
       "                        <td id=\"T_2397ac1a_74a9_11ea_8288_c49ded93ade6row8_col26\" class=\"data row8 col26\" >14,076</td>\n",
       "                        <td id=\"T_2397ac1a_74a9_11ea_8288_c49ded93ade6row8_col27\" class=\"data row8 col27\" >14,829</td>\n",
       "                        <td id=\"T_2397ac1a_74a9_11ea_8288_c49ded93ade6row8_col28\" class=\"data row8 col28\" >15,922</td>\n",
       "                        <td id=\"T_2397ac1a_74a9_11ea_8288_c49ded93ade6row8_col29\" class=\"data row8 col29\" >16,605</td>\n",
       "                        <td id=\"T_2397ac1a_74a9_11ea_8288_c49ded93ade6row8_col30\" class=\"data row8 col30\" >17,768</td>\n",
       "            </tr>\n",
       "            <tr>\n",
       "                        <th id=\"T_2397ac1a_74a9_11ea_8288_c49ded93ade6level0_row9\" class=\"row_heading level0 row9\" >Turkey</th>\n",
       "                        <td id=\"T_2397ac1a_74a9_11ea_8288_c49ded93ade6row9_col0\" class=\"data row9 col0\" >-</td>\n",
       "                        <td id=\"T_2397ac1a_74a9_11ea_8288_c49ded93ade6row9_col1\" class=\"data row9 col1\" >-</td>\n",
       "                        <td id=\"T_2397ac1a_74a9_11ea_8288_c49ded93ade6row9_col2\" class=\"data row9 col2\" >-</td>\n",
       "                        <td id=\"T_2397ac1a_74a9_11ea_8288_c49ded93ade6row9_col3\" class=\"data row9 col3\" >-</td>\n",
       "                        <td id=\"T_2397ac1a_74a9_11ea_8288_c49ded93ade6row9_col4\" class=\"data row9 col4\" >-</td>\n",
       "                        <td id=\"T_2397ac1a_74a9_11ea_8288_c49ded93ade6row9_col5\" class=\"data row9 col5\" >-</td>\n",
       "                        <td id=\"T_2397ac1a_74a9_11ea_8288_c49ded93ade6row9_col6\" class=\"data row9 col6\" >-</td>\n",
       "                        <td id=\"T_2397ac1a_74a9_11ea_8288_c49ded93ade6row9_col7\" class=\"data row9 col7\" >-</td>\n",
       "                        <td id=\"T_2397ac1a_74a9_11ea_8288_c49ded93ade6row9_col8\" class=\"data row9 col8\" >-</td>\n",
       "                        <td id=\"T_2397ac1a_74a9_11ea_8288_c49ded93ade6row9_col9\" class=\"data row9 col9\" >1</td>\n",
       "                        <td id=\"T_2397ac1a_74a9_11ea_8288_c49ded93ade6row9_col10\" class=\"data row9 col10\" >1</td>\n",
       "                        <td id=\"T_2397ac1a_74a9_11ea_8288_c49ded93ade6row9_col11\" class=\"data row9 col11\" >5</td>\n",
       "                        <td id=\"T_2397ac1a_74a9_11ea_8288_c49ded93ade6row9_col12\" class=\"data row9 col12\" >5</td>\n",
       "                        <td id=\"T_2397ac1a_74a9_11ea_8288_c49ded93ade6row9_col13\" class=\"data row9 col13\" >6</td>\n",
       "                        <td id=\"T_2397ac1a_74a9_11ea_8288_c49ded93ade6row9_col14\" class=\"data row9 col14\" >18</td>\n",
       "                        <td id=\"T_2397ac1a_74a9_11ea_8288_c49ded93ade6row9_col15\" class=\"data row9 col15\" >47</td>\n",
       "                        <td id=\"T_2397ac1a_74a9_11ea_8288_c49ded93ade6row9_col16\" class=\"data row9 col16\" >98</td>\n",
       "                        <td id=\"T_2397ac1a_74a9_11ea_8288_c49ded93ade6row9_col17\" class=\"data row9 col17\" >192</td>\n",
       "                        <td id=\"T_2397ac1a_74a9_11ea_8288_c49ded93ade6row9_col18\" class=\"data row9 col18\" >359</td>\n",
       "                        <td id=\"T_2397ac1a_74a9_11ea_8288_c49ded93ade6row9_col19\" class=\"data row9 col19\" >670</td>\n",
       "                        <td id=\"T_2397ac1a_74a9_11ea_8288_c49ded93ade6row9_col20\" class=\"data row9 col20\" >1,236</td>\n",
       "                        <td id=\"T_2397ac1a_74a9_11ea_8288_c49ded93ade6row9_col21\" class=\"data row9 col21\" >1,529</td>\n",
       "                        <td id=\"T_2397ac1a_74a9_11ea_8288_c49ded93ade6row9_col22\" class=\"data row9 col22\" >1,872</td>\n",
       "                        <td id=\"T_2397ac1a_74a9_11ea_8288_c49ded93ade6row9_col23\" class=\"data row9 col23\" >2,433</td>\n",
       "                        <td id=\"T_2397ac1a_74a9_11ea_8288_c49ded93ade6row9_col24\" class=\"data row9 col24\" >3,629</td>\n",
       "                        <td id=\"T_2397ac1a_74a9_11ea_8288_c49ded93ade6row9_col25\" class=\"data row9 col25\" >5,698</td>\n",
       "                        <td id=\"T_2397ac1a_74a9_11ea_8288_c49ded93ade6row9_col26\" class=\"data row9 col26\" >7,402</td>\n",
       "                        <td id=\"T_2397ac1a_74a9_11ea_8288_c49ded93ade6row9_col27\" class=\"data row9 col27\" >9,217</td>\n",
       "                        <td id=\"T_2397ac1a_74a9_11ea_8288_c49ded93ade6row9_col28\" class=\"data row9 col28\" >10,827</td>\n",
       "                        <td id=\"T_2397ac1a_74a9_11ea_8288_c49ded93ade6row9_col29\" class=\"data row9 col29\" >13,531</td>\n",
       "                        <td id=\"T_2397ac1a_74a9_11ea_8288_c49ded93ade6row9_col30\" class=\"data row9 col30\" >15,679</td>\n",
       "            </tr>\n",
       "            <tr>\n",
       "                        <th id=\"T_2397ac1a_74a9_11ea_8288_c49ded93ade6level0_row10\" class=\"row_heading level0 row10\" >Belgium</th>\n",
       "                        <td id=\"T_2397ac1a_74a9_11ea_8288_c49ded93ade6row10_col0\" class=\"data row10 col0\" >8</td>\n",
       "                        <td id=\"T_2397ac1a_74a9_11ea_8288_c49ded93ade6row10_col1\" class=\"data row10 col1\" >13</td>\n",
       "                        <td id=\"T_2397ac1a_74a9_11ea_8288_c49ded93ade6row10_col2\" class=\"data row10 col2\" >23</td>\n",
       "                        <td id=\"T_2397ac1a_74a9_11ea_8288_c49ded93ade6row10_col3\" class=\"data row10 col3\" >50</td>\n",
       "                        <td id=\"T_2397ac1a_74a9_11ea_8288_c49ded93ade6row10_col4\" class=\"data row10 col4\" >109</td>\n",
       "                        <td id=\"T_2397ac1a_74a9_11ea_8288_c49ded93ade6row10_col5\" class=\"data row10 col5\" >169</td>\n",
       "                        <td id=\"T_2397ac1a_74a9_11ea_8288_c49ded93ade6row10_col6\" class=\"data row10 col6\" >200</td>\n",
       "                        <td id=\"T_2397ac1a_74a9_11ea_8288_c49ded93ade6row10_col7\" class=\"data row10 col7\" >239</td>\n",
       "                        <td id=\"T_2397ac1a_74a9_11ea_8288_c49ded93ade6row10_col8\" class=\"data row10 col8\" >267</td>\n",
       "                        <td id=\"T_2397ac1a_74a9_11ea_8288_c49ded93ade6row10_col9\" class=\"data row10 col9\" >314</td>\n",
       "                        <td id=\"T_2397ac1a_74a9_11ea_8288_c49ded93ade6row10_col10\" class=\"data row10 col10\" >314</td>\n",
       "                        <td id=\"T_2397ac1a_74a9_11ea_8288_c49ded93ade6row10_col11\" class=\"data row10 col11\" >559</td>\n",
       "                        <td id=\"T_2397ac1a_74a9_11ea_8288_c49ded93ade6row10_col12\" class=\"data row10 col12\" >689</td>\n",
       "                        <td id=\"T_2397ac1a_74a9_11ea_8288_c49ded93ade6row10_col13\" class=\"data row10 col13\" >886</td>\n",
       "                        <td id=\"T_2397ac1a_74a9_11ea_8288_c49ded93ade6row10_col14\" class=\"data row10 col14\" >1,058</td>\n",
       "                        <td id=\"T_2397ac1a_74a9_11ea_8288_c49ded93ade6row10_col15\" class=\"data row10 col15\" >1,243</td>\n",
       "                        <td id=\"T_2397ac1a_74a9_11ea_8288_c49ded93ade6row10_col16\" class=\"data row10 col16\" >1,486</td>\n",
       "                        <td id=\"T_2397ac1a_74a9_11ea_8288_c49ded93ade6row10_col17\" class=\"data row10 col17\" >1,795</td>\n",
       "                        <td id=\"T_2397ac1a_74a9_11ea_8288_c49ded93ade6row10_col18\" class=\"data row10 col18\" >2,257</td>\n",
       "                        <td id=\"T_2397ac1a_74a9_11ea_8288_c49ded93ade6row10_col19\" class=\"data row10 col19\" >2,815</td>\n",
       "                        <td id=\"T_2397ac1a_74a9_11ea_8288_c49ded93ade6row10_col20\" class=\"data row10 col20\" >3,401</td>\n",
       "                        <td id=\"T_2397ac1a_74a9_11ea_8288_c49ded93ade6row10_col21\" class=\"data row10 col21\" >3,743</td>\n",
       "                        <td id=\"T_2397ac1a_74a9_11ea_8288_c49ded93ade6row10_col22\" class=\"data row10 col22\" >4,269</td>\n",
       "                        <td id=\"T_2397ac1a_74a9_11ea_8288_c49ded93ade6row10_col23\" class=\"data row10 col23\" >4,937</td>\n",
       "                        <td id=\"T_2397ac1a_74a9_11ea_8288_c49ded93ade6row10_col24\" class=\"data row10 col24\" >6,235</td>\n",
       "                        <td id=\"T_2397ac1a_74a9_11ea_8288_c49ded93ade6row10_col25\" class=\"data row10 col25\" >7,284</td>\n",
       "                        <td id=\"T_2397ac1a_74a9_11ea_8288_c49ded93ade6row10_col26\" class=\"data row10 col26\" >9,134</td>\n",
       "                        <td id=\"T_2397ac1a_74a9_11ea_8288_c49ded93ade6row10_col27\" class=\"data row10 col27\" >10,836</td>\n",
       "                        <td id=\"T_2397ac1a_74a9_11ea_8288_c49ded93ade6row10_col28\" class=\"data row10 col28\" >11,899</td>\n",
       "                        <td id=\"T_2397ac1a_74a9_11ea_8288_c49ded93ade6row10_col29\" class=\"data row10 col29\" >12,775</td>\n",
       "                        <td id=\"T_2397ac1a_74a9_11ea_8288_c49ded93ade6row10_col30\" class=\"data row10 col30\" >13,964</td>\n",
       "            </tr>\n",
       "    </tbody></table>"
      ],
      "text/plain": [
       "<pandas.io.formats.style.Styler at 0xf244730>"
      ]
     },
     "execution_count": 26,
     "metadata": {},
     "output_type": "execute_result"
    }
   ],
   "source": [
    "chinaDataConfirmed = dfConfirmedGlobal[dfConfirmedGlobal['Country/Region'] == 'China'].sum()\n",
    "chinaDataConfirmed['Province/State', 'Country/Region'] = [np.NaN, 'China']\n",
    "\n",
    "dfConfirmedWorldTop = dfConfirmedGlobal[dfConfirmedGlobal['Country/Region'] != 'China'].sort_values(dfConfirmedGlobal.columns[-1], ascending=False).head(10)\n",
    "dfConfirmedWorldTop = dfConfirmedWorldTop.append(chinaDataConfirmed, ignore_index=True)\n",
    "dfConfirmedWorldTop = dfConfirmedWorldTop.sort_values(dfConfirmedGlobal.columns[-1], ascending=False)\n",
    "dfConfirmedWorldTop = dfConfirmedWorldTop.set_index('Country/Region')\n",
    "\n",
    "data = [{\n",
    "    'x': row[1].index[-MONTH_DAYS:],\n",
    "    'y': row[1].values[-MONTH_DAYS:],\n",
    "    'name': row[0]\n",
    "}  for row in dfConfirmedWorldTop.iterrows()]\n",
    "\n",
    "layout = dict(title = 'World Cumulative Confirmed Cases', updatemenus=LogLinearScale)\n",
    "py.iplot(dict(data=data, layout=layout))\n",
    "\n",
    "\n",
    "dfConfirmedWorldTop[dfConfirmedWorldTop.columns[-MONTH_DAYS:]].style.format(IntegerFormatter)"
   ]
  },
  {
   "cell_type": "code",
   "execution_count": 27,
   "metadata": {
    "ExecuteTime": {
     "end_time": "2020-04-02T06:13:59.050910Z",
     "start_time": "2020-04-02T06:13:58.402908Z"
    }
   },
   "outputs": [
    {
     "data": {
      "application/vnd.plotly.v1+json": {
       "config": {
        "linkText": "Export to plot.ly",
        "plotlyServerURL": "https://plot.ly",
        "showLink": false
       },
       "data": [
        {
         "name": "US",
         "type": "scatter",
         "x": [
          "3/2/20",
          "3/3/20",
          "3/4/20",
          "3/5/20",
          "3/6/20",
          "3/7/20",
          "3/8/20",
          "3/9/20",
          "3/10/20",
          "3/11/20",
          "3/12/20",
          "3/13/20",
          "3/14/20",
          "3/15/20",
          "3/16/20",
          "3/17/20",
          "3/18/20",
          "3/19/20",
          "3/20/20",
          "3/21/20",
          "3/22/20",
          "3/23/20",
          "3/24/20",
          "3/25/20",
          "3/26/20",
          "3/27/20",
          "3/28/20",
          "3/29/20",
          "3/30/20",
          "3/31/20",
          "4/1/20"
         ],
         "y": [
          24,
          20,
          31,
          68,
          45,
          140,
          116,
          65,
          376,
          322,
          382,
          516,
          548,
          772,
          1133,
          1789,
          1362,
          5894,
          5423,
          6389,
          7787,
          10571,
          9893,
          12038,
          18058,
          17821,
          19821,
          19408,
          20921,
          26365,
          25200
         ]
        },
        {
         "name": "Italy",
         "type": "scatter",
         "x": [
          "3/2/20",
          "3/3/20",
          "3/4/20",
          "3/5/20",
          "3/6/20",
          "3/7/20",
          "3/8/20",
          "3/9/20",
          "3/10/20",
          "3/11/20",
          "3/12/20",
          "3/13/20",
          "3/14/20",
          "3/15/20",
          "3/16/20",
          "3/17/20",
          "3/18/20",
          "3/19/20",
          "3/20/20",
          "3/21/20",
          "3/22/20",
          "3/23/20",
          "3/24/20",
          "3/25/20",
          "3/26/20",
          "3/27/20",
          "3/28/20",
          "3/29/20",
          "3/30/20",
          "3/31/20",
          "4/1/20"
         ],
         "y": [
          342,
          466,
          587,
          769,
          778,
          1247,
          1492,
          1797,
          977,
          2313,
          0,
          5198,
          3497,
          3590,
          3233,
          3526,
          4207,
          5322,
          5986,
          6557,
          5560,
          4789,
          5249,
          5210,
          6203,
          5909,
          5974,
          5217,
          4050,
          4053,
          4782
         ]
        },
        {
         "name": "Spain",
         "type": "scatter",
         "x": [
          "3/2/20",
          "3/3/20",
          "3/4/20",
          "3/5/20",
          "3/6/20",
          "3/7/20",
          "3/8/20",
          "3/9/20",
          "3/10/20",
          "3/11/20",
          "3/12/20",
          "3/13/20",
          "3/14/20",
          "3/15/20",
          "3/16/20",
          "3/17/20",
          "3/18/20",
          "3/19/20",
          "3/20/20",
          "3/21/20",
          "3/22/20",
          "3/23/20",
          "3/24/20",
          "3/25/20",
          "3/26/20",
          "3/27/20",
          "3/28/20",
          "3/29/20",
          "3/30/20",
          "3/31/20",
          "4/1/20"
         ],
         "y": [
          36,
          45,
          57,
          37,
          141,
          100,
          173,
          400,
          622,
          582,
          0,
          2955,
          1159,
          1407,
          2144,
          1806,
          2162,
          4053,
          2447,
          4964,
          3394,
          6368,
          4749,
          9630,
          8271,
          7933,
          7516,
          6875,
          7846,
          7967,
          8195
         ]
        },
        {
         "name": "China",
         "type": "scatter",
         "x": [
          "3/2/20",
          "3/3/20",
          "3/4/20",
          "3/5/20",
          "3/6/20",
          "3/7/20",
          "3/8/20",
          "3/9/20",
          "3/10/20",
          "3/11/20",
          "3/12/20",
          "3/13/20",
          "3/14/20",
          "3/15/20",
          "3/16/20",
          "3/17/20",
          "3/18/20",
          "3/19/20",
          "3/20/20",
          "3/21/20",
          "3/22/20",
          "3/23/20",
          "3/24/20",
          "3/25/20",
          "3/26/20",
          "3/27/20",
          "3/28/20",
          "3/29/20",
          "3/30/20",
          "3/31/20",
          "4/1/20"
         ],
         "y": [
          204,
          125,
          125,
          151,
          153,
          80,
          53,
          37,
          27,
          34,
          11,
          13,
          32,
          26,
          30,
          25,
          44,
          54,
          94,
          55,
          130,
          63,
          93,
          70,
          121,
          115,
          102,
          123,
          76,
          81,
          82
         ]
        },
        {
         "name": "Germany",
         "type": "scatter",
         "x": [
          "3/2/20",
          "3/3/20",
          "3/4/20",
          "3/5/20",
          "3/6/20",
          "3/7/20",
          "3/8/20",
          "3/9/20",
          "3/10/20",
          "3/11/20",
          "3/12/20",
          "3/13/20",
          "3/14/20",
          "3/15/20",
          "3/16/20",
          "3/17/20",
          "3/18/20",
          "3/19/20",
          "3/20/20",
          "3/21/20",
          "3/22/20",
          "3/23/20",
          "3/24/20",
          "3/25/20",
          "3/26/20",
          "3/27/20",
          "3/28/20",
          "3/29/20",
          "3/30/20",
          "3/31/20",
          "4/1/20"
         ],
         "y": [
          29,
          37,
          66,
          220,
          188,
          129,
          241,
          136,
          281,
          451,
          170,
          1597,
          910,
          1210,
          1477,
          1985,
          3070,
          2993,
          4528,
          2365,
          2660,
          4183,
          3930,
          4337,
          6615,
          6933,
          6824,
          4400,
          4790,
          4923,
          6064
         ]
        }
       ],
       "layout": {
        "template": {
         "data": {
          "bar": [
           {
            "error_x": {
             "color": "#2a3f5f"
            },
            "error_y": {
             "color": "#2a3f5f"
            },
            "marker": {
             "line": {
              "color": "#E5ECF6",
              "width": 0.5
             }
            },
            "type": "bar"
           }
          ],
          "barpolar": [
           {
            "marker": {
             "line": {
              "color": "#E5ECF6",
              "width": 0.5
             }
            },
            "type": "barpolar"
           }
          ],
          "carpet": [
           {
            "aaxis": {
             "endlinecolor": "#2a3f5f",
             "gridcolor": "white",
             "linecolor": "white",
             "minorgridcolor": "white",
             "startlinecolor": "#2a3f5f"
            },
            "baxis": {
             "endlinecolor": "#2a3f5f",
             "gridcolor": "white",
             "linecolor": "white",
             "minorgridcolor": "white",
             "startlinecolor": "#2a3f5f"
            },
            "type": "carpet"
           }
          ],
          "choropleth": [
           {
            "colorbar": {
             "outlinewidth": 0,
             "ticks": ""
            },
            "type": "choropleth"
           }
          ],
          "contour": [
           {
            "colorbar": {
             "outlinewidth": 0,
             "ticks": ""
            },
            "colorscale": [
             [
              0,
              "#0d0887"
             ],
             [
              0.1111111111111111,
              "#46039f"
             ],
             [
              0.2222222222222222,
              "#7201a8"
             ],
             [
              0.3333333333333333,
              "#9c179e"
             ],
             [
              0.4444444444444444,
              "#bd3786"
             ],
             [
              0.5555555555555556,
              "#d8576b"
             ],
             [
              0.6666666666666666,
              "#ed7953"
             ],
             [
              0.7777777777777778,
              "#fb9f3a"
             ],
             [
              0.8888888888888888,
              "#fdca26"
             ],
             [
              1,
              "#f0f921"
             ]
            ],
            "type": "contour"
           }
          ],
          "contourcarpet": [
           {
            "colorbar": {
             "outlinewidth": 0,
             "ticks": ""
            },
            "type": "contourcarpet"
           }
          ],
          "heatmap": [
           {
            "colorbar": {
             "outlinewidth": 0,
             "ticks": ""
            },
            "colorscale": [
             [
              0,
              "#0d0887"
             ],
             [
              0.1111111111111111,
              "#46039f"
             ],
             [
              0.2222222222222222,
              "#7201a8"
             ],
             [
              0.3333333333333333,
              "#9c179e"
             ],
             [
              0.4444444444444444,
              "#bd3786"
             ],
             [
              0.5555555555555556,
              "#d8576b"
             ],
             [
              0.6666666666666666,
              "#ed7953"
             ],
             [
              0.7777777777777778,
              "#fb9f3a"
             ],
             [
              0.8888888888888888,
              "#fdca26"
             ],
             [
              1,
              "#f0f921"
             ]
            ],
            "type": "heatmap"
           }
          ],
          "heatmapgl": [
           {
            "colorbar": {
             "outlinewidth": 0,
             "ticks": ""
            },
            "colorscale": [
             [
              0,
              "#0d0887"
             ],
             [
              0.1111111111111111,
              "#46039f"
             ],
             [
              0.2222222222222222,
              "#7201a8"
             ],
             [
              0.3333333333333333,
              "#9c179e"
             ],
             [
              0.4444444444444444,
              "#bd3786"
             ],
             [
              0.5555555555555556,
              "#d8576b"
             ],
             [
              0.6666666666666666,
              "#ed7953"
             ],
             [
              0.7777777777777778,
              "#fb9f3a"
             ],
             [
              0.8888888888888888,
              "#fdca26"
             ],
             [
              1,
              "#f0f921"
             ]
            ],
            "type": "heatmapgl"
           }
          ],
          "histogram": [
           {
            "marker": {
             "colorbar": {
              "outlinewidth": 0,
              "ticks": ""
             }
            },
            "type": "histogram"
           }
          ],
          "histogram2d": [
           {
            "colorbar": {
             "outlinewidth": 0,
             "ticks": ""
            },
            "colorscale": [
             [
              0,
              "#0d0887"
             ],
             [
              0.1111111111111111,
              "#46039f"
             ],
             [
              0.2222222222222222,
              "#7201a8"
             ],
             [
              0.3333333333333333,
              "#9c179e"
             ],
             [
              0.4444444444444444,
              "#bd3786"
             ],
             [
              0.5555555555555556,
              "#d8576b"
             ],
             [
              0.6666666666666666,
              "#ed7953"
             ],
             [
              0.7777777777777778,
              "#fb9f3a"
             ],
             [
              0.8888888888888888,
              "#fdca26"
             ],
             [
              1,
              "#f0f921"
             ]
            ],
            "type": "histogram2d"
           }
          ],
          "histogram2dcontour": [
           {
            "colorbar": {
             "outlinewidth": 0,
             "ticks": ""
            },
            "colorscale": [
             [
              0,
              "#0d0887"
             ],
             [
              0.1111111111111111,
              "#46039f"
             ],
             [
              0.2222222222222222,
              "#7201a8"
             ],
             [
              0.3333333333333333,
              "#9c179e"
             ],
             [
              0.4444444444444444,
              "#bd3786"
             ],
             [
              0.5555555555555556,
              "#d8576b"
             ],
             [
              0.6666666666666666,
              "#ed7953"
             ],
             [
              0.7777777777777778,
              "#fb9f3a"
             ],
             [
              0.8888888888888888,
              "#fdca26"
             ],
             [
              1,
              "#f0f921"
             ]
            ],
            "type": "histogram2dcontour"
           }
          ],
          "mesh3d": [
           {
            "colorbar": {
             "outlinewidth": 0,
             "ticks": ""
            },
            "type": "mesh3d"
           }
          ],
          "parcoords": [
           {
            "line": {
             "colorbar": {
              "outlinewidth": 0,
              "ticks": ""
             }
            },
            "type": "parcoords"
           }
          ],
          "pie": [
           {
            "automargin": true,
            "type": "pie"
           }
          ],
          "scatter": [
           {
            "marker": {
             "colorbar": {
              "outlinewidth": 0,
              "ticks": ""
             }
            },
            "type": "scatter"
           }
          ],
          "scatter3d": [
           {
            "line": {
             "colorbar": {
              "outlinewidth": 0,
              "ticks": ""
             }
            },
            "marker": {
             "colorbar": {
              "outlinewidth": 0,
              "ticks": ""
             }
            },
            "type": "scatter3d"
           }
          ],
          "scattercarpet": [
           {
            "marker": {
             "colorbar": {
              "outlinewidth": 0,
              "ticks": ""
             }
            },
            "type": "scattercarpet"
           }
          ],
          "scattergeo": [
           {
            "marker": {
             "colorbar": {
              "outlinewidth": 0,
              "ticks": ""
             }
            },
            "type": "scattergeo"
           }
          ],
          "scattergl": [
           {
            "marker": {
             "colorbar": {
              "outlinewidth": 0,
              "ticks": ""
             }
            },
            "type": "scattergl"
           }
          ],
          "scattermapbox": [
           {
            "marker": {
             "colorbar": {
              "outlinewidth": 0,
              "ticks": ""
             }
            },
            "type": "scattermapbox"
           }
          ],
          "scatterpolar": [
           {
            "marker": {
             "colorbar": {
              "outlinewidth": 0,
              "ticks": ""
             }
            },
            "type": "scatterpolar"
           }
          ],
          "scatterpolargl": [
           {
            "marker": {
             "colorbar": {
              "outlinewidth": 0,
              "ticks": ""
             }
            },
            "type": "scatterpolargl"
           }
          ],
          "scatterternary": [
           {
            "marker": {
             "colorbar": {
              "outlinewidth": 0,
              "ticks": ""
             }
            },
            "type": "scatterternary"
           }
          ],
          "surface": [
           {
            "colorbar": {
             "outlinewidth": 0,
             "ticks": ""
            },
            "colorscale": [
             [
              0,
              "#0d0887"
             ],
             [
              0.1111111111111111,
              "#46039f"
             ],
             [
              0.2222222222222222,
              "#7201a8"
             ],
             [
              0.3333333333333333,
              "#9c179e"
             ],
             [
              0.4444444444444444,
              "#bd3786"
             ],
             [
              0.5555555555555556,
              "#d8576b"
             ],
             [
              0.6666666666666666,
              "#ed7953"
             ],
             [
              0.7777777777777778,
              "#fb9f3a"
             ],
             [
              0.8888888888888888,
              "#fdca26"
             ],
             [
              1,
              "#f0f921"
             ]
            ],
            "type": "surface"
           }
          ],
          "table": [
           {
            "cells": {
             "fill": {
              "color": "#EBF0F8"
             },
             "line": {
              "color": "white"
             }
            },
            "header": {
             "fill": {
              "color": "#C8D4E3"
             },
             "line": {
              "color": "white"
             }
            },
            "type": "table"
           }
          ]
         },
         "layout": {
          "annotationdefaults": {
           "arrowcolor": "#2a3f5f",
           "arrowhead": 0,
           "arrowwidth": 1
          },
          "coloraxis": {
           "colorbar": {
            "outlinewidth": 0,
            "ticks": ""
           }
          },
          "colorscale": {
           "diverging": [
            [
             0,
             "#8e0152"
            ],
            [
             0.1,
             "#c51b7d"
            ],
            [
             0.2,
             "#de77ae"
            ],
            [
             0.3,
             "#f1b6da"
            ],
            [
             0.4,
             "#fde0ef"
            ],
            [
             0.5,
             "#f7f7f7"
            ],
            [
             0.6,
             "#e6f5d0"
            ],
            [
             0.7,
             "#b8e186"
            ],
            [
             0.8,
             "#7fbc41"
            ],
            [
             0.9,
             "#4d9221"
            ],
            [
             1,
             "#276419"
            ]
           ],
           "sequential": [
            [
             0,
             "#0d0887"
            ],
            [
             0.1111111111111111,
             "#46039f"
            ],
            [
             0.2222222222222222,
             "#7201a8"
            ],
            [
             0.3333333333333333,
             "#9c179e"
            ],
            [
             0.4444444444444444,
             "#bd3786"
            ],
            [
             0.5555555555555556,
             "#d8576b"
            ],
            [
             0.6666666666666666,
             "#ed7953"
            ],
            [
             0.7777777777777778,
             "#fb9f3a"
            ],
            [
             0.8888888888888888,
             "#fdca26"
            ],
            [
             1,
             "#f0f921"
            ]
           ],
           "sequentialminus": [
            [
             0,
             "#0d0887"
            ],
            [
             0.1111111111111111,
             "#46039f"
            ],
            [
             0.2222222222222222,
             "#7201a8"
            ],
            [
             0.3333333333333333,
             "#9c179e"
            ],
            [
             0.4444444444444444,
             "#bd3786"
            ],
            [
             0.5555555555555556,
             "#d8576b"
            ],
            [
             0.6666666666666666,
             "#ed7953"
            ],
            [
             0.7777777777777778,
             "#fb9f3a"
            ],
            [
             0.8888888888888888,
             "#fdca26"
            ],
            [
             1,
             "#f0f921"
            ]
           ]
          },
          "colorway": [
           "#636efa",
           "#EF553B",
           "#00cc96",
           "#ab63fa",
           "#FFA15A",
           "#19d3f3",
           "#FF6692",
           "#B6E880",
           "#FF97FF",
           "#FECB52"
          ],
          "font": {
           "color": "#2a3f5f"
          },
          "geo": {
           "bgcolor": "white",
           "lakecolor": "white",
           "landcolor": "#E5ECF6",
           "showlakes": true,
           "showland": true,
           "subunitcolor": "white"
          },
          "hoverlabel": {
           "align": "left"
          },
          "hovermode": "closest",
          "mapbox": {
           "style": "light"
          },
          "paper_bgcolor": "white",
          "plot_bgcolor": "#E5ECF6",
          "polar": {
           "angularaxis": {
            "gridcolor": "white",
            "linecolor": "white",
            "ticks": ""
           },
           "bgcolor": "#E5ECF6",
           "radialaxis": {
            "gridcolor": "white",
            "linecolor": "white",
            "ticks": ""
           }
          },
          "scene": {
           "xaxis": {
            "backgroundcolor": "#E5ECF6",
            "gridcolor": "white",
            "gridwidth": 2,
            "linecolor": "white",
            "showbackground": true,
            "ticks": "",
            "zerolinecolor": "white"
           },
           "yaxis": {
            "backgroundcolor": "#E5ECF6",
            "gridcolor": "white",
            "gridwidth": 2,
            "linecolor": "white",
            "showbackground": true,
            "ticks": "",
            "zerolinecolor": "white"
           },
           "zaxis": {
            "backgroundcolor": "#E5ECF6",
            "gridcolor": "white",
            "gridwidth": 2,
            "linecolor": "white",
            "showbackground": true,
            "ticks": "",
            "zerolinecolor": "white"
           }
          },
          "shapedefaults": {
           "line": {
            "color": "#2a3f5f"
           }
          },
          "ternary": {
           "aaxis": {
            "gridcolor": "white",
            "linecolor": "white",
            "ticks": ""
           },
           "baxis": {
            "gridcolor": "white",
            "linecolor": "white",
            "ticks": ""
           },
           "bgcolor": "#E5ECF6",
           "caxis": {
            "gridcolor": "white",
            "linecolor": "white",
            "ticks": ""
           }
          },
          "title": {
           "x": 0.05
          },
          "xaxis": {
           "automargin": true,
           "gridcolor": "white",
           "linecolor": "white",
           "ticks": "",
           "title": {
            "standoff": 15
           },
           "zerolinecolor": "white",
           "zerolinewidth": 2
          },
          "yaxis": {
           "automargin": true,
           "gridcolor": "white",
           "linecolor": "white",
           "ticks": "",
           "title": {
            "standoff": 15
           },
           "zerolinecolor": "white",
           "zerolinewidth": 2
          }
         }
        },
        "title": {
         "text": "World Daily New Confirmed Cases"
        },
        "updatemenus": [
         {
          "active": 0,
          "buttons": [
           {
            "args": [
             {
              "visible": [
               true,
               true
              ]
             },
             {
              "yaxis": {
               "type": "linear"
              }
             }
            ],
            "label": "Linear Scale",
            "method": "update"
           },
           {
            "args": [
             {
              "visible": [
               true,
               true
              ]
             },
             {
              "yaxis": {
               "type": "log"
              }
             }
            ],
            "label": "Logarithmic Scale",
            "method": "update"
           }
          ],
          "direction": "right",
          "type": "buttons",
          "x": 0.45,
          "xanchor": "left",
          "y": 1.1,
          "yanchor": "top"
         }
        ]
       }
      },
      "text/html": [
       "<div>\n",
       "        \n",
       "        \n",
       "            <div id=\"28936450-5d64-486f-89c3-6f4488a7807b\" class=\"plotly-graph-div\" style=\"height:525px; width:100%;\"></div>\n",
       "            <script type=\"text/javascript\">\n",
       "                require([\"plotly\"], function(Plotly) {\n",
       "                    window.PLOTLYENV=window.PLOTLYENV || {};\n",
       "                    \n",
       "                if (document.getElementById(\"28936450-5d64-486f-89c3-6f4488a7807b\")) {\n",
       "                    Plotly.newPlot(\n",
       "                        '28936450-5d64-486f-89c3-6f4488a7807b',\n",
       "                        [{\"name\": \"US\", \"type\": \"scatter\", \"x\": [\"3/2/20\", \"3/3/20\", \"3/4/20\", \"3/5/20\", \"3/6/20\", \"3/7/20\", \"3/8/20\", \"3/9/20\", \"3/10/20\", \"3/11/20\", \"3/12/20\", \"3/13/20\", \"3/14/20\", \"3/15/20\", \"3/16/20\", \"3/17/20\", \"3/18/20\", \"3/19/20\", \"3/20/20\", \"3/21/20\", \"3/22/20\", \"3/23/20\", \"3/24/20\", \"3/25/20\", \"3/26/20\", \"3/27/20\", \"3/28/20\", \"3/29/20\", \"3/30/20\", \"3/31/20\", \"4/1/20\"], \"y\": [24.0, 20.0, 31.0, 68.0, 45.0, 140.0, 116.0, 65.0, 376.0, 322.0, 382.0, 516.0, 548.0, 772.0, 1133.0, 1789.0, 1362.0, 5894.0, 5423.0, 6389.0, 7787.0, 10571.0, 9893.0, 12038.0, 18058.0, 17821.0, 19821.0, 19408.0, 20921.0, 26365.0, 25200.0]}, {\"name\": \"Italy\", \"type\": \"scatter\", \"x\": [\"3/2/20\", \"3/3/20\", \"3/4/20\", \"3/5/20\", \"3/6/20\", \"3/7/20\", \"3/8/20\", \"3/9/20\", \"3/10/20\", \"3/11/20\", \"3/12/20\", \"3/13/20\", \"3/14/20\", \"3/15/20\", \"3/16/20\", \"3/17/20\", \"3/18/20\", \"3/19/20\", \"3/20/20\", \"3/21/20\", \"3/22/20\", \"3/23/20\", \"3/24/20\", \"3/25/20\", \"3/26/20\", \"3/27/20\", \"3/28/20\", \"3/29/20\", \"3/30/20\", \"3/31/20\", \"4/1/20\"], \"y\": [342.0, 466.0, 587.0, 769.0, 778.0, 1247.0, 1492.0, 1797.0, 977.0, 2313.0, 0.0, 5198.0, 3497.0, 3590.0, 3233.0, 3526.0, 4207.0, 5322.0, 5986.0, 6557.0, 5560.0, 4789.0, 5249.0, 5210.0, 6203.0, 5909.0, 5974.0, 5217.0, 4050.0, 4053.0, 4782.0]}, {\"name\": \"Spain\", \"type\": \"scatter\", \"x\": [\"3/2/20\", \"3/3/20\", \"3/4/20\", \"3/5/20\", \"3/6/20\", \"3/7/20\", \"3/8/20\", \"3/9/20\", \"3/10/20\", \"3/11/20\", \"3/12/20\", \"3/13/20\", \"3/14/20\", \"3/15/20\", \"3/16/20\", \"3/17/20\", \"3/18/20\", \"3/19/20\", \"3/20/20\", \"3/21/20\", \"3/22/20\", \"3/23/20\", \"3/24/20\", \"3/25/20\", \"3/26/20\", \"3/27/20\", \"3/28/20\", \"3/29/20\", \"3/30/20\", \"3/31/20\", \"4/1/20\"], \"y\": [36.0, 45.0, 57.0, 37.0, 141.0, 100.0, 173.0, 400.0, 622.0, 582.0, 0.0, 2955.0, 1159.0, 1407.0, 2144.0, 1806.0, 2162.0, 4053.0, 2447.0, 4964.0, 3394.0, 6368.0, 4749.0, 9630.0, 8271.0, 7933.0, 7516.0, 6875.0, 7846.0, 7967.0, 8195.0]}, {\"name\": \"China\", \"type\": \"scatter\", \"x\": [\"3/2/20\", \"3/3/20\", \"3/4/20\", \"3/5/20\", \"3/6/20\", \"3/7/20\", \"3/8/20\", \"3/9/20\", \"3/10/20\", \"3/11/20\", \"3/12/20\", \"3/13/20\", \"3/14/20\", \"3/15/20\", \"3/16/20\", \"3/17/20\", \"3/18/20\", \"3/19/20\", \"3/20/20\", \"3/21/20\", \"3/22/20\", \"3/23/20\", \"3/24/20\", \"3/25/20\", \"3/26/20\", \"3/27/20\", \"3/28/20\", \"3/29/20\", \"3/30/20\", \"3/31/20\", \"4/1/20\"], \"y\": [204.0, 125.0, 125.0, 151.0, 153.0, 80.0, 53.0, 37.0, 27.0, 34.0, 11.0, 13.0, 32.0, 26.0, 30.0, 25.0, 44.0, 54.0, 94.0, 55.0, 130.0, 63.0, 93.0, 70.0, 121.0, 115.0, 102.0, 123.0, 76.0, 81.0, 82.0]}, {\"name\": \"Germany\", \"type\": \"scatter\", \"x\": [\"3/2/20\", \"3/3/20\", \"3/4/20\", \"3/5/20\", \"3/6/20\", \"3/7/20\", \"3/8/20\", \"3/9/20\", \"3/10/20\", \"3/11/20\", \"3/12/20\", \"3/13/20\", \"3/14/20\", \"3/15/20\", \"3/16/20\", \"3/17/20\", \"3/18/20\", \"3/19/20\", \"3/20/20\", \"3/21/20\", \"3/22/20\", \"3/23/20\", \"3/24/20\", \"3/25/20\", \"3/26/20\", \"3/27/20\", \"3/28/20\", \"3/29/20\", \"3/30/20\", \"3/31/20\", \"4/1/20\"], \"y\": [29.0, 37.0, 66.0, 220.0, 188.0, 129.0, 241.0, 136.0, 281.0, 451.0, 170.0, 1597.0, 910.0, 1210.0, 1477.0, 1985.0, 3070.0, 2993.0, 4528.0, 2365.0, 2660.0, 4183.0, 3930.0, 4337.0, 6615.0, 6933.0, 6824.0, 4400.0, 4790.0, 4923.0, 6064.0]}],\n",
       "                        {\"template\": {\"data\": {\"bar\": [{\"error_x\": {\"color\": \"#2a3f5f\"}, \"error_y\": {\"color\": \"#2a3f5f\"}, \"marker\": {\"line\": {\"color\": \"#E5ECF6\", \"width\": 0.5}}, \"type\": \"bar\"}], \"barpolar\": [{\"marker\": {\"line\": {\"color\": \"#E5ECF6\", \"width\": 0.5}}, \"type\": \"barpolar\"}], \"carpet\": [{\"aaxis\": {\"endlinecolor\": \"#2a3f5f\", \"gridcolor\": \"white\", \"linecolor\": \"white\", \"minorgridcolor\": \"white\", \"startlinecolor\": \"#2a3f5f\"}, \"baxis\": {\"endlinecolor\": \"#2a3f5f\", \"gridcolor\": \"white\", \"linecolor\": \"white\", \"minorgridcolor\": \"white\", \"startlinecolor\": \"#2a3f5f\"}, \"type\": \"carpet\"}], \"choropleth\": [{\"colorbar\": {\"outlinewidth\": 0, \"ticks\": \"\"}, \"type\": \"choropleth\"}], \"contour\": [{\"colorbar\": {\"outlinewidth\": 0, \"ticks\": \"\"}, \"colorscale\": [[0.0, \"#0d0887\"], [0.1111111111111111, \"#46039f\"], [0.2222222222222222, \"#7201a8\"], [0.3333333333333333, \"#9c179e\"], [0.4444444444444444, \"#bd3786\"], [0.5555555555555556, \"#d8576b\"], [0.6666666666666666, \"#ed7953\"], [0.7777777777777778, \"#fb9f3a\"], [0.8888888888888888, \"#fdca26\"], [1.0, \"#f0f921\"]], \"type\": \"contour\"}], \"contourcarpet\": [{\"colorbar\": {\"outlinewidth\": 0, \"ticks\": \"\"}, \"type\": \"contourcarpet\"}], \"heatmap\": [{\"colorbar\": {\"outlinewidth\": 0, \"ticks\": \"\"}, \"colorscale\": [[0.0, \"#0d0887\"], [0.1111111111111111, \"#46039f\"], [0.2222222222222222, \"#7201a8\"], [0.3333333333333333, \"#9c179e\"], [0.4444444444444444, \"#bd3786\"], [0.5555555555555556, \"#d8576b\"], [0.6666666666666666, \"#ed7953\"], [0.7777777777777778, \"#fb9f3a\"], [0.8888888888888888, \"#fdca26\"], [1.0, \"#f0f921\"]], \"type\": \"heatmap\"}], \"heatmapgl\": [{\"colorbar\": {\"outlinewidth\": 0, \"ticks\": \"\"}, \"colorscale\": [[0.0, \"#0d0887\"], [0.1111111111111111, \"#46039f\"], [0.2222222222222222, \"#7201a8\"], [0.3333333333333333, \"#9c179e\"], [0.4444444444444444, \"#bd3786\"], [0.5555555555555556, \"#d8576b\"], [0.6666666666666666, \"#ed7953\"], [0.7777777777777778, \"#fb9f3a\"], [0.8888888888888888, \"#fdca26\"], [1.0, \"#f0f921\"]], \"type\": \"heatmapgl\"}], \"histogram\": [{\"marker\": {\"colorbar\": {\"outlinewidth\": 0, \"ticks\": \"\"}}, \"type\": \"histogram\"}], \"histogram2d\": [{\"colorbar\": {\"outlinewidth\": 0, \"ticks\": \"\"}, \"colorscale\": [[0.0, \"#0d0887\"], [0.1111111111111111, \"#46039f\"], [0.2222222222222222, \"#7201a8\"], [0.3333333333333333, \"#9c179e\"], [0.4444444444444444, \"#bd3786\"], [0.5555555555555556, \"#d8576b\"], [0.6666666666666666, \"#ed7953\"], [0.7777777777777778, \"#fb9f3a\"], [0.8888888888888888, \"#fdca26\"], [1.0, \"#f0f921\"]], \"type\": \"histogram2d\"}], \"histogram2dcontour\": [{\"colorbar\": {\"outlinewidth\": 0, \"ticks\": \"\"}, \"colorscale\": [[0.0, \"#0d0887\"], [0.1111111111111111, \"#46039f\"], [0.2222222222222222, \"#7201a8\"], [0.3333333333333333, \"#9c179e\"], [0.4444444444444444, \"#bd3786\"], [0.5555555555555556, \"#d8576b\"], [0.6666666666666666, \"#ed7953\"], [0.7777777777777778, \"#fb9f3a\"], [0.8888888888888888, \"#fdca26\"], [1.0, \"#f0f921\"]], \"type\": \"histogram2dcontour\"}], \"mesh3d\": [{\"colorbar\": {\"outlinewidth\": 0, \"ticks\": \"\"}, \"type\": \"mesh3d\"}], \"parcoords\": [{\"line\": {\"colorbar\": {\"outlinewidth\": 0, \"ticks\": \"\"}}, \"type\": \"parcoords\"}], \"pie\": [{\"automargin\": true, \"type\": \"pie\"}], \"scatter\": [{\"marker\": {\"colorbar\": {\"outlinewidth\": 0, \"ticks\": \"\"}}, \"type\": \"scatter\"}], \"scatter3d\": [{\"line\": {\"colorbar\": {\"outlinewidth\": 0, \"ticks\": \"\"}}, \"marker\": {\"colorbar\": {\"outlinewidth\": 0, \"ticks\": \"\"}}, \"type\": \"scatter3d\"}], \"scattercarpet\": [{\"marker\": {\"colorbar\": {\"outlinewidth\": 0, \"ticks\": \"\"}}, \"type\": \"scattercarpet\"}], \"scattergeo\": [{\"marker\": {\"colorbar\": {\"outlinewidth\": 0, \"ticks\": \"\"}}, \"type\": \"scattergeo\"}], \"scattergl\": [{\"marker\": {\"colorbar\": {\"outlinewidth\": 0, \"ticks\": \"\"}}, \"type\": \"scattergl\"}], \"scattermapbox\": [{\"marker\": {\"colorbar\": {\"outlinewidth\": 0, \"ticks\": \"\"}}, \"type\": \"scattermapbox\"}], \"scatterpolar\": [{\"marker\": {\"colorbar\": {\"outlinewidth\": 0, \"ticks\": \"\"}}, \"type\": \"scatterpolar\"}], \"scatterpolargl\": [{\"marker\": {\"colorbar\": {\"outlinewidth\": 0, \"ticks\": \"\"}}, \"type\": \"scatterpolargl\"}], \"scatterternary\": [{\"marker\": {\"colorbar\": {\"outlinewidth\": 0, \"ticks\": \"\"}}, \"type\": \"scatterternary\"}], \"surface\": [{\"colorbar\": {\"outlinewidth\": 0, \"ticks\": \"\"}, \"colorscale\": [[0.0, \"#0d0887\"], [0.1111111111111111, \"#46039f\"], [0.2222222222222222, \"#7201a8\"], [0.3333333333333333, \"#9c179e\"], [0.4444444444444444, \"#bd3786\"], [0.5555555555555556, \"#d8576b\"], [0.6666666666666666, \"#ed7953\"], [0.7777777777777778, \"#fb9f3a\"], [0.8888888888888888, \"#fdca26\"], [1.0, \"#f0f921\"]], \"type\": \"surface\"}], \"table\": [{\"cells\": {\"fill\": {\"color\": \"#EBF0F8\"}, \"line\": {\"color\": \"white\"}}, \"header\": {\"fill\": {\"color\": \"#C8D4E3\"}, \"line\": {\"color\": \"white\"}}, \"type\": \"table\"}]}, \"layout\": {\"annotationdefaults\": {\"arrowcolor\": \"#2a3f5f\", \"arrowhead\": 0, \"arrowwidth\": 1}, \"coloraxis\": {\"colorbar\": {\"outlinewidth\": 0, \"ticks\": \"\"}}, \"colorscale\": {\"diverging\": [[0, \"#8e0152\"], [0.1, \"#c51b7d\"], [0.2, \"#de77ae\"], [0.3, \"#f1b6da\"], [0.4, \"#fde0ef\"], [0.5, \"#f7f7f7\"], [0.6, \"#e6f5d0\"], [0.7, \"#b8e186\"], [0.8, \"#7fbc41\"], [0.9, \"#4d9221\"], [1, \"#276419\"]], \"sequential\": [[0.0, \"#0d0887\"], [0.1111111111111111, \"#46039f\"], [0.2222222222222222, \"#7201a8\"], [0.3333333333333333, \"#9c179e\"], [0.4444444444444444, \"#bd3786\"], [0.5555555555555556, \"#d8576b\"], [0.6666666666666666, \"#ed7953\"], [0.7777777777777778, \"#fb9f3a\"], [0.8888888888888888, \"#fdca26\"], [1.0, \"#f0f921\"]], \"sequentialminus\": [[0.0, \"#0d0887\"], [0.1111111111111111, \"#46039f\"], [0.2222222222222222, \"#7201a8\"], [0.3333333333333333, \"#9c179e\"], [0.4444444444444444, \"#bd3786\"], [0.5555555555555556, \"#d8576b\"], [0.6666666666666666, \"#ed7953\"], [0.7777777777777778, \"#fb9f3a\"], [0.8888888888888888, \"#fdca26\"], [1.0, \"#f0f921\"]]}, \"colorway\": [\"#636efa\", \"#EF553B\", \"#00cc96\", \"#ab63fa\", \"#FFA15A\", \"#19d3f3\", \"#FF6692\", \"#B6E880\", \"#FF97FF\", \"#FECB52\"], \"font\": {\"color\": \"#2a3f5f\"}, \"geo\": {\"bgcolor\": \"white\", \"lakecolor\": \"white\", \"landcolor\": \"#E5ECF6\", \"showlakes\": true, \"showland\": true, \"subunitcolor\": \"white\"}, \"hoverlabel\": {\"align\": \"left\"}, \"hovermode\": \"closest\", \"mapbox\": {\"style\": \"light\"}, \"paper_bgcolor\": \"white\", \"plot_bgcolor\": \"#E5ECF6\", \"polar\": {\"angularaxis\": {\"gridcolor\": \"white\", \"linecolor\": \"white\", \"ticks\": \"\"}, \"bgcolor\": \"#E5ECF6\", \"radialaxis\": {\"gridcolor\": \"white\", \"linecolor\": \"white\", \"ticks\": \"\"}}, \"scene\": {\"xaxis\": {\"backgroundcolor\": \"#E5ECF6\", \"gridcolor\": \"white\", \"gridwidth\": 2, \"linecolor\": \"white\", \"showbackground\": true, \"ticks\": \"\", \"zerolinecolor\": \"white\"}, \"yaxis\": {\"backgroundcolor\": \"#E5ECF6\", \"gridcolor\": \"white\", \"gridwidth\": 2, \"linecolor\": \"white\", \"showbackground\": true, \"ticks\": \"\", \"zerolinecolor\": \"white\"}, \"zaxis\": {\"backgroundcolor\": \"#E5ECF6\", \"gridcolor\": \"white\", \"gridwidth\": 2, \"linecolor\": \"white\", \"showbackground\": true, \"ticks\": \"\", \"zerolinecolor\": \"white\"}}, \"shapedefaults\": {\"line\": {\"color\": \"#2a3f5f\"}}, \"ternary\": {\"aaxis\": {\"gridcolor\": \"white\", \"linecolor\": \"white\", \"ticks\": \"\"}, \"baxis\": {\"gridcolor\": \"white\", \"linecolor\": \"white\", \"ticks\": \"\"}, \"bgcolor\": \"#E5ECF6\", \"caxis\": {\"gridcolor\": \"white\", \"linecolor\": \"white\", \"ticks\": \"\"}}, \"title\": {\"x\": 0.05}, \"xaxis\": {\"automargin\": true, \"gridcolor\": \"white\", \"linecolor\": \"white\", \"ticks\": \"\", \"title\": {\"standoff\": 15}, \"zerolinecolor\": \"white\", \"zerolinewidth\": 2}, \"yaxis\": {\"automargin\": true, \"gridcolor\": \"white\", \"linecolor\": \"white\", \"ticks\": \"\", \"title\": {\"standoff\": 15}, \"zerolinecolor\": \"white\", \"zerolinewidth\": 2}}}, \"title\": {\"text\": \"World Daily New Confirmed Cases\"}, \"updatemenus\": [{\"active\": 0, \"buttons\": [{\"args\": [{\"visible\": [true, true]}, {\"yaxis\": {\"type\": \"linear\"}}], \"label\": \"Linear Scale\", \"method\": \"update\"}, {\"args\": [{\"visible\": [true, true]}, {\"yaxis\": {\"type\": \"log\"}}], \"label\": \"Logarithmic Scale\", \"method\": \"update\"}], \"direction\": \"right\", \"type\": \"buttons\", \"x\": 0.45, \"xanchor\": \"left\", \"y\": 1.1, \"yanchor\": \"top\"}]},\n",
       "                        {\"responsive\": true}\n",
       "                    ).then(function(){\n",
       "                            \n",
       "var gd = document.getElementById('28936450-5d64-486f-89c3-6f4488a7807b');\n",
       "var x = new MutationObserver(function (mutations, observer) {{\n",
       "        var display = window.getComputedStyle(gd).display;\n",
       "        if (!display || display === 'none') {{\n",
       "            console.log([gd, 'removed!']);\n",
       "            Plotly.purge(gd);\n",
       "            observer.disconnect();\n",
       "        }}\n",
       "}});\n",
       "\n",
       "// Listen for the removal of the full notebook cells\n",
       "var notebookContainer = gd.closest('#notebook-container');\n",
       "if (notebookContainer) {{\n",
       "    x.observe(notebookContainer, {childList: true});\n",
       "}}\n",
       "\n",
       "// Listen for the clearing of the current output cell\n",
       "var outputEl = gd.closest('.output');\n",
       "if (outputEl) {{\n",
       "    x.observe(outputEl, {childList: true});\n",
       "}}\n",
       "\n",
       "                        })\n",
       "                };\n",
       "                });\n",
       "            </script>\n",
       "        </div>"
      ]
     },
     "metadata": {},
     "output_type": "display_data"
    },
    {
     "data": {
      "text/html": [
       "<style  type=\"text/css\" >\n",
       "</style><table id=\"T_23fdc0f8_74a9_11ea_8b2a_c49ded93ade6\" ><thead>    <tr>        <th class=\"blank level0\" ></th>        <th class=\"col_heading level0 col0\" >3/2/20</th>        <th class=\"col_heading level0 col1\" >3/3/20</th>        <th class=\"col_heading level0 col2\" >3/4/20</th>        <th class=\"col_heading level0 col3\" >3/5/20</th>        <th class=\"col_heading level0 col4\" >3/6/20</th>        <th class=\"col_heading level0 col5\" >3/7/20</th>        <th class=\"col_heading level0 col6\" >3/8/20</th>        <th class=\"col_heading level0 col7\" >3/9/20</th>        <th class=\"col_heading level0 col8\" >3/10/20</th>        <th class=\"col_heading level0 col9\" >3/11/20</th>        <th class=\"col_heading level0 col10\" >3/12/20</th>        <th class=\"col_heading level0 col11\" >3/13/20</th>        <th class=\"col_heading level0 col12\" >3/14/20</th>        <th class=\"col_heading level0 col13\" >3/15/20</th>        <th class=\"col_heading level0 col14\" >3/16/20</th>        <th class=\"col_heading level0 col15\" >3/17/20</th>        <th class=\"col_heading level0 col16\" >3/18/20</th>        <th class=\"col_heading level0 col17\" >3/19/20</th>        <th class=\"col_heading level0 col18\" >3/20/20</th>        <th class=\"col_heading level0 col19\" >3/21/20</th>        <th class=\"col_heading level0 col20\" >3/22/20</th>        <th class=\"col_heading level0 col21\" >3/23/20</th>        <th class=\"col_heading level0 col22\" >3/24/20</th>        <th class=\"col_heading level0 col23\" >3/25/20</th>        <th class=\"col_heading level0 col24\" >3/26/20</th>        <th class=\"col_heading level0 col25\" >3/27/20</th>        <th class=\"col_heading level0 col26\" >3/28/20</th>        <th class=\"col_heading level0 col27\" >3/29/20</th>        <th class=\"col_heading level0 col28\" >3/30/20</th>        <th class=\"col_heading level0 col29\" >3/31/20</th>        <th class=\"col_heading level0 col30\" >4/1/20</th>    </tr>    <tr>        <th class=\"index_name level0\" >Country/Region</th>        <th class=\"blank\" ></th>        <th class=\"blank\" ></th>        <th class=\"blank\" ></th>        <th class=\"blank\" ></th>        <th class=\"blank\" ></th>        <th class=\"blank\" ></th>        <th class=\"blank\" ></th>        <th class=\"blank\" ></th>        <th class=\"blank\" ></th>        <th class=\"blank\" ></th>        <th class=\"blank\" ></th>        <th class=\"blank\" ></th>        <th class=\"blank\" ></th>        <th class=\"blank\" ></th>        <th class=\"blank\" ></th>        <th class=\"blank\" ></th>        <th class=\"blank\" ></th>        <th class=\"blank\" ></th>        <th class=\"blank\" ></th>        <th class=\"blank\" ></th>        <th class=\"blank\" ></th>        <th class=\"blank\" ></th>        <th class=\"blank\" ></th>        <th class=\"blank\" ></th>        <th class=\"blank\" ></th>        <th class=\"blank\" ></th>        <th class=\"blank\" ></th>        <th class=\"blank\" ></th>        <th class=\"blank\" ></th>        <th class=\"blank\" ></th>        <th class=\"blank\" ></th>    </tr></thead><tbody>\n",
       "                <tr>\n",
       "                        <th id=\"T_23fdc0f8_74a9_11ea_8b2a_c49ded93ade6level0_row0\" class=\"row_heading level0 row0\" >US</th>\n",
       "                        <td id=\"T_23fdc0f8_74a9_11ea_8b2a_c49ded93ade6row0_col0\" class=\"data row0 col0\" >24</td>\n",
       "                        <td id=\"T_23fdc0f8_74a9_11ea_8b2a_c49ded93ade6row0_col1\" class=\"data row0 col1\" >20</td>\n",
       "                        <td id=\"T_23fdc0f8_74a9_11ea_8b2a_c49ded93ade6row0_col2\" class=\"data row0 col2\" >31</td>\n",
       "                        <td id=\"T_23fdc0f8_74a9_11ea_8b2a_c49ded93ade6row0_col3\" class=\"data row0 col3\" >68</td>\n",
       "                        <td id=\"T_23fdc0f8_74a9_11ea_8b2a_c49ded93ade6row0_col4\" class=\"data row0 col4\" >45</td>\n",
       "                        <td id=\"T_23fdc0f8_74a9_11ea_8b2a_c49ded93ade6row0_col5\" class=\"data row0 col5\" >140</td>\n",
       "                        <td id=\"T_23fdc0f8_74a9_11ea_8b2a_c49ded93ade6row0_col6\" class=\"data row0 col6\" >116</td>\n",
       "                        <td id=\"T_23fdc0f8_74a9_11ea_8b2a_c49ded93ade6row0_col7\" class=\"data row0 col7\" >65</td>\n",
       "                        <td id=\"T_23fdc0f8_74a9_11ea_8b2a_c49ded93ade6row0_col8\" class=\"data row0 col8\" >376</td>\n",
       "                        <td id=\"T_23fdc0f8_74a9_11ea_8b2a_c49ded93ade6row0_col9\" class=\"data row0 col9\" >322</td>\n",
       "                        <td id=\"T_23fdc0f8_74a9_11ea_8b2a_c49ded93ade6row0_col10\" class=\"data row0 col10\" >382</td>\n",
       "                        <td id=\"T_23fdc0f8_74a9_11ea_8b2a_c49ded93ade6row0_col11\" class=\"data row0 col11\" >516</td>\n",
       "                        <td id=\"T_23fdc0f8_74a9_11ea_8b2a_c49ded93ade6row0_col12\" class=\"data row0 col12\" >548</td>\n",
       "                        <td id=\"T_23fdc0f8_74a9_11ea_8b2a_c49ded93ade6row0_col13\" class=\"data row0 col13\" >772</td>\n",
       "                        <td id=\"T_23fdc0f8_74a9_11ea_8b2a_c49ded93ade6row0_col14\" class=\"data row0 col14\" >1,133</td>\n",
       "                        <td id=\"T_23fdc0f8_74a9_11ea_8b2a_c49ded93ade6row0_col15\" class=\"data row0 col15\" >1,789</td>\n",
       "                        <td id=\"T_23fdc0f8_74a9_11ea_8b2a_c49ded93ade6row0_col16\" class=\"data row0 col16\" >1,362</td>\n",
       "                        <td id=\"T_23fdc0f8_74a9_11ea_8b2a_c49ded93ade6row0_col17\" class=\"data row0 col17\" >5,894</td>\n",
       "                        <td id=\"T_23fdc0f8_74a9_11ea_8b2a_c49ded93ade6row0_col18\" class=\"data row0 col18\" >5,423</td>\n",
       "                        <td id=\"T_23fdc0f8_74a9_11ea_8b2a_c49ded93ade6row0_col19\" class=\"data row0 col19\" >6,389</td>\n",
       "                        <td id=\"T_23fdc0f8_74a9_11ea_8b2a_c49ded93ade6row0_col20\" class=\"data row0 col20\" >7,787</td>\n",
       "                        <td id=\"T_23fdc0f8_74a9_11ea_8b2a_c49ded93ade6row0_col21\" class=\"data row0 col21\" >10,571</td>\n",
       "                        <td id=\"T_23fdc0f8_74a9_11ea_8b2a_c49ded93ade6row0_col22\" class=\"data row0 col22\" >9,893</td>\n",
       "                        <td id=\"T_23fdc0f8_74a9_11ea_8b2a_c49ded93ade6row0_col23\" class=\"data row0 col23\" >12,038</td>\n",
       "                        <td id=\"T_23fdc0f8_74a9_11ea_8b2a_c49ded93ade6row0_col24\" class=\"data row0 col24\" >18,058</td>\n",
       "                        <td id=\"T_23fdc0f8_74a9_11ea_8b2a_c49ded93ade6row0_col25\" class=\"data row0 col25\" >17,821</td>\n",
       "                        <td id=\"T_23fdc0f8_74a9_11ea_8b2a_c49ded93ade6row0_col26\" class=\"data row0 col26\" >19,821</td>\n",
       "                        <td id=\"T_23fdc0f8_74a9_11ea_8b2a_c49ded93ade6row0_col27\" class=\"data row0 col27\" >19,408</td>\n",
       "                        <td id=\"T_23fdc0f8_74a9_11ea_8b2a_c49ded93ade6row0_col28\" class=\"data row0 col28\" >20,921</td>\n",
       "                        <td id=\"T_23fdc0f8_74a9_11ea_8b2a_c49ded93ade6row0_col29\" class=\"data row0 col29\" >26,365</td>\n",
       "                        <td id=\"T_23fdc0f8_74a9_11ea_8b2a_c49ded93ade6row0_col30\" class=\"data row0 col30\" >25,200</td>\n",
       "            </tr>\n",
       "            <tr>\n",
       "                        <th id=\"T_23fdc0f8_74a9_11ea_8b2a_c49ded93ade6level0_row1\" class=\"row_heading level0 row1\" >Italy</th>\n",
       "                        <td id=\"T_23fdc0f8_74a9_11ea_8b2a_c49ded93ade6row1_col0\" class=\"data row1 col0\" >342</td>\n",
       "                        <td id=\"T_23fdc0f8_74a9_11ea_8b2a_c49ded93ade6row1_col1\" class=\"data row1 col1\" >466</td>\n",
       "                        <td id=\"T_23fdc0f8_74a9_11ea_8b2a_c49ded93ade6row1_col2\" class=\"data row1 col2\" >587</td>\n",
       "                        <td id=\"T_23fdc0f8_74a9_11ea_8b2a_c49ded93ade6row1_col3\" class=\"data row1 col3\" >769</td>\n",
       "                        <td id=\"T_23fdc0f8_74a9_11ea_8b2a_c49ded93ade6row1_col4\" class=\"data row1 col4\" >778</td>\n",
       "                        <td id=\"T_23fdc0f8_74a9_11ea_8b2a_c49ded93ade6row1_col5\" class=\"data row1 col5\" >1,247</td>\n",
       "                        <td id=\"T_23fdc0f8_74a9_11ea_8b2a_c49ded93ade6row1_col6\" class=\"data row1 col6\" >1,492</td>\n",
       "                        <td id=\"T_23fdc0f8_74a9_11ea_8b2a_c49ded93ade6row1_col7\" class=\"data row1 col7\" >1,797</td>\n",
       "                        <td id=\"T_23fdc0f8_74a9_11ea_8b2a_c49ded93ade6row1_col8\" class=\"data row1 col8\" >977</td>\n",
       "                        <td id=\"T_23fdc0f8_74a9_11ea_8b2a_c49ded93ade6row1_col9\" class=\"data row1 col9\" >2,313</td>\n",
       "                        <td id=\"T_23fdc0f8_74a9_11ea_8b2a_c49ded93ade6row1_col10\" class=\"data row1 col10\" >-</td>\n",
       "                        <td id=\"T_23fdc0f8_74a9_11ea_8b2a_c49ded93ade6row1_col11\" class=\"data row1 col11\" >5,198</td>\n",
       "                        <td id=\"T_23fdc0f8_74a9_11ea_8b2a_c49ded93ade6row1_col12\" class=\"data row1 col12\" >3,497</td>\n",
       "                        <td id=\"T_23fdc0f8_74a9_11ea_8b2a_c49ded93ade6row1_col13\" class=\"data row1 col13\" >3,590</td>\n",
       "                        <td id=\"T_23fdc0f8_74a9_11ea_8b2a_c49ded93ade6row1_col14\" class=\"data row1 col14\" >3,233</td>\n",
       "                        <td id=\"T_23fdc0f8_74a9_11ea_8b2a_c49ded93ade6row1_col15\" class=\"data row1 col15\" >3,526</td>\n",
       "                        <td id=\"T_23fdc0f8_74a9_11ea_8b2a_c49ded93ade6row1_col16\" class=\"data row1 col16\" >4,207</td>\n",
       "                        <td id=\"T_23fdc0f8_74a9_11ea_8b2a_c49ded93ade6row1_col17\" class=\"data row1 col17\" >5,322</td>\n",
       "                        <td id=\"T_23fdc0f8_74a9_11ea_8b2a_c49ded93ade6row1_col18\" class=\"data row1 col18\" >5,986</td>\n",
       "                        <td id=\"T_23fdc0f8_74a9_11ea_8b2a_c49ded93ade6row1_col19\" class=\"data row1 col19\" >6,557</td>\n",
       "                        <td id=\"T_23fdc0f8_74a9_11ea_8b2a_c49ded93ade6row1_col20\" class=\"data row1 col20\" >5,560</td>\n",
       "                        <td id=\"T_23fdc0f8_74a9_11ea_8b2a_c49ded93ade6row1_col21\" class=\"data row1 col21\" >4,789</td>\n",
       "                        <td id=\"T_23fdc0f8_74a9_11ea_8b2a_c49ded93ade6row1_col22\" class=\"data row1 col22\" >5,249</td>\n",
       "                        <td id=\"T_23fdc0f8_74a9_11ea_8b2a_c49ded93ade6row1_col23\" class=\"data row1 col23\" >5,210</td>\n",
       "                        <td id=\"T_23fdc0f8_74a9_11ea_8b2a_c49ded93ade6row1_col24\" class=\"data row1 col24\" >6,203</td>\n",
       "                        <td id=\"T_23fdc0f8_74a9_11ea_8b2a_c49ded93ade6row1_col25\" class=\"data row1 col25\" >5,909</td>\n",
       "                        <td id=\"T_23fdc0f8_74a9_11ea_8b2a_c49ded93ade6row1_col26\" class=\"data row1 col26\" >5,974</td>\n",
       "                        <td id=\"T_23fdc0f8_74a9_11ea_8b2a_c49ded93ade6row1_col27\" class=\"data row1 col27\" >5,217</td>\n",
       "                        <td id=\"T_23fdc0f8_74a9_11ea_8b2a_c49ded93ade6row1_col28\" class=\"data row1 col28\" >4,050</td>\n",
       "                        <td id=\"T_23fdc0f8_74a9_11ea_8b2a_c49ded93ade6row1_col29\" class=\"data row1 col29\" >4,053</td>\n",
       "                        <td id=\"T_23fdc0f8_74a9_11ea_8b2a_c49ded93ade6row1_col30\" class=\"data row1 col30\" >4,782</td>\n",
       "            </tr>\n",
       "            <tr>\n",
       "                        <th id=\"T_23fdc0f8_74a9_11ea_8b2a_c49ded93ade6level0_row2\" class=\"row_heading level0 row2\" >Spain</th>\n",
       "                        <td id=\"T_23fdc0f8_74a9_11ea_8b2a_c49ded93ade6row2_col0\" class=\"data row2 col0\" >36</td>\n",
       "                        <td id=\"T_23fdc0f8_74a9_11ea_8b2a_c49ded93ade6row2_col1\" class=\"data row2 col1\" >45</td>\n",
       "                        <td id=\"T_23fdc0f8_74a9_11ea_8b2a_c49ded93ade6row2_col2\" class=\"data row2 col2\" >57</td>\n",
       "                        <td id=\"T_23fdc0f8_74a9_11ea_8b2a_c49ded93ade6row2_col3\" class=\"data row2 col3\" >37</td>\n",
       "                        <td id=\"T_23fdc0f8_74a9_11ea_8b2a_c49ded93ade6row2_col4\" class=\"data row2 col4\" >141</td>\n",
       "                        <td id=\"T_23fdc0f8_74a9_11ea_8b2a_c49ded93ade6row2_col5\" class=\"data row2 col5\" >100</td>\n",
       "                        <td id=\"T_23fdc0f8_74a9_11ea_8b2a_c49ded93ade6row2_col6\" class=\"data row2 col6\" >173</td>\n",
       "                        <td id=\"T_23fdc0f8_74a9_11ea_8b2a_c49ded93ade6row2_col7\" class=\"data row2 col7\" >400</td>\n",
       "                        <td id=\"T_23fdc0f8_74a9_11ea_8b2a_c49ded93ade6row2_col8\" class=\"data row2 col8\" >622</td>\n",
       "                        <td id=\"T_23fdc0f8_74a9_11ea_8b2a_c49ded93ade6row2_col9\" class=\"data row2 col9\" >582</td>\n",
       "                        <td id=\"T_23fdc0f8_74a9_11ea_8b2a_c49ded93ade6row2_col10\" class=\"data row2 col10\" >-</td>\n",
       "                        <td id=\"T_23fdc0f8_74a9_11ea_8b2a_c49ded93ade6row2_col11\" class=\"data row2 col11\" >2,955</td>\n",
       "                        <td id=\"T_23fdc0f8_74a9_11ea_8b2a_c49ded93ade6row2_col12\" class=\"data row2 col12\" >1,159</td>\n",
       "                        <td id=\"T_23fdc0f8_74a9_11ea_8b2a_c49ded93ade6row2_col13\" class=\"data row2 col13\" >1,407</td>\n",
       "                        <td id=\"T_23fdc0f8_74a9_11ea_8b2a_c49ded93ade6row2_col14\" class=\"data row2 col14\" >2,144</td>\n",
       "                        <td id=\"T_23fdc0f8_74a9_11ea_8b2a_c49ded93ade6row2_col15\" class=\"data row2 col15\" >1,806</td>\n",
       "                        <td id=\"T_23fdc0f8_74a9_11ea_8b2a_c49ded93ade6row2_col16\" class=\"data row2 col16\" >2,162</td>\n",
       "                        <td id=\"T_23fdc0f8_74a9_11ea_8b2a_c49ded93ade6row2_col17\" class=\"data row2 col17\" >4,053</td>\n",
       "                        <td id=\"T_23fdc0f8_74a9_11ea_8b2a_c49ded93ade6row2_col18\" class=\"data row2 col18\" >2,447</td>\n",
       "                        <td id=\"T_23fdc0f8_74a9_11ea_8b2a_c49ded93ade6row2_col19\" class=\"data row2 col19\" >4,964</td>\n",
       "                        <td id=\"T_23fdc0f8_74a9_11ea_8b2a_c49ded93ade6row2_col20\" class=\"data row2 col20\" >3,394</td>\n",
       "                        <td id=\"T_23fdc0f8_74a9_11ea_8b2a_c49ded93ade6row2_col21\" class=\"data row2 col21\" >6,368</td>\n",
       "                        <td id=\"T_23fdc0f8_74a9_11ea_8b2a_c49ded93ade6row2_col22\" class=\"data row2 col22\" >4,749</td>\n",
       "                        <td id=\"T_23fdc0f8_74a9_11ea_8b2a_c49ded93ade6row2_col23\" class=\"data row2 col23\" >9,630</td>\n",
       "                        <td id=\"T_23fdc0f8_74a9_11ea_8b2a_c49ded93ade6row2_col24\" class=\"data row2 col24\" >8,271</td>\n",
       "                        <td id=\"T_23fdc0f8_74a9_11ea_8b2a_c49ded93ade6row2_col25\" class=\"data row2 col25\" >7,933</td>\n",
       "                        <td id=\"T_23fdc0f8_74a9_11ea_8b2a_c49ded93ade6row2_col26\" class=\"data row2 col26\" >7,516</td>\n",
       "                        <td id=\"T_23fdc0f8_74a9_11ea_8b2a_c49ded93ade6row2_col27\" class=\"data row2 col27\" >6,875</td>\n",
       "                        <td id=\"T_23fdc0f8_74a9_11ea_8b2a_c49ded93ade6row2_col28\" class=\"data row2 col28\" >7,846</td>\n",
       "                        <td id=\"T_23fdc0f8_74a9_11ea_8b2a_c49ded93ade6row2_col29\" class=\"data row2 col29\" >7,967</td>\n",
       "                        <td id=\"T_23fdc0f8_74a9_11ea_8b2a_c49ded93ade6row2_col30\" class=\"data row2 col30\" >8,195</td>\n",
       "            </tr>\n",
       "            <tr>\n",
       "                        <th id=\"T_23fdc0f8_74a9_11ea_8b2a_c49ded93ade6level0_row3\" class=\"row_heading level0 row3\" >China</th>\n",
       "                        <td id=\"T_23fdc0f8_74a9_11ea_8b2a_c49ded93ade6row3_col0\" class=\"data row3 col0\" >204</td>\n",
       "                        <td id=\"T_23fdc0f8_74a9_11ea_8b2a_c49ded93ade6row3_col1\" class=\"data row3 col1\" >125</td>\n",
       "                        <td id=\"T_23fdc0f8_74a9_11ea_8b2a_c49ded93ade6row3_col2\" class=\"data row3 col2\" >125</td>\n",
       "                        <td id=\"T_23fdc0f8_74a9_11ea_8b2a_c49ded93ade6row3_col3\" class=\"data row3 col3\" >151</td>\n",
       "                        <td id=\"T_23fdc0f8_74a9_11ea_8b2a_c49ded93ade6row3_col4\" class=\"data row3 col4\" >153</td>\n",
       "                        <td id=\"T_23fdc0f8_74a9_11ea_8b2a_c49ded93ade6row3_col5\" class=\"data row3 col5\" >80</td>\n",
       "                        <td id=\"T_23fdc0f8_74a9_11ea_8b2a_c49ded93ade6row3_col6\" class=\"data row3 col6\" >53</td>\n",
       "                        <td id=\"T_23fdc0f8_74a9_11ea_8b2a_c49ded93ade6row3_col7\" class=\"data row3 col7\" >37</td>\n",
       "                        <td id=\"T_23fdc0f8_74a9_11ea_8b2a_c49ded93ade6row3_col8\" class=\"data row3 col8\" >27</td>\n",
       "                        <td id=\"T_23fdc0f8_74a9_11ea_8b2a_c49ded93ade6row3_col9\" class=\"data row3 col9\" >34</td>\n",
       "                        <td id=\"T_23fdc0f8_74a9_11ea_8b2a_c49ded93ade6row3_col10\" class=\"data row3 col10\" >11</td>\n",
       "                        <td id=\"T_23fdc0f8_74a9_11ea_8b2a_c49ded93ade6row3_col11\" class=\"data row3 col11\" >13</td>\n",
       "                        <td id=\"T_23fdc0f8_74a9_11ea_8b2a_c49ded93ade6row3_col12\" class=\"data row3 col12\" >32</td>\n",
       "                        <td id=\"T_23fdc0f8_74a9_11ea_8b2a_c49ded93ade6row3_col13\" class=\"data row3 col13\" >26</td>\n",
       "                        <td id=\"T_23fdc0f8_74a9_11ea_8b2a_c49ded93ade6row3_col14\" class=\"data row3 col14\" >30</td>\n",
       "                        <td id=\"T_23fdc0f8_74a9_11ea_8b2a_c49ded93ade6row3_col15\" class=\"data row3 col15\" >25</td>\n",
       "                        <td id=\"T_23fdc0f8_74a9_11ea_8b2a_c49ded93ade6row3_col16\" class=\"data row3 col16\" >44</td>\n",
       "                        <td id=\"T_23fdc0f8_74a9_11ea_8b2a_c49ded93ade6row3_col17\" class=\"data row3 col17\" >54</td>\n",
       "                        <td id=\"T_23fdc0f8_74a9_11ea_8b2a_c49ded93ade6row3_col18\" class=\"data row3 col18\" >94</td>\n",
       "                        <td id=\"T_23fdc0f8_74a9_11ea_8b2a_c49ded93ade6row3_col19\" class=\"data row3 col19\" >55</td>\n",
       "                        <td id=\"T_23fdc0f8_74a9_11ea_8b2a_c49ded93ade6row3_col20\" class=\"data row3 col20\" >130</td>\n",
       "                        <td id=\"T_23fdc0f8_74a9_11ea_8b2a_c49ded93ade6row3_col21\" class=\"data row3 col21\" >63</td>\n",
       "                        <td id=\"T_23fdc0f8_74a9_11ea_8b2a_c49ded93ade6row3_col22\" class=\"data row3 col22\" >93</td>\n",
       "                        <td id=\"T_23fdc0f8_74a9_11ea_8b2a_c49ded93ade6row3_col23\" class=\"data row3 col23\" >70</td>\n",
       "                        <td id=\"T_23fdc0f8_74a9_11ea_8b2a_c49ded93ade6row3_col24\" class=\"data row3 col24\" >121</td>\n",
       "                        <td id=\"T_23fdc0f8_74a9_11ea_8b2a_c49ded93ade6row3_col25\" class=\"data row3 col25\" >115</td>\n",
       "                        <td id=\"T_23fdc0f8_74a9_11ea_8b2a_c49ded93ade6row3_col26\" class=\"data row3 col26\" >102</td>\n",
       "                        <td id=\"T_23fdc0f8_74a9_11ea_8b2a_c49ded93ade6row3_col27\" class=\"data row3 col27\" >123</td>\n",
       "                        <td id=\"T_23fdc0f8_74a9_11ea_8b2a_c49ded93ade6row3_col28\" class=\"data row3 col28\" >76</td>\n",
       "                        <td id=\"T_23fdc0f8_74a9_11ea_8b2a_c49ded93ade6row3_col29\" class=\"data row3 col29\" >81</td>\n",
       "                        <td id=\"T_23fdc0f8_74a9_11ea_8b2a_c49ded93ade6row3_col30\" class=\"data row3 col30\" >82</td>\n",
       "            </tr>\n",
       "            <tr>\n",
       "                        <th id=\"T_23fdc0f8_74a9_11ea_8b2a_c49ded93ade6level0_row4\" class=\"row_heading level0 row4\" >Germany</th>\n",
       "                        <td id=\"T_23fdc0f8_74a9_11ea_8b2a_c49ded93ade6row4_col0\" class=\"data row4 col0\" >29</td>\n",
       "                        <td id=\"T_23fdc0f8_74a9_11ea_8b2a_c49ded93ade6row4_col1\" class=\"data row4 col1\" >37</td>\n",
       "                        <td id=\"T_23fdc0f8_74a9_11ea_8b2a_c49ded93ade6row4_col2\" class=\"data row4 col2\" >66</td>\n",
       "                        <td id=\"T_23fdc0f8_74a9_11ea_8b2a_c49ded93ade6row4_col3\" class=\"data row4 col3\" >220</td>\n",
       "                        <td id=\"T_23fdc0f8_74a9_11ea_8b2a_c49ded93ade6row4_col4\" class=\"data row4 col4\" >188</td>\n",
       "                        <td id=\"T_23fdc0f8_74a9_11ea_8b2a_c49ded93ade6row4_col5\" class=\"data row4 col5\" >129</td>\n",
       "                        <td id=\"T_23fdc0f8_74a9_11ea_8b2a_c49ded93ade6row4_col6\" class=\"data row4 col6\" >241</td>\n",
       "                        <td id=\"T_23fdc0f8_74a9_11ea_8b2a_c49ded93ade6row4_col7\" class=\"data row4 col7\" >136</td>\n",
       "                        <td id=\"T_23fdc0f8_74a9_11ea_8b2a_c49ded93ade6row4_col8\" class=\"data row4 col8\" >281</td>\n",
       "                        <td id=\"T_23fdc0f8_74a9_11ea_8b2a_c49ded93ade6row4_col9\" class=\"data row4 col9\" >451</td>\n",
       "                        <td id=\"T_23fdc0f8_74a9_11ea_8b2a_c49ded93ade6row4_col10\" class=\"data row4 col10\" >170</td>\n",
       "                        <td id=\"T_23fdc0f8_74a9_11ea_8b2a_c49ded93ade6row4_col11\" class=\"data row4 col11\" >1,597</td>\n",
       "                        <td id=\"T_23fdc0f8_74a9_11ea_8b2a_c49ded93ade6row4_col12\" class=\"data row4 col12\" >910</td>\n",
       "                        <td id=\"T_23fdc0f8_74a9_11ea_8b2a_c49ded93ade6row4_col13\" class=\"data row4 col13\" >1,210</td>\n",
       "                        <td id=\"T_23fdc0f8_74a9_11ea_8b2a_c49ded93ade6row4_col14\" class=\"data row4 col14\" >1,477</td>\n",
       "                        <td id=\"T_23fdc0f8_74a9_11ea_8b2a_c49ded93ade6row4_col15\" class=\"data row4 col15\" >1,985</td>\n",
       "                        <td id=\"T_23fdc0f8_74a9_11ea_8b2a_c49ded93ade6row4_col16\" class=\"data row4 col16\" >3,070</td>\n",
       "                        <td id=\"T_23fdc0f8_74a9_11ea_8b2a_c49ded93ade6row4_col17\" class=\"data row4 col17\" >2,993</td>\n",
       "                        <td id=\"T_23fdc0f8_74a9_11ea_8b2a_c49ded93ade6row4_col18\" class=\"data row4 col18\" >4,528</td>\n",
       "                        <td id=\"T_23fdc0f8_74a9_11ea_8b2a_c49ded93ade6row4_col19\" class=\"data row4 col19\" >2,365</td>\n",
       "                        <td id=\"T_23fdc0f8_74a9_11ea_8b2a_c49ded93ade6row4_col20\" class=\"data row4 col20\" >2,660</td>\n",
       "                        <td id=\"T_23fdc0f8_74a9_11ea_8b2a_c49ded93ade6row4_col21\" class=\"data row4 col21\" >4,183</td>\n",
       "                        <td id=\"T_23fdc0f8_74a9_11ea_8b2a_c49ded93ade6row4_col22\" class=\"data row4 col22\" >3,930</td>\n",
       "                        <td id=\"T_23fdc0f8_74a9_11ea_8b2a_c49ded93ade6row4_col23\" class=\"data row4 col23\" >4,337</td>\n",
       "                        <td id=\"T_23fdc0f8_74a9_11ea_8b2a_c49ded93ade6row4_col24\" class=\"data row4 col24\" >6,615</td>\n",
       "                        <td id=\"T_23fdc0f8_74a9_11ea_8b2a_c49ded93ade6row4_col25\" class=\"data row4 col25\" >6,933</td>\n",
       "                        <td id=\"T_23fdc0f8_74a9_11ea_8b2a_c49ded93ade6row4_col26\" class=\"data row4 col26\" >6,824</td>\n",
       "                        <td id=\"T_23fdc0f8_74a9_11ea_8b2a_c49ded93ade6row4_col27\" class=\"data row4 col27\" >4,400</td>\n",
       "                        <td id=\"T_23fdc0f8_74a9_11ea_8b2a_c49ded93ade6row4_col28\" class=\"data row4 col28\" >4,790</td>\n",
       "                        <td id=\"T_23fdc0f8_74a9_11ea_8b2a_c49ded93ade6row4_col29\" class=\"data row4 col29\" >4,923</td>\n",
       "                        <td id=\"T_23fdc0f8_74a9_11ea_8b2a_c49ded93ade6row4_col30\" class=\"data row4 col30\" >6,064</td>\n",
       "            </tr>\n",
       "    </tbody></table>"
      ],
      "text/plain": [
       "<pandas.io.formats.style.Styler at 0xf1e6090>"
      ]
     },
     "execution_count": 27,
     "metadata": {},
     "output_type": "execute_result"
    }
   ],
   "source": [
    "dfConfirmedWorldTop5 = dfConfirmedWorldTop.head(5)\n",
    "\n",
    "dfConfirmedWorldTop5DailyDataCols = dfConfirmedWorldTop5[dfConfirmedWorldTop5.columns[4:]]\n",
    "dfConfirmedWorldTop5Daily = pd.concat([dfConfirmedWorldTop5[dfConfirmedWorldTop5.columns[:4]], dfConfirmedWorldTop5DailyDataCols.diff(axis=1)], axis=1)\n",
    "\n",
    "data = [{\n",
    "    'x': row[1].index[-MONTH_DAYS:],\n",
    "    'y': row[1].values[-MONTH_DAYS:],\n",
    "    'name': row[0]\n",
    "}  for row in dfConfirmedWorldTop5Daily.iterrows()]\n",
    "\n",
    "layout = dict(title = 'World Daily New Confirmed Cases', updatemenus=LogLinearScale)\n",
    "py.iplot(dict(data=data, layout=layout))\n",
    "\n",
    "dfConfirmedWorldTop5Daily[dfConfirmedWorldTop5Daily.columns[-MONTH_DAYS:]].style.format(IntegerFormatter)"
   ]
  },
  {
   "cell_type": "code",
   "execution_count": 28,
   "metadata": {
    "ExecuteTime": {
     "end_time": "2020-04-02T06:13:59.845911Z",
     "start_time": "2020-04-02T06:13:59.053907Z"
    },
    "extensions": {
     "jupyter_dashboards": {
      "version": 1,
      "views": {
       "grid_default": {
        "col": 0,
        "height": 31,
        "hidden": false,
        "row": 117,
        "width": null
       },
       "report_default": {
        "hidden": false
       }
      }
     }
    }
   },
   "outputs": [
    {
     "data": {
      "application/vnd.plotly.v1+json": {
       "config": {
        "linkText": "Export to plot.ly",
        "plotlyServerURL": "https://plot.ly",
        "showLink": false
       },
       "data": [
        {
         "name": "Italy",
         "type": "scatter",
         "x": [
          "3/2/20",
          "3/3/20",
          "3/4/20",
          "3/5/20",
          "3/6/20",
          "3/7/20",
          "3/8/20",
          "3/9/20",
          "3/10/20",
          "3/11/20",
          "3/12/20",
          "3/13/20",
          "3/14/20",
          "3/15/20",
          "3/16/20",
          "3/17/20",
          "3/18/20",
          "3/19/20",
          "3/20/20",
          "3/21/20",
          "3/22/20",
          "3/23/20",
          "3/24/20",
          "3/25/20",
          "3/26/20",
          "3/27/20",
          "3/28/20",
          "3/29/20",
          "3/30/20",
          "3/31/20",
          "4/1/20"
         ],
         "y": [
          52,
          79,
          107,
          148,
          197,
          233,
          366,
          463,
          631,
          827,
          827,
          1266,
          1441,
          1809,
          2158,
          2503,
          2978,
          3405,
          4032,
          4825,
          5476,
          6077,
          6820,
          7503,
          8215,
          9134,
          10023,
          10779,
          11591,
          12428,
          13155
         ]
        },
        {
         "name": "Spain",
         "type": "scatter",
         "x": [
          "3/2/20",
          "3/3/20",
          "3/4/20",
          "3/5/20",
          "3/6/20",
          "3/7/20",
          "3/8/20",
          "3/9/20",
          "3/10/20",
          "3/11/20",
          "3/12/20",
          "3/13/20",
          "3/14/20",
          "3/15/20",
          "3/16/20",
          "3/17/20",
          "3/18/20",
          "3/19/20",
          "3/20/20",
          "3/21/20",
          "3/22/20",
          "3/23/20",
          "3/24/20",
          "3/25/20",
          "3/26/20",
          "3/27/20",
          "3/28/20",
          "3/29/20",
          "3/30/20",
          "3/31/20",
          "4/1/20"
         ],
         "y": [
          0,
          1,
          2,
          3,
          5,
          10,
          17,
          28,
          35,
          54,
          55,
          133,
          195,
          289,
          342,
          533,
          623,
          830,
          1043,
          1375,
          1772,
          2311,
          2808,
          3647,
          4365,
          5138,
          5982,
          6803,
          7716,
          8464,
          9387
         ]
        },
        {
         "name": "US",
         "type": "scatter",
         "x": [
          "3/2/20",
          "3/3/20",
          "3/4/20",
          "3/5/20",
          "3/6/20",
          "3/7/20",
          "3/8/20",
          "3/9/20",
          "3/10/20",
          "3/11/20",
          "3/12/20",
          "3/13/20",
          "3/14/20",
          "3/15/20",
          "3/16/20",
          "3/17/20",
          "3/18/20",
          "3/19/20",
          "3/20/20",
          "3/21/20",
          "3/22/20",
          "3/23/20",
          "3/24/20",
          "3/25/20",
          "3/26/20",
          "3/27/20",
          "3/28/20",
          "3/29/20",
          "3/30/20",
          "3/31/20",
          "4/1/20"
         ],
         "y": [
          6,
          7,
          11,
          12,
          14,
          17,
          21,
          22,
          28,
          36,
          40,
          47,
          54,
          63,
          85,
          108,
          118,
          200,
          244,
          307,
          417,
          557,
          706,
          942,
          1209,
          1581,
          2026,
          2467,
          2978,
          3873,
          4757
         ]
        },
        {
         "name": "France",
         "type": "scatter",
         "x": [
          "3/2/20",
          "3/3/20",
          "3/4/20",
          "3/5/20",
          "3/6/20",
          "3/7/20",
          "3/8/20",
          "3/9/20",
          "3/10/20",
          "3/11/20",
          "3/12/20",
          "3/13/20",
          "3/14/20",
          "3/15/20",
          "3/16/20",
          "3/17/20",
          "3/18/20",
          "3/19/20",
          "3/20/20",
          "3/21/20",
          "3/22/20",
          "3/23/20",
          "3/24/20",
          "3/25/20",
          "3/26/20",
          "3/27/20",
          "3/28/20",
          "3/29/20",
          "3/30/20",
          "3/31/20",
          "4/1/20"
         ],
         "y": [
          3,
          4,
          4,
          6,
          9,
          11,
          19,
          19,
          33,
          48,
          48,
          79,
          91,
          91,
          148,
          148,
          148,
          243,
          450,
          562,
          674,
          860,
          1100,
          1331,
          1696,
          1995,
          2314,
          2606,
          3024,
          3523,
          4032
         ]
        },
        {
         "name": "China",
         "type": "scatter",
         "x": [
          "3/2/20",
          "3/3/20",
          "3/4/20",
          "3/5/20",
          "3/6/20",
          "3/7/20",
          "3/8/20",
          "3/9/20",
          "3/10/20",
          "3/11/20",
          "3/12/20",
          "3/13/20",
          "3/14/20",
          "3/15/20",
          "3/16/20",
          "3/17/20",
          "3/18/20",
          "3/19/20",
          "3/20/20",
          "3/21/20",
          "3/22/20",
          "3/23/20",
          "3/24/20",
          "3/25/20",
          "3/26/20",
          "3/27/20",
          "3/28/20",
          "3/29/20",
          "3/30/20",
          "3/31/20",
          "4/1/20"
         ],
         "y": [
          2914,
          2947,
          2983,
          3015,
          3044,
          3072,
          3100,
          3123,
          3139,
          3161,
          3172,
          3180,
          3193,
          3203,
          3217,
          3230,
          3241,
          3249,
          3253,
          3259,
          3274,
          3274,
          3281,
          3285,
          3291,
          3296,
          3299,
          3304,
          3308,
          3309,
          3316
         ]
        },
        {
         "name": "Iran",
         "type": "scatter",
         "x": [
          "3/2/20",
          "3/3/20",
          "3/4/20",
          "3/5/20",
          "3/6/20",
          "3/7/20",
          "3/8/20",
          "3/9/20",
          "3/10/20",
          "3/11/20",
          "3/12/20",
          "3/13/20",
          "3/14/20",
          "3/15/20",
          "3/16/20",
          "3/17/20",
          "3/18/20",
          "3/19/20",
          "3/20/20",
          "3/21/20",
          "3/22/20",
          "3/23/20",
          "3/24/20",
          "3/25/20",
          "3/26/20",
          "3/27/20",
          "3/28/20",
          "3/29/20",
          "3/30/20",
          "3/31/20",
          "4/1/20"
         ],
         "y": [
          66,
          77,
          92,
          107,
          124,
          145,
          194,
          237,
          291,
          354,
          429,
          514,
          611,
          724,
          853,
          988,
          1135,
          1284,
          1433,
          1556,
          1685,
          1812,
          1934,
          2077,
          2234,
          2378,
          2517,
          2640,
          2757,
          2898,
          3036
         ]
        },
        {
         "name": "United Kingdom",
         "type": "scatter",
         "x": [
          "3/2/20",
          "3/3/20",
          "3/4/20",
          "3/5/20",
          "3/6/20",
          "3/7/20",
          "3/8/20",
          "3/9/20",
          "3/10/20",
          "3/11/20",
          "3/12/20",
          "3/13/20",
          "3/14/20",
          "3/15/20",
          "3/16/20",
          "3/17/20",
          "3/18/20",
          "3/19/20",
          "3/20/20",
          "3/21/20",
          "3/22/20",
          "3/23/20",
          "3/24/20",
          "3/25/20",
          "3/26/20",
          "3/27/20",
          "3/28/20",
          "3/29/20",
          "3/30/20",
          "3/31/20",
          "4/1/20"
         ],
         "y": [
          0,
          0,
          0,
          1,
          2,
          2,
          3,
          4,
          6,
          8,
          8,
          8,
          21,
          21,
          55,
          55,
          71,
          137,
          177,
          233,
          281,
          335,
          422,
          465,
          578,
          759,
          1019,
          1228,
          1408,
          1789,
          2352
         ]
        },
        {
         "name": "Netherlands",
         "type": "scatter",
         "x": [
          "3/2/20",
          "3/3/20",
          "3/4/20",
          "3/5/20",
          "3/6/20",
          "3/7/20",
          "3/8/20",
          "3/9/20",
          "3/10/20",
          "3/11/20",
          "3/12/20",
          "3/13/20",
          "3/14/20",
          "3/15/20",
          "3/16/20",
          "3/17/20",
          "3/18/20",
          "3/19/20",
          "3/20/20",
          "3/21/20",
          "3/22/20",
          "3/23/20",
          "3/24/20",
          "3/25/20",
          "3/26/20",
          "3/27/20",
          "3/28/20",
          "3/29/20",
          "3/30/20",
          "3/31/20",
          "4/1/20"
         ],
         "y": [
          0,
          0,
          0,
          0,
          1,
          1,
          3,
          3,
          4,
          5,
          5,
          10,
          12,
          20,
          24,
          43,
          58,
          76,
          106,
          136,
          179,
          213,
          276,
          356,
          434,
          546,
          639,
          771,
          864,
          1039,
          1173
         ]
        },
        {
         "name": "Germany",
         "type": "scatter",
         "x": [
          "3/2/20",
          "3/3/20",
          "3/4/20",
          "3/5/20",
          "3/6/20",
          "3/7/20",
          "3/8/20",
          "3/9/20",
          "3/10/20",
          "3/11/20",
          "3/12/20",
          "3/13/20",
          "3/14/20",
          "3/15/20",
          "3/16/20",
          "3/17/20",
          "3/18/20",
          "3/19/20",
          "3/20/20",
          "3/21/20",
          "3/22/20",
          "3/23/20",
          "3/24/20",
          "3/25/20",
          "3/26/20",
          "3/27/20",
          "3/28/20",
          "3/29/20",
          "3/30/20",
          "3/31/20",
          "4/1/20"
         ],
         "y": [
          0,
          0,
          0,
          0,
          0,
          0,
          0,
          2,
          2,
          3,
          3,
          7,
          9,
          11,
          17,
          24,
          28,
          44,
          67,
          84,
          94,
          123,
          157,
          206,
          267,
          342,
          433,
          533,
          645,
          775,
          920
         ]
        },
        {
         "name": "Belgium",
         "type": "scatter",
         "x": [
          "3/2/20",
          "3/3/20",
          "3/4/20",
          "3/5/20",
          "3/6/20",
          "3/7/20",
          "3/8/20",
          "3/9/20",
          "3/10/20",
          "3/11/20",
          "3/12/20",
          "3/13/20",
          "3/14/20",
          "3/15/20",
          "3/16/20",
          "3/17/20",
          "3/18/20",
          "3/19/20",
          "3/20/20",
          "3/21/20",
          "3/22/20",
          "3/23/20",
          "3/24/20",
          "3/25/20",
          "3/26/20",
          "3/27/20",
          "3/28/20",
          "3/29/20",
          "3/30/20",
          "3/31/20",
          "4/1/20"
         ],
         "y": [
          0,
          0,
          0,
          0,
          0,
          0,
          0,
          0,
          0,
          3,
          3,
          3,
          4,
          4,
          5,
          10,
          14,
          21,
          37,
          67,
          75,
          88,
          122,
          178,
          220,
          289,
          353,
          431,
          513,
          705,
          828
         ]
        },
        {
         "name": "Switzerland",
         "type": "scatter",
         "x": [
          "3/2/20",
          "3/3/20",
          "3/4/20",
          "3/5/20",
          "3/6/20",
          "3/7/20",
          "3/8/20",
          "3/9/20",
          "3/10/20",
          "3/11/20",
          "3/12/20",
          "3/13/20",
          "3/14/20",
          "3/15/20",
          "3/16/20",
          "3/17/20",
          "3/18/20",
          "3/19/20",
          "3/20/20",
          "3/21/20",
          "3/22/20",
          "3/23/20",
          "3/24/20",
          "3/25/20",
          "3/26/20",
          "3/27/20",
          "3/28/20",
          "3/29/20",
          "3/30/20",
          "3/31/20",
          "4/1/20"
         ],
         "y": [
          0,
          0,
          0,
          1,
          1,
          1,
          2,
          2,
          3,
          4,
          4,
          11,
          13,
          14,
          14,
          27,
          28,
          41,
          54,
          75,
          98,
          120,
          122,
          153,
          191,
          231,
          264,
          300,
          359,
          433,
          488
         ]
        }
       ],
       "layout": {
        "template": {
         "data": {
          "bar": [
           {
            "error_x": {
             "color": "#2a3f5f"
            },
            "error_y": {
             "color": "#2a3f5f"
            },
            "marker": {
             "line": {
              "color": "#E5ECF6",
              "width": 0.5
             }
            },
            "type": "bar"
           }
          ],
          "barpolar": [
           {
            "marker": {
             "line": {
              "color": "#E5ECF6",
              "width": 0.5
             }
            },
            "type": "barpolar"
           }
          ],
          "carpet": [
           {
            "aaxis": {
             "endlinecolor": "#2a3f5f",
             "gridcolor": "white",
             "linecolor": "white",
             "minorgridcolor": "white",
             "startlinecolor": "#2a3f5f"
            },
            "baxis": {
             "endlinecolor": "#2a3f5f",
             "gridcolor": "white",
             "linecolor": "white",
             "minorgridcolor": "white",
             "startlinecolor": "#2a3f5f"
            },
            "type": "carpet"
           }
          ],
          "choropleth": [
           {
            "colorbar": {
             "outlinewidth": 0,
             "ticks": ""
            },
            "type": "choropleth"
           }
          ],
          "contour": [
           {
            "colorbar": {
             "outlinewidth": 0,
             "ticks": ""
            },
            "colorscale": [
             [
              0,
              "#0d0887"
             ],
             [
              0.1111111111111111,
              "#46039f"
             ],
             [
              0.2222222222222222,
              "#7201a8"
             ],
             [
              0.3333333333333333,
              "#9c179e"
             ],
             [
              0.4444444444444444,
              "#bd3786"
             ],
             [
              0.5555555555555556,
              "#d8576b"
             ],
             [
              0.6666666666666666,
              "#ed7953"
             ],
             [
              0.7777777777777778,
              "#fb9f3a"
             ],
             [
              0.8888888888888888,
              "#fdca26"
             ],
             [
              1,
              "#f0f921"
             ]
            ],
            "type": "contour"
           }
          ],
          "contourcarpet": [
           {
            "colorbar": {
             "outlinewidth": 0,
             "ticks": ""
            },
            "type": "contourcarpet"
           }
          ],
          "heatmap": [
           {
            "colorbar": {
             "outlinewidth": 0,
             "ticks": ""
            },
            "colorscale": [
             [
              0,
              "#0d0887"
             ],
             [
              0.1111111111111111,
              "#46039f"
             ],
             [
              0.2222222222222222,
              "#7201a8"
             ],
             [
              0.3333333333333333,
              "#9c179e"
             ],
             [
              0.4444444444444444,
              "#bd3786"
             ],
             [
              0.5555555555555556,
              "#d8576b"
             ],
             [
              0.6666666666666666,
              "#ed7953"
             ],
             [
              0.7777777777777778,
              "#fb9f3a"
             ],
             [
              0.8888888888888888,
              "#fdca26"
             ],
             [
              1,
              "#f0f921"
             ]
            ],
            "type": "heatmap"
           }
          ],
          "heatmapgl": [
           {
            "colorbar": {
             "outlinewidth": 0,
             "ticks": ""
            },
            "colorscale": [
             [
              0,
              "#0d0887"
             ],
             [
              0.1111111111111111,
              "#46039f"
             ],
             [
              0.2222222222222222,
              "#7201a8"
             ],
             [
              0.3333333333333333,
              "#9c179e"
             ],
             [
              0.4444444444444444,
              "#bd3786"
             ],
             [
              0.5555555555555556,
              "#d8576b"
             ],
             [
              0.6666666666666666,
              "#ed7953"
             ],
             [
              0.7777777777777778,
              "#fb9f3a"
             ],
             [
              0.8888888888888888,
              "#fdca26"
             ],
             [
              1,
              "#f0f921"
             ]
            ],
            "type": "heatmapgl"
           }
          ],
          "histogram": [
           {
            "marker": {
             "colorbar": {
              "outlinewidth": 0,
              "ticks": ""
             }
            },
            "type": "histogram"
           }
          ],
          "histogram2d": [
           {
            "colorbar": {
             "outlinewidth": 0,
             "ticks": ""
            },
            "colorscale": [
             [
              0,
              "#0d0887"
             ],
             [
              0.1111111111111111,
              "#46039f"
             ],
             [
              0.2222222222222222,
              "#7201a8"
             ],
             [
              0.3333333333333333,
              "#9c179e"
             ],
             [
              0.4444444444444444,
              "#bd3786"
             ],
             [
              0.5555555555555556,
              "#d8576b"
             ],
             [
              0.6666666666666666,
              "#ed7953"
             ],
             [
              0.7777777777777778,
              "#fb9f3a"
             ],
             [
              0.8888888888888888,
              "#fdca26"
             ],
             [
              1,
              "#f0f921"
             ]
            ],
            "type": "histogram2d"
           }
          ],
          "histogram2dcontour": [
           {
            "colorbar": {
             "outlinewidth": 0,
             "ticks": ""
            },
            "colorscale": [
             [
              0,
              "#0d0887"
             ],
             [
              0.1111111111111111,
              "#46039f"
             ],
             [
              0.2222222222222222,
              "#7201a8"
             ],
             [
              0.3333333333333333,
              "#9c179e"
             ],
             [
              0.4444444444444444,
              "#bd3786"
             ],
             [
              0.5555555555555556,
              "#d8576b"
             ],
             [
              0.6666666666666666,
              "#ed7953"
             ],
             [
              0.7777777777777778,
              "#fb9f3a"
             ],
             [
              0.8888888888888888,
              "#fdca26"
             ],
             [
              1,
              "#f0f921"
             ]
            ],
            "type": "histogram2dcontour"
           }
          ],
          "mesh3d": [
           {
            "colorbar": {
             "outlinewidth": 0,
             "ticks": ""
            },
            "type": "mesh3d"
           }
          ],
          "parcoords": [
           {
            "line": {
             "colorbar": {
              "outlinewidth": 0,
              "ticks": ""
             }
            },
            "type": "parcoords"
           }
          ],
          "pie": [
           {
            "automargin": true,
            "type": "pie"
           }
          ],
          "scatter": [
           {
            "marker": {
             "colorbar": {
              "outlinewidth": 0,
              "ticks": ""
             }
            },
            "type": "scatter"
           }
          ],
          "scatter3d": [
           {
            "line": {
             "colorbar": {
              "outlinewidth": 0,
              "ticks": ""
             }
            },
            "marker": {
             "colorbar": {
              "outlinewidth": 0,
              "ticks": ""
             }
            },
            "type": "scatter3d"
           }
          ],
          "scattercarpet": [
           {
            "marker": {
             "colorbar": {
              "outlinewidth": 0,
              "ticks": ""
             }
            },
            "type": "scattercarpet"
           }
          ],
          "scattergeo": [
           {
            "marker": {
             "colorbar": {
              "outlinewidth": 0,
              "ticks": ""
             }
            },
            "type": "scattergeo"
           }
          ],
          "scattergl": [
           {
            "marker": {
             "colorbar": {
              "outlinewidth": 0,
              "ticks": ""
             }
            },
            "type": "scattergl"
           }
          ],
          "scattermapbox": [
           {
            "marker": {
             "colorbar": {
              "outlinewidth": 0,
              "ticks": ""
             }
            },
            "type": "scattermapbox"
           }
          ],
          "scatterpolar": [
           {
            "marker": {
             "colorbar": {
              "outlinewidth": 0,
              "ticks": ""
             }
            },
            "type": "scatterpolar"
           }
          ],
          "scatterpolargl": [
           {
            "marker": {
             "colorbar": {
              "outlinewidth": 0,
              "ticks": ""
             }
            },
            "type": "scatterpolargl"
           }
          ],
          "scatterternary": [
           {
            "marker": {
             "colorbar": {
              "outlinewidth": 0,
              "ticks": ""
             }
            },
            "type": "scatterternary"
           }
          ],
          "surface": [
           {
            "colorbar": {
             "outlinewidth": 0,
             "ticks": ""
            },
            "colorscale": [
             [
              0,
              "#0d0887"
             ],
             [
              0.1111111111111111,
              "#46039f"
             ],
             [
              0.2222222222222222,
              "#7201a8"
             ],
             [
              0.3333333333333333,
              "#9c179e"
             ],
             [
              0.4444444444444444,
              "#bd3786"
             ],
             [
              0.5555555555555556,
              "#d8576b"
             ],
             [
              0.6666666666666666,
              "#ed7953"
             ],
             [
              0.7777777777777778,
              "#fb9f3a"
             ],
             [
              0.8888888888888888,
              "#fdca26"
             ],
             [
              1,
              "#f0f921"
             ]
            ],
            "type": "surface"
           }
          ],
          "table": [
           {
            "cells": {
             "fill": {
              "color": "#EBF0F8"
             },
             "line": {
              "color": "white"
             }
            },
            "header": {
             "fill": {
              "color": "#C8D4E3"
             },
             "line": {
              "color": "white"
             }
            },
            "type": "table"
           }
          ]
         },
         "layout": {
          "annotationdefaults": {
           "arrowcolor": "#2a3f5f",
           "arrowhead": 0,
           "arrowwidth": 1
          },
          "coloraxis": {
           "colorbar": {
            "outlinewidth": 0,
            "ticks": ""
           }
          },
          "colorscale": {
           "diverging": [
            [
             0,
             "#8e0152"
            ],
            [
             0.1,
             "#c51b7d"
            ],
            [
             0.2,
             "#de77ae"
            ],
            [
             0.3,
             "#f1b6da"
            ],
            [
             0.4,
             "#fde0ef"
            ],
            [
             0.5,
             "#f7f7f7"
            ],
            [
             0.6,
             "#e6f5d0"
            ],
            [
             0.7,
             "#b8e186"
            ],
            [
             0.8,
             "#7fbc41"
            ],
            [
             0.9,
             "#4d9221"
            ],
            [
             1,
             "#276419"
            ]
           ],
           "sequential": [
            [
             0,
             "#0d0887"
            ],
            [
             0.1111111111111111,
             "#46039f"
            ],
            [
             0.2222222222222222,
             "#7201a8"
            ],
            [
             0.3333333333333333,
             "#9c179e"
            ],
            [
             0.4444444444444444,
             "#bd3786"
            ],
            [
             0.5555555555555556,
             "#d8576b"
            ],
            [
             0.6666666666666666,
             "#ed7953"
            ],
            [
             0.7777777777777778,
             "#fb9f3a"
            ],
            [
             0.8888888888888888,
             "#fdca26"
            ],
            [
             1,
             "#f0f921"
            ]
           ],
           "sequentialminus": [
            [
             0,
             "#0d0887"
            ],
            [
             0.1111111111111111,
             "#46039f"
            ],
            [
             0.2222222222222222,
             "#7201a8"
            ],
            [
             0.3333333333333333,
             "#9c179e"
            ],
            [
             0.4444444444444444,
             "#bd3786"
            ],
            [
             0.5555555555555556,
             "#d8576b"
            ],
            [
             0.6666666666666666,
             "#ed7953"
            ],
            [
             0.7777777777777778,
             "#fb9f3a"
            ],
            [
             0.8888888888888888,
             "#fdca26"
            ],
            [
             1,
             "#f0f921"
            ]
           ]
          },
          "colorway": [
           "#636efa",
           "#EF553B",
           "#00cc96",
           "#ab63fa",
           "#FFA15A",
           "#19d3f3",
           "#FF6692",
           "#B6E880",
           "#FF97FF",
           "#FECB52"
          ],
          "font": {
           "color": "#2a3f5f"
          },
          "geo": {
           "bgcolor": "white",
           "lakecolor": "white",
           "landcolor": "#E5ECF6",
           "showlakes": true,
           "showland": true,
           "subunitcolor": "white"
          },
          "hoverlabel": {
           "align": "left"
          },
          "hovermode": "closest",
          "mapbox": {
           "style": "light"
          },
          "paper_bgcolor": "white",
          "plot_bgcolor": "#E5ECF6",
          "polar": {
           "angularaxis": {
            "gridcolor": "white",
            "linecolor": "white",
            "ticks": ""
           },
           "bgcolor": "#E5ECF6",
           "radialaxis": {
            "gridcolor": "white",
            "linecolor": "white",
            "ticks": ""
           }
          },
          "scene": {
           "xaxis": {
            "backgroundcolor": "#E5ECF6",
            "gridcolor": "white",
            "gridwidth": 2,
            "linecolor": "white",
            "showbackground": true,
            "ticks": "",
            "zerolinecolor": "white"
           },
           "yaxis": {
            "backgroundcolor": "#E5ECF6",
            "gridcolor": "white",
            "gridwidth": 2,
            "linecolor": "white",
            "showbackground": true,
            "ticks": "",
            "zerolinecolor": "white"
           },
           "zaxis": {
            "backgroundcolor": "#E5ECF6",
            "gridcolor": "white",
            "gridwidth": 2,
            "linecolor": "white",
            "showbackground": true,
            "ticks": "",
            "zerolinecolor": "white"
           }
          },
          "shapedefaults": {
           "line": {
            "color": "#2a3f5f"
           }
          },
          "ternary": {
           "aaxis": {
            "gridcolor": "white",
            "linecolor": "white",
            "ticks": ""
           },
           "baxis": {
            "gridcolor": "white",
            "linecolor": "white",
            "ticks": ""
           },
           "bgcolor": "#E5ECF6",
           "caxis": {
            "gridcolor": "white",
            "linecolor": "white",
            "ticks": ""
           }
          },
          "title": {
           "x": 0.05
          },
          "xaxis": {
           "automargin": true,
           "gridcolor": "white",
           "linecolor": "white",
           "ticks": "",
           "title": {
            "standoff": 15
           },
           "zerolinecolor": "white",
           "zerolinewidth": 2
          },
          "yaxis": {
           "automargin": true,
           "gridcolor": "white",
           "linecolor": "white",
           "ticks": "",
           "title": {
            "standoff": 15
           },
           "zerolinecolor": "white",
           "zerolinewidth": 2
          }
         }
        },
        "title": {
         "text": "World Deaths"
        },
        "updatemenus": [
         {
          "active": 0,
          "buttons": [
           {
            "args": [
             {
              "visible": [
               true,
               true
              ]
             },
             {
              "yaxis": {
               "type": "linear"
              }
             }
            ],
            "label": "Linear Scale",
            "method": "update"
           },
           {
            "args": [
             {
              "visible": [
               true,
               true
              ]
             },
             {
              "yaxis": {
               "type": "log"
              }
             }
            ],
            "label": "Logarithmic Scale",
            "method": "update"
           }
          ],
          "direction": "right",
          "type": "buttons",
          "x": 0.45,
          "xanchor": "left",
          "y": 1.1,
          "yanchor": "top"
         }
        ]
       }
      },
      "text/html": [
       "<div>\n",
       "        \n",
       "        \n",
       "            <div id=\"71c4d41e-3e87-4284-be31-bdce7394d1c3\" class=\"plotly-graph-div\" style=\"height:525px; width:100%;\"></div>\n",
       "            <script type=\"text/javascript\">\n",
       "                require([\"plotly\"], function(Plotly) {\n",
       "                    window.PLOTLYENV=window.PLOTLYENV || {};\n",
       "                    \n",
       "                if (document.getElementById(\"71c4d41e-3e87-4284-be31-bdce7394d1c3\")) {\n",
       "                    Plotly.newPlot(\n",
       "                        '71c4d41e-3e87-4284-be31-bdce7394d1c3',\n",
       "                        [{\"name\": \"Italy\", \"type\": \"scatter\", \"x\": [\"3/2/20\", \"3/3/20\", \"3/4/20\", \"3/5/20\", \"3/6/20\", \"3/7/20\", \"3/8/20\", \"3/9/20\", \"3/10/20\", \"3/11/20\", \"3/12/20\", \"3/13/20\", \"3/14/20\", \"3/15/20\", \"3/16/20\", \"3/17/20\", \"3/18/20\", \"3/19/20\", \"3/20/20\", \"3/21/20\", \"3/22/20\", \"3/23/20\", \"3/24/20\", \"3/25/20\", \"3/26/20\", \"3/27/20\", \"3/28/20\", \"3/29/20\", \"3/30/20\", \"3/31/20\", \"4/1/20\"], \"y\": [52.0, 79.0, 107.0, 148.0, 197.0, 233.0, 366.0, 463.0, 631.0, 827.0, 827.0, 1266.0, 1441.0, 1809.0, 2158.0, 2503.0, 2978.0, 3405.0, 4032.0, 4825.0, 5476.0, 6077.0, 6820.0, 7503.0, 8215.0, 9134.0, 10023.0, 10779.0, 11591.0, 12428.0, 13155.0]}, {\"name\": \"Spain\", \"type\": \"scatter\", \"x\": [\"3/2/20\", \"3/3/20\", \"3/4/20\", \"3/5/20\", \"3/6/20\", \"3/7/20\", \"3/8/20\", \"3/9/20\", \"3/10/20\", \"3/11/20\", \"3/12/20\", \"3/13/20\", \"3/14/20\", \"3/15/20\", \"3/16/20\", \"3/17/20\", \"3/18/20\", \"3/19/20\", \"3/20/20\", \"3/21/20\", \"3/22/20\", \"3/23/20\", \"3/24/20\", \"3/25/20\", \"3/26/20\", \"3/27/20\", \"3/28/20\", \"3/29/20\", \"3/30/20\", \"3/31/20\", \"4/1/20\"], \"y\": [0.0, 1.0, 2.0, 3.0, 5.0, 10.0, 17.0, 28.0, 35.0, 54.0, 55.0, 133.0, 195.0, 289.0, 342.0, 533.0, 623.0, 830.0, 1043.0, 1375.0, 1772.0, 2311.0, 2808.0, 3647.0, 4365.0, 5138.0, 5982.0, 6803.0, 7716.0, 8464.0, 9387.0]}, {\"name\": \"US\", \"type\": \"scatter\", \"x\": [\"3/2/20\", \"3/3/20\", \"3/4/20\", \"3/5/20\", \"3/6/20\", \"3/7/20\", \"3/8/20\", \"3/9/20\", \"3/10/20\", \"3/11/20\", \"3/12/20\", \"3/13/20\", \"3/14/20\", \"3/15/20\", \"3/16/20\", \"3/17/20\", \"3/18/20\", \"3/19/20\", \"3/20/20\", \"3/21/20\", \"3/22/20\", \"3/23/20\", \"3/24/20\", \"3/25/20\", \"3/26/20\", \"3/27/20\", \"3/28/20\", \"3/29/20\", \"3/30/20\", \"3/31/20\", \"4/1/20\"], \"y\": [6.0, 7.0, 11.0, 12.0, 14.0, 17.0, 21.0, 22.0, 28.0, 36.0, 40.0, 47.0, 54.0, 63.0, 85.0, 108.0, 118.0, 200.0, 244.0, 307.0, 417.0, 557.0, 706.0, 942.0, 1209.0, 1581.0, 2026.0, 2467.0, 2978.0, 3873.0, 4757.0]}, {\"name\": \"France\", \"type\": \"scatter\", \"x\": [\"3/2/20\", \"3/3/20\", \"3/4/20\", \"3/5/20\", \"3/6/20\", \"3/7/20\", \"3/8/20\", \"3/9/20\", \"3/10/20\", \"3/11/20\", \"3/12/20\", \"3/13/20\", \"3/14/20\", \"3/15/20\", \"3/16/20\", \"3/17/20\", \"3/18/20\", \"3/19/20\", \"3/20/20\", \"3/21/20\", \"3/22/20\", \"3/23/20\", \"3/24/20\", \"3/25/20\", \"3/26/20\", \"3/27/20\", \"3/28/20\", \"3/29/20\", \"3/30/20\", \"3/31/20\", \"4/1/20\"], \"y\": [3.0, 4.0, 4.0, 6.0, 9.0, 11.0, 19.0, 19.0, 33.0, 48.0, 48.0, 79.0, 91.0, 91.0, 148.0, 148.0, 148.0, 243.0, 450.0, 562.0, 674.0, 860.0, 1100.0, 1331.0, 1696.0, 1995.0, 2314.0, 2606.0, 3024.0, 3523.0, 4032.0]}, {\"name\": \"China\", \"type\": \"scatter\", \"x\": [\"3/2/20\", \"3/3/20\", \"3/4/20\", \"3/5/20\", \"3/6/20\", \"3/7/20\", \"3/8/20\", \"3/9/20\", \"3/10/20\", \"3/11/20\", \"3/12/20\", \"3/13/20\", \"3/14/20\", \"3/15/20\", \"3/16/20\", \"3/17/20\", \"3/18/20\", \"3/19/20\", \"3/20/20\", \"3/21/20\", \"3/22/20\", \"3/23/20\", \"3/24/20\", \"3/25/20\", \"3/26/20\", \"3/27/20\", \"3/28/20\", \"3/29/20\", \"3/30/20\", \"3/31/20\", \"4/1/20\"], \"y\": [2914.0, 2947.0, 2983.0, 3015.0, 3044.0, 3072.0, 3100.0, 3123.0, 3139.0, 3161.0, 3172.0, 3180.0, 3193.0, 3203.0, 3217.0, 3230.0, 3241.0, 3249.0, 3253.0, 3259.0, 3274.0, 3274.0, 3281.0, 3285.0, 3291.0, 3296.0, 3299.0, 3304.0, 3308.0, 3309.0, 3316.0]}, {\"name\": \"Iran\", \"type\": \"scatter\", \"x\": [\"3/2/20\", \"3/3/20\", \"3/4/20\", \"3/5/20\", \"3/6/20\", \"3/7/20\", \"3/8/20\", \"3/9/20\", \"3/10/20\", \"3/11/20\", \"3/12/20\", \"3/13/20\", \"3/14/20\", \"3/15/20\", \"3/16/20\", \"3/17/20\", \"3/18/20\", \"3/19/20\", \"3/20/20\", \"3/21/20\", \"3/22/20\", \"3/23/20\", \"3/24/20\", \"3/25/20\", \"3/26/20\", \"3/27/20\", \"3/28/20\", \"3/29/20\", \"3/30/20\", \"3/31/20\", \"4/1/20\"], \"y\": [66.0, 77.0, 92.0, 107.0, 124.0, 145.0, 194.0, 237.0, 291.0, 354.0, 429.0, 514.0, 611.0, 724.0, 853.0, 988.0, 1135.0, 1284.0, 1433.0, 1556.0, 1685.0, 1812.0, 1934.0, 2077.0, 2234.0, 2378.0, 2517.0, 2640.0, 2757.0, 2898.0, 3036.0]}, {\"name\": \"United Kingdom\", \"type\": \"scatter\", \"x\": [\"3/2/20\", \"3/3/20\", \"3/4/20\", \"3/5/20\", \"3/6/20\", \"3/7/20\", \"3/8/20\", \"3/9/20\", \"3/10/20\", \"3/11/20\", \"3/12/20\", \"3/13/20\", \"3/14/20\", \"3/15/20\", \"3/16/20\", \"3/17/20\", \"3/18/20\", \"3/19/20\", \"3/20/20\", \"3/21/20\", \"3/22/20\", \"3/23/20\", \"3/24/20\", \"3/25/20\", \"3/26/20\", \"3/27/20\", \"3/28/20\", \"3/29/20\", \"3/30/20\", \"3/31/20\", \"4/1/20\"], \"y\": [0.0, 0.0, 0.0, 1.0, 2.0, 2.0, 3.0, 4.0, 6.0, 8.0, 8.0, 8.0, 21.0, 21.0, 55.0, 55.0, 71.0, 137.0, 177.0, 233.0, 281.0, 335.0, 422.0, 465.0, 578.0, 759.0, 1019.0, 1228.0, 1408.0, 1789.0, 2352.0]}, {\"name\": \"Netherlands\", \"type\": \"scatter\", \"x\": [\"3/2/20\", \"3/3/20\", \"3/4/20\", \"3/5/20\", \"3/6/20\", \"3/7/20\", \"3/8/20\", \"3/9/20\", \"3/10/20\", \"3/11/20\", \"3/12/20\", \"3/13/20\", \"3/14/20\", \"3/15/20\", \"3/16/20\", \"3/17/20\", \"3/18/20\", \"3/19/20\", \"3/20/20\", \"3/21/20\", \"3/22/20\", \"3/23/20\", \"3/24/20\", \"3/25/20\", \"3/26/20\", \"3/27/20\", \"3/28/20\", \"3/29/20\", \"3/30/20\", \"3/31/20\", \"4/1/20\"], \"y\": [0.0, 0.0, 0.0, 0.0, 1.0, 1.0, 3.0, 3.0, 4.0, 5.0, 5.0, 10.0, 12.0, 20.0, 24.0, 43.0, 58.0, 76.0, 106.0, 136.0, 179.0, 213.0, 276.0, 356.0, 434.0, 546.0, 639.0, 771.0, 864.0, 1039.0, 1173.0]}, {\"name\": \"Germany\", \"type\": \"scatter\", \"x\": [\"3/2/20\", \"3/3/20\", \"3/4/20\", \"3/5/20\", \"3/6/20\", \"3/7/20\", \"3/8/20\", \"3/9/20\", \"3/10/20\", \"3/11/20\", \"3/12/20\", \"3/13/20\", \"3/14/20\", \"3/15/20\", \"3/16/20\", \"3/17/20\", \"3/18/20\", \"3/19/20\", \"3/20/20\", \"3/21/20\", \"3/22/20\", \"3/23/20\", \"3/24/20\", \"3/25/20\", \"3/26/20\", \"3/27/20\", \"3/28/20\", \"3/29/20\", \"3/30/20\", \"3/31/20\", \"4/1/20\"], \"y\": [0.0, 0.0, 0.0, 0.0, 0.0, 0.0, 0.0, 2.0, 2.0, 3.0, 3.0, 7.0, 9.0, 11.0, 17.0, 24.0, 28.0, 44.0, 67.0, 84.0, 94.0, 123.0, 157.0, 206.0, 267.0, 342.0, 433.0, 533.0, 645.0, 775.0, 920.0]}, {\"name\": \"Belgium\", \"type\": \"scatter\", \"x\": [\"3/2/20\", \"3/3/20\", \"3/4/20\", \"3/5/20\", \"3/6/20\", \"3/7/20\", \"3/8/20\", \"3/9/20\", \"3/10/20\", \"3/11/20\", \"3/12/20\", \"3/13/20\", \"3/14/20\", \"3/15/20\", \"3/16/20\", \"3/17/20\", \"3/18/20\", \"3/19/20\", \"3/20/20\", \"3/21/20\", \"3/22/20\", \"3/23/20\", \"3/24/20\", \"3/25/20\", \"3/26/20\", \"3/27/20\", \"3/28/20\", \"3/29/20\", \"3/30/20\", \"3/31/20\", \"4/1/20\"], \"y\": [0.0, 0.0, 0.0, 0.0, 0.0, 0.0, 0.0, 0.0, 0.0, 3.0, 3.0, 3.0, 4.0, 4.0, 5.0, 10.0, 14.0, 21.0, 37.0, 67.0, 75.0, 88.0, 122.0, 178.0, 220.0, 289.0, 353.0, 431.0, 513.0, 705.0, 828.0]}, {\"name\": \"Switzerland\", \"type\": \"scatter\", \"x\": [\"3/2/20\", \"3/3/20\", \"3/4/20\", \"3/5/20\", \"3/6/20\", \"3/7/20\", \"3/8/20\", \"3/9/20\", \"3/10/20\", \"3/11/20\", \"3/12/20\", \"3/13/20\", \"3/14/20\", \"3/15/20\", \"3/16/20\", \"3/17/20\", \"3/18/20\", \"3/19/20\", \"3/20/20\", \"3/21/20\", \"3/22/20\", \"3/23/20\", \"3/24/20\", \"3/25/20\", \"3/26/20\", \"3/27/20\", \"3/28/20\", \"3/29/20\", \"3/30/20\", \"3/31/20\", \"4/1/20\"], \"y\": [0.0, 0.0, 0.0, 1.0, 1.0, 1.0, 2.0, 2.0, 3.0, 4.0, 4.0, 11.0, 13.0, 14.0, 14.0, 27.0, 28.0, 41.0, 54.0, 75.0, 98.0, 120.0, 122.0, 153.0, 191.0, 231.0, 264.0, 300.0, 359.0, 433.0, 488.0]}],\n",
       "                        {\"template\": {\"data\": {\"bar\": [{\"error_x\": {\"color\": \"#2a3f5f\"}, \"error_y\": {\"color\": \"#2a3f5f\"}, \"marker\": {\"line\": {\"color\": \"#E5ECF6\", \"width\": 0.5}}, \"type\": \"bar\"}], \"barpolar\": [{\"marker\": {\"line\": {\"color\": \"#E5ECF6\", \"width\": 0.5}}, \"type\": \"barpolar\"}], \"carpet\": [{\"aaxis\": {\"endlinecolor\": \"#2a3f5f\", \"gridcolor\": \"white\", \"linecolor\": \"white\", \"minorgridcolor\": \"white\", \"startlinecolor\": \"#2a3f5f\"}, \"baxis\": {\"endlinecolor\": \"#2a3f5f\", \"gridcolor\": \"white\", \"linecolor\": \"white\", \"minorgridcolor\": \"white\", \"startlinecolor\": \"#2a3f5f\"}, \"type\": \"carpet\"}], \"choropleth\": [{\"colorbar\": {\"outlinewidth\": 0, \"ticks\": \"\"}, \"type\": \"choropleth\"}], \"contour\": [{\"colorbar\": {\"outlinewidth\": 0, \"ticks\": \"\"}, \"colorscale\": [[0.0, \"#0d0887\"], [0.1111111111111111, \"#46039f\"], [0.2222222222222222, \"#7201a8\"], [0.3333333333333333, \"#9c179e\"], [0.4444444444444444, \"#bd3786\"], [0.5555555555555556, \"#d8576b\"], [0.6666666666666666, \"#ed7953\"], [0.7777777777777778, \"#fb9f3a\"], [0.8888888888888888, \"#fdca26\"], [1.0, \"#f0f921\"]], \"type\": \"contour\"}], \"contourcarpet\": [{\"colorbar\": {\"outlinewidth\": 0, \"ticks\": \"\"}, \"type\": \"contourcarpet\"}], \"heatmap\": [{\"colorbar\": {\"outlinewidth\": 0, \"ticks\": \"\"}, \"colorscale\": [[0.0, \"#0d0887\"], [0.1111111111111111, \"#46039f\"], [0.2222222222222222, \"#7201a8\"], [0.3333333333333333, \"#9c179e\"], [0.4444444444444444, \"#bd3786\"], [0.5555555555555556, \"#d8576b\"], [0.6666666666666666, \"#ed7953\"], [0.7777777777777778, \"#fb9f3a\"], [0.8888888888888888, \"#fdca26\"], [1.0, \"#f0f921\"]], \"type\": \"heatmap\"}], \"heatmapgl\": [{\"colorbar\": {\"outlinewidth\": 0, \"ticks\": \"\"}, \"colorscale\": [[0.0, \"#0d0887\"], [0.1111111111111111, \"#46039f\"], [0.2222222222222222, \"#7201a8\"], [0.3333333333333333, \"#9c179e\"], [0.4444444444444444, \"#bd3786\"], [0.5555555555555556, \"#d8576b\"], [0.6666666666666666, \"#ed7953\"], [0.7777777777777778, \"#fb9f3a\"], [0.8888888888888888, \"#fdca26\"], [1.0, \"#f0f921\"]], \"type\": \"heatmapgl\"}], \"histogram\": [{\"marker\": {\"colorbar\": {\"outlinewidth\": 0, \"ticks\": \"\"}}, \"type\": \"histogram\"}], \"histogram2d\": [{\"colorbar\": {\"outlinewidth\": 0, \"ticks\": \"\"}, \"colorscale\": [[0.0, \"#0d0887\"], [0.1111111111111111, \"#46039f\"], [0.2222222222222222, \"#7201a8\"], [0.3333333333333333, \"#9c179e\"], [0.4444444444444444, \"#bd3786\"], [0.5555555555555556, \"#d8576b\"], [0.6666666666666666, \"#ed7953\"], [0.7777777777777778, \"#fb9f3a\"], [0.8888888888888888, \"#fdca26\"], [1.0, \"#f0f921\"]], \"type\": \"histogram2d\"}], \"histogram2dcontour\": [{\"colorbar\": {\"outlinewidth\": 0, \"ticks\": \"\"}, \"colorscale\": [[0.0, \"#0d0887\"], [0.1111111111111111, \"#46039f\"], [0.2222222222222222, \"#7201a8\"], [0.3333333333333333, \"#9c179e\"], [0.4444444444444444, \"#bd3786\"], [0.5555555555555556, \"#d8576b\"], [0.6666666666666666, \"#ed7953\"], [0.7777777777777778, \"#fb9f3a\"], [0.8888888888888888, \"#fdca26\"], [1.0, \"#f0f921\"]], \"type\": \"histogram2dcontour\"}], \"mesh3d\": [{\"colorbar\": {\"outlinewidth\": 0, \"ticks\": \"\"}, \"type\": \"mesh3d\"}], \"parcoords\": [{\"line\": {\"colorbar\": {\"outlinewidth\": 0, \"ticks\": \"\"}}, \"type\": \"parcoords\"}], \"pie\": [{\"automargin\": true, \"type\": \"pie\"}], \"scatter\": [{\"marker\": {\"colorbar\": {\"outlinewidth\": 0, \"ticks\": \"\"}}, \"type\": \"scatter\"}], \"scatter3d\": [{\"line\": {\"colorbar\": {\"outlinewidth\": 0, \"ticks\": \"\"}}, \"marker\": {\"colorbar\": {\"outlinewidth\": 0, \"ticks\": \"\"}}, \"type\": \"scatter3d\"}], \"scattercarpet\": [{\"marker\": {\"colorbar\": {\"outlinewidth\": 0, \"ticks\": \"\"}}, \"type\": \"scattercarpet\"}], \"scattergeo\": [{\"marker\": {\"colorbar\": {\"outlinewidth\": 0, \"ticks\": \"\"}}, \"type\": \"scattergeo\"}], \"scattergl\": [{\"marker\": {\"colorbar\": {\"outlinewidth\": 0, \"ticks\": \"\"}}, \"type\": \"scattergl\"}], \"scattermapbox\": [{\"marker\": {\"colorbar\": {\"outlinewidth\": 0, \"ticks\": \"\"}}, \"type\": \"scattermapbox\"}], \"scatterpolar\": [{\"marker\": {\"colorbar\": {\"outlinewidth\": 0, \"ticks\": \"\"}}, \"type\": \"scatterpolar\"}], \"scatterpolargl\": [{\"marker\": {\"colorbar\": {\"outlinewidth\": 0, \"ticks\": \"\"}}, \"type\": \"scatterpolargl\"}], \"scatterternary\": [{\"marker\": {\"colorbar\": {\"outlinewidth\": 0, \"ticks\": \"\"}}, \"type\": \"scatterternary\"}], \"surface\": [{\"colorbar\": {\"outlinewidth\": 0, \"ticks\": \"\"}, \"colorscale\": [[0.0, \"#0d0887\"], [0.1111111111111111, \"#46039f\"], [0.2222222222222222, \"#7201a8\"], [0.3333333333333333, \"#9c179e\"], [0.4444444444444444, \"#bd3786\"], [0.5555555555555556, \"#d8576b\"], [0.6666666666666666, \"#ed7953\"], [0.7777777777777778, \"#fb9f3a\"], [0.8888888888888888, \"#fdca26\"], [1.0, \"#f0f921\"]], \"type\": \"surface\"}], \"table\": [{\"cells\": {\"fill\": {\"color\": \"#EBF0F8\"}, \"line\": {\"color\": \"white\"}}, \"header\": {\"fill\": {\"color\": \"#C8D4E3\"}, \"line\": {\"color\": \"white\"}}, \"type\": \"table\"}]}, \"layout\": {\"annotationdefaults\": {\"arrowcolor\": \"#2a3f5f\", \"arrowhead\": 0, \"arrowwidth\": 1}, \"coloraxis\": {\"colorbar\": {\"outlinewidth\": 0, \"ticks\": \"\"}}, \"colorscale\": {\"diverging\": [[0, \"#8e0152\"], [0.1, \"#c51b7d\"], [0.2, \"#de77ae\"], [0.3, \"#f1b6da\"], [0.4, \"#fde0ef\"], [0.5, \"#f7f7f7\"], [0.6, \"#e6f5d0\"], [0.7, \"#b8e186\"], [0.8, \"#7fbc41\"], [0.9, \"#4d9221\"], [1, \"#276419\"]], \"sequential\": [[0.0, \"#0d0887\"], [0.1111111111111111, \"#46039f\"], [0.2222222222222222, \"#7201a8\"], [0.3333333333333333, \"#9c179e\"], [0.4444444444444444, \"#bd3786\"], [0.5555555555555556, \"#d8576b\"], [0.6666666666666666, \"#ed7953\"], [0.7777777777777778, \"#fb9f3a\"], [0.8888888888888888, \"#fdca26\"], [1.0, \"#f0f921\"]], \"sequentialminus\": [[0.0, \"#0d0887\"], [0.1111111111111111, \"#46039f\"], [0.2222222222222222, \"#7201a8\"], [0.3333333333333333, \"#9c179e\"], [0.4444444444444444, \"#bd3786\"], [0.5555555555555556, \"#d8576b\"], [0.6666666666666666, \"#ed7953\"], [0.7777777777777778, \"#fb9f3a\"], [0.8888888888888888, \"#fdca26\"], [1.0, \"#f0f921\"]]}, \"colorway\": [\"#636efa\", \"#EF553B\", \"#00cc96\", \"#ab63fa\", \"#FFA15A\", \"#19d3f3\", \"#FF6692\", \"#B6E880\", \"#FF97FF\", \"#FECB52\"], \"font\": {\"color\": \"#2a3f5f\"}, \"geo\": {\"bgcolor\": \"white\", \"lakecolor\": \"white\", \"landcolor\": \"#E5ECF6\", \"showlakes\": true, \"showland\": true, \"subunitcolor\": \"white\"}, \"hoverlabel\": {\"align\": \"left\"}, \"hovermode\": \"closest\", \"mapbox\": {\"style\": \"light\"}, \"paper_bgcolor\": \"white\", \"plot_bgcolor\": \"#E5ECF6\", \"polar\": {\"angularaxis\": {\"gridcolor\": \"white\", \"linecolor\": \"white\", \"ticks\": \"\"}, \"bgcolor\": \"#E5ECF6\", \"radialaxis\": {\"gridcolor\": \"white\", \"linecolor\": \"white\", \"ticks\": \"\"}}, \"scene\": {\"xaxis\": {\"backgroundcolor\": \"#E5ECF6\", \"gridcolor\": \"white\", \"gridwidth\": 2, \"linecolor\": \"white\", \"showbackground\": true, \"ticks\": \"\", \"zerolinecolor\": \"white\"}, \"yaxis\": {\"backgroundcolor\": \"#E5ECF6\", \"gridcolor\": \"white\", \"gridwidth\": 2, \"linecolor\": \"white\", \"showbackground\": true, \"ticks\": \"\", \"zerolinecolor\": \"white\"}, \"zaxis\": {\"backgroundcolor\": \"#E5ECF6\", \"gridcolor\": \"white\", \"gridwidth\": 2, \"linecolor\": \"white\", \"showbackground\": true, \"ticks\": \"\", \"zerolinecolor\": \"white\"}}, \"shapedefaults\": {\"line\": {\"color\": \"#2a3f5f\"}}, \"ternary\": {\"aaxis\": {\"gridcolor\": \"white\", \"linecolor\": \"white\", \"ticks\": \"\"}, \"baxis\": {\"gridcolor\": \"white\", \"linecolor\": \"white\", \"ticks\": \"\"}, \"bgcolor\": \"#E5ECF6\", \"caxis\": {\"gridcolor\": \"white\", \"linecolor\": \"white\", \"ticks\": \"\"}}, \"title\": {\"x\": 0.05}, \"xaxis\": {\"automargin\": true, \"gridcolor\": \"white\", \"linecolor\": \"white\", \"ticks\": \"\", \"title\": {\"standoff\": 15}, \"zerolinecolor\": \"white\", \"zerolinewidth\": 2}, \"yaxis\": {\"automargin\": true, \"gridcolor\": \"white\", \"linecolor\": \"white\", \"ticks\": \"\", \"title\": {\"standoff\": 15}, \"zerolinecolor\": \"white\", \"zerolinewidth\": 2}}}, \"title\": {\"text\": \"World Deaths\"}, \"updatemenus\": [{\"active\": 0, \"buttons\": [{\"args\": [{\"visible\": [true, true]}, {\"yaxis\": {\"type\": \"linear\"}}], \"label\": \"Linear Scale\", \"method\": \"update\"}, {\"args\": [{\"visible\": [true, true]}, {\"yaxis\": {\"type\": \"log\"}}], \"label\": \"Logarithmic Scale\", \"method\": \"update\"}], \"direction\": \"right\", \"type\": \"buttons\", \"x\": 0.45, \"xanchor\": \"left\", \"y\": 1.1, \"yanchor\": \"top\"}]},\n",
       "                        {\"responsive\": true}\n",
       "                    ).then(function(){\n",
       "                            \n",
       "var gd = document.getElementById('71c4d41e-3e87-4284-be31-bdce7394d1c3');\n",
       "var x = new MutationObserver(function (mutations, observer) {{\n",
       "        var display = window.getComputedStyle(gd).display;\n",
       "        if (!display || display === 'none') {{\n",
       "            console.log([gd, 'removed!']);\n",
       "            Plotly.purge(gd);\n",
       "            observer.disconnect();\n",
       "        }}\n",
       "}});\n",
       "\n",
       "// Listen for the removal of the full notebook cells\n",
       "var notebookContainer = gd.closest('#notebook-container');\n",
       "if (notebookContainer) {{\n",
       "    x.observe(notebookContainer, {childList: true});\n",
       "}}\n",
       "\n",
       "// Listen for the clearing of the current output cell\n",
       "var outputEl = gd.closest('.output');\n",
       "if (outputEl) {{\n",
       "    x.observe(outputEl, {childList: true});\n",
       "}}\n",
       "\n",
       "                        })\n",
       "                };\n",
       "                });\n",
       "            </script>\n",
       "        </div>"
      ]
     },
     "metadata": {},
     "output_type": "display_data"
    },
    {
     "data": {
      "text/html": [
       "<style  type=\"text/css\" >\n",
       "</style><table id=\"T_2474c5dc_74a9_11ea_8e86_c49ded93ade6\" ><thead>    <tr>        <th class=\"blank level0\" ></th>        <th class=\"col_heading level0 col0\" >3/2/20</th>        <th class=\"col_heading level0 col1\" >3/3/20</th>        <th class=\"col_heading level0 col2\" >3/4/20</th>        <th class=\"col_heading level0 col3\" >3/5/20</th>        <th class=\"col_heading level0 col4\" >3/6/20</th>        <th class=\"col_heading level0 col5\" >3/7/20</th>        <th class=\"col_heading level0 col6\" >3/8/20</th>        <th class=\"col_heading level0 col7\" >3/9/20</th>        <th class=\"col_heading level0 col8\" >3/10/20</th>        <th class=\"col_heading level0 col9\" >3/11/20</th>        <th class=\"col_heading level0 col10\" >3/12/20</th>        <th class=\"col_heading level0 col11\" >3/13/20</th>        <th class=\"col_heading level0 col12\" >3/14/20</th>        <th class=\"col_heading level0 col13\" >3/15/20</th>        <th class=\"col_heading level0 col14\" >3/16/20</th>        <th class=\"col_heading level0 col15\" >3/17/20</th>        <th class=\"col_heading level0 col16\" >3/18/20</th>        <th class=\"col_heading level0 col17\" >3/19/20</th>        <th class=\"col_heading level0 col18\" >3/20/20</th>        <th class=\"col_heading level0 col19\" >3/21/20</th>        <th class=\"col_heading level0 col20\" >3/22/20</th>        <th class=\"col_heading level0 col21\" >3/23/20</th>        <th class=\"col_heading level0 col22\" >3/24/20</th>        <th class=\"col_heading level0 col23\" >3/25/20</th>        <th class=\"col_heading level0 col24\" >3/26/20</th>        <th class=\"col_heading level0 col25\" >3/27/20</th>        <th class=\"col_heading level0 col26\" >3/28/20</th>        <th class=\"col_heading level0 col27\" >3/29/20</th>        <th class=\"col_heading level0 col28\" >3/30/20</th>        <th class=\"col_heading level0 col29\" >3/31/20</th>        <th class=\"col_heading level0 col30\" >4/1/20</th>    </tr>    <tr>        <th class=\"index_name level0\" >Country/Region</th>        <th class=\"blank\" ></th>        <th class=\"blank\" ></th>        <th class=\"blank\" ></th>        <th class=\"blank\" ></th>        <th class=\"blank\" ></th>        <th class=\"blank\" ></th>        <th class=\"blank\" ></th>        <th class=\"blank\" ></th>        <th class=\"blank\" ></th>        <th class=\"blank\" ></th>        <th class=\"blank\" ></th>        <th class=\"blank\" ></th>        <th class=\"blank\" ></th>        <th class=\"blank\" ></th>        <th class=\"blank\" ></th>        <th class=\"blank\" ></th>        <th class=\"blank\" ></th>        <th class=\"blank\" ></th>        <th class=\"blank\" ></th>        <th class=\"blank\" ></th>        <th class=\"blank\" ></th>        <th class=\"blank\" ></th>        <th class=\"blank\" ></th>        <th class=\"blank\" ></th>        <th class=\"blank\" ></th>        <th class=\"blank\" ></th>        <th class=\"blank\" ></th>        <th class=\"blank\" ></th>        <th class=\"blank\" ></th>        <th class=\"blank\" ></th>        <th class=\"blank\" ></th>    </tr></thead><tbody>\n",
       "                <tr>\n",
       "                        <th id=\"T_2474c5dc_74a9_11ea_8e86_c49ded93ade6level0_row0\" class=\"row_heading level0 row0\" >Italy</th>\n",
       "                        <td id=\"T_2474c5dc_74a9_11ea_8e86_c49ded93ade6row0_col0\" class=\"data row0 col0\" >52</td>\n",
       "                        <td id=\"T_2474c5dc_74a9_11ea_8e86_c49ded93ade6row0_col1\" class=\"data row0 col1\" >79</td>\n",
       "                        <td id=\"T_2474c5dc_74a9_11ea_8e86_c49ded93ade6row0_col2\" class=\"data row0 col2\" >107</td>\n",
       "                        <td id=\"T_2474c5dc_74a9_11ea_8e86_c49ded93ade6row0_col3\" class=\"data row0 col3\" >148</td>\n",
       "                        <td id=\"T_2474c5dc_74a9_11ea_8e86_c49ded93ade6row0_col4\" class=\"data row0 col4\" >197</td>\n",
       "                        <td id=\"T_2474c5dc_74a9_11ea_8e86_c49ded93ade6row0_col5\" class=\"data row0 col5\" >233</td>\n",
       "                        <td id=\"T_2474c5dc_74a9_11ea_8e86_c49ded93ade6row0_col6\" class=\"data row0 col6\" >366</td>\n",
       "                        <td id=\"T_2474c5dc_74a9_11ea_8e86_c49ded93ade6row0_col7\" class=\"data row0 col7\" >463</td>\n",
       "                        <td id=\"T_2474c5dc_74a9_11ea_8e86_c49ded93ade6row0_col8\" class=\"data row0 col8\" >631</td>\n",
       "                        <td id=\"T_2474c5dc_74a9_11ea_8e86_c49ded93ade6row0_col9\" class=\"data row0 col9\" >827</td>\n",
       "                        <td id=\"T_2474c5dc_74a9_11ea_8e86_c49ded93ade6row0_col10\" class=\"data row0 col10\" >827</td>\n",
       "                        <td id=\"T_2474c5dc_74a9_11ea_8e86_c49ded93ade6row0_col11\" class=\"data row0 col11\" >1,266</td>\n",
       "                        <td id=\"T_2474c5dc_74a9_11ea_8e86_c49ded93ade6row0_col12\" class=\"data row0 col12\" >1,441</td>\n",
       "                        <td id=\"T_2474c5dc_74a9_11ea_8e86_c49ded93ade6row0_col13\" class=\"data row0 col13\" >1,809</td>\n",
       "                        <td id=\"T_2474c5dc_74a9_11ea_8e86_c49ded93ade6row0_col14\" class=\"data row0 col14\" >2,158</td>\n",
       "                        <td id=\"T_2474c5dc_74a9_11ea_8e86_c49ded93ade6row0_col15\" class=\"data row0 col15\" >2,503</td>\n",
       "                        <td id=\"T_2474c5dc_74a9_11ea_8e86_c49ded93ade6row0_col16\" class=\"data row0 col16\" >2,978</td>\n",
       "                        <td id=\"T_2474c5dc_74a9_11ea_8e86_c49ded93ade6row0_col17\" class=\"data row0 col17\" >3,405</td>\n",
       "                        <td id=\"T_2474c5dc_74a9_11ea_8e86_c49ded93ade6row0_col18\" class=\"data row0 col18\" >4,032</td>\n",
       "                        <td id=\"T_2474c5dc_74a9_11ea_8e86_c49ded93ade6row0_col19\" class=\"data row0 col19\" >4,825</td>\n",
       "                        <td id=\"T_2474c5dc_74a9_11ea_8e86_c49ded93ade6row0_col20\" class=\"data row0 col20\" >5,476</td>\n",
       "                        <td id=\"T_2474c5dc_74a9_11ea_8e86_c49ded93ade6row0_col21\" class=\"data row0 col21\" >6,077</td>\n",
       "                        <td id=\"T_2474c5dc_74a9_11ea_8e86_c49ded93ade6row0_col22\" class=\"data row0 col22\" >6,820</td>\n",
       "                        <td id=\"T_2474c5dc_74a9_11ea_8e86_c49ded93ade6row0_col23\" class=\"data row0 col23\" >7,503</td>\n",
       "                        <td id=\"T_2474c5dc_74a9_11ea_8e86_c49ded93ade6row0_col24\" class=\"data row0 col24\" >8,215</td>\n",
       "                        <td id=\"T_2474c5dc_74a9_11ea_8e86_c49ded93ade6row0_col25\" class=\"data row0 col25\" >9,134</td>\n",
       "                        <td id=\"T_2474c5dc_74a9_11ea_8e86_c49ded93ade6row0_col26\" class=\"data row0 col26\" >10,023</td>\n",
       "                        <td id=\"T_2474c5dc_74a9_11ea_8e86_c49ded93ade6row0_col27\" class=\"data row0 col27\" >10,779</td>\n",
       "                        <td id=\"T_2474c5dc_74a9_11ea_8e86_c49ded93ade6row0_col28\" class=\"data row0 col28\" >11,591</td>\n",
       "                        <td id=\"T_2474c5dc_74a9_11ea_8e86_c49ded93ade6row0_col29\" class=\"data row0 col29\" >12,428</td>\n",
       "                        <td id=\"T_2474c5dc_74a9_11ea_8e86_c49ded93ade6row0_col30\" class=\"data row0 col30\" >13,155</td>\n",
       "            </tr>\n",
       "            <tr>\n",
       "                        <th id=\"T_2474c5dc_74a9_11ea_8e86_c49ded93ade6level0_row1\" class=\"row_heading level0 row1\" >Spain</th>\n",
       "                        <td id=\"T_2474c5dc_74a9_11ea_8e86_c49ded93ade6row1_col0\" class=\"data row1 col0\" >-</td>\n",
       "                        <td id=\"T_2474c5dc_74a9_11ea_8e86_c49ded93ade6row1_col1\" class=\"data row1 col1\" >1</td>\n",
       "                        <td id=\"T_2474c5dc_74a9_11ea_8e86_c49ded93ade6row1_col2\" class=\"data row1 col2\" >2</td>\n",
       "                        <td id=\"T_2474c5dc_74a9_11ea_8e86_c49ded93ade6row1_col3\" class=\"data row1 col3\" >3</td>\n",
       "                        <td id=\"T_2474c5dc_74a9_11ea_8e86_c49ded93ade6row1_col4\" class=\"data row1 col4\" >5</td>\n",
       "                        <td id=\"T_2474c5dc_74a9_11ea_8e86_c49ded93ade6row1_col5\" class=\"data row1 col5\" >10</td>\n",
       "                        <td id=\"T_2474c5dc_74a9_11ea_8e86_c49ded93ade6row1_col6\" class=\"data row1 col6\" >17</td>\n",
       "                        <td id=\"T_2474c5dc_74a9_11ea_8e86_c49ded93ade6row1_col7\" class=\"data row1 col7\" >28</td>\n",
       "                        <td id=\"T_2474c5dc_74a9_11ea_8e86_c49ded93ade6row1_col8\" class=\"data row1 col8\" >35</td>\n",
       "                        <td id=\"T_2474c5dc_74a9_11ea_8e86_c49ded93ade6row1_col9\" class=\"data row1 col9\" >54</td>\n",
       "                        <td id=\"T_2474c5dc_74a9_11ea_8e86_c49ded93ade6row1_col10\" class=\"data row1 col10\" >55</td>\n",
       "                        <td id=\"T_2474c5dc_74a9_11ea_8e86_c49ded93ade6row1_col11\" class=\"data row1 col11\" >133</td>\n",
       "                        <td id=\"T_2474c5dc_74a9_11ea_8e86_c49ded93ade6row1_col12\" class=\"data row1 col12\" >195</td>\n",
       "                        <td id=\"T_2474c5dc_74a9_11ea_8e86_c49ded93ade6row1_col13\" class=\"data row1 col13\" >289</td>\n",
       "                        <td id=\"T_2474c5dc_74a9_11ea_8e86_c49ded93ade6row1_col14\" class=\"data row1 col14\" >342</td>\n",
       "                        <td id=\"T_2474c5dc_74a9_11ea_8e86_c49ded93ade6row1_col15\" class=\"data row1 col15\" >533</td>\n",
       "                        <td id=\"T_2474c5dc_74a9_11ea_8e86_c49ded93ade6row1_col16\" class=\"data row1 col16\" >623</td>\n",
       "                        <td id=\"T_2474c5dc_74a9_11ea_8e86_c49ded93ade6row1_col17\" class=\"data row1 col17\" >830</td>\n",
       "                        <td id=\"T_2474c5dc_74a9_11ea_8e86_c49ded93ade6row1_col18\" class=\"data row1 col18\" >1,043</td>\n",
       "                        <td id=\"T_2474c5dc_74a9_11ea_8e86_c49ded93ade6row1_col19\" class=\"data row1 col19\" >1,375</td>\n",
       "                        <td id=\"T_2474c5dc_74a9_11ea_8e86_c49ded93ade6row1_col20\" class=\"data row1 col20\" >1,772</td>\n",
       "                        <td id=\"T_2474c5dc_74a9_11ea_8e86_c49ded93ade6row1_col21\" class=\"data row1 col21\" >2,311</td>\n",
       "                        <td id=\"T_2474c5dc_74a9_11ea_8e86_c49ded93ade6row1_col22\" class=\"data row1 col22\" >2,808</td>\n",
       "                        <td id=\"T_2474c5dc_74a9_11ea_8e86_c49ded93ade6row1_col23\" class=\"data row1 col23\" >3,647</td>\n",
       "                        <td id=\"T_2474c5dc_74a9_11ea_8e86_c49ded93ade6row1_col24\" class=\"data row1 col24\" >4,365</td>\n",
       "                        <td id=\"T_2474c5dc_74a9_11ea_8e86_c49ded93ade6row1_col25\" class=\"data row1 col25\" >5,138</td>\n",
       "                        <td id=\"T_2474c5dc_74a9_11ea_8e86_c49ded93ade6row1_col26\" class=\"data row1 col26\" >5,982</td>\n",
       "                        <td id=\"T_2474c5dc_74a9_11ea_8e86_c49ded93ade6row1_col27\" class=\"data row1 col27\" >6,803</td>\n",
       "                        <td id=\"T_2474c5dc_74a9_11ea_8e86_c49ded93ade6row1_col28\" class=\"data row1 col28\" >7,716</td>\n",
       "                        <td id=\"T_2474c5dc_74a9_11ea_8e86_c49ded93ade6row1_col29\" class=\"data row1 col29\" >8,464</td>\n",
       "                        <td id=\"T_2474c5dc_74a9_11ea_8e86_c49ded93ade6row1_col30\" class=\"data row1 col30\" >9,387</td>\n",
       "            </tr>\n",
       "            <tr>\n",
       "                        <th id=\"T_2474c5dc_74a9_11ea_8e86_c49ded93ade6level0_row2\" class=\"row_heading level0 row2\" >US</th>\n",
       "                        <td id=\"T_2474c5dc_74a9_11ea_8e86_c49ded93ade6row2_col0\" class=\"data row2 col0\" >6</td>\n",
       "                        <td id=\"T_2474c5dc_74a9_11ea_8e86_c49ded93ade6row2_col1\" class=\"data row2 col1\" >7</td>\n",
       "                        <td id=\"T_2474c5dc_74a9_11ea_8e86_c49ded93ade6row2_col2\" class=\"data row2 col2\" >11</td>\n",
       "                        <td id=\"T_2474c5dc_74a9_11ea_8e86_c49ded93ade6row2_col3\" class=\"data row2 col3\" >12</td>\n",
       "                        <td id=\"T_2474c5dc_74a9_11ea_8e86_c49ded93ade6row2_col4\" class=\"data row2 col4\" >14</td>\n",
       "                        <td id=\"T_2474c5dc_74a9_11ea_8e86_c49ded93ade6row2_col5\" class=\"data row2 col5\" >17</td>\n",
       "                        <td id=\"T_2474c5dc_74a9_11ea_8e86_c49ded93ade6row2_col6\" class=\"data row2 col6\" >21</td>\n",
       "                        <td id=\"T_2474c5dc_74a9_11ea_8e86_c49ded93ade6row2_col7\" class=\"data row2 col7\" >22</td>\n",
       "                        <td id=\"T_2474c5dc_74a9_11ea_8e86_c49ded93ade6row2_col8\" class=\"data row2 col8\" >28</td>\n",
       "                        <td id=\"T_2474c5dc_74a9_11ea_8e86_c49ded93ade6row2_col9\" class=\"data row2 col9\" >36</td>\n",
       "                        <td id=\"T_2474c5dc_74a9_11ea_8e86_c49ded93ade6row2_col10\" class=\"data row2 col10\" >40</td>\n",
       "                        <td id=\"T_2474c5dc_74a9_11ea_8e86_c49ded93ade6row2_col11\" class=\"data row2 col11\" >47</td>\n",
       "                        <td id=\"T_2474c5dc_74a9_11ea_8e86_c49ded93ade6row2_col12\" class=\"data row2 col12\" >54</td>\n",
       "                        <td id=\"T_2474c5dc_74a9_11ea_8e86_c49ded93ade6row2_col13\" class=\"data row2 col13\" >63</td>\n",
       "                        <td id=\"T_2474c5dc_74a9_11ea_8e86_c49ded93ade6row2_col14\" class=\"data row2 col14\" >85</td>\n",
       "                        <td id=\"T_2474c5dc_74a9_11ea_8e86_c49ded93ade6row2_col15\" class=\"data row2 col15\" >108</td>\n",
       "                        <td id=\"T_2474c5dc_74a9_11ea_8e86_c49ded93ade6row2_col16\" class=\"data row2 col16\" >118</td>\n",
       "                        <td id=\"T_2474c5dc_74a9_11ea_8e86_c49ded93ade6row2_col17\" class=\"data row2 col17\" >200</td>\n",
       "                        <td id=\"T_2474c5dc_74a9_11ea_8e86_c49ded93ade6row2_col18\" class=\"data row2 col18\" >244</td>\n",
       "                        <td id=\"T_2474c5dc_74a9_11ea_8e86_c49ded93ade6row2_col19\" class=\"data row2 col19\" >307</td>\n",
       "                        <td id=\"T_2474c5dc_74a9_11ea_8e86_c49ded93ade6row2_col20\" class=\"data row2 col20\" >417</td>\n",
       "                        <td id=\"T_2474c5dc_74a9_11ea_8e86_c49ded93ade6row2_col21\" class=\"data row2 col21\" >557</td>\n",
       "                        <td id=\"T_2474c5dc_74a9_11ea_8e86_c49ded93ade6row2_col22\" class=\"data row2 col22\" >706</td>\n",
       "                        <td id=\"T_2474c5dc_74a9_11ea_8e86_c49ded93ade6row2_col23\" class=\"data row2 col23\" >942</td>\n",
       "                        <td id=\"T_2474c5dc_74a9_11ea_8e86_c49ded93ade6row2_col24\" class=\"data row2 col24\" >1,209</td>\n",
       "                        <td id=\"T_2474c5dc_74a9_11ea_8e86_c49ded93ade6row2_col25\" class=\"data row2 col25\" >1,581</td>\n",
       "                        <td id=\"T_2474c5dc_74a9_11ea_8e86_c49ded93ade6row2_col26\" class=\"data row2 col26\" >2,026</td>\n",
       "                        <td id=\"T_2474c5dc_74a9_11ea_8e86_c49ded93ade6row2_col27\" class=\"data row2 col27\" >2,467</td>\n",
       "                        <td id=\"T_2474c5dc_74a9_11ea_8e86_c49ded93ade6row2_col28\" class=\"data row2 col28\" >2,978</td>\n",
       "                        <td id=\"T_2474c5dc_74a9_11ea_8e86_c49ded93ade6row2_col29\" class=\"data row2 col29\" >3,873</td>\n",
       "                        <td id=\"T_2474c5dc_74a9_11ea_8e86_c49ded93ade6row2_col30\" class=\"data row2 col30\" >4,757</td>\n",
       "            </tr>\n",
       "            <tr>\n",
       "                        <th id=\"T_2474c5dc_74a9_11ea_8e86_c49ded93ade6level0_row3\" class=\"row_heading level0 row3\" >France</th>\n",
       "                        <td id=\"T_2474c5dc_74a9_11ea_8e86_c49ded93ade6row3_col0\" class=\"data row3 col0\" >3</td>\n",
       "                        <td id=\"T_2474c5dc_74a9_11ea_8e86_c49ded93ade6row3_col1\" class=\"data row3 col1\" >4</td>\n",
       "                        <td id=\"T_2474c5dc_74a9_11ea_8e86_c49ded93ade6row3_col2\" class=\"data row3 col2\" >4</td>\n",
       "                        <td id=\"T_2474c5dc_74a9_11ea_8e86_c49ded93ade6row3_col3\" class=\"data row3 col3\" >6</td>\n",
       "                        <td id=\"T_2474c5dc_74a9_11ea_8e86_c49ded93ade6row3_col4\" class=\"data row3 col4\" >9</td>\n",
       "                        <td id=\"T_2474c5dc_74a9_11ea_8e86_c49ded93ade6row3_col5\" class=\"data row3 col5\" >11</td>\n",
       "                        <td id=\"T_2474c5dc_74a9_11ea_8e86_c49ded93ade6row3_col6\" class=\"data row3 col6\" >19</td>\n",
       "                        <td id=\"T_2474c5dc_74a9_11ea_8e86_c49ded93ade6row3_col7\" class=\"data row3 col7\" >19</td>\n",
       "                        <td id=\"T_2474c5dc_74a9_11ea_8e86_c49ded93ade6row3_col8\" class=\"data row3 col8\" >33</td>\n",
       "                        <td id=\"T_2474c5dc_74a9_11ea_8e86_c49ded93ade6row3_col9\" class=\"data row3 col9\" >48</td>\n",
       "                        <td id=\"T_2474c5dc_74a9_11ea_8e86_c49ded93ade6row3_col10\" class=\"data row3 col10\" >48</td>\n",
       "                        <td id=\"T_2474c5dc_74a9_11ea_8e86_c49ded93ade6row3_col11\" class=\"data row3 col11\" >79</td>\n",
       "                        <td id=\"T_2474c5dc_74a9_11ea_8e86_c49ded93ade6row3_col12\" class=\"data row3 col12\" >91</td>\n",
       "                        <td id=\"T_2474c5dc_74a9_11ea_8e86_c49ded93ade6row3_col13\" class=\"data row3 col13\" >91</td>\n",
       "                        <td id=\"T_2474c5dc_74a9_11ea_8e86_c49ded93ade6row3_col14\" class=\"data row3 col14\" >148</td>\n",
       "                        <td id=\"T_2474c5dc_74a9_11ea_8e86_c49ded93ade6row3_col15\" class=\"data row3 col15\" >148</td>\n",
       "                        <td id=\"T_2474c5dc_74a9_11ea_8e86_c49ded93ade6row3_col16\" class=\"data row3 col16\" >148</td>\n",
       "                        <td id=\"T_2474c5dc_74a9_11ea_8e86_c49ded93ade6row3_col17\" class=\"data row3 col17\" >243</td>\n",
       "                        <td id=\"T_2474c5dc_74a9_11ea_8e86_c49ded93ade6row3_col18\" class=\"data row3 col18\" >450</td>\n",
       "                        <td id=\"T_2474c5dc_74a9_11ea_8e86_c49ded93ade6row3_col19\" class=\"data row3 col19\" >562</td>\n",
       "                        <td id=\"T_2474c5dc_74a9_11ea_8e86_c49ded93ade6row3_col20\" class=\"data row3 col20\" >674</td>\n",
       "                        <td id=\"T_2474c5dc_74a9_11ea_8e86_c49ded93ade6row3_col21\" class=\"data row3 col21\" >860</td>\n",
       "                        <td id=\"T_2474c5dc_74a9_11ea_8e86_c49ded93ade6row3_col22\" class=\"data row3 col22\" >1,100</td>\n",
       "                        <td id=\"T_2474c5dc_74a9_11ea_8e86_c49ded93ade6row3_col23\" class=\"data row3 col23\" >1,331</td>\n",
       "                        <td id=\"T_2474c5dc_74a9_11ea_8e86_c49ded93ade6row3_col24\" class=\"data row3 col24\" >1,696</td>\n",
       "                        <td id=\"T_2474c5dc_74a9_11ea_8e86_c49ded93ade6row3_col25\" class=\"data row3 col25\" >1,995</td>\n",
       "                        <td id=\"T_2474c5dc_74a9_11ea_8e86_c49ded93ade6row3_col26\" class=\"data row3 col26\" >2,314</td>\n",
       "                        <td id=\"T_2474c5dc_74a9_11ea_8e86_c49ded93ade6row3_col27\" class=\"data row3 col27\" >2,606</td>\n",
       "                        <td id=\"T_2474c5dc_74a9_11ea_8e86_c49ded93ade6row3_col28\" class=\"data row3 col28\" >3,024</td>\n",
       "                        <td id=\"T_2474c5dc_74a9_11ea_8e86_c49ded93ade6row3_col29\" class=\"data row3 col29\" >3,523</td>\n",
       "                        <td id=\"T_2474c5dc_74a9_11ea_8e86_c49ded93ade6row3_col30\" class=\"data row3 col30\" >4,032</td>\n",
       "            </tr>\n",
       "            <tr>\n",
       "                        <th id=\"T_2474c5dc_74a9_11ea_8e86_c49ded93ade6level0_row4\" class=\"row_heading level0 row4\" >China</th>\n",
       "                        <td id=\"T_2474c5dc_74a9_11ea_8e86_c49ded93ade6row4_col0\" class=\"data row4 col0\" >2,914</td>\n",
       "                        <td id=\"T_2474c5dc_74a9_11ea_8e86_c49ded93ade6row4_col1\" class=\"data row4 col1\" >2,947</td>\n",
       "                        <td id=\"T_2474c5dc_74a9_11ea_8e86_c49ded93ade6row4_col2\" class=\"data row4 col2\" >2,983</td>\n",
       "                        <td id=\"T_2474c5dc_74a9_11ea_8e86_c49ded93ade6row4_col3\" class=\"data row4 col3\" >3,015</td>\n",
       "                        <td id=\"T_2474c5dc_74a9_11ea_8e86_c49ded93ade6row4_col4\" class=\"data row4 col4\" >3,044</td>\n",
       "                        <td id=\"T_2474c5dc_74a9_11ea_8e86_c49ded93ade6row4_col5\" class=\"data row4 col5\" >3,072</td>\n",
       "                        <td id=\"T_2474c5dc_74a9_11ea_8e86_c49ded93ade6row4_col6\" class=\"data row4 col6\" >3,100</td>\n",
       "                        <td id=\"T_2474c5dc_74a9_11ea_8e86_c49ded93ade6row4_col7\" class=\"data row4 col7\" >3,123</td>\n",
       "                        <td id=\"T_2474c5dc_74a9_11ea_8e86_c49ded93ade6row4_col8\" class=\"data row4 col8\" >3,139</td>\n",
       "                        <td id=\"T_2474c5dc_74a9_11ea_8e86_c49ded93ade6row4_col9\" class=\"data row4 col9\" >3,161</td>\n",
       "                        <td id=\"T_2474c5dc_74a9_11ea_8e86_c49ded93ade6row4_col10\" class=\"data row4 col10\" >3,172</td>\n",
       "                        <td id=\"T_2474c5dc_74a9_11ea_8e86_c49ded93ade6row4_col11\" class=\"data row4 col11\" >3,180</td>\n",
       "                        <td id=\"T_2474c5dc_74a9_11ea_8e86_c49ded93ade6row4_col12\" class=\"data row4 col12\" >3,193</td>\n",
       "                        <td id=\"T_2474c5dc_74a9_11ea_8e86_c49ded93ade6row4_col13\" class=\"data row4 col13\" >3,203</td>\n",
       "                        <td id=\"T_2474c5dc_74a9_11ea_8e86_c49ded93ade6row4_col14\" class=\"data row4 col14\" >3,217</td>\n",
       "                        <td id=\"T_2474c5dc_74a9_11ea_8e86_c49ded93ade6row4_col15\" class=\"data row4 col15\" >3,230</td>\n",
       "                        <td id=\"T_2474c5dc_74a9_11ea_8e86_c49ded93ade6row4_col16\" class=\"data row4 col16\" >3,241</td>\n",
       "                        <td id=\"T_2474c5dc_74a9_11ea_8e86_c49ded93ade6row4_col17\" class=\"data row4 col17\" >3,249</td>\n",
       "                        <td id=\"T_2474c5dc_74a9_11ea_8e86_c49ded93ade6row4_col18\" class=\"data row4 col18\" >3,253</td>\n",
       "                        <td id=\"T_2474c5dc_74a9_11ea_8e86_c49ded93ade6row4_col19\" class=\"data row4 col19\" >3,259</td>\n",
       "                        <td id=\"T_2474c5dc_74a9_11ea_8e86_c49ded93ade6row4_col20\" class=\"data row4 col20\" >3,274</td>\n",
       "                        <td id=\"T_2474c5dc_74a9_11ea_8e86_c49ded93ade6row4_col21\" class=\"data row4 col21\" >3,274</td>\n",
       "                        <td id=\"T_2474c5dc_74a9_11ea_8e86_c49ded93ade6row4_col22\" class=\"data row4 col22\" >3,281</td>\n",
       "                        <td id=\"T_2474c5dc_74a9_11ea_8e86_c49ded93ade6row4_col23\" class=\"data row4 col23\" >3,285</td>\n",
       "                        <td id=\"T_2474c5dc_74a9_11ea_8e86_c49ded93ade6row4_col24\" class=\"data row4 col24\" >3,291</td>\n",
       "                        <td id=\"T_2474c5dc_74a9_11ea_8e86_c49ded93ade6row4_col25\" class=\"data row4 col25\" >3,296</td>\n",
       "                        <td id=\"T_2474c5dc_74a9_11ea_8e86_c49ded93ade6row4_col26\" class=\"data row4 col26\" >3,299</td>\n",
       "                        <td id=\"T_2474c5dc_74a9_11ea_8e86_c49ded93ade6row4_col27\" class=\"data row4 col27\" >3,304</td>\n",
       "                        <td id=\"T_2474c5dc_74a9_11ea_8e86_c49ded93ade6row4_col28\" class=\"data row4 col28\" >3,308</td>\n",
       "                        <td id=\"T_2474c5dc_74a9_11ea_8e86_c49ded93ade6row4_col29\" class=\"data row4 col29\" >3,309</td>\n",
       "                        <td id=\"T_2474c5dc_74a9_11ea_8e86_c49ded93ade6row4_col30\" class=\"data row4 col30\" >3,316</td>\n",
       "            </tr>\n",
       "            <tr>\n",
       "                        <th id=\"T_2474c5dc_74a9_11ea_8e86_c49ded93ade6level0_row5\" class=\"row_heading level0 row5\" >Iran</th>\n",
       "                        <td id=\"T_2474c5dc_74a9_11ea_8e86_c49ded93ade6row5_col0\" class=\"data row5 col0\" >66</td>\n",
       "                        <td id=\"T_2474c5dc_74a9_11ea_8e86_c49ded93ade6row5_col1\" class=\"data row5 col1\" >77</td>\n",
       "                        <td id=\"T_2474c5dc_74a9_11ea_8e86_c49ded93ade6row5_col2\" class=\"data row5 col2\" >92</td>\n",
       "                        <td id=\"T_2474c5dc_74a9_11ea_8e86_c49ded93ade6row5_col3\" class=\"data row5 col3\" >107</td>\n",
       "                        <td id=\"T_2474c5dc_74a9_11ea_8e86_c49ded93ade6row5_col4\" class=\"data row5 col4\" >124</td>\n",
       "                        <td id=\"T_2474c5dc_74a9_11ea_8e86_c49ded93ade6row5_col5\" class=\"data row5 col5\" >145</td>\n",
       "                        <td id=\"T_2474c5dc_74a9_11ea_8e86_c49ded93ade6row5_col6\" class=\"data row5 col6\" >194</td>\n",
       "                        <td id=\"T_2474c5dc_74a9_11ea_8e86_c49ded93ade6row5_col7\" class=\"data row5 col7\" >237</td>\n",
       "                        <td id=\"T_2474c5dc_74a9_11ea_8e86_c49ded93ade6row5_col8\" class=\"data row5 col8\" >291</td>\n",
       "                        <td id=\"T_2474c5dc_74a9_11ea_8e86_c49ded93ade6row5_col9\" class=\"data row5 col9\" >354</td>\n",
       "                        <td id=\"T_2474c5dc_74a9_11ea_8e86_c49ded93ade6row5_col10\" class=\"data row5 col10\" >429</td>\n",
       "                        <td id=\"T_2474c5dc_74a9_11ea_8e86_c49ded93ade6row5_col11\" class=\"data row5 col11\" >514</td>\n",
       "                        <td id=\"T_2474c5dc_74a9_11ea_8e86_c49ded93ade6row5_col12\" class=\"data row5 col12\" >611</td>\n",
       "                        <td id=\"T_2474c5dc_74a9_11ea_8e86_c49ded93ade6row5_col13\" class=\"data row5 col13\" >724</td>\n",
       "                        <td id=\"T_2474c5dc_74a9_11ea_8e86_c49ded93ade6row5_col14\" class=\"data row5 col14\" >853</td>\n",
       "                        <td id=\"T_2474c5dc_74a9_11ea_8e86_c49ded93ade6row5_col15\" class=\"data row5 col15\" >988</td>\n",
       "                        <td id=\"T_2474c5dc_74a9_11ea_8e86_c49ded93ade6row5_col16\" class=\"data row5 col16\" >1,135</td>\n",
       "                        <td id=\"T_2474c5dc_74a9_11ea_8e86_c49ded93ade6row5_col17\" class=\"data row5 col17\" >1,284</td>\n",
       "                        <td id=\"T_2474c5dc_74a9_11ea_8e86_c49ded93ade6row5_col18\" class=\"data row5 col18\" >1,433</td>\n",
       "                        <td id=\"T_2474c5dc_74a9_11ea_8e86_c49ded93ade6row5_col19\" class=\"data row5 col19\" >1,556</td>\n",
       "                        <td id=\"T_2474c5dc_74a9_11ea_8e86_c49ded93ade6row5_col20\" class=\"data row5 col20\" >1,685</td>\n",
       "                        <td id=\"T_2474c5dc_74a9_11ea_8e86_c49ded93ade6row5_col21\" class=\"data row5 col21\" >1,812</td>\n",
       "                        <td id=\"T_2474c5dc_74a9_11ea_8e86_c49ded93ade6row5_col22\" class=\"data row5 col22\" >1,934</td>\n",
       "                        <td id=\"T_2474c5dc_74a9_11ea_8e86_c49ded93ade6row5_col23\" class=\"data row5 col23\" >2,077</td>\n",
       "                        <td id=\"T_2474c5dc_74a9_11ea_8e86_c49ded93ade6row5_col24\" class=\"data row5 col24\" >2,234</td>\n",
       "                        <td id=\"T_2474c5dc_74a9_11ea_8e86_c49ded93ade6row5_col25\" class=\"data row5 col25\" >2,378</td>\n",
       "                        <td id=\"T_2474c5dc_74a9_11ea_8e86_c49ded93ade6row5_col26\" class=\"data row5 col26\" >2,517</td>\n",
       "                        <td id=\"T_2474c5dc_74a9_11ea_8e86_c49ded93ade6row5_col27\" class=\"data row5 col27\" >2,640</td>\n",
       "                        <td id=\"T_2474c5dc_74a9_11ea_8e86_c49ded93ade6row5_col28\" class=\"data row5 col28\" >2,757</td>\n",
       "                        <td id=\"T_2474c5dc_74a9_11ea_8e86_c49ded93ade6row5_col29\" class=\"data row5 col29\" >2,898</td>\n",
       "                        <td id=\"T_2474c5dc_74a9_11ea_8e86_c49ded93ade6row5_col30\" class=\"data row5 col30\" >3,036</td>\n",
       "            </tr>\n",
       "            <tr>\n",
       "                        <th id=\"T_2474c5dc_74a9_11ea_8e86_c49ded93ade6level0_row6\" class=\"row_heading level0 row6\" >United Kingdom</th>\n",
       "                        <td id=\"T_2474c5dc_74a9_11ea_8e86_c49ded93ade6row6_col0\" class=\"data row6 col0\" >-</td>\n",
       "                        <td id=\"T_2474c5dc_74a9_11ea_8e86_c49ded93ade6row6_col1\" class=\"data row6 col1\" >-</td>\n",
       "                        <td id=\"T_2474c5dc_74a9_11ea_8e86_c49ded93ade6row6_col2\" class=\"data row6 col2\" >-</td>\n",
       "                        <td id=\"T_2474c5dc_74a9_11ea_8e86_c49ded93ade6row6_col3\" class=\"data row6 col3\" >1</td>\n",
       "                        <td id=\"T_2474c5dc_74a9_11ea_8e86_c49ded93ade6row6_col4\" class=\"data row6 col4\" >2</td>\n",
       "                        <td id=\"T_2474c5dc_74a9_11ea_8e86_c49ded93ade6row6_col5\" class=\"data row6 col5\" >2</td>\n",
       "                        <td id=\"T_2474c5dc_74a9_11ea_8e86_c49ded93ade6row6_col6\" class=\"data row6 col6\" >3</td>\n",
       "                        <td id=\"T_2474c5dc_74a9_11ea_8e86_c49ded93ade6row6_col7\" class=\"data row6 col7\" >4</td>\n",
       "                        <td id=\"T_2474c5dc_74a9_11ea_8e86_c49ded93ade6row6_col8\" class=\"data row6 col8\" >6</td>\n",
       "                        <td id=\"T_2474c5dc_74a9_11ea_8e86_c49ded93ade6row6_col9\" class=\"data row6 col9\" >8</td>\n",
       "                        <td id=\"T_2474c5dc_74a9_11ea_8e86_c49ded93ade6row6_col10\" class=\"data row6 col10\" >8</td>\n",
       "                        <td id=\"T_2474c5dc_74a9_11ea_8e86_c49ded93ade6row6_col11\" class=\"data row6 col11\" >8</td>\n",
       "                        <td id=\"T_2474c5dc_74a9_11ea_8e86_c49ded93ade6row6_col12\" class=\"data row6 col12\" >21</td>\n",
       "                        <td id=\"T_2474c5dc_74a9_11ea_8e86_c49ded93ade6row6_col13\" class=\"data row6 col13\" >21</td>\n",
       "                        <td id=\"T_2474c5dc_74a9_11ea_8e86_c49ded93ade6row6_col14\" class=\"data row6 col14\" >55</td>\n",
       "                        <td id=\"T_2474c5dc_74a9_11ea_8e86_c49ded93ade6row6_col15\" class=\"data row6 col15\" >55</td>\n",
       "                        <td id=\"T_2474c5dc_74a9_11ea_8e86_c49ded93ade6row6_col16\" class=\"data row6 col16\" >71</td>\n",
       "                        <td id=\"T_2474c5dc_74a9_11ea_8e86_c49ded93ade6row6_col17\" class=\"data row6 col17\" >137</td>\n",
       "                        <td id=\"T_2474c5dc_74a9_11ea_8e86_c49ded93ade6row6_col18\" class=\"data row6 col18\" >177</td>\n",
       "                        <td id=\"T_2474c5dc_74a9_11ea_8e86_c49ded93ade6row6_col19\" class=\"data row6 col19\" >233</td>\n",
       "                        <td id=\"T_2474c5dc_74a9_11ea_8e86_c49ded93ade6row6_col20\" class=\"data row6 col20\" >281</td>\n",
       "                        <td id=\"T_2474c5dc_74a9_11ea_8e86_c49ded93ade6row6_col21\" class=\"data row6 col21\" >335</td>\n",
       "                        <td id=\"T_2474c5dc_74a9_11ea_8e86_c49ded93ade6row6_col22\" class=\"data row6 col22\" >422</td>\n",
       "                        <td id=\"T_2474c5dc_74a9_11ea_8e86_c49ded93ade6row6_col23\" class=\"data row6 col23\" >465</td>\n",
       "                        <td id=\"T_2474c5dc_74a9_11ea_8e86_c49ded93ade6row6_col24\" class=\"data row6 col24\" >578</td>\n",
       "                        <td id=\"T_2474c5dc_74a9_11ea_8e86_c49ded93ade6row6_col25\" class=\"data row6 col25\" >759</td>\n",
       "                        <td id=\"T_2474c5dc_74a9_11ea_8e86_c49ded93ade6row6_col26\" class=\"data row6 col26\" >1,019</td>\n",
       "                        <td id=\"T_2474c5dc_74a9_11ea_8e86_c49ded93ade6row6_col27\" class=\"data row6 col27\" >1,228</td>\n",
       "                        <td id=\"T_2474c5dc_74a9_11ea_8e86_c49ded93ade6row6_col28\" class=\"data row6 col28\" >1,408</td>\n",
       "                        <td id=\"T_2474c5dc_74a9_11ea_8e86_c49ded93ade6row6_col29\" class=\"data row6 col29\" >1,789</td>\n",
       "                        <td id=\"T_2474c5dc_74a9_11ea_8e86_c49ded93ade6row6_col30\" class=\"data row6 col30\" >2,352</td>\n",
       "            </tr>\n",
       "            <tr>\n",
       "                        <th id=\"T_2474c5dc_74a9_11ea_8e86_c49ded93ade6level0_row7\" class=\"row_heading level0 row7\" >Netherlands</th>\n",
       "                        <td id=\"T_2474c5dc_74a9_11ea_8e86_c49ded93ade6row7_col0\" class=\"data row7 col0\" >-</td>\n",
       "                        <td id=\"T_2474c5dc_74a9_11ea_8e86_c49ded93ade6row7_col1\" class=\"data row7 col1\" >-</td>\n",
       "                        <td id=\"T_2474c5dc_74a9_11ea_8e86_c49ded93ade6row7_col2\" class=\"data row7 col2\" >-</td>\n",
       "                        <td id=\"T_2474c5dc_74a9_11ea_8e86_c49ded93ade6row7_col3\" class=\"data row7 col3\" >-</td>\n",
       "                        <td id=\"T_2474c5dc_74a9_11ea_8e86_c49ded93ade6row7_col4\" class=\"data row7 col4\" >1</td>\n",
       "                        <td id=\"T_2474c5dc_74a9_11ea_8e86_c49ded93ade6row7_col5\" class=\"data row7 col5\" >1</td>\n",
       "                        <td id=\"T_2474c5dc_74a9_11ea_8e86_c49ded93ade6row7_col6\" class=\"data row7 col6\" >3</td>\n",
       "                        <td id=\"T_2474c5dc_74a9_11ea_8e86_c49ded93ade6row7_col7\" class=\"data row7 col7\" >3</td>\n",
       "                        <td id=\"T_2474c5dc_74a9_11ea_8e86_c49ded93ade6row7_col8\" class=\"data row7 col8\" >4</td>\n",
       "                        <td id=\"T_2474c5dc_74a9_11ea_8e86_c49ded93ade6row7_col9\" class=\"data row7 col9\" >5</td>\n",
       "                        <td id=\"T_2474c5dc_74a9_11ea_8e86_c49ded93ade6row7_col10\" class=\"data row7 col10\" >5</td>\n",
       "                        <td id=\"T_2474c5dc_74a9_11ea_8e86_c49ded93ade6row7_col11\" class=\"data row7 col11\" >10</td>\n",
       "                        <td id=\"T_2474c5dc_74a9_11ea_8e86_c49ded93ade6row7_col12\" class=\"data row7 col12\" >12</td>\n",
       "                        <td id=\"T_2474c5dc_74a9_11ea_8e86_c49ded93ade6row7_col13\" class=\"data row7 col13\" >20</td>\n",
       "                        <td id=\"T_2474c5dc_74a9_11ea_8e86_c49ded93ade6row7_col14\" class=\"data row7 col14\" >24</td>\n",
       "                        <td id=\"T_2474c5dc_74a9_11ea_8e86_c49ded93ade6row7_col15\" class=\"data row7 col15\" >43</td>\n",
       "                        <td id=\"T_2474c5dc_74a9_11ea_8e86_c49ded93ade6row7_col16\" class=\"data row7 col16\" >58</td>\n",
       "                        <td id=\"T_2474c5dc_74a9_11ea_8e86_c49ded93ade6row7_col17\" class=\"data row7 col17\" >76</td>\n",
       "                        <td id=\"T_2474c5dc_74a9_11ea_8e86_c49ded93ade6row7_col18\" class=\"data row7 col18\" >106</td>\n",
       "                        <td id=\"T_2474c5dc_74a9_11ea_8e86_c49ded93ade6row7_col19\" class=\"data row7 col19\" >136</td>\n",
       "                        <td id=\"T_2474c5dc_74a9_11ea_8e86_c49ded93ade6row7_col20\" class=\"data row7 col20\" >179</td>\n",
       "                        <td id=\"T_2474c5dc_74a9_11ea_8e86_c49ded93ade6row7_col21\" class=\"data row7 col21\" >213</td>\n",
       "                        <td id=\"T_2474c5dc_74a9_11ea_8e86_c49ded93ade6row7_col22\" class=\"data row7 col22\" >276</td>\n",
       "                        <td id=\"T_2474c5dc_74a9_11ea_8e86_c49ded93ade6row7_col23\" class=\"data row7 col23\" >356</td>\n",
       "                        <td id=\"T_2474c5dc_74a9_11ea_8e86_c49ded93ade6row7_col24\" class=\"data row7 col24\" >434</td>\n",
       "                        <td id=\"T_2474c5dc_74a9_11ea_8e86_c49ded93ade6row7_col25\" class=\"data row7 col25\" >546</td>\n",
       "                        <td id=\"T_2474c5dc_74a9_11ea_8e86_c49ded93ade6row7_col26\" class=\"data row7 col26\" >639</td>\n",
       "                        <td id=\"T_2474c5dc_74a9_11ea_8e86_c49ded93ade6row7_col27\" class=\"data row7 col27\" >771</td>\n",
       "                        <td id=\"T_2474c5dc_74a9_11ea_8e86_c49ded93ade6row7_col28\" class=\"data row7 col28\" >864</td>\n",
       "                        <td id=\"T_2474c5dc_74a9_11ea_8e86_c49ded93ade6row7_col29\" class=\"data row7 col29\" >1,039</td>\n",
       "                        <td id=\"T_2474c5dc_74a9_11ea_8e86_c49ded93ade6row7_col30\" class=\"data row7 col30\" >1,173</td>\n",
       "            </tr>\n",
       "            <tr>\n",
       "                        <th id=\"T_2474c5dc_74a9_11ea_8e86_c49ded93ade6level0_row8\" class=\"row_heading level0 row8\" >Germany</th>\n",
       "                        <td id=\"T_2474c5dc_74a9_11ea_8e86_c49ded93ade6row8_col0\" class=\"data row8 col0\" >-</td>\n",
       "                        <td id=\"T_2474c5dc_74a9_11ea_8e86_c49ded93ade6row8_col1\" class=\"data row8 col1\" >-</td>\n",
       "                        <td id=\"T_2474c5dc_74a9_11ea_8e86_c49ded93ade6row8_col2\" class=\"data row8 col2\" >-</td>\n",
       "                        <td id=\"T_2474c5dc_74a9_11ea_8e86_c49ded93ade6row8_col3\" class=\"data row8 col3\" >-</td>\n",
       "                        <td id=\"T_2474c5dc_74a9_11ea_8e86_c49ded93ade6row8_col4\" class=\"data row8 col4\" >-</td>\n",
       "                        <td id=\"T_2474c5dc_74a9_11ea_8e86_c49ded93ade6row8_col5\" class=\"data row8 col5\" >-</td>\n",
       "                        <td id=\"T_2474c5dc_74a9_11ea_8e86_c49ded93ade6row8_col6\" class=\"data row8 col6\" >-</td>\n",
       "                        <td id=\"T_2474c5dc_74a9_11ea_8e86_c49ded93ade6row8_col7\" class=\"data row8 col7\" >2</td>\n",
       "                        <td id=\"T_2474c5dc_74a9_11ea_8e86_c49ded93ade6row8_col8\" class=\"data row8 col8\" >2</td>\n",
       "                        <td id=\"T_2474c5dc_74a9_11ea_8e86_c49ded93ade6row8_col9\" class=\"data row8 col9\" >3</td>\n",
       "                        <td id=\"T_2474c5dc_74a9_11ea_8e86_c49ded93ade6row8_col10\" class=\"data row8 col10\" >3</td>\n",
       "                        <td id=\"T_2474c5dc_74a9_11ea_8e86_c49ded93ade6row8_col11\" class=\"data row8 col11\" >7</td>\n",
       "                        <td id=\"T_2474c5dc_74a9_11ea_8e86_c49ded93ade6row8_col12\" class=\"data row8 col12\" >9</td>\n",
       "                        <td id=\"T_2474c5dc_74a9_11ea_8e86_c49ded93ade6row8_col13\" class=\"data row8 col13\" >11</td>\n",
       "                        <td id=\"T_2474c5dc_74a9_11ea_8e86_c49ded93ade6row8_col14\" class=\"data row8 col14\" >17</td>\n",
       "                        <td id=\"T_2474c5dc_74a9_11ea_8e86_c49ded93ade6row8_col15\" class=\"data row8 col15\" >24</td>\n",
       "                        <td id=\"T_2474c5dc_74a9_11ea_8e86_c49ded93ade6row8_col16\" class=\"data row8 col16\" >28</td>\n",
       "                        <td id=\"T_2474c5dc_74a9_11ea_8e86_c49ded93ade6row8_col17\" class=\"data row8 col17\" >44</td>\n",
       "                        <td id=\"T_2474c5dc_74a9_11ea_8e86_c49ded93ade6row8_col18\" class=\"data row8 col18\" >67</td>\n",
       "                        <td id=\"T_2474c5dc_74a9_11ea_8e86_c49ded93ade6row8_col19\" class=\"data row8 col19\" >84</td>\n",
       "                        <td id=\"T_2474c5dc_74a9_11ea_8e86_c49ded93ade6row8_col20\" class=\"data row8 col20\" >94</td>\n",
       "                        <td id=\"T_2474c5dc_74a9_11ea_8e86_c49ded93ade6row8_col21\" class=\"data row8 col21\" >123</td>\n",
       "                        <td id=\"T_2474c5dc_74a9_11ea_8e86_c49ded93ade6row8_col22\" class=\"data row8 col22\" >157</td>\n",
       "                        <td id=\"T_2474c5dc_74a9_11ea_8e86_c49ded93ade6row8_col23\" class=\"data row8 col23\" >206</td>\n",
       "                        <td id=\"T_2474c5dc_74a9_11ea_8e86_c49ded93ade6row8_col24\" class=\"data row8 col24\" >267</td>\n",
       "                        <td id=\"T_2474c5dc_74a9_11ea_8e86_c49ded93ade6row8_col25\" class=\"data row8 col25\" >342</td>\n",
       "                        <td id=\"T_2474c5dc_74a9_11ea_8e86_c49ded93ade6row8_col26\" class=\"data row8 col26\" >433</td>\n",
       "                        <td id=\"T_2474c5dc_74a9_11ea_8e86_c49ded93ade6row8_col27\" class=\"data row8 col27\" >533</td>\n",
       "                        <td id=\"T_2474c5dc_74a9_11ea_8e86_c49ded93ade6row8_col28\" class=\"data row8 col28\" >645</td>\n",
       "                        <td id=\"T_2474c5dc_74a9_11ea_8e86_c49ded93ade6row8_col29\" class=\"data row8 col29\" >775</td>\n",
       "                        <td id=\"T_2474c5dc_74a9_11ea_8e86_c49ded93ade6row8_col30\" class=\"data row8 col30\" >920</td>\n",
       "            </tr>\n",
       "            <tr>\n",
       "                        <th id=\"T_2474c5dc_74a9_11ea_8e86_c49ded93ade6level0_row9\" class=\"row_heading level0 row9\" >Belgium</th>\n",
       "                        <td id=\"T_2474c5dc_74a9_11ea_8e86_c49ded93ade6row9_col0\" class=\"data row9 col0\" >-</td>\n",
       "                        <td id=\"T_2474c5dc_74a9_11ea_8e86_c49ded93ade6row9_col1\" class=\"data row9 col1\" >-</td>\n",
       "                        <td id=\"T_2474c5dc_74a9_11ea_8e86_c49ded93ade6row9_col2\" class=\"data row9 col2\" >-</td>\n",
       "                        <td id=\"T_2474c5dc_74a9_11ea_8e86_c49ded93ade6row9_col3\" class=\"data row9 col3\" >-</td>\n",
       "                        <td id=\"T_2474c5dc_74a9_11ea_8e86_c49ded93ade6row9_col4\" class=\"data row9 col4\" >-</td>\n",
       "                        <td id=\"T_2474c5dc_74a9_11ea_8e86_c49ded93ade6row9_col5\" class=\"data row9 col5\" >-</td>\n",
       "                        <td id=\"T_2474c5dc_74a9_11ea_8e86_c49ded93ade6row9_col6\" class=\"data row9 col6\" >-</td>\n",
       "                        <td id=\"T_2474c5dc_74a9_11ea_8e86_c49ded93ade6row9_col7\" class=\"data row9 col7\" >-</td>\n",
       "                        <td id=\"T_2474c5dc_74a9_11ea_8e86_c49ded93ade6row9_col8\" class=\"data row9 col8\" >-</td>\n",
       "                        <td id=\"T_2474c5dc_74a9_11ea_8e86_c49ded93ade6row9_col9\" class=\"data row9 col9\" >3</td>\n",
       "                        <td id=\"T_2474c5dc_74a9_11ea_8e86_c49ded93ade6row9_col10\" class=\"data row9 col10\" >3</td>\n",
       "                        <td id=\"T_2474c5dc_74a9_11ea_8e86_c49ded93ade6row9_col11\" class=\"data row9 col11\" >3</td>\n",
       "                        <td id=\"T_2474c5dc_74a9_11ea_8e86_c49ded93ade6row9_col12\" class=\"data row9 col12\" >4</td>\n",
       "                        <td id=\"T_2474c5dc_74a9_11ea_8e86_c49ded93ade6row9_col13\" class=\"data row9 col13\" >4</td>\n",
       "                        <td id=\"T_2474c5dc_74a9_11ea_8e86_c49ded93ade6row9_col14\" class=\"data row9 col14\" >5</td>\n",
       "                        <td id=\"T_2474c5dc_74a9_11ea_8e86_c49ded93ade6row9_col15\" class=\"data row9 col15\" >10</td>\n",
       "                        <td id=\"T_2474c5dc_74a9_11ea_8e86_c49ded93ade6row9_col16\" class=\"data row9 col16\" >14</td>\n",
       "                        <td id=\"T_2474c5dc_74a9_11ea_8e86_c49ded93ade6row9_col17\" class=\"data row9 col17\" >21</td>\n",
       "                        <td id=\"T_2474c5dc_74a9_11ea_8e86_c49ded93ade6row9_col18\" class=\"data row9 col18\" >37</td>\n",
       "                        <td id=\"T_2474c5dc_74a9_11ea_8e86_c49ded93ade6row9_col19\" class=\"data row9 col19\" >67</td>\n",
       "                        <td id=\"T_2474c5dc_74a9_11ea_8e86_c49ded93ade6row9_col20\" class=\"data row9 col20\" >75</td>\n",
       "                        <td id=\"T_2474c5dc_74a9_11ea_8e86_c49ded93ade6row9_col21\" class=\"data row9 col21\" >88</td>\n",
       "                        <td id=\"T_2474c5dc_74a9_11ea_8e86_c49ded93ade6row9_col22\" class=\"data row9 col22\" >122</td>\n",
       "                        <td id=\"T_2474c5dc_74a9_11ea_8e86_c49ded93ade6row9_col23\" class=\"data row9 col23\" >178</td>\n",
       "                        <td id=\"T_2474c5dc_74a9_11ea_8e86_c49ded93ade6row9_col24\" class=\"data row9 col24\" >220</td>\n",
       "                        <td id=\"T_2474c5dc_74a9_11ea_8e86_c49ded93ade6row9_col25\" class=\"data row9 col25\" >289</td>\n",
       "                        <td id=\"T_2474c5dc_74a9_11ea_8e86_c49ded93ade6row9_col26\" class=\"data row9 col26\" >353</td>\n",
       "                        <td id=\"T_2474c5dc_74a9_11ea_8e86_c49ded93ade6row9_col27\" class=\"data row9 col27\" >431</td>\n",
       "                        <td id=\"T_2474c5dc_74a9_11ea_8e86_c49ded93ade6row9_col28\" class=\"data row9 col28\" >513</td>\n",
       "                        <td id=\"T_2474c5dc_74a9_11ea_8e86_c49ded93ade6row9_col29\" class=\"data row9 col29\" >705</td>\n",
       "                        <td id=\"T_2474c5dc_74a9_11ea_8e86_c49ded93ade6row9_col30\" class=\"data row9 col30\" >828</td>\n",
       "            </tr>\n",
       "            <tr>\n",
       "                        <th id=\"T_2474c5dc_74a9_11ea_8e86_c49ded93ade6level0_row10\" class=\"row_heading level0 row10\" >Switzerland</th>\n",
       "                        <td id=\"T_2474c5dc_74a9_11ea_8e86_c49ded93ade6row10_col0\" class=\"data row10 col0\" >-</td>\n",
       "                        <td id=\"T_2474c5dc_74a9_11ea_8e86_c49ded93ade6row10_col1\" class=\"data row10 col1\" >-</td>\n",
       "                        <td id=\"T_2474c5dc_74a9_11ea_8e86_c49ded93ade6row10_col2\" class=\"data row10 col2\" >-</td>\n",
       "                        <td id=\"T_2474c5dc_74a9_11ea_8e86_c49ded93ade6row10_col3\" class=\"data row10 col3\" >1</td>\n",
       "                        <td id=\"T_2474c5dc_74a9_11ea_8e86_c49ded93ade6row10_col4\" class=\"data row10 col4\" >1</td>\n",
       "                        <td id=\"T_2474c5dc_74a9_11ea_8e86_c49ded93ade6row10_col5\" class=\"data row10 col5\" >1</td>\n",
       "                        <td id=\"T_2474c5dc_74a9_11ea_8e86_c49ded93ade6row10_col6\" class=\"data row10 col6\" >2</td>\n",
       "                        <td id=\"T_2474c5dc_74a9_11ea_8e86_c49ded93ade6row10_col7\" class=\"data row10 col7\" >2</td>\n",
       "                        <td id=\"T_2474c5dc_74a9_11ea_8e86_c49ded93ade6row10_col8\" class=\"data row10 col8\" >3</td>\n",
       "                        <td id=\"T_2474c5dc_74a9_11ea_8e86_c49ded93ade6row10_col9\" class=\"data row10 col9\" >4</td>\n",
       "                        <td id=\"T_2474c5dc_74a9_11ea_8e86_c49ded93ade6row10_col10\" class=\"data row10 col10\" >4</td>\n",
       "                        <td id=\"T_2474c5dc_74a9_11ea_8e86_c49ded93ade6row10_col11\" class=\"data row10 col11\" >11</td>\n",
       "                        <td id=\"T_2474c5dc_74a9_11ea_8e86_c49ded93ade6row10_col12\" class=\"data row10 col12\" >13</td>\n",
       "                        <td id=\"T_2474c5dc_74a9_11ea_8e86_c49ded93ade6row10_col13\" class=\"data row10 col13\" >14</td>\n",
       "                        <td id=\"T_2474c5dc_74a9_11ea_8e86_c49ded93ade6row10_col14\" class=\"data row10 col14\" >14</td>\n",
       "                        <td id=\"T_2474c5dc_74a9_11ea_8e86_c49ded93ade6row10_col15\" class=\"data row10 col15\" >27</td>\n",
       "                        <td id=\"T_2474c5dc_74a9_11ea_8e86_c49ded93ade6row10_col16\" class=\"data row10 col16\" >28</td>\n",
       "                        <td id=\"T_2474c5dc_74a9_11ea_8e86_c49ded93ade6row10_col17\" class=\"data row10 col17\" >41</td>\n",
       "                        <td id=\"T_2474c5dc_74a9_11ea_8e86_c49ded93ade6row10_col18\" class=\"data row10 col18\" >54</td>\n",
       "                        <td id=\"T_2474c5dc_74a9_11ea_8e86_c49ded93ade6row10_col19\" class=\"data row10 col19\" >75</td>\n",
       "                        <td id=\"T_2474c5dc_74a9_11ea_8e86_c49ded93ade6row10_col20\" class=\"data row10 col20\" >98</td>\n",
       "                        <td id=\"T_2474c5dc_74a9_11ea_8e86_c49ded93ade6row10_col21\" class=\"data row10 col21\" >120</td>\n",
       "                        <td id=\"T_2474c5dc_74a9_11ea_8e86_c49ded93ade6row10_col22\" class=\"data row10 col22\" >122</td>\n",
       "                        <td id=\"T_2474c5dc_74a9_11ea_8e86_c49ded93ade6row10_col23\" class=\"data row10 col23\" >153</td>\n",
       "                        <td id=\"T_2474c5dc_74a9_11ea_8e86_c49ded93ade6row10_col24\" class=\"data row10 col24\" >191</td>\n",
       "                        <td id=\"T_2474c5dc_74a9_11ea_8e86_c49ded93ade6row10_col25\" class=\"data row10 col25\" >231</td>\n",
       "                        <td id=\"T_2474c5dc_74a9_11ea_8e86_c49ded93ade6row10_col26\" class=\"data row10 col26\" >264</td>\n",
       "                        <td id=\"T_2474c5dc_74a9_11ea_8e86_c49ded93ade6row10_col27\" class=\"data row10 col27\" >300</td>\n",
       "                        <td id=\"T_2474c5dc_74a9_11ea_8e86_c49ded93ade6row10_col28\" class=\"data row10 col28\" >359</td>\n",
       "                        <td id=\"T_2474c5dc_74a9_11ea_8e86_c49ded93ade6row10_col29\" class=\"data row10 col29\" >433</td>\n",
       "                        <td id=\"T_2474c5dc_74a9_11ea_8e86_c49ded93ade6row10_col30\" class=\"data row10 col30\" >488</td>\n",
       "            </tr>\n",
       "    </tbody></table>"
      ],
      "text/plain": [
       "<pandas.io.formats.style.Styler at 0xdba81d0>"
      ]
     },
     "execution_count": 28,
     "metadata": {},
     "output_type": "execute_result"
    }
   ],
   "source": [
    "chinaDataDeaths = dfDeathsGlobal[dfDeathsGlobal['Country/Region'] == 'China'].sum()\n",
    "chinaDataDeaths['Province/State', 'Country/Region'] = [np.NaN, 'China']\n",
    "\n",
    "dfDeathsWorldTop = dfDeathsGlobal[dfDeathsGlobal['Country/Region'] != 'China'].sort_values(dfDeathsGlobal.columns[-1], ascending=False).head(10)\n",
    "dfDeathsWorldTop = dfDeathsWorldTop.append(chinaDataDeaths, ignore_index=True)\n",
    "dfDeathsWorldTop = dfDeathsWorldTop.sort_values(dfDeathsGlobal.columns[-1], ascending=False)\n",
    "dfDeathsWorldTop = dfDeathsWorldTop.set_index('Country/Region')\n",
    "\n",
    "\n",
    "data = [{\n",
    "    'x': row[1].index[-MONTH_DAYS:],\n",
    "    'y': row[1].values[-MONTH_DAYS:],\n",
    "    'name': row[0]\n",
    "}  for row in dfDeathsWorldTop.iterrows()]\n",
    "\n",
    "layout = dict(title = 'World Deaths', updatemenus=LogLinearScale)\n",
    "py.iplot(dict(data=data, layout=layout))\n",
    "dfDeathsWorldTop[dfDeathsWorldTop.columns[-MONTH_DAYS:]].style.format(IntegerFormatter)"
   ]
  }
 ],
 "metadata": {
  "extensions": {
   "jupyter_dashboards": {
    "activeView": "report_default",
    "version": 1,
    "views": {
     "grid_default": {
      "cellMargin": 10,
      "defaultCellHeight": 20,
      "maxColumns": 12,
      "name": "grid",
      "type": "grid"
     },
     "report_default": {
      "name": "report",
      "type": "report"
     }
    }
   }
  },
  "kernelspec": {
   "display_name": "Python 3",
   "language": "python",
   "name": "python3"
  },
  "language_info": {
   "codemirror_mode": {
    "name": "ipython",
    "version": 3
   },
   "file_extension": ".py",
   "mimetype": "text/x-python",
   "name": "python",
   "nbconvert_exporter": "python",
   "pygments_lexer": "ipython3",
   "version": "3.6.5"
  },
  "toc": {
   "base_numbering": 1,
   "nav_menu": {},
   "number_sections": false,
   "sideBar": true,
   "skip_h1_title": false,
   "title_cell": "Table of Contents",
   "title_sidebar": "Contents",
   "toc_cell": false,
   "toc_position": {},
   "toc_section_display": true,
   "toc_window_display": false
  }
 },
 "nbformat": 4,
 "nbformat_minor": 2
}
